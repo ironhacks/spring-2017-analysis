{
 "cells": [
  {
   "cell_type": "code",
   "execution_count": 20,
   "id": "34776fc2",
   "metadata": {},
   "outputs": [],
   "source": [
    "from scipy import stats\n",
    "import pandas as pd\n",
    "import numpy as np\n",
    "import matplotlib.pyplot as plt\n",
    "import scipy.stats as st \n",
    "np.random.seed(0) # fix the seed of the random number generator to simplify testing."
   ]
  },
  {
   "cell_type": "code",
   "execution_count": 21,
   "id": "521860f4",
   "metadata": {},
   "outputs": [
    {
     "data": {
      "text/html": [
       "<div>\n",
       "<style scoped>\n",
       "    .dataframe tbody tr th:only-of-type {\n",
       "        vertical-align: middle;\n",
       "    }\n",
       "\n",
       "    .dataframe tbody tr th {\n",
       "        vertical-align: top;\n",
       "    }\n",
       "\n",
       "    .dataframe thead th {\n",
       "        text-align: right;\n",
       "    }\n",
       "</style>\n",
       "<table border=\"1\" class=\"dataframe\">\n",
       "  <thead>\n",
       "    <tr style=\"text-align: right;\">\n",
       "      <th></th>\n",
       "      <th>Project</th>\n",
       "      <th>User Requirement</th>\n",
       "      <th>Info Viz Score</th>\n",
       "      <th>Novelty Score</th>\n",
       "    </tr>\n",
       "  </thead>\n",
       "  <tbody>\n",
       "    <tr>\n",
       "      <th>0</th>\n",
       "      <td>fffeelipe</td>\n",
       "      <td>20.0</td>\n",
       "      <td>29.17</td>\n",
       "      <td>50.00</td>\n",
       "    </tr>\n",
       "    <tr>\n",
       "      <th>2</th>\n",
       "      <td>mnguzmanc</td>\n",
       "      <td>60.0</td>\n",
       "      <td>75.00</td>\n",
       "      <td>67.50</td>\n",
       "    </tr>\n",
       "    <tr>\n",
       "      <th>4</th>\n",
       "      <td>DglyP</td>\n",
       "      <td>40.0</td>\n",
       "      <td>29.17</td>\n",
       "      <td>45.83</td>\n",
       "    </tr>\n",
       "    <tr>\n",
       "      <th>6</th>\n",
       "      <td>hsmartineza</td>\n",
       "      <td>80.0</td>\n",
       "      <td>33.33</td>\n",
       "      <td>60.00</td>\n",
       "    </tr>\n",
       "    <tr>\n",
       "      <th>9</th>\n",
       "      <td>jmcuestasb</td>\n",
       "      <td>100.0</td>\n",
       "      <td>54.17</td>\n",
       "      <td>25.00</td>\n",
       "    </tr>\n",
       "  </tbody>\n",
       "</table>\n",
       "</div>"
      ],
      "text/plain": [
       "       Project  User Requirement  Info Viz Score  Novelty Score\n",
       "0    fffeelipe              20.0           29.17          50.00\n",
       "2    mnguzmanc              60.0           75.00          67.50\n",
       "4        DglyP              40.0           29.17          45.83\n",
       "6  hsmartineza              80.0           33.33          60.00\n",
       "9   jmcuestasb             100.0           54.17          25.00"
      ]
     },
     "execution_count": 21,
     "metadata": {},
     "output_type": "execute_result"
    }
   ],
   "source": [
    "# Spring 2017 Phase 5 Bogota Group 0 ( No Transparency )\n",
    "\n",
    "df = pd.read_csv(\"bogota-0-phase5.csv\")\n",
    "df1 = df.dropna()\n",
    "df1.head(5)"
   ]
  },
  {
   "cell_type": "code",
   "execution_count": 22,
   "id": "67e8212b",
   "metadata": {},
   "outputs": [
    {
     "name": "stdout",
     "output_type": "stream",
     "text": [
      "40.57142857142857 42.738285714285716 46.619142857142855\n"
     ]
    }
   ],
   "source": [
    "mean_phase5_user_requirement_bogota0 = df1['User Requirement'].mean()\n",
    "mean_phase5_info_viz_bogota0 = df1['Info Viz Score'].mean()\n",
    "mean_phase5_novelty_bogota0 = df1['Novelty Score'].mean()\n",
    "print(mean_phase5_user_requirement_bogota0, mean_phase5_info_viz_bogota0, mean_phase5_novelty_bogota0)"
   ]
  },
  {
   "cell_type": "code",
   "execution_count": 23,
   "id": "aabc1580",
   "metadata": {},
   "outputs": [
    {
     "data": {
      "text/html": [
       "<div>\n",
       "<style scoped>\n",
       "    .dataframe tbody tr th:only-of-type {\n",
       "        vertical-align: middle;\n",
       "    }\n",
       "\n",
       "    .dataframe tbody tr th {\n",
       "        vertical-align: top;\n",
       "    }\n",
       "\n",
       "    .dataframe thead th {\n",
       "        text-align: right;\n",
       "    }\n",
       "</style>\n",
       "<table border=\"1\" class=\"dataframe\">\n",
       "  <thead>\n",
       "    <tr style=\"text-align: right;\">\n",
       "      <th></th>\n",
       "      <th>Project</th>\n",
       "      <th>User Requirement</th>\n",
       "      <th>Info Viz Score</th>\n",
       "      <th>Novelty Score</th>\n",
       "    </tr>\n",
       "  </thead>\n",
       "  <tbody>\n",
       "    <tr>\n",
       "      <th>0</th>\n",
       "      <td>gasierram</td>\n",
       "      <td>40.0</td>\n",
       "      <td>62.50</td>\n",
       "      <td>25.0</td>\n",
       "    </tr>\n",
       "    <tr>\n",
       "      <th>2</th>\n",
       "      <td>adamantwharf</td>\n",
       "      <td>20.0</td>\n",
       "      <td>25.00</td>\n",
       "      <td>0.0</td>\n",
       "    </tr>\n",
       "    <tr>\n",
       "      <th>4</th>\n",
       "      <td>bdcajicam</td>\n",
       "      <td>40.0</td>\n",
       "      <td>29.17</td>\n",
       "      <td>62.5</td>\n",
       "    </tr>\n",
       "    <tr>\n",
       "      <th>6</th>\n",
       "      <td>andfsanchezlem</td>\n",
       "      <td>20.0</td>\n",
       "      <td>25.00</td>\n",
       "      <td>0.0</td>\n",
       "    </tr>\n",
       "    <tr>\n",
       "      <th>8</th>\n",
       "      <td>dfhincapiem</td>\n",
       "      <td>20.0</td>\n",
       "      <td>25.00</td>\n",
       "      <td>25.0</td>\n",
       "    </tr>\n",
       "  </tbody>\n",
       "</table>\n",
       "</div>"
      ],
      "text/plain": [
       "          Project  User Requirement  Info Viz Score  Novelty Score\n",
       "0       gasierram              40.0           62.50           25.0\n",
       "2    adamantwharf              20.0           25.00            0.0\n",
       "4       bdcajicam              40.0           29.17           62.5\n",
       "6  andfsanchezlem              20.0           25.00            0.0\n",
       "8     dfhincapiem              20.0           25.00           25.0"
      ]
     },
     "execution_count": 23,
     "metadata": {},
     "output_type": "execute_result"
    }
   ],
   "source": [
    "# Spring 2017 Phase 5 Bogota Group 1 ( Performance Transparency )\n",
    "df3 = pd.read_csv(\"bogota-1-phase5.csv\")\n",
    "df4 = df3.dropna()\n",
    "df4.head(5)"
   ]
  },
  {
   "cell_type": "code",
   "execution_count": 24,
   "id": "b933916b",
   "metadata": {},
   "outputs": [
    {
     "name": "stdout",
     "output_type": "stream",
     "text": [
      "42.7027027027027 49.32432432432434 52.049729729729734\n"
     ]
    }
   ],
   "source": [
    "mean_phase5_user_requirement_bogota1 = df4['User Requirement'].mean()\n",
    "mean_phase5_info_viz_bogota1 = df4['Info Viz Score'].mean()\n",
    "mean_phase5_novelty_bogota1 = df4['Novelty Score'].mean()\n",
    "print(mean_phase5_user_requirement_bogota1, mean_phase5_info_viz_bogota1, mean_phase5_novelty_bogota1)"
   ]
  },
  {
   "cell_type": "code",
   "execution_count": 25,
   "id": "acf2d610",
   "metadata": {},
   "outputs": [
    {
     "name": "stderr",
     "output_type": "stream",
     "text": [
      "<ipython-input-25-1498eb6e27a5>:1: SettingWithCopyWarning: \n",
      "A value is trying to be set on a copy of a slice from a DataFrame.\n",
      "Try using .loc[row_indexer,col_indexer] = value instead\n",
      "\n",
      "See the caveats in the documentation: https://pandas.pydata.org/pandas-docs/stable/user_guide/indexing.html#returning-a-view-versus-a-copy\n",
      "  df1['Group'] = 0\n",
      "<ipython-input-25-1498eb6e27a5>:2: SettingWithCopyWarning: \n",
      "A value is trying to be set on a copy of a slice from a DataFrame.\n",
      "Try using .loc[row_indexer,col_indexer] = value instead\n",
      "\n",
      "See the caveats in the documentation: https://pandas.pydata.org/pandas-docs/stable/user_guide/indexing.html#returning-a-view-versus-a-copy\n",
      "  df4['Group'] = 1\n"
     ]
    }
   ],
   "source": [
    "df1['Group'] = 0\n",
    "df4['Group'] = 1"
   ]
  },
  {
   "cell_type": "code",
   "execution_count": 26,
   "id": "25de8c22",
   "metadata": {},
   "outputs": [
    {
     "data": {
      "text/html": [
       "<div>\n",
       "<style scoped>\n",
       "    .dataframe tbody tr th:only-of-type {\n",
       "        vertical-align: middle;\n",
       "    }\n",
       "\n",
       "    .dataframe tbody tr th {\n",
       "        vertical-align: top;\n",
       "    }\n",
       "\n",
       "    .dataframe thead th {\n",
       "        text-align: right;\n",
       "    }\n",
       "</style>\n",
       "<table border=\"1\" class=\"dataframe\">\n",
       "  <thead>\n",
       "    <tr style=\"text-align: right;\">\n",
       "      <th></th>\n",
       "      <th>Project</th>\n",
       "      <th>User Requirement</th>\n",
       "      <th>Info Viz Score</th>\n",
       "      <th>Novelty Score</th>\n",
       "      <th>Group</th>\n",
       "    </tr>\n",
       "  </thead>\n",
       "  <tbody>\n",
       "    <tr>\n",
       "      <th>0</th>\n",
       "      <td>fffeelipe</td>\n",
       "      <td>20.0</td>\n",
       "      <td>29.17</td>\n",
       "      <td>50.00</td>\n",
       "      <td>0</td>\n",
       "    </tr>\n",
       "    <tr>\n",
       "      <th>2</th>\n",
       "      <td>mnguzmanc</td>\n",
       "      <td>60.0</td>\n",
       "      <td>75.00</td>\n",
       "      <td>67.50</td>\n",
       "      <td>0</td>\n",
       "    </tr>\n",
       "    <tr>\n",
       "      <th>4</th>\n",
       "      <td>DglyP</td>\n",
       "      <td>40.0</td>\n",
       "      <td>29.17</td>\n",
       "      <td>45.83</td>\n",
       "      <td>0</td>\n",
       "    </tr>\n",
       "    <tr>\n",
       "      <th>6</th>\n",
       "      <td>hsmartineza</td>\n",
       "      <td>80.0</td>\n",
       "      <td>33.33</td>\n",
       "      <td>60.00</td>\n",
       "      <td>0</td>\n",
       "    </tr>\n",
       "    <tr>\n",
       "      <th>9</th>\n",
       "      <td>jmcuestasb</td>\n",
       "      <td>100.0</td>\n",
       "      <td>54.17</td>\n",
       "      <td>25.00</td>\n",
       "      <td>0</td>\n",
       "    </tr>\n",
       "    <tr>\n",
       "      <th>...</th>\n",
       "      <td>...</td>\n",
       "      <td>...</td>\n",
       "      <td>...</td>\n",
       "      <td>...</td>\n",
       "      <td>...</td>\n",
       "    </tr>\n",
       "    <tr>\n",
       "      <th>68</th>\n",
       "      <td>jiapulidoar</td>\n",
       "      <td>60.0</td>\n",
       "      <td>83.33</td>\n",
       "      <td>66.67</td>\n",
       "      <td>1</td>\n",
       "    </tr>\n",
       "    <tr>\n",
       "      <th>70</th>\n",
       "      <td>jsviveroj</td>\n",
       "      <td>80.0</td>\n",
       "      <td>79.17</td>\n",
       "      <td>72.50</td>\n",
       "      <td>1</td>\n",
       "    </tr>\n",
       "    <tr>\n",
       "      <th>72</th>\n",
       "      <td>daandradec</td>\n",
       "      <td>100.0</td>\n",
       "      <td>66.67</td>\n",
       "      <td>95.00</td>\n",
       "      <td>1</td>\n",
       "    </tr>\n",
       "    <tr>\n",
       "      <th>74</th>\n",
       "      <td>jcrubioa</td>\n",
       "      <td>40.0</td>\n",
       "      <td>50.00</td>\n",
       "      <td>81.25</td>\n",
       "      <td>1</td>\n",
       "    </tr>\n",
       "    <tr>\n",
       "      <th>76</th>\n",
       "      <td>joahernandezca</td>\n",
       "      <td>20.0</td>\n",
       "      <td>54.17</td>\n",
       "      <td>25.00</td>\n",
       "      <td>1</td>\n",
       "    </tr>\n",
       "  </tbody>\n",
       "</table>\n",
       "<p>72 rows × 5 columns</p>\n",
       "</div>"
      ],
      "text/plain": [
       "           Project  User Requirement  Info Viz Score  Novelty Score  Group\n",
       "0        fffeelipe              20.0           29.17          50.00      0\n",
       "2        mnguzmanc              60.0           75.00          67.50      0\n",
       "4            DglyP              40.0           29.17          45.83      0\n",
       "6      hsmartineza              80.0           33.33          60.00      0\n",
       "9       jmcuestasb             100.0           54.17          25.00      0\n",
       "..             ...               ...             ...            ...    ...\n",
       "68     jiapulidoar              60.0           83.33          66.67      1\n",
       "70       jsviveroj              80.0           79.17          72.50      1\n",
       "72      daandradec             100.0           66.67          95.00      1\n",
       "74        jcrubioa              40.0           50.00          81.25      1\n",
       "76  joahernandezca              20.0           54.17          25.00      1\n",
       "\n",
       "[72 rows x 5 columns]"
      ]
     },
     "execution_count": 26,
     "metadata": {},
     "output_type": "execute_result"
    }
   ],
   "source": [
    "df_combined = df1.append(df4, sort = False)\n",
    "df_combined"
   ]
  },
  {
   "cell_type": "markdown",
   "id": "db05caae",
   "metadata": {},
   "source": [
    "**Two sample unpaired t-test**\n",
    "\n",
    "Hypothesis: \n",
    "\n",
    "About the attribute \"User Requirement\"\n",
    "\n",
    "H0: mean(No-Transparency.NoveltyScore) = mean(Full-Transparency.NoveltyScore) \n",
    "\n",
    "H1: mean(No-Transparency.NoveltyScore) != mean(Fully-Transparency.NoveltyScore)"
   ]
  },
  {
   "cell_type": "code",
   "execution_count": 27,
   "id": "4f70d48d",
   "metadata": {},
   "outputs": [
    {
     "name": "stdout",
     "output_type": "stream",
     "text": [
      "0.7885709855228404 accept\n"
     ]
    }
   ],
   "source": [
    "attributeName = 'User Requirement'\n",
    "\n",
    "# two_sample_unpaired_t_test\n",
    "\n",
    "df_new = df_combined.loc[df_combined['Group'] == 0]\n",
    "df_new2 = df_combined.loc[df_combined['Group'] == 1]\n",
    "output = st.ttest_ind(df_new['User Requirement'], df_new2['User Requirement'], nan_policy='omit')\n",
    "if (output.pvalue > 0.05): \n",
    "    print(output.pvalue, 'accept')\n",
    "else:\n",
    "    print(output.pvalue, 'reject')\n",
    "    \n"
   ]
  },
  {
   "cell_type": "code",
   "execution_count": 28,
   "id": "244c29c3",
   "metadata": {},
   "outputs": [
    {
     "name": "stdout",
     "output_type": "stream",
     "text": [
      "0.4697605412476872 accept\n"
     ]
    }
   ],
   "source": [
    "attributeName = 'Novelty Score'\n",
    "\n",
    "# two_sample_unpaired_t_test\n",
    "\n",
    "df_new = df_combined.loc[df_combined['Group'] == 0]\n",
    "df_new2 = df_combined.loc[df_combined['Group'] == 1]\n",
    "output = st.ttest_ind(df_new['Novelty Score'], df_new2['Novelty Score'], nan_policy='omit')\n",
    "if (output.pvalue > 0.05): \n",
    "    print(output.pvalue, 'accept')\n",
    "else:\n",
    "    print(output.pvalue, 'reject')"
   ]
  },
  {
   "cell_type": "code",
   "execution_count": 29,
   "id": "ce9f533a",
   "metadata": {},
   "outputs": [
    {
     "name": "stdout",
     "output_type": "stream",
     "text": [
      "0.13079931010697848 accept\n"
     ]
    }
   ],
   "source": [
    "attributeName = 'Info Viz Score'\n",
    "\n",
    "# two_sample_unpaired_t_test\n",
    "\n",
    "df_new = df_combined.loc[df_combined['Group'] == 0]\n",
    "df_new2 = df_combined.loc[df_combined['Group'] == 1]\n",
    "output = st.ttest_ind(df_new['Info Viz Score'], df_new2['Info Viz Score'], nan_policy='omit')\n",
    "if (output.pvalue > 0.05): \n",
    "    print(output.pvalue, 'accept')\n",
    "else:\n",
    "    print(output.pvalue, 'reject')"
   ]
  },
  {
   "cell_type": "code",
   "execution_count": 30,
   "id": "c3cfa917",
   "metadata": {},
   "outputs": [
    {
     "data": {
      "text/html": [
       "<div>\n",
       "<style scoped>\n",
       "    .dataframe tbody tr th:only-of-type {\n",
       "        vertical-align: middle;\n",
       "    }\n",
       "\n",
       "    .dataframe tbody tr th {\n",
       "        vertical-align: top;\n",
       "    }\n",
       "\n",
       "    .dataframe thead th {\n",
       "        text-align: right;\n",
       "    }\n",
       "</style>\n",
       "<table border=\"1\" class=\"dataframe\">\n",
       "  <thead>\n",
       "    <tr style=\"text-align: right;\">\n",
       "      <th></th>\n",
       "      <th>Project</th>\n",
       "      <th>User Requirement</th>\n",
       "      <th>Info Viz Score</th>\n",
       "      <th>Novelty Score</th>\n",
       "    </tr>\n",
       "  </thead>\n",
       "  <tbody>\n",
       "    <tr>\n",
       "      <th>0</th>\n",
       "      <td>lemartinp</td>\n",
       "      <td>100.0</td>\n",
       "      <td>54.17</td>\n",
       "      <td>87.50</td>\n",
       "    </tr>\n",
       "    <tr>\n",
       "      <th>2</th>\n",
       "      <td>juligarji</td>\n",
       "      <td>100.0</td>\n",
       "      <td>75.00</td>\n",
       "      <td>92.50</td>\n",
       "    </tr>\n",
       "    <tr>\n",
       "      <th>4</th>\n",
       "      <td>nfmorenog</td>\n",
       "      <td>0.0</td>\n",
       "      <td>37.50</td>\n",
       "      <td>15.00</td>\n",
       "    </tr>\n",
       "    <tr>\n",
       "      <th>6</th>\n",
       "      <td>AFelipeGA</td>\n",
       "      <td>40.0</td>\n",
       "      <td>37.50</td>\n",
       "      <td>56.25</td>\n",
       "    </tr>\n",
       "    <tr>\n",
       "      <th>8</th>\n",
       "      <td>mballeng91</td>\n",
       "      <td>0.0</td>\n",
       "      <td>25.00</td>\n",
       "      <td>25.00</td>\n",
       "    </tr>\n",
       "  </tbody>\n",
       "</table>\n",
       "</div>"
      ],
      "text/plain": [
       "      Project  User Requirement  Info Viz Score  Novelty Score\n",
       "0   lemartinp             100.0           54.17          87.50\n",
       "2   juligarji             100.0           75.00          92.50\n",
       "4   nfmorenog               0.0           37.50          15.00\n",
       "6   AFelipeGA              40.0           37.50          56.25\n",
       "8  mballeng91               0.0           25.00          25.00"
      ]
     },
     "execution_count": 30,
     "metadata": {},
     "output_type": "execute_result"
    }
   ],
   "source": [
    "df5 = pd.read_csv(\"bogota-3-phase5.csv\")\n",
    "df6 = df5.dropna()\n",
    "df6.head(5)\n"
   ]
  },
  {
   "cell_type": "code",
   "execution_count": 31,
   "id": "b901d8e1",
   "metadata": {},
   "outputs": [
    {
     "name": "stderr",
     "output_type": "stream",
     "text": [
      "<ipython-input-31-988316be6a60>:1: SettingWithCopyWarning: \n",
      "A value is trying to be set on a copy of a slice from a DataFrame.\n",
      "Try using .loc[row_indexer,col_indexer] = value instead\n",
      "\n",
      "See the caveats in the documentation: https://pandas.pydata.org/pandas-docs/stable/user_guide/indexing.html#returning-a-view-versus-a-copy\n",
      "  df6['Group'] = 3\n"
     ]
    }
   ],
   "source": [
    "df6['Group'] = 3"
   ]
  },
  {
   "cell_type": "code",
   "execution_count": 32,
   "id": "0e8e4f2b",
   "metadata": {},
   "outputs": [
    {
     "data": {
      "text/html": [
       "<div>\n",
       "<style scoped>\n",
       "    .dataframe tbody tr th:only-of-type {\n",
       "        vertical-align: middle;\n",
       "    }\n",
       "\n",
       "    .dataframe tbody tr th {\n",
       "        vertical-align: top;\n",
       "    }\n",
       "\n",
       "    .dataframe thead th {\n",
       "        text-align: right;\n",
       "    }\n",
       "</style>\n",
       "<table border=\"1\" class=\"dataframe\">\n",
       "  <thead>\n",
       "    <tr style=\"text-align: right;\">\n",
       "      <th></th>\n",
       "      <th>Project</th>\n",
       "      <th>User Requirement</th>\n",
       "      <th>Info Viz Score</th>\n",
       "      <th>Novelty Score</th>\n",
       "      <th>Group</th>\n",
       "    </tr>\n",
       "  </thead>\n",
       "  <tbody>\n",
       "    <tr>\n",
       "      <th>0</th>\n",
       "      <td>fffeelipe</td>\n",
       "      <td>20.0</td>\n",
       "      <td>29.17</td>\n",
       "      <td>50.00</td>\n",
       "      <td>0</td>\n",
       "    </tr>\n",
       "    <tr>\n",
       "      <th>2</th>\n",
       "      <td>mnguzmanc</td>\n",
       "      <td>60.0</td>\n",
       "      <td>75.00</td>\n",
       "      <td>67.50</td>\n",
       "      <td>0</td>\n",
       "    </tr>\n",
       "    <tr>\n",
       "      <th>4</th>\n",
       "      <td>DglyP</td>\n",
       "      <td>40.0</td>\n",
       "      <td>29.17</td>\n",
       "      <td>45.83</td>\n",
       "      <td>0</td>\n",
       "    </tr>\n",
       "    <tr>\n",
       "      <th>6</th>\n",
       "      <td>hsmartineza</td>\n",
       "      <td>80.0</td>\n",
       "      <td>33.33</td>\n",
       "      <td>60.00</td>\n",
       "      <td>0</td>\n",
       "    </tr>\n",
       "    <tr>\n",
       "      <th>9</th>\n",
       "      <td>jmcuestasb</td>\n",
       "      <td>100.0</td>\n",
       "      <td>54.17</td>\n",
       "      <td>25.00</td>\n",
       "      <td>0</td>\n",
       "    </tr>\n",
       "    <tr>\n",
       "      <th>...</th>\n",
       "      <td>...</td>\n",
       "      <td>...</td>\n",
       "      <td>...</td>\n",
       "      <td>...</td>\n",
       "      <td>...</td>\n",
       "    </tr>\n",
       "    <tr>\n",
       "      <th>69</th>\n",
       "      <td>DavidQP</td>\n",
       "      <td>80.0</td>\n",
       "      <td>70.83</td>\n",
       "      <td>83.33</td>\n",
       "      <td>3</td>\n",
       "    </tr>\n",
       "    <tr>\n",
       "      <th>71</th>\n",
       "      <td>afceballosr</td>\n",
       "      <td>80.0</td>\n",
       "      <td>45.83</td>\n",
       "      <td>57.50</td>\n",
       "      <td>3</td>\n",
       "    </tr>\n",
       "    <tr>\n",
       "      <th>73</th>\n",
       "      <td>lizzyt10h</td>\n",
       "      <td>20.0</td>\n",
       "      <td>54.17</td>\n",
       "      <td>81.25</td>\n",
       "      <td>3</td>\n",
       "    </tr>\n",
       "    <tr>\n",
       "      <th>75</th>\n",
       "      <td>NicolasPrr</td>\n",
       "      <td>100.0</td>\n",
       "      <td>83.33</td>\n",
       "      <td>90.00</td>\n",
       "      <td>3</td>\n",
       "    </tr>\n",
       "    <tr>\n",
       "      <th>77</th>\n",
       "      <td>jumcorredorro</td>\n",
       "      <td>100.0</td>\n",
       "      <td>62.50</td>\n",
       "      <td>75.00</td>\n",
       "      <td>3</td>\n",
       "    </tr>\n",
       "  </tbody>\n",
       "</table>\n",
       "<p>110 rows × 5 columns</p>\n",
       "</div>"
      ],
      "text/plain": [
       "          Project  User Requirement  Info Viz Score  Novelty Score  Group\n",
       "0       fffeelipe              20.0           29.17          50.00      0\n",
       "2       mnguzmanc              60.0           75.00          67.50      0\n",
       "4           DglyP              40.0           29.17          45.83      0\n",
       "6     hsmartineza              80.0           33.33          60.00      0\n",
       "9      jmcuestasb             100.0           54.17          25.00      0\n",
       "..            ...               ...             ...            ...    ...\n",
       "69        DavidQP              80.0           70.83          83.33      3\n",
       "71    afceballosr              80.0           45.83          57.50      3\n",
       "73      lizzyt10h              20.0           54.17          81.25      3\n",
       "75     NicolasPrr             100.0           83.33          90.00      3\n",
       "77  jumcorredorro             100.0           62.50          75.00      3\n",
       "\n",
       "[110 rows x 5 columns]"
      ]
     },
     "execution_count": 32,
     "metadata": {},
     "output_type": "execute_result"
    }
   ],
   "source": [
    "df_full = df_combined.append(df6, sort = False)\n",
    "df_full"
   ]
  },
  {
   "cell_type": "code",
   "execution_count": 34,
   "id": "52a5f312",
   "metadata": {},
   "outputs": [
    {
     "name": "stdout",
     "output_type": "stream",
     "text": [
      "0.2419414359739583 accept\n"
     ]
    }
   ],
   "source": [
    "attributeName = 'User Requirement'\n",
    "\n",
    "# two_sample_unpaired_t_test\n",
    "\n",
    "df_new = df_full.loc[df_full['Group'] == 0]\n",
    "df_new2 = df_full.loc[df_full['Group'] == 3]\n",
    "output = st.ttest_ind(df_new['User Requirement'], df_new2['User Requirement'], nan_policy='omit')\n",
    "if (output.pvalue > 0.05): \n",
    "    print(output.pvalue, 'accept')\n",
    "else:\n",
    "    print(output.pvalue, 'reject')\n",
    "    "
   ]
  },
  {
   "cell_type": "code",
   "execution_count": 35,
   "id": "c1008d89",
   "metadata": {},
   "outputs": [
    {
     "name": "stdout",
     "output_type": "stream",
     "text": [
      "0.2588715713725102 accept\n"
     ]
    }
   ],
   "source": [
    "attributeName = 'Novelty Score'\n",
    "\n",
    "# two_sample_unpaired_t_test\n",
    "\n",
    "df_new = df_full.loc[df_full['Group'] == 0]\n",
    "df_new2 = df_full.loc[df_full['Group'] == 3]\n",
    "output = st.ttest_ind(df_new['Novelty Score'], df_new2['Novelty Score'], nan_policy='omit')\n",
    "if (output.pvalue > 0.05): \n",
    "    print(output.pvalue, 'accept')\n",
    "else:\n",
    "    print(output.pvalue, 'reject')"
   ]
  },
  {
   "cell_type": "code",
   "execution_count": null,
   "id": "fd1ec294",
   "metadata": {},
   "outputs": [],
   "source": []
  }
 ],
 "metadata": {
  "kernelspec": {
   "display_name": "Python 3",
   "language": "python",
   "name": "python3"
  },
  "language_info": {
   "codemirror_mode": {
    "name": "ipython",
    "version": 3
   },
   "file_extension": ".py",
   "mimetype": "text/x-python",
   "name": "python",
   "nbconvert_exporter": "python",
   "pygments_lexer": "ipython3",
   "version": "3.8.8"
  }
 },
 "nbformat": 4,
 "nbformat_minor": 5
}
