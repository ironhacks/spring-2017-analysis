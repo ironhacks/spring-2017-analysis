{
 "cells": [
  {
   "cell_type": "code",
   "execution_count": 2,
   "id": "0e959894",
   "metadata": {},
   "outputs": [],
   "source": [
    "import pandas as pd\n",
    "import numpy as np\n",
    "\n",
    "\n",
    "\n",
    "df = pd.read_csv(\"bogota-3-phase-5.csv\")\n",
    "df = df.loc[:, ~df.columns.str.contains('^Unnamed')]\n",
    "var5_mean = df['Total Score'].mean()\n",
    "var5_median = df['Total Score'].median()\n",
    "var5_std = df['Total Score'].std()\n",
    "var5_max = df['Total Score'].max()\n",
    "var5_min = df['Total Score'].min()"
   ]
  },
  {
   "cell_type": "code",
   "execution_count": 28,
   "id": "cbec168e",
   "metadata": {},
   "outputs": [],
   "source": [
    "df = pd.read_csv(\"bogota-3-phase-4.csv\")\n",
    "df = df.loc[:, ~df.columns.str.contains('^Unnamed')]\n",
    "\n",
    "var4_mean = df['Total Score'].mean()\n",
    "var4_median = df['Total Score'].median()\n",
    "var4_std = df['Total Score'].std()\n",
    "var4_max = df['Total Score'].max()\n",
    "var4_min = df['Total Score'].min()"
   ]
  },
  {
   "cell_type": "code",
   "execution_count": 29,
   "id": "29de7b17",
   "metadata": {},
   "outputs": [
    {
     "name": "stdout",
     "output_type": "stream",
     "text": [
      "59.190000000000026 49.60916666666668 3.78552941983547 2.5 0.0\n"
     ]
    }
   ],
   "source": [
    "# Improvement Score Bogota 3 Phase 4-5\n",
    "\n",
    "diff1 = var5_mean - var4_mean\n",
    "diff2 = var5_median - var4_mean\n",
    "diff3 = var5_std - var4_std\n",
    "diff4 = var5_max - var4_max\n",
    "diff5 = var5_min - var4_min\n",
    "\n",
    "print(diff1, diff2, diff3, diff4, diff5)"
   ]
  },
  {
   "cell_type": "code",
   "execution_count": 39,
   "id": "06637a40",
   "metadata": {},
   "outputs": [],
   "source": [
    "df = pd.read_csv(\"bogota-3-phase-3.csv\")\n",
    "df = df.loc[:, ~df.columns.str.contains('^Unnamed')]\n",
    "var3_mean = df['Total Score'].mean()\n",
    "var3_median = df['Total Score'].median()\n",
    "var3_std = df['Total Score'].std()\n",
    "var3_max = df['Total Score'].max()\n",
    "var3_min = df['Total Score'].min()"
   ]
  },
  {
   "cell_type": "code",
   "execution_count": 40,
   "id": "d234373b",
   "metadata": {},
   "outputs": [
    {
     "name": "stdout",
     "output_type": "stream",
     "text": [
      "14.629444444444431 37.06083333333328 13.44385186831866 28.329999999999984 -15.829999999999998\n"
     ]
    }
   ],
   "source": [
    "# Improvement Score Bogota 3 Phase 3-4\n",
    "\n",
    "diff1 = var4_mean - var3_mean \n",
    "diff2 = var4_mean - var3_median\n",
    "diff3 = var4_std - var3_std\n",
    "diff4 = var4_max - var3_max\n",
    "diff5 = var4_min - var3_min\n",
    "\n",
    "print(diff1, diff2, diff3, diff4, diff5)"
   ]
  },
  {
   "cell_type": "code",
   "execution_count": 37,
   "id": "27a3141f",
   "metadata": {},
   "outputs": [],
   "source": [
    "df = pd.read_csv(\"bogota-3-phase-2.csv\")\n",
    "df = df.loc[:, ~df.columns.str.contains('^Unnamed')]\n",
    "var2_mean = df['Total Score'].mean()\n",
    "var2_median = df['Total Score'].median()\n",
    "var2_std = df['Total Score'].std()\n",
    "var2_max = df['Total Score'].max()\n",
    "var2_min = df['Total Score'].min()"
   ]
  },
  {
   "cell_type": "code",
   "execution_count": 41,
   "id": "dbb962b9",
   "metadata": {},
   "outputs": [
    {
     "name": "stdout",
     "output_type": "stream",
     "text": [
      "8.900277777777774 14.580000000000041 1.0401393969356008 -3.329999999999984 15.829999999999998\n"
     ]
    }
   ],
   "source": [
    "# Improvement Score Bogota 3 Phase 2-3\n",
    "\n",
    "diff1 = var3_mean - var2_mean \n",
    "diff2 = var3_median - var2_median\n",
    "diff3 = var3_std - var2_std\n",
    "diff4 = var3_max - var2_max\n",
    "diff5 = var3_min - var2_min\n",
    "\n",
    "print(diff1, diff2, diff3, diff4, diff5)"
   ]
  },
  {
   "cell_type": "code",
   "execution_count": 42,
   "id": "a57a8384",
   "metadata": {},
   "outputs": [],
   "source": [
    "df = pd.read_csv(\"bogota-3-phase-1.csv\")\n",
    "df = df.loc[:, ~df.columns.str.contains('^Unnamed')]\n",
    "var1_mean = df['Total Score'].mean()\n",
    "var1_median = df['Total Score'].median()\n",
    "var1_std = diff3 = df['Total Score'].std()\n",
    "var1_max = df['Total Score'].max()\n",
    "var1_min = df['Total Score'].min()"
   ]
  },
  {
   "cell_type": "code",
   "execution_count": 43,
   "id": "8c1c80cf",
   "metadata": {},
   "outputs": [
    {
     "name": "stdout",
     "output_type": "stream",
     "text": [
      "44.85972222222219 26.24999999999997 2.308912546162958 4.159999999999968 62.5\n"
     ]
    }
   ],
   "source": [
    "# Improvement Score Bogota 3 Phase 1-2\n",
    "\n",
    "diff1 = var2_mean - var1_mean \n",
    "diff2 = var2_median - var1_median \n",
    "diff3 = var2_std - var1_std\n",
    "diff4 = var2_max - var1_max\n",
    "diff5 = var2_min - var1_min\n",
    "\n",
    "print(diff1, diff2, diff3, diff4, diff5)"
   ]
  },
  {
   "cell_type": "code",
   "execution_count": 54,
   "id": "86cdcfd5",
   "metadata": {},
   "outputs": [],
   "source": [
    "df = pd.read_csv(\"bogota-2-phase-5.csv\")\n",
    "df = df.loc[:, ~df.columns.str.contains('^Unnamed')]\n",
    "var5_mean = df['Total Score'].mean()\n",
    "var5_median = df['Total Score'].median()\n",
    "var5_std = df['Total Score'].std()\n",
    "var5_max = df['Total Score'].max()\n",
    "var5_min = df['Total Score'].min()\n"
   ]
  },
  {
   "cell_type": "code",
   "execution_count": 55,
   "id": "bcd26902",
   "metadata": {},
   "outputs": [],
   "source": [
    "df = pd.read_csv(\"bogota-2-phase-4.csv\")\n",
    "df = df.loc[:, ~df.columns.str.contains('^Unnamed')]\n",
    "var4_mean = df['Total Score'].mean()\n",
    "var4_median = df['Total Score'].median()\n",
    "var4_std = df['Total Score'].std()\n",
    "var4_max = df['Total Score'].max()\n",
    "var4_min = df['Total Score'].min()\n"
   ]
  },
  {
   "cell_type": "code",
   "execution_count": 56,
   "id": "037b85c6",
   "metadata": {},
   "outputs": [
    {
     "name": "stdout",
     "output_type": "stream",
     "text": [
      "33.54151515151517 4.5518181818181915 1.699739070406693 -0.8299999999999841 45.0\n"
     ]
    }
   ],
   "source": [
    "diff1 = var5_mean - var4_mean\n",
    "diff2 = var5_median - var4_mean\n",
    "diff3 = var5_std - var4_std\n",
    "diff4 = var5_max - var4_max\n",
    "diff5 = var5_min - var4_min\n",
    "print(diff1, diff2, diff3, diff4, diff5)"
   ]
  },
  {
   "cell_type": "code",
   "execution_count": 57,
   "id": "3017c176",
   "metadata": {},
   "outputs": [],
   "source": [
    "df = pd.read_csv(\"bogota-2-phase-3.csv\")\n",
    "df = df.loc[:, ~df.columns.str.contains('^Unnamed')]\n",
    "var3_mean = df['Total Score'].mean()\n",
    "var3_median = df['Total Score'].median()\n",
    "var3_std = df['Total Score'].std()\n",
    "var3_max = df['Total Score'].max()\n",
    "var3_min = df['Total Score'].min()\n"
   ]
  },
  {
   "cell_type": "code",
   "execution_count": 58,
   "id": "1abc6782",
   "metadata": {},
   "outputs": [
    {
     "name": "stdout",
     "output_type": "stream",
     "text": [
      "7.459090909090918 11.669999999999987 7.892625970601742 0.0 -45.0\n"
     ]
    }
   ],
   "source": [
    "diff1 = var4_mean - var3_mean\n",
    "diff2 = var4_median - var3_median\n",
    "diff3 = var4_std - var3_std\n",
    "diff4 = var4_max - var3_max\n",
    "diff5 = var4_min - var3_min\n",
    "print(diff1, diff2, diff3, diff4, diff5)"
   ]
  },
  {
   "cell_type": "code",
   "execution_count": 59,
   "id": "1bf6c1ac",
   "metadata": {},
   "outputs": [],
   "source": [
    "df = pd.read_csv(\"bogota-2-phase-2.csv\")\n",
    "df = df.loc[:, ~df.columns.str.contains('^Unnamed')]\n",
    "var2_mean = df['Total Score'].mean()\n",
    "var2_median = df['Total Score'].median()\n",
    "var2_std = df['Total Score'].std()\n",
    "var2_max = df['Total Score'].max()\n",
    "var2_min = df['Total Score'].min()"
   ]
  },
  {
   "cell_type": "code",
   "execution_count": 61,
   "id": "0d6b23a8",
   "metadata": {},
   "outputs": [
    {
     "name": "stdout",
     "output_type": "stream",
     "text": [
      "15.034545454545423 -14.624545454545455 0.0 0.0 0.0\n"
     ]
    }
   ],
   "source": [
    "diff1 = var3_mean - var2_mean\n",
    "diff2 = var3_median - var2_mean\n",
    "diff3 = var3_std - var3_std\n",
    "diff4 = var3_max - var3_max\n",
    "diff5 = var3_min - var3_min\n",
    "print(diff1, diff2, diff3, diff4, diff5)"
   ]
  },
  {
   "cell_type": "code",
   "execution_count": 62,
   "id": "68b65d5f",
   "metadata": {},
   "outputs": [],
   "source": [
    "df = pd.read_csv(\"bogota-2-phase-1.csv\")\n",
    "df = df.loc[:, ~df.columns.str.contains('^Unnamed')]\n",
    "var1_mean = df['Total Score'].mean()\n",
    "var1_median = df['Total Score'].median()\n",
    "var1_std = df['Total Score'].std()\n",
    "var1_max = df['Total Score'].max()\n",
    "var1_min = df['Total Score'].min()"
   ]
  },
  {
   "cell_type": "code",
   "execution_count": 63,
   "id": "aa8bb762",
   "metadata": {},
   "outputs": [
    {
     "name": "stdout",
     "output_type": "stream",
     "text": [
      "36.31242424242424 9.187878787878788 11.223567131121854 70.0 45.0\n"
     ]
    }
   ],
   "source": [
    "diff1 = var2_mean - var1_mean\n",
    "diff2 = var2_median - var1_mean\n",
    "diff3 = var2_std - var1_std\n",
    "diff4 = var2_max - var1_max\n",
    "diff5 = var2_min - var1_min\n",
    "print(diff1, diff2, diff3, diff4, diff5)"
   ]
  },
  {
   "cell_type": "code",
   "execution_count": 64,
   "id": "05191ad5",
   "metadata": {},
   "outputs": [],
   "source": [
    "df = pd.read_csv(\"bogota-1-phase-5.csv\")\n",
    "df = df.loc[:, ~df.columns.str.contains('^Unnamed')]\n",
    "var5_mean = df['Total Score'].mean()\n",
    "var5_median = df['Total Score'].median()\n",
    "var5_std = df['Total Score'].std()\n",
    "var5_max = df['Total Score'].max()\n",
    "var5_min = df['Total Score'].min()"
   ]
  },
  {
   "cell_type": "code",
   "execution_count": 65,
   "id": "572da43e",
   "metadata": {},
   "outputs": [],
   "source": [
    "df = pd.read_csv(\"bogota-1-phase-4.csv\")\n",
    "df = df.loc[:, ~df.columns.str.contains('^Unnamed')]\n",
    "var4_mean = df['Total Score'].mean()\n",
    "var4_median = df['Total Score'].median()\n",
    "var4_std = df['Total Score'].std()\n",
    "var4_max = df['Total Score'].max()\n",
    "var4_min = df['Total Score'].min()"
   ]
  },
  {
   "cell_type": "code",
   "execution_count": 66,
   "id": "d1bbd32e",
   "metadata": {},
   "outputs": [
    {
     "name": "stdout",
     "output_type": "stream",
     "text": [
      "14.208857142857141 11.997714285714267 3.1961522798807778 7.5 0.0\n"
     ]
    }
   ],
   "source": [
    "diff1 = var5_mean - var4_mean\n",
    "diff2 = var5_median - var4_mean\n",
    "diff3 = var5_std - var4_std\n",
    "diff4 = var5_max - var4_max\n",
    "diff5 = var5_min - var4_min\n",
    "print(diff1, diff2, diff3, diff4, diff5)"
   ]
  },
  {
   "cell_type": "code",
   "execution_count": 67,
   "id": "2eebf9b3",
   "metadata": {},
   "outputs": [],
   "source": [
    "df = pd.read_csv(\"bogota-1-phase-3.csv\")\n",
    "df = df.loc[:, ~df.columns.str.contains('^Unnamed')]\n",
    "var3_mean = df['Total Score'].mean()\n",
    "var3_median = df['Total Score'].median()\n",
    "var3_std = df['Total Score'].std()\n",
    "var3_max = df['Total Score'].max()\n",
    "var3_min = df['Total Score'].min()"
   ]
  },
  {
   "cell_type": "code",
   "execution_count": 68,
   "id": "7ee1449f",
   "metadata": {},
   "outputs": [
    {
     "name": "stdout",
     "output_type": "stream",
     "text": [
      "11.494571428571447 15.152285714285739 -9.259796063302275 4.170000000000016 0.0\n"
     ]
    }
   ],
   "source": [
    "diff1 = var4_mean - var3_mean\n",
    "diff2 = var4_median - var3_mean\n",
    "diff3 = var4_std - var3_std\n",
    "diff4 = var4_max - var3_max\n",
    "diff5 = var4_min - var3_min\n",
    "print(diff1, diff2, diff3, diff4, diff5)"
   ]
  },
  {
   "cell_type": "code",
   "execution_count": 69,
   "id": "edfa5622",
   "metadata": {},
   "outputs": [],
   "source": [
    "df = pd.read_csv(\"bogota-1-phase-2.csv\")\n",
    "df = df.loc[:, ~df.columns.str.contains('^Unnamed')]\n",
    "var2_mean = df['Total Score'].mean()\n",
    "var2_median = df['Total Score'].median()\n",
    "var2_std = df['Total Score'].std()\n",
    "var2_max = df['Total Score'].max()\n",
    "var2_min = df['Total Score'].min()"
   ]
  },
  {
   "cell_type": "code",
   "execution_count": 70,
   "id": "a7a1f4bb",
   "metadata": {},
   "outputs": [
    {
     "name": "stdout",
     "output_type": "stream",
     "text": [
      "23.66628571428572 13.81857142857146 17.669268958762828 12.5 -12.5\n"
     ]
    }
   ],
   "source": [
    "diff1 = var3_mean - var2_mean\n",
    "diff2 = var3_median - var2_mean\n",
    "diff3 = var3_std - var2_std\n",
    "diff4 = var3_max - var2_max\n",
    "diff5 = var3_min - var2_min\n",
    "print(diff1, diff2, diff3, diff4, diff5)"
   ]
  },
  {
   "cell_type": "code",
   "execution_count": 15,
   "id": "ee72c4df",
   "metadata": {},
   "outputs": [
    {
     "name": "stdout",
     "output_type": "stream",
     "text": [
      "138.61914285714286\n",
      "120.0\n",
      "78.05825439154697\n",
      "329.17\n",
      "25.0\n"
     ]
    }
   ],
   "source": [
    "df = pd.read_csv(\"bogota-1-phase-1.csv\")\n",
    "df = df.loc[:, ~df.columns.str.contains('^Unnamed')]\n",
    "var1_mean = df['Total Score'].mean()\n",
    "var1_median = df['Total Score'].median()\n",
    "var1_std = df['Total Score'].std()\n",
    "var1_max = df['Total Score'].max()\n",
    "var1_min = df['Total Score'].min()"
   ]
  },
  {
   "cell_type": "code",
   "execution_count": 71,
   "id": "a94dec47",
   "metadata": {},
   "outputs": [
    {
     "name": "stdout",
     "output_type": "stream",
     "text": [
      "40.36930735930733 16.687878787878788 20.857478436005195 73.32999999999998 45.0\n"
     ]
    }
   ],
   "source": [
    "diff1 = var2_mean - var1_mean\n",
    "diff2 = var2_median - var1_mean\n",
    "diff3 = var2_std - var1_std\n",
    "diff4 = var2_max - var1_max\n",
    "diff5 = var2_min - var1_min\n",
    "print(diff1, diff2, diff3, diff4, diff5)"
   ]
  },
  {
   "cell_type": "code",
   "execution_count": 72,
   "id": "3d4fb78b",
   "metadata": {},
   "outputs": [],
   "source": [
    "df = pd.read_csv(\"bogota-0-phase-1.csv\")\n",
    "df = df.loc[:, ~df.columns.str.contains('^Unnamed')]\n",
    "var1_mean = df['Total Score'].mean()\n",
    "var1_median = df['Total Score'].median()\n",
    "var1_std = df['Total Score'].std()\n",
    "var1_max = df['Total Score'].max()\n",
    "var1_min = df['Total Score'].min()"
   ]
  },
  {
   "cell_type": "code",
   "execution_count": 87,
   "id": "a49f328b",
   "metadata": {},
   "outputs": [],
   "source": [
    "df = pd.read_csv(\"bogota-0-phase-2.csv\")\n",
    "df = df.loc[:, ~df.columns.str.contains('^Unnamed')]\n",
    "var2_mean = df['Total Score'].mean()\n",
    "var2_median = df['Total Score'].median()\n",
    "var2_std = df['Total Score'].std()\n",
    "var2_max = df['Total Score'].max()\n",
    "var2_min = df['Total Score'].min()"
   ]
  },
  {
   "cell_type": "code",
   "execution_count": 88,
   "id": "a2b52876",
   "metadata": {},
   "outputs": [
    {
     "name": "stdout",
     "output_type": "stream",
     "text": [
      "46.84652173913041 43.076521739130456 -6.411828733435989 -53.329999999999984 20.83\n"
     ]
    }
   ],
   "source": [
    "diff1 = var2_mean - var1_mean\n",
    "diff2 = var2_median - var1_mean\n",
    "diff3 = var2_std - var1_std\n",
    "diff4 = var2_max - var1_max\n",
    "diff5 = var2_min - var1_min\n",
    "print(diff1, diff2, diff3, diff4, diff5)"
   ]
  },
  {
   "cell_type": "code",
   "execution_count": 89,
   "id": "b3188663",
   "metadata": {},
   "outputs": [],
   "source": [
    "df = pd.read_csv(\"bogota-0-phase-3.csv\")\n",
    "df = df.loc[:, ~df.columns.str.contains('^Unnamed')]\n",
    "var3_mean = df['Total Score'].mean()\n",
    "var3_median = df['Total Score'].median()\n",
    "var3_std = df['Total Score'].std()\n",
    "var3_max = df['Total Score'].max()\n",
    "var3_min = df['Total Score'].min()\n"
   ]
  },
  {
   "cell_type": "code",
   "execution_count": 90,
   "id": "5eba5296",
   "metadata": {},
   "outputs": [
    {
     "name": "stdout",
     "output_type": "stream",
     "text": [
      "27.012173913043483 27.900000000000034 17.440409342009268 45.829999999999984 15.840000000000003\n"
     ]
    }
   ],
   "source": [
    "diff1 = var3_mean - var2_mean\n",
    "diff2 = var3_median - var2_mean\n",
    "diff3 = var3_std - var2_std\n",
    "diff4 = var3_max - var2_max\n",
    "diff5 = var3_min - var2_min\n",
    "print(diff1, diff2, diff3, diff4, diff5)"
   ]
  },
  {
   "cell_type": "code",
   "execution_count": 91,
   "id": "3a46f93d",
   "metadata": {},
   "outputs": [],
   "source": [
    "df = pd.read_csv(\"bogota-0-phase-4.csv\")\n",
    "df = df.loc[:, ~df.columns.str.contains('^Unnamed')]\n",
    "var4_mean = df['Total Score'].mean()\n",
    "var4_median = df['Total Score'].median()\n",
    "var4_std = df['Total Score'].std()\n",
    "var4_max = df['Total Score'].max()\n",
    "var4_min = df['Total Score'].min()"
   ]
  },
  {
   "cell_type": "code",
   "execution_count": 92,
   "id": "d955d535",
   "metadata": {},
   "outputs": [
    {
     "name": "stdout",
     "output_type": "stream",
     "text": [
      "3.3330434782608904 21.30782608695654 5.895395551420052 20.0 -24.17\n"
     ]
    }
   ],
   "source": [
    "diff1 = var4_mean - var3_mean\n",
    "diff2 = var4_median - var3_mean\n",
    "diff3 = var4_std - var3_std\n",
    "diff4 = var4_max - var3_max\n",
    "diff5 = var4_min - var3_min\n",
    "print(diff1, diff2, diff3, diff4, diff5)"
   ]
  },
  {
   "cell_type": "code",
   "execution_count": 93,
   "id": "72df6025",
   "metadata": {},
   "outputs": [],
   "source": [
    "df = pd.read_csv(\"bogota-0-phase-5.csv\")\n",
    "df = df.loc[:, ~df.columns.str.contains('^Unnamed')]\n",
    "var5_mean = df['Total Score'].mean()\n",
    "var5_median = df['Total Score'].median()\n",
    "var5_std = df['Total Score'].std()\n",
    "var5_max = df['Total Score'].max()\n",
    "var5_min = df['Total Score'].min()"
   ]
  },
  {
   "cell_type": "code",
   "execution_count": 94,
   "id": "f340b153",
   "metadata": {},
   "outputs": [
    {
     "name": "stdout",
     "output_type": "stream",
     "text": [
      "28.20739130434785 31.724782608695648 9.858587027395288 39.59000000000003 24.17\n"
     ]
    }
   ],
   "source": [
    "diff1 = var5_mean - var4_mean\n",
    "diff2 = var5_median - var4_mean\n",
    "diff3 = var5_std - var4_std\n",
    "diff4 = var5_max - var4_max\n",
    "diff5 = var5_min - var4_min\n",
    "print(diff1, diff2, diff3, diff4, diff5)"
   ]
  },
  {
   "cell_type": "code",
   "execution_count": 8,
   "id": "8181719d",
   "metadata": {},
   "outputs": [
    {
     "data": {
      "image/png": "[encoded data removed]",
      "text/plain": [
       "<Figure size 432x288 with 1 Axes>"
      ]
     },
     "metadata": {
      "needs_background": "light"
     },
     "output_type": "display_data"
    }
   ],
   "source": [
    "# importing package\n",
    "import matplotlib.pyplot as plt\n",
    "import numpy as np\n",
    "  \n",
    "# create data\n",
    "x = np.arange(5)\n",
    "y1 = [97.75, 144.6, 171.61, 174.95, 203.15]\n",
    "y2 = [138.62, 164.51, 188.18, 199.67, 213.88]\n",
    "y3 = [124.14, 160.45, 175.49, 182.95, 216.5]\n",
    "y4 = [115.34, 160.2, 169.1, 183.73, 242.92]                  \n",
    "width = 0.2\n",
    "  \n",
    "# plot data in grouped manner of bar type\n",
    "plt.bar(x-0.2, y1, width, color='cyan')\n",
    "plt.bar(x, y2, width, color='orange')\n",
    "plt.bar(x+0.2, y3, width, color='green')\n",
    "plt.bar(x+0.4, y4, width, color='purple')\n",
    "plt.xticks(x, ['Phase 1', 'Phase 2', 'Phase 3', 'Phase 4', 'Phase 5'])\n",
    "plt.xlabel(\"Teams\")\n",
    "plt.ylabel(\"Scores\")\n",
    "plt.legend([\"bogota0\", \"bogota1\", \"bogota2\", \"bogota3\"])\n",
    "plt.title(\"Mean Value\")\n",
    "plt.show()"
   ]
  },
  {
   "cell_type": "code",
   "execution_count": 9,
   "id": "4493e406",
   "metadata": {},
   "outputs": [
    {
     "data": {
      "text/plain": [
       "<matplotlib.legend.Legend at 0x7fdc0fa8e820>"
      ]
     },
     "execution_count": 9,
     "metadata": {},
     "output_type": "execute_result"
    },
    {
     "data": {
      "image/png": "[encoded data removed]",
      "text/plain": [
       "<Figure size 432x288 with 1 Axes>"
      ]
     },
     "metadata": {
      "needs_background": "light"
     },
     "output_type": "display_data"
    }
   ],
   "source": [
    "import matplotlib.pyplot as plt\n",
    "\n",
    "y1 = [97.75, 144.6, 171.61, 174.95, 203.15]\n",
    "y2 = [138.62, 164.51, 188.18, 199.67, 213.88]\n",
    "y3 = [124.14, 160.45, 175.49, 182.95, 216.5]\n",
    "y4 = [115.34, 160.2, 169.1, 183.73, 242.92]   \n",
    "\n",
    "x_axis=['Phase 1', 'Phase 2', 'Phase 3', 'Phase 4', 'Phase 5']\n",
    "\n",
    "line1 = plt.plot(x_axis, y1,'ko-',label='bogota 0')\n",
    "line2 = plt.plot(x_axis, y2,'ro-',label='bogota 1') \n",
    "line3 = plt.plot(x_axis, y3,'mo-',label='bogota 2')\n",
    "line3 = plt.plot(x_axis, y4,'bo-',label='bogota 3')\n",
    "\n",
    "plt.legend(bbox_to_anchor=(1, 1),\n",
    "           bbox_transform=plt.gcf().transFigure)\n"
   ]
  },
  {
   "cell_type": "code",
   "execution_count": null,
   "id": "41bff5fb",
   "metadata": {},
   "outputs": [],
   "source": []
  }
 ],
 "metadata": {
  "kernelspec": {
   "display_name": "Python 3",
   "language": "python",
   "name": "python3"
  },
  "language_info": {
   "codemirror_mode": {
    "name": "ipython",
    "version": 3
   },
   "file_extension": ".py",
   "mimetype": "text/x-python",
   "name": "python",
   "nbconvert_exporter": "python",
   "pygments_lexer": "ipython3",
   "version": "3.8.8"
  }
 },
 "nbformat": 4,
 "nbformat_minor": 5
}
