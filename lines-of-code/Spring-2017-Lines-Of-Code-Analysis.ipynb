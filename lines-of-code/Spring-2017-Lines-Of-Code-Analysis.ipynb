{
 "cells": [
  {
   "cell_type": "code",
   "execution_count": 1,
   "id": "5290f3c4",
   "metadata": {},
   "outputs": [
    {
     "data": {
      "text/html": [
       "<div>\n",
       "<style scoped>\n",
       "    .dataframe tbody tr th:only-of-type {\n",
       "        vertical-align: middle;\n",
       "    }\n",
       "\n",
       "    .dataframe tbody tr th {\n",
       "        vertical-align: top;\n",
       "    }\n",
       "\n",
       "    .dataframe thead th {\n",
       "        text-align: right;\n",
       "    }\n",
       "</style>\n",
       "<table border=\"1\" class=\"dataframe\">\n",
       "  <thead>\n",
       "    <tr style=\"text-align: right;\">\n",
       "      <th></th>\n",
       "      <th>change</th>\n",
       "      <th>addition</th>\n",
       "      <th>delete</th>\n",
       "      <th>username</th>\n",
       "    </tr>\n",
       "  </thead>\n",
       "  <tbody>\n",
       "    <tr>\n",
       "      <th>0</th>\n",
       "      <td>2 files changed</td>\n",
       "      <td>104 insertions(+)</td>\n",
       "      <td>121 deletions(-)</td>\n",
       "      <td>adamantwharf</td>\n",
       "    </tr>\n",
       "    <tr>\n",
       "      <th>1</th>\n",
       "      <td>3 files changed</td>\n",
       "      <td>67 insertions(+)</td>\n",
       "      <td>41 deletions(-)</td>\n",
       "      <td>adriel62</td>\n",
       "    </tr>\n",
       "    <tr>\n",
       "      <th>2</th>\n",
       "      <td>0 files changed</td>\n",
       "      <td>NaN</td>\n",
       "      <td>NaN</td>\n",
       "      <td>afceballosr</td>\n",
       "    </tr>\n",
       "    <tr>\n",
       "      <th>3</th>\n",
       "      <td>0 files changed</td>\n",
       "      <td>NaN</td>\n",
       "      <td>NaN</td>\n",
       "      <td>AFelipeGA</td>\n",
       "    </tr>\n",
       "    <tr>\n",
       "      <th>4</th>\n",
       "      <td>3 files changed</td>\n",
       "      <td>14 insertions(+)</td>\n",
       "      <td>111 deletions(-)</td>\n",
       "      <td>afforeroc</td>\n",
       "    </tr>\n",
       "    <tr>\n",
       "      <th>...</th>\n",
       "      <td>...</td>\n",
       "      <td>...</td>\n",
       "      <td>...</td>\n",
       "      <td>...</td>\n",
       "    </tr>\n",
       "    <tr>\n",
       "      <th>160</th>\n",
       "      <td>5 files changed</td>\n",
       "      <td>12 insertions(+)</td>\n",
       "      <td>97 deletions(-)</td>\n",
       "      <td>xdanielsb</td>\n",
       "    </tr>\n",
       "    <tr>\n",
       "      <th>161</th>\n",
       "      <td>8 files changed</td>\n",
       "      <td>81 insertions(+)</td>\n",
       "      <td>236 deletions(-)</td>\n",
       "      <td>Yelis3</td>\n",
       "    </tr>\n",
       "    <tr>\n",
       "      <th>162</th>\n",
       "      <td>3 files changed</td>\n",
       "      <td>17 insertions(+)</td>\n",
       "      <td>140 deletions(-)</td>\n",
       "      <td>ykchautai</td>\n",
       "    </tr>\n",
       "    <tr>\n",
       "      <th>163</th>\n",
       "      <td>0 files changed</td>\n",
       "      <td>NaN</td>\n",
       "      <td>NaN</td>\n",
       "      <td>yocuervoc</td>\n",
       "    </tr>\n",
       "    <tr>\n",
       "      <th>164</th>\n",
       "      <td>0 files changed</td>\n",
       "      <td>NaN</td>\n",
       "      <td>NaN</td>\n",
       "      <td>Zeugmax</td>\n",
       "    </tr>\n",
       "  </tbody>\n",
       "</table>\n",
       "<p>165 rows × 4 columns</p>\n",
       "</div>"
      ],
      "text/plain": [
       "               change            addition             delete      username\n",
       "0     2 files changed   104 insertions(+)   121 deletions(-)  adamantwharf\n",
       "1     3 files changed    67 insertions(+)    41 deletions(-)      adriel62\n",
       "2     0 files changed                 NaN                NaN   afceballosr\n",
       "3     0 files changed                 NaN                NaN     AFelipeGA\n",
       "4     3 files changed    14 insertions(+)   111 deletions(-)     afforeroc\n",
       "..                ...                 ...                ...           ...\n",
       "160   5 files changed    12 insertions(+)    97 deletions(-)     xdanielsb\n",
       "161   8 files changed    81 insertions(+)   236 deletions(-)        Yelis3\n",
       "162   3 files changed    17 insertions(+)   140 deletions(-)     ykchautai\n",
       "163   0 files changed                 NaN                NaN     yocuervoc\n",
       "164   0 files changed                 NaN                NaN       Zeugmax\n",
       "\n",
       "[165 rows x 4 columns]"
      ]
     },
     "execution_count": 1,
     "metadata": {},
     "output_type": "execute_result"
    }
   ],
   "source": [
    "import pandas as pd\n",
    "\n",
    "df_phase25 = pd.read_csv('./data/phase-2-5-prelim.csv')\n",
    "df_phase25"
   ]
  },
  {
   "cell_type": "code",
   "execution_count": 2,
   "id": "4318d781",
   "metadata": {},
   "outputs": [
    {
     "data": {
      "text/html": [
       "<div>\n",
       "<style scoped>\n",
       "    .dataframe tbody tr th:only-of-type {\n",
       "        vertical-align: middle;\n",
       "    }\n",
       "\n",
       "    .dataframe tbody tr th {\n",
       "        vertical-align: top;\n",
       "    }\n",
       "\n",
       "    .dataframe thead th {\n",
       "        text-align: right;\n",
       "    }\n",
       "</style>\n",
       "<table border=\"1\" class=\"dataframe\">\n",
       "  <thead>\n",
       "    <tr style=\"text-align: right;\">\n",
       "      <th></th>\n",
       "      <th>change</th>\n",
       "      <th>addition</th>\n",
       "      <th>delete</th>\n",
       "      <th>username</th>\n",
       "      <th>change-revised</th>\n",
       "    </tr>\n",
       "  </thead>\n",
       "  <tbody>\n",
       "    <tr>\n",
       "      <th>0</th>\n",
       "      <td>2 files changed</td>\n",
       "      <td>104 insertions(+)</td>\n",
       "      <td>121 deletions(-)</td>\n",
       "      <td>adamantwharf</td>\n",
       "      <td>2</td>\n",
       "    </tr>\n",
       "    <tr>\n",
       "      <th>1</th>\n",
       "      <td>3 files changed</td>\n",
       "      <td>67 insertions(+)</td>\n",
       "      <td>41 deletions(-)</td>\n",
       "      <td>adriel62</td>\n",
       "      <td>3</td>\n",
       "    </tr>\n",
       "    <tr>\n",
       "      <th>2</th>\n",
       "      <td>0 files changed</td>\n",
       "      <td>NaN</td>\n",
       "      <td>NaN</td>\n",
       "      <td>afceballosr</td>\n",
       "      <td>0</td>\n",
       "    </tr>\n",
       "    <tr>\n",
       "      <th>3</th>\n",
       "      <td>0 files changed</td>\n",
       "      <td>NaN</td>\n",
       "      <td>NaN</td>\n",
       "      <td>AFelipeGA</td>\n",
       "      <td>0</td>\n",
       "    </tr>\n",
       "    <tr>\n",
       "      <th>4</th>\n",
       "      <td>3 files changed</td>\n",
       "      <td>14 insertions(+)</td>\n",
       "      <td>111 deletions(-)</td>\n",
       "      <td>afforeroc</td>\n",
       "      <td>3</td>\n",
       "    </tr>\n",
       "  </tbody>\n",
       "</table>\n",
       "</div>"
      ],
      "text/plain": [
       "             change            addition             delete      username  \\\n",
       "0   2 files changed   104 insertions(+)   121 deletions(-)  adamantwharf   \n",
       "1   3 files changed    67 insertions(+)    41 deletions(-)      adriel62   \n",
       "2   0 files changed                 NaN                NaN   afceballosr   \n",
       "3   0 files changed                 NaN                NaN     AFelipeGA   \n",
       "4   3 files changed    14 insertions(+)   111 deletions(-)     afforeroc   \n",
       "\n",
       "  change-revised  \n",
       "0              2  \n",
       "1              3  \n",
       "2              0  \n",
       "3              0  \n",
       "4              3  "
      ]
     },
     "execution_count": 2,
     "metadata": {},
     "output_type": "execute_result"
    }
   ],
   "source": [
    "df_phase25['change-revised'] = df_phase25.change.str.extract('(\\d+)')\n",
    "df_phase25.head(5)"
   ]
  },
  {
   "cell_type": "code",
   "execution_count": 3,
   "id": "d2c8a730",
   "metadata": {},
   "outputs": [
    {
     "data": {
      "text/html": [
       "<div>\n",
       "<style scoped>\n",
       "    .dataframe tbody tr th:only-of-type {\n",
       "        vertical-align: middle;\n",
       "    }\n",
       "\n",
       "    .dataframe tbody tr th {\n",
       "        vertical-align: top;\n",
       "    }\n",
       "\n",
       "    .dataframe thead th {\n",
       "        text-align: right;\n",
       "    }\n",
       "</style>\n",
       "<table border=\"1\" class=\"dataframe\">\n",
       "  <thead>\n",
       "    <tr style=\"text-align: right;\">\n",
       "      <th></th>\n",
       "      <th>change</th>\n",
       "      <th>addition</th>\n",
       "      <th>delete</th>\n",
       "      <th>username</th>\n",
       "      <th>change-revised</th>\n",
       "      <th>add-revised</th>\n",
       "    </tr>\n",
       "  </thead>\n",
       "  <tbody>\n",
       "    <tr>\n",
       "      <th>0</th>\n",
       "      <td>2 files changed</td>\n",
       "      <td>104 insertions(+)</td>\n",
       "      <td>121 deletions(-)</td>\n",
       "      <td>adamantwharf</td>\n",
       "      <td>2</td>\n",
       "      <td>104</td>\n",
       "    </tr>\n",
       "    <tr>\n",
       "      <th>1</th>\n",
       "      <td>3 files changed</td>\n",
       "      <td>67 insertions(+)</td>\n",
       "      <td>41 deletions(-)</td>\n",
       "      <td>adriel62</td>\n",
       "      <td>3</td>\n",
       "      <td>67</td>\n",
       "    </tr>\n",
       "    <tr>\n",
       "      <th>2</th>\n",
       "      <td>0 files changed</td>\n",
       "      <td>NaN</td>\n",
       "      <td>NaN</td>\n",
       "      <td>afceballosr</td>\n",
       "      <td>0</td>\n",
       "      <td>0</td>\n",
       "    </tr>\n",
       "    <tr>\n",
       "      <th>3</th>\n",
       "      <td>0 files changed</td>\n",
       "      <td>NaN</td>\n",
       "      <td>NaN</td>\n",
       "      <td>AFelipeGA</td>\n",
       "      <td>0</td>\n",
       "      <td>0</td>\n",
       "    </tr>\n",
       "    <tr>\n",
       "      <th>4</th>\n",
       "      <td>3 files changed</td>\n",
       "      <td>14 insertions(+)</td>\n",
       "      <td>111 deletions(-)</td>\n",
       "      <td>afforeroc</td>\n",
       "      <td>3</td>\n",
       "      <td>14</td>\n",
       "    </tr>\n",
       "  </tbody>\n",
       "</table>\n",
       "</div>"
      ],
      "text/plain": [
       "             change            addition             delete      username  \\\n",
       "0   2 files changed   104 insertions(+)   121 deletions(-)  adamantwharf   \n",
       "1   3 files changed    67 insertions(+)    41 deletions(-)      adriel62   \n",
       "2   0 files changed                 NaN                NaN   afceballosr   \n",
       "3   0 files changed                 NaN                NaN     AFelipeGA   \n",
       "4   3 files changed    14 insertions(+)   111 deletions(-)     afforeroc   \n",
       "\n",
       "  change-revised add-revised  \n",
       "0              2         104  \n",
       "1              3          67  \n",
       "2              0           0  \n",
       "3              0           0  \n",
       "4              3          14  "
      ]
     },
     "execution_count": 3,
     "metadata": {},
     "output_type": "execute_result"
    }
   ],
   "source": [
    "df_phase25['add-revised'] = df_phase25.addition.str.extract('(\\d+)')\n",
    "df_phase25['add-revised'] = df_phase25['add-revised'].fillna(0)\n",
    "df_phase25.head(5)"
   ]
  },
  {
   "cell_type": "code",
   "execution_count": 4,
   "id": "034c8e15",
   "metadata": {},
   "outputs": [
    {
     "data": {
      "text/html": [
       "<div>\n",
       "<style scoped>\n",
       "    .dataframe tbody tr th:only-of-type {\n",
       "        vertical-align: middle;\n",
       "    }\n",
       "\n",
       "    .dataframe tbody tr th {\n",
       "        vertical-align: top;\n",
       "    }\n",
       "\n",
       "    .dataframe thead th {\n",
       "        text-align: right;\n",
       "    }\n",
       "</style>\n",
       "<table border=\"1\" class=\"dataframe\">\n",
       "  <thead>\n",
       "    <tr style=\"text-align: right;\">\n",
       "      <th></th>\n",
       "      <th>change</th>\n",
       "      <th>addition</th>\n",
       "      <th>delete</th>\n",
       "      <th>username</th>\n",
       "      <th>change-revised</th>\n",
       "      <th>add-revised</th>\n",
       "      <th>delete-revised</th>\n",
       "    </tr>\n",
       "  </thead>\n",
       "  <tbody>\n",
       "    <tr>\n",
       "      <th>0</th>\n",
       "      <td>2 files changed</td>\n",
       "      <td>104 insertions(+)</td>\n",
       "      <td>121 deletions(-)</td>\n",
       "      <td>adamantwharf</td>\n",
       "      <td>2</td>\n",
       "      <td>104</td>\n",
       "      <td>121</td>\n",
       "    </tr>\n",
       "    <tr>\n",
       "      <th>1</th>\n",
       "      <td>3 files changed</td>\n",
       "      <td>67 insertions(+)</td>\n",
       "      <td>41 deletions(-)</td>\n",
       "      <td>adriel62</td>\n",
       "      <td>3</td>\n",
       "      <td>67</td>\n",
       "      <td>41</td>\n",
       "    </tr>\n",
       "    <tr>\n",
       "      <th>2</th>\n",
       "      <td>0 files changed</td>\n",
       "      <td>NaN</td>\n",
       "      <td>NaN</td>\n",
       "      <td>afceballosr</td>\n",
       "      <td>0</td>\n",
       "      <td>0</td>\n",
       "      <td>0</td>\n",
       "    </tr>\n",
       "    <tr>\n",
       "      <th>3</th>\n",
       "      <td>0 files changed</td>\n",
       "      <td>NaN</td>\n",
       "      <td>NaN</td>\n",
       "      <td>AFelipeGA</td>\n",
       "      <td>0</td>\n",
       "      <td>0</td>\n",
       "      <td>0</td>\n",
       "    </tr>\n",
       "    <tr>\n",
       "      <th>4</th>\n",
       "      <td>3 files changed</td>\n",
       "      <td>14 insertions(+)</td>\n",
       "      <td>111 deletions(-)</td>\n",
       "      <td>afforeroc</td>\n",
       "      <td>3</td>\n",
       "      <td>14</td>\n",
       "      <td>111</td>\n",
       "    </tr>\n",
       "  </tbody>\n",
       "</table>\n",
       "</div>"
      ],
      "text/plain": [
       "             change            addition             delete      username  \\\n",
       "0   2 files changed   104 insertions(+)   121 deletions(-)  adamantwharf   \n",
       "1   3 files changed    67 insertions(+)    41 deletions(-)      adriel62   \n",
       "2   0 files changed                 NaN                NaN   afceballosr   \n",
       "3   0 files changed                 NaN                NaN     AFelipeGA   \n",
       "4   3 files changed    14 insertions(+)   111 deletions(-)     afforeroc   \n",
       "\n",
       "  change-revised add-revised delete-revised  \n",
       "0              2         104            121  \n",
       "1              3          67             41  \n",
       "2              0           0              0  \n",
       "3              0           0              0  \n",
       "4              3          14            111  "
      ]
     },
     "execution_count": 4,
     "metadata": {},
     "output_type": "execute_result"
    }
   ],
   "source": [
    "df_phase25['delete-revised'] = df_phase25.delete.str.extract('(\\d+)')\n",
    "df_phase25['delete-revised'] = df_phase25['delete-revised'].fillna(0)\n",
    "df_phase25.head(5)"
   ]
  },
  {
   "cell_type": "markdown",
   "id": "b74d768a",
   "metadata": {},
   "source": [
    "# Phase 2 -5 - Bogota 3 ( Full Transparency Group )"
   ]
  },
  {
   "cell_type": "code",
   "execution_count": 5,
   "id": "2ee8997b",
   "metadata": {},
   "outputs": [
    {
     "data": {
      "text/html": [
       "<div>\n",
       "<style scoped>\n",
       "    .dataframe tbody tr th:only-of-type {\n",
       "        vertical-align: middle;\n",
       "    }\n",
       "\n",
       "    .dataframe tbody tr th {\n",
       "        vertical-align: top;\n",
       "    }\n",
       "\n",
       "    .dataframe thead th {\n",
       "        text-align: right;\n",
       "    }\n",
       "</style>\n",
       "<table border=\"1\" class=\"dataframe\">\n",
       "  <thead>\n",
       "    <tr style=\"text-align: right;\">\n",
       "      <th></th>\n",
       "      <th>Project</th>\n",
       "      <th>Unnamed: 1</th>\n",
       "      <th>Unnamed: 2</th>\n",
       "    </tr>\n",
       "  </thead>\n",
       "  <tbody>\n",
       "    <tr>\n",
       "      <th>0</th>\n",
       "      <td>NicolasPrr</td>\n",
       "      <td>NaN</td>\n",
       "      <td>NaN</td>\n",
       "    </tr>\n",
       "    <tr>\n",
       "      <th>1</th>\n",
       "      <td>jscastelblancoh</td>\n",
       "      <td>NaN</td>\n",
       "      <td>NaN</td>\n",
       "    </tr>\n",
       "    <tr>\n",
       "      <th>2</th>\n",
       "      <td>juligarji</td>\n",
       "      <td>NaN</td>\n",
       "      <td>NaN</td>\n",
       "    </tr>\n",
       "    <tr>\n",
       "      <th>3</th>\n",
       "      <td>lacardenasv</td>\n",
       "      <td>NaN</td>\n",
       "      <td>NaN</td>\n",
       "    </tr>\n",
       "    <tr>\n",
       "      <th>4</th>\n",
       "      <td>jmalvarezd</td>\n",
       "      <td>NaN</td>\n",
       "      <td>NaN</td>\n",
       "    </tr>\n",
       "  </tbody>\n",
       "</table>\n",
       "</div>"
      ],
      "text/plain": [
       "           Project  Unnamed: 1  Unnamed: 2\n",
       "0       NicolasPrr         NaN         NaN\n",
       "1  jscastelblancoh         NaN         NaN\n",
       "2        juligarji         NaN         NaN\n",
       "3      lacardenasv         NaN         NaN\n",
       "4       jmalvarezd         NaN         NaN"
      ]
     },
     "execution_count": 5,
     "metadata": {},
     "output_type": "execute_result"
    }
   ],
   "source": [
    "df3 = pd.read_csv('./data/bogota-3.csv')\n",
    "df3.head(5)"
   ]
  },
  {
   "cell_type": "code",
   "execution_count": 6,
   "id": "dc1c166d",
   "metadata": {},
   "outputs": [
    {
     "data": {
      "text/html": [
       "<div>\n",
       "<style scoped>\n",
       "    .dataframe tbody tr th:only-of-type {\n",
       "        vertical-align: middle;\n",
       "    }\n",
       "\n",
       "    .dataframe tbody tr th {\n",
       "        vertical-align: top;\n",
       "    }\n",
       "\n",
       "    .dataframe thead th {\n",
       "        text-align: right;\n",
       "    }\n",
       "</style>\n",
       "<table border=\"1\" class=\"dataframe\">\n",
       "  <thead>\n",
       "    <tr style=\"text-align: right;\">\n",
       "      <th></th>\n",
       "      <th>change</th>\n",
       "      <th>addition</th>\n",
       "      <th>delete</th>\n",
       "      <th>username</th>\n",
       "      <th>change-revised</th>\n",
       "      <th>add-revised</th>\n",
       "      <th>delete-revised</th>\n",
       "      <th>bogota-3</th>\n",
       "    </tr>\n",
       "  </thead>\n",
       "  <tbody>\n",
       "    <tr>\n",
       "      <th>0</th>\n",
       "      <td>2 files changed</td>\n",
       "      <td>104 insertions(+)</td>\n",
       "      <td>121 deletions(-)</td>\n",
       "      <td>adamantwharf</td>\n",
       "      <td>2</td>\n",
       "      <td>104</td>\n",
       "      <td>121</td>\n",
       "      <td>False</td>\n",
       "    </tr>\n",
       "    <tr>\n",
       "      <th>1</th>\n",
       "      <td>3 files changed</td>\n",
       "      <td>67 insertions(+)</td>\n",
       "      <td>41 deletions(-)</td>\n",
       "      <td>adriel62</td>\n",
       "      <td>3</td>\n",
       "      <td>67</td>\n",
       "      <td>41</td>\n",
       "      <td>True</td>\n",
       "    </tr>\n",
       "    <tr>\n",
       "      <th>2</th>\n",
       "      <td>0 files changed</td>\n",
       "      <td>NaN</td>\n",
       "      <td>NaN</td>\n",
       "      <td>afceballosr</td>\n",
       "      <td>0</td>\n",
       "      <td>0</td>\n",
       "      <td>0</td>\n",
       "      <td>True</td>\n",
       "    </tr>\n",
       "    <tr>\n",
       "      <th>3</th>\n",
       "      <td>0 files changed</td>\n",
       "      <td>NaN</td>\n",
       "      <td>NaN</td>\n",
       "      <td>AFelipeGA</td>\n",
       "      <td>0</td>\n",
       "      <td>0</td>\n",
       "      <td>0</td>\n",
       "      <td>True</td>\n",
       "    </tr>\n",
       "    <tr>\n",
       "      <th>4</th>\n",
       "      <td>3 files changed</td>\n",
       "      <td>14 insertions(+)</td>\n",
       "      <td>111 deletions(-)</td>\n",
       "      <td>afforeroc</td>\n",
       "      <td>3</td>\n",
       "      <td>14</td>\n",
       "      <td>111</td>\n",
       "      <td>True</td>\n",
       "    </tr>\n",
       "  </tbody>\n",
       "</table>\n",
       "</div>"
      ],
      "text/plain": [
       "             change            addition             delete      username  \\\n",
       "0   2 files changed   104 insertions(+)   121 deletions(-)  adamantwharf   \n",
       "1   3 files changed    67 insertions(+)    41 deletions(-)      adriel62   \n",
       "2   0 files changed                 NaN                NaN   afceballosr   \n",
       "3   0 files changed                 NaN                NaN     AFelipeGA   \n",
       "4   3 files changed    14 insertions(+)   111 deletions(-)     afforeroc   \n",
       "\n",
       "  change-revised add-revised delete-revised  bogota-3  \n",
       "0              2         104            121     False  \n",
       "1              3          67             41      True  \n",
       "2              0           0              0      True  \n",
       "3              0           0              0      True  \n",
       "4              3          14            111      True  "
      ]
     },
     "execution_count": 6,
     "metadata": {},
     "output_type": "execute_result"
    }
   ],
   "source": [
    "df_phase25['bogota-3'] = df_phase25['username'].isin(df3['Project'])\n",
    "df_phase25.head(5)"
   ]
  },
  {
   "cell_type": "code",
   "execution_count": 7,
   "id": "059d180d",
   "metadata": {},
   "outputs": [
    {
     "data": {
      "text/html": [
       "<div>\n",
       "<style scoped>\n",
       "    .dataframe tbody tr th:only-of-type {\n",
       "        vertical-align: middle;\n",
       "    }\n",
       "\n",
       "    .dataframe tbody tr th {\n",
       "        vertical-align: top;\n",
       "    }\n",
       "\n",
       "    .dataframe thead th {\n",
       "        text-align: right;\n",
       "    }\n",
       "</style>\n",
       "<table border=\"1\" class=\"dataframe\">\n",
       "  <thead>\n",
       "    <tr style=\"text-align: right;\">\n",
       "      <th></th>\n",
       "      <th>change</th>\n",
       "      <th>addition</th>\n",
       "      <th>delete</th>\n",
       "      <th>username</th>\n",
       "      <th>change-revised</th>\n",
       "      <th>add-revised</th>\n",
       "      <th>delete-revised</th>\n",
       "      <th>bogota-3</th>\n",
       "    </tr>\n",
       "  </thead>\n",
       "  <tbody>\n",
       "    <tr>\n",
       "      <th>0</th>\n",
       "      <td>2 files changed</td>\n",
       "      <td>104 insertions(+)</td>\n",
       "      <td>121 deletions(-)</td>\n",
       "      <td>adamantwharf</td>\n",
       "      <td>2</td>\n",
       "      <td>104</td>\n",
       "      <td>121</td>\n",
       "      <td>0</td>\n",
       "    </tr>\n",
       "    <tr>\n",
       "      <th>1</th>\n",
       "      <td>3 files changed</td>\n",
       "      <td>67 insertions(+)</td>\n",
       "      <td>41 deletions(-)</td>\n",
       "      <td>adriel62</td>\n",
       "      <td>3</td>\n",
       "      <td>67</td>\n",
       "      <td>41</td>\n",
       "      <td>1</td>\n",
       "    </tr>\n",
       "    <tr>\n",
       "      <th>2</th>\n",
       "      <td>0 files changed</td>\n",
       "      <td>NaN</td>\n",
       "      <td>NaN</td>\n",
       "      <td>afceballosr</td>\n",
       "      <td>0</td>\n",
       "      <td>0</td>\n",
       "      <td>0</td>\n",
       "      <td>1</td>\n",
       "    </tr>\n",
       "    <tr>\n",
       "      <th>3</th>\n",
       "      <td>0 files changed</td>\n",
       "      <td>NaN</td>\n",
       "      <td>NaN</td>\n",
       "      <td>AFelipeGA</td>\n",
       "      <td>0</td>\n",
       "      <td>0</td>\n",
       "      <td>0</td>\n",
       "      <td>1</td>\n",
       "    </tr>\n",
       "    <tr>\n",
       "      <th>4</th>\n",
       "      <td>3 files changed</td>\n",
       "      <td>14 insertions(+)</td>\n",
       "      <td>111 deletions(-)</td>\n",
       "      <td>afforeroc</td>\n",
       "      <td>3</td>\n",
       "      <td>14</td>\n",
       "      <td>111</td>\n",
       "      <td>1</td>\n",
       "    </tr>\n",
       "  </tbody>\n",
       "</table>\n",
       "</div>"
      ],
      "text/plain": [
       "             change            addition             delete      username  \\\n",
       "0   2 files changed   104 insertions(+)   121 deletions(-)  adamantwharf   \n",
       "1   3 files changed    67 insertions(+)    41 deletions(-)      adriel62   \n",
       "2   0 files changed                 NaN                NaN   afceballosr   \n",
       "3   0 files changed                 NaN                NaN     AFelipeGA   \n",
       "4   3 files changed    14 insertions(+)   111 deletions(-)     afforeroc   \n",
       "\n",
       "  change-revised add-revised delete-revised  bogota-3  \n",
       "0              2         104            121         0  \n",
       "1              3          67             41         1  \n",
       "2              0           0              0         1  \n",
       "3              0           0              0         1  \n",
       "4              3          14            111         1  "
      ]
     },
     "execution_count": 7,
     "metadata": {},
     "output_type": "execute_result"
    }
   ],
   "source": [
    "df_phase25[\"bogota-3\"] = df_phase25[\"bogota-3\"].astype(int)\n",
    "df_phase25.head(5)"
   ]
  },
  {
   "cell_type": "code",
   "execution_count": 8,
   "id": "d98a0ed2",
   "metadata": {},
   "outputs": [
    {
     "data": {
      "text/html": [
       "<div>\n",
       "<style scoped>\n",
       "    .dataframe tbody tr th:only-of-type {\n",
       "        vertical-align: middle;\n",
       "    }\n",
       "\n",
       "    .dataframe tbody tr th {\n",
       "        vertical-align: top;\n",
       "    }\n",
       "\n",
       "    .dataframe thead th {\n",
       "        text-align: right;\n",
       "    }\n",
       "</style>\n",
       "<table border=\"1\" class=\"dataframe\">\n",
       "  <thead>\n",
       "    <tr style=\"text-align: right;\">\n",
       "      <th></th>\n",
       "      <th>change</th>\n",
       "      <th>addition</th>\n",
       "      <th>delete</th>\n",
       "      <th>username</th>\n",
       "      <th>change-revised</th>\n",
       "      <th>add-revised</th>\n",
       "      <th>delete-revised</th>\n",
       "      <th>bogota-3</th>\n",
       "    </tr>\n",
       "  </thead>\n",
       "  <tbody>\n",
       "    <tr>\n",
       "      <th>1</th>\n",
       "      <td>3 files changed</td>\n",
       "      <td>67 insertions(+)</td>\n",
       "      <td>41 deletions(-)</td>\n",
       "      <td>adriel62</td>\n",
       "      <td>3</td>\n",
       "      <td>67</td>\n",
       "      <td>41</td>\n",
       "      <td>1</td>\n",
       "    </tr>\n",
       "    <tr>\n",
       "      <th>2</th>\n",
       "      <td>0 files changed</td>\n",
       "      <td>NaN</td>\n",
       "      <td>NaN</td>\n",
       "      <td>afceballosr</td>\n",
       "      <td>0</td>\n",
       "      <td>0</td>\n",
       "      <td>0</td>\n",
       "      <td>1</td>\n",
       "    </tr>\n",
       "    <tr>\n",
       "      <th>3</th>\n",
       "      <td>0 files changed</td>\n",
       "      <td>NaN</td>\n",
       "      <td>NaN</td>\n",
       "      <td>AFelipeGA</td>\n",
       "      <td>0</td>\n",
       "      <td>0</td>\n",
       "      <td>0</td>\n",
       "      <td>1</td>\n",
       "    </tr>\n",
       "    <tr>\n",
       "      <th>4</th>\n",
       "      <td>3 files changed</td>\n",
       "      <td>14 insertions(+)</td>\n",
       "      <td>111 deletions(-)</td>\n",
       "      <td>afforeroc</td>\n",
       "      <td>3</td>\n",
       "      <td>14</td>\n",
       "      <td>111</td>\n",
       "      <td>1</td>\n",
       "    </tr>\n",
       "    <tr>\n",
       "      <th>19</th>\n",
       "      <td>2 files changed</td>\n",
       "      <td>16 insertions(+)</td>\n",
       "      <td>15 deletions(-)</td>\n",
       "      <td>capinzor</td>\n",
       "      <td>2</td>\n",
       "      <td>16</td>\n",
       "      <td>15</td>\n",
       "      <td>1</td>\n",
       "    </tr>\n",
       "  </tbody>\n",
       "</table>\n",
       "</div>"
      ],
      "text/plain": [
       "              change           addition             delete     username  \\\n",
       "1    3 files changed   67 insertions(+)    41 deletions(-)     adriel62   \n",
       "2    0 files changed                NaN                NaN  afceballosr   \n",
       "3    0 files changed                NaN                NaN    AFelipeGA   \n",
       "4    3 files changed   14 insertions(+)   111 deletions(-)    afforeroc   \n",
       "19   2 files changed   16 insertions(+)    15 deletions(-)     capinzor   \n",
       "\n",
       "   change-revised add-revised delete-revised  bogota-3  \n",
       "1               3          67             41         1  \n",
       "2               0           0              0         1  \n",
       "3               0           0              0         1  \n",
       "4               3          14            111         1  \n",
       "19              2          16             15         1  "
      ]
     },
     "execution_count": 8,
     "metadata": {},
     "output_type": "execute_result"
    }
   ],
   "source": [
    "df3_phase25 = df_phase25.loc[df_phase25['bogota-3'] == 1]\n",
    "df3_phase25.head(5)"
   ]
  },
  {
   "cell_type": "code",
   "execution_count": 9,
   "id": "8e823ec0",
   "metadata": {},
   "outputs": [],
   "source": [
    "df3_phase25.to_csv('df3_phase25_loc.csv')"
   ]
  },
  {
   "cell_type": "code",
   "execution_count": 10,
   "id": "3fc56912",
   "metadata": {},
   "outputs": [
    {
     "name": "stdout",
     "output_type": "stream",
     "text": [
      "41\n"
     ]
    }
   ],
   "source": [
    "print(len(df3_phase25.index))"
   ]
  },
  {
   "cell_type": "code",
   "execution_count": 11,
   "id": "2f03b0e1",
   "metadata": {},
   "outputs": [
    {
     "name": "stderr",
     "output_type": "stream",
     "text": [
      "<ipython-input-11-a0e17c50e40a>:1: SettingWithCopyWarning: \n",
      "A value is trying to be set on a copy of a slice from a DataFrame.\n",
      "Try using .loc[row_indexer,col_indexer] = value instead\n",
      "\n",
      "See the caveats in the documentation: https://pandas.pydata.org/pandas-docs/stable/user_guide/indexing.html#returning-a-view-versus-a-copy\n",
      "  df3_phase25['change-revised'] = pd.to_numeric(df3_phase25['change-revised'])\n"
     ]
    }
   ],
   "source": [
    "df3_phase25['change-revised'] = pd.to_numeric(df3_phase25['change-revised'])\n",
    "mean3_25_change = df3_phase25['change-revised'].mean()\n",
    "median3_25_change = df3_phase25['change-revised'].median()\n",
    "std3_25_change = df3_phase25['change-revised'].std()\n",
    "max3_25_change = df3_phase25['change-revised'].max()\n",
    "min3_25_change = df3_phase25['change-revised'].min()"
   ]
  },
  {
   "cell_type": "code",
   "execution_count": 56,
   "id": "5b33375b",
   "metadata": {},
   "outputs": [
    {
     "name": "stderr",
     "output_type": "stream",
     "text": [
      "<ipython-input-56-84d6c156abd7>:1: SettingWithCopyWarning: \n",
      "A value is trying to be set on a copy of a slice from a DataFrame.\n",
      "Try using .loc[row_indexer,col_indexer] = value instead\n",
      "\n",
      "See the caveats in the documentation: https://pandas.pydata.org/pandas-docs/stable/user_guide/indexing.html#returning-a-view-versus-a-copy\n",
      "  df3_phase25['delete-revised'] = pd.to_numeric(df3_phase25['delete-revised'])\n"
     ]
    },
    {
     "data": {
      "text/plain": [
       "array([ 41,   0,   0, 111,  15,  38,   5,  16,   0,  54,  44,  23,   0,\n",
       "       234,   0,   0,  34,  88, 238, 300, 290,  35,  88, 108, 248,  89,\n",
       "        18,  13,   3, 263,   6,  49,  79,   6,  70,  55, 608,   0,   3,\n",
       "        33,   0])"
      ]
     },
     "execution_count": 56,
     "metadata": {},
     "output_type": "execute_result"
    }
   ],
   "source": [
    "df3_phase25['delete-revised'] = pd.to_numeric(df3_phase25['delete-revised'])\n",
    "df3_phase25['delete-revised'].mean()\n",
    "mean3_25_delete = df3_phase25['delete-revised'].mean()\n",
    "median3_25_delete = df3_phase25['delete-revised'].median()\n",
    "std3_25_delete = df3_phase25['delete-revised'].std()\n",
    "max3_25_delete = df3_phase25['delete-revised'].max()\n",
    "min3_25_delete = df3_phase25['delete-revised'].min()\n",
    "\n",
    "df3_delete = df3_phase25['delete-revised']\n",
    "df3_delete.values"
   ]
  },
  {
   "cell_type": "code",
   "execution_count": 57,
   "id": "9e575591",
   "metadata": {},
   "outputs": [
    {
     "name": "stderr",
     "output_type": "stream",
     "text": [
      "<ipython-input-57-375c57c82bbf>:1: SettingWithCopyWarning: \n",
      "A value is trying to be set on a copy of a slice from a DataFrame.\n",
      "Try using .loc[row_indexer,col_indexer] = value instead\n",
      "\n",
      "See the caveats in the documentation: https://pandas.pydata.org/pandas-docs/stable/user_guide/indexing.html#returning-a-view-versus-a-copy\n",
      "  df3_phase25['add-revised'] = pd.to_numeric(df3_phase25['add-revised'])\n"
     ]
    },
    {
     "data": {
      "text/plain": [
       "array([ 67,   0,   0,  14,  16,   2,   5,  11,   0,  55,  28,  21,   0,\n",
       "         6,   0,   0,  16,  18,  57,  25, 162,  29,   8,  30,  26,  88,\n",
       "        17,   9,   4, 191,   5,  41,   3,  14,  27,  19,  94,   0,   3,\n",
       "        21,   0])"
      ]
     },
     "execution_count": 57,
     "metadata": {},
     "output_type": "execute_result"
    }
   ],
   "source": [
    "df3_phase25['add-revised'] = pd.to_numeric(df3_phase25['add-revised'])\n",
    "df3_phase25['add-revised'].mean()\n",
    "\n",
    "mean3_25_add = df3_phase25['add-revised'].mean()\n",
    "median3_25_add = df3_phase25['add-revised'].median()\n",
    "std3_25_add = df3_phase25['add-revised'].std()\n",
    "max3_25_add = df3_phase25['add-revised'].max()\n",
    "min3_25_add = df3_phase25['add-revised'].min()\n",
    "df3_add = df3_phase25['add-revised']\n",
    "df3_add.values"
   ]
  },
  {
   "cell_type": "code",
   "execution_count": 58,
   "id": "0f2ad737",
   "metadata": {},
   "outputs": [
    {
     "name": "stderr",
     "output_type": "stream",
     "text": [
      "<ipython-input-58-d076edb104b9>:1: SettingWithCopyWarning: \n",
      "A value is trying to be set on a copy of a slice from a DataFrame.\n",
      "Try using .loc[row_indexer,col_indexer] = value instead\n",
      "\n",
      "See the caveats in the documentation: https://pandas.pydata.org/pandas-docs/stable/user_guide/indexing.html#returning-a-view-versus-a-copy\n",
      "  df3_phase25['add-revised'] = df3_phase25['add-revised'].astype(float)\n",
      "<ipython-input-58-d076edb104b9>:2: SettingWithCopyWarning: \n",
      "A value is trying to be set on a copy of a slice from a DataFrame.\n",
      "Try using .loc[row_indexer,col_indexer] = value instead\n",
      "\n",
      "See the caveats in the documentation: https://pandas.pydata.org/pandas-docs/stable/user_guide/indexing.html#returning-a-view-versus-a-copy\n",
      "  df3_phase25['delete-revised'] = df3_phase25['delete-revised'].astype(float)\n",
      "<ipython-input-58-d076edb104b9>:3: SettingWithCopyWarning: \n",
      "A value is trying to be set on a copy of a slice from a DataFrame.\n",
      "Try using .loc[row_indexer,col_indexer] = value instead\n",
      "\n",
      "See the caveats in the documentation: https://pandas.pydata.org/pandas-docs/stable/user_guide/indexing.html#returning-a-view-versus-a-copy\n",
      "  df3_phase25['effort'] = df3_phase25['add-revised'] - 0.5 * df3_phase25['delete-revised']\n"
     ]
    }
   ],
   "source": [
    "df3_phase25['add-revised'] = df3_phase25['add-revised'].astype(float)\n",
    "df3_phase25['delete-revised'] = df3_phase25['delete-revised'].astype(float)\n",
    "df3_phase25['effort'] = df3_phase25['add-revised'] - 0.5 * df3_phase25['delete-revised']\n",
    "mean3_25_effort = df3_phase25['effort'].mean()\n",
    "median3_25_effort = df3_phase25['effort'].median()\n",
    "std3_25_effort = df3_phase25['effort'].std()\n",
    "max3_25_effort = df3_phase25['effort'].max()\n",
    "min3_25_effort = df3_phase25['effort'].min()"
   ]
  },
  {
   "cell_type": "code",
   "execution_count": 59,
   "id": "8c5eec41",
   "metadata": {},
   "outputs": [
    {
     "data": {
      "text/plain": [
       "array([  46.5,    0. ,    0. ,  -41.5,    8.5,  -17. ,    2.5,    3. ,\n",
       "          0. ,   28. ,    6. ,    9.5,    0. , -111. ,    0. ,    0. ,\n",
       "         -1. ,  -26. ,  -62. , -125. ,   17. ,   11.5,  -36. ,  -24. ,\n",
       "        -98. ,   43.5,    8. ,    2.5,    2.5,   59.5,    2. ,   16.5,\n",
       "        -36.5,   11. ,   -8. ,   -8.5, -210. ,    0. ,    1.5,    4.5,\n",
       "          0. ])"
      ]
     },
     "execution_count": 59,
     "metadata": {},
     "output_type": "execute_result"
    }
   ],
   "source": [
    "import numpy as np\n",
    "np.set_printoptions(suppress=True)\n",
    "diff3 = df3_phase25['add-revised'] - 0.5 * df3_phase25['delete-revised']\n",
    "diff3.values"
   ]
  },
  {
   "cell_type": "markdown",
   "id": "e023c4e0",
   "metadata": {},
   "source": [
    "# Phase 2 -5 - Bogota 2 ( Solution Transparency )"
   ]
  },
  {
   "cell_type": "code",
   "execution_count": 62,
   "id": "49b5222b",
   "metadata": {},
   "outputs": [
    {
     "data": {
      "text/html": [
       "<div>\n",
       "<style scoped>\n",
       "    .dataframe tbody tr th:only-of-type {\n",
       "        vertical-align: middle;\n",
       "    }\n",
       "\n",
       "    .dataframe tbody tr th {\n",
       "        vertical-align: top;\n",
       "    }\n",
       "\n",
       "    .dataframe thead th {\n",
       "        text-align: right;\n",
       "    }\n",
       "</style>\n",
       "<table border=\"1\" class=\"dataframe\">\n",
       "  <thead>\n",
       "    <tr style=\"text-align: right;\">\n",
       "      <th></th>\n",
       "      <th>Project</th>\n",
       "      <th>Unnamed: 1</th>\n",
       "      <th>Unnamed: 2</th>\n",
       "    </tr>\n",
       "  </thead>\n",
       "  <tbody>\n",
       "    <tr>\n",
       "      <th>0</th>\n",
       "      <td>xdanielsb</td>\n",
       "      <td>NaN</td>\n",
       "      <td>NaN</td>\n",
       "    </tr>\n",
       "    <tr>\n",
       "      <th>1</th>\n",
       "      <td>Gantiva</td>\n",
       "      <td>NaN</td>\n",
       "      <td>NaN</td>\n",
       "    </tr>\n",
       "    <tr>\n",
       "      <th>2</th>\n",
       "      <td>leguzman</td>\n",
       "      <td>NaN</td>\n",
       "      <td>NaN</td>\n",
       "    </tr>\n",
       "    <tr>\n",
       "      <th>3</th>\n",
       "      <td>juasmartinezbel</td>\n",
       "      <td>NaN</td>\n",
       "      <td>NaN</td>\n",
       "    </tr>\n",
       "    <tr>\n",
       "      <th>4</th>\n",
       "      <td>cesarochoa2006</td>\n",
       "      <td>NaN</td>\n",
       "      <td>NaN</td>\n",
       "    </tr>\n",
       "  </tbody>\n",
       "</table>\n",
       "</div>"
      ],
      "text/plain": [
       "           Project  Unnamed: 1  Unnamed: 2\n",
       "0        xdanielsb         NaN         NaN\n",
       "1          Gantiva         NaN         NaN\n",
       "2         leguzman         NaN         NaN\n",
       "3  juasmartinezbel         NaN         NaN\n",
       "4   cesarochoa2006         NaN         NaN"
      ]
     },
     "execution_count": 62,
     "metadata": {},
     "output_type": "execute_result"
    }
   ],
   "source": [
    "df2 = pd.read_csv('./data/bogota-2.csv')\n",
    "df2.head(5)"
   ]
  },
  {
   "cell_type": "code",
   "execution_count": 63,
   "id": "0dc35691",
   "metadata": {},
   "outputs": [
    {
     "data": {
      "text/html": [
       "<div>\n",
       "<style scoped>\n",
       "    .dataframe tbody tr th:only-of-type {\n",
       "        vertical-align: middle;\n",
       "    }\n",
       "\n",
       "    .dataframe tbody tr th {\n",
       "        vertical-align: top;\n",
       "    }\n",
       "\n",
       "    .dataframe thead th {\n",
       "        text-align: right;\n",
       "    }\n",
       "</style>\n",
       "<table border=\"1\" class=\"dataframe\">\n",
       "  <thead>\n",
       "    <tr style=\"text-align: right;\">\n",
       "      <th></th>\n",
       "      <th>change</th>\n",
       "      <th>addition</th>\n",
       "      <th>delete</th>\n",
       "      <th>username</th>\n",
       "      <th>change-revised</th>\n",
       "      <th>add-revised</th>\n",
       "      <th>delete-revised</th>\n",
       "      <th>bogota-3</th>\n",
       "      <th>bogota-2</th>\n",
       "    </tr>\n",
       "  </thead>\n",
       "  <tbody>\n",
       "    <tr>\n",
       "      <th>0</th>\n",
       "      <td>2 files changed</td>\n",
       "      <td>104 insertions(+)</td>\n",
       "      <td>121 deletions(-)</td>\n",
       "      <td>adamantwharf</td>\n",
       "      <td>2</td>\n",
       "      <td>104</td>\n",
       "      <td>121</td>\n",
       "      <td>0</td>\n",
       "      <td>False</td>\n",
       "    </tr>\n",
       "    <tr>\n",
       "      <th>1</th>\n",
       "      <td>3 files changed</td>\n",
       "      <td>67 insertions(+)</td>\n",
       "      <td>41 deletions(-)</td>\n",
       "      <td>adriel62</td>\n",
       "      <td>3</td>\n",
       "      <td>67</td>\n",
       "      <td>41</td>\n",
       "      <td>1</td>\n",
       "      <td>False</td>\n",
       "    </tr>\n",
       "    <tr>\n",
       "      <th>2</th>\n",
       "      <td>0 files changed</td>\n",
       "      <td>NaN</td>\n",
       "      <td>NaN</td>\n",
       "      <td>afceballosr</td>\n",
       "      <td>0</td>\n",
       "      <td>0</td>\n",
       "      <td>0</td>\n",
       "      <td>1</td>\n",
       "      <td>False</td>\n",
       "    </tr>\n",
       "    <tr>\n",
       "      <th>3</th>\n",
       "      <td>0 files changed</td>\n",
       "      <td>NaN</td>\n",
       "      <td>NaN</td>\n",
       "      <td>AFelipeGA</td>\n",
       "      <td>0</td>\n",
       "      <td>0</td>\n",
       "      <td>0</td>\n",
       "      <td>1</td>\n",
       "      <td>False</td>\n",
       "    </tr>\n",
       "    <tr>\n",
       "      <th>4</th>\n",
       "      <td>3 files changed</td>\n",
       "      <td>14 insertions(+)</td>\n",
       "      <td>111 deletions(-)</td>\n",
       "      <td>afforeroc</td>\n",
       "      <td>3</td>\n",
       "      <td>14</td>\n",
       "      <td>111</td>\n",
       "      <td>1</td>\n",
       "      <td>False</td>\n",
       "    </tr>\n",
       "  </tbody>\n",
       "</table>\n",
       "</div>"
      ],
      "text/plain": [
       "             change            addition             delete      username  \\\n",
       "0   2 files changed   104 insertions(+)   121 deletions(-)  adamantwharf   \n",
       "1   3 files changed    67 insertions(+)    41 deletions(-)      adriel62   \n",
       "2   0 files changed                 NaN                NaN   afceballosr   \n",
       "3   0 files changed                 NaN                NaN     AFelipeGA   \n",
       "4   3 files changed    14 insertions(+)   111 deletions(-)     afforeroc   \n",
       "\n",
       "  change-revised add-revised delete-revised  bogota-3  bogota-2  \n",
       "0              2         104            121         0     False  \n",
       "1              3          67             41         1     False  \n",
       "2              0           0              0         1     False  \n",
       "3              0           0              0         1     False  \n",
       "4              3          14            111         1     False  "
      ]
     },
     "execution_count": 63,
     "metadata": {},
     "output_type": "execute_result"
    }
   ],
   "source": [
    "df_phase25['bogota-2'] = df_phase25['username'].isin(df2['Project'])\n",
    "df_phase25.head(5)"
   ]
  },
  {
   "cell_type": "code",
   "execution_count": 64,
   "id": "3ef881be",
   "metadata": {},
   "outputs": [
    {
     "data": {
      "text/html": [
       "<div>\n",
       "<style scoped>\n",
       "    .dataframe tbody tr th:only-of-type {\n",
       "        vertical-align: middle;\n",
       "    }\n",
       "\n",
       "    .dataframe tbody tr th {\n",
       "        vertical-align: top;\n",
       "    }\n",
       "\n",
       "    .dataframe thead th {\n",
       "        text-align: right;\n",
       "    }\n",
       "</style>\n",
       "<table border=\"1\" class=\"dataframe\">\n",
       "  <thead>\n",
       "    <tr style=\"text-align: right;\">\n",
       "      <th></th>\n",
       "      <th>change</th>\n",
       "      <th>addition</th>\n",
       "      <th>delete</th>\n",
       "      <th>username</th>\n",
       "      <th>change-revised</th>\n",
       "      <th>add-revised</th>\n",
       "      <th>delete-revised</th>\n",
       "      <th>bogota-3</th>\n",
       "      <th>bogota-2</th>\n",
       "    </tr>\n",
       "  </thead>\n",
       "  <tbody>\n",
       "    <tr>\n",
       "      <th>0</th>\n",
       "      <td>2 files changed</td>\n",
       "      <td>104 insertions(+)</td>\n",
       "      <td>121 deletions(-)</td>\n",
       "      <td>adamantwharf</td>\n",
       "      <td>2</td>\n",
       "      <td>104</td>\n",
       "      <td>121</td>\n",
       "      <td>0</td>\n",
       "      <td>0</td>\n",
       "    </tr>\n",
       "    <tr>\n",
       "      <th>1</th>\n",
       "      <td>3 files changed</td>\n",
       "      <td>67 insertions(+)</td>\n",
       "      <td>41 deletions(-)</td>\n",
       "      <td>adriel62</td>\n",
       "      <td>3</td>\n",
       "      <td>67</td>\n",
       "      <td>41</td>\n",
       "      <td>1</td>\n",
       "      <td>0</td>\n",
       "    </tr>\n",
       "    <tr>\n",
       "      <th>2</th>\n",
       "      <td>0 files changed</td>\n",
       "      <td>NaN</td>\n",
       "      <td>NaN</td>\n",
       "      <td>afceballosr</td>\n",
       "      <td>0</td>\n",
       "      <td>0</td>\n",
       "      <td>0</td>\n",
       "      <td>1</td>\n",
       "      <td>0</td>\n",
       "    </tr>\n",
       "    <tr>\n",
       "      <th>3</th>\n",
       "      <td>0 files changed</td>\n",
       "      <td>NaN</td>\n",
       "      <td>NaN</td>\n",
       "      <td>AFelipeGA</td>\n",
       "      <td>0</td>\n",
       "      <td>0</td>\n",
       "      <td>0</td>\n",
       "      <td>1</td>\n",
       "      <td>0</td>\n",
       "    </tr>\n",
       "    <tr>\n",
       "      <th>4</th>\n",
       "      <td>3 files changed</td>\n",
       "      <td>14 insertions(+)</td>\n",
       "      <td>111 deletions(-)</td>\n",
       "      <td>afforeroc</td>\n",
       "      <td>3</td>\n",
       "      <td>14</td>\n",
       "      <td>111</td>\n",
       "      <td>1</td>\n",
       "      <td>0</td>\n",
       "    </tr>\n",
       "  </tbody>\n",
       "</table>\n",
       "</div>"
      ],
      "text/plain": [
       "             change            addition             delete      username  \\\n",
       "0   2 files changed   104 insertions(+)   121 deletions(-)  adamantwharf   \n",
       "1   3 files changed    67 insertions(+)    41 deletions(-)      adriel62   \n",
       "2   0 files changed                 NaN                NaN   afceballosr   \n",
       "3   0 files changed                 NaN                NaN     AFelipeGA   \n",
       "4   3 files changed    14 insertions(+)   111 deletions(-)     afforeroc   \n",
       "\n",
       "  change-revised add-revised delete-revised  bogota-3  bogota-2  \n",
       "0              2         104            121         0         0  \n",
       "1              3          67             41         1         0  \n",
       "2              0           0              0         1         0  \n",
       "3              0           0              0         1         0  \n",
       "4              3          14            111         1         0  "
      ]
     },
     "execution_count": 64,
     "metadata": {},
     "output_type": "execute_result"
    }
   ],
   "source": [
    "df_phase25[\"bogota-2\"] = df_phase25[\"bogota-2\"].astype(int)\n",
    "df_phase25.head(5)"
   ]
  },
  {
   "cell_type": "code",
   "execution_count": 65,
   "id": "2544a974",
   "metadata": {},
   "outputs": [
    {
     "data": {
      "text/html": [
       "<div>\n",
       "<style scoped>\n",
       "    .dataframe tbody tr th:only-of-type {\n",
       "        vertical-align: middle;\n",
       "    }\n",
       "\n",
       "    .dataframe tbody tr th {\n",
       "        vertical-align: top;\n",
       "    }\n",
       "\n",
       "    .dataframe thead th {\n",
       "        text-align: right;\n",
       "    }\n",
       "</style>\n",
       "<table border=\"1\" class=\"dataframe\">\n",
       "  <thead>\n",
       "    <tr style=\"text-align: right;\">\n",
       "      <th></th>\n",
       "      <th>change</th>\n",
       "      <th>addition</th>\n",
       "      <th>delete</th>\n",
       "      <th>username</th>\n",
       "      <th>change-revised</th>\n",
       "      <th>add-revised</th>\n",
       "      <th>delete-revised</th>\n",
       "      <th>bogota-3</th>\n",
       "      <th>bogota-2</th>\n",
       "    </tr>\n",
       "  </thead>\n",
       "  <tbody>\n",
       "    <tr>\n",
       "      <th>11</th>\n",
       "      <td>2 files changed</td>\n",
       "      <td>3 insertions(+)</td>\n",
       "      <td>4 deletions(-)</td>\n",
       "      <td>bdvegat</td>\n",
       "      <td>2</td>\n",
       "      <td>3</td>\n",
       "      <td>4</td>\n",
       "      <td>0</td>\n",
       "      <td>1</td>\n",
       "    </tr>\n",
       "    <tr>\n",
       "      <th>12</th>\n",
       "      <td>8 files changed</td>\n",
       "      <td>NaN</td>\n",
       "      <td>NaN</td>\n",
       "      <td>begarzonf</td>\n",
       "      <td>8</td>\n",
       "      <td>0</td>\n",
       "      <td>0</td>\n",
       "      <td>0</td>\n",
       "      <td>1</td>\n",
       "    </tr>\n",
       "    <tr>\n",
       "      <th>21</th>\n",
       "      <td>1 file changed</td>\n",
       "      <td>1 insertion(+)</td>\n",
       "      <td>1 deletion(-)</td>\n",
       "      <td>ccvacad</td>\n",
       "      <td>1</td>\n",
       "      <td>1</td>\n",
       "      <td>1</td>\n",
       "      <td>0</td>\n",
       "      <td>1</td>\n",
       "    </tr>\n",
       "    <tr>\n",
       "      <th>23</th>\n",
       "      <td>0 files changed</td>\n",
       "      <td>NaN</td>\n",
       "      <td>NaN</td>\n",
       "      <td>cesarochoa2006</td>\n",
       "      <td>0</td>\n",
       "      <td>0</td>\n",
       "      <td>0</td>\n",
       "      <td>0</td>\n",
       "      <td>1</td>\n",
       "    </tr>\n",
       "    <tr>\n",
       "      <th>26</th>\n",
       "      <td>0 files changed</td>\n",
       "      <td>NaN</td>\n",
       "      <td>NaN</td>\n",
       "      <td>crarojasca</td>\n",
       "      <td>0</td>\n",
       "      <td>0</td>\n",
       "      <td>0</td>\n",
       "      <td>0</td>\n",
       "      <td>1</td>\n",
       "    </tr>\n",
       "  </tbody>\n",
       "</table>\n",
       "</div>"
      ],
      "text/plain": [
       "              change          addition           delete        username  \\\n",
       "11   2 files changed   3 insertions(+)   4 deletions(-)         bdvegat   \n",
       "12   8 files changed               NaN              NaN       begarzonf   \n",
       "21    1 file changed    1 insertion(+)    1 deletion(-)         ccvacad   \n",
       "23   0 files changed               NaN              NaN  cesarochoa2006   \n",
       "26   0 files changed               NaN              NaN      crarojasca   \n",
       "\n",
       "   change-revised add-revised delete-revised  bogota-3  bogota-2  \n",
       "11              2           3              4         0         1  \n",
       "12              8           0              0         0         1  \n",
       "21              1           1              1         0         1  \n",
       "23              0           0              0         0         1  \n",
       "26              0           0              0         0         1  "
      ]
     },
     "execution_count": 65,
     "metadata": {},
     "output_type": "execute_result"
    }
   ],
   "source": [
    "df2_phase25 = df_phase25.loc[df_phase25['bogota-2'] == 1]\n",
    "df2_phase25.head(5)"
   ]
  },
  {
   "cell_type": "code",
   "execution_count": 66,
   "id": "5d1527e2",
   "metadata": {},
   "outputs": [],
   "source": [
    "df2_phase25.to_csv('df2_phase25_loc.csv')"
   ]
  },
  {
   "cell_type": "code",
   "execution_count": 67,
   "id": "1a54bc23",
   "metadata": {},
   "outputs": [
    {
     "name": "stdout",
     "output_type": "stream",
     "text": [
      "41\n"
     ]
    }
   ],
   "source": [
    "print(len(df2_phase25.index))"
   ]
  },
  {
   "cell_type": "code",
   "execution_count": 68,
   "id": "5352d2dd",
   "metadata": {},
   "outputs": [
    {
     "name": "stderr",
     "output_type": "stream",
     "text": [
      "<ipython-input-68-eb3a01be02ec>:1: SettingWithCopyWarning: \n",
      "A value is trying to be set on a copy of a slice from a DataFrame.\n",
      "Try using .loc[row_indexer,col_indexer] = value instead\n",
      "\n",
      "See the caveats in the documentation: https://pandas.pydata.org/pandas-docs/stable/user_guide/indexing.html#returning-a-view-versus-a-copy\n",
      "  df2_phase25['change-revised'] = pd.to_numeric(df2_phase25['change-revised'])\n"
     ]
    }
   ],
   "source": [
    "df2_phase25['change-revised'] = pd.to_numeric(df2_phase25['change-revised'])\n",
    "mean2_25_change = df2_phase25['change-revised'].mean()\n",
    "median2_25_change = df2_phase25['change-revised'].median()\n",
    "std2_25_change = df2_phase25['change-revised'].std()\n",
    "max2_25_change = df2_phase25['change-revised'].max()\n",
    "min2_25_change = df2_phase25['change-revised'].min()"
   ]
  },
  {
   "cell_type": "code",
   "execution_count": 69,
   "id": "69e4a1b6",
   "metadata": {},
   "outputs": [
    {
     "name": "stderr",
     "output_type": "stream",
     "text": [
      "<ipython-input-69-8c2042d2fa2a>:1: SettingWithCopyWarning: \n",
      "A value is trying to be set on a copy of a slice from a DataFrame.\n",
      "Try using .loc[row_indexer,col_indexer] = value instead\n",
      "\n",
      "See the caveats in the documentation: https://pandas.pydata.org/pandas-docs/stable/user_guide/indexing.html#returning-a-view-versus-a-copy\n",
      "  df2_phase25['delete-revised'] = pd.to_numeric(df2_phase25['delete-revised'])\n"
     ]
    },
    {
     "data": {
      "text/plain": [
       "array([  4,   0,   1,   0,   0,  68,   0,  26,   7,   0, 938,  96,  57,\n",
       "        10,   0,   0,  32,  93,   0,  46, 147,  13,   0, 122,   0,   0,\n",
       "       144, 749,   9,  37,  13,   0,   0,  27,   0,  37, 120,   0,  97,\n",
       "       236, 140])"
      ]
     },
     "execution_count": 69,
     "metadata": {},
     "output_type": "execute_result"
    }
   ],
   "source": [
    "df2_phase25['delete-revised'] = pd.to_numeric(df2_phase25['delete-revised'])\n",
    "mean2_25_delete = df2_phase25['delete-revised'].mean()\n",
    "median2_25_delete = df2_phase25['delete-revised'].median()\n",
    "std2_25_delete = df2_phase25['delete-revised'].std()\n",
    "max2_25_delete = df2_phase25['delete-revised'].max()\n",
    "min2_25_delete = df2_phase25['delete-revised'].min()\n",
    "\n",
    "df2_delete = df2_phase25['delete-revised']\n",
    "df2_delete.values"
   ]
  },
  {
   "cell_type": "code",
   "execution_count": 70,
   "id": "eff439e8",
   "metadata": {},
   "outputs": [
    {
     "name": "stderr",
     "output_type": "stream",
     "text": [
      "<ipython-input-70-4825c8430755>:1: SettingWithCopyWarning: \n",
      "A value is trying to be set on a copy of a slice from a DataFrame.\n",
      "Try using .loc[row_indexer,col_indexer] = value instead\n",
      "\n",
      "See the caveats in the documentation: https://pandas.pydata.org/pandas-docs/stable/user_guide/indexing.html#returning-a-view-versus-a-copy\n",
      "  df2_phase25['add-revised'] = pd.to_numeric(df2_phase25['add-revised'])\n"
     ]
    },
    {
     "data": {
      "text/plain": [
       "array([  3,   0,   1,   0,   0,  61,   0,   2,   7,   0, 106, 141,   5,\n",
       "         7,   0,   0,   6,  24,   0,  51, 181,   1,   0,  63,   0,   0,\n",
       "       101,  86,   2,  16,   2,   0,   0,   9,   0,  22,  25,   0,  12,\n",
       "        81,  17])"
      ]
     },
     "execution_count": 70,
     "metadata": {},
     "output_type": "execute_result"
    }
   ],
   "source": [
    "df2_phase25['add-revised'] = pd.to_numeric(df2_phase25['add-revised'])\n",
    "df2_phase25['add-revised'].mean()\n",
    "\n",
    "mean2_25_add = df2_phase25['add-revised'].mean()\n",
    "median2_25_add = df2_phase25['add-revised'].median()\n",
    "std2_25_add = df2_phase25['add-revised'].std()\n",
    "max2_25_add = df2_phase25['add-revised'].max()\n",
    "min2_25_add = df2_phase25['add-revised'].min()\n",
    "df2_add = df2_phase25['add-revised']\n",
    "df2_add.values"
   ]
  },
  {
   "cell_type": "code",
   "execution_count": 71,
   "id": "ba482b59",
   "metadata": {},
   "outputs": [
    {
     "name": "stderr",
     "output_type": "stream",
     "text": [
      "<ipython-input-71-0f7f0d9ca5fa>:1: SettingWithCopyWarning: \n",
      "A value is trying to be set on a copy of a slice from a DataFrame.\n",
      "Try using .loc[row_indexer,col_indexer] = value instead\n",
      "\n",
      "See the caveats in the documentation: https://pandas.pydata.org/pandas-docs/stable/user_guide/indexing.html#returning-a-view-versus-a-copy\n",
      "  df2_phase25['add-revised'] = df2_phase25['add-revised'].astype(float)\n",
      "<ipython-input-71-0f7f0d9ca5fa>:2: SettingWithCopyWarning: \n",
      "A value is trying to be set on a copy of a slice from a DataFrame.\n",
      "Try using .loc[row_indexer,col_indexer] = value instead\n",
      "\n",
      "See the caveats in the documentation: https://pandas.pydata.org/pandas-docs/stable/user_guide/indexing.html#returning-a-view-versus-a-copy\n",
      "  df2_phase25['delete-revised'] = df2_phase25['delete-revised'].astype(float)\n",
      "<ipython-input-71-0f7f0d9ca5fa>:3: SettingWithCopyWarning: \n",
      "A value is trying to be set on a copy of a slice from a DataFrame.\n",
      "Try using .loc[row_indexer,col_indexer] = value instead\n",
      "\n",
      "See the caveats in the documentation: https://pandas.pydata.org/pandas-docs/stable/user_guide/indexing.html#returning-a-view-versus-a-copy\n",
      "  df2_phase25['effort'] = df2_phase25['add-revised'] - 0.5 * df2_phase25['delete-revised']\n"
     ]
    }
   ],
   "source": [
    "df2_phase25['add-revised'] = df2_phase25['add-revised'].astype(float)\n",
    "df2_phase25['delete-revised'] = df2_phase25['delete-revised'].astype(float)\n",
    "df2_phase25['effort'] = df2_phase25['add-revised'] - 0.5 * df2_phase25['delete-revised']\n",
    "mean2_25_effort = df2_phase25['effort'].mean() \n",
    "median2_25_effort = df2_phase25['effort'].median()\n",
    "std2_25_effort = df2_phase25['effort'].std()\n",
    "max2_25_effort = df2_phase25['effort'].max()\n",
    "min2_25_effort = df2_phase25['effort'].min()"
   ]
  },
  {
   "cell_type": "code",
   "execution_count": 73,
   "id": "f268d864",
   "metadata": {},
   "outputs": [
    {
     "data": {
      "text/plain": [
       "array([   1. ,    0. ,    0.5,    0. ,    0. ,   27. ,    0. ,  -11. ,\n",
       "          3.5,    0. , -363. ,   93. ,  -23.5,    2. ,    0. ,    0. ,\n",
       "        -10. ,  -22.5,    0. ,   28. ,  107.5,   -5.5,    0. ,    2. ,\n",
       "          0. ,    0. ,   29. , -288.5,   -2.5,   -2.5,   -4.5,    0. ,\n",
       "          0. ,   -4.5,    0. ,    3.5,  -35. ,    0. ,  -36.5,  -37. ,\n",
       "        -53. ])"
      ]
     },
     "execution_count": 73,
     "metadata": {},
     "output_type": "execute_result"
    }
   ],
   "source": [
    "import numpy as np\n",
    "np.set_printoptions(suppress=True)\n",
    "diff2 = df2_phase25['add-revised'] - 0.5 * df2_phase25['delete-revised']\n",
    "diff2.values"
   ]
  },
  {
   "cell_type": "markdown",
   "id": "298cb17f",
   "metadata": {},
   "source": [
    "# Phase 2 - 5 - Bogota 1 ( Performance Transparency )"
   ]
  },
  {
   "cell_type": "code",
   "execution_count": 74,
   "id": "ddc80d62",
   "metadata": {},
   "outputs": [
    {
     "name": "stdout",
     "output_type": "stream",
     "text": [
      "43\n"
     ]
    }
   ],
   "source": [
    "df1 = pd.read_csv('./data/bogota-1.csv')\n",
    "df1.head(5)\n",
    "print(len(df1.index))"
   ]
  },
  {
   "cell_type": "code",
   "execution_count": 75,
   "id": "a6ef1d41",
   "metadata": {},
   "outputs": [
    {
     "data": {
      "text/html": [
       "<div>\n",
       "<style scoped>\n",
       "    .dataframe tbody tr th:only-of-type {\n",
       "        vertical-align: middle;\n",
       "    }\n",
       "\n",
       "    .dataframe tbody tr th {\n",
       "        vertical-align: top;\n",
       "    }\n",
       "\n",
       "    .dataframe thead th {\n",
       "        text-align: right;\n",
       "    }\n",
       "</style>\n",
       "<table border=\"1\" class=\"dataframe\">\n",
       "  <thead>\n",
       "    <tr style=\"text-align: right;\">\n",
       "      <th></th>\n",
       "      <th>change</th>\n",
       "      <th>addition</th>\n",
       "      <th>delete</th>\n",
       "      <th>username</th>\n",
       "      <th>change-revised</th>\n",
       "      <th>add-revised</th>\n",
       "      <th>delete-revised</th>\n",
       "      <th>bogota-3</th>\n",
       "      <th>bogota-2</th>\n",
       "      <th>bogota-1</th>\n",
       "    </tr>\n",
       "  </thead>\n",
       "  <tbody>\n",
       "    <tr>\n",
       "      <th>0</th>\n",
       "      <td>2 files changed</td>\n",
       "      <td>104 insertions(+)</td>\n",
       "      <td>121 deletions(-)</td>\n",
       "      <td>adamantwharf</td>\n",
       "      <td>2</td>\n",
       "      <td>104</td>\n",
       "      <td>121</td>\n",
       "      <td>0</td>\n",
       "      <td>0</td>\n",
       "      <td>True</td>\n",
       "    </tr>\n",
       "    <tr>\n",
       "      <th>1</th>\n",
       "      <td>3 files changed</td>\n",
       "      <td>67 insertions(+)</td>\n",
       "      <td>41 deletions(-)</td>\n",
       "      <td>adriel62</td>\n",
       "      <td>3</td>\n",
       "      <td>67</td>\n",
       "      <td>41</td>\n",
       "      <td>1</td>\n",
       "      <td>0</td>\n",
       "      <td>False</td>\n",
       "    </tr>\n",
       "    <tr>\n",
       "      <th>2</th>\n",
       "      <td>0 files changed</td>\n",
       "      <td>NaN</td>\n",
       "      <td>NaN</td>\n",
       "      <td>afceballosr</td>\n",
       "      <td>0</td>\n",
       "      <td>0</td>\n",
       "      <td>0</td>\n",
       "      <td>1</td>\n",
       "      <td>0</td>\n",
       "      <td>False</td>\n",
       "    </tr>\n",
       "    <tr>\n",
       "      <th>3</th>\n",
       "      <td>0 files changed</td>\n",
       "      <td>NaN</td>\n",
       "      <td>NaN</td>\n",
       "      <td>AFelipeGA</td>\n",
       "      <td>0</td>\n",
       "      <td>0</td>\n",
       "      <td>0</td>\n",
       "      <td>1</td>\n",
       "      <td>0</td>\n",
       "      <td>False</td>\n",
       "    </tr>\n",
       "    <tr>\n",
       "      <th>4</th>\n",
       "      <td>3 files changed</td>\n",
       "      <td>14 insertions(+)</td>\n",
       "      <td>111 deletions(-)</td>\n",
       "      <td>afforeroc</td>\n",
       "      <td>3</td>\n",
       "      <td>14</td>\n",
       "      <td>111</td>\n",
       "      <td>1</td>\n",
       "      <td>0</td>\n",
       "      <td>False</td>\n",
       "    </tr>\n",
       "  </tbody>\n",
       "</table>\n",
       "</div>"
      ],
      "text/plain": [
       "             change            addition             delete      username  \\\n",
       "0   2 files changed   104 insertions(+)   121 deletions(-)  adamantwharf   \n",
       "1   3 files changed    67 insertions(+)    41 deletions(-)      adriel62   \n",
       "2   0 files changed                 NaN                NaN   afceballosr   \n",
       "3   0 files changed                 NaN                NaN     AFelipeGA   \n",
       "4   3 files changed    14 insertions(+)   111 deletions(-)     afforeroc   \n",
       "\n",
       "  change-revised add-revised delete-revised  bogota-3  bogota-2  bogota-1  \n",
       "0              2         104            121         0         0      True  \n",
       "1              3          67             41         1         0     False  \n",
       "2              0           0              0         1         0     False  \n",
       "3              0           0              0         1         0     False  \n",
       "4              3          14            111         1         0     False  "
      ]
     },
     "execution_count": 75,
     "metadata": {},
     "output_type": "execute_result"
    }
   ],
   "source": [
    "df_phase25['bogota-1'] = df_phase25['username'].isin(df1['Project'])\n",
    "df_phase25.head(5)"
   ]
  },
  {
   "cell_type": "code",
   "execution_count": 76,
   "id": "70e1687e",
   "metadata": {},
   "outputs": [
    {
     "data": {
      "text/html": [
       "<div>\n",
       "<style scoped>\n",
       "    .dataframe tbody tr th:only-of-type {\n",
       "        vertical-align: middle;\n",
       "    }\n",
       "\n",
       "    .dataframe tbody tr th {\n",
       "        vertical-align: top;\n",
       "    }\n",
       "\n",
       "    .dataframe thead th {\n",
       "        text-align: right;\n",
       "    }\n",
       "</style>\n",
       "<table border=\"1\" class=\"dataframe\">\n",
       "  <thead>\n",
       "    <tr style=\"text-align: right;\">\n",
       "      <th></th>\n",
       "      <th>change</th>\n",
       "      <th>addition</th>\n",
       "      <th>delete</th>\n",
       "      <th>username</th>\n",
       "      <th>change-revised</th>\n",
       "      <th>add-revised</th>\n",
       "      <th>delete-revised</th>\n",
       "      <th>bogota-3</th>\n",
       "      <th>bogota-2</th>\n",
       "      <th>bogota-1</th>\n",
       "    </tr>\n",
       "  </thead>\n",
       "  <tbody>\n",
       "    <tr>\n",
       "      <th>0</th>\n",
       "      <td>2 files changed</td>\n",
       "      <td>104 insertions(+)</td>\n",
       "      <td>121 deletions(-)</td>\n",
       "      <td>adamantwharf</td>\n",
       "      <td>2</td>\n",
       "      <td>104</td>\n",
       "      <td>121</td>\n",
       "      <td>0</td>\n",
       "      <td>0</td>\n",
       "      <td>1</td>\n",
       "    </tr>\n",
       "    <tr>\n",
       "      <th>1</th>\n",
       "      <td>3 files changed</td>\n",
       "      <td>67 insertions(+)</td>\n",
       "      <td>41 deletions(-)</td>\n",
       "      <td>adriel62</td>\n",
       "      <td>3</td>\n",
       "      <td>67</td>\n",
       "      <td>41</td>\n",
       "      <td>1</td>\n",
       "      <td>0</td>\n",
       "      <td>0</td>\n",
       "    </tr>\n",
       "    <tr>\n",
       "      <th>2</th>\n",
       "      <td>0 files changed</td>\n",
       "      <td>NaN</td>\n",
       "      <td>NaN</td>\n",
       "      <td>afceballosr</td>\n",
       "      <td>0</td>\n",
       "      <td>0</td>\n",
       "      <td>0</td>\n",
       "      <td>1</td>\n",
       "      <td>0</td>\n",
       "      <td>0</td>\n",
       "    </tr>\n",
       "    <tr>\n",
       "      <th>3</th>\n",
       "      <td>0 files changed</td>\n",
       "      <td>NaN</td>\n",
       "      <td>NaN</td>\n",
       "      <td>AFelipeGA</td>\n",
       "      <td>0</td>\n",
       "      <td>0</td>\n",
       "      <td>0</td>\n",
       "      <td>1</td>\n",
       "      <td>0</td>\n",
       "      <td>0</td>\n",
       "    </tr>\n",
       "    <tr>\n",
       "      <th>4</th>\n",
       "      <td>3 files changed</td>\n",
       "      <td>14 insertions(+)</td>\n",
       "      <td>111 deletions(-)</td>\n",
       "      <td>afforeroc</td>\n",
       "      <td>3</td>\n",
       "      <td>14</td>\n",
       "      <td>111</td>\n",
       "      <td>1</td>\n",
       "      <td>0</td>\n",
       "      <td>0</td>\n",
       "    </tr>\n",
       "  </tbody>\n",
       "</table>\n",
       "</div>"
      ],
      "text/plain": [
       "             change            addition             delete      username  \\\n",
       "0   2 files changed   104 insertions(+)   121 deletions(-)  adamantwharf   \n",
       "1   3 files changed    67 insertions(+)    41 deletions(-)      adriel62   \n",
       "2   0 files changed                 NaN                NaN   afceballosr   \n",
       "3   0 files changed                 NaN                NaN     AFelipeGA   \n",
       "4   3 files changed    14 insertions(+)   111 deletions(-)     afforeroc   \n",
       "\n",
       "  change-revised add-revised delete-revised  bogota-3  bogota-2  bogota-1  \n",
       "0              2         104            121         0         0         1  \n",
       "1              3          67             41         1         0         0  \n",
       "2              0           0              0         1         0         0  \n",
       "3              0           0              0         1         0         0  \n",
       "4              3          14            111         1         0         0  "
      ]
     },
     "execution_count": 76,
     "metadata": {},
     "output_type": "execute_result"
    }
   ],
   "source": [
    "df_phase25[\"bogota-1\"] = df_phase25[\"bogota-1\"].astype(int)\n",
    "df_phase25.head(5)"
   ]
  },
  {
   "cell_type": "code",
   "execution_count": 77,
   "id": "a846d9e4",
   "metadata": {},
   "outputs": [
    {
     "data": {
      "text/html": [
       "<div>\n",
       "<style scoped>\n",
       "    .dataframe tbody tr th:only-of-type {\n",
       "        vertical-align: middle;\n",
       "    }\n",
       "\n",
       "    .dataframe tbody tr th {\n",
       "        vertical-align: top;\n",
       "    }\n",
       "\n",
       "    .dataframe thead th {\n",
       "        text-align: right;\n",
       "    }\n",
       "</style>\n",
       "<table border=\"1\" class=\"dataframe\">\n",
       "  <thead>\n",
       "    <tr style=\"text-align: right;\">\n",
       "      <th></th>\n",
       "      <th>change</th>\n",
       "      <th>addition</th>\n",
       "      <th>delete</th>\n",
       "      <th>username</th>\n",
       "      <th>change-revised</th>\n",
       "      <th>add-revised</th>\n",
       "      <th>delete-revised</th>\n",
       "      <th>bogota-3</th>\n",
       "      <th>bogota-2</th>\n",
       "      <th>bogota-1</th>\n",
       "    </tr>\n",
       "  </thead>\n",
       "  <tbody>\n",
       "    <tr>\n",
       "      <th>0</th>\n",
       "      <td>2 files changed</td>\n",
       "      <td>104 insertions(+)</td>\n",
       "      <td>121 deletions(-)</td>\n",
       "      <td>adamantwharf</td>\n",
       "      <td>2</td>\n",
       "      <td>104</td>\n",
       "      <td>121</td>\n",
       "      <td>0</td>\n",
       "      <td>0</td>\n",
       "      <td>1</td>\n",
       "    </tr>\n",
       "    <tr>\n",
       "      <th>5</th>\n",
       "      <td>2 files changed</td>\n",
       "      <td>4 insertions(+)</td>\n",
       "      <td>49 deletions(-)</td>\n",
       "      <td>aldiazve</td>\n",
       "      <td>2</td>\n",
       "      <td>4</td>\n",
       "      <td>49</td>\n",
       "      <td>0</td>\n",
       "      <td>0</td>\n",
       "      <td>1</td>\n",
       "    </tr>\n",
       "    <tr>\n",
       "      <th>6</th>\n",
       "      <td>3 files changed</td>\n",
       "      <td>40 insertions(+)</td>\n",
       "      <td>47 deletions(-)</td>\n",
       "      <td>andfsanchezlem</td>\n",
       "      <td>3</td>\n",
       "      <td>40</td>\n",
       "      <td>47</td>\n",
       "      <td>0</td>\n",
       "      <td>0</td>\n",
       "      <td>1</td>\n",
       "    </tr>\n",
       "    <tr>\n",
       "      <th>7</th>\n",
       "      <td>12 files changed</td>\n",
       "      <td>55 insertions(+)</td>\n",
       "      <td>162 deletions(-)</td>\n",
       "      <td>anfmorenoso</td>\n",
       "      <td>12</td>\n",
       "      <td>55</td>\n",
       "      <td>162</td>\n",
       "      <td>0</td>\n",
       "      <td>0</td>\n",
       "      <td>1</td>\n",
       "    </tr>\n",
       "    <tr>\n",
       "      <th>10</th>\n",
       "      <td>3 files changed</td>\n",
       "      <td>25 insertions(+)</td>\n",
       "      <td>50 deletions(-)</td>\n",
       "      <td>bdcajicam</td>\n",
       "      <td>3</td>\n",
       "      <td>25</td>\n",
       "      <td>50</td>\n",
       "      <td>0</td>\n",
       "      <td>0</td>\n",
       "      <td>1</td>\n",
       "    </tr>\n",
       "  </tbody>\n",
       "</table>\n",
       "</div>"
      ],
      "text/plain": [
       "               change            addition             delete        username  \\\n",
       "0     2 files changed   104 insertions(+)   121 deletions(-)    adamantwharf   \n",
       "5     2 files changed     4 insertions(+)    49 deletions(-)        aldiazve   \n",
       "6     3 files changed    40 insertions(+)    47 deletions(-)  andfsanchezlem   \n",
       "7    12 files changed    55 insertions(+)   162 deletions(-)     anfmorenoso   \n",
       "10    3 files changed    25 insertions(+)    50 deletions(-)       bdcajicam   \n",
       "\n",
       "   change-revised add-revised delete-revised  bogota-3  bogota-2  bogota-1  \n",
       "0               2         104            121         0         0         1  \n",
       "5               2           4             49         0         0         1  \n",
       "6               3          40             47         0         0         1  \n",
       "7              12          55            162         0         0         1  \n",
       "10              3          25             50         0         0         1  "
      ]
     },
     "execution_count": 77,
     "metadata": {},
     "output_type": "execute_result"
    }
   ],
   "source": [
    "df1_phase25 = df_phase25.loc[df_phase25['bogota-1'] == 1]\n",
    "df1_phase25.head(5)"
   ]
  },
  {
   "cell_type": "code",
   "execution_count": 78,
   "id": "805f9eb7",
   "metadata": {},
   "outputs": [],
   "source": [
    "df1_phase25.to_csv('df1_phase25_loc.csv')"
   ]
  },
  {
   "cell_type": "code",
   "execution_count": 79,
   "id": "be9dfd83",
   "metadata": {},
   "outputs": [
    {
     "name": "stdout",
     "output_type": "stream",
     "text": [
      "40\n"
     ]
    }
   ],
   "source": [
    "print(len(df1_phase25.index))"
   ]
  },
  {
   "cell_type": "code",
   "execution_count": 80,
   "id": "89e8df1c",
   "metadata": {},
   "outputs": [
    {
     "name": "stderr",
     "output_type": "stream",
     "text": [
      "<ipython-input-80-a06f3e5f45c9>:1: SettingWithCopyWarning: \n",
      "A value is trying to be set on a copy of a slice from a DataFrame.\n",
      "Try using .loc[row_indexer,col_indexer] = value instead\n",
      "\n",
      "See the caveats in the documentation: https://pandas.pydata.org/pandas-docs/stable/user_guide/indexing.html#returning-a-view-versus-a-copy\n",
      "  df1_phase25['change-revised'] = pd.to_numeric(df1_phase25['change-revised'])\n"
     ]
    }
   ],
   "source": [
    "df1_phase25['change-revised'] = pd.to_numeric(df1_phase25['change-revised'])\n",
    "mean1_25_change = df1_phase25['change-revised'].mean()\n",
    "median1_25_change = df1_phase25['change-revised'].median()\n",
    "std1_25_change = df1_phase25['change-revised'].std()\n",
    "max1_25_change = df1_phase25['change-revised'].max()\n",
    "min1_25_change = df1_phase25['change-revised'].min()"
   ]
  },
  {
   "cell_type": "code",
   "execution_count": 81,
   "id": "01fa4fad",
   "metadata": {},
   "outputs": [
    {
     "name": "stderr",
     "output_type": "stream",
     "text": [
      "<ipython-input-81-12eb6d28187c>:1: SettingWithCopyWarning: \n",
      "A value is trying to be set on a copy of a slice from a DataFrame.\n",
      "Try using .loc[row_indexer,col_indexer] = value instead\n",
      "\n",
      "See the caveats in the documentation: https://pandas.pydata.org/pandas-docs/stable/user_guide/indexing.html#returning-a-view-versus-a-copy\n",
      "  df1_phase25['delete-revised'] = pd.to_numeric(df1_phase25['delete-revised'])\n"
     ]
    },
    {
     "data": {
      "text/plain": [
       "array([121,  49,  47, 162,  50,   0,   0, 132, 700,  87,  93,   0, 105,\n",
       "         0, 245,  23,  30,   0,  23, 127,   3, 219,   0,   0,   0,   0,\n",
       "         0,   0, 182,  61, 120, 117,   0,  32,   0, 258,  57,  73, 459,\n",
       "         0])"
      ]
     },
     "execution_count": 81,
     "metadata": {},
     "output_type": "execute_result"
    }
   ],
   "source": [
    "df1_phase25['delete-revised'] = pd.to_numeric(df1_phase25['delete-revised'])\n",
    "mean1_25_delete = df1_phase25['delete-revised'].mean()\n",
    "median1_25_delete =  df1_phase25['delete-revised'].median()\n",
    "std1_25_delete =  df1_phase25['delete-revised'].std()\n",
    "max1_25_delete = df1_phase25['delete-revised'].max()\n",
    "min1_25_delete = df1_phase25['delete-revised'].min()\n",
    "\n",
    "df1_delete = df1_phase25['delete-revised']\n",
    "df1_delete.values"
   ]
  },
  {
   "cell_type": "code",
   "execution_count": 82,
   "id": "652859aa",
   "metadata": {},
   "outputs": [
    {
     "name": "stderr",
     "output_type": "stream",
     "text": [
      "<ipython-input-82-4e95bbfa2195>:1: SettingWithCopyWarning: \n",
      "A value is trying to be set on a copy of a slice from a DataFrame.\n",
      "Try using .loc[row_indexer,col_indexer] = value instead\n",
      "\n",
      "See the caveats in the documentation: https://pandas.pydata.org/pandas-docs/stable/user_guide/indexing.html#returning-a-view-versus-a-copy\n",
      "  df1_phase25['add-revised'] = pd.to_numeric(df1_phase25['add-revised'])\n"
     ]
    },
    {
     "data": {
      "text/plain": [
       "array([104,   4,  40,  55,  25,   0,   0,  36, 393,  25,  45,   0,  84,\n",
       "         0,  86,   6,  36,   0,  18,  54,   1,  39,   0,   0,   0,   0,\n",
       "         0,   0,  89,   8,  15,  53,   0,  26,   0,  96,  12, 113,  95,\n",
       "         0])"
      ]
     },
     "execution_count": 82,
     "metadata": {},
     "output_type": "execute_result"
    }
   ],
   "source": [
    "df1_phase25['add-revised'] = pd.to_numeric(df1_phase25['add-revised'])\n",
    "df1_phase25['add-revised'].mean()\n",
    "\n",
    "mean1_25_add = df1_phase25['add-revised'].mean()\n",
    "median1_25_add = df1_phase25['add-revised'].median()\n",
    "std1_25_add = df1_phase25['add-revised'].std()\n",
    "max1_25_add = df1_phase25['add-revised'].max()\n",
    "min1_25_add = df1_phase25['add-revised'].min()\n",
    "\n",
    "df1_add = df1_phase25['add-revised']\n",
    "df1_add.values"
   ]
  },
  {
   "cell_type": "code",
   "execution_count": 83,
   "id": "f8b3c71c",
   "metadata": {},
   "outputs": [
    {
     "name": "stderr",
     "output_type": "stream",
     "text": [
      "<ipython-input-83-adca6339ac66>:1: SettingWithCopyWarning: \n",
      "A value is trying to be set on a copy of a slice from a DataFrame.\n",
      "Try using .loc[row_indexer,col_indexer] = value instead\n",
      "\n",
      "See the caveats in the documentation: https://pandas.pydata.org/pandas-docs/stable/user_guide/indexing.html#returning-a-view-versus-a-copy\n",
      "  df1_phase25['add-revised'] = df1_phase25['add-revised'].astype(float)\n",
      "<ipython-input-83-adca6339ac66>:2: SettingWithCopyWarning: \n",
      "A value is trying to be set on a copy of a slice from a DataFrame.\n",
      "Try using .loc[row_indexer,col_indexer] = value instead\n",
      "\n",
      "See the caveats in the documentation: https://pandas.pydata.org/pandas-docs/stable/user_guide/indexing.html#returning-a-view-versus-a-copy\n",
      "  df1_phase25['delete-revised'] = df1_phase25['delete-revised'].astype(float)\n",
      "<ipython-input-83-adca6339ac66>:3: SettingWithCopyWarning: \n",
      "A value is trying to be set on a copy of a slice from a DataFrame.\n",
      "Try using .loc[row_indexer,col_indexer] = value instead\n",
      "\n",
      "See the caveats in the documentation: https://pandas.pydata.org/pandas-docs/stable/user_guide/indexing.html#returning-a-view-versus-a-copy\n",
      "  df1_phase25['effort'] = df1_phase25['add-revised'] - 0.5 * df1_phase25['delete-revised']\n"
     ]
    }
   ],
   "source": [
    "df1_phase25['add-revised'] = df1_phase25['add-revised'].astype(float)\n",
    "df1_phase25['delete-revised'] = df1_phase25['delete-revised'].astype(float)\n",
    "df1_phase25['effort'] = df1_phase25['add-revised'] - 0.5 * df1_phase25['delete-revised']\n",
    "mean1_25_effort = df1_phase25['effort'].mean()\n",
    "median1_25_effort = df1_phase25['effort'].median()\n",
    "std1_25_effort = df1_phase25['effort'].std()\n",
    "max1_25_effort = df1_phase25['effort'].max()\n",
    "min1_25_effort = df1_phase25['effort'].min()"
   ]
  },
  {
   "cell_type": "code",
   "execution_count": 84,
   "id": "641660d7",
   "metadata": {},
   "outputs": [
    {
     "data": {
      "text/plain": [
       "array([  43.5,  -20.5,   16.5,  -26. ,    0. ,    0. ,    0. ,  -30. ,\n",
       "         43. ,  -18.5,   -1.5,    0. ,   31.5,    0. ,  -36.5,   -5.5,\n",
       "         21. ,    0. ,    6.5,   -9.5,   -0.5,  -70.5,    0. ,    0. ,\n",
       "          0. ,    0. ,    0. ,    0. ,   -2. ,  -22.5,  -45. ,   -5.5,\n",
       "          0. ,   10. ,    0. ,  -33. ,  -16.5,   76.5, -134.5,    0. ])"
      ]
     },
     "execution_count": 84,
     "metadata": {},
     "output_type": "execute_result"
    }
   ],
   "source": [
    "import numpy as np\n",
    "np.set_printoptions(suppress=True)\n",
    "diff1 = df1_phase25['add-revised'] - 0.5 * df1_phase25['delete-revised']\n",
    "diff1.values"
   ]
  },
  {
   "cell_type": "markdown",
   "id": "9fc06dc8",
   "metadata": {},
   "source": [
    "# Phase 2 - 5 - Bogota 0 ( No Transparency )"
   ]
  },
  {
   "cell_type": "code",
   "execution_count": 85,
   "id": "54f7f9c6",
   "metadata": {},
   "outputs": [
    {
     "data": {
      "text/html": [
       "<div>\n",
       "<style scoped>\n",
       "    .dataframe tbody tr th:only-of-type {\n",
       "        vertical-align: middle;\n",
       "    }\n",
       "\n",
       "    .dataframe tbody tr th {\n",
       "        vertical-align: top;\n",
       "    }\n",
       "\n",
       "    .dataframe thead th {\n",
       "        text-align: right;\n",
       "    }\n",
       "</style>\n",
       "<table border=\"1\" class=\"dataframe\">\n",
       "  <thead>\n",
       "    <tr style=\"text-align: right;\">\n",
       "      <th></th>\n",
       "      <th>Project</th>\n",
       "      <th>Unnamed: 1</th>\n",
       "      <th>Unnamed: 2</th>\n",
       "    </tr>\n",
       "  </thead>\n",
       "  <tbody>\n",
       "    <tr>\n",
       "      <th>0</th>\n",
       "      <td>lfvalderrama</td>\n",
       "      <td>NaN</td>\n",
       "      <td>NaN</td>\n",
       "    </tr>\n",
       "    <tr>\n",
       "      <th>1</th>\n",
       "      <td>Judgarciani</td>\n",
       "      <td>NaN</td>\n",
       "      <td>NaN</td>\n",
       "    </tr>\n",
       "    <tr>\n",
       "      <th>2</th>\n",
       "      <td>bsgarciac</td>\n",
       "      <td>NaN</td>\n",
       "      <td>NaN</td>\n",
       "    </tr>\n",
       "    <tr>\n",
       "      <th>3</th>\n",
       "      <td>Moimolcp</td>\n",
       "      <td>NaN</td>\n",
       "      <td>NaN</td>\n",
       "    </tr>\n",
       "    <tr>\n",
       "      <th>4</th>\n",
       "      <td>mnguzmanc</td>\n",
       "      <td>NaN</td>\n",
       "      <td>NaN</td>\n",
       "    </tr>\n",
       "  </tbody>\n",
       "</table>\n",
       "</div>"
      ],
      "text/plain": [
       "        Project  Unnamed: 1  Unnamed: 2\n",
       "0  lfvalderrama         NaN         NaN\n",
       "1   Judgarciani         NaN         NaN\n",
       "2     bsgarciac         NaN         NaN\n",
       "3      Moimolcp         NaN         NaN\n",
       "4     mnguzmanc         NaN         NaN"
      ]
     },
     "execution_count": 85,
     "metadata": {},
     "output_type": "execute_result"
    }
   ],
   "source": [
    "df0 = pd.read_csv('./data/bogota-0.csv')\n",
    "df0.head(5)"
   ]
  },
  {
   "cell_type": "code",
   "execution_count": 86,
   "id": "d27287a1",
   "metadata": {},
   "outputs": [
    {
     "data": {
      "text/html": [
       "<div>\n",
       "<style scoped>\n",
       "    .dataframe tbody tr th:only-of-type {\n",
       "        vertical-align: middle;\n",
       "    }\n",
       "\n",
       "    .dataframe tbody tr th {\n",
       "        vertical-align: top;\n",
       "    }\n",
       "\n",
       "    .dataframe thead th {\n",
       "        text-align: right;\n",
       "    }\n",
       "</style>\n",
       "<table border=\"1\" class=\"dataframe\">\n",
       "  <thead>\n",
       "    <tr style=\"text-align: right;\">\n",
       "      <th></th>\n",
       "      <th>change</th>\n",
       "      <th>addition</th>\n",
       "      <th>delete</th>\n",
       "      <th>username</th>\n",
       "      <th>change-revised</th>\n",
       "      <th>add-revised</th>\n",
       "      <th>delete-revised</th>\n",
       "      <th>bogota-3</th>\n",
       "      <th>bogota-2</th>\n",
       "      <th>bogota-1</th>\n",
       "      <th>bogota-0</th>\n",
       "    </tr>\n",
       "  </thead>\n",
       "  <tbody>\n",
       "    <tr>\n",
       "      <th>0</th>\n",
       "      <td>2 files changed</td>\n",
       "      <td>104 insertions(+)</td>\n",
       "      <td>121 deletions(-)</td>\n",
       "      <td>adamantwharf</td>\n",
       "      <td>2</td>\n",
       "      <td>104</td>\n",
       "      <td>121</td>\n",
       "      <td>0</td>\n",
       "      <td>0</td>\n",
       "      <td>1</td>\n",
       "      <td>False</td>\n",
       "    </tr>\n",
       "    <tr>\n",
       "      <th>1</th>\n",
       "      <td>3 files changed</td>\n",
       "      <td>67 insertions(+)</td>\n",
       "      <td>41 deletions(-)</td>\n",
       "      <td>adriel62</td>\n",
       "      <td>3</td>\n",
       "      <td>67</td>\n",
       "      <td>41</td>\n",
       "      <td>1</td>\n",
       "      <td>0</td>\n",
       "      <td>0</td>\n",
       "      <td>False</td>\n",
       "    </tr>\n",
       "    <tr>\n",
       "      <th>2</th>\n",
       "      <td>0 files changed</td>\n",
       "      <td>NaN</td>\n",
       "      <td>NaN</td>\n",
       "      <td>afceballosr</td>\n",
       "      <td>0</td>\n",
       "      <td>0</td>\n",
       "      <td>0</td>\n",
       "      <td>1</td>\n",
       "      <td>0</td>\n",
       "      <td>0</td>\n",
       "      <td>False</td>\n",
       "    </tr>\n",
       "    <tr>\n",
       "      <th>3</th>\n",
       "      <td>0 files changed</td>\n",
       "      <td>NaN</td>\n",
       "      <td>NaN</td>\n",
       "      <td>AFelipeGA</td>\n",
       "      <td>0</td>\n",
       "      <td>0</td>\n",
       "      <td>0</td>\n",
       "      <td>1</td>\n",
       "      <td>0</td>\n",
       "      <td>0</td>\n",
       "      <td>False</td>\n",
       "    </tr>\n",
       "    <tr>\n",
       "      <th>4</th>\n",
       "      <td>3 files changed</td>\n",
       "      <td>14 insertions(+)</td>\n",
       "      <td>111 deletions(-)</td>\n",
       "      <td>afforeroc</td>\n",
       "      <td>3</td>\n",
       "      <td>14</td>\n",
       "      <td>111</td>\n",
       "      <td>1</td>\n",
       "      <td>0</td>\n",
       "      <td>0</td>\n",
       "      <td>False</td>\n",
       "    </tr>\n",
       "  </tbody>\n",
       "</table>\n",
       "</div>"
      ],
      "text/plain": [
       "             change            addition             delete      username  \\\n",
       "0   2 files changed   104 insertions(+)   121 deletions(-)  adamantwharf   \n",
       "1   3 files changed    67 insertions(+)    41 deletions(-)      adriel62   \n",
       "2   0 files changed                 NaN                NaN   afceballosr   \n",
       "3   0 files changed                 NaN                NaN     AFelipeGA   \n",
       "4   3 files changed    14 insertions(+)   111 deletions(-)     afforeroc   \n",
       "\n",
       "  change-revised add-revised delete-revised  bogota-3  bogota-2  bogota-1  \\\n",
       "0              2         104            121         0         0         1   \n",
       "1              3          67             41         1         0         0   \n",
       "2              0           0              0         1         0         0   \n",
       "3              0           0              0         1         0         0   \n",
       "4              3          14            111         1         0         0   \n",
       "\n",
       "   bogota-0  \n",
       "0     False  \n",
       "1     False  \n",
       "2     False  \n",
       "3     False  \n",
       "4     False  "
      ]
     },
     "execution_count": 86,
     "metadata": {},
     "output_type": "execute_result"
    }
   ],
   "source": [
    "df_phase25['bogota-0'] = df_phase25['username'].isin(df0['Project'])\n",
    "df_phase25.head(5)"
   ]
  },
  {
   "cell_type": "code",
   "execution_count": 87,
   "id": "4fd6fa0c",
   "metadata": {},
   "outputs": [
    {
     "data": {
      "text/html": [
       "<div>\n",
       "<style scoped>\n",
       "    .dataframe tbody tr th:only-of-type {\n",
       "        vertical-align: middle;\n",
       "    }\n",
       "\n",
       "    .dataframe tbody tr th {\n",
       "        vertical-align: top;\n",
       "    }\n",
       "\n",
       "    .dataframe thead th {\n",
       "        text-align: right;\n",
       "    }\n",
       "</style>\n",
       "<table border=\"1\" class=\"dataframe\">\n",
       "  <thead>\n",
       "    <tr style=\"text-align: right;\">\n",
       "      <th></th>\n",
       "      <th>change</th>\n",
       "      <th>addition</th>\n",
       "      <th>delete</th>\n",
       "      <th>username</th>\n",
       "      <th>change-revised</th>\n",
       "      <th>add-revised</th>\n",
       "      <th>delete-revised</th>\n",
       "      <th>bogota-3</th>\n",
       "      <th>bogota-2</th>\n",
       "      <th>bogota-1</th>\n",
       "      <th>bogota-0</th>\n",
       "    </tr>\n",
       "  </thead>\n",
       "  <tbody>\n",
       "    <tr>\n",
       "      <th>0</th>\n",
       "      <td>2 files changed</td>\n",
       "      <td>104 insertions(+)</td>\n",
       "      <td>121 deletions(-)</td>\n",
       "      <td>adamantwharf</td>\n",
       "      <td>2</td>\n",
       "      <td>104</td>\n",
       "      <td>121</td>\n",
       "      <td>0</td>\n",
       "      <td>0</td>\n",
       "      <td>1</td>\n",
       "      <td>0</td>\n",
       "    </tr>\n",
       "    <tr>\n",
       "      <th>1</th>\n",
       "      <td>3 files changed</td>\n",
       "      <td>67 insertions(+)</td>\n",
       "      <td>41 deletions(-)</td>\n",
       "      <td>adriel62</td>\n",
       "      <td>3</td>\n",
       "      <td>67</td>\n",
       "      <td>41</td>\n",
       "      <td>1</td>\n",
       "      <td>0</td>\n",
       "      <td>0</td>\n",
       "      <td>0</td>\n",
       "    </tr>\n",
       "    <tr>\n",
       "      <th>2</th>\n",
       "      <td>0 files changed</td>\n",
       "      <td>NaN</td>\n",
       "      <td>NaN</td>\n",
       "      <td>afceballosr</td>\n",
       "      <td>0</td>\n",
       "      <td>0</td>\n",
       "      <td>0</td>\n",
       "      <td>1</td>\n",
       "      <td>0</td>\n",
       "      <td>0</td>\n",
       "      <td>0</td>\n",
       "    </tr>\n",
       "    <tr>\n",
       "      <th>3</th>\n",
       "      <td>0 files changed</td>\n",
       "      <td>NaN</td>\n",
       "      <td>NaN</td>\n",
       "      <td>AFelipeGA</td>\n",
       "      <td>0</td>\n",
       "      <td>0</td>\n",
       "      <td>0</td>\n",
       "      <td>1</td>\n",
       "      <td>0</td>\n",
       "      <td>0</td>\n",
       "      <td>0</td>\n",
       "    </tr>\n",
       "    <tr>\n",
       "      <th>4</th>\n",
       "      <td>3 files changed</td>\n",
       "      <td>14 insertions(+)</td>\n",
       "      <td>111 deletions(-)</td>\n",
       "      <td>afforeroc</td>\n",
       "      <td>3</td>\n",
       "      <td>14</td>\n",
       "      <td>111</td>\n",
       "      <td>1</td>\n",
       "      <td>0</td>\n",
       "      <td>0</td>\n",
       "      <td>0</td>\n",
       "    </tr>\n",
       "  </tbody>\n",
       "</table>\n",
       "</div>"
      ],
      "text/plain": [
       "             change            addition             delete      username  \\\n",
       "0   2 files changed   104 insertions(+)   121 deletions(-)  adamantwharf   \n",
       "1   3 files changed    67 insertions(+)    41 deletions(-)      adriel62   \n",
       "2   0 files changed                 NaN                NaN   afceballosr   \n",
       "3   0 files changed                 NaN                NaN     AFelipeGA   \n",
       "4   3 files changed    14 insertions(+)   111 deletions(-)     afforeroc   \n",
       "\n",
       "  change-revised add-revised delete-revised  bogota-3  bogota-2  bogota-1  \\\n",
       "0              2         104            121         0         0         1   \n",
       "1              3          67             41         1         0         0   \n",
       "2              0           0              0         1         0         0   \n",
       "3              0           0              0         1         0         0   \n",
       "4              3          14            111         1         0         0   \n",
       "\n",
       "   bogota-0  \n",
       "0         0  \n",
       "1         0  \n",
       "2         0  \n",
       "3         0  \n",
       "4         0  "
      ]
     },
     "execution_count": 87,
     "metadata": {},
     "output_type": "execute_result"
    }
   ],
   "source": [
    "df_phase25[\"bogota-0\"] = df_phase25[\"bogota-0\"].astype(int)\n",
    "df_phase25.head(5)"
   ]
  },
  {
   "cell_type": "code",
   "execution_count": 88,
   "id": "25f89124",
   "metadata": {},
   "outputs": [
    {
     "data": {
      "text/html": [
       "<div>\n",
       "<style scoped>\n",
       "    .dataframe tbody tr th:only-of-type {\n",
       "        vertical-align: middle;\n",
       "    }\n",
       "\n",
       "    .dataframe tbody tr th {\n",
       "        vertical-align: top;\n",
       "    }\n",
       "\n",
       "    .dataframe thead th {\n",
       "        text-align: right;\n",
       "    }\n",
       "</style>\n",
       "<table border=\"1\" class=\"dataframe\">\n",
       "  <thead>\n",
       "    <tr style=\"text-align: right;\">\n",
       "      <th></th>\n",
       "      <th>change</th>\n",
       "      <th>addition</th>\n",
       "      <th>delete</th>\n",
       "      <th>username</th>\n",
       "      <th>change-revised</th>\n",
       "      <th>add-revised</th>\n",
       "      <th>delete-revised</th>\n",
       "      <th>bogota-3</th>\n",
       "      <th>bogota-2</th>\n",
       "      <th>bogota-1</th>\n",
       "      <th>bogota-0</th>\n",
       "    </tr>\n",
       "  </thead>\n",
       "  <tbody>\n",
       "    <tr>\n",
       "      <th>9</th>\n",
       "      <td>4 files changed</td>\n",
       "      <td>39 insertions(+)</td>\n",
       "      <td>26 deletions(-)</td>\n",
       "      <td>annipi</td>\n",
       "      <td>4</td>\n",
       "      <td>39</td>\n",
       "      <td>26</td>\n",
       "      <td>0</td>\n",
       "      <td>0</td>\n",
       "      <td>0</td>\n",
       "      <td>1</td>\n",
       "    </tr>\n",
       "    <tr>\n",
       "      <th>13</th>\n",
       "      <td>6 files changed</td>\n",
       "      <td>47 insertions(+)</td>\n",
       "      <td>74 deletions(-)</td>\n",
       "      <td>bsgarciac</td>\n",
       "      <td>6</td>\n",
       "      <td>47</td>\n",
       "      <td>74</td>\n",
       "      <td>0</td>\n",
       "      <td>0</td>\n",
       "      <td>0</td>\n",
       "      <td>1</td>\n",
       "    </tr>\n",
       "    <tr>\n",
       "      <th>14</th>\n",
       "      <td>3 files changed</td>\n",
       "      <td>28 insertions(+)</td>\n",
       "      <td>50 deletions(-)</td>\n",
       "      <td>camilo654</td>\n",
       "      <td>3</td>\n",
       "      <td>28</td>\n",
       "      <td>50</td>\n",
       "      <td>0</td>\n",
       "      <td>0</td>\n",
       "      <td>0</td>\n",
       "      <td>1</td>\n",
       "    </tr>\n",
       "    <tr>\n",
       "      <th>15</th>\n",
       "      <td>0 files changed</td>\n",
       "      <td>NaN</td>\n",
       "      <td>NaN</td>\n",
       "      <td>camilo13152</td>\n",
       "      <td>0</td>\n",
       "      <td>0</td>\n",
       "      <td>0</td>\n",
       "      <td>0</td>\n",
       "      <td>0</td>\n",
       "      <td>0</td>\n",
       "      <td>1</td>\n",
       "    </tr>\n",
       "    <tr>\n",
       "      <th>16</th>\n",
       "      <td>0 files changed</td>\n",
       "      <td>NaN</td>\n",
       "      <td>NaN</td>\n",
       "      <td>CamiloRueda</td>\n",
       "      <td>0</td>\n",
       "      <td>0</td>\n",
       "      <td>0</td>\n",
       "      <td>0</td>\n",
       "      <td>0</td>\n",
       "      <td>0</td>\n",
       "      <td>1</td>\n",
       "    </tr>\n",
       "  </tbody>\n",
       "</table>\n",
       "</div>"
      ],
      "text/plain": [
       "              change           addition            delete     username  \\\n",
       "9    4 files changed   39 insertions(+)   26 deletions(-)       annipi   \n",
       "13   6 files changed   47 insertions(+)   74 deletions(-)    bsgarciac   \n",
       "14   3 files changed   28 insertions(+)   50 deletions(-)    camilo654   \n",
       "15   0 files changed                NaN               NaN  camilo13152   \n",
       "16   0 files changed                NaN               NaN  CamiloRueda   \n",
       "\n",
       "   change-revised add-revised delete-revised  bogota-3  bogota-2  bogota-1  \\\n",
       "9               4          39             26         0         0         0   \n",
       "13              6          47             74         0         0         0   \n",
       "14              3          28             50         0         0         0   \n",
       "15              0           0              0         0         0         0   \n",
       "16              0           0              0         0         0         0   \n",
       "\n",
       "    bogota-0  \n",
       "9          1  \n",
       "13         1  \n",
       "14         1  \n",
       "15         1  \n",
       "16         1  "
      ]
     },
     "execution_count": 88,
     "metadata": {},
     "output_type": "execute_result"
    }
   ],
   "source": [
    "df0_phase25 = df_phase25.loc[df_phase25['bogota-0'] == 1]\n",
    "df0_phase25.head(5)"
   ]
  },
  {
   "cell_type": "code",
   "execution_count": 89,
   "id": "a1271068",
   "metadata": {},
   "outputs": [],
   "source": [
    "df0_phase25.to_csv('df0_phase15_loc.csv')"
   ]
  },
  {
   "cell_type": "code",
   "execution_count": 90,
   "id": "bc2bc54b",
   "metadata": {},
   "outputs": [
    {
     "name": "stdout",
     "output_type": "stream",
     "text": [
      "38\n"
     ]
    }
   ],
   "source": [
    "print(len(df0_phase25.index))"
   ]
  },
  {
   "cell_type": "code",
   "execution_count": 91,
   "id": "beedc11b",
   "metadata": {},
   "outputs": [
    {
     "name": "stderr",
     "output_type": "stream",
     "text": [
      "<ipython-input-91-a9241fcc320c>:1: SettingWithCopyWarning: \n",
      "A value is trying to be set on a copy of a slice from a DataFrame.\n",
      "Try using .loc[row_indexer,col_indexer] = value instead\n",
      "\n",
      "See the caveats in the documentation: https://pandas.pydata.org/pandas-docs/stable/user_guide/indexing.html#returning-a-view-versus-a-copy\n",
      "  df0_phase25['change-revised'] = pd.to_numeric(df0_phase25['change-revised'])\n"
     ]
    }
   ],
   "source": [
    "df0_phase25['change-revised'] = pd.to_numeric(df0_phase25['change-revised'])\n",
    "mean0_25_change = df0_phase25['change-revised'].mean()\n",
    "median0_25_change = df0_phase25['change-revised'].median()\n",
    "std0_25_change = df0_phase25['change-revised'].std()\n",
    "max0_25_change = df0_phase25['change-revised'].max()\n",
    "min0_25_change = df0_phase25['change-revised'].min()"
   ]
  },
  {
   "cell_type": "code",
   "execution_count": 92,
   "id": "5789a2a7",
   "metadata": {},
   "outputs": [
    {
     "name": "stderr",
     "output_type": "stream",
     "text": [
      "<ipython-input-92-2131e280b53f>:1: SettingWithCopyWarning: \n",
      "A value is trying to be set on a copy of a slice from a DataFrame.\n",
      "Try using .loc[row_indexer,col_indexer] = value instead\n",
      "\n",
      "See the caveats in the documentation: https://pandas.pydata.org/pandas-docs/stable/user_guide/indexing.html#returning-a-view-versus-a-copy\n",
      "  df0_phase25['delete-revised'] = pd.to_numeric(df0_phase25['delete-revised'])\n"
     ]
    },
    {
     "data": {
      "text/plain": [
       "array([ 26,  74,  50,   0,   0, 167,  59,  54,   0,   0,   0,   0,  97,\n",
       "         9,   0,   0, 116, 253,  49,  34,   4,  62,   0,  24,   0,  27,\n",
       "         7,   0, 144,   0, 105,   0,   0,   1,   0,   5,   0,   0])"
      ]
     },
     "execution_count": 92,
     "metadata": {},
     "output_type": "execute_result"
    }
   ],
   "source": [
    "df0_phase25['delete-revised'] = pd.to_numeric(df0_phase25['delete-revised'])\n",
    "mean0_25_delete = df0_phase25['delete-revised'].mean()\n",
    "median0_25_delete = df0_phase25['delete-revised'].median()\n",
    "std0_25_delete = df0_phase25['delete-revised'].std()\n",
    "max0_25_delete = df0_phase25['delete-revised'].max()\n",
    "min0_25_delete = df0_phase25['delete-revised'].min()\n",
    "\n",
    "df0_delete = df0_phase25['delete-revised']\n",
    "df0_delete.values"
   ]
  },
  {
   "cell_type": "code",
   "execution_count": 93,
   "id": "416e8072",
   "metadata": {},
   "outputs": [
    {
     "name": "stderr",
     "output_type": "stream",
     "text": [
      "<ipython-input-93-c8f26028c475>:1: SettingWithCopyWarning: \n",
      "A value is trying to be set on a copy of a slice from a DataFrame.\n",
      "Try using .loc[row_indexer,col_indexer] = value instead\n",
      "\n",
      "See the caveats in the documentation: https://pandas.pydata.org/pandas-docs/stable/user_guide/indexing.html#returning-a-view-versus-a-copy\n",
      "  df0_phase25['add-revised'] = pd.to_numeric(df0_phase25['add-revised'])\n"
     ]
    },
    {
     "data": {
      "text/plain": [
       "array([ 39,  47,  28,   0,   0,  82,   7,  19,   0,   0,   0,   0,  25,\n",
       "        11,   0,   0,  74, 328,  59,   5,  27, 314,   0,  13,   0,  52,\n",
       "         5,   0,  51,   0,  41,   0,   0,   1,   0,   3,   0,   0])"
      ]
     },
     "execution_count": 93,
     "metadata": {},
     "output_type": "execute_result"
    }
   ],
   "source": [
    "df0_phase25['add-revised'] = pd.to_numeric(df0_phase25['add-revised'])\n",
    "df0_phase25['add-revised'].mean()\n",
    "\n",
    "mean0_25_add = df0_phase25['add-revised'].mean()\n",
    "median0_25_add =  df0_phase25['add-revised'].median()\n",
    "std0_25_add = df0_phase25['add-revised'].std()\n",
    "max0_25_add = df0_phase25['add-revised'].max()\n",
    "min0_25_add = df0_phase25['add-revised'].min()\n",
    "\n",
    "df0_add = df0_phase25['add-revised']\n",
    "df0_add.values"
   ]
  },
  {
   "cell_type": "code",
   "execution_count": 94,
   "id": "da1ac86d",
   "metadata": {},
   "outputs": [
    {
     "name": "stderr",
     "output_type": "stream",
     "text": [
      "<ipython-input-94-c2d1964d75d2>:1: SettingWithCopyWarning: \n",
      "A value is trying to be set on a copy of a slice from a DataFrame.\n",
      "Try using .loc[row_indexer,col_indexer] = value instead\n",
      "\n",
      "See the caveats in the documentation: https://pandas.pydata.org/pandas-docs/stable/user_guide/indexing.html#returning-a-view-versus-a-copy\n",
      "  df0_phase25['add-revised'] = df0_phase25['add-revised'].astype(float)\n",
      "<ipython-input-94-c2d1964d75d2>:2: SettingWithCopyWarning: \n",
      "A value is trying to be set on a copy of a slice from a DataFrame.\n",
      "Try using .loc[row_indexer,col_indexer] = value instead\n",
      "\n",
      "See the caveats in the documentation: https://pandas.pydata.org/pandas-docs/stable/user_guide/indexing.html#returning-a-view-versus-a-copy\n",
      "  df0_phase25['delete-revised'] = df0_phase25['delete-revised'].astype(float)\n",
      "<ipython-input-94-c2d1964d75d2>:3: SettingWithCopyWarning: \n",
      "A value is trying to be set on a copy of a slice from a DataFrame.\n",
      "Try using .loc[row_indexer,col_indexer] = value instead\n",
      "\n",
      "See the caveats in the documentation: https://pandas.pydata.org/pandas-docs/stable/user_guide/indexing.html#returning-a-view-versus-a-copy\n",
      "  df0_phase25['effort'] = df0_phase25['add-revised'] - 0.5 * df0_phase25['delete-revised']\n"
     ]
    }
   ],
   "source": [
    "df0_phase25['add-revised'] = df0_phase25['add-revised'].astype(float)\n",
    "df0_phase25['delete-revised'] = df0_phase25['delete-revised'].astype(float)\n",
    "df0_phase25['effort'] = df0_phase25['add-revised'] - 0.5 * df0_phase25['delete-revised']\n",
    "mean0_25_effort = df0_phase25['effort'].mean()\n",
    "median0_25_effort = df0_phase25['effort'].median()\n",
    "std0_25_effort = df0_phase25['effort'].std()\n",
    "max0_25_effort = df0_phase25['effort'].max()\n",
    "min0_25_effort = df0_phase25['effort'].min()"
   ]
  },
  {
   "cell_type": "code",
   "execution_count": 95,
   "id": "eafef7e1",
   "metadata": {},
   "outputs": [
    {
     "data": {
      "text/plain": [
       "array([ 26. ,  10. ,   3. ,   0. ,   0. ,  -1.5, -22.5,  -8. ,   0. ,\n",
       "         0. ,   0. ,   0. , -23.5,   6.5,   0. ,   0. ,  16. , 201.5,\n",
       "        34.5, -12. ,  25. , 283. ,   0. ,   1. ,   0. ,  38.5,   1.5,\n",
       "         0. , -21. ,   0. , -11.5,   0. ,   0. ,   0.5,   0. ,   0.5,\n",
       "         0. ,   0. ])"
      ]
     },
     "execution_count": 95,
     "metadata": {},
     "output_type": "execute_result"
    }
   ],
   "source": [
    "import numpy as np\n",
    "np.set_printoptions(suppress=True)\n",
    "diff0 = df0_phase25['add-revised'] - 0.5 * df0_phase25['delete-revised']\n",
    "diff0.values"
   ]
  },
  {
   "cell_type": "code",
   "execution_count": 112,
   "id": "7f37cc47",
   "metadata": {},
   "outputs": [],
   "source": [
    "import pandas as pd\n",
    "\n",
    "df_phase15 = pd.read_csv('./data/phase-1-5-prelim.csv')\n"
   ]
  },
  {
   "cell_type": "code",
   "execution_count": 113,
   "id": "d83f7c61",
   "metadata": {},
   "outputs": [
    {
     "data": {
      "text/html": [
       "<div>\n",
       "<style scoped>\n",
       "    .dataframe tbody tr th:only-of-type {\n",
       "        vertical-align: middle;\n",
       "    }\n",
       "\n",
       "    .dataframe tbody tr th {\n",
       "        vertical-align: top;\n",
       "    }\n",
       "\n",
       "    .dataframe thead th {\n",
       "        text-align: right;\n",
       "    }\n",
       "</style>\n",
       "<table border=\"1\" class=\"dataframe\">\n",
       "  <thead>\n",
       "    <tr style=\"text-align: right;\">\n",
       "      <th></th>\n",
       "      <th>change</th>\n",
       "      <th>addition</th>\n",
       "      <th>delete</th>\n",
       "      <th>username</th>\n",
       "      <th>change-revised</th>\n",
       "    </tr>\n",
       "  </thead>\n",
       "  <tbody>\n",
       "    <tr>\n",
       "      <th>0</th>\n",
       "      <td>0 files changed</td>\n",
       "      <td>NaN</td>\n",
       "      <td>NaN</td>\n",
       "      <td>adamantwharf</td>\n",
       "      <td>0</td>\n",
       "    </tr>\n",
       "    <tr>\n",
       "      <th>1</th>\n",
       "      <td>2 files changed</td>\n",
       "      <td>78 insertions(+)</td>\n",
       "      <td>117 deletions(-)</td>\n",
       "      <td>adriel62</td>\n",
       "      <td>2</td>\n",
       "    </tr>\n",
       "    <tr>\n",
       "      <th>2</th>\n",
       "      <td>4 files changed</td>\n",
       "      <td>11 insertions(+)</td>\n",
       "      <td>22 deletions(-)</td>\n",
       "      <td>afceballosr</td>\n",
       "      <td>4</td>\n",
       "    </tr>\n",
       "    <tr>\n",
       "      <th>3</th>\n",
       "      <td>20 files changed</td>\n",
       "      <td>25 insertions(+)</td>\n",
       "      <td>203 deletions(-)</td>\n",
       "      <td>AFelipeGA</td>\n",
       "      <td>20</td>\n",
       "    </tr>\n",
       "    <tr>\n",
       "      <th>4</th>\n",
       "      <td>0 files changed</td>\n",
       "      <td>NaN</td>\n",
       "      <td>NaN</td>\n",
       "      <td>afforeroc</td>\n",
       "      <td>0</td>\n",
       "    </tr>\n",
       "  </tbody>\n",
       "</table>\n",
       "</div>"
      ],
      "text/plain": [
       "              change           addition             delete      username  \\\n",
       "0    0 files changed                NaN                NaN  adamantwharf   \n",
       "1    2 files changed   78 insertions(+)   117 deletions(-)      adriel62   \n",
       "2    4 files changed   11 insertions(+)    22 deletions(-)   afceballosr   \n",
       "3   20 files changed   25 insertions(+)   203 deletions(-)     AFelipeGA   \n",
       "4    0 files changed                NaN                NaN     afforeroc   \n",
       "\n",
       "  change-revised  \n",
       "0              0  \n",
       "1              2  \n",
       "2              4  \n",
       "3             20  \n",
       "4              0  "
      ]
     },
     "execution_count": 113,
     "metadata": {},
     "output_type": "execute_result"
    }
   ],
   "source": [
    "df_phase15['change-revised'] = df_phase15.change.str.extract('(\\d+)')\n",
    "df_phase15.head(5)"
   ]
  },
  {
   "cell_type": "code",
   "execution_count": 114,
   "id": "1733febd",
   "metadata": {},
   "outputs": [
    {
     "data": {
      "text/html": [
       "<div>\n",
       "<style scoped>\n",
       "    .dataframe tbody tr th:only-of-type {\n",
       "        vertical-align: middle;\n",
       "    }\n",
       "\n",
       "    .dataframe tbody tr th {\n",
       "        vertical-align: top;\n",
       "    }\n",
       "\n",
       "    .dataframe thead th {\n",
       "        text-align: right;\n",
       "    }\n",
       "</style>\n",
       "<table border=\"1\" class=\"dataframe\">\n",
       "  <thead>\n",
       "    <tr style=\"text-align: right;\">\n",
       "      <th></th>\n",
       "      <th>change</th>\n",
       "      <th>addition</th>\n",
       "      <th>delete</th>\n",
       "      <th>username</th>\n",
       "      <th>change-revised</th>\n",
       "      <th>add-revised</th>\n",
       "    </tr>\n",
       "  </thead>\n",
       "  <tbody>\n",
       "    <tr>\n",
       "      <th>0</th>\n",
       "      <td>0 files changed</td>\n",
       "      <td>NaN</td>\n",
       "      <td>NaN</td>\n",
       "      <td>adamantwharf</td>\n",
       "      <td>0</td>\n",
       "      <td>0</td>\n",
       "    </tr>\n",
       "    <tr>\n",
       "      <th>1</th>\n",
       "      <td>2 files changed</td>\n",
       "      <td>78 insertions(+)</td>\n",
       "      <td>117 deletions(-)</td>\n",
       "      <td>adriel62</td>\n",
       "      <td>2</td>\n",
       "      <td>78</td>\n",
       "    </tr>\n",
       "    <tr>\n",
       "      <th>2</th>\n",
       "      <td>4 files changed</td>\n",
       "      <td>11 insertions(+)</td>\n",
       "      <td>22 deletions(-)</td>\n",
       "      <td>afceballosr</td>\n",
       "      <td>4</td>\n",
       "      <td>11</td>\n",
       "    </tr>\n",
       "    <tr>\n",
       "      <th>3</th>\n",
       "      <td>20 files changed</td>\n",
       "      <td>25 insertions(+)</td>\n",
       "      <td>203 deletions(-)</td>\n",
       "      <td>AFelipeGA</td>\n",
       "      <td>20</td>\n",
       "      <td>25</td>\n",
       "    </tr>\n",
       "    <tr>\n",
       "      <th>4</th>\n",
       "      <td>0 files changed</td>\n",
       "      <td>NaN</td>\n",
       "      <td>NaN</td>\n",
       "      <td>afforeroc</td>\n",
       "      <td>0</td>\n",
       "      <td>0</td>\n",
       "    </tr>\n",
       "  </tbody>\n",
       "</table>\n",
       "</div>"
      ],
      "text/plain": [
       "              change           addition             delete      username  \\\n",
       "0    0 files changed                NaN                NaN  adamantwharf   \n",
       "1    2 files changed   78 insertions(+)   117 deletions(-)      adriel62   \n",
       "2    4 files changed   11 insertions(+)    22 deletions(-)   afceballosr   \n",
       "3   20 files changed   25 insertions(+)   203 deletions(-)     AFelipeGA   \n",
       "4    0 files changed                NaN                NaN     afforeroc   \n",
       "\n",
       "  change-revised add-revised  \n",
       "0              0           0  \n",
       "1              2          78  \n",
       "2              4          11  \n",
       "3             20          25  \n",
       "4              0           0  "
      ]
     },
     "execution_count": 114,
     "metadata": {},
     "output_type": "execute_result"
    }
   ],
   "source": [
    "df_phase15['add-revised'] = df_phase15.addition.str.extract('(\\d+)')\n",
    "df_phase15['add-revised'] = df_phase15['add-revised'].fillna(0)\n",
    "df_phase15.head(5)"
   ]
  },
  {
   "cell_type": "code",
   "execution_count": 115,
   "id": "fb49aada",
   "metadata": {},
   "outputs": [
    {
     "data": {
      "text/html": [
       "<div>\n",
       "<style scoped>\n",
       "    .dataframe tbody tr th:only-of-type {\n",
       "        vertical-align: middle;\n",
       "    }\n",
       "\n",
       "    .dataframe tbody tr th {\n",
       "        vertical-align: top;\n",
       "    }\n",
       "\n",
       "    .dataframe thead th {\n",
       "        text-align: right;\n",
       "    }\n",
       "</style>\n",
       "<table border=\"1\" class=\"dataframe\">\n",
       "  <thead>\n",
       "    <tr style=\"text-align: right;\">\n",
       "      <th></th>\n",
       "      <th>change</th>\n",
       "      <th>addition</th>\n",
       "      <th>delete</th>\n",
       "      <th>username</th>\n",
       "      <th>change-revised</th>\n",
       "      <th>add-revised</th>\n",
       "      <th>delete-revised</th>\n",
       "    </tr>\n",
       "  </thead>\n",
       "  <tbody>\n",
       "    <tr>\n",
       "      <th>0</th>\n",
       "      <td>0 files changed</td>\n",
       "      <td>NaN</td>\n",
       "      <td>NaN</td>\n",
       "      <td>adamantwharf</td>\n",
       "      <td>0</td>\n",
       "      <td>0</td>\n",
       "      <td>0</td>\n",
       "    </tr>\n",
       "    <tr>\n",
       "      <th>1</th>\n",
       "      <td>2 files changed</td>\n",
       "      <td>78 insertions(+)</td>\n",
       "      <td>117 deletions(-)</td>\n",
       "      <td>adriel62</td>\n",
       "      <td>2</td>\n",
       "      <td>78</td>\n",
       "      <td>117</td>\n",
       "    </tr>\n",
       "    <tr>\n",
       "      <th>2</th>\n",
       "      <td>4 files changed</td>\n",
       "      <td>11 insertions(+)</td>\n",
       "      <td>22 deletions(-)</td>\n",
       "      <td>afceballosr</td>\n",
       "      <td>4</td>\n",
       "      <td>11</td>\n",
       "      <td>22</td>\n",
       "    </tr>\n",
       "    <tr>\n",
       "      <th>3</th>\n",
       "      <td>20 files changed</td>\n",
       "      <td>25 insertions(+)</td>\n",
       "      <td>203 deletions(-)</td>\n",
       "      <td>AFelipeGA</td>\n",
       "      <td>20</td>\n",
       "      <td>25</td>\n",
       "      <td>203</td>\n",
       "    </tr>\n",
       "    <tr>\n",
       "      <th>4</th>\n",
       "      <td>0 files changed</td>\n",
       "      <td>NaN</td>\n",
       "      <td>NaN</td>\n",
       "      <td>afforeroc</td>\n",
       "      <td>0</td>\n",
       "      <td>0</td>\n",
       "      <td>0</td>\n",
       "    </tr>\n",
       "  </tbody>\n",
       "</table>\n",
       "</div>"
      ],
      "text/plain": [
       "              change           addition             delete      username  \\\n",
       "0    0 files changed                NaN                NaN  adamantwharf   \n",
       "1    2 files changed   78 insertions(+)   117 deletions(-)      adriel62   \n",
       "2    4 files changed   11 insertions(+)    22 deletions(-)   afceballosr   \n",
       "3   20 files changed   25 insertions(+)   203 deletions(-)     AFelipeGA   \n",
       "4    0 files changed                NaN                NaN     afforeroc   \n",
       "\n",
       "  change-revised add-revised delete-revised  \n",
       "0              0           0              0  \n",
       "1              2          78            117  \n",
       "2              4          11             22  \n",
       "3             20          25            203  \n",
       "4              0           0              0  "
      ]
     },
     "execution_count": 115,
     "metadata": {},
     "output_type": "execute_result"
    }
   ],
   "source": [
    "df_phase15['delete-revised'] = df_phase15.delete.str.extract('(\\d+)')\n",
    "df_phase15['delete-revised'] = df_phase15['delete-revised'].fillna(0)\n",
    "df_phase15.head(5)"
   ]
  },
  {
   "cell_type": "markdown",
   "id": "977cc798",
   "metadata": {},
   "source": [
    "# Phase 1 -5 - Bogota 3 ( Full Transparency Group )"
   ]
  },
  {
   "cell_type": "code",
   "execution_count": 116,
   "id": "fe4f7e87",
   "metadata": {},
   "outputs": [
    {
     "data": {
      "text/html": [
       "<div>\n",
       "<style scoped>\n",
       "    .dataframe tbody tr th:only-of-type {\n",
       "        vertical-align: middle;\n",
       "    }\n",
       "\n",
       "    .dataframe tbody tr th {\n",
       "        vertical-align: top;\n",
       "    }\n",
       "\n",
       "    .dataframe thead th {\n",
       "        text-align: right;\n",
       "    }\n",
       "</style>\n",
       "<table border=\"1\" class=\"dataframe\">\n",
       "  <thead>\n",
       "    <tr style=\"text-align: right;\">\n",
       "      <th></th>\n",
       "      <th>Project</th>\n",
       "      <th>Unnamed: 1</th>\n",
       "      <th>Unnamed: 2</th>\n",
       "    </tr>\n",
       "  </thead>\n",
       "  <tbody>\n",
       "    <tr>\n",
       "      <th>0</th>\n",
       "      <td>NicolasPrr</td>\n",
       "      <td>NaN</td>\n",
       "      <td>NaN</td>\n",
       "    </tr>\n",
       "    <tr>\n",
       "      <th>1</th>\n",
       "      <td>jscastelblancoh</td>\n",
       "      <td>NaN</td>\n",
       "      <td>NaN</td>\n",
       "    </tr>\n",
       "    <tr>\n",
       "      <th>2</th>\n",
       "      <td>juligarji</td>\n",
       "      <td>NaN</td>\n",
       "      <td>NaN</td>\n",
       "    </tr>\n",
       "    <tr>\n",
       "      <th>3</th>\n",
       "      <td>lacardenasv</td>\n",
       "      <td>NaN</td>\n",
       "      <td>NaN</td>\n",
       "    </tr>\n",
       "    <tr>\n",
       "      <th>4</th>\n",
       "      <td>jmalvarezd</td>\n",
       "      <td>NaN</td>\n",
       "      <td>NaN</td>\n",
       "    </tr>\n",
       "  </tbody>\n",
       "</table>\n",
       "</div>"
      ],
      "text/plain": [
       "           Project  Unnamed: 1  Unnamed: 2\n",
       "0       NicolasPrr         NaN         NaN\n",
       "1  jscastelblancoh         NaN         NaN\n",
       "2        juligarji         NaN         NaN\n",
       "3      lacardenasv         NaN         NaN\n",
       "4       jmalvarezd         NaN         NaN"
      ]
     },
     "execution_count": 116,
     "metadata": {},
     "output_type": "execute_result"
    }
   ],
   "source": [
    "df3 = pd.read_csv('./data/bogota-3.csv')\n",
    "df3.head(5)"
   ]
  },
  {
   "cell_type": "code",
   "execution_count": 117,
   "id": "dcde3eeb",
   "metadata": {},
   "outputs": [
    {
     "data": {
      "text/html": [
       "<div>\n",
       "<style scoped>\n",
       "    .dataframe tbody tr th:only-of-type {\n",
       "        vertical-align: middle;\n",
       "    }\n",
       "\n",
       "    .dataframe tbody tr th {\n",
       "        vertical-align: top;\n",
       "    }\n",
       "\n",
       "    .dataframe thead th {\n",
       "        text-align: right;\n",
       "    }\n",
       "</style>\n",
       "<table border=\"1\" class=\"dataframe\">\n",
       "  <thead>\n",
       "    <tr style=\"text-align: right;\">\n",
       "      <th></th>\n",
       "      <th>change</th>\n",
       "      <th>addition</th>\n",
       "      <th>delete</th>\n",
       "      <th>username</th>\n",
       "      <th>change-revised</th>\n",
       "      <th>add-revised</th>\n",
       "      <th>delete-revised</th>\n",
       "      <th>bogota-3</th>\n",
       "    </tr>\n",
       "  </thead>\n",
       "  <tbody>\n",
       "    <tr>\n",
       "      <th>0</th>\n",
       "      <td>0 files changed</td>\n",
       "      <td>NaN</td>\n",
       "      <td>NaN</td>\n",
       "      <td>adamantwharf</td>\n",
       "      <td>0</td>\n",
       "      <td>0</td>\n",
       "      <td>0</td>\n",
       "      <td>False</td>\n",
       "    </tr>\n",
       "    <tr>\n",
       "      <th>1</th>\n",
       "      <td>2 files changed</td>\n",
       "      <td>78 insertions(+)</td>\n",
       "      <td>117 deletions(-)</td>\n",
       "      <td>adriel62</td>\n",
       "      <td>2</td>\n",
       "      <td>78</td>\n",
       "      <td>117</td>\n",
       "      <td>True</td>\n",
       "    </tr>\n",
       "    <tr>\n",
       "      <th>2</th>\n",
       "      <td>4 files changed</td>\n",
       "      <td>11 insertions(+)</td>\n",
       "      <td>22 deletions(-)</td>\n",
       "      <td>afceballosr</td>\n",
       "      <td>4</td>\n",
       "      <td>11</td>\n",
       "      <td>22</td>\n",
       "      <td>True</td>\n",
       "    </tr>\n",
       "    <tr>\n",
       "      <th>3</th>\n",
       "      <td>20 files changed</td>\n",
       "      <td>25 insertions(+)</td>\n",
       "      <td>203 deletions(-)</td>\n",
       "      <td>AFelipeGA</td>\n",
       "      <td>20</td>\n",
       "      <td>25</td>\n",
       "      <td>203</td>\n",
       "      <td>True</td>\n",
       "    </tr>\n",
       "    <tr>\n",
       "      <th>4</th>\n",
       "      <td>0 files changed</td>\n",
       "      <td>NaN</td>\n",
       "      <td>NaN</td>\n",
       "      <td>afforeroc</td>\n",
       "      <td>0</td>\n",
       "      <td>0</td>\n",
       "      <td>0</td>\n",
       "      <td>True</td>\n",
       "    </tr>\n",
       "  </tbody>\n",
       "</table>\n",
       "</div>"
      ],
      "text/plain": [
       "              change           addition             delete      username  \\\n",
       "0    0 files changed                NaN                NaN  adamantwharf   \n",
       "1    2 files changed   78 insertions(+)   117 deletions(-)      adriel62   \n",
       "2    4 files changed   11 insertions(+)    22 deletions(-)   afceballosr   \n",
       "3   20 files changed   25 insertions(+)   203 deletions(-)     AFelipeGA   \n",
       "4    0 files changed                NaN                NaN     afforeroc   \n",
       "\n",
       "  change-revised add-revised delete-revised  bogota-3  \n",
       "0              0           0              0     False  \n",
       "1              2          78            117      True  \n",
       "2              4          11             22      True  \n",
       "3             20          25            203      True  \n",
       "4              0           0              0      True  "
      ]
     },
     "execution_count": 117,
     "metadata": {},
     "output_type": "execute_result"
    }
   ],
   "source": [
    "df_phase15['bogota-3'] = df_phase15['username'].isin(df3['Project'])\n",
    "df_phase15.head(5)"
   ]
  },
  {
   "cell_type": "code",
   "execution_count": 118,
   "id": "a7c18122",
   "metadata": {},
   "outputs": [
    {
     "data": {
      "text/html": [
       "<div>\n",
       "<style scoped>\n",
       "    .dataframe tbody tr th:only-of-type {\n",
       "        vertical-align: middle;\n",
       "    }\n",
       "\n",
       "    .dataframe tbody tr th {\n",
       "        vertical-align: top;\n",
       "    }\n",
       "\n",
       "    .dataframe thead th {\n",
       "        text-align: right;\n",
       "    }\n",
       "</style>\n",
       "<table border=\"1\" class=\"dataframe\">\n",
       "  <thead>\n",
       "    <tr style=\"text-align: right;\">\n",
       "      <th></th>\n",
       "      <th>change</th>\n",
       "      <th>addition</th>\n",
       "      <th>delete</th>\n",
       "      <th>username</th>\n",
       "      <th>change-revised</th>\n",
       "      <th>add-revised</th>\n",
       "      <th>delete-revised</th>\n",
       "      <th>bogota-3</th>\n",
       "    </tr>\n",
       "  </thead>\n",
       "  <tbody>\n",
       "    <tr>\n",
       "      <th>0</th>\n",
       "      <td>0 files changed</td>\n",
       "      <td>NaN</td>\n",
       "      <td>NaN</td>\n",
       "      <td>adamantwharf</td>\n",
       "      <td>0</td>\n",
       "      <td>0</td>\n",
       "      <td>0</td>\n",
       "      <td>0</td>\n",
       "    </tr>\n",
       "    <tr>\n",
       "      <th>1</th>\n",
       "      <td>2 files changed</td>\n",
       "      <td>78 insertions(+)</td>\n",
       "      <td>117 deletions(-)</td>\n",
       "      <td>adriel62</td>\n",
       "      <td>2</td>\n",
       "      <td>78</td>\n",
       "      <td>117</td>\n",
       "      <td>1</td>\n",
       "    </tr>\n",
       "    <tr>\n",
       "      <th>2</th>\n",
       "      <td>4 files changed</td>\n",
       "      <td>11 insertions(+)</td>\n",
       "      <td>22 deletions(-)</td>\n",
       "      <td>afceballosr</td>\n",
       "      <td>4</td>\n",
       "      <td>11</td>\n",
       "      <td>22</td>\n",
       "      <td>1</td>\n",
       "    </tr>\n",
       "    <tr>\n",
       "      <th>3</th>\n",
       "      <td>20 files changed</td>\n",
       "      <td>25 insertions(+)</td>\n",
       "      <td>203 deletions(-)</td>\n",
       "      <td>AFelipeGA</td>\n",
       "      <td>20</td>\n",
       "      <td>25</td>\n",
       "      <td>203</td>\n",
       "      <td>1</td>\n",
       "    </tr>\n",
       "    <tr>\n",
       "      <th>4</th>\n",
       "      <td>0 files changed</td>\n",
       "      <td>NaN</td>\n",
       "      <td>NaN</td>\n",
       "      <td>afforeroc</td>\n",
       "      <td>0</td>\n",
       "      <td>0</td>\n",
       "      <td>0</td>\n",
       "      <td>1</td>\n",
       "    </tr>\n",
       "  </tbody>\n",
       "</table>\n",
       "</div>"
      ],
      "text/plain": [
       "              change           addition             delete      username  \\\n",
       "0    0 files changed                NaN                NaN  adamantwharf   \n",
       "1    2 files changed   78 insertions(+)   117 deletions(-)      adriel62   \n",
       "2    4 files changed   11 insertions(+)    22 deletions(-)   afceballosr   \n",
       "3   20 files changed   25 insertions(+)   203 deletions(-)     AFelipeGA   \n",
       "4    0 files changed                NaN                NaN     afforeroc   \n",
       "\n",
       "  change-revised add-revised delete-revised  bogota-3  \n",
       "0              0           0              0         0  \n",
       "1              2          78            117         1  \n",
       "2              4          11             22         1  \n",
       "3             20          25            203         1  \n",
       "4              0           0              0         1  "
      ]
     },
     "execution_count": 118,
     "metadata": {},
     "output_type": "execute_result"
    }
   ],
   "source": [
    "df_phase15[\"bogota-3\"] = df_phase15[\"bogota-3\"].astype(int)\n",
    "df_phase15.head(5)"
   ]
  },
  {
   "cell_type": "code",
   "execution_count": 119,
   "id": "676143b3",
   "metadata": {},
   "outputs": [
    {
     "data": {
      "text/html": [
       "<div>\n",
       "<style scoped>\n",
       "    .dataframe tbody tr th:only-of-type {\n",
       "        vertical-align: middle;\n",
       "    }\n",
       "\n",
       "    .dataframe tbody tr th {\n",
       "        vertical-align: top;\n",
       "    }\n",
       "\n",
       "    .dataframe thead th {\n",
       "        text-align: right;\n",
       "    }\n",
       "</style>\n",
       "<table border=\"1\" class=\"dataframe\">\n",
       "  <thead>\n",
       "    <tr style=\"text-align: right;\">\n",
       "      <th></th>\n",
       "      <th>change</th>\n",
       "      <th>addition</th>\n",
       "      <th>delete</th>\n",
       "      <th>username</th>\n",
       "      <th>change-revised</th>\n",
       "      <th>add-revised</th>\n",
       "      <th>delete-revised</th>\n",
       "      <th>bogota-3</th>\n",
       "    </tr>\n",
       "  </thead>\n",
       "  <tbody>\n",
       "    <tr>\n",
       "      <th>1</th>\n",
       "      <td>2 files changed</td>\n",
       "      <td>78 insertions(+)</td>\n",
       "      <td>117 deletions(-)</td>\n",
       "      <td>adriel62</td>\n",
       "      <td>2</td>\n",
       "      <td>78</td>\n",
       "      <td>117</td>\n",
       "      <td>1</td>\n",
       "    </tr>\n",
       "    <tr>\n",
       "      <th>2</th>\n",
       "      <td>4 files changed</td>\n",
       "      <td>11 insertions(+)</td>\n",
       "      <td>22 deletions(-)</td>\n",
       "      <td>afceballosr</td>\n",
       "      <td>4</td>\n",
       "      <td>11</td>\n",
       "      <td>22</td>\n",
       "      <td>1</td>\n",
       "    </tr>\n",
       "    <tr>\n",
       "      <th>3</th>\n",
       "      <td>20 files changed</td>\n",
       "      <td>25 insertions(+)</td>\n",
       "      <td>203 deletions(-)</td>\n",
       "      <td>AFelipeGA</td>\n",
       "      <td>20</td>\n",
       "      <td>25</td>\n",
       "      <td>203</td>\n",
       "      <td>1</td>\n",
       "    </tr>\n",
       "    <tr>\n",
       "      <th>4</th>\n",
       "      <td>0 files changed</td>\n",
       "      <td>NaN</td>\n",
       "      <td>NaN</td>\n",
       "      <td>afforeroc</td>\n",
       "      <td>0</td>\n",
       "      <td>0</td>\n",
       "      <td>0</td>\n",
       "      <td>1</td>\n",
       "    </tr>\n",
       "    <tr>\n",
       "      <th>19</th>\n",
       "      <td>4 files changed</td>\n",
       "      <td>7 insertions(+)</td>\n",
       "      <td>59 deletions(-)</td>\n",
       "      <td>capinzor</td>\n",
       "      <td>4</td>\n",
       "      <td>7</td>\n",
       "      <td>59</td>\n",
       "      <td>1</td>\n",
       "    </tr>\n",
       "  </tbody>\n",
       "</table>\n",
       "</div>"
      ],
      "text/plain": [
       "               change           addition             delete     username  \\\n",
       "1     2 files changed   78 insertions(+)   117 deletions(-)     adriel62   \n",
       "2     4 files changed   11 insertions(+)    22 deletions(-)  afceballosr   \n",
       "3    20 files changed   25 insertions(+)   203 deletions(-)    AFelipeGA   \n",
       "4     0 files changed                NaN                NaN    afforeroc   \n",
       "19    4 files changed    7 insertions(+)    59 deletions(-)     capinzor   \n",
       "\n",
       "   change-revised add-revised delete-revised  bogota-3  \n",
       "1               2          78            117         1  \n",
       "2               4          11             22         1  \n",
       "3              20          25            203         1  \n",
       "4               0           0              0         1  \n",
       "19              4           7             59         1  "
      ]
     },
     "execution_count": 119,
     "metadata": {},
     "output_type": "execute_result"
    }
   ],
   "source": [
    "df3_phase15 = df_phase15.loc[df_phase15['bogota-3'] == 1]\n",
    "df3_phase15.head(5)"
   ]
  },
  {
   "cell_type": "code",
   "execution_count": 120,
   "id": "d87dcbcc",
   "metadata": {},
   "outputs": [],
   "source": [
    "df3_phase15.to_csv('df3_phase15_loc.csv')"
   ]
  },
  {
   "cell_type": "code",
   "execution_count": 121,
   "id": "5b3be535",
   "metadata": {},
   "outputs": [
    {
     "name": "stdout",
     "output_type": "stream",
     "text": [
      "41\n"
     ]
    }
   ],
   "source": [
    "print(len(df3_phase15.index))"
   ]
  },
  {
   "cell_type": "code",
   "execution_count": 122,
   "id": "ce712fab",
   "metadata": {},
   "outputs": [
    {
     "name": "stderr",
     "output_type": "stream",
     "text": [
      "<ipython-input-122-3eaa249bd74c>:1: SettingWithCopyWarning: \n",
      "A value is trying to be set on a copy of a slice from a DataFrame.\n",
      "Try using .loc[row_indexer,col_indexer] = value instead\n",
      "\n",
      "See the caveats in the documentation: https://pandas.pydata.org/pandas-docs/stable/user_guide/indexing.html#returning-a-view-versus-a-copy\n",
      "  df3_phase15['change-revised'] = pd.to_numeric(df3_phase15['change-revised'])\n"
     ]
    }
   ],
   "source": [
    "df3_phase15['change-revised'] = pd.to_numeric(df3_phase15['change-revised'])\n",
    "mean3_15_change = df3_phase15['change-revised'].mean()\n",
    "median3_15_change = df3_phase15['change-revised'].median()\n",
    "std3_15_change = df3_phase15['change-revised'].std()\n",
    "max3_15_change = df3_phase15['change-revised'].max()\n",
    "min3_15_change = df3_phase15['change-revised'].min()"
   ]
  },
  {
   "cell_type": "code",
   "execution_count": 123,
   "id": "6ca8505a",
   "metadata": {},
   "outputs": [
    {
     "name": "stderr",
     "output_type": "stream",
     "text": [
      "<ipython-input-123-005ccb61b5b5>:1: SettingWithCopyWarning: \n",
      "A value is trying to be set on a copy of a slice from a DataFrame.\n",
      "Try using .loc[row_indexer,col_indexer] = value instead\n",
      "\n",
      "See the caveats in the documentation: https://pandas.pydata.org/pandas-docs/stable/user_guide/indexing.html#returning-a-view-versus-a-copy\n",
      "  df3_phase15['delete-revised'] = pd.to_numeric(df3_phase15['delete-revised'])\n"
     ]
    },
    {
     "data": {
      "text/plain": [
       "array([117,  22, 203,   0,  59, 182,   0, 141,   0, 296,  10,   7,  65,\n",
       "         0,  96,   0, 110, 101, 240,   0, 295,  35, 151, 111, 303,  97,\n",
       "        21,   0,   3, 273,  17,  49, 124,   7,  70, 100, 610,  59, 228,\n",
       "        77,   0])"
      ]
     },
     "execution_count": 123,
     "metadata": {},
     "output_type": "execute_result"
    }
   ],
   "source": [
    "df3_phase15['delete-revised'] = pd.to_numeric(df3_phase15['delete-revised'])\n",
    "df3_phase15['delete-revised'].mean()\n",
    "mean3_15_delete = df3_phase15['delete-revised'].mean()\n",
    "median3_15_delete = df3_phase15['delete-revised'].median()\n",
    "std3_15_delete = df3_phase15['delete-revised'].std()\n",
    "max3_15_delete = df3_phase15['delete-revised'].max()\n",
    "min3_15_delete = df3_phase15['delete-revised'].min()\n",
    "\n",
    "df3_delete = df3_phase15['delete-revised']\n",
    "df3_delete.values"
   ]
  },
  {
   "cell_type": "code",
   "execution_count": 124,
   "id": "c0838a20",
   "metadata": {},
   "outputs": [
    {
     "name": "stderr",
     "output_type": "stream",
     "text": [
      "<ipython-input-124-0c8dc11310e8>:1: SettingWithCopyWarning: \n",
      "A value is trying to be set on a copy of a slice from a DataFrame.\n",
      "Try using .loc[row_indexer,col_indexer] = value instead\n",
      "\n",
      "See the caveats in the documentation: https://pandas.pydata.org/pandas-docs/stable/user_guide/indexing.html#returning-a-view-versus-a-copy\n",
      "  df3_phase15['add-revised'] = pd.to_numeric(df3_phase15['add-revised'])\n"
     ]
    },
    {
     "data": {
      "text/plain": [
       "array([ 78,  11,  25,   0,   7,  99,   0,  31,   0,  91,   8,   7,  54,\n",
       "         0,   7,   0,  62,  13,  43,   0,  56,  29,  41,  41,  14, 100,\n",
       "        22,   0,   4,  43,   5,  41,  14,  22,  27,  23,  27,  83,  48,\n",
       "        33,   0])"
      ]
     },
     "execution_count": 124,
     "metadata": {},
     "output_type": "execute_result"
    }
   ],
   "source": [
    "df3_phase15['add-revised'] = pd.to_numeric(df3_phase15['add-revised'])\n",
    "df3_phase15['add-revised'].mean()\n",
    "\n",
    "mean3_15_add = df3_phase15['add-revised'].mean()\n",
    "median3_15_add = df3_phase15['add-revised'].median()\n",
    "std3_15_add = df3_phase15['add-revised'].std()\n",
    "max3_15_add = df3_phase15['add-revised'].max()\n",
    "min3_15_add = df3_phase15['add-revised'].min()\n",
    "df3_add = df3_phase15['add-revised']\n",
    "df3_add.values"
   ]
  },
  {
   "cell_type": "code",
   "execution_count": 125,
   "id": "bcaedf28",
   "metadata": {},
   "outputs": [
    {
     "name": "stderr",
     "output_type": "stream",
     "text": [
      "<ipython-input-125-263fd2d315d6>:1: SettingWithCopyWarning: \n",
      "A value is trying to be set on a copy of a slice from a DataFrame.\n",
      "Try using .loc[row_indexer,col_indexer] = value instead\n",
      "\n",
      "See the caveats in the documentation: https://pandas.pydata.org/pandas-docs/stable/user_guide/indexing.html#returning-a-view-versus-a-copy\n",
      "  df3_phase15['add-revised'] = df3_phase15['add-revised'].astype(float)\n",
      "<ipython-input-125-263fd2d315d6>:2: SettingWithCopyWarning: \n",
      "A value is trying to be set on a copy of a slice from a DataFrame.\n",
      "Try using .loc[row_indexer,col_indexer] = value instead\n",
      "\n",
      "See the caveats in the documentation: https://pandas.pydata.org/pandas-docs/stable/user_guide/indexing.html#returning-a-view-versus-a-copy\n",
      "  df3_phase15['delete-revised'] = df3_phase15['delete-revised'].astype(float)\n",
      "<ipython-input-125-263fd2d315d6>:3: SettingWithCopyWarning: \n",
      "A value is trying to be set on a copy of a slice from a DataFrame.\n",
      "Try using .loc[row_indexer,col_indexer] = value instead\n",
      "\n",
      "See the caveats in the documentation: https://pandas.pydata.org/pandas-docs/stable/user_guide/indexing.html#returning-a-view-versus-a-copy\n",
      "  df3_phase15['effort'] = df3_phase15['add-revised'] - 0.5 * df3_phase15['delete-revised']\n"
     ]
    }
   ],
   "source": [
    "df3_phase15['add-revised'] = df3_phase15['add-revised'].astype(float)\n",
    "df3_phase15['delete-revised'] = df3_phase15['delete-revised'].astype(float)\n",
    "df3_phase15['effort'] = df3_phase15['add-revised'] - 0.5 * df3_phase15['delete-revised']\n",
    "mean3_15_effort = df3_phase15['effort'].mean()\n",
    "median3_15_effort = df3_phase15['effort'].median()\n",
    "std3_15_effort = df3_phase15['effort'].std()\n",
    "max3_15_effort = df3_phase15['effort'].max()\n",
    "min3_15_effort = df3_phase15['effort'].min()"
   ]
  },
  {
   "cell_type": "code",
   "execution_count": 126,
   "id": "12896073",
   "metadata": {},
   "outputs": [
    {
     "data": {
      "text/plain": [
       "array([  19.5,    0. ,  -76.5,    0. ,  -22.5,    8. ,    0. ,  -39.5,\n",
       "          0. ,  -57. ,    3. ,    3.5,   21.5,    0. ,  -41. ,    0. ,\n",
       "          7. ,  -37.5,  -77. ,    0. ,  -91.5,   11.5,  -34.5,  -14.5,\n",
       "       -137.5,   51.5,   11.5,    0. ,    2.5,  -93.5,   -3.5,   16.5,\n",
       "        -48. ,   18.5,   -8. ,  -27. , -278. ,   53.5,  -66. ,   -5.5,\n",
       "          0. ])"
      ]
     },
     "execution_count": 126,
     "metadata": {},
     "output_type": "execute_result"
    }
   ],
   "source": [
    "import numpy as np\n",
    "np.set_printoptions(suppress=True)\n",
    "diff3 = df3_phase15['add-revised'] - 0.5 * df3_phase15['delete-revised']\n",
    "diff3.values"
   ]
  },
  {
   "cell_type": "markdown",
   "id": "004f2410",
   "metadata": {},
   "source": [
    "# Phase 4 -5 - Bogota 2 ( Solution Transparency )"
   ]
  },
  {
   "cell_type": "code",
   "execution_count": null,
   "id": "73860ca6",
   "metadata": {},
   "outputs": [],
   "source": [
    "df2 = pd.read_csv('./data/bogota-2.csv')\n",
    "df2.head(5)"
   ]
  },
  {
   "cell_type": "code",
   "execution_count": null,
   "id": "83224f65",
   "metadata": {},
   "outputs": [],
   "source": [
    "df_phase15['bogota-2'] = df_phase15['username'].isin(df2['Project'])\n",
    "df_phase15.head(5)"
   ]
  },
  {
   "cell_type": "code",
   "execution_count": null,
   "id": "5fb839c4",
   "metadata": {},
   "outputs": [],
   "source": [
    "df_phase15[\"bogota-2\"] = df_phase15[\"bogota-2\"].astype(int)\n",
    "df_phase15.head(5)"
   ]
  },
  {
   "cell_type": "code",
   "execution_count": null,
   "id": "de7e24d5",
   "metadata": {},
   "outputs": [],
   "source": [
    "df2_phase15 = df_phase15.loc[df_phase15['bogota-2'] == 1]\n",
    "df2_phase15.head(5)"
   ]
  },
  {
   "cell_type": "code",
   "execution_count": null,
   "id": "97d30974",
   "metadata": {},
   "outputs": [],
   "source": [
    "df2_phase15.to_csv('df2_phase15_loc.csv')"
   ]
  },
  {
   "cell_type": "code",
   "execution_count": null,
   "id": "c6fe5341",
   "metadata": {},
   "outputs": [],
   "source": [
    "print(len(df2_phase15.index))"
   ]
  },
  {
   "cell_type": "code",
   "execution_count": null,
   "id": "988f1f20",
   "metadata": {},
   "outputs": [],
   "source": [
    "df2_phase15['change-revised'] = pd.to_numeric(df2_phase15['change-revised'])\n",
    "mean2_15_change = df2_phase15['change-revised'].mean()\n",
    "median2_15_change = df2_phase15['change-revised'].median()\n",
    "std2_15_change = df2_phase15['change-revised'].std()\n",
    "max2_15_change = df2_phase15['change-revised'].max()\n",
    "min2_15_change = df2_phase15['change-revised'].min()"
   ]
  },
  {
   "cell_type": "code",
   "execution_count": null,
   "id": "750fc57a",
   "metadata": {},
   "outputs": [],
   "source": [
    "df2_phase15['delete-revised'] = pd.to_numeric(df2_phase15['delete-revised'])\n",
    "mean2_15_delete = df2_phase15['delete-revised'].mean()\n",
    "median2_15_delete = df2_phase15['delete-revised'].median()\n",
    "std2_15_delete = df2_phase15['delete-revised'].std()\n",
    "max2_15_delete = df2_phase15['delete-revised'].max()\n",
    "min2_15_delete = df2_phase15['delete-revised'].min()\n",
    "\n",
    "df2_delete = df2_phase15['delete-revised']\n",
    "df2_delete.values"
   ]
  },
  {
   "cell_type": "code",
   "execution_count": null,
   "id": "65f0f491",
   "metadata": {},
   "outputs": [],
   "source": [
    "df2_phase15['add-revised'] = pd.to_numeric(df2_phase15['add-revised'])\n",
    "df2_phase15['add-revised'].mean()\n",
    "\n",
    "mean2_15_add = df2_phase15['add-revised'].mean()\n",
    "median2_15_add = df2_phase15['add-revised'].median()\n",
    "std2_15_add = df2_phase15['add-revised'].std()\n",
    "max2_15_add = df2_phase15['add-revised'].max()\n",
    "min2_15_add = df2_phase15['add-revised'].min()\n",
    "df2_add = df2_phase15['add-revised']\n",
    "df2_add.values"
   ]
  },
  {
   "cell_type": "code",
   "execution_count": null,
   "id": "5dc2909b",
   "metadata": {},
   "outputs": [],
   "source": [
    "df2_phase15['add-revised'] = df2_phase15['add-revised'].astype(float)\n",
    "df2_phase15['delete-revised'] = df2_phase15['delete-revised'].astype(float)\n",
    "df2_phase15['effort'] = df2_phase15['add-revised'] - 0.5 * df2_phase15['delete-revised']\n",
    "mean2_15_effort = df2_phase15['effort'].mean() \n",
    "median2_15_effort = df2_phase15['effort'].median()\n",
    "std2_15_effort = df2_phase15['effort'].std()\n",
    "max2_15_effort = df2_phase15['effort'].max()\n",
    "min2_15_effort = df2_phase15['effort'].min()"
   ]
  },
  {
   "cell_type": "code",
   "execution_count": null,
   "id": "4cf05f0d",
   "metadata": {},
   "outputs": [],
   "source": [
    "import numpy as np\n",
    "np.set_printoptions(suppress=True)\n",
    "diff2 = df2_phase15['add-revised'] - 0.5 * df2_phase15['delete-revised']\n",
    "diff2.values"
   ]
  },
  {
   "cell_type": "markdown",
   "id": "c0ea0a06",
   "metadata": {},
   "source": [
    "# Phase 1 - 5 - Bogota 1 ( Performance Transparency )"
   ]
  },
  {
   "cell_type": "code",
   "execution_count": null,
   "id": "70f8548f",
   "metadata": {},
   "outputs": [],
   "source": [
    "df1 = pd.read_csv('./data/bogota-1.csv')\n",
    "df1.head(5)\n",
    "print(len(df1.index))"
   ]
  },
  {
   "cell_type": "code",
   "execution_count": null,
   "id": "11e89672",
   "metadata": {},
   "outputs": [],
   "source": [
    "df_phase15['bogota-1'] = df_phase15['username'].isin(df1['Project'])\n",
    "df_phase15.head(5)"
   ]
  },
  {
   "cell_type": "code",
   "execution_count": null,
   "id": "431cc940",
   "metadata": {},
   "outputs": [],
   "source": [
    "df_phase15[\"bogota-1\"] = df_phase15[\"bogota-1\"].astype(int)\n",
    "df_phase15.head(5)"
   ]
  },
  {
   "cell_type": "code",
   "execution_count": null,
   "id": "e434cfde",
   "metadata": {},
   "outputs": [],
   "source": [
    "df1_phase15 = df_phase15.loc[df_phase15['bogota-1'] == 1]\n",
    "df1_phase15.head(5)"
   ]
  },
  {
   "cell_type": "code",
   "execution_count": null,
   "id": "f754a11d",
   "metadata": {},
   "outputs": [],
   "source": [
    "df1_phase15.to_csv('df1_phase15_loc.csv')"
   ]
  },
  {
   "cell_type": "code",
   "execution_count": null,
   "id": "f9aed1cb",
   "metadata": {},
   "outputs": [],
   "source": [
    "print(len(df1_phase15.index))"
   ]
  },
  {
   "cell_type": "code",
   "execution_count": null,
   "id": "3431baa5",
   "metadata": {},
   "outputs": [],
   "source": [
    "df1_phase15['change-revised'] = pd.to_numeric(df1_phase15['change-revised'])\n",
    "mean1_15_change = df1_phase15['change-revised'].mean()\n",
    "median1_15_change = df1_phase15['change-revised'].median()\n",
    "std1_15_change = df1_phase15['change-revised'].std()\n",
    "max1_15_change = df1_phase15['change-revised'].max()\n",
    "min1_15_change = df1_phase15['change-revised'].min()"
   ]
  },
  {
   "cell_type": "code",
   "execution_count": null,
   "id": "8d32a8aa",
   "metadata": {},
   "outputs": [],
   "source": [
    "df1_phase15['delete-revised'] = pd.to_numeric(df1_phase15['delete-revised'])\n",
    "mean1_15_delete = df1_phase15['delete-revised'].mean()\n",
    "median1_15_delete =  df1_phase15['delete-revised'].median()\n",
    "std1_15_delete =  df1_phase15['delete-revised'].std()\n",
    "max1_15_delete = df1_phase15['delete-revised'].max()\n",
    "min1_15_delete = df1_phase15['delete-revised'].min()\n",
    "\n",
    "df1_delete = df1_phase15['delete-revised']\n",
    "df1_delete.values"
   ]
  },
  {
   "cell_type": "code",
   "execution_count": null,
   "id": "0748f0f6",
   "metadata": {},
   "outputs": [],
   "source": [
    "df1_phase15['add-revised'] = pd.to_numeric(df1_phase15['add-revised'])\n",
    "df1_phase15['add-revised'].mean()\n",
    "\n",
    "mean1_15_add = df1_phase15['add-revised'].mean()\n",
    "median1_15_add = df1_phase15['add-revised'].median()\n",
    "std1_15_add = df1_phase15['add-revised'].std()\n",
    "max1_15_add = df1_phase15['add-revised'].max()\n",
    "min1_15_add = df1_phase15['add-revised'].min()\n",
    "\n",
    "df1_add = df1_phase15['add-revised']\n",
    "df1_add.values"
   ]
  },
  {
   "cell_type": "code",
   "execution_count": null,
   "id": "97f73248",
   "metadata": {},
   "outputs": [],
   "source": [
    "df1_phase15['add-revised'] = df1_phase15['add-revised'].astype(float)\n",
    "df1_phase15['delete-revised'] = df1_phase15['delete-revised'].astype(float)\n",
    "df1_phase15['effort'] = df1_phase15['add-revised'] - 0.5 * df1_phase15['delete-revised']\n",
    "mean1_15_effort = df1_phase15['effort'].mean()\n",
    "median1_15_effort = df1_phase15['effort'].median()\n",
    "std1_15_effort = df1_phase15['effort'].std()\n",
    "max1_15_effort = df1_phase15['effort'].max()\n",
    "min1_15_effort = df1_phase15['effort'].min()"
   ]
  },
  {
   "cell_type": "code",
   "execution_count": null,
   "id": "210108c5",
   "metadata": {},
   "outputs": [],
   "source": [
    "import numpy as np\n",
    "np.set_printoptions(suppress=True)\n",
    "diff1 = df1_phase15['add-revised'] - 0.5 * df1_phase15['delete-revised']\n",
    "diff1.values"
   ]
  },
  {
   "cell_type": "markdown",
   "id": "2df27db0",
   "metadata": {},
   "source": [
    "# Phase 4 - 5 - Bogota 0 ( No Transparency )"
   ]
  },
  {
   "cell_type": "code",
   "execution_count": null,
   "id": "258bd17a",
   "metadata": {},
   "outputs": [],
   "source": [
    "df0 = pd.read_csv('./data/bogota-0.csv')\n",
    "df0.head(5)"
   ]
  },
  {
   "cell_type": "code",
   "execution_count": null,
   "id": "bec58cfa",
   "metadata": {},
   "outputs": [],
   "source": [
    "df_phase15['bogota-0'] = df_phase15['username'].isin(df0['Project'])\n",
    "df_phase15.head(5)"
   ]
  },
  {
   "cell_type": "code",
   "execution_count": null,
   "id": "9d59b825",
   "metadata": {},
   "outputs": [],
   "source": [
    "df_phase15[\"bogota-0\"] = df_phase15[\"bogota-0\"].astype(int)\n",
    "df_phase15.head(5)"
   ]
  },
  {
   "cell_type": "code",
   "execution_count": null,
   "id": "5b3ee00a",
   "metadata": {},
   "outputs": [],
   "source": [
    "df0_phase15 = df_phase15.loc[df_phase15['bogota-0'] == 1]\n",
    "df0_phase15.head(5)"
   ]
  },
  {
   "cell_type": "code",
   "execution_count": null,
   "id": "2003a9cb",
   "metadata": {},
   "outputs": [],
   "source": [
    "df0_phase15.to_csv('df0_phase15_loc.csv')"
   ]
  },
  {
   "cell_type": "code",
   "execution_count": null,
   "id": "f30663d3",
   "metadata": {},
   "outputs": [],
   "source": [
    "print(len(df0_phase15.index))"
   ]
  },
  {
   "cell_type": "code",
   "execution_count": null,
   "id": "1a14db0a",
   "metadata": {},
   "outputs": [],
   "source": [
    "df0_phase15['change-revised'] = pd.to_numeric(df0_phase15['change-revised'])\n",
    "mean0_15_change = df0_phase15['change-revised'].mean()\n",
    "median0_15_change = df0_phase15['change-revised'].median()\n",
    "std0_15_change = df0_phase15['change-revised'].std()\n",
    "max0_15_change = df0_phase15['change-revised'].max()\n",
    "min0_15_change = df0_phase15['change-revised'].min()"
   ]
  },
  {
   "cell_type": "code",
   "execution_count": null,
   "id": "7e1d5217",
   "metadata": {},
   "outputs": [],
   "source": [
    "df0_phase15['delete-revised'] = pd.to_numeric(df0_phase15['delete-revised'])\n",
    "mean0_15_delete = df0_phase15['delete-revised'].mean()\n",
    "median0_15_delete = df0_phase15['delete-revised'].median()\n",
    "std0_15_delete = df0_phase15['delete-revised'].std()\n",
    "max0_15_delete = df0_phase15['delete-revised'].max()\n",
    "min0_15_delete = df0_phase15['delete-revised'].min()\n",
    "\n",
    "df0_delete = df0_phase15['delete-revised']\n",
    "df0_delete.values"
   ]
  },
  {
   "cell_type": "code",
   "execution_count": null,
   "id": "4e53a166",
   "metadata": {},
   "outputs": [],
   "source": [
    "df0_phase15['add-revised'] = pd.to_numeric(df0_phase15['add-revised'])\n",
    "df0_phase15['add-revised'].mean()\n",
    "\n",
    "mean0_15_add = df0_phase15['add-revised'].mean()\n",
    "median0_15_add =  df0_phase15['add-revised'].median()\n",
    "std0_15_add = df0_phase15['add-revised'].std()\n",
    "max0_15_add = df0_phase15['add-revised'].max()\n",
    "min0_15_add = df0_phase15['add-revised'].min()\n",
    "\n",
    "df0_add = df0_phase15['add-revised']\n",
    "df0_add.values"
   ]
  },
  {
   "cell_type": "code",
   "execution_count": null,
   "id": "eca3f4de",
   "metadata": {},
   "outputs": [],
   "source": [
    "df0_phase15['add-revised'] = df0_phase15['add-revised'].astype(float)\n",
    "df0_phase15['delete-revised'] = df0_phase15['delete-revised'].astype(float)\n",
    "df0_phase15['effort'] = df0_phase15['add-revised'] - 0.5 * df0_phase15['delete-revised']\n",
    "mean0_15_effort = df0_phase15['effort'].mean()\n",
    "median0_15_effort = df0_phase15['effort'].median()\n",
    "std0_15_effort = df0_phase15['effort'].std()\n",
    "max0_15_effort = df0_phase15['effort'].max()\n",
    "min0_15_effort = df0_phase15['effort'].min()"
   ]
  },
  {
   "cell_type": "code",
   "execution_count": null,
   "id": "4cd9d405",
   "metadata": {
    "scrolled": true
   },
   "outputs": [],
   "source": [
    "import numpy as np\n",
    "np.set_printoptions(suppress=True)\n",
    "diff0 = df0_phase15['add-revised'] - 0.5 * df0_phase15['delete-revised']\n",
    "diff0.values"
   ]
  },
  {
   "cell_type": "markdown",
   "id": "c744aca1",
   "metadata": {},
   "source": [
    "# ANOVA on effort Phase 1 - 5"
   ]
  },
  {
   "cell_type": "code",
   "execution_count": null,
   "id": "4085862c",
   "metadata": {},
   "outputs": [],
   "source": [
    "import scipy.stats as stats\n",
    "# stats f_oneway functions takes the groups as input and returns ANOVA F and p value\n",
    "fvalue, pvalue = stats.f_oneway(diff0, diff1, diff2, diff3)\n",
    "print(fvalue, pvalue)"
   ]
  },
  {
   "cell_type": "code",
   "execution_count": null,
   "id": "73e73dee",
   "metadata": {},
   "outputs": [],
   "source": [
    "import pandas as pd\n",
    "import numpy as np\n",
    "\n",
    "df = pd.DataFrame({'score': [0. ,   0. ,  16.5,   0. ,   0. ,   0. , -75. , -17.5,   0. ,\n",
    "       -31. , -32.5,   0. ,   0. , -43. ,   0. ,   0. ,   0. ,  -6.5,\n",
    "         0. ,   7. ,  -9. , 274.5,   0. ,   1. ,   0. ,  -2. ,   2.5,\n",
    "         0. , -29. ,   0. , -11.5,  -0.5,   0. ,   3. ,   2. ,   0.5,\n",
    "         0. ,   0., 0. , -104.5,  -21. ,  -11.5,   26. ,  -17.5,    0. ,  -20. ,\n",
    "          0. ,    0. ,    0. , -404. ,   49.5,   35.5, -147.5,  -23. ,\n",
    "         -6.5,   28. ,    0. ,    1. ,    0. ,   -1.5,  -36. ,   -1. ,\n",
    "         -7. ,  -49. ,    0. ,  -10.5,  -15. ,   31.5,  -56.5,    2. ,\n",
    "          0. ,   19.5,    0. , -121. ,  -25. ,  -34. , -183.5,    0., 0. ,    1. ,  -17. ,   -8. ,    0. ,    0. ,    3. ,    8.5,\n",
    "        -11.5,    0. ,    2. ,   27.5,  -30.5,    0. ,    4.5,    0. ,\n",
    "          0. ,   -6. ,    0. ,   24.5,   35. ,   -6.5,    0. ,  -23.5,\n",
    "          0. ,    6.5,   -6.5, -390.5,   -4. ,   -7. ,    8. ,    0. ,\n",
    "          0. ,   -4. ,    0. ,   11. ,  -45.5,    0. ,  -17. ,   -5.5,\n",
    "        -73. , 19.5,    0. ,  -76.5,    0. ,  -22.5,    8. ,    0. ,  -39.5,\n",
    "          0. ,  -57. ,    3. ,    3.5,   21.5,    0. ,  -41. ,    0. ,\n",
    "          7. ,  -37.5,  -77. ,    0. ,  -91.5,   11.5,  -34.5,  -14.5,\n",
    "       -137.5,   51.5,   11.5,    0. ,    2.5,  -93.5,   -3.5,   16.5,\n",
    "        -48. ,   18.5,   -8. ,  -27. , -278. ,   53.5,  -66. ,   -5.5,\n",
    "          0. ],\n",
    "                   'group': np.repeat([0, 1, 2, 3], repeats=[38, 40, 41, 41])})"
   ]
  },
  {
   "cell_type": "code",
   "execution_count": null,
   "id": "4775b4ea",
   "metadata": {},
   "outputs": [],
   "source": [
    "from statsmodels.stats.multicomp import pairwise_tukeyhsd\n",
    "\n",
    "\n",
    "# perform Tukey's test\n",
    "tukey = pairwise_tukeyhsd(endog=df['score'],\n",
    "                          groups=df['group'],\n",
    "                          alpha=0.05)\n",
    "\n",
    "#display results\n",
    "print(tukey)\n"
   ]
  },
  {
   "cell_type": "markdown",
   "id": "9f6a4a9f",
   "metadata": {},
   "source": [
    "# ANOVA on additions Phase 1 - 5 "
   ]
  },
  {
   "cell_type": "code",
   "execution_count": null,
   "id": "a55adf2e",
   "metadata": {},
   "outputs": [],
   "source": [
    "import scipy.stats as stats\n",
    "# stats f_oneway functions takes the groups as input and returns ANOVA F and p value\n",
    "fvalue, pvalue = stats.f_oneway(df0_add, df1_add, df2_add, df3_add)\n",
    "print(fvalue, pvalue)"
   ]
  },
  {
   "cell_type": "code",
   "execution_count": null,
   "id": "1f404cae",
   "metadata": {},
   "outputs": [],
   "source": [
    "import pandas as pd\n",
    "import numpy as np\n",
    "\n",
    "df = pd.DataFrame({'score': [ 0,   0,  55,   0,   0,   0,  23,   3,   0,  47,  92,   0,   0,\n",
    "        36,   0,   0,   0,  36,   0,   7,  19, 292,   0,  13,   0,  17,\n",
    "         8,   0,  43,   0,  41,   3,   0,   4,  31,   8,   0,   0, 0,  10,   4,   2,  39,   1,   0,  11,   0,   0,   0, 100,  71,\n",
    "       111,   6,   8,   7,  48,   0,   7,   0,   1,  21,   1, 180,  22,\n",
    "         0,   2,  88,  98,  17,  14,   0,  34,   0,  31,   8,   2,  46,\n",
    "         0, 25,   3,   2,  19,   0,   0,  11, 146,   4,   0,   2,  84,  22,\n",
    "         0,  12,   0,   0,  73,   0,  29, 121,   4,   0,   4,   0,  14,\n",
    "        72,  93,   1,  15,  38,   0,   0,  10,   0,  23,  19,   0,  12,\n",
    "         6,  25,  78,  11,  25,   0,   7,  99,   0,  31,   0,  91,   8,   7,  54,\n",
    "         0,   7,   0,  62,  13,  43,   0,  56,  29,  41,  41,  14, 100,\n",
    "        22,   0,   4,  43,   5,  41,  14,  22,  27,  23,  27,  83,  48,\n",
    "        33,   0],\n",
    "                   'group': np.repeat([0, 1, 2, 3], repeats=[38, 40, 41, 41])})"
   ]
  },
  {
   "cell_type": "code",
   "execution_count": null,
   "id": "50ba5314",
   "metadata": {},
   "outputs": [],
   "source": [
    "from statsmodels.stats.multicomp import pairwise_tukeyhsd\n",
    "\n",
    "\n",
    "# perform Tukey's test\n",
    "tukey = pairwise_tukeyhsd(endog=df['score'],\n",
    "                          groups=df['group'],\n",
    "                          alpha=0.05)\n",
    "\n",
    "#display results\n",
    "print(tukey)"
   ]
  },
  {
   "cell_type": "markdown",
   "id": "60ea2387",
   "metadata": {},
   "source": [
    "# ANOVA on deletions Phase 1 - 5 "
   ]
  },
  {
   "cell_type": "code",
   "execution_count": null,
   "id": "c9f1f738",
   "metadata": {},
   "outputs": [],
   "source": [
    "import scipy.stats as stats\n",
    "# stats f_oneway functions takes the groups as input and returns ANOVA F and p value\n",
    "fvalue, pvalue = stats.f_oneway(df0_delete, df1_delete, df2_delete, df3_delete)\n",
    "print(fvalue, pvalue)"
   ]
  },
  {
   "cell_type": "code",
   "execution_count": null,
   "id": "6d1fac7c",
   "metadata": {},
   "outputs": [],
   "source": [
    "import pandas as pd\n",
    "import numpy as np\n",
    "\n",
    "df = pd.DataFrame({'score': [ 0,   0,  77,   0,   0,   0, 196,  41,   0, 156, 249,   0,   0,\n",
    "       158,   0,   0,   0,  85,   0,   0,  56,  35,   0,  24,   0,  38,\n",
    "        11,   0, 144,   0, 105,   7,   0,   2,  58,  15,   0,   0, 0,  229,   50,   27,   26,   37,    0,   62,    0,    0,    0,\n",
    "       1008,   43,  151,  307,   62,   27,   40,    0,   12,    0,    5,\n",
    "        114,    4,  374,  142,    0,   25,  206,  133,  147,   24,    0,\n",
    "         29,    0,  304,   66,   72,  459,    0, 50,   4,  38,  54,   0,   0,  16, 275,  31,   0,   0, 113, 105,\n",
    "         0,  15,   0,   0, 158,   0,   9, 172,  21,   0,  55,   0,  15,\n",
    "       157, 967,  10,  44,  60,   0,   0,  28,   0,  24, 129,   0,  58,\n",
    "        23, 196, 117,  22, 203,   0,  59, 182,   0, 141,   0, 296,  10,   7,  65,\n",
    "         0,  96,   0, 110, 101, 240,   0, 295,  35, 151, 111, 303,  97,\n",
    "        21,   0,   3, 273,  17,  49, 124,   7,  70, 100, 610,  59, 228,\n",
    "        77,   0 ],\n",
    "                   'group': np.repeat([0, 1, 2, 3], repeats=[38, 40, 41, 41])})"
   ]
  },
  {
   "cell_type": "code",
   "execution_count": null,
   "id": "1d090cd5",
   "metadata": {},
   "outputs": [],
   "source": [
    "from statsmodels.stats.multicomp import pairwise_tukeyhsd\n",
    "\n",
    "\n",
    "# perform Tukey's test\n",
    "tukey = pairwise_tukeyhsd(endog=df['score'],\n",
    "                          groups=df['group'],\n",
    "                          alpha=0.05)\n",
    "\n",
    "#display results\n",
    "print(tukey)"
   ]
  },
  {
   "cell_type": "markdown",
   "id": "eb6d9b40",
   "metadata": {},
   "source": [
    "# Phase 1 - 5 Visualizations "
   ]
  },
  {
   "cell_type": "code",
   "execution_count": null,
   "id": "042be1a7",
   "metadata": {},
   "outputs": [],
   "source": [
    "import matplotlib.pyplot as plt\n",
    "import numpy as np\n",
    "\n",
    "\n",
    "city=['Bogota 0 (No Transparency)','Bogota 1 (Performance Transparency)',' Bogota 2 (Solution Transparency)','Bogota 3 (Full Transparency)']\n",
    "pos = np.arange(len(city))\n",
    "# Lines_of_Code_Added =[20.47, 24.75, 21.68 , 29.49]\n",
    "Lines_of_Code_Added = [mean0_15_add, mean1_15_add, mean2_15_add, mean3_15_add]\n",
    "\n",
    "\n",
    "plt.barh(pos,Lines_of_Code_Added,color=['g' if e > 0 else 'r' for e in Lines_of_Code_Added],edgecolor='black')\n",
    "plt.yticks(pos, city)\n",
    "plt.xlabel('Lines_of_Code_Added', fontsize=16)\n",
    "plt.ylabel('Groups', fontsize=16)\n",
    "plt.title('Phase 1 - 5 -> Mean of Lines of Code Added',fontsize=20)\n",
    "plt.show()"
   ]
  },
  {
   "cell_type": "code",
   "execution_count": null,
   "id": "142cb561",
   "metadata": {},
   "outputs": [],
   "source": [
    "import matplotlib.pyplot as plt\n",
    "import numpy as np\n",
    "\n",
    "\n",
    "city=['Bogota 0 (No Transparency)','Bogota 1 (Performance Transparency)',' Bogota 2 (Solution Transparency)','Bogota 3 (Full Transparency)']\n",
    "pos = np.arange(len(city))\n",
    "Lines_of_Code_Added =[median0_15_add, median1_15_add, median2_15_add, median3_15_add]\n",
    "\n",
    "\n",
    "plt.barh(pos,Lines_of_Code_Added,color=['g' if e > 0 else 'r' for e in Lines_of_Code_Added],edgecolor='black')\n",
    "plt.yticks(pos, city)\n",
    "plt.xlabel('Lines_of_Code_Added', fontsize=16)\n",
    "plt.ylabel('Groups', fontsize=16)\n",
    "plt.title('Phase 1 - 5 -> Median of Lines of Code Added',fontsize=20)\n",
    "plt.show()"
   ]
  },
  {
   "cell_type": "code",
   "execution_count": null,
   "id": "cc1cd9e0",
   "metadata": {},
   "outputs": [],
   "source": [
    "import matplotlib.pyplot as plt\n",
    "import numpy as np\n",
    "\n",
    "\n",
    "city=['Bogota 0 (No Transparency)','Bogota 1 (Performance Transparency)',' Bogota 2 (Solution Transparency)','Bogota 3 (Full Transparency)']\n",
    "pos = np.arange(len(city))\n",
    "Lines_of_Code_Added = [max0_15_add, max1_15_add, max2_15_add, max3_15_add]\n",
    "\n",
    "\n",
    "plt.barh(pos,Lines_of_Code_Added,color=['g' if e > 0 else 'r' for e in Lines_of_Code_Added],edgecolor='black')\n",
    "plt.yticks(pos, city)\n",
    "plt.xlabel('Lines_of_Code_Added', fontsize=16)\n",
    "plt.ylabel('Groups', fontsize=16)\n",
    "plt.title('Phase 1 - 5 -> Max of Lines of Code Added',fontsize=20)\n",
    "plt.show()"
   ]
  },
  {
   "cell_type": "code",
   "execution_count": null,
   "id": "f8588f91",
   "metadata": {},
   "outputs": [],
   "source": [
    "import matplotlib.pyplot as plt\n",
    "import numpy as np\n",
    "\n",
    "\n",
    "city=['Bogota 0 (No Transparency)','Bogota 1 (Performance Transparency)',' Bogota 2 (Solution Transparency)','Bogota 3 (Full Transparency)']\n",
    "pos = np.arange(len(city))\n",
    "Lines_of_Code_Added =[min0_15_add, min1_15_add, min2_15_add, min3_15_add]\n",
    "\n",
    "\n",
    "plt.barh(pos,Lines_of_Code_Added,color=['g' if e > 0 else 'r' for e in Lines_of_Code_Added],edgecolor='black')\n",
    "plt.yticks(pos, city)\n",
    "plt.xlabel('Lines_of_Code_Added', fontsize=16)\n",
    "plt.ylabel('Groups', fontsize=16)\n",
    "plt.title('Phase 1 - 5 -> Min of Lines of Code Added',fontsize=20)\n",
    "plt.show()"
   ]
  },
  {
   "cell_type": "code",
   "execution_count": null,
   "id": "a9aa8fb5",
   "metadata": {},
   "outputs": [],
   "source": [
    "import matplotlib.pyplot as plt\n",
    "import numpy as np\n",
    "\n",
    "\n",
    "city=['Bogota 0 (No Transparency)','Bogota 1 (Performance Transparency)',' Bogota 2 (Solution Transparency)','Bogota 3 (Full Transparency)']\n",
    "pos = np.arange(len(city))\n",
    "Lines_of_Code_Added =[std0_15_add, std1_15_add, std2_15_add, std3_15_add ]\n",
    "\n",
    "\n",
    "plt.barh(pos,Lines_of_Code_Added,color=['g' if e > 0 else 'r' for e in Lines_of_Code_Added],edgecolor='black')\n",
    "plt.yticks(pos, city)\n",
    "plt.xlabel('Lines_of_Code_Added', fontsize=16)\n",
    "plt.ylabel('Groups', fontsize=16)\n",
    "plt.title('Phase 1 - 5 -> Standard Deviation of Lines of Code Added',fontsize=20)"
   ]
  },
  {
   "cell_type": "markdown",
   "id": "93226f7a",
   "metadata": {},
   "source": [
    "# Effort Phase 1 - 5"
   ]
  },
  {
   "cell_type": "code",
   "execution_count": null,
   "id": "adabe360",
   "metadata": {},
   "outputs": [],
   "source": [
    "import matplotlib.pyplot as plt\n",
    "import numpy as np\n",
    "\n",
    "\n",
    "city=['Bogota 0 (No Transparency)','Bogota 1 (Performance Transparency)',' Bogota 2 (Solution Transparency)','Bogota 3 (Full Transparency)']\n",
    "pos = np.arange(len(city))\n",
    "Effort =[mean0_15_effort, mean1_15_effort, mean2_15_effort, mean3_15_effort]\n",
    "\n",
    "\n",
    "plt.barh(pos,Effort,color=['g' if e > 0 else 'r' for e in Effort],edgecolor='black')\n",
    "plt.yticks(pos, city)\n",
    "plt.xlabel('Effort', fontsize=16)\n",
    "plt.ylabel('Groups', fontsize=16)\n",
    "plt.title('Phase 1 - 5 -> Mean of Effort',fontsize=20)\n",
    "plt.show()"
   ]
  },
  {
   "cell_type": "code",
   "execution_count": null,
   "id": "cca781aa",
   "metadata": {},
   "outputs": [],
   "source": [
    "import matplotlib.pyplot as plt\n",
    "import numpy as np\n",
    "\n",
    "\n",
    "city=['Bogota 0 (No Transparency)','Bogota 1 (Performance Transparency)',' Bogota 2 (Solution Transparency)','Bogota 3 (Full Transparency)']\n",
    "pos = np.arange(len(city))\n",
    "Effort =[median0_15_effort, median1_15_effort, median2_15_effort, median3_15_effort ]\n",
    "\n",
    "\n",
    "plt.barh(pos,Effort,color=['g' if e > 0 else 'r' for e in Effort],edgecolor='black')\n",
    "plt.yticks(pos, city)\n",
    "plt.xlabel('Effort', fontsize=16)\n",
    "plt.ylabel('Groups', fontsize=16)\n",
    "plt.title('Phase 1 - 5 -> Median of Effort',fontsize=20)\n",
    "plt.show()"
   ]
  },
  {
   "cell_type": "code",
   "execution_count": null,
   "id": "697a817a",
   "metadata": {},
   "outputs": [],
   "source": [
    "import matplotlib.pyplot as plt\n",
    "import numpy as np\n",
    "\n",
    "\n",
    "city=['Bogota 0 (No Transparency)','Bogota 1 (Performance Transparency)',' Bogota 2 (Solution Transparency)','Bogota 3 (Full Transparency)']\n",
    "pos = np.arange(len(city))\n",
    "Effort =[max0_15_effort, max1_15_effort, max2_15_effort, max3_15_effort]\n",
    "\n",
    "\n",
    "plt.barh(pos,Effort,color=['g' if e > 0 else 'r' for e in Effort],edgecolor='black')\n",
    "plt.yticks(pos, city)\n",
    "plt.xlabel('Effort', fontsize=16)\n",
    "plt.ylabel('Groups', fontsize=16)\n",
    "plt.title('Phase 1 - 5 -> Max of Effort',fontsize=20)\n",
    "plt.show()"
   ]
  },
  {
   "cell_type": "code",
   "execution_count": null,
   "id": "22fe6eda",
   "metadata": {},
   "outputs": [],
   "source": [
    "import matplotlib.pyplot as plt\n",
    "import numpy as np\n",
    "\n",
    "\n",
    "city=['Bogota 0 (No Transparency)','Bogota 1 (Performance Transparency)',' Bogota 2 (Solution Transparency)','Bogota 3 (Full Transparency)']\n",
    "pos = np.arange(len(city))\n",
    "Effort = [min0_15_effort, min1_15_effort, min2_15_effort, min3_15_effort ]\n",
    "\n",
    "\n",
    "plt.barh(pos,Effort,color=['g' if e > 0 else 'r' for e in Effort],edgecolor='black')\n",
    "plt.yticks(pos, city)\n",
    "plt.xlabel('Effort', fontsize=16)\n",
    "plt.ylabel('Groups', fontsize=16)\n",
    "plt.title('Phase 1 - 5 -> Min of Effort',fontsize=20)\n",
    "plt.show()"
   ]
  },
  {
   "cell_type": "code",
   "execution_count": null,
   "id": "e7863b66",
   "metadata": {},
   "outputs": [],
   "source": [
    "import matplotlib.pyplot as plt\n",
    "import numpy as np\n",
    "\n",
    "\n",
    "city=['Bogota 0 (No Transparency)','Bogota 1 (Performance Transparency)',' Bogota 2 (Solution Transparency)','Bogota 3 (Full Transparency)']\n",
    "pos = np.arange(len(city))\n",
    "Effort =[ std0_15_effort, std1_15_effort, std2_15_effort, std3_15_effort ]\n",
    "\n",
    "\n",
    "plt.barh(pos,Effort,color=['g' if e > 0 else 'r' for e in Effort],edgecolor='black')\n",
    "plt.yticks(pos, city)\n",
    "plt.xlabel('Effort', fontsize=16)\n",
    "plt.ylabel('Groups', fontsize=16)\n",
    "plt.title('Phase 1 - 5 -> Standard Deviation of Effort',fontsize=20)\n",
    "plt.show()"
   ]
  },
  {
   "cell_type": "markdown",
   "id": "7fb5253d",
   "metadata": {},
   "source": [
    "# Deletions Phase 1 - 5"
   ]
  },
  {
   "cell_type": "code",
   "execution_count": null,
   "id": "7580bca4",
   "metadata": {},
   "outputs": [],
   "source": [
    "import matplotlib.pyplot as plt\n",
    "import numpy as np\n",
    "\n",
    "\n",
    "city=['Bogota 0 (No Transparency)','Bogota 1 (Performance Transparency)',' Bogota 2 (Solution Transparency)','Bogota 3 (Full Transparency)']\n",
    "pos = np.arange(len(city))\n",
    "Lines_of_Code_Deleted = [mean0_15_delete, mean1_15_delete, mean2_15_delete, mean3_15_delete]\n",
    "\n",
    "\n",
    "plt.barh(pos,Lines_of_Code_Deleted,color=['g' if e > 0 else 'r' for e in Lines_of_Code_Deleted],edgecolor='black')\n",
    "plt.yticks(pos, city)\n",
    "plt.xlabel('Lines_of_Code_Deleted', fontsize=16)\n",
    "plt.ylabel('Groups', fontsize=16)\n",
    "plt.title('Phase 1 - 5 -> Mean of Lines of Code Deleted',fontsize=20)\n",
    "plt.show()"
   ]
  },
  {
   "cell_type": "code",
   "execution_count": null,
   "id": "4de91c78",
   "metadata": {},
   "outputs": [],
   "source": [
    "import matplotlib.pyplot as plt\n",
    "import numpy as np\n",
    "\n",
    "\n",
    "city=['Bogota 0 (No Transparency)','Bogota 1 (Performance Transparency)',' Bogota 2 (Solution Transparency)','Bogota 3 (Full Transparency)']\n",
    "pos = np.arange(len(city))\n",
    "Lines_of_Code_Deleted =[median0_15_delete, median1_15_delete, median2_15_delete, median3_15_delete]\n",
    "\n",
    "\n",
    "plt.barh(pos,Lines_of_Code_Deleted,color='green',edgecolor='black')\n",
    "plt.yticks(pos, city)\n",
    "plt.xlabel('Lines_of_Code_Deleted', fontsize=16)\n",
    "plt.ylabel('Groups', fontsize=16)\n",
    "plt.title('Phase 1 - 5 -> Median of Lines of Code Deleted',fontsize=20)\n",
    "plt.show()"
   ]
  },
  {
   "cell_type": "code",
   "execution_count": null,
   "id": "9b0843a2",
   "metadata": {},
   "outputs": [],
   "source": [
    "import matplotlib.pyplot as plt\n",
    "import numpy as np\n",
    "\n",
    "\n",
    "city=['Bogota 0 (No Transparency)','Bogota 1 (Performance Transparency)',' Bogota 2 (Solution Transparency)','Bogota 3 (Full Transparency)']\n",
    "pos = np.arange(len(city))\n",
    "Lines_of_Code_Deleted =[ max0_15_delete, max1_15_delete, max2_15_delete, max3_15_delete]\n",
    "\n",
    "\n",
    "plt.barh(pos,Lines_of_Code_Deleted,color='green',edgecolor='black')\n",
    "plt.yticks(pos, city)\n",
    "plt.xlabel('Lines_of_Code_Deleted', fontsize=16)\n",
    "plt.ylabel('Groups', fontsize=16)\n",
    "plt.title('Phase 1 - 5 -> Max of Lines of Code Deleted',fontsize=20)\n",
    "plt.show()"
   ]
  },
  {
   "cell_type": "code",
   "execution_count": null,
   "id": "a3cc7f0e",
   "metadata": {},
   "outputs": [],
   "source": [
    "import matplotlib.pyplot as plt\n",
    "import numpy as np\n",
    "\n",
    "\n",
    "city=['Bogota 0 (No Transparency)','Bogota 1 (Performance Transparency)',' Bogota 2 (Solution Transparency)','Bogota 3 (Full Transparency)']\n",
    "pos = np.arange(len(city))\n",
    "Lines_of_Code_Deleted = [min0_15_delete, min1_15_delete, min2_15_delete, min3_15_delete]\n",
    "\n",
    "\n",
    "plt.barh(pos,Lines_of_Code_Deleted,color=['g' if e > 0 else 'r' for e in Lines_of_Code_Deleted],edgecolor='black')\n",
    "plt.yticks(pos, city)\n",
    "plt.xlabel('Lines_of_Code_Deleted', fontsize=16)\n",
    "plt.ylabel('Groups', fontsize=16)\n",
    "plt.title('Phase 1 - 5 -> Min of Lines of Code Deleted',fontsize=20)\n",
    "plt.show()"
   ]
  },
  {
   "cell_type": "code",
   "execution_count": null,
   "id": "162e23ea",
   "metadata": {},
   "outputs": [],
   "source": [
    "import matplotlib.pyplot as plt\n",
    "import numpy as np\n",
    "\n",
    "\n",
    "city=['Bogota 0 (No Transparency)','Bogota 1 (Performance Transparency)',' Bogota 2 (Solution Transparency)','Bogota 3 (Full Transparency)']\n",
    "pos = np.arange(len(city))\n",
    "Lines_of_Code_Deleted = [std0_15_delete, std1_15_delete, std2_15_delete, std3_15_delete]\n",
    "\n",
    "\n",
    "plt.barh(pos,Lines_of_Code_Deleted,color=['g' if e > 0 else 'r' for e in Lines_of_Code_Deleted],edgecolor='black')\n",
    "plt.yticks(pos, city)\n",
    "plt.xlabel('Lines_of_Code_Deleted', fontsize=16)\n",
    "plt.ylabel('Groups', fontsize=16)\n",
    "plt.title('Phase 1 - 5 -> Standard Deviation of Lines of Code Deleted',fontsize=20)\n",
    "plt.show()"
   ]
  },
  {
   "cell_type": "markdown",
   "id": "86cd9e0b",
   "metadata": {},
   "source": [
    "# Phase 4 - 5 ( Code Added, Deleted, Number of Files Changed )"
   ]
  },
  {
   "cell_type": "code",
   "execution_count": null,
   "id": "276f0068",
   "metadata": {},
   "outputs": [],
   "source": [
    "import pandas as pd\n",
    "\n",
    "df_phase45 = pd.read_csv('./data/phase-4-5-prelim.csv')\n",
    "df_phase45 = df_phase45.drop(['Unnamed: 4', 'Unnamed: 5', 'Unnamed: 6'], axis = 1)"
   ]
  },
  {
   "cell_type": "code",
   "execution_count": null,
   "id": "39115ae6",
   "metadata": {},
   "outputs": [],
   "source": [
    "df_phase45['change-revised'] = df_phase45.change.str.extract('(\\d+)')\n",
    "df_phase45.head(5)"
   ]
  },
  {
   "cell_type": "code",
   "execution_count": null,
   "id": "eb7af6db",
   "metadata": {},
   "outputs": [],
   "source": [
    "print(len(df_phase45.index))"
   ]
  },
  {
   "cell_type": "code",
   "execution_count": null,
   "id": "1a9d6aea",
   "metadata": {},
   "outputs": [],
   "source": [
    "df_phase45['add-revised'] = df_phase45.addition.str.extract('(\\d+)')\n",
    "df_phase45['add-revised'] = df_phase45['add-revised'].fillna(0)\n",
    "df_phase45.head(5)"
   ]
  },
  {
   "cell_type": "code",
   "execution_count": null,
   "id": "4be5204d",
   "metadata": {},
   "outputs": [],
   "source": [
    "df_phase45['delete-revised'] = df_phase45.delete.str.extract('(\\d+)')\n",
    "df_phase45['delete-revised'] = df_phase45['delete-revised'].fillna(0)\n",
    "df_phase45.head(5)"
   ]
  },
  {
   "cell_type": "markdown",
   "id": "5417d1bc",
   "metadata": {},
   "source": [
    "# Phase 4 -5 - Bogota 3 ( Full Transparency Group )"
   ]
  },
  {
   "cell_type": "code",
   "execution_count": null,
   "id": "25253945",
   "metadata": {},
   "outputs": [],
   "source": [
    "df3 = pd.read_csv('./data/bogota-3.csv')\n",
    "df3.head(5)"
   ]
  },
  {
   "cell_type": "code",
   "execution_count": null,
   "id": "77a3635c",
   "metadata": {},
   "outputs": [],
   "source": [
    "df_phase45['bogota-3'] = df_phase45['username'].isin(df3['Project'])\n",
    "df_phase45.head(5)"
   ]
  },
  {
   "cell_type": "code",
   "execution_count": null,
   "id": "a3ffe9f1",
   "metadata": {},
   "outputs": [],
   "source": [
    "df_phase45[\"bogota-3\"] = df_phase45[\"bogota-3\"].astype(int)\n",
    "df_phase45.head(5)"
   ]
  },
  {
   "cell_type": "code",
   "execution_count": null,
   "id": "1d3c72ea",
   "metadata": {},
   "outputs": [],
   "source": [
    "df3_phase45 = df_phase45.loc[df_phase45['bogota-3'] == 1]\n",
    "df3_phase45.head(5)"
   ]
  },
  {
   "cell_type": "code",
   "execution_count": null,
   "id": "9cda5872",
   "metadata": {},
   "outputs": [],
   "source": [
    "df3_phase45.to_csv('df3_phase45_loc.csv')"
   ]
  },
  {
   "cell_type": "code",
   "execution_count": null,
   "id": "d09e58b8",
   "metadata": {},
   "outputs": [],
   "source": [
    "print(len(df3_phase45.index))"
   ]
  },
  {
   "cell_type": "code",
   "execution_count": null,
   "id": "022e11c5",
   "metadata": {},
   "outputs": [],
   "source": [
    "df3_phase45['change-revised'] = pd.to_numeric(df3_phase45['change-revised'])\n",
    "print(df3_phase45['change-revised'].mean())\n",
    "print(df3_phase45['change-revised'].median())\n",
    "print(df3_phase45['change-revised'].std())\n",
    "print(df3_phase45['change-revised'].max())\n",
    "print(df3_phase45['change-revised'].min())"
   ]
  },
  {
   "cell_type": "code",
   "execution_count": null,
   "id": "e10399a7",
   "metadata": {},
   "outputs": [],
   "source": [
    "df3_phase45['delete-revised'] = pd.to_numeric(df3_phase45['delete-revised'])\n",
    "df3_phase45['delete-revised'].mean()\n",
    "print(df3_phase45['delete-revised'].mean())\n",
    "print(df3_phase45['delete-revised'].median())\n",
    "print(df3_phase45['delete-revised'].std())\n",
    "print(df3_phase45['delete-revised'].max())\n",
    "print(df3_phase45['delete-revised'].min())\n",
    "\n",
    "df3_delete = df3_phase45['delete-revised']\n",
    "df3_delete.values"
   ]
  },
  {
   "cell_type": "code",
   "execution_count": null,
   "id": "70586440",
   "metadata": {},
   "outputs": [],
   "source": [
    "df3_phase45['add-revised'] = pd.to_numeric(df3_phase45['add-revised'])\n",
    "df3_phase45['add-revised'].mean()\n",
    "\n",
    "print(df3_phase45['add-revised'].mean())\n",
    "print(df3_phase45['add-revised'].median())\n",
    "print(df3_phase45['add-revised'].std())\n",
    "print(df3_phase45['add-revised'].max())\n",
    "print(df3_phase45['add-revised'].min())\n",
    "df3_add = df3_phase45['add-revised']\n",
    "df3_add.values"
   ]
  },
  {
   "cell_type": "code",
   "execution_count": null,
   "id": "7eca92d0",
   "metadata": {},
   "outputs": [],
   "source": [
    "df3_phase45['add-revised'] = df3_phase45['add-revised'].astype(float)\n",
    "df3_phase45['delete-revised'] = df3_phase45['delete-revised'].astype(float)\n",
    "df3_phase45['effort'] = df3_phase45['add-revised'] - 0.5 * df3_phase45['delete-revised']\n",
    "print(df3_phase45['effort'].mean())\n",
    "print(df3_phase45['effort'].median())\n",
    "print(df3_phase45['effort'].std())\n",
    "print(df3_phase45['effort'].max())\n",
    "print(df3_phase45['effort'].min())"
   ]
  },
  {
   "cell_type": "code",
   "execution_count": null,
   "id": "0b73ae9c",
   "metadata": {},
   "outputs": [],
   "source": [
    "import numpy as np\n",
    "np.set_printoptions(suppress=True)\n",
    "diff3 = df3_phase45['add-revised'] - 0.5 * df3_phase45['delete-revised']\n",
    "diff3.values"
   ]
  },
  {
   "cell_type": "markdown",
   "id": "db8e9a39",
   "metadata": {},
   "source": [
    "# Phase 4 -5 - Bogota 2 ( Solution Transparency )"
   ]
  },
  {
   "cell_type": "code",
   "execution_count": null,
   "id": "1971b7cd",
   "metadata": {},
   "outputs": [],
   "source": [
    "df2 = pd.read_csv('./data/bogota-2.csv')\n",
    "df2.head(5)"
   ]
  },
  {
   "cell_type": "code",
   "execution_count": null,
   "id": "872560ac",
   "metadata": {},
   "outputs": [],
   "source": [
    "df_phase45['bogota-2'] = df_phase45['username'].isin(df2['Project'])\n",
    "df_phase45.head(5)"
   ]
  },
  {
   "cell_type": "code",
   "execution_count": null,
   "id": "7aa51de6",
   "metadata": {},
   "outputs": [],
   "source": [
    "df_phase45[\"bogota-2\"] = df_phase45[\"bogota-2\"].astype(int)\n",
    "df_phase45.head(5)"
   ]
  },
  {
   "cell_type": "code",
   "execution_count": null,
   "id": "f8c09594",
   "metadata": {},
   "outputs": [],
   "source": [
    "df2_phase45 = df_phase45.loc[df_phase45['bogota-2'] == 1]\n",
    "df2_phase45.head(5)"
   ]
  },
  {
   "cell_type": "code",
   "execution_count": null,
   "id": "7613ce6c",
   "metadata": {},
   "outputs": [],
   "source": [
    "df2_phase45.to_csv('df2_phase45_loc.csv')"
   ]
  },
  {
   "cell_type": "code",
   "execution_count": null,
   "id": "9d4b1b58",
   "metadata": {},
   "outputs": [],
   "source": [
    "print(len(df2_phase45.index))"
   ]
  },
  {
   "cell_type": "code",
   "execution_count": null,
   "id": "da434c5a",
   "metadata": {},
   "outputs": [],
   "source": [
    "df2_phase45['change-revised'] = pd.to_numeric(df2_phase45['change-revised'])\n",
    "print(df2_phase45['change-revised'].mean())\n",
    "print(df2_phase45['change-revised'].median())\n",
    "print(df2_phase45['change-revised'].std())\n",
    "print(df2_phase45['change-revised'].max())\n",
    "print(df2_phase45['change-revised'].min())"
   ]
  },
  {
   "cell_type": "code",
   "execution_count": null,
   "id": "09d793fb",
   "metadata": {},
   "outputs": [],
   "source": [
    "df2_phase45['delete-revised'] = pd.to_numeric(df2_phase45['delete-revised'])\n",
    "df2_phase45['delete-revised'].mean()\n",
    "print(df2_phase45['delete-revised'].mean())\n",
    "print(df2_phase45['delete-revised'].median())\n",
    "print(df2_phase45['delete-revised'].std())\n",
    "print(df2_phase45['delete-revised'].max())\n",
    "print(df2_phase45['delete-revised'].min())\n",
    "\n",
    "df2_delete = df2_phase45['delete-revised']\n",
    "df2_delete.values"
   ]
  },
  {
   "cell_type": "code",
   "execution_count": null,
   "id": "4502e9e1",
   "metadata": {},
   "outputs": [],
   "source": [
    "df2_phase45['add-revised'] = pd.to_numeric(df2_phase45['add-revised'])\n",
    "df2_phase45['add-revised'].mean()\n",
    "\n",
    "print(df2_phase45['add-revised'].mean())\n",
    "print(df2_phase45['add-revised'].median())\n",
    "print(df2_phase45['add-revised'].std())\n",
    "print(df2_phase45['add-revised'].max())\n",
    "print(df2_phase45['add-revised'].min())\n",
    "df2_add = df2_phase45['add-revised']\n",
    "df2_add.values"
   ]
  },
  {
   "cell_type": "code",
   "execution_count": null,
   "id": "46ef459c",
   "metadata": {},
   "outputs": [],
   "source": [
    "df2_phase45['add-revised'] = df2_phase45['add-revised'].astype(float)\n",
    "df2_phase45['delete-revised'] = df2_phase45['delete-revised'].astype(float)\n",
    "df2_phase45['effort'] = df2_phase45['add-revised'] - 0.5 * df2_phase45['delete-revised']\n",
    "print(df2_phase45['effort'].mean())\n",
    "print(df2_phase45['effort'].median())\n",
    "print(df2_phase45['effort'].std())\n",
    "print(df2_phase45['effort'].max())\n",
    "print(df2_phase45['effort'].min())"
   ]
  },
  {
   "cell_type": "code",
   "execution_count": null,
   "id": "9988ffed",
   "metadata": {},
   "outputs": [],
   "source": [
    "import numpy as np\n",
    "np.set_printoptions(suppress=True)\n",
    "diff2 = df2_phase45['add-revised'] - 0.5 * df2_phase45['delete-revised']\n",
    "diff2.values"
   ]
  },
  {
   "cell_type": "markdown",
   "id": "8ca23af7",
   "metadata": {},
   "source": [
    "# Phase 4 - 5 - Bogota 1 ( Performance Transparency )"
   ]
  },
  {
   "cell_type": "code",
   "execution_count": null,
   "id": "12a66d64",
   "metadata": {},
   "outputs": [],
   "source": [
    "df1 = pd.read_csv('./data/bogota-1.csv')\n",
    "df1.head(5)\n",
    "print(len(df1.index))"
   ]
  },
  {
   "cell_type": "code",
   "execution_count": null,
   "id": "8dd4a15f",
   "metadata": {},
   "outputs": [],
   "source": [
    "df_phase45['bogota-1'] = df_phase45['username'].isin(df1['Project'])\n",
    "df_phase45.head(5)"
   ]
  },
  {
   "cell_type": "code",
   "execution_count": null,
   "id": "5feb5aa3",
   "metadata": {},
   "outputs": [],
   "source": [
    "df_phase45[\"bogota-1\"] = df_phase45[\"bogota-1\"].astype(int)\n",
    "df_phase45.head(5)"
   ]
  },
  {
   "cell_type": "code",
   "execution_count": null,
   "id": "c9f0a4f7",
   "metadata": {},
   "outputs": [],
   "source": [
    "df1_phase45 = df_phase45.loc[df_phase45['bogota-1'] == 1]\n",
    "df1_phase45.head(5)"
   ]
  },
  {
   "cell_type": "code",
   "execution_count": null,
   "id": "7aa28bfe",
   "metadata": {},
   "outputs": [],
   "source": [
    "df1_phase45.to_csv('df1_phase45_loc.csv')"
   ]
  },
  {
   "cell_type": "code",
   "execution_count": null,
   "id": "4757798e",
   "metadata": {},
   "outputs": [],
   "source": [
    "print(len(df1_phase45.index))"
   ]
  },
  {
   "cell_type": "code",
   "execution_count": null,
   "id": "e1731ba5",
   "metadata": {},
   "outputs": [],
   "source": [
    "df1_phase45['change-revised'] = pd.to_numeric(df1_phase45['change-revised'])\n",
    "print(df1_phase45['change-revised'].mean())\n",
    "print(df1_phase45['change-revised'].median())\n",
    "print(df1_phase45['change-revised'].std())\n",
    "print(df1_phase45['change-revised'].max())\n",
    "print(df1_phase45['change-revised'].min())"
   ]
  },
  {
   "cell_type": "code",
   "execution_count": null,
   "id": "d3d4ff78",
   "metadata": {},
   "outputs": [],
   "source": [
    "df1_phase45['delete-revised'] = pd.to_numeric(df1_phase45['delete-revised'])\n",
    "df1_phase45['delete-revised'].mean()\n",
    "print(df1_phase45['delete-revised'].mean())\n",
    "print(df1_phase45['delete-revised'].median())\n",
    "print(df1_phase45['delete-revised'].std())\n",
    "print(df1_phase45['delete-revised'].max())\n",
    "print(df1_phase45['delete-revised'].min())\n",
    "\n",
    "df1_delete = df1_phase45['delete-revised']\n",
    "df1_delete.values"
   ]
  },
  {
   "cell_type": "code",
   "execution_count": null,
   "id": "dec78916",
   "metadata": {},
   "outputs": [],
   "source": [
    "df1_phase45['add-revised'] = pd.to_numeric(df1_phase45['add-revised'])\n",
    "df1_phase45['add-revised'].mean()\n",
    "\n",
    "print(df1_phase45['add-revised'].mean())\n",
    "print(df1_phase45['add-revised'].median())\n",
    "print(df1_phase45['add-revised'].std())\n",
    "print(df1_phase45['add-revised'].max())\n",
    "print(df1_phase45['add-revised'].min())\n",
    "\n",
    "df1_add = df1_phase45['add-revised']\n",
    "df1_add.values"
   ]
  },
  {
   "cell_type": "code",
   "execution_count": null,
   "id": "5d133141",
   "metadata": {},
   "outputs": [],
   "source": [
    "df1_phase45['add-revised'] = df1_phase45['add-revised'].astype(float)\n",
    "df1_phase45['delete-revised'] = df1_phase45['delete-revised'].astype(float)\n",
    "df1_phase45['effort'] = df1_phase45['add-revised'] - 0.5 * df1_phase45['delete-revised']\n",
    "print(df1_phase45['effort'].mean())\n",
    "print(df1_phase45['effort'].median())\n",
    "print(df1_phase45['effort'].std())\n",
    "print(df1_phase45['effort'].max())\n",
    "print(df1_phase45['effort'].min())"
   ]
  },
  {
   "cell_type": "code",
   "execution_count": null,
   "id": "acf4b6de",
   "metadata": {},
   "outputs": [],
   "source": [
    "import numpy as np\n",
    "np.set_printoptions(suppress=True)\n",
    "diff1 = df1_phase45['add-revised'] - 0.5 * df1_phase45['delete-revised']\n",
    "diff1.values"
   ]
  },
  {
   "cell_type": "markdown",
   "id": "addfe83f",
   "metadata": {},
   "source": [
    "# Phase 4 - 5 - Bogota 0 ( No Transparency )"
   ]
  },
  {
   "cell_type": "code",
   "execution_count": null,
   "id": "89703b74",
   "metadata": {},
   "outputs": [],
   "source": [
    "df0 = pd.read_csv('./data/bogota-0.csv')\n",
    "df0.head(5)\n"
   ]
  },
  {
   "cell_type": "code",
   "execution_count": null,
   "id": "31913ed3",
   "metadata": {},
   "outputs": [],
   "source": [
    "df_phase45['bogota-0'] = df_phase45['username'].isin(df0['Project'])\n",
    "df_phase45.head(5)"
   ]
  },
  {
   "cell_type": "code",
   "execution_count": null,
   "id": "b20ea743",
   "metadata": {},
   "outputs": [],
   "source": [
    "df_phase45[\"bogota-0\"] = df_phase45[\"bogota-0\"].astype(int)\n",
    "df_phase45.head(5)"
   ]
  },
  {
   "cell_type": "code",
   "execution_count": null,
   "id": "63e5b882",
   "metadata": {},
   "outputs": [],
   "source": [
    "df0_phase45 = df_phase45.loc[df_phase45['bogota-0'] == 1]\n",
    "df0_phase45.head(5)"
   ]
  },
  {
   "cell_type": "code",
   "execution_count": null,
   "id": "c2b8a0ac",
   "metadata": {},
   "outputs": [],
   "source": [
    "df0_phase45.to_csv('df0_phase45_loc.csv')"
   ]
  },
  {
   "cell_type": "code",
   "execution_count": null,
   "id": "7e49c35f",
   "metadata": {},
   "outputs": [],
   "source": [
    "print(len(df0_phase45.index))"
   ]
  },
  {
   "cell_type": "code",
   "execution_count": null,
   "id": "5873f1f1",
   "metadata": {},
   "outputs": [],
   "source": [
    "df0_phase45['change-revised'] = pd.to_numeric(df0_phase45['change-revised'])\n",
    "print(df0_phase45['change-revised'].mean())\n",
    "print(df0_phase45['change-revised'].median())\n",
    "print(df0_phase45['change-revised'].std())\n",
    "print(df0_phase45['change-revised'].max())\n",
    "print(df0_phase45['change-revised'].min())"
   ]
  },
  {
   "cell_type": "code",
   "execution_count": null,
   "id": "77e26100",
   "metadata": {},
   "outputs": [],
   "source": [
    "df0_phase45['delete-revised'] = pd.to_numeric(df0_phase45['delete-revised'])\n",
    "df0_phase45['delete-revised'].mean()\n",
    "print(df0_phase45['delete-revised'].mean())\n",
    "print(df0_phase45['delete-revised'].median())\n",
    "print(df0_phase45['delete-revised'].std())\n",
    "print(df0_phase45['delete-revised'].max())\n",
    "print(df0_phase45['delete-revised'].min())\n",
    "\n",
    "df0_delete = df0_phase45['delete-revised']\n",
    "df0_delete.values"
   ]
  },
  {
   "cell_type": "code",
   "execution_count": null,
   "id": "2351e453",
   "metadata": {},
   "outputs": [],
   "source": [
    "df0_phase45['add-revised'] = pd.to_numeric(df0_phase45['add-revised'])\n",
    "df0_phase45['add-revised'].mean()\n",
    "\n",
    "print(df0_phase45['add-revised'].mean())\n",
    "print(df0_phase45['add-revised'].median())\n",
    "print(df0_phase45['add-revised'].std())\n",
    "print(df0_phase45['add-revised'].max())\n",
    "print(df0_phase45['add-revised'].min())\n",
    "\n",
    "df0_add = df0_phase45['add-revised']\n",
    "df0_add.values"
   ]
  },
  {
   "cell_type": "code",
   "execution_count": null,
   "id": "2becf848",
   "metadata": {},
   "outputs": [],
   "source": [
    "df0_phase45['add-revised'] = df0_phase45['add-revised'].astype(float)\n",
    "df0_phase45['delete-revised'] = df0_phase45['delete-revised'].astype(float)\n",
    "df0_phase45['effort'] = df0_phase45['add-revised'] - 0.5 * df0_phase45['delete-revised']\n",
    "print(df0_phase45['effort'].mean())\n",
    "print(df0_phase45['effort'].median())\n",
    "print(df0_phase45['effort'].std())\n",
    "print(df0_phase45['effort'].max())\n",
    "print(df0_phase45['effort'].min())"
   ]
  },
  {
   "cell_type": "code",
   "execution_count": null,
   "id": "4a12a76d",
   "metadata": {},
   "outputs": [],
   "source": [
    "import numpy as np\n",
    "np.set_printoptions(suppress=True)\n",
    "diff0 = df0_phase45['add-revised'] - 0.5 * df0_phase45['delete-revised']\n",
    "diff0.values"
   ]
  },
  {
   "cell_type": "markdown",
   "id": "ee96d08e",
   "metadata": {},
   "source": [
    "# ANOVA on effort Phase 4 - 5 "
   ]
  },
  {
   "cell_type": "code",
   "execution_count": null,
   "id": "21a2b2fd",
   "metadata": {},
   "outputs": [],
   "source": [
    "import scipy.stats as stats\n",
    "# stats f_oneway functions takes the groups as input and returns ANOVA F and p value\n",
    "fvalue, pvalue = stats.f_oneway(diff0, diff1, diff2, diff3)\n",
    "print(fvalue, pvalue)"
   ]
  },
  {
   "cell_type": "code",
   "execution_count": null,
   "id": "0be71c9d",
   "metadata": {},
   "outputs": [],
   "source": [
    "import pandas as pd\n",
    "import numpy as np\n",
    "\n",
    "df = pd.DataFrame({'score': [0. , 16.5,  1. ,  4.5,  0. ,  0. , 36.5,  0. ,  0. ,  3. , -6. ,\n",
    "        0. ,  0. ,  3.5,  0. ,  0. ,  0. ,  0. ,  0.5, -4. , 24.5,  0. ,\n",
    "        0. ,  8.5, 73.5, -1. , -0.5,  0. , 13. ,  0. ,  5. ,  0. ,  0. ,\n",
    "        2. ,  0. ,  0.5,  0. ,  0. , 0. ,  -27.5,    0. ,   19.5,    0. ,    2.5,    0. ,    0. ,\n",
    "          0. ,    0. ,    0. ,    0. ,   43. , -124. ,   22.5,    1.5,\n",
    "          1.5,   -1. ,    0. ,    0.5,    0. ,   -0.5,  -46.5,    0. ,\n",
    "         -8.5,  -14.5,    0. ,    0. ,    8. ,    0. ,  -10. ,    0. ,\n",
    "          0. ,  -11. ,    2. ,   10.5,    0. ,  156. ,    0. ,    0., 0. ,   0. ,  -9.5,   0. ,   0. ,   0. ,   0. ,   0. ,   1. ,\n",
    "         2. ,   0. ,  12.5,   0. ,   0. ,   0. ,   0. ,   0. ,   0. ,\n",
    "         0. ,  30.5,   0. ,   0. ,   0. ,   0.5,   0. ,   0. ,  21. ,\n",
    "       -66.5,   0. ,   0. ,   0. ,   0. ,   0. ,   0.5,   0. ,  19. ,\n",
    "       -36.5,   0. , -63.5,  26.5, -17. , 0. ,   0. ,  -9.5,   0. ,   0. ,   0. ,   0. ,   0. ,   1. ,\n",
    "         2. ,   0. ,  12.5,   0. ,   0. ,   0. ,   0. ,   0. ,   0. ,\n",
    "         0. ,  30.5,   0. ,   0. ,   0. ,   0.5,   0. ,   0. ,  21. ,\n",
    "       -66.5,   0. ,   0. ,   0. ,   0. ,   0. ,   0.5,   0. ,  19. ,\n",
    "       -36.5,   0. , -63.5,  26.5, -17.  ],\n",
    "                   'group': np.repeat([0, 1, 2, 3], repeats=[38, 40, 41, 41])})"
   ]
  },
  {
   "cell_type": "markdown",
   "id": "377a86f0",
   "metadata": {},
   "source": [
    "# Tukey Test on effort Phase 4 - 5 "
   ]
  },
  {
   "cell_type": "code",
   "execution_count": null,
   "id": "cb3cffec",
   "metadata": {},
   "outputs": [],
   "source": [
    "from statsmodels.stats.multicomp import pairwise_tukeyhsd\n",
    "\n",
    "\n",
    "# perform Tukey's test\n",
    "tukey = pairwise_tukeyhsd(endog=df['score'],\n",
    "                          groups=df['group'],\n",
    "                          alpha=0.05)\n",
    "\n",
    "#display results\n",
    "print(tukey)\n"
   ]
  },
  {
   "cell_type": "markdown",
   "id": "88d1b9a9",
   "metadata": {},
   "source": [
    "# ANOVA on additions Phase 4 - 5 "
   ]
  },
  {
   "cell_type": "code",
   "execution_count": null,
   "id": "9253ea01",
   "metadata": {},
   "outputs": [],
   "source": [
    "import scipy.stats as stats\n",
    "# stats f_oneway functions takes the groups as input and returns ANOVA F and p value\n",
    "fvalue, pvalue = stats.f_oneway(df0_add, df1_add, df2_add, df3_add)\n",
    "print(fvalue, pvalue)"
   ]
  },
  {
   "cell_type": "code",
   "execution_count": null,
   "id": "d46a267f",
   "metadata": {},
   "outputs": [],
   "source": [
    "import pandas as pd\n",
    "import numpy as np\n",
    "\n",
    "df = pd.DataFrame({'score': [0,  69,   2,   5,   0,   0, 102,   0,   0,  31,  78,   0,   0,\n",
    "        10,   0,   0,   0,   0,   4,   9,  26,   0,   0,  31, 259,   1,\n",
    "         2,   0,  81,   0,  36,   0,   0,   2,   0,   6,   0,   0, 0,  14,   0,  32,   0,   5,   0,   0,   0,   0,   0,   0,  53,\n",
    "        49,  32,   3,   9,   3,   0,   3,   0,   1,   9,   0,   9,   3,\n",
    "         0,   0,  40,   0,   6,   0,   0,  10,   2,  43,   0, 167,   0,\n",
    "         0,   0,   0,  19,   0,   0,   0,   0,   0,   1,   6,   0,  18,   0,\n",
    "         0,   0,   0,   0,   0,   0,  32,   0,   0,   0,   1,   0,   0,\n",
    "        77,  62,   2,   0,   0,   0,   0,  14,   0,  19,  15,   0,   8,\n",
    "       110,  16, 133,   6,   0,   0,   7,  16,   0,  20,   0,  96,   4,   0,   0,\n",
    "         0,   0,   0,  11,  17,  15, 125,  44,   2,   0,  38,   2,  65,\n",
    "        29,   0,   0,   4,   0,   2,   2,   0,   3, 858,  26,   0,   0,\n",
    "         1,   0 ],\n",
    "                   'group': np.repeat([0, 1, 2, 3], repeats=[38, 40, 41, 41])})"
   ]
  },
  {
   "cell_type": "markdown",
   "id": "f3ff83de",
   "metadata": {},
   "source": [
    "# Tukey Test on additions Phase 4 - 5 "
   ]
  },
  {
   "cell_type": "code",
   "execution_count": null,
   "id": "b56e19f4",
   "metadata": {},
   "outputs": [],
   "source": [
    "from statsmodels.stats.multicomp import pairwise_tukeyhsd\n",
    "\n",
    "\n",
    "# perform Tukey's test\n",
    "tukey = pairwise_tukeyhsd(endog=df['score'],\n",
    "                          groups=df['group'],\n",
    "                          alpha=0.05)\n",
    "\n",
    "#display results\n",
    "print(tukey)"
   ]
  },
  {
   "cell_type": "markdown",
   "id": "5cbc64e4",
   "metadata": {},
   "source": [
    "# ANOVA on deletions Phase 4 - 5"
   ]
  },
  {
   "cell_type": "code",
   "execution_count": null,
   "id": "63d19eed",
   "metadata": {},
   "outputs": [],
   "source": [
    "import scipy.stats as stats\n",
    "# stats f_oneway functions takes the groups as input and returns ANOVA F and p value\n",
    "fvalue, pvalue = stats.f_oneway(df0_delete, df1_delete, df2_delete, df3_delete)\n",
    "print(fvalue, pvalue)"
   ]
  },
  {
   "cell_type": "code",
   "execution_count": null,
   "id": "0bcf9839",
   "metadata": {},
   "outputs": [],
   "source": [
    "import pandas as pd\n",
    "import numpy as np\n",
    "\n",
    "df = pd.DataFrame({'score': [ 0, 105,   2,   1,   0,   0, 131,   0,   0,  56, 168,   0,   0,\n",
    "        13,   0,   0,   0,   0,   7,  26,   3,   0,   0,  45, 371,   4,\n",
    "         5,   0, 136,   0,  62,   0,   0,   0,   0,  11,   0,   0, 0,  83,   0,  25,   0,   5,   0,   0,   0,   0,   0,   0,  20,\n",
    "       346,  19,   3,  15,   8,   0,   5,   0,   3, 111,   0,  35,  35,\n",
    "         0,   0,  64,   0,  32,   0,   0,  42,   0,  65,   0,  22,   0,\n",
    "         0, 0,   0,  57,   0,   0,   0,   0,   0,   0,   8,   0,  11,   0,\n",
    "         0,   0,   0,   0,   0,   0,   3,   0,   0,   0,   1,   0,   0,\n",
    "       112, 257,   4,   0,   0,   0,   0,  27,   0,   0, 103,   0, 143,\n",
    "       167,  66, 85,  11,   0,   0,  59,  15,   0,  90,   0, 124,  17,   0,   0,\n",
    "         0,   0,   0,  24,  80,  50,   0,  44,   2,   0,  54,   4,  24,\n",
    "        66,   0,   0, 243,   0,   4,   6,   0,   0,  36, 371,   0,   0,\n",
    "         4,   0 ],\n",
    "                   'group': np.repeat([0, 1, 2, 3], repeats=[38, 40, 41, 41])})"
   ]
  },
  {
   "cell_type": "markdown",
   "id": "454b6bbf",
   "metadata": {},
   "source": [
    "# Tukey Test on Deletions Phase 4 - 5 "
   ]
  },
  {
   "cell_type": "code",
   "execution_count": null,
   "id": "d2299e9f",
   "metadata": {},
   "outputs": [],
   "source": [
    "from statsmodels.stats.multicomp import pairwise_tukeyhsd\n",
    "\n",
    "\n",
    "# perform Tukey's test\n",
    "tukey = pairwise_tukeyhsd(endog=df['score'],\n",
    "                          groups=df['group'],\n",
    "                          alpha=0.05)\n",
    "\n",
    "#display results\n",
    "print(tukey)"
   ]
  },
  {
   "cell_type": "markdown",
   "id": "5bd5f910",
   "metadata": {},
   "source": [
    "# Phase 4 - 5 Visualizations "
   ]
  },
  {
   "cell_type": "code",
   "execution_count": null,
   "id": "67a49acb",
   "metadata": {},
   "outputs": [],
   "source": [
    "import matplotlib.pyplot as plt\n",
    "import numpy as np\n",
    "\n",
    "\n",
    "city=['Bogota 0 (No Transparency)','Bogota 1 (Performance Transparency)',' Bogota 2 (Solution Transparency)','Bogota 3 (Full Transparency)']\n",
    "pos = np.arange(len(city))\n",
    "Lines_of_Code_Added =[19.84,12.325,9.76, 37.22]\n",
    "\n",
    "\n",
    "plt.barh(pos,Lines_of_Code_Added,color=['g' if e > 0 else 'r' for e in Lines_of_Code_Added],edgecolor='black')\n",
    "plt.yticks(pos, city)\n",
    "plt.xlabel('Lines_of_Code_Added', fontsize=16)\n",
    "plt.ylabel('Groups', fontsize=16)\n",
    "plt.title('Phase 4 - 5 -> Mean of Lines of Code Added',fontsize=20)\n",
    "plt.show()"
   ]
  },
  {
   "cell_type": "code",
   "execution_count": null,
   "id": "64abc824",
   "metadata": {},
   "outputs": [],
   "source": [
    "import matplotlib.pyplot as plt\n",
    "import numpy as np\n",
    "\n",
    "\n",
    "city=['Bogota 0 (No Transparency)','Bogota 1 (Performance Transparency)',' Bogota 2 (Solution Transparency)','Bogota 3 (Full Transparency)']\n",
    "pos = np.arange(len(city))\n",
    "Lines_of_Code_Added =[0.0, 0.5, 0.0, 2.0]\n",
    "\n",
    "\n",
    "plt.barh(pos,Lines_of_Code_Added,color=['g' if e > 0 else 'r' for e in Lines_of_Code_Added],edgecolor='black')\n",
    "plt.yticks(pos, city)\n",
    "plt.xlabel('Lines_of_Code_Added', fontsize=16)\n",
    "plt.ylabel('Groups', fontsize=16)\n",
    "plt.title('Phase 4 - 5 -> Median of Lines of Code Added',fontsize=20)\n",
    "plt.show()"
   ]
  },
  {
   "cell_type": "code",
   "execution_count": null,
   "id": "59b77d42",
   "metadata": {},
   "outputs": [],
   "source": [
    "import matplotlib.pyplot as plt\n",
    "import numpy as np\n",
    "\n",
    "\n",
    "city=['Bogota 0 (No Transparency)','Bogota 1 (Performance Transparency)',' Bogota 2 (Solution Transparency)','Bogota 3 (Full Transparency)']\n",
    "pos = np.arange(len(city))\n",
    "Lines_of_Code_Added =[259, 167, 110, 858]\n",
    "\n",
    "\n",
    "plt.barh(pos,Lines_of_Code_Added,color=['g' if e > 0 else 'r' for e in Lines_of_Code_Added],edgecolor='black')\n",
    "plt.yticks(pos, city)\n",
    "plt.xlabel('Lines_of_Code_Added', fontsize=16)\n",
    "plt.ylabel('Groups', fontsize=16)\n",
    "plt.title('Phase 4 - 5 -> Max of Lines of Code Added',fontsize=20)\n",
    "plt.show()"
   ]
  },
  {
   "cell_type": "code",
   "execution_count": null,
   "id": "4f4125c0",
   "metadata": {},
   "outputs": [],
   "source": [
    "import matplotlib.pyplot as plt\n",
    "import numpy as np\n",
    "\n",
    "\n",
    "city=['Bogota 0 (No Transparency)','Bogota 1 (Performance Transparency)',' Bogota 2 (Solution Transparency)','Bogota 3 (Full Transparency)']\n",
    "pos = np.arange(len(city))\n",
    "Lines_of_Code_Added =[0, 0, 0 , 0]\n",
    "\n",
    "\n",
    "plt.barh(pos,Lines_of_Code_Added,color=['g' if e > 0 else 'r' for e in Lines_of_Code_Added],edgecolor='black')\n",
    "plt.yticks(pos, city)\n",
    "plt.xlabel('Lines_of_Code_Added', fontsize=16)\n",
    "plt.ylabel('Groups', fontsize=16)\n",
    "plt.title('Phase 4 - 5 -> Min of Lines of Code Added',fontsize=20)\n",
    "plt.show()"
   ]
  },
  {
   "cell_type": "code",
   "execution_count": null,
   "id": "1222594d",
   "metadata": {},
   "outputs": [],
   "source": [
    "import matplotlib.pyplot as plt\n",
    "import numpy as np\n",
    "\n",
    "\n",
    "city=['Bogota 0 (No Transparency)','Bogota 1 (Performance Transparency)',' Bogota 2 (Solution Transparency)','Bogota 3 (Full Transparency)']\n",
    "pos = np.arange(len(city))\n",
    "Lines_of_Code_Added =[47.67, 29.16, 22.82, 135.32]\n",
    "\n",
    "\n",
    "plt.barh(pos,Lines_of_Code_Added,color=['g' if e > 0 else 'r' for e in Lines_of_Code_Added],edgecolor='black')\n",
    "plt.yticks(pos, city)\n",
    "plt.xlabel('Lines_of_Code_Added', fontsize=16)\n",
    "plt.ylabel('Groups', fontsize=16)\n",
    "plt.title('Phase 4 - 5 -> Standard Deviation of Lines of Code Added',fontsize=20)"
   ]
  },
  {
   "cell_type": "code",
   "execution_count": null,
   "id": "1dafe1eb",
   "metadata": {},
   "outputs": [],
   "source": [
    "import matplotlib.pyplot as plt\n",
    "import numpy as np\n",
    "\n",
    "\n",
    "city=['Bogota 0 (No Transparency)','Bogota 1 (Performance Transparency)',' Bogota 2 (Solution Transparency)','Bogota 3 (Full Transparency)']\n",
    "pos = np.arange(len(city))\n",
    "Effort =[4.76, 0.6, -1.94, 19.99]\n",
    "\n",
    "\n",
    "plt.barh(pos,Effort,color=['g' if e > 0 else 'r' for e in Effort],edgecolor='black')\n",
    "plt.yticks(pos, city)\n",
    "plt.xlabel('Effort', fontsize=16)\n",
    "plt.ylabel('Groups', fontsize=16)\n",
    "plt.title('Phase 4 - 5 -> Mean of Effort',fontsize=20)\n",
    "plt.show()"
   ]
  },
  {
   "cell_type": "code",
   "execution_count": null,
   "id": "0ea86154",
   "metadata": {},
   "outputs": [],
   "source": [
    "import matplotlib.pyplot as plt\n",
    "import numpy as np\n",
    "\n",
    "\n",
    "city=['Bogota 0 (No Transparency)','Bogota 1 (Performance Transparency)',' Bogota 2 (Solution Transparency)','Bogota 3 (Full Transparency)']\n",
    "pos = np.arange(len(city))\n",
    "Effort =[0, 0, 0, 0]\n",
    "\n",
    "\n",
    "plt.barh(pos,Effort,color=['g' if e > 0 else 'r' for e in Effort],edgecolor='black')\n",
    "plt.yticks(pos, city)\n",
    "plt.xlabel('Effort', fontsize=16)\n",
    "plt.ylabel('Groups', fontsize=16)\n",
    "plt.title('Phase 4 - 5 -> Median of Effort',fontsize=20)\n",
    "plt.show()"
   ]
  },
  {
   "cell_type": "code",
   "execution_count": null,
   "id": "7040bd38",
   "metadata": {},
   "outputs": [],
   "source": [
    "import matplotlib.pyplot as plt\n",
    "import numpy as np\n",
    "\n",
    "\n",
    "city=['Bogota 0 (No Transparency)','Bogota 1 (Performance Transparency)',' Bogota 2 (Solution Transparency)','Bogota 3 (Full Transparency)']\n",
    "pos = np.arange(len(city))\n",
    "Effort =[73.5, 156, 30.5, 840]\n",
    "\n",
    "\n",
    "plt.barh(pos,Effort,color=['g' if e > 0 else 'r' for e in Effort],edgecolor='black')\n",
    "plt.yticks(pos, city)\n",
    "plt.xlabel('Effort', fontsize=16)\n",
    "plt.ylabel('Groups', fontsize=16)\n",
    "plt.title('Phase 4 - 5 -> Max of Effort',fontsize=20)\n",
    "plt.show()"
   ]
  },
  {
   "cell_type": "code",
   "execution_count": null,
   "id": "0ba889b0",
   "metadata": {},
   "outputs": [],
   "source": [
    "import matplotlib.pyplot as plt\n",
    "import numpy as np\n",
    "\n",
    "\n",
    "city=['Bogota 0 (No Transparency)','Bogota 1 (Performance Transparency)',' Bogota 2 (Solution Transparency)','Bogota 3 (Full Transparency)']\n",
    "pos = np.arange(len(city))\n",
    "Effort =[-6.0, -124, -66.5, -159.5]\n",
    "\n",
    "\n",
    "plt.barh(pos,Effort,color=['g' if e > 0 else 'r' for e in Effort],edgecolor='black')\n",
    "plt.yticks(pos, city)\n",
    "plt.xlabel('Effort', fontsize=16)\n",
    "plt.ylabel('Groups', fontsize=16)\n",
    "plt.title('Phase 4 - 5 -> Min of Effort',fontsize=20)\n",
    "plt.show()"
   ]
  },
  {
   "cell_type": "code",
   "execution_count": null,
   "id": "854f5346",
   "metadata": {},
   "outputs": [],
   "source": [
    "import matplotlib.pyplot as plt\n",
    "import numpy as np\n",
    "\n",
    "\n",
    "city=['Bogota 0 (No Transparency)','Bogota 1 (Performance Transparency)',' Bogota 2 (Solution Transparency)','Bogota 3 (Full Transparency)']\n",
    "pos = np.arange(len(city))\n",
    "Effort =[13.86, 34.36, 17.75, 137.73]\n",
    "\n",
    "\n",
    "plt.barh(pos,Effort,color=['g' if e > 0 else 'r' for e in Effort],edgecolor='black')\n",
    "plt.yticks(pos, city)\n",
    "plt.xlabel('Effort', fontsize=16)\n",
    "plt.ylabel('Groups', fontsize=16)\n",
    "plt.title('Phase 4 - 5 -> Standard Deviation of Effort',fontsize=20)\n",
    "plt.show()"
   ]
  },
  {
   "cell_type": "code",
   "execution_count": null,
   "id": "8f003a42",
   "metadata": {},
   "outputs": [],
   "source": [
    "import matplotlib.pyplot as plt\n",
    "import numpy as np\n",
    "\n",
    "\n",
    "city=['Bogota 0 (No Transparency)','Bogota 1 (Performance Transparency)',' Bogota 2 (Solution Transparency)','Bogota 3 (Full Transparency)']\n",
    "pos = np.arange(len(city))\n",
    "Lines_of_Code_Deleted = [30.16, 23.45, 23.39, 34.46]\n",
    "\n",
    "\n",
    "plt.barh(pos,Lines_of_Code_Deleted,color=['g' if e > 0 else 'r' for e in Lines_of_Code_Deleted],edgecolor='black')\n",
    "plt.yticks(pos, city)\n",
    "plt.xlabel('Lines_of_Code_Deleted', fontsize=16)\n",
    "plt.ylabel('Groups', fontsize=16)\n",
    "plt.title('Phase 4 - 5 -> Mean of Lines of Code Deleted',fontsize=20)\n",
    "plt.show()"
   ]
  },
  {
   "cell_type": "code",
   "execution_count": null,
   "id": "2240812b",
   "metadata": {},
   "outputs": [],
   "source": [
    "import matplotlib.pyplot as plt\n",
    "import numpy as np\n",
    "\n",
    "\n",
    "city=['Bogota 0 (No Transparency)','Bogota 1 (Performance Transparency)',' Bogota 2 (Solution Transparency)','Bogota 3 (Full Transparency)']\n",
    "pos = np.arange(len(city))\n",
    "Lines_of_Code_Deleted =[0, 0, 0, 4]\n",
    "\n",
    "\n",
    "plt.barh(pos,Lines_of_Code_Deleted,color='green',edgecolor='black')\n",
    "plt.yticks(pos, city)\n",
    "plt.xlabel('Lines_of_Code_Deleted', fontsize=16)\n",
    "plt.ylabel('Groups', fontsize=16)\n",
    "plt.title('Phase 4 - 5 -> Median of Lines of Code Deleted',fontsize=20)\n",
    "plt.show()"
   ]
  },
  {
   "cell_type": "code",
   "execution_count": null,
   "id": "fa26efce",
   "metadata": {},
   "outputs": [],
   "source": [
    "import matplotlib.pyplot as plt\n",
    "import numpy as np\n",
    "\n",
    "\n",
    "city=['Bogota 0 (No Transparency)','Bogota 1 (Performance Transparency)',' Bogota 2 (Solution Transparency)','Bogota 3 (Full Transparency)']\n",
    "pos = np.arange(len(city))\n",
    "Lines_of_Code_Deleted =[371, 346, 257, 371]\n",
    "\n",
    "\n",
    "plt.barh(pos,Lines_of_Code_Deleted,color='green',edgecolor='black')\n",
    "plt.yticks(pos, city)\n",
    "plt.xlabel('Lines_of_Code_Deleted', fontsize=16)\n",
    "plt.ylabel('Groups', fontsize=16)\n",
    "plt.title('Phase 4 - 5 -> Max of Lines of Code Deleted',fontsize=20)\n",
    "plt.show()"
   ]
  },
  {
   "cell_type": "code",
   "execution_count": null,
   "id": "2ec557b6",
   "metadata": {},
   "outputs": [],
   "source": [
    "import matplotlib.pyplot as plt\n",
    "import numpy as np\n",
    "\n",
    "\n",
    "city=['Bogota 0 (No Transparency)','Bogota 1 (Performance Transparency)',' Bogota 2 (Solution Transparency)','Bogota 3 (Full Transparency)']\n",
    "pos = np.arange(len(city))\n",
    "Lines_of_Code_Deleted =[0, 0, 0, 0]\n",
    "\n",
    "\n",
    "plt.barh(pos,Lines_of_Code_Deleted,color=['g' if e > 0 else 'r' for e in Lines_of_Code_Deleted],edgecolor='black')\n",
    "plt.yticks(pos, city)\n",
    "plt.xlabel('Lines_of_Code_Deleted', fontsize=16)\n",
    "plt.ylabel('Groups', fontsize=16)\n",
    "plt.title('Phase 4 - 5 -> Min of Lines of Code Deleted',fontsize=20)\n",
    "plt.show()"
   ]
  },
  {
   "cell_type": "code",
   "execution_count": null,
   "id": "feced0a2",
   "metadata": {},
   "outputs": [],
   "source": [
    "import matplotlib.pyplot as plt\n",
    "import numpy as np\n",
    "\n",
    "\n",
    "city=['Bogota 0 (No Transparency)','Bogota 1 (Performance Transparency)',' Bogota 2 (Solution Transparency)','Bogota 3 (Full Transparency)']\n",
    "pos = np.arange(len(city))\n",
    "Lines_of_Code_Deleted =[71.29, 58.33, 55.60, 71.32]\n",
    "\n",
    "\n",
    "plt.barh(pos,Lines_of_Code_Deleted,color=['g' if e > 0 else 'r' for e in Lines_of_Code_Deleted],edgecolor='black')\n",
    "plt.yticks(pos, city)\n",
    "plt.xlabel('Lines_of_Code_Deleted', fontsize=16)\n",
    "plt.ylabel('Groups', fontsize=16)\n",
    "plt.title('Phase 4 - 5 -> Standard Deviation of Lines of Code Deleted',fontsize=20)\n",
    "plt.show()"
   ]
  },
  {
   "cell_type": "markdown",
   "id": "5d60ed95",
   "metadata": {},
   "source": [
    "# Phase 3 - 4 ( Code Added, Deleted, Number of Files Changed )"
   ]
  },
  {
   "cell_type": "code",
   "execution_count": 13,
   "id": "04bacce1",
   "metadata": {},
   "outputs": [
    {
     "data": {
      "text/html": [
       "<div>\n",
       "<style scoped>\n",
       "    .dataframe tbody tr th:only-of-type {\n",
       "        vertical-align: middle;\n",
       "    }\n",
       "\n",
       "    .dataframe tbody tr th {\n",
       "        vertical-align: top;\n",
       "    }\n",
       "\n",
       "    .dataframe thead th {\n",
       "        text-align: right;\n",
       "    }\n",
       "</style>\n",
       "<table border=\"1\" class=\"dataframe\">\n",
       "  <thead>\n",
       "    <tr style=\"text-align: right;\">\n",
       "      <th></th>\n",
       "      <th>change</th>\n",
       "      <th>addition</th>\n",
       "      <th>delete</th>\n",
       "      <th>username</th>\n",
       "    </tr>\n",
       "  </thead>\n",
       "  <tbody>\n",
       "    <tr>\n",
       "      <th>0</th>\n",
       "      <td>0 files changed</td>\n",
       "      <td>NaN</td>\n",
       "      <td>NaN</td>\n",
       "      <td>adamantwharf</td>\n",
       "    </tr>\n",
       "    <tr>\n",
       "      <th>1</th>\n",
       "      <td>3 files changed</td>\n",
       "      <td>112 insertions(+)</td>\n",
       "      <td>75 deletions(-)</td>\n",
       "      <td>adriel62</td>\n",
       "    </tr>\n",
       "    <tr>\n",
       "      <th>2</th>\n",
       "      <td>3 files changed</td>\n",
       "      <td>70 insertions(+)</td>\n",
       "      <td>24 deletions(-)</td>\n",
       "      <td>afceballosr</td>\n",
       "    </tr>\n",
       "    <tr>\n",
       "      <th>3</th>\n",
       "      <td>0 files changed</td>\n",
       "      <td>NaN</td>\n",
       "      <td>NaN</td>\n",
       "      <td>AFelipeGA</td>\n",
       "    </tr>\n",
       "    <tr>\n",
       "      <th>4</th>\n",
       "      <td>0 files changed</td>\n",
       "      <td>NaN</td>\n",
       "      <td>NaN</td>\n",
       "      <td>afforeroc</td>\n",
       "    </tr>\n",
       "  </tbody>\n",
       "</table>\n",
       "</div>"
      ],
      "text/plain": [
       "             change            addition            delete      username\n",
       "0   0 files changed                 NaN               NaN  adamantwharf\n",
       "1   3 files changed   112 insertions(+)   75 deletions(-)      adriel62\n",
       "2   3 files changed    70 insertions(+)   24 deletions(-)   afceballosr\n",
       "3   0 files changed                 NaN               NaN     AFelipeGA\n",
       "4   0 files changed                 NaN               NaN     afforeroc"
      ]
     },
     "execution_count": 13,
     "metadata": {},
     "output_type": "execute_result"
    }
   ],
   "source": [
    "import pandas as pd\n",
    "\n",
    "df_phase34 = pd.read_csv('./data/phase-3-4-prelim.csv')\n",
    "df_phase34.head(5)"
   ]
  },
  {
   "cell_type": "code",
   "execution_count": 14,
   "id": "363beb4a",
   "metadata": {},
   "outputs": [
    {
     "data": {
      "text/html": [
       "<div>\n",
       "<style scoped>\n",
       "    .dataframe tbody tr th:only-of-type {\n",
       "        vertical-align: middle;\n",
       "    }\n",
       "\n",
       "    .dataframe tbody tr th {\n",
       "        vertical-align: top;\n",
       "    }\n",
       "\n",
       "    .dataframe thead th {\n",
       "        text-align: right;\n",
       "    }\n",
       "</style>\n",
       "<table border=\"1\" class=\"dataframe\">\n",
       "  <thead>\n",
       "    <tr style=\"text-align: right;\">\n",
       "      <th></th>\n",
       "      <th>change</th>\n",
       "      <th>addition</th>\n",
       "      <th>delete</th>\n",
       "      <th>username</th>\n",
       "      <th>change-revised</th>\n",
       "    </tr>\n",
       "  </thead>\n",
       "  <tbody>\n",
       "    <tr>\n",
       "      <th>0</th>\n",
       "      <td>0 files changed</td>\n",
       "      <td>NaN</td>\n",
       "      <td>NaN</td>\n",
       "      <td>adamantwharf</td>\n",
       "      <td>0</td>\n",
       "    </tr>\n",
       "    <tr>\n",
       "      <th>1</th>\n",
       "      <td>3 files changed</td>\n",
       "      <td>112 insertions(+)</td>\n",
       "      <td>75 deletions(-)</td>\n",
       "      <td>adriel62</td>\n",
       "      <td>3</td>\n",
       "    </tr>\n",
       "    <tr>\n",
       "      <th>2</th>\n",
       "      <td>3 files changed</td>\n",
       "      <td>70 insertions(+)</td>\n",
       "      <td>24 deletions(-)</td>\n",
       "      <td>afceballosr</td>\n",
       "      <td>3</td>\n",
       "    </tr>\n",
       "    <tr>\n",
       "      <th>3</th>\n",
       "      <td>0 files changed</td>\n",
       "      <td>NaN</td>\n",
       "      <td>NaN</td>\n",
       "      <td>AFelipeGA</td>\n",
       "      <td>0</td>\n",
       "    </tr>\n",
       "    <tr>\n",
       "      <th>4</th>\n",
       "      <td>0 files changed</td>\n",
       "      <td>NaN</td>\n",
       "      <td>NaN</td>\n",
       "      <td>afforeroc</td>\n",
       "      <td>0</td>\n",
       "    </tr>\n",
       "  </tbody>\n",
       "</table>\n",
       "</div>"
      ],
      "text/plain": [
       "             change            addition            delete      username  \\\n",
       "0   0 files changed                 NaN               NaN  adamantwharf   \n",
       "1   3 files changed   112 insertions(+)   75 deletions(-)      adriel62   \n",
       "2   3 files changed    70 insertions(+)   24 deletions(-)   afceballosr   \n",
       "3   0 files changed                 NaN               NaN     AFelipeGA   \n",
       "4   0 files changed                 NaN               NaN     afforeroc   \n",
       "\n",
       "  change-revised  \n",
       "0              0  \n",
       "1              3  \n",
       "2              3  \n",
       "3              0  \n",
       "4              0  "
      ]
     },
     "execution_count": 14,
     "metadata": {},
     "output_type": "execute_result"
    }
   ],
   "source": [
    "df_phase34['change-revised'] = df_phase34.change.str.extract('(\\d+)')\n",
    "df_phase34.head(5)"
   ]
  },
  {
   "cell_type": "code",
   "execution_count": 15,
   "id": "bff4c772",
   "metadata": {},
   "outputs": [
    {
     "data": {
      "text/html": [
       "<div>\n",
       "<style scoped>\n",
       "    .dataframe tbody tr th:only-of-type {\n",
       "        vertical-align: middle;\n",
       "    }\n",
       "\n",
       "    .dataframe tbody tr th {\n",
       "        vertical-align: top;\n",
       "    }\n",
       "\n",
       "    .dataframe thead th {\n",
       "        text-align: right;\n",
       "    }\n",
       "</style>\n",
       "<table border=\"1\" class=\"dataframe\">\n",
       "  <thead>\n",
       "    <tr style=\"text-align: right;\">\n",
       "      <th></th>\n",
       "      <th>change</th>\n",
       "      <th>addition</th>\n",
       "      <th>delete</th>\n",
       "      <th>username</th>\n",
       "      <th>change-revised</th>\n",
       "      <th>add-revised</th>\n",
       "    </tr>\n",
       "  </thead>\n",
       "  <tbody>\n",
       "    <tr>\n",
       "      <th>0</th>\n",
       "      <td>0 files changed</td>\n",
       "      <td>NaN</td>\n",
       "      <td>NaN</td>\n",
       "      <td>adamantwharf</td>\n",
       "      <td>0</td>\n",
       "      <td>0</td>\n",
       "    </tr>\n",
       "    <tr>\n",
       "      <th>1</th>\n",
       "      <td>3 files changed</td>\n",
       "      <td>112 insertions(+)</td>\n",
       "      <td>75 deletions(-)</td>\n",
       "      <td>adriel62</td>\n",
       "      <td>3</td>\n",
       "      <td>112</td>\n",
       "    </tr>\n",
       "    <tr>\n",
       "      <th>2</th>\n",
       "      <td>3 files changed</td>\n",
       "      <td>70 insertions(+)</td>\n",
       "      <td>24 deletions(-)</td>\n",
       "      <td>afceballosr</td>\n",
       "      <td>3</td>\n",
       "      <td>70</td>\n",
       "    </tr>\n",
       "    <tr>\n",
       "      <th>3</th>\n",
       "      <td>0 files changed</td>\n",
       "      <td>NaN</td>\n",
       "      <td>NaN</td>\n",
       "      <td>AFelipeGA</td>\n",
       "      <td>0</td>\n",
       "      <td>0</td>\n",
       "    </tr>\n",
       "    <tr>\n",
       "      <th>4</th>\n",
       "      <td>0 files changed</td>\n",
       "      <td>NaN</td>\n",
       "      <td>NaN</td>\n",
       "      <td>afforeroc</td>\n",
       "      <td>0</td>\n",
       "      <td>0</td>\n",
       "    </tr>\n",
       "  </tbody>\n",
       "</table>\n",
       "</div>"
      ],
      "text/plain": [
       "             change            addition            delete      username  \\\n",
       "0   0 files changed                 NaN               NaN  adamantwharf   \n",
       "1   3 files changed   112 insertions(+)   75 deletions(-)      adriel62   \n",
       "2   3 files changed    70 insertions(+)   24 deletions(-)   afceballosr   \n",
       "3   0 files changed                 NaN               NaN     AFelipeGA   \n",
       "4   0 files changed                 NaN               NaN     afforeroc   \n",
       "\n",
       "  change-revised add-revised  \n",
       "0              0           0  \n",
       "1              3         112  \n",
       "2              3          70  \n",
       "3              0           0  \n",
       "4              0           0  "
      ]
     },
     "execution_count": 15,
     "metadata": {},
     "output_type": "execute_result"
    }
   ],
   "source": [
    "df_phase34['add-revised'] = df_phase34.addition.str.extract('(\\d+)')\n",
    "df_phase34['add-revised'] = df_phase34['add-revised'].fillna(0)\n",
    "df_phase34.head(5)"
   ]
  },
  {
   "cell_type": "code",
   "execution_count": 16,
   "id": "23ff7421",
   "metadata": {},
   "outputs": [
    {
     "data": {
      "text/html": [
       "<div>\n",
       "<style scoped>\n",
       "    .dataframe tbody tr th:only-of-type {\n",
       "        vertical-align: middle;\n",
       "    }\n",
       "\n",
       "    .dataframe tbody tr th {\n",
       "        vertical-align: top;\n",
       "    }\n",
       "\n",
       "    .dataframe thead th {\n",
       "        text-align: right;\n",
       "    }\n",
       "</style>\n",
       "<table border=\"1\" class=\"dataframe\">\n",
       "  <thead>\n",
       "    <tr style=\"text-align: right;\">\n",
       "      <th></th>\n",
       "      <th>change</th>\n",
       "      <th>addition</th>\n",
       "      <th>delete</th>\n",
       "      <th>username</th>\n",
       "      <th>change-revised</th>\n",
       "      <th>add-revised</th>\n",
       "      <th>delete-revised</th>\n",
       "    </tr>\n",
       "  </thead>\n",
       "  <tbody>\n",
       "    <tr>\n",
       "      <th>0</th>\n",
       "      <td>0 files changed</td>\n",
       "      <td>NaN</td>\n",
       "      <td>NaN</td>\n",
       "      <td>adamantwharf</td>\n",
       "      <td>0</td>\n",
       "      <td>0</td>\n",
       "      <td>0</td>\n",
       "    </tr>\n",
       "    <tr>\n",
       "      <th>1</th>\n",
       "      <td>3 files changed</td>\n",
       "      <td>112 insertions(+)</td>\n",
       "      <td>75 deletions(-)</td>\n",
       "      <td>adriel62</td>\n",
       "      <td>3</td>\n",
       "      <td>112</td>\n",
       "      <td>75</td>\n",
       "    </tr>\n",
       "    <tr>\n",
       "      <th>2</th>\n",
       "      <td>3 files changed</td>\n",
       "      <td>70 insertions(+)</td>\n",
       "      <td>24 deletions(-)</td>\n",
       "      <td>afceballosr</td>\n",
       "      <td>3</td>\n",
       "      <td>70</td>\n",
       "      <td>24</td>\n",
       "    </tr>\n",
       "    <tr>\n",
       "      <th>3</th>\n",
       "      <td>0 files changed</td>\n",
       "      <td>NaN</td>\n",
       "      <td>NaN</td>\n",
       "      <td>AFelipeGA</td>\n",
       "      <td>0</td>\n",
       "      <td>0</td>\n",
       "      <td>0</td>\n",
       "    </tr>\n",
       "    <tr>\n",
       "      <th>4</th>\n",
       "      <td>0 files changed</td>\n",
       "      <td>NaN</td>\n",
       "      <td>NaN</td>\n",
       "      <td>afforeroc</td>\n",
       "      <td>0</td>\n",
       "      <td>0</td>\n",
       "      <td>0</td>\n",
       "    </tr>\n",
       "  </tbody>\n",
       "</table>\n",
       "</div>"
      ],
      "text/plain": [
       "             change            addition            delete      username  \\\n",
       "0   0 files changed                 NaN               NaN  adamantwharf   \n",
       "1   3 files changed   112 insertions(+)   75 deletions(-)      adriel62   \n",
       "2   3 files changed    70 insertions(+)   24 deletions(-)   afceballosr   \n",
       "3   0 files changed                 NaN               NaN     AFelipeGA   \n",
       "4   0 files changed                 NaN               NaN     afforeroc   \n",
       "\n",
       "  change-revised add-revised delete-revised  \n",
       "0              0           0              0  \n",
       "1              3         112             75  \n",
       "2              3          70             24  \n",
       "3              0           0              0  \n",
       "4              0           0              0  "
      ]
     },
     "execution_count": 16,
     "metadata": {},
     "output_type": "execute_result"
    }
   ],
   "source": [
    "df_phase34['delete-revised'] = df_phase34.delete.str.extract('(\\d+)')\n",
    "df_phase34['delete-revised'] = df_phase34['delete-revised'].fillna(0)\n",
    "df_phase34.head(5)"
   ]
  },
  {
   "cell_type": "markdown",
   "id": "d2e7a444",
   "metadata": {},
   "source": [
    "# Phase 3 - 4 Bogota 3 ( Full Transparency )"
   ]
  },
  {
   "cell_type": "code",
   "execution_count": 17,
   "id": "ca9abc33",
   "metadata": {},
   "outputs": [
    {
     "data": {
      "text/html": [
       "<div>\n",
       "<style scoped>\n",
       "    .dataframe tbody tr th:only-of-type {\n",
       "        vertical-align: middle;\n",
       "    }\n",
       "\n",
       "    .dataframe tbody tr th {\n",
       "        vertical-align: top;\n",
       "    }\n",
       "\n",
       "    .dataframe thead th {\n",
       "        text-align: right;\n",
       "    }\n",
       "</style>\n",
       "<table border=\"1\" class=\"dataframe\">\n",
       "  <thead>\n",
       "    <tr style=\"text-align: right;\">\n",
       "      <th></th>\n",
       "      <th>Project</th>\n",
       "      <th>Unnamed: 1</th>\n",
       "      <th>Unnamed: 2</th>\n",
       "    </tr>\n",
       "  </thead>\n",
       "  <tbody>\n",
       "    <tr>\n",
       "      <th>0</th>\n",
       "      <td>NicolasPrr</td>\n",
       "      <td>NaN</td>\n",
       "      <td>NaN</td>\n",
       "    </tr>\n",
       "    <tr>\n",
       "      <th>1</th>\n",
       "      <td>jscastelblancoh</td>\n",
       "      <td>NaN</td>\n",
       "      <td>NaN</td>\n",
       "    </tr>\n",
       "    <tr>\n",
       "      <th>2</th>\n",
       "      <td>juligarji</td>\n",
       "      <td>NaN</td>\n",
       "      <td>NaN</td>\n",
       "    </tr>\n",
       "    <tr>\n",
       "      <th>3</th>\n",
       "      <td>lacardenasv</td>\n",
       "      <td>NaN</td>\n",
       "      <td>NaN</td>\n",
       "    </tr>\n",
       "    <tr>\n",
       "      <th>4</th>\n",
       "      <td>jmalvarezd</td>\n",
       "      <td>NaN</td>\n",
       "      <td>NaN</td>\n",
       "    </tr>\n",
       "  </tbody>\n",
       "</table>\n",
       "</div>"
      ],
      "text/plain": [
       "           Project  Unnamed: 1  Unnamed: 2\n",
       "0       NicolasPrr         NaN         NaN\n",
       "1  jscastelblancoh         NaN         NaN\n",
       "2        juligarji         NaN         NaN\n",
       "3      lacardenasv         NaN         NaN\n",
       "4       jmalvarezd         NaN         NaN"
      ]
     },
     "execution_count": 17,
     "metadata": {},
     "output_type": "execute_result"
    }
   ],
   "source": [
    "df3 = pd.read_csv('./data/bogota-3.csv')\n",
    "df3.head(5)"
   ]
  },
  {
   "cell_type": "code",
   "execution_count": 18,
   "id": "f4cb4a5f",
   "metadata": {},
   "outputs": [
    {
     "data": {
      "text/html": [
       "<div>\n",
       "<style scoped>\n",
       "    .dataframe tbody tr th:only-of-type {\n",
       "        vertical-align: middle;\n",
       "    }\n",
       "\n",
       "    .dataframe tbody tr th {\n",
       "        vertical-align: top;\n",
       "    }\n",
       "\n",
       "    .dataframe thead th {\n",
       "        text-align: right;\n",
       "    }\n",
       "</style>\n",
       "<table border=\"1\" class=\"dataframe\">\n",
       "  <thead>\n",
       "    <tr style=\"text-align: right;\">\n",
       "      <th></th>\n",
       "      <th>change</th>\n",
       "      <th>addition</th>\n",
       "      <th>delete</th>\n",
       "      <th>username</th>\n",
       "      <th>change-revised</th>\n",
       "      <th>add-revised</th>\n",
       "      <th>delete-revised</th>\n",
       "      <th>bogota-3</th>\n",
       "    </tr>\n",
       "  </thead>\n",
       "  <tbody>\n",
       "    <tr>\n",
       "      <th>0</th>\n",
       "      <td>0 files changed</td>\n",
       "      <td>NaN</td>\n",
       "      <td>NaN</td>\n",
       "      <td>adamantwharf</td>\n",
       "      <td>0</td>\n",
       "      <td>0</td>\n",
       "      <td>0</td>\n",
       "      <td>False</td>\n",
       "    </tr>\n",
       "    <tr>\n",
       "      <th>1</th>\n",
       "      <td>3 files changed</td>\n",
       "      <td>112 insertions(+)</td>\n",
       "      <td>75 deletions(-)</td>\n",
       "      <td>adriel62</td>\n",
       "      <td>3</td>\n",
       "      <td>112</td>\n",
       "      <td>75</td>\n",
       "      <td>True</td>\n",
       "    </tr>\n",
       "    <tr>\n",
       "      <th>2</th>\n",
       "      <td>3 files changed</td>\n",
       "      <td>70 insertions(+)</td>\n",
       "      <td>24 deletions(-)</td>\n",
       "      <td>afceballosr</td>\n",
       "      <td>3</td>\n",
       "      <td>70</td>\n",
       "      <td>24</td>\n",
       "      <td>True</td>\n",
       "    </tr>\n",
       "    <tr>\n",
       "      <th>3</th>\n",
       "      <td>0 files changed</td>\n",
       "      <td>NaN</td>\n",
       "      <td>NaN</td>\n",
       "      <td>AFelipeGA</td>\n",
       "      <td>0</td>\n",
       "      <td>0</td>\n",
       "      <td>0</td>\n",
       "      <td>True</td>\n",
       "    </tr>\n",
       "    <tr>\n",
       "      <th>4</th>\n",
       "      <td>0 files changed</td>\n",
       "      <td>NaN</td>\n",
       "      <td>NaN</td>\n",
       "      <td>afforeroc</td>\n",
       "      <td>0</td>\n",
       "      <td>0</td>\n",
       "      <td>0</td>\n",
       "      <td>True</td>\n",
       "    </tr>\n",
       "  </tbody>\n",
       "</table>\n",
       "</div>"
      ],
      "text/plain": [
       "             change            addition            delete      username  \\\n",
       "0   0 files changed                 NaN               NaN  adamantwharf   \n",
       "1   3 files changed   112 insertions(+)   75 deletions(-)      adriel62   \n",
       "2   3 files changed    70 insertions(+)   24 deletions(-)   afceballosr   \n",
       "3   0 files changed                 NaN               NaN     AFelipeGA   \n",
       "4   0 files changed                 NaN               NaN     afforeroc   \n",
       "\n",
       "  change-revised add-revised delete-revised  bogota-3  \n",
       "0              0           0              0     False  \n",
       "1              3         112             75      True  \n",
       "2              3          70             24      True  \n",
       "3              0           0              0      True  \n",
       "4              0           0              0      True  "
      ]
     },
     "execution_count": 18,
     "metadata": {},
     "output_type": "execute_result"
    }
   ],
   "source": [
    "df_phase34['bogota-3'] = df_phase34['username'].isin(df3['Project'])\n",
    "df_phase34.head(5)"
   ]
  },
  {
   "cell_type": "code",
   "execution_count": 19,
   "id": "9f0da3ea",
   "metadata": {},
   "outputs": [
    {
     "data": {
      "text/html": [
       "<div>\n",
       "<style scoped>\n",
       "    .dataframe tbody tr th:only-of-type {\n",
       "        vertical-align: middle;\n",
       "    }\n",
       "\n",
       "    .dataframe tbody tr th {\n",
       "        vertical-align: top;\n",
       "    }\n",
       "\n",
       "    .dataframe thead th {\n",
       "        text-align: right;\n",
       "    }\n",
       "</style>\n",
       "<table border=\"1\" class=\"dataframe\">\n",
       "  <thead>\n",
       "    <tr style=\"text-align: right;\">\n",
       "      <th></th>\n",
       "      <th>change</th>\n",
       "      <th>addition</th>\n",
       "      <th>delete</th>\n",
       "      <th>username</th>\n",
       "      <th>change-revised</th>\n",
       "      <th>add-revised</th>\n",
       "      <th>delete-revised</th>\n",
       "      <th>bogota-3</th>\n",
       "    </tr>\n",
       "  </thead>\n",
       "  <tbody>\n",
       "    <tr>\n",
       "      <th>0</th>\n",
       "      <td>0 files changed</td>\n",
       "      <td>NaN</td>\n",
       "      <td>NaN</td>\n",
       "      <td>adamantwharf</td>\n",
       "      <td>0</td>\n",
       "      <td>0</td>\n",
       "      <td>0</td>\n",
       "      <td>0</td>\n",
       "    </tr>\n",
       "    <tr>\n",
       "      <th>1</th>\n",
       "      <td>3 files changed</td>\n",
       "      <td>112 insertions(+)</td>\n",
       "      <td>75 deletions(-)</td>\n",
       "      <td>adriel62</td>\n",
       "      <td>3</td>\n",
       "      <td>112</td>\n",
       "      <td>75</td>\n",
       "      <td>1</td>\n",
       "    </tr>\n",
       "    <tr>\n",
       "      <th>2</th>\n",
       "      <td>3 files changed</td>\n",
       "      <td>70 insertions(+)</td>\n",
       "      <td>24 deletions(-)</td>\n",
       "      <td>afceballosr</td>\n",
       "      <td>3</td>\n",
       "      <td>70</td>\n",
       "      <td>24</td>\n",
       "      <td>1</td>\n",
       "    </tr>\n",
       "    <tr>\n",
       "      <th>3</th>\n",
       "      <td>0 files changed</td>\n",
       "      <td>NaN</td>\n",
       "      <td>NaN</td>\n",
       "      <td>AFelipeGA</td>\n",
       "      <td>0</td>\n",
       "      <td>0</td>\n",
       "      <td>0</td>\n",
       "      <td>1</td>\n",
       "    </tr>\n",
       "    <tr>\n",
       "      <th>4</th>\n",
       "      <td>0 files changed</td>\n",
       "      <td>NaN</td>\n",
       "      <td>NaN</td>\n",
       "      <td>afforeroc</td>\n",
       "      <td>0</td>\n",
       "      <td>0</td>\n",
       "      <td>0</td>\n",
       "      <td>1</td>\n",
       "    </tr>\n",
       "  </tbody>\n",
       "</table>\n",
       "</div>"
      ],
      "text/plain": [
       "             change            addition            delete      username  \\\n",
       "0   0 files changed                 NaN               NaN  adamantwharf   \n",
       "1   3 files changed   112 insertions(+)   75 deletions(-)      adriel62   \n",
       "2   3 files changed    70 insertions(+)   24 deletions(-)   afceballosr   \n",
       "3   0 files changed                 NaN               NaN     AFelipeGA   \n",
       "4   0 files changed                 NaN               NaN     afforeroc   \n",
       "\n",
       "  change-revised add-revised delete-revised  bogota-3  \n",
       "0              0           0              0         0  \n",
       "1              3         112             75         1  \n",
       "2              3          70             24         1  \n",
       "3              0           0              0         1  \n",
       "4              0           0              0         1  "
      ]
     },
     "execution_count": 19,
     "metadata": {},
     "output_type": "execute_result"
    }
   ],
   "source": [
    "df_phase34[\"bogota-3\"] = df_phase34[\"bogota-3\"].astype(int)\n",
    "df_phase34.head(5)"
   ]
  },
  {
   "cell_type": "code",
   "execution_count": 20,
   "id": "0f1e021f",
   "metadata": {},
   "outputs": [
    {
     "data": {
      "text/html": [
       "<div>\n",
       "<style scoped>\n",
       "    .dataframe tbody tr th:only-of-type {\n",
       "        vertical-align: middle;\n",
       "    }\n",
       "\n",
       "    .dataframe tbody tr th {\n",
       "        vertical-align: top;\n",
       "    }\n",
       "\n",
       "    .dataframe thead th {\n",
       "        text-align: right;\n",
       "    }\n",
       "</style>\n",
       "<table border=\"1\" class=\"dataframe\">\n",
       "  <thead>\n",
       "    <tr style=\"text-align: right;\">\n",
       "      <th></th>\n",
       "      <th>change</th>\n",
       "      <th>addition</th>\n",
       "      <th>delete</th>\n",
       "      <th>username</th>\n",
       "      <th>change-revised</th>\n",
       "      <th>add-revised</th>\n",
       "      <th>delete-revised</th>\n",
       "      <th>bogota-3</th>\n",
       "    </tr>\n",
       "  </thead>\n",
       "  <tbody>\n",
       "    <tr>\n",
       "      <th>1</th>\n",
       "      <td>3 files changed</td>\n",
       "      <td>112 insertions(+)</td>\n",
       "      <td>75 deletions(-)</td>\n",
       "      <td>adriel62</td>\n",
       "      <td>3</td>\n",
       "      <td>112</td>\n",
       "      <td>75</td>\n",
       "      <td>1</td>\n",
       "    </tr>\n",
       "    <tr>\n",
       "      <th>2</th>\n",
       "      <td>3 files changed</td>\n",
       "      <td>70 insertions(+)</td>\n",
       "      <td>24 deletions(-)</td>\n",
       "      <td>afceballosr</td>\n",
       "      <td>3</td>\n",
       "      <td>70</td>\n",
       "      <td>24</td>\n",
       "      <td>1</td>\n",
       "    </tr>\n",
       "    <tr>\n",
       "      <th>3</th>\n",
       "      <td>0 files changed</td>\n",
       "      <td>NaN</td>\n",
       "      <td>NaN</td>\n",
       "      <td>AFelipeGA</td>\n",
       "      <td>0</td>\n",
       "      <td>0</td>\n",
       "      <td>0</td>\n",
       "      <td>1</td>\n",
       "    </tr>\n",
       "    <tr>\n",
       "      <th>4</th>\n",
       "      <td>0 files changed</td>\n",
       "      <td>NaN</td>\n",
       "      <td>NaN</td>\n",
       "      <td>afforeroc</td>\n",
       "      <td>0</td>\n",
       "      <td>0</td>\n",
       "      <td>0</td>\n",
       "      <td>1</td>\n",
       "    </tr>\n",
       "    <tr>\n",
       "      <th>19</th>\n",
       "      <td>1 file changed</td>\n",
       "      <td>83 insertions(+)</td>\n",
       "      <td>54 deletions(-)</td>\n",
       "      <td>capinzor</td>\n",
       "      <td>1</td>\n",
       "      <td>83</td>\n",
       "      <td>54</td>\n",
       "      <td>1</td>\n",
       "    </tr>\n",
       "  </tbody>\n",
       "</table>\n",
       "</div>"
      ],
      "text/plain": [
       "              change            addition            delete     username  \\\n",
       "1    3 files changed   112 insertions(+)   75 deletions(-)     adriel62   \n",
       "2    3 files changed    70 insertions(+)   24 deletions(-)  afceballosr   \n",
       "3    0 files changed                 NaN               NaN    AFelipeGA   \n",
       "4    0 files changed                 NaN               NaN    afforeroc   \n",
       "19    1 file changed    83 insertions(+)   54 deletions(-)     capinzor   \n",
       "\n",
       "   change-revised add-revised delete-revised  bogota-3  \n",
       "1               3         112             75         1  \n",
       "2               3          70             24         1  \n",
       "3               0           0              0         1  \n",
       "4               0           0              0         1  \n",
       "19              1          83             54         1  "
      ]
     },
     "execution_count": 20,
     "metadata": {},
     "output_type": "execute_result"
    }
   ],
   "source": [
    "df3_phase34 = df_phase34.loc[df_phase34['bogota-3'] == 1]\n",
    "df3_phase34.head(5)"
   ]
  },
  {
   "cell_type": "code",
   "execution_count": 21,
   "id": "9fe9c08f",
   "metadata": {},
   "outputs": [],
   "source": [
    "df3_phase34.to_csv('df3_phase34_loc.csv')"
   ]
  },
  {
   "cell_type": "code",
   "execution_count": 22,
   "id": "1b364d75",
   "metadata": {},
   "outputs": [
    {
     "name": "stdout",
     "output_type": "stream",
     "text": [
      "41\n"
     ]
    }
   ],
   "source": [
    "print(len(df3_phase34.index))"
   ]
  },
  {
   "cell_type": "code",
   "execution_count": 23,
   "id": "748435a4",
   "metadata": {},
   "outputs": [
    {
     "name": "stdout",
     "output_type": "stream",
     "text": [
      "1.6585365853658536\n",
      "1.0\n",
      "2.1284942576568175\n",
      "11\n",
      "0\n"
     ]
    },
    {
     "name": "stderr",
     "output_type": "stream",
     "text": [
      "<ipython-input-23-d592154219c3>:1: SettingWithCopyWarning: \n",
      "A value is trying to be set on a copy of a slice from a DataFrame.\n",
      "Try using .loc[row_indexer,col_indexer] = value instead\n",
      "\n",
      "See the caveats in the documentation: https://pandas.pydata.org/pandas-docs/stable/user_guide/indexing.html#returning-a-view-versus-a-copy\n",
      "  df3_phase34['change-revised'] = pd.to_numeric(df3_phase34['change-revised'])\n"
     ]
    }
   ],
   "source": [
    "df3_phase34['change-revised'] = pd.to_numeric(df3_phase34['change-revised'])\n",
    "print(df3_phase34['change-revised'].mean())\n",
    "print(df3_phase34['change-revised'].median())\n",
    "print(df3_phase34['change-revised'].std())\n",
    "print(df3_phase34['change-revised'].max())\n",
    "print(df3_phase34['change-revised'].min())"
   ]
  },
  {
   "cell_type": "code",
   "execution_count": 24,
   "id": "52dd8c25",
   "metadata": {},
   "outputs": [
    {
     "name": "stdout",
     "output_type": "stream",
     "text": [
      "81.6829268292683\n",
      "3.0\n",
      "177.6017228272843\n",
      "870\n",
      "0\n"
     ]
    },
    {
     "name": "stderr",
     "output_type": "stream",
     "text": [
      "<ipython-input-24-6c78d380886b>:1: SettingWithCopyWarning: \n",
      "A value is trying to be set on a copy of a slice from a DataFrame.\n",
      "Try using .loc[row_indexer,col_indexer] = value instead\n",
      "\n",
      "See the caveats in the documentation: https://pandas.pydata.org/pandas-docs/stable/user_guide/indexing.html#returning-a-view-versus-a-copy\n",
      "  df3_phase34['delete-revised'] = pd.to_numeric(df3_phase34['delete-revised'])\n"
     ]
    },
    {
     "data": {
      "text/plain": [
       "array([ 75,  24,   0,   0,  54,   0,   0,  11,   0, 642,   4,   0,   0,\n",
       "         0,   0,   0,   0,   0, 118, 175,  37,   0,   0, 294, 246,  34,\n",
       "        53,   7,   3,   0,   0, 285,  67,   0,  70, 870, 263,   0,   1,\n",
       "        16,   0])"
      ]
     },
     "execution_count": 24,
     "metadata": {},
     "output_type": "execute_result"
    }
   ],
   "source": [
    "df3_phase34['delete-revised'] = pd.to_numeric(df3_phase34['delete-revised'])\n",
    "df3_phase34['delete-revised'].mean()\n",
    "print(df3_phase34['delete-revised'].mean())\n",
    "print(df3_phase34['delete-revised'].median())\n",
    "print(df3_phase34['delete-revised'].std())\n",
    "print(df3_phase34['delete-revised'].max())\n",
    "print(df3_phase34['delete-revised'].min())\n",
    "\n",
    "df3_delete = df3_phase34['delete-revised']\n",
    "df3_delete.values"
   ]
  },
  {
   "cell_type": "code",
   "execution_count": 25,
   "id": "129ce940",
   "metadata": {},
   "outputs": [
    {
     "name": "stdout",
     "output_type": "stream",
     "text": [
      "29.73170731707317\n",
      "1.0\n",
      "74.01656044097292\n",
      "448\n",
      "0\n"
     ]
    },
    {
     "name": "stderr",
     "output_type": "stream",
     "text": [
      "<ipython-input-25-0ae11b361cd5>:1: SettingWithCopyWarning: \n",
      "A value is trying to be set on a copy of a slice from a DataFrame.\n",
      "Try using .loc[row_indexer,col_indexer] = value instead\n",
      "\n",
      "See the caveats in the documentation: https://pandas.pydata.org/pandas-docs/stable/user_guide/indexing.html#returning-a-view-versus-a-copy\n",
      "  df3_phase34['add-revised'] = pd.to_numeric(df3_phase34['add-revised'])\n"
     ]
    },
    {
     "data": {
      "text/plain": [
       "array([112,  70,   0,   0,  83,   0,   0,   1,   0, 448,   1,   0,   0,\n",
       "         0,   0,   0,   0,   4,  39,  25,  29,   1,   0,  61,  26,  14,\n",
       "        31,   1,   4,   0,   1, 106,   6,   0,  37,  12,  94,   0,   1,\n",
       "        12,   0])"
      ]
     },
     "execution_count": 25,
     "metadata": {},
     "output_type": "execute_result"
    }
   ],
   "source": [
    "df3_phase34['add-revised'] = pd.to_numeric(df3_phase34['add-revised'])\n",
    "df3_phase34['add-revised'].mean()\n",
    "\n",
    "print(df3_phase34['add-revised'].mean())\n",
    "print(df3_phase34['add-revised'].median())\n",
    "print(df3_phase34['add-revised'].std())\n",
    "print(df3_phase34['add-revised'].max())\n",
    "print(df3_phase34['add-revised'].min())\n",
    "df3_add = df3_phase34['add-revised']\n",
    "df3_add.values"
   ]
  },
  {
   "cell_type": "code",
   "execution_count": 26,
   "id": "1ab40696",
   "metadata": {},
   "outputs": [
    {
     "name": "stdout",
     "output_type": "stream",
     "text": [
      "-11.109756097560975\n",
      "0.0\n",
      "75.31023438045473\n",
      "127.0\n",
      "-423.0\n"
     ]
    },
    {
     "name": "stderr",
     "output_type": "stream",
     "text": [
      "<ipython-input-26-8b96e3220b6e>:1: SettingWithCopyWarning: \n",
      "A value is trying to be set on a copy of a slice from a DataFrame.\n",
      "Try using .loc[row_indexer,col_indexer] = value instead\n",
      "\n",
      "See the caveats in the documentation: https://pandas.pydata.org/pandas-docs/stable/user_guide/indexing.html#returning-a-view-versus-a-copy\n",
      "  df3_phase34['add-revised'] = df3_phase34['add-revised'].astype(float)\n",
      "<ipython-input-26-8b96e3220b6e>:2: SettingWithCopyWarning: \n",
      "A value is trying to be set on a copy of a slice from a DataFrame.\n",
      "Try using .loc[row_indexer,col_indexer] = value instead\n",
      "\n",
      "See the caveats in the documentation: https://pandas.pydata.org/pandas-docs/stable/user_guide/indexing.html#returning-a-view-versus-a-copy\n",
      "  df3_phase34['delete-revised'] = df3_phase34['delete-revised'].astype(float)\n",
      "<ipython-input-26-8b96e3220b6e>:3: SettingWithCopyWarning: \n",
      "A value is trying to be set on a copy of a slice from a DataFrame.\n",
      "Try using .loc[row_indexer,col_indexer] = value instead\n",
      "\n",
      "See the caveats in the documentation: https://pandas.pydata.org/pandas-docs/stable/user_guide/indexing.html#returning-a-view-versus-a-copy\n",
      "  df3_phase34['effort'] = df3_phase34['add-revised'] - 0.5 * df3_phase34['delete-revised']\n"
     ]
    }
   ],
   "source": [
    "df3_phase34['add-revised'] = df3_phase34['add-revised'].astype(float)\n",
    "df3_phase34['delete-revised'] = df3_phase34['delete-revised'].astype(float)\n",
    "df3_phase34['effort'] = df3_phase34['add-revised'] - 0.5 * df3_phase34['delete-revised']\n",
    "print(df3_phase34['effort'].mean())\n",
    "print(df3_phase34['effort'].median())\n",
    "print(df3_phase34['effort'].std())\n",
    "print(df3_phase34['effort'].max())\n",
    "print(df3_phase34['effort'].min())\n"
   ]
  },
  {
   "cell_type": "code",
   "execution_count": 27,
   "id": "f89bd488",
   "metadata": {},
   "outputs": [
    {
     "data": {
      "text/plain": [
       "array([  74.5,   58. ,    0. ,    0. ,   56. ,    0. ,    0. ,   -4.5,\n",
       "          0. ,  127. ,   -1. ,    0. ,    0. ,    0. ,    0. ,    0. ,\n",
       "          0. ,    4. ,  -20. ,  -62.5,   10.5,    1. ,    0. ,  -86. ,\n",
       "        -97. ,   -3. ,    4.5,   -2.5,    2.5,    0. ,    1. ,  -36.5,\n",
       "        -27.5,    0. ,    2. , -423. ,  -37.5,    0. ,    0.5,    4. ,\n",
       "          0. ])"
      ]
     },
     "execution_count": 27,
     "metadata": {},
     "output_type": "execute_result"
    }
   ],
   "source": [
    "import numpy as np\n",
    "np.set_printoptions(suppress=True)\n",
    "diff3 = df3_phase34['add-revised'] - 0.5 * df3_phase34['delete-revised']\n",
    "diff3.values"
   ]
  },
  {
   "cell_type": "markdown",
   "id": "94dd188b",
   "metadata": {},
   "source": [
    "# Phase 3 - 4 Bogota 2 ( Solution Transparency )"
   ]
  },
  {
   "cell_type": "code",
   "execution_count": 28,
   "id": "1b360d46",
   "metadata": {},
   "outputs": [
    {
     "data": {
      "text/html": [
       "<div>\n",
       "<style scoped>\n",
       "    .dataframe tbody tr th:only-of-type {\n",
       "        vertical-align: middle;\n",
       "    }\n",
       "\n",
       "    .dataframe tbody tr th {\n",
       "        vertical-align: top;\n",
       "    }\n",
       "\n",
       "    .dataframe thead th {\n",
       "        text-align: right;\n",
       "    }\n",
       "</style>\n",
       "<table border=\"1\" class=\"dataframe\">\n",
       "  <thead>\n",
       "    <tr style=\"text-align: right;\">\n",
       "      <th></th>\n",
       "      <th>Project</th>\n",
       "      <th>Unnamed: 1</th>\n",
       "      <th>Unnamed: 2</th>\n",
       "    </tr>\n",
       "  </thead>\n",
       "  <tbody>\n",
       "    <tr>\n",
       "      <th>0</th>\n",
       "      <td>xdanielsb</td>\n",
       "      <td>NaN</td>\n",
       "      <td>NaN</td>\n",
       "    </tr>\n",
       "    <tr>\n",
       "      <th>1</th>\n",
       "      <td>Gantiva</td>\n",
       "      <td>NaN</td>\n",
       "      <td>NaN</td>\n",
       "    </tr>\n",
       "    <tr>\n",
       "      <th>2</th>\n",
       "      <td>leguzman</td>\n",
       "      <td>NaN</td>\n",
       "      <td>NaN</td>\n",
       "    </tr>\n",
       "    <tr>\n",
       "      <th>3</th>\n",
       "      <td>juasmartinezbel</td>\n",
       "      <td>NaN</td>\n",
       "      <td>NaN</td>\n",
       "    </tr>\n",
       "    <tr>\n",
       "      <th>4</th>\n",
       "      <td>cesarochoa2006</td>\n",
       "      <td>NaN</td>\n",
       "      <td>NaN</td>\n",
       "    </tr>\n",
       "  </tbody>\n",
       "</table>\n",
       "</div>"
      ],
      "text/plain": [
       "           Project  Unnamed: 1  Unnamed: 2\n",
       "0        xdanielsb         NaN         NaN\n",
       "1          Gantiva         NaN         NaN\n",
       "2         leguzman         NaN         NaN\n",
       "3  juasmartinezbel         NaN         NaN\n",
       "4   cesarochoa2006         NaN         NaN"
      ]
     },
     "execution_count": 28,
     "metadata": {},
     "output_type": "execute_result"
    }
   ],
   "source": [
    "df2 = pd.read_csv('./data/bogota-2.csv')\n",
    "df2.head(5)"
   ]
  },
  {
   "cell_type": "code",
   "execution_count": 29,
   "id": "e6994697",
   "metadata": {},
   "outputs": [
    {
     "data": {
      "text/html": [
       "<div>\n",
       "<style scoped>\n",
       "    .dataframe tbody tr th:only-of-type {\n",
       "        vertical-align: middle;\n",
       "    }\n",
       "\n",
       "    .dataframe tbody tr th {\n",
       "        vertical-align: top;\n",
       "    }\n",
       "\n",
       "    .dataframe thead th {\n",
       "        text-align: right;\n",
       "    }\n",
       "</style>\n",
       "<table border=\"1\" class=\"dataframe\">\n",
       "  <thead>\n",
       "    <tr style=\"text-align: right;\">\n",
       "      <th></th>\n",
       "      <th>change</th>\n",
       "      <th>addition</th>\n",
       "      <th>delete</th>\n",
       "      <th>username</th>\n",
       "      <th>change-revised</th>\n",
       "      <th>add-revised</th>\n",
       "      <th>delete-revised</th>\n",
       "      <th>bogota-3</th>\n",
       "      <th>bogota-2</th>\n",
       "    </tr>\n",
       "  </thead>\n",
       "  <tbody>\n",
       "    <tr>\n",
       "      <th>0</th>\n",
       "      <td>0 files changed</td>\n",
       "      <td>NaN</td>\n",
       "      <td>NaN</td>\n",
       "      <td>adamantwharf</td>\n",
       "      <td>0</td>\n",
       "      <td>0</td>\n",
       "      <td>0</td>\n",
       "      <td>0</td>\n",
       "      <td>False</td>\n",
       "    </tr>\n",
       "    <tr>\n",
       "      <th>1</th>\n",
       "      <td>3 files changed</td>\n",
       "      <td>112 insertions(+)</td>\n",
       "      <td>75 deletions(-)</td>\n",
       "      <td>adriel62</td>\n",
       "      <td>3</td>\n",
       "      <td>112</td>\n",
       "      <td>75</td>\n",
       "      <td>1</td>\n",
       "      <td>False</td>\n",
       "    </tr>\n",
       "    <tr>\n",
       "      <th>2</th>\n",
       "      <td>3 files changed</td>\n",
       "      <td>70 insertions(+)</td>\n",
       "      <td>24 deletions(-)</td>\n",
       "      <td>afceballosr</td>\n",
       "      <td>3</td>\n",
       "      <td>70</td>\n",
       "      <td>24</td>\n",
       "      <td>1</td>\n",
       "      <td>False</td>\n",
       "    </tr>\n",
       "    <tr>\n",
       "      <th>3</th>\n",
       "      <td>0 files changed</td>\n",
       "      <td>NaN</td>\n",
       "      <td>NaN</td>\n",
       "      <td>AFelipeGA</td>\n",
       "      <td>0</td>\n",
       "      <td>0</td>\n",
       "      <td>0</td>\n",
       "      <td>1</td>\n",
       "      <td>False</td>\n",
       "    </tr>\n",
       "    <tr>\n",
       "      <th>4</th>\n",
       "      <td>0 files changed</td>\n",
       "      <td>NaN</td>\n",
       "      <td>NaN</td>\n",
       "      <td>afforeroc</td>\n",
       "      <td>0</td>\n",
       "      <td>0</td>\n",
       "      <td>0</td>\n",
       "      <td>1</td>\n",
       "      <td>False</td>\n",
       "    </tr>\n",
       "  </tbody>\n",
       "</table>\n",
       "</div>"
      ],
      "text/plain": [
       "             change            addition            delete      username  \\\n",
       "0   0 files changed                 NaN               NaN  adamantwharf   \n",
       "1   3 files changed   112 insertions(+)   75 deletions(-)      adriel62   \n",
       "2   3 files changed    70 insertions(+)   24 deletions(-)   afceballosr   \n",
       "3   0 files changed                 NaN               NaN     AFelipeGA   \n",
       "4   0 files changed                 NaN               NaN     afforeroc   \n",
       "\n",
       "  change-revised add-revised delete-revised  bogota-3  bogota-2  \n",
       "0              0           0              0         0     False  \n",
       "1              3         112             75         1     False  \n",
       "2              3          70             24         1     False  \n",
       "3              0           0              0         1     False  \n",
       "4              0           0              0         1     False  "
      ]
     },
     "execution_count": 29,
     "metadata": {},
     "output_type": "execute_result"
    }
   ],
   "source": [
    "df_phase34['bogota-2'] = df_phase34['username'].isin(df2['Project'])\n",
    "df_phase34.head(5)"
   ]
  },
  {
   "cell_type": "code",
   "execution_count": 30,
   "id": "ef77654f",
   "metadata": {},
   "outputs": [
    {
     "data": {
      "text/html": [
       "<div>\n",
       "<style scoped>\n",
       "    .dataframe tbody tr th:only-of-type {\n",
       "        vertical-align: middle;\n",
       "    }\n",
       "\n",
       "    .dataframe tbody tr th {\n",
       "        vertical-align: top;\n",
       "    }\n",
       "\n",
       "    .dataframe thead th {\n",
       "        text-align: right;\n",
       "    }\n",
       "</style>\n",
       "<table border=\"1\" class=\"dataframe\">\n",
       "  <thead>\n",
       "    <tr style=\"text-align: right;\">\n",
       "      <th></th>\n",
       "      <th>change</th>\n",
       "      <th>addition</th>\n",
       "      <th>delete</th>\n",
       "      <th>username</th>\n",
       "      <th>change-revised</th>\n",
       "      <th>add-revised</th>\n",
       "      <th>delete-revised</th>\n",
       "      <th>bogota-3</th>\n",
       "      <th>bogota-2</th>\n",
       "    </tr>\n",
       "  </thead>\n",
       "  <tbody>\n",
       "    <tr>\n",
       "      <th>0</th>\n",
       "      <td>0 files changed</td>\n",
       "      <td>NaN</td>\n",
       "      <td>NaN</td>\n",
       "      <td>adamantwharf</td>\n",
       "      <td>0</td>\n",
       "      <td>0</td>\n",
       "      <td>0</td>\n",
       "      <td>0</td>\n",
       "      <td>0</td>\n",
       "    </tr>\n",
       "    <tr>\n",
       "      <th>1</th>\n",
       "      <td>3 files changed</td>\n",
       "      <td>112 insertions(+)</td>\n",
       "      <td>75 deletions(-)</td>\n",
       "      <td>adriel62</td>\n",
       "      <td>3</td>\n",
       "      <td>112</td>\n",
       "      <td>75</td>\n",
       "      <td>1</td>\n",
       "      <td>0</td>\n",
       "    </tr>\n",
       "    <tr>\n",
       "      <th>2</th>\n",
       "      <td>3 files changed</td>\n",
       "      <td>70 insertions(+)</td>\n",
       "      <td>24 deletions(-)</td>\n",
       "      <td>afceballosr</td>\n",
       "      <td>3</td>\n",
       "      <td>70</td>\n",
       "      <td>24</td>\n",
       "      <td>1</td>\n",
       "      <td>0</td>\n",
       "    </tr>\n",
       "    <tr>\n",
       "      <th>3</th>\n",
       "      <td>0 files changed</td>\n",
       "      <td>NaN</td>\n",
       "      <td>NaN</td>\n",
       "      <td>AFelipeGA</td>\n",
       "      <td>0</td>\n",
       "      <td>0</td>\n",
       "      <td>0</td>\n",
       "      <td>1</td>\n",
       "      <td>0</td>\n",
       "    </tr>\n",
       "    <tr>\n",
       "      <th>4</th>\n",
       "      <td>0 files changed</td>\n",
       "      <td>NaN</td>\n",
       "      <td>NaN</td>\n",
       "      <td>afforeroc</td>\n",
       "      <td>0</td>\n",
       "      <td>0</td>\n",
       "      <td>0</td>\n",
       "      <td>1</td>\n",
       "      <td>0</td>\n",
       "    </tr>\n",
       "  </tbody>\n",
       "</table>\n",
       "</div>"
      ],
      "text/plain": [
       "             change            addition            delete      username  \\\n",
       "0   0 files changed                 NaN               NaN  adamantwharf   \n",
       "1   3 files changed   112 insertions(+)   75 deletions(-)      adriel62   \n",
       "2   3 files changed    70 insertions(+)   24 deletions(-)   afceballosr   \n",
       "3   0 files changed                 NaN               NaN     AFelipeGA   \n",
       "4   0 files changed                 NaN               NaN     afforeroc   \n",
       "\n",
       "  change-revised add-revised delete-revised  bogota-3  bogota-2  \n",
       "0              0           0              0         0         0  \n",
       "1              3         112             75         1         0  \n",
       "2              3          70             24         1         0  \n",
       "3              0           0              0         1         0  \n",
       "4              0           0              0         1         0  "
      ]
     },
     "execution_count": 30,
     "metadata": {},
     "output_type": "execute_result"
    }
   ],
   "source": [
    "df_phase34[\"bogota-2\"] = df_phase34[\"bogota-2\"].astype(int)\n",
    "df_phase34.head(5)"
   ]
  },
  {
   "cell_type": "code",
   "execution_count": 31,
   "id": "99445dbe",
   "metadata": {},
   "outputs": [
    {
     "data": {
      "text/html": [
       "<div>\n",
       "<style scoped>\n",
       "    .dataframe tbody tr th:only-of-type {\n",
       "        vertical-align: middle;\n",
       "    }\n",
       "\n",
       "    .dataframe tbody tr th {\n",
       "        vertical-align: top;\n",
       "    }\n",
       "\n",
       "    .dataframe thead th {\n",
       "        text-align: right;\n",
       "    }\n",
       "</style>\n",
       "<table border=\"1\" class=\"dataframe\">\n",
       "  <thead>\n",
       "    <tr style=\"text-align: right;\">\n",
       "      <th></th>\n",
       "      <th>change</th>\n",
       "      <th>addition</th>\n",
       "      <th>delete</th>\n",
       "      <th>username</th>\n",
       "      <th>change-revised</th>\n",
       "      <th>add-revised</th>\n",
       "      <th>delete-revised</th>\n",
       "      <th>bogota-3</th>\n",
       "      <th>bogota-2</th>\n",
       "    </tr>\n",
       "  </thead>\n",
       "  <tbody>\n",
       "    <tr>\n",
       "      <th>11</th>\n",
       "      <td>0 files changed</td>\n",
       "      <td>NaN</td>\n",
       "      <td>NaN</td>\n",
       "      <td>bdvegat</td>\n",
       "      <td>0</td>\n",
       "      <td>0</td>\n",
       "      <td>0</td>\n",
       "      <td>0</td>\n",
       "      <td>1</td>\n",
       "    </tr>\n",
       "    <tr>\n",
       "      <th>12</th>\n",
       "      <td>0 files changed</td>\n",
       "      <td>NaN</td>\n",
       "      <td>NaN</td>\n",
       "      <td>begarzonf</td>\n",
       "      <td>0</td>\n",
       "      <td>0</td>\n",
       "      <td>0</td>\n",
       "      <td>0</td>\n",
       "      <td>1</td>\n",
       "    </tr>\n",
       "    <tr>\n",
       "      <th>21</th>\n",
       "      <td>5 files changed</td>\n",
       "      <td>2 insertions(+)</td>\n",
       "      <td>36 deletions(-)</td>\n",
       "      <td>ccvacad</td>\n",
       "      <td>5</td>\n",
       "      <td>2</td>\n",
       "      <td>36</td>\n",
       "      <td>0</td>\n",
       "      <td>1</td>\n",
       "    </tr>\n",
       "    <tr>\n",
       "      <th>23</th>\n",
       "      <td>2 files changed</td>\n",
       "      <td>20 insertions(+)</td>\n",
       "      <td>54 deletions(-)</td>\n",
       "      <td>cesarochoa2006</td>\n",
       "      <td>2</td>\n",
       "      <td>20</td>\n",
       "      <td>54</td>\n",
       "      <td>0</td>\n",
       "      <td>1</td>\n",
       "    </tr>\n",
       "    <tr>\n",
       "      <th>26</th>\n",
       "      <td>0 files changed</td>\n",
       "      <td>NaN</td>\n",
       "      <td>NaN</td>\n",
       "      <td>crarojasca</td>\n",
       "      <td>0</td>\n",
       "      <td>0</td>\n",
       "      <td>0</td>\n",
       "      <td>0</td>\n",
       "      <td>1</td>\n",
       "    </tr>\n",
       "  </tbody>\n",
       "</table>\n",
       "</div>"
      ],
      "text/plain": [
       "              change           addition            delete        username  \\\n",
       "11   0 files changed                NaN               NaN         bdvegat   \n",
       "12   0 files changed                NaN               NaN       begarzonf   \n",
       "21   5 files changed    2 insertions(+)   36 deletions(-)         ccvacad   \n",
       "23   2 files changed   20 insertions(+)   54 deletions(-)  cesarochoa2006   \n",
       "26   0 files changed                NaN               NaN      crarojasca   \n",
       "\n",
       "   change-revised add-revised delete-revised  bogota-3  bogota-2  \n",
       "11              0           0              0         0         1  \n",
       "12              0           0              0         0         1  \n",
       "21              5           2             36         0         1  \n",
       "23              2          20             54         0         1  \n",
       "26              0           0              0         0         1  "
      ]
     },
     "execution_count": 31,
     "metadata": {},
     "output_type": "execute_result"
    }
   ],
   "source": [
    "df2_phase34 = df_phase34.loc[df_phase34['bogota-2'] == 1]\n",
    "df2_phase34.head(5)"
   ]
  },
  {
   "cell_type": "code",
   "execution_count": 32,
   "id": "55981879",
   "metadata": {},
   "outputs": [],
   "source": [
    "df2_phase34.to_csv('df2_phase34_loc.csv')"
   ]
  },
  {
   "cell_type": "code",
   "execution_count": 33,
   "id": "abf4a4ba",
   "metadata": {},
   "outputs": [
    {
     "name": "stdout",
     "output_type": "stream",
     "text": [
      "41\n"
     ]
    }
   ],
   "source": [
    "print(len(df2_phase34.index))"
   ]
  },
  {
   "cell_type": "code",
   "execution_count": 34,
   "id": "f9bb7abb",
   "metadata": {},
   "outputs": [
    {
     "name": "stdout",
     "output_type": "stream",
     "text": [
      "1.5853658536585367\n",
      "1.0\n",
      "1.8705027366472573\n",
      "8\n",
      "0\n"
     ]
    },
    {
     "name": "stderr",
     "output_type": "stream",
     "text": [
      "<ipython-input-34-044a12838ef7>:1: SettingWithCopyWarning: \n",
      "A value is trying to be set on a copy of a slice from a DataFrame.\n",
      "Try using .loc[row_indexer,col_indexer] = value instead\n",
      "\n",
      "See the caveats in the documentation: https://pandas.pydata.org/pandas-docs/stable/user_guide/indexing.html#returning-a-view-versus-a-copy\n",
      "  df2_phase34['change-revised'] = pd.to_numeric(df2_phase34['change-revised'])\n"
     ]
    }
   ],
   "source": [
    "df2_phase34['change-revised'] = pd.to_numeric(df2_phase34['change-revised'])\n",
    "print(df2_phase34['change-revised'].mean())\n",
    "print(df2_phase34['change-revised'].median())\n",
    "print(df2_phase34['change-revised'].std())\n",
    "print(df2_phase34['change-revised'].max())\n",
    "print(df2_phase34['change-revised'].min())"
   ]
  },
  {
   "cell_type": "code",
   "execution_count": 35,
   "id": "3a1575bd",
   "metadata": {},
   "outputs": [
    {
     "name": "stdout",
     "output_type": "stream",
     "text": [
      "29.634146341463413\n",
      "6.0\n",
      "54.24931156132812\n",
      "274\n",
      "0\n"
     ]
    },
    {
     "name": "stderr",
     "output_type": "stream",
     "text": [
      "<ipython-input-35-0c404c372337>:1: SettingWithCopyWarning: \n",
      "A value is trying to be set on a copy of a slice from a DataFrame.\n",
      "Try using .loc[row_indexer,col_indexer] = value instead\n",
      "\n",
      "See the caveats in the documentation: https://pandas.pydata.org/pandas-docs/stable/user_guide/indexing.html#returning-a-view-versus-a-copy\n",
      "  df2_phase34['delete-revised'] = pd.to_numeric(df2_phase34['delete-revised'])\n"
     ]
    },
    {
     "data": {
      "text/plain": [
       "array([  0,   0,  36,  54,   0,   0,  16,  44,  11,   0,   0, 110,  86,\n",
       "        23,   9,   0,   0,   0,   0,   1,  98,   0,   0,  86,   0,   0,\n",
       "        51, 274,  14,   6,  12,   0,   0,   0,   0,  18,  13,   0, 165,\n",
       "        59,  29])"
      ]
     },
     "execution_count": 35,
     "metadata": {},
     "output_type": "execute_result"
    }
   ],
   "source": [
    "df2_phase34['delete-revised'] = pd.to_numeric(df2_phase34['delete-revised'])\n",
    "df2_phase34['delete-revised'].mean()\n",
    "print(df2_phase34['delete-revised'].mean())\n",
    "print(df2_phase34['delete-revised'].median())\n",
    "print(df2_phase34['delete-revised'].std())\n",
    "print(df2_phase34['delete-revised'].max())\n",
    "print(df2_phase34['delete-revised'].min())\n",
    "\n",
    "df2_delete = df2_phase34['delete-revised']\n",
    "df2_delete.values"
   ]
  },
  {
   "cell_type": "code",
   "execution_count": 36,
   "id": "5d608c22",
   "metadata": {},
   "outputs": [
    {
     "name": "stdout",
     "output_type": "stream",
     "text": [
      "20.463414634146343\n",
      "1.0\n",
      "49.507119468302534\n",
      "270\n",
      "0\n"
     ]
    },
    {
     "name": "stderr",
     "output_type": "stream",
     "text": [
      "<ipython-input-36-4bce0b82b9f4>:1: SettingWithCopyWarning: \n",
      "A value is trying to be set on a copy of a slice from a DataFrame.\n",
      "Try using .loc[row_indexer,col_indexer] = value instead\n",
      "\n",
      "See the caveats in the documentation: https://pandas.pydata.org/pandas-docs/stable/user_guide/indexing.html#returning-a-view-versus-a-copy\n",
      "  df2_phase34['add-revised'] = pd.to_numeric(df2_phase34['add-revised'])\n"
     ]
    },
    {
     "ename": "NameError",
     "evalue": "name 'df2_phase45' is not defined",
     "output_type": "error",
     "traceback": [
      "\u001b[0;31m---------------------------------------------------------------------------\u001b[0m",
      "\u001b[0;31mNameError\u001b[0m                                 Traceback (most recent call last)",
      "\u001b[0;32m<ipython-input-36-4bce0b82b9f4>\u001b[0m in \u001b[0;36m<module>\u001b[0;34m\u001b[0m\n\u001b[1;32m      7\u001b[0m \u001b[0mprint\u001b[0m\u001b[0;34m(\u001b[0m\u001b[0mdf2_phase34\u001b[0m\u001b[0;34m[\u001b[0m\u001b[0;34m'add-revised'\u001b[0m\u001b[0;34m]\u001b[0m\u001b[0;34m.\u001b[0m\u001b[0mmax\u001b[0m\u001b[0;34m(\u001b[0m\u001b[0;34m)\u001b[0m\u001b[0;34m)\u001b[0m\u001b[0;34m\u001b[0m\u001b[0;34m\u001b[0m\u001b[0m\n\u001b[1;32m      8\u001b[0m \u001b[0mprint\u001b[0m\u001b[0;34m(\u001b[0m\u001b[0mdf2_phase34\u001b[0m\u001b[0;34m[\u001b[0m\u001b[0;34m'add-revised'\u001b[0m\u001b[0;34m]\u001b[0m\u001b[0;34m.\u001b[0m\u001b[0mmin\u001b[0m\u001b[0;34m(\u001b[0m\u001b[0;34m)\u001b[0m\u001b[0;34m)\u001b[0m\u001b[0;34m\u001b[0m\u001b[0;34m\u001b[0m\u001b[0m\n\u001b[0;32m----> 9\u001b[0;31m \u001b[0mdf2_add\u001b[0m \u001b[0;34m=\u001b[0m \u001b[0mdf2_phase45\u001b[0m\u001b[0;34m[\u001b[0m\u001b[0;34m'add-revised'\u001b[0m\u001b[0;34m]\u001b[0m\u001b[0;34m\u001b[0m\u001b[0;34m\u001b[0m\u001b[0m\n\u001b[0m\u001b[1;32m     10\u001b[0m \u001b[0mdf2_add\u001b[0m\u001b[0;34m.\u001b[0m\u001b[0mvalues\u001b[0m\u001b[0;34m\u001b[0m\u001b[0;34m\u001b[0m\u001b[0m\n",
      "\u001b[0;31mNameError\u001b[0m: name 'df2_phase45' is not defined"
     ]
    }
   ],
   "source": [
    "df2_phase34['add-revised'] = pd.to_numeric(df2_phase34['add-revised'])\n",
    "df2_phase34['add-revised'].mean()\n",
    "\n",
    "print(df2_phase34['add-revised'].mean())\n",
    "print(df2_phase34['add-revised'].median())\n",
    "print(df2_phase34['add-revised'].std())\n",
    "print(df2_phase34['add-revised'].max())\n",
    "print(df2_phase34['add-revised'].min())\n",
    "df2_add = df2_phase45['add-revised']\n",
    "df2_add.values"
   ]
  },
  {
   "cell_type": "code",
   "execution_count": null,
   "id": "4817ffad",
   "metadata": {},
   "outputs": [],
   "source": [
    "df2_phase34['add-revised'] = df2_phase34['add-revised'].astype(float)\n",
    "df2_phase34['delete-revised'] = df2_phase34['delete-revised'].astype(float)\n",
    "df2_phase34['effort'] = df2_phase34['add-revised'] - 0.5 * df2_phase34['delete-revised']\n",
    "print(df2_phase34['effort'].mean())\n",
    "print(df2_phase34['effort'].median())\n",
    "print(df2_phase34['effort'].std())\n",
    "print(df2_phase34['effort'].max())\n",
    "print(df2_phase34['effort'].min())"
   ]
  },
  {
   "cell_type": "code",
   "execution_count": null,
   "id": "e8eb3d81",
   "metadata": {},
   "outputs": [],
   "source": [
    "import numpy as np\n",
    "np.set_printoptions(suppress=True)\n",
    "diff2 = df2_phase34['add-revised'] - 0.5 * df2_phase34['delete-revised']\n",
    "diff2.values"
   ]
  },
  {
   "cell_type": "markdown",
   "id": "26222efa",
   "metadata": {},
   "source": [
    "# Phase 3 - 4 Bogota 1 ( Performance Transparency )"
   ]
  },
  {
   "cell_type": "code",
   "execution_count": null,
   "id": "01376b93",
   "metadata": {},
   "outputs": [],
   "source": [
    "df1 = pd.read_csv('./data/bogota-1.csv')\n",
    "df1.head(5)\n",
    "print(len(df1.index))"
   ]
  },
  {
   "cell_type": "code",
   "execution_count": null,
   "id": "e901b1ca",
   "metadata": {},
   "outputs": [],
   "source": [
    "df_phase34['bogota-1'] = df_phase34['username'].isin(df1['Project'])\n",
    "df_phase45.head(5)"
   ]
  },
  {
   "cell_type": "code",
   "execution_count": null,
   "id": "f30cbe3a",
   "metadata": {},
   "outputs": [],
   "source": [
    "df_phase34[\"bogota-1\"] = df_phase34[\"bogota-1\"].astype(int)\n",
    "df_phase34.head(5)"
   ]
  },
  {
   "cell_type": "code",
   "execution_count": null,
   "id": "fa9a7e2a",
   "metadata": {},
   "outputs": [],
   "source": [
    "df1_phase34 = df_phase34.loc[df_phase34['bogota-1'] == 1]\n",
    "df1_phase34.head(5)"
   ]
  },
  {
   "cell_type": "code",
   "execution_count": null,
   "id": "45549d17",
   "metadata": {},
   "outputs": [],
   "source": [
    "df1_phase34.to_csv('df1_phase34_loc.csv')"
   ]
  },
  {
   "cell_type": "code",
   "execution_count": null,
   "id": "cd8fb298",
   "metadata": {},
   "outputs": [],
   "source": [
    "print(len(df1_phase34.index))"
   ]
  },
  {
   "cell_type": "code",
   "execution_count": null,
   "id": "4f6f9097",
   "metadata": {},
   "outputs": [],
   "source": [
    "df1_phase34['change-revised'] = pd.to_numeric(df1_phase34['change-revised'])\n",
    "print(df1_phase34['change-revised'].mean())\n",
    "print(df1_phase34['change-revised'].median())\n",
    "print(df1_phase34['change-revised'].std())\n",
    "print(df1_phase34['change-revised'].max())\n",
    "print(df1_phase34['change-revised'].min())"
   ]
  },
  {
   "cell_type": "code",
   "execution_count": null,
   "id": "1ce375c1",
   "metadata": {},
   "outputs": [],
   "source": [
    "df1_phase34['delete-revised'] = pd.to_numeric(df1_phase34['delete-revised'])\n",
    "df1_phase34['delete-revised'].mean()\n",
    "print(df1_phase34['delete-revised'].mean())\n",
    "print(df1_phase34['delete-revised'].median())\n",
    "print(df1_phase34['delete-revised'].std())\n",
    "print(df1_phase34['delete-revised'].max())\n",
    "print(df1_phase34['delete-revised'].min())\n",
    "\n",
    "df1_delete = df1_phase45['delete-revised']\n",
    "df1_delete.values"
   ]
  },
  {
   "cell_type": "code",
   "execution_count": null,
   "id": "2fc4c6b7",
   "metadata": {},
   "outputs": [],
   "source": [
    "df1_phase34['add-revised'] = pd.to_numeric(df1_phase34['add-revised'])\n",
    "df1_phase34['add-revised'].mean()\n",
    "\n",
    "print(df1_phase34['add-revised'].mean())\n",
    "print(df1_phase34['add-revised'].median())\n",
    "print(df1_phase34['add-revised'].std())\n",
    "print(df1_phase34['add-revised'].max())\n",
    "print(df1_phase34['add-revised'].min())\n",
    "\n",
    "df1_add = df1_phase34['add-revised']\n",
    "df1_add.values"
   ]
  },
  {
   "cell_type": "code",
   "execution_count": null,
   "id": "278c542c",
   "metadata": {},
   "outputs": [],
   "source": [
    "df1_phase34['add-revised'] = df1_phase34['add-revised'].astype(float)\n",
    "df1_phase34['delete-revised'] = df1_phase34['delete-revised'].astype(float)\n",
    "df1_phase34['effort'] = df1_phase34['add-revised'] - 0.5 * df1_phase34['delete-revised']\n",
    "print(df1_phase34['effort'].mean())\n",
    "print(df1_phase34['effort'].median())\n",
    "print(df1_phase34['effort'].std())\n",
    "print(df1_phase34['effort'].max())\n",
    "print(df1_phase34['effort'].min())"
   ]
  },
  {
   "cell_type": "code",
   "execution_count": null,
   "id": "8e278cae",
   "metadata": {},
   "outputs": [],
   "source": [
    "import numpy as np\n",
    "np.set_printoptions(suppress=True)\n",
    "diff1 = df1_phase34['add-revised'] - 0.5 * df1_phase34['delete-revised']\n",
    "diff1.values"
   ]
  },
  {
   "cell_type": "markdown",
   "id": "01805a8a",
   "metadata": {},
   "source": [
    "# Phase 3 - 4 Bogota 0 ( No Transparency )"
   ]
  },
  {
   "cell_type": "code",
   "execution_count": null,
   "id": "82acbb0f",
   "metadata": {},
   "outputs": [],
   "source": [
    "df0 = pd.read_csv('./data/bogota-0.csv')\n",
    "df0.head(5)\n"
   ]
  },
  {
   "cell_type": "code",
   "execution_count": null,
   "id": "6d33a1ae",
   "metadata": {},
   "outputs": [],
   "source": [
    "df_phase34['bogota-0'] = df_phase34['username'].isin(df0['Project'])\n",
    "df_phase34.head(5)"
   ]
  },
  {
   "cell_type": "code",
   "execution_count": null,
   "id": "8d45d942",
   "metadata": {},
   "outputs": [],
   "source": [
    "df_phase34[\"bogota-0\"] = df_phase34[\"bogota-0\"].astype(int)\n",
    "df_phase34.head(5)"
   ]
  },
  {
   "cell_type": "code",
   "execution_count": null,
   "id": "ae558f5c",
   "metadata": {},
   "outputs": [],
   "source": [
    "df0_phase34 = df_phase34.loc[df_phase34['bogota-0'] == 1]\n",
    "df0_phase34.head(5)"
   ]
  },
  {
   "cell_type": "code",
   "execution_count": null,
   "id": "8eeb7e58",
   "metadata": {},
   "outputs": [],
   "source": [
    "df0_phase34.to_csv('df0_phase34_loc.csv')"
   ]
  },
  {
   "cell_type": "code",
   "execution_count": null,
   "id": "651fadfd",
   "metadata": {},
   "outputs": [],
   "source": [
    "print(len(df0_phase34.index))"
   ]
  },
  {
   "cell_type": "code",
   "execution_count": null,
   "id": "03369cf6",
   "metadata": {},
   "outputs": [],
   "source": [
    "df0_phase34['change-revised'] = pd.to_numeric(df0_phase34['change-revised'])\n",
    "print(df0_phase34['change-revised'].mean())\n",
    "print(df0_phase34['change-revised'].median())\n",
    "print(df0_phase34['change-revised'].std())\n",
    "print(df0_phase34['change-revised'].max())\n",
    "print(df0_phase34['change-revised'].min())"
   ]
  },
  {
   "cell_type": "code",
   "execution_count": null,
   "id": "d7f891c7",
   "metadata": {},
   "outputs": [],
   "source": [
    "df0_phase34['delete-revised'] = pd.to_numeric(df0_phase34['delete-revised'])\n",
    "df0_phase34['delete-revised'].mean()\n",
    "print(df0_phase34['delete-revised'].mean())\n",
    "print(df0_phase34['delete-revised'].median())\n",
    "print(df0_phase34['delete-revised'].std())\n",
    "print(df0_phase34['delete-revised'].max())\n",
    "print(df0_phase34['delete-revised'].min())\n",
    "\n",
    "df0_delete = df0_phase34['delete-revised']\n",
    "df0_delete.values"
   ]
  },
  {
   "cell_type": "code",
   "execution_count": null,
   "id": "b27de28a",
   "metadata": {},
   "outputs": [],
   "source": [
    "df0_phase34['add-revised'] = pd.to_numeric(df0_phase34['add-revised'])\n",
    "df0_phase34['add-revised'].mean()\n",
    "\n",
    "print(df0_phase34['add-revised'].mean())\n",
    "print(df0_phase34['add-revised'].median())\n",
    "print(df0_phase34['add-revised'].std())\n",
    "print(df0_phase34['add-revised'].max())\n",
    "print(df0_phase34['add-revised'].min())\n",
    "\n",
    "df0_add = df0_phase34['add-revised']\n",
    "df0_add.values"
   ]
  },
  {
   "cell_type": "markdown",
   "id": "f034387e",
   "metadata": {},
   "source": [
    "df0_phase34['add-revised'] = df0_phase34['add-revised'].astype(float)\n",
    "df0_phase34['delete-revised'] = df0_phase34['delete-revised'].astype(float)\n",
    "df0_phase34['effort'] = df0_phase34['add-revised'] - 0.5 * df0_phase34['delete-revised']\n",
    "print(df0_phase34['effort'].mean())\n",
    "print(df0_phase34['effort'].median())\n",
    "print(df0_phase34['effort'].std())\n",
    "print(df0_phase34['effort'].max())\n",
    "print(df0_phase34['effort'].min())"
   ]
  },
  {
   "cell_type": "code",
   "execution_count": null,
   "id": "1e63b042",
   "metadata": {},
   "outputs": [],
   "source": [
    "import numpy as np\n",
    "np.set_printoptions(suppress=True)\n",
    "diff0 = df0_phase34['add-revised'] - 0.5 * df0_phase34['delete-revised']\n",
    "diff0.values"
   ]
  },
  {
   "cell_type": "code",
   "execution_count": null,
   "id": "82696687",
   "metadata": {},
   "outputs": [],
   "source": [
    "import matplotlib.pyplot as plt\n",
    "import numpy as np\n",
    "\n",
    "\n",
    "city=['Bogota 0 (No Transparency)','Bogota 1 (Performance Transparency)',' Bogota 2 (Solution Transparency)','Bogota 3 (Full Transparency)']\n",
    "pos = np.arange(len(city))\n",
    "Effort =[-9.18, -4.3375, 5.65, -11.11]\n",
    "\n",
    "\n",
    "plt.barh(pos,Effort,color=['g' if e > 0 else 'r' for e in Effort],edgecolor='black')\n",
    "plt.yticks(pos, city)\n",
    "plt.xlabel('Effort', fontsize=16)\n",
    "plt.ylabel('Groups', fontsize=16)\n",
    "plt.title('Phase 3 - 4 -> Mean of Effort',fontsize=20)\n",
    "plt.show()"
   ]
  },
  {
   "cell_type": "code",
   "execution_count": null,
   "id": "d1636f62",
   "metadata": {},
   "outputs": [],
   "source": [
    "import matplotlib.pyplot as plt\n",
    "import numpy as np\n",
    "\n",
    "\n",
    "city=['Bogota 0 (No Transparency)','Bogota 1 (Performance Transparency)',' Bogota 2 (Solution Transparency)','Bogota 3 (Full Transparency)']\n",
    "pos = np.arange(len(city))\n",
    "Effort =[0, 0, 0, 0]\n",
    "\n",
    "\n",
    "plt.barh(pos,Effort,color=['g' if e > 0 else 'r' for e in Effort],edgecolor='black')\n",
    "plt.yticks(pos, city)\n",
    "plt.xlabel('Effort', fontsize=16)\n",
    "plt.ylabel('Groups', fontsize=16)\n",
    "plt.title('Phase 3 - 4 -> Median of Effort',fontsize=20)\n",
    "plt.show()"
   ]
  },
  {
   "cell_type": "code",
   "execution_count": null,
   "id": "bb5f4bc0",
   "metadata": {},
   "outputs": [],
   "source": [
    "import matplotlib.pyplot as plt\n",
    "import numpy as np\n",
    "\n",
    "\n",
    "city=['Bogota 0 (No Transparency)','Bogota 1 (Performance Transparency)',' Bogota 2 (Solution Transparency)','Bogota 3 (Full Transparency)']\n",
    "pos = np.arange(len(city))\n",
    "Effort =[60.5, 207.5, 221, 127]\n",
    "\n",
    "\n",
    "plt.barh(pos,Effort,color=['g' if e > 0 else 'r' for e in Effort],edgecolor='black')\n",
    "plt.yticks(pos, city)\n",
    "plt.xlabel('Effort', fontsize=16)\n",
    "plt.ylabel('Groups', fontsize=16)\n",
    "plt.title('Phase 3 - 4 -> Max of Effort',fontsize=20)\n",
    "plt.show()"
   ]
  },
  {
   "cell_type": "code",
   "execution_count": null,
   "id": "be488aa5",
   "metadata": {},
   "outputs": [],
   "source": [
    "import matplotlib.pyplot as plt\n",
    "import numpy as np\n",
    "\n",
    "\n",
    "city=['Bogota 0 (No Transparency)','Bogota 1 (Performance Transparency)',' Bogota 2 (Solution Transparency)','Bogota 3 (Full Transparency)']\n",
    "pos = np.arange(len(city))\n",
    "Effort =[-518.5, -275, -72.5, -423]\n",
    "\n",
    "\n",
    "plt.barh(pos,Effort,color=['g' if e > 0 else 'r' for e in Effort],edgecolor='black')\n",
    "plt.yticks(pos, city)\n",
    "plt.xlabel('Effort', fontsize=16)\n",
    "plt.ylabel('Groups', fontsize=16)\n",
    "plt.title('Phase 3 - 4 -> Min of Effort',fontsize=20)\n",
    "plt.show()"
   ]
  },
  {
   "cell_type": "code",
   "execution_count": null,
   "id": "e911baae",
   "metadata": {},
   "outputs": [],
   "source": [
    "import matplotlib.pyplot as plt\n",
    "import numpy as np\n",
    "\n",
    "\n",
    "city=['Bogota 0 (No Transparency)','Bogota 1 (Performance Transparency)',' Bogota 2 (Solution Transparency)','Bogota 3 (Full Transparency)']\n",
    "pos = np.arange(len(city))\n",
    "Effort =[86.08, 61.10, 37.78, 75.31]\n",
    "\n",
    "\n",
    "plt.barh(pos,Effort,color=['g' if e > 0 else 'r' for e in Effort],edgecolor='black')\n",
    "plt.yticks(pos, city)\n",
    "plt.xlabel('Effort', fontsize=16)\n",
    "plt.ylabel('Groups', fontsize=16)\n",
    "plt.title('Phase 3 - 4 -> Standard Deviation of Effort',fontsize=20)\n",
    "plt.show()"
   ]
  },
  {
   "cell_type": "code",
   "execution_count": null,
   "id": "b320e17b",
   "metadata": {},
   "outputs": [],
   "source": [
    "import matplotlib.pyplot as plt\n",
    "import numpy as np\n",
    "\n",
    "\n",
    "city=['Bogota 0 (No Transparency)','Bogota 1 (Performance Transparency)',' Bogota 2 (Solution Transparency)','Bogota 3 (Full Transparency)']\n",
    "pos = np.arange(len(city))\n",
    "Lines_of_Code_Added =[19.61, 24.83, 20.46, 29.73]\n",
    "\n",
    "\n",
    "plt.barh(pos,Lines_of_Code_Added,color=['g' if e > 0 else 'r' for e in Lines_of_Code_Added],edgecolor='black')\n",
    "plt.yticks(pos, city)\n",
    "plt.xlabel('Lines_of_Code_Added', fontsize=16)\n",
    "plt.ylabel('Groups', fontsize=16)\n",
    "plt.title('Phase 3 - 4 -> Mean of Lines of Code Added',fontsize=20)\n",
    "plt.show()"
   ]
  },
  {
   "cell_type": "code",
   "execution_count": null,
   "id": "2a85cfe3",
   "metadata": {},
   "outputs": [],
   "source": [
    "import matplotlib.pyplot as plt\n",
    "import numpy as np\n",
    "\n",
    "\n",
    "city=['Bogota 0 (No Transparency)','Bogota 1 (Performance Transparency)',' Bogota 2 (Solution Transparency)','Bogota 3 (Full Transparency)']\n",
    "pos = np.arange(len(city))\n",
    "Lines_of_Code_Added =[0, 3.5, 1, 1]\n",
    "\n",
    "\n",
    "plt.barh(pos,Lines_of_Code_Added,color=['g' if e > 0 else 'r' for e in Lines_of_Code_Added],edgecolor='black')\n",
    "plt.yticks(pos, city)\n",
    "plt.xlabel('Lines_of_Code_Added', fontsize=16)\n",
    "plt.ylabel('Groups', fontsize=16)\n",
    "plt.title('Phase 3 - 4 -> Median of Lines of Code Added',fontsize=20)\n",
    "plt.show()"
   ]
  },
  {
   "cell_type": "code",
   "execution_count": null,
   "id": "2bdfa66c",
   "metadata": {},
   "outputs": [],
   "source": [
    "import matplotlib.pyplot as plt\n",
    "import numpy as np\n",
    "\n",
    "\n",
    "city=['Bogota 0 (No Transparency)','Bogota 1 (Performance Transparency)',' Bogota 2 (Solution Transparency)','Bogota 3 (Full Transparency)']\n",
    "pos = np.arange(len(city))\n",
    "Lines_of_Code_Added =[130, 437, 270, 448]\n",
    "\n",
    "\n",
    "plt.barh(pos,Lines_of_Code_Added,color=['g' if e > 0 else 'r' for e in Lines_of_Code_Added],edgecolor='black')\n",
    "plt.yticks(pos, city)\n",
    "plt.xlabel('Lines_of_Code_Added', fontsize=16)\n",
    "plt.ylabel('Groups', fontsize=16)\n",
    "plt.title('Phase 3 - 4 -> Max of Lines of Code Added',fontsize=20)\n",
    "plt.show()"
   ]
  },
  {
   "cell_type": "code",
   "execution_count": null,
   "id": "169bece7",
   "metadata": {},
   "outputs": [],
   "source": [
    "import matplotlib.pyplot as plt\n",
    "import numpy as np\n",
    "\n",
    "\n",
    "city=['Bogota 0 (No Transparency)','Bogota 1 (Performance Transparency)',' Bogota 2 (Solution Transparency)','Bogota 3 (Full Transparency)']\n",
    "pos = np.arange(len(city))\n",
    "Lines_of_Code_Added =[0, 0, 0, 0]\n",
    "\n",
    "\n",
    "plt.barh(pos,Lines_of_Code_Added,color=['g' if e > 0 else 'r' for e in Lines_of_Code_Added],edgecolor='black')\n",
    "plt.yticks(pos, city)\n",
    "plt.xlabel('Lines_of_Code_Added', fontsize=16)\n",
    "plt.ylabel('Groups', fontsize=16)\n",
    "plt.title('Phase 3 - 4 -> Min of Lines of Code Added',fontsize=20)\n",
    "plt.show()"
   ]
  },
  {
   "cell_type": "code",
   "execution_count": null,
   "id": "48dda2b2",
   "metadata": {},
   "outputs": [],
   "source": [
    "import matplotlib.pyplot as plt\n",
    "import numpy as np\n",
    "\n",
    "\n",
    "city=['Bogota 0 (No Transparency)','Bogota 1 (Performance Transparency)',' Bogota 2 (Solution Transparency)','Bogota 3 (Full Transparency)']\n",
    "pos = np.arange(len(city))\n",
    "Lines_of_Code_Added =[34.44, 72.05, 49.51, 74.2]\n",
    "\n",
    "\n",
    "plt.barh(pos,Lines_of_Code_Added,color=['g' if e > 0 else 'r' for e in Lines_of_Code_Added],edgecolor='black')\n",
    "plt.yticks(pos, city)\n",
    "plt.xlabel('Lines_of_Code_Added', fontsize=16)\n",
    "plt.ylabel('Groups', fontsize=16)\n",
    "plt.title('Phase 3 - 4 -> Standard Deviation of Lines of Code Added',fontsize=20)\n",
    "plt.show()"
   ]
  },
  {
   "cell_type": "code",
   "execution_count": null,
   "id": "1d286555",
   "metadata": {},
   "outputs": [],
   "source": [
    "import matplotlib.pyplot as plt\n",
    "import numpy as np\n",
    "\n",
    "\n",
    "city=['Bogota 0 (No Transparency)','Bogota 1 (Performance Transparency)',' Bogota 2 (Solution Transparency)','Bogota 3 (Full Transparency)']\n",
    "pos = np.arange(len(city))\n",
    "Lines_of_Code_Deleted =[57.58, 58.33, 29.63, 81.68]\n",
    "\n",
    "\n",
    "plt.barh(pos,Lines_of_Code_Deleted,color=['g' if e > 0 else 'r' for e in Lines_of_Code_Added],edgecolor='black')\n",
    "plt.yticks(pos, city)\n",
    "plt.xlabel('Lines_of_Code_Deleted', fontsize=16)\n",
    "plt.ylabel('Groups', fontsize=16)\n",
    "plt.title('Phase 3 - 4 -> Mean of Lines of Code Deleted',fontsize=20)\n",
    "plt.show()"
   ]
  },
  {
   "cell_type": "code",
   "execution_count": null,
   "id": "af8f1401",
   "metadata": {},
   "outputs": [],
   "source": [
    "import matplotlib.pyplot as plt\n",
    "import numpy as np\n",
    "\n",
    "\n",
    "city=['Bogota 0 (No Transparency)','Bogota 1 (Performance Transparency)',' Bogota 2 (Solution Transparency)','Bogota 3 (Full Transparency)']\n",
    "pos = np.arange(len(city))\n",
    "Lines_of_Code_Deleted =[0, 6, 6, 3]\n",
    "\n",
    "\n",
    "plt.barh(pos,Lines_of_Code_Deleted,color=['g' if e > 0 else 'r' for e in Lines_of_Code_Added],edgecolor='black')\n",
    "plt.yticks(pos, city)\n",
    "plt.xlabel('Lines_of_Code_Deleted', fontsize=16)\n",
    "plt.ylabel('Groups', fontsize=16)\n",
    "plt.title('Phase 3 - 4 -> Median of Lines of Code Deleted',fontsize=20)\n",
    "plt.show()"
   ]
  },
  {
   "cell_type": "code",
   "execution_count": null,
   "id": "2ade3db4",
   "metadata": {},
   "outputs": [],
   "source": [
    "import matplotlib.pyplot as plt\n",
    "import numpy as np\n",
    "\n",
    "\n",
    "city=['Bogota 0 (No Transparency)','Bogota 1 (Performance Transparency)',' Bogota 2 (Solution Transparency)','Bogota 3 (Full Transparency)']\n",
    "pos = np.arange(len(city))\n",
    "Lines_of_Code_Deleted = [1279, 674, 274, 870]\n",
    "\n",
    "\n",
    "plt.barh(pos,Lines_of_Code_Deleted,color=['g' if e > 0 else 'r' for e in Lines_of_Code_Added],edgecolor='black')\n",
    "plt.yticks(pos, city)\n",
    "plt.xlabel('Lines_of_Code_Deleted', fontsize=16)\n",
    "plt.ylabel('Groups', fontsize=16)\n",
    "plt.title('Phase 3 - 4 -> Max of Lines of Code Deleted',fontsize=20)\n",
    "plt.show()"
   ]
  },
  {
   "cell_type": "code",
   "execution_count": null,
   "id": "462eb6a9",
   "metadata": {},
   "outputs": [],
   "source": [
    "import matplotlib.pyplot as plt\n",
    "import numpy as np\n",
    "\n",
    "\n",
    "city=['Bogota 0 (No Transparency)','Bogota 1 (Performance Transparency)',' Bogota 2 (Solution Transparency)','Bogota 3 (Full Transparency)']\n",
    "pos = np.arange(len(city))\n",
    "Lines_of_Code_Deleted = [0, 0, 0, 0]\n",
    "\n",
    "\n",
    "plt.barh(pos,Lines_of_Code_Deleted,color=['g' if e > 0 else 'r' for e in Lines_of_Code_Added],edgecolor='black')\n",
    "plt.yticks(pos, city)\n",
    "plt.xlabel('Lines_of_Code_Deleted', fontsize=16)\n",
    "plt.ylabel('Groups', fontsize=16)\n",
    "plt.title('Phase 3 - 4 -> Min of Lines of Code Deleted',fontsize=20)\n",
    "plt.show()"
   ]
  },
  {
   "cell_type": "code",
   "execution_count": null,
   "id": "096bf71e",
   "metadata": {},
   "outputs": [],
   "source": [
    "import matplotlib.pyplot as plt\n",
    "import numpy as np\n",
    "\n",
    "\n",
    "city=['Bogota 0 (No Transparency)','Bogota 1 (Performance Transparency)',' Bogota 2 (Solution Transparency)','Bogota 3 (Full Transparency)']\n",
    "pos = np.arange(len(city))\n",
    "Lines_of_Code_Deleted = [209.20, 127.89, 54.25, 177.6]\n",
    "\n",
    "\n",
    "plt.barh(pos,Lines_of_Code_Deleted,color=['g' if e > 0 else 'r' for e in Lines_of_Code_Added],edgecolor='black')\n",
    "plt.yticks(pos, city)\n",
    "plt.xlabel('Lines_of_Code_Deleted', fontsize=16)\n",
    "plt.ylabel('Groups', fontsize=16)\n",
    "plt.title('Phase 3 - 4 -> Standard Deviation of Lines of Code Deleted',fontsize=20)\n",
    "plt.show()"
   ]
  },
  {
   "cell_type": "markdown",
   "id": "cfb3fcdb",
   "metadata": {},
   "source": [
    "# Phase 2 - 3 ( Code Added, Deleted, Number of Files Changed )"
   ]
  },
  {
   "cell_type": "code",
   "execution_count": null,
   "id": "d4129e34",
   "metadata": {},
   "outputs": [],
   "source": [
    "import pandas as pd\n",
    "\n",
    "df_phase23 = pd.read_csv('./data/phase-2-3-prelim.csv')\n",
    "df_phase23.head(5)"
   ]
  },
  {
   "cell_type": "code",
   "execution_count": null,
   "id": "b6586d69",
   "metadata": {},
   "outputs": [],
   "source": [
    "df_phase23['change-revised'] = df_phase23.change.str.extract('(\\d+)')\n",
    "df_phase23.head(5)"
   ]
  },
  {
   "cell_type": "code",
   "execution_count": null,
   "id": "e7d74944",
   "metadata": {},
   "outputs": [],
   "source": [
    "df_phase23['add-revised'] = df_phase23.addition.str.extract('(\\d+)')\n",
    "df_phase23['add-revised'] = df_phase23['add-revised'].fillna(0)\n",
    "df_phase23.head(5)"
   ]
  },
  {
   "cell_type": "code",
   "execution_count": null,
   "id": "0e26c63a",
   "metadata": {},
   "outputs": [],
   "source": [
    "df_phase23['delete-revised'] = df_phase23.delete.str.extract('(\\d+)')\n",
    "df_phase23['delete-revised'] = df_phase23['delete-revised'].fillna(0)\n",
    "df_phase23.head(5)"
   ]
  },
  {
   "cell_type": "markdown",
   "id": "4dbd5722",
   "metadata": {},
   "source": [
    "# Phase 2-3 - Filter Bogota 3 ( Full Transparency Group )"
   ]
  },
  {
   "cell_type": "code",
   "execution_count": null,
   "id": "165bf98d",
   "metadata": {},
   "outputs": [],
   "source": [
    "df3 = pd.read_csv('./data/bogota-3.csv')\n",
    "df3.head(5)"
   ]
  },
  {
   "cell_type": "code",
   "execution_count": null,
   "id": "9a9790da",
   "metadata": {},
   "outputs": [],
   "source": [
    "df_phase23['bogota-3'] = df_phase23['username'].isin(df3['Project'])\n",
    "df_phase23.head(5)"
   ]
  },
  {
   "cell_type": "code",
   "execution_count": null,
   "id": "e825e5c8",
   "metadata": {},
   "outputs": [],
   "source": [
    "df_phase23[\"bogota-3\"] = df_phase23[\"bogota-3\"].astype(int)\n",
    "df_phase23.head(5)"
   ]
  },
  {
   "cell_type": "code",
   "execution_count": null,
   "id": "a049c713",
   "metadata": {},
   "outputs": [],
   "source": [
    "df3_phase23 = df_phase23.loc[df_phase23['bogota-3'] == 1]\n",
    "df3_phase23.head(5)"
   ]
  },
  {
   "cell_type": "code",
   "execution_count": null,
   "id": "d9f5b390",
   "metadata": {},
   "outputs": [],
   "source": [
    "df3_phase23.to_csv('df3_phase23_loc.csv')"
   ]
  },
  {
   "cell_type": "code",
   "execution_count": null,
   "id": "701ad8ad",
   "metadata": {},
   "outputs": [],
   "source": [
    "print(len(df3_phase23.index))"
   ]
  },
  {
   "cell_type": "code",
   "execution_count": null,
   "id": "5e0b8315",
   "metadata": {},
   "outputs": [],
   "source": [
    "df3_phase23['change-revised'] = pd.to_numeric(df3_phase23['change-revised'])\n",
    "print(df3_phase23['change-revised'].mean())\n",
    "print(df3_phase23['change-revised'].median())\n",
    "print(df3_phase23['change-revised'].std())\n",
    "print(df3_phase23['change-revised'].max())\n",
    "print(df3_phase23['change-revised'].min())"
   ]
  },
  {
   "cell_type": "code",
   "execution_count": null,
   "id": "37daabaf",
   "metadata": {},
   "outputs": [],
   "source": [
    "df3_phase23['delete-revised'] = pd.to_numeric(df3_phase23['delete-revised'])\n",
    "df3_phase23['delete-revised'].mean()\n",
    "print(df3_phase23['delete-revised'].mean())\n",
    "print(df3_phase23['delete-revised'].median())\n",
    "print(df3_phase23['delete-revised'].std())\n",
    "print(df3_phase23['delete-revised'].max())\n",
    "print(df3_phase23['delete-revised'].min())\n",
    "\n",
    "df3_delete = df3_phase23['delete-revised']\n",
    "df3_delete.values"
   ]
  },
  {
   "cell_type": "code",
   "execution_count": null,
   "id": "2f56215d",
   "metadata": {},
   "outputs": [],
   "source": [
    "df3_phase23['add-revised'] = pd.to_numeric(df3_phase23['add-revised'])\n",
    "df3_phase23['add-revised'].mean()\n",
    "\n",
    "print(df3_phase23['add-revised'].mean())\n",
    "print(df3_phase23['add-revised'].median())\n",
    "print(df3_phase23['add-revised'].std())\n",
    "print(df3_phase23['add-revised'].max())\n",
    "print(df3_phase23['add-revised'].min())\n",
    "df3_add = df3_phase23['add-revised']\n",
    "df3_add.values"
   ]
  },
  {
   "cell_type": "code",
   "execution_count": null,
   "id": "806b105a",
   "metadata": {},
   "outputs": [],
   "source": [
    "df3_phase23['add-revised'] = df3_phase23['add-revised'].astype(float)\n",
    "df3_phase23['delete-revised'] = df3_phase23['delete-revised'].astype(float)\n",
    "df3_phase23['effort'] = df3_phase23['add-revised'] - 0.5 * df3_phase23['delete-revised']\n",
    "print(df3_phase23['effort'].mean())\n",
    "print(df3_phase23['effort'].median())\n",
    "print(df3_phase23['effort'].std())\n",
    "print(df3_phase23['effort'].max())\n",
    "print(df3_phase23['effort'].min())\n"
   ]
  },
  {
   "cell_type": "code",
   "execution_count": null,
   "id": "e2ebb8fb",
   "metadata": {},
   "outputs": [],
   "source": [
    "import numpy as np\n",
    "np.set_printoptions(suppress=True)\n",
    "diff3 = df3_phase23['add-revised'] - 0.5 * df3_phase23['delete-revised']\n",
    "diff3.values"
   ]
  },
  {
   "cell_type": "markdown",
   "id": "7649f2f1",
   "metadata": {},
   "source": [
    "# Phase 2-3 - Bogota 2 ( Solution Transparency )"
   ]
  },
  {
   "cell_type": "code",
   "execution_count": null,
   "id": "03fbae49",
   "metadata": {},
   "outputs": [],
   "source": [
    "df2 = pd.read_csv('./data/bogota-2.csv')\n",
    "df2.head(5)"
   ]
  },
  {
   "cell_type": "code",
   "execution_count": null,
   "id": "79de69c5",
   "metadata": {},
   "outputs": [],
   "source": [
    "df_phase23['bogota-2'] = df_phase23['username'].isin(df2['Project'])\n",
    "df_phase23.head(5)"
   ]
  },
  {
   "cell_type": "code",
   "execution_count": null,
   "id": "b05690a6",
   "metadata": {},
   "outputs": [],
   "source": [
    "df_phase23[\"bogota-2\"] = df_phase23[\"bogota-2\"].astype(int)\n",
    "df_phase23.head(5)"
   ]
  },
  {
   "cell_type": "code",
   "execution_count": null,
   "id": "db685f45",
   "metadata": {},
   "outputs": [],
   "source": [
    "df2_phase23 = df_phase23.loc[df_phase23['bogota-2'] == 1]\n",
    "df2_phase23.head(5)"
   ]
  },
  {
   "cell_type": "code",
   "execution_count": null,
   "id": "b929bf4b",
   "metadata": {},
   "outputs": [],
   "source": [
    "df2_phase23.to_csv('df2_phase23_loc.csv')"
   ]
  },
  {
   "cell_type": "code",
   "execution_count": null,
   "id": "d05d32cf",
   "metadata": {},
   "outputs": [],
   "source": [
    "print(len(df2_phase23.index))"
   ]
  },
  {
   "cell_type": "code",
   "execution_count": null,
   "id": "53ed5b64",
   "metadata": {},
   "outputs": [],
   "source": [
    "df2_phase23['change-revised'] = pd.to_numeric(df2_phase23['change-revised'])\n",
    "print(df2_phase23['change-revised'].mean())\n",
    "print(df2_phase23['change-revised'].median())\n",
    "print(df2_phase23['change-revised'].std())\n",
    "print(df2_phase23['change-revised'].max())\n",
    "print(df2_phase23['change-revised'].min())"
   ]
  },
  {
   "cell_type": "code",
   "execution_count": null,
   "id": "dd53a3e9",
   "metadata": {},
   "outputs": [],
   "source": [
    "df2_phase23['delete-revised'] = pd.to_numeric(df2_phase23['delete-revised'])\n",
    "df2_phase23['delete-revised'].mean()\n",
    "print(df2_phase23['delete-revised'].mean())\n",
    "print(df2_phase23['delete-revised'].median())\n",
    "print(df2_phase23['delete-revised'].std())\n",
    "print(df2_phase23['delete-revised'].max())\n",
    "print(df2_phase23['delete-revised'].min())\n",
    "\n",
    "df2_delete = df2_phase23['delete-revised']\n",
    "df2_delete.values"
   ]
  },
  {
   "cell_type": "code",
   "execution_count": null,
   "id": "7c882e3c",
   "metadata": {},
   "outputs": [],
   "source": [
    "df2_phase23['add-revised'] = pd.to_numeric(df2_phase23['add-revised'])\n",
    "df2_phase23['add-revised'].mean()\n",
    "\n",
    "print(df2_phase23['add-revised'].mean())\n",
    "print(df2_phase23['add-revised'].median())\n",
    "print(df2_phase23['add-revised'].std())\n",
    "print(df2_phase23['add-revised'].max())\n",
    "print(df2_phase23['add-revised'].min())\n",
    "df2_add = df2_phase23['add-revised']\n",
    "df2_add.values"
   ]
  },
  {
   "cell_type": "code",
   "execution_count": null,
   "id": "ef62acfd",
   "metadata": {},
   "outputs": [],
   "source": [
    "df2_phase23['add-revised'] = df2_phase23['add-revised'].astype(float)\n",
    "df2_phase23['delete-revised'] = df2_phase23['delete-revised'].astype(float)\n",
    "df2_phase23['effort'] = df2_phase23['add-revised'] - 0.5 * df2_phase23['delete-revised']\n",
    "print(df2_phase23['effort'].mean())\n",
    "print(df2_phase23['effort'].median())\n",
    "print(df2_phase23['effort'].std())\n",
    "print(df2_phase23['effort'].max())\n",
    "print(df2_phase23['effort'].min())"
   ]
  },
  {
   "cell_type": "code",
   "execution_count": null,
   "id": "93e8003b",
   "metadata": {},
   "outputs": [],
   "source": [
    "import numpy as np\n",
    "np.set_printoptions(suppress=True)\n",
    "diff2 = df2_phase23['add-revised'] - 0.5 * df2_phase23['delete-revised']\n",
    "diff2.values"
   ]
  },
  {
   "cell_type": "markdown",
   "id": "f751ab28",
   "metadata": {},
   "source": [
    "# Phase 2-3 - Bogota 1 ( Performance Transparency )"
   ]
  },
  {
   "cell_type": "code",
   "execution_count": null,
   "id": "e9fcd367",
   "metadata": {},
   "outputs": [],
   "source": [
    "df1 = pd.read_csv('./data/bogota-1.csv')\n",
    "df1.head(5)\n",
    "print(len(df1.index))"
   ]
  },
  {
   "cell_type": "code",
   "execution_count": null,
   "id": "58afe181",
   "metadata": {},
   "outputs": [],
   "source": [
    "df_phase23['bogota-1'] = df_phase23['username'].isin(df1['Project'])\n",
    "df_phase23.head(5)"
   ]
  },
  {
   "cell_type": "code",
   "execution_count": null,
   "id": "fe5b2ff3",
   "metadata": {},
   "outputs": [],
   "source": [
    "df_phase23[\"bogota-1\"] = df_phase23[\"bogota-1\"].astype(int)\n",
    "df_phase23.head(5)"
   ]
  },
  {
   "cell_type": "code",
   "execution_count": null,
   "id": "24cde9dc",
   "metadata": {},
   "outputs": [],
   "source": [
    "df1_phase23 = df_phase23.loc[df_phase23['bogota-1'] == 1]\n",
    "df1_phase23.head(5)"
   ]
  },
  {
   "cell_type": "code",
   "execution_count": null,
   "id": "7ff60b0b",
   "metadata": {},
   "outputs": [],
   "source": [
    "df1_phase23.to_csv('df1_phase23_loc.csv')"
   ]
  },
  {
   "cell_type": "code",
   "execution_count": null,
   "id": "9808f035",
   "metadata": {},
   "outputs": [],
   "source": [
    "print(len(df1_phase23.index))"
   ]
  },
  {
   "cell_type": "code",
   "execution_count": null,
   "id": "d723b9e1",
   "metadata": {},
   "outputs": [],
   "source": [
    "df1_phase23['change-revised'] = pd.to_numeric(df1_phase23['change-revised'])\n",
    "print(df1_phase23['change-revised'].mean())\n",
    "print(df1_phase23['change-revised'].median())\n",
    "print(df1_phase23['change-revised'].std())\n",
    "print(df1_phase23['change-revised'].max())\n",
    "print(df1_phase23['change-revised'].min())"
   ]
  },
  {
   "cell_type": "code",
   "execution_count": null,
   "id": "60f79d54",
   "metadata": {},
   "outputs": [],
   "source": [
    "df1_phase23['delete-revised'] = pd.to_numeric(df1_phase23['delete-revised'])\n",
    "df1_phase23['delete-revised'].mean()\n",
    "print(df1_phase23['delete-revised'].mean())\n",
    "print(df1_phase23['delete-revised'].median())\n",
    "print(df1_phase23['delete-revised'].std())\n",
    "print(df1_phase23['delete-revised'].max())\n",
    "print(df1_phase23['delete-revised'].min())\n",
    "\n",
    "df1_delete = df1_phase23['delete-revised']\n",
    "df1_delete.values"
   ]
  },
  {
   "cell_type": "code",
   "execution_count": null,
   "id": "8b192128",
   "metadata": {},
   "outputs": [],
   "source": [
    "df1_phase23['add-revised'] = pd.to_numeric(df1_phase23['add-revised'])\n",
    "df1_phase23['add-revised'].mean()\n",
    "\n",
    "print(df1_phase23['add-revised'].mean())\n",
    "print(df1_phase23['add-revised'].median())\n",
    "print(df1_phase23['add-revised'].std())\n",
    "print(df1_phase23['add-revised'].max())\n",
    "print(df1_phase23['add-revised'].min())\n",
    "\n",
    "df1_add = df1_phase23['add-revised']\n",
    "df1_add.values"
   ]
  },
  {
   "cell_type": "code",
   "execution_count": null,
   "id": "471e1939",
   "metadata": {},
   "outputs": [],
   "source": [
    "df1_phase23['add-revised'] = df1_phase23['add-revised'].astype(float)\n",
    "df1_phase23['delete-revised'] = df1_phase23['delete-revised'].astype(float)\n",
    "df1_phase23['effort'] = df1_phase23['add-revised'] - 0.5 * df1_phase23['delete-revised']\n",
    "print(df1_phase23['effort'].mean())\n",
    "print(df1_phase23['effort'].median())\n",
    "print(df1_phase23['effort'].std())\n",
    "print(df1_phase23['effort'].max())\n",
    "print(df1_phase23['effort'].min())"
   ]
  },
  {
   "cell_type": "code",
   "execution_count": null,
   "id": "5636446f",
   "metadata": {},
   "outputs": [],
   "source": [
    "import numpy as np\n",
    "np.set_printoptions(suppress=True)\n",
    "diff1 = df1_phase23['add-revised'] - 0.5 * df1_phase23['delete-revised']\n",
    "diff1.values"
   ]
  },
  {
   "cell_type": "markdown",
   "id": "5b9a12db",
   "metadata": {},
   "source": [
    "# Phase 2 - 3 - Bogota 0 ( No Transparency )"
   ]
  },
  {
   "cell_type": "code",
   "execution_count": null,
   "id": "2e1d544c",
   "metadata": {},
   "outputs": [],
   "source": [
    "df0 = pd.read_csv('./data/bogota-0.csv')\n",
    "df0.head(5)"
   ]
  },
  {
   "cell_type": "code",
   "execution_count": null,
   "id": "cefc3217",
   "metadata": {},
   "outputs": [],
   "source": [
    "df_phase23['bogota-0'] = df_phase23['username'].isin(df0['Project'])\n",
    "df_phase23.head(5)"
   ]
  },
  {
   "cell_type": "code",
   "execution_count": null,
   "id": "ede0b8c2",
   "metadata": {},
   "outputs": [],
   "source": [
    "df_phase23[\"bogota-0\"] = df_phase23[\"bogota-0\"].astype(int)\n",
    "df_phase23.head(5)"
   ]
  },
  {
   "cell_type": "code",
   "execution_count": null,
   "id": "d2ceaf3f",
   "metadata": {},
   "outputs": [],
   "source": [
    "df0_phase23 = df_phase23.loc[df_phase23['bogota-0'] == 1]\n",
    "df0_phase23.head(5)"
   ]
  },
  {
   "cell_type": "code",
   "execution_count": null,
   "id": "a09d4e22",
   "metadata": {},
   "outputs": [],
   "source": [
    "df0_phase23.to_csv('df0_phase23_loc.csv')"
   ]
  },
  {
   "cell_type": "code",
   "execution_count": null,
   "id": "d830d5fe",
   "metadata": {},
   "outputs": [],
   "source": [
    "print(len(df0_phase23.index))"
   ]
  },
  {
   "cell_type": "code",
   "execution_count": null,
   "id": "c338bd8f",
   "metadata": {},
   "outputs": [],
   "source": [
    "df0_phase23['change-revised'] = pd.to_numeric(df0_phase23['change-revised'])\n",
    "print(df0_phase23['change-revised'].mean())\n",
    "print(df0_phase23['change-revised'].median())\n",
    "print(df0_phase23['change-revised'].std())\n",
    "print(df0_phase23['change-revised'].max())\n",
    "print(df0_phase23['change-revised'].min())"
   ]
  },
  {
   "cell_type": "code",
   "execution_count": null,
   "id": "e2fd311e",
   "metadata": {},
   "outputs": [],
   "source": [
    "df0_phase23['delete-revised'] = pd.to_numeric(df0_phase23['delete-revised'])\n",
    "df0_phase23['delete-revised'].mean()\n",
    "print(df0_phase23['delete-revised'].mean())\n",
    "print(df0_phase23['delete-revised'].median())\n",
    "print(df0_phase23['delete-revised'].std())\n",
    "print(df0_phase23['delete-revised'].max())\n",
    "print(df0_phase23['delete-revised'].min())\n",
    "\n",
    "df0_delete = df0_phase23['delete-revised']\n",
    "df0_delete.values"
   ]
  },
  {
   "cell_type": "code",
   "execution_count": null,
   "id": "261a6576",
   "metadata": {},
   "outputs": [],
   "source": [
    "df0_phase23['add-revised'] = pd.to_numeric(df0_phase23['add-revised'])\n",
    "df0_phase23['add-revised'].mean()\n",
    "\n",
    "print(df0_phase23['add-revised'].mean())\n",
    "print(df0_phase23['add-revised'].median())\n",
    "print(df0_phase23['add-revised'].std())\n",
    "print(df0_phase23['add-revised'].max())\n",
    "print(df0_phase23['add-revised'].min())\n",
    "\n",
    "df0_add = df0_phase23['add-revised']\n",
    "df0_add.values"
   ]
  },
  {
   "cell_type": "code",
   "execution_count": null,
   "id": "4684d584",
   "metadata": {},
   "outputs": [],
   "source": [
    "df0_phase23['add-revised'] = df0_phase23['add-revised'].astype(float)\n",
    "df0_phase23['delete-revised'] = df0_phase23['delete-revised'].astype(float)\n",
    "df0_phase23['effort'] = df0_phase23['add-revised'] - 0.5 * df0_phase23['delete-revised']\n",
    "print(df0_phase23['effort'].mean())\n",
    "print(df0_phase23['effort'].median())\n",
    "print(df0_phase23['effort'].std())\n",
    "print(df0_phase23['effort'].max())\n",
    "print(df0_phase23['effort'].min())"
   ]
  },
  {
   "cell_type": "code",
   "execution_count": null,
   "id": "6634bec4",
   "metadata": {},
   "outputs": [],
   "source": [
    "import numpy as np\n",
    "np.set_printoptions(suppress=True)\n",
    "diff0 = df0_phase23['add-revised'] - 0.5 * df0_phase23['delete-revised']\n",
    "diff0.values"
   ]
  },
  {
   "cell_type": "markdown",
   "id": "9498309a",
   "metadata": {},
   "source": [
    "# ANOVA on effort"
   ]
  },
  {
   "cell_type": "code",
   "execution_count": null,
   "id": "b136445f",
   "metadata": {},
   "outputs": [],
   "source": [
    "import scipy.stats as stats\n",
    "# stats f_oneway functions takes the groups as input and returns ANOVA F and p value\n",
    "fvalue, pvalue = stats.f_oneway(diff0, diff1, diff2, diff3)\n",
    "print(fvalue, pvalue)"
   ]
  },
  {
   "cell_type": "code",
   "execution_count": null,
   "id": "5cf1bbcb",
   "metadata": {},
   "outputs": [],
   "source": [
    "import pandas as pd\n",
    "import numpy as np\n",
    "\n",
    "df = pd.DataFrame({'score': [ 0. ,   0. ,   0. ,   2. ,   0. ,   0. ,   0. ,   0. ,   0. ,\n",
    "         0. ,   0. ,   0. ,   0. ,  -1.5,   0. ,   0. ,   0. ,  16. ,\n",
    "         8. ,   1.5,   2. , 285.5,   0. ,   4. ,   0. ,  41.5, 121. ,\n",
    "         0. , -16.5,   0. ,  -6. ,   0. ,   0. ,   2. ,   0. ,   1. ,\n",
    "         0. ,   0.,  0. ,    0. ,    0. ,    0. ,   26. ,    0. ,    0. ,   -1.5,\n",
    "          0. ,    0. ,    0. ,  -67. ,   -4. ,    0. ,  -76.5,  -24.5,\n",
    "          0. ,   22. ,    0. ,    0. ,    0. ,    0. ,   -6. ,    0. ,\n",
    "        247.5,   -6.5,    0. ,    0. ,   20.5,   -1. ,  -14. ,    4. ,\n",
    "          0. ,   10. ,    0. ,   34.5,    0. ,    0. , -146.5,    0. , 0. ,    1. ,    0. ,    0. ,    0. ,    0. ,    0. ,    0. ,\n",
    "         -5.5,    8.5,   -1.5,    2.5,    0.5,    0. ,    0. ,    0. ,\n",
    "          0. ,   -0.5,    0. ,   -2.5,   20. ,   -3.5,    0. ,   -5.5,\n",
    "          0. ,    0. ,   -5. , -142. ,   16.5,   -8. ,    0.5,    0. ,\n",
    "          0. ,   -2. ,    0. ,    0. ,    3. ,    0. ,  -15.5,   -7.5,\n",
    "        -20., -23. ,  -3.5,   0. ,   0. ,  60.5,   0. ,   0. ,  -4. ,   0. ,\n",
    "       -17. ,  28.5,   3.5,   0. ,   0. ,   0. ,   0. ,   0. ,   2.5,\n",
    "       -13.5,   0. ,   6.5,  12. , -36. , -23.5,   0. ,   2. ,   0. ,\n",
    "         5. ,   0. , 177.5,   2.5,   0. ,  -5. ,  11. , -25.5,   0. ,\n",
    "         0. ,   0. ,   1. ,   4. ,   0. ],\n",
    "                   'group': np.repeat([0, 1, 2, 3], repeats=[38, 40, 41, 41])})"
   ]
  },
  {
   "cell_type": "code",
   "execution_count": null,
   "id": "fe2f76c8",
   "metadata": {},
   "outputs": [],
   "source": [
    "from statsmodels.stats.multicomp import pairwise_tukeyhsd\n",
    "\n",
    "\n",
    "# perform Tukey's test\n",
    "tukey = pairwise_tukeyhsd(endog=df['score'],\n",
    "                          groups=df['group'],\n",
    "                          alpha=0.05)\n",
    "\n",
    "#display results\n",
    "print(tukey)\n"
   ]
  },
  {
   "cell_type": "markdown",
   "id": "734d5eb2",
   "metadata": {},
   "source": [
    "# ANOVA on additions "
   ]
  },
  {
   "cell_type": "code",
   "execution_count": null,
   "id": "62c5b783",
   "metadata": {},
   "outputs": [],
   "source": [
    "import scipy.stats as stats\n",
    "# stats f_oneway functions takes the groups as input and returns ANOVA F and p value\n",
    "fvalue, pvalue = stats.f_oneway(df0_add, df1_add, df2_add, df3_add)\n",
    "print(fvalue, pvalue)"
   ]
  },
  {
   "cell_type": "code",
   "execution_count": null,
   "id": "46f581e0",
   "metadata": {},
   "outputs": [],
   "source": [
    "import pandas as pd\n",
    "import numpy as np\n",
    "\n",
    "df = pd.DataFrame({'score': [ 0,   0,   0,  21,   0,   0,   0,   0,   0,   0,   0,   0,   0,\n",
    "        30,   0,   0,   0,  74,  57,   6,   3, 318,   0,   4,   0,  52,\n",
    "       131,   0,  31,   0,  15,   0,   0,   2,   0,   1,   0,   0, 0,   0,   0,   0,  39,   0,   0,  61,   0,   0,   0,  86,   2,\n",
    "         0,   5,   2,   0,  40,   0,   0,   0,   0,  18,   0, 311,  24,\n",
    "         0,   0,  47,   3,  12,   4,   0,  18,   0,  81,   0,   0,  49,\n",
    "         0, 25,   3,   0,   1,   0,   0,   0,   0,   2,  17,  45,  20,   9,\n",
    "         0,   0,   0,   0,   1,   0,  19, 178,   1,   0,  12,   0,   0,\n",
    "         3,  62,  21,   8,   1,   0,   0,   1,   0,   0,   7,   0,  11,\n",
    "        56,   6, 21,   8,   0,   0, 135,   0,   0,  31,   0,  51,  53,   7,   0,\n",
    "         0,   0,   0,   5,   8,  40,   0, 133,  29,   8,   2,   0,  26,\n",
    "         0,   8,   0, 188,   5,   0,   1,  14,  20,   0,   0,   0,   2,\n",
    "        13,   0 ],\n",
    "                   'group': np.repeat([0, 1, 2, 3], repeats=[38, 40, 41, 41])})"
   ]
  },
  {
   "cell_type": "code",
   "execution_count": null,
   "id": "3cd4ba81",
   "metadata": {},
   "outputs": [],
   "source": [
    "from statsmodels.stats.multicomp import pairwise_tukeyhsd\n",
    "\n",
    "\n",
    "# perform Tukey's test\n",
    "tukey = pairwise_tukeyhsd(endog=df['score'],\n",
    "                          groups=df['group'],\n",
    "                          alpha=0.05)\n",
    "\n",
    "#display results\n",
    "print(tukey)\n"
   ]
  },
  {
   "cell_type": "markdown",
   "id": "34c5255e",
   "metadata": {},
   "source": [
    "# ANOVA on deletions"
   ]
  },
  {
   "cell_type": "code",
   "execution_count": null,
   "id": "79aa0c78",
   "metadata": {},
   "outputs": [],
   "source": [
    "import scipy.stats as stats\n",
    "# stats f_oneway functions takes the groups as input and returns ANOVA F and p value\n",
    "fvalue, pvalue = stats.f_oneway(df0_delete, df1_delete, df2_delete, df3_delete)\n",
    "print(fvalue, pvalue)"
   ]
  },
  {
   "cell_type": "code",
   "execution_count": null,
   "id": "4c59e87b",
   "metadata": {},
   "outputs": [],
   "source": [
    "import pandas as pd\n",
    "import numpy as np\n",
    "\n",
    "df = pd.DataFrame({'score': [ 0,   0,   0,  38,   0,   0,   0,   0,   0,   0,   0,   0,   0,\n",
    "        63,   0,   0,   0, 116,  98,   9,   2,  65,   0,   0,   0,  21,\n",
    "        20,   0,  95,   0,  42,   0,   0,   0,   0,   0,   0,   0, 0,   0,   0,   0,  26,   0,   0, 125,   0,   0,   0, 306,  12,\n",
    "         0, 163,  53,   0,  36,   0,   0,   0,   0,  48,   0, 127,  61,\n",
    "         0,   0,  53,   8,  52,   0,   0,  16,   0,  93,   0,   0, 391,\n",
    "         0, 50,   4,   0,   2,   0,   0,   0,   0,  15,  17,  93,  35,  17,\n",
    "         0,   0,   0,   0,   3,   0,  43, 316,   9,   0,  35,   0,   0,\n",
    "        16, 408,   9,  32,   1,   0,   0,   6,   0,   0,   8,   0,  53,\n",
    "       127,  52, 88,  23,   0,   0, 149,   0,   0,  70,   0, 136,  49,   7,   0,\n",
    "         0,   0,   0,  10,  11, 107,   0, 253,  34,  88,  51,   0,  48,\n",
    "         0,   6,   0,  21,   5,   0,  12,   6,  91,   0,   0,   0,   2,\n",
    "        18,   0 ],\n",
    "                   'group': np.repeat([0, 1, 2, 3], repeats=[38, 40, 41, 41])})"
   ]
  },
  {
   "cell_type": "code",
   "execution_count": null,
   "id": "4c1544bc",
   "metadata": {},
   "outputs": [],
   "source": [
    "from statsmodels.stats.multicomp import pairwise_tukeyhsd\n",
    "\n",
    "\n",
    "# perform Tukey's test\n",
    "tukey = pairwise_tukeyhsd(endog=df['score'],\n",
    "                          groups=df['group'],\n",
    "                          alpha=0.05)\n",
    "\n",
    "#display results\n",
    "print(tukey)"
   ]
  },
  {
   "cell_type": "code",
   "execution_count": null,
   "id": "ddee8ff6",
   "metadata": {},
   "outputs": [],
   "source": [
    "import matplotlib.pyplot as plt\n",
    "import numpy as np\n",
    "\n",
    "\n",
    "city=['Bogota 0 (No Transparency)','Bogota 1 (Performance Transparency)',' Bogota 2 (Solution Transparency)','Bogota 3 (Full Transparency)']\n",
    "pos = np.arange(len(city))\n",
    "Effort =[-9.18, -4.3375, 5.65, -11.11]\n",
    "\n",
    "\n",
    "plt.barh(pos,Effort,color=['g' if e > 0 else 'r' for e in Effort],edgecolor='black')\n",
    "plt.yticks(pos, city)\n",
    "plt.xlabel('Effort', fontsize=16)\n",
    "plt.ylabel('Groups', fontsize=16)\n",
    "plt.title('Phase 3 - 4 -> Mean of Effort',fontsize=20)\n",
    "plt.show()"
   ]
  },
  {
   "cell_type": "code",
   "execution_count": null,
   "id": "0b024cd2",
   "metadata": {},
   "outputs": [],
   "source": [
    "import matplotlib.pyplot as plt\n",
    "import numpy as np\n",
    "\n",
    "\n",
    "city=['Bogota 0 (No Transparency)','Bogota 1 (Performance Transparency)',' Bogota 2 (Solution Transparency)','Bogota 3 (Full Transparency)']\n",
    "pos = np.arange(len(city))\n",
    "Effort = [ 12.12, 0.425, -4.06, 4.04]\n",
    "\n",
    "\n",
    "plt.barh(pos,Effort,color=['g' if e > 0 else 'r' for e in Effort],edgecolor='black')\n",
    "plt.yticks(pos, city)\n",
    "plt.xlabel('Effort', fontsize=16)\n",
    "plt.ylabel('Groups', fontsize=16)\n",
    "plt.title('Phase 2 - 3 -> Mean of Effort',fontsize=20)\n",
    "plt.show()"
   ]
  },
  {
   "cell_type": "code",
   "execution_count": null,
   "id": "8627039a",
   "metadata": {},
   "outputs": [],
   "source": [
    "import matplotlib.pyplot as plt\n",
    "import numpy as np\n",
    "\n",
    "\n",
    "city=['Bogota 0 (No Transparency)','Bogota 1 (Performance Transparency)',' Bogota 2 (Solution Transparency)','Bogota 3 (Full Transparency)']\n",
    "pos = np.arange(len(city))\n",
    "Effort = [ 0, 0, 0, 0]\n",
    "\n",
    "\n",
    "plt.barh(pos,Effort,color=['g' if e > 0 else 'r' for e in Effort],edgecolor='black')\n",
    "plt.yticks(pos, city)\n",
    "plt.xlabel('Effort', fontsize=16)\n",
    "plt.ylabel('Groups', fontsize=16)\n",
    "plt.title('Phase 2 - 3 -> Median of Effort',fontsize=20)\n",
    "plt.show()"
   ]
  },
  {
   "cell_type": "code",
   "execution_count": null,
   "id": "e3311abe",
   "metadata": {},
   "outputs": [],
   "source": [
    "import matplotlib.pyplot as plt\n",
    "import numpy as np\n",
    "\n",
    "\n",
    "city=['Bogota 0 (No Transparency)','Bogota 1 (Performance Transparency)',' Bogota 2 (Solution Transparency)','Bogota 3 (Full Transparency)']\n",
    "pos = np.arange(len(city))\n",
    "Effort = [ 50.12, 49.83, 22.98, 31.32]\n",
    "\n",
    "\n",
    "plt.barh(pos,Effort,color=['g' if e > 0 else 'r' for e in Effort],edgecolor='black')\n",
    "plt.yticks(pos, city)\n",
    "plt.xlabel('Effort', fontsize=16)\n",
    "plt.ylabel('Groups', fontsize=16)\n",
    "plt.title('Phase 2 - 3 -> Standard Deviation of Effort',fontsize=20)\n",
    "plt.show()"
   ]
  },
  {
   "cell_type": "code",
   "execution_count": null,
   "id": "bc074347",
   "metadata": {},
   "outputs": [],
   "source": [
    "import matplotlib.pyplot as plt\n",
    "import numpy as np\n",
    "\n",
    "\n",
    "city=['Bogota 0 (No Transparency)','Bogota 1 (Performance Transparency)',' Bogota 2 (Solution Transparency)','Bogota 3 (Full Transparency)']\n",
    "pos = np.arange(len(city))\n",
    "Effort = [ -16.5, -146.5, -142, -36 ]\n",
    "\n",
    "\n",
    "plt.barh(pos,Effort,color=['g' if e > 0 else 'r' for e in Effort],edgecolor='black')\n",
    "plt.yticks(pos, city)\n",
    "plt.xlabel('Effort', fontsize=16)\n",
    "plt.ylabel('Groups', fontsize=16)\n",
    "plt.title('Phase 2 - 3 -> Min of Effort',fontsize=20)\n",
    "plt.show()"
   ]
  },
  {
   "cell_type": "code",
   "execution_count": null,
   "id": "82a9b6c0",
   "metadata": {},
   "outputs": [],
   "source": [
    "import matplotlib.pyplot as plt\n",
    "import numpy as np\n",
    "\n",
    "\n",
    "city=['Bogota 0 (No Transparency)','Bogota 1 (Performance Transparency)',' Bogota 2 (Solution Transparency)','Bogota 3 (Full Transparency)']\n",
    "pos = np.arange(len(city))\n",
    "Effort = [ 285.5, 247.5, 20, 177.5]\n",
    "\n",
    "\n",
    "plt.barh(pos,Effort,color=['g' if e > 0 else 'r' for e in Effort],edgecolor='black')\n",
    "plt.yticks(pos, city)\n",
    "plt.xlabel('Effort', fontsize=16)\n",
    "plt.ylabel('Groups', fontsize=16)\n",
    "plt.title('Phase 2 - 3 -> Max of Effort',fontsize=20)\n",
    "plt.show()"
   ]
  },
  {
   "cell_type": "code",
   "execution_count": null,
   "id": "02e2e107",
   "metadata": {},
   "outputs": [],
   "source": [
    "import matplotlib.pyplot as plt\n",
    "import numpy as np\n",
    "\n",
    "\n",
    "city=['Bogota 0 (No Transparency)','Bogota 1 (Performance Transparency)',' Bogota 2 (Solution Transparency)','Bogota 3 (Full Transparency)']\n",
    "pos = np.arange(len(city))\n",
    "Lines_of_Code_Added =[19.61, 20.05, 12.41, 19.71]\n",
    "\n",
    "\n",
    "plt.barh(pos,Lines_of_Code_Added,color=['g' if e > 0 else 'r' for e in Lines_of_Code_Added],edgecolor='black')\n",
    "plt.yticks(pos, city)\n",
    "plt.xlabel('Lines_of_Code_Added', fontsize=16)\n",
    "plt.ylabel('Groups', fontsize=16)\n",
    "plt.title('Phase 2 - 3 -> Mean of Lines of Code Added',fontsize=20)\n",
    "plt.show()"
   ]
  },
  {
   "cell_type": "code",
   "execution_count": null,
   "id": "5dc9c170",
   "metadata": {},
   "outputs": [],
   "source": [
    "import matplotlib.pyplot as plt\n",
    "import numpy as np\n",
    "\n",
    "\n",
    "city=['Bogota 0 (No Transparency)','Bogota 1 (Performance Transparency)',' Bogota 2 (Solution Transparency)','Bogota 3 (Full Transparency)']\n",
    "pos = np.arange(len(city))\n",
    "Lines_of_Code_Added =[0, 0, 1, 2]\n",
    "\n",
    "\n",
    "plt.barh(pos,Lines_of_Code_Added,color=['g' if e > 0 else 'r' for e in Lines_of_Code_Added],edgecolor='black')\n",
    "plt.yticks(pos, city)\n",
    "plt.xlabel('Lines_of_Code_Added', fontsize=16)\n",
    "plt.ylabel('Groups', fontsize=16)\n",
    "plt.title('Phase 2 - 3 -> Median of Lines of Code Added',fontsize=20)\n",
    "plt.show()"
   ]
  },
  {
   "cell_type": "code",
   "execution_count": null,
   "id": "63edef0e",
   "metadata": {},
   "outputs": [],
   "source": [
    "import matplotlib.pyplot as plt\n",
    "import numpy as np\n",
    "\n",
    "\n",
    "city=['Bogota 0 (No Transparency)','Bogota 1 (Performance Transparency)',' Bogota 2 (Solution Transparency)','Bogota 3 (Full Transparency)']\n",
    "pos = np.arange(len(city))\n",
    "Lines_of_Code_Added =[56.4, 52.5, 30.42, 40.74]\n",
    "\n",
    "\n",
    "plt.barh(pos,Lines_of_Code_Added,color=['g' if e > 0 else 'r' for e in Lines_of_Code_Added],edgecolor='black')\n",
    "plt.yticks(pos, city)\n",
    "plt.xlabel('Lines_of_Code_Added', fontsize=16)\n",
    "plt.ylabel('Groups', fontsize=16)\n",
    "plt.title('Phase 2 - 3 -> Standard Deviation of Lines of Code Added',fontsize=20)\n",
    "plt.show()"
   ]
  },
  {
   "cell_type": "code",
   "execution_count": null,
   "id": "696233f2",
   "metadata": {},
   "outputs": [],
   "source": [
    "import matplotlib.pyplot as plt\n",
    "import numpy as np\n",
    "\n",
    "\n",
    "city=['Bogota 0 (No Transparency)','Bogota 1 (Performance Transparency)',' Bogota 2 (Solution Transparency)','Bogota 3 (Full Transparency)']\n",
    "pos = np.arange(len(city))\n",
    "Lines_of_Code_Added =[318, 311, 178, 188]\n",
    "\n",
    "\n",
    "plt.barh(pos,Lines_of_Code_Added,color=['g' if e > 0 else 'r' for e in Lines_of_Code_Added],edgecolor='black')\n",
    "plt.yticks(pos, city)\n",
    "plt.xlabel('Lines_of_Code_Added', fontsize=16)\n",
    "plt.ylabel('Groups', fontsize=16)\n",
    "plt.title('Phase 2 - 3 -> Max of Lines of Code Added',fontsize=20)\n",
    "plt.show()"
   ]
  },
  {
   "cell_type": "code",
   "execution_count": null,
   "id": "9b779447",
   "metadata": {},
   "outputs": [],
   "source": [
    "import matplotlib.pyplot as plt\n",
    "import numpy as np\n",
    "\n",
    "\n",
    "city=['Bogota 0 (No Transparency)','Bogota 1 (Performance Transparency)',' Bogota 2 (Solution Transparency)','Bogota 3 (Full Transparency)']\n",
    "pos = np.arange(len(city))\n",
    "Lines_of_Code_Added =[0, 0, 0, 0]\n",
    "\n",
    "\n",
    "plt.barh(pos,Lines_of_Code_Added,color=['g' if e > 0 else 'r' for e in Lines_of_Code_Added],edgecolor='black')\n",
    "plt.yticks(pos, city)\n",
    "plt.xlabel('Lines_of_Code_Added', fontsize=16)\n",
    "plt.ylabel('Groups', fontsize=16)\n",
    "plt.title('Phase 2 - 3 -> Min of Lines of Code Added',fontsize=20)\n",
    "plt.show()"
   ]
  },
  {
   "cell_type": "code",
   "execution_count": 37,
   "id": "dcdc8790",
   "metadata": {},
   "outputs": [
    {
     "data": {
      "image/png": "[encoded data removed]",
      "text/plain": [
       "<Figure size 432x288 with 1 Axes>"
      ]
     },
     "metadata": {
      "needs_background": "light"
     },
     "output_type": "display_data"
    }
   ],
   "source": [
    "import matplotlib.pyplot as plt\n",
    "import numpy as np\n",
    "\n",
    "\n",
    "city=['Bogota 0 (No Transparency)','Bogota 1 (Performance Transparency)',' Bogota 2 (Solution Transparency)','Bogota 3 (Full Transparency)']\n",
    "pos = np.arange(len(city))\n",
    "Lines_of_Code_Deleted =[14.97, 39.25, 32.95, 31.34]\n",
    "\n",
    "\n",
    "plt.barh(pos,Lines_of_Code_Deleted,color=['g' if e > 0 else 'r' for e in Lines_of_Code_Deleted],edgecolor='black')\n",
    "plt.yticks(pos, city)\n",
    "plt.xlabel('Lines_of_Code_Deleted', fontsize=16)\n",
    "plt.ylabel('Groups', fontsize=16)\n",
    "plt.title('Phase 3 - 4 -> Mean of Lines of Code Deleted',fontsize=20)\n",
    "plt.show()"
   ]
  },
  {
   "cell_type": "code",
   "execution_count": 38,
   "id": "0303a20a",
   "metadata": {},
   "outputs": [
    {
     "data": {
      "image/png": "[encoded data removed]",
      "text/plain": [
       "<Figure size 432x288 with 1 Axes>"
      ]
     },
     "metadata": {
      "needs_background": "light"
     },
     "output_type": "display_data"
    }
   ],
   "source": [
    "import matplotlib.pyplot as plt\n",
    "import numpy as np\n",
    "\n",
    "\n",
    "city=['Bogota 0 (No Transparency)','Bogota 1 (Performance Transparency)',' Bogota 2 (Solution Transparency)','Bogota 3 (Full Transparency)']\n",
    "pos = np.arange(len(city))\n",
    "Lines_of_Code_Deleted =[0, 0, 3, 6]\n",
    "\n",
    "\n",
    "plt.barh(pos,Lines_of_Code_Deleted,color=['g' if e > 0 else 'r' for e in Lines_of_Code_Deleted],edgecolor='black')\n",
    "plt.yticks(pos, city)\n",
    "plt.xlabel('Lines_of_Code_Deleted', fontsize=16)\n",
    "plt.ylabel('Groups', fontsize=16)\n",
    "plt.title('Phase 2 - 3 -> Median of Lines of Code Deleted',fontsize=20)\n",
    "plt.show()"
   ]
  },
  {
   "cell_type": "code",
   "execution_count": 39,
   "id": "a7a2362d",
   "metadata": {},
   "outputs": [
    {
     "data": {
      "image/png": "[encoded data removed]",
      "text/plain": [
       "<Figure size 432x288 with 1 Axes>"
      ]
     },
     "metadata": {
      "needs_background": "light"
     },
     "output_type": "display_data"
    }
   ],
   "source": [
    "import matplotlib.pyplot as plt\n",
    "import numpy as np\n",
    "\n",
    "\n",
    "city=['Bogota 0 (No Transparency)','Bogota 1 (Performance Transparency)',' Bogota 2 (Solution Transparency)','Bogota 3 (Full Transparency)']\n",
    "pos = np.arange(len(city))\n",
    "Lines_of_Code_Deleted =[31.15, 83, 80.82, 53.58]\n",
    "\n",
    "\n",
    "plt.barh(pos,Lines_of_Code_Deleted,color=['g' if e > 0 else 'r' for e in Lines_of_Code_Deleted],edgecolor='black')\n",
    "plt.yticks(pos, city)\n",
    "plt.xlabel('Lines_of_Code_Deleted', fontsize=16)\n",
    "plt.ylabel('Groups', fontsize=16)\n",
    "plt.title('Phase 2 - 3 -> Standard Deviation of Lines of Code Deleted',fontsize=20)\n",
    "plt.show()"
   ]
  },
  {
   "cell_type": "code",
   "execution_count": 40,
   "id": "f573809e",
   "metadata": {},
   "outputs": [
    {
     "data": {
      "image/png": "[encoded data removed]",
      "text/plain": [
       "<Figure size 432x288 with 1 Axes>"
      ]
     },
     "metadata": {
      "needs_background": "light"
     },
     "output_type": "display_data"
    }
   ],
   "source": [
    "import matplotlib.pyplot as plt\n",
    "import numpy as np\n",
    "\n",
    "\n",
    "city=['Bogota 0 (No Transparency)','Bogota 1 (Performance Transparency)',' Bogota 2 (Solution Transparency)','Bogota 3 (Full Transparency)']\n",
    "pos = np.arange(len(city))\n",
    "Lines_of_Code_Deleted =[116, 391, 408, 253]\n",
    "\n",
    "\n",
    "plt.barh(pos,Lines_of_Code_Deleted,color=['g' if e > 0 else 'r' for e in Lines_of_Code_Deleted],edgecolor='black')\n",
    "plt.yticks(pos, city)\n",
    "plt.xlabel('Lines_of_Code_Deleted', fontsize=16)\n",
    "plt.ylabel('Groups', fontsize=16)\n",
    "plt.title('Phase 2 - 3 -> Max of Lines of Code Deleted',fontsize=20)\n",
    "plt.show()"
   ]
  },
  {
   "cell_type": "code",
   "execution_count": 41,
   "id": "4238558a",
   "metadata": {},
   "outputs": [
    {
     "data": {
      "image/png": "[encoded data removed]",
      "text/plain": [
       "<Figure size 432x288 with 1 Axes>"
      ]
     },
     "metadata": {
      "needs_background": "light"
     },
     "output_type": "display_data"
    }
   ],
   "source": [
    "import matplotlib.pyplot as plt\n",
    "import numpy as np\n",
    "\n",
    "\n",
    "city=['Bogota 0 (No Transparency)','Bogota 1 (Performance Transparency)',' Bogota 2 (Solution Transparency)','Bogota 3 (Full Transparency)']\n",
    "pos = np.arange(len(city))\n",
    "Lines_of_Code_Deleted =[0, 0, 0, 0]\n",
    "\n",
    "\n",
    "plt.barh(pos,Lines_of_Code_Deleted,color=['g' if e > 0 else 'r' for e in Lines_of_Code_Deleted],edgecolor='black')\n",
    "plt.yticks(pos, city)\n",
    "plt.xlabel('Lines_of_Code_Deleted', fontsize=16)\n",
    "plt.ylabel('Groups', fontsize=16)\n",
    "plt.title('Phase 2 - 3 -> Min of Lines of Code Deleted',fontsize=20)\n",
    "plt.show()"
   ]
  },
  {
   "cell_type": "markdown",
   "id": "a63ba4ee",
   "metadata": {},
   "source": [
    "# Phase 1 - 2 ( Code Added, Deleted, Number of Files Changed )"
   ]
  },
  {
   "cell_type": "code",
   "execution_count": 42,
   "id": "82166436",
   "metadata": {},
   "outputs": [
    {
     "data": {
      "text/html": [
       "<div>\n",
       "<style scoped>\n",
       "    .dataframe tbody tr th:only-of-type {\n",
       "        vertical-align: middle;\n",
       "    }\n",
       "\n",
       "    .dataframe tbody tr th {\n",
       "        vertical-align: top;\n",
       "    }\n",
       "\n",
       "    .dataframe thead th {\n",
       "        text-align: right;\n",
       "    }\n",
       "</style>\n",
       "<table border=\"1\" class=\"dataframe\">\n",
       "  <thead>\n",
       "    <tr style=\"text-align: right;\">\n",
       "      <th></th>\n",
       "      <th>change</th>\n",
       "      <th>addition</th>\n",
       "      <th>delete</th>\n",
       "      <th>username</th>\n",
       "    </tr>\n",
       "  </thead>\n",
       "  <tbody>\n",
       "    <tr>\n",
       "      <th>0</th>\n",
       "      <td>1 file changed</td>\n",
       "      <td>6 insertions(+)</td>\n",
       "      <td>28 deletions(-)</td>\n",
       "      <td>adamantwharf</td>\n",
       "    </tr>\n",
       "    <tr>\n",
       "      <th>1</th>\n",
       "      <td>2 files changed</td>\n",
       "      <td>NaN</td>\n",
       "      <td>NaN</td>\n",
       "      <td>adriel62</td>\n",
       "    </tr>\n",
       "    <tr>\n",
       "      <th>2</th>\n",
       "      <td>20 files changed</td>\n",
       "      <td>25 insertions(+)</td>\n",
       "      <td>203 deletions(-)</td>\n",
       "      <td>afceballosr</td>\n",
       "    </tr>\n",
       "    <tr>\n",
       "      <th>3</th>\n",
       "      <td>0 files changed</td>\n",
       "      <td>NaN</td>\n",
       "      <td>NaN</td>\n",
       "      <td>AFelipeGA</td>\n",
       "    </tr>\n",
       "    <tr>\n",
       "      <th>4</th>\n",
       "      <td>5 files changed</td>\n",
       "      <td>10 insertions(+)</td>\n",
       "      <td>132 deletions(-)</td>\n",
       "      <td>afforeroc</td>\n",
       "    </tr>\n",
       "  </tbody>\n",
       "</table>\n",
       "</div>"
      ],
      "text/plain": [
       "              change           addition             delete      username\n",
       "0     1 file changed    6 insertions(+)    28 deletions(-)  adamantwharf\n",
       "1    2 files changed                NaN                NaN      adriel62\n",
       "2   20 files changed   25 insertions(+)   203 deletions(-)   afceballosr\n",
       "3    0 files changed                NaN                NaN     AFelipeGA\n",
       "4    5 files changed   10 insertions(+)   132 deletions(-)     afforeroc"
      ]
     },
     "execution_count": 42,
     "metadata": {},
     "output_type": "execute_result"
    }
   ],
   "source": [
    "import pandas as pd\n",
    "\n",
    "df_phase12 = pd.read_csv('./data/phase-1-2-prelim.csv')\n",
    "df_phase12.head(5)"
   ]
  },
  {
   "cell_type": "code",
   "execution_count": 43,
   "id": "0e6ace95",
   "metadata": {},
   "outputs": [
    {
     "data": {
      "text/html": [
       "<div>\n",
       "<style scoped>\n",
       "    .dataframe tbody tr th:only-of-type {\n",
       "        vertical-align: middle;\n",
       "    }\n",
       "\n",
       "    .dataframe tbody tr th {\n",
       "        vertical-align: top;\n",
       "    }\n",
       "\n",
       "    .dataframe thead th {\n",
       "        text-align: right;\n",
       "    }\n",
       "</style>\n",
       "<table border=\"1\" class=\"dataframe\">\n",
       "  <thead>\n",
       "    <tr style=\"text-align: right;\">\n",
       "      <th></th>\n",
       "      <th>change</th>\n",
       "      <th>addition</th>\n",
       "      <th>delete</th>\n",
       "      <th>username</th>\n",
       "      <th>change-revised</th>\n",
       "    </tr>\n",
       "  </thead>\n",
       "  <tbody>\n",
       "    <tr>\n",
       "      <th>0</th>\n",
       "      <td>1 file changed</td>\n",
       "      <td>6 insertions(+)</td>\n",
       "      <td>28 deletions(-)</td>\n",
       "      <td>adamantwharf</td>\n",
       "      <td>1</td>\n",
       "    </tr>\n",
       "    <tr>\n",
       "      <th>1</th>\n",
       "      <td>2 files changed</td>\n",
       "      <td>NaN</td>\n",
       "      <td>NaN</td>\n",
       "      <td>adriel62</td>\n",
       "      <td>2</td>\n",
       "    </tr>\n",
       "    <tr>\n",
       "      <th>2</th>\n",
       "      <td>20 files changed</td>\n",
       "      <td>25 insertions(+)</td>\n",
       "      <td>203 deletions(-)</td>\n",
       "      <td>afceballosr</td>\n",
       "      <td>20</td>\n",
       "    </tr>\n",
       "    <tr>\n",
       "      <th>3</th>\n",
       "      <td>0 files changed</td>\n",
       "      <td>NaN</td>\n",
       "      <td>NaN</td>\n",
       "      <td>AFelipeGA</td>\n",
       "      <td>0</td>\n",
       "    </tr>\n",
       "    <tr>\n",
       "      <th>4</th>\n",
       "      <td>5 files changed</td>\n",
       "      <td>10 insertions(+)</td>\n",
       "      <td>132 deletions(-)</td>\n",
       "      <td>afforeroc</td>\n",
       "      <td>5</td>\n",
       "    </tr>\n",
       "  </tbody>\n",
       "</table>\n",
       "</div>"
      ],
      "text/plain": [
       "              change           addition             delete      username  \\\n",
       "0     1 file changed    6 insertions(+)    28 deletions(-)  adamantwharf   \n",
       "1    2 files changed                NaN                NaN      adriel62   \n",
       "2   20 files changed   25 insertions(+)   203 deletions(-)   afceballosr   \n",
       "3    0 files changed                NaN                NaN     AFelipeGA   \n",
       "4    5 files changed   10 insertions(+)   132 deletions(-)     afforeroc   \n",
       "\n",
       "  change-revised  \n",
       "0              1  \n",
       "1              2  \n",
       "2             20  \n",
       "3              0  \n",
       "4              5  "
      ]
     },
     "execution_count": 43,
     "metadata": {},
     "output_type": "execute_result"
    }
   ],
   "source": [
    "df_phase12['change-revised'] = df_phase12.change.str.extract('(\\d+)')\n",
    "df_phase12.head(5)"
   ]
  },
  {
   "cell_type": "code",
   "execution_count": 44,
   "id": "f4d47bfb",
   "metadata": {},
   "outputs": [
    {
     "data": {
      "text/html": [
       "<div>\n",
       "<style scoped>\n",
       "    .dataframe tbody tr th:only-of-type {\n",
       "        vertical-align: middle;\n",
       "    }\n",
       "\n",
       "    .dataframe tbody tr th {\n",
       "        vertical-align: top;\n",
       "    }\n",
       "\n",
       "    .dataframe thead th {\n",
       "        text-align: right;\n",
       "    }\n",
       "</style>\n",
       "<table border=\"1\" class=\"dataframe\">\n",
       "  <thead>\n",
       "    <tr style=\"text-align: right;\">\n",
       "      <th></th>\n",
       "      <th>change</th>\n",
       "      <th>addition</th>\n",
       "      <th>delete</th>\n",
       "      <th>username</th>\n",
       "      <th>change-revised</th>\n",
       "      <th>delete-revised</th>\n",
       "    </tr>\n",
       "  </thead>\n",
       "  <tbody>\n",
       "    <tr>\n",
       "      <th>0</th>\n",
       "      <td>1 file changed</td>\n",
       "      <td>6 insertions(+)</td>\n",
       "      <td>28 deletions(-)</td>\n",
       "      <td>adamantwharf</td>\n",
       "      <td>1</td>\n",
       "      <td>28</td>\n",
       "    </tr>\n",
       "    <tr>\n",
       "      <th>1</th>\n",
       "      <td>2 files changed</td>\n",
       "      <td>NaN</td>\n",
       "      <td>NaN</td>\n",
       "      <td>adriel62</td>\n",
       "      <td>2</td>\n",
       "      <td>0</td>\n",
       "    </tr>\n",
       "    <tr>\n",
       "      <th>2</th>\n",
       "      <td>20 files changed</td>\n",
       "      <td>25 insertions(+)</td>\n",
       "      <td>203 deletions(-)</td>\n",
       "      <td>afceballosr</td>\n",
       "      <td>20</td>\n",
       "      <td>203</td>\n",
       "    </tr>\n",
       "    <tr>\n",
       "      <th>3</th>\n",
       "      <td>0 files changed</td>\n",
       "      <td>NaN</td>\n",
       "      <td>NaN</td>\n",
       "      <td>AFelipeGA</td>\n",
       "      <td>0</td>\n",
       "      <td>0</td>\n",
       "    </tr>\n",
       "    <tr>\n",
       "      <th>4</th>\n",
       "      <td>5 files changed</td>\n",
       "      <td>10 insertions(+)</td>\n",
       "      <td>132 deletions(-)</td>\n",
       "      <td>afforeroc</td>\n",
       "      <td>5</td>\n",
       "      <td>132</td>\n",
       "    </tr>\n",
       "  </tbody>\n",
       "</table>\n",
       "</div>"
      ],
      "text/plain": [
       "              change           addition             delete      username  \\\n",
       "0     1 file changed    6 insertions(+)    28 deletions(-)  adamantwharf   \n",
       "1    2 files changed                NaN                NaN      adriel62   \n",
       "2   20 files changed   25 insertions(+)   203 deletions(-)   afceballosr   \n",
       "3    0 files changed                NaN                NaN     AFelipeGA   \n",
       "4    5 files changed   10 insertions(+)   132 deletions(-)     afforeroc   \n",
       "\n",
       "  change-revised delete-revised  \n",
       "0              1             28  \n",
       "1              2              0  \n",
       "2             20            203  \n",
       "3              0              0  \n",
       "4              5            132  "
      ]
     },
     "execution_count": 44,
     "metadata": {},
     "output_type": "execute_result"
    }
   ],
   "source": [
    "df_phase12['delete-revised'] = df_phase12.delete.str.extract('(\\d+)')\n",
    "df_phase12['delete-revised'] = df_phase12['delete-revised'].fillna(0)\n",
    "df_phase12.head(5)"
   ]
  },
  {
   "cell_type": "code",
   "execution_count": 45,
   "id": "5b510400",
   "metadata": {},
   "outputs": [
    {
     "data": {
      "text/html": [
       "<div>\n",
       "<style scoped>\n",
       "    .dataframe tbody tr th:only-of-type {\n",
       "        vertical-align: middle;\n",
       "    }\n",
       "\n",
       "    .dataframe tbody tr th {\n",
       "        vertical-align: top;\n",
       "    }\n",
       "\n",
       "    .dataframe thead th {\n",
       "        text-align: right;\n",
       "    }\n",
       "</style>\n",
       "<table border=\"1\" class=\"dataframe\">\n",
       "  <thead>\n",
       "    <tr style=\"text-align: right;\">\n",
       "      <th></th>\n",
       "      <th>change</th>\n",
       "      <th>addition</th>\n",
       "      <th>delete</th>\n",
       "      <th>username</th>\n",
       "      <th>change-revised</th>\n",
       "      <th>delete-revised</th>\n",
       "      <th>add-revised</th>\n",
       "    </tr>\n",
       "  </thead>\n",
       "  <tbody>\n",
       "    <tr>\n",
       "      <th>0</th>\n",
       "      <td>1 file changed</td>\n",
       "      <td>6 insertions(+)</td>\n",
       "      <td>28 deletions(-)</td>\n",
       "      <td>adamantwharf</td>\n",
       "      <td>1</td>\n",
       "      <td>28</td>\n",
       "      <td>6</td>\n",
       "    </tr>\n",
       "    <tr>\n",
       "      <th>1</th>\n",
       "      <td>2 files changed</td>\n",
       "      <td>NaN</td>\n",
       "      <td>NaN</td>\n",
       "      <td>adriel62</td>\n",
       "      <td>2</td>\n",
       "      <td>0</td>\n",
       "      <td>0</td>\n",
       "    </tr>\n",
       "    <tr>\n",
       "      <th>2</th>\n",
       "      <td>20 files changed</td>\n",
       "      <td>25 insertions(+)</td>\n",
       "      <td>203 deletions(-)</td>\n",
       "      <td>afceballosr</td>\n",
       "      <td>20</td>\n",
       "      <td>203</td>\n",
       "      <td>25</td>\n",
       "    </tr>\n",
       "    <tr>\n",
       "      <th>3</th>\n",
       "      <td>0 files changed</td>\n",
       "      <td>NaN</td>\n",
       "      <td>NaN</td>\n",
       "      <td>AFelipeGA</td>\n",
       "      <td>0</td>\n",
       "      <td>0</td>\n",
       "      <td>0</td>\n",
       "    </tr>\n",
       "    <tr>\n",
       "      <th>4</th>\n",
       "      <td>5 files changed</td>\n",
       "      <td>10 insertions(+)</td>\n",
       "      <td>132 deletions(-)</td>\n",
       "      <td>afforeroc</td>\n",
       "      <td>5</td>\n",
       "      <td>132</td>\n",
       "      <td>10</td>\n",
       "    </tr>\n",
       "  </tbody>\n",
       "</table>\n",
       "</div>"
      ],
      "text/plain": [
       "              change           addition             delete      username  \\\n",
       "0     1 file changed    6 insertions(+)    28 deletions(-)  adamantwharf   \n",
       "1    2 files changed                NaN                NaN      adriel62   \n",
       "2   20 files changed   25 insertions(+)   203 deletions(-)   afceballosr   \n",
       "3    0 files changed                NaN                NaN     AFelipeGA   \n",
       "4    5 files changed   10 insertions(+)   132 deletions(-)     afforeroc   \n",
       "\n",
       "  change-revised delete-revised add-revised  \n",
       "0              1             28           6  \n",
       "1              2              0           0  \n",
       "2             20            203          25  \n",
       "3              0              0           0  \n",
       "4              5            132          10  "
      ]
     },
     "execution_count": 45,
     "metadata": {},
     "output_type": "execute_result"
    }
   ],
   "source": [
    "df_phase12['add-revised'] = df_phase12.addition.str.extract('(\\d+)')\n",
    "df_phase12['add-revised'] = df_phase12['add-revised'].fillna(0)\n",
    "df_phase12.head(5)"
   ]
  },
  {
   "cell_type": "markdown",
   "id": "3ac9cbe9",
   "metadata": {},
   "source": [
    "# Phase 1 -2 - Filter Bogota 3 ( Full Transparency Group )"
   ]
  },
  {
   "cell_type": "code",
   "execution_count": 46,
   "id": "d66cd4ea",
   "metadata": {},
   "outputs": [
    {
     "data": {
      "text/html": [
       "<div>\n",
       "<style scoped>\n",
       "    .dataframe tbody tr th:only-of-type {\n",
       "        vertical-align: middle;\n",
       "    }\n",
       "\n",
       "    .dataframe tbody tr th {\n",
       "        vertical-align: top;\n",
       "    }\n",
       "\n",
       "    .dataframe thead th {\n",
       "        text-align: right;\n",
       "    }\n",
       "</style>\n",
       "<table border=\"1\" class=\"dataframe\">\n",
       "  <thead>\n",
       "    <tr style=\"text-align: right;\">\n",
       "      <th></th>\n",
       "      <th>Project</th>\n",
       "      <th>Unnamed: 1</th>\n",
       "      <th>Unnamed: 2</th>\n",
       "    </tr>\n",
       "  </thead>\n",
       "  <tbody>\n",
       "    <tr>\n",
       "      <th>0</th>\n",
       "      <td>NicolasPrr</td>\n",
       "      <td>NaN</td>\n",
       "      <td>NaN</td>\n",
       "    </tr>\n",
       "    <tr>\n",
       "      <th>1</th>\n",
       "      <td>jscastelblancoh</td>\n",
       "      <td>NaN</td>\n",
       "      <td>NaN</td>\n",
       "    </tr>\n",
       "    <tr>\n",
       "      <th>2</th>\n",
       "      <td>juligarji</td>\n",
       "      <td>NaN</td>\n",
       "      <td>NaN</td>\n",
       "    </tr>\n",
       "    <tr>\n",
       "      <th>3</th>\n",
       "      <td>lacardenasv</td>\n",
       "      <td>NaN</td>\n",
       "      <td>NaN</td>\n",
       "    </tr>\n",
       "    <tr>\n",
       "      <th>4</th>\n",
       "      <td>jmalvarezd</td>\n",
       "      <td>NaN</td>\n",
       "      <td>NaN</td>\n",
       "    </tr>\n",
       "  </tbody>\n",
       "</table>\n",
       "</div>"
      ],
      "text/plain": [
       "           Project  Unnamed: 1  Unnamed: 2\n",
       "0       NicolasPrr         NaN         NaN\n",
       "1  jscastelblancoh         NaN         NaN\n",
       "2        juligarji         NaN         NaN\n",
       "3      lacardenasv         NaN         NaN\n",
       "4       jmalvarezd         NaN         NaN"
      ]
     },
     "execution_count": 46,
     "metadata": {},
     "output_type": "execute_result"
    }
   ],
   "source": [
    "df3 = pd.read_csv('./data/bogota-3.csv')\n",
    "df3.head(5)"
   ]
  },
  {
   "cell_type": "code",
   "execution_count": 47,
   "id": "45863104",
   "metadata": {},
   "outputs": [
    {
     "data": {
      "text/html": [
       "<div>\n",
       "<style scoped>\n",
       "    .dataframe tbody tr th:only-of-type {\n",
       "        vertical-align: middle;\n",
       "    }\n",
       "\n",
       "    .dataframe tbody tr th {\n",
       "        vertical-align: top;\n",
       "    }\n",
       "\n",
       "    .dataframe thead th {\n",
       "        text-align: right;\n",
       "    }\n",
       "</style>\n",
       "<table border=\"1\" class=\"dataframe\">\n",
       "  <thead>\n",
       "    <tr style=\"text-align: right;\">\n",
       "      <th></th>\n",
       "      <th>change</th>\n",
       "      <th>addition</th>\n",
       "      <th>delete</th>\n",
       "      <th>username</th>\n",
       "      <th>change-revised</th>\n",
       "      <th>delete-revised</th>\n",
       "      <th>add-revised</th>\n",
       "      <th>bogota-3</th>\n",
       "    </tr>\n",
       "  </thead>\n",
       "  <tbody>\n",
       "    <tr>\n",
       "      <th>0</th>\n",
       "      <td>1 file changed</td>\n",
       "      <td>6 insertions(+)</td>\n",
       "      <td>28 deletions(-)</td>\n",
       "      <td>adamantwharf</td>\n",
       "      <td>1</td>\n",
       "      <td>28</td>\n",
       "      <td>6</td>\n",
       "      <td>False</td>\n",
       "    </tr>\n",
       "    <tr>\n",
       "      <th>1</th>\n",
       "      <td>2 files changed</td>\n",
       "      <td>NaN</td>\n",
       "      <td>NaN</td>\n",
       "      <td>adriel62</td>\n",
       "      <td>2</td>\n",
       "      <td>0</td>\n",
       "      <td>0</td>\n",
       "      <td>True</td>\n",
       "    </tr>\n",
       "    <tr>\n",
       "      <th>2</th>\n",
       "      <td>20 files changed</td>\n",
       "      <td>25 insertions(+)</td>\n",
       "      <td>203 deletions(-)</td>\n",
       "      <td>afceballosr</td>\n",
       "      <td>20</td>\n",
       "      <td>203</td>\n",
       "      <td>25</td>\n",
       "      <td>True</td>\n",
       "    </tr>\n",
       "    <tr>\n",
       "      <th>3</th>\n",
       "      <td>0 files changed</td>\n",
       "      <td>NaN</td>\n",
       "      <td>NaN</td>\n",
       "      <td>AFelipeGA</td>\n",
       "      <td>0</td>\n",
       "      <td>0</td>\n",
       "      <td>0</td>\n",
       "      <td>True</td>\n",
       "    </tr>\n",
       "    <tr>\n",
       "      <th>4</th>\n",
       "      <td>5 files changed</td>\n",
       "      <td>10 insertions(+)</td>\n",
       "      <td>132 deletions(-)</td>\n",
       "      <td>afforeroc</td>\n",
       "      <td>5</td>\n",
       "      <td>132</td>\n",
       "      <td>10</td>\n",
       "      <td>True</td>\n",
       "    </tr>\n",
       "  </tbody>\n",
       "</table>\n",
       "</div>"
      ],
      "text/plain": [
       "              change           addition             delete      username  \\\n",
       "0     1 file changed    6 insertions(+)    28 deletions(-)  adamantwharf   \n",
       "1    2 files changed                NaN                NaN      adriel62   \n",
       "2   20 files changed   25 insertions(+)   203 deletions(-)   afceballosr   \n",
       "3    0 files changed                NaN                NaN     AFelipeGA   \n",
       "4    5 files changed   10 insertions(+)   132 deletions(-)     afforeroc   \n",
       "\n",
       "  change-revised delete-revised add-revised  bogota-3  \n",
       "0              1             28           6     False  \n",
       "1              2              0           0      True  \n",
       "2             20            203          25      True  \n",
       "3              0              0           0      True  \n",
       "4              5            132          10      True  "
      ]
     },
     "execution_count": 47,
     "metadata": {},
     "output_type": "execute_result"
    }
   ],
   "source": [
    "df_phase12['bogota-3'] = df_phase12['username'].isin(df3['Project'])\n",
    "df_phase12.head(5)"
   ]
  },
  {
   "cell_type": "code",
   "execution_count": 48,
   "id": "4e744681",
   "metadata": {},
   "outputs": [
    {
     "data": {
      "text/html": [
       "<div>\n",
       "<style scoped>\n",
       "    .dataframe tbody tr th:only-of-type {\n",
       "        vertical-align: middle;\n",
       "    }\n",
       "\n",
       "    .dataframe tbody tr th {\n",
       "        vertical-align: top;\n",
       "    }\n",
       "\n",
       "    .dataframe thead th {\n",
       "        text-align: right;\n",
       "    }\n",
       "</style>\n",
       "<table border=\"1\" class=\"dataframe\">\n",
       "  <thead>\n",
       "    <tr style=\"text-align: right;\">\n",
       "      <th></th>\n",
       "      <th>change</th>\n",
       "      <th>addition</th>\n",
       "      <th>delete</th>\n",
       "      <th>username</th>\n",
       "      <th>change-revised</th>\n",
       "      <th>delete-revised</th>\n",
       "      <th>add-revised</th>\n",
       "      <th>bogota-3</th>\n",
       "    </tr>\n",
       "  </thead>\n",
       "  <tbody>\n",
       "    <tr>\n",
       "      <th>0</th>\n",
       "      <td>1 file changed</td>\n",
       "      <td>6 insertions(+)</td>\n",
       "      <td>28 deletions(-)</td>\n",
       "      <td>adamantwharf</td>\n",
       "      <td>1</td>\n",
       "      <td>28</td>\n",
       "      <td>6</td>\n",
       "      <td>0</td>\n",
       "    </tr>\n",
       "    <tr>\n",
       "      <th>1</th>\n",
       "      <td>2 files changed</td>\n",
       "      <td>NaN</td>\n",
       "      <td>NaN</td>\n",
       "      <td>adriel62</td>\n",
       "      <td>2</td>\n",
       "      <td>0</td>\n",
       "      <td>0</td>\n",
       "      <td>1</td>\n",
       "    </tr>\n",
       "    <tr>\n",
       "      <th>2</th>\n",
       "      <td>20 files changed</td>\n",
       "      <td>25 insertions(+)</td>\n",
       "      <td>203 deletions(-)</td>\n",
       "      <td>afceballosr</td>\n",
       "      <td>20</td>\n",
       "      <td>203</td>\n",
       "      <td>25</td>\n",
       "      <td>1</td>\n",
       "    </tr>\n",
       "    <tr>\n",
       "      <th>3</th>\n",
       "      <td>0 files changed</td>\n",
       "      <td>NaN</td>\n",
       "      <td>NaN</td>\n",
       "      <td>AFelipeGA</td>\n",
       "      <td>0</td>\n",
       "      <td>0</td>\n",
       "      <td>0</td>\n",
       "      <td>1</td>\n",
       "    </tr>\n",
       "    <tr>\n",
       "      <th>4</th>\n",
       "      <td>5 files changed</td>\n",
       "      <td>10 insertions(+)</td>\n",
       "      <td>132 deletions(-)</td>\n",
       "      <td>afforeroc</td>\n",
       "      <td>5</td>\n",
       "      <td>132</td>\n",
       "      <td>10</td>\n",
       "      <td>1</td>\n",
       "    </tr>\n",
       "  </tbody>\n",
       "</table>\n",
       "</div>"
      ],
      "text/plain": [
       "              change           addition             delete      username  \\\n",
       "0     1 file changed    6 insertions(+)    28 deletions(-)  adamantwharf   \n",
       "1    2 files changed                NaN                NaN      adriel62   \n",
       "2   20 files changed   25 insertions(+)   203 deletions(-)   afceballosr   \n",
       "3    0 files changed                NaN                NaN     AFelipeGA   \n",
       "4    5 files changed   10 insertions(+)   132 deletions(-)     afforeroc   \n",
       "\n",
       "  change-revised delete-revised add-revised  bogota-3  \n",
       "0              1             28           6         0  \n",
       "1              2              0           0         1  \n",
       "2             20            203          25         1  \n",
       "3              0              0           0         1  \n",
       "4              5            132          10         1  "
      ]
     },
     "execution_count": 48,
     "metadata": {},
     "output_type": "execute_result"
    }
   ],
   "source": [
    "df_phase12[\"bogota-3\"] = df_phase12[\"bogota-3\"].astype(int)\n",
    "df_phase12.head(5)"
   ]
  },
  {
   "cell_type": "code",
   "execution_count": 49,
   "id": "23b1b3cd",
   "metadata": {},
   "outputs": [
    {
     "data": {
      "text/html": [
       "<div>\n",
       "<style scoped>\n",
       "    .dataframe tbody tr th:only-of-type {\n",
       "        vertical-align: middle;\n",
       "    }\n",
       "\n",
       "    .dataframe tbody tr th {\n",
       "        vertical-align: top;\n",
       "    }\n",
       "\n",
       "    .dataframe thead th {\n",
       "        text-align: right;\n",
       "    }\n",
       "</style>\n",
       "<table border=\"1\" class=\"dataframe\">\n",
       "  <thead>\n",
       "    <tr style=\"text-align: right;\">\n",
       "      <th></th>\n",
       "      <th>change</th>\n",
       "      <th>addition</th>\n",
       "      <th>delete</th>\n",
       "      <th>username</th>\n",
       "      <th>change-revised</th>\n",
       "      <th>delete-revised</th>\n",
       "      <th>add-revised</th>\n",
       "      <th>bogota-3</th>\n",
       "    </tr>\n",
       "  </thead>\n",
       "  <tbody>\n",
       "    <tr>\n",
       "      <th>1</th>\n",
       "      <td>2 files changed</td>\n",
       "      <td>NaN</td>\n",
       "      <td>NaN</td>\n",
       "      <td>adriel62</td>\n",
       "      <td>2</td>\n",
       "      <td>0</td>\n",
       "      <td>0</td>\n",
       "      <td>1</td>\n",
       "    </tr>\n",
       "    <tr>\n",
       "      <th>2</th>\n",
       "      <td>20 files changed</td>\n",
       "      <td>25 insertions(+)</td>\n",
       "      <td>203 deletions(-)</td>\n",
       "      <td>afceballosr</td>\n",
       "      <td>20</td>\n",
       "      <td>203</td>\n",
       "      <td>25</td>\n",
       "      <td>1</td>\n",
       "    </tr>\n",
       "    <tr>\n",
       "      <th>3</th>\n",
       "      <td>0 files changed</td>\n",
       "      <td>NaN</td>\n",
       "      <td>NaN</td>\n",
       "      <td>AFelipeGA</td>\n",
       "      <td>0</td>\n",
       "      <td>0</td>\n",
       "      <td>0</td>\n",
       "      <td>1</td>\n",
       "    </tr>\n",
       "    <tr>\n",
       "      <th>4</th>\n",
       "      <td>5 files changed</td>\n",
       "      <td>10 insertions(+)</td>\n",
       "      <td>132 deletions(-)</td>\n",
       "      <td>afforeroc</td>\n",
       "      <td>5</td>\n",
       "      <td>132</td>\n",
       "      <td>10</td>\n",
       "      <td>1</td>\n",
       "    </tr>\n",
       "    <tr>\n",
       "      <th>19</th>\n",
       "      <td>2 files changed</td>\n",
       "      <td>88 insertions(+)</td>\n",
       "      <td>172 deletions(-)</td>\n",
       "      <td>capinzor</td>\n",
       "      <td>2</td>\n",
       "      <td>172</td>\n",
       "      <td>88</td>\n",
       "      <td>1</td>\n",
       "    </tr>\n",
       "  </tbody>\n",
       "</table>\n",
       "</div>"
      ],
      "text/plain": [
       "               change           addition             delete     username  \\\n",
       "1     2 files changed                NaN                NaN     adriel62   \n",
       "2    20 files changed   25 insertions(+)   203 deletions(-)  afceballosr   \n",
       "3     0 files changed                NaN                NaN    AFelipeGA   \n",
       "4     5 files changed   10 insertions(+)   132 deletions(-)    afforeroc   \n",
       "19    2 files changed   88 insertions(+)   172 deletions(-)     capinzor   \n",
       "\n",
       "   change-revised delete-revised add-revised  bogota-3  \n",
       "1               2              0           0         1  \n",
       "2              20            203          25         1  \n",
       "3               0              0           0         1  \n",
       "4               5            132          10         1  \n",
       "19              2            172          88         1  "
      ]
     },
     "execution_count": 49,
     "metadata": {},
     "output_type": "execute_result"
    }
   ],
   "source": [
    "df3_phase12 = df_phase12.loc[df_phase12['bogota-3'] == 1]\n",
    "df3_phase12.head(5)"
   ]
  },
  {
   "cell_type": "code",
   "execution_count": 50,
   "id": "fda36693",
   "metadata": {},
   "outputs": [],
   "source": [
    "df3_phase12.to_csv('df3_phase12_loc.csv')"
   ]
  },
  {
   "cell_type": "code",
   "execution_count": 51,
   "id": "a46fd8ab",
   "metadata": {},
   "outputs": [
    {
     "name": "stdout",
     "output_type": "stream",
     "text": [
      "41\n"
     ]
    }
   ],
   "source": [
    "print(len(df3_phase12.index))"
   ]
  },
  {
   "cell_type": "code",
   "execution_count": 52,
   "id": "cddfed08",
   "metadata": {},
   "outputs": [
    {
     "name": "stdout",
     "output_type": "stream",
     "text": [
      "2.5121951219512195\n",
      "2.0\n",
      "3.436000227150109\n",
      "20\n",
      "0\n"
     ]
    },
    {
     "name": "stderr",
     "output_type": "stream",
     "text": [
      "<ipython-input-52-44518a1afa1e>:1: SettingWithCopyWarning: \n",
      "A value is trying to be set on a copy of a slice from a DataFrame.\n",
      "Try using .loc[row_indexer,col_indexer] = value instead\n",
      "\n",
      "See the caveats in the documentation: https://pandas.pydata.org/pandas-docs/stable/user_guide/indexing.html#returning-a-view-versus-a-copy\n",
      "  df3_phase12['change-revised'] = pd.to_numeric(df3_phase12['change-revised'])\n"
     ]
    }
   ],
   "source": [
    "df3_phase12['change-revised'] = pd.to_numeric(df3_phase12['change-revised'])\n",
    "print(df3_phase12['change-revised'].mean())\n",
    "print(df3_phase12['change-revised'].median())\n",
    "print(df3_phase12['change-revised'].std())\n",
    "print(df3_phase12['change-revised'].max())\n",
    "print(df3_phase12['change-revised'].min())\n"
   ]
  },
  {
   "cell_type": "code",
   "execution_count": 53,
   "id": "dc8281ed",
   "metadata": {},
   "outputs": [
    {
     "name": "stdout",
     "output_type": "stream",
     "text": [
      "51.97560975609756\n",
      "23.0\n",
      "70.54483957203323\n",
      "259\n",
      "0\n"
     ]
    },
    {
     "name": "stderr",
     "output_type": "stream",
     "text": [
      "<ipython-input-53-b9ff9affcb6e>:1: SettingWithCopyWarning: \n",
      "A value is trying to be set on a copy of a slice from a DataFrame.\n",
      "Try using .loc[row_indexer,col_indexer] = value instead\n",
      "\n",
      "See the caveats in the documentation: https://pandas.pydata.org/pandas-docs/stable/user_guide/indexing.html#returning-a-view-versus-a-copy\n",
      "  df3_phase12['delete-revised'] = pd.to_numeric(df3_phase12['delete-revised'])\n"
     ]
    },
    {
     "data": {
      "text/plain": [
       "array([  0, 203,   0, 132, 172,   0,  37,   0,   0,   3, 259,  21,   0,\n",
       "        79,   0,   0,  85,  23,  28,  25, 129,   0,  67,  13,  76,  30,\n",
       "        11,   0,   0, 198,  16,   0,  48,   1,   0,  56,  74,  59, 228,\n",
       "        58,   0])"
      ]
     },
     "execution_count": 53,
     "metadata": {},
     "output_type": "execute_result"
    }
   ],
   "source": [
    "df3_phase12['delete-revised'] = pd.to_numeric(df3_phase12['delete-revised'])\n",
    "df3_phase12['delete-revised'].mean()\n",
    "print(df3_phase12['delete-revised'].mean())\n",
    "print(df3_phase12['delete-revised'].median())\n",
    "print(df3_phase12['delete-revised'].std())\n",
    "print(df3_phase12['delete-revised'].max())\n",
    "print(df3_phase12['delete-revised'].min())\n",
    "\n",
    "df3_delete = df3_phase12['delete-revised']\n",
    "df3_delete.values"
   ]
  },
  {
   "cell_type": "code",
   "execution_count": 54,
   "id": "53bb87dd",
   "metadata": {},
   "outputs": [
    {
     "ename": "NameError",
     "evalue": "name 'df3_phase45' is not defined",
     "output_type": "error",
     "traceback": [
      "\u001b[0;31m---------------------------------------------------------------------------\u001b[0m",
      "\u001b[0;31mNameError\u001b[0m                                 Traceback (most recent call last)",
      "\u001b[0;32m<ipython-input-54-b98e62fa59ad>\u001b[0m in \u001b[0;36m<module>\u001b[0;34m\u001b[0m\n\u001b[0;32m----> 1\u001b[0;31m \u001b[0mdf3_phase45\u001b[0m\u001b[0;34m[\u001b[0m\u001b[0;34m'add-revised'\u001b[0m\u001b[0;34m]\u001b[0m \u001b[0;34m=\u001b[0m \u001b[0mpd\u001b[0m\u001b[0;34m.\u001b[0m\u001b[0mto_numeric\u001b[0m\u001b[0;34m(\u001b[0m\u001b[0mdf3_phase45\u001b[0m\u001b[0;34m[\u001b[0m\u001b[0;34m'add-revised'\u001b[0m\u001b[0;34m]\u001b[0m\u001b[0;34m)\u001b[0m\u001b[0;34m\u001b[0m\u001b[0;34m\u001b[0m\u001b[0m\n\u001b[0m\u001b[1;32m      2\u001b[0m \u001b[0mdf3_phase45\u001b[0m\u001b[0;34m[\u001b[0m\u001b[0;34m'add-revised'\u001b[0m\u001b[0;34m]\u001b[0m\u001b[0;34m.\u001b[0m\u001b[0mmean\u001b[0m\u001b[0;34m(\u001b[0m\u001b[0;34m)\u001b[0m\u001b[0;34m\u001b[0m\u001b[0;34m\u001b[0m\u001b[0m\n\u001b[1;32m      3\u001b[0m \u001b[0;34m\u001b[0m\u001b[0m\n\u001b[1;32m      4\u001b[0m \u001b[0mprint\u001b[0m\u001b[0;34m(\u001b[0m\u001b[0mdf3_phase45\u001b[0m\u001b[0;34m[\u001b[0m\u001b[0;34m'add-revised'\u001b[0m\u001b[0;34m]\u001b[0m\u001b[0;34m.\u001b[0m\u001b[0mmean\u001b[0m\u001b[0;34m(\u001b[0m\u001b[0;34m)\u001b[0m\u001b[0;34m)\u001b[0m\u001b[0;34m\u001b[0m\u001b[0;34m\u001b[0m\u001b[0m\n\u001b[1;32m      5\u001b[0m \u001b[0mprint\u001b[0m\u001b[0;34m(\u001b[0m\u001b[0mdf3_phase45\u001b[0m\u001b[0;34m[\u001b[0m\u001b[0;34m'add-revised'\u001b[0m\u001b[0;34m]\u001b[0m\u001b[0;34m.\u001b[0m\u001b[0mmedian\u001b[0m\u001b[0;34m(\u001b[0m\u001b[0;34m)\u001b[0m\u001b[0;34m)\u001b[0m\u001b[0;34m\u001b[0m\u001b[0;34m\u001b[0m\u001b[0m\n",
      "\u001b[0;31mNameError\u001b[0m: name 'df3_phase45' is not defined"
     ]
    }
   ],
   "source": [
    "df3_phase45['add-revised'] = pd.to_numeric(df3_phase45['add-revised'])\n",
    "df3_phase45['add-revised'].mean()\n",
    "\n",
    "print(df3_phase45['add-revised'].mean())\n",
    "print(df3_phase45['add-revised'].median())\n",
    "print(df3_phase45['add-revised'].std())\n",
    "print(df3_phase45['add-revised'].max())\n",
    "print(df3_phase45['add-revised'].min())\n",
    "df3_add = df3_phase45['add-revised']\n",
    "df3_add.values"
   ]
  },
  {
   "cell_type": "code",
   "execution_count": null,
   "id": "a3e03e60",
   "metadata": {},
   "outputs": [],
   "source": [
    "df3_phase45['add-revised'] = df3_phase45['add-revised'].astype(float)\n",
    "df3_phase45['delete-revised'] = df3_phase45['delete-revised'].astype(float)\n",
    "df3_phase45['effort'] = df3_phase45['add-revised'] - 0.5 * df3_phase45['delete-revised']\n",
    "print(df3_phase45['effort'].mean())\n",
    "print(df3_phase45['effort'].median())\n",
    "print(df3_phase45['effort'].std())\n",
    "print(df3_phase45['effort'].max())\n",
    "print(df3_phase45['effort'].min())"
   ]
  },
  {
   "cell_type": "code",
   "execution_count": null,
   "id": "d4c4e3d5",
   "metadata": {},
   "outputs": [],
   "source": [
    "import numpy as np\n",
    "np.set_printoptions(suppress=True)\n",
    "diff3 = df3_phase45['add-revised'] - 0.5 * df3_phase45['delete-revised']\n",
    "diff3.values"
   ]
  },
  {
   "cell_type": "markdown",
   "id": "cb05afbe",
   "metadata": {},
   "source": [
    "# Phase 1 - 2 - Bogota 2 ( Solution Transparency )"
   ]
  },
  {
   "cell_type": "code",
   "execution_count": null,
   "id": "3c17deeb",
   "metadata": {},
   "outputs": [],
   "source": [
    "df2 = pd.read_csv('./data/bogota-2.csv')\n",
    "df2.head(5)"
   ]
  },
  {
   "cell_type": "code",
   "execution_count": null,
   "id": "6bb5d93e",
   "metadata": {},
   "outputs": [],
   "source": [
    "df_phase12['bogota-2'] = df_phase12['username'].isin(df2['Project'])\n",
    "df_phase12.head(5)"
   ]
  },
  {
   "cell_type": "code",
   "execution_count": null,
   "id": "4998eb82",
   "metadata": {},
   "outputs": [],
   "source": [
    "df_phase12[\"bogota-2\"] = df_phase12[\"bogota-2\"].astype(int)\n",
    "df_phase12.head(5)"
   ]
  },
  {
   "cell_type": "code",
   "execution_count": null,
   "id": "df87885e",
   "metadata": {},
   "outputs": [],
   "source": [
    "df2_phase12 = df_phase12.loc[df_phase12['bogota-2'] == 1]\n",
    "df2_phase12.head(5)"
   ]
  },
  {
   "cell_type": "code",
   "execution_count": null,
   "id": "4b36f620",
   "metadata": {},
   "outputs": [],
   "source": [
    "df2_phase12.to_csv('df2_phase12_loc.csv')"
   ]
  },
  {
   "cell_type": "code",
   "execution_count": null,
   "id": "d594416a",
   "metadata": {},
   "outputs": [],
   "source": [
    "print(len(df2_phase12.index))"
   ]
  },
  {
   "cell_type": "code",
   "execution_count": null,
   "id": "2a4fed0e",
   "metadata": {},
   "outputs": [],
   "source": [
    "df2_phase12['change-revised'] = pd.to_numeric(df2_phase12['change-revised'])\n",
    "print(df2_phase12['change-revised'].mean())\n",
    "print(df2_phase12['change-revised'].median())\n",
    "print(df2_phase12['change-revised'].std())\n",
    "print(df2_phase12['change-revised'].max())\n",
    "print(df2_phase12['change-revised'].min())"
   ]
  },
  {
   "cell_type": "code",
   "execution_count": null,
   "id": "7ae34813",
   "metadata": {},
   "outputs": [],
   "source": [
    "df2_phase12['delete-revised'] = pd.to_numeric(df2_phase12['delete-revised'])\n",
    "df2_phase12['delete-revised'].mean()\n",
    "print(df2_phase12['delete-revised'].mean())\n",
    "print(df2_phase12['delete-revised'].median())\n",
    "print(df2_phase12['delete-revised'].std())\n",
    "print(df2_phase12['delete-revised'].max())\n",
    "print(df2_phase12['delete-revised'].min())\n",
    "\n",
    "df2_delete = df2_phase12['delete-revised']\n",
    "df2_delete.values"
   ]
  },
  {
   "cell_type": "code",
   "execution_count": null,
   "id": "456e3ca2",
   "metadata": {},
   "outputs": [],
   "source": [
    "df2_phase12['add-revised'] = pd.to_numeric(df2_phase12['add-revised'])\n",
    "df2_phase12['add-revised'].mean()\n",
    "\n",
    "print(df2_phase12['add-revised'].mean())\n",
    "print(df2_phase12['add-revised'].median())\n",
    "print(df2_phase12['add-revised'].std())\n",
    "print(df2_phase12['add-revised'].max())\n",
    "print(df2_phase12['add-revised'].min())\n",
    "df2_add = df2_phase12['add-revised']\n",
    "df2_add.values"
   ]
  },
  {
   "cell_type": "code",
   "execution_count": null,
   "id": "9a8cdfc3",
   "metadata": {},
   "outputs": [],
   "source": [
    "df2_phase12['add-revised'] = df2_phase12['add-revised'].astype(float)\n",
    "df2_phase12['delete-revised'] = df2_phase12['delete-revised'].astype(float)\n",
    "df2_phase12['effort'] = df2_phase12['add-revised'] - 0.5 * df2_phase12['delete-revised']\n",
    "print(df2_phase12['effort'].mean())\n",
    "print(df2_phase12['effort'].median())\n",
    "print(df2_phase12['effort'].std())\n",
    "print(df2_phase12['effort'].max())\n",
    "print(df2_phase12['effort'].min())"
   ]
  },
  {
   "cell_type": "code",
   "execution_count": null,
   "id": "3073d797",
   "metadata": {},
   "outputs": [],
   "source": [
    "import numpy as np\n",
    "np.set_printoptions(suppress=True)\n",
    "diff2 = df2_phase12['add-revised'] - 0.5 * df2_phase12['delete-revised']\n",
    "diff2.values"
   ]
  },
  {
   "cell_type": "markdown",
   "id": "cbd1101f",
   "metadata": {},
   "source": [
    "# Phase 4 - 5 - Bogota 1 ( Performance Transparency )"
   ]
  },
  {
   "cell_type": "code",
   "execution_count": null,
   "id": "e4daaa0f",
   "metadata": {},
   "outputs": [],
   "source": [
    "df1 = pd.read_csv('./data/bogota-1.csv')\n",
    "df1.head(5)\n",
    "print(len(df1.index))"
   ]
  },
  {
   "cell_type": "code",
   "execution_count": null,
   "id": "3f80b6e4",
   "metadata": {},
   "outputs": [],
   "source": [
    "df_phase12['bogota-1'] = df_phase12['username'].isin(df1['Project'])\n",
    "df_phase12.head(5)"
   ]
  },
  {
   "cell_type": "code",
   "execution_count": null,
   "id": "2b81f599",
   "metadata": {},
   "outputs": [],
   "source": [
    "df_phase12[\"bogota-1\"] = df_phase12[\"bogota-1\"].astype(int)\n",
    "df_phase12.head(5)"
   ]
  },
  {
   "cell_type": "code",
   "execution_count": null,
   "id": "8d7eb413",
   "metadata": {},
   "outputs": [],
   "source": [
    "df1_phase12 = df_phase45.loc[df_phase12['bogota-1'] == 1]\n",
    "df1_phase12.head(5)"
   ]
  },
  {
   "cell_type": "code",
   "execution_count": null,
   "id": "aecbf5c3",
   "metadata": {},
   "outputs": [],
   "source": [
    "df1_phase12.to_csv('df1_phase12_loc.csv')"
   ]
  },
  {
   "cell_type": "code",
   "execution_count": null,
   "id": "27281fdd",
   "metadata": {},
   "outputs": [],
   "source": [
    "print(len(df1_phase12.index))"
   ]
  },
  {
   "cell_type": "code",
   "execution_count": null,
   "id": "8c4f528e",
   "metadata": {},
   "outputs": [],
   "source": [
    "df1_phase12['change-revised'] = pd.to_numeric(df1_phase12['change-revised'])\n",
    "print(df1_phase12['change-revised'].mean())\n",
    "print(df1_phase12['change-revised'].median())\n",
    "print(df1_phase12['change-revised'].std())\n",
    "print(df1_phase12['change-revised'].max())\n",
    "print(df1_phase12['change-revised'].min())"
   ]
  },
  {
   "cell_type": "code",
   "execution_count": null,
   "id": "331efe74",
   "metadata": {},
   "outputs": [],
   "source": [
    "df1_phase12['delete-revised'] = pd.to_numeric(df1_phase12['delete-revised'])\n",
    "df1_phase12['delete-revised'].mean()\n",
    "print(df1_phase12['delete-revised'].mean())\n",
    "print(df1_phase12['delete-revised'].median())\n",
    "print(df1_phase12['delete-revised'].std())\n",
    "print(df1_phase12['delete-revised'].max())\n",
    "print(df1_phase12['delete-revised'].min())\n",
    "\n",
    "df1_delete = df1_phase12['delete-revised']\n",
    "df1_delete.values"
   ]
  },
  {
   "cell_type": "code",
   "execution_count": null,
   "id": "eb710851",
   "metadata": {},
   "outputs": [],
   "source": [
    "df1_phase12['add-revised'] = pd.to_numeric(df1_phase12['add-revised'])\n",
    "df1_phase12['add-revised'].mean()\n",
    "\n",
    "print(df1_phase12['add-revised'].mean())\n",
    "print(df1_phase12['add-revised'].median())\n",
    "print(df1_phase12['add-revised'].std())\n",
    "print(df1_phase12['add-revised'].max())\n",
    "print(df1_phase12['add-revised'].min())\n",
    "\n",
    "df1_add = df1_phase12['add-revised']\n",
    "df1_add.values"
   ]
  },
  {
   "cell_type": "code",
   "execution_count": null,
   "id": "0e07f4a5",
   "metadata": {},
   "outputs": [],
   "source": [
    "df1_phase12['add-revised'] = df1_phase12['add-revised'].astype(float)\n",
    "df1_phase12['delete-revised'] = df1_phase12['delete-revised'].astype(float)\n",
    "df1_phase12['effort'] = df1_phase12['add-revised'] - 0.5 * df1_phase12['delete-revised']\n",
    "print(df1_phase12['effort'].mean())\n",
    "print(df1_phase12['effort'].median())\n",
    "print(df1_phase12['effort'].std())\n",
    "print(df1_phase12['effort'].max())\n",
    "print(df1_phase12['effort'].min())"
   ]
  },
  {
   "cell_type": "code",
   "execution_count": null,
   "id": "8f4abdb6",
   "metadata": {},
   "outputs": [],
   "source": [
    "import numpy as np\n",
    "np.set_printoptions(suppress=True)\n",
    "diff1 = df1_phase12['add-revised'] - 0.5 * df1_phase12['delete-revised']\n",
    "diff1.values"
   ]
  },
  {
   "cell_type": "markdown",
   "id": "e85542eb",
   "metadata": {},
   "source": [
    "# Phase 1 - 2 - Bogota 0 ( No Transparency )"
   ]
  },
  {
   "cell_type": "code",
   "execution_count": null,
   "id": "437d4eb6",
   "metadata": {},
   "outputs": [],
   "source": [
    "df0 = pd.read_csv('./data/bogota-0.csv')\n",
    "df0.head(5)"
   ]
  },
  {
   "cell_type": "code",
   "execution_count": null,
   "id": "7ddbecd2",
   "metadata": {},
   "outputs": [],
   "source": [
    "df_phase12['bogota-0'] = df_phase12['username'].isin(df0['Project'])\n",
    "df_phase12.head(5)"
   ]
  },
  {
   "cell_type": "code",
   "execution_count": null,
   "id": "2d6bd28e",
   "metadata": {},
   "outputs": [],
   "source": [
    "df_phase12[\"bogota-0\"] = df_phase12[\"bogota-0\"].astype(int)\n",
    "df_phase12.head(5)"
   ]
  },
  {
   "cell_type": "code",
   "execution_count": null,
   "id": "b196e4c2",
   "metadata": {},
   "outputs": [],
   "source": [
    "df0_phase12 = df_phase12.loc[df_phase12['bogota-0'] == 1]\n",
    "df0_phase12.head(5)"
   ]
  },
  {
   "cell_type": "code",
   "execution_count": null,
   "id": "fc40f84a",
   "metadata": {},
   "outputs": [],
   "source": [
    "df0_phase12.to_csv('df0_phase12_loc.csv')"
   ]
  },
  {
   "cell_type": "code",
   "execution_count": null,
   "id": "655cc34f",
   "metadata": {},
   "outputs": [],
   "source": [
    "print(len(df0_phase12.index))"
   ]
  },
  {
   "cell_type": "code",
   "execution_count": null,
   "id": "be89b79d",
   "metadata": {},
   "outputs": [],
   "source": [
    "df0_phase12['change-revised'] = pd.to_numeric(df0_phase12['change-revised'])\n",
    "print(df0_phase12['change-revised'].mean())\n",
    "print(df0_phase12['change-revised'].median())\n",
    "print(df0_phase12['change-revised'].std())\n",
    "print(df0_phase12['change-revised'].max())\n",
    "print(df0_phase12['change-revised'].min())"
   ]
  },
  {
   "cell_type": "code",
   "execution_count": null,
   "id": "eb330553",
   "metadata": {},
   "outputs": [],
   "source": [
    "df0_phase12['delete-revised'] = pd.to_numeric(df0_phase12['delete-revised'])\n",
    "df0_phase12['delete-revised'].mean()\n",
    "print(df0_phase12['delete-revised'].mean())\n",
    "print(df0_phase12['delete-revised'].median())\n",
    "print(df0_phase12['delete-revised'].std())\n",
    "print(df0_phase12['delete-revised'].max())\n",
    "print(df0_phase12['delete-revised'].min())\n",
    "\n",
    "df0_delete = df0_phase12['delete-revised']\n",
    "df0_delete.values"
   ]
  },
  {
   "cell_type": "code",
   "execution_count": null,
   "id": "defec573",
   "metadata": {},
   "outputs": [],
   "source": [
    "df0_phase12['add-revised'] = pd.to_numeric(df0_phase12['add-revised'])\n",
    "df0_phase12['add-revised'].mean()\n",
    "\n",
    "print(df0_phase12['add-revised'].mean())\n",
    "print(df0_phase12['add-revised'].median())\n",
    "print(df0_phase12['add-revised'].std())\n",
    "print(df0_phase12['add-revised'].max())\n",
    "print(df0_phase12['add-revised'].min())\n",
    "\n",
    "df0_add = df0_phase12['add-revised']\n",
    "df0_add.values"
   ]
  },
  {
   "cell_type": "code",
   "execution_count": null,
   "id": "ec158f7a",
   "metadata": {},
   "outputs": [],
   "source": [
    "df0_phase12['add-revised'] = df0_phase12['add-revised'].astype(float)\n",
    "df0_phase12['delete-revised'] = df0_phase12['delete-revised'].astype(float)\n",
    "df0_phase12['effort'] = df0_phase12['add-revised'] - 0.5 * df0_phase12['delete-revised']\n",
    "print(df0_phase12['effort'].mean())\n",
    "print(df0_phase12['effort'].median())\n",
    "print(df0_phase12['effort'].std())\n",
    "print(df0_phase12['effort'].max())\n",
    "print(df0_phase12['effort'].min())"
   ]
  },
  {
   "cell_type": "code",
   "execution_count": null,
   "id": "b5d2f414",
   "metadata": {},
   "outputs": [],
   "source": [
    "import numpy as np\n",
    "np.set_printoptions(suppress=True)\n",
    "diff0 = df0_phase12['add-revised'] - 0.5 * df0_phase12['delete-revised']\n",
    "diff0.values"
   ]
  },
  {
   "cell_type": "markdown",
   "id": "fc1ed0f3",
   "metadata": {},
   "source": [
    "# ANOVA on effort"
   ]
  },
  {
   "cell_type": "code",
   "execution_count": null,
   "id": "1433d6f1",
   "metadata": {},
   "outputs": [],
   "source": [
    "import scipy.stats as stats\n",
    "# stats f_oneway functions takes the groups as input and returns ANOVA F and p value\n",
    "fvalue, pvalue = stats.f_oneway(diff0, diff1, diff2, diff3)\n",
    "print(fvalue, pvalue)"
   ]
  },
  {
   "cell_type": "code",
   "execution_count": null,
   "id": "ede6ccf3",
   "metadata": {},
   "outputs": [],
   "source": [
    "import pandas as pd\n",
    "import numpy as np\n",
    "\n",
    "df = pd.DataFrame({'score': [  0. ,   9.5,   0. ,   0. ,   0. , -39.5,   0. ,   0. ,   0. ,\n",
    "        21.5,   0. ,   0. ,  -3. ,  -1.5,   0. ,  -1. ,  -7.5, -48. ,\n",
    "         0. ,   7. , -20.5,  66. ,   0. , -19.5,   0. , -19. ,  -2. ,\n",
    "         0. ,  -1. ,   0. ,   0. ,  -0.5,   0. ,   2.5,   2. ,   0. ,\n",
    "         0. ,   0. , 0. ,  -27.5,    0. ,   19.5,    0. ,    2.5,    0. ,    0. ,\n",
    "          0. ,    0. ,    0. ,    0. ,   43. , -124. ,   22.5,    1.5,\n",
    "          1.5,   -1. ,    0. ,    0.5,    0. ,   -0.5,  -46.5,    0. ,\n",
    "         -8.5,  -14.5,    0. ,    0. ,    8. ,    0. ,  -10. ,    0. ,\n",
    "          0. ,  -11. ,    2. ,   10.5,    0. ,  156. ,    0. ,    0.,0. ,   0. , -17.5,   0. ,   0. , -13.5,   0. ,   1.5,   0. ,\n",
    "         0. ,  -1. , -19. ,   0.5,   0.5,   0. ,   0. ,   0.5, -18.5,\n",
    "         0. ,  -4. ,  14.5,  -1. ,   0. , -12.5,   0. ,   6.5, -18.5,\n",
    "       -92. ,   0. ,  -8.5,  13. ,   0. ,   0. ,   0.5,   0. ,  12. ,\n",
    "        -3.5,   0. ,  -7.5,   0. , -17.5, 90.5,    0.5,    0. ,    0. ,  -22.5,    8.5,    0. ,  -25. ,\n",
    "          0. ,   34. ,   -4.5,    0. ,    0. ,    0. ,    0. ,    0. ,\n",
    "         -1. ,  -23. ,  -10. ,  125. ,   22. ,    1. ,    0. ,   11. ,\n",
    "          0. ,   53. ,   -4. ,    0. ,    0. , -117.5,    0. ,    0. ,\n",
    "         -1. ,    0. ,    3. ,  840. , -159.5,    0. ,    0. ,   -1. ,\n",
    "          0.  ],\n",
    "                   'group': np.repeat([0, 1, 2, 3], repeats=[38, 40, 41, 41])})"
   ]
  },
  {
   "cell_type": "code",
   "execution_count": null,
   "id": "75cb0647",
   "metadata": {},
   "outputs": [],
   "source": [
    "from statsmodels.stats.multicomp import pairwise_tukeyhsd\n",
    "\n",
    "\n",
    "# perform Tukey's test\n",
    "tukey = pairwise_tukeyhsd(endog=df['score'],\n",
    "                          groups=df['group'],\n",
    "                          alpha=0.05)\n",
    "\n",
    "#display results\n",
    "print(tukey)"
   ]
  },
  {
   "cell_type": "markdown",
   "id": "c2fe4168",
   "metadata": {},
   "source": [
    "# ANOVA on additions "
   ]
  },
  {
   "cell_type": "code",
   "execution_count": null,
   "id": "abf464c9",
   "metadata": {},
   "outputs": [],
   "source": [
    "import scipy.stats as stats\n",
    "# stats f_oneway functions takes the groups as input and returns ANOVA F and p value\n",
    "fvalue, pvalue = stats.f_oneway(df0_add, df1_add, df2_add, df3_add)\n",
    "print(fvalue, pvalue)"
   ]
  },
  {
   "cell_type": "code",
   "execution_count": null,
   "id": "25c6d2e3",
   "metadata": {},
   "outputs": [],
   "source": [
    "import pandas as pd\n",
    "import numpy as np\n",
    "\n",
    "df = pd.DataFrame({'score': [0,  14,   0,   0,   0,   9,   0,   0,   0,  54,   0,   0,   5,\n",
    "         2,   0,   1,   2, 173,   0,   7,  19, 127,   0,  23,   0,   8,\n",
    "         5,   0,   6,   0,   0,   3,   0,   3,  31,   5,   0,   0, 0,  14,   0,  32,   0,   5,   0,   0,   0,   0,   0,   0,  53,\n",
    "        49,  32,   3,   9,   3,   0,   3,   0,   1,   9,   0,   9,   3,\n",
    "         0,   0,  40,   0,   6,   0,   0,  10,   2,  43,   0, 167,   0,\n",
    "         0, 0,   0,   3,   0,   0,  17,   0,   6,   0,   0,  74,  47,   3,\n",
    "         3,   0,   0,   2,  14,   0,   1, 125,   3,   0,   3,   0,  14,\n",
    "         5,  67,   5,  15,  37,   0,   0,   1,   0,  22,  14,   0,  11,\n",
    "         0,  13, 133.,   6.,   0.,   0.,   7.,  16.,   0.,  20.,   0.,  96.,   4.,\n",
    "         0.,   0.,   0.,   0.,   0.,  11.,  17.,  15., 125.,  44.,   2.,\n",
    "         0.,  38.,   2.,  65.,  29.,   0.,   0.,   4.,   0.,   2.,   2.,\n",
    "         0.,   3., 858.,  26.,   0.,   0.,   1.,   0. ],\n",
    "                   'group': np.repeat([0, 1, 2, 3], repeats=[38, 40, 41, 41])})"
   ]
  },
  {
   "cell_type": "code",
   "execution_count": null,
   "id": "3a4ad1bd",
   "metadata": {},
   "outputs": [],
   "source": [
    "from statsmodels.stats.multicomp import pairwise_tukeyhsd\n",
    "\n",
    "\n",
    "# perform Tukey's test\n",
    "tukey = pairwise_tukeyhsd(endog=df['score'],\n",
    "                          groups=df['group'],\n",
    "                          alpha=0.05)\n",
    "\n",
    "#display results\n",
    "print(tukey)"
   ]
  },
  {
   "cell_type": "markdown",
   "id": "5d0da26d",
   "metadata": {},
   "source": [
    "# ANOVA on deletions"
   ]
  },
  {
   "cell_type": "code",
   "execution_count": null,
   "id": "b500cc56",
   "metadata": {},
   "outputs": [],
   "source": [
    "import scipy.stats as stats\n",
    "# stats f_oneway functions takes the groups as input and returns ANOVA F and p value\n",
    "fvalue, pvalue = stats.f_oneway(df0_delete, df1_delete, df2_delete, df3_delete)\n",
    "print(fvalue, pvalue)"
   ]
  },
  {
   "cell_type": "code",
   "execution_count": null,
   "id": "d677277c",
   "metadata": {},
   "outputs": [],
   "source": [
    "import pandas as pd\n",
    "import numpy as np\n",
    "\n",
    "df = pd.DataFrame({'score': [ 0,   9,   0,   0,   0,  97,   0,   0,   0,  65,   0,   0,  16,\n",
    "         7,   0,   4,  19, 442,   0,   0,  79, 122,   0,  85,   0,  54,\n",
    "        14,   0,  14,   0,   0,   7,   0,   1,  58,  10,   0,   0, 0,  83,   0,  25,   0,   5,   0,   0,   0,   0,   0,   0,  20,\n",
    "       346,  19,   3,  15,   8,   0,   5,   0,   3, 111,   0,  35,  35,\n",
    "         0,   0,  64,   0,  32,   0,   0,  42,   0,  65,   0,  22,   0,\n",
    "         0, 0,   0,  41,   0,   0,  61,   0,   9,   0,   0, 150, 132,   5,\n",
    "         5,   0,   0,   3,  65,   0,  10, 221,   8,   0,  31,   0,  15,\n",
    "        47, 318,  10,  47,  48,   0,   0,   1,   0,  20,  35,   0,  37,\n",
    "         0,  61, 0, 203,   0, 132, 172,   0,  37,   0,   0,   3, 259,  21,   0,\n",
    "        79,   0,   0,  85,  23,  28,  25, 129,   0,  67,  13,  76,  30,\n",
    "        11,   0,   0, 198,  16,   0,  48,   1,   0,  56,  74,  59, 228,\n",
    "        58,   0 ],\n",
    "                   'group': np.repeat([0, 1, 2, 3], repeats=[38, 40, 41, 41])})"
   ]
  },
  {
   "cell_type": "code",
   "execution_count": null,
   "id": "d90fe0fa",
   "metadata": {},
   "outputs": [],
   "source": [
    "from statsmodels.stats.multicomp import pairwise_tukeyhsd\n",
    "\n",
    "\n",
    "# perform Tukey's test\n",
    "tukey = pairwise_tukeyhsd(endog=df['score'],\n",
    "                          groups=df['group'],\n",
    "                          alpha=0.05)\n",
    "\n",
    "#display results\n",
    "print(tukey)"
   ]
  },
  {
   "cell_type": "code",
   "execution_count": null,
   "id": "46ea195e",
   "metadata": {},
   "outputs": [],
   "source": [
    "import matplotlib.pyplot as plt\n",
    "import numpy as np\n",
    "\n",
    "\n",
    "city=['Bogota 0 (No Transparency)','Bogota 1 (Performance Transparency)',' Bogota 2 (Solution Transparency)','Bogota 3 (Full Transparency)']\n",
    "pos = np.arange(len(city))\n",
    "Effort =[-1.43, 0.6, -4.51, 19.99]\n",
    "\n",
    "\n",
    "plt.barh(pos,Effort,color=['g' if e > 0 else 'r' for e in Effort],edgecolor='black')\n",
    "plt.yticks(pos, city)\n",
    "plt.xlabel('Effort', fontsize=16)\n",
    "plt.ylabel('Groups', fontsize=16)\n",
    "plt.title('Phase 1 - 2 -> Mean of Effort',fontsize=20)\n",
    "plt.show()"
   ]
  },
  {
   "cell_type": "code",
   "execution_count": null,
   "id": "d1a2c5df",
   "metadata": {},
   "outputs": [],
   "source": [
    "import matplotlib.pyplot as plt\n",
    "import numpy as np\n",
    "\n",
    "\n",
    "city=['Bogota 0 (No Transparency)','Bogota 1 (Performance Transparency)',' Bogota 2 (Solution Transparency)','Bogota 3 (Full Transparency)']\n",
    "pos = np.arange(len(city))\n",
    "Effort =[0, 0, 0, 0]\n",
    "\n",
    "\n",
    "plt.barh(pos,Effort,color=['g' if e > 0 else 'r' for e in Effort],edgecolor='black')\n",
    "plt.yticks(pos, city)\n",
    "plt.xlabel('Effort', fontsize=16)\n",
    "plt.ylabel('Groups', fontsize=16)\n",
    "plt.title('Phase 1 - 2 -> Median of Effort',fontsize=20)\n",
    "plt.show()"
   ]
  },
  {
   "cell_type": "code",
   "execution_count": null,
   "id": "3a8fa518",
   "metadata": {},
   "outputs": [],
   "source": [
    "import matplotlib.pyplot as plt\n",
    "import numpy as np\n",
    "\n",
    "\n",
    "city=['Bogota 0 (No Transparency)','Bogota 1 (Performance Transparency)',' Bogota 2 (Solution Transparency)','Bogota 3 (Full Transparency)']\n",
    "pos = np.arange(len(city))\n",
    "Effort =[16.43, 34.36, 16.09, 137.73]\n",
    "\n",
    "\n",
    "plt.barh(pos,Effort,color=['g' if e > 0 else 'r' for e in Effort],edgecolor='black')\n",
    "plt.yticks(pos, city)\n",
    "plt.xlabel('Effort', fontsize=16)\n",
    "plt.ylabel('Groups', fontsize=16)\n",
    "plt.title('Phase 1 - 2 -> Standard Deviation of Effort',fontsize=20)\n",
    "plt.show()"
   ]
  },
  {
   "cell_type": "code",
   "execution_count": null,
   "id": "7a99f661",
   "metadata": {},
   "outputs": [],
   "source": [
    "import matplotlib.pyplot as plt\n",
    "import numpy as np\n",
    "\n",
    "\n",
    "city=['Bogota 0 (No Transparency)','Bogota 1 (Performance Transparency)',' Bogota 2 (Solution Transparency)','Bogota 3 (Full Transparency)']\n",
    "pos = np.arange(len(city))\n",
    "Effort =[66, 156, 14.5, 840]\n",
    "\n",
    "\n",
    "plt.barh(pos,Effort,color=['g' if e > 0 else 'r' for e in Effort],edgecolor='black')\n",
    "plt.yticks(pos, city)\n",
    "plt.xlabel('Effort', fontsize=16)\n",
    "plt.ylabel('Groups', fontsize=16)\n",
    "plt.title('Phase 1 - 2 -> Max of Effort',fontsize=20)\n",
    "plt.show()"
   ]
  },
  {
   "cell_type": "code",
   "execution_count": null,
   "id": "93c3b528",
   "metadata": {},
   "outputs": [],
   "source": [
    "import matplotlib.pyplot as plt\n",
    "import numpy as np\n",
    "\n",
    "\n",
    "city = ['Bogota 0 (No Transparency)','Bogota 1 (Performance Transparency)',' Bogota 2 (Solution Transparency)','Bogota 3 (Full Transparency)']\n",
    "pos = np.arange(len(city))\n",
    "Effort = [-48, -124, -92, -159.5]\n",
    "\n",
    "\n",
    "plt.barh(pos,Effort,color=['g' if e > 0 else 'r' for e in Effort],edgecolor='black')\n",
    "plt.yticks(pos, city)\n",
    "plt.xlabel('Effort', fontsize=16)\n",
    "plt.ylabel('Groups', fontsize=16)\n",
    "plt.title('Phase 1 - 2 -> Min of Effort',fontsize=20)\n",
    "plt.show()"
   ]
  },
  {
   "cell_type": "code",
   "execution_count": null,
   "id": "a4b8110c",
   "metadata": {},
   "outputs": [],
   "source": [
    "import matplotlib.pyplot as plt\n",
    "import numpy as np\n",
    "\n",
    "\n",
    "city=['Bogota 0 (No Transparency)','Bogota 1 (Performance Transparency)',' Bogota 2 (Solution Transparency)','Bogota 3 (Full Transparency)']\n",
    "pos = np.arange(len(city))\n",
    "Lines_of_Code_Added = [13.08, 12.33, 12.32, 37.22]\n",
    "\n",
    "\n",
    "plt.barh(pos,Lines_of_Code_Added,color=['g' if e > 0 else 'r' for e in Lines_of_Code_Added],edgecolor='black')\n",
    "plt.yticks(pos, city)\n",
    "plt.xlabel('Lines_of_Code_Added', fontsize=16)\n",
    "plt.ylabel('Groups', fontsize=16)\n",
    "plt.title('Phase 1 - 2 -> Mean Lines of Code Added',fontsize=20)\n",
    "plt.show()"
   ]
  },
  {
   "cell_type": "code",
   "execution_count": null,
   "id": "605f68b2",
   "metadata": {},
   "outputs": [],
   "source": [
    "import matplotlib.pyplot as plt\n",
    "import numpy as np\n",
    "\n",
    "\n",
    "city=['Bogota 0 (No Transparency)','Bogota 1 (Performance Transparency)',' Bogota 2 (Solution Transparency)','Bogota 3 (Full Transparency)']\n",
    "pos = np.arange(len(city))\n",
    "Lines_of_Code_Added = [0.5, 0.5, 3.0, 2.0]\n",
    "\n",
    "\n",
    "plt.barh(pos,Lines_of_Code_Added,color=['g' if e > 0 else 'r' for e in Lines_of_Code_Added],edgecolor='black')\n",
    "plt.yticks(pos, city)\n",
    "plt.xlabel('Lines_of_Code_Added', fontsize=16)\n",
    "plt.ylabel('Groups', fontsize=16)\n",
    "plt.title('Phase 1 - 2 -> Median Lines of Code Added',fontsize=20)\n",
    "plt.show()"
   ]
  },
  {
   "cell_type": "code",
   "execution_count": null,
   "id": "21f930ae",
   "metadata": {},
   "outputs": [],
   "source": [
    "import matplotlib.pyplot as plt\n",
    "import numpy as np\n",
    "\n",
    "\n",
    "city = ['Bogota 0 (No Transparency)','Bogota 1 (Performance Transparency)',' Bogota 2 (Solution Transparency)','Bogota 3 (Full Transparency)']\n",
    "pos = np.arange(len(city))\n",
    "Lines_of_Code_Added = [34.82, 29.16, 24.98, 135.32]\n",
    "\n",
    "\n",
    "plt.barh(pos,Lines_of_Code_Added,color=['g' if e > 0 else 'r' for e in Lines_of_Code_Added],edgecolor='black')\n",
    "plt.yticks(pos, city)\n",
    "plt.xlabel('Lines_of_Code_Added', fontsize=16)\n",
    "plt.ylabel('Groups', fontsize=16)\n",
    "plt.title('Phase 1 - 2 -> Standard Deviation of Lines of Code Added',fontsize=20)\n",
    "plt.show()"
   ]
  },
  {
   "cell_type": "code",
   "execution_count": null,
   "id": "6a4f07b4",
   "metadata": {},
   "outputs": [],
   "source": [
    "import matplotlib.pyplot as plt\n",
    "import numpy as np\n",
    "\n",
    "\n",
    "city = ['Bogota 0 (No Transparency)','Bogota 1 (Performance Transparency)',' Bogota 2 (Solution Transparency)','Bogota 3 (Full Transparency)']\n",
    "pos = np.arange(len(city))\n",
    "Lines_of_Code_Added = [173, 167, 125, 858]\n",
    "\n",
    "\n",
    "plt.barh(pos,Lines_of_Code_Added,color=['g' if e > 0 else 'r' for e in Lines_of_Code_Added],edgecolor='black')\n",
    "plt.yticks(pos, city)\n",
    "plt.xlabel('Lines_of_Code_Added', fontsize=16)\n",
    "plt.ylabel('Groups', fontsize=16)\n",
    "plt.title('Phase 1 - 2 -> Max of Lines of Code Added',fontsize=20)\n",
    "plt.show()"
   ]
  },
  {
   "cell_type": "code",
   "execution_count": null,
   "id": "f444d46c",
   "metadata": {},
   "outputs": [],
   "source": [
    "import matplotlib.pyplot as plt\n",
    "import numpy as np\n",
    "\n",
    "\n",
    "city = ['Bogota 0 (No Transparency)','Bogota 1 (Performance Transparency)',' Bogota 2 (Solution Transparency)','Bogota 3 (Full Transparency)']\n",
    "pos = np.arange(len(city))\n",
    "Lines_of_Code_Added = [0, 0, 0, 0]\n",
    "\n",
    "\n",
    "plt.barh(pos,Lines_of_Code_Added,color=['g' if e > 0 else 'r' for e in Effort],edgecolor='black')\n",
    "plt.yticks(pos, city)\n",
    "plt.xlabel('Lines_of_Code_Added', fontsize=16)\n",
    "plt.ylabel('Groups', fontsize=16)\n",
    "plt.title('Phase 1 - 2 -> Min of Lines of Code Added',fontsize=20)\n",
    "plt.show()"
   ]
  },
  {
   "cell_type": "code",
   "execution_count": null,
   "id": "060a12ea",
   "metadata": {},
   "outputs": [],
   "source": [
    "import matplotlib.pyplot as plt\n",
    "import numpy as np\n",
    "\n",
    "\n",
    "city=['Bogota 0 (No Transparency)','Bogota 1 (Performance Transparency)',' Bogota 2 (Solution Transparency)','Bogota 3 (Full Transparency)']\n",
    "pos = np.arange(len(city))\n",
    "Lines_of_Code_Deleted = [29.03, 23.45, 33.66, 51.98]\n",
    "\n",
    "\n",
    "plt.barh(pos,Lines_of_Code_Deleted,color=['g' if e > 0 else 'r' for e in Lines_of_Code_Deleted],edgecolor='black')\n",
    "plt.yticks(pos, city)\n",
    "plt.xlabel('Lines_of_Code_Deleted', fontsize=16)\n",
    "plt.ylabel('Groups', fontsize=16)\n",
    "plt.title('Phase 1 - 2 -> Mean Lines of Code Deleted',fontsize=20)\n",
    "plt.show()"
   ]
  },
  {
   "cell_type": "code",
   "execution_count": null,
   "id": "7e24d781",
   "metadata": {},
   "outputs": [],
   "source": [
    "import matplotlib.pyplot as plt\n",
    "import numpy as np\n",
    "\n",
    "\n",
    "city=['Bogota 0 (No Transparency)','Bogota 1 (Performance Transparency)',' Bogota 2 (Solution Transparency)','Bogota 3 (Full Transparency)']\n",
    "pos = np.arange(len(city))\n",
    "Lines_of_Code_Deleted = [0, 0, 5, 23]\n",
    "\n",
    "\n",
    "plt.barh(pos,Lines_of_Code_Deleted,color=['g' if e > 0 else 'r' for e in Lines_of_Code_Deleted],edgecolor='black')\n",
    "plt.yticks(pos, city)\n",
    "plt.xlabel('Lines_of_Code_Deleted', fontsize=16)\n",
    "plt.ylabel('Groups', fontsize=16)\n",
    "plt.title('Phase 1 - 2 -> Median Lines of Code Deleted',fontsize=20)\n",
    "plt.show()"
   ]
  },
  {
   "cell_type": "code",
   "execution_count": null,
   "id": "f620b0bb",
   "metadata": {},
   "outputs": [],
   "source": [
    "import matplotlib.pyplot as plt\n",
    "import numpy as np\n",
    "\n",
    "\n",
    "city=['Bogota 0 (No Transparency)','Bogota 1 (Performance Transparency)',' Bogota 2 (Solution Transparency)','Bogota 3 (Full Transparency)']\n",
    "pos = np.arange(len(city))\n",
    "Lines_of_Code_Deleted = [75.86, 58.33, 64.83, 70.54]\n",
    "\n",
    "\n",
    "plt.barh(pos,Lines_of_Code_Deleted,color=['g' if e > 0 else 'r' for e in Lines_of_Code_Deleted],edgecolor='black')\n",
    "plt.yticks(pos, city)\n",
    "plt.xlabel('Lines_of_Code_Deleted', fontsize=16)\n",
    "plt.ylabel('Groups', fontsize=16)\n",
    "plt.title('Phase 1 - 2 -> Standard Deviation Lines of Code Deleted',fontsize=20)\n",
    "plt.show()"
   ]
  },
  {
   "cell_type": "code",
   "execution_count": null,
   "id": "5e9fcb37",
   "metadata": {},
   "outputs": [],
   "source": [
    "import matplotlib.pyplot as plt\n",
    "import numpy as np\n",
    "\n",
    "\n",
    "city=['Bogota 0 (No Transparency)','Bogota 1 (Performance Transparency)',' Bogota 2 (Solution Transparency)','Bogota 3 (Full Transparency)']\n",
    "pos = np.arange(len(city))\n",
    "Lines_of_Code_Deleted = [442, 346, 318, 259]\n",
    "\n",
    "\n",
    "plt.barh(pos,Lines_of_Code_Deleted,color=['g' if e > 0 else 'r' for e in Lines_of_Code_Deleted],edgecolor='black')\n",
    "plt.yticks(pos, city)\n",
    "plt.xlabel('Lines_of_Code_Deleted', fontsize=16)\n",
    "plt.ylabel('Groups', fontsize=16)\n",
    "plt.title('Phase 1 - 2 -> Max Lines of Code Deleted',fontsize=20)\n",
    "plt.show()"
   ]
  },
  {
   "cell_type": "code",
   "execution_count": null,
   "id": "ee0f70c2",
   "metadata": {},
   "outputs": [],
   "source": [
    "import matplotlib.pyplot as plt\n",
    "import numpy as np\n",
    "\n",
    "\n",
    "city=['Bogota 0 (No Transparency)','Bogota 1 (Performance Transparency)',' Bogota 2 (Solution Transparency)','Bogota 3 (Full Transparency)']\n",
    "pos = np.arange(len(city))\n",
    "Lines_of_Code_Deleted = [0, 0, 0, 0]\n",
    "\n",
    "\n",
    "plt.barh(pos,Lines_of_Code_Deleted,color=['g' if e > 0 else 'r' for e in Lines_of_Code_Deleted],edgecolor='black')\n",
    "plt.yticks(pos, city)\n",
    "plt.xlabel('Lines_of_Code_Deleted', fontsize=16)\n",
    "plt.ylabel('Groups', fontsize=16)\n",
    "plt.title('Phase 1 - 2 -> Min Lines of Code Deleted',fontsize=20)\n",
    "plt.show()"
   ]
  },
  {
   "cell_type": "code",
   "execution_count": null,
   "id": "ba95a6d7",
   "metadata": {},
   "outputs": [],
   "source": [
    "import matplotlib.pyplot as plt\n",
    "\n",
    "# Mean Effort of All Groups \n",
    "\n",
    "4.76, 0.6, -1.94, 19.99\n",
    "\n",
    "y1 = [-1.43, 12.12, -9.18, 4.76 ]\n",
    "y2 = [0.6, 0.425, -4.34, 0.6]\n",
    "y3 = [-4.51, -4.06, 5.64, -1.94 ]\n",
    "y4 = [19.99, 4.04, -11.11, 19.99 ]   \n",
    "\n",
    "x_axis=['Phase 1-2', 'Phase 2-3', 'Phase 3-4', 'Phase 4-5']\n",
    "\n",
    "line1 = plt.plot(x_axis, y1,'ko-',label='Bogota 0 ( No Transparency )')\n",
    "line2 = plt.plot(x_axis, y2,'ro-',label='Bogota 1 ( Performance Transparency )') \n",
    "line3 = plt.plot(x_axis, y3,'mo-',label='Bogota 2 ( Solution Transparency )')\n",
    "line3 = plt.plot(x_axis, y4,'bo-',label='Bogota 3 ( Full Transparency )')\n",
    "\n",
    "plt.title(\"Mean Effort for All Treatment Groups\")\n",
    "plt.ylabel(\"Mean Effort\")\n",
    "\n",
    "plt.legend(bbox_to_anchor=(1, 1),\n",
    "           bbox_transform=plt.gcf().transFigure)"
   ]
  },
  {
   "cell_type": "code",
   "execution_count": null,
   "id": "08f503f5",
   "metadata": {},
   "outputs": [],
   "source": [
    "import matplotlib.pyplot as plt\n",
    "\n",
    "# Mean Lines Added of All Groups \n",
    "\n",
    "\n",
    "\n",
    "y1 = [13.08, 19.61, 19.61, 19.84]\n",
    "y2 = [12.33, 20.05, 24.83, 12.325 ]\n",
    "y3 = [12.32, 12.41, 20.46, 9.76  ]\n",
    "y4 = [37.22, 19.71, 29.73, 37.22 ]   \n",
    "\n",
    "x_axis=['Phase 1-2', 'Phase 2-3', 'Phase 3-4', 'Phase 4-5']\n",
    "\n",
    "line1 = plt.plot(x_axis, y1,'ko-',label='Bogota 0 ( No Transparency )')\n",
    "line2 = plt.plot(x_axis, y2,'ro-',label='Bogota 1 ( Performance Transparency )') \n",
    "line3 = plt.plot(x_axis, y3,'mo-',label='Bogota 2 ( Solution Transparency )')\n",
    "line3 = plt.plot(x_axis, y4,'bo-',label='Bogota 3 ( Full Transparency )')\n",
    "\n",
    "plt.title(\"Mean Lines Added for All Treatment Groups\")\n",
    "plt.ylabel(\"Mean Lines Added\")\n",
    "\n",
    "plt.legend(bbox_to_anchor=(1, 1),\n",
    "           bbox_transform=plt.gcf().transFigure)"
   ]
  },
  {
   "cell_type": "code",
   "execution_count": null,
   "id": "ffae605a",
   "metadata": {},
   "outputs": [],
   "source": []
  }
 ],
 "metadata": {
  "kernelspec": {
   "display_name": "Python 3",
   "language": "python",
   "name": "python3"
  },
  "language_info": {
   "codemirror_mode": {
    "name": "ipython",
    "version": 3
   },
   "file_extension": ".py",
   "mimetype": "text/x-python",
   "name": "python",
   "nbconvert_exporter": "python",
   "pygments_lexer": "ipython3",
   "version": "3.8.8"
  }
 },
 "nbformat": 4,
 "nbformat_minor": 5
}
