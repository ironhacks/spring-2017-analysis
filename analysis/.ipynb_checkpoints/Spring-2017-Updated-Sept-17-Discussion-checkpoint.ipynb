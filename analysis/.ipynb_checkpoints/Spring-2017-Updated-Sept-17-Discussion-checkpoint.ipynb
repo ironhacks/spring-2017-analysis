{
 "cells": [
  {
   "cell_type": "code",
   "execution_count": 1,
   "id": "ea5fdcd3",
   "metadata": {},
   "outputs": [
    {
     "data": {
      "text/html": [
       "<div>\n",
       "<style scoped>\n",
       "    .dataframe tbody tr th:only-of-type {\n",
       "        vertical-align: middle;\n",
       "    }\n",
       "\n",
       "    .dataframe tbody tr th {\n",
       "        vertical-align: top;\n",
       "    }\n",
       "\n",
       "    .dataframe thead th {\n",
       "        text-align: right;\n",
       "    }\n",
       "</style>\n",
       "<table border=\"1\" class=\"dataframe\">\n",
       "  <thead>\n",
       "    <tr style=\"text-align: right;\">\n",
       "      <th></th>\n",
       "      <th>Project</th>\n",
       "      <th>Hack</th>\n",
       "      <th>Student</th>\n",
       "      <th>Total Score</th>\n",
       "      <th>The % of participants whose total score below your score</th>\n",
       "      <th>Phase</th>\n",
       "    </tr>\n",
       "  </thead>\n",
       "  <tbody>\n",
       "    <tr>\n",
       "      <th>0</th>\n",
       "      <td>lfvalderrama</td>\n",
       "      <td>Bogota-Hack-0-2017</td>\n",
       "      <td>lfvalderrama</td>\n",
       "      <td>352.92</td>\n",
       "      <td>98.04</td>\n",
       "      <td>5th Phase</td>\n",
       "    </tr>\n",
       "    <tr>\n",
       "      <th>1</th>\n",
       "      <td>Judgarciani</td>\n",
       "      <td>Bogota-Hack-0-2017</td>\n",
       "      <td>Judgarciani</td>\n",
       "      <td>325.00</td>\n",
       "      <td>96.08</td>\n",
       "      <td>5th Phase</td>\n",
       "    </tr>\n",
       "    <tr>\n",
       "      <th>2</th>\n",
       "      <td>bsgarciac</td>\n",
       "      <td>Bogota-Hack-0-2017</td>\n",
       "      <td>bsgarciac</td>\n",
       "      <td>320.83</td>\n",
       "      <td>94.12</td>\n",
       "      <td>5th Phase</td>\n",
       "    </tr>\n",
       "    <tr>\n",
       "      <th>3</th>\n",
       "      <td>Moimolcp</td>\n",
       "      <td>Bogota-Hack-0-2017</td>\n",
       "      <td>Moimolcp</td>\n",
       "      <td>304.17</td>\n",
       "      <td>92.16</td>\n",
       "      <td>5th Phase</td>\n",
       "    </tr>\n",
       "    <tr>\n",
       "      <th>4</th>\n",
       "      <td>mnguzmanc</td>\n",
       "      <td>Bogota-Hack-0-2017</td>\n",
       "      <td>mnguzmanc</td>\n",
       "      <td>290.00</td>\n",
       "      <td>90.20</td>\n",
       "      <td>5th Phase</td>\n",
       "    </tr>\n",
       "  </tbody>\n",
       "</table>\n",
       "</div>"
      ],
      "text/plain": [
       "        Project                Hack       Student  Total Score  \\\n",
       "0  lfvalderrama  Bogota-Hack-0-2017  lfvalderrama       352.92   \n",
       "1   Judgarciani  Bogota-Hack-0-2017   Judgarciani       325.00   \n",
       "2     bsgarciac  Bogota-Hack-0-2017     bsgarciac       320.83   \n",
       "3      Moimolcp  Bogota-Hack-0-2017      Moimolcp       304.17   \n",
       "4     mnguzmanc  Bogota-Hack-0-2017     mnguzmanc       290.00   \n",
       "\n",
       "   The % of participants whose total score below your score      Phase  \n",
       "0                                              98.04         5th Phase  \n",
       "1                                              96.08         5th Phase  \n",
       "2                                              94.12         5th Phase  \n",
       "3                                              92.16         5th Phase  \n",
       "4                                              90.20         5th Phase  "
      ]
     },
     "execution_count": 1,
     "metadata": {},
     "output_type": "execute_result"
    }
   ],
   "source": [
    "import pandas as pd\n",
    "\n",
    "df0_phase5 = pd.read_csv('final-bogota-0-phase5.csv')\n",
    "df0_phase5 = df0_phase5.loc[:, ~df0_phase5.columns.str.contains('^Unnamed')]\n",
    "df0_phase5.head(5)"
   ]
  },
  {
   "cell_type": "code",
   "execution_count": 2,
   "id": "0c27494a",
   "metadata": {},
   "outputs": [
    {
     "name": "stdout",
     "output_type": "stream",
     "text": [
      "Mean:  162.22256410256412\n",
      "Median:  190.83\n",
      "Standard Deviation:  109.06232237428931\n",
      "Max:  352.92\n",
      "Min:  0.0\n"
     ]
    }
   ],
   "source": [
    "print(\"Mean: \", df0_phase5['Total Score'].mean())\n",
    "print(\"Median: \", df0_phase5['Total Score'].median())\n",
    "print(\"Standard Deviation: \", df0_phase5['Total Score'].std())\n",
    "print(\"Max: \", df0_phase5['Total Score'].max())\n",
    "print(\"Min: \", df0_phase5['Total Score'].min())\n"
   ]
  },
  {
   "cell_type": "code",
   "execution_count": 3,
   "id": "e85cde3c",
   "metadata": {},
   "outputs": [
    {
     "data": {
      "text/html": [
       "<div>\n",
       "<style scoped>\n",
       "    .dataframe tbody tr th:only-of-type {\n",
       "        vertical-align: middle;\n",
       "    }\n",
       "\n",
       "    .dataframe tbody tr th {\n",
       "        vertical-align: top;\n",
       "    }\n",
       "\n",
       "    .dataframe thead th {\n",
       "        text-align: right;\n",
       "    }\n",
       "</style>\n",
       "<table border=\"1\" class=\"dataframe\">\n",
       "  <thead>\n",
       "    <tr style=\"text-align: right;\">\n",
       "      <th></th>\n",
       "      <th>Project</th>\n",
       "      <th>Hack</th>\n",
       "      <th>Student</th>\n",
       "      <th>Total Score</th>\n",
       "      <th>The % of participants whose total score below your score</th>\n",
       "      <th>Phase</th>\n",
       "    </tr>\n",
       "  </thead>\n",
       "  <tbody>\n",
       "    <tr>\n",
       "      <th>0</th>\n",
       "      <td>oeroaq</td>\n",
       "      <td>Bogota-Hack-1-2017</td>\n",
       "      <td>oeroaq</td>\n",
       "      <td>357.50</td>\n",
       "      <td>97.67</td>\n",
       "      <td>5th Phase</td>\n",
       "    </tr>\n",
       "    <tr>\n",
       "      <th>1</th>\n",
       "      <td>jonatan360</td>\n",
       "      <td>Bogota-Hack-1-2017</td>\n",
       "      <td>jonatan360</td>\n",
       "      <td>352.50</td>\n",
       "      <td>95.35</td>\n",
       "      <td>5th Phase</td>\n",
       "    </tr>\n",
       "    <tr>\n",
       "      <th>2</th>\n",
       "      <td>jesusfchavarro</td>\n",
       "      <td>Bogota-Hack-1-2017</td>\n",
       "      <td>jesusfchavarro</td>\n",
       "      <td>345.00</td>\n",
       "      <td>93.02</td>\n",
       "      <td>5th Phase</td>\n",
       "    </tr>\n",
       "    <tr>\n",
       "      <th>3</th>\n",
       "      <td>daandradec</td>\n",
       "      <td>Bogota-Hack-1-2017</td>\n",
       "      <td>daandradec</td>\n",
       "      <td>336.67</td>\n",
       "      <td>90.70</td>\n",
       "      <td>5th Phase</td>\n",
       "    </tr>\n",
       "    <tr>\n",
       "      <th>4</th>\n",
       "      <td>djguzmanc</td>\n",
       "      <td>Bogota-Hack-1-2017</td>\n",
       "      <td>djguzmanc</td>\n",
       "      <td>334.17</td>\n",
       "      <td>88.37</td>\n",
       "      <td>5th Phase</td>\n",
       "    </tr>\n",
       "  </tbody>\n",
       "</table>\n",
       "</div>"
      ],
      "text/plain": [
       "          Project                Hack         Student  Total Score  \\\n",
       "0          oeroaq  Bogota-Hack-1-2017          oeroaq       357.50   \n",
       "1      jonatan360  Bogota-Hack-1-2017      jonatan360       352.50   \n",
       "2  jesusfchavarro  Bogota-Hack-1-2017  jesusfchavarro       345.00   \n",
       "3      daandradec  Bogota-Hack-1-2017      daandradec       336.67   \n",
       "4       djguzmanc  Bogota-Hack-1-2017       djguzmanc       334.17   \n",
       "\n",
       "   The % of participants whose total score below your score      Phase  \n",
       "0                                              97.67         5th Phase  \n",
       "1                                              95.35         5th Phase  \n",
       "2                                              93.02         5th Phase  \n",
       "3                                              90.70         5th Phase  \n",
       "4                                              88.37         5th Phase  "
      ]
     },
     "execution_count": 3,
     "metadata": {},
     "output_type": "execute_result"
    }
   ],
   "source": [
    "df1_phase5 = pd.read_csv('final-bogota-1-phase5.csv')\n",
    "df1_phase5 = df1_phase5.loc[:, ~df1_phase5.columns.str.contains('^Unnamed')]\n",
    "df1_phase5.head(5)"
   ]
  },
  {
   "cell_type": "code",
   "execution_count": 4,
   "id": "6ea5e193",
   "metadata": {},
   "outputs": [
    {
     "name": "stdout",
     "output_type": "stream",
     "text": [
      "Mean:  194.0448780487805\n",
      "Median:  198.33\n",
      "Standard Deviation:  110.58717373913557\n",
      "Max:  357.5\n",
      "Min:  0.0\n"
     ]
    }
   ],
   "source": [
    "print(\"Mean: \", df1_phase5['Total Score'].mean())\n",
    "print(\"Median: \", df1_phase5['Total Score'].median())\n",
    "print(\"Standard Deviation: \", df1_phase5['Total Score'].std())\n",
    "print(\"Max: \", df1_phase5['Total Score'].max())\n",
    "print(\"Min: \", df1_phase5['Total Score'].min())\n"
   ]
  },
  {
   "cell_type": "code",
   "execution_count": 5,
   "id": "4cff9d1e",
   "metadata": {},
   "outputs": [
    {
     "data": {
      "text/html": [
       "<div>\n",
       "<style scoped>\n",
       "    .dataframe tbody tr th:only-of-type {\n",
       "        vertical-align: middle;\n",
       "    }\n",
       "\n",
       "    .dataframe tbody tr th {\n",
       "        vertical-align: top;\n",
       "    }\n",
       "\n",
       "    .dataframe thead th {\n",
       "        text-align: right;\n",
       "    }\n",
       "</style>\n",
       "<table border=\"1\" class=\"dataframe\">\n",
       "  <thead>\n",
       "    <tr style=\"text-align: right;\">\n",
       "      <th></th>\n",
       "      <th>Project</th>\n",
       "      <th>Hack</th>\n",
       "      <th>Student</th>\n",
       "      <th>Total Score</th>\n",
       "      <th>The % of participants whose total score below your score</th>\n",
       "      <th>Phase</th>\n",
       "    </tr>\n",
       "  </thead>\n",
       "  <tbody>\n",
       "    <tr>\n",
       "      <th>0</th>\n",
       "      <td>xdanielsb</td>\n",
       "      <td>Bogota-Hack-2-2017</td>\n",
       "      <td>xdanielsb</td>\n",
       "      <td>357.50</td>\n",
       "      <td>97.62</td>\n",
       "      <td>5th Phase</td>\n",
       "    </tr>\n",
       "    <tr>\n",
       "      <th>1</th>\n",
       "      <td>Gantiva</td>\n",
       "      <td>Bogota-Hack-2-2017</td>\n",
       "      <td>Gantiva</td>\n",
       "      <td>345.83</td>\n",
       "      <td>95.24</td>\n",
       "      <td>5th Phase</td>\n",
       "    </tr>\n",
       "    <tr>\n",
       "      <th>2</th>\n",
       "      <td>leguzman</td>\n",
       "      <td>Bogota-Hack-2-2017</td>\n",
       "      <td>leguzman</td>\n",
       "      <td>339.17</td>\n",
       "      <td>92.86</td>\n",
       "      <td>5th Phase</td>\n",
       "    </tr>\n",
       "    <tr>\n",
       "      <th>3</th>\n",
       "      <td>juasmartinezbel</td>\n",
       "      <td>Bogota-Hack-2-2017</td>\n",
       "      <td>juasmartinezbel</td>\n",
       "      <td>337.50</td>\n",
       "      <td>90.48</td>\n",
       "      <td>5th Phase</td>\n",
       "    </tr>\n",
       "    <tr>\n",
       "      <th>4</th>\n",
       "      <td>cesarochoa2006</td>\n",
       "      <td>Bogota-Hack-2-2017</td>\n",
       "      <td>cesarochoa2006</td>\n",
       "      <td>326.67</td>\n",
       "      <td>88.10</td>\n",
       "      <td>5th Phase</td>\n",
       "    </tr>\n",
       "  </tbody>\n",
       "</table>\n",
       "</div>"
      ],
      "text/plain": [
       "           Project                Hack          Student  Total Score  \\\n",
       "0        xdanielsb  Bogota-Hack-2-2017        xdanielsb       357.50   \n",
       "1          Gantiva  Bogota-Hack-2-2017          Gantiva       345.83   \n",
       "2         leguzman  Bogota-Hack-2-2017         leguzman       339.17   \n",
       "3  juasmartinezbel  Bogota-Hack-2-2017  juasmartinezbel       337.50   \n",
       "4   cesarochoa2006  Bogota-Hack-2-2017   cesarochoa2006       326.67   \n",
       "\n",
       "   The % of participants whose total score below your score      Phase  \n",
       "0                                              97.62         5th Phase  \n",
       "1                                              95.24         5th Phase  \n",
       "2                                              92.86         5th Phase  \n",
       "3                                              90.48         5th Phase  \n",
       "4                                              88.10         5th Phase  "
      ]
     },
     "execution_count": 5,
     "metadata": {},
     "output_type": "execute_result"
    }
   ],
   "source": [
    "df2_phase5 = pd.read_csv('final-bogota-2-phase5.csv')\n",
    "df2_phase5 = df2_phase5.loc[:, ~df2_phase5.columns.str.contains('^Unnamed')]\n",
    "df2_phase5.head(5)"
   ]
  },
  {
   "cell_type": "code",
   "execution_count": 6,
   "id": "86361c90",
   "metadata": {},
   "outputs": [
    {
     "name": "stdout",
     "output_type": "stream",
     "text": [
      "Mean:  197.21536585365854\n",
      "Median:  178.33\n",
      "Standard Deviation:  105.7347776064612\n",
      "Max:  357.5\n",
      "Min:  0.0\n"
     ]
    }
   ],
   "source": [
    "print(\"Mean: \", df2_phase5['Total Score'].mean())\n",
    "print(\"Median: \", df2_phase5['Total Score'].median())\n",
    "print(\"Standard Deviation: \", df2_phase5['Total Score'].std())\n",
    "print(\"Max: \", df2_phase5['Total Score'].max())\n",
    "print(\"Min: \", df2_phase5['Total Score'].min())\n"
   ]
  },
  {
   "cell_type": "code",
   "execution_count": 7,
   "id": "174caaa4",
   "metadata": {},
   "outputs": [
    {
     "data": {
      "text/html": [
       "<div>\n",
       "<style scoped>\n",
       "    .dataframe tbody tr th:only-of-type {\n",
       "        vertical-align: middle;\n",
       "    }\n",
       "\n",
       "    .dataframe tbody tr th {\n",
       "        vertical-align: top;\n",
       "    }\n",
       "\n",
       "    .dataframe thead th {\n",
       "        text-align: right;\n",
       "    }\n",
       "</style>\n",
       "<table border=\"1\" class=\"dataframe\">\n",
       "  <thead>\n",
       "    <tr style=\"text-align: right;\">\n",
       "      <th></th>\n",
       "      <th>Project</th>\n",
       "      <th>Hack</th>\n",
       "      <th>Student</th>\n",
       "      <th>Total Score</th>\n",
       "      <th>The % of participants whose total score below your score</th>\n",
       "      <th>Phase</th>\n",
       "    </tr>\n",
       "  </thead>\n",
       "  <tbody>\n",
       "    <tr>\n",
       "      <th>0</th>\n",
       "      <td>NicolasPrr</td>\n",
       "      <td>Bogota-Hack-3-2017</td>\n",
       "      <td>NicolasPrr</td>\n",
       "      <td>360.83</td>\n",
       "      <td>97.62</td>\n",
       "      <td>5th Phase</td>\n",
       "    </tr>\n",
       "    <tr>\n",
       "      <th>1</th>\n",
       "      <td>jscastelblancoh</td>\n",
       "      <td>Bogota-Hack-3-2017</td>\n",
       "      <td>jscastelblancoh</td>\n",
       "      <td>358.33</td>\n",
       "      <td>95.24</td>\n",
       "      <td>5th Phase</td>\n",
       "    </tr>\n",
       "    <tr>\n",
       "      <th>2</th>\n",
       "      <td>juligarji</td>\n",
       "      <td>Bogota-Hack-3-2017</td>\n",
       "      <td>juligarji</td>\n",
       "      <td>355.00</td>\n",
       "      <td>92.86</td>\n",
       "      <td>5th Phase</td>\n",
       "    </tr>\n",
       "    <tr>\n",
       "      <th>3</th>\n",
       "      <td>lacardenasv</td>\n",
       "      <td>Bogota-Hack-3-2017</td>\n",
       "      <td>lacardenasv</td>\n",
       "      <td>350.00</td>\n",
       "      <td>90.48</td>\n",
       "      <td>5th Phase</td>\n",
       "    </tr>\n",
       "    <tr>\n",
       "      <th>4</th>\n",
       "      <td>jmalvarezd</td>\n",
       "      <td>Bogota-Hack-3-2017</td>\n",
       "      <td>jmalvarezd</td>\n",
       "      <td>348.75</td>\n",
       "      <td>88.10</td>\n",
       "      <td>5th Phase</td>\n",
       "    </tr>\n",
       "  </tbody>\n",
       "</table>\n",
       "</div>"
      ],
      "text/plain": [
       "           Project                Hack          Student  Total Score  \\\n",
       "0       NicolasPrr  Bogota-Hack-3-2017       NicolasPrr       360.83   \n",
       "1  jscastelblancoh  Bogota-Hack-3-2017  jscastelblancoh       358.33   \n",
       "2        juligarji  Bogota-Hack-3-2017        juligarji       355.00   \n",
       "3      lacardenasv  Bogota-Hack-3-2017      lacardenasv       350.00   \n",
       "4       jmalvarezd  Bogota-Hack-3-2017       jmalvarezd       348.75   \n",
       "\n",
       "   The % of participants whose total score below your score      Phase  \n",
       "0                                              97.62         5th Phase  \n",
       "1                                              95.24         5th Phase  \n",
       "2                                              92.86         5th Phase  \n",
       "3                                              90.48         5th Phase  \n",
       "4                                              88.10         5th Phase  "
      ]
     },
     "execution_count": 7,
     "metadata": {},
     "output_type": "execute_result"
    }
   ],
   "source": [
    "df3_phase5 = pd.read_csv('final-bogota-3-phase5.csv')\n",
    "df3_phase5 = df3_phase5.loc[:, ~df3_phase5.columns.str.contains('^Unnamed')]\n",
    "df3_phase5.head(5)"
   ]
  },
  {
   "cell_type": "code",
   "execution_count": 8,
   "id": "cad451a4",
   "metadata": {},
   "outputs": [
    {
     "name": "stdout",
     "output_type": "stream",
     "text": [
      "Mean:  212.67785714285714\n",
      "Median:  209.58\n",
      "Standard Deviation:  109.70842045935403\n",
      "Max:  360.83\n",
      "Min:  0.0\n"
     ]
    }
   ],
   "source": [
    "print(\"Mean: \", df3_phase5['Total Score'].mean())\n",
    "print(\"Median: \", df3_phase5['Total Score'].median())\n",
    "print(\"Standard Deviation: \", df3_phase5['Total Score'].std())\n",
    "print(\"Max: \", df3_phase5['Total Score'].max())\n",
    "print(\"Min: \", df3_phase5['Total Score'].min())\n"
   ]
  },
  {
   "cell_type": "code",
   "execution_count": 9,
   "id": "34d7ca8b",
   "metadata": {},
   "outputs": [
    {
     "data": {
      "text/html": [
       "<div>\n",
       "<style scoped>\n",
       "    .dataframe tbody tr th:only-of-type {\n",
       "        vertical-align: middle;\n",
       "    }\n",
       "\n",
       "    .dataframe tbody tr th {\n",
       "        vertical-align: top;\n",
       "    }\n",
       "\n",
       "    .dataframe thead th {\n",
       "        text-align: right;\n",
       "    }\n",
       "</style>\n",
       "<table border=\"1\" class=\"dataframe\">\n",
       "  <thead>\n",
       "    <tr style=\"text-align: right;\">\n",
       "      <th></th>\n",
       "      <th>Project</th>\n",
       "      <th>Hack</th>\n",
       "      <th>Student</th>\n",
       "      <th>Total Score</th>\n",
       "      <th>The % of participants whose total score below your score</th>\n",
       "      <th>Phase</th>\n",
       "    </tr>\n",
       "  </thead>\n",
       "  <tbody>\n",
       "    <tr>\n",
       "      <th>0</th>\n",
       "      <td>bsgarciac</td>\n",
       "      <td>Bogota-Hack-0-2017</td>\n",
       "      <td>bsgarciac</td>\n",
       "      <td>313.33</td>\n",
       "      <td>98.04</td>\n",
       "      <td>4th Phase</td>\n",
       "    </tr>\n",
       "    <tr>\n",
       "      <th>1</th>\n",
       "      <td>jdsuarezj</td>\n",
       "      <td>Bogota-Hack-0-2017</td>\n",
       "      <td>jdsuarezj</td>\n",
       "      <td>276.67</td>\n",
       "      <td>96.08</td>\n",
       "      <td>4th Phase</td>\n",
       "    </tr>\n",
       "    <tr>\n",
       "      <th>2</th>\n",
       "      <td>capinillab</td>\n",
       "      <td>Bogota-Hack-0-2017</td>\n",
       "      <td>capinillab</td>\n",
       "      <td>251.67</td>\n",
       "      <td>94.12</td>\n",
       "      <td>4th Phase</td>\n",
       "    </tr>\n",
       "    <tr>\n",
       "      <th>3</th>\n",
       "      <td>mnguzmanc</td>\n",
       "      <td>Bogota-Hack-0-2017</td>\n",
       "      <td>mnguzmanc</td>\n",
       "      <td>245.00</td>\n",
       "      <td>92.16</td>\n",
       "      <td>4th Phase</td>\n",
       "    </tr>\n",
       "    <tr>\n",
       "      <th>4</th>\n",
       "      <td>camilo654</td>\n",
       "      <td>Bogota-Hack-0-2017</td>\n",
       "      <td>camilo654</td>\n",
       "      <td>243.33</td>\n",
       "      <td>88.24</td>\n",
       "      <td>4th Phase</td>\n",
       "    </tr>\n",
       "  </tbody>\n",
       "</table>\n",
       "</div>"
      ],
      "text/plain": [
       "      Project                Hack     Student  Total Score  \\\n",
       "0   bsgarciac  Bogota-Hack-0-2017   bsgarciac       313.33   \n",
       "1   jdsuarezj  Bogota-Hack-0-2017   jdsuarezj       276.67   \n",
       "2  capinillab  Bogota-Hack-0-2017  capinillab       251.67   \n",
       "3   mnguzmanc  Bogota-Hack-0-2017   mnguzmanc       245.00   \n",
       "4   camilo654  Bogota-Hack-0-2017   camilo654       243.33   \n",
       "\n",
       "   The % of participants whose total score below your score      Phase  \n",
       "0                                              98.04         4th Phase  \n",
       "1                                              96.08         4th Phase  \n",
       "2                                              94.12         4th Phase  \n",
       "3                                              92.16         4th Phase  \n",
       "4                                              88.24         4th Phase  "
      ]
     },
     "execution_count": 9,
     "metadata": {},
     "output_type": "execute_result"
    }
   ],
   "source": [
    "df0_phase4 = pd.read_csv('final-bogota-0-phase4.csv')\n",
    "df0_phase4 = df0_phase4.loc[:, ~df0_phase4.columns.str.contains('^Unnamed')]\n",
    "df0_phase4.head(5)"
   ]
  },
  {
   "cell_type": "code",
   "execution_count": 10,
   "id": "55e330c7",
   "metadata": {},
   "outputs": [
    {
     "name": "stdout",
     "output_type": "stream",
     "text": [
      "Mean:  130.98282051282052\n",
      "Median:  128.33\n",
      "Standard Deviation:  94.7198177993424\n",
      "Max:  313.33\n",
      "Min:  0.0\n"
     ]
    }
   ],
   "source": [
    "print(\"Mean: \", df0_phase4['Total Score'].mean())\n",
    "print(\"Median: \", df0_phase4['Total Score'].median())\n",
    "print(\"Standard Deviation: \", df0_phase4['Total Score'].std())\n",
    "print(\"Max: \", df0_phase4['Total Score'].max())\n",
    "print(\"Min: \", df0_phase4['Total Score'].min())\n"
   ]
  },
  {
   "cell_type": "code",
   "execution_count": 11,
   "id": "10ace99c",
   "metadata": {},
   "outputs": [
    {
     "data": {
      "text/html": [
       "<div>\n",
       "<style scoped>\n",
       "    .dataframe tbody tr th:only-of-type {\n",
       "        vertical-align: middle;\n",
       "    }\n",
       "\n",
       "    .dataframe tbody tr th {\n",
       "        vertical-align: top;\n",
       "    }\n",
       "\n",
       "    .dataframe thead th {\n",
       "        text-align: right;\n",
       "    }\n",
       "</style>\n",
       "<table border=\"1\" class=\"dataframe\">\n",
       "  <thead>\n",
       "    <tr style=\"text-align: right;\">\n",
       "      <th></th>\n",
       "      <th>Project</th>\n",
       "      <th>Hack</th>\n",
       "      <th>Student</th>\n",
       "      <th>Total Score</th>\n",
       "      <th>The % of participants whose total score below your score</th>\n",
       "      <th>Phase</th>\n",
       "    </tr>\n",
       "  </thead>\n",
       "  <tbody>\n",
       "    <tr>\n",
       "      <th>0</th>\n",
       "      <td>oeroaq</td>\n",
       "      <td>Bogota-Hack-1-2017</td>\n",
       "      <td>oeroaq</td>\n",
       "      <td>350.00</td>\n",
       "      <td>97.67</td>\n",
       "      <td>4th Phase</td>\n",
       "    </tr>\n",
       "    <tr>\n",
       "      <th>1</th>\n",
       "      <td>jonatan360</td>\n",
       "      <td>Bogota-Hack-1-2017</td>\n",
       "      <td>jonatan360</td>\n",
       "      <td>343.33</td>\n",
       "      <td>95.35</td>\n",
       "      <td>4th Phase</td>\n",
       "    </tr>\n",
       "    <tr>\n",
       "      <th>2</th>\n",
       "      <td>jesusfchavarro</td>\n",
       "      <td>Bogota-Hack-1-2017</td>\n",
       "      <td>jesusfchavarro</td>\n",
       "      <td>333.33</td>\n",
       "      <td>93.02</td>\n",
       "      <td>4th Phase</td>\n",
       "    </tr>\n",
       "    <tr>\n",
       "      <th>3</th>\n",
       "      <td>daandradec</td>\n",
       "      <td>Bogota-Hack-1-2017</td>\n",
       "      <td>daandradec</td>\n",
       "      <td>318.75</td>\n",
       "      <td>90.70</td>\n",
       "      <td>4th Phase</td>\n",
       "    </tr>\n",
       "    <tr>\n",
       "      <th>4</th>\n",
       "      <td>diegoaguevarar</td>\n",
       "      <td>Bogota-Hack-1-2017</td>\n",
       "      <td>diegoaguevarar</td>\n",
       "      <td>312.50</td>\n",
       "      <td>88.37</td>\n",
       "      <td>4th Phase</td>\n",
       "    </tr>\n",
       "  </tbody>\n",
       "</table>\n",
       "</div>"
      ],
      "text/plain": [
       "          Project                Hack         Student  Total Score  \\\n",
       "0          oeroaq  Bogota-Hack-1-2017          oeroaq       350.00   \n",
       "1      jonatan360  Bogota-Hack-1-2017      jonatan360       343.33   \n",
       "2  jesusfchavarro  Bogota-Hack-1-2017  jesusfchavarro       333.33   \n",
       "3      daandradec  Bogota-Hack-1-2017      daandradec       318.75   \n",
       "4  diegoaguevarar  Bogota-Hack-1-2017  diegoaguevarar       312.50   \n",
       "\n",
       "   The % of participants whose total score below your score      Phase  \n",
       "0                                              97.67         4th Phase  \n",
       "1                                              95.35         4th Phase  \n",
       "2                                              93.02         4th Phase  \n",
       "3                                              90.70         4th Phase  \n",
       "4                                              88.37         4th Phase  "
      ]
     },
     "execution_count": 11,
     "metadata": {},
     "output_type": "execute_result"
    }
   ],
   "source": [
    "df1_phase4 = pd.read_csv('final-bogota-1-phase4.csv')\n",
    "df1_phase4 = df1_phase4.loc[:, ~df1_phase4.columns.str.contains('^Unnamed')]\n",
    "df1_phase4.head(5)"
   ]
  },
  {
   "cell_type": "code",
   "execution_count": 12,
   "id": "09837533",
   "metadata": {},
   "outputs": [
    {
     "name": "stdout",
     "output_type": "stream",
     "text": [
      "Mean:  178.31780487804878\n",
      "Median:  174.17\n",
      "Standard Deviation:  103.97657485011216\n",
      "Max:  350.0\n",
      "Min:  0.0\n"
     ]
    }
   ],
   "source": [
    "print(\"Mean: \", df1_phase4['Total Score'].mean())\n",
    "print(\"Median: \", df1_phase4['Total Score'].median())\n",
    "print(\"Standard Deviation: \", df1_phase4['Total Score'].std())\n",
    "print(\"Max: \", df1_phase4['Total Score'].max())\n",
    "print(\"Min: \", df1_phase4['Total Score'].min())\n"
   ]
  },
  {
   "cell_type": "code",
   "execution_count": 13,
   "id": "af9d7e9d",
   "metadata": {},
   "outputs": [
    {
     "data": {
      "text/html": [
       "<div>\n",
       "<style scoped>\n",
       "    .dataframe tbody tr th:only-of-type {\n",
       "        vertical-align: middle;\n",
       "    }\n",
       "\n",
       "    .dataframe tbody tr th {\n",
       "        vertical-align: top;\n",
       "    }\n",
       "\n",
       "    .dataframe thead th {\n",
       "        text-align: right;\n",
       "    }\n",
       "</style>\n",
       "<table border=\"1\" class=\"dataframe\">\n",
       "  <thead>\n",
       "    <tr style=\"text-align: right;\">\n",
       "      <th></th>\n",
       "      <th>Project</th>\n",
       "      <th>Hack</th>\n",
       "      <th>Student</th>\n",
       "      <th>Total Score</th>\n",
       "      <th>The % of participants whose total score below your score</th>\n",
       "      <th>Phase</th>\n",
       "    </tr>\n",
       "  </thead>\n",
       "  <tbody>\n",
       "    <tr>\n",
       "      <th>0</th>\n",
       "      <td>fabianr23</td>\n",
       "      <td>Bogota-Hack-2-2017</td>\n",
       "      <td>fabianr23</td>\n",
       "      <td>358.33</td>\n",
       "      <td>97.62</td>\n",
       "      <td>4th Phase</td>\n",
       "    </tr>\n",
       "    <tr>\n",
       "      <th>1</th>\n",
       "      <td>jhriverasa</td>\n",
       "      <td>Bogota-Hack-2-2017</td>\n",
       "      <td>jhriverasa</td>\n",
       "      <td>333.33</td>\n",
       "      <td>95.24</td>\n",
       "      <td>4th Phase</td>\n",
       "    </tr>\n",
       "    <tr>\n",
       "      <th>2</th>\n",
       "      <td>JuanitoAli</td>\n",
       "      <td>Bogota-Hack-2-2017</td>\n",
       "      <td>JuanitoAli</td>\n",
       "      <td>325.00</td>\n",
       "      <td>92.86</td>\n",
       "      <td>4th Phase</td>\n",
       "    </tr>\n",
       "    <tr>\n",
       "      <th>3</th>\n",
       "      <td>juasmartinezbel</td>\n",
       "      <td>Bogota-Hack-2-2017</td>\n",
       "      <td>juasmartinezbel</td>\n",
       "      <td>320.83</td>\n",
       "      <td>90.48</td>\n",
       "      <td>4th Phase</td>\n",
       "    </tr>\n",
       "    <tr>\n",
       "      <th>4</th>\n",
       "      <td>Davsatu313</td>\n",
       "      <td>Bogota-Hack-2-2017</td>\n",
       "      <td>Davsatu313</td>\n",
       "      <td>300.83</td>\n",
       "      <td>88.10</td>\n",
       "      <td>4th Phase</td>\n",
       "    </tr>\n",
       "  </tbody>\n",
       "</table>\n",
       "</div>"
      ],
      "text/plain": [
       "           Project                Hack          Student  Total Score  \\\n",
       "0        fabianr23  Bogota-Hack-2-2017        fabianr23       358.33   \n",
       "1       jhriverasa  Bogota-Hack-2-2017       jhriverasa       333.33   \n",
       "2       JuanitoAli  Bogota-Hack-2-2017       JuanitoAli       325.00   \n",
       "3  juasmartinezbel  Bogota-Hack-2-2017  juasmartinezbel       320.83   \n",
       "4       Davsatu313  Bogota-Hack-2-2017       Davsatu313       300.83   \n",
       "\n",
       "   The % of participants whose total score below your score      Phase  \n",
       "0                                              97.62         4th Phase  \n",
       "1                                              95.24         4th Phase  \n",
       "2                                              92.86         4th Phase  \n",
       "3                                              90.48         4th Phase  \n",
       "4                                              88.10         4th Phase  "
      ]
     },
     "execution_count": 13,
     "metadata": {},
     "output_type": "execute_result"
    }
   ],
   "source": [
    "df2_phase4 = pd.read_csv('final-bogota-2-phase4.csv')\n",
    "df2_phase4 = df2_phase4.loc[:, ~df2_phase4.columns.str.contains('^Unnamed')]\n",
    "df2_phase4.head(5)"
   ]
  },
  {
   "cell_type": "code",
   "execution_count": 14,
   "id": "ad7196da",
   "metadata": {},
   "outputs": [
    {
     "name": "stdout",
     "output_type": "stream",
     "text": [
      "Mean:  159.01926829268294\n",
      "Median:  137.5\n",
      "Standard Deviation:  99.50059490752413\n",
      "Max:  358.33\n",
      "Min:  0.0\n"
     ]
    }
   ],
   "source": [
    "print(\"Mean: \", df2_phase4['Total Score'].mean())\n",
    "print(\"Median: \", df2_phase4['Total Score'].median())\n",
    "print(\"Standard Deviation: \", df2_phase4['Total Score'].std())\n",
    "print(\"Max: \", df2_phase4['Total Score'].max())\n",
    "print(\"Min: \", df2_phase4['Total Score'].min())\n"
   ]
  },
  {
   "cell_type": "code",
   "execution_count": 15,
   "id": "030cf6f1",
   "metadata": {},
   "outputs": [
    {
     "data": {
      "text/html": [
       "<div>\n",
       "<style scoped>\n",
       "    .dataframe tbody tr th:only-of-type {\n",
       "        vertical-align: middle;\n",
       "    }\n",
       "\n",
       "    .dataframe tbody tr th {\n",
       "        vertical-align: top;\n",
       "    }\n",
       "\n",
       "    .dataframe thead th {\n",
       "        text-align: right;\n",
       "    }\n",
       "</style>\n",
       "<table border=\"1\" class=\"dataframe\">\n",
       "  <thead>\n",
       "    <tr style=\"text-align: right;\">\n",
       "      <th></th>\n",
       "      <th>Project</th>\n",
       "      <th>Hack</th>\n",
       "      <th>Student</th>\n",
       "      <th>Total Score</th>\n",
       "      <th>The % of participants whose total score below your score</th>\n",
       "      <th>Phase</th>\n",
       "    </tr>\n",
       "  </thead>\n",
       "  <tbody>\n",
       "    <tr>\n",
       "      <th>0</th>\n",
       "      <td>juligarji</td>\n",
       "      <td>Bogota-Hack-3-2017</td>\n",
       "      <td>juligarji</td>\n",
       "      <td>358.33</td>\n",
       "      <td>97.62</td>\n",
       "      <td>4th Phase</td>\n",
       "    </tr>\n",
       "    <tr>\n",
       "      <th>1</th>\n",
       "      <td>lgmoralesa</td>\n",
       "      <td>Bogota-Hack-3-2017</td>\n",
       "      <td>lgmoralesa</td>\n",
       "      <td>337.50</td>\n",
       "      <td>95.24</td>\n",
       "      <td>4th Phase</td>\n",
       "    </tr>\n",
       "    <tr>\n",
       "      <th>2</th>\n",
       "      <td>jscastelblancoh</td>\n",
       "      <td>Bogota-Hack-3-2017</td>\n",
       "      <td>jscastelblancoh</td>\n",
       "      <td>316.67</td>\n",
       "      <td>92.86</td>\n",
       "      <td>4th Phase</td>\n",
       "    </tr>\n",
       "    <tr>\n",
       "      <th>3</th>\n",
       "      <td>jumcorredorro</td>\n",
       "      <td>Bogota-Hack-3-2017</td>\n",
       "      <td>jumcorredorro</td>\n",
       "      <td>305.00</td>\n",
       "      <td>90.48</td>\n",
       "      <td>4th Phase</td>\n",
       "    </tr>\n",
       "    <tr>\n",
       "      <th>4</th>\n",
       "      <td>lemartinp</td>\n",
       "      <td>Bogota-Hack-3-2017</td>\n",
       "      <td>lemartinp</td>\n",
       "      <td>300.83</td>\n",
       "      <td>88.10</td>\n",
       "      <td>4th Phase</td>\n",
       "    </tr>\n",
       "  </tbody>\n",
       "</table>\n",
       "</div>"
      ],
      "text/plain": [
       "           Project                Hack          Student  Total Score  \\\n",
       "0        juligarji  Bogota-Hack-3-2017        juligarji       358.33   \n",
       "1       lgmoralesa  Bogota-Hack-3-2017       lgmoralesa       337.50   \n",
       "2  jscastelblancoh  Bogota-Hack-3-2017  jscastelblancoh       316.67   \n",
       "3    jumcorredorro  Bogota-Hack-3-2017    jumcorredorro       305.00   \n",
       "4        lemartinp  Bogota-Hack-3-2017        lemartinp       300.83   \n",
       "\n",
       "   The % of participants whose total score below your score      Phase  \n",
       "0                                              97.62         4th Phase  \n",
       "1                                              95.24         4th Phase  \n",
       "2                                              92.86         4th Phase  \n",
       "3                                              90.48         4th Phase  \n",
       "4                                              88.10         4th Phase  "
      ]
     },
     "execution_count": 15,
     "metadata": {},
     "output_type": "execute_result"
    }
   ],
   "source": [
    "df3_phase4 = pd.read_csv('final-bogota-3-phase4.csv')\n",
    "df3_phase4 = df3_phase4.loc[:, ~df3_phase4.columns.str.contains('^Unnamed')]\n",
    "df3_phase4.head(5)"
   ]
  },
  {
   "cell_type": "code",
   "execution_count": 16,
   "id": "5e43c33b",
   "metadata": {},
   "outputs": [
    {
     "name": "stdout",
     "output_type": "stream",
     "text": [
      "Mean:  160.15785714285713\n",
      "Median:  145.41500000000002\n",
      "Standard Deviation:  96.17523362897983\n",
      "Max:  358.33\n",
      "Min:  0.0\n"
     ]
    }
   ],
   "source": [
    "print(\"Mean: \", df3_phase4['Total Score'].mean())\n",
    "print(\"Median: \", df3_phase4['Total Score'].median())\n",
    "print(\"Standard Deviation: \", df3_phase4['Total Score'].std())\n",
    "print(\"Max: \", df3_phase4['Total Score'].max())\n",
    "print(\"Min: \", df3_phase4['Total Score'].min())\n"
   ]
  },
  {
   "cell_type": "markdown",
   "id": "ab0de843",
   "metadata": {},
   "source": [
    "# Improvement Score Bogota 3"
   ]
  },
  {
   "cell_type": "code",
   "execution_count": 17,
   "id": "b1d7b5dc",
   "metadata": {},
   "outputs": [
    {
     "data": {
      "text/plain": [
       "array([ 2.5 , 20.83, 38.33, 45.  , 47.92, 74.16, 80.83, 64.17, 67.5 ,\n",
       "       81.67, 66.67, 83.34, 81.25, 73.34, 83.75, 80.  , 89.59, 82.5 ,\n",
       "       80.  , 72.08, 63.75, 64.58, 75.  , 82.5 , 77.5 , 76.25, 70.  ,\n",
       "       62.5 , 61.67, 45.84, 32.5 , 16.66, 28.33, 20.83, 25.  , 12.5 ,\n",
       "        0.  , 75.  ,  0.  ,  0.  ,  0.  ,  0.  ])"
      ]
     },
     "execution_count": 17,
     "metadata": {},
     "output_type": "execute_result"
    }
   ],
   "source": [
    "diff3 = df3_phase5['Total Score'] - df3_phase4['Total Score']\n",
    "diff3.values"
   ]
  },
  {
   "cell_type": "markdown",
   "id": "269b69b5",
   "metadata": {},
   "source": [
    "# Improvement Score Bogota 2"
   ]
  },
  {
   "cell_type": "code",
   "execution_count": 18,
   "id": "7b693b35",
   "metadata": {},
   "outputs": [
    {
     "data": {
      "text/plain": [
       "array([-0.83, 12.5 , 14.17, 16.67, 25.84, 35.83, 41.04, 42.71, 80.83,\n",
       "       80.  , 94.17, 91.46, 69.16, 65.83, 62.5 , 28.33, 66.67, 58.34,\n",
       "       37.5 , 34.17, 40.83, 42.5 , 40.83, 34.16, 37.5 , 36.67, 37.5 ,\n",
       "       30.  , 20.83, 17.5 , 18.33, 20.  , 25.  , 12.5 , 25.  , 50.  ,\n",
       "       75.  , 45.  ,  0.  ,  0.  ,  0.  ])"
      ]
     },
     "execution_count": 18,
     "metadata": {},
     "output_type": "execute_result"
    }
   ],
   "source": [
    "diff2 = df2_phase5['Total Score'] - df2_phase4['Total Score']\n",
    "diff2.values"
   ]
  },
  {
   "cell_type": "markdown",
   "id": "c9311cfe",
   "metadata": {},
   "source": [
    "# Improvement Score Bogota 1"
   ]
  },
  {
   "cell_type": "code",
   "execution_count": 19,
   "id": "6d2e4e12",
   "metadata": {},
   "outputs": [
    {
     "data": {
      "text/plain": [
       "array([ 7.5 ,  9.17, 11.67, 17.92, 21.67, 30.  , 37.71, 38.33, 36.67,\n",
       "       35.  , 32.5 , 19.16,  4.17, -2.08, -4.17, 11.67, 12.5 , 14.17,\n",
       "       33.34, 28.34, 24.16, 32.08, 33.33, 29.17, 33.33, 37.5 ,  7.5 ,\n",
       "        5.  ,  0.  ,  0.  ,  5.  ,  9.17,  0.83,  7.5 , 12.5 , 12.5 ,\n",
       "        0.  ,  0.  ,  0.  ,  0.  ,  0.  ])"
      ]
     },
     "execution_count": 19,
     "metadata": {},
     "output_type": "execute_result"
    }
   ],
   "source": [
    "diff1 = df1_phase5['Total Score'] - df1_phase4['Total Score']\n",
    "diff1.values"
   ]
  },
  {
   "cell_type": "markdown",
   "id": "008722e0",
   "metadata": {},
   "source": [
    "# Improvement Score Bogota 0"
   ]
  },
  {
   "cell_type": "code",
   "execution_count": 20,
   "id": "2bb355f7",
   "metadata": {},
   "outputs": [
    {
     "data": {
      "text/plain": [
       "array([39.59, 48.33, 69.16, 59.17, 46.67, 33.34, 30.  , 43.34, 43.33,\n",
       "       39.16, 38.34, 30.  , 33.33, 31.67, 30.42, 33.34, 36.67, 47.5 ,\n",
       "       63.33, 62.5 , 55.83, 36.67, 41.66, 33.34, 16.66, 24.17, 16.66,\n",
       "       17.5 , 37.5 ,  5.  , 25.  , 49.17,  0.  ,  0.  ,  0.  ,  0.  ,\n",
       "        0.  ,  0.  ,  0.  ])"
      ]
     },
     "execution_count": 20,
     "metadata": {},
     "output_type": "execute_result"
    }
   ],
   "source": [
    "diff0 = df0_phase5['Total Score'] - df0_phase4['Total Score']\n",
    "diff0.values"
   ]
  },
  {
   "cell_type": "markdown",
   "id": "7f628873",
   "metadata": {},
   "source": [
    "# ANOVA Analysis Phase 4 - 5"
   ]
  },
  {
   "cell_type": "code",
   "execution_count": 21,
   "id": "54c5a262",
   "metadata": {},
   "outputs": [
    {
     "name": "stdout",
     "output_type": "stream",
     "text": [
      "18.138769455075185 3.57343138982153e-10\n"
     ]
    }
   ],
   "source": [
    "import scipy.stats as stats\n",
    "# stats f_oneway functions takes the groups as input and returns ANOVA F and p value\n",
    "fvalue, pvalue = stats.f_oneway(diff0, diff1, diff2, diff3)\n",
    "print(fvalue, pvalue)"
   ]
  },
  {
   "cell_type": "code",
   "execution_count": 22,
   "id": "eac62b43",
   "metadata": {},
   "outputs": [
    {
     "data": {
      "text/plain": [
       "39"
      ]
     },
     "execution_count": 22,
     "metadata": {},
     "output_type": "execute_result"
    }
   ],
   "source": [
    "len(df0_phase5.index)"
   ]
  },
  {
   "cell_type": "code",
   "execution_count": 23,
   "id": "6f5903a3",
   "metadata": {},
   "outputs": [
    {
     "data": {
      "text/plain": [
       "41"
      ]
     },
     "execution_count": 23,
     "metadata": {},
     "output_type": "execute_result"
    }
   ],
   "source": [
    "len(df1_phase5.index)"
   ]
  },
  {
   "cell_type": "code",
   "execution_count": 24,
   "id": "42239671",
   "metadata": {},
   "outputs": [
    {
     "data": {
      "text/plain": [
       "41"
      ]
     },
     "execution_count": 24,
     "metadata": {},
     "output_type": "execute_result"
    }
   ],
   "source": [
    "len(df2_phase5.index)"
   ]
  },
  {
   "cell_type": "code",
   "execution_count": 25,
   "id": "09d98822",
   "metadata": {},
   "outputs": [
    {
     "data": {
      "text/plain": [
       "42"
      ]
     },
     "execution_count": 25,
     "metadata": {},
     "output_type": "execute_result"
    }
   ],
   "source": [
    "len(df3_phase5.index)"
   ]
  },
  {
   "cell_type": "code",
   "execution_count": 26,
   "id": "1a6fe251",
   "metadata": {},
   "outputs": [],
   "source": [
    "import pandas as pd\n",
    "import numpy as np\n",
    "\n",
    "df_anova45 = pd.DataFrame({'score': [39.59, 48.33, 69.16, 59.17, 46.67, 33.34, 30.  , 43.34, 43.33,\n",
    "       39.16, 38.34, 30.  , 33.33, 31.67, 30.42, 33.34, 36.67, 47.5 ,\n",
    "       63.33, 62.5 , 55.83, 36.67, 41.66, 33.34, 16.66, 24.17, 16.66,\n",
    "       17.5 , 37.5 ,  5.  , 25.  , 49.17,  0.  ,  0.  ,  0.  ,  0.  ,\n",
    "        0.  ,  0.  ,  0. , 7.5 ,  9.17, 11.67, 17.92, 21.67, 30.  , 37.71, 38.33, 36.67,\n",
    "       35.  , 32.5 , 19.16,  4.17, -2.08, -4.17, 11.67, 12.5 , 14.17,\n",
    "       33.34, 28.34, 24.16, 32.08, 33.33, 29.17, 33.33, 37.5 ,  7.5 ,\n",
    "        5.  ,  0.  ,  0.  ,  5.  ,  9.17,  0.83,  7.5 , 12.5 , 12.5 ,\n",
    "        0.  ,  0.  ,  0.  ,  0.  ,  0. , -0.83, 12.5 , 14.17, 16.67, 25.84, 35.83, 41.04, 42.71, 80.83,\n",
    "       80.  , 94.17, 91.46, 69.16, 65.83, 62.5 , 28.33, 66.67, 58.34,\n",
    "       37.5 , 34.17, 40.83, 42.5 , 40.83, 34.16, 37.5 , 36.67, 37.5 ,\n",
    "       30.  , 20.83, 17.5 , 18.33, 20.  , 25.  , 12.5 , 25.  , 50.  ,\n",
    "       75.  , 45.  ,  0.  ,  0.  ,  0. , 2.5 , 20.83, 38.33, 45.  , 47.92, 74.16, 80.83, 64.17, 67.5 ,\n",
    "       81.67, 66.67, 83.34, 81.25, 73.34, 83.75, 80.  , 89.59, 82.5 ,\n",
    "       80.  , 72.08, 63.75, 64.58, 75.  , 82.5 , 77.5 , 76.25, 70.  ,\n",
    "       62.5 , 61.67, 45.84, 32.5 , 16.66, 28.33, 20.83, 25.  , 12.5 ,\n",
    "        0.  , 75.  ,  0.  ,  0.  ,  0.  ,  0.  ],\n",
    "                   'group': np.repeat([0, 1, 2, 3], repeats=[39, 41, 41, 42])})"
   ]
  },
  {
   "cell_type": "markdown",
   "id": "b27117bf",
   "metadata": {},
   "source": [
    "# Tukey Test Phase 4 - 5"
   ]
  },
  {
   "cell_type": "code",
   "execution_count": 27,
   "id": "ea0718a0",
   "metadata": {},
   "outputs": [
    {
     "name": "stdout",
     "output_type": "stream",
     "text": [
      " Multiple Comparison of Means - Tukey HSD, FWER=0.05 \n",
      "=====================================================\n",
      "group1 group2 meandiff p-adj   lower    upper  reject\n",
      "-----------------------------------------------------\n",
      "     0      1 -15.5127 0.0163 -28.9346 -2.0908   True\n",
      "     0      2   6.9564 0.5313  -6.4656 20.3783  False\n",
      "     0      3  21.2803  0.001   7.9365  34.624   True\n",
      "     1      2   22.469  0.001    9.216 35.7221   True\n",
      "     1      3  36.7929  0.001   23.619 49.9669   True\n",
      "     2      3  14.3239 0.0272     1.15 27.4978   True\n",
      "-----------------------------------------------------\n"
     ]
    }
   ],
   "source": [
    "from statsmodels.stats.multicomp import pairwise_tukeyhsd\n",
    "\n",
    "\n",
    "# perform Tukey's test\n",
    "tukey = pairwise_tukeyhsd(endog=df_anova45['score'],\n",
    "                          groups=df_anova45['group'],\n",
    "                          alpha=0.05)\n",
    "\n",
    "#display results\n",
    "print(tukey)"
   ]
  },
  {
   "cell_type": "code",
   "execution_count": 28,
   "id": "a4af3d21",
   "metadata": {},
   "outputs": [
    {
     "data": {
      "text/html": [
       "<div>\n",
       "<style scoped>\n",
       "    .dataframe tbody tr th:only-of-type {\n",
       "        vertical-align: middle;\n",
       "    }\n",
       "\n",
       "    .dataframe tbody tr th {\n",
       "        vertical-align: top;\n",
       "    }\n",
       "\n",
       "    .dataframe thead th {\n",
       "        text-align: right;\n",
       "    }\n",
       "</style>\n",
       "<table border=\"1\" class=\"dataframe\">\n",
       "  <thead>\n",
       "    <tr style=\"text-align: right;\">\n",
       "      <th></th>\n",
       "      <th>Project</th>\n",
       "      <th>Hack</th>\n",
       "      <th>Student</th>\n",
       "      <th>Total Score</th>\n",
       "      <th>The % of participants whose total score below your score</th>\n",
       "      <th>Phase</th>\n",
       "    </tr>\n",
       "  </thead>\n",
       "  <tbody>\n",
       "    <tr>\n",
       "      <th>0</th>\n",
       "      <td>jumcorredorro</td>\n",
       "      <td>Bogota-Hack-3-2017</td>\n",
       "      <td>jumcorredorro</td>\n",
       "      <td>330.00</td>\n",
       "      <td>97.62</td>\n",
       "      <td>3rd Phase</td>\n",
       "    </tr>\n",
       "    <tr>\n",
       "      <th>1</th>\n",
       "      <td>lgmoralesa</td>\n",
       "      <td>Bogota-Hack-3-2017</td>\n",
       "      <td>lgmoralesa</td>\n",
       "      <td>310.00</td>\n",
       "      <td>95.24</td>\n",
       "      <td>3rd Phase</td>\n",
       "    </tr>\n",
       "    <tr>\n",
       "      <th>2</th>\n",
       "      <td>dduartec</td>\n",
       "      <td>Bogota-Hack-3-2017</td>\n",
       "      <td>dduartec</td>\n",
       "      <td>305.00</td>\n",
       "      <td>92.86</td>\n",
       "      <td>3rd Phase</td>\n",
       "    </tr>\n",
       "    <tr>\n",
       "      <th>3</th>\n",
       "      <td>jmalvarezd</td>\n",
       "      <td>Bogota-Hack-3-2017</td>\n",
       "      <td>jmalvarezd</td>\n",
       "      <td>275.00</td>\n",
       "      <td>90.48</td>\n",
       "      <td>3rd Phase</td>\n",
       "    </tr>\n",
       "    <tr>\n",
       "      <th>4</th>\n",
       "      <td>lacardenasv</td>\n",
       "      <td>Bogota-Hack-3-2017</td>\n",
       "      <td>lacardenasv</td>\n",
       "      <td>264.17</td>\n",
       "      <td>88.10</td>\n",
       "      <td>3rd Phase</td>\n",
       "    </tr>\n",
       "  </tbody>\n",
       "</table>\n",
       "</div>"
      ],
      "text/plain": [
       "         Project                Hack        Student  Total Score  \\\n",
       "0  jumcorredorro  Bogota-Hack-3-2017  jumcorredorro       330.00   \n",
       "1     lgmoralesa  Bogota-Hack-3-2017     lgmoralesa       310.00   \n",
       "2       dduartec  Bogota-Hack-3-2017       dduartec       305.00   \n",
       "3     jmalvarezd  Bogota-Hack-3-2017     jmalvarezd       275.00   \n",
       "4    lacardenasv  Bogota-Hack-3-2017    lacardenasv       264.17   \n",
       "\n",
       "   The % of participants whose total score below your score      Phase  \n",
       "0                                              97.62         3rd Phase  \n",
       "1                                              95.24         3rd Phase  \n",
       "2                                              92.86         3rd Phase  \n",
       "3                                              90.48         3rd Phase  \n",
       "4                                              88.10         3rd Phase  "
      ]
     },
     "execution_count": 28,
     "metadata": {},
     "output_type": "execute_result"
    }
   ],
   "source": [
    "df3_phase3 = pd.read_csv('final-bogota-3-phase3.csv')\n",
    "df3_phase3 = df3_phase3.loc[:, ~df3_phase3.columns.str.contains('^Unnamed')]\n",
    "df3_phase3.head(5)"
   ]
  },
  {
   "cell_type": "code",
   "execution_count": 29,
   "id": "7cd3098e",
   "metadata": {},
   "outputs": [
    {
     "name": "stdout",
     "output_type": "stream",
     "text": [
      "Mean:  147.32071428571427\n",
      "Median:  135.0\n",
      "Standard Deviation:  83.63611582449929\n",
      "Max:  330.0\n",
      "Min:  0.0\n"
     ]
    }
   ],
   "source": [
    "print(\"Mean: \", df3_phase3['Total Score'].mean())\n",
    "print(\"Median: \", df3_phase3['Total Score'].median())\n",
    "print(\"Standard Deviation: \", df3_phase3['Total Score'].std())\n",
    "print(\"Max: \", df3_phase3['Total Score'].max())\n",
    "print(\"Min: \", df3_phase3['Total Score'].min())\n"
   ]
  },
  {
   "cell_type": "code",
   "execution_count": 30,
   "id": "4bc992c8",
   "metadata": {},
   "outputs": [
    {
     "data": {
      "text/html": [
       "<div>\n",
       "<style scoped>\n",
       "    .dataframe tbody tr th:only-of-type {\n",
       "        vertical-align: middle;\n",
       "    }\n",
       "\n",
       "    .dataframe tbody tr th {\n",
       "        vertical-align: top;\n",
       "    }\n",
       "\n",
       "    .dataframe thead th {\n",
       "        text-align: right;\n",
       "    }\n",
       "</style>\n",
       "<table border=\"1\" class=\"dataframe\">\n",
       "  <thead>\n",
       "    <tr style=\"text-align: right;\">\n",
       "      <th></th>\n",
       "      <th>Project</th>\n",
       "      <th>Hack</th>\n",
       "      <th>Student</th>\n",
       "      <th>Total Score</th>\n",
       "      <th>The % of participants whose total score below your score</th>\n",
       "      <th>Phase</th>\n",
       "    </tr>\n",
       "  </thead>\n",
       "  <tbody>\n",
       "    <tr>\n",
       "      <th>0</th>\n",
       "      <td>fabianr23</td>\n",
       "      <td>Bogota-Hack-2-2017</td>\n",
       "      <td>fabianr23</td>\n",
       "      <td>358.33</td>\n",
       "      <td>97.62</td>\n",
       "      <td>3rd Phase</td>\n",
       "    </tr>\n",
       "    <tr>\n",
       "      <th>1</th>\n",
       "      <td>Davsatu313</td>\n",
       "      <td>Bogota-Hack-2-2017</td>\n",
       "      <td>Davsatu313</td>\n",
       "      <td>320.83</td>\n",
       "      <td>95.24</td>\n",
       "      <td>3rd Phase</td>\n",
       "    </tr>\n",
       "    <tr>\n",
       "      <th>2</th>\n",
       "      <td>jhriverasa</td>\n",
       "      <td>Bogota-Hack-2-2017</td>\n",
       "      <td>jhriverasa</td>\n",
       "      <td>312.50</td>\n",
       "      <td>92.86</td>\n",
       "      <td>3rd Phase</td>\n",
       "    </tr>\n",
       "    <tr>\n",
       "      <th>3</th>\n",
       "      <td>jscontrerasp</td>\n",
       "      <td>Bogota-Hack-2-2017</td>\n",
       "      <td>joaortizro</td>\n",
       "      <td>305.00</td>\n",
       "      <td>90.48</td>\n",
       "      <td>3rd Phase</td>\n",
       "    </tr>\n",
       "    <tr>\n",
       "      <th>4</th>\n",
       "      <td>juasmartinezbel</td>\n",
       "      <td>Bogota-Hack-2-2017</td>\n",
       "      <td>juasmartinezbel</td>\n",
       "      <td>293.33</td>\n",
       "      <td>88.10</td>\n",
       "      <td>3rd Phase</td>\n",
       "    </tr>\n",
       "  </tbody>\n",
       "</table>\n",
       "</div>"
      ],
      "text/plain": [
       "           Project                Hack          Student  Total Score  \\\n",
       "0        fabianr23  Bogota-Hack-2-2017        fabianr23       358.33   \n",
       "1       Davsatu313  Bogota-Hack-2-2017       Davsatu313       320.83   \n",
       "2       jhriverasa  Bogota-Hack-2-2017       jhriverasa       312.50   \n",
       "3     jscontrerasp  Bogota-Hack-2-2017       joaortizro       305.00   \n",
       "4  juasmartinezbel  Bogota-Hack-2-2017  juasmartinezbel       293.33   \n",
       "\n",
       "   The % of participants whose total score below your score      Phase  \n",
       "0                                              97.62         3rd Phase  \n",
       "1                                              95.24         3rd Phase  \n",
       "2                                              92.86         3rd Phase  \n",
       "3                                              90.48         3rd Phase  \n",
       "4                                              88.10         3rd Phase  "
      ]
     },
     "execution_count": 30,
     "metadata": {},
     "output_type": "execute_result"
    }
   ],
   "source": [
    "df2_phase3 = pd.read_csv('final-bogota-2-phase3.csv')\n",
    "df2_phase3 = df2_phase3.loc[:, ~df2_phase3.columns.str.contains('^Unnamed')]\n",
    "df2_phase3.head(5)"
   ]
  },
  {
   "cell_type": "code",
   "execution_count": 31,
   "id": "d2b26d33",
   "metadata": {},
   "outputs": [
    {
     "name": "stdout",
     "output_type": "stream",
     "text": [
      "Mean:  154.15365853658534\n",
      "Median:  133.33\n",
      "Standard Deviation:  93.16796465942834\n",
      "Max:  358.33\n",
      "Min:  0.0\n"
     ]
    }
   ],
   "source": [
    "print(\"Mean: \", df2_phase3['Total Score'].mean())\n",
    "print(\"Median: \", df2_phase3['Total Score'].median())\n",
    "print(\"Standard Deviation: \", df2_phase3['Total Score'].std())\n",
    "print(\"Max: \", df2_phase3['Total Score'].max())\n",
    "print(\"Min: \", df2_phase3['Total Score'].min())"
   ]
  },
  {
   "cell_type": "code",
   "execution_count": 32,
   "id": "cab29d59",
   "metadata": {},
   "outputs": [
    {
     "data": {
      "text/html": [
       "<div>\n",
       "<style scoped>\n",
       "    .dataframe tbody tr th:only-of-type {\n",
       "        vertical-align: middle;\n",
       "    }\n",
       "\n",
       "    .dataframe tbody tr th {\n",
       "        vertical-align: top;\n",
       "    }\n",
       "\n",
       "    .dataframe thead th {\n",
       "        text-align: right;\n",
       "    }\n",
       "</style>\n",
       "<table border=\"1\" class=\"dataframe\">\n",
       "  <thead>\n",
       "    <tr style=\"text-align: right;\">\n",
       "      <th></th>\n",
       "      <th>Project</th>\n",
       "      <th>Hack</th>\n",
       "      <th>Student</th>\n",
       "      <th>Total Score</th>\n",
       "      <th>The % of participants whose total score below your score</th>\n",
       "      <th>Phase</th>\n",
       "    </tr>\n",
       "  </thead>\n",
       "  <tbody>\n",
       "    <tr>\n",
       "      <th>0</th>\n",
       "      <td>jesusfchavarro</td>\n",
       "      <td>Bogota-Hack-1-2017</td>\n",
       "      <td>jesusfchavarro</td>\n",
       "      <td>345.83</td>\n",
       "      <td>97.67</td>\n",
       "      <td>3rd Phase</td>\n",
       "    </tr>\n",
       "    <tr>\n",
       "      <th>1</th>\n",
       "      <td>falperezgo</td>\n",
       "      <td>Bogota-Hack-1-2017</td>\n",
       "      <td>falperezgo</td>\n",
       "      <td>338.33</td>\n",
       "      <td>95.35</td>\n",
       "      <td>3rd Phase</td>\n",
       "    </tr>\n",
       "    <tr>\n",
       "      <th>2</th>\n",
       "      <td>jonatan360</td>\n",
       "      <td>Bogota-Hack-1-2017</td>\n",
       "      <td>jonatan360</td>\n",
       "      <td>332.92</td>\n",
       "      <td>93.02</td>\n",
       "      <td>3rd Phase</td>\n",
       "    </tr>\n",
       "    <tr>\n",
       "      <th>3</th>\n",
       "      <td>dsbarrerag</td>\n",
       "      <td>Bogota-Hack-1-2017</td>\n",
       "      <td>dsbarrerag</td>\n",
       "      <td>325.00</td>\n",
       "      <td>88.37</td>\n",
       "      <td>3rd Phase</td>\n",
       "    </tr>\n",
       "    <tr>\n",
       "      <th>4</th>\n",
       "      <td>diegoaguevarar</td>\n",
       "      <td>Bogota-Hack-1-2017</td>\n",
       "      <td>diegoaguevarar</td>\n",
       "      <td>325.00</td>\n",
       "      <td>88.37</td>\n",
       "      <td>3rd Phase</td>\n",
       "    </tr>\n",
       "  </tbody>\n",
       "</table>\n",
       "</div>"
      ],
      "text/plain": [
       "          Project                Hack         Student  Total Score  \\\n",
       "0  jesusfchavarro  Bogota-Hack-1-2017  jesusfchavarro       345.83   \n",
       "1      falperezgo  Bogota-Hack-1-2017      falperezgo       338.33   \n",
       "2      jonatan360  Bogota-Hack-1-2017      jonatan360       332.92   \n",
       "3      dsbarrerag  Bogota-Hack-1-2017      dsbarrerag       325.00   \n",
       "4  diegoaguevarar  Bogota-Hack-1-2017  diegoaguevarar       325.00   \n",
       "\n",
       "   The % of participants whose total score below your score      Phase  \n",
       "0                                              97.67         3rd Phase  \n",
       "1                                              95.35         3rd Phase  \n",
       "2                                              93.02         3rd Phase  \n",
       "3                                              88.37         3rd Phase  \n",
       "4                                              88.37         3rd Phase  "
      ]
     },
     "execution_count": 32,
     "metadata": {},
     "output_type": "execute_result"
    }
   ],
   "source": [
    "df1_phase3 = pd.read_csv('final-bogota-1-phase3.csv')\n",
    "df1_phase3 = df1_phase3.loc[:, ~df1_phase3.columns.str.contains('^Unnamed')]\n",
    "df1_phase3.head(5)"
   ]
  },
  {
   "cell_type": "code",
   "execution_count": 33,
   "id": "6fdafe70",
   "metadata": {},
   "outputs": [
    {
     "name": "stdout",
     "output_type": "stream",
     "text": [
      "Mean:  167.50951219512194\n",
      "Median:  128.33\n",
      "Standard Deviation:  109.52838586300857\n",
      "Max:  345.83\n",
      "Min:  0.0\n"
     ]
    }
   ],
   "source": [
    "print(\"Mean: \", df1_phase3['Total Score'].mean())\n",
    "print(\"Median: \", df1_phase3['Total Score'].median())\n",
    "print(\"Standard Deviation: \", df1_phase3['Total Score'].std())\n",
    "print(\"Max: \", df1_phase3['Total Score'].max())\n",
    "print(\"Min: \", df1_phase3['Total Score'].min())"
   ]
  },
  {
   "cell_type": "code",
   "execution_count": 34,
   "id": "044e7144",
   "metadata": {},
   "outputs": [
    {
     "data": {
      "text/html": [
       "<div>\n",
       "<style scoped>\n",
       "    .dataframe tbody tr th:only-of-type {\n",
       "        vertical-align: middle;\n",
       "    }\n",
       "\n",
       "    .dataframe tbody tr th {\n",
       "        vertical-align: top;\n",
       "    }\n",
       "\n",
       "    .dataframe thead th {\n",
       "        text-align: right;\n",
       "    }\n",
       "</style>\n",
       "<table border=\"1\" class=\"dataframe\">\n",
       "  <thead>\n",
       "    <tr style=\"text-align: right;\">\n",
       "      <th></th>\n",
       "      <th>Project</th>\n",
       "      <th>Hack</th>\n",
       "      <th>Student</th>\n",
       "      <th>Total Score</th>\n",
       "      <th>The % of participants whose total score below your score</th>\n",
       "      <th>Phase</th>\n",
       "    </tr>\n",
       "  </thead>\n",
       "  <tbody>\n",
       "    <tr>\n",
       "      <th>0</th>\n",
       "      <td>jdsuarezj</td>\n",
       "      <td>Bogota-Hack-0-2017</td>\n",
       "      <td>jdsuarezj</td>\n",
       "      <td>293.33</td>\n",
       "      <td>98.04</td>\n",
       "      <td>3rd Phase</td>\n",
       "    </tr>\n",
       "    <tr>\n",
       "      <th>1</th>\n",
       "      <td>JoseMolano</td>\n",
       "      <td>Bogota-Hack-0-2017</td>\n",
       "      <td>JoseMolano</td>\n",
       "      <td>289.17</td>\n",
       "      <td>96.08</td>\n",
       "      <td>3rd Phase</td>\n",
       "    </tr>\n",
       "    <tr>\n",
       "      <th>2</th>\n",
       "      <td>bsgarciac</td>\n",
       "      <td>Bogota-Hack-0-2017</td>\n",
       "      <td>bsgarciac</td>\n",
       "      <td>272.50</td>\n",
       "      <td>94.12</td>\n",
       "      <td>3rd Phase</td>\n",
       "    </tr>\n",
       "    <tr>\n",
       "      <th>3</th>\n",
       "      <td>lfvalderrama</td>\n",
       "      <td>Bogota-Hack-0-2017</td>\n",
       "      <td>lfvalderrama</td>\n",
       "      <td>250.42</td>\n",
       "      <td>92.16</td>\n",
       "      <td>3rd Phase</td>\n",
       "    </tr>\n",
       "    <tr>\n",
       "      <th>4</th>\n",
       "      <td>mnguzmanc</td>\n",
       "      <td>Bogota-Hack-0-2017</td>\n",
       "      <td>mnguzmanc</td>\n",
       "      <td>236.67</td>\n",
       "      <td>90.20</td>\n",
       "      <td>3rd Phase</td>\n",
       "    </tr>\n",
       "  </tbody>\n",
       "</table>\n",
       "</div>"
      ],
      "text/plain": [
       "        Project                Hack       Student  Total Score  \\\n",
       "0     jdsuarezj  Bogota-Hack-0-2017     jdsuarezj       293.33   \n",
       "1    JoseMolano  Bogota-Hack-0-2017    JoseMolano       289.17   \n",
       "2     bsgarciac  Bogota-Hack-0-2017     bsgarciac       272.50   \n",
       "3  lfvalderrama  Bogota-Hack-0-2017  lfvalderrama       250.42   \n",
       "4     mnguzmanc  Bogota-Hack-0-2017     mnguzmanc       236.67   \n",
       "\n",
       "   The % of participants whose total score below your score      Phase  \n",
       "0                                              98.04         3rd Phase  \n",
       "1                                              96.08         3rd Phase  \n",
       "2                                              94.12         3rd Phase  \n",
       "3                                              92.16         3rd Phase  \n",
       "4                                              90.20         3rd Phase  "
      ]
     },
     "execution_count": 34,
     "metadata": {},
     "output_type": "execute_result"
    }
   ],
   "source": [
    "df0_phase3 = pd.read_csv('final-bogota-0-phase3.csv')\n",
    "df0_phase3 = df0_phase3.loc[:, ~df0_phase3.columns.str.contains('^Unnamed')]\n",
    "df0_phase3.head(5)"
   ]
  },
  {
   "cell_type": "code",
   "execution_count": 35,
   "id": "6911c779",
   "metadata": {},
   "outputs": [
    {
     "name": "stdout",
     "output_type": "stream",
     "text": [
      "Mean:  124.77564102564102\n",
      "Median:  112.5\n",
      "Standard Deviation:  94.15525115453204\n",
      "Max:  293.33\n",
      "Min:  0.0\n"
     ]
    }
   ],
   "source": [
    "print(\"Mean: \", df0_phase3['Total Score'].mean())\n",
    "print(\"Median: \", df0_phase3['Total Score'].median())\n",
    "print(\"Standard Deviation: \", df0_phase3['Total Score'].std())\n",
    "print(\"Max: \", df0_phase3['Total Score'].max())\n",
    "print(\"Min: \", df0_phase3['Total Score'].min())"
   ]
  },
  {
   "cell_type": "markdown",
   "id": "d513feb5",
   "metadata": {},
   "source": [
    "# Improvement Score Bogota 3"
   ]
  },
  {
   "cell_type": "code",
   "execution_count": 36,
   "id": "67a3abd8",
   "metadata": {},
   "outputs": [
    {
     "data": {
      "text/plain": [
       "array([ 28.33,  27.5 ,  11.67,  30.  ,  36.66,  20.  ,  34.17,  37.5 ,\n",
       "        39.17,  35.83,  40.  ,  25.83,  26.67,  48.33,  37.5 ,  38.33,\n",
       "        17.5 ,   5.  ,   5.84,   4.17,   9.16,  11.67,   0.  ,  -3.34,\n",
       "         0.  ,   4.16,   0.  ,   0.  ,   4.16,   4.16,   4.17,   8.34,\n",
       "        -4.16,  -8.33, -12.5 , -12.5 , -15.83,   0.  ,   0.  ,   0.  ,\n",
       "         0.  ,   0.  ])"
      ]
     },
     "execution_count": 36,
     "metadata": {},
     "output_type": "execute_result"
    }
   ],
   "source": [
    "diff3 = df3_phase4['Total Score'] - df3_phase3['Total Score']\n",
    "diff3.values"
   ]
  },
  {
   "cell_type": "markdown",
   "id": "c0116d3d",
   "metadata": {},
   "source": [
    "# Improvement Score Bogota 2"
   ]
  },
  {
   "cell_type": "code",
   "execution_count": 37,
   "id": "a6182e96",
   "metadata": {},
   "outputs": [
    {
     "data": {
      "text/plain": [
       "array([  0.  ,  12.5 ,  12.5 ,  15.83,   7.5 ,  13.33,  15.63,  25.  ,\n",
       "         1.67,   3.34, -14.17, -10.  ,  11.67,  32.5 ,  47.5 ,  45.84,\n",
       "         7.5 ,   7.5 ,   4.17,  12.5 ,   4.17,   7.5 ,   5.  ,   3.34,\n",
       "        -4.16,  -4.17,  -3.34,   0.  ,   4.17,   7.17,   6.67,   0.  ,\n",
       "         0.  ,   0.  ,  -4.17, -30.  , -45.  ,   0.  ,   0.  ,   0.  ,\n",
       "         0.  ])"
      ]
     },
     "execution_count": 37,
     "metadata": {},
     "output_type": "execute_result"
    }
   ],
   "source": [
    "diff2 = df2_phase4['Total Score'] - df2_phase3['Total Score']\n",
    "diff2.values"
   ]
  },
  {
   "cell_type": "markdown",
   "id": "f6d0ecc7",
   "metadata": {},
   "source": [
    "# Improvement Score Bogota 1"
   ]
  },
  {
   "cell_type": "code",
   "execution_count": 38,
   "id": "f3de5e58",
   "metadata": {},
   "outputs": [
    {
     "data": {
      "text/plain": [
       "array([  4.17,   5.  ,   0.41,  -6.25, -12.5 , -19.16, -21.04, -20.  ,\n",
       "       -20.  , -15.83,  -4.17,  23.34,  30.42,  20.  ,  17.5 ,  19.58,\n",
       "        20.83,  25.  ,  20.83,  45.83,  45.84,  40.83,  37.5 ,  40.  ,\n",
       "        16.67,  15.84,   9.17,  12.5 ,  12.5 ,  20.83,  12.5 ,  15.83,\n",
       "        24.17,  16.67,   8.33,   0.  ,   0.  ,   0.  ,   0.  ,   0.  ,\n",
       "         0.  ])"
      ]
     },
     "execution_count": 38,
     "metadata": {},
     "output_type": "execute_result"
    }
   ],
   "source": [
    "diff1 = df1_phase4['Total Score'] - df1_phase3['Total Score']\n",
    "diff1.values"
   ]
  },
  {
   "cell_type": "markdown",
   "id": "c8f47489",
   "metadata": {},
   "source": [
    "# Improvement Score Bogota 0"
   ]
  },
  {
   "cell_type": "code",
   "execution_count": 39,
   "id": "71efdb32",
   "metadata": {},
   "outputs": [
    {
     "data": {
      "text/plain": [
       "array([ 20.  , -12.5 , -20.83,  -5.42,   6.66,  12.5 ,  15.83,  -0.84,\n",
       "         1.67,   0.84,  25.  ,  16.67,  17.09,  18.33,   6.25,   0.  ,\n",
       "         0.83,   7.5 ,  -0.83,  15.83,  21.67,  17.5 ,  12.5 ,  15.83,\n",
       "        12.5 ,   4.17,   0.  ,   8.33,   0.  ,   0.  ,  25.  ,   0.  ,\n",
       "         0.  ,   0.  ,   0.  ,   0.  ,   0.  ,   0.  ,   0.  ])"
      ]
     },
     "execution_count": 39,
     "metadata": {},
     "output_type": "execute_result"
    }
   ],
   "source": [
    "diff0 = df0_phase4['Total Score'] - df0_phase3['Total Score']\n",
    "diff0.values"
   ]
  },
  {
   "cell_type": "markdown",
   "id": "f1c7c679",
   "metadata": {},
   "source": [
    "# ANOVA Analysis Phase 3 - 4"
   ]
  },
  {
   "cell_type": "code",
   "execution_count": 40,
   "id": "f1c1a5d9",
   "metadata": {},
   "outputs": [
    {
     "name": "stdout",
     "output_type": "stream",
     "text": [
      "2.354008067967665 0.07412063641290947\n"
     ]
    }
   ],
   "source": [
    "import scipy.stats as stats\n",
    "# stats f_oneway functions takes the groups as input and returns ANOVA F and p value\n",
    "fvalue, pvalue = stats.f_oneway(diff0, diff1, diff2, diff3)\n",
    "print(fvalue, pvalue)"
   ]
  },
  {
   "cell_type": "code",
   "execution_count": 41,
   "id": "51e3de02",
   "metadata": {},
   "outputs": [
    {
     "data": {
      "text/plain": [
       "39"
      ]
     },
     "execution_count": 41,
     "metadata": {},
     "output_type": "execute_result"
    }
   ],
   "source": [
    "len(df0_phase4.index)"
   ]
  },
  {
   "cell_type": "code",
   "execution_count": 42,
   "id": "3fd5b442",
   "metadata": {},
   "outputs": [
    {
     "data": {
      "text/plain": [
       "39"
      ]
     },
     "execution_count": 42,
     "metadata": {},
     "output_type": "execute_result"
    }
   ],
   "source": [
    "len(df0_phase3.index)"
   ]
  },
  {
   "cell_type": "code",
   "execution_count": 43,
   "id": "2f65ad27",
   "metadata": {},
   "outputs": [],
   "source": [
    "import pandas as pd\n",
    "import numpy as np\n",
    "\n",
    "df_anova34 = pd.DataFrame({'score': [ 20.  , -12.5 , -20.83,  -5.42,   6.66,  12.5 ,  15.83,  -0.84,\n",
    "         1.67,   0.84,  25.  ,  16.67,  17.09,  18.33,   6.25,   0.  ,\n",
    "         0.83,   7.5 ,  -0.83,  15.83,  21.67,  17.5 ,  12.5 ,  15.83,\n",
    "        12.5 ,   4.17,   0.  ,   8.33,   0.  ,   0.  ,  25.  ,   0.  ,\n",
    "         0.  ,   0.  ,   0.  ,   0.  ,   0.  ,   0.  ,   0. , 4.17,   5.  ,   0.41,  -6.25, -12.5 , -19.16, -21.04, -20.  ,\n",
    "       -20.  , -15.83,  -4.17,  23.34,  30.42,  20.  ,  17.5 ,  19.58,\n",
    "        20.83,  25.  ,  20.83,  45.83,  45.84,  40.83,  37.5 ,  40.  ,\n",
    "        16.67,  15.84,   9.17,  12.5 ,  12.5 ,  20.83,  12.5 ,  15.83,\n",
    "        24.17,  16.67,   8.33,   0.  ,   0.  ,   0.  ,   0.  ,   0.  ,\n",
    "         0.  , 0.  ,  12.5 ,  12.5 ,  15.83,   7.5 ,  13.33,  15.63,  25.  ,\n",
    "         1.67,   3.34, -14.17, -10.  ,  11.67,  32.5 ,  47.5 ,  45.84,\n",
    "         7.5 ,   7.5 ,   4.17,  12.5 ,   4.17,   7.5 ,   5.  ,   3.34,\n",
    "        -4.16,  -4.17,  -3.34,   0.  ,   4.17,   7.17,   6.67,   0.  ,\n",
    "         0.  ,   0.  ,  -4.17, -30.  , -45.  ,   0.  ,   0.  ,   0.  ,\n",
    "         0.  , 28.33,  27.5 ,  11.67,  30.  ,  36.66,  20.  ,  34.17,  37.5 ,\n",
    "        39.17,  35.83,  40.  ,  25.83,  26.67,  48.33,  37.5 ,  38.33,\n",
    "        17.5 ,   5.  ,   5.84,   4.17,   9.16,  11.67,   0.  ,  -3.34,\n",
    "         0.  ,   4.16,   0.  ,   0.  ,   4.16,   4.16,   4.17,   8.34,\n",
    "        -4.16,  -8.33, -12.5 , -12.5 , -15.83,   0.  ,   0.  ,   0.  ,\n",
    "         0.  ,   0.  ],\n",
    "                   'group': np.repeat([0, 1, 2, 3], repeats=[39, 41, 41, 42])})"
   ]
  },
  {
   "cell_type": "markdown",
   "id": "f853e26d",
   "metadata": {},
   "source": [
    "# Tukey Test Phase 3 - 4"
   ]
  },
  {
   "cell_type": "code",
   "execution_count": 44,
   "id": "744ce458",
   "metadata": {},
   "outputs": [
    {
     "name": "stdout",
     "output_type": "stream",
     "text": [
      " Multiple Comparison of Means - Tukey HSD, FWER=0.05 \n",
      "=====================================================\n",
      "group1 group2 meandiff p-adj   lower    upper  reject\n",
      "-----------------------------------------------------\n",
      "     0      1   4.6011 0.5523  -4.5313 13.7335  False\n",
      "     0      2  -1.3416    0.9  -10.474  7.7908  False\n",
      "     0      3     6.63  0.234  -2.4493 15.7092  False\n",
      "     1      2  -5.9427 0.3214 -14.9602  3.0749  False\n",
      "     1      3   2.0289    0.9  -6.9348 10.9926  False\n",
      "     2      3   7.9715 0.1002  -0.9922 16.9352  False\n",
      "-----------------------------------------------------\n"
     ]
    }
   ],
   "source": [
    "from statsmodels.stats.multicomp import pairwise_tukeyhsd\n",
    "\n",
    "\n",
    "# perform Tukey's test\n",
    "tukey = pairwise_tukeyhsd(endog=df_anova34['score'],\n",
    "                          groups=df_anova34['group'],\n",
    "                          alpha=0.05)\n",
    "\n",
    "#display results\n",
    "print(tukey)"
   ]
  },
  {
   "cell_type": "code",
   "execution_count": 45,
   "id": "e6ef9d37",
   "metadata": {},
   "outputs": [
    {
     "data": {
      "text/html": [
       "<div>\n",
       "<style scoped>\n",
       "    .dataframe tbody tr th:only-of-type {\n",
       "        vertical-align: middle;\n",
       "    }\n",
       "\n",
       "    .dataframe tbody tr th {\n",
       "        vertical-align: top;\n",
       "    }\n",
       "\n",
       "    .dataframe thead th {\n",
       "        text-align: right;\n",
       "    }\n",
       "</style>\n",
       "<table border=\"1\" class=\"dataframe\">\n",
       "  <thead>\n",
       "    <tr style=\"text-align: right;\">\n",
       "      <th></th>\n",
       "      <th>Project</th>\n",
       "      <th>Hack</th>\n",
       "      <th>Student</th>\n",
       "      <th>Total Score</th>\n",
       "      <th>The % of participants whose total score below your score</th>\n",
       "      <th>Phase</th>\n",
       "    </tr>\n",
       "  </thead>\n",
       "  <tbody>\n",
       "    <tr>\n",
       "      <th>0</th>\n",
       "      <td>capinillab</td>\n",
       "      <td>Bogota-Hack-0-2017</td>\n",
       "      <td>capinillab</td>\n",
       "      <td>247.50</td>\n",
       "      <td>98.04</td>\n",
       "      <td>2nd Phase</td>\n",
       "    </tr>\n",
       "    <tr>\n",
       "      <th>1</th>\n",
       "      <td>bsgarciac</td>\n",
       "      <td>Bogota-Hack-0-2017</td>\n",
       "      <td>bsgarciac</td>\n",
       "      <td>231.67</td>\n",
       "      <td>96.08</td>\n",
       "      <td>2nd Phase</td>\n",
       "    </tr>\n",
       "    <tr>\n",
       "      <th>2</th>\n",
       "      <td>mnguzmanc</td>\n",
       "      <td>Bogota-Hack-0-2017</td>\n",
       "      <td>mnguzmanc</td>\n",
       "      <td>220.00</td>\n",
       "      <td>94.12</td>\n",
       "      <td>2nd Phase</td>\n",
       "    </tr>\n",
       "    <tr>\n",
       "      <th>3</th>\n",
       "      <td>sacastroc</td>\n",
       "      <td>Bogota-Hack-0-2017</td>\n",
       "      <td>sacastroc</td>\n",
       "      <td>203.33</td>\n",
       "      <td>92.16</td>\n",
       "      <td>2nd Phase</td>\n",
       "    </tr>\n",
       "    <tr>\n",
       "      <th>4</th>\n",
       "      <td>camilo654</td>\n",
       "      <td>Bogota-Hack-0-2017</td>\n",
       "      <td>camilo654</td>\n",
       "      <td>195.00</td>\n",
       "      <td>90.20</td>\n",
       "      <td>2nd Phase</td>\n",
       "    </tr>\n",
       "  </tbody>\n",
       "</table>\n",
       "</div>"
      ],
      "text/plain": [
       "      Project                Hack     Student  Total Score  \\\n",
       "0  capinillab  Bogota-Hack-0-2017  capinillab       247.50   \n",
       "1   bsgarciac  Bogota-Hack-0-2017   bsgarciac       231.67   \n",
       "2   mnguzmanc  Bogota-Hack-0-2017   mnguzmanc       220.00   \n",
       "3   sacastroc  Bogota-Hack-0-2017   sacastroc       203.33   \n",
       "4   camilo654  Bogota-Hack-0-2017   camilo654       195.00   \n",
       "\n",
       "   The % of participants whose total score below your score      Phase  \n",
       "0                                              98.04         2nd Phase  \n",
       "1                                              96.08         2nd Phase  \n",
       "2                                              94.12         2nd Phase  \n",
       "3                                              92.16         2nd Phase  \n",
       "4                                              90.20         2nd Phase  "
      ]
     },
     "execution_count": 45,
     "metadata": {},
     "output_type": "execute_result"
    }
   ],
   "source": [
    "df0_phase2 = pd.read_csv('final-bogota-0-phase2.csv')\n",
    "df0_phase2 = df0_phase2.loc[:, ~df0_phase2.columns.str.contains('^Unnamed')]\n",
    "df0_phase2.head(5)"
   ]
  },
  {
   "cell_type": "code",
   "execution_count": 46,
   "id": "df141ee9",
   "metadata": {},
   "outputs": [
    {
     "name": "stdout",
     "output_type": "stream",
     "text": [
      "Mean:  107.6702564102564\n",
      "Median:  103.33\n",
      "Standard Deviation:  66.80494929219334\n",
      "Max:  247.5\n",
      "Min:  12.5\n"
     ]
    }
   ],
   "source": [
    "print(\"Mean: \", df0_phase2['Total Score'].mean())\n",
    "print(\"Median: \", df0_phase2['Total Score'].median())\n",
    "print(\"Standard Deviation: \", df0_phase2['Total Score'].std())\n",
    "print(\"Max: \", df0_phase2['Total Score'].max())\n",
    "print(\"Min: \", df0_phase2['Total Score'].min())"
   ]
  },
  {
   "cell_type": "code",
   "execution_count": 47,
   "id": "fb220917",
   "metadata": {},
   "outputs": [
    {
     "data": {
      "text/html": [
       "<div>\n",
       "<style scoped>\n",
       "    .dataframe tbody tr th:only-of-type {\n",
       "        vertical-align: middle;\n",
       "    }\n",
       "\n",
       "    .dataframe tbody tr th {\n",
       "        vertical-align: top;\n",
       "    }\n",
       "\n",
       "    .dataframe thead th {\n",
       "        text-align: right;\n",
       "    }\n",
       "</style>\n",
       "<table border=\"1\" class=\"dataframe\">\n",
       "  <thead>\n",
       "    <tr style=\"text-align: right;\">\n",
       "      <th></th>\n",
       "      <th>Project</th>\n",
       "      <th>Hack</th>\n",
       "      <th>Student</th>\n",
       "      <th>Total Score</th>\n",
       "      <th>The % of participants whose total score below your score</th>\n",
       "      <th>Phase</th>\n",
       "    </tr>\n",
       "  </thead>\n",
       "  <tbody>\n",
       "    <tr>\n",
       "      <th>0</th>\n",
       "      <td>dsbarrerag</td>\n",
       "      <td>Bogota-Hack-1-2017</td>\n",
       "      <td>dsbarrerag</td>\n",
       "      <td>333.33</td>\n",
       "      <td>97.67</td>\n",
       "      <td>2nd Phase</td>\n",
       "    </tr>\n",
       "    <tr>\n",
       "      <th>1</th>\n",
       "      <td>falperezgo</td>\n",
       "      <td>Bogota-Hack-1-2017</td>\n",
       "      <td>falperezgo</td>\n",
       "      <td>330.00</td>\n",
       "      <td>95.35</td>\n",
       "      <td>2nd Phase</td>\n",
       "    </tr>\n",
       "    <tr>\n",
       "      <th>2</th>\n",
       "      <td>daandradec</td>\n",
       "      <td>Bogota-Hack-1-2017</td>\n",
       "      <td>daandradec</td>\n",
       "      <td>313.33</td>\n",
       "      <td>93.02</td>\n",
       "      <td>2nd Phase</td>\n",
       "    </tr>\n",
       "    <tr>\n",
       "      <th>3</th>\n",
       "      <td>jesusfchavarro</td>\n",
       "      <td>Bogota-Hack-1-2017</td>\n",
       "      <td>jesusfchavarro</td>\n",
       "      <td>289.17</td>\n",
       "      <td>90.70</td>\n",
       "      <td>2nd Phase</td>\n",
       "    </tr>\n",
       "    <tr>\n",
       "      <th>4</th>\n",
       "      <td>oeroaq</td>\n",
       "      <td>Bogota-Hack-1-2017</td>\n",
       "      <td>oeroaq</td>\n",
       "      <td>288.33</td>\n",
       "      <td>88.37</td>\n",
       "      <td>2nd Phase</td>\n",
       "    </tr>\n",
       "  </tbody>\n",
       "</table>\n",
       "</div>"
      ],
      "text/plain": [
       "          Project                Hack         Student  Total Score  \\\n",
       "0      dsbarrerag  Bogota-Hack-1-2017      dsbarrerag       333.33   \n",
       "1      falperezgo  Bogota-Hack-1-2017      falperezgo       330.00   \n",
       "2      daandradec  Bogota-Hack-1-2017      daandradec       313.33   \n",
       "3  jesusfchavarro  Bogota-Hack-1-2017  jesusfchavarro       289.17   \n",
       "4          oeroaq  Bogota-Hack-1-2017          oeroaq       288.33   \n",
       "\n",
       "   The % of participants whose total score below your score      Phase  \n",
       "0                                              97.67         2nd Phase  \n",
       "1                                              95.35         2nd Phase  \n",
       "2                                              93.02         2nd Phase  \n",
       "3                                              90.70         2nd Phase  \n",
       "4                                              88.37         2nd Phase  "
      ]
     },
     "execution_count": 47,
     "metadata": {},
     "output_type": "execute_result"
    }
   ],
   "source": [
    "df1_phase2 = pd.read_csv('final-bogota-1-phase2.csv')\n",
    "df1_phase2 = df1_phase2.loc[:, ~df1_phase2.columns.str.contains('^Unnamed')]\n",
    "df1_phase2.head(5)"
   ]
  },
  {
   "cell_type": "code",
   "execution_count": 48,
   "id": "7c2fd633",
   "metadata": {},
   "outputs": [
    {
     "name": "stdout",
     "output_type": "stream",
     "text": [
      "Mean:  150.5582926829268\n",
      "Median:  128.33\n",
      "Standard Deviation:  89.03113766830229\n",
      "Max:  333.33\n",
      "Min:  0.0\n"
     ]
    }
   ],
   "source": [
    "print(\"Mean: \", df1_phase2['Total Score'].mean())\n",
    "print(\"Median: \", df1_phase2['Total Score'].median())\n",
    "print(\"Standard Deviation: \", df1_phase2['Total Score'].std())\n",
    "print(\"Max: \", df1_phase2['Total Score'].max())\n",
    "print(\"Min: \", df1_phase2['Total Score'].min())"
   ]
  },
  {
   "cell_type": "code",
   "execution_count": 49,
   "id": "5f66985a",
   "metadata": {},
   "outputs": [
    {
     "data": {
      "text/html": [
       "<div>\n",
       "<style scoped>\n",
       "    .dataframe tbody tr th:only-of-type {\n",
       "        vertical-align: middle;\n",
       "    }\n",
       "\n",
       "    .dataframe tbody tr th {\n",
       "        vertical-align: top;\n",
       "    }\n",
       "\n",
       "    .dataframe thead th {\n",
       "        text-align: right;\n",
       "    }\n",
       "</style>\n",
       "<table border=\"1\" class=\"dataframe\">\n",
       "  <thead>\n",
       "    <tr style=\"text-align: right;\">\n",
       "      <th></th>\n",
       "      <th>Project</th>\n",
       "      <th>Hack</th>\n",
       "      <th>Student</th>\n",
       "      <th>Total Score</th>\n",
       "      <th>The % of participants whose total score below your score</th>\n",
       "      <th>Phase</th>\n",
       "    </tr>\n",
       "  </thead>\n",
       "  <tbody>\n",
       "    <tr>\n",
       "      <th>0</th>\n",
       "      <td>fabianr23</td>\n",
       "      <td>Bogota-Hack-2-2017</td>\n",
       "      <td>fabianr23</td>\n",
       "      <td>330.00</td>\n",
       "      <td>97.62</td>\n",
       "      <td>2nd Phase</td>\n",
       "    </tr>\n",
       "    <tr>\n",
       "      <th>1</th>\n",
       "      <td>juasmartinezbel</td>\n",
       "      <td>Bogota-Hack-2-2017</td>\n",
       "      <td>juasmartinezbel</td>\n",
       "      <td>296.67</td>\n",
       "      <td>95.24</td>\n",
       "      <td>2nd Phase</td>\n",
       "    </tr>\n",
       "    <tr>\n",
       "      <th>2</th>\n",
       "      <td>JuanitoAli</td>\n",
       "      <td>Bogota-Hack-2-2017</td>\n",
       "      <td>JuanitoAli</td>\n",
       "      <td>284.17</td>\n",
       "      <td>92.86</td>\n",
       "      <td>2nd Phase</td>\n",
       "    </tr>\n",
       "    <tr>\n",
       "      <th>3</th>\n",
       "      <td>jscontrerasp</td>\n",
       "      <td>Bogota-Hack-2-2017</td>\n",
       "      <td>joaortizro</td>\n",
       "      <td>268.33</td>\n",
       "      <td>90.48</td>\n",
       "      <td>2nd Phase</td>\n",
       "    </tr>\n",
       "    <tr>\n",
       "      <th>4</th>\n",
       "      <td>cesarochoa2006</td>\n",
       "      <td>Bogota-Hack-2-2017</td>\n",
       "      <td>cesarochoa2006</td>\n",
       "      <td>255.83</td>\n",
       "      <td>88.10</td>\n",
       "      <td>2nd Phase</td>\n",
       "    </tr>\n",
       "  </tbody>\n",
       "</table>\n",
       "</div>"
      ],
      "text/plain": [
       "           Project                Hack          Student  Total Score  \\\n",
       "0        fabianr23  Bogota-Hack-2-2017        fabianr23       330.00   \n",
       "1  juasmartinezbel  Bogota-Hack-2-2017  juasmartinezbel       296.67   \n",
       "2       JuanitoAli  Bogota-Hack-2-2017       JuanitoAli       284.17   \n",
       "3     jscontrerasp  Bogota-Hack-2-2017       joaortizro       268.33   \n",
       "4   cesarochoa2006  Bogota-Hack-2-2017   cesarochoa2006       255.83   \n",
       "\n",
       "   The % of participants whose total score below your score      Phase  \n",
       "0                                              97.62         2nd Phase  \n",
       "1                                              95.24         2nd Phase  \n",
       "2                                              92.86         2nd Phase  \n",
       "3                                              90.48         2nd Phase  \n",
       "4                                              88.10         2nd Phase  "
      ]
     },
     "execution_count": 49,
     "metadata": {},
     "output_type": "execute_result"
    }
   ],
   "source": [
    "df2_phase2 = pd.read_csv('final-bogota-2-phase2.csv')\n",
    "df2_phase2 = df2_phase2.loc[:, ~df2_phase2.columns.str.contains('^Unnamed')]\n",
    "df2_phase2.head(5)"
   ]
  },
  {
   "cell_type": "code",
   "execution_count": 50,
   "id": "c91ffb9e",
   "metadata": {},
   "outputs": [
    {
     "name": "stdout",
     "output_type": "stream",
     "text": [
      "Mean:  143.59756097560975\n",
      "Median:  120.0\n",
      "Standard Deviation:  82.44180422517718\n",
      "Max:  330.0\n",
      "Min:  12.5\n"
     ]
    }
   ],
   "source": [
    "print(\"Mean: \", df2_phase2['Total Score'].mean())\n",
    "print(\"Median: \", df2_phase2['Total Score'].median())\n",
    "print(\"Standard Deviation: \", df2_phase2['Total Score'].std())\n",
    "print(\"Max: \", df2_phase2['Total Score'].max())\n",
    "print(\"Min: \", df2_phase2['Total Score'].min())"
   ]
  },
  {
   "cell_type": "code",
   "execution_count": 51,
   "id": "2075db66",
   "metadata": {},
   "outputs": [
    {
     "data": {
      "text/html": [
       "<div>\n",
       "<style scoped>\n",
       "    .dataframe tbody tr th:only-of-type {\n",
       "        vertical-align: middle;\n",
       "    }\n",
       "\n",
       "    .dataframe tbody tr th {\n",
       "        vertical-align: top;\n",
       "    }\n",
       "\n",
       "    .dataframe thead th {\n",
       "        text-align: right;\n",
       "    }\n",
       "</style>\n",
       "<table border=\"1\" class=\"dataframe\">\n",
       "  <thead>\n",
       "    <tr style=\"text-align: right;\">\n",
       "      <th></th>\n",
       "      <th>Project</th>\n",
       "      <th>Hack</th>\n",
       "      <th>Student</th>\n",
       "      <th>Total Score</th>\n",
       "      <th>The % of participants whose total score below your score</th>\n",
       "      <th>Phase</th>\n",
       "    </tr>\n",
       "  </thead>\n",
       "  <tbody>\n",
       "    <tr>\n",
       "      <th>0</th>\n",
       "      <td>dduartec</td>\n",
       "      <td>Bogota-Hack-3-2017</td>\n",
       "      <td>dduartec</td>\n",
       "      <td>333.33</td>\n",
       "      <td>97.62</td>\n",
       "      <td>2nd Phase</td>\n",
       "    </tr>\n",
       "    <tr>\n",
       "      <th>1</th>\n",
       "      <td>jumcorredorro</td>\n",
       "      <td>Bogota-Hack-3-2017</td>\n",
       "      <td>jumcorredorro</td>\n",
       "      <td>309.17</td>\n",
       "      <td>95.24</td>\n",
       "      <td>2nd Phase</td>\n",
       "    </tr>\n",
       "    <tr>\n",
       "      <th>2</th>\n",
       "      <td>lgmoralesa</td>\n",
       "      <td>Bogota-Hack-3-2017</td>\n",
       "      <td>lgmoralesa</td>\n",
       "      <td>268.33</td>\n",
       "      <td>92.86</td>\n",
       "      <td>2nd Phase</td>\n",
       "    </tr>\n",
       "    <tr>\n",
       "      <th>3</th>\n",
       "      <td>jscastelblancoh</td>\n",
       "      <td>Bogota-Hack-3-2017</td>\n",
       "      <td>jscastelblancoh</td>\n",
       "      <td>264.17</td>\n",
       "      <td>88.10</td>\n",
       "      <td>2nd Phase</td>\n",
       "    </tr>\n",
       "    <tr>\n",
       "      <th>4</th>\n",
       "      <td>lacardenasv</td>\n",
       "      <td>Bogota-Hack-3-2017</td>\n",
       "      <td>lacardenasv</td>\n",
       "      <td>264.17</td>\n",
       "      <td>88.10</td>\n",
       "      <td>2nd Phase</td>\n",
       "    </tr>\n",
       "  </tbody>\n",
       "</table>\n",
       "</div>"
      ],
      "text/plain": [
       "           Project                Hack          Student  Total Score  \\\n",
       "0         dduartec  Bogota-Hack-3-2017         dduartec       333.33   \n",
       "1    jumcorredorro  Bogota-Hack-3-2017    jumcorredorro       309.17   \n",
       "2       lgmoralesa  Bogota-Hack-3-2017       lgmoralesa       268.33   \n",
       "3  jscastelblancoh  Bogota-Hack-3-2017  jscastelblancoh       264.17   \n",
       "4      lacardenasv  Bogota-Hack-3-2017      lacardenasv       264.17   \n",
       "\n",
       "   The % of participants whose total score below your score      Phase  \n",
       "0                                              97.62         2nd Phase  \n",
       "1                                              95.24         2nd Phase  \n",
       "2                                              92.86         2nd Phase  \n",
       "3                                              88.10         2nd Phase  \n",
       "4                                              88.10         2nd Phase  "
      ]
     },
     "execution_count": 51,
     "metadata": {},
     "output_type": "execute_result"
    }
   ],
   "source": [
    "df3_phase2 = pd.read_csv('final-bogota-3-phase2.csv')\n",
    "df3_phase2 = df3_phase2.loc[:, ~df3_phase2.columns.str.contains('^Unnamed')]\n",
    "df3_phase2.head(5)"
   ]
  },
  {
   "cell_type": "code",
   "execution_count": 52,
   "id": "aa4fb9ef",
   "metadata": {},
   "outputs": [
    {
     "name": "stdout",
     "output_type": "stream",
     "text": [
      "Mean:  140.88238095238094\n",
      "Median:  123.75\n",
      "Standard Deviation:  78.8600657790786\n",
      "Max:  333.33\n",
      "Min:  0.0\n"
     ]
    }
   ],
   "source": [
    "print(\"Mean: \", df3_phase2['Total Score'].mean())\n",
    "print(\"Median: \", df3_phase2['Total Score'].median())\n",
    "print(\"Standard Deviation: \", df3_phase2['Total Score'].std())\n",
    "print(\"Max: \", df3_phase2['Total Score'].max())\n",
    "print(\"Min: \", df3_phase2['Total Score'].min())"
   ]
  },
  {
   "cell_type": "markdown",
   "id": "071b3cb2",
   "metadata": {},
   "source": [
    "# Improvement Score Phase 2 - 3"
   ]
  },
  {
   "cell_type": "code",
   "execution_count": 53,
   "id": "f804a043",
   "metadata": {},
   "outputs": [
    {
     "data": {
      "text/plain": [
       "array([ -3.33,   0.83,  36.67,  10.83,   0.  ,   5.84, -11.25,  24.17,\n",
       "        22.5 ,  15.  ,  13.33,   5.  ,  29.16,  10.  ,  12.5 ,  11.67,\n",
       "        15.  ,  15.  ,  14.16,  16.67,  12.5 ,  10.  ,   8.33,   4.17,\n",
       "         4.16,   0.84,   0.  ,   4.16,   0.  ,   4.17,   5.  ,   0.  ,\n",
       "         0.  ,   3.33,   0.  ,   4.17,  15.83, -12.5 , -12.5 , -12.5 ,\n",
       "       -12.5 ,   0.  ])"
      ]
     },
     "execution_count": 53,
     "metadata": {},
     "output_type": "execute_result"
    }
   ],
   "source": [
    "diff3 = df3_phase3['Total Score'] - df3_phase2['Total Score']\n",
    "diff3.values"
   ]
  },
  {
   "cell_type": "markdown",
   "id": "121f48bf",
   "metadata": {},
   "source": [
    "# Improvement Score Phase 2 - 3"
   ]
  },
  {
   "cell_type": "code",
   "execution_count": 54,
   "id": "5c3c8c40",
   "metadata": {},
   "outputs": [
    {
     "data": {
      "text/plain": [
       "array([ 28.33,  24.16,  28.33,  36.67,  37.5 ,  32.5 ,  25.  ,  18.33,\n",
       "        11.66,  11.66,  17.5 ,  12.5 ,   8.33,   5.84,  -5.84,  15.83,\n",
       "        14.17,  12.5 ,  17.5 ,  10.83,  13.33,   4.17,  11.67,   9.16,\n",
       "        12.5 ,  11.67,   4.17,   7.5 ,   4.16,   4.5 ,   5.  ,   8.33,\n",
       "         7.5 ,  20.  ,   4.17,   4.17, -12.5 , -12.5 , -12.5 , -12.5 ,\n",
       "       -12.5 ])"
      ]
     },
     "execution_count": 54,
     "metadata": {},
     "output_type": "execute_result"
    }
   ],
   "source": [
    "diff2 = df2_phase3['Total Score'] - df2_phase2['Total Score']\n",
    "diff2.values"
   ]
  },
  {
   "cell_type": "markdown",
   "id": "ba46b2ec",
   "metadata": {},
   "source": [
    "# Improvement Score Phase 2 - 3"
   ]
  },
  {
   "cell_type": "code",
   "execution_count": 55,
   "id": "901ce8ec",
   "metadata": {},
   "outputs": [
    {
     "data": {
      "text/plain": [
       "array([ 12.5 ,   8.33,  19.59,  35.83,  36.67,  54.58,  56.66,  53.33,\n",
       "        73.33,  74.16,  70.84,  33.33,  38.75,  37.5 ,  39.17,  52.09,\n",
       "        45.  ,  37.5 ,  24.17,   3.33,   0.  ,  -4.16,   8.34,   5.  ,\n",
       "         4.16,   0.  ,   4.17,   4.16,   0.  ,  -8.33, -12.5 , -12.5 ,\n",
       "       -12.5 , -16.67,  -8.33, -12.5 , -12.5 , -12.5 , -12.5 , -12.5 ,\n",
       "         0.  ])"
      ]
     },
     "execution_count": 55,
     "metadata": {},
     "output_type": "execute_result"
    }
   ],
   "source": [
    "diff1 = df1_phase3['Total Score'] - df1_phase2['Total Score']\n",
    "diff1.values"
   ]
  },
  {
   "cell_type": "markdown",
   "id": "2c1128de",
   "metadata": {},
   "source": [
    "# Improvement Score Phase 2 - 3"
   ]
  },
  {
   "cell_type": "code",
   "execution_count": 56,
   "id": "7cc95508",
   "metadata": {},
   "outputs": [
    {
     "data": {
      "text/plain": [
       "array([ 45.83,  57.5 ,  52.5 ,  47.09,  41.67,  40.  ,  35.84,  49.17,\n",
       "        52.5 ,  70.  ,  49.16,  50.  ,  47.5 ,  47.5 ,  46.67,  45.  ,\n",
       "        49.17,  28.33,  29.17,   9.17,   0.  ,   0.  ,  -0.83,   0.  ,\n",
       "         0.  ,  -3.34, -12.5 ,  -0.83, -12.5 , -13.33, -62.5 , -33.33,\n",
       "       -12.5 , -12.5 , -12.5 , -12.5 , -12.5 , -12.5 , -12.5 ])"
      ]
     },
     "execution_count": 56,
     "metadata": {},
     "output_type": "execute_result"
    }
   ],
   "source": [
    "diff0 = df0_phase3['Total Score'] - df0_phase2['Total Score']\n",
    "diff0.values"
   ]
  },
  {
   "cell_type": "markdown",
   "id": "341f3897",
   "metadata": {},
   "source": [
    "# ANOVA Analysis Phase 2 - 3"
   ]
  },
  {
   "cell_type": "code",
   "execution_count": 57,
   "id": "caf780f1",
   "metadata": {},
   "outputs": [
    {
     "name": "stdout",
     "output_type": "stream",
     "text": [
      "2.2092158984491097 0.08913024033193412\n"
     ]
    }
   ],
   "source": [
    "import scipy.stats as stats\n",
    "# stats f_oneway functions takes the groups as input and returns ANOVA F and p value\n",
    "fvalue, pvalue = stats.f_oneway(diff0, diff1, diff2, diff3)\n",
    "print(fvalue, pvalue)"
   ]
  },
  {
   "cell_type": "code",
   "execution_count": 58,
   "id": "0b020a3c",
   "metadata": {},
   "outputs": [],
   "source": [
    "import pandas as pd\n",
    "import numpy as np\n",
    "\n",
    "df_anova23 = pd.DataFrame({'score': [45.83,  57.5 ,  52.5 ,  47.09,  41.67,  40.  ,  35.84,  49.17,\n",
    "        52.5 ,  70.  ,  49.16,  50.  ,  47.5 ,  47.5 ,  46.67,  45.  ,\n",
    "        49.17,  28.33,  29.17,   9.17,   0.  ,   0.  ,  -0.83,   0.  ,\n",
    "         0.  ,  -3.34, -12.5 ,  -0.83, -12.5 , -13.33, -62.5 , -33.33,\n",
    "       -12.5 , -12.5 , -12.5 , -12.5 , -12.5 , -12.5 , -12.5,  12.5 ,   8.33,  19.59,  35.83,  36.67,  54.58,  56.66,  53.33,\n",
    "        73.33,  74.16,  70.84,  33.33,  38.75,  37.5 ,  39.17,  52.09,\n",
    "        45.  ,  37.5 ,  24.17,   3.33,   0.  ,  -4.16,   8.34,   5.  ,\n",
    "         4.16,   0.  ,   4.17,   4.16,   0.  ,  -8.33, -12.5 , -12.5 ,\n",
    "       -12.5 , -16.67,  -8.33, -12.5 , -12.5 , -12.5 , -12.5 , -12.5 ,\n",
    "         0. , 28.33,  24.16,  28.33,  36.67,  37.5 ,  32.5 ,  25.  ,  18.33,\n",
    "        11.66,  11.66,  17.5 ,  12.5 ,   8.33,   5.84,  -5.84,  15.83,\n",
    "        14.17,  12.5 ,  17.5 ,  10.83,  13.33,   4.17,  11.67,   9.16,\n",
    "        12.5 ,  11.67,   4.17,   7.5 ,   4.16,   4.5 ,   5.  ,   8.33,\n",
    "         7.5 ,  20.  ,   4.17,   4.17, -12.5 , -12.5 , -12.5 , -12.5 ,\n",
    "       -12.5 , -3.33,   0.83,  36.67,  10.83,   0.  ,   5.84, -11.25,  24.17,\n",
    "        22.5 ,  15.  ,  13.33,   5.  ,  29.16,  10.  ,  12.5 ,  11.67,\n",
    "        15.  ,  15.  ,  14.16,  16.67,  12.5 ,  10.  ,   8.33,   4.17,\n",
    "         4.16,   0.84,   0.  ,   4.16,   0.  ,   4.17,   5.  ,   0.  ,\n",
    "         0.  ,   3.33,   0.  ,   4.17,  15.83, -12.5 , -12.5 , -12.5 ,\n",
    "       -12.5 ,   0.  ],\n",
    "                   'group': np.repeat([0, 1, 2, 3], repeats=[39, 41, 41, 42])})"
   ]
  },
  {
   "cell_type": "markdown",
   "id": "c3d988f8",
   "metadata": {},
   "source": [
    "# Tukey Test Phase 2 - 3"
   ]
  },
  {
   "cell_type": "code",
   "execution_count": 59,
   "id": "ae18ad6e",
   "metadata": {},
   "outputs": [
    {
     "name": "stdout",
     "output_type": "stream",
     "text": [
      " Multiple Comparison of Means - Tukey HSD, FWER=0.05 \n",
      "=====================================================\n",
      "group1 group2 meandiff p-adj   lower    upper  reject\n",
      "-----------------------------------------------------\n",
      "     0      1  -0.1542    0.9 -13.1785 12.8701  False\n",
      "     0      2  -6.5493 0.5537 -19.5736   6.475  False\n",
      "     0      3 -10.6671 0.1453 -23.6155  2.2814  False\n",
      "     1      2  -6.3951 0.5618 -19.2556  6.4653  False\n",
      "     1      3 -10.5129 0.1464 -23.2966  2.2708  False\n",
      "     2      3  -4.1178 0.8161 -16.9014  8.6659  False\n",
      "-----------------------------------------------------\n"
     ]
    }
   ],
   "source": [
    "from statsmodels.stats.multicomp import pairwise_tukeyhsd\n",
    "\n",
    "\n",
    "# perform Tukey's test\n",
    "tukey = pairwise_tukeyhsd(endog=df_anova23['score'],\n",
    "                          groups=df_anova23['group'],\n",
    "                          alpha=0.05)\n",
    "\n",
    "#display results\n",
    "print(tukey)"
   ]
  },
  {
   "cell_type": "code",
   "execution_count": 60,
   "id": "df194974",
   "metadata": {},
   "outputs": [
    {
     "data": {
      "text/html": [
       "<div>\n",
       "<style scoped>\n",
       "    .dataframe tbody tr th:only-of-type {\n",
       "        vertical-align: middle;\n",
       "    }\n",
       "\n",
       "    .dataframe tbody tr th {\n",
       "        vertical-align: top;\n",
       "    }\n",
       "\n",
       "    .dataframe thead th {\n",
       "        text-align: right;\n",
       "    }\n",
       "</style>\n",
       "<table border=\"1\" class=\"dataframe\">\n",
       "  <thead>\n",
       "    <tr style=\"text-align: right;\">\n",
       "      <th></th>\n",
       "      <th>Project</th>\n",
       "      <th>Hack</th>\n",
       "      <th>Student</th>\n",
       "      <th>Total Score</th>\n",
       "      <th>The % of participants whose total score below your score</th>\n",
       "      <th>Phase</th>\n",
       "    </tr>\n",
       "  </thead>\n",
       "  <tbody>\n",
       "    <tr>\n",
       "      <th>0</th>\n",
       "      <td>juandavidro</td>\n",
       "      <td>Bogota-Hack-0-2017</td>\n",
       "      <td>juandavidro</td>\n",
       "      <td>300.83</td>\n",
       "      <td>98.04</td>\n",
       "      <td>1st Phase</td>\n",
       "    </tr>\n",
       "    <tr>\n",
       "      <th>1</th>\n",
       "      <td>JoseMolano</td>\n",
       "      <td>Bogota-Hack-0-2017</td>\n",
       "      <td>JoseMolano</td>\n",
       "      <td>195.00</td>\n",
       "      <td>94.12</td>\n",
       "      <td>1st Phase</td>\n",
       "    </tr>\n",
       "    <tr>\n",
       "      <th>2</th>\n",
       "      <td>jdsuarezj</td>\n",
       "      <td>Bogota-Hack-0-2017</td>\n",
       "      <td>jdsuarezj</td>\n",
       "      <td>162.50</td>\n",
       "      <td>88.24</td>\n",
       "      <td>1st Phase</td>\n",
       "    </tr>\n",
       "    <tr>\n",
       "      <th>3</th>\n",
       "      <td>cap182</td>\n",
       "      <td>Bogota-Hack-0-2017</td>\n",
       "      <td>cap182</td>\n",
       "      <td>148.33</td>\n",
       "      <td>84.31</td>\n",
       "      <td>1st Phase</td>\n",
       "    </tr>\n",
       "    <tr>\n",
       "      <th>4</th>\n",
       "      <td>capinillab</td>\n",
       "      <td>Bogota-Hack-0-2017</td>\n",
       "      <td>capinillab</td>\n",
       "      <td>115.83</td>\n",
       "      <td>80.39</td>\n",
       "      <td>1st Phase</td>\n",
       "    </tr>\n",
       "  </tbody>\n",
       "</table>\n",
       "</div>"
      ],
      "text/plain": [
       "       Project                Hack      Student  Total Score  \\\n",
       "0  juandavidro  Bogota-Hack-0-2017  juandavidro       300.83   \n",
       "1   JoseMolano  Bogota-Hack-0-2017   JoseMolano       195.00   \n",
       "2    jdsuarezj  Bogota-Hack-0-2017    jdsuarezj       162.50   \n",
       "3       cap182  Bogota-Hack-0-2017       cap182       148.33   \n",
       "4   capinillab  Bogota-Hack-0-2017   capinillab       115.83   \n",
       "\n",
       "   The % of participants whose total score below your score      Phase  \n",
       "0                                              98.04         1st Phase  \n",
       "1                                              94.12         1st Phase  \n",
       "2                                              88.24         1st Phase  \n",
       "3                                              84.31         1st Phase  \n",
       "4                                              80.39         1st Phase  "
      ]
     },
     "execution_count": 60,
     "metadata": {},
     "output_type": "execute_result"
    }
   ],
   "source": [
    "df0_phase1 = pd.read_csv('final-bogota-0-phase1.csv')\n",
    "df0_phase1 = df0_phase1.loc[:, ~df0_phase1.columns.str.contains('^Unnamed')]\n",
    "df0_phase1.head(5)"
   ]
  },
  {
   "cell_type": "code",
   "execution_count": 61,
   "id": "bad80ffe",
   "metadata": {},
   "outputs": [
    {
     "name": "stdout",
     "output_type": "stream",
     "text": [
      "Mean:  61.1751282051282\n",
      "Median:  50.0\n",
      "Standard Deviation:  65.59524894026825\n",
      "Max:  300.83\n",
      "Min:  0.0\n"
     ]
    }
   ],
   "source": [
    "print(\"Mean: \", df0_phase1['Total Score'].mean())\n",
    "print(\"Median: \", df0_phase1['Total Score'].median())\n",
    "print(\"Standard Deviation: \", df0_phase1['Total Score'].std())\n",
    "print(\"Max: \", df0_phase1['Total Score'].max())\n",
    "print(\"Min: \", df0_phase1['Total Score'].min())"
   ]
  },
  {
   "cell_type": "code",
   "execution_count": 62,
   "id": "cada60ff",
   "metadata": {},
   "outputs": [
    {
     "data": {
      "text/html": [
       "<div>\n",
       "<style scoped>\n",
       "    .dataframe tbody tr th:only-of-type {\n",
       "        vertical-align: middle;\n",
       "    }\n",
       "\n",
       "    .dataframe tbody tr th {\n",
       "        vertical-align: top;\n",
       "    }\n",
       "\n",
       "    .dataframe thead th {\n",
       "        text-align: right;\n",
       "    }\n",
       "</style>\n",
       "<table border=\"1\" class=\"dataframe\">\n",
       "  <thead>\n",
       "    <tr style=\"text-align: right;\">\n",
       "      <th></th>\n",
       "      <th>Project</th>\n",
       "      <th>Hack</th>\n",
       "      <th>Student</th>\n",
       "      <th>Total Score</th>\n",
       "      <th>The % of participants whose total score below your score</th>\n",
       "      <th>Phase</th>\n",
       "    </tr>\n",
       "  </thead>\n",
       "  <tbody>\n",
       "    <tr>\n",
       "      <th>0</th>\n",
       "      <td>gcantem</td>\n",
       "      <td>Bogota-Hack-1-2017</td>\n",
       "      <td>gcantem</td>\n",
       "      <td>329.17</td>\n",
       "      <td>97.67</td>\n",
       "      <td>1st Phase</td>\n",
       "    </tr>\n",
       "    <tr>\n",
       "      <th>1</th>\n",
       "      <td>jonatan360</td>\n",
       "      <td>Bogota-Hack-1-2017</td>\n",
       "      <td>jonatan360</td>\n",
       "      <td>285.83</td>\n",
       "      <td>95.35</td>\n",
       "      <td>1st Phase</td>\n",
       "    </tr>\n",
       "    <tr>\n",
       "      <th>2</th>\n",
       "      <td>djguzmanc</td>\n",
       "      <td>Bogota-Hack-1-2017</td>\n",
       "      <td>djguzmanc</td>\n",
       "      <td>280.83</td>\n",
       "      <td>93.02</td>\n",
       "      <td>1st Phase</td>\n",
       "    </tr>\n",
       "    <tr>\n",
       "      <th>3</th>\n",
       "      <td>falperezgo</td>\n",
       "      <td>Bogota-Hack-1-2017</td>\n",
       "      <td>falperezgo</td>\n",
       "      <td>256.67</td>\n",
       "      <td>90.70</td>\n",
       "      <td>1st Phase</td>\n",
       "    </tr>\n",
       "    <tr>\n",
       "      <th>4</th>\n",
       "      <td>jesusfchavarro</td>\n",
       "      <td>Bogota-Hack-1-2017</td>\n",
       "      <td>jesusfchavarro</td>\n",
       "      <td>248.33</td>\n",
       "      <td>88.37</td>\n",
       "      <td>1st Phase</td>\n",
       "    </tr>\n",
       "  </tbody>\n",
       "</table>\n",
       "</div>"
      ],
      "text/plain": [
       "          Project                Hack         Student  Total Score  \\\n",
       "0         gcantem  Bogota-Hack-1-2017         gcantem       329.17   \n",
       "1      jonatan360  Bogota-Hack-1-2017      jonatan360       285.83   \n",
       "2       djguzmanc  Bogota-Hack-1-2017       djguzmanc       280.83   \n",
       "3      falperezgo  Bogota-Hack-1-2017      falperezgo       256.67   \n",
       "4  jesusfchavarro  Bogota-Hack-1-2017  jesusfchavarro       248.33   \n",
       "\n",
       "   The % of participants whose total score below your score      Phase  \n",
       "0                                              97.67         1st Phase  \n",
       "1                                              95.35         1st Phase  \n",
       "2                                              93.02         1st Phase  \n",
       "3                                              90.70         1st Phase  \n",
       "4                                              88.37         1st Phase  "
      ]
     },
     "execution_count": 62,
     "metadata": {},
     "output_type": "execute_result"
    }
   ],
   "source": [
    "df1_phase1 = pd.read_csv('final-bogota-1-phase1.csv')\n",
    "df1_phase1 = df1_phase1.loc[:, ~df1_phase1.columns.str.contains('^Unnamed')]\n",
    "df1_phase1.head(5)"
   ]
  },
  {
   "cell_type": "code",
   "execution_count": 63,
   "id": "6c5a8a9d",
   "metadata": {},
   "outputs": [
    {
     "name": "stdout",
     "output_type": "stream",
     "text": [
      "Mean:  118.33341463414634\n",
      "Median:  97.5\n",
      "Standard Deviation:  87.4049134376826\n",
      "Max:  329.17\n",
      "Min:  0.0\n"
     ]
    }
   ],
   "source": [
    "print(\"Mean: \", df1_phase1['Total Score'].mean())\n",
    "print(\"Median: \", df1_phase1['Total Score'].median())\n",
    "print(\"Standard Deviation: \", df1_phase1['Total Score'].std())\n",
    "print(\"Max: \", df1_phase1['Total Score'].max())\n",
    "print(\"Min: \", df1_phase1['Total Score'].min())"
   ]
  },
  {
   "cell_type": "code",
   "execution_count": 64,
   "id": "bc7ad6ad",
   "metadata": {},
   "outputs": [
    {
     "data": {
      "text/html": [
       "<div>\n",
       "<style scoped>\n",
       "    .dataframe tbody tr th:only-of-type {\n",
       "        vertical-align: middle;\n",
       "    }\n",
       "\n",
       "    .dataframe tbody tr th {\n",
       "        vertical-align: top;\n",
       "    }\n",
       "\n",
       "    .dataframe thead th {\n",
       "        text-align: right;\n",
       "    }\n",
       "</style>\n",
       "<table border=\"1\" class=\"dataframe\">\n",
       "  <thead>\n",
       "    <tr style=\"text-align: right;\">\n",
       "      <th></th>\n",
       "      <th>Project</th>\n",
       "      <th>Hack</th>\n",
       "      <th>Student</th>\n",
       "      <th>Total Score</th>\n",
       "      <th>The % of participants whose total score below your score</th>\n",
       "      <th>Phase</th>\n",
       "    </tr>\n",
       "  </thead>\n",
       "  <tbody>\n",
       "    <tr>\n",
       "      <th>0</th>\n",
       "      <td>xdanielsb</td>\n",
       "      <td>Bogota-Hack-2-2017</td>\n",
       "      <td>xdanielsb</td>\n",
       "      <td>260.00</td>\n",
       "      <td>97.62</td>\n",
       "      <td>1st Phase</td>\n",
       "    </tr>\n",
       "    <tr>\n",
       "      <th>1</th>\n",
       "      <td>juasmartinezbel</td>\n",
       "      <td>Bogota-Hack-2-2017</td>\n",
       "      <td>juasmartinezbel</td>\n",
       "      <td>251.67</td>\n",
       "      <td>95.24</td>\n",
       "      <td>1st Phase</td>\n",
       "    </tr>\n",
       "    <tr>\n",
       "      <th>2</th>\n",
       "      <td>Yelis3</td>\n",
       "      <td>Bogota-Hack-2-2017</td>\n",
       "      <td>Yelis3</td>\n",
       "      <td>231.67</td>\n",
       "      <td>92.86</td>\n",
       "      <td>1st Phase</td>\n",
       "    </tr>\n",
       "    <tr>\n",
       "      <th>3</th>\n",
       "      <td>idrojasf</td>\n",
       "      <td>Bogota-Hack-2-2017</td>\n",
       "      <td>idrojasf</td>\n",
       "      <td>207.50</td>\n",
       "      <td>88.10</td>\n",
       "      <td>1st Phase</td>\n",
       "    </tr>\n",
       "    <tr>\n",
       "      <th>4</th>\n",
       "      <td>Davsatu313</td>\n",
       "      <td>Bogota-Hack-2-2017</td>\n",
       "      <td>Davsatu313</td>\n",
       "      <td>207.50</td>\n",
       "      <td>88.10</td>\n",
       "      <td>1st Phase</td>\n",
       "    </tr>\n",
       "  </tbody>\n",
       "</table>\n",
       "</div>"
      ],
      "text/plain": [
       "           Project                Hack          Student  Total Score  \\\n",
       "0        xdanielsb  Bogota-Hack-2-2017        xdanielsb       260.00   \n",
       "1  juasmartinezbel  Bogota-Hack-2-2017  juasmartinezbel       251.67   \n",
       "2           Yelis3  Bogota-Hack-2-2017           Yelis3       231.67   \n",
       "3         idrojasf  Bogota-Hack-2-2017         idrojasf       207.50   \n",
       "4       Davsatu313  Bogota-Hack-2-2017       Davsatu313       207.50   \n",
       "\n",
       "   The % of participants whose total score below your score      Phase  \n",
       "0                                              97.62         1st Phase  \n",
       "1                                              95.24         1st Phase  \n",
       "2                                              92.86         1st Phase  \n",
       "3                                              88.10         1st Phase  \n",
       "4                                              88.10         1st Phase  "
      ]
     },
     "execution_count": 64,
     "metadata": {},
     "output_type": "execute_result"
    }
   ],
   "source": [
    "df2_phase1 = pd.read_csv('final-bogota-2-phase1.csv')\n",
    "df2_phase1 = df2_phase1.loc[:, ~df2_phase1.columns.str.contains('^Unnamed')]\n",
    "df2_phase1.head(5)"
   ]
  },
  {
   "cell_type": "code",
   "execution_count": 65,
   "id": "e465ad5b",
   "metadata": {},
   "outputs": [
    {
     "name": "stdout",
     "output_type": "stream",
     "text": [
      "Mean:  99.91926829268294\n",
      "Median:  91.67\n",
      "Standard Deviation:  76.26999230989354\n",
      "Max:  260.0\n",
      "Min:  0.0\n"
     ]
    }
   ],
   "source": [
    "print(\"Mean: \", df2_phase1['Total Score'].mean())\n",
    "print(\"Median: \", df2_phase1['Total Score'].median())\n",
    "print(\"Standard Deviation: \", df2_phase1['Total Score'].std())\n",
    "print(\"Max: \", df2_phase1['Total Score'].max())\n",
    "print(\"Min: \", df2_phase1['Total Score'].min())"
   ]
  },
  {
   "cell_type": "code",
   "execution_count": 66,
   "id": "54f9efab",
   "metadata": {},
   "outputs": [
    {
     "data": {
      "text/html": [
       "<div>\n",
       "<style scoped>\n",
       "    .dataframe tbody tr th:only-of-type {\n",
       "        vertical-align: middle;\n",
       "    }\n",
       "\n",
       "    .dataframe tbody tr th {\n",
       "        vertical-align: top;\n",
       "    }\n",
       "\n",
       "    .dataframe thead th {\n",
       "        text-align: right;\n",
       "    }\n",
       "</style>\n",
       "<table border=\"1\" class=\"dataframe\">\n",
       "  <thead>\n",
       "    <tr style=\"text-align: right;\">\n",
       "      <th></th>\n",
       "      <th>Project</th>\n",
       "      <th>Hack</th>\n",
       "      <th>Student</th>\n",
       "      <th>Total Score</th>\n",
       "      <th>The % of participants whose total score below your score</th>\n",
       "      <th>Phase</th>\n",
       "    </tr>\n",
       "  </thead>\n",
       "  <tbody>\n",
       "    <tr>\n",
       "      <th>0</th>\n",
       "      <td>jmalvarezd</td>\n",
       "      <td>Bogota-Hack-3-2017</td>\n",
       "      <td>jmalvarezd</td>\n",
       "      <td>329.17</td>\n",
       "      <td>97.62</td>\n",
       "      <td>1st Phase</td>\n",
       "    </tr>\n",
       "    <tr>\n",
       "      <th>1</th>\n",
       "      <td>wapiravaguens</td>\n",
       "      <td>Bogota-Hack-3-2017</td>\n",
       "      <td>wapiravaguens</td>\n",
       "      <td>239.17</td>\n",
       "      <td>95.24</td>\n",
       "      <td>1st Phase</td>\n",
       "    </tr>\n",
       "    <tr>\n",
       "      <th>2</th>\n",
       "      <td>jscastelblancoh</td>\n",
       "      <td>Bogota-Hack-3-2017</td>\n",
       "      <td>jscastelblancoh</td>\n",
       "      <td>201.67</td>\n",
       "      <td>92.86</td>\n",
       "      <td>1st Phase</td>\n",
       "    </tr>\n",
       "    <tr>\n",
       "      <th>3</th>\n",
       "      <td>Alex</td>\n",
       "      <td>Bogota-Hack-3-2017</td>\n",
       "      <td>Alex</td>\n",
       "      <td>190.00</td>\n",
       "      <td>90.48</td>\n",
       "      <td>1st Phase</td>\n",
       "    </tr>\n",
       "    <tr>\n",
       "      <th>4</th>\n",
       "      <td>lacardenasv</td>\n",
       "      <td>Bogota-Hack-3-2017</td>\n",
       "      <td>lacardenasv</td>\n",
       "      <td>186.67</td>\n",
       "      <td>88.10</td>\n",
       "      <td>1st Phase</td>\n",
       "    </tr>\n",
       "  </tbody>\n",
       "</table>\n",
       "</div>"
      ],
      "text/plain": [
       "           Project                Hack          Student  Total Score  \\\n",
       "0       jmalvarezd  Bogota-Hack-3-2017       jmalvarezd       329.17   \n",
       "1    wapiravaguens  Bogota-Hack-3-2017    wapiravaguens       239.17   \n",
       "2  jscastelblancoh  Bogota-Hack-3-2017  jscastelblancoh       201.67   \n",
       "3             Alex  Bogota-Hack-3-2017             Alex       190.00   \n",
       "4      lacardenasv  Bogota-Hack-3-2017      lacardenasv       186.67   \n",
       "\n",
       "   The % of participants whose total score below your score      Phase  \n",
       "0                                              97.62         1st Phase  \n",
       "1                                              95.24         1st Phase  \n",
       "2                                              92.86         1st Phase  \n",
       "3                                              90.48         1st Phase  \n",
       "4                                              88.10         1st Phase  "
      ]
     },
     "execution_count": 66,
     "metadata": {},
     "output_type": "execute_result"
    }
   ],
   "source": [
    "df3_phase1 = pd.read_csv('final-bogota-3-phase1.csv')\n",
    "df3_phase1 = df3_phase1.loc[:, ~df3_phase1.columns.str.contains('^Unnamed')]\n",
    "df3_phase1.head(5)"
   ]
  },
  {
   "cell_type": "code",
   "execution_count": 67,
   "id": "76bf297a",
   "metadata": {},
   "outputs": [
    {
     "name": "stdout",
     "output_type": "stream",
     "text": [
      "Mean:  104.87166666666668\n",
      "Median:  101.66499999999999\n",
      "Standard Deviation:  69.71864652131615\n",
      "Max:  329.17\n",
      "Min:  0.0\n"
     ]
    }
   ],
   "source": [
    "print(\"Mean: \", df3_phase1['Total Score'].mean())\n",
    "print(\"Median: \", df3_phase1['Total Score'].median())\n",
    "print(\"Standard Deviation: \", df3_phase1['Total Score'].std())\n",
    "print(\"Max: \", df3_phase1['Total Score'].max())\n",
    "print(\"Min: \", df3_phase1['Total Score'].min())"
   ]
  },
  {
   "cell_type": "code",
   "execution_count": 68,
   "id": "b93658a9",
   "metadata": {},
   "outputs": [
    {
     "data": {
      "text/plain": [
       "array([ 4.16, 70.  , 66.66, 74.17, 77.5 , 60.  , 59.58, 34.58, 36.66,\n",
       "       36.67, 35.83, 50.83, 33.34, 32.5 , 32.5 , 29.16, 25.83, 25.  ,\n",
       "       24.17, 24.16, 20.84, 23.33, 20.83, 20.83, 25.  , 24.16, 37.5 ,\n",
       "       37.5 , 41.67, 41.67, 45.  , 45.83, 53.33, 55.  , 58.33, 53.33,\n",
       "       50.  ,  0.  ,  0.  , 12.5 , 12.5 ,  0.  ])"
      ]
     },
     "execution_count": 68,
     "metadata": {},
     "output_type": "execute_result"
    }
   ],
   "source": [
    "diff3 = df3_phase2['Total Score'] - df3_phase1['Total Score']\n",
    "diff3.values"
   ]
  },
  {
   "cell_type": "code",
   "execution_count": 69,
   "id": "6bd4c3fc",
   "metadata": {},
   "outputs": [
    {
     "data": {
      "text/plain": [
       "array([70.  , 45.  , 52.5 , 60.83, 48.33, 39.17, 57.5 , 74.17, 62.5 ,\n",
       "       61.67, 57.5 , 57.5 , 43.75, 35.  , 32.5 , 21.67, 28.33, 27.91,\n",
       "       28.33, 25.  , 28.33, 29.17, 25.83, 29.17, 25.83, 34.16, 45.  ,\n",
       "       45.83, 45.  , 45.83, 50.  , 54.17, 75.  , 75.  , 75.  , 70.83,\n",
       "       57.5 , 12.5 , 12.5 , 12.5 , 12.5 ])"
      ]
     },
     "execution_count": 69,
     "metadata": {},
     "output_type": "execute_result"
    }
   ],
   "source": [
    "diff2 = df2_phase2['Total Score'] - df2_phase1['Total Score']\n",
    "diff2.values"
   ]
  },
  {
   "cell_type": "code",
   "execution_count": 70,
   "id": "81106a50",
   "metadata": {},
   "outputs": [
    {
     "data": {
      "text/plain": [
       "array([ 4.16, 44.17, 32.5 , 32.5 , 40.  , 35.42, 30.84, 32.5 , 32.5 ,\n",
       "       45.  , 45.83, 45.  , 40.83, 53.33, 50.83, 20.83, 30.  , 20.83,\n",
       "       30.  , 29.17, 30.83, 36.66, 28.33, 28.33, 29.17, 34.16, 29.16,\n",
       "       29.17, 25.  , 25.  , 29.17, 25.  , 12.5 , 17.5 , 37.5 , 62.5 ,\n",
       "       62.5 , 57.5 , 12.5 , 12.5 ,  0.  ])"
      ]
     },
     "execution_count": 70,
     "metadata": {},
     "output_type": "execute_result"
    }
   ],
   "source": [
    "diff1 = df1_phase2['Total Score'] - df1_phase1['Total Score']\n",
    "diff1.values"
   ]
  },
  {
   "cell_type": "code",
   "execution_count": 71,
   "id": "9fa98fd7",
   "metadata": {},
   "outputs": [
    {
     "data": {
      "text/plain": [
       "array([-53.33,  36.67,  57.5 ,  55.  ,  79.17,  78.33,  83.33,  73.33,\n",
       "        66.66,  50.83,  50.84,  50.  ,  40.83,  37.5 ,  45.83,  45.83,\n",
       "        37.5 ,  37.5 ,  40.83,  53.33,  65.83,  65.83,  70.83,  62.5 ,\n",
       "        61.67,  74.17,  74.17,  62.5 ,  62.5 ,  62.5 ,  62.5 ,  33.33,\n",
       "        12.5 ,  12.5 ,  12.5 ,  12.5 ,  12.5 ,  12.5 ,  12.5 ])"
      ]
     },
     "execution_count": 71,
     "metadata": {},
     "output_type": "execute_result"
    }
   ],
   "source": [
    "diff0 = df0_phase2['Total Score'] - df0_phase1['Total Score']\n",
    "diff0.values"
   ]
  },
  {
   "cell_type": "code",
   "execution_count": 72,
   "id": "c359a72f",
   "metadata": {},
   "outputs": [
    {
     "name": "stdout",
     "output_type": "stream",
     "text": [
      "4.242195749698071 0.006479850567131005\n"
     ]
    }
   ],
   "source": [
    "import scipy.stats as stats\n",
    "# stats f_oneway functions takes the groups as input and returns ANOVA F and p value\n",
    "fvalue, pvalue = stats.f_oneway(diff0, diff1, diff2, diff3)\n",
    "print(fvalue, pvalue)"
   ]
  },
  {
   "cell_type": "code",
   "execution_count": 73,
   "id": "fd523885",
   "metadata": {},
   "outputs": [],
   "source": [
    "import pandas as pd\n",
    "import numpy as np\n",
    "\n",
    "df_anova12 = pd.DataFrame({'score': [-53.33,  36.67,  57.5 ,  55.  ,  79.17,  78.33,  83.33,  73.33,\n",
    "        66.66,  50.83,  50.84,  50.  ,  40.83,  37.5 ,  45.83,  45.83,\n",
    "        37.5 ,  37.5 ,  40.83,  53.33,  65.83,  65.83,  70.83,  62.5 ,\n",
    "        61.67,  74.17,  74.17,  62.5 ,  62.5 ,  62.5 ,  62.5 ,  33.33,\n",
    "        12.5 ,  12.5 ,  12.5 ,  12.5 ,  12.5 ,  12.5 ,  12.5 ,  4.16, 44.17, 32.5 , 32.5 , 40.  , 35.42, 30.84, 32.5 , 32.5 ,\n",
    "       45.  , 45.83, 45.  , 40.83, 53.33, 50.83, 20.83, 30.  , 20.83,\n",
    "       30.  , 29.17, 30.83, 36.66, 28.33, 28.33, 29.17, 34.16, 29.16,\n",
    "       29.17, 25.  , 25.  , 29.17, 25.  , 12.5 , 17.5 , 37.5 , 62.5 ,\n",
    "       62.5 , 57.5 , 12.5 , 12.5 ,  0. , 70.  , 45.  , 52.5 , 60.83, 48.33, 39.17, 57.5 , 74.17, 62.5 ,\n",
    "       61.67, 57.5 , 57.5 , 43.75, 35.  , 32.5 , 21.67, 28.33, 27.91,\n",
    "       28.33, 25.  , 28.33, 29.17, 25.83, 29.17, 25.83, 34.16, 45.  ,\n",
    "       45.83, 45.  , 45.83, 50.  , 54.17, 75.  , 75.  , 75.  , 70.83,\n",
    "       57.5 , 12.5 , 12.5 , 12.5 , 12.5 , 4.16, 70.  , 66.66, 74.17, 77.5 , 60.  , 59.58, 34.58, 36.66,\n",
    "       36.67, 35.83, 50.83, 33.34, 32.5 , 32.5 , 29.16, 25.83, 25.  ,\n",
    "       24.17, 24.16, 20.84, 23.33, 20.83, 20.83, 25.  , 24.16, 37.5 ,\n",
    "       37.5 , 41.67, 41.67, 45.  , 45.83, 53.33, 55.  , 58.33, 53.33,\n",
    "       50.  ,  0.  ,  0.  , 12.5 , 12.5 ,  0.   ],\n",
    "                   'group': np.repeat([0, 1, 2, 3], repeats=[39, 41, 41, 42])})"
   ]
  },
  {
   "cell_type": "code",
   "execution_count": 74,
   "id": "dbb6d5e5",
   "metadata": {},
   "outputs": [
    {
     "name": "stdout",
     "output_type": "stream",
     "text": [
      " Multiple Comparison of Means - Tukey HSD, FWER=0.05 \n",
      "=====================================================\n",
      "group1 group2 meandiff p-adj   lower    upper  reject\n",
      "-----------------------------------------------------\n",
      "     0      1 -14.2703 0.0113 -26.1287 -2.4118   True\n",
      "     0      2  -2.8168    0.9 -14.6753  9.0416  False\n",
      "     0      3 -10.4844 0.1002 -22.2738   1.305  False\n",
      "     1      2  11.4534 0.0578  -0.2559 23.1627  False\n",
      "     1      3   3.7858 0.8116  -7.8535 15.4252  False\n",
      "     2      3  -7.6676 0.3217 -19.3069  3.9718  False\n",
      "-----------------------------------------------------\n"
     ]
    }
   ],
   "source": [
    "from statsmodels.stats.multicomp import pairwise_tukeyhsd\n",
    "\n",
    "\n",
    "# perform Tukey's test\n",
    "tukey = pairwise_tukeyhsd(endog=df_anova12['score'],\n",
    "                          groups=df_anova12['group'],\n",
    "                          alpha=0.05)\n",
    "\n",
    "#display results\n",
    "print(tukey)"
   ]
  },
  {
   "cell_type": "markdown",
   "id": "bb65a2eb",
   "metadata": {},
   "source": [
    "# Explorative Plots"
   ]
  },
  {
   "cell_type": "code",
   "execution_count": 75,
   "id": "73180cb0",
   "metadata": {},
   "outputs": [
    {
     "data": {
      "text/plain": [
       "<matplotlib.legend.Legend at 0x7feeed7b5490>"
      ]
     },
     "execution_count": 75,
     "metadata": {},
     "output_type": "execute_result"
    },
    {
     "data": {
      "image/png": "[encoded data removed]",
      "text/plain": [
       "<Figure size 432x288 with 1 Axes>"
      ]
     },
     "metadata": {
      "needs_background": "light"
     },
     "output_type": "display_data"
    }
   ],
   "source": [
    "import matplotlib.pyplot as plt\n",
    "\n",
    "# Mean Scores of All Groups \n",
    "\n",
    "y1 = [61.18, 107.67, 124.78, 130.98, 162.22 ]\n",
    "y2 = [118.33, 150.56, 167.51, 178.32, 194.04 ]\n",
    "y3 = [99.92, 143.6, 154.15, 159.02, 197.22 ]\n",
    "y4 = [104.87, 140.88, 147.32, 160.16, 212.68 ]   \n",
    "\n",
    "x_axis=['Phase 1', 'Phase 2', 'Phase 3', 'Phase 4', 'Phase 5']\n",
    "\n",
    "line1 = plt.plot(x_axis, y1,'ko-',label='Bogota 0 ( No Transparency )')\n",
    "line2 = plt.plot(x_axis, y2,'ro-',label='Bogota 1 ( Performance Transparency )') \n",
    "line3 = plt.plot(x_axis, y3,'mo-',label='Bogota 2 ( Solution Transparency )')\n",
    "line3 = plt.plot(x_axis, y4,'bo-',label='Bogota 3 ( Full Transparency )')\n",
    "\n",
    "plt.title(\"Mean Scores of Total Scores for All Treatment Groups\")\n",
    "plt.ylabel(\"Mean Scores\")\n",
    "\n",
    "plt.legend(bbox_to_anchor=(1, 1),\n",
    "           bbox_transform=plt.gcf().transFigure)"
   ]
  },
  {
   "cell_type": "code",
   "execution_count": 76,
   "id": "d89b1e16",
   "metadata": {},
   "outputs": [
    {
     "data": {
      "text/plain": [
       "<matplotlib.legend.Legend at 0x7feeed8bad00>"
      ]
     },
     "execution_count": 76,
     "metadata": {},
     "output_type": "execute_result"
    },
    {
     "data": {
      "image/png": "[encoded data removed]",
      "text/plain": [
       "<Figure size 432x288 with 1 Axes>"
      ]
     },
     "metadata": {
      "needs_background": "light"
     },
     "output_type": "display_data"
    }
   ],
   "source": [
    "import matplotlib.pyplot as plt\n",
    "\n",
    "# Median Scores of All Groups \n",
    "\n",
    "y1 = [50, 103.33, 112.5, 128.33, 190.83 ]\n",
    "y2 = [97.5, 128.33, 128.33, 174.17, 198.33  ]\n",
    "y3 = [91.67, 120, 133.33, 137.5, 178.33  ]\n",
    "y4 = [101.66, 123.75, 135, 145.42, 209.58  ]   \n",
    "\n",
    "x_axis=['Phase 1', 'Phase 2', 'Phase 3', 'Phase 4', 'Phase 5']\n",
    "\n",
    "line1 = plt.plot(x_axis, y1,'ko-',label='Bogota 0 ( No Transparency )')\n",
    "line2 = plt.plot(x_axis, y2,'ro-',label='Bogota 1 ( Performance Transparency )') \n",
    "line3 = plt.plot(x_axis, y3,'mo-',label='Bogota 2 ( Solution Transparency )')\n",
    "line3 = plt.plot(x_axis, y4,'bo-',label='Bogota 3 ( Full Transparency )')\n",
    "\n",
    "plt.title(\"Median Scores of Total Scores for All Treatment Groups\")\n",
    "plt.ylabel(\"Median Scores\")\n",
    "\n",
    "plt.legend(bbox_to_anchor=(1, 1),\n",
    "           bbox_transform=plt.gcf().transFigure)"
   ]
  },
  {
   "cell_type": "code",
   "execution_count": 77,
   "id": "33b46d57",
   "metadata": {},
   "outputs": [
    {
     "data": {
      "text/plain": [
       "<matplotlib.legend.Legend at 0x7feeedbec190>"
      ]
     },
     "execution_count": 77,
     "metadata": {},
     "output_type": "execute_result"
    },
    {
     "data": {
      "image/png": "[encoded data removed]",
      "text/plain": [
       "<Figure size 432x288 with 1 Axes>"
      ]
     },
     "metadata": {
      "needs_background": "light"
     },
     "output_type": "display_data"
    }
   ],
   "source": [
    "import matplotlib.pyplot as plt\n",
    "\n",
    "# Max Scores of All Groups \n",
    "\n",
    "y1 = [300.83, 247.5, 293.33, 313.33, 352.92 ]\n",
    "y2 = [329.17, 333.33, 345.83, 350, 357.5  ]\n",
    "y3 = [260, 330, 358.33, 358.33, 357.5 ]\n",
    "y4 = [329.17, 333.33, 330, 358.33, 360.83 ]   \n",
    "\n",
    "x_axis=['Phase 1', 'Phase 2', 'Phase 3', 'Phase 4', 'Phase 5']\n",
    "\n",
    "line1 = plt.plot(x_axis, y1,'ko-',label='Bogota 0 ( No Transparency )')\n",
    "line2 = plt.plot(x_axis, y2,'ro-',label='Bogota 1 ( Performance Transparency )') \n",
    "line3 = plt.plot(x_axis, y3,'mo-',label='Bogota 2 ( Solution Transparency )')\n",
    "line3 = plt.plot(x_axis, y4,'bo-',label='Bogota 3 ( Full Transparency )')\n",
    "\n",
    "plt.title(\"Max Scores of Total Scores for All Treatment Groups\")\n",
    "plt.ylabel(\"Max Scores\")\n",
    "\n",
    "plt.legend(bbox_to_anchor=(1, 1),\n",
    "           bbox_transform=plt.gcf().transFigure)"
   ]
  },
  {
   "cell_type": "code",
   "execution_count": 78,
   "id": "7efb0d08",
   "metadata": {},
   "outputs": [
    {
     "data": {
      "text/plain": [
       "<matplotlib.legend.Legend at 0x7feeedc5a700>"
      ]
     },
     "execution_count": 78,
     "metadata": {},
     "output_type": "execute_result"
    },
    {
     "data": {
      "image/png": "[encoded data removed]",
      "text/plain": [
       "<Figure size 432x288 with 1 Axes>"
      ]
     },
     "metadata": {
      "needs_background": "light"
     },
     "output_type": "display_data"
    }
   ],
   "source": [
    "import matplotlib.pyplot as plt\n",
    "\n",
    "# Max Scores of All Groups \n",
    "\n",
    "y1 = [ 0, 12.5, 0, 0, 0]\n",
    "y2 = [ 0, 0, 0, 0, 0]\n",
    "y3 = [0, 12.5, 0, 0, 0]\n",
    "y4 = [0, 0, 0, 0, 0]   \n",
    "\n",
    "x_axis=['Phase 1', 'Phase 2', 'Phase 3', 'Phase 4', 'Phase 5']\n",
    "\n",
    "line1 = plt.plot(x_axis, y1,'ko-',label='Bogota 0 ( No Transparency )')\n",
    "line2 = plt.plot(x_axis, y2,'ro-',label='Bogota 1 ( Performance Transparency )') \n",
    "line3 = plt.plot(x_axis, y3,'mo-',label='Bogota 2 ( Solution Transparency )')\n",
    "line3 = plt.plot(x_axis, y4,'bo-',label='Bogota 3 ( Full Transparency )')\n",
    "\n",
    "plt.title(\"Min Scores of Total Scores for All Treatment Groups\")\n",
    "plt.ylabel(\"Min Scores\")\n",
    "\n",
    "plt.legend(bbox_to_anchor=(2, 1),\n",
    "           bbox_transform=plt.gcf().transFigure)"
   ]
  },
  {
   "cell_type": "code",
   "execution_count": 79,
   "id": "b8dad11b",
   "metadata": {},
   "outputs": [
    {
     "data": {
      "text/plain": [
       "<matplotlib.legend.Legend at 0x7feeede72220>"
      ]
     },
     "execution_count": 79,
     "metadata": {},
     "output_type": "execute_result"
    },
    {
     "data": {
      "image/png": "[encoded data removed]",
      "text/plain": [
       "<Figure size 432x288 with 1 Axes>"
      ]
     },
     "metadata": {
      "needs_background": "light"
     },
     "output_type": "display_data"
    }
   ],
   "source": [
    "import matplotlib.pyplot as plt\n",
    "\n",
    "# Standard Deviation of All Groups \n",
    "\n",
    "y1 = [ 65.6, 66.8, 94.16, 94.72, 109.06 ]\n",
    "y2 = [ 87.4, 89.03, 109.53, 103.98, 110.59]\n",
    "y3 = [ 76.27, 82.44, 93.17, 99.5, 105.73]\n",
    "y4 = [ 69.72, 78.86, 83.64, 96.18, 109.71]   \n",
    "\n",
    "x_axis=['Phase 1', 'Phase 2', 'Phase 3', 'Phase 4', 'Phase 5']\n",
    "\n",
    "line1 = plt.plot(x_axis, y1,'ko-',label='Bogota 0 ( No Transparency )')\n",
    "line2 = plt.plot(x_axis, y2,'ro-',label='Bogota 1 ( Performance Transparency )') \n",
    "line3 = plt.plot(x_axis, y3,'mo-',label='Bogota 2 ( Solution Transparency )')\n",
    "line3 = plt.plot(x_axis, y4,'bo-',label='Bogota 3 ( Full Transparency )')\n",
    "\n",
    "plt.title(\"Standard Deviation of Total Scores for All Treatment Groups\")\n",
    "plt.ylabel(\"Standard Deviation\")\n",
    "\n",
    "plt.legend(bbox_to_anchor=(1, 1),\n",
    "           bbox_transform=plt.gcf().transFigure)"
   ]
  },
  {
   "cell_type": "code",
   "execution_count": 81,
   "id": "0972eed0",
   "metadata": {},
   "outputs": [
    {
     "data": {
      "text/html": [
       "<div>\n",
       "<style scoped>\n",
       "    .dataframe tbody tr th:only-of-type {\n",
       "        vertical-align: middle;\n",
       "    }\n",
       "\n",
       "    .dataframe tbody tr th {\n",
       "        vertical-align: top;\n",
       "    }\n",
       "\n",
       "    .dataframe thead th {\n",
       "        text-align: right;\n",
       "    }\n",
       "</style>\n",
       "<table border=\"1\" class=\"dataframe\">\n",
       "  <thead>\n",
       "    <tr style=\"text-align: right;\">\n",
       "      <th></th>\n",
       "      <th>score</th>\n",
       "      <th>group</th>\n",
       "    </tr>\n",
       "  </thead>\n",
       "  <tbody>\n",
       "    <tr>\n",
       "      <th>0</th>\n",
       "      <td>-53.33</td>\n",
       "      <td>0</td>\n",
       "    </tr>\n",
       "    <tr>\n",
       "      <th>1</th>\n",
       "      <td>36.67</td>\n",
       "      <td>0</td>\n",
       "    </tr>\n",
       "    <tr>\n",
       "      <th>2</th>\n",
       "      <td>57.50</td>\n",
       "      <td>0</td>\n",
       "    </tr>\n",
       "    <tr>\n",
       "      <th>3</th>\n",
       "      <td>55.00</td>\n",
       "      <td>0</td>\n",
       "    </tr>\n",
       "    <tr>\n",
       "      <th>4</th>\n",
       "      <td>79.17</td>\n",
       "      <td>0</td>\n",
       "    </tr>\n",
       "    <tr>\n",
       "      <th>...</th>\n",
       "      <td>...</td>\n",
       "      <td>...</td>\n",
       "    </tr>\n",
       "    <tr>\n",
       "      <th>158</th>\n",
       "      <td>-12.50</td>\n",
       "      <td>3</td>\n",
       "    </tr>\n",
       "    <tr>\n",
       "      <th>159</th>\n",
       "      <td>-12.50</td>\n",
       "      <td>3</td>\n",
       "    </tr>\n",
       "    <tr>\n",
       "      <th>160</th>\n",
       "      <td>-12.50</td>\n",
       "      <td>3</td>\n",
       "    </tr>\n",
       "    <tr>\n",
       "      <th>161</th>\n",
       "      <td>-12.50</td>\n",
       "      <td>3</td>\n",
       "    </tr>\n",
       "    <tr>\n",
       "      <th>162</th>\n",
       "      <td>0.00</td>\n",
       "      <td>3</td>\n",
       "    </tr>\n",
       "  </tbody>\n",
       "</table>\n",
       "<p>326 rows × 2 columns</p>\n",
       "</div>"
      ],
      "text/plain": [
       "     score  group\n",
       "0   -53.33      0\n",
       "1    36.67      0\n",
       "2    57.50      0\n",
       "3    55.00      0\n",
       "4    79.17      0\n",
       "..     ...    ...\n",
       "158 -12.50      3\n",
       "159 -12.50      3\n",
       "160 -12.50      3\n",
       "161 -12.50      3\n",
       "162   0.00      3\n",
       "\n",
       "[326 rows x 2 columns]"
      ]
     },
     "execution_count": 81,
     "metadata": {},
     "output_type": "execute_result"
    }
   ],
   "source": [
    "df_result1 = df_anova12.append(df_anova23)\n",
    "df_result1"
   ]
  },
  {
   "cell_type": "code",
   "execution_count": 82,
   "id": "8a6e2fab",
   "metadata": {},
   "outputs": [
    {
     "data": {
      "text/html": [
       "<div>\n",
       "<style scoped>\n",
       "    .dataframe tbody tr th:only-of-type {\n",
       "        vertical-align: middle;\n",
       "    }\n",
       "\n",
       "    .dataframe tbody tr th {\n",
       "        vertical-align: top;\n",
       "    }\n",
       "\n",
       "    .dataframe thead th {\n",
       "        text-align: right;\n",
       "    }\n",
       "</style>\n",
       "<table border=\"1\" class=\"dataframe\">\n",
       "  <thead>\n",
       "    <tr style=\"text-align: right;\">\n",
       "      <th></th>\n",
       "      <th>score</th>\n",
       "      <th>group</th>\n",
       "    </tr>\n",
       "  </thead>\n",
       "  <tbody>\n",
       "    <tr>\n",
       "      <th>0</th>\n",
       "      <td>-53.33</td>\n",
       "      <td>0</td>\n",
       "    </tr>\n",
       "    <tr>\n",
       "      <th>1</th>\n",
       "      <td>36.67</td>\n",
       "      <td>0</td>\n",
       "    </tr>\n",
       "    <tr>\n",
       "      <th>2</th>\n",
       "      <td>57.50</td>\n",
       "      <td>0</td>\n",
       "    </tr>\n",
       "    <tr>\n",
       "      <th>3</th>\n",
       "      <td>55.00</td>\n",
       "      <td>0</td>\n",
       "    </tr>\n",
       "    <tr>\n",
       "      <th>4</th>\n",
       "      <td>79.17</td>\n",
       "      <td>0</td>\n",
       "    </tr>\n",
       "    <tr>\n",
       "      <th>...</th>\n",
       "      <td>...</td>\n",
       "      <td>...</td>\n",
       "    </tr>\n",
       "    <tr>\n",
       "      <th>158</th>\n",
       "      <td>0.00</td>\n",
       "      <td>3</td>\n",
       "    </tr>\n",
       "    <tr>\n",
       "      <th>159</th>\n",
       "      <td>0.00</td>\n",
       "      <td>3</td>\n",
       "    </tr>\n",
       "    <tr>\n",
       "      <th>160</th>\n",
       "      <td>0.00</td>\n",
       "      <td>3</td>\n",
       "    </tr>\n",
       "    <tr>\n",
       "      <th>161</th>\n",
       "      <td>0.00</td>\n",
       "      <td>3</td>\n",
       "    </tr>\n",
       "    <tr>\n",
       "      <th>162</th>\n",
       "      <td>0.00</td>\n",
       "      <td>3</td>\n",
       "    </tr>\n",
       "  </tbody>\n",
       "</table>\n",
       "<p>489 rows × 2 columns</p>\n",
       "</div>"
      ],
      "text/plain": [
       "     score  group\n",
       "0   -53.33      0\n",
       "1    36.67      0\n",
       "2    57.50      0\n",
       "3    55.00      0\n",
       "4    79.17      0\n",
       "..     ...    ...\n",
       "158   0.00      3\n",
       "159   0.00      3\n",
       "160   0.00      3\n",
       "161   0.00      3\n",
       "162   0.00      3\n",
       "\n",
       "[489 rows x 2 columns]"
      ]
     },
     "execution_count": 82,
     "metadata": {},
     "output_type": "execute_result"
    }
   ],
   "source": [
    "df_result2 = df_result1.append(df_anova34)\n",
    "df_result2"
   ]
  },
  {
   "cell_type": "code",
   "execution_count": 83,
   "id": "020a08ca",
   "metadata": {},
   "outputs": [
    {
     "data": {
      "text/html": [
       "<div>\n",
       "<style scoped>\n",
       "    .dataframe tbody tr th:only-of-type {\n",
       "        vertical-align: middle;\n",
       "    }\n",
       "\n",
       "    .dataframe tbody tr th {\n",
       "        vertical-align: top;\n",
       "    }\n",
       "\n",
       "    .dataframe thead th {\n",
       "        text-align: right;\n",
       "    }\n",
       "</style>\n",
       "<table border=\"1\" class=\"dataframe\">\n",
       "  <thead>\n",
       "    <tr style=\"text-align: right;\">\n",
       "      <th></th>\n",
       "      <th>score</th>\n",
       "      <th>group</th>\n",
       "    </tr>\n",
       "  </thead>\n",
       "  <tbody>\n",
       "    <tr>\n",
       "      <th>0</th>\n",
       "      <td>-53.33</td>\n",
       "      <td>0</td>\n",
       "    </tr>\n",
       "    <tr>\n",
       "      <th>1</th>\n",
       "      <td>36.67</td>\n",
       "      <td>0</td>\n",
       "    </tr>\n",
       "    <tr>\n",
       "      <th>2</th>\n",
       "      <td>57.50</td>\n",
       "      <td>0</td>\n",
       "    </tr>\n",
       "    <tr>\n",
       "      <th>3</th>\n",
       "      <td>55.00</td>\n",
       "      <td>0</td>\n",
       "    </tr>\n",
       "    <tr>\n",
       "      <th>4</th>\n",
       "      <td>79.17</td>\n",
       "      <td>0</td>\n",
       "    </tr>\n",
       "    <tr>\n",
       "      <th>...</th>\n",
       "      <td>...</td>\n",
       "      <td>...</td>\n",
       "    </tr>\n",
       "    <tr>\n",
       "      <th>158</th>\n",
       "      <td>75.00</td>\n",
       "      <td>3</td>\n",
       "    </tr>\n",
       "    <tr>\n",
       "      <th>159</th>\n",
       "      <td>0.00</td>\n",
       "      <td>3</td>\n",
       "    </tr>\n",
       "    <tr>\n",
       "      <th>160</th>\n",
       "      <td>0.00</td>\n",
       "      <td>3</td>\n",
       "    </tr>\n",
       "    <tr>\n",
       "      <th>161</th>\n",
       "      <td>0.00</td>\n",
       "      <td>3</td>\n",
       "    </tr>\n",
       "    <tr>\n",
       "      <th>162</th>\n",
       "      <td>0.00</td>\n",
       "      <td>3</td>\n",
       "    </tr>\n",
       "  </tbody>\n",
       "</table>\n",
       "<p>652 rows × 2 columns</p>\n",
       "</div>"
      ],
      "text/plain": [
       "     score  group\n",
       "0   -53.33      0\n",
       "1    36.67      0\n",
       "2    57.50      0\n",
       "3    55.00      0\n",
       "4    79.17      0\n",
       "..     ...    ...\n",
       "158  75.00      3\n",
       "159   0.00      3\n",
       "160   0.00      3\n",
       "161   0.00      3\n",
       "162   0.00      3\n",
       "\n",
       "[652 rows x 2 columns]"
      ]
     },
     "execution_count": 83,
     "metadata": {},
     "output_type": "execute_result"
    }
   ],
   "source": [
    "df_result3 = df_result2.append(df_anova45)\n",
    "df_result3"
   ]
  },
  {
   "cell_type": "code",
   "execution_count": 84,
   "id": "3bec2e46",
   "metadata": {},
   "outputs": [
    {
     "name": "stdout",
     "output_type": "stream",
     "text": [
      "Multiple Comparison of Means - Tukey HSD, FWER=0.05 \n",
      "====================================================\n",
      "group1 group2 meandiff p-adj   lower   upper  reject\n",
      "----------------------------------------------------\n",
      "     0      1  -3.2744 0.6991 -11.3556 4.8068  False\n",
      "     0      2  -3.5692 0.6464 -11.6504  4.512  False\n",
      "     0      3  -4.8405 0.4079 -12.8747 3.1937  False\n",
      "     1      2  -0.2948    0.9  -8.2743 7.6848  False\n",
      "     1      3  -1.5661    0.9   -9.498 6.3658  False\n",
      "     2      3  -1.2713    0.9  -9.2032 6.6606  False\n",
      "----------------------------------------------------\n"
     ]
    }
   ],
   "source": [
    "from statsmodels.stats.multicomp import pairwise_tukeyhsd\n",
    "\n",
    "\n",
    "# perform Tukey's test\n",
    "tukey = pairwise_tukeyhsd(endog=df_result2['score'],\n",
    "                          groups=df_result2['group'],\n",
    "                          alpha=0.05)\n",
    "\n",
    "#display results\n",
    "print(tukey)"
   ]
  },
  {
   "cell_type": "code",
   "execution_count": null,
   "id": "2b5c933a",
   "metadata": {},
   "outputs": [],
   "source": []
  }
 ],
 "metadata": {
  "kernelspec": {
   "display_name": "Python 3",
   "language": "python",
   "name": "python3"
  },
  "language_info": {
   "codemirror_mode": {
    "name": "ipython",
    "version": 3
   },
   "file_extension": ".py",
   "mimetype": "text/x-python",
   "name": "python",
   "nbconvert_exporter": "python",
   "pygments_lexer": "ipython3",
   "version": "3.8.8"
  }
 },
 "nbformat": 4,
 "nbformat_minor": 5
}
