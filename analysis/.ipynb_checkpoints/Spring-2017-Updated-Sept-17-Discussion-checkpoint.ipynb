{
 "cells": [
  {
   "cell_type": "code",
   "execution_count": 1,
   "id": "1dbbbf7f",
   "metadata": {},
   "outputs": [
    {
     "data": {
      "text/html": [
       "<div>\n",
       "<style scoped>\n",
       "    .dataframe tbody tr th:only-of-type {\n",
       "        vertical-align: middle;\n",
       "    }\n",
       "\n",
       "    .dataframe tbody tr th {\n",
       "        vertical-align: top;\n",
       "    }\n",
       "\n",
       "    .dataframe thead th {\n",
       "        text-align: right;\n",
       "    }\n",
       "</style>\n",
       "<table border=\"1\" class=\"dataframe\">\n",
       "  <thead>\n",
       "    <tr style=\"text-align: right;\">\n",
       "      <th></th>\n",
       "      <th>Project</th>\n",
       "      <th>Hack</th>\n",
       "      <th>Student</th>\n",
       "      <th>Total Score</th>\n",
       "      <th>The % of participants whose total score below your score</th>\n",
       "      <th>Phase</th>\n",
       "    </tr>\n",
       "  </thead>\n",
       "  <tbody>\n",
       "    <tr>\n",
       "      <th>0</th>\n",
       "      <td>lfvalderrama</td>\n",
       "      <td>Bogota-Hack-0-2017</td>\n",
       "      <td>lfvalderrama</td>\n",
       "      <td>352.92</td>\n",
       "      <td>98.04</td>\n",
       "      <td>5th Phase</td>\n",
       "    </tr>\n",
       "    <tr>\n",
       "      <th>1</th>\n",
       "      <td>Judgarciani</td>\n",
       "      <td>Bogota-Hack-0-2017</td>\n",
       "      <td>Judgarciani</td>\n",
       "      <td>325.00</td>\n",
       "      <td>96.08</td>\n",
       "      <td>5th Phase</td>\n",
       "    </tr>\n",
       "    <tr>\n",
       "      <th>2</th>\n",
       "      <td>bsgarciac</td>\n",
       "      <td>Bogota-Hack-0-2017</td>\n",
       "      <td>bsgarciac</td>\n",
       "      <td>320.83</td>\n",
       "      <td>94.12</td>\n",
       "      <td>5th Phase</td>\n",
       "    </tr>\n",
       "    <tr>\n",
       "      <th>3</th>\n",
       "      <td>Moimolcp</td>\n",
       "      <td>Bogota-Hack-0-2017</td>\n",
       "      <td>Moimolcp</td>\n",
       "      <td>304.17</td>\n",
       "      <td>92.16</td>\n",
       "      <td>5th Phase</td>\n",
       "    </tr>\n",
       "    <tr>\n",
       "      <th>4</th>\n",
       "      <td>mnguzmanc</td>\n",
       "      <td>Bogota-Hack-0-2017</td>\n",
       "      <td>mnguzmanc</td>\n",
       "      <td>290.00</td>\n",
       "      <td>90.20</td>\n",
       "      <td>5th Phase</td>\n",
       "    </tr>\n",
       "  </tbody>\n",
       "</table>\n",
       "</div>"
      ],
      "text/plain": [
       "        Project                Hack       Student  Total Score  \\\n",
       "0  lfvalderrama  Bogota-Hack-0-2017  lfvalderrama       352.92   \n",
       "1   Judgarciani  Bogota-Hack-0-2017   Judgarciani       325.00   \n",
       "2     bsgarciac  Bogota-Hack-0-2017     bsgarciac       320.83   \n",
       "3      Moimolcp  Bogota-Hack-0-2017      Moimolcp       304.17   \n",
       "4     mnguzmanc  Bogota-Hack-0-2017     mnguzmanc       290.00   \n",
       "\n",
       "   The % of participants whose total score below your score      Phase  \n",
       "0                                              98.04         5th Phase  \n",
       "1                                              96.08         5th Phase  \n",
       "2                                              94.12         5th Phase  \n",
       "3                                              92.16         5th Phase  \n",
       "4                                              90.20         5th Phase  "
      ]
     },
     "execution_count": 1,
     "metadata": {},
     "output_type": "execute_result"
    }
   ],
   "source": [
    "import pandas as pd\n",
    "\n",
    "df0_phase5 = pd.read_csv('final-bogota-0-phase5.csv')\n",
    "df0_phase5 = df0_phase5.loc[:, ~df0_phase5.columns.str.contains('^Unnamed')]\n",
    "df0_phase5.head(5)"
   ]
  },
  {
   "cell_type": "code",
   "execution_count": 2,
   "id": "9281dfc7",
   "metadata": {},
   "outputs": [
    {
     "data": {
      "text/plain": [
       "190.83"
      ]
     },
     "execution_count": 2,
     "metadata": {},
     "output_type": "execute_result"
    }
   ],
   "source": [
    "df0_phase5['Total Score'].mean()\n",
    "df0_phase5['Total Score'].median()"
   ]
  },
  {
   "cell_type": "code",
   "execution_count": 3,
   "id": "bd9804a3",
   "metadata": {},
   "outputs": [
    {
     "data": {
      "text/html": [
       "<div>\n",
       "<style scoped>\n",
       "    .dataframe tbody tr th:only-of-type {\n",
       "        vertical-align: middle;\n",
       "    }\n",
       "\n",
       "    .dataframe tbody tr th {\n",
       "        vertical-align: top;\n",
       "    }\n",
       "\n",
       "    .dataframe thead th {\n",
       "        text-align: right;\n",
       "    }\n",
       "</style>\n",
       "<table border=\"1\" class=\"dataframe\">\n",
       "  <thead>\n",
       "    <tr style=\"text-align: right;\">\n",
       "      <th></th>\n",
       "      <th>Project</th>\n",
       "      <th>Hack</th>\n",
       "      <th>Student</th>\n",
       "      <th>Total Score</th>\n",
       "      <th>The % of participants whose total score below your score</th>\n",
       "      <th>Phase</th>\n",
       "    </tr>\n",
       "  </thead>\n",
       "  <tbody>\n",
       "    <tr>\n",
       "      <th>0</th>\n",
       "      <td>oeroaq</td>\n",
       "      <td>Bogota-Hack-1-2017</td>\n",
       "      <td>oeroaq</td>\n",
       "      <td>357.50</td>\n",
       "      <td>97.67</td>\n",
       "      <td>5th Phase</td>\n",
       "    </tr>\n",
       "    <tr>\n",
       "      <th>1</th>\n",
       "      <td>jonatan360</td>\n",
       "      <td>Bogota-Hack-1-2017</td>\n",
       "      <td>jonatan360</td>\n",
       "      <td>352.50</td>\n",
       "      <td>95.35</td>\n",
       "      <td>5th Phase</td>\n",
       "    </tr>\n",
       "    <tr>\n",
       "      <th>2</th>\n",
       "      <td>jesusfchavarro</td>\n",
       "      <td>Bogota-Hack-1-2017</td>\n",
       "      <td>jesusfchavarro</td>\n",
       "      <td>345.00</td>\n",
       "      <td>93.02</td>\n",
       "      <td>5th Phase</td>\n",
       "    </tr>\n",
       "    <tr>\n",
       "      <th>3</th>\n",
       "      <td>daandradec</td>\n",
       "      <td>Bogota-Hack-1-2017</td>\n",
       "      <td>daandradec</td>\n",
       "      <td>336.67</td>\n",
       "      <td>90.70</td>\n",
       "      <td>5th Phase</td>\n",
       "    </tr>\n",
       "    <tr>\n",
       "      <th>4</th>\n",
       "      <td>djguzmanc</td>\n",
       "      <td>Bogota-Hack-1-2017</td>\n",
       "      <td>djguzmanc</td>\n",
       "      <td>334.17</td>\n",
       "      <td>88.37</td>\n",
       "      <td>5th Phase</td>\n",
       "    </tr>\n",
       "  </tbody>\n",
       "</table>\n",
       "</div>"
      ],
      "text/plain": [
       "          Project                Hack         Student  Total Score  \\\n",
       "0          oeroaq  Bogota-Hack-1-2017          oeroaq       357.50   \n",
       "1      jonatan360  Bogota-Hack-1-2017      jonatan360       352.50   \n",
       "2  jesusfchavarro  Bogota-Hack-1-2017  jesusfchavarro       345.00   \n",
       "3      daandradec  Bogota-Hack-1-2017      daandradec       336.67   \n",
       "4       djguzmanc  Bogota-Hack-1-2017       djguzmanc       334.17   \n",
       "\n",
       "   The % of participants whose total score below your score      Phase  \n",
       "0                                              97.67         5th Phase  \n",
       "1                                              95.35         5th Phase  \n",
       "2                                              93.02         5th Phase  \n",
       "3                                              90.70         5th Phase  \n",
       "4                                              88.37         5th Phase  "
      ]
     },
     "execution_count": 3,
     "metadata": {},
     "output_type": "execute_result"
    }
   ],
   "source": [
    "df1_phase5 = pd.read_csv('final-bogota-1-phase5.csv')\n",
    "df1_phase5 = df1_phase5.loc[:, ~df1_phase5.columns.str.contains('^Unnamed')]\n",
    "df1_phase5.head(5)"
   ]
  },
  {
   "cell_type": "code",
   "execution_count": 4,
   "id": "55738739",
   "metadata": {},
   "outputs": [
    {
     "data": {
      "text/plain": [
       "198.33"
      ]
     },
     "execution_count": 4,
     "metadata": {},
     "output_type": "execute_result"
    }
   ],
   "source": [
    "df1_phase5['Total Score'].mean()\n",
    "df1_phase5['Total Score'].median()"
   ]
  },
  {
   "cell_type": "code",
   "execution_count": 5,
   "id": "656608ae",
   "metadata": {},
   "outputs": [
    {
     "data": {
      "text/html": [
       "<div>\n",
       "<style scoped>\n",
       "    .dataframe tbody tr th:only-of-type {\n",
       "        vertical-align: middle;\n",
       "    }\n",
       "\n",
       "    .dataframe tbody tr th {\n",
       "        vertical-align: top;\n",
       "    }\n",
       "\n",
       "    .dataframe thead th {\n",
       "        text-align: right;\n",
       "    }\n",
       "</style>\n",
       "<table border=\"1\" class=\"dataframe\">\n",
       "  <thead>\n",
       "    <tr style=\"text-align: right;\">\n",
       "      <th></th>\n",
       "      <th>Project</th>\n",
       "      <th>Hack</th>\n",
       "      <th>Student</th>\n",
       "      <th>Total Score</th>\n",
       "      <th>The % of participants whose total score below your score</th>\n",
       "      <th>Phase</th>\n",
       "    </tr>\n",
       "  </thead>\n",
       "  <tbody>\n",
       "    <tr>\n",
       "      <th>0</th>\n",
       "      <td>xdanielsb</td>\n",
       "      <td>Bogota-Hack-2-2017</td>\n",
       "      <td>xdanielsb</td>\n",
       "      <td>357.50</td>\n",
       "      <td>97.62</td>\n",
       "      <td>5th Phase</td>\n",
       "    </tr>\n",
       "    <tr>\n",
       "      <th>1</th>\n",
       "      <td>Gantiva</td>\n",
       "      <td>Bogota-Hack-2-2017</td>\n",
       "      <td>Gantiva</td>\n",
       "      <td>345.83</td>\n",
       "      <td>95.24</td>\n",
       "      <td>5th Phase</td>\n",
       "    </tr>\n",
       "    <tr>\n",
       "      <th>2</th>\n",
       "      <td>leguzman</td>\n",
       "      <td>Bogota-Hack-2-2017</td>\n",
       "      <td>leguzman</td>\n",
       "      <td>339.17</td>\n",
       "      <td>92.86</td>\n",
       "      <td>5th Phase</td>\n",
       "    </tr>\n",
       "    <tr>\n",
       "      <th>3</th>\n",
       "      <td>juasmartinezbel</td>\n",
       "      <td>Bogota-Hack-2-2017</td>\n",
       "      <td>juasmartinezbel</td>\n",
       "      <td>337.50</td>\n",
       "      <td>90.48</td>\n",
       "      <td>5th Phase</td>\n",
       "    </tr>\n",
       "    <tr>\n",
       "      <th>4</th>\n",
       "      <td>cesarochoa2006</td>\n",
       "      <td>Bogota-Hack-2-2017</td>\n",
       "      <td>cesarochoa2006</td>\n",
       "      <td>326.67</td>\n",
       "      <td>88.10</td>\n",
       "      <td>5th Phase</td>\n",
       "    </tr>\n",
       "  </tbody>\n",
       "</table>\n",
       "</div>"
      ],
      "text/plain": [
       "           Project                Hack          Student  Total Score  \\\n",
       "0        xdanielsb  Bogota-Hack-2-2017        xdanielsb       357.50   \n",
       "1          Gantiva  Bogota-Hack-2-2017          Gantiva       345.83   \n",
       "2         leguzman  Bogota-Hack-2-2017         leguzman       339.17   \n",
       "3  juasmartinezbel  Bogota-Hack-2-2017  juasmartinezbel       337.50   \n",
       "4   cesarochoa2006  Bogota-Hack-2-2017   cesarochoa2006       326.67   \n",
       "\n",
       "   The % of participants whose total score below your score      Phase  \n",
       "0                                              97.62         5th Phase  \n",
       "1                                              95.24         5th Phase  \n",
       "2                                              92.86         5th Phase  \n",
       "3                                              90.48         5th Phase  \n",
       "4                                              88.10         5th Phase  "
      ]
     },
     "execution_count": 5,
     "metadata": {},
     "output_type": "execute_result"
    }
   ],
   "source": [
    "df2_phase5 = pd.read_csv('final-bogota-2-phase5.csv')\n",
    "df2_phase5 = df.loc[:, ~df2_phase5.columns.str.contains('^Unnamed')]\n",
    "df2_phase5.head(5)"
   ]
  },
  {
   "cell_type": "code",
   "execution_count": 6,
   "id": "03f3bea6",
   "metadata": {},
   "outputs": [
    {
     "data": {
      "text/plain": [
       "178.33"
      ]
     },
     "execution_count": 6,
     "metadata": {},
     "output_type": "execute_result"
    }
   ],
   "source": [
    "df2_phase5['Total Score'].mean()\n",
    "df2_phase5['Total Score'].median()"
   ]
  },
  {
   "cell_type": "code",
   "execution_count": 7,
   "id": "01fcf4b2",
   "metadata": {},
   "outputs": [
    {
     "data": {
      "text/html": [
       "<div>\n",
       "<style scoped>\n",
       "    .dataframe tbody tr th:only-of-type {\n",
       "        vertical-align: middle;\n",
       "    }\n",
       "\n",
       "    .dataframe tbody tr th {\n",
       "        vertical-align: top;\n",
       "    }\n",
       "\n",
       "    .dataframe thead th {\n",
       "        text-align: right;\n",
       "    }\n",
       "</style>\n",
       "<table border=\"1\" class=\"dataframe\">\n",
       "  <thead>\n",
       "    <tr style=\"text-align: right;\">\n",
       "      <th></th>\n",
       "      <th>Project</th>\n",
       "      <th>Hack</th>\n",
       "      <th>Student</th>\n",
       "      <th>Total Score</th>\n",
       "      <th>The % of participants whose total score below your score</th>\n",
       "      <th>Phase</th>\n",
       "    </tr>\n",
       "  </thead>\n",
       "  <tbody>\n",
       "    <tr>\n",
       "      <th>0</th>\n",
       "      <td>NicolasPrr</td>\n",
       "      <td>Bogota-Hack-3-2017</td>\n",
       "      <td>NicolasPrr</td>\n",
       "      <td>360.83</td>\n",
       "      <td>97.62</td>\n",
       "      <td>5th Phase</td>\n",
       "    </tr>\n",
       "    <tr>\n",
       "      <th>1</th>\n",
       "      <td>jscastelblancoh</td>\n",
       "      <td>Bogota-Hack-3-2017</td>\n",
       "      <td>jscastelblancoh</td>\n",
       "      <td>358.33</td>\n",
       "      <td>95.24</td>\n",
       "      <td>5th Phase</td>\n",
       "    </tr>\n",
       "    <tr>\n",
       "      <th>2</th>\n",
       "      <td>juligarji</td>\n",
       "      <td>Bogota-Hack-3-2017</td>\n",
       "      <td>juligarji</td>\n",
       "      <td>355.00</td>\n",
       "      <td>92.86</td>\n",
       "      <td>5th Phase</td>\n",
       "    </tr>\n",
       "    <tr>\n",
       "      <th>3</th>\n",
       "      <td>lacardenasv</td>\n",
       "      <td>Bogota-Hack-3-2017</td>\n",
       "      <td>lacardenasv</td>\n",
       "      <td>350.00</td>\n",
       "      <td>90.48</td>\n",
       "      <td>5th Phase</td>\n",
       "    </tr>\n",
       "    <tr>\n",
       "      <th>4</th>\n",
       "      <td>jmalvarezd</td>\n",
       "      <td>Bogota-Hack-3-2017</td>\n",
       "      <td>jmalvarezd</td>\n",
       "      <td>348.75</td>\n",
       "      <td>88.10</td>\n",
       "      <td>5th Phase</td>\n",
       "    </tr>\n",
       "  </tbody>\n",
       "</table>\n",
       "</div>"
      ],
      "text/plain": [
       "           Project                Hack          Student  Total Score  \\\n",
       "0       NicolasPrr  Bogota-Hack-3-2017       NicolasPrr       360.83   \n",
       "1  jscastelblancoh  Bogota-Hack-3-2017  jscastelblancoh       358.33   \n",
       "2        juligarji  Bogota-Hack-3-2017        juligarji       355.00   \n",
       "3      lacardenasv  Bogota-Hack-3-2017      lacardenasv       350.00   \n",
       "4       jmalvarezd  Bogota-Hack-3-2017       jmalvarezd       348.75   \n",
       "\n",
       "   The % of participants whose total score below your score      Phase  \n",
       "0                                              97.62         5th Phase  \n",
       "1                                              95.24         5th Phase  \n",
       "2                                              92.86         5th Phase  \n",
       "3                                              90.48         5th Phase  \n",
       "4                                              88.10         5th Phase  "
      ]
     },
     "execution_count": 7,
     "metadata": {},
     "output_type": "execute_result"
    }
   ],
   "source": [
    "df3_phase5 = pd.read_csv('final-bogota-3-phase5.csv')\n",
    "df3_phase5 = df3_phase5.loc[:, ~df3_phase5.columns.str.contains('^Unnamed')]\n",
    "df3_phase5.head(5)"
   ]
  },
  {
   "cell_type": "code",
   "execution_count": 8,
   "id": "90541bab",
   "metadata": {},
   "outputs": [
    {
     "data": {
      "text/plain": [
       "209.58"
      ]
     },
     "execution_count": 8,
     "metadata": {},
     "output_type": "execute_result"
    }
   ],
   "source": [
    "df3_phase5['Total Score'].mean()\n",
    "df3_phase5['Total Score'].median()"
   ]
  },
  {
   "cell_type": "code",
   "execution_count": 9,
   "id": "72299950",
   "metadata": {},
   "outputs": [
    {
     "data": {
      "text/html": [
       "<div>\n",
       "<style scoped>\n",
       "    .dataframe tbody tr th:only-of-type {\n",
       "        vertical-align: middle;\n",
       "    }\n",
       "\n",
       "    .dataframe tbody tr th {\n",
       "        vertical-align: top;\n",
       "    }\n",
       "\n",
       "    .dataframe thead th {\n",
       "        text-align: right;\n",
       "    }\n",
       "</style>\n",
       "<table border=\"1\" class=\"dataframe\">\n",
       "  <thead>\n",
       "    <tr style=\"text-align: right;\">\n",
       "      <th></th>\n",
       "      <th>Project</th>\n",
       "      <th>Hack</th>\n",
       "      <th>Student</th>\n",
       "      <th>Total Score</th>\n",
       "      <th>The % of participants whose total score below your score</th>\n",
       "      <th>Phase</th>\n",
       "    </tr>\n",
       "  </thead>\n",
       "  <tbody>\n",
       "    <tr>\n",
       "      <th>0</th>\n",
       "      <td>bsgarciac</td>\n",
       "      <td>Bogota-Hack-0-2017</td>\n",
       "      <td>bsgarciac</td>\n",
       "      <td>313.33</td>\n",
       "      <td>98.04</td>\n",
       "      <td>4th Phase</td>\n",
       "    </tr>\n",
       "    <tr>\n",
       "      <th>1</th>\n",
       "      <td>jdsuarezj</td>\n",
       "      <td>Bogota-Hack-0-2017</td>\n",
       "      <td>jdsuarezj</td>\n",
       "      <td>276.67</td>\n",
       "      <td>96.08</td>\n",
       "      <td>4th Phase</td>\n",
       "    </tr>\n",
       "    <tr>\n",
       "      <th>2</th>\n",
       "      <td>capinillab</td>\n",
       "      <td>Bogota-Hack-0-2017</td>\n",
       "      <td>capinillab</td>\n",
       "      <td>251.67</td>\n",
       "      <td>94.12</td>\n",
       "      <td>4th Phase</td>\n",
       "    </tr>\n",
       "    <tr>\n",
       "      <th>3</th>\n",
       "      <td>mnguzmanc</td>\n",
       "      <td>Bogota-Hack-0-2017</td>\n",
       "      <td>mnguzmanc</td>\n",
       "      <td>245.00</td>\n",
       "      <td>92.16</td>\n",
       "      <td>4th Phase</td>\n",
       "    </tr>\n",
       "    <tr>\n",
       "      <th>4</th>\n",
       "      <td>camilo654</td>\n",
       "      <td>Bogota-Hack-0-2017</td>\n",
       "      <td>camilo654</td>\n",
       "      <td>243.33</td>\n",
       "      <td>88.24</td>\n",
       "      <td>4th Phase</td>\n",
       "    </tr>\n",
       "  </tbody>\n",
       "</table>\n",
       "</div>"
      ],
      "text/plain": [
       "      Project                Hack     Student  Total Score  \\\n",
       "0   bsgarciac  Bogota-Hack-0-2017   bsgarciac       313.33   \n",
       "1   jdsuarezj  Bogota-Hack-0-2017   jdsuarezj       276.67   \n",
       "2  capinillab  Bogota-Hack-0-2017  capinillab       251.67   \n",
       "3   mnguzmanc  Bogota-Hack-0-2017   mnguzmanc       245.00   \n",
       "4   camilo654  Bogota-Hack-0-2017   camilo654       243.33   \n",
       "\n",
       "   The % of participants whose total score below your score      Phase  \n",
       "0                                              98.04         4th Phase  \n",
       "1                                              96.08         4th Phase  \n",
       "2                                              94.12         4th Phase  \n",
       "3                                              92.16         4th Phase  \n",
       "4                                              88.24         4th Phase  "
      ]
     },
     "execution_count": 9,
     "metadata": {},
     "output_type": "execute_result"
    }
   ],
   "source": [
    "df0_phase4 = pd.read_csv('final-bogota-0-phase4.csv')\n",
    "df0_phase4 = df.loc[:, ~df.columns.str.contains('^Unnamed')]\n",
    "df.head(5)"
   ]
  },
  {
   "cell_type": "code",
   "execution_count": 10,
   "id": "c62184aa",
   "metadata": {},
   "outputs": [
    {
     "data": {
      "text/plain": [
       "128.33"
      ]
     },
     "execution_count": 10,
     "metadata": {},
     "output_type": "execute_result"
    }
   ],
   "source": [
    "df['Total Score'].mean()\n",
    "df['Total Score'].median()"
   ]
  },
  {
   "cell_type": "code",
   "execution_count": 11,
   "id": "2b1190bf",
   "metadata": {},
   "outputs": [
    {
     "data": {
      "text/html": [
       "<div>\n",
       "<style scoped>\n",
       "    .dataframe tbody tr th:only-of-type {\n",
       "        vertical-align: middle;\n",
       "    }\n",
       "\n",
       "    .dataframe tbody tr th {\n",
       "        vertical-align: top;\n",
       "    }\n",
       "\n",
       "    .dataframe thead th {\n",
       "        text-align: right;\n",
       "    }\n",
       "</style>\n",
       "<table border=\"1\" class=\"dataframe\">\n",
       "  <thead>\n",
       "    <tr style=\"text-align: right;\">\n",
       "      <th></th>\n",
       "      <th>Project</th>\n",
       "      <th>Hack</th>\n",
       "      <th>Student</th>\n",
       "      <th>Total Score</th>\n",
       "      <th>The % of participants whose total score below your score</th>\n",
       "      <th>Phase</th>\n",
       "    </tr>\n",
       "  </thead>\n",
       "  <tbody>\n",
       "    <tr>\n",
       "      <th>0</th>\n",
       "      <td>oeroaq</td>\n",
       "      <td>Bogota-Hack-1-2017</td>\n",
       "      <td>oeroaq</td>\n",
       "      <td>350.00</td>\n",
       "      <td>97.67</td>\n",
       "      <td>4th Phase</td>\n",
       "    </tr>\n",
       "    <tr>\n",
       "      <th>1</th>\n",
       "      <td>jonatan360</td>\n",
       "      <td>Bogota-Hack-1-2017</td>\n",
       "      <td>jonatan360</td>\n",
       "      <td>343.33</td>\n",
       "      <td>95.35</td>\n",
       "      <td>4th Phase</td>\n",
       "    </tr>\n",
       "    <tr>\n",
       "      <th>2</th>\n",
       "      <td>jesusfchavarro</td>\n",
       "      <td>Bogota-Hack-1-2017</td>\n",
       "      <td>jesusfchavarro</td>\n",
       "      <td>333.33</td>\n",
       "      <td>93.02</td>\n",
       "      <td>4th Phase</td>\n",
       "    </tr>\n",
       "    <tr>\n",
       "      <th>3</th>\n",
       "      <td>daandradec</td>\n",
       "      <td>Bogota-Hack-1-2017</td>\n",
       "      <td>daandradec</td>\n",
       "      <td>318.75</td>\n",
       "      <td>90.70</td>\n",
       "      <td>4th Phase</td>\n",
       "    </tr>\n",
       "    <tr>\n",
       "      <th>4</th>\n",
       "      <td>diegoaguevarar</td>\n",
       "      <td>Bogota-Hack-1-2017</td>\n",
       "      <td>diegoaguevarar</td>\n",
       "      <td>312.50</td>\n",
       "      <td>88.37</td>\n",
       "      <td>4th Phase</td>\n",
       "    </tr>\n",
       "  </tbody>\n",
       "</table>\n",
       "</div>"
      ],
      "text/plain": [
       "          Project                Hack         Student  Total Score  \\\n",
       "0          oeroaq  Bogota-Hack-1-2017          oeroaq       350.00   \n",
       "1      jonatan360  Bogota-Hack-1-2017      jonatan360       343.33   \n",
       "2  jesusfchavarro  Bogota-Hack-1-2017  jesusfchavarro       333.33   \n",
       "3      daandradec  Bogota-Hack-1-2017      daandradec       318.75   \n",
       "4  diegoaguevarar  Bogota-Hack-1-2017  diegoaguevarar       312.50   \n",
       "\n",
       "   The % of participants whose total score below your score      Phase  \n",
       "0                                              97.67         4th Phase  \n",
       "1                                              95.35         4th Phase  \n",
       "2                                              93.02         4th Phase  \n",
       "3                                              90.70         4th Phase  \n",
       "4                                              88.37         4th Phase  "
      ]
     },
     "execution_count": 11,
     "metadata": {},
     "output_type": "execute_result"
    }
   ],
   "source": [
    "df = pd.read_csv('final-bogota-1-phase4.csv')\n",
    "df = df.loc[:, ~df.columns.str.contains('^Unnamed')]\n",
    "df.head(5)"
   ]
  },
  {
   "cell_type": "code",
   "execution_count": 12,
   "id": "baf01086",
   "metadata": {},
   "outputs": [
    {
     "data": {
      "text/plain": [
       "174.17"
      ]
     },
     "execution_count": 12,
     "metadata": {},
     "output_type": "execute_result"
    }
   ],
   "source": [
    "df['Total Score'].mean()\n",
    "df['Total Score'].median()"
   ]
  },
  {
   "cell_type": "code",
   "execution_count": 13,
   "id": "f127545c",
   "metadata": {},
   "outputs": [
    {
     "data": {
      "text/html": [
       "<div>\n",
       "<style scoped>\n",
       "    .dataframe tbody tr th:only-of-type {\n",
       "        vertical-align: middle;\n",
       "    }\n",
       "\n",
       "    .dataframe tbody tr th {\n",
       "        vertical-align: top;\n",
       "    }\n",
       "\n",
       "    .dataframe thead th {\n",
       "        text-align: right;\n",
       "    }\n",
       "</style>\n",
       "<table border=\"1\" class=\"dataframe\">\n",
       "  <thead>\n",
       "    <tr style=\"text-align: right;\">\n",
       "      <th></th>\n",
       "      <th>Project</th>\n",
       "      <th>Hack</th>\n",
       "      <th>Student</th>\n",
       "      <th>Total Score</th>\n",
       "      <th>The % of participants whose total score below your score</th>\n",
       "      <th>Phase</th>\n",
       "    </tr>\n",
       "  </thead>\n",
       "  <tbody>\n",
       "    <tr>\n",
       "      <th>0</th>\n",
       "      <td>fabianr23</td>\n",
       "      <td>Bogota-Hack-2-2017</td>\n",
       "      <td>fabianr23</td>\n",
       "      <td>358.33</td>\n",
       "      <td>97.62</td>\n",
       "      <td>4th Phase</td>\n",
       "    </tr>\n",
       "    <tr>\n",
       "      <th>1</th>\n",
       "      <td>jhriverasa</td>\n",
       "      <td>Bogota-Hack-2-2017</td>\n",
       "      <td>jhriverasa</td>\n",
       "      <td>333.33</td>\n",
       "      <td>95.24</td>\n",
       "      <td>4th Phase</td>\n",
       "    </tr>\n",
       "    <tr>\n",
       "      <th>2</th>\n",
       "      <td>JuanitoAli</td>\n",
       "      <td>Bogota-Hack-2-2017</td>\n",
       "      <td>JuanitoAli</td>\n",
       "      <td>325.00</td>\n",
       "      <td>92.86</td>\n",
       "      <td>4th Phase</td>\n",
       "    </tr>\n",
       "    <tr>\n",
       "      <th>3</th>\n",
       "      <td>juasmartinezbel</td>\n",
       "      <td>Bogota-Hack-2-2017</td>\n",
       "      <td>juasmartinezbel</td>\n",
       "      <td>320.83</td>\n",
       "      <td>90.48</td>\n",
       "      <td>4th Phase</td>\n",
       "    </tr>\n",
       "    <tr>\n",
       "      <th>4</th>\n",
       "      <td>Davsatu313</td>\n",
       "      <td>Bogota-Hack-2-2017</td>\n",
       "      <td>Davsatu313</td>\n",
       "      <td>300.83</td>\n",
       "      <td>88.10</td>\n",
       "      <td>4th Phase</td>\n",
       "    </tr>\n",
       "  </tbody>\n",
       "</table>\n",
       "</div>"
      ],
      "text/plain": [
       "           Project                Hack          Student  Total Score  \\\n",
       "0        fabianr23  Bogota-Hack-2-2017        fabianr23       358.33   \n",
       "1       jhriverasa  Bogota-Hack-2-2017       jhriverasa       333.33   \n",
       "2       JuanitoAli  Bogota-Hack-2-2017       JuanitoAli       325.00   \n",
       "3  juasmartinezbel  Bogota-Hack-2-2017  juasmartinezbel       320.83   \n",
       "4       Davsatu313  Bogota-Hack-2-2017       Davsatu313       300.83   \n",
       "\n",
       "   The % of participants whose total score below your score      Phase  \n",
       "0                                              97.62         4th Phase  \n",
       "1                                              95.24         4th Phase  \n",
       "2                                              92.86         4th Phase  \n",
       "3                                              90.48         4th Phase  \n",
       "4                                              88.10         4th Phase  "
      ]
     },
     "execution_count": 13,
     "metadata": {},
     "output_type": "execute_result"
    }
   ],
   "source": [
    "df = pd.read_csv('final-bogota-2-phase4.csv')\n",
    "df = df.loc[:, ~df.columns.str.contains('^Unnamed')]\n",
    "df.head(5)"
   ]
  },
  {
   "cell_type": "code",
   "execution_count": 14,
   "id": "bc0993ca",
   "metadata": {},
   "outputs": [
    {
     "data": {
      "text/plain": [
       "137.5"
      ]
     },
     "execution_count": 14,
     "metadata": {},
     "output_type": "execute_result"
    }
   ],
   "source": [
    "df['Total Score'].mean()\n",
    "df['Total Score'].median()"
   ]
  },
  {
   "cell_type": "code",
   "execution_count": 15,
   "id": "db593947",
   "metadata": {},
   "outputs": [
    {
     "data": {
      "text/html": [
       "<div>\n",
       "<style scoped>\n",
       "    .dataframe tbody tr th:only-of-type {\n",
       "        vertical-align: middle;\n",
       "    }\n",
       "\n",
       "    .dataframe tbody tr th {\n",
       "        vertical-align: top;\n",
       "    }\n",
       "\n",
       "    .dataframe thead th {\n",
       "        text-align: right;\n",
       "    }\n",
       "</style>\n",
       "<table border=\"1\" class=\"dataframe\">\n",
       "  <thead>\n",
       "    <tr style=\"text-align: right;\">\n",
       "      <th></th>\n",
       "      <th>Project</th>\n",
       "      <th>Hack</th>\n",
       "      <th>Student</th>\n",
       "      <th>Total Score</th>\n",
       "      <th>The % of participants whose total score below your score</th>\n",
       "      <th>Phase</th>\n",
       "    </tr>\n",
       "  </thead>\n",
       "  <tbody>\n",
       "    <tr>\n",
       "      <th>0</th>\n",
       "      <td>juligarji</td>\n",
       "      <td>Bogota-Hack-3-2017</td>\n",
       "      <td>juligarji</td>\n",
       "      <td>358.33</td>\n",
       "      <td>97.62</td>\n",
       "      <td>4th Phase</td>\n",
       "    </tr>\n",
       "    <tr>\n",
       "      <th>1</th>\n",
       "      <td>lgmoralesa</td>\n",
       "      <td>Bogota-Hack-3-2017</td>\n",
       "      <td>lgmoralesa</td>\n",
       "      <td>337.50</td>\n",
       "      <td>95.24</td>\n",
       "      <td>4th Phase</td>\n",
       "    </tr>\n",
       "    <tr>\n",
       "      <th>2</th>\n",
       "      <td>jscastelblancoh</td>\n",
       "      <td>Bogota-Hack-3-2017</td>\n",
       "      <td>jscastelblancoh</td>\n",
       "      <td>316.67</td>\n",
       "      <td>92.86</td>\n",
       "      <td>4th Phase</td>\n",
       "    </tr>\n",
       "    <tr>\n",
       "      <th>3</th>\n",
       "      <td>jumcorredorro</td>\n",
       "      <td>Bogota-Hack-3-2017</td>\n",
       "      <td>jumcorredorro</td>\n",
       "      <td>305.00</td>\n",
       "      <td>90.48</td>\n",
       "      <td>4th Phase</td>\n",
       "    </tr>\n",
       "    <tr>\n",
       "      <th>4</th>\n",
       "      <td>lemartinp</td>\n",
       "      <td>Bogota-Hack-3-2017</td>\n",
       "      <td>lemartinp</td>\n",
       "      <td>300.83</td>\n",
       "      <td>88.10</td>\n",
       "      <td>4th Phase</td>\n",
       "    </tr>\n",
       "  </tbody>\n",
       "</table>\n",
       "</div>"
      ],
      "text/plain": [
       "           Project                Hack          Student  Total Score  \\\n",
       "0        juligarji  Bogota-Hack-3-2017        juligarji       358.33   \n",
       "1       lgmoralesa  Bogota-Hack-3-2017       lgmoralesa       337.50   \n",
       "2  jscastelblancoh  Bogota-Hack-3-2017  jscastelblancoh       316.67   \n",
       "3    jumcorredorro  Bogota-Hack-3-2017    jumcorredorro       305.00   \n",
       "4        lemartinp  Bogota-Hack-3-2017        lemartinp       300.83   \n",
       "\n",
       "   The % of participants whose total score below your score      Phase  \n",
       "0                                              97.62         4th Phase  \n",
       "1                                              95.24         4th Phase  \n",
       "2                                              92.86         4th Phase  \n",
       "3                                              90.48         4th Phase  \n",
       "4                                              88.10         4th Phase  "
      ]
     },
     "execution_count": 15,
     "metadata": {},
     "output_type": "execute_result"
    }
   ],
   "source": [
    "df = pd.read_csv('final-bogota-3-phase4.csv')\n",
    "df = df.loc[:, ~df.columns.str.contains('^Unnamed')]\n",
    "df.head(5)"
   ]
  },
  {
   "cell_type": "code",
   "execution_count": 16,
   "id": "44474d8c",
   "metadata": {},
   "outputs": [
    {
     "data": {
      "text/plain": [
       "145.41500000000002"
      ]
     },
     "execution_count": 16,
     "metadata": {},
     "output_type": "execute_result"
    }
   ],
   "source": [
    "df['Total Score'].mean()\n",
    "df['Total Score'].median()"
   ]
  },
  {
   "cell_type": "code",
   "execution_count": null,
   "id": "d7c72434",
   "metadata": {},
   "outputs": [],
   "source": []
  }
 ],
 "metadata": {
  "kernelspec": {
   "display_name": "Python 3",
   "language": "python",
   "name": "python3"
  },
  "language_info": {
   "codemirror_mode": {
    "name": "ipython",
    "version": 3
   },
   "file_extension": ".py",
   "mimetype": "text/x-python",
   "name": "python",
   "nbconvert_exporter": "python",
   "pygments_lexer": "ipython3",
   "version": "3.8.8"
  }
 },
 "nbformat": 4,
 "nbformat_minor": 5
}
