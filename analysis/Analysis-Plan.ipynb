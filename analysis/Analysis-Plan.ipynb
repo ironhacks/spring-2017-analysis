{
 "cells": [
  {
   "cell_type": "markdown",
   "id": "bc0dc1f4",
   "metadata": {},
   "source": [
    "# Analysis Plan Spring 2017\n",
    "\n",
    "## Hypothesis: \n",
    "\n",
    "What is the effect of different types of transparency on the solution outcomes?\n",
    "\n",
    "\n",
    "## Treatment Conditions: \n",
    "\n",
    "Bogota 0 - \n",
    "\n",
    "Bogota 1 - \n",
    "\n",
    "Bogota 2 - \n",
    "\n",
    "Bogota 3 - "
   ]
  },
  {
   "cell_type": "code",
   "execution_count": null,
   "id": "1d75f52d",
   "metadata": {},
   "outputs": [],
   "source": []
  }
 ],
 "metadata": {
  "kernelspec": {
   "display_name": "Python 3",
   "language": "python",
   "name": "python3"
  },
  "language_info": {
   "codemirror_mode": {
    "name": "ipython",
    "version": 3
   },
   "file_extension": ".py",
   "mimetype": "text/x-python",
   "name": "python",
   "nbconvert_exporter": "python",
   "pygments_lexer": "ipython3",
   "version": "3.8.8"
  }
 },
 "nbformat": 4,
 "nbformat_minor": 5
}
