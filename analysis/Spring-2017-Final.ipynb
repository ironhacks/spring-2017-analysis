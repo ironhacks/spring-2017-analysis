{
 "cells": [
  {
   "cell_type": "markdown",
   "id": "c7da6d37",
   "metadata": {},
   "source": [
    "## Research Question\n",
    "\n",
    "What is the effect of the different treatments ( no transparency, performance transparency, solution transparency and full transparency ) on the improvement scores of the participants at each phase? \n",
    "\n",
    "\n",
    "## Human Subjects\n",
    "- Bogota 0 - No Transparency  ( 39 registered participants )\n",
    "- Bogota 1 - Performance Transparency ( 41 registered participants )\n",
    "- Bogota 2 - Solution Transparency ( 41 registered participants )\n",
    "- Bogota 3 - Full Transparency ( 41 registered participants )\n",
    "\n",
    "## Analysis Methods \n",
    "\n",
    "- ANOVA Analysis on Total Scores"
   ]
  },
  {
   "cell_type": "markdown",
   "id": "1012dcdb",
   "metadata": {},
   "source": [
    "## EDA for Bogota 3 Phase 5"
   ]
  },
  {
   "cell_type": "code",
   "execution_count": 2,
   "id": "7420ada8",
   "metadata": {},
   "outputs": [
    {
     "name": "stdout",
     "output_type": "stream",
     "text": [
      "242.91583333333332 233.33499999999998 84.6233827657243 360.83 75.0\n"
     ]
    }
   ],
   "source": [
    "import pandas as pd\n",
    "import numpy as np\n",
    "\n",
    "\n",
    "\n",
    "df = pd.read_csv(\"bogota-3-phase-5.csv\")\n",
    "df = df.loc[:, ~df.columns.str.contains('^Unnamed')]\n",
    "mean = df['Total Score'].mean()\n",
    "median = df['Total Score'].median()\n",
    "std = df['Total Score'].std()\n",
    "maxi = df['Total Score'].max()\n",
    "mini = df['Total Score'].min()\n",
    "\n",
    "print(mean, median, std, maxi, mini)"
   ]
  },
  {
   "cell_type": "markdown",
   "id": "4ef4180b",
   "metadata": {},
   "source": [
    "## EDA for Bogota 3 Phase 4"
   ]
  },
  {
   "cell_type": "code",
   "execution_count": 4,
   "id": "50aab5a5",
   "metadata": {},
   "outputs": [
    {
     "name": "stdout",
     "output_type": "stream",
     "text": [
      "183.7258333333333 152.08499999999998 80.83785334588883 358.33 75.0\n"
     ]
    }
   ],
   "source": [
    "df = pd.read_csv(\"bogota-3-phase-4.csv\")\n",
    "df = df.loc[:, ~df.columns.str.contains('^Unnamed')]\n",
    "mean = df['Total Score'].mean()\n",
    "median = df['Total Score'].median()\n",
    "std = df['Total Score'].std()\n",
    "maxi = df['Total Score'].max()\n",
    "mini = df['Total Score'].min()\n",
    "\n",
    "print(mean, median, std, maxi, mini)"
   ]
  },
  {
   "cell_type": "markdown",
   "id": "895399d1",
   "metadata": {},
   "source": [
    "## EDA for Bogota 3 Phase 3"
   ]
  },
  {
   "cell_type": "code",
   "execution_count": 6,
   "id": "ed713532",
   "metadata": {},
   "outputs": [
    {
     "name": "stdout",
     "output_type": "stream",
     "text": [
      "169.09638888888887 146.66500000000002 67.39400147757017 330.0 90.83\n"
     ]
    }
   ],
   "source": [
    "df = pd.read_csv(\"bogota-3-phase-3.csv\")\n",
    "df = df.loc[:, ~df.columns.str.contains('^Unnamed')]\n",
    "mean = df['Total Score'].mean()\n",
    "median = df['Total Score'].median()\n",
    "std = df['Total Score'].std()\n",
    "maxi = df['Total Score'].max()\n",
    "mini = df['Total Score'].min()\n",
    "\n",
    "print(mean, median, std, maxi, mini)"
   ]
  },
  {
   "cell_type": "markdown",
   "id": "a82812af",
   "metadata": {},
   "source": [
    "## EDA for Bogota 3 Phase 2"
   ]
  },
  {
   "cell_type": "code",
   "execution_count": 7,
   "id": "454ee950",
   "metadata": {},
   "outputs": [
    {
     "name": "stdout",
     "output_type": "stream",
     "text": [
      "160.1961111111111 132.08499999999998 66.35386208063457 333.33 75.0\n"
     ]
    }
   ],
   "source": [
    "df = pd.read_csv(\"bogota-3-phase-2.csv\")\n",
    "df = df.loc[:, ~df.columns.str.contains('^Unnamed')]\n",
    "mean = df['Total Score'].mean()\n",
    "median = df['Total Score'].median()\n",
    "std = df['Total Score'].std()\n",
    "maxi = df['Total Score'].max()\n",
    "mini = df['Total Score'].min()\n",
    "\n",
    "print(mean, median, std, maxi, mini)"
   ]
  },
  {
   "cell_type": "markdown",
   "id": "150921de",
   "metadata": {},
   "source": [
    "## EDA for Bogota 3 Phase 1"
   ]
  },
  {
   "cell_type": "code",
   "execution_count": 8,
   "id": "b52376a5",
   "metadata": {},
   "outputs": [
    {
     "name": "stdout",
     "output_type": "stream",
     "text": [
      "115.3363888888889 105.83500000000001 64.04494953447161 329.17 12.5\n"
     ]
    }
   ],
   "source": [
    "df = pd.read_csv(\"bogota-3-phase-1.csv\")\n",
    "df = df.loc[:, ~df.columns.str.contains('^Unnamed')]\n",
    "mean = df['Total Score'].mean()\n",
    "median = df['Total Score'].median()\n",
    "std = df['Total Score'].std()\n",
    "maxi = df['Total Score'].max()\n",
    "mini = df['Total Score'].min()\n",
    "\n",
    "print(mean, median, std, maxi, mini)"
   ]
  },
  {
   "cell_type": "markdown",
   "id": "879e81a9",
   "metadata": {},
   "source": [
    "## EDA for Bogota 2 Phase 5"
   ]
  },
  {
   "cell_type": "code",
   "execution_count": null,
   "id": "4000f236",
   "metadata": {},
   "outputs": [],
   "source": [
    "df = pd.read_csv(\"bogota-2-phase-5.csv\")\n",
    "df = df.loc[:, ~df.columns.str.contains('^Unnamed')]\n",
    "mean = df['Total Score'].mean()\n",
    "median = df['Total Score'].median()\n",
    "std = df['Total Score'].std()\n",
    "maxi = df['Total Score'].max()\n",
    "mini = df['Total Score'].min()\n",
    "\n",
    "print(mean, median, std, maxi, mini)"
   ]
  },
  {
   "cell_type": "markdown",
   "id": "2b0b10e3",
   "metadata": {},
   "source": [
    "## EDA for Bogota 2 Phase 4"
   ]
  },
  {
   "cell_type": "code",
   "execution_count": 12,
   "id": "c603dd1e",
   "metadata": {},
   "outputs": [
    {
     "name": "stdout",
     "output_type": "stream",
     "text": [
      "188.6653125 178.33499999999998 86.85169755186783 358.33 45.0\n"
     ]
    }
   ],
   "source": [
    "df = pd.read_csv(\"bogota-2-phase-4.csv\")\n",
    "df = df.loc[:, ~df.columns.str.contains('^Unnamed')]\n",
    "mean = df['Total Score'].mean()\n",
    "median = df['Total Score'].median()\n",
    "std = df['Total Score'].std()\n",
    "maxi = df['Total Score'].max()\n",
    "mini = df['Total Score'].min()\n",
    "\n",
    "print(mean, median, std, maxi, mini)"
   ]
  },
  {
   "cell_type": "markdown",
   "id": "0a1cad1f",
   "metadata": {},
   "source": [
    "## EDA for Bogota 2 Phase 3"
   ]
  },
  {
   "cell_type": "code",
   "execution_count": 13,
   "id": "ab09ae5c",
   "metadata": {},
   "outputs": [
    {
     "name": "stdout",
     "output_type": "stream",
     "text": [
      "188.6653125 178.33499999999998 86.85169755186783 358.33 45.0\n"
     ]
    }
   ],
   "source": [
    "df = pd.read_csv(\"bogota-2-phase-3.csv\")\n",
    "df = df.loc[:, ~df.columns.str.contains('^Unnamed')]\n",
    "mean = df['Total Score'].mean()\n",
    "median = df['Total Score'].median()\n",
    "std = df['Total Score'].std()\n",
    "maxi = df['Total Score'].max()\n",
    "mini = df['Total Score'].min()\n",
    "\n",
    "print(mean, median, std, maxi, mini)"
   ]
  },
  {
   "cell_type": "markdown",
   "id": "c86c7945",
   "metadata": {},
   "source": [
    "## EDA for Bogota 2 Phase 2"
   ]
  },
  {
   "cell_type": "code",
   "execution_count": 14,
   "id": "dcd0b394",
   "metadata": {},
   "outputs": [
    {
     "name": "stdout",
     "output_type": "stream",
     "text": [
      "162.34375 134.58 76.22124514392509 330.0 57.5\n"
     ]
    }
   ],
   "source": [
    "df = pd.read_csv(\"bogota-2-phase-2.csv\")\n",
    "df = df.loc[:, ~df.columns.str.contains('^Unnamed')]\n",
    "mean = df['Total Score'].mean()\n",
    "median = df['Total Score'].median()\n",
    "std = df['Total Score'].std()\n",
    "maxi = df['Total Score'].max()\n",
    "mini = df['Total Score'].min()\n",
    "\n",
    "print(mean, median, std, maxi, mini)"
   ]
  },
  {
   "cell_type": "markdown",
   "id": "9e4efd2c",
   "metadata": {},
   "source": [
    "## EDA for Bogota 2 Phase 1"
   ]
  },
  {
   "cell_type": "code",
   "execution_count": 15,
   "id": "cf65ccd0",
   "metadata": {},
   "outputs": [
    {
     "name": "stdout",
     "output_type": "stream",
     "text": [
      "126.06843750000002 111.66499999999999 64.64105766608027 260.0 12.5\n"
     ]
    }
   ],
   "source": [
    "df = pd.read_csv(\"bogota-2-phase-1.csv\")\n",
    "df = df.loc[:, ~df.columns.str.contains('^Unnamed')]\n",
    "mean = df['Total Score'].mean()\n",
    "median = df['Total Score'].median()\n",
    "std = df['Total Score'].std()\n",
    "maxi = df['Total Score'].max()\n",
    "mini = df['Total Score'].min()\n",
    "\n",
    "print(mean, median, std, maxi, mini)"
   ]
  },
  {
   "cell_type": "markdown",
   "id": "567953fa",
   "metadata": {},
   "source": [
    "## EDA for Bogota 1 Phase 5"
   ]
  },
  {
   "cell_type": "code",
   "execution_count": null,
   "id": "52d1bf90",
   "metadata": {},
   "outputs": [],
   "source": []
  },
  {
   "cell_type": "markdown",
   "id": "be28b498",
   "metadata": {},
   "source": [
    "## EDA for Bogota 1 Phase 4"
   ]
  },
  {
   "cell_type": "code",
   "execution_count": null,
   "id": "918d55cf",
   "metadata": {},
   "outputs": [],
   "source": []
  },
  {
   "cell_type": "markdown",
   "id": "05601fd5",
   "metadata": {},
   "source": [
    "## EDA for Bogota 1 Phase 3"
   ]
  },
  {
   "cell_type": "code",
   "execution_count": null,
   "id": "7d244df2",
   "metadata": {},
   "outputs": [],
   "source": []
  },
  {
   "cell_type": "markdown",
   "id": "8c540000",
   "metadata": {},
   "source": [
    "## EDA for Bogota 1 Phase 2"
   ]
  },
  {
   "cell_type": "code",
   "execution_count": null,
   "id": "f17b73d4",
   "metadata": {},
   "outputs": [],
   "source": []
  },
  {
   "cell_type": "markdown",
   "id": "50204414",
   "metadata": {},
   "source": [
    "## EDA for Bogota 1 Phase 1"
   ]
  },
  {
   "cell_type": "code",
   "execution_count": null,
   "id": "9d3c60cf",
   "metadata": {},
   "outputs": [],
   "source": []
  }
 ],
 "metadata": {
  "kernelspec": {
   "display_name": "Python 3",
   "language": "python",
   "name": "python3"
  },
  "language_info": {
   "codemirror_mode": {
    "name": "ipython",
    "version": 3
   },
   "file_extension": ".py",
   "mimetype": "text/x-python",
   "name": "python",
   "nbconvert_exporter": "python",
   "pygments_lexer": "ipython3",
   "version": "3.8.8"
  }
 },
 "nbformat": 4,
 "nbformat_minor": 5
}
