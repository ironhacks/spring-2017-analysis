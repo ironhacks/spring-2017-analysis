{
 "cells": [
  {
   "cell_type": "code",
   "execution_count": 1,
   "id": "ea5fdcd3",
   "metadata": {},
   "outputs": [
    {
     "data": {
      "text/html": [
       "<div>\n",
       "<style scoped>\n",
       "    .dataframe tbody tr th:only-of-type {\n",
       "        vertical-align: middle;\n",
       "    }\n",
       "\n",
       "    .dataframe tbody tr th {\n",
       "        vertical-align: top;\n",
       "    }\n",
       "\n",
       "    .dataframe thead th {\n",
       "        text-align: right;\n",
       "    }\n",
       "</style>\n",
       "<table border=\"1\" class=\"dataframe\">\n",
       "  <thead>\n",
       "    <tr style=\"text-align: right;\">\n",
       "      <th></th>\n",
       "      <th>Project</th>\n",
       "      <th>Hack</th>\n",
       "      <th>Student</th>\n",
       "      <th>Total Score</th>\n",
       "      <th>The % of participants whose total score below your score</th>\n",
       "      <th>Phase</th>\n",
       "    </tr>\n",
       "  </thead>\n",
       "  <tbody>\n",
       "    <tr>\n",
       "      <th>0</th>\n",
       "      <td>lfvalderrama</td>\n",
       "      <td>Bogota-Hack-0-2017</td>\n",
       "      <td>lfvalderrama</td>\n",
       "      <td>352.92</td>\n",
       "      <td>98.04</td>\n",
       "      <td>5th Phase</td>\n",
       "    </tr>\n",
       "    <tr>\n",
       "      <th>1</th>\n",
       "      <td>Judgarciani</td>\n",
       "      <td>Bogota-Hack-0-2017</td>\n",
       "      <td>Judgarciani</td>\n",
       "      <td>325.00</td>\n",
       "      <td>96.08</td>\n",
       "      <td>5th Phase</td>\n",
       "    </tr>\n",
       "    <tr>\n",
       "      <th>2</th>\n",
       "      <td>bsgarciac</td>\n",
       "      <td>Bogota-Hack-0-2017</td>\n",
       "      <td>bsgarciac</td>\n",
       "      <td>320.83</td>\n",
       "      <td>94.12</td>\n",
       "      <td>5th Phase</td>\n",
       "    </tr>\n",
       "    <tr>\n",
       "      <th>3</th>\n",
       "      <td>Moimolcp</td>\n",
       "      <td>Bogota-Hack-0-2017</td>\n",
       "      <td>Moimolcp</td>\n",
       "      <td>304.17</td>\n",
       "      <td>92.16</td>\n",
       "      <td>5th Phase</td>\n",
       "    </tr>\n",
       "    <tr>\n",
       "      <th>4</th>\n",
       "      <td>mnguzmanc</td>\n",
       "      <td>Bogota-Hack-0-2017</td>\n",
       "      <td>mnguzmanc</td>\n",
       "      <td>290.00</td>\n",
       "      <td>90.20</td>\n",
       "      <td>5th Phase</td>\n",
       "    </tr>\n",
       "  </tbody>\n",
       "</table>\n",
       "</div>"
      ],
      "text/plain": [
       "        Project                Hack       Student  Total Score  \\\n",
       "0  lfvalderrama  Bogota-Hack-0-2017  lfvalderrama       352.92   \n",
       "1   Judgarciani  Bogota-Hack-0-2017   Judgarciani       325.00   \n",
       "2     bsgarciac  Bogota-Hack-0-2017     bsgarciac       320.83   \n",
       "3      Moimolcp  Bogota-Hack-0-2017      Moimolcp       304.17   \n",
       "4     mnguzmanc  Bogota-Hack-0-2017     mnguzmanc       290.00   \n",
       "\n",
       "   The % of participants whose total score below your score      Phase  \n",
       "0                                              98.04         5th Phase  \n",
       "1                                              96.08         5th Phase  \n",
       "2                                              94.12         5th Phase  \n",
       "3                                              92.16         5th Phase  \n",
       "4                                              90.20         5th Phase  "
      ]
     },
     "execution_count": 1,
     "metadata": {},
     "output_type": "execute_result"
    }
   ],
   "source": [
    "import pandas as pd\n",
    "\n",
    "df0_phase5 = pd.read_csv('final-bogota-0-phase5.csv')\n",
    "df0_phase5 = df0_phase5.loc[:, ~df0_phase5.columns.str.contains('^Unnamed')]\n",
    "df0_phase5.head(5)"
   ]
  },
  {
   "cell_type": "code",
   "execution_count": 2,
   "id": "0c27494a",
   "metadata": {},
   "outputs": [
    {
     "data": {
      "text/plain": [
       "190.83"
      ]
     },
     "execution_count": 2,
     "metadata": {},
     "output_type": "execute_result"
    }
   ],
   "source": [
    "df0_phase5['Total Score'].mean()\n",
    "df0_phase5['Total Score'].median()"
   ]
  },
  {
   "cell_type": "code",
   "execution_count": 3,
   "id": "e85cde3c",
   "metadata": {},
   "outputs": [
    {
     "data": {
      "text/html": [
       "<div>\n",
       "<style scoped>\n",
       "    .dataframe tbody tr th:only-of-type {\n",
       "        vertical-align: middle;\n",
       "    }\n",
       "\n",
       "    .dataframe tbody tr th {\n",
       "        vertical-align: top;\n",
       "    }\n",
       "\n",
       "    .dataframe thead th {\n",
       "        text-align: right;\n",
       "    }\n",
       "</style>\n",
       "<table border=\"1\" class=\"dataframe\">\n",
       "  <thead>\n",
       "    <tr style=\"text-align: right;\">\n",
       "      <th></th>\n",
       "      <th>Project</th>\n",
       "      <th>Hack</th>\n",
       "      <th>Student</th>\n",
       "      <th>Total Score</th>\n",
       "      <th>The % of participants whose total score below your score</th>\n",
       "      <th>Phase</th>\n",
       "    </tr>\n",
       "  </thead>\n",
       "  <tbody>\n",
       "    <tr>\n",
       "      <th>0</th>\n",
       "      <td>oeroaq</td>\n",
       "      <td>Bogota-Hack-1-2017</td>\n",
       "      <td>oeroaq</td>\n",
       "      <td>357.50</td>\n",
       "      <td>97.67</td>\n",
       "      <td>5th Phase</td>\n",
       "    </tr>\n",
       "    <tr>\n",
       "      <th>1</th>\n",
       "      <td>jonatan360</td>\n",
       "      <td>Bogota-Hack-1-2017</td>\n",
       "      <td>jonatan360</td>\n",
       "      <td>352.50</td>\n",
       "      <td>95.35</td>\n",
       "      <td>5th Phase</td>\n",
       "    </tr>\n",
       "    <tr>\n",
       "      <th>2</th>\n",
       "      <td>jesusfchavarro</td>\n",
       "      <td>Bogota-Hack-1-2017</td>\n",
       "      <td>jesusfchavarro</td>\n",
       "      <td>345.00</td>\n",
       "      <td>93.02</td>\n",
       "      <td>5th Phase</td>\n",
       "    </tr>\n",
       "    <tr>\n",
       "      <th>3</th>\n",
       "      <td>daandradec</td>\n",
       "      <td>Bogota-Hack-1-2017</td>\n",
       "      <td>daandradec</td>\n",
       "      <td>336.67</td>\n",
       "      <td>90.70</td>\n",
       "      <td>5th Phase</td>\n",
       "    </tr>\n",
       "    <tr>\n",
       "      <th>4</th>\n",
       "      <td>djguzmanc</td>\n",
       "      <td>Bogota-Hack-1-2017</td>\n",
       "      <td>djguzmanc</td>\n",
       "      <td>334.17</td>\n",
       "      <td>88.37</td>\n",
       "      <td>5th Phase</td>\n",
       "    </tr>\n",
       "  </tbody>\n",
       "</table>\n",
       "</div>"
      ],
      "text/plain": [
       "          Project                Hack         Student  Total Score  \\\n",
       "0          oeroaq  Bogota-Hack-1-2017          oeroaq       357.50   \n",
       "1      jonatan360  Bogota-Hack-1-2017      jonatan360       352.50   \n",
       "2  jesusfchavarro  Bogota-Hack-1-2017  jesusfchavarro       345.00   \n",
       "3      daandradec  Bogota-Hack-1-2017      daandradec       336.67   \n",
       "4       djguzmanc  Bogota-Hack-1-2017       djguzmanc       334.17   \n",
       "\n",
       "   The % of participants whose total score below your score      Phase  \n",
       "0                                              97.67         5th Phase  \n",
       "1                                              95.35         5th Phase  \n",
       "2                                              93.02         5th Phase  \n",
       "3                                              90.70         5th Phase  \n",
       "4                                              88.37         5th Phase  "
      ]
     },
     "execution_count": 3,
     "metadata": {},
     "output_type": "execute_result"
    }
   ],
   "source": [
    "df1_phase5 = pd.read_csv('final-bogota-1-phase5.csv')\n",
    "df1_phase5 = df1_phase5.loc[:, ~df1_phase5.columns.str.contains('^Unnamed')]\n",
    "df1_phase5.head(5)"
   ]
  },
  {
   "cell_type": "code",
   "execution_count": 4,
   "id": "6ea5e193",
   "metadata": {},
   "outputs": [
    {
     "data": {
      "text/plain": [
       "198.33"
      ]
     },
     "execution_count": 4,
     "metadata": {},
     "output_type": "execute_result"
    }
   ],
   "source": [
    "df1_phase5['Total Score'].mean()\n",
    "df1_phase5['Total Score'].median()"
   ]
  },
  {
   "cell_type": "code",
   "execution_count": 5,
   "id": "4cff9d1e",
   "metadata": {},
   "outputs": [
    {
     "data": {
      "text/html": [
       "<div>\n",
       "<style scoped>\n",
       "    .dataframe tbody tr th:only-of-type {\n",
       "        vertical-align: middle;\n",
       "    }\n",
       "\n",
       "    .dataframe tbody tr th {\n",
       "        vertical-align: top;\n",
       "    }\n",
       "\n",
       "    .dataframe thead th {\n",
       "        text-align: right;\n",
       "    }\n",
       "</style>\n",
       "<table border=\"1\" class=\"dataframe\">\n",
       "  <thead>\n",
       "    <tr style=\"text-align: right;\">\n",
       "      <th></th>\n",
       "      <th>Project</th>\n",
       "      <th>Hack</th>\n",
       "      <th>Student</th>\n",
       "      <th>Total Score</th>\n",
       "      <th>The % of participants whose total score below your score</th>\n",
       "      <th>Phase</th>\n",
       "    </tr>\n",
       "  </thead>\n",
       "  <tbody>\n",
       "    <tr>\n",
       "      <th>0</th>\n",
       "      <td>xdanielsb</td>\n",
       "      <td>Bogota-Hack-2-2017</td>\n",
       "      <td>xdanielsb</td>\n",
       "      <td>357.50</td>\n",
       "      <td>97.62</td>\n",
       "      <td>5th Phase</td>\n",
       "    </tr>\n",
       "    <tr>\n",
       "      <th>1</th>\n",
       "      <td>Gantiva</td>\n",
       "      <td>Bogota-Hack-2-2017</td>\n",
       "      <td>Gantiva</td>\n",
       "      <td>345.83</td>\n",
       "      <td>95.24</td>\n",
       "      <td>5th Phase</td>\n",
       "    </tr>\n",
       "    <tr>\n",
       "      <th>2</th>\n",
       "      <td>leguzman</td>\n",
       "      <td>Bogota-Hack-2-2017</td>\n",
       "      <td>leguzman</td>\n",
       "      <td>339.17</td>\n",
       "      <td>92.86</td>\n",
       "      <td>5th Phase</td>\n",
       "    </tr>\n",
       "    <tr>\n",
       "      <th>3</th>\n",
       "      <td>juasmartinezbel</td>\n",
       "      <td>Bogota-Hack-2-2017</td>\n",
       "      <td>juasmartinezbel</td>\n",
       "      <td>337.50</td>\n",
       "      <td>90.48</td>\n",
       "      <td>5th Phase</td>\n",
       "    </tr>\n",
       "    <tr>\n",
       "      <th>4</th>\n",
       "      <td>cesarochoa2006</td>\n",
       "      <td>Bogota-Hack-2-2017</td>\n",
       "      <td>cesarochoa2006</td>\n",
       "      <td>326.67</td>\n",
       "      <td>88.10</td>\n",
       "      <td>5th Phase</td>\n",
       "    </tr>\n",
       "  </tbody>\n",
       "</table>\n",
       "</div>"
      ],
      "text/plain": [
       "           Project                Hack          Student  Total Score  \\\n",
       "0        xdanielsb  Bogota-Hack-2-2017        xdanielsb       357.50   \n",
       "1          Gantiva  Bogota-Hack-2-2017          Gantiva       345.83   \n",
       "2         leguzman  Bogota-Hack-2-2017         leguzman       339.17   \n",
       "3  juasmartinezbel  Bogota-Hack-2-2017  juasmartinezbel       337.50   \n",
       "4   cesarochoa2006  Bogota-Hack-2-2017   cesarochoa2006       326.67   \n",
       "\n",
       "   The % of participants whose total score below your score      Phase  \n",
       "0                                              97.62         5th Phase  \n",
       "1                                              95.24         5th Phase  \n",
       "2                                              92.86         5th Phase  \n",
       "3                                              90.48         5th Phase  \n",
       "4                                              88.10         5th Phase  "
      ]
     },
     "execution_count": 5,
     "metadata": {},
     "output_type": "execute_result"
    }
   ],
   "source": [
    "df2_phase5 = pd.read_csv('final-bogota-2-phase5.csv')\n",
    "df2_phase5 = df2_phase5.loc[:, ~df2_phase5.columns.str.contains('^Unnamed')]\n",
    "df2_phase5.head(5)"
   ]
  },
  {
   "cell_type": "code",
   "execution_count": 6,
   "id": "86361c90",
   "metadata": {},
   "outputs": [
    {
     "data": {
      "text/plain": [
       "178.33"
      ]
     },
     "execution_count": 6,
     "metadata": {},
     "output_type": "execute_result"
    }
   ],
   "source": [
    "df2_phase5['Total Score'].mean()\n",
    "df2_phase5['Total Score'].median()"
   ]
  },
  {
   "cell_type": "code",
   "execution_count": 7,
   "id": "174caaa4",
   "metadata": {},
   "outputs": [
    {
     "data": {
      "text/html": [
       "<div>\n",
       "<style scoped>\n",
       "    .dataframe tbody tr th:only-of-type {\n",
       "        vertical-align: middle;\n",
       "    }\n",
       "\n",
       "    .dataframe tbody tr th {\n",
       "        vertical-align: top;\n",
       "    }\n",
       "\n",
       "    .dataframe thead th {\n",
       "        text-align: right;\n",
       "    }\n",
       "</style>\n",
       "<table border=\"1\" class=\"dataframe\">\n",
       "  <thead>\n",
       "    <tr style=\"text-align: right;\">\n",
       "      <th></th>\n",
       "      <th>Project</th>\n",
       "      <th>Hack</th>\n",
       "      <th>Student</th>\n",
       "      <th>Total Score</th>\n",
       "      <th>The % of participants whose total score below your score</th>\n",
       "      <th>Phase</th>\n",
       "    </tr>\n",
       "  </thead>\n",
       "  <tbody>\n",
       "    <tr>\n",
       "      <th>0</th>\n",
       "      <td>NicolasPrr</td>\n",
       "      <td>Bogota-Hack-3-2017</td>\n",
       "      <td>NicolasPrr</td>\n",
       "      <td>360.83</td>\n",
       "      <td>97.62</td>\n",
       "      <td>5th Phase</td>\n",
       "    </tr>\n",
       "    <tr>\n",
       "      <th>1</th>\n",
       "      <td>jscastelblancoh</td>\n",
       "      <td>Bogota-Hack-3-2017</td>\n",
       "      <td>jscastelblancoh</td>\n",
       "      <td>358.33</td>\n",
       "      <td>95.24</td>\n",
       "      <td>5th Phase</td>\n",
       "    </tr>\n",
       "    <tr>\n",
       "      <th>2</th>\n",
       "      <td>juligarji</td>\n",
       "      <td>Bogota-Hack-3-2017</td>\n",
       "      <td>juligarji</td>\n",
       "      <td>355.00</td>\n",
       "      <td>92.86</td>\n",
       "      <td>5th Phase</td>\n",
       "    </tr>\n",
       "    <tr>\n",
       "      <th>3</th>\n",
       "      <td>lacardenasv</td>\n",
       "      <td>Bogota-Hack-3-2017</td>\n",
       "      <td>lacardenasv</td>\n",
       "      <td>350.00</td>\n",
       "      <td>90.48</td>\n",
       "      <td>5th Phase</td>\n",
       "    </tr>\n",
       "    <tr>\n",
       "      <th>4</th>\n",
       "      <td>jmalvarezd</td>\n",
       "      <td>Bogota-Hack-3-2017</td>\n",
       "      <td>jmalvarezd</td>\n",
       "      <td>348.75</td>\n",
       "      <td>88.10</td>\n",
       "      <td>5th Phase</td>\n",
       "    </tr>\n",
       "  </tbody>\n",
       "</table>\n",
       "</div>"
      ],
      "text/plain": [
       "           Project                Hack          Student  Total Score  \\\n",
       "0       NicolasPrr  Bogota-Hack-3-2017       NicolasPrr       360.83   \n",
       "1  jscastelblancoh  Bogota-Hack-3-2017  jscastelblancoh       358.33   \n",
       "2        juligarji  Bogota-Hack-3-2017        juligarji       355.00   \n",
       "3      lacardenasv  Bogota-Hack-3-2017      lacardenasv       350.00   \n",
       "4       jmalvarezd  Bogota-Hack-3-2017       jmalvarezd       348.75   \n",
       "\n",
       "   The % of participants whose total score below your score      Phase  \n",
       "0                                              97.62         5th Phase  \n",
       "1                                              95.24         5th Phase  \n",
       "2                                              92.86         5th Phase  \n",
       "3                                              90.48         5th Phase  \n",
       "4                                              88.10         5th Phase  "
      ]
     },
     "execution_count": 7,
     "metadata": {},
     "output_type": "execute_result"
    }
   ],
   "source": [
    "df3_phase5 = pd.read_csv('final-bogota-3-phase5.csv')\n",
    "df3_phase5 = df3_phase5.loc[:, ~df3_phase5.columns.str.contains('^Unnamed')]\n",
    "df3_phase5.head(5)"
   ]
  },
  {
   "cell_type": "code",
   "execution_count": 8,
   "id": "cad451a4",
   "metadata": {},
   "outputs": [
    {
     "data": {
      "text/plain": [
       "209.58"
      ]
     },
     "execution_count": 8,
     "metadata": {},
     "output_type": "execute_result"
    }
   ],
   "source": [
    "df3_phase5['Total Score'].mean()\n",
    "df3_phase5['Total Score'].median()"
   ]
  },
  {
   "cell_type": "code",
   "execution_count": 9,
   "id": "34d7ca8b",
   "metadata": {},
   "outputs": [
    {
     "data": {
      "text/html": [
       "<div>\n",
       "<style scoped>\n",
       "    .dataframe tbody tr th:only-of-type {\n",
       "        vertical-align: middle;\n",
       "    }\n",
       "\n",
       "    .dataframe tbody tr th {\n",
       "        vertical-align: top;\n",
       "    }\n",
       "\n",
       "    .dataframe thead th {\n",
       "        text-align: right;\n",
       "    }\n",
       "</style>\n",
       "<table border=\"1\" class=\"dataframe\">\n",
       "  <thead>\n",
       "    <tr style=\"text-align: right;\">\n",
       "      <th></th>\n",
       "      <th>Project</th>\n",
       "      <th>Hack</th>\n",
       "      <th>Student</th>\n",
       "      <th>Total Score</th>\n",
       "      <th>The % of participants whose total score below your score</th>\n",
       "      <th>Phase</th>\n",
       "    </tr>\n",
       "  </thead>\n",
       "  <tbody>\n",
       "    <tr>\n",
       "      <th>0</th>\n",
       "      <td>bsgarciac</td>\n",
       "      <td>Bogota-Hack-0-2017</td>\n",
       "      <td>bsgarciac</td>\n",
       "      <td>313.33</td>\n",
       "      <td>98.04</td>\n",
       "      <td>4th Phase</td>\n",
       "    </tr>\n",
       "    <tr>\n",
       "      <th>1</th>\n",
       "      <td>jdsuarezj</td>\n",
       "      <td>Bogota-Hack-0-2017</td>\n",
       "      <td>jdsuarezj</td>\n",
       "      <td>276.67</td>\n",
       "      <td>96.08</td>\n",
       "      <td>4th Phase</td>\n",
       "    </tr>\n",
       "    <tr>\n",
       "      <th>2</th>\n",
       "      <td>capinillab</td>\n",
       "      <td>Bogota-Hack-0-2017</td>\n",
       "      <td>capinillab</td>\n",
       "      <td>251.67</td>\n",
       "      <td>94.12</td>\n",
       "      <td>4th Phase</td>\n",
       "    </tr>\n",
       "    <tr>\n",
       "      <th>3</th>\n",
       "      <td>mnguzmanc</td>\n",
       "      <td>Bogota-Hack-0-2017</td>\n",
       "      <td>mnguzmanc</td>\n",
       "      <td>245.00</td>\n",
       "      <td>92.16</td>\n",
       "      <td>4th Phase</td>\n",
       "    </tr>\n",
       "    <tr>\n",
       "      <th>4</th>\n",
       "      <td>camilo654</td>\n",
       "      <td>Bogota-Hack-0-2017</td>\n",
       "      <td>camilo654</td>\n",
       "      <td>243.33</td>\n",
       "      <td>88.24</td>\n",
       "      <td>4th Phase</td>\n",
       "    </tr>\n",
       "  </tbody>\n",
       "</table>\n",
       "</div>"
      ],
      "text/plain": [
       "      Project                Hack     Student  Total Score  \\\n",
       "0   bsgarciac  Bogota-Hack-0-2017   bsgarciac       313.33   \n",
       "1   jdsuarezj  Bogota-Hack-0-2017   jdsuarezj       276.67   \n",
       "2  capinillab  Bogota-Hack-0-2017  capinillab       251.67   \n",
       "3   mnguzmanc  Bogota-Hack-0-2017   mnguzmanc       245.00   \n",
       "4   camilo654  Bogota-Hack-0-2017   camilo654       243.33   \n",
       "\n",
       "   The % of participants whose total score below your score      Phase  \n",
       "0                                              98.04         4th Phase  \n",
       "1                                              96.08         4th Phase  \n",
       "2                                              94.12         4th Phase  \n",
       "3                                              92.16         4th Phase  \n",
       "4                                              88.24         4th Phase  "
      ]
     },
     "execution_count": 9,
     "metadata": {},
     "output_type": "execute_result"
    }
   ],
   "source": [
    "df0_phase4 = pd.read_csv('final-bogota-0-phase4.csv')\n",
    "df0_phase4 = df0_phase4.loc[:, ~df0_phase4.columns.str.contains('^Unnamed')]\n",
    "df0_phase4.head(5)"
   ]
  },
  {
   "cell_type": "code",
   "execution_count": 10,
   "id": "55e330c7",
   "metadata": {},
   "outputs": [
    {
     "data": {
      "text/plain": [
       "128.33"
      ]
     },
     "execution_count": 10,
     "metadata": {},
     "output_type": "execute_result"
    }
   ],
   "source": [
    "df0_phase4['Total Score'].mean()\n",
    "df0_phase4['Total Score'].median()"
   ]
  },
  {
   "cell_type": "code",
   "execution_count": 11,
   "id": "10ace99c",
   "metadata": {},
   "outputs": [
    {
     "data": {
      "text/html": [
       "<div>\n",
       "<style scoped>\n",
       "    .dataframe tbody tr th:only-of-type {\n",
       "        vertical-align: middle;\n",
       "    }\n",
       "\n",
       "    .dataframe tbody tr th {\n",
       "        vertical-align: top;\n",
       "    }\n",
       "\n",
       "    .dataframe thead th {\n",
       "        text-align: right;\n",
       "    }\n",
       "</style>\n",
       "<table border=\"1\" class=\"dataframe\">\n",
       "  <thead>\n",
       "    <tr style=\"text-align: right;\">\n",
       "      <th></th>\n",
       "      <th>Project</th>\n",
       "      <th>Hack</th>\n",
       "      <th>Student</th>\n",
       "      <th>Total Score</th>\n",
       "      <th>The % of participants whose total score below your score</th>\n",
       "      <th>Phase</th>\n",
       "    </tr>\n",
       "  </thead>\n",
       "  <tbody>\n",
       "    <tr>\n",
       "      <th>0</th>\n",
       "      <td>oeroaq</td>\n",
       "      <td>Bogota-Hack-1-2017</td>\n",
       "      <td>oeroaq</td>\n",
       "      <td>350.00</td>\n",
       "      <td>97.67</td>\n",
       "      <td>4th Phase</td>\n",
       "    </tr>\n",
       "    <tr>\n",
       "      <th>1</th>\n",
       "      <td>jonatan360</td>\n",
       "      <td>Bogota-Hack-1-2017</td>\n",
       "      <td>jonatan360</td>\n",
       "      <td>343.33</td>\n",
       "      <td>95.35</td>\n",
       "      <td>4th Phase</td>\n",
       "    </tr>\n",
       "    <tr>\n",
       "      <th>2</th>\n",
       "      <td>jesusfchavarro</td>\n",
       "      <td>Bogota-Hack-1-2017</td>\n",
       "      <td>jesusfchavarro</td>\n",
       "      <td>333.33</td>\n",
       "      <td>93.02</td>\n",
       "      <td>4th Phase</td>\n",
       "    </tr>\n",
       "    <tr>\n",
       "      <th>3</th>\n",
       "      <td>daandradec</td>\n",
       "      <td>Bogota-Hack-1-2017</td>\n",
       "      <td>daandradec</td>\n",
       "      <td>318.75</td>\n",
       "      <td>90.70</td>\n",
       "      <td>4th Phase</td>\n",
       "    </tr>\n",
       "    <tr>\n",
       "      <th>4</th>\n",
       "      <td>diegoaguevarar</td>\n",
       "      <td>Bogota-Hack-1-2017</td>\n",
       "      <td>diegoaguevarar</td>\n",
       "      <td>312.50</td>\n",
       "      <td>88.37</td>\n",
       "      <td>4th Phase</td>\n",
       "    </tr>\n",
       "  </tbody>\n",
       "</table>\n",
       "</div>"
      ],
      "text/plain": [
       "          Project                Hack         Student  Total Score  \\\n",
       "0          oeroaq  Bogota-Hack-1-2017          oeroaq       350.00   \n",
       "1      jonatan360  Bogota-Hack-1-2017      jonatan360       343.33   \n",
       "2  jesusfchavarro  Bogota-Hack-1-2017  jesusfchavarro       333.33   \n",
       "3      daandradec  Bogota-Hack-1-2017      daandradec       318.75   \n",
       "4  diegoaguevarar  Bogota-Hack-1-2017  diegoaguevarar       312.50   \n",
       "\n",
       "   The % of participants whose total score below your score      Phase  \n",
       "0                                              97.67         4th Phase  \n",
       "1                                              95.35         4th Phase  \n",
       "2                                              93.02         4th Phase  \n",
       "3                                              90.70         4th Phase  \n",
       "4                                              88.37         4th Phase  "
      ]
     },
     "execution_count": 11,
     "metadata": {},
     "output_type": "execute_result"
    }
   ],
   "source": [
    "df1_phase4 = pd.read_csv('final-bogota-1-phase4.csv')\n",
    "df1_phase4 = df1_phase4.loc[:, ~df1_phase4.columns.str.contains('^Unnamed')]\n",
    "df1_phase4.head(5)"
   ]
  },
  {
   "cell_type": "code",
   "execution_count": 12,
   "id": "09837533",
   "metadata": {},
   "outputs": [
    {
     "data": {
      "text/plain": [
       "174.17"
      ]
     },
     "execution_count": 12,
     "metadata": {},
     "output_type": "execute_result"
    }
   ],
   "source": [
    "df1_phase4['Total Score'].mean()\n",
    "df1_phase4['Total Score'].median()"
   ]
  },
  {
   "cell_type": "code",
   "execution_count": 13,
   "id": "af9d7e9d",
   "metadata": {},
   "outputs": [
    {
     "data": {
      "text/html": [
       "<div>\n",
       "<style scoped>\n",
       "    .dataframe tbody tr th:only-of-type {\n",
       "        vertical-align: middle;\n",
       "    }\n",
       "\n",
       "    .dataframe tbody tr th {\n",
       "        vertical-align: top;\n",
       "    }\n",
       "\n",
       "    .dataframe thead th {\n",
       "        text-align: right;\n",
       "    }\n",
       "</style>\n",
       "<table border=\"1\" class=\"dataframe\">\n",
       "  <thead>\n",
       "    <tr style=\"text-align: right;\">\n",
       "      <th></th>\n",
       "      <th>Project</th>\n",
       "      <th>Hack</th>\n",
       "      <th>Student</th>\n",
       "      <th>Total Score</th>\n",
       "      <th>The % of participants whose total score below your score</th>\n",
       "      <th>Phase</th>\n",
       "    </tr>\n",
       "  </thead>\n",
       "  <tbody>\n",
       "    <tr>\n",
       "      <th>0</th>\n",
       "      <td>fabianr23</td>\n",
       "      <td>Bogota-Hack-2-2017</td>\n",
       "      <td>fabianr23</td>\n",
       "      <td>358.33</td>\n",
       "      <td>97.62</td>\n",
       "      <td>4th Phase</td>\n",
       "    </tr>\n",
       "    <tr>\n",
       "      <th>1</th>\n",
       "      <td>jhriverasa</td>\n",
       "      <td>Bogota-Hack-2-2017</td>\n",
       "      <td>jhriverasa</td>\n",
       "      <td>333.33</td>\n",
       "      <td>95.24</td>\n",
       "      <td>4th Phase</td>\n",
       "    </tr>\n",
       "    <tr>\n",
       "      <th>2</th>\n",
       "      <td>JuanitoAli</td>\n",
       "      <td>Bogota-Hack-2-2017</td>\n",
       "      <td>JuanitoAli</td>\n",
       "      <td>325.00</td>\n",
       "      <td>92.86</td>\n",
       "      <td>4th Phase</td>\n",
       "    </tr>\n",
       "    <tr>\n",
       "      <th>3</th>\n",
       "      <td>juasmartinezbel</td>\n",
       "      <td>Bogota-Hack-2-2017</td>\n",
       "      <td>juasmartinezbel</td>\n",
       "      <td>320.83</td>\n",
       "      <td>90.48</td>\n",
       "      <td>4th Phase</td>\n",
       "    </tr>\n",
       "    <tr>\n",
       "      <th>4</th>\n",
       "      <td>Davsatu313</td>\n",
       "      <td>Bogota-Hack-2-2017</td>\n",
       "      <td>Davsatu313</td>\n",
       "      <td>300.83</td>\n",
       "      <td>88.10</td>\n",
       "      <td>4th Phase</td>\n",
       "    </tr>\n",
       "  </tbody>\n",
       "</table>\n",
       "</div>"
      ],
      "text/plain": [
       "           Project                Hack          Student  Total Score  \\\n",
       "0        fabianr23  Bogota-Hack-2-2017        fabianr23       358.33   \n",
       "1       jhriverasa  Bogota-Hack-2-2017       jhriverasa       333.33   \n",
       "2       JuanitoAli  Bogota-Hack-2-2017       JuanitoAli       325.00   \n",
       "3  juasmartinezbel  Bogota-Hack-2-2017  juasmartinezbel       320.83   \n",
       "4       Davsatu313  Bogota-Hack-2-2017       Davsatu313       300.83   \n",
       "\n",
       "   The % of participants whose total score below your score      Phase  \n",
       "0                                              97.62         4th Phase  \n",
       "1                                              95.24         4th Phase  \n",
       "2                                              92.86         4th Phase  \n",
       "3                                              90.48         4th Phase  \n",
       "4                                              88.10         4th Phase  "
      ]
     },
     "execution_count": 13,
     "metadata": {},
     "output_type": "execute_result"
    }
   ],
   "source": [
    "df2_phase4 = pd.read_csv('final-bogota-2-phase4.csv')\n",
    "df2_phase4 = df2_phase4.loc[:, ~df2_phase4.columns.str.contains('^Unnamed')]\n",
    "df2_phase4.head(5)"
   ]
  },
  {
   "cell_type": "code",
   "execution_count": 14,
   "id": "ad7196da",
   "metadata": {},
   "outputs": [
    {
     "data": {
      "text/plain": [
       "137.5"
      ]
     },
     "execution_count": 14,
     "metadata": {},
     "output_type": "execute_result"
    }
   ],
   "source": [
    "df2_phase4['Total Score'].mean()\n",
    "df2_phase4['Total Score'].median()"
   ]
  },
  {
   "cell_type": "code",
   "execution_count": 15,
   "id": "030cf6f1",
   "metadata": {},
   "outputs": [
    {
     "data": {
      "text/html": [
       "<div>\n",
       "<style scoped>\n",
       "    .dataframe tbody tr th:only-of-type {\n",
       "        vertical-align: middle;\n",
       "    }\n",
       "\n",
       "    .dataframe tbody tr th {\n",
       "        vertical-align: top;\n",
       "    }\n",
       "\n",
       "    .dataframe thead th {\n",
       "        text-align: right;\n",
       "    }\n",
       "</style>\n",
       "<table border=\"1\" class=\"dataframe\">\n",
       "  <thead>\n",
       "    <tr style=\"text-align: right;\">\n",
       "      <th></th>\n",
       "      <th>Project</th>\n",
       "      <th>Hack</th>\n",
       "      <th>Student</th>\n",
       "      <th>Total Score</th>\n",
       "      <th>The % of participants whose total score below your score</th>\n",
       "      <th>Phase</th>\n",
       "    </tr>\n",
       "  </thead>\n",
       "  <tbody>\n",
       "    <tr>\n",
       "      <th>0</th>\n",
       "      <td>juligarji</td>\n",
       "      <td>Bogota-Hack-3-2017</td>\n",
       "      <td>juligarji</td>\n",
       "      <td>358.33</td>\n",
       "      <td>97.62</td>\n",
       "      <td>4th Phase</td>\n",
       "    </tr>\n",
       "    <tr>\n",
       "      <th>1</th>\n",
       "      <td>lgmoralesa</td>\n",
       "      <td>Bogota-Hack-3-2017</td>\n",
       "      <td>lgmoralesa</td>\n",
       "      <td>337.50</td>\n",
       "      <td>95.24</td>\n",
       "      <td>4th Phase</td>\n",
       "    </tr>\n",
       "    <tr>\n",
       "      <th>2</th>\n",
       "      <td>jscastelblancoh</td>\n",
       "      <td>Bogota-Hack-3-2017</td>\n",
       "      <td>jscastelblancoh</td>\n",
       "      <td>316.67</td>\n",
       "      <td>92.86</td>\n",
       "      <td>4th Phase</td>\n",
       "    </tr>\n",
       "    <tr>\n",
       "      <th>3</th>\n",
       "      <td>jumcorredorro</td>\n",
       "      <td>Bogota-Hack-3-2017</td>\n",
       "      <td>jumcorredorro</td>\n",
       "      <td>305.00</td>\n",
       "      <td>90.48</td>\n",
       "      <td>4th Phase</td>\n",
       "    </tr>\n",
       "    <tr>\n",
       "      <th>4</th>\n",
       "      <td>lemartinp</td>\n",
       "      <td>Bogota-Hack-3-2017</td>\n",
       "      <td>lemartinp</td>\n",
       "      <td>300.83</td>\n",
       "      <td>88.10</td>\n",
       "      <td>4th Phase</td>\n",
       "    </tr>\n",
       "  </tbody>\n",
       "</table>\n",
       "</div>"
      ],
      "text/plain": [
       "           Project                Hack          Student  Total Score  \\\n",
       "0        juligarji  Bogota-Hack-3-2017        juligarji       358.33   \n",
       "1       lgmoralesa  Bogota-Hack-3-2017       lgmoralesa       337.50   \n",
       "2  jscastelblancoh  Bogota-Hack-3-2017  jscastelblancoh       316.67   \n",
       "3    jumcorredorro  Bogota-Hack-3-2017    jumcorredorro       305.00   \n",
       "4        lemartinp  Bogota-Hack-3-2017        lemartinp       300.83   \n",
       "\n",
       "   The % of participants whose total score below your score      Phase  \n",
       "0                                              97.62         4th Phase  \n",
       "1                                              95.24         4th Phase  \n",
       "2                                              92.86         4th Phase  \n",
       "3                                              90.48         4th Phase  \n",
       "4                                              88.10         4th Phase  "
      ]
     },
     "execution_count": 15,
     "metadata": {},
     "output_type": "execute_result"
    }
   ],
   "source": [
    "df3_phase4 = pd.read_csv('final-bogota-3-phase4.csv')\n",
    "df3_phase4 = df3_phase4.loc[:, ~df3_phase4.columns.str.contains('^Unnamed')]\n",
    "df3_phase4.head(5)"
   ]
  },
  {
   "cell_type": "code",
   "execution_count": 16,
   "id": "5e43c33b",
   "metadata": {},
   "outputs": [
    {
     "data": {
      "text/plain": [
       "145.41500000000002"
      ]
     },
     "execution_count": 16,
     "metadata": {},
     "output_type": "execute_result"
    }
   ],
   "source": [
    "df3_phase4['Total Score'].mean()\n",
    "df3_phase4['Total Score'].median()"
   ]
  },
  {
   "cell_type": "markdown",
   "id": "ab0de843",
   "metadata": {},
   "source": [
    "# Improvement Score Bogota 3"
   ]
  },
  {
   "cell_type": "code",
   "execution_count": 17,
   "id": "b1d7b5dc",
   "metadata": {},
   "outputs": [
    {
     "data": {
      "text/plain": [
       "array([ 2.5 , 20.83, 38.33, 45.  , 47.92, 74.16, 80.83, 64.17, 67.5 ,\n",
       "       81.67, 66.67, 83.34, 81.25, 73.34, 83.75, 80.  , 89.59, 82.5 ,\n",
       "       80.  , 72.08, 63.75, 64.58, 75.  , 82.5 , 77.5 , 76.25, 70.  ,\n",
       "       62.5 , 61.67, 45.84, 32.5 , 16.66, 28.33, 20.83, 25.  , 12.5 ,\n",
       "        0.  , 75.  ,  0.  ,  0.  ,  0.  ,  0.  ])"
      ]
     },
     "execution_count": 17,
     "metadata": {},
     "output_type": "execute_result"
    }
   ],
   "source": [
    "diff3 = df3_phase5['Total Score'] - df3_phase4['Total Score']\n",
    "diff3.values"
   ]
  },
  {
   "cell_type": "markdown",
   "id": "269b69b5",
   "metadata": {},
   "source": [
    "# Improvement Score Bogota 2"
   ]
  },
  {
   "cell_type": "code",
   "execution_count": 18,
   "id": "7b693b35",
   "metadata": {},
   "outputs": [
    {
     "data": {
      "text/plain": [
       "array([-0.83, 12.5 , 14.17, 16.67, 25.84, 35.83, 41.04, 42.71, 80.83,\n",
       "       80.  , 94.17, 91.46, 69.16, 65.83, 62.5 , 28.33, 66.67, 58.34,\n",
       "       37.5 , 34.17, 40.83, 42.5 , 40.83, 34.16, 37.5 , 36.67, 37.5 ,\n",
       "       30.  , 20.83, 17.5 , 18.33, 20.  , 25.  , 12.5 , 25.  , 50.  ,\n",
       "       75.  , 45.  ,  0.  ,  0.  ,  0.  ])"
      ]
     },
     "execution_count": 18,
     "metadata": {},
     "output_type": "execute_result"
    }
   ],
   "source": [
    "diff2 = df2_phase5['Total Score'] - df2_phase4['Total Score']\n",
    "diff2.values"
   ]
  },
  {
   "cell_type": "markdown",
   "id": "c9311cfe",
   "metadata": {},
   "source": [
    "# Improvement Score Bogota 1"
   ]
  },
  {
   "cell_type": "code",
   "execution_count": 19,
   "id": "6d2e4e12",
   "metadata": {},
   "outputs": [
    {
     "data": {
      "text/plain": [
       "array([ 7.5 ,  9.17, 11.67, 17.92, 21.67, 30.  , 37.71, 38.33, 36.67,\n",
       "       35.  , 32.5 , 19.16,  4.17, -2.08, -4.17, 11.67, 12.5 , 14.17,\n",
       "       33.34, 28.34, 24.16, 32.08, 33.33, 29.17, 33.33, 37.5 ,  7.5 ,\n",
       "        5.  ,  0.  ,  0.  ,  5.  ,  9.17,  0.83,  7.5 , 12.5 , 12.5 ,\n",
       "        0.  ,  0.  ,  0.  ,  0.  ,  0.  ])"
      ]
     },
     "execution_count": 19,
     "metadata": {},
     "output_type": "execute_result"
    }
   ],
   "source": [
    "diff1 = df1_phase5['Total Score'] - df1_phase4['Total Score']\n",
    "diff1.values"
   ]
  },
  {
   "cell_type": "markdown",
   "id": "008722e0",
   "metadata": {},
   "source": [
    "# Improvement Score Bogota 0"
   ]
  },
  {
   "cell_type": "code",
   "execution_count": 20,
   "id": "2bb355f7",
   "metadata": {},
   "outputs": [
    {
     "data": {
      "text/plain": [
       "array([39.59, 48.33, 69.16, 59.17, 46.67, 33.34, 30.  , 43.34, 43.33,\n",
       "       39.16, 38.34, 30.  , 33.33, 31.67, 30.42, 33.34, 36.67, 47.5 ,\n",
       "       63.33, 62.5 , 55.83, 36.67, 41.66, 33.34, 16.66, 24.17, 16.66,\n",
       "       17.5 , 37.5 ,  5.  , 25.  , 49.17,  0.  ,  0.  ,  0.  ,  0.  ,\n",
       "        0.  ,  0.  ,  0.  ])"
      ]
     },
     "execution_count": 20,
     "metadata": {},
     "output_type": "execute_result"
    }
   ],
   "source": [
    "diff0 = df0_phase5['Total Score'] - df0_phase4['Total Score']\n",
    "diff0.values"
   ]
  },
  {
   "cell_type": "code",
   "execution_count": 21,
   "id": "54c5a262",
   "metadata": {},
   "outputs": [
    {
     "name": "stdout",
     "output_type": "stream",
     "text": [
      "18.138769455075185 3.57343138982153e-10\n"
     ]
    }
   ],
   "source": [
    "import scipy.stats as stats\n",
    "# stats f_oneway functions takes the groups as input and returns ANOVA F and p value\n",
    "fvalue, pvalue = stats.f_oneway(diff0, diff1, diff2, diff3)\n",
    "print(fvalue, pvalue)"
   ]
  },
  {
   "cell_type": "code",
   "execution_count": 23,
   "id": "eac62b43",
   "metadata": {},
   "outputs": [
    {
     "data": {
      "text/plain": [
       "39"
      ]
     },
     "execution_count": 23,
     "metadata": {},
     "output_type": "execute_result"
    }
   ],
   "source": [
    "len(df0_phase5.index)"
   ]
  },
  {
   "cell_type": "code",
   "execution_count": 25,
   "id": "6f5903a3",
   "metadata": {},
   "outputs": [
    {
     "data": {
      "text/plain": [
       "41"
      ]
     },
     "execution_count": 25,
     "metadata": {},
     "output_type": "execute_result"
    }
   ],
   "source": [
    "len(df1_phase5.index)"
   ]
  },
  {
   "cell_type": "code",
   "execution_count": 26,
   "id": "42239671",
   "metadata": {},
   "outputs": [
    {
     "data": {
      "text/plain": [
       "41"
      ]
     },
     "execution_count": 26,
     "metadata": {},
     "output_type": "execute_result"
    }
   ],
   "source": [
    "len(df2_phase5.index)"
   ]
  },
  {
   "cell_type": "code",
   "execution_count": 27,
   "id": "09d98822",
   "metadata": {},
   "outputs": [
    {
     "data": {
      "text/plain": [
       "42"
      ]
     },
     "execution_count": 27,
     "metadata": {},
     "output_type": "execute_result"
    }
   ],
   "source": [
    "len(df3_phase5.index)"
   ]
  },
  {
   "cell_type": "code",
   "execution_count": 28,
   "id": "1a6fe251",
   "metadata": {},
   "outputs": [],
   "source": [
    "import pandas as pd\n",
    "import numpy as np\n",
    "\n",
    "df = pd.DataFrame({'score': [39.59, 48.33, 69.16, 59.17, 46.67, 33.34, 30.  , 43.34, 43.33,\n",
    "       39.16, 38.34, 30.  , 33.33, 31.67, 30.42, 33.34, 36.67, 47.5 ,\n",
    "       63.33, 62.5 , 55.83, 36.67, 41.66, 33.34, 16.66, 24.17, 16.66,\n",
    "       17.5 , 37.5 ,  5.  , 25.  , 49.17,  0.  ,  0.  ,  0.  ,  0.  ,\n",
    "        0.  ,  0.  ,  0. , 7.5 ,  9.17, 11.67, 17.92, 21.67, 30.  , 37.71, 38.33, 36.67,\n",
    "       35.  , 32.5 , 19.16,  4.17, -2.08, -4.17, 11.67, 12.5 , 14.17,\n",
    "       33.34, 28.34, 24.16, 32.08, 33.33, 29.17, 33.33, 37.5 ,  7.5 ,\n",
    "        5.  ,  0.  ,  0.  ,  5.  ,  9.17,  0.83,  7.5 , 12.5 , 12.5 ,\n",
    "        0.  ,  0.  ,  0.  ,  0.  ,  0. , -0.83, 12.5 , 14.17, 16.67, 25.84, 35.83, 41.04, 42.71, 80.83,\n",
    "       80.  , 94.17, 91.46, 69.16, 65.83, 62.5 , 28.33, 66.67, 58.34,\n",
    "       37.5 , 34.17, 40.83, 42.5 , 40.83, 34.16, 37.5 , 36.67, 37.5 ,\n",
    "       30.  , 20.83, 17.5 , 18.33, 20.  , 25.  , 12.5 , 25.  , 50.  ,\n",
    "       75.  , 45.  ,  0.  ,  0.  ,  0. , 2.5 , 20.83, 38.33, 45.  , 47.92, 74.16, 80.83, 64.17, 67.5 ,\n",
    "       81.67, 66.67, 83.34, 81.25, 73.34, 83.75, 80.  , 89.59, 82.5 ,\n",
    "       80.  , 72.08, 63.75, 64.58, 75.  , 82.5 , 77.5 , 76.25, 70.  ,\n",
    "       62.5 , 61.67, 45.84, 32.5 , 16.66, 28.33, 20.83, 25.  , 12.5 ,\n",
    "        0.  , 75.  ,  0.  ,  0.  ,  0.  ,  0.  ],\n",
    "                   'group': np.repeat([0, 1, 2, 3], repeats=[39, 41, 41, 42])})"
   ]
  },
  {
   "cell_type": "code",
   "execution_count": 30,
   "id": "dda5e108",
   "metadata": {},
   "outputs": [
    {
     "name": "stdout",
     "output_type": "stream",
     "text": [
      " Multiple Comparison of Means - Tukey HSD, FWER=0.05 \n",
      "=====================================================\n",
      "group1 group2 meandiff p-adj   lower    upper  reject\n",
      "-----------------------------------------------------\n",
      "     0      1 -15.5127 0.0163 -28.9346 -2.0908   True\n",
      "     0      2   6.9564 0.5313  -6.4656 20.3783  False\n",
      "     0      3  21.2803  0.001   7.9365  34.624   True\n",
      "     1      2   22.469  0.001    9.216 35.7221   True\n",
      "     1      3  36.7929  0.001   23.619 49.9669   True\n",
      "     2      3  14.3239 0.0272     1.15 27.4978   True\n",
      "-----------------------------------------------------\n"
     ]
    }
   ],
   "source": [
    "from statsmodels.stats.multicomp import pairwise_tukeyhsd\n",
    "\n",
    "\n",
    "# perform Tukey's test\n",
    "tukey = pairwise_tukeyhsd(endog=df['score'],\n",
    "                          groups=df['group'],\n",
    "                          alpha=0.05)\n",
    "\n",
    "#display results\n",
    "print(tukey)"
   ]
  },
  {
   "cell_type": "code",
   "execution_count": null,
   "id": "a4af3d21",
   "metadata": {},
   "outputs": [],
   "source": []
  }
 ],
 "metadata": {
  "kernelspec": {
   "display_name": "Python 3",
   "language": "python",
   "name": "python3"
  },
  "language_info": {
   "codemirror_mode": {
    "name": "ipython",
    "version": 3
   },
   "file_extension": ".py",
   "mimetype": "text/x-python",
   "name": "python",
   "nbconvert_exporter": "python",
   "pygments_lexer": "ipython3",
   "version": "3.8.8"
  }
 },
 "nbformat": 4,
 "nbformat_minor": 5
}
