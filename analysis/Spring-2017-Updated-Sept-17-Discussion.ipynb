{
 "cells": [
  {
   "cell_type": "code",
   "execution_count": null,
   "id": "ea5fdcd3",
   "metadata": {},
   "outputs": [],
   "source": [
    "import pandas as pd\n",
    "\n",
    "df0_phase5 = pd.read_csv('final-bogota-0-phase5.csv')\n",
    "df0_phase5 = df0_phase5.loc[:, ~df0_phase5.columns.str.contains('^Unnamed')]\n",
    "df0_phase5.head(5)"
   ]
  },
  {
   "cell_type": "code",
   "execution_count": null,
   "id": "0c27494a",
   "metadata": {},
   "outputs": [],
   "source": [
    "df0_phase5['Total Score'].mean()\n",
    "df0_phase5['Total Score'].median()"
   ]
  },
  {
   "cell_type": "code",
   "execution_count": null,
   "id": "e85cde3c",
   "metadata": {},
   "outputs": [],
   "source": [
    "df1_phase5 = pd.read_csv('final-bogota-1-phase5.csv')\n",
    "df1_phase5 = df1_phase5.loc[:, ~df1_phase5.columns.str.contains('^Unnamed')]\n",
    "df1_phase5.head(5)"
   ]
  },
  {
   "cell_type": "code",
   "execution_count": null,
   "id": "6ea5e193",
   "metadata": {},
   "outputs": [],
   "source": [
    "df1_phase5['Total Score'].mean()\n",
    "df1_phase5['Total Score'].median()"
   ]
  },
  {
   "cell_type": "code",
   "execution_count": null,
   "id": "4cff9d1e",
   "metadata": {},
   "outputs": [],
   "source": [
    "df2_phase5 = pd.read_csv('final-bogota-2-phase5.csv')\n",
    "df2_phase5 = df2_phase5.loc[:, ~df2_phase5.columns.str.contains('^Unnamed')]\n",
    "df2_phase5.head(5)"
   ]
  },
  {
   "cell_type": "code",
   "execution_count": null,
   "id": "86361c90",
   "metadata": {},
   "outputs": [],
   "source": [
    "df2_phase5['Total Score'].mean()\n",
    "df2_phase5['Total Score'].median()"
   ]
  },
  {
   "cell_type": "code",
   "execution_count": null,
   "id": "174caaa4",
   "metadata": {},
   "outputs": [],
   "source": [
    "df3_phase5 = pd.read_csv('final-bogota-3-phase5.csv')\n",
    "df3_phase5 = df3_phase5.loc[:, ~df3_phase5.columns.str.contains('^Unnamed')]\n",
    "df3_phase5.head(5)"
   ]
  },
  {
   "cell_type": "code",
   "execution_count": null,
   "id": "cad451a4",
   "metadata": {},
   "outputs": [],
   "source": [
    "df3_phase5['Total Score'].mean()\n",
    "df3_phase5['Total Score'].median()"
   ]
  },
  {
   "cell_type": "code",
   "execution_count": null,
   "id": "34d7ca8b",
   "metadata": {},
   "outputs": [],
   "source": [
    "df0_phase4 = pd.read_csv('final-bogota-0-phase4.csv')\n",
    "df0_phase4 = df0_phase4.loc[:, ~df0_phase4.columns.str.contains('^Unnamed')]\n",
    "df0_phase4.head(5)"
   ]
  },
  {
   "cell_type": "code",
   "execution_count": null,
   "id": "55e330c7",
   "metadata": {},
   "outputs": [],
   "source": [
    "df0_phase4['Total Score'].mean()\n",
    "df0_phase4['Total Score'].median()"
   ]
  },
  {
   "cell_type": "code",
   "execution_count": null,
   "id": "10ace99c",
   "metadata": {},
   "outputs": [],
   "source": [
    "df1_phase4 = pd.read_csv('final-bogota-1-phase4.csv')\n",
    "df1_phase4 = df1_phase4.loc[:, ~df1_phase4.columns.str.contains('^Unnamed')]\n",
    "df1_phase4.head(5)"
   ]
  },
  {
   "cell_type": "code",
   "execution_count": null,
   "id": "09837533",
   "metadata": {},
   "outputs": [],
   "source": [
    "df1_phase4['Total Score'].mean()\n",
    "df1_phase4['Total Score'].median()"
   ]
  },
  {
   "cell_type": "code",
   "execution_count": null,
   "id": "af9d7e9d",
   "metadata": {},
   "outputs": [],
   "source": [
    "df2_phase4 = pd.read_csv('final-bogota-2-phase4.csv')\n",
    "df2_phase4 = df2_phase4.loc[:, ~df2_phase4.columns.str.contains('^Unnamed')]\n",
    "df2_phase4.head(5)"
   ]
  },
  {
   "cell_type": "code",
   "execution_count": null,
   "id": "ad7196da",
   "metadata": {},
   "outputs": [],
   "source": [
    "df2_phase4['Total Score'].mean()\n",
    "df2_phase4['Total Score'].median()"
   ]
  },
  {
   "cell_type": "code",
   "execution_count": null,
   "id": "030cf6f1",
   "metadata": {},
   "outputs": [],
   "source": [
    "df3_phase4 = pd.read_csv('final-bogota-3-phase4.csv')\n",
    "df3_phase4 = df3_phase4.loc[:, ~df3_phase4.columns.str.contains('^Unnamed')]\n",
    "df3_phase4.head(5)"
   ]
  },
  {
   "cell_type": "code",
   "execution_count": null,
   "id": "5e43c33b",
   "metadata": {},
   "outputs": [],
   "source": [
    "df3_phase4['Total Score'].mean()\n",
    "df3_phase4['Total Score'].median()"
   ]
  },
  {
   "cell_type": "markdown",
   "id": "ab0de843",
   "metadata": {},
   "source": [
    "# Improvement Score Bogota 3"
   ]
  },
  {
   "cell_type": "code",
   "execution_count": null,
   "id": "b1d7b5dc",
   "metadata": {},
   "outputs": [],
   "source": [
    "diff3 = df3_phase5['Total Score'] - df3_phase4['Total Score']\n",
    "diff3.values"
   ]
  },
  {
   "cell_type": "markdown",
   "id": "269b69b5",
   "metadata": {},
   "source": [
    "# Improvement Score Bogota 2"
   ]
  },
  {
   "cell_type": "code",
   "execution_count": null,
   "id": "7b693b35",
   "metadata": {},
   "outputs": [],
   "source": [
    "diff2 = df2_phase5['Total Score'] - df2_phase4['Total Score']\n",
    "diff2.values"
   ]
  },
  {
   "cell_type": "markdown",
   "id": "c9311cfe",
   "metadata": {},
   "source": [
    "# Improvement Score Bogota 1"
   ]
  },
  {
   "cell_type": "code",
   "execution_count": null,
   "id": "6d2e4e12",
   "metadata": {},
   "outputs": [],
   "source": [
    "diff1 = df1_phase5['Total Score'] - df1_phase4['Total Score']\n",
    "diff1.values"
   ]
  },
  {
   "cell_type": "markdown",
   "id": "008722e0",
   "metadata": {},
   "source": [
    "# Improvement Score Bogota 0"
   ]
  },
  {
   "cell_type": "code",
   "execution_count": null,
   "id": "2bb355f7",
   "metadata": {},
   "outputs": [],
   "source": [
    "diff0 = df0_phase5['Total Score'] - df0_phase4['Total Score']\n",
    "diff0.values"
   ]
  },
  {
   "cell_type": "code",
   "execution_count": null,
   "id": "54c5a262",
   "metadata": {},
   "outputs": [],
   "source": [
    "import scipy.stats as stats\n",
    "# stats f_oneway functions takes the groups as input and returns ANOVA F and p value\n",
    "fvalue, pvalue = stats.f_oneway(diff0, diff1, diff2, diff3)\n",
    "print(fvalue, pvalue)"
   ]
  },
  {
   "cell_type": "code",
   "execution_count": null,
   "id": "eac62b43",
   "metadata": {},
   "outputs": [],
   "source": []
  }
 ],
 "metadata": {
  "kernelspec": {
   "display_name": "Python 3",
   "language": "python",
   "name": "python3"
  },
  "language_info": {
   "codemirror_mode": {
    "name": "ipython",
    "version": 3
   },
   "file_extension": ".py",
   "mimetype": "text/x-python",
   "name": "python",
   "nbconvert_exporter": "python",
   "pygments_lexer": "ipython3",
   "version": "3.8.8"
  }
 },
 "nbformat": 4,
 "nbformat_minor": 5
}
