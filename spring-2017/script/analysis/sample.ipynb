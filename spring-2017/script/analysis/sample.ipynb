{
 "cells": [
  {
   "cell_type": "markdown",
   "id": "e4428fd5",
   "metadata": {},
   "source": [
    "# Metrics for Functional Similarity"
   ]
  },
  {
   "cell_type": "markdown",
   "id": "ede3a441",
   "metadata": {},
   "source": [
    "## In this notebook, we are constructing the distance of search, which is the cross-stage similarity on an individual level. "
   ]
  },
  {
   "cell_type": "code",
   "execution_count": null,
   "id": "03c6b36a",
   "metadata": {},
   "outputs": [],
   "source": [
    "# retrive variables stored in other Jupyter notebooks\n",
    "\n",
    "%store -r overall_loc_scores_final\n",
    "%store -r overall_loc_scores\n",
    "\n",
    "%store -r overall_phase1\n",
    "%store -r overall_phase2\n",
    "%store -r overall_phase3\n",
    "%store -r overall_phase4\n",
    "%store -r overall_phase5\n",
    "\n",
    "%store -r overall_phase1_bogota0\n",
    "%store -r overall_phase1_bogota1\n",
    "%store -r overall_phase1_bogota2\n",
    "%store -r overall_phase1_bogota3\n",
    "\n",
    "%store -r overall_phase2_bogota0\n",
    "%store -r overall_phase2_bogota1\n",
    "%store -r overall_phase2_bogota2\n",
    "%store -r overall_phase2_bogota3\n",
    "\n",
    "%store -r overall_phase3_bogota0\n",
    "%store -r overall_phase3_bogota1\n",
    "%store -r overall_phase3_bogota2\n",
    "%store -r overall_phase3_bogota3\n",
    "\n",
    "%store -r overall_phase4_bogota0\n",
    "%store -r overall_phase4_bogota1\n",
    "%store -r overall_phase4_bogota2\n",
    "%store -r overall_phase4_bogota3\n",
    "\n",
    "%store -r overall_phase5_bogota0\n",
    "%store -r overall_phase5_bogota1\n",
    "%store -r overall_phase5_bogota2\n",
    "%store -r overall_phase5_bogota3"
   ]
  },
  {
   "cell_type": "code",
   "execution_count": null,
   "id": "ea16e11f",
   "metadata": {},
   "outputs": [],
   "source": [
    "import itertools\n",
    "import pandas as pd\n",
    "\n",
    "overall_phase2_bogota3 = overall_phase2_bogota3[overall_phase2_bogota3.functions != '']\n",
    "\n",
    "# copied from OP above\n",
    "def jaccard_similarity(x, y):\n",
    "    \"\"\" returns the jaccard similarity between two lists \"\"\"\n",
    "    intersection_cardinality = len(set.intersection(*[set(x), set(y)]))\n",
    "    union_cardinality = len(set.union(*[set(x), set(y)]))\n",
    "    return intersection_cardinality/float(union_cardinality)\n",
    "\n",
    "# create list of tuples like [(wording, user), (wording, user)]\n",
    "wordings_users = list(zip(overall_phase2_bogota3[\"functions\"], overall_phase2_bogota3[\"Student\"]))\n",
    "\n",
    "result = []\n",
    "\n",
    "# create list of all possible combinations between sets of (wording, user) and loop through them\n",
    "for item in list(itertools.combinations(wordings_users, 2)):\n",
    "    similarity = jaccard_similarity(item[0][0], item[1][0])\n",
    "    data = {\"user1\": item[0][1], \"user2\": item[1][1], \"similarity\": similarity}\n",
    "    result.append(data)\n",
    "\n",
    "df1 = pd.DataFrame(result)\n",
    "df1"
   ]
  },
  {
   "cell_type": "code",
   "execution_count": null,
   "id": "a7f225ab",
   "metadata": {},
   "outputs": [],
   "source": [
    "import itertools\n",
    "import pandas as pd\n",
    "\n",
    "overall_phase4_bogota3 = overall_phase4_bogota3[overall_phase4_bogota3.functions != '']\n",
    "\n",
    "# copied from OP above\n",
    "def jaccard_similarity(x, y):\n",
    "    \"\"\" returns the jaccard similarity between two lists \"\"\"\n",
    "    intersection_cardinality = len(set.intersection(*[set(x), set(y)]))\n",
    "    union_cardinality = len(set.union(*[set(x), set(y)]))\n",
    "    return intersection_cardinality/float(union_cardinality)\n",
    "\n",
    "# create list of tuples like [(wording, user), (wording, user)]\n",
    "wordings_users = list(zip(overall_phase4_bogota3[\"functions\"], overall_phase4_bogota3[\"Student\"]))\n",
    "\n",
    "result = []\n",
    "\n",
    "# create list of all possible combinations between sets of (wording, user) and loop through them\n",
    "for item in list(itertools.combinations(wordings_users, 2)):\n",
    "    similarity = jaccard_similarity(item[0][0], item[1][0])\n",
    "    data = {\"user1\": item[0][1], \"user2\": item[1][1], \"similarity\": similarity}\n",
    "    result.append(data)\n",
    "\n",
    "df1 = pd.DataFrame(result)\n",
    "df1"
   ]
  },
  {
   "cell_type": "code",
   "execution_count": null,
   "id": "782ba38f",
   "metadata": {},
   "outputs": [],
   "source": [
    "import itertools\n",
    "import pandas as pd\n",
    "\n",
    "overall_phase5_bogota3 = overall_phase5_bogota3[overall_phase5_bogota3.functions != '']\n",
    "\n",
    "# copied from OP above\n",
    "def jaccard_similarity(x, y):\n",
    "    \"\"\" returns the jaccard similarity between two lists \"\"\"\n",
    "    intersection_cardinality = len(set.intersection(*[set(x), set(y)]))\n",
    "    union_cardinality = len(set.union(*[set(x), set(y)]))\n",
    "    return intersection_cardinality/float(union_cardinality)\n",
    "\n",
    "# create list of tuples like [(wording, user), (wording, user)]\n",
    "wordings_users = list(zip(overall_phase5_bogota3[\"functions\"], overall_phase5_bogota3[\"Student\"]))\n",
    "\n",
    "result = []\n",
    "\n",
    "# create list of all possible combinations between sets of (wording, user) and loop through them\n",
    "for item in list(itertools.combinations(wordings_users, 2)):\n",
    "    similarity = jaccard_similarity(item[0][0], item[1][0])\n",
    "    data = {\"user1\": item[0][1], \"user2\": item[1][1], \"similarity\": similarity}\n",
    "    result.append(data)\n",
    "\n",
    "df1 = pd.DataFrame(result)\n",
    "df1"
   ]
  },
  {
   "cell_type": "markdown",
   "id": "26a4f6a4",
   "metadata": {},
   "source": [
    "## Subset Bogota 0 Phase 5"
   ]
  },
  {
   "cell_type": "code",
   "execution_count": null,
   "id": "3091314e",
   "metadata": {},
   "outputs": [],
   "source": [
    "import numpy as np\n",
    "overall_phase5_bogota0['phase'] = 5\n",
    "overall_phase5_bogota0['functions'].replace('', np.nan, inplace=True)\n",
    "overall_phase5_bogota0.dropna(subset=['functions'], inplace=True)\n",
    "subset_bogota0_phase5 = overall_phase5_bogota0[['Student', 'functions', 'phase']]\n",
    "subset_bogota0_phase5"
   ]
  },
  {
   "cell_type": "markdown",
   "id": "93e3fdf5",
   "metadata": {},
   "source": [
    "## Subset Bogota 0 Phase 4"
   ]
  },
  {
   "cell_type": "code",
   "execution_count": null,
   "id": "e5699237",
   "metadata": {},
   "outputs": [],
   "source": [
    "import numpy as np\n",
    "overall_phase4_bogota0['phase'] = 4\n",
    "overall_phase4_bogota0['functions'].replace('', np.nan, inplace=True)\n",
    "overall_phase4_bogota0.dropna(subset=['functions'], inplace=True)\n",
    "subset_bogota0_phase4 = overall_phase4_bogota0[['Student', 'functions', 'phase']]\n",
    "subset_bogota0_phase4"
   ]
  },
  {
   "cell_type": "markdown",
   "id": "2d81625f",
   "metadata": {},
   "source": [
    "## Subset Bogota 0 Phase 3"
   ]
  },
  {
   "cell_type": "code",
   "execution_count": null,
   "id": "5b93f251",
   "metadata": {},
   "outputs": [],
   "source": [
    "import numpy as np\n",
    "overall_phase3_bogota0['phase'] = 3\n",
    "overall_phase3_bogota0['functions'].replace('', np.nan, inplace=True)\n",
    "overall_phase3_bogota0.dropna(subset=['functions'], inplace=True)\n",
    "subset_bogota0_phase3 = overall_phase3_bogota0[['Student', 'functions', 'phase']]\n",
    "subset_bogota0_phase3"
   ]
  },
  {
   "cell_type": "markdown",
   "id": "82b12162",
   "metadata": {},
   "source": [
    "## Subset Bogota 0 Phase 2"
   ]
  },
  {
   "cell_type": "code",
   "execution_count": null,
   "id": "7d2ed3e9",
   "metadata": {},
   "outputs": [],
   "source": [
    "import numpy as np\n",
    "overall_phase2_bogota0['phase'] = 2\n",
    "overall_phase2_bogota0['functions'].replace('', np.nan, inplace=True)\n",
    "overall_phase2_bogota0.dropna(subset=['functions'], inplace=True)\n",
    "subset_bogota0_phase2 = overall_phase2_bogota0[['Student', 'functions', 'phase']]\n",
    "subset_bogota0_phase2"
   ]
  },
  {
   "cell_type": "markdown",
   "id": "1ea6330b",
   "metadata": {},
   "source": [
    "## Subset Bogota 0 Phase 1"
   ]
  },
  {
   "cell_type": "code",
   "execution_count": null,
   "id": "b0e71c01",
   "metadata": {},
   "outputs": [],
   "source": [
    "import numpy as np\n",
    "overall_phase1_bogota0['phase'] = 1\n",
    "overall_phase1_bogota0['functions'].replace('', np.nan, inplace=True)\n",
    "overall_phase1_bogota0.dropna(subset=['functions'], inplace=True)\n",
    "subset_bogota0_phase1 = overall_phase1_bogota0[['Student', 'functions', 'phase']]\n",
    "subset_bogota0_phase1"
   ]
  },
  {
   "cell_type": "markdown",
   "id": "615550e4",
   "metadata": {},
   "source": [
    "## Subset Bogota 1 Phase 5"
   ]
  },
  {
   "cell_type": "code",
   "execution_count": null,
   "id": "e809ecf3",
   "metadata": {},
   "outputs": [],
   "source": [
    "import numpy as np\n",
    "overall_phase5_bogota1['phase'] = 5\n",
    "overall_phase5_bogota1['functions'].replace('', np.nan, inplace=True)\n",
    "overall_phase5_bogota1.dropna(subset=['functions'], inplace=True)\n",
    "subset_bogota1_phase5 = overall_phase5_bogota1[['Student', 'functions', 'phase']]\n",
    "subset_bogota1_phase5"
   ]
  },
  {
   "cell_type": "markdown",
   "id": "8b6c0f04",
   "metadata": {},
   "source": [
    "## Subset Bogota 1 Phase 4"
   ]
  },
  {
   "cell_type": "code",
   "execution_count": null,
   "id": "e19b3cf1",
   "metadata": {},
   "outputs": [],
   "source": [
    "import numpy as np\n",
    "overall_phase4_bogota1['phase'] = 4\n",
    "overall_phase4_bogota1['functions'].replace('', np.nan, inplace=True)\n",
    "overall_phase4_bogota1.dropna(subset=['functions'], inplace=True)\n",
    "subset_bogota1_phase4 = overall_phase4_bogota1[['Student', 'functions', 'phase']]\n",
    "subset_bogota1_phase4"
   ]
  },
  {
   "cell_type": "markdown",
   "id": "5a6c8da7",
   "metadata": {},
   "source": [
    "## Subset Bogota 1 Phase 3"
   ]
  },
  {
   "cell_type": "code",
   "execution_count": null,
   "id": "272b52af",
   "metadata": {},
   "outputs": [],
   "source": [
    "import numpy as np\n",
    "overall_phase3_bogota1['phase'] = 3\n",
    "overall_phase3_bogota1['functions'].replace('', np.nan, inplace=True)\n",
    "overall_phase3_bogota1.dropna(subset=['functions'], inplace=True)\n",
    "subset_bogota1_phase3 = overall_phase3_bogota1[['Student', 'functions', 'phase']]\n",
    "subset_bogota1_phase3"
   ]
  },
  {
   "cell_type": "markdown",
   "id": "5d286b9a",
   "metadata": {},
   "source": [
    "## Subset Bogota 2 Phase 2"
   ]
  },
  {
   "cell_type": "code",
   "execution_count": null,
   "id": "0afb20a6",
   "metadata": {},
   "outputs": [],
   "source": [
    "import numpy as np\n",
    "overall_phase2_bogota1['phase'] = 2\n",
    "overall_phase2_bogota1['functions'].replace('', np.nan, inplace=True)\n",
    "overall_phase2_bogota1.dropna(subset=['functions'], inplace=True)\n",
    "subset_bogota1_phase2 = overall_phase2_bogota1[['Student', 'functions', 'phase']]\n",
    "subset_bogota1_phase2"
   ]
  },
  {
   "cell_type": "markdown",
   "id": "a6c5a410",
   "metadata": {},
   "source": [
    "## Subset Bogota 1 Phase 1 "
   ]
  },
  {
   "cell_type": "code",
   "execution_count": null,
   "id": "8e5f4e0c",
   "metadata": {},
   "outputs": [],
   "source": [
    "import numpy as np\n",
    "overall_phase1_bogota1['phase'] = 1\n",
    "overall_phase1_bogota1['functions'].replace('', np.nan, inplace=True)\n",
    "overall_phase1_bogota1.dropna(subset=['functions'], inplace=True)\n",
    "subset_bogota1_phase1 = overall_phase1_bogota1[['Student', 'functions', 'phase']]\n",
    "subset_bogota1_phase1"
   ]
  },
  {
   "cell_type": "code",
   "execution_count": null,
   "id": "e30abd31",
   "metadata": {},
   "outputs": [],
   "source": [
    "import numpy as np\n",
    "overall_phase5_bogota2['phase'] = 5\n",
    "overall_phase5_bogota2['functions'].replace('', np.nan, inplace=True)\n",
    "overall_phase5_bogota2.dropna(subset=['functions'], inplace=True)\n",
    "subset_bogota2_phase5 = overall_phase5_bogota2[['Student', 'functions', 'phase']]\n",
    "subset_bogota2_phase5"
   ]
  },
  {
   "cell_type": "code",
   "execution_count": null,
   "id": "1d38c347",
   "metadata": {},
   "outputs": [],
   "source": [
    "import numpy as np\n",
    "overall_phase4_bogota2['phase'] = 4\n",
    "overall_phase4_bogota2['functions'].replace('', np.nan, inplace=True)\n",
    "overall_phase4_bogota2.dropna(subset=['functions'], inplace=True)\n",
    "subset_bogota2_phase4 = overall_phase4_bogota2[['Student', 'functions', 'phase']]\n",
    "subset_bogota2_phase4"
   ]
  },
  {
   "cell_type": "code",
   "execution_count": null,
   "id": "2aed019b",
   "metadata": {},
   "outputs": [],
   "source": [
    "import numpy as np\n",
    "overall_phase3_bogota2['phase'] = 3\n",
    "overall_phase3_bogota2['functions'].replace('', np.nan, inplace=True)\n",
    "overall_phase3_bogota2.dropna(subset=['functions'], inplace=True)\n",
    "subset_bogota2_phase3 = overall_phase3_bogota2[['Student', 'functions', 'phase']]\n",
    "subset_bogota2_phase3"
   ]
  },
  {
   "cell_type": "code",
   "execution_count": null,
   "id": "e30755ab",
   "metadata": {},
   "outputs": [],
   "source": [
    "import numpy as np\n",
    "overall_phase2_bogota2['phase'] = 2\n",
    "overall_phase2_bogota2['functions'].replace('', np.nan, inplace=True)\n",
    "overall_phase2_bogota2.dropna(subset=['functions'], inplace=True)\n",
    "subset_bogota2_phase2 = overall_phase2_bogota2[['Student', 'functions', 'phase']]\n",
    "subset_bogota2_phase2"
   ]
  },
  {
   "cell_type": "code",
   "execution_count": null,
   "id": "68d8d33e",
   "metadata": {},
   "outputs": [],
   "source": [
    "import numpy as np\n",
    "overall_phase1_bogota2['phase'] = 1\n",
    "overall_phase1_bogota2['functions'].replace('', np.nan, inplace=True)\n",
    "overall_phase1_bogota2.dropna(subset=['functions'], inplace=True)\n",
    "subset_bogota2_phase1 = overall_phase1_bogota2[['Student', 'functions', 'phase']]\n",
    "subset_bogota2_phase1"
   ]
  },
  {
   "cell_type": "markdown",
   "id": "e233016a",
   "metadata": {},
   "source": [
    "## Merge Two Phases into One Frame"
   ]
  },
  {
   "cell_type": "code",
   "execution_count": null,
   "id": "8462e68a",
   "metadata": {},
   "outputs": [],
   "source": [
    "phase15_bogota0 = overall_phase1_bogota0.append(overall_phase5_bogota0, ignore_index = True)\n",
    "df_phase15_bogota0 = phase15_bogota0[['Student', 'functions', 'phase']]\n",
    "df_phase15_bogota0"
   ]
  },
  {
   "cell_type": "code",
   "execution_count": null,
   "id": "40ce78dd",
   "metadata": {},
   "outputs": [],
   "source": [
    "phase12_bogota0 = overall_phase1_bogota0.append(overall_phase2_bogota0, ignore_index = True)\n",
    "df_phase12_bogota0 = phase12_bogota0[['Student', 'functions', 'phase']]\n",
    "df_phase12_bogota0"
   ]
  },
  {
   "cell_type": "code",
   "execution_count": null,
   "id": "2bac5ac3",
   "metadata": {},
   "outputs": [],
   "source": [
    "phase23_bogota0 = overall_phase2_bogota0.append(overall_phase3_bogota0, ignore_index = True)\n",
    "df_phase23_bogota0 = phase23_bogota0[['Student', 'functions', 'phase']]\n",
    "df_phase23_bogota0"
   ]
  },
  {
   "cell_type": "code",
   "execution_count": null,
   "id": "4dc12145",
   "metadata": {},
   "outputs": [],
   "source": [
    "phase34_bogota0 = overall_phase3_bogota0.append(overall_phase4_bogota0, ignore_index = True)\n",
    "df_phase34_bogota0 = phase34_bogota0[['Student', 'functions', 'phase']]\n",
    "df_phase34_bogota0"
   ]
  },
  {
   "cell_type": "code",
   "execution_count": null,
   "id": "e1eb0052",
   "metadata": {},
   "outputs": [],
   "source": [
    "phase45_bogota0 = overall_phase4_bogota0.append(overall_phase5_bogota0, ignore_index = True)\n",
    "df_phase45_bogota0 = phase45_bogota0[['Student', 'functions', 'phase']]\n",
    "df_phase45_bogota0"
   ]
  },
  {
   "cell_type": "code",
   "execution_count": null,
   "id": "c9f16ccd",
   "metadata": {},
   "outputs": [],
   "source": [
    "phase15_bogota1 = overall_phase1_bogota1.append(overall_phase5_bogota1, ignore_index = True)\n",
    "df_phase15_bogota1 = phase15_bogota1[['Student', 'functions', 'phase']]\n",
    "df_phase15_bogota1"
   ]
  },
  {
   "cell_type": "code",
   "execution_count": null,
   "id": "3fe12759",
   "metadata": {},
   "outputs": [],
   "source": [
    "phase12_bogota1 = overall_phase1_bogota1.append(overall_phase2_bogota1, ignore_index = True)\n",
    "df_phase12_bogota1 = phase12_bogota1[['Student', 'functions', 'phase']]\n",
    "df_phase12_bogota1"
   ]
  },
  {
   "cell_type": "code",
   "execution_count": null,
   "id": "0a4a93a2",
   "metadata": {},
   "outputs": [],
   "source": [
    "phase23_bogota1 = overall_phase2_bogota1.append(overall_phase3_bogota1, ignore_index = True)\n",
    "df_phase23_bogota1 = phase23_bogota1[['Student', 'functions', 'phase']]\n",
    "df_phase23_bogota1"
   ]
  },
  {
   "cell_type": "code",
   "execution_count": null,
   "id": "b10710f8",
   "metadata": {},
   "outputs": [],
   "source": [
    "phase34_bogota1 = overall_phase3_bogota1.append(overall_phase4_bogota1, ignore_index = True)\n",
    "df_phase34_bogota1 = phase34_bogota1[['Student', 'functions', 'phase']]\n",
    "df_phase34_bogota1"
   ]
  },
  {
   "cell_type": "code",
   "execution_count": null,
   "id": "ead5547f",
   "metadata": {},
   "outputs": [],
   "source": [
    "phase45_bogota1 = overall_phase4_bogota1.append(overall_phase5_bogota1, ignore_index = True)\n",
    "df_phase45_bogota1 = phase45_bogota1[['Student', 'functions', 'phase']]\n",
    "df_phase45_bogota1"
   ]
  },
  {
   "cell_type": "code",
   "execution_count": null,
   "id": "f4b882cb",
   "metadata": {},
   "outputs": [],
   "source": [
    "phase12_bogota2 = overall_phase1_bogota2.append(overall_phase2_bogota2, ignore_index = True)\n",
    "df_phase12_bogota2 = phase12_bogota2[['Student', 'functions', 'phase']]\n",
    "df_phase12_bogota2"
   ]
  },
  {
   "cell_type": "code",
   "execution_count": null,
   "id": "a2c53f3b",
   "metadata": {},
   "outputs": [],
   "source": [
    "phase23_bogota2 = overall_phase2_bogota2.append(overall_phase3_bogota2, ignore_index = True)\n",
    "df_phase23_bogota2 = phase23_bogota2[['Student', 'functions', 'phase']]\n",
    "df_phase23_bogota2"
   ]
  },
  {
   "cell_type": "code",
   "execution_count": null,
   "id": "a48ff4f6",
   "metadata": {},
   "outputs": [],
   "source": [
    "phase34_bogota2 = overall_phase3_bogota2.append(overall_phase4_bogota2, ignore_index = True)\n",
    "df_phase34_bogota2 = phase34_bogota2[['Student', 'functions', 'phase']]\n",
    "df_phase34_bogota2"
   ]
  },
  {
   "cell_type": "code",
   "execution_count": null,
   "id": "85aedfb4",
   "metadata": {},
   "outputs": [],
   "source": [
    "phase45_bogota2 = overall_phase4_bogota2.append(overall_phase5_bogota2, ignore_index = True)\n",
    "df_phase45_bogota2 = phase45_bogota2[['Student', 'functions', 'phase']]\n",
    "df_phase45_bogota2"
   ]
  },
  {
   "cell_type": "code",
   "execution_count": null,
   "id": "8a090c45",
   "metadata": {},
   "outputs": [],
   "source": [
    "phase15_bogota2 = overall_phase1_bogota2.append(overall_phase5_bogota2, ignore_index = True)\n",
    "df_phase15_bogota2 = phase15_bogota2[['Student', 'functions', 'phase']]\n",
    "df_phase15_bogota2"
   ]
  },
  {
   "cell_type": "markdown",
   "id": "2cf491e6",
   "metadata": {},
   "source": [
    "## Comparing Phase 4 and Phase 5 Bogota 3"
   ]
  },
  {
   "cell_type": "code",
   "execution_count": null,
   "id": "55152e77",
   "metadata": {},
   "outputs": [],
   "source": [
    "overall_phase5_bogota3['phase'] = 5\n",
    "overall_phase5_bogota3\n",
    "overall_phase5_bogota3[['Student', 'functions', 'phase']]\n"
   ]
  },
  {
   "cell_type": "code",
   "execution_count": null,
   "id": "5e2c57d3",
   "metadata": {},
   "outputs": [],
   "source": [
    "overall_phase4_bogota3['phase'] = 4\n",
    "overall_phase4_bogota3\n",
    "overall_phase4_bogota3[['Student', 'functions', 'phase']]"
   ]
  },
  {
   "cell_type": "code",
   "execution_count": null,
   "id": "be834be1",
   "metadata": {},
   "outputs": [],
   "source": [
    "import numpy as np\n",
    "overall_phase3_bogota3['phase'] = 3\n",
    "overall_phase3_bogota3['functions'].replace('', np.nan, inplace=True)\n",
    "overall_phase3_bogota3.dropna(subset=['functions'], inplace=True)\n",
    "subset_bogota3_phase3 = overall_phase3_bogota3[['Student', 'functions', 'phase']]\n",
    "subset_bogota3_phase3"
   ]
  },
  {
   "cell_type": "code",
   "execution_count": null,
   "id": "316c2350",
   "metadata": {},
   "outputs": [],
   "source": [
    "overall_phase2_bogota3['phase'] = 2\n",
    "overall_phase2_bogota3\n",
    "overall_phase2_bogota3[['Student', 'functions', 'phase']]\n"
   ]
  },
  {
   "cell_type": "code",
   "execution_count": null,
   "id": "3b8cc0b8",
   "metadata": {},
   "outputs": [],
   "source": [
    "import numpy as np\n",
    "overall_phase1_bogota3['phase'] = 1\n",
    "overall_phase1_bogota3['functions'].replace('', np.nan, inplace=True)\n",
    "overall_phase1_bogota3.dropna(subset=['functions'], inplace=True)\n",
    "subset_bogota3_phase1 = overall_phase1_bogota3[['Student', 'functions', 'phase']]\n",
    "subset_bogota3_phase1"
   ]
  },
  {
   "cell_type": "code",
   "execution_count": null,
   "id": "e438625d",
   "metadata": {},
   "outputs": [],
   "source": [
    "phase12 = subset_bogota3_phase1.append(overall_phase2_bogota3, ignore_index = True)\n",
    "df_phase12 = phase12[['Student', 'functions', 'phase']]\n",
    "df_phase12"
   ]
  },
  {
   "cell_type": "code",
   "execution_count": null,
   "id": "7faf797d",
   "metadata": {},
   "outputs": [],
   "source": [
    "phase23 = overall_phase2_bogota3.append(subset_bogota3_phase3, ignore_index = True)\n",
    "df_phase23 = phase23[['Student', 'functions', 'phase']]\n",
    "df_phase23"
   ]
  },
  {
   "cell_type": "code",
   "execution_count": null,
   "id": "7bfe7bae",
   "metadata": {},
   "outputs": [],
   "source": [
    "phase34 = subset_bogota3_phase3.append(overall_phase4_bogota3, ignore_index = True)\n",
    "df_phase34 = phase34[['Student', 'functions', 'phase']]\n",
    "df_phase34"
   ]
  },
  {
   "cell_type": "code",
   "execution_count": null,
   "id": "31ba9933",
   "metadata": {},
   "outputs": [],
   "source": [
    "phase45 = overall_phase4_bogota3.append(overall_phase5_bogota3, ignore_index = True)\n",
    "df_phase45 = phase45[['Student', 'functions', 'phase']]\n",
    "df_phase45"
   ]
  },
  {
   "cell_type": "code",
   "execution_count": null,
   "id": "513950c1",
   "metadata": {},
   "outputs": [],
   "source": [
    "phase15 = overall_phase1_bogota3.append(overall_phase5_bogota3, ignore_index = True)\n",
    "df_phase15 = phase15[['Student', 'functions', 'phase']]\n",
    "df_phase15"
   ]
  },
  {
   "cell_type": "code",
   "execution_count": null,
   "id": "c6dd3ea4",
   "metadata": {},
   "outputs": [],
   "source": [
    "# create list of tuples like [(wording, user), (wording, user)]\n",
    "# copied from OP above\n",
    "def jaccard_similarity(x, y):\n",
    "    \"\"\" returns the jaccard similarity between two lists \"\"\"\n",
    "    intersection_cardinality = len(set.intersection(*[set(x), set(y)]))\n",
    "    union_cardinality = len(set.union(*[set(x), set(y)]))\n",
    "    return intersection_cardinality/float(union_cardinality)\n",
    "\n",
    "wordings_users = list(zip(df_phase15_bogota0[\"functions\"], df_phase15_bogota0[\"Student\"], df_phase15_bogota0[\"phase\"]))\n",
    "\n",
    "result = []\n",
    "\n",
    "# create list of all possible combinations between sets of (wording, user) and loop through them\n",
    "for item in list(itertools.combinations(wordings_users, 2)):\n",
    "    similarity = jaccard_similarity(item[0][0], item[1][0])\n",
    "    data = {\"user1\": item[0][1], \"user2\": item[1][1], \"user1_phase\": item[0][2], \"user2_phase\": item[1][2], \"similarity\": similarity}\n",
    "    result.append(data)\n",
    "\n",
    "df0_bogota0 = pd.DataFrame(result)\n",
    "df0_bogota0"
   ]
  },
  {
   "cell_type": "code",
   "execution_count": null,
   "id": "7d56738c",
   "metadata": {},
   "outputs": [],
   "source": [
    "# create list of tuples like [(wording, user), (wording, user)]\n",
    "# copied from OP above\n",
    "def jaccard_similarity(x, y):\n",
    "    \"\"\" returns the jaccard similarity between two lists \"\"\"\n",
    "    intersection_cardinality = len(set.intersection(*[set(x), set(y)]))\n",
    "    union_cardinality = len(set.union(*[set(x), set(y)]))\n",
    "    return intersection_cardinality/float(union_cardinality)\n",
    "\n",
    "wordings_users = list(zip(df_phase15_bogota1[\"functions\"], df_phase15_bogota1[\"Student\"], df_phase15_bogota1[\"phase\"]))\n",
    "\n",
    "result = []\n",
    "\n",
    "# create list of all possible combinations between sets of (wording, user) and loop through them\n",
    "for item in list(itertools.combinations(wordings_users, 2)):\n",
    "    similarity = jaccard_similarity(item[0][0], item[1][0])\n",
    "    data = {\"user1\": item[0][1], \"user2\": item[1][1], \"user1_phase\": item[0][2], \"user2_phase\": item[1][2], \"similarity\": similarity}\n",
    "    result.append(data)\n",
    "\n",
    "df0_bogota1 = pd.DataFrame(result)\n",
    "df0_bogota1"
   ]
  },
  {
   "cell_type": "code",
   "execution_count": null,
   "id": "a6e9ccbd",
   "metadata": {},
   "outputs": [],
   "source": [
    "# create list of tuples like [(wording, user), (wording, user)]\n",
    "# copied from OP above\n",
    "def jaccard_similarity(x, y):\n",
    "    \"\"\" returns the jaccard similarity between two lists \"\"\"\n",
    "    intersection_cardinality = len(set.intersection(*[set(x), set(y)]))\n",
    "    union_cardinality = len(set.union(*[set(x), set(y)]))\n",
    "    return intersection_cardinality/float(union_cardinality)\n",
    "\n",
    "wordings_users = list(zip(df_phase15_bogota2[\"functions\"], df_phase15_bogota2[\"Student\"], df_phase15_bogota2[\"phase\"]))\n",
    "\n",
    "result = []\n",
    "\n",
    "# create list of all possible combinations between sets of (wording, user) and loop through them\n",
    "for item in list(itertools.combinations(wordings_users, 2)):\n",
    "    similarity = jaccard_similarity(item[0][0], item[1][0])\n",
    "    data = {\"user1\": item[0][1], \"user2\": item[1][1], \"user1_phase\": item[0][2], \"user2_phase\": item[1][2], \"similarity\": similarity}\n",
    "    result.append(data)\n",
    "\n",
    "df0_bogota2 = pd.DataFrame(result)\n",
    "df0_bogota2"
   ]
  },
  {
   "cell_type": "code",
   "execution_count": null,
   "id": "1c7a3442",
   "metadata": {},
   "outputs": [],
   "source": [
    "# create list of tuples like [(wording, user), (wording, user)]\n",
    "# copied from OP above\n",
    "def jaccard_similarity(x, y):\n",
    "    \"\"\" returns the jaccard similarity between two lists \"\"\"\n",
    "    intersection_cardinality = len(set.intersection(*[set(x), set(y)]))\n",
    "    union_cardinality = len(set.union(*[set(x), set(y)]))\n",
    "    return intersection_cardinality/float(union_cardinality)\n",
    "\n",
    "wordings_users = list(zip(df_phase15[\"functions\"], df_phase15[\"Student\"], df_phase15[\"phase\"]))\n",
    "\n",
    "\n",
    "result = []\n",
    "\n",
    "# create list of all possible combinations between sets of (wording, user) and loop through them\n",
    "for item in list(itertools.combinations(wordings_users, 2)):\n",
    "    similarity = jaccard_similarity(item[0][0], item[1][0])\n",
    "    data = {\"user1\": item[0][1], \"user2\": item[1][1], \"user1_phase\": item[0][2], \"user2_phase\": item[1][2], \"similarity\": similarity}\n",
    "    result.append(data)\n",
    "\n",
    "df0 = pd.DataFrame(result)\n",
    "df0"
   ]
  },
  {
   "cell_type": "code",
   "execution_count": null,
   "id": "b4114f0b",
   "metadata": {},
   "outputs": [],
   "source": [
    "# create list of tuples like [(wording, user), (wording, user)]\n",
    "# copied from OP above\n",
    "def jaccard_similarity(x, y):\n",
    "    \"\"\" returns the jaccard similarity between two lists \"\"\"\n",
    "    intersection_cardinality = len(set.intersection(*[set(x), set(y)]))\n",
    "    union_cardinality = len(set.union(*[set(x), set(y)]))\n",
    "    return intersection_cardinality/float(union_cardinality)\n",
    "\n",
    "wordings_users = list(zip(df_phase45_bogota0[\"functions\"], df_phase45_bogota0[\"Student\"], df_phase45_bogota0[\"phase\"]))\n",
    "\n",
    "result = []\n",
    "\n",
    "# create list of all possible combinations between sets of (wording, user) and loop through them\n",
    "for item in list(itertools.combinations(wordings_users, 2)):\n",
    "    similarity = jaccard_similarity(item[0][0], item[1][0])\n",
    "    data = {\"user1\": item[0][1], \"user2\": item[1][1], \"user1_phase\": item[0][2], \"user2_phase\": item[1][2], \"similarity\": similarity}\n",
    "    result.append(data)\n",
    "\n",
    "df1_bogota0 = pd.DataFrame(result)\n",
    "df1_bogota0"
   ]
  },
  {
   "cell_type": "code",
   "execution_count": null,
   "id": "02141431",
   "metadata": {},
   "outputs": [],
   "source": [
    "# create list of tuples like [(wording, user), (wording, user)]\n",
    "# copied from OP above\n",
    "def jaccard_similarity(x, y):\n",
    "    \"\"\" returns the jaccard similarity between two lists \"\"\"\n",
    "    intersection_cardinality = len(set.intersection(*[set(x), set(y)]))\n",
    "    union_cardinality = len(set.union(*[set(x), set(y)]))\n",
    "    return intersection_cardinality/float(union_cardinality)\n",
    "\n",
    "wordings_users = list(zip(df_phase45_bogota1[\"functions\"], df_phase45_bogota1[\"Student\"], df_phase45_bogota1[\"phase\"]))\n",
    "\n",
    "result = []\n",
    "\n",
    "# create list of all possible combinations between sets of (wording, user) and loop through them\n",
    "for item in list(itertools.combinations(wordings_users, 2)):\n",
    "    similarity = jaccard_similarity(item[0][0], item[1][0])\n",
    "    data = {\"user1\": item[0][1], \"user2\": item[1][1], \"user1_phase\": item[0][2], \"user2_phase\": item[1][2], \"similarity\": similarity}\n",
    "    result.append(data)\n",
    "\n",
    "df1_bogota1 = pd.DataFrame(result)\n",
    "df1_bogota1"
   ]
  },
  {
   "cell_type": "code",
   "execution_count": null,
   "id": "fa4b4243",
   "metadata": {},
   "outputs": [],
   "source": [
    "# create list of tuples like [(wording, user), (wording, user)]\n",
    "# copied from OP above\n",
    "def jaccard_similarity(x, y):\n",
    "    \"\"\" returns the jaccard similarity between two lists \"\"\"\n",
    "    intersection_cardinality = len(set.intersection(*[set(x), set(y)]))\n",
    "    union_cardinality = len(set.union(*[set(x), set(y)]))\n",
    "    return intersection_cardinality/float(union_cardinality)\n",
    "\n",
    "wordings_users = list(zip(df_phase45_bogota2[\"functions\"], df_phase45_bogota2[\"Student\"], df_phase45_bogota2[\"phase\"]))\n",
    "\n",
    "result = []\n",
    "\n",
    "# create list of all possible combinations between sets of (wording, user) and loop through them\n",
    "for item in list(itertools.combinations(wordings_users, 2)):\n",
    "    similarity = jaccard_similarity(item[0][0], item[1][0])\n",
    "    data = {\"user1\": item[0][1], \"user2\": item[1][1], \"user1_phase\": item[0][2], \"user2_phase\": item[1][2], \"similarity\": similarity}\n",
    "    result.append(data)\n",
    "\n",
    "df1_bogota2 = pd.DataFrame(result)\n",
    "df1_bogota2"
   ]
  },
  {
   "cell_type": "code",
   "execution_count": null,
   "id": "4e6d66b8",
   "metadata": {},
   "outputs": [],
   "source": [
    "# create list of tuples like [(wording, user), (wording, user)]\n",
    "# copied from OP above\n",
    "def jaccard_similarity(x, y):\n",
    "    \"\"\" returns the jaccard similarity between two lists \"\"\"\n",
    "    intersection_cardinality = len(set.intersection(*[set(x), set(y)]))\n",
    "    union_cardinality = len(set.union(*[set(x), set(y)]))\n",
    "    return intersection_cardinality/float(union_cardinality)\n",
    "\n",
    "wordings_users = list(zip(df_phase45[\"functions\"], df_phase45[\"Student\"], df_phase45[\"phase\"]))\n",
    "\n",
    "result = []\n",
    "\n",
    "# create list of all possible combinations between sets of (wording, user) and loop through them\n",
    "for item in list(itertools.combinations(wordings_users, 2)):\n",
    "    similarity = jaccard_similarity(item[0][0], item[1][0])\n",
    "    data = {\"user1\": item[0][1], \"user2\": item[1][1], \"user1_phase\": item[0][2], \"user2_phase\": item[1][2], \"similarity\": similarity}\n",
    "    result.append(data)\n",
    "\n",
    "df1 = pd.DataFrame(result)\n",
    "df1"
   ]
  },
  {
   "cell_type": "code",
   "execution_count": null,
   "id": "3e174607",
   "metadata": {},
   "outputs": [],
   "source": [
    "# create list of tuples like [(wording, user), (wording, user)]\n",
    "# copied from OP above\n",
    "def jaccard_similarity(x, y):\n",
    "    \"\"\" returns the jaccard similarity between two lists \"\"\"\n",
    "    intersection_cardinality = len(set.intersection(*[set(x), set(y)]))\n",
    "    union_cardinality = len(set.union(*[set(x), set(y)]))\n",
    "    return intersection_cardinality/float(union_cardinality)\n",
    "\n",
    "wordings_users = list(zip(df_phase34[\"functions\"], df_phase34[\"Student\"], df_phase34[\"phase\"]))\n",
    "\n",
    "result = []\n",
    "\n",
    "# create list of all possible combinations between sets of (wording, user) and loop through them\n",
    "for item in list(itertools.combinations(wordings_users, 2)):\n",
    "    similarity = jaccard_similarity(item[0][0], item[1][0])\n",
    "    data = {\"user1\": item[0][1], \"user2\": item[1][1], \"user1_phase\": item[0][2], \"user2_phase\": item[1][2], \"similarity\": similarity}\n",
    "    result.append(data)\n",
    "\n",
    "df2 = pd.DataFrame(result)\n",
    "df2"
   ]
  },
  {
   "cell_type": "code",
   "execution_count": null,
   "id": "c2011439",
   "metadata": {},
   "outputs": [],
   "source": [
    "# create list of tuples like [(wording, user), (wording, user)]\n",
    "# copied from OP above\n",
    "def jaccard_similarity(x, y):\n",
    "    \"\"\" returns the jaccard similarity between two lists \"\"\"\n",
    "    intersection_cardinality = len(set.intersection(*[set(x), set(y)]))\n",
    "    union_cardinality = len(set.union(*[set(x), set(y)]))\n",
    "    return intersection_cardinality/float(union_cardinality)\n",
    "\n",
    "wordings_users = list(zip(df_phase34_bogota2[\"functions\"], df_phase34_bogota2[\"Student\"], df_phase34_bogota2[\"phase\"]))\n",
    "\n",
    "\n",
    "result = []\n",
    "\n",
    "# create list of all possible combinations between sets of (wording, user) and loop through them\n",
    "for item in list(itertools.combinations(wordings_users, 2)):\n",
    "    similarity = jaccard_similarity(item[0][0], item[1][0])\n",
    "    data = {\"user1\": item[0][1], \"user2\": item[1][1], \"user1_phase\": item[0][2], \"user2_phase\": item[1][2], \"similarity\": similarity}\n",
    "    result.append(data)\n",
    "\n",
    "df2_bogota2 = pd.DataFrame(result)\n",
    "df2_bogota2"
   ]
  },
  {
   "cell_type": "code",
   "execution_count": null,
   "id": "6db77f8f",
   "metadata": {},
   "outputs": [],
   "source": [
    "# create list of tuples like [(wording, user), (wording, user)]\n",
    "# copied from OP above\n",
    "def jaccard_similarity(x, y):\n",
    "    \"\"\" returns the jaccard similarity between two lists \"\"\"\n",
    "    intersection_cardinality = len(set.intersection(*[set(x), set(y)]))\n",
    "    union_cardinality = len(set.union(*[set(x), set(y)]))\n",
    "    return intersection_cardinality/float(union_cardinality)\n",
    "\n",
    "wordings_users = list(zip(df_phase34_bogota1[\"functions\"], df_phase34_bogota1[\"Student\"], df_phase34_bogota1[\"phase\"]))\n",
    "\n",
    "\n",
    "result = []\n",
    "\n",
    "# create list of all possible combinations between sets of (wording, user) and loop through them\n",
    "for item in list(itertools.combinations(wordings_users, 2)):\n",
    "    similarity = jaccard_similarity(item[0][0], item[1][0])\n",
    "    data = {\"user1\": item[0][1], \"user2\": item[1][1], \"user1_phase\": item[0][2], \"user2_phase\": item[1][2], \"similarity\": similarity}\n",
    "    result.append(data)\n",
    "\n",
    "df2_bogota1 = pd.DataFrame(result)\n",
    "df2_bogota1"
   ]
  },
  {
   "cell_type": "code",
   "execution_count": null,
   "id": "e28ce5ff",
   "metadata": {},
   "outputs": [],
   "source": [
    "# create list of tuples like [(wording, user), (wording, user)]\n",
    "# copied from OP above\n",
    "def jaccard_similarity(x, y):\n",
    "    \"\"\" returns the jaccard similarity between two lists \"\"\"\n",
    "    intersection_cardinality = len(set.intersection(*[set(x), set(y)]))\n",
    "    union_cardinality = len(set.union(*[set(x), set(y)]))\n",
    "    return intersection_cardinality/float(union_cardinality)\n",
    "\n",
    "wordings_users = list(zip(df_phase34_bogota0[\"functions\"], df_phase34_bogota0[\"Student\"], df_phase34_bogota0[\"phase\"]))\n",
    "\n",
    "\n",
    "result = []\n",
    "\n",
    "# create list of all possible combinations between sets of (wording, user) and loop through them\n",
    "for item in list(itertools.combinations(wordings_users, 2)):\n",
    "    similarity = jaccard_similarity(item[0][0], item[1][0])\n",
    "    data = {\"user1\": item[0][1], \"user2\": item[1][1], \"user1_phase\": item[0][2], \"user2_phase\": item[1][2], \"similarity\": similarity}\n",
    "    result.append(data)\n",
    "\n",
    "df2_bogota0 = pd.DataFrame(result)\n",
    "df2_bogota0"
   ]
  },
  {
   "cell_type": "code",
   "execution_count": null,
   "id": "81fcd16c",
   "metadata": {},
   "outputs": [],
   "source": [
    "# create list of tuples like [(wording, user), (wording, user)]\n",
    "# copied from OP above\n",
    "def jaccard_similarity(x, y):\n",
    "    \"\"\" returns the jaccard similarity between two lists \"\"\"\n",
    "    intersection_cardinality = len(set.intersection(*[set(x), set(y)]))\n",
    "    union_cardinality = len(set.union(*[set(x), set(y)]))\n",
    "    return intersection_cardinality/float(union_cardinality)\n",
    "\n",
    "wordings_users = list(zip(df_phase23[\"functions\"], df_phase23[\"Student\"], df_phase23[\"phase\"]))\n",
    "\n",
    "\n",
    "result = []\n",
    "\n",
    "# create list of all possible combinations between sets of (wording, user) and loop through them\n",
    "for item in list(itertools.combinations(wordings_users, 2)):\n",
    "    similarity = jaccard_similarity(item[0][0], item[1][0])\n",
    "    data = {\"user1\": item[0][1], \"user2\": item[1][1], \"user1_phase\": item[0][2], \"user2_phase\": item[1][2], \"similarity\": similarity}\n",
    "    result.append(data)\n",
    "\n",
    "df3 = pd.DataFrame(result)\n",
    "df3"
   ]
  },
  {
   "cell_type": "code",
   "execution_count": null,
   "id": "d6a1fc48",
   "metadata": {},
   "outputs": [],
   "source": [
    "# create list of tuples like [(wording, user), (wording, user)]\n",
    "# copied from OP above\n",
    "def jaccard_similarity(x, y):\n",
    "    \"\"\" returns the jaccard similarity between two lists \"\"\"\n",
    "    intersection_cardinality = len(set.intersection(*[set(x), set(y)]))\n",
    "    union_cardinality = len(set.union(*[set(x), set(y)]))\n",
    "    return intersection_cardinality/float(union_cardinality)\n",
    "\n",
    "wordings_users = list(zip(df_phase23_bogota2[\"functions\"], df_phase23_bogota2[\"Student\"], df_phase23_bogota2[\"phase\"]))\n",
    "\n",
    "result = []\n",
    "\n",
    "# create list of all possible combinations between sets of (wording, user) and loop through them\n",
    "for item in list(itertools.combinations(wordings_users, 2)):\n",
    "    similarity = jaccard_similarity(item[0][0], item[1][0])\n",
    "    data = {\"user1\": item[0][1], \"user2\": item[1][1], \"user1_phase\": item[0][2], \"user2_phase\": item[1][2], \"similarity\": similarity}\n",
    "    result.append(data)\n",
    "\n",
    "df3_bogota2 = pd.DataFrame(result)\n",
    "df3_bogota2"
   ]
  },
  {
   "cell_type": "code",
   "execution_count": null,
   "id": "821eec0e",
   "metadata": {},
   "outputs": [],
   "source": [
    "# create list of tuples like [(wording, user), (wording, user)]\n",
    "# copied from OP above\n",
    "def jaccard_similarity(x, y):\n",
    "    \"\"\" returns the jaccard similarity between two lists \"\"\"\n",
    "    intersection_cardinality = len(set.intersection(*[set(x), set(y)]))\n",
    "    union_cardinality = len(set.union(*[set(x), set(y)]))\n",
    "    return intersection_cardinality/float(union_cardinality)\n",
    "\n",
    "wordings_users = list(zip(df_phase23_bogota1[\"functions\"], df_phase23_bogota1[\"Student\"], df_phase23_bogota1[\"phase\"]))\n",
    "\n",
    "result = []\n",
    "\n",
    "# create list of all possible combinations between sets of (wording, user) and loop through them\n",
    "for item in list(itertools.combinations(wordings_users, 2)):\n",
    "    similarity = jaccard_similarity(item[0][0], item[1][0])\n",
    "    data = {\"user1\": item[0][1], \"user2\": item[1][1], \"user1_phase\": item[0][2], \"user2_phase\": item[1][2], \"similarity\": similarity}\n",
    "    result.append(data)\n",
    "\n",
    "df3_bogota1 = pd.DataFrame(result)\n",
    "df3_bogota1"
   ]
  },
  {
   "cell_type": "code",
   "execution_count": null,
   "id": "a81d0005",
   "metadata": {},
   "outputs": [],
   "source": [
    "# create list of tuples like [(wording, user), (wording, user)]\n",
    "# copied from OP above\n",
    "def jaccard_similarity(x, y):\n",
    "    \"\"\" returns the jaccard similarity between two lists \"\"\"\n",
    "    intersection_cardinality = len(set.intersection(*[set(x), set(y)]))\n",
    "    union_cardinality = len(set.union(*[set(x), set(y)]))\n",
    "    return intersection_cardinality/float(union_cardinality)\n",
    "\n",
    "wordings_users = list(zip(df_phase23_bogota0[\"functions\"], df_phase23_bogota0[\"Student\"], df_phase23_bogota0[\"phase\"]))\n",
    "\n",
    "result = []\n",
    "\n",
    "# create list of all possible combinations between sets of (wording, user) and loop through them\n",
    "for item in list(itertools.combinations(wordings_users, 2)):\n",
    "    similarity = jaccard_similarity(item[0][0], item[1][0])\n",
    "    data = {\"user1\": item[0][1], \"user2\": item[1][1], \"user1_phase\": item[0][2], \"user2_phase\": item[1][2], \"similarity\": similarity}\n",
    "    result.append(data)\n",
    "\n",
    "df3_bogota0 = pd.DataFrame(result)\n",
    "df3_bogota0"
   ]
  },
  {
   "cell_type": "code",
   "execution_count": null,
   "id": "37727e71",
   "metadata": {},
   "outputs": [],
   "source": [
    "# create list of tuples like [(wording, user), (wording, user)]\n",
    "# copied from OP above\n",
    "def jaccard_similarity(x, y):\n",
    "    \"\"\" returns the jaccard similarity between two lists \"\"\"\n",
    "    intersection_cardinality = len(set.intersection(*[set(x), set(y)]))\n",
    "    union_cardinality = len(set.union(*[set(x), set(y)]))\n",
    "    return intersection_cardinality/float(union_cardinality)\n",
    "\n",
    "wordings_users = list(zip(df_phase12[\"functions\"], df_phase12[\"Student\"], df_phase12[\"phase\"]))\n",
    "\n",
    "\n",
    "result = []\n",
    "\n",
    "# create list of all possible combinations between sets of (wording, user) and loop through them\n",
    "for item in list(itertools.combinations(wordings_users, 2)):\n",
    "    similarity = jaccard_similarity(item[0][0], item[1][0])\n",
    "    data = {\"user1\": item[0][1], \"user2\": item[1][1], \"user1_phase\": item[0][2], \"user2_phase\": item[1][2], \"similarity\": similarity}\n",
    "    result.append(data)\n",
    "\n",
    "df4 = pd.DataFrame(result)\n",
    "df4"
   ]
  },
  {
   "cell_type": "code",
   "execution_count": null,
   "id": "611e8b2c",
   "metadata": {},
   "outputs": [],
   "source": [
    "# create list of tuples like [(wording, user), (wording, user)]\n",
    "# copied from OP above\n",
    "def jaccard_similarity(x, y):\n",
    "    \"\"\" returns the jaccard similarity between two lists \"\"\"\n",
    "    intersection_cardinality = len(set.intersection(*[set(x), set(y)]))\n",
    "    union_cardinality = len(set.union(*[set(x), set(y)]))\n",
    "    return intersection_cardinality/float(union_cardinality)\n",
    "\n",
    "wordings_users = list(zip(df_phase12_bogota2[\"functions\"], df_phase12_bogota2[\"Student\"], df_phase12_bogota2[\"phase\"]))\n",
    "\n",
    "result = []\n",
    "\n",
    "# create list of all possible combinations between sets of (wording, user) and loop through them\n",
    "for item in list(itertools.combinations(wordings_users, 2)):\n",
    "    similarity = jaccard_similarity(item[0][0], item[1][0])\n",
    "    data = {\"user1\": item[0][1], \"user2\": item[1][1], \"user1_phase\": item[0][2], \"user2_phase\": item[1][2], \"similarity\": similarity}\n",
    "    result.append(data)\n",
    "\n",
    "df4_bogota2 = pd.DataFrame(result)\n",
    "df4_bogota2"
   ]
  },
  {
   "cell_type": "code",
   "execution_count": null,
   "id": "4d704487",
   "metadata": {},
   "outputs": [],
   "source": [
    "# create list of tuples like [(wording, user), (wording, user)]\n",
    "# copied from OP above\n",
    "def jaccard_similarity(x, y):\n",
    "    \"\"\" returns the jaccard similarity between two lists \"\"\"\n",
    "    intersection_cardinality = len(set.intersection(*[set(x), set(y)]))\n",
    "    union_cardinality = len(set.union(*[set(x), set(y)]))\n",
    "    return intersection_cardinality/float(union_cardinality)\n",
    "\n",
    "wordings_users = list(zip(df_phase12_bogota1[\"functions\"], df_phase12_bogota1[\"Student\"], df_phase12_bogota1[\"phase\"]))\n",
    "\n",
    "result = []\n",
    "\n",
    "# create list of all possible combinations between sets of (wording, user) and loop through them\n",
    "for item in list(itertools.combinations(wordings_users, 2)):\n",
    "    similarity = jaccard_similarity(item[0][0], item[1][0])\n",
    "    data = {\"user1\": item[0][1], \"user2\": item[1][1], \"user1_phase\": item[0][2], \"user2_phase\": item[1][2], \"similarity\": similarity}\n",
    "    result.append(data)\n",
    "\n",
    "df4_bogota1 = pd.DataFrame(result)\n",
    "df4_bogota1"
   ]
  },
  {
   "cell_type": "code",
   "execution_count": null,
   "id": "6dc57388",
   "metadata": {},
   "outputs": [],
   "source": [
    "# create list of tuples like [(wording, user), (wording, user)]\n",
    "# copied from OP above\n",
    "def jaccard_similarity(x, y):\n",
    "    \"\"\" returns the jaccard similarity between two lists \"\"\"\n",
    "    intersection_cardinality = len(set.intersection(*[set(x), set(y)]))\n",
    "    union_cardinality = len(set.union(*[set(x), set(y)]))\n",
    "    return intersection_cardinality/float(union_cardinality)\n",
    "\n",
    "wordings_users = list(zip(df_phase12_bogota0[\"functions\"], df_phase12_bogota0[\"Student\"], df_phase12_bogota0[\"phase\"]))\n",
    "\n",
    "result = []\n",
    "\n",
    "# create list of all possible combinations between sets of (wording, user) and loop through them\n",
    "for item in list(itertools.combinations(wordings_users, 2)):\n",
    "    similarity = jaccard_similarity(item[0][0], item[1][0])\n",
    "    data = {\"user1\": item[0][1], \"user2\": item[1][1], \"user1_phase\": item[0][2], \"user2_phase\": item[1][2], \"similarity\": similarity}\n",
    "    result.append(data)\n",
    "\n",
    "df4_bogota0 = pd.DataFrame(result)\n",
    "df4_bogota0"
   ]
  },
  {
   "cell_type": "code",
   "execution_count": null,
   "id": "11ed69a5",
   "metadata": {},
   "outputs": [],
   "source": [
    "phase12_bogota3 = df4[df4['user1'] == df4['user2']]\n",
    "phase12_bogota3"
   ]
  },
  {
   "cell_type": "code",
   "execution_count": null,
   "id": "0913f991",
   "metadata": {},
   "outputs": [],
   "source": [
    "phase45_bogota3 = df1[df1['user1'] == df1['user2']]\n",
    "phase45_bogota3"
   ]
  },
  {
   "cell_type": "markdown",
   "id": "98c25939",
   "metadata": {},
   "source": [
    "## Bogota 3 Phase 1 and Phase 5"
   ]
  },
  {
   "cell_type": "code",
   "execution_count": null,
   "id": "7ed5ae49",
   "metadata": {},
   "outputs": [],
   "source": [
    "phase15_bogota3 = df0[df0['user1'] == df0['user2']]\n",
    "mean_phase15_bogota3 = phase15_bogota3['similarity'].describe().loc['mean']"
   ]
  },
  {
   "cell_type": "code",
   "execution_count": null,
   "id": "ef2cae52",
   "metadata": {},
   "outputs": [],
   "source": [
    "# Shapiro-Wilk Normality Test\n",
    "\n",
    "from scipy.stats import shapiro \n",
    "\n",
    "stat, p = shapiro(phase15_bogota3['similarity'])\n",
    "print('stat=%.3f, p=%.3f\\n' % (stat, p))\n",
    "if p > 0.05:\n",
    "    print('Probably Gaussian')\n",
    "else:\n",
    "    print('Probably not Gaussian')"
   ]
  },
  {
   "cell_type": "markdown",
   "id": "d2d3c2cf",
   "metadata": {},
   "source": [
    "## Bogota 2 Phase 1 and Phase 5"
   ]
  },
  {
   "cell_type": "code",
   "execution_count": null,
   "id": "0c220d16",
   "metadata": {},
   "outputs": [],
   "source": [
    "phase15_bogota2 = df0_bogota2[df0_bogota2['user1'] == df0_bogota2['user2']]\n",
    "mean_phase15_bogota2 = phase15_bogota2['similarity'].describe().loc['mean']"
   ]
  },
  {
   "cell_type": "code",
   "execution_count": null,
   "id": "9d0e6f06",
   "metadata": {},
   "outputs": [],
   "source": [
    "# Shapiro-Wilk Normality Test\n",
    "\n",
    "from scipy.stats import shapiro \n",
    "\n",
    "stat, p = shapiro(phase15_bogota2['similarity'])\n",
    "print('stat=%.3f, p=%.3f\\n' % (stat, p))\n",
    "if p > 0.05:\n",
    "    print('Probably Gaussian')\n",
    "else:\n",
    "    print('Probably not Gaussian')"
   ]
  },
  {
   "cell_type": "markdown",
   "id": "79a2bc07",
   "metadata": {},
   "source": [
    "## Bogota 1 Phase 1 and Phase 5"
   ]
  },
  {
   "cell_type": "code",
   "execution_count": null,
   "id": "ecd77955",
   "metadata": {},
   "outputs": [],
   "source": [
    "phase15_bogota1 = df0_bogota1[df0_bogota1['user1'] == df0_bogota1['user2']]\n",
    "mean_phase15_bogota1 = phase15_bogota1['similarity'].describe().loc['mean']"
   ]
  },
  {
   "cell_type": "code",
   "execution_count": null,
   "id": "9f1963e6",
   "metadata": {},
   "outputs": [],
   "source": [
    "# Shapiro-Wilk Normality Test\n",
    "\n",
    "from scipy.stats import shapiro \n",
    "\n",
    "stat, p = shapiro(phase15_bogota1['similarity'])\n",
    "print('stat=%.3f, p=%.3f\\n' % (stat, p))\n",
    "if p > 0.05:\n",
    "    print('Probably Gaussian')\n",
    "else:\n",
    "    print('Probably not Gaussian')"
   ]
  },
  {
   "cell_type": "markdown",
   "id": "21e2b3c6",
   "metadata": {},
   "source": [
    "## Bogota 0 Phase 1 and Phase 5"
   ]
  },
  {
   "cell_type": "code",
   "execution_count": null,
   "id": "2ade8968",
   "metadata": {},
   "outputs": [],
   "source": [
    "phase15_bogota0 = df0_bogota0[df0_bogota0['user1'] == df0_bogota0['user2']]\n",
    "mean_phase15_bogota0 = phase15_bogota0['similarity'].describe().loc['mean']"
   ]
  },
  {
   "cell_type": "code",
   "execution_count": null,
   "id": "2e062f6e",
   "metadata": {},
   "outputs": [],
   "source": [
    "# Shapiro-Wilk Normality Test\n",
    "\n",
    "from scipy.stats import shapiro \n",
    "\n",
    "stat, p = shapiro(phase15_bogota0['similarity'])\n",
    "print('stat=%.3f, p=%.3f\\n' % (stat, p))\n",
    "if p > 0.05:\n",
    "    print('Probably Gaussian')\n",
    "else:\n",
    "    print('Probably not Gaussian')"
   ]
  },
  {
   "cell_type": "markdown",
   "id": "caaaf4af",
   "metadata": {},
   "source": [
    "## Bogota 3 Phase 4 and Phase 5"
   ]
  },
  {
   "cell_type": "code",
   "execution_count": null,
   "id": "d3e7978b",
   "metadata": {},
   "outputs": [],
   "source": [
    "phase45_bogota3 = df1[df1['user1'] == df1['user2']]\n",
    "mean_phase45_bogota3 = phase45_bogota3['similarity'].describe().loc['mean']\n",
    "min_phase45_bogota3 = phase45_bogota3['similarity'].describe().loc['min']\n",
    "median_phase45_bogota3 = phase45_bogota3['similarity'].median()"
   ]
  },
  {
   "cell_type": "code",
   "execution_count": null,
   "id": "2160a216",
   "metadata": {},
   "outputs": [],
   "source": [
    "# Shapiro-Wilk Normality Test\n",
    "\n",
    "from scipy.stats import shapiro \n",
    "\n",
    "stat, p = shapiro(phase45_bogota3['similarity'])\n",
    "print('stat=%.3f, p=%.3f\\n' % (stat, p))\n",
    "if p > 0.05:\n",
    "    print('Probably Gaussian')\n",
    "else:\n",
    "    print('Probably not Gaussian')"
   ]
  },
  {
   "cell_type": "code",
   "execution_count": null,
   "id": "46957ee4",
   "metadata": {},
   "outputs": [],
   "source": [
    "phase45_bogota3_self = df1[df1['user1'] == df1['user2']]\n",
    "phase45_bogota3_self['similarity'].hist()"
   ]
  },
  {
   "cell_type": "code",
   "execution_count": null,
   "id": "ff8d44fa",
   "metadata": {},
   "outputs": [],
   "source": [
    "from matplotlib import pyplot as plt\n",
    "phase45_bogota3_self.boxplot(column='similarity')\n",
    "plt.show()"
   ]
  },
  {
   "cell_type": "code",
   "execution_count": null,
   "id": "493d470b",
   "metadata": {},
   "outputs": [],
   "source": [
    "import seaborn as sns \n",
    "sns.distplot(phase45_bogota3_self['similarity'])"
   ]
  },
  {
   "cell_type": "code",
   "execution_count": null,
   "id": "5376f464",
   "metadata": {},
   "outputs": [],
   "source": [
    "inp_array_phase45_bogota3_self = phase45_bogota3_self[['similarity']]\n",
    "out_array_phase45_bogota3_self = np.log(inp_array_phase45_bogota3_self)"
   ]
  },
  {
   "cell_type": "code",
   "execution_count": null,
   "id": "c990e376",
   "metadata": {},
   "outputs": [],
   "source": [
    "out_array_phase45_bogota3_self.boxplot(column='similarity')\n",
    "plt.show()"
   ]
  },
  {
   "cell_type": "code",
   "execution_count": null,
   "id": "95e253ff",
   "metadata": {},
   "outputs": [],
   "source": [
    "sns.distplot(out_array_phase45_bogota3_self['similarity'])"
   ]
  },
  {
   "cell_type": "code",
   "execution_count": null,
   "id": "e990dc5b",
   "metadata": {},
   "outputs": [],
   "source": [
    "out_array_phase45_bogota3_self['similarity'].describe()"
   ]
  },
  {
   "cell_type": "code",
   "execution_count": null,
   "id": "37e911e2",
   "metadata": {},
   "outputs": [],
   "source": [
    "median_out_array_phase45_bogota3_self = out_array_phase45_bogota3_self['similarity'].describe().loc['50%']\n",
    "mean_out_array_phase45_bogota3_self = out_array_phase45_bogota3_self['similarity'].describe().loc['mean']"
   ]
  },
  {
   "cell_type": "markdown",
   "id": "23a011ca",
   "metadata": {},
   "source": [
    "## Bogota 2 Phase 4 and Phase 5"
   ]
  },
  {
   "cell_type": "code",
   "execution_count": null,
   "id": "410480a7",
   "metadata": {},
   "outputs": [],
   "source": [
    "phase45_bogota2 = df1_bogota2[df1_bogota2['user1'] == df1_bogota2['user2']]\n",
    "mean_phase45_bogota2 = phase45_bogota2['similarity'].describe().loc['mean']\n",
    "min_phase45_bogota2 = phase45_bogota2['similarity'].describe().loc['min']\n",
    "median_phase45_bogota2 = phase45_bogota2['similarity'].median()"
   ]
  },
  {
   "cell_type": "code",
   "execution_count": null,
   "id": "be905a46",
   "metadata": {},
   "outputs": [],
   "source": [
    "# Shapiro-Wilk Normality Test\n",
    "\n",
    "from scipy.stats import shapiro \n",
    "\n",
    "stat, p = shapiro(phase45_bogota2['similarity'])\n",
    "print('stat=%.3f, p=%.3f\\n' % (stat, p))\n",
    "if p > 0.05:\n",
    "    print('Probably Gaussian')\n",
    "else:\n",
    "    print('Probably not Gaussian')"
   ]
  },
  {
   "cell_type": "code",
   "execution_count": null,
   "id": "053dd3b5",
   "metadata": {},
   "outputs": [],
   "source": [
    "phase45_bogota2_self = df1_bogota2[df1_bogota2['user1'] == df1_bogota2['user2']]\n",
    "sns.distplot(phase45_bogota2_self['similarity'])"
   ]
  },
  {
   "cell_type": "code",
   "execution_count": null,
   "id": "43701adc",
   "metadata": {},
   "outputs": [],
   "source": [
    "inp_array_phase45_bogota2_self = phase45_bogota2_self[['similarity']]\n",
    "out_array_phase45_bogota2_self = np.log(inp_array_phase45_bogota2_self)\n",
    "sns.distplot(out_array_phase45_bogota2_self['similarity'])"
   ]
  },
  {
   "cell_type": "code",
   "execution_count": null,
   "id": "3bf0f8ad",
   "metadata": {},
   "outputs": [],
   "source": [
    "out_array_phase45_bogota2_self['similarity'].describe()"
   ]
  },
  {
   "cell_type": "code",
   "execution_count": null,
   "id": "f095211a",
   "metadata": {},
   "outputs": [],
   "source": [
    "median_out_array_phase45_bogota2_self = out_array_phase45_bogota2_self['similarity'].describe().loc['50%']\n",
    "mean_out_array_phase45_bogota2_self = out_array_phase45_bogota2_self['similarity'].describe().loc['mean']"
   ]
  },
  {
   "cell_type": "markdown",
   "id": "2ca4fc83",
   "metadata": {},
   "source": [
    "## Bogota 1 Phase 4 and Phase 5"
   ]
  },
  {
   "cell_type": "code",
   "execution_count": null,
   "id": "65fa2a25",
   "metadata": {},
   "outputs": [],
   "source": [
    "phase45_bogota1 = df1_bogota1[df1_bogota1['user1'] == df1_bogota1['user2']]\n",
    "mean_phase45_bogota1 = phase45_bogota1['similarity'].describe().loc['mean']\n",
    "min_phase45_bogota1 = phase45_bogota1['similarity'].describe().loc['min']\n",
    "median_phase45_bogota1 = phase45_bogota1['similarity'].median()"
   ]
  },
  {
   "cell_type": "code",
   "execution_count": null,
   "id": "d43b0e59",
   "metadata": {},
   "outputs": [],
   "source": [
    "# Shapiro-Wilk Normality Test\n",
    "\n",
    "from scipy.stats import shapiro \n",
    "\n",
    "stat, p = shapiro(phase45_bogota1['similarity'])\n",
    "print('stat=%.3f, p=%.3f\\n' % (stat, p))\n",
    "if p > 0.05:\n",
    "    print('Probably Gaussian')\n",
    "else:\n",
    "    print('Probably not Gaussian')"
   ]
  },
  {
   "cell_type": "code",
   "execution_count": null,
   "id": "de000553",
   "metadata": {},
   "outputs": [],
   "source": [
    "phase45_bogota1_self = df1_bogota1[df1_bogota1['user1'] == df1_bogota1['user2']]\n",
    "sns.distplot(phase45_bogota1_self['similarity'])"
   ]
  },
  {
   "cell_type": "code",
   "execution_count": null,
   "id": "35bafd23",
   "metadata": {},
   "outputs": [],
   "source": [
    "inp_array_phase45_bogota1_self = phase45_bogota1_self[['similarity']]\n",
    "out_array_phase45_bogota1_self = np.log(inp_array_phase45_bogota1_self)\n",
    "sns.distplot(out_array_phase45_bogota1_self['similarity'])"
   ]
  },
  {
   "cell_type": "code",
   "execution_count": null,
   "id": "6e71d141",
   "metadata": {},
   "outputs": [],
   "source": [
    "out_array_phase45_bogota1_self['similarity'].describe()"
   ]
  },
  {
   "cell_type": "code",
   "execution_count": null,
   "id": "ddf4dee7",
   "metadata": {},
   "outputs": [],
   "source": [
    "median_out_array_phase45_bogota1_self = out_array_phase45_bogota1_self['similarity'].describe().loc['50%']\n",
    "mean_out_array_phase45_bogota1_self = out_array_phase45_bogota1_self['similarity'].describe().loc['mean']"
   ]
  },
  {
   "cell_type": "markdown",
   "id": "8328c854",
   "metadata": {},
   "source": [
    "## Bogota 0 Phase 4 and Phase 5"
   ]
  },
  {
   "cell_type": "code",
   "execution_count": null,
   "id": "362fc0a5",
   "metadata": {},
   "outputs": [],
   "source": [
    "phase45_bogota0 = df1_bogota0[df1_bogota0['user1'] == df1_bogota0['user2']]\n",
    "mean_phase45_bogota0 = phase45_bogota0['similarity'].describe().loc['mean']\n",
    "min_phase45_bogota0 = phase45_bogota0['similarity'].describe().loc['min']\n",
    "median_phase45_bogota0 = phase45_bogota0['similarity'].median()"
   ]
  },
  {
   "cell_type": "code",
   "execution_count": null,
   "id": "0fd881db",
   "metadata": {},
   "outputs": [],
   "source": [
    "# Shapiro-Wilk Normality Test\n",
    "\n",
    "from scipy.stats import shapiro \n",
    "\n",
    "stat, p = shapiro(phase45_bogota0['similarity'])\n",
    "print('stat=%.3f, p=%.3f\\n' % (stat, p))\n",
    "if p > 0.05:\n",
    "    print('Probably Gaussian')\n",
    "else:\n",
    "    print('Probably not Gaussian')"
   ]
  },
  {
   "cell_type": "code",
   "execution_count": null,
   "id": "1481e76a",
   "metadata": {},
   "outputs": [],
   "source": [
    "phase45_bogota0_self = df1_bogota0[df1_bogota0['user1'] == df1_bogota0['user2']]\n",
    "sns.distplot(phase45_bogota0_self['similarity'])"
   ]
  },
  {
   "cell_type": "code",
   "execution_count": null,
   "id": "88bcf83f",
   "metadata": {},
   "outputs": [],
   "source": [
    "inp_array_phase45_bogota0_self = phase45_bogota0_self[['similarity']]\n",
    "out_array_phase45_bogota0_self = np.log(inp_array_phase45_bogota0_self)\n",
    "sns.distplot(out_array_phase45_bogota0_self['similarity'])"
   ]
  },
  {
   "cell_type": "code",
   "execution_count": null,
   "id": "0e20a5d5",
   "metadata": {},
   "outputs": [],
   "source": [
    "out_array_phase45_bogota0_self['similarity'].describe()"
   ]
  },
  {
   "cell_type": "code",
   "execution_count": null,
   "id": "380c111f",
   "metadata": {},
   "outputs": [],
   "source": [
    "median_out_array_phase45_bogota0_self = out_array_phase45_bogota0_self['similarity'].describe().loc['50%']\n",
    "mean_out_array_phase45_bogota0_self = out_array_phase45_bogota0_self['similarity'].describe().loc['mean']"
   ]
  },
  {
   "cell_type": "markdown",
   "id": "64f06ee5",
   "metadata": {},
   "source": [
    "## Bogota 3 Phase 3 and Phase 4"
   ]
  },
  {
   "cell_type": "code",
   "execution_count": null,
   "id": "669bd47c",
   "metadata": {},
   "outputs": [],
   "source": [
    "phase34_bogota3 = df2[df2['user1'] == df2['user2']]\n",
    "mean_phase34_bogota3 = phase34_bogota3['similarity'].describe().loc['mean']\n",
    "min_phase34_bogota3 = phase34_bogota3['similarity'].describe().loc['min']\n",
    "median_phase34_bogota3 = phase34_bogota3['similarity'].median()"
   ]
  },
  {
   "cell_type": "code",
   "execution_count": null,
   "id": "d95f1c9f",
   "metadata": {},
   "outputs": [],
   "source": [
    "phase34_bogota3_self = df2[df2['user1'] == df2['user2']]\n",
    "sns.distplot(phase34_bogota3_self['similarity'])"
   ]
  },
  {
   "cell_type": "code",
   "execution_count": null,
   "id": "115b5ece",
   "metadata": {},
   "outputs": [],
   "source": [
    "inp_array_phase34_bogota3_self = phase34_bogota3_self[['similarity']]\n",
    "out_array_phase34_bogota3_self = np.log(inp_array_phase34_bogota3_self)\n",
    "sns.distplot(out_array_phase34_bogota3_self['similarity'])"
   ]
  },
  {
   "cell_type": "code",
   "execution_count": null,
   "id": "36f94826",
   "metadata": {},
   "outputs": [],
   "source": [
    "out_array_phase34_bogota3_self['similarity'].describe()"
   ]
  },
  {
   "cell_type": "code",
   "execution_count": null,
   "id": "2076a4de",
   "metadata": {},
   "outputs": [],
   "source": [
    "median_out_array_phase34_bogota3_self = out_array_phase34_bogota3_self['similarity'].describe().loc['50%']\n",
    "mean_out_array_phase34_bogota3_self = out_array_phase34_bogota3_self['similarity'].describe().loc['mean']"
   ]
  },
  {
   "cell_type": "markdown",
   "id": "c9ede5b2",
   "metadata": {},
   "source": [
    "## Bogota 2 Phase 3 and Phase 4"
   ]
  },
  {
   "cell_type": "code",
   "execution_count": null,
   "id": "f339b32a",
   "metadata": {},
   "outputs": [],
   "source": [
    "phase34_bogota2 = df2_bogota2[df2_bogota2['user1'] == df2_bogota2['user2']]\n",
    "mean_phase34_bogota2 = phase34_bogota2['similarity'].describe().loc['mean']\n",
    "min_phase34_bogota2 = phase34_bogota2['similarity'].describe().loc['min']\n",
    "median_phase34_bogota2 = phase34_bogota2['similarity'].median()"
   ]
  },
  {
   "cell_type": "code",
   "execution_count": null,
   "id": "054fc674",
   "metadata": {},
   "outputs": [],
   "source": [
    "phase34_bogota2_self = df2_bogota2[df2_bogota2['user1'] == df2_bogota2['user2']]\n",
    "sns.distplot(phase34_bogota2_self['similarity'])"
   ]
  },
  {
   "cell_type": "code",
   "execution_count": null,
   "id": "b57d726a",
   "metadata": {},
   "outputs": [],
   "source": [
    "inp_array_phase34_bogota2_self = phase34_bogota2_self[['similarity']]\n",
    "out_array_phase34_bogota2_self = np.log(inp_array_phase34_bogota2_self)\n",
    "sns.distplot(out_array_phase34_bogota2_self['similarity'])"
   ]
  },
  {
   "cell_type": "code",
   "execution_count": null,
   "id": "6605e194",
   "metadata": {},
   "outputs": [],
   "source": [
    "out_array_phase34_bogota2_self['similarity'].describe()"
   ]
  },
  {
   "cell_type": "code",
   "execution_count": null,
   "id": "289bc561",
   "metadata": {},
   "outputs": [],
   "source": [
    "mean_out_array_phase34_bogota2_self = out_array_phase34_bogota2_self['similarity'].describe().loc['mean']\n",
    "median_out_array_phase34_bogota2_self = out_array_phase34_bogota2_self['similarity'].describe().loc['50%']"
   ]
  },
  {
   "cell_type": "markdown",
   "id": "57ece8fa",
   "metadata": {},
   "source": [
    "## Bogota 1 Phase 3 and Phase 4"
   ]
  },
  {
   "cell_type": "code",
   "execution_count": null,
   "id": "ac47fc35",
   "metadata": {},
   "outputs": [],
   "source": [
    "phase34_bogota1 = df2_bogota1[df2_bogota1['user1'] == df2_bogota1['user2']]\n",
    "mean_phase34_bogota1 = phase34_bogota1['similarity'].describe().loc['mean']\n",
    "min_phase34_bogota1 = phase34_bogota1['similarity'].describe().loc['min']\n",
    "median_phase34_bogota1 = phase34_bogota1['similarity'].median()"
   ]
  },
  {
   "cell_type": "code",
   "execution_count": null,
   "id": "316c91e4",
   "metadata": {},
   "outputs": [],
   "source": [
    "phase34_bogota1_self = df2_bogota1[df2_bogota1['user1'] == df2_bogota1['user2']]\n",
    "sns.distplot(phase34_bogota1_self['similarity'])"
   ]
  },
  {
   "cell_type": "code",
   "execution_count": null,
   "id": "8f446083",
   "metadata": {},
   "outputs": [],
   "source": [
    "inp_array_phase34_bogota1_self = phase34_bogota1_self[['similarity']]\n",
    "out_array_phase34_bogota1_self = np.log(inp_array_phase34_bogota1_self)\n",
    "sns.distplot(out_array_phase34_bogota1_self['similarity'])"
   ]
  },
  {
   "cell_type": "code",
   "execution_count": null,
   "id": "5a17f3e5",
   "metadata": {},
   "outputs": [],
   "source": [
    "out_array_phase34_bogota1_self['similarity'].describe()"
   ]
  },
  {
   "cell_type": "code",
   "execution_count": null,
   "id": "673cab45",
   "metadata": {},
   "outputs": [],
   "source": [
    "median_out_array_phase34_bogota1_self = out_array_phase34_bogota1_self['similarity'].describe().loc['50%']\n",
    "mean_out_array_phase34_bogota1_self = out_array_phase34_bogota1_self['similarity'].describe().loc['mean']"
   ]
  },
  {
   "cell_type": "markdown",
   "id": "28afe5bc",
   "metadata": {},
   "source": [
    "## Bogota 0 Phase 3 and Phase 4"
   ]
  },
  {
   "cell_type": "code",
   "execution_count": null,
   "id": "724a1102",
   "metadata": {},
   "outputs": [],
   "source": [
    "phase34_bogota0 = df2_bogota0[df2_bogota0['user1'] == df2_bogota0['user2']]\n",
    "mean_phase34_bogota0 = phase34_bogota0['similarity'].describe().loc['mean']\n",
    "min_phase34_bogota0 = phase34_bogota0['similarity'].describe().loc['min']\n",
    "median_phase34_bogota0 = phase34_bogota0['similarity'].median()"
   ]
  },
  {
   "cell_type": "code",
   "execution_count": null,
   "id": "1f6a54bb",
   "metadata": {},
   "outputs": [],
   "source": [
    "phase34_bogota0_self = df2_bogota0[df2_bogota0['user1'] == df2_bogota0['user2']]\n",
    "sns.distplot(phase34_bogota0_self['similarity'])"
   ]
  },
  {
   "cell_type": "code",
   "execution_count": null,
   "id": "475999a2",
   "metadata": {},
   "outputs": [],
   "source": [
    "inp_array_phase34_bogota0_self = phase34_bogota0_self[['similarity']]\n",
    "out_array_phase34_bogota0_self = np.log(inp_array_phase34_bogota0_self)\n",
    "sns.distplot(out_array_phase34_bogota0_self['similarity'])"
   ]
  },
  {
   "cell_type": "code",
   "execution_count": null,
   "id": "da9c2b5f",
   "metadata": {},
   "outputs": [],
   "source": [
    "out_array_phase34_bogota0_self['similarity'].describe()"
   ]
  },
  {
   "cell_type": "code",
   "execution_count": null,
   "id": "90b63127",
   "metadata": {},
   "outputs": [],
   "source": [
    "median_out_array_phase34_bogota0_self = out_array_phase34_bogota0_self['similarity'].describe().loc['50%']\n",
    "mean_out_array_phase34_bogota0_self = out_array_phase34_bogota0_self['similarity'].describe().loc['mean']"
   ]
  },
  {
   "cell_type": "markdown",
   "id": "2f29649f",
   "metadata": {},
   "source": [
    "## Bogota 3 Phase 2 and Phase 3"
   ]
  },
  {
   "cell_type": "code",
   "execution_count": null,
   "id": "ef60f6dd",
   "metadata": {},
   "outputs": [],
   "source": [
    "phase23_bogota3 = df3[df3['user1'] == df3['user2']]\n",
    "mean_phase23_bogota3 = phase23_bogota3['similarity'].describe().loc['mean']\n",
    "min_phase23_bogota3 = phase23_bogota3['similarity'].describe().loc['min']\n",
    "median_phase23_bogota3 = phase23_bogota3['similarity'].median()"
   ]
  },
  {
   "cell_type": "code",
   "execution_count": null,
   "id": "5c58efec",
   "metadata": {},
   "outputs": [],
   "source": [
    "phase23_bogota3_self = df3[df3['user1'] == df3['user2']]\n",
    "sns.distplot(phase23_bogota3_self['similarity'])"
   ]
  },
  {
   "cell_type": "code",
   "execution_count": null,
   "id": "1328ebf2",
   "metadata": {},
   "outputs": [],
   "source": [
    "inp_array_phase23_bogota3_self = phase23_bogota3_self[['similarity']]\n",
    "out_array_phase23_bogota3_self = np.log(inp_array_phase23_bogota3_self)\n",
    "sns.distplot(out_array_phase23_bogota3_self['similarity'])"
   ]
  },
  {
   "cell_type": "code",
   "execution_count": null,
   "id": "5edd2832",
   "metadata": {},
   "outputs": [],
   "source": [
    "out_array_phase23_bogota3_self['similarity'].describe()"
   ]
  },
  {
   "cell_type": "code",
   "execution_count": null,
   "id": "d1da97d5",
   "metadata": {},
   "outputs": [],
   "source": [
    "median_out_array_phase23_bogota3_self = out_array_phase23_bogota3_self['similarity'].describe().loc['50%']\n",
    "mean_out_array_phase23_bogota3_self = out_array_phase23_bogota3_self['similarity'].describe().loc['mean']"
   ]
  },
  {
   "cell_type": "markdown",
   "id": "022df63f",
   "metadata": {},
   "source": [
    "## Bogota 2 Phase 2 and Phase 3"
   ]
  },
  {
   "cell_type": "code",
   "execution_count": null,
   "id": "a0269b95",
   "metadata": {},
   "outputs": [],
   "source": [
    "phase23_bogota2 = df3_bogota2[df3_bogota2['user1'] == df3_bogota2['user2']]\n",
    "mean_phase23_bogota2 = phase23_bogota2['similarity'].describe().loc['mean']\n",
    "min_phase23_bogota2 = phase23_bogota2['similarity'].describe().loc['min']\n",
    "median_phase23_bogota2 = phase23_bogota2['similarity'].median()"
   ]
  },
  {
   "cell_type": "code",
   "execution_count": null,
   "id": "90a89b62",
   "metadata": {},
   "outputs": [],
   "source": [
    "phase23_bogota2_self = df3_bogota2[df3_bogota2['user1'] == df3_bogota2['user2']]\n",
    "sns.distplot(phase23_bogota2_self['similarity'])"
   ]
  },
  {
   "cell_type": "code",
   "execution_count": null,
   "id": "60611c7b",
   "metadata": {},
   "outputs": [],
   "source": [
    "inp_array_phase23_bogota2_self = phase23_bogota2_self[['similarity']]\n",
    "out_array_phase23_bogota2_self = np.log(inp_array_phase23_bogota2_self)\n",
    "sns.distplot(out_array_phase23_bogota2_self['similarity'])"
   ]
  },
  {
   "cell_type": "code",
   "execution_count": null,
   "id": "0b671f38",
   "metadata": {},
   "outputs": [],
   "source": [
    "out_array_phase23_bogota2_self['similarity'].describe()"
   ]
  },
  {
   "cell_type": "code",
   "execution_count": null,
   "id": "78b0936e",
   "metadata": {},
   "outputs": [],
   "source": [
    "median_out_array_phase23_bogota2_self = out_array_phase23_bogota2_self['similarity'].describe().loc['50%']\n",
    "mean_out_array_phase23_bogota2_self = out_array_phase23_bogota2_self['similarity'].describe().loc['mean']"
   ]
  },
  {
   "cell_type": "markdown",
   "id": "1db07c4c",
   "metadata": {},
   "source": [
    "## Bogota 1 Phase 2 and Phase 3"
   ]
  },
  {
   "cell_type": "code",
   "execution_count": null,
   "id": "99595821",
   "metadata": {},
   "outputs": [],
   "source": [
    "phase23_bogota1 = df3_bogota1[df3_bogota1['user1'] == df3_bogota1['user2']]\n",
    "mean_phase23_bogota1 = phase23_bogota1['similarity'].describe().loc['mean']\n",
    "min_phase23_bogota1 = phase23_bogota1['similarity'].describe().loc['min']\n",
    "median_phase23_bogota1 = phase23_bogota1['similarity'].median()"
   ]
  },
  {
   "cell_type": "code",
   "execution_count": null,
   "id": "72e38b23",
   "metadata": {},
   "outputs": [],
   "source": [
    "phase23_bogota1_self = df3_bogota1[df3_bogota1['user1'] == df3_bogota1['user2']]\n",
    "sns.distplot(phase23_bogota1_self['similarity'])"
   ]
  },
  {
   "cell_type": "code",
   "execution_count": null,
   "id": "b48a2195",
   "metadata": {},
   "outputs": [],
   "source": [
    "inp_array_phase23_bogota1_self = phase23_bogota1_self[['similarity']]\n",
    "out_array_phase23_bogota1_self = np.log(inp_array_phase23_bogota1_self)\n",
    "sns.distplot(out_array_phase23_bogota1_self['similarity'])"
   ]
  },
  {
   "cell_type": "code",
   "execution_count": null,
   "id": "dabc9f3b",
   "metadata": {},
   "outputs": [],
   "source": [
    "out_array_phase23_bogota1_self['similarity'].describe()"
   ]
  },
  {
   "cell_type": "code",
   "execution_count": null,
   "id": "49549c84",
   "metadata": {},
   "outputs": [],
   "source": [
    "median_out_array_phase23_bogota1_self = out_array_phase23_bogota1_self['similarity'].describe().loc['50%']\n",
    "mean_out_array_phase23_bogota1_self = out_array_phase23_bogota1_self['similarity'].describe().loc['mean']"
   ]
  },
  {
   "cell_type": "markdown",
   "id": "ebd3e075",
   "metadata": {},
   "source": [
    "## Bogota 0 Phase 2 and Phase 3"
   ]
  },
  {
   "cell_type": "code",
   "execution_count": null,
   "id": "31a7a5f8",
   "metadata": {},
   "outputs": [],
   "source": [
    "phase23_bogota0 = df3_bogota0[df3_bogota0['user1'] == df3_bogota0['user2']]\n",
    "mean_phase23_bogota0 = phase23_bogota0['similarity'].describe().loc['mean']\n",
    "min_phase23_bogota0 = phase23_bogota0['similarity'].describe().loc['min']\n",
    "median_phase23_bogota0 = phase23_bogota0['similarity'].median()"
   ]
  },
  {
   "cell_type": "code",
   "execution_count": null,
   "id": "47e91b45",
   "metadata": {},
   "outputs": [],
   "source": [
    "phase23_bogota0_self = df3_bogota0[df3_bogota0['user1'] == df3_bogota0['user2']]\n",
    "sns.distplot(phase23_bogota0_self['similarity'])"
   ]
  },
  {
   "cell_type": "code",
   "execution_count": null,
   "id": "7259b698",
   "metadata": {},
   "outputs": [],
   "source": [
    "inp_array_phase23_bogota0_self = phase23_bogota0_self[['similarity']]\n",
    "out_array_phase23_bogota0_self = np.log(inp_array_phase23_bogota0_self)\n",
    "sns.distplot(out_array_phase23_bogota0_self['similarity'])"
   ]
  },
  {
   "cell_type": "code",
   "execution_count": null,
   "id": "a8ce76a8",
   "metadata": {},
   "outputs": [],
   "source": [
    "out_array_phase23_bogota0_self['similarity'].describe()"
   ]
  },
  {
   "cell_type": "code",
   "execution_count": null,
   "id": "e014c0d3",
   "metadata": {},
   "outputs": [],
   "source": [
    "median_out_array_phase23_bogota0_self = out_array_phase23_bogota0_self['similarity'].describe().loc['50%']\n",
    "mean_out_array_phase23_bogota0_self = out_array_phase23_bogota0_self['similarity'].describe().loc['mean']"
   ]
  },
  {
   "cell_type": "markdown",
   "id": "a9b7abee",
   "metadata": {},
   "source": [
    "## Bogota 3 Phase 1 and Phase 2"
   ]
  },
  {
   "cell_type": "code",
   "execution_count": null,
   "id": "c1cf9ccc",
   "metadata": {},
   "outputs": [],
   "source": [
    "phase12_bogota3 = df4[df4['user1'] == df4['user2']]\n",
    "mean_phase12_bogota3 = phase12_bogota3['similarity'].describe().loc['mean']\n",
    "min_phase12_bogota3 = phase12_bogota3['similarity'].describe().loc['min']\n",
    "median_phase12_bogota3 = phase12_bogota3['similarity'].median()"
   ]
  },
  {
   "cell_type": "code",
   "execution_count": null,
   "id": "8b43ac91",
   "metadata": {},
   "outputs": [],
   "source": [
    "phase12_bogota3_self = df4[df4['user1'] == df4['user2']]\n",
    "sns.distplot(phase12_bogota3_self['similarity'])"
   ]
  },
  {
   "cell_type": "code",
   "execution_count": null,
   "id": "498d4307",
   "metadata": {},
   "outputs": [],
   "source": [
    "inp_array_phase12_bogota3_self = phase12_bogota3_self[['similarity']]\n",
    "out_array_phase12_bogota3_self = np.log(inp_array_phase12_bogota3_self)\n",
    "sns.distplot(out_array_phase12_bogota3_self['similarity']) "
   ]
  },
  {
   "cell_type": "code",
   "execution_count": null,
   "id": "ea9e27fe",
   "metadata": {},
   "outputs": [],
   "source": [
    "out_array_phase12_bogota3_self['similarity'].describe()"
   ]
  },
  {
   "cell_type": "code",
   "execution_count": null,
   "id": "a4eeeec2",
   "metadata": {},
   "outputs": [],
   "source": [
    "median_out_array_phase12_bogota3_self = out_array_phase12_bogota3_self['similarity'].describe().loc['50%']\n",
    "mean_out_array_phase12_bogota3_self = out_array_phase12_bogota3_self['similarity'].describe().loc['mean']"
   ]
  },
  {
   "cell_type": "markdown",
   "id": "01839c1a",
   "metadata": {},
   "source": [
    "## Bogota 2 Phase 1 and Phase 2"
   ]
  },
  {
   "cell_type": "code",
   "execution_count": null,
   "id": "22e10d22",
   "metadata": {},
   "outputs": [],
   "source": [
    "phase12_bogota2 = df4_bogota2[df4_bogota2['user1'] == df4_bogota2['user2']]\n",
    "mean_phase12_bogota2 = phase12_bogota2['similarity'].describe().loc['mean']\n",
    "min_phase12_bogota2 = phase12_bogota2['similarity'].describe().loc['min']\n",
    "median_phase12_bogota2 = phase12_bogota2['similarity'].median()"
   ]
  },
  {
   "cell_type": "code",
   "execution_count": null,
   "id": "b6c9fca5",
   "metadata": {},
   "outputs": [],
   "source": [
    "phase12_bogota2_self = df4_bogota2[df4_bogota2['user1'] == df4_bogota2['user2']]\n",
    "sns.distplot(phase12_bogota2_self['similarity'])"
   ]
  },
  {
   "cell_type": "code",
   "execution_count": null,
   "id": "193c47d5",
   "metadata": {},
   "outputs": [],
   "source": [
    "inp_array_phase12_bogota2_self = phase12_bogota2_self[['similarity']]\n",
    "out_array_phase12_bogota2_self = np.log(inp_array_phase12_bogota2_self)\n",
    "sns.distplot(out_array_phase12_bogota2_self['similarity']) "
   ]
  },
  {
   "cell_type": "code",
   "execution_count": null,
   "id": "1f020804",
   "metadata": {},
   "outputs": [],
   "source": [
    "out_array_phase12_bogota2_self['similarity'].describe()"
   ]
  },
  {
   "cell_type": "code",
   "execution_count": null,
   "id": "0c3cf44c",
   "metadata": {},
   "outputs": [],
   "source": [
    "median_out_array_phase12_bogota2_self = out_array_phase12_bogota2_self['similarity'].describe().loc['50%']\n",
    "mean_out_array_phase12_bogota2_self = out_array_phase12_bogota2_self['similarity'].describe().loc['mean']"
   ]
  },
  {
   "cell_type": "markdown",
   "id": "7f66e04d",
   "metadata": {},
   "source": [
    "## Bogota 1 Phase 1 and Phase 2"
   ]
  },
  {
   "cell_type": "code",
   "execution_count": null,
   "id": "14b08c2f",
   "metadata": {},
   "outputs": [],
   "source": [
    "phase12_bogota1 = df4_bogota1[df4_bogota1['user1'] == df4_bogota1['user2']]\n",
    "mean_phase12_bogota1 = phase12_bogota1['similarity'].describe().loc['mean']\n",
    "min_phase12_bogota1 = phase12_bogota1['similarity'].describe().loc['min']\n",
    "median_phase12_bogota1 = phase12_bogota1['similarity'].median()"
   ]
  },
  {
   "cell_type": "code",
   "execution_count": null,
   "id": "745322ce",
   "metadata": {},
   "outputs": [],
   "source": [
    "phase12_bogota1_self = df4_bogota1[df4_bogota1['user1'] == df4_bogota1['user2']]\n",
    "sns.distplot(phase12_bogota1_self['similarity'])"
   ]
  },
  {
   "cell_type": "code",
   "execution_count": null,
   "id": "6054427d",
   "metadata": {},
   "outputs": [],
   "source": [
    "inp_array_phase12_bogota1_self = phase12_bogota1_self[['similarity']]\n",
    "out_array_phase12_bogota1_self = np.log(inp_array_phase12_bogota1_self)\n",
    "sns.distplot(out_array_phase12_bogota1_self['similarity']) "
   ]
  },
  {
   "cell_type": "code",
   "execution_count": null,
   "id": "1e2b0122",
   "metadata": {},
   "outputs": [],
   "source": [
    "out_array_phase12_bogota1_self['similarity'].describe()"
   ]
  },
  {
   "cell_type": "code",
   "execution_count": null,
   "id": "c19f7c73",
   "metadata": {},
   "outputs": [],
   "source": [
    "median_out_array_phase12_bogota1_self = out_array_phase12_bogota1_self['similarity'].describe().loc['50%']\n",
    "mean_out_array_phase12_bogota1_self = out_array_phase12_bogota1_self['similarity'].describe().loc['mean']"
   ]
  },
  {
   "cell_type": "markdown",
   "id": "1608d2f9",
   "metadata": {},
   "source": [
    "## Bogota 0 Phase 1 and Phase 2"
   ]
  },
  {
   "cell_type": "code",
   "execution_count": null,
   "id": "97e2a34c",
   "metadata": {},
   "outputs": [],
   "source": [
    "phase12_bogota0 = df4_bogota0[df4_bogota0['user1'] == df4_bogota0['user2']]\n",
    "mean_phase12_bogota0 = phase12_bogota0['similarity'].describe().loc['mean']\n",
    "min_phase12_bogota0 = phase12_bogota0['similarity'].describe().loc['min']\n",
    "median_phase12_bogota0 = phase12_bogota0['similarity'].median()"
   ]
  },
  {
   "cell_type": "code",
   "execution_count": null,
   "id": "e31ad687",
   "metadata": {},
   "outputs": [],
   "source": [
    "phase12_bogota0_self = df4_bogota0[df4_bogota0['user1'] == df4_bogota0['user2']]\n",
    "sns.distplot(phase12_bogota0_self['similarity'])"
   ]
  },
  {
   "cell_type": "code",
   "execution_count": null,
   "id": "beacda8c",
   "metadata": {},
   "outputs": [],
   "source": [
    "inp_array_phase12_bogota0_self = phase12_bogota0_self[['similarity']]\n",
    "out_array_phase12_bogota0_self = np.log(inp_array_phase12_bogota0_self)\n",
    "sns.distplot(out_array_phase12_bogota0_self['similarity']) "
   ]
  },
  {
   "cell_type": "code",
   "execution_count": null,
   "id": "2b9392c4",
   "metadata": {},
   "outputs": [],
   "source": [
    "out_array_phase12_bogota0_self['similarity'].describe()"
   ]
  },
  {
   "cell_type": "code",
   "execution_count": null,
   "id": "c3e68657",
   "metadata": {},
   "outputs": [],
   "source": [
    "mean_out_array_phase12_bogota0_self = out_array_phase12_bogota0_self['similarity'].describe().loc['mean']\n",
    "median_out_array_phase12_bogota0_self = out_array_phase12_bogota0_self['similarity'].describe().loc['50%']"
   ]
  },
  {
   "cell_type": "code",
   "execution_count": null,
   "id": "446fe70d",
   "metadata": {},
   "outputs": [],
   "source": [
    "out_array_phase12_bogota0_self['similarity'].median()"
   ]
  },
  {
   "cell_type": "code",
   "execution_count": null,
   "id": "85593af9",
   "metadata": {},
   "outputs": [],
   "source": [
    "phase12_bogota01 = phase12_bogota0.append(phase12_bogota1, ignore_index=True)\n",
    "phase12_bogota12 = phase12_bogota01.append(phase12_bogota2, ignore_index=True)\n",
    "phase12_bogota23 = phase12_bogota12.append(phase12_bogota3, ignore_index=True)\n",
    "phase12_bogota_overall = phase12_bogota23[(phase12_bogota23['user1_phase'] == 1) & (phase12_bogota23['user2_phase'] == 2) ]\n",
    "phase12_bogota_overall"
   ]
  },
  {
   "cell_type": "code",
   "execution_count": null,
   "id": "defc4fff",
   "metadata": {},
   "outputs": [],
   "source": [
    "phase23_bogota01 = phase23_bogota0.append(phase23_bogota1, ignore_index=True)\n",
    "phase23_bogota12 = phase23_bogota01.append(phase23_bogota2, ignore_index=True)\n",
    "phase23_bogota23 = phase23_bogota12.append(phase23_bogota3, ignore_index=True)\n",
    "phase23_bogota_overall = phase23_bogota23[(phase23_bogota23['user1_phase'] == 2) & (phase23_bogota23['user2_phase'] == 3) ]\n",
    "phase23_bogota_overall = phase23_bogota_overall[phase23_bogota_overall['user1'] == phase23_bogota_overall['user2']]\n",
    "phase23_bogota_overall"
   ]
  },
  {
   "cell_type": "code",
   "execution_count": null,
   "id": "f64c28ec",
   "metadata": {},
   "outputs": [],
   "source": [
    "phase34_bogota01 = phase34_bogota0.append(phase34_bogota1, ignore_index=True)\n",
    "phase34_bogota12 = phase34_bogota01.append(phase34_bogota2, ignore_index=True)\n",
    "phase34_bogota23 = phase34_bogota12.append(phase34_bogota3, ignore_index=True)\n",
    "phase34_bogota_overall = phase34_bogota23[phase34_bogota23['user1'] == phase34_bogota23['user2']]\n",
    "phase34_bogota_overall = phase34_bogota_overall[(phase34_bogota_overall['user1_phase'] == 3) & (phase34_bogota_overall['user2_phase'] == 4) ]\n",
    "phase34_bogota_overall"
   ]
  },
  {
   "cell_type": "code",
   "execution_count": null,
   "id": "e5df54ce",
   "metadata": {},
   "outputs": [],
   "source": [
    "# Shapiro-Wilk Normality Test\n",
    "\n",
    "from scipy.stats import shapiro \n",
    "\n",
    "stat, p = shapiro(phase34_bogota_overall['similarity'])\n",
    "print('stat=%.3f, p=%.3f\\n' % (stat, p))\n",
    "if p > 0.05:\n",
    "    print('Probably Gaussian')\n",
    "else:\n",
    "    print('Probably not Gaussian')"
   ]
  },
  {
   "cell_type": "code",
   "execution_count": null,
   "id": "8713ab37",
   "metadata": {},
   "outputs": [],
   "source": [
    "import matplotlib.pyplot as plt\n",
    "\n",
    "# Mean Scores of All Groups [ Tech Scores ]\n",
    "\n",
    "y1 = [1-mean_phase12_bogota0, 1-mean_phase23_bogota0, 1-mean_phase34_bogota0, 1-mean_phase45_bogota0 ]\n",
    "y2 = [1-mean_phase12_bogota1, 1-mean_phase23_bogota1, 1-mean_phase34_bogota1, 1-mean_phase45_bogota1 ]\n",
    "y3 = [1-mean_phase12_bogota2, 1-mean_phase23_bogota2, 1-mean_phase34_bogota2, 1-mean_phase45_bogota2 ]\n",
    "y4 = [1-mean_phase12_bogota3, 1-mean_phase23_bogota3, 1-mean_phase34_bogota3, 1-mean_phase45_bogota3 ]\n",
    "\n",
    "\n",
    "x_axis=['Phase 1-2', 'Phase 2-3', 'Phase 3-4', 'Phase 4-5']\n",
    "\n",
    "line1 = plt.plot(x_axis, y1,'bo-',label='Bogota 0 ( No Transparency )') \n",
    "line2 = plt.plot(x_axis, y2,'go-',label='Bogota 1 ( Performance Transparency )') \n",
    "line3 = plt.plot(x_axis, y3,'ko-',label='Bogota 2 ( Solution Transparency )')\n",
    "line4 = plt.plot(x_axis, y4,'ro-',label='Bogota 3 ( Full Transparency )') \n",
    "\n",
    "plt.title(\"Mean of Exploration For Each Individual\")\n",
    "plt.ylabel(\"1-Jaccard Similarity\")\n",
    "\n",
    "plt.legend(bbox_to_anchor=(1.5, 1),\n",
    "           bbox_transform=plt.gcf().transFigure)"
   ]
  },
  {
   "cell_type": "code",
   "execution_count": null,
   "id": "e6d88bf5",
   "metadata": {},
   "outputs": [],
   "source": [
    "import matplotlib.pyplot as plt\n",
    "\n",
    "# Mean Scores of All Groups [ Tech Scores ]\n",
    "\n",
    "y1 = [1-median_phase12_bogota0, 1-median_phase23_bogota0, 1-median_phase34_bogota0, 1-median_phase45_bogota0 ]\n",
    "y2 = [1-median_phase12_bogota1, 1-median_phase23_bogota1, 1-median_phase34_bogota1, 1-median_phase45_bogota1 ]\n",
    "y3 = [1-median_phase12_bogota2, 1-median_phase23_bogota2, 1-median_phase34_bogota2, 1-median_phase45_bogota2 ]\n",
    "y4 = [1-median_phase12_bogota3, 1-median_phase23_bogota3, 1-median_phase34_bogota3, 1-median_phase45_bogota3 ]\n",
    "\n",
    "\n",
    "x_axis=['Phase 1-2', 'Phase 2-3', 'Phase 3-4', 'Phase 4-5']\n",
    "\n",
    "line1 = plt.plot(x_axis, y1,'bo-',label='Bogota 0 ( No Transparency )') \n",
    "line2 = plt.plot(x_axis, y2,'go-',label='Bogota 1 ( Performance Transparency )') \n",
    "line3 = plt.plot(x_axis, y3,'ko-',label='Bogota 2 ( Solution Transparency )')\n",
    "line4 = plt.plot(x_axis, y4,'ro-',label='Bogota 3 ( Full Transparency )') \n",
    "\n",
    "plt.title(\"Median of Exploration For Each Individual\")\n",
    "plt.ylabel(\"1-Jaccard Similarity\")\n",
    "\n",
    "plt.legend(bbox_to_anchor=(1.5, 1),\n",
    "           bbox_transform=plt.gcf().transFigure)"
   ]
  },
  {
   "cell_type": "code",
   "execution_count": null,
   "id": "0fa609d8",
   "metadata": {},
   "outputs": [],
   "source": [
    "import matplotlib.pyplot as plt\n",
    "\n",
    "# Mean Scores of All Groups [ Tech Scores ]\n",
    "\n",
    "y1 = [mean_out_array_phase12_bogota0_self, mean_out_array_phase23_bogota0_self, mean_out_array_phase34_bogota0_self, mean_out_array_phase45_bogota0_self ]\n",
    "y2 = [mean_out_array_phase12_bogota1_self, mean_out_array_phase23_bogota1_self, mean_out_array_phase34_bogota0_self, mean_out_array_phase45_bogota0_self ]\n",
    "y3 = [mean_out_array_phase12_bogota2_self, mean_out_array_phase23_bogota2_self, mean_out_array_phase34_bogota0_self, mean_out_array_phase45_bogota0_self ]\n",
    "y4 = [mean_out_array_phase12_bogota3_self, mean_out_array_phase23_bogota3_self, mean_out_array_phase34_bogota0_self, mean_out_array_phase45_bogota0_self ]\n",
    "\n",
    "\n",
    "x_axis=['Phase 1-2', 'Phase 2-3', 'Phase 3-4', 'Phase 4-5']\n",
    "\n",
    "line1 = plt.plot(x_axis, y1,'bo-',label='Bogota 0 ( No Transparency )') \n",
    "line2 = plt.plot(x_axis, y2,'go-',label='Bogota 1 ( Performance Transparency )') \n",
    "line3 = plt.plot(x_axis, y3,'ko-',label='Bogota 2 ( Solution Transparency )')\n",
    "line4 = plt.plot(x_axis, y4,'ro-',label='Bogota 3 ( Full Transparency )') \n",
    "\n",
    "plt.title(\"Mean Log-Transform Exploration\")\n",
    "plt.ylabel(\"Mean Log-Transform-Similarity\")\n",
    "\n",
    "plt.legend(bbox_to_anchor=(1.5, 1),\n",
    "           bbox_transform=plt.gcf().transFigure)\n",
    "\n"
   ]
  },
  {
   "cell_type": "code",
   "execution_count": null,
   "id": "391422e4",
   "metadata": {},
   "outputs": [],
   "source": [
    "import matplotlib.pyplot as plt\n",
    "\n",
    "# Mean Scores of All Groups [ Tech Scores ]\n",
    "\n",
    "y1 = [median_out_array_phase12_bogota0_self, median_out_array_phase23_bogota0_self, median_out_array_phase34_bogota0_self, median_out_array_phase45_bogota0_self ]\n",
    "y2 = [median_out_array_phase12_bogota1_self, median_out_array_phase23_bogota1_self, median_out_array_phase34_bogota0_self, median_out_array_phase45_bogota0_self ]\n",
    "y3 = [median_out_array_phase12_bogota2_self, median_out_array_phase23_bogota2_self, median_out_array_phase34_bogota0_self, median_out_array_phase45_bogota0_self ]\n",
    "y4 = [median_out_array_phase12_bogota3_self, median_out_array_phase23_bogota3_self, median_out_array_phase34_bogota0_self, median_out_array_phase45_bogota0_self ]\n",
    "\n",
    "\n",
    "x_axis=['Phase 1-2', 'Phase 2-3', 'Phase 3-4', 'Phase 4-5']\n",
    "\n",
    "line1 = plt.plot(x_axis, y1,'bo-',label='Bogota 0 ( No Transparency )') \n",
    "line2 = plt.plot(x_axis, y2,'go-',label='Bogota 1 ( Performance Transparency )') \n",
    "line3 = plt.plot(x_axis, y3,'ko-',label='Bogota 2 ( Solution Transparency )')\n",
    "line4 = plt.plot(x_axis, y4,'ro-',label='Bogota 3 ( Full Transparency )') \n",
    "\n",
    "plt.title(\"Median Log-Transform Similarity For Each Individual\")\n",
    "plt.ylabel(\"Median Log-Transform-Similarity\")\n",
    "\n",
    "plt.legend(bbox_to_anchor=(1.5, 1),\n",
    "           bbox_transform=plt.gcf().transFigure)\n",
    "\n"
   ]
  },
  {
   "cell_type": "code",
   "execution_count": null,
   "id": "e2f0f58d",
   "metadata": {},
   "outputs": [],
   "source": [
    "import matplotlib.pyplot as plt\n",
    "\n",
    "# Mean Scores of All Groups [ Tech Scores ]\n",
    "\n",
    "y1 = [1-min_phase12_bogota0, 1-min_phase23_bogota0, 1-min_phase34_bogota0, 1-min_phase45_bogota0 ]\n",
    "y2 = [1-min_phase12_bogota1, 1-min_phase23_bogota1, 1-min_phase34_bogota1, 1-min_phase45_bogota1 ]\n",
    "y3 = [1-min_phase12_bogota2, 1-min_phase23_bogota2, 1-min_phase34_bogota2, 1-min_phase45_bogota2 ]\n",
    "y4 = [1-min_phase12_bogota3, 1-min_phase23_bogota3, 1-min_phase34_bogota3, 1-min_phase45_bogota3 ]\n",
    "\n",
    "\n",
    "x_axis=['Phase 1-2', 'Phase 2-3', 'Phase 3-4', 'Phase 4-5']\n",
    "\n",
    "line1 = plt.plot(x_axis, y1,'bo-',label='Bogota 0 ( No Transparency )') \n",
    "line2 = plt.plot(x_axis, y2,'go-',label='Bogota 1 ( Performance Transparency )') \n",
    "line3 = plt.plot(x_axis, y3,'ko-',label='Bogota 2 ( Solution Transparency )')\n",
    "line4 = plt.plot(x_axis, y4,'ro-',label='Bogota 3 ( Full Transparency )') \n",
    "\n",
    "plt.title(\"Max of Individual Exploration in Each Group\")\n",
    "plt.ylabel(\"1-Jaccard Similarity\")\n",
    "\n",
    "plt.legend(bbox_to_anchor=(1.5, 1),\n",
    "           bbox_transform=plt.gcf().transFigure)"
   ]
  },
  {
   "cell_type": "code",
   "execution_count": null,
   "id": "71d6a7f9",
   "metadata": {},
   "outputs": [],
   "source": []
  },
  {
   "cell_type": "code",
   "execution_count": null,
   "id": "6434906e",
   "metadata": {},
   "outputs": [],
   "source": []
  },
  {
   "cell_type": "code",
   "execution_count": null,
   "id": "bb5e7ffe",
   "metadata": {},
   "outputs": [],
   "source": []
  },
  {
   "cell_type": "code",
   "execution_count": null,
   "id": "f89f239b",
   "metadata": {},
   "outputs": [],
   "source": []
  },
  {
   "cell_type": "markdown",
   "id": "4d847cc8",
   "metadata": {},
   "source": [
    "## Test Code Section [ To Be Ignored ]"
   ]
  },
  {
   "cell_type": "code",
   "execution_count": null,
   "id": "e98dcfdb",
   "metadata": {},
   "outputs": [],
   "source": [
    "import itertools\n",
    "import pandas as pd\n",
    "\n",
    "# copied from OP above\n",
    "def jaccard_similarity(x, y):\n",
    "    \"\"\" returns the jaccard similarity between two lists \"\"\"\n",
    "    intersection_cardinality = len(set.intersection(*[set(x), set(y)]))\n",
    "    union_cardinality = len(set.union(*[set(x), set(y)]))\n",
    "    return intersection_cardinality/float(union_cardinality)\n",
    "\n",
    "# set initial data and create dataframe\n",
    "data = {\"wordings\": [\"apple,banana,orange,pears\", \"apple, banana\", \"apple,jackfruit\", \"banana,jackfruit,berries,apple\", \"berries,grapes,watermelon\"], \"users\": [\"adeline\", \"adeline\", \"kenzi\", \"ericko\", \"mary\"], \"phase\":[1, 3, 2, 2, 3]}\n",
    "df = pd.DataFrame(data)\n",
    "\n",
    "# create list of tuples like [(wording, user), (wording, user)]\n",
    "wordings_users = list(zip(df[\"wordings\"], df[\"users\"], df[\"phase\"]))\n",
    "print(wordings_users)\n",
    "\n",
    "result = []\n",
    "\n",
    "# create list of all possible combinations between sets of (wording, user) and loop through them\n",
    "for item in list(itertools.combinations(wordings_users, 2)):\n",
    "    similarity = jaccard_similarity(item[0][0], item[1][0])\n",
    "    data = {\"user1\": item[0][1], \"user2\": item[1][1], \"phase\": item[0][2], \"phase2\": item[1][2], \"similarity\": similarity}\n",
    "    result.append(data)\n",
    "\n",
    "df1_test = pd.DataFrame(result)\n",
    "df1_test"
   ]
  },
  {
   "cell_type": "code",
   "execution_count": null,
   "id": "bac36563",
   "metadata": {},
   "outputs": [],
   "source": [
    "phase45_bogota3['phase'] = 'phase45'\n",
    "phase34_bogota3['phase'] = 'phase34'\n",
    "phase23_bogota3['phase'] = 'phase23'\n",
    "phase12_bogota3['phase'] = 'phase12'\n",
    "df = pd.concat([phase45_bogota3, phase34_bogota3, phase23_bogota3, phase12_bogota3], ignore_index=True)\n",
    "df['exploration'] = 1 - df['similarity']"
   ]
  },
  {
   "cell_type": "code",
   "execution_count": null,
   "id": "9b6215ef",
   "metadata": {},
   "outputs": [],
   "source": [
    "import pylab as pl\n",
    "\n",
    "df.hist(column='exploration', by='phase')\n",
    "pl.suptitle(\"Bogota 3\")"
   ]
  },
  {
   "cell_type": "markdown",
   "id": "ed77419a",
   "metadata": {},
   "source": [
    ">> Comments: Distribution becomes more skewed over time. "
   ]
  },
  {
   "cell_type": "code",
   "execution_count": null,
   "id": "4b7669b3",
   "metadata": {},
   "outputs": [],
   "source": [
    "phase45_bogota2['phase'] = 'phase45'\n",
    "phase34_bogota2['phase'] = 'phase34'\n",
    "phase23_bogota2['phase'] = 'phase23'\n",
    "phase12_bogota2['phase'] = 'phase12'\n",
    "df_bogota2 = pd.concat([phase45_bogota2, phase34_bogota2, phase23_bogota2, phase12_bogota2], ignore_index=True)\n",
    "df_bogota2['exploration'] = 1 - df_bogota2['similarity']"
   ]
  },
  {
   "cell_type": "code",
   "execution_count": null,
   "id": "f5f35770",
   "metadata": {},
   "outputs": [],
   "source": [
    "import pylab as pl\n",
    "\n",
    "df_bogota2.hist(column='exploration', by='phase')\n",
    "pl.suptitle(\"Bogota 2\")"
   ]
  },
  {
   "cell_type": "code",
   "execution_count": null,
   "id": "a8d4ef60",
   "metadata": {},
   "outputs": [],
   "source": [
    "phase45_bogota1['phase'] = 'phase45'\n",
    "phase34_bogota1['phase'] = 'phase34'\n",
    "phase23_bogota1['phase'] = 'phase23'\n",
    "phase12_bogota1['phase'] = 'phase12'\n",
    "df_bogota1 = pd.concat([phase45_bogota1, phase34_bogota1, phase23_bogota1, phase12_bogota1], ignore_index=True)\n",
    "df_bogota1['exploration'] = 1 - df_bogota1['similarity']"
   ]
  },
  {
   "cell_type": "code",
   "execution_count": null,
   "id": "c4ea81f4",
   "metadata": {},
   "outputs": [],
   "source": [
    "import pylab as pl\n",
    "\n",
    "df_bogota1.hist(column='exploration', by='phase')\n",
    "pl.suptitle(\"Bogota 1\")"
   ]
  },
  {
   "cell_type": "code",
   "execution_count": null,
   "id": "55f3f0f8",
   "metadata": {},
   "outputs": [],
   "source": [
    "phase45_bogota0['phase'] = 'phase45'\n",
    "phase34_bogota0['phase'] = 'phase34'\n",
    "phase23_bogota0['phase'] = 'phase23'\n",
    "phase12_bogota0['phase'] = 'phase12'\n",
    "df_bogota0 = pd.concat([phase45_bogota0, phase34_bogota0, phase23_bogota0, phase12_bogota0], ignore_index=True)\n",
    "df_bogota0['exploration'] = 1 - df_bogota1['similarity']"
   ]
  },
  {
   "cell_type": "code",
   "execution_count": null,
   "id": "6db68959",
   "metadata": {},
   "outputs": [],
   "source": [
    "import pylab as pl\n",
    "\n",
    "df_bogota0.hist(column='exploration', by='phase')\n",
    "pl.suptitle(\"Bogota 0\")"
   ]
  },
  {
   "cell_type": "code",
   "execution_count": null,
   "id": "ac772d67",
   "metadata": {},
   "outputs": [],
   "source": [
    "import matplotlib.pyplot as plt\n",
    "phase12_bogota3 = df4[~(df4['user1'] == df4['user2'])]\n",
    "stage1_bogota3 = phase12_bogota3.loc[(phase12_bogota3['user1_phase'] == 1) & (phase12_bogota3['user2_phase'] == 2)]\n",
    "stage1_bogota3 \n"
   ]
  },
  {
   "cell_type": "code",
   "execution_count": null,
   "id": "d7eb7d47",
   "metadata": {},
   "outputs": [],
   "source": [
    "stage1_bogota3_high_similarity = stage1_bogota3.sort_values(['user1', 'similarity'], ascending=[True, False]).drop_duplicates(['user1']).reset_index(drop=True)\n",
    "stage1_bogota3_high_similarity"
   ]
  },
  {
   "cell_type": "code",
   "execution_count": null,
   "id": "0413844f",
   "metadata": {},
   "outputs": [],
   "source": [
    "import matplotlib.pyplot as plt\n",
    "phase23_bogota3 = df3[~(df3['user1'] == df3['user2'])]\n",
    "stage2_bogota3 = phase23_bogota3.loc[(phase23_bogota3['user1_phase'] == 2) & (phase23_bogota3['user2_phase'] == 3)]\n",
    "stage2_bogota3 "
   ]
  },
  {
   "cell_type": "code",
   "execution_count": null,
   "id": "2d0dd097",
   "metadata": {},
   "outputs": [],
   "source": [
    "stage2_bogota3_high_similarity = stage2_bogota3.sort_values(['user1', 'similarity'], ascending=[True, False]).drop_duplicates(['user1']).reset_index(drop=True)\n",
    "stage2_bogota3_high_similarity"
   ]
  },
  {
   "cell_type": "code",
   "execution_count": null,
   "id": "8a5a4dc2",
   "metadata": {},
   "outputs": [],
   "source": [
    "import matplotlib.pyplot as plt\n",
    "phase34_bogota3 = df2[~(df2['user1'] == df2['user2'])]\n",
    "stage3_bogota3 = phase34_bogota3.loc[(phase34_bogota3['user1_phase'] == 3) & (phase34_bogota3['user2_phase'] == 4)]\n",
    "stage3_bogota3 "
   ]
  },
  {
   "cell_type": "code",
   "execution_count": null,
   "id": "4ea64098",
   "metadata": {},
   "outputs": [],
   "source": [
    "stage3_bogota3_high_similarity = stage2_bogota3.sort_values(['user1', 'similarity'], ascending=[True, False]).drop_duplicates(['user1']).reset_index(drop=True)\n",
    "stage3_bogota3_high_similarity"
   ]
  },
  {
   "cell_type": "code",
   "execution_count": null,
   "id": "235bde56",
   "metadata": {},
   "outputs": [],
   "source": [
    "import matplotlib.pyplot as plt\n",
    "phase45_bogota3 = df1[~(df1['user1'] == df1['user2'])]\n",
    "stage4_bogota3 = phase45_bogota3.loc[(phase45_bogota3['user1_phase'] == 4) & (phase45_bogota3['user2_phase'] == 5)]\n",
    "stage4_bogota3 "
   ]
  },
  {
   "cell_type": "code",
   "execution_count": null,
   "id": "2f074eaa",
   "metadata": {},
   "outputs": [],
   "source": [
    "stage4_bogota3_high_similarity = stage4_bogota3.sort_values(['user1', 'similarity'], ascending=[True, False]).drop_duplicates(['user1']).reset_index(drop=True)\n",
    "stage4_bogota3_high_similarity"
   ]
  },
  {
   "cell_type": "code",
   "execution_count": null,
   "id": "3082cbe1",
   "metadata": {},
   "outputs": [],
   "source": [
    "stage12_bogota3 = pd.merge(stage1_bogota3, stage2_bogota3,  how='left', left_on=['user1','user2'], right_on = ['user1','user2'])\n",
    "stage12_bogota3"
   ]
  },
  {
   "cell_type": "code",
   "execution_count": null,
   "id": "7556e481",
   "metadata": {},
   "outputs": [],
   "source": [
    "plt.scatter(stage12_bogota3['similarity_x'], stage12_bogota3['similarity_y'])\n",
    "plt.xlabel(\"Functional Similarity Phase 12\")\n",
    "plt.ylabel(\"Functional Similarity Phase 23\")"
   ]
  },
  {
   "cell_type": "code",
   "execution_count": null,
   "id": "26d4ee58",
   "metadata": {},
   "outputs": [],
   "source": [
    "stage34_bogota3 = pd.merge(stage3_bogota3, stage4_bogota3,  how='left', left_on=['user1','user2'], right_on = ['user1','user2'])\n",
    "stage34_bogota3"
   ]
  },
  {
   "cell_type": "code",
   "execution_count": null,
   "id": "5919102c",
   "metadata": {},
   "outputs": [],
   "source": [
    "plt.scatter(stage34_bogota3['similarity_x'], stage34_bogota3['similarity_y'])\n",
    "plt.xlabel(\"Functional Similarity Phase 34\")\n",
    "plt.ylabel(\"Functional Similarity Phase 45\")"
   ]
  },
  {
   "cell_type": "markdown",
   "id": "189555d2",
   "metadata": {},
   "source": [
    "## Bogota 2 Pairwise Plots"
   ]
  },
  {
   "cell_type": "code",
   "execution_count": null,
   "id": "8e590c04",
   "metadata": {},
   "outputs": [],
   "source": [
    "import matplotlib.pyplot as plt\n",
    "phase12_bogota2 = df4_bogota2[~(df4_bogota2['user1'] == df4_bogota2['user2'])]\n",
    "stage1_bogota2 = phase12_bogota2.loc[(phase12_bogota2['user1_phase'] == 1) & (phase12_bogota2['user2_phase'] == 2)]\n",
    "stage1_bogota2"
   ]
  },
  {
   "cell_type": "code",
   "execution_count": null,
   "id": "fc746c14",
   "metadata": {},
   "outputs": [],
   "source": [
    "stage1_bogota2_high_similarity = stage1_bogota2.sort_values(['user1', 'similarity'], ascending=[True, False]).drop_duplicates(['user1']).reset_index(drop=True)\n",
    "stage1_bogota2_high_similarity"
   ]
  },
  {
   "cell_type": "code",
   "execution_count": null,
   "id": "046dff29",
   "metadata": {},
   "outputs": [],
   "source": [
    "import matplotlib.pyplot as plt\n",
    "phase23_bogota2 = df3_bogota2[~(df3_bogota2['user1'] == df3_bogota2['user2'])]\n",
    "stage2_bogota2 = phase23_bogota2.loc[(phase23_bogota2['user1_phase'] == 2) & (phase23_bogota2['user2_phase'] == 3)]\n",
    "stage2_bogota2"
   ]
  },
  {
   "cell_type": "code",
   "execution_count": null,
   "id": "9e8f14b3",
   "metadata": {},
   "outputs": [],
   "source": [
    "stage2_bogota2_high_similarity = stage2_bogota2.sort_values(['user1', 'similarity'], ascending=[True, False]).drop_duplicates(['user1']).reset_index(drop=True)\n",
    "stage2_bogota2_high_similarity"
   ]
  },
  {
   "cell_type": "code",
   "execution_count": null,
   "id": "11313039",
   "metadata": {},
   "outputs": [],
   "source": [
    "stage12_bogota2 = pd.merge(stage1_bogota2, stage2_bogota2,  how='left', left_on=['user1','user2'], right_on = ['user1','user2'])\n",
    "stage12_bogota2"
   ]
  },
  {
   "cell_type": "code",
   "execution_count": null,
   "id": "cd4b71b6",
   "metadata": {},
   "outputs": [],
   "source": [
    "plt.scatter(stage12_bogota2['similarity_x'], stage12_bogota2['similarity_y'])\n",
    "plt.xlabel(\"Functional Similarity Phase 12\")\n",
    "plt.ylabel(\"Functional Similarity Phase 23\")"
   ]
  },
  {
   "cell_type": "code",
   "execution_count": null,
   "id": "72c6b400",
   "metadata": {},
   "outputs": [],
   "source": [
    "import matplotlib.pyplot as plt\n",
    "phase34_bogota2 = df2_bogota2[~(df2_bogota2['user1'] == df2_bogota2['user2'])]\n",
    "stage3_bogota2 = phase34_bogota2.loc[(phase34_bogota2['user1_phase'] == 3) & (phase34_bogota2['user2_phase'] == 4)]\n",
    "stage3_bogota2"
   ]
  },
  {
   "cell_type": "code",
   "execution_count": null,
   "id": "57ea0038",
   "metadata": {},
   "outputs": [],
   "source": [
    "stage3_bogota2_high_similarity = stage3_bogota2.sort_values(['user1', 'similarity'], ascending=[True, False]).drop_duplicates(['user1']).reset_index(drop=True)\n",
    "stage3_bogota2_high_similarity"
   ]
  },
  {
   "cell_type": "code",
   "execution_count": null,
   "id": "a1c8e9fa",
   "metadata": {},
   "outputs": [],
   "source": [
    "import matplotlib.pyplot as plt\n",
    "phase45_bogota2 = df1_bogota2[~(df1_bogota2['user1'] == df1_bogota2['user2'])]\n",
    "stage4_bogota2 = phase45_bogota2.loc[(phase45_bogota2['user1_phase'] == 4) & (phase45_bogota2['user2_phase'] == 5)]\n",
    "stage4_bogota2"
   ]
  },
  {
   "cell_type": "code",
   "execution_count": null,
   "id": "657ccb06",
   "metadata": {},
   "outputs": [],
   "source": [
    "stage4_bogota2_high_similarity = stage4_bogota2.sort_values(['user1', 'similarity'], ascending=[True, False]).drop_duplicates(['user1']).reset_index(drop=True)\n",
    "stage4_bogota2_high_similarity"
   ]
  },
  {
   "cell_type": "code",
   "execution_count": null,
   "id": "09eeea9a",
   "metadata": {},
   "outputs": [],
   "source": [
    "stage34_bogota2 = pd.merge(stage3_bogota2, stage4_bogota2,  how='left', left_on=['user1','user2'], right_on = ['user1','user2'])\n",
    "stage34_bogota2"
   ]
  },
  {
   "cell_type": "code",
   "execution_count": null,
   "id": "104d611f",
   "metadata": {},
   "outputs": [],
   "source": [
    "plt.scatter(stage34_bogota2['similarity_x'], stage34_bogota2['similarity_y'])\n",
    "plt.xlabel(\"Functional Similarity Phase 34\")\n",
    "plt.ylabel(\"Functional Similarity Phase 45\")"
   ]
  },
  {
   "cell_type": "markdown",
   "id": "2316834c",
   "metadata": {},
   "source": [
    "## Bogota 1 Pairwise Plots"
   ]
  },
  {
   "cell_type": "code",
   "execution_count": null,
   "id": "67e7ff45",
   "metadata": {},
   "outputs": [],
   "source": [
    "import matplotlib.pyplot as plt\n",
    "phase12_bogota1 = df4_bogota1[~(df4_bogota1['user1'] == df4_bogota1['user2'])]\n",
    "stage1_bogota1 = phase12_bogota1.loc[(phase12_bogota1['user1_phase'] == 1) & (phase12_bogota1['user2_phase'] == 2)]\n",
    "stage1_bogota1"
   ]
  },
  {
   "cell_type": "code",
   "execution_count": null,
   "id": "a6797b14",
   "metadata": {},
   "outputs": [],
   "source": [
    "stage1_bogota1_high_similarity = stage1_bogota1.sort_values(['user1', 'similarity'], ascending=[True, False]).drop_duplicates(['user1']).reset_index(drop=True)\n",
    "stage1_bogota1_high_similarity"
   ]
  },
  {
   "cell_type": "code",
   "execution_count": null,
   "id": "6aeb8190",
   "metadata": {},
   "outputs": [],
   "source": [
    "import matplotlib.pyplot as plt\n",
    "phase23_bogota1 = df3_bogota1[~(df3_bogota1['user1'] == df3_bogota1['user2'])]\n",
    "stage2_bogota1 = phase23_bogota1.loc[(phase23_bogota1['user1_phase'] == 2) & (phase23_bogota1['user2_phase'] == 3)]\n",
    "stage2_bogota1"
   ]
  },
  {
   "cell_type": "code",
   "execution_count": null,
   "id": "a770e068",
   "metadata": {},
   "outputs": [],
   "source": [
    "stage2_bogota1_high_similarity = stage2_bogota1.sort_values(['user1', 'similarity'], ascending=[True, False]).drop_duplicates(['user1']).reset_index(drop=True)\n",
    "stage2_bogota1_high_similarity"
   ]
  },
  {
   "cell_type": "code",
   "execution_count": null,
   "id": "32f74c8e",
   "metadata": {},
   "outputs": [],
   "source": [
    "stage12_bogota1 = pd.merge(stage1_bogota1, stage2_bogota1,  how='left', left_on=['user1','user2'], right_on = ['user1','user2'])\n",
    "stage12_bogota1"
   ]
  },
  {
   "cell_type": "code",
   "execution_count": null,
   "id": "47280956",
   "metadata": {},
   "outputs": [],
   "source": [
    "plt.scatter(stage12_bogota1['similarity_x'], stage12_bogota1['similarity_y'])\n",
    "plt.xlabel(\"Functional Similarity Phase 12\")\n",
    "plt.ylabel(\"Functional Similarity Phase 23\")\n",
    "plt.title(\"Funtional Similarity for Performance Transparency Case\")"
   ]
  },
  {
   "cell_type": "code",
   "execution_count": null,
   "id": "1ec8f9fd",
   "metadata": {},
   "outputs": [],
   "source": [
    "import matplotlib.pyplot as plt\n",
    "phase34_bogota1 = df2_bogota1[~(df2_bogota1['user1'] == df2_bogota1['user2'])]\n",
    "stage3_bogota1 = phase34_bogota1.loc[(phase34_bogota1['user1_phase'] == 3) & (phase34_bogota1['user2_phase'] == 4)]\n",
    "stage3_bogota1"
   ]
  },
  {
   "cell_type": "code",
   "execution_count": null,
   "id": "7045cc3a",
   "metadata": {},
   "outputs": [],
   "source": [
    "stage3_bogota1_high_similarity = stage3_bogota1.sort_values(['user1', 'similarity'], ascending=[True, False]).drop_duplicates(['user1']).reset_index(drop=True)\n",
    "stage3_bogota1_high_similarity"
   ]
  },
  {
   "cell_type": "code",
   "execution_count": null,
   "id": "80a23aae",
   "metadata": {},
   "outputs": [],
   "source": [
    "import matplotlib.pyplot as plt\n",
    "phase45_bogota1 = df1_bogota1[~(df1_bogota1['user1'] == df1_bogota1['user2'])]\n",
    "stage4_bogota1 = phase45_bogota1.loc[(phase45_bogota1['user1_phase'] == 4) & (phase45_bogota1['user2_phase'] == 5)]\n",
    "stage4_bogota1"
   ]
  },
  {
   "cell_type": "code",
   "execution_count": null,
   "id": "5f5f0cf9",
   "metadata": {},
   "outputs": [],
   "source": [
    "stage4_bogota1_high_similarity = stage4_bogota1.sort_values(['user1', 'similarity'], ascending=[True, False]).drop_duplicates(['user1']).reset_index(drop=True)\n",
    "stage4_bogota1_high_similarity"
   ]
  },
  {
   "cell_type": "code",
   "execution_count": null,
   "id": "5bde9b2c",
   "metadata": {},
   "outputs": [],
   "source": [
    "stage34_bogota1 = pd.merge(stage3_bogota1, stage4_bogota1,  how='left', left_on=['user1','user2'], right_on = ['user1','user2'])\n",
    "stage34_bogota1"
   ]
  },
  {
   "cell_type": "code",
   "execution_count": null,
   "id": "6e126b06",
   "metadata": {},
   "outputs": [],
   "source": [
    "plt.scatter(stage34_bogota1['similarity_x'], stage34_bogota1['similarity_y'])\n",
    "plt.xlabel(\"Functional Similarity Phase 12\")\n",
    "plt.ylabel(\"Functional Similarity Phase 23\")\n",
    "plt.title(\"Funtional Similarity for Performance Transparency Case\")"
   ]
  },
  {
   "cell_type": "markdown",
   "id": "65543c42",
   "metadata": {},
   "source": [
    "## Bogota 0 Pairwise Plots "
   ]
  },
  {
   "cell_type": "code",
   "execution_count": null,
   "id": "cd549085",
   "metadata": {},
   "outputs": [],
   "source": [
    "import matplotlib.pyplot as plt\n",
    "phase12_bogota0 = df4_bogota0[~(df4_bogota0['user1'] == df4_bogota0['user2'])]\n",
    "stage1_bogota0 = phase12_bogota0.loc[(phase12_bogota0['user1_phase'] == 1) & (phase12_bogota0['user2_phase'] == 2)]\n",
    "stage1_bogota0"
   ]
  },
  {
   "cell_type": "code",
   "execution_count": null,
   "id": "77671788",
   "metadata": {},
   "outputs": [],
   "source": [
    "stage1_bogota0_high_similarity = stage1_bogota0.sort_values(['user2', 'similarity'], ascending=[False, True]).drop_duplicates(['user2']).reset_index(drop=True)\n",
    "stage1_bogota0_high_similarity"
   ]
  },
  {
   "cell_type": "code",
   "execution_count": null,
   "id": "23087474",
   "metadata": {},
   "outputs": [],
   "source": [
    "import matplotlib.pyplot as plt\n",
    "pd.set_option('display.max_rows', None)\n",
    "phase23_bogota0 = df3_bogota0[~(df3_bogota0['user1'] == df3_bogota0['user2'])]\n",
    "stage2_bogota0 = phase23_bogota0.loc[(phase23_bogota0['user1_phase'] == 2) & (phase23_bogota0['user2_phase'] == 3)]\n",
    "stage2_bogota0"
   ]
  },
  {
   "cell_type": "code",
   "execution_count": null,
   "id": "6649f856",
   "metadata": {},
   "outputs": [],
   "source": [
    "stage2_bogota0_high_similarity = stage2_bogota0.sort_values('similarity', ascending= True).drop_duplicates(['user1']).reset_index(drop=True)\n",
    "stage2_bogota0_high_similarity"
   ]
  },
  {
   "cell_type": "code",
   "execution_count": null,
   "id": "31e66fcc",
   "metadata": {},
   "outputs": [],
   "source": [
    "stage12_bogota0 = pd.merge(stage1_bogota0, stage2_bogota0,  how='left', left_on=['user1','user2'], right_on = ['user1','user2'])\n",
    "stage12_bogota0"
   ]
  },
  {
   "cell_type": "code",
   "execution_count": null,
   "id": "a12e29c9",
   "metadata": {},
   "outputs": [],
   "source": [
    "plt.scatter(stage12_bogota0['similarity_x'], stage12_bogota0['similarity_y'])\n",
    "plt.xlabel(\"Functional Similarity Phase 12\")\n",
    "plt.ylabel(\"Functional Similarity Phase 23\")\n",
    "plt.title(\"Funtional Similarity for No Transparency Case\")"
   ]
  },
  {
   "cell_type": "code",
   "execution_count": null,
   "id": "eb028f13",
   "metadata": {},
   "outputs": [],
   "source": [
    "import matplotlib.pyplot as plt\n",
    "phase34_bogota0 = df2_bogota0[~(df2_bogota0['user1'] == df2_bogota0['user2'])]\n",
    "stage3_bogota0 = phase34_bogota0.loc[(phase34_bogota0['user1_phase'] == 3) & (phase34_bogota0['user2_phase'] == 4)]\n",
    "stage3_bogota0"
   ]
  },
  {
   "cell_type": "code",
   "execution_count": null,
   "id": "0dd16eef",
   "metadata": {},
   "outputs": [],
   "source": [
    "stage3_bogota0_high_similarity = stage3_bogota0.sort_values(['user2', 'similarity'], ascending=[True, False]).drop_duplicates(['user2']).reset_index(drop=True)\n",
    "stage3_bogota0_high_similarity"
   ]
  },
  {
   "cell_type": "code",
   "execution_count": null,
   "id": "f3b3d908",
   "metadata": {},
   "outputs": [],
   "source": [
    "import matplotlib.pyplot as plt\n",
    "phase45_bogota0 = df1_bogota0[~(df1_bogota0['user1'] == df1_bogota0['user2'])]\n",
    "stage4_bogota0 = phase45_bogota0.loc[(phase45_bogota0['user1_phase'] == 4) & (phase45_bogota0['user2_phase'] == 5)]\n",
    "stage4_bogota0"
   ]
  },
  {
   "cell_type": "code",
   "execution_count": null,
   "id": "8ae2af9a",
   "metadata": {},
   "outputs": [],
   "source": [
    "stage4_bogota0_high_similarity = stage4_bogota0.sort_values(['user2', 'similarity'], ascending=[True, False]).drop_duplicates(['user2']).reset_index(drop=True)\n",
    "stage4_bogota0_high_similarity"
   ]
  },
  {
   "cell_type": "code",
   "execution_count": null,
   "id": "f2510981",
   "metadata": {},
   "outputs": [],
   "source": [
    "stage34_bogota0 = pd.merge(stage3_bogota0, stage4_bogota0,  how='left', left_on=['user1','user2'], right_on = ['user1','user2'])\n",
    "stage34_bogota0"
   ]
  },
  {
   "cell_type": "code",
   "execution_count": null,
   "id": "bb663232",
   "metadata": {},
   "outputs": [],
   "source": [
    "plt.scatter(stage34_bogota0['similarity_x'], stage34_bogota0['similarity_y'])\n",
    "plt.xlabel(\"Functional Similarity Phase 34\")\n",
    "plt.ylabel(\"Functional Similarity Phase 45\")\n",
    "plt.title(\"Funtional Similarity for No Transparency Case\")"
   ]
  },
  {
   "cell_type": "markdown",
   "id": "90556330",
   "metadata": {},
   "source": [
    "## Descriptive Statistics for Functions in Bogota 3"
   ]
  },
  {
   "cell_type": "code",
   "execution_count": null,
   "id": "e109a4b7",
   "metadata": {},
   "outputs": [],
   "source": [
    "import collections\n",
    "bogota3_phase5_functions = overall_phase5_bogota3['functions'].to_list()\n",
    "string = \" \".join(bogota3_phase5_functions)\n",
    "x = string.split(\",\")\n",
    "out = collections.Counter(x)\n",
    "out.most_common()\n"
   ]
  },
  {
   "cell_type": "code",
   "execution_count": null,
   "id": "063740f9",
   "metadata": {},
   "outputs": [],
   "source": [
    "import collections\n",
    "bogota3_phase4_functions = overall_phase4_bogota3['functions'].to_list()\n",
    "string = \" \".join(bogota3_phase4_functions)\n",
    "x = string.split(\",\")\n",
    "out = collections.Counter(x)\n",
    "out.most_common()\n"
   ]
  },
  {
   "cell_type": "code",
   "execution_count": null,
   "id": "2f22744c",
   "metadata": {},
   "outputs": [],
   "source": [
    "import collections\n",
    "bogota3_phase3_functions = subset_bogota3_phase3['functions'].to_list()\n",
    "string = \" \".join(bogota3_phase3_functions)\n",
    "x = string.split(\",\")\n",
    "out = collections.Counter(x)\n",
    "out.most_common()\n"
   ]
  },
  {
   "cell_type": "code",
   "execution_count": null,
   "id": "743b5cd2",
   "metadata": {},
   "outputs": [],
   "source": [
    "import collections\n",
    "bogota3_phase2_functions = overall_phase2_bogota3['functions'].to_list()\n",
    "string = \" \".join(bogota3_phase2_functions)\n",
    "x = string.split(\",\")\n",
    "out = collections.Counter(x)\n",
    "out.most_common()\n"
   ]
  },
  {
   "cell_type": "code",
   "execution_count": null,
   "id": "dafd3f5a",
   "metadata": {},
   "outputs": [],
   "source": [
    "import collections\n",
    "bogota3_phase1_functions = subset_bogota3_phase1['functions'].to_list()\n",
    "string = \" \".join(bogota3_phase1_functions)\n",
    "x = string.split(\",\")\n",
    "out = collections.Counter(x)\n",
    "out.most_common()\n"
   ]
  },
  {
   "cell_type": "markdown",
   "id": "85cd74a0",
   "metadata": {},
   "source": [
    "## Descriptive Statistics for Functions in Bogota 2"
   ]
  },
  {
   "cell_type": "code",
   "execution_count": null,
   "id": "db5b7c0a",
   "metadata": {},
   "outputs": [],
   "source": [
    "import collections\n",
    "bogota2_phase5_functions = subset_bogota2_phase5['functions'].to_list()\n",
    "string = \" \".join(bogota2_phase5_functions)\n",
    "x = string.split(\",\")\n",
    "out = collections.Counter(x)\n",
    "out.most_common()\n"
   ]
  },
  {
   "cell_type": "code",
   "execution_count": null,
   "id": "e3428c27",
   "metadata": {},
   "outputs": [],
   "source": [
    "import collections\n",
    "bogota2_phase4_functions = overall_phase4_bogota2['functions'].to_list()\n",
    "string = \" \".join(bogota2_phase4_functions)\n",
    "x = string.split(\",\")\n",
    "out = collections.Counter(x)\n",
    "out.most_common()\n"
   ]
  },
  {
   "cell_type": "code",
   "execution_count": null,
   "id": "8c093a68",
   "metadata": {},
   "outputs": [],
   "source": [
    "import collections\n",
    "bogota2_phase3_functions = subset_bogota2_phase3['functions'].to_list()\n",
    "string = \" \".join(bogota2_phase3_functions)\n",
    "x = string.split(\",\")\n",
    "out = collections.Counter(x)\n",
    "out.most_common()\n"
   ]
  },
  {
   "cell_type": "code",
   "execution_count": null,
   "id": "e9d5655c",
   "metadata": {},
   "outputs": [],
   "source": [
    "import collections\n",
    "bogota2_phase2_functions = subset_bogota2_phase2['functions'].to_list()\n",
    "string = \" \".join(bogota2_phase2_functions)\n",
    "x = string.split(\",\")\n",
    "out = collections.Counter(x)\n",
    "out.most_common()\n"
   ]
  },
  {
   "cell_type": "code",
   "execution_count": null,
   "id": "5922724f",
   "metadata": {},
   "outputs": [],
   "source": [
    "import collections\n",
    "bogota2_phase1_functions = subset_bogota2_phase1['functions'].to_list()\n",
    "string = \" \".join(bogota2_phase1_functions)\n",
    "x = string.split(\",\")\n",
    "out = collections.Counter(x)\n",
    "out.most_common()\n"
   ]
  },
  {
   "cell_type": "markdown",
   "id": "947d5bc5",
   "metadata": {},
   "source": [
    "## Descriptive Statistics for Functions in Bogota 1"
   ]
  },
  {
   "cell_type": "code",
   "execution_count": null,
   "id": "f37f4752",
   "metadata": {},
   "outputs": [],
   "source": [
    "import collections\n",
    "bogota1_phase5_functions = overall_phase5_bogota1['functions'].to_list()\n",
    "string = \" \".join(bogota1_phase5_functions)\n",
    "x = string.split(\",\")\n",
    "out = collections.Counter(x)\n",
    "out.most_common()\n"
   ]
  },
  {
   "cell_type": "code",
   "execution_count": null,
   "id": "361064c0",
   "metadata": {},
   "outputs": [],
   "source": [
    "import collections\n",
    "bogota1_phase4_functions = overall_phase4_bogota1['functions'].to_list()\n",
    "string = \" \".join(bogota1_phase4_functions)\n",
    "x = string.split(\",\")\n",
    "out = collections.Counter(x)\n",
    "out.most_common()\n"
   ]
  },
  {
   "cell_type": "code",
   "execution_count": null,
   "id": "14244815",
   "metadata": {},
   "outputs": [],
   "source": [
    "import collections\n",
    "bogota1_phase3_functions = subset_bogota1_phase3['functions'].to_list()\n",
    "string = \" \".join(bogota1_phase3_functions)\n",
    "x = string.split(\",\")\n",
    "out = collections.Counter(x)\n",
    "out.most_common()\n"
   ]
  },
  {
   "cell_type": "code",
   "execution_count": null,
   "id": "66712048",
   "metadata": {},
   "outputs": [],
   "source": [
    "import collections\n",
    "bogota1_phase2_functions = subset_bogota1_phase2['functions'].to_list()\n",
    "string = \" \".join(bogota1_phase2_functions)\n",
    "x = string.split(\",\")\n",
    "out = collections.Counter(x)\n",
    "out.most_common()\n"
   ]
  },
  {
   "cell_type": "code",
   "execution_count": null,
   "id": "0bacc890",
   "metadata": {},
   "outputs": [],
   "source": [
    "import collections\n",
    "bogota1_phase1_functions = subset_bogota1_phase1['functions'].to_list()\n",
    "string = \" \".join(bogota1_phase1_functions)\n",
    "x = string.split(\",\")\n",
    "out = collections.Counter(x)\n",
    "out.most_common()\n"
   ]
  },
  {
   "cell_type": "markdown",
   "id": "075a78fe",
   "metadata": {},
   "source": [
    "## Descriptive Statistics for Functions in Bogota 0"
   ]
  },
  {
   "cell_type": "code",
   "execution_count": null,
   "id": "b9cbce4f",
   "metadata": {},
   "outputs": [],
   "source": [
    "import collections\n",
    "bogota0_phase5_functions = overall_phase5_bogota0['functions'].to_list()\n",
    "string = \" \".join(bogota0_phase5_functions)\n",
    "x = string.split(\",\")\n",
    "out = collections.Counter(x)\n",
    "out.most_common()\n"
   ]
  },
  {
   "cell_type": "code",
   "execution_count": null,
   "id": "d7d1798f",
   "metadata": {},
   "outputs": [],
   "source": [
    "import collections\n",
    "bogota0_phase4_functions = overall_phase4_bogota0['functions'].to_list()\n",
    "string = \" \".join(bogota0_phase4_functions)\n",
    "x = string.split(\",\")\n",
    "out = collections.Counter(x)\n",
    "out.most_common()\n"
   ]
  },
  {
   "cell_type": "code",
   "execution_count": null,
   "id": "cac3cc8d",
   "metadata": {},
   "outputs": [],
   "source": [
    "import collections\n",
    "bogota0_phase3_functions = subset_bogota0_phase3['functions'].to_list()\n",
    "string = \" \".join(bogota0_phase3_functions)\n",
    "x = string.split(\",\")\n",
    "out = collections.Counter(x)\n",
    "out.most_common()\n"
   ]
  },
  {
   "cell_type": "code",
   "execution_count": null,
   "id": "6de129d3",
   "metadata": {},
   "outputs": [],
   "source": [
    "import collections\n",
    "bogota0_phase2_functions = subset_bogota0_phase2['functions'].to_list()\n",
    "string = \" \".join(bogota0_phase2_functions)\n",
    "x = string.split(\",\")\n",
    "out = collections.Counter(x)\n",
    "out.most_common()\n"
   ]
  },
  {
   "cell_type": "code",
   "execution_count": null,
   "id": "53171cdd",
   "metadata": {},
   "outputs": [],
   "source": [
    "import collections\n",
    "bogota0_phase1_functions = subset_bogota0_phase1['functions'].to_list()\n",
    "string = \" \".join(bogota0_phase1_functions)\n",
    "x = string.split(\",\")\n",
    "out = collections.Counter(x)\n",
    "out.most_common()\n"
   ]
  },
  {
   "cell_type": "markdown",
   "id": "2fa56952",
   "metadata": {},
   "source": [
    "## Get All Functions from All Phases and Groups"
   ]
  },
  {
   "cell_type": "code",
   "execution_count": null,
   "id": "23174ea0",
   "metadata": {},
   "outputs": [],
   "source": [
    "## List the 20,000 least common functions in a counter\n",
    "\n",
    "overall_12 = overall_phase1.append(overall_phase2, ignore_index=True)\n",
    "overall_23 = overall_12.append(overall_phase3, ignore_index=True)\n",
    "overall_34 = overall_23.append(overall_phase4, ignore_index=True)\n",
    "overall_45 = overall_34.append(overall_phase5, ignore_index=True)\n",
    "overall_45['functions'].replace('', np.nan, inplace=True)\n",
    "overall_45.dropna(subset=['functions'], inplace=True)\n",
    "overall_45_functions = overall_45['functions'].to_list()\n",
    "string = \" \".join(overall_45_functions)\n",
    "x = string.split(\",\")\n",
    "out = collections.Counter(x)\n",
    "list_functions = out.most_common()[:-20000-2:-1]\n",
    "new_list = []\n",
    "for x in range(0,len(list_functions)):\n",
    "    new_list.append(list_functions[x][0])\n",
    "new_list = list(filter(None, new_list))\n",
    "len(new_list)"
   ]
  },
  {
   "cell_type": "markdown",
   "id": "c7036e92",
   "metadata": {},
   "source": [
    "## Functions Count for Group 0"
   ]
  },
  {
   "cell_type": "code",
   "execution_count": null,
   "id": "c9fac870",
   "metadata": {},
   "outputs": [],
   "source": [
    "import seaborn as sns\n",
    "overall_45_group0 = overall_45.loc[overall_45['Group'] == 0]\n",
    "overall_45_group0['functions'].replace('', np.nan, inplace=True)\n",
    "overall_45_group0.dropna(subset=['functions'], inplace=True)\n",
    "overall_45_functions = overall_45_group0['functions'].to_list()\n",
    "string = \" \".join(overall_45_functions)\n",
    "x = string.split(\",\")\n",
    "out1 = collections.Counter(x)\n",
    "df = pd.DataFrame(list(out1.items()))\n",
    "df = df.rename(columns={0:'Functions', 1:'Count'})\n",
    "df = df[df['Functions'] != '']\n",
    "df.sort_values(by='Count', ascending=False, inplace=True)\n",
    "df_group0 = df.reset_index(drop=True)\n",
    "df_group0"
   ]
  },
  {
   "cell_type": "code",
   "execution_count": null,
   "id": "a1f543c2",
   "metadata": {},
   "outputs": [],
   "source": [
    "# Get the Frequency at each Quantiles for Bogota 0 - No Transparency\n",
    "\n",
    "for i in np.arange(0, 1, 0.05):\n",
    "    print(\"Quantile: %.2f\" %i, \"Freq: \", df_group0['Count'].quantile(i))"
   ]
  },
  {
   "cell_type": "code",
   "execution_count": null,
   "id": "367be238",
   "metadata": {},
   "outputs": [],
   "source": [
    "# Distribution Plot for frequency of each functions in the no tranparency group\n",
    "\n",
    "df_group0['Count'].plot()"
   ]
  },
  {
   "cell_type": "markdown",
   "id": "67202083",
   "metadata": {},
   "source": [
    "## Functions Count for Group 1"
   ]
  },
  {
   "cell_type": "code",
   "execution_count": null,
   "id": "ff0000b5",
   "metadata": {},
   "outputs": [],
   "source": [
    "import seaborn as sns\n",
    "overall_45_group1 = overall_45.loc[overall_45['Group'] == 1]\n",
    "overall_45_group1['functions'].replace('', np.nan, inplace=True)\n",
    "overall_45_group1.dropna(subset=['functions'], inplace=True)\n",
    "overall_45_functions = overall_45_group1['functions'].to_list()\n",
    "string = \" \".join(overall_45_functions)\n",
    "x = string.split(\",\")\n",
    "out1 = collections.Counter(x)\n",
    "df = pd.DataFrame(list(out1.items()))\n",
    "df = df.rename(columns={0:'Functions', 1:'Count'})\n",
    "df = df[df['Functions'] != '']\n",
    "df.sort_values(by='Count', ascending=False, inplace=True)\n",
    "df_group1 = df.reset_index(drop=True)\n",
    "df_group1"
   ]
  },
  {
   "cell_type": "code",
   "execution_count": null,
   "id": "31f11437",
   "metadata": {},
   "outputs": [],
   "source": [
    "# Get the Frequency at each Quantiles for Bogota 1 - Performance Transparency\n",
    "\n",
    "for i in np.arange(0, 1, 0.05):\n",
    "    print(\"Quantile: %.2f\" %i, \"Freq: \", df_group1['Count'].quantile(i))"
   ]
  },
  {
   "cell_type": "code",
   "execution_count": null,
   "id": "a894535e",
   "metadata": {},
   "outputs": [],
   "source": [
    "# Distribution Plot for frequency of each functions in the performance tranparency group\n",
    "\n",
    "df_group1['Count'].plot()"
   ]
  },
  {
   "cell_type": "markdown",
   "id": "095b1ec9",
   "metadata": {},
   "source": [
    "## Functions Count for Group 2"
   ]
  },
  {
   "cell_type": "code",
   "execution_count": null,
   "id": "da4dd873",
   "metadata": {},
   "outputs": [],
   "source": [
    "import seaborn as sns\n",
    "overall_45_group2 = overall_45.loc[overall_45['Group'] == 2]\n",
    "overall_45_group2['functions'].replace('', np.nan, inplace=True)\n",
    "overall_45_group2.dropna(subset=['functions'], inplace=True)\n",
    "overall_45_functions = overall_45_group2['functions'].to_list()\n",
    "string = \" \".join(overall_45_functions)\n",
    "x = string.split(\",\")\n",
    "out1 = collections.Counter(x)\n",
    "df = pd.DataFrame(list(out1.items()))\n",
    "df = df.rename(columns={0:'Functions', 1:'Count'})\n",
    "df = df[df['Functions'] != '']\n",
    "df.sort_values(by='Count', ascending=False, inplace=True)\n",
    "df_group2 = df.reset_index(drop=True)\n",
    "df_group2"
   ]
  },
  {
   "cell_type": "code",
   "execution_count": null,
   "id": "1a1c8cbc",
   "metadata": {},
   "outputs": [],
   "source": [
    "# Get the Frequency at each Quantiles for Bogota 2 - Solution Transparency\n",
    "\n",
    "for i in np.arange(0, 1, 0.05):\n",
    "    print(\"Quantile: %.2f\" %i, \"Freq: \", df_group2['Count'].quantile(i))"
   ]
  },
  {
   "cell_type": "code",
   "execution_count": null,
   "id": "2d57d533",
   "metadata": {},
   "outputs": [],
   "source": [
    "# Distribution Plot for frequency of each functions in the solution tranparency group\n",
    "\n",
    "df_group2['Count'].plot()"
   ]
  },
  {
   "cell_type": "markdown",
   "id": "5ed94687",
   "metadata": {},
   "source": [
    "## Functions Count for Group 3"
   ]
  },
  {
   "cell_type": "code",
   "execution_count": null,
   "id": "3f05e59c",
   "metadata": {},
   "outputs": [],
   "source": [
    "import seaborn as sns\n",
    "overall_45_group3 = overall_45.loc[overall_45['Group'] == 3]\n",
    "overall_45_group3['functions'].replace('', np.nan, inplace=True)\n",
    "overall_45_group3.dropna(subset=['functions'], inplace=True)\n",
    "overall_45_functions = overall_45_group3['functions'].to_list()\n",
    "string = \" \".join(overall_45_functions)\n",
    "x = string.split(\",\")\n",
    "out1 = collections.Counter(x)\n",
    "df = pd.DataFrame(list(out1.items()))\n",
    "df = df.rename(columns={0:'Functions', 1:'Count'})\n",
    "df = df[df['Functions'] != '']\n",
    "df.sort_values(by='Count', ascending=False, inplace=True)\n",
    "df_group3 = df.reset_index(drop=True)\n",
    "df_group3"
   ]
  },
  {
   "cell_type": "code",
   "execution_count": null,
   "id": "596a93f7",
   "metadata": {},
   "outputs": [],
   "source": [
    "# Get the Frequency at each Quantiles for Bogota 3 - Full Transparency\n",
    "\n",
    "for i in np.arange(0, 1, 0.05):\n",
    "    print(\"Quantile: %.2f\" %i, \"Freq: \", df_group3['Count'].quantile(i))"
   ]
  },
  {
   "cell_type": "code",
   "execution_count": null,
   "id": "7e33a49e",
   "metadata": {},
   "outputs": [],
   "source": [
    "# Distribution Plot for frequency of each functions in the full tranpsrancy group\n",
    "\n",
    "df_group3['Count'].plot()"
   ]
  },
  {
   "cell_type": "markdown",
   "id": "60821418",
   "metadata": {},
   "source": [
    "## Functions Count for All Sample"
   ]
  },
  {
   "cell_type": "code",
   "execution_count": null,
   "id": "ad0a5428",
   "metadata": {},
   "outputs": [],
   "source": [
    "df = pd.DataFrame(list(out.items()))\n",
    "df = df.rename(columns={0:'Functions', 1:'Count'})\n",
    "df = df[df['Functions'] != '']\n",
    "df.sort_values(by='Count', ascending=False, inplace=True)\n",
    "df_all = df.reset_index(drop=True)\n",
    "df_all"
   ]
  },
  {
   "cell_type": "code",
   "execution_count": null,
   "id": "2a5b3197",
   "metadata": {},
   "outputs": [],
   "source": [
    "# Get the Frequency at each Quantiles for the Total Sample\n",
    "\n",
    "for i in np.arange(0, 1, 0.05):\n",
    "    print(\"Quantile: %.2f\" %i, \"Freq: \", df_all['Count'].quantile(i))"
   ]
  },
  {
   "cell_type": "code",
   "execution_count": null,
   "id": "6e68fd58",
   "metadata": {},
   "outputs": [],
   "source": [
    "# Distribution Plot for frequency of each functions in the total sample\n",
    "\n",
    "df_all['Count'].plot()"
   ]
  },
  {
   "cell_type": "markdown",
   "id": "745a85eb",
   "metadata": {},
   "source": [
    ">> By the end of the discussion on 20th May, 2022, we conclude that we are using 10% as the cut-off for the rare functions. In the overall sample, we have a frequency of 2 at 10% for the functions.  In Bogota 1 ( performance transparency ), Bogota 2 ( solution transparency ), and Bogota 3 ( full transparency ), we have also 2 as the frequency for the quantile of 10%. In bogota 0 ( no tranparency ), although we have a frequency of 1 at the 10% quantile, the jump was straight towards 4 at the quantile of 25%, so we conclude in using 10% as the cut-off. "
   ]
  },
  {
   "cell_type": "markdown",
   "id": "c6735698",
   "metadata": {},
   "source": [
    "## List of Functions with Frequency Count of 1 in Total Sample"
   ]
  },
  {
   "cell_type": "code",
   "execution_count": null,
   "id": "36cc499d",
   "metadata": {},
   "outputs": [],
   "source": [
    "[k for k, v in out.items() if v == 1]\n"
   ]
  },
  {
   "cell_type": "markdown",
   "id": "0cd1405a",
   "metadata": {},
   "source": [
    "## List of Functions with Frequency Count of 2 in Total Sample"
   ]
  },
  {
   "cell_type": "code",
   "execution_count": null,
   "id": "3fd0dd43",
   "metadata": {},
   "outputs": [],
   "source": [
    "[k for k, v in out.items() if v == 2]\n"
   ]
  },
  {
   "cell_type": "markdown",
   "id": "0b5c2197",
   "metadata": {},
   "source": [
    "## List of Functions with Frequency Count of 3 in Total Sample"
   ]
  },
  {
   "cell_type": "code",
   "execution_count": null,
   "id": "9567c013",
   "metadata": {},
   "outputs": [],
   "source": [
    "[k for k, v in out.items() if v == 3]\n"
   ]
  },
  {
   "cell_type": "code",
   "execution_count": null,
   "id": "8cdaef8f",
   "metadata": {},
   "outputs": [],
   "source": [
    "round (len(out) * 0.05)"
   ]
  },
  {
   "cell_type": "code",
   "execution_count": null,
   "id": "9563b60c",
   "metadata": {},
   "outputs": [],
   "source": [
    "round (len(out) * 0.1)"
   ]
  },
  {
   "cell_type": "code",
   "execution_count": null,
   "id": "7c0ec8ca",
   "metadata": {},
   "outputs": [],
   "source": [
    "round(len(out) * 0.15)"
   ]
  },
  {
   "cell_type": "code",
   "execution_count": null,
   "id": "a72cabf3",
   "metadata": {},
   "outputs": [],
   "source": [
    "round(len(out) * 0.2)"
   ]
  },
  {
   "cell_type": "code",
   "execution_count": null,
   "id": "252df462",
   "metadata": {},
   "outputs": [],
   "source": [
    "## List the 5% least common functions in a counter\n",
    "\n",
    "overall_12 = overall_phase1.append(overall_phase2, ignore_index=True)\n",
    "overall_23 = overall_12.append(overall_phase3, ignore_index=True)\n",
    "overall_34 = overall_23.append(overall_phase4, ignore_index=True)\n",
    "overall_45 = overall_34.append(overall_phase5, ignore_index=True)\n",
    "overall_45['functions'].replace('', np.nan, inplace=True)\n",
    "overall_45.dropna(subset=['functions'], inplace=True)\n",
    "overall_45_functions = overall_45['functions'].to_list()\n",
    "string = \" \".join(overall_45_functions)\n",
    "x = string.split(\",\")\n",
    "out = collections.Counter(x)\n",
    "list_functions = out.most_common()[:-10379-2:-1]\n",
    "top_5_unique = []\n",
    "for x in range(0,len(list_functions)):\n",
    "    top_5_unique.append(list_functions[x][0])\n",
    "top_5_unique = list(filter(None, top_5_unique))\n",
    "len(top_5_unique)"
   ]
  },
  {
   "cell_type": "code",
   "execution_count": null,
   "id": "306ac721",
   "metadata": {},
   "outputs": [],
   "source": [
    "## List the 10% least common functions in a counter\n",
    "\n",
    "overall_12 = overall_phase1.append(overall_phase2, ignore_index=True)\n",
    "overall_23 = overall_12.append(overall_phase3, ignore_index=True)\n",
    "overall_34 = overall_23.append(overall_phase4, ignore_index=True)\n",
    "overall_45 = overall_34.append(overall_phase5, ignore_index=True)\n",
    "overall_45['functions'].replace('', np.nan, inplace=True)\n",
    "overall_45.dropna(subset=['functions'], inplace=True)\n",
    "overall_45_functions = overall_45['functions'].to_list()\n",
    "string = \" \".join(overall_45_functions)\n",
    "x = string.split(\",\")\n",
    "out = collections.Counter(x)\n",
    "list_functions = out.most_common()[:-20758-2:-1]\n",
    "top_10_unique = []\n",
    "for x in range(0,len(list_functions)):\n",
    "    top_10_unique.append(list_functions[x][0])\n",
    "top_10_unique = list(filter(None, top_10_unique))\n",
    "len(top_10_unique)"
   ]
  },
  {
   "cell_type": "code",
   "execution_count": null,
   "id": "6192034f",
   "metadata": {},
   "outputs": [],
   "source": [
    "## List the 15% least common functions in a counter\n",
    "\n",
    "overall_12 = overall_phase1.append(overall_phase2, ignore_index=True)\n",
    "overall_23 = overall_12.append(overall_phase3, ignore_index=True)\n",
    "overall_34 = overall_23.append(overall_phase4, ignore_index=True)\n",
    "overall_45 = overall_34.append(overall_phase5, ignore_index=True)\n",
    "overall_45['functions'].replace('', np.nan, inplace=True)\n",
    "overall_45.dropna(subset=['functions'], inplace=True)\n",
    "overall_45_functions = overall_45['functions'].to_list()\n",
    "string = \" \".join(overall_45_functions)\n",
    "x = string.split(\",\")\n",
    "out = collections.Counter(x)\n",
    "list_functions = out.most_common()[:-31136-2:-1]\n",
    "top_15_unique = []\n",
    "for x in range(0,len(list_functions)):\n",
    "    top_15_unique.append(list_functions[x][0])\n",
    "top_15_unique = list(filter(None, top_15_unique))\n",
    "len(top_15_unique)"
   ]
  },
  {
   "cell_type": "code",
   "execution_count": null,
   "id": "ffc80c25",
   "metadata": {},
   "outputs": [],
   "source": [
    "## List the 20% least common functions in a counter\n",
    "\n",
    "overall_12 = overall_phase1.append(overall_phase2, ignore_index=True)\n",
    "overall_23 = overall_12.append(overall_phase3, ignore_index=True)\n",
    "overall_34 = overall_23.append(overall_phase4, ignore_index=True)\n",
    "overall_45 = overall_34.append(overall_phase5, ignore_index=True)\n",
    "overall_45['functions'].replace('', np.nan, inplace=True)\n",
    "overall_45.dropna(subset=['functions'], inplace=True)\n",
    "overall_45_functions = overall_45['functions'].to_list()\n",
    "string = \" \".join(overall_45_functions)\n",
    "x = string.split(\",\")\n",
    "out = collections.Counter(x)\n",
    "list_functions = out.most_common()[:-41515-2:-1]\n",
    "top_20_unique = []\n",
    "for x in range(0,len(list_functions)):\n",
    "    top_20_unique.append(list_functions[x][0])\n",
    "top_20_unique = list(filter(None, top_20_unique))\n",
    "len(top_20_unique)"
   ]
  },
  {
   "cell_type": "code",
   "execution_count": null,
   "id": "cbe4a005",
   "metadata": {},
   "outputs": [],
   "source": [
    "list_functions = out.most_common(20000)\n",
    "list_functions"
   ]
  },
  {
   "cell_type": "markdown",
   "id": "a3bb3ed8",
   "metadata": {},
   "source": [
    "list_functions2 = [(name, count) for name, count in list_functions]\n",
    "plt.plot(*zip(*list_functions2))\n",
    "plt.show()"
   ]
  },
  {
   "cell_type": "code",
   "execution_count": null,
   "id": "5792da53",
   "metadata": {},
   "outputs": [],
   "source": [
    "list_functions2 = [count for name, count in list_functions]\n",
    "list_functions2"
   ]
  },
  {
   "cell_type": "code",
   "execution_count": null,
   "id": "d137eae6",
   "metadata": {},
   "outputs": [],
   "source": [
    "list_functions2 = [name for name, count in list_functions]\n",
    "list_functions2"
   ]
  },
  {
   "cell_type": "markdown",
   "id": "e5d7ebd1",
   "metadata": {},
   "source": [
    "## Calculate the novelty measure based on Kyriakou et. al. (2022). Novelty and the Structure of Design Landscapes: A Relational View of Online Innovation Communities"
   ]
  },
  {
   "cell_type": "markdown",
   "id": "9a51cb83",
   "metadata": {},
   "source": [
    ">> We define novelty as a relational construct in a landscape that is based on similarity distances between designs (apps).\n",
    "Similarity is based on the code functions in the Kyriakou et. al. (2022)'s paper, it's based on common visual structures and verbal structures. "
   ]
  },
  {
   "cell_type": "markdown",
   "id": "7888f642",
   "metadata": {},
   "source": [
    "For a single person similarity score of a particular phase, we will get the compared similarity score of the other people in the previous phase. We will identify the one with the highest similarity score to the other person. The novelty measure is then 1 - the highest similarity score. For each design in a phase, the novelty measure. Novelty is a dependent variable in our model. "
   ]
  },
  {
   "cell_type": "markdown",
   "id": "127bace3",
   "metadata": {},
   "source": [
    "## Bogota 0 (No Transparency)"
   ]
  },
  {
   "cell_type": "code",
   "execution_count": null,
   "id": "db27420a",
   "metadata": {},
   "outputs": [],
   "source": [
    "mean_stage1_bogota0_high_similarity = stage1_bogota0_high_similarity['similarity'].describe().loc['mean']\n",
    "median_stage1_bogota0_high_similarity = stage1_bogota0_high_similarity['similarity'].median()"
   ]
  },
  {
   "cell_type": "code",
   "execution_count": null,
   "id": "625ba3a0",
   "metadata": {},
   "outputs": [],
   "source": [
    "mean_stage2_bogota0_high_similarity = stage2_bogota0_high_similarity['similarity'].describe().loc['mean']\n",
    "median_stage2_bogota0_high_similarity = stage2_bogota0_high_similarity['similarity'].median()"
   ]
  },
  {
   "cell_type": "code",
   "execution_count": null,
   "id": "a396dd97",
   "metadata": {},
   "outputs": [],
   "source": [
    "mean_stage3_bogota0_high_similarity = stage3_bogota0_high_similarity['similarity'].describe().loc['mean']\n",
    "median_stage3_bogota0_high_similarity = stage3_bogota0_high_similarity['similarity'].median()"
   ]
  },
  {
   "cell_type": "code",
   "execution_count": null,
   "id": "b8f86fe7",
   "metadata": {},
   "outputs": [],
   "source": [
    "mean_stage4_bogota0_high_similarity = stage4_bogota0_high_similarity['similarity'].describe().loc['mean']\n",
    "median_stage4_bogota0_high_similarity = stage4_bogota0_high_similarity['similarity'].median()"
   ]
  },
  {
   "cell_type": "markdown",
   "id": "e5d76abe",
   "metadata": {},
   "source": [
    "## Bogota 1 ( Performance Transparency )"
   ]
  },
  {
   "cell_type": "code",
   "execution_count": null,
   "id": "a413dabd",
   "metadata": {},
   "outputs": [],
   "source": [
    "mean_stage1_bogota1_high_similarity = stage1_bogota1_high_similarity['similarity'].describe().loc['mean']\n",
    "median_stage1_bogota1_high_similarity = stage1_bogota1_high_similarity['similarity'].median()"
   ]
  },
  {
   "cell_type": "code",
   "execution_count": null,
   "id": "1ec996bf",
   "metadata": {},
   "outputs": [],
   "source": [
    "mean_stage2_bogota1_high_similarity = stage2_bogota1_high_similarity['similarity'].describe().loc['mean']\n",
    "median_stage2_bogota1_high_similarity = stage2_bogota1_high_similarity['similarity'].median()"
   ]
  },
  {
   "cell_type": "code",
   "execution_count": null,
   "id": "8b6de8a6",
   "metadata": {},
   "outputs": [],
   "source": [
    "mean_stage3_bogota1_high_similarity = stage3_bogota1_high_similarity['similarity'].describe().loc['mean']\n",
    "median_stage3_bogota1_high_similarity = stage3_bogota1_high_similarity['similarity'].median()"
   ]
  },
  {
   "cell_type": "code",
   "execution_count": null,
   "id": "d8dddd64",
   "metadata": {},
   "outputs": [],
   "source": [
    "mean_stage4_bogota1_high_similarity = stage4_bogota1_high_similarity['similarity'].describe().loc['mean']\n",
    "median_stage4_bogota1_high_similarity = stage4_bogota1_high_similarity['similarity'].median()"
   ]
  },
  {
   "cell_type": "markdown",
   "id": "9b91298f",
   "metadata": {},
   "source": [
    "## Bogota 2 ( Solution Transparency )"
   ]
  },
  {
   "cell_type": "code",
   "execution_count": null,
   "id": "a4a486de",
   "metadata": {},
   "outputs": [],
   "source": [
    "mean_stage1_bogota2_high_similarity = stage1_bogota2_high_similarity['similarity'].describe().loc['mean']\n",
    "median_stage1_bogota2_high_similarity = stage1_bogota2_high_similarity['similarity'].median()"
   ]
  },
  {
   "cell_type": "code",
   "execution_count": null,
   "id": "f411d9c7",
   "metadata": {},
   "outputs": [],
   "source": [
    "mean_stage2_bogota2_high_similarity = stage2_bogota2_high_similarity['similarity'].describe().loc['mean']\n",
    "median_stage2_bogota2_high_similarity = stage2_bogota2_high_similarity['similarity'].median()"
   ]
  },
  {
   "cell_type": "code",
   "execution_count": null,
   "id": "517f114e",
   "metadata": {},
   "outputs": [],
   "source": [
    "mean_stage3_bogota2_high_similarity = stage3_bogota2_high_similarity['similarity'].describe().loc['mean']\n",
    "median_stage3_bogota2_high_similarity = stage3_bogota2_high_similarity['similarity'].median()"
   ]
  },
  {
   "cell_type": "code",
   "execution_count": null,
   "id": "b4ec2d87",
   "metadata": {},
   "outputs": [],
   "source": [
    "mean_stage4_bogota2_high_similarity = stage4_bogota2_high_similarity['similarity'].describe().loc['mean']\n",
    "median_stage4_bogota2_high_similarity = stage4_bogota2_high_similarity['similarity'].median()"
   ]
  },
  {
   "cell_type": "markdown",
   "id": "3b8250e8",
   "metadata": {},
   "source": [
    "## Bogota 3 ( Full Transparency )"
   ]
  },
  {
   "cell_type": "code",
   "execution_count": null,
   "id": "5958f0af",
   "metadata": {},
   "outputs": [],
   "source": [
    "mean_stage1_bogota3_high_similarity = stage1_bogota3_high_similarity['similarity'].describe().loc['mean']\n",
    "median_stage1_bogota3_high_similarity = stage1_bogota3_high_similarity['similarity'].median()"
   ]
  },
  {
   "cell_type": "code",
   "execution_count": null,
   "id": "0d1c81c5",
   "metadata": {},
   "outputs": [],
   "source": [
    "mean_stage2_bogota3_high_similarity = stage2_bogota3_high_similarity['similarity'].describe().loc['mean']\n",
    "median_stage2_bogota3_high_similarity = stage2_bogota3_high_similarity['similarity'].median()"
   ]
  },
  {
   "cell_type": "code",
   "execution_count": null,
   "id": "f0df4aac",
   "metadata": {},
   "outputs": [],
   "source": [
    "mean_stage3_bogota3_high_similarity = stage3_bogota3_high_similarity['similarity'].describe().loc['mean']\n",
    "median_stage3_bogota3_high_similarity = stage3_bogota3_high_similarity['similarity'].median()"
   ]
  },
  {
   "cell_type": "code",
   "execution_count": null,
   "id": "e2b9e287",
   "metadata": {},
   "outputs": [],
   "source": [
    "mean_stage4_bogota3_high_similarity = stage4_bogota3_high_similarity['similarity'].describe().loc['mean']\n",
    "median_stage4_bogota3_high_similarity = stage4_bogota3_high_similarity['similarity'].median()"
   ]
  },
  {
   "cell_type": "code",
   "execution_count": null,
   "id": "e5528e46",
   "metadata": {},
   "outputs": [],
   "source": [
    "import matplotlib.pyplot as plt\n",
    "\n",
    "# Mean Scores of All Groups [ Tech Scores ]\n",
    "\n",
    "y1 = [mean_stage1_bogota0_high_similarity, mean_stage2_bogota0_high_similarity, mean_stage3_bogota0_high_similarity, mean_stage4_bogota0_high_similarity]\n",
    "y2 = [mean_stage1_bogota1_high_similarity, mean_stage2_bogota1_high_similarity, mean_stage3_bogota1_high_similarity, mean_stage4_bogota1_high_similarity]\n",
    "y3 = [mean_stage1_bogota2_high_similarity, mean_stage2_bogota2_high_similarity, mean_stage3_bogota2_high_similarity, mean_stage4_bogota2_high_similarity]\n",
    "y4 = [mean_stage1_bogota3_high_similarity, mean_stage2_bogota3_high_similarity, mean_stage3_bogota3_high_similarity, mean_stage4_bogota3_high_similarity]\n",
    "\n",
    "\n",
    "x_axis=['Phase 1-2', 'Phase 2-3', 'Phase 3-4', 'Phase 4-5']\n",
    "\n",
    "line3 = plt.plot(x_axis, y1,'bo-',label='Bogota 0 ( No Transparency )') \n",
    "line4 = plt.plot(x_axis, y2,'go-',label='Bogota 1 ( Performance Transparency )') \n",
    "line1 = plt.plot(x_axis, y3,'ko-',label='Bogota 2 ( Solution Transparency )')\n",
    "line2 = plt.plot(x_axis, y4,'ro-',label='Bogota 3 ( Full Transparency )') \n",
    "\n",
    "plt.title(\"Mean Highest Similarity Scores\")\n",
    "plt.ylabel(\"Mean Highest Similarity Scores\")\n",
    "\n",
    "plt.legend(bbox_to_anchor=(1.5, 1),\n",
    "           bbox_transform=plt.gcf().transFigure)"
   ]
  },
  {
   "cell_type": "code",
   "execution_count": null,
   "id": "ef652859",
   "metadata": {},
   "outputs": [],
   "source": [
    "import matplotlib.pyplot as plt\n",
    "\n",
    "# Mean Scores of All Groups [ Tech Scores ]\n",
    "\n",
    "y1 = [median_stage1_bogota0_high_similarity, median_stage2_bogota0_high_similarity, median_stage3_bogota0_high_similarity, median_stage4_bogota0_high_similarity]\n",
    "y2 = [median_stage1_bogota1_high_similarity, median_stage2_bogota1_high_similarity, median_stage3_bogota1_high_similarity, median_stage4_bogota1_high_similarity]\n",
    "y3 = [median_stage1_bogota2_high_similarity, median_stage2_bogota2_high_similarity, median_stage3_bogota2_high_similarity, median_stage4_bogota2_high_similarity]\n",
    "y4 = [median_stage1_bogota3_high_similarity, median_stage2_bogota3_high_similarity, median_stage3_bogota3_high_similarity, median_stage4_bogota3_high_similarity]\n",
    "\n",
    "x_axis=['Phase 1-2', 'Phase 2-3', 'Phase 3-4', 'Phase 4-5']\n",
    "\n",
    "line3 = plt.plot(x_axis, y1,'bo-',label='Bogota 0 ( No Transparency )') \n",
    "line4 = plt.plot(x_axis, y2,'go-',label='Bogota 1 ( Performance Transparency )') \n",
    "line1 = plt.plot(x_axis, y3,'ko-',label='Bogota 2 ( Solution Transparency )')\n",
    "line2 = plt.plot(x_axis, y4,'ro-',label='Bogota 3 ( Full Transparency )') \n",
    "\n",
    "plt.title(\"Median Highest Similarity Scores\")\n",
    "plt.ylabel(\"Median Highest Similarity Scores\")\n",
    "\n",
    "plt.legend(bbox_to_anchor=(1.5, 1),\n",
    "           bbox_transform=plt.gcf().transFigure)"
   ]
  },
  {
   "cell_type": "code",
   "execution_count": null,
   "id": "dd3391c0",
   "metadata": {},
   "outputs": [],
   "source": [
    "median_bogota3_stage4 = stage4_bogota3_high_similarity['similarity'].median()\n",
    "median_bogota3_stage3 = stage3_bogota3_high_similarity['similarity'].median()\n",
    "median_bogota3_stage2 = stage2_bogota3_high_similarity['similarity'].median()\n",
    "median_bogota3_stage1 = stage1_bogota3_high_similarity['similarity'].median()\n",
    "\n",
    "median_bogota2_stage4 = stage4_bogota2_high_similarity['similarity'].median()\n",
    "median_bogota2_stage3 = stage3_bogota2_high_similarity['similarity'].median()\n",
    "median_bogota2_stage2 = stage2_bogota2_high_similarity['similarity'].median()\n",
    "median_bogota2_stage1 = stage1_bogota2_high_similarity['similarity'].median()\n",
    "\n",
    "median_bogota1_stage4 = stage4_bogota1_high_similarity['similarity'].median()\n",
    "median_bogota1_stage3 = stage3_bogota1_high_similarity['similarity'].median()\n",
    "median_bogota1_stage2 = stage2_bogota1_high_similarity['similarity'].median()\n",
    "median_bogota1_stage1 = stage1_bogota1_high_similarity['similarity'].median()\n",
    "\n",
    "median_bogota0_stage4 = stage4_bogota0_high_similarity['similarity'].median()\n",
    "median_bogota0_stage3 = stage3_bogota0_high_similarity['similarity'].median()\n",
    "median_bogota0_stage2 = stage2_bogota0_high_similarity['similarity'].median()\n",
    "median_bogota0_stage1 = stage1_bogota0_high_similarity['similarity'].median()"
   ]
  },
  {
   "cell_type": "code",
   "execution_count": null,
   "id": "8d054cc4",
   "metadata": {},
   "outputs": [],
   "source": [
    "import matplotlib.pyplot as plt\n",
    "\n",
    "# Mean Scores of All Groups [ Tech Scores ]\n",
    "\n",
    "y1 = [median_bogota0_stage1, median_bogota0_stage2, median_bogota0_stage3, median_bogota0_stage4 ]\n",
    "y2 = [median_bogota1_stage1, median_bogota1_stage2, median_bogota1_stage3, median_bogota1_stage4 ]\n",
    "y3 = [median_bogota2_stage1, median_bogota2_stage2, median_bogota2_stage3, median_bogota2_stage4 ]\n",
    "y4 = [median_bogota3_stage1, median_bogota3_stage2, median_bogota3_stage3, median_bogota3_stage4 ]\n",
    "\n",
    "\n",
    "x_axis=['Phase 1-2', 'Phase 2-3', 'Phase 3-4', 'Phase 4-5']\n",
    "\n",
    "line3 = plt.plot(x_axis, y1,'bo-',label='Bogota 0 ( No Transparency )') \n",
    "line4 = plt.plot(x_axis, y2,'go-',label='Bogota 1 ( Performance Transparency )') \n",
    "line1 = plt.plot(x_axis, y3,'ko-',label='Bogota 2 ( Solution Transparency )')\n",
    "line2 = plt.plot(x_axis, y4,'ro-',label='Bogota 3 ( Full Transparency )') \n",
    "\n",
    "plt.title(\"Highest Similarity\")\n",
    "plt.ylabel(\"Highest Similarity Scores\")\n",
    "\n",
    "plt.legend(bbox_to_anchor=(1.5, 1),\n",
    "           bbox_transform=plt.gcf().transFigure)"
   ]
  },
  {
   "cell_type": "markdown",
   "id": "c1c627a3",
   "metadata": {},
   "source": [
    ">> Distance from the mean and median of the groups "
   ]
  },
  {
   "cell_type": "markdown",
   "id": "e88fa297",
   "metadata": {},
   "source": [
    ">> This might be because the overall sample of functionality is small for the no transparency case. \n",
    ">> We need to get the whole sample. We need to calculate the novelty measure based on the similarity compared to the entire sample in the whole phases. "
   ]
  },
  {
   "cell_type": "code",
   "execution_count": null,
   "id": "b1c765b6",
   "metadata": {},
   "outputs": [],
   "source": [
    "out"
   ]
  },
  {
   "cell_type": "code",
   "execution_count": null,
   "id": "2d66deed",
   "metadata": {},
   "outputs": [],
   "source": [
    "## Remove all duplicates and empty string from the entire function list\n",
    "\n",
    "overall_12 = overall_phase1.append(overall_phase2, ignore_index=True)\n",
    "overall_23 = overall_12.append(overall_phase3, ignore_index=True)\n",
    "overall_34 = overall_23.append(overall_phase4, ignore_index=True)\n",
    "overall_45 = overall_34.append(overall_phase5, ignore_index=True)\n",
    "overall_45['functions'].replace('', np.nan, inplace=True)\n",
    "overall_45.dropna(subset=['functions'], inplace=True)\n",
    "overall_45_functions = overall_45['functions'].to_list()\n",
    "string = \" \".join(overall_45_functions)\n",
    "x = string.split(\",\")\n",
    "remove_duplicates = list(set(x))\n",
    "remove_all_duplicates = list(filter(None, remove_duplicates))\n",
    "total_unique_functions_global = len(remove_all_duplicates)"
   ]
  },
  {
   "cell_type": "code",
   "execution_count": null,
   "id": "f8b2aee6",
   "metadata": {},
   "outputs": [],
   "source": [
    "str1 = ','.join(remove_all_duplicates)\n",
    "#subset_bogota0_phase5.loc[len(subset_bogota0_phase5.index)] = ['all', str1, 0]\n",
    "str1"
   ]
  },
  {
   "cell_type": "code",
   "execution_count": null,
   "id": "4a5c96bc",
   "metadata": {},
   "outputs": [],
   "source": [
    "global_functions = {'Student': ['all'], 'functions': str1, 'phase': [0]}\n",
    "global_functions = pd.DataFrame(data=global_functions)\n",
    "global_functions"
   ]
  },
  {
   "cell_type": "markdown",
   "id": "1383c1fb",
   "metadata": {},
   "source": [
    "## Append Global Functions with Bogota 0 Phase 5"
   ]
  },
  {
   "cell_type": "code",
   "execution_count": null,
   "id": "d68a875d",
   "metadata": {},
   "outputs": [],
   "source": [
    "subset_bogota0_phase5_all = subset_bogota0_phase5.append(global_functions, ignore_index=True)\n",
    "print(subset_bogota0_phase5_all)"
   ]
  },
  {
   "cell_type": "code",
   "execution_count": null,
   "id": "c147aaae",
   "metadata": {},
   "outputs": [],
   "source": [
    "import itertools\n",
    "import pandas as pd\n",
    "\n",
    "overall_phase4_bogota3 = overall_phase4_bogota3[overall_phase4_bogota3.functions != '']\n",
    "\n",
    "# copied from OP above\n",
    "def jaccard_similarity(x, y):\n",
    "    \"\"\" returns the jaccard similarity between two lists \"\"\"\n",
    "    intersection_cardinality = len(set.intersection(*[set(x), set(y)]))\n",
    "    union_cardinality = len(set.union(*[set(x), set(y)]))\n",
    "    return intersection_cardinality/float(union_cardinality)\n",
    "\n",
    "# create list of tuples like [(wording, user), (wording, user)]\n",
    "wordings_users = list(zip(subset_bogota0_phase5_all[\"functions\"], subset_bogota0_phase5_all[\"Student\"]))\n",
    "\n",
    "result = []\n",
    "\n",
    "# create list of all possible combinations between sets of (wording, user) and loop through them\n",
    "for item in list(itertools.combinations(wordings_users, 2)):\n",
    "    similarity = jaccard_similarity(item[0][0], item[1][0])\n",
    "    data = {\"user1\": item[0][1], \"user2\": item[1][1], \"similarity\": similarity}\n",
    "    result.append(data)\n",
    "\n",
    "subset_bogota0_phase5_compare_all = pd.DataFrame(result)\n",
    "subset_bogota0_phase5_compare_all"
   ]
  },
  {
   "cell_type": "code",
   "execution_count": null,
   "id": "1b30a508",
   "metadata": {},
   "outputs": [],
   "source": [
    "subset_bogota0_phase5_all_only = subset_bogota0_phase5_compare_all.loc[subset_bogota0_phase5_compare_all['user2'] == 'all']\n",
    "subset_bogota0_phase5_all_only"
   ]
  },
  {
   "cell_type": "markdown",
   "id": "856125c3",
   "metadata": {},
   "source": [
    "## Append Global Functions with Bogota 0 Phase 4"
   ]
  },
  {
   "cell_type": "code",
   "execution_count": null,
   "id": "e0b6e94f",
   "metadata": {},
   "outputs": [],
   "source": [
    "subset_bogota0_phase4_all = subset_bogota0_phase4.append(global_functions, ignore_index=True)\n",
    "print(subset_bogota0_phase4_all)"
   ]
  },
  {
   "cell_type": "code",
   "execution_count": null,
   "id": "189a1232",
   "metadata": {},
   "outputs": [],
   "source": [
    "import itertools\n",
    "import pandas as pd\n",
    "\n",
    "overall_phase4_bogota3 = overall_phase4_bogota3[overall_phase4_bogota3.functions != '']\n",
    "\n",
    "# copied from OP above\n",
    "def jaccard_similarity(x, y):\n",
    "    \"\"\" returns the jaccard similarity between two lists \"\"\"\n",
    "    intersection_cardinality = len(set.intersection(*[set(x), set(y)]))\n",
    "    union_cardinality = len(set.union(*[set(x), set(y)]))\n",
    "    return intersection_cardinality/float(union_cardinality)\n",
    "\n",
    "# create list of tuples like [(wording, user), (wording, user)]\n",
    "wordings_users = list(zip(subset_bogota0_phase4_all[\"functions\"], subset_bogota0_phase4_all[\"Student\"]))\n",
    "\n",
    "result = []\n",
    "\n",
    "# create list of all possible combinations between sets of (wording, user) and loop through them\n",
    "for item in list(itertools.combinations(wordings_users, 2)):\n",
    "    similarity = jaccard_similarity(item[0][0], item[1][0])\n",
    "    data = {\"user1\": item[0][1], \"user2\": item[1][1], \"similarity\": similarity}\n",
    "    result.append(data)\n",
    "\n",
    "subset_bogota0_phase4_compare_all = pd.DataFrame(result)\n",
    "subset_bogota0_phase4_compare_all"
   ]
  },
  {
   "cell_type": "code",
   "execution_count": null,
   "id": "b5889297",
   "metadata": {},
   "outputs": [],
   "source": [
    "subset_bogota0_phase4_all_only = subset_bogota0_phase4_compare_all.loc[subset_bogota0_phase4_compare_all['user2'] == 'all']\n",
    "subset_bogota0_phase4_all_only"
   ]
  },
  {
   "cell_type": "markdown",
   "id": "3a0597a6",
   "metadata": {},
   "source": [
    "## Append Global Functions with Bogota 0 Phase 3"
   ]
  },
  {
   "cell_type": "code",
   "execution_count": null,
   "id": "1ec2ecd9",
   "metadata": {},
   "outputs": [],
   "source": [
    "subset_bogota0_phase3_all = subset_bogota0_phase3.append(global_functions, ignore_index=True)\n",
    "print(subset_bogota0_phase3_all)"
   ]
  },
  {
   "cell_type": "code",
   "execution_count": null,
   "id": "62a0ad93",
   "metadata": {},
   "outputs": [],
   "source": [
    "import itertools\n",
    "import pandas as pd\n",
    "\n",
    "overall_phase4_bogota3 = overall_phase4_bogota3[overall_phase4_bogota3.functions != '']\n",
    "\n",
    "# copied from OP above\n",
    "def jaccard_similarity(x, y):\n",
    "    \"\"\" returns the jaccard similarity between two lists \"\"\"\n",
    "    intersection_cardinality = len(set.intersection(*[set(x), set(y)]))\n",
    "    union_cardinality = len(set.union(*[set(x), set(y)]))\n",
    "    return intersection_cardinality/float(union_cardinality)\n",
    "\n",
    "# create list of tuples like [(wording, user), (wording, user)]\n",
    "wordings_users = list(zip(subset_bogota0_phase3_all[\"functions\"], subset_bogota0_phase3_all[\"Student\"]))\n",
    "\n",
    "result = []\n",
    "\n",
    "# create list of all possible combinations between sets of (wording, user) and loop through them\n",
    "for item in list(itertools.combinations(wordings_users, 2)):\n",
    "    similarity = jaccard_similarity(item[0][0], item[1][0])\n",
    "    data = {\"user1\": item[0][1], \"user2\": item[1][1], \"similarity\": similarity}\n",
    "    result.append(data)\n",
    "\n",
    "subset_bogota0_phase3_compare_all = pd.DataFrame(result)\n",
    "subset_bogota0_phase3_compare_all"
   ]
  },
  {
   "cell_type": "code",
   "execution_count": null,
   "id": "3507ad12",
   "metadata": {},
   "outputs": [],
   "source": [
    "subset_bogota0_phase3_all_only = subset_bogota0_phase3_compare_all.loc[subset_bogota0_phase3_compare_all['user2'] == 'all']\n",
    "subset_bogota0_phase3_all_only"
   ]
  },
  {
   "cell_type": "markdown",
   "id": "2af5b0af",
   "metadata": {},
   "source": [
    "## Append Global Functions with Bogota 0 Phase 2"
   ]
  },
  {
   "cell_type": "code",
   "execution_count": null,
   "id": "daa60a1c",
   "metadata": {},
   "outputs": [],
   "source": [
    "subset_bogota0_phase2_all = subset_bogota0_phase2.append(global_functions, ignore_index=True)\n",
    "print(subset_bogota0_phase2_all)"
   ]
  },
  {
   "cell_type": "code",
   "execution_count": null,
   "id": "231fb87b",
   "metadata": {},
   "outputs": [],
   "source": [
    "import itertools\n",
    "import pandas as pd\n",
    "\n",
    "overall_phase4_bogota3 = overall_phase4_bogota3[overall_phase4_bogota3.functions != '']\n",
    "\n",
    "# copied from OP above\n",
    "def jaccard_similarity(x, y):\n",
    "    \"\"\" returns the jaccard similarity between two lists \"\"\"\n",
    "    intersection_cardinality = len(set.intersection(*[set(x), set(y)]))\n",
    "    union_cardinality = len(set.union(*[set(x), set(y)]))\n",
    "    return intersection_cardinality/float(union_cardinality)\n",
    "\n",
    "# create list of tuples like [(wording, user), (wording, user)]\n",
    "wordings_users = list(zip(subset_bogota0_phase2_all[\"functions\"], subset_bogota0_phase2_all[\"Student\"]))\n",
    "\n",
    "result = []\n",
    "\n",
    "# create list of all possible combinations between sets of (wording, user) and loop through them\n",
    "for item in list(itertools.combinations(wordings_users, 2)):\n",
    "    similarity = jaccard_similarity(item[0][0], item[1][0])\n",
    "    data = {\"user1\": item[0][1], \"user2\": item[1][1], \"similarity\": similarity}\n",
    "    result.append(data)\n",
    "\n",
    "subset_bogota0_phase2_compare_all = pd.DataFrame(result)\n",
    "subset_bogota0_phase2_compare_all"
   ]
  },
  {
   "cell_type": "code",
   "execution_count": null,
   "id": "26e0d2d9",
   "metadata": {},
   "outputs": [],
   "source": [
    "subset_bogota0_phase2_all_only = subset_bogota0_phase2_compare_all.loc[subset_bogota0_phase2_compare_all['user2'] == 'all']\n",
    "subset_bogota0_phase2_all_only"
   ]
  },
  {
   "cell_type": "markdown",
   "id": "f37f799d",
   "metadata": {},
   "source": [
    "## Append Global Functions with Bogota 0 Phase 1"
   ]
  },
  {
   "cell_type": "code",
   "execution_count": null,
   "id": "b84cb4f7",
   "metadata": {},
   "outputs": [],
   "source": [
    "subset_bogota0_phase1_all = subset_bogota0_phase1.append(global_functions, ignore_index=True)\n",
    "print(subset_bogota0_phase1_all)"
   ]
  },
  {
   "cell_type": "code",
   "execution_count": null,
   "id": "de0511b5",
   "metadata": {},
   "outputs": [],
   "source": [
    "import itertools\n",
    "import pandas as pd\n",
    "\n",
    "overall_phase4_bogota3 = overall_phase4_bogota3[overall_phase4_bogota3.functions != '']\n",
    "\n",
    "# copied from OP above\n",
    "def jaccard_similarity(x, y):\n",
    "    \"\"\" returns the jaccard similarity between two lists \"\"\"\n",
    "    intersection_cardinality = len(set.intersection(*[set(x), set(y)]))\n",
    "    union_cardinality = len(set.union(*[set(x), set(y)]))\n",
    "    return intersection_cardinality/float(union_cardinality)\n",
    "\n",
    "# create list of tuples like [(wording, user), (wording, user)]\n",
    "wordings_users = list(zip(subset_bogota0_phase1_all[\"functions\"], subset_bogota0_phase1_all[\"Student\"]))\n",
    "\n",
    "result = []\n",
    "\n",
    "# create list of all possible combinations between sets of (wording, user) and loop through them\n",
    "for item in list(itertools.combinations(wordings_users, 2)):\n",
    "    similarity = jaccard_similarity(item[0][0], item[1][0])\n",
    "    data = {\"user1\": item[0][1], \"user2\": item[1][1], \"similarity\": similarity}\n",
    "    result.append(data)\n",
    "\n",
    "subset_bogota0_phase1_compare_all = pd.DataFrame(result)\n",
    "subset_bogota0_phase1_compare_all"
   ]
  },
  {
   "cell_type": "code",
   "execution_count": null,
   "id": "51d48477",
   "metadata": {},
   "outputs": [],
   "source": [
    "subset_bogota0_phase1_all_only = subset_bogota0_phase1_compare_all.loc[subset_bogota0_phase1_compare_all['user2'] == 'all']\n",
    "subset_bogota0_phase1_all_only"
   ]
  },
  {
   "cell_type": "markdown",
   "id": "40df84d1",
   "metadata": {},
   "source": [
    "## Append Global Functions with Bogota 1 Phase 5"
   ]
  },
  {
   "cell_type": "code",
   "execution_count": null,
   "id": "1550bd27",
   "metadata": {},
   "outputs": [],
   "source": [
    "subset_bogota1_phase5_all = subset_bogota1_phase5.append(global_functions, ignore_index=True)\n",
    "print(subset_bogota1_phase5_all)"
   ]
  },
  {
   "cell_type": "code",
   "execution_count": null,
   "id": "05441494",
   "metadata": {},
   "outputs": [],
   "source": [
    "import itertools\n",
    "import pandas as pd\n",
    "\n",
    "overall_phase4_bogota3 = overall_phase4_bogota3[overall_phase4_bogota3.functions != '']\n",
    "\n",
    "# copied from OP above\n",
    "def jaccard_similarity(x, y):\n",
    "    \"\"\" returns the jaccard similarity between two lists \"\"\"\n",
    "    intersection_cardinality = len(set.intersection(*[set(x), set(y)]))\n",
    "    union_cardinality = len(set.union(*[set(x), set(y)]))\n",
    "    return intersection_cardinality/float(union_cardinality)\n",
    "\n",
    "# create list of tuples like [(wording, user), (wording, user)]\n",
    "wordings_users = list(zip(subset_bogota1_phase5_all[\"functions\"], subset_bogota1_phase5_all[\"Student\"]))\n",
    "\n",
    "result = []\n",
    "\n",
    "# create list of all possible combinations between sets of (wording, user) and loop through them\n",
    "for item in list(itertools.combinations(wordings_users, 2)):\n",
    "    similarity = jaccard_similarity(item[0][0], item[1][0])\n",
    "    data = {\"user1\": item[0][1], \"user2\": item[1][1], \"similarity\": similarity}\n",
    "    result.append(data)\n",
    "\n",
    "subset_bogota1_phase5_compare_all = pd.DataFrame(result)\n",
    "subset_bogota1_phase5_compare_all"
   ]
  },
  {
   "cell_type": "code",
   "execution_count": null,
   "id": "82260fd3",
   "metadata": {},
   "outputs": [],
   "source": [
    "subset_bogota1_phase5_all_only = subset_bogota1_phase5_compare_all.loc[subset_bogota1_phase5_compare_all['user2'] == 'all']\n",
    "subset_bogota1_phase5_all_only"
   ]
  },
  {
   "cell_type": "markdown",
   "id": "33f0ddfb",
   "metadata": {},
   "source": [
    "## Append Global Functions with Bogota 1 Phase 4"
   ]
  },
  {
   "cell_type": "code",
   "execution_count": null,
   "id": "75a13be9",
   "metadata": {},
   "outputs": [],
   "source": [
    "subset_bogota1_phase4_all = subset_bogota1_phase4.append(global_functions, ignore_index=True)\n",
    "print(subset_bogota1_phase4_all)"
   ]
  },
  {
   "cell_type": "code",
   "execution_count": null,
   "id": "e606ea62",
   "metadata": {},
   "outputs": [],
   "source": [
    "import itertools\n",
    "import pandas as pd\n",
    "\n",
    "overall_phase4_bogota3 = overall_phase4_bogota3[overall_phase4_bogota3.functions != '']\n",
    "\n",
    "# copied from OP above\n",
    "def jaccard_similarity(x, y):\n",
    "    \"\"\" returns the jaccard similarity between two lists \"\"\"\n",
    "    intersection_cardinality = len(set.intersection(*[set(x), set(y)]))\n",
    "    union_cardinality = len(set.union(*[set(x), set(y)]))\n",
    "    return intersection_cardinality/float(union_cardinality)\n",
    "\n",
    "# create list of tuples like [(wording, user), (wording, user)]\n",
    "wordings_users = list(zip(subset_bogota1_phase4_all[\"functions\"], subset_bogota1_phase4_all[\"Student\"]))\n",
    "\n",
    "result = []\n",
    "\n",
    "# create list of all possible combinations between sets of (wording, user) and loop through them\n",
    "for item in list(itertools.combinations(wordings_users, 2)):\n",
    "    similarity = jaccard_similarity(item[0][0], item[1][0])\n",
    "    data = {\"user1\": item[0][1], \"user2\": item[1][1], \"similarity\": similarity}\n",
    "    result.append(data)\n",
    "\n",
    "subset_bogota1_phase4_compare_all = pd.DataFrame(result)\n",
    "subset_bogota1_phase4_compare_all"
   ]
  },
  {
   "cell_type": "code",
   "execution_count": null,
   "id": "2632cd45",
   "metadata": {},
   "outputs": [],
   "source": [
    "subset_bogota1_phase4_all_only = subset_bogota1_phase4_compare_all.loc[subset_bogota1_phase4_compare_all['user2'] == 'all']\n",
    "subset_bogota1_phase4_all_only"
   ]
  },
  {
   "cell_type": "markdown",
   "id": "7c62dd26",
   "metadata": {},
   "source": [
    "## Append Global Functions with Bogota 1 Phase 3"
   ]
  },
  {
   "cell_type": "code",
   "execution_count": null,
   "id": "b2c5537b",
   "metadata": {},
   "outputs": [],
   "source": [
    "subset_bogota1_phase3_all = subset_bogota1_phase3.append(global_functions, ignore_index=True)\n",
    "print(subset_bogota1_phase3_all)"
   ]
  },
  {
   "cell_type": "code",
   "execution_count": null,
   "id": "67e9c682",
   "metadata": {},
   "outputs": [],
   "source": [
    "import itertools\n",
    "import pandas as pd\n",
    "\n",
    "overall_phase4_bogota3 = overall_phase4_bogota3[overall_phase4_bogota3.functions != '']\n",
    "\n",
    "# copied from OP above\n",
    "def jaccard_similarity(x, y):\n",
    "    \"\"\" returns the jaccard similarity between two lists \"\"\"\n",
    "    intersection_cardinality = len(set.intersection(*[set(x), set(y)]))\n",
    "    union_cardinality = len(set.union(*[set(x), set(y)]))\n",
    "    return intersection_cardinality/float(union_cardinality)\n",
    "\n",
    "# create list of tuples like [(wording, user), (wording, user)]\n",
    "wordings_users = list(zip(subset_bogota1_phase3_all[\"functions\"], subset_bogota1_phase3_all[\"Student\"]))\n",
    "\n",
    "result = []\n",
    "\n",
    "# create list of all possible combinations between sets of (wording, user) and loop through them\n",
    "for item in list(itertools.combinations(wordings_users, 2)):\n",
    "    similarity = jaccard_similarity(item[0][0], item[1][0])\n",
    "    data = {\"user1\": item[0][1], \"user2\": item[1][1], \"similarity\": similarity}\n",
    "    result.append(data)\n",
    "\n",
    "subset_bogota1_phase3_compare_all = pd.DataFrame(result)\n",
    "subset_bogota1_phase3_compare_all"
   ]
  },
  {
   "cell_type": "code",
   "execution_count": null,
   "id": "c260fe3d",
   "metadata": {},
   "outputs": [],
   "source": [
    "subset_bogota1_phase3_all_only = subset_bogota1_phase3_compare_all.loc[subset_bogota1_phase3_compare_all['user2'] == 'all']\n",
    "subset_bogota1_phase3_all_only"
   ]
  },
  {
   "cell_type": "markdown",
   "id": "1ccdefca",
   "metadata": {},
   "source": [
    "## Append Global Functions with Bogota 1 Phase 2"
   ]
  },
  {
   "cell_type": "code",
   "execution_count": null,
   "id": "237bdb19",
   "metadata": {},
   "outputs": [],
   "source": [
    "subset_bogota1_phase2_all = subset_bogota1_phase2.append(global_functions, ignore_index=True)\n",
    "print(subset_bogota1_phase2_all)"
   ]
  },
  {
   "cell_type": "code",
   "execution_count": null,
   "id": "8fab5766",
   "metadata": {},
   "outputs": [],
   "source": [
    "import itertools\n",
    "import pandas as pd\n",
    "\n",
    "overall_phase4_bogota3 = overall_phase4_bogota3[overall_phase4_bogota3.functions != '']\n",
    "\n",
    "# copied from OP above\n",
    "def jaccard_similarity(x, y):\n",
    "    \"\"\" returns the jaccard similarity between two lists \"\"\"\n",
    "    intersection_cardinality = len(set.intersection(*[set(x), set(y)]))\n",
    "    union_cardinality = len(set.union(*[set(x), set(y)]))\n",
    "    return intersection_cardinality/float(union_cardinality)\n",
    "\n",
    "# create list of tuples like [(wording, user), (wording, user)]\n",
    "wordings_users = list(zip(subset_bogota1_phase2_all[\"functions\"], subset_bogota1_phase2_all[\"Student\"]))\n",
    "\n",
    "result = []\n",
    "\n",
    "# create list of all possible combinations between sets of (wording, user) and loop through them\n",
    "for item in list(itertools.combinations(wordings_users, 2)):\n",
    "    similarity = jaccard_similarity(item[0][0], item[1][0])\n",
    "    data = {\"user1\": item[0][1], \"user2\": item[1][1], \"similarity\": similarity}\n",
    "    result.append(data)\n",
    "\n",
    "subset_bogota1_phase2_compare_all = pd.DataFrame(result)\n",
    "subset_bogota1_phase2_compare_all"
   ]
  },
  {
   "cell_type": "code",
   "execution_count": null,
   "id": "69926daa",
   "metadata": {},
   "outputs": [],
   "source": [
    "subset_bogota1_phase2_all_only = subset_bogota1_phase2_compare_all.loc[subset_bogota1_phase2_compare_all['user2'] == 'all']\n",
    "subset_bogota1_phase2_all_only"
   ]
  },
  {
   "cell_type": "markdown",
   "id": "050b9f3f",
   "metadata": {},
   "source": [
    "## Append Global Functions with Bogota 1 Phase 1"
   ]
  },
  {
   "cell_type": "code",
   "execution_count": null,
   "id": "76b4745c",
   "metadata": {},
   "outputs": [],
   "source": [
    "subset_bogota1_phase1_all = subset_bogota1_phase1.append(global_functions, ignore_index=True)\n",
    "print(subset_bogota1_phase1_all)"
   ]
  },
  {
   "cell_type": "code",
   "execution_count": null,
   "id": "1a4297a1",
   "metadata": {},
   "outputs": [],
   "source": [
    "import itertools\n",
    "import pandas as pd\n",
    "\n",
    "overall_phase4_bogota3 = overall_phase4_bogota3[overall_phase4_bogota3.functions != '']\n",
    "\n",
    "# copied from OP above\n",
    "def jaccard_similarity(x, y):\n",
    "    \"\"\" returns the jaccard similarity between two lists \"\"\"\n",
    "    intersection_cardinality = len(set.intersection(*[set(x), set(y)]))\n",
    "    union_cardinality = len(set.union(*[set(x), set(y)]))\n",
    "    return intersection_cardinality/float(union_cardinality)\n",
    "\n",
    "# create list of tuples like [(wording, user), (wording, user)]\n",
    "wordings_users = list(zip(subset_bogota1_phase1_all[\"functions\"], subset_bogota1_phase1_all[\"Student\"]))\n",
    "\n",
    "result = []\n",
    "\n",
    "# create list of all possible combinations between sets of (wording, user) and loop through them\n",
    "for item in list(itertools.combinations(wordings_users, 2)):\n",
    "    similarity = jaccard_similarity(item[0][0], item[1][0])\n",
    "    data = {\"user1\": item[0][1], \"user2\": item[1][1], \"similarity\": similarity}\n",
    "    result.append(data)\n",
    "\n",
    "subset_bogota1_phase1_compare_all = pd.DataFrame(result)\n",
    "subset_bogota1_phase1_compare_all"
   ]
  },
  {
   "cell_type": "code",
   "execution_count": null,
   "id": "2783e1e4",
   "metadata": {},
   "outputs": [],
   "source": [
    "subset_bogota1_phase1_all_only = subset_bogota1_phase1_compare_all.loc[subset_bogota1_phase1_compare_all['user2'] == 'all']\n",
    "subset_bogota1_phase1_all_only"
   ]
  },
  {
   "cell_type": "markdown",
   "id": "419cdbc1",
   "metadata": {},
   "source": [
    "## Append Global Functions with Bogota 2 Phase 5"
   ]
  },
  {
   "cell_type": "code",
   "execution_count": null,
   "id": "a191ec77",
   "metadata": {},
   "outputs": [],
   "source": [
    "subset_bogota2_phase5_all = subset_bogota2_phase5.append(global_functions, ignore_index=True)\n",
    "print(subset_bogota2_phase5_all)"
   ]
  },
  {
   "cell_type": "code",
   "execution_count": null,
   "id": "eaf85a54",
   "metadata": {},
   "outputs": [],
   "source": [
    "import itertools\n",
    "import pandas as pd\n",
    "\n",
    "overall_phase4_bogota3 = overall_phase4_bogota3[overall_phase4_bogota3.functions != '']\n",
    "\n",
    "# copied from OP above\n",
    "def jaccard_similarity(x, y):\n",
    "    \"\"\" returns the jaccard similarity between two lists \"\"\"\n",
    "    intersection_cardinality = len(set.intersection(*[set(x), set(y)]))\n",
    "    union_cardinality = len(set.union(*[set(x), set(y)]))\n",
    "    return intersection_cardinality/float(union_cardinality)\n",
    "\n",
    "# create list of tuples like [(wording, user), (wording, user)]\n",
    "wordings_users = list(zip(subset_bogota2_phase5_all[\"functions\"], subset_bogota2_phase5_all[\"Student\"]))\n",
    "\n",
    "result = []\n",
    "\n",
    "# create list of all possible combinations between sets of (wording, user) and loop through them\n",
    "for item in list(itertools.combinations(wordings_users, 2)):\n",
    "    similarity = jaccard_similarity(item[0][0], item[1][0])\n",
    "    data = {\"user1\": item[0][1], \"user2\": item[1][1], \"similarity\": similarity}\n",
    "    result.append(data)\n",
    "\n",
    "subset_bogota2_phase5_compare_all = pd.DataFrame(result)\n",
    "subset_bogota2_phase5_compare_all"
   ]
  },
  {
   "cell_type": "code",
   "execution_count": null,
   "id": "ef55ae17",
   "metadata": {},
   "outputs": [],
   "source": [
    "subset_bogota2_phase5_all_only = subset_bogota2_phase5_compare_all.loc[subset_bogota2_phase5_compare_all['user2'] == 'all']\n",
    "subset_bogota2_phase5_all_only"
   ]
  },
  {
   "cell_type": "markdown",
   "id": "efc99839",
   "metadata": {},
   "source": [
    "## Append Global Functions with Bogota 2 Phase 4"
   ]
  },
  {
   "cell_type": "code",
   "execution_count": null,
   "id": "cf8e30c7",
   "metadata": {},
   "outputs": [],
   "source": [
    "subset_bogota2_phase4_all = subset_bogota2_phase4.append(global_functions, ignore_index=True)\n",
    "print(subset_bogota2_phase4_all)"
   ]
  },
  {
   "cell_type": "code",
   "execution_count": null,
   "id": "8c0ea620",
   "metadata": {},
   "outputs": [],
   "source": [
    "import itertools\n",
    "import pandas as pd\n",
    "\n",
    "overall_phase4_bogota3 = overall_phase4_bogota3[overall_phase4_bogota3.functions != '']\n",
    "\n",
    "# copied from OP above\n",
    "def jaccard_similarity(x, y):\n",
    "    \"\"\" returns the jaccard similarity between two lists \"\"\"\n",
    "    intersection_cardinality = len(set.intersection(*[set(x), set(y)]))\n",
    "    union_cardinality = len(set.union(*[set(x), set(y)]))\n",
    "    return intersection_cardinality/float(union_cardinality)\n",
    "\n",
    "# create list of tuples like [(wording, user), (wording, user)]\n",
    "wordings_users = list(zip(subset_bogota2_phase4_all[\"functions\"], subset_bogota2_phase4_all[\"Student\"]))\n",
    "\n",
    "result = []\n",
    "\n",
    "# create list of all possible combinations between sets of (wording, user) and loop through them\n",
    "for item in list(itertools.combinations(wordings_users, 2)):\n",
    "    similarity = jaccard_similarity(item[0][0], item[1][0])\n",
    "    data = {\"user1\": item[0][1], \"user2\": item[1][1], \"similarity\": similarity}\n",
    "    result.append(data)\n",
    "\n",
    "subset_bogota2_phase4_compare_all = pd.DataFrame(result)\n",
    "subset_bogota2_phase4_compare_all"
   ]
  },
  {
   "cell_type": "code",
   "execution_count": null,
   "id": "5ac781dd",
   "metadata": {},
   "outputs": [],
   "source": [
    "subset_bogota2_phase4_all_only = subset_bogota2_phase4_compare_all.loc[subset_bogota2_phase5_compare_all['user2'] == 'all']\n",
    "subset_bogota2_phase4_all_only"
   ]
  },
  {
   "cell_type": "markdown",
   "id": "5f676e7d",
   "metadata": {},
   "source": [
    "## Append Global Functions with Bogota 2 Phase 3"
   ]
  },
  {
   "cell_type": "code",
   "execution_count": null,
   "id": "f50469da",
   "metadata": {},
   "outputs": [],
   "source": [
    "subset_bogota2_phase3_all = subset_bogota2_phase3.append(global_functions, ignore_index=True)\n",
    "print(subset_bogota2_phase3_all)"
   ]
  },
  {
   "cell_type": "code",
   "execution_count": null,
   "id": "5b4b7228",
   "metadata": {},
   "outputs": [],
   "source": [
    "import itertools\n",
    "import pandas as pd\n",
    "\n",
    "overall_phase4_bogota3 = overall_phase4_bogota3[overall_phase4_bogota3.functions != '']\n",
    "\n",
    "# copied from OP above\n",
    "def jaccard_similarity(x, y):\n",
    "    \"\"\" returns the jaccard similarity between two lists \"\"\"\n",
    "    intersection_cardinality = len(set.intersection(*[set(x), set(y)]))\n",
    "    union_cardinality = len(set.union(*[set(x), set(y)]))\n",
    "    return intersection_cardinality/float(union_cardinality)\n",
    "\n",
    "# create list of tuples like [(wording, user), (wording, user)]\n",
    "wordings_users = list(zip(subset_bogota2_phase3_all[\"functions\"], subset_bogota2_phase3_all[\"Student\"]))\n",
    "\n",
    "result = []\n",
    "\n",
    "# create list of all possible combinations between sets of (wording, user) and loop through them\n",
    "for item in list(itertools.combinations(wordings_users, 2)):\n",
    "    similarity = jaccard_similarity(item[0][0], item[1][0])\n",
    "    data = {\"user1\": item[0][1], \"user2\": item[1][1], \"similarity\": similarity}\n",
    "    result.append(data)\n",
    "\n",
    "subset_bogota2_phase3_compare_all = pd.DataFrame(result)\n",
    "subset_bogota2_phase3_compare_all"
   ]
  },
  {
   "cell_type": "code",
   "execution_count": null,
   "id": "ae4ef357",
   "metadata": {},
   "outputs": [],
   "source": [
    "subset_bogota2_phase3_all_only = subset_bogota2_phase3_compare_all.loc[subset_bogota2_phase3_compare_all['user2'] == 'all']\n",
    "subset_bogota2_phase3_all_only"
   ]
  },
  {
   "cell_type": "markdown",
   "id": "5e928c52",
   "metadata": {},
   "source": [
    "## Append Global Functions with Bogota 2 Phase 2"
   ]
  },
  {
   "cell_type": "code",
   "execution_count": null,
   "id": "6b55f83a",
   "metadata": {},
   "outputs": [],
   "source": [
    "subset_bogota2_phase2_all = subset_bogota2_phase2.append(global_functions, ignore_index=True)\n",
    "print(subset_bogota2_phase2_all)"
   ]
  },
  {
   "cell_type": "code",
   "execution_count": null,
   "id": "030b36b2",
   "metadata": {},
   "outputs": [],
   "source": [
    "import itertools\n",
    "import pandas as pd\n",
    "\n",
    "overall_phase4_bogota3 = overall_phase4_bogota3[overall_phase4_bogota3.functions != '']\n",
    "\n",
    "# copied from OP above\n",
    "def jaccard_similarity(x, y):\n",
    "    \"\"\" returns the jaccard similarity between two lists \"\"\"\n",
    "    intersection_cardinality = len(set.intersection(*[set(x), set(y)]))\n",
    "    union_cardinality = len(set.union(*[set(x), set(y)]))\n",
    "    return intersection_cardinality/float(union_cardinality)\n",
    "\n",
    "# create list of tuples like [(wording, user), (wording, user)]\n",
    "wordings_users = list(zip(subset_bogota2_phase2_all[\"functions\"], subset_bogota2_phase2_all[\"Student\"]))\n",
    "\n",
    "result = []\n",
    "\n",
    "# create list of all possible combinations between sets of (wording, user) and loop through them\n",
    "for item in list(itertools.combinations(wordings_users, 2)):\n",
    "    similarity = jaccard_similarity(item[0][0], item[1][0])\n",
    "    data = {\"user1\": item[0][1], \"user2\": item[1][1], \"similarity\": similarity}\n",
    "    result.append(data)\n",
    "\n",
    "subset_bogota2_phase2_compare_all = pd.DataFrame(result)\n",
    "subset_bogota2_phase2_compare_all"
   ]
  },
  {
   "cell_type": "code",
   "execution_count": null,
   "id": "5b5d6c7a",
   "metadata": {},
   "outputs": [],
   "source": [
    "subset_bogota2_phase2_all_only = subset_bogota2_phase2_compare_all.loc[subset_bogota2_phase2_compare_all['user2'] == 'all']\n",
    "subset_bogota2_phase2_all_only"
   ]
  },
  {
   "cell_type": "markdown",
   "id": "649f34c8",
   "metadata": {},
   "source": [
    "## Append Global Functions with Bogota 2 Phase 1"
   ]
  },
  {
   "cell_type": "code",
   "execution_count": null,
   "id": "86ca6e24",
   "metadata": {},
   "outputs": [],
   "source": [
    "subset_bogota2_phase1_all = subset_bogota2_phase1.append(global_functions, ignore_index=True)\n",
    "print(subset_bogota2_phase1_all)"
   ]
  },
  {
   "cell_type": "code",
   "execution_count": null,
   "id": "e0f83940",
   "metadata": {},
   "outputs": [],
   "source": [
    "import itertools\n",
    "import pandas as pd\n",
    "\n",
    "overall_phase4_bogota3 = overall_phase4_bogota3[overall_phase4_bogota3.functions != '']\n",
    "\n",
    "# copied from OP above\n",
    "def jaccard_similarity(x, y):\n",
    "    \"\"\" returns the jaccard similarity between two lists \"\"\"\n",
    "    intersection_cardinality = len(set.intersection(*[set(x), set(y)]))\n",
    "    union_cardinality = len(set.union(*[set(x), set(y)]))\n",
    "    return intersection_cardinality/float(union_cardinality)\n",
    "\n",
    "# create list of tuples like [(wording, user), (wording, user)]\n",
    "wordings_users = list(zip(subset_bogota2_phase1_all[\"functions\"], subset_bogota2_phase1_all[\"Student\"]))\n",
    "\n",
    "result = []\n",
    "\n",
    "# create list of all possible combinations between sets of (wording, user) and loop through them\n",
    "for item in list(itertools.combinations(wordings_users, 2)):\n",
    "    similarity = jaccard_similarity(item[0][0], item[1][0])\n",
    "    data = {\"user1\": item[0][1], \"user2\": item[1][1], \"similarity\": similarity}\n",
    "    result.append(data)\n",
    "\n",
    "subset_bogota2_phase1_compare_all = pd.DataFrame(result)\n",
    "subset_bogota2_phase1_compare_all"
   ]
  },
  {
   "cell_type": "code",
   "execution_count": null,
   "id": "220b9f13",
   "metadata": {},
   "outputs": [],
   "source": [
    "subset_bogota2_phase1_all_only = subset_bogota2_phase1_compare_all.loc[subset_bogota2_phase1_compare_all['user2'] == 'all']\n",
    "subset_bogota2_phase1_all_only"
   ]
  },
  {
   "cell_type": "markdown",
   "id": "b0215197",
   "metadata": {},
   "source": [
    "## Append Global Functions with Bogota 3 Phase 5"
   ]
  },
  {
   "cell_type": "code",
   "execution_count": null,
   "id": "62dec0a4",
   "metadata": {},
   "outputs": [],
   "source": [
    "overall_phase5_bogota3_all = overall_phase5_bogota3.append(global_functions, ignore_index=True)\n"
   ]
  },
  {
   "cell_type": "code",
   "execution_count": null,
   "id": "0fb642cc",
   "metadata": {},
   "outputs": [],
   "source": [
    "import itertools\n",
    "import pandas as pd\n",
    "\n",
    "overall_phase4_bogota3 = overall_phase4_bogota3[overall_phase4_bogota3.functions != '']\n",
    "\n",
    "# copied from OP above\n",
    "def jaccard_similarity(x, y):\n",
    "    \"\"\" returns the jaccard similarity between two lists \"\"\"\n",
    "    intersection_cardinality = len(set.intersection(*[set(x), set(y)]))\n",
    "    union_cardinality = len(set.union(*[set(x), set(y)]))\n",
    "    return intersection_cardinality/float(union_cardinality)\n",
    "\n",
    "# create list of tuples like [(wording, user), (wording, user)]\n",
    "wordings_users = list(zip(overall_phase5_bogota3_all[\"functions\"], overall_phase5_bogota3_all[\"Student\"]))\n",
    "\n",
    "result = []\n",
    "\n",
    "# create list of all possible combinations between sets of (wording, user) and loop through them\n",
    "for item in list(itertools.combinations(wordings_users, 2)):\n",
    "    similarity = jaccard_similarity(item[0][0], item[1][0])\n",
    "    data = {\"user1\": item[0][1], \"user2\": item[1][1], \"similarity\": similarity}\n",
    "    result.append(data)\n",
    "\n",
    "overall_phase5_bogota3_compare_all = pd.DataFrame(result)\n",
    "overall_phase5_bogota3_compare_all"
   ]
  },
  {
   "cell_type": "code",
   "execution_count": null,
   "id": "e8d07b4f",
   "metadata": {},
   "outputs": [],
   "source": [
    "overall_phase5_bogota3_all_only = overall_phase5_bogota3_compare_all.loc[overall_phase5_bogota3_compare_all['user2'] == 'all']\n",
    "overall_phase5_bogota3_all_only"
   ]
  },
  {
   "cell_type": "markdown",
   "id": "e9d1eacc",
   "metadata": {},
   "source": [
    "## Append Global Functions with Bogota 3 Phase 4"
   ]
  },
  {
   "cell_type": "code",
   "execution_count": null,
   "id": "14e1023e",
   "metadata": {},
   "outputs": [],
   "source": [
    "overall_phase4_bogota3_all = overall_phase4_bogota3.append(global_functions, ignore_index=True)"
   ]
  },
  {
   "cell_type": "code",
   "execution_count": null,
   "id": "53b4e534",
   "metadata": {},
   "outputs": [],
   "source": [
    "import itertools\n",
    "import pandas as pd\n",
    "\n",
    "overall_phase4_bogota3 = overall_phase4_bogota3[overall_phase4_bogota3.functions != '']\n",
    "\n",
    "# copied from OP above\n",
    "def jaccard_similarity(x, y):\n",
    "    \"\"\" returns the jaccard similarity between two lists \"\"\"\n",
    "    intersection_cardinality = len(set.intersection(*[set(x), set(y)]))\n",
    "    union_cardinality = len(set.union(*[set(x), set(y)]))\n",
    "    return intersection_cardinality/float(union_cardinality)\n",
    "\n",
    "# create list of tuples like [(wording, user), (wording, user)]\n",
    "wordings_users = list(zip(overall_phase4_bogota3_all[\"functions\"], overall_phase4_bogota3_all[\"Student\"]))\n",
    "\n",
    "result = []\n",
    "\n",
    "# create list of all possible combinations between sets of (wording, user) and loop through them\n",
    "for item in list(itertools.combinations(wordings_users, 2)):\n",
    "    similarity = jaccard_similarity(item[0][0], item[1][0])\n",
    "    data = {\"user1\": item[0][1], \"user2\": item[1][1], \"similarity\": similarity}\n",
    "    result.append(data)\n",
    "\n",
    "overall_phase4_bogota3_compare_all = pd.DataFrame(result)\n",
    "overall_phase4_bogota3_compare_all"
   ]
  },
  {
   "cell_type": "code",
   "execution_count": null,
   "id": "9d9c0ef0",
   "metadata": {},
   "outputs": [],
   "source": [
    "overall_phase4_bogota3_all_only = overall_phase4_bogota3_compare_all.loc[overall_phase4_bogota3_compare_all['user2'] == 'all']\n",
    "overall_phase4_bogota3_all_only"
   ]
  },
  {
   "cell_type": "markdown",
   "id": "7809fee9",
   "metadata": {},
   "source": [
    "## Append Global Functions with Bogota 3 Phase 3"
   ]
  },
  {
   "cell_type": "code",
   "execution_count": null,
   "id": "92fe1b93",
   "metadata": {},
   "outputs": [],
   "source": [
    "subset_bogota3_phase3_all = subset_bogota3_phase3.append(global_functions, ignore_index=True)\n",
    "print(subset_bogota3_phase3_all)"
   ]
  },
  {
   "cell_type": "code",
   "execution_count": null,
   "id": "1cc131ca",
   "metadata": {},
   "outputs": [],
   "source": [
    "import itertools\n",
    "import pandas as pd\n",
    "\n",
    "overall_phase4_bogota3 = overall_phase4_bogota3[overall_phase4_bogota3.functions != '']\n",
    "\n",
    "# copied from OP above\n",
    "def jaccard_similarity(x, y):\n",
    "    \"\"\" returns the jaccard similarity between two lists \"\"\"\n",
    "    intersection_cardinality = len(set.intersection(*[set(x), set(y)]))\n",
    "    union_cardinality = len(set.union(*[set(x), set(y)]))\n",
    "    return intersection_cardinality/float(union_cardinality)\n",
    "\n",
    "# create list of tuples like [(wording, user), (wording, user)]\n",
    "wordings_users = list(zip(subset_bogota3_phase3_all[\"functions\"], subset_bogota3_phase3_all[\"Student\"]))\n",
    "\n",
    "result = []\n",
    "\n",
    "# create list of all possible combinations between sets of (wording, user) and loop through them\n",
    "for item in list(itertools.combinations(wordings_users, 2)):\n",
    "    similarity = jaccard_similarity(item[0][0], item[1][0])\n",
    "    data = {\"user1\": item[0][1], \"user2\": item[1][1], \"similarity\": similarity}\n",
    "    result.append(data)\n",
    "\n",
    "subset_bogota3_phase3_compare_all = pd.DataFrame(result)\n",
    "subset_bogota3_phase3_compare_all"
   ]
  },
  {
   "cell_type": "code",
   "execution_count": null,
   "id": "b79e9854",
   "metadata": {},
   "outputs": [],
   "source": [
    "subset_bogota3_phase3_all_only = subset_bogota3_phase3_compare_all.loc[subset_bogota3_phase3_compare_all['user2'] == 'all']\n",
    "subset_bogota3_phase3_all_only"
   ]
  },
  {
   "cell_type": "markdown",
   "id": "1715cce1",
   "metadata": {},
   "source": [
    "## Append Global Functions with Bogota 3 Phase 2"
   ]
  },
  {
   "cell_type": "code",
   "execution_count": null,
   "id": "e1619fef",
   "metadata": {},
   "outputs": [],
   "source": [
    "overall_phase2_bogota3_all = overall_phase2_bogota3.append(global_functions, ignore_index=True)"
   ]
  },
  {
   "cell_type": "code",
   "execution_count": null,
   "id": "b5837edf",
   "metadata": {},
   "outputs": [],
   "source": [
    "import itertools\n",
    "import pandas as pd\n",
    "\n",
    "overall_phase4_bogota3 = overall_phase4_bogota3[overall_phase4_bogota3.functions != '']\n",
    "\n",
    "# copied from OP above\n",
    "def jaccard_similarity(x, y):\n",
    "    \"\"\" returns the jaccard similarity between two lists \"\"\"\n",
    "    intersection_cardinality = len(set.intersection(*[set(x), set(y)]))\n",
    "    union_cardinality = len(set.union(*[set(x), set(y)]))\n",
    "    return intersection_cardinality/float(union_cardinality)\n",
    "\n",
    "# create list of tuples like [(wording, user), (wording, user)]\n",
    "wordings_users = list(zip(overall_phase2_bogota3_all[\"functions\"], overall_phase2_bogota3_all[\"Student\"]))\n",
    "\n",
    "result = []\n",
    "\n",
    "# create list of all possible combinations between sets of (wording, user) and loop through them\n",
    "for item in list(itertools.combinations(wordings_users, 2)):\n",
    "    similarity = jaccard_similarity(item[0][0], item[1][0])\n",
    "    data = {\"user1\": item[0][1], \"user2\": item[1][1], \"similarity\": similarity}\n",
    "    result.append(data)\n",
    "\n",
    "overall_phase2_bogota3_compare_all = pd.DataFrame(result)\n",
    "overall_phase2_bogota3_compare_all"
   ]
  },
  {
   "cell_type": "code",
   "execution_count": null,
   "id": "92788def",
   "metadata": {},
   "outputs": [],
   "source": [
    "overall_phase2_bogota3_all_only = overall_phase2_bogota3_compare_all.loc[overall_phase2_bogota3_compare_all['user2'] == 'all']\n",
    "overall_phase2_bogota3_all_only"
   ]
  },
  {
   "cell_type": "markdown",
   "id": "2602770f",
   "metadata": {},
   "source": [
    "## Append Global Functions with Bogota 3 Phase 1"
   ]
  },
  {
   "cell_type": "code",
   "execution_count": null,
   "id": "40fa8733",
   "metadata": {},
   "outputs": [],
   "source": [
    "subset_bogota3_phase1_all = subset_bogota3_phase1.append(global_functions, ignore_index=True)\n",
    "print(subset_bogota3_phase1_all)"
   ]
  },
  {
   "cell_type": "code",
   "execution_count": null,
   "id": "301dfc0e",
   "metadata": {},
   "outputs": [],
   "source": [
    "import itertools\n",
    "import pandas as pd\n",
    "\n",
    "overall_phase4_bogota3 = overall_phase4_bogota3[overall_phase4_bogota3.functions != '']\n",
    "\n",
    "# copied from OP above\n",
    "def jaccard_similarity(x, y):\n",
    "    \"\"\" returns the jaccard similarity between two lists \"\"\"\n",
    "    intersection_cardinality = len(set.intersection(*[set(x), set(y)]))\n",
    "    union_cardinality = len(set.union(*[set(x), set(y)]))\n",
    "    return intersection_cardinality/float(union_cardinality)\n",
    "\n",
    "# create list of tuples like [(wording, user), (wording, user)]\n",
    "wordings_users = list(zip(subset_bogota3_phase1_all[\"functions\"], subset_bogota3_phase1_all[\"Student\"]))\n",
    "\n",
    "result = []\n",
    "\n",
    "# create list of all possible combinations between sets of (wording, user) and loop through them\n",
    "for item in list(itertools.combinations(wordings_users, 2)):\n",
    "    similarity = jaccard_similarity(item[0][0], item[1][0])\n",
    "    data = {\"user1\": item[0][1], \"user2\": item[1][1], \"similarity\": similarity}\n",
    "    result.append(data)\n",
    "\n",
    "subset_bogota3_phase1_compare_all = pd.DataFrame(result)\n",
    "subset_bogota3_phase1_compare_all"
   ]
  },
  {
   "cell_type": "code",
   "execution_count": null,
   "id": "09a81c71",
   "metadata": {},
   "outputs": [],
   "source": [
    "subset_bogota3_phase1_all_only = subset_bogota3_phase1_compare_all.loc[subset_bogota3_phase1_compare_all['user2'] == 'all']\n",
    "subset_bogota3_phase1_all_only"
   ]
  },
  {
   "cell_type": "markdown",
   "id": "16229b34",
   "metadata": {},
   "source": [
    "## Descriptive Statistics of Comparisons with Global Functions"
   ]
  },
  {
   "cell_type": "markdown",
   "id": "168c3e69",
   "metadata": {},
   "source": [
    "## Bogota 3"
   ]
  },
  {
   "cell_type": "code",
   "execution_count": null,
   "id": "76aa3088",
   "metadata": {},
   "outputs": [],
   "source": [
    "global_bogota3_phase1_mean = subset_bogota3_phase1_all_only['similarity'].describe().loc['mean']\n",
    "global_bogota3_phase1_median = subset_bogota3_phase1_all_only['similarity'].median()\n",
    "global_bogota3_phase1_min = subset_bogota3_phase1_all_only['similarity'].describe().loc['min']"
   ]
  },
  {
   "cell_type": "code",
   "execution_count": null,
   "id": "945b3e33",
   "metadata": {},
   "outputs": [],
   "source": [
    "global_bogota3_phase2_mean = overall_phase2_bogota3_all_only['similarity'].describe().loc['mean']\n",
    "global_bogota3_phase2_median = overall_phase2_bogota3_all_only['similarity'].median()\n",
    "global_bogota3_phase2_min = overall_phase2_bogota3_all_only['similarity'].describe().loc['min']"
   ]
  },
  {
   "cell_type": "code",
   "execution_count": null,
   "id": "dcf93368",
   "metadata": {},
   "outputs": [],
   "source": [
    "global_bogota3_phase3_mean = subset_bogota3_phase3_all_only['similarity'].describe().loc['mean']\n",
    "global_bogota3_phase3_median = subset_bogota3_phase3_all_only['similarity'].median()\n",
    "global_bogota3_phase3_min = subset_bogota3_phase3_all_only['similarity'].describe().loc['min']"
   ]
  },
  {
   "cell_type": "code",
   "execution_count": null,
   "id": "5462d351",
   "metadata": {},
   "outputs": [],
   "source": [
    "global_bogota3_phase4_mean  = overall_phase4_bogota3_all_only['similarity'].describe().loc['mean']\n",
    "global_bogota3_phase4_median  = overall_phase4_bogota3_all_only['similarity'].median()\n",
    "global_bogota3_phase4_min = overall_phase4_bogota3_all_only['similarity'].describe().loc['min']"
   ]
  },
  {
   "cell_type": "code",
   "execution_count": null,
   "id": "234d6e54",
   "metadata": {},
   "outputs": [],
   "source": [
    "global_bogota3_phase5_mean = overall_phase5_bogota3_all_only['similarity'].describe().loc['mean']\n",
    "global_bogota3_phase5_median = overall_phase5_bogota3_all_only['similarity'].median()\n",
    "global_bogota3_phase5_min = overall_phase5_bogota3_all_only['similarity'].describe().loc['min']"
   ]
  },
  {
   "cell_type": "markdown",
   "id": "a509fed0",
   "metadata": {},
   "source": [
    "## Bogota 2"
   ]
  },
  {
   "cell_type": "code",
   "execution_count": null,
   "id": "1efc4d07",
   "metadata": {},
   "outputs": [],
   "source": [
    "global_bogota2_phase1_mean  = subset_bogota2_phase1_all_only['similarity'].describe().loc['mean']\n",
    "global_bogota2_phase1_median = subset_bogota2_phase1_all_only['similarity'].median()\n",
    "global_bogota2_phase1_min = subset_bogota2_phase1_all_only['similarity'].describe().loc['min']"
   ]
  },
  {
   "cell_type": "code",
   "execution_count": null,
   "id": "fd34cdf2",
   "metadata": {},
   "outputs": [],
   "source": [
    "global_bogota2_phase2_mean  = subset_bogota2_phase2_all_only['similarity'].describe().loc['mean']\n",
    "global_bogota2_phase2_median = subset_bogota2_phase2_all_only['similarity'].median()\n",
    "global_bogota2_phase2_min = subset_bogota2_phase2_all_only['similarity'].describe().loc['min']"
   ]
  },
  {
   "cell_type": "code",
   "execution_count": null,
   "id": "b538e11e",
   "metadata": {},
   "outputs": [],
   "source": [
    "global_bogota2_phase3_mean  = subset_bogota2_phase3_all_only['similarity'].describe().loc['mean']\n",
    "global_bogota2_phase3_median = subset_bogota2_phase3_all_only['similarity'].median()\n",
    "global_bogota2_phase3_min = subset_bogota2_phase3_all_only['similarity'].describe().loc['min']"
   ]
  },
  {
   "cell_type": "code",
   "execution_count": null,
   "id": "ee5137cb",
   "metadata": {},
   "outputs": [],
   "source": [
    "global_bogota2_phase4_mean  = subset_bogota2_phase4_all_only['similarity'].describe().loc['mean']\n",
    "global_bogota2_phase4_median = subset_bogota2_phase4_all_only['similarity'].median()\n",
    "global_bogota2_phase4_min = subset_bogota2_phase4_all_only['similarity'].describe().loc['min']"
   ]
  },
  {
   "cell_type": "code",
   "execution_count": null,
   "id": "d992bc4c",
   "metadata": {},
   "outputs": [],
   "source": [
    "global_bogota2_phase5_mean  = subset_bogota2_phase5_all_only['similarity'].describe().loc['mean']\n",
    "global_bogota2_phase5_median = subset_bogota2_phase5_all_only['similarity'].median()\n",
    "global_bogota2_phase5_min = subset_bogota2_phase5_all_only['similarity'].describe().loc['min']"
   ]
  },
  {
   "cell_type": "markdown",
   "id": "5298bc5d",
   "metadata": {},
   "source": [
    "## Bogota 1"
   ]
  },
  {
   "cell_type": "code",
   "execution_count": null,
   "id": "6ceec6be",
   "metadata": {},
   "outputs": [],
   "source": [
    "global_bogota1_phase1_mean = subset_bogota1_phase1_all_only['similarity'].describe().loc['mean']\n",
    "global_bogota1_phase1_median = subset_bogota1_phase1_all_only['similarity'].median()\n",
    "global_bogota1_phase1_min = subset_bogota1_phase1_all_only['similarity'].describe().loc['min']"
   ]
  },
  {
   "cell_type": "code",
   "execution_count": null,
   "id": "3f252158",
   "metadata": {},
   "outputs": [],
   "source": [
    "global_bogota1_phase2_mean = subset_bogota1_phase2_all_only['similarity'].describe().loc['mean']\n",
    "global_bogota1_phase2_median = subset_bogota1_phase2_all_only['similarity'].median()\n",
    "global_bogota1_phase2_min = subset_bogota1_phase2_all_only['similarity'].describe().loc['min']"
   ]
  },
  {
   "cell_type": "code",
   "execution_count": null,
   "id": "81a2fab2",
   "metadata": {},
   "outputs": [],
   "source": [
    "global_bogota1_phase3_mean = subset_bogota1_phase3_all_only['similarity'].describe().loc['mean']\n",
    "global_bogota1_phase3_median = subset_bogota1_phase3_all_only['similarity'].median()\n",
    "global_bogota1_phase3_min = subset_bogota1_phase3_all_only['similarity'].describe().loc['min']"
   ]
  },
  {
   "cell_type": "code",
   "execution_count": null,
   "id": "01098692",
   "metadata": {},
   "outputs": [],
   "source": [
    "global_bogota1_phase4_mean = subset_bogota1_phase4_all_only['similarity'].describe().loc['mean']\n",
    "global_bogota1_phase4_median = subset_bogota1_phase4_all_only['similarity'].median()\n",
    "global_bogota1_phase4_min = subset_bogota1_phase4_all_only['similarity'].describe().loc['min']"
   ]
  },
  {
   "cell_type": "code",
   "execution_count": null,
   "id": "bd839bdd",
   "metadata": {},
   "outputs": [],
   "source": [
    "global_bogota1_phase5_mean = subset_bogota1_phase5_all_only['similarity'].describe().loc['mean']\n",
    "global_bogota1_phase5_median = subset_bogota1_phase5_all_only['similarity'].median()\n",
    "global_bogota1_phase5_min = subset_bogota1_phase5_all_only['similarity'].describe().loc['min']"
   ]
  },
  {
   "cell_type": "markdown",
   "id": "9ee0bb9b",
   "metadata": {},
   "source": [
    "## Bogota 0"
   ]
  },
  {
   "cell_type": "code",
   "execution_count": null,
   "id": "b2987a43",
   "metadata": {},
   "outputs": [],
   "source": [
    "global_bogota0_phase1_mean = subset_bogota0_phase1_all_only['similarity'].describe().loc['mean']\n",
    "global_bogota0_phase1_median = subset_bogota0_phase1_all_only['similarity'].median()\n",
    "global_bogota0_phase1_min = subset_bogota0_phase1_all_only['similarity'].describe().loc['min']"
   ]
  },
  {
   "cell_type": "code",
   "execution_count": null,
   "id": "2d07f48b",
   "metadata": {},
   "outputs": [],
   "source": [
    "global_bogota0_phase2_mean  = subset_bogota0_phase2_all_only['similarity'].describe().loc['mean']\n",
    "global_bogota0_phase2_median = subset_bogota0_phase2_all_only['similarity'].median()\n",
    "global_bogota0_phase2_min = subset_bogota0_phase2_all_only['similarity'].describe().loc['min']"
   ]
  },
  {
   "cell_type": "code",
   "execution_count": null,
   "id": "c9d0468c",
   "metadata": {},
   "outputs": [],
   "source": [
    "global_bogota0_phase3_mean  = subset_bogota0_phase3_all_only['similarity'].describe().loc['mean']\n",
    "global_bogota0_phase3_median = subset_bogota0_phase3_all_only['similarity'].median()\n",
    "global_bogota0_phase3_min = subset_bogota0_phase3_all_only['similarity'].describe().loc['min']"
   ]
  },
  {
   "cell_type": "code",
   "execution_count": null,
   "id": "971ef111",
   "metadata": {},
   "outputs": [],
   "source": [
    "global_bogota0_phase4_mean = subset_bogota0_phase4_all_only['similarity'].describe().loc['mean']\n",
    "global_bogota0_phase4_median = subset_bogota0_phase4_all_only['similarity'].median()\n",
    "global_bogota0_phase4_min = subset_bogota0_phase4_all_only['similarity'].describe().loc['min']"
   ]
  },
  {
   "cell_type": "code",
   "execution_count": null,
   "id": "c311262a",
   "metadata": {},
   "outputs": [],
   "source": [
    "global_bogota0_phase5_mean  = subset_bogota0_phase5_all_only['similarity'].describe().loc['mean']\n",
    "global_bogota0_phase5_median = subset_bogota0_phase5_all_only['similarity'].median()\n",
    "global_bogota0_phase5_min = subset_bogota0_phase5_all_only['similarity'].describe().loc['min']"
   ]
  },
  {
   "cell_type": "code",
   "execution_count": null,
   "id": "69fa8392",
   "metadata": {},
   "outputs": [],
   "source": [
    "import matplotlib.pyplot as plt\n",
    "\n",
    "# Mean Scores of All Groups [ Tech Scores ]\n",
    "\n",
    "y1 = [global_bogota0_phase1_mean, global_bogota0_phase2_mean, global_bogota0_phase3_mean, global_bogota0_phase4_mean, global_bogota0_phase5_mean]\n",
    "y2 = [global_bogota1_phase1_mean, global_bogota1_phase2_mean, global_bogota1_phase3_mean, global_bogota1_phase4_mean, global_bogota1_phase5_mean]\n",
    "y3 = [global_bogota2_phase1_mean, global_bogota2_phase2_mean, global_bogota2_phase3_mean, global_bogota2_phase4_mean, global_bogota2_phase5_mean]\n",
    "y4 = [global_bogota3_phase1_mean, global_bogota3_phase2_mean, global_bogota3_phase3_mean, global_bogota3_phase4_mean, global_bogota3_phase5_mean]\n",
    "\n",
    "\n",
    "x_axis=['Phase 1', 'Phase 2', 'Phase 3', 'Phase 4', 'Phase 5']\n",
    "\n",
    "line1 = plt.plot(x_axis, y1,'bo-',label='Bogota 0 ( No Transparency )') \n",
    "line2 = plt.plot(x_axis, y2,'go-',label='Bogota 1 ( Performance Transparency )') \n",
    "line3 = plt.plot(x_axis, y3,'ko-',label='Bogota 2 ( Solution Transparency )')\n",
    "line4 = plt.plot(x_axis, y4,'ro-',label='Bogota 3 ( Full Transparency )') \n",
    "\n",
    "plt.title(\"Mean Similarity in Global Functions Context\")\n",
    "plt.ylabel(\"Mean Similarity\")\n",
    "\n",
    "plt.legend(bbox_to_anchor=(1.5, 1),\n",
    "           bbox_transform=plt.gcf().transFigure)"
   ]
  },
  {
   "cell_type": "code",
   "execution_count": null,
   "id": "f92955ff",
   "metadata": {},
   "outputs": [],
   "source": [
    "import matplotlib.pyplot as plt\n",
    "\n",
    "# Mean Scores of All Groups [ Tech Scores ]\n",
    "\n",
    "y1 = [global_bogota0_phase1_median, global_bogota0_phase2_median, global_bogota0_phase3_median, global_bogota0_phase4_median, global_bogota0_phase5_median]\n",
    "y2 = [global_bogota1_phase1_median, global_bogota1_phase2_median, global_bogota1_phase3_median, global_bogota1_phase4_median, global_bogota1_phase5_median]\n",
    "y3 = [global_bogota2_phase1_median, global_bogota2_phase2_median, global_bogota2_phase3_median, global_bogota2_phase4_median, global_bogota2_phase5_median]\n",
    "y4 = [global_bogota3_phase1_median, global_bogota3_phase2_median, global_bogota3_phase3_median, global_bogota3_phase4_median, global_bogota3_phase5_median]\n",
    "\n",
    "\n",
    "\n",
    "x_axis=['Phase 1', 'Phase 2', 'Phase 3', 'Phase 4', 'Phase 5']\n",
    "\n",
    "line1 = plt.plot(x_axis, y1,'bo-',label='Bogota 0 ( No Transparency )') \n",
    "line2 = plt.plot(x_axis, y2,'go-',label='Bogota 1 ( Performance Transparency )') \n",
    "line3 = plt.plot(x_axis, y3,'ko-',label='Bogota 2 ( Solution Transparency )')\n",
    "line4 = plt.plot(x_axis, y4,'ro-',label='Bogota 3 ( Full Transparency )') \n",
    "\n",
    "plt.title(\"Median Similarity in Global Functions Context\")\n",
    "plt.ylabel(\"Median Similarity\")\n",
    "\n",
    "plt.legend(bbox_to_anchor=(1.5, 1),\n",
    "           bbox_transform=plt.gcf().transFigure)"
   ]
  },
  {
   "cell_type": "code",
   "execution_count": null,
   "id": "71574003",
   "metadata": {},
   "outputs": [],
   "source": [
    "import matplotlib.pyplot as plt\n",
    "\n",
    "# Mean Scores of All Groups [ Tech Scores ]\n",
    "\n",
    "y1 = [global_bogota0_phase1_min, global_bogota0_phase2_min, global_bogota0_phase3_min, global_bogota0_phase4_min, global_bogota0_phase5_min ]\n",
    "y2 = [global_bogota1_phase1_min, global_bogota1_phase2_min, global_bogota1_phase3_min, global_bogota1_phase4_min, global_bogota1_phase5_min]\n",
    "y3 = [global_bogota2_phase1_min, global_bogota2_phase2_min, global_bogota2_phase3_min, global_bogota2_phase4_min, global_bogota2_phase5_min ]\n",
    "y4 = [global_bogota3_phase1_min, global_bogota3_phase2_min, global_bogota3_phase3_min, global_bogota3_phase4_min, global_bogota3_phase5_min]\n",
    "\n",
    "\n",
    "\n",
    "x_axis=['Phase 1', 'Phase 2', 'Phase 3', 'Phase 4', 'Phase 5']\n",
    "\n",
    "line3 = plt.plot(x_axis, y1,'bo-',label='Bogota 0 ( No Transparency )') \n",
    "line4 = plt.plot(x_axis, y2,'go-',label='Bogota 1 ( Performance Transparency )') \n",
    "line1 = plt.plot(x_axis, y3,'ko-',label='Bogota 2 ( Solution Transparency )')\n",
    "line2 = plt.plot(x_axis, y4,'ro-',label='Bogota 3 ( Full Transparency )') \n",
    "\n",
    "plt.title(\"Minimum Similarity in Global Functions Context\")\n",
    "plt.ylabel(\"Minimum Similarity Scores\")\n",
    "\n",
    "plt.legend(bbox_to_anchor=(1.5, 1),\n",
    "           bbox_transform=plt.gcf().transFigure)"
   ]
  },
  {
   "cell_type": "code",
   "execution_count": null,
   "id": "868fed93",
   "metadata": {},
   "outputs": [],
   "source": [
    "df0_merged[[\"b0-p1-similarity\", \"b0-p2-similarity\", \"b0-p3-similarity\", \"b0-p4-similarity\", \"b0-p5-similarity\"]] = df0_merged[[\"b0-p1-similarity\", \"b0-p2-similarity\", \"b0-p3-similarity\", \"b0-p4-similarity\", \"b0-p5-similarity\"]].apply(np.log)\n",
    "df0_merged"
   ]
  },
  {
   "cell_type": "code",
   "execution_count": null,
   "id": "aebb6d7a",
   "metadata": {},
   "outputs": [],
   "source": [
    "subset = df0_merged[[\"b0-p1-similarity\", \"b0-p2-similarity\", \"b0-p3-similarity\", \"b0-p4-similarity\", \"b0-p5-similarity\"]]\n",
    "import matplotlib.pyplot as plt\n",
    "import seaborn as sns\n",
    "\n",
    "median_list_b0=[]\n",
    "mean_list_b0=[]\n",
    "\n",
    "for i, column in enumerate(subset.columns, 1):\n",
    "    plt.subplot(2,3,i)\n",
    "    sns.set(rc={'figure.figsize':(11.7,8.27)})\n",
    "    sns.distplot(subset[column])\n",
    "    median_list_b0.append(subset[column].describe().loc['50%'])\n",
    "    mean_list_b0.append(subset[column].describe().loc['mean'])"
   ]
  },
  {
   "cell_type": "code",
   "execution_count": null,
   "id": "8f63e874",
   "metadata": {},
   "outputs": [],
   "source": [
    "from functools import reduce\n",
    "b2_p1 = subset_bogota2_phase1_all_only.rename(columns = {'similarity':'b2-p1-similarity'}, inplace = False)\n",
    "b2_p2 = subset_bogota2_phase2_all_only.rename(columns = {'similarity':'b2-p2-similarity'}, inplace = False)\n",
    "b2_p3 = subset_bogota2_phase3_all_only.rename(columns = {'similarity':'b2-p3-similarity'}, inplace = False)\n",
    "b2_p4 = subset_bogota2_phase3_all_only.rename(columns = {'similarity':'b2-p4-similarity'}, inplace = False)\n",
    "b2_p5 = subset_bogota2_phase5_all_only.rename(columns = {'similarity':'b2-p5-similarity'}, inplace = False)\n",
    "data_frames = [b2_p1, b2_p2, b2_p3, b2_p4, b2_p5]\n",
    "df2_merged = reduce(lambda  left, right: pd.merge(left, right,on=['user1'], how='outer'), data_frames)\n",
    "df2_merged"
   ]
  },
  {
   "cell_type": "code",
   "execution_count": null,
   "id": "fb8c67ac",
   "metadata": {},
   "outputs": [],
   "source": [
    "df2_merged[[\"b2-p1-similarity\", \"b2-p2-similarity\", \"b2-p3-similarity\", \"b2-p4-similarity\", \"b2-p5-similarity\"]] = df2_merged[[\"b2-p1-similarity\", \"b2-p2-similarity\", \"b2-p3-similarity\", \"b2-p4-similarity\", \"b2-p5-similarity\"]].apply(np.log)\n",
    "df2_merged"
   ]
  },
  {
   "cell_type": "code",
   "execution_count": null,
   "id": "38050934",
   "metadata": {},
   "outputs": [],
   "source": [
    "subset = df2_merged[[\"b2-p1-similarity\", \"b2-p2-similarity\", \"b2-p3-similarity\", \"b2-p4-similarity\", \"b2-p5-similarity\"]]\n",
    "import matplotlib.pyplot as plt\n",
    "import seaborn as sns\n",
    "\n",
    "median_list_b2=[]\n",
    "mean_list_b2=[]\n",
    "\n",
    "for i, column in enumerate(subset.columns, 1):\n",
    "    plt.subplot(2,3,i)\n",
    "    sns.set(rc={'figure.figsize':(11.7,8.27)})\n",
    "    sns.distplot(subset[column])\n",
    "    median_list_b2.append(subset[column].describe().loc['50%'])\n",
    "    mean_list_b2.append(subset[column].describe().loc['mean'])"
   ]
  },
  {
   "cell_type": "code",
   "execution_count": null,
   "id": "1e3ca99c",
   "metadata": {},
   "outputs": [],
   "source": [
    "from functools import reduce\n",
    "b3_p1 = subset_bogota3_phase1_all_only.rename(columns = {'similarity':'b3-p1-similarity'}, inplace = False)\n",
    "b3_p2 = overall_phase2_bogota3_all_only.rename(columns = {'similarity':'b3-p2-similarity'}, inplace = False)\n",
    "b3_p3 = overall_phase2_bogota3_all_only.rename(columns = {'similarity':'b3-p3-similarity'}, inplace = False)\n",
    "b3_p4 = subset_bogota3_phase3_all_only.rename(columns = {'similarity':'b3-p4-similarity'}, inplace = False)\n",
    "b3_p5 = overall_phase2_bogota3_all_only.rename(columns = {'similarity':'b3-p5-similarity'}, inplace = False)\n",
    "data_frames = [b3_p1, b3_p2, b3_p3, b3_p4, b3_p5]\n",
    "df3_merged = reduce(lambda  left, right: pd.merge(left, right,on=['user1'], how='outer'), data_frames)\n",
    "df3_merged"
   ]
  },
  {
   "cell_type": "code",
   "execution_count": null,
   "id": "2c19f345",
   "metadata": {},
   "outputs": [],
   "source": [
    "df3_merged[[\"b3-p1-similarity\", \"b3-p2-similarity\", \"b3-p3-similarity\", \"b3-p4-similarity\", \"b3-p5-similarity\"]] = df3_merged[[\"b3-p1-similarity\", \"b3-p2-similarity\", \"b3-p3-similarity\", \"b3-p4-similarity\", \"b3-p5-similarity\"]].apply(np.log)\n",
    "df3_merged"
   ]
  },
  {
   "cell_type": "code",
   "execution_count": null,
   "id": "1469f987",
   "metadata": {},
   "outputs": [],
   "source": [
    "subset = df3_merged[[\"b3-p1-similarity\", \"b3-p2-similarity\", \"b3-p3-similarity\", \"b3-p4-similarity\", \"b3-p5-similarity\"]]\n",
    "import matplotlib.pyplot as plt\n",
    "import seaborn as sns\n",
    "\n",
    "median_list_b3=[]\n",
    "mean_list_b3=[]\n",
    "\n",
    "for i, column in enumerate(subset.columns, 1):\n",
    "    plt.subplot(2,3,i)\n",
    "    sns.set(rc={'figure.figsize':(11.7,8.27)})\n",
    "    sns.distplot(subset[column])\n",
    "    median_list_b3.append(subset[column].describe().loc['50%'])\n",
    "    mean_list_b3.append(subset[column].describe().loc['mean'])"
   ]
  },
  {
   "cell_type": "code",
   "execution_count": null,
   "id": "54283af5",
   "metadata": {},
   "outputs": [],
   "source": [
    "import matplotlib.pyplot as plt\n",
    "\n",
    "# Mean Scores of All Groups [ Tech Scores ]\n",
    "\n",
    "y1 = median_list_b0\n",
    "y2 = median_list_b1\n",
    "y3 = median_list_b2\n",
    "y4 = median_list_b3\n",
    "\n",
    "\n",
    "x_axis=['Phase 1', 'Phase 2', 'Phase 3', 'Phase 4', 'Phase 5']\n",
    "\n",
    "line1 = plt.plot(x_axis, y1,'bo-',label='Bogota 0 ( No Transparency )') \n",
    "line2 = plt.plot(x_axis, y2,'go-',label='Bogota 1 ( Performance Transparency )') \n",
    "line3 = plt.plot(x_axis, y3,'ko-',label='Bogota 2 ( Solution Transparency )')\n",
    "line4 = plt.plot(x_axis, y4,'ro-',label='Bogota 3 ( Full Transparency )') \n",
    "\n",
    "plt.title(\"Log-Transform Median Dissimilarity in Global Functions Context\")\n",
    "plt.ylabel(\"Log-Transform Median Dissimilarity\")\n",
    "\n",
    "plt.legend(bbox_to_anchor=(1.5, 1),\n",
    "           bbox_transform=plt.gcf().transFigure)"
   ]
  },
  {
   "cell_type": "code",
   "execution_count": null,
   "id": "ac6f4b1d",
   "metadata": {},
   "outputs": [],
   "source": []
  },
  {
   "cell_type": "markdown",
   "id": "69a556dd",
   "metadata": {},
   "source": [
    "## Calculate the uniqueness measure based on Uzzi's and Sio's paper. [ Have to be Read ]"
   ]
  },
  {
   "cell_type": "markdown",
   "id": "70c28cbe",
   "metadata": {},
   "source": [
    "Atypical combinations and scientific impact by Uzzi "
   ]
  },
  {
   "cell_type": "markdown",
   "id": "57127b1f",
   "metadata": {},
   "source": [
    "Take the whole sample of functions and identify the most common and the least common functions based on the 90% most common and 10% least common functions. Explore in which group they occur and which phase. "
   ]
  },
  {
   "cell_type": "code",
   "execution_count": null,
   "id": "2eab6fb4",
   "metadata": {},
   "outputs": [],
   "source": [
    "overall_45_functions = overall_45['functions'].to_list()\n",
    "overall_45_functions"
   ]
  },
  {
   "cell_type": "code",
   "execution_count": null,
   "id": "61ab329e",
   "metadata": {},
   "outputs": [],
   "source": [
    "## 20,000. most unique functions \n",
    "new_list"
   ]
  },
  {
   "cell_type": "markdown",
   "id": "2d4f9ecc",
   "metadata": {},
   "source": [
    "## Phase 5"
   ]
  },
  {
   "cell_type": "code",
   "execution_count": null,
   "id": "bfde817b",
   "metadata": {},
   "outputs": [],
   "source": [
    "listed = overall_phase5_bogota3['functions'].to_list()\n",
    "converted_list = [str(element) for element in  listed]\n",
    "joined_string = \",\".join(converted_list)\n",
    "bogota3_phase5 = joined_string.split(\",\")\n",
    "bogota3_phase5"
   ]
  },
  {
   "cell_type": "code",
   "execution_count": null,
   "id": "9e9e341a",
   "metadata": {},
   "outputs": [],
   "source": [
    "unique_bogota3_phase5 = list(set(bogota3_phase5).intersection(set(new_list)))\n",
    "len_unique_bogota3_phase5 = len(unique_bogota3_phase5)"
   ]
  },
  {
   "cell_type": "code",
   "execution_count": null,
   "id": "b7e8eed5",
   "metadata": {},
   "outputs": [],
   "source": [
    "unique_bogota3_phase5 = list(set(bogota3_phase5).intersection(set(top_5_unique)))\n",
    "top_5_unique_bogota3_phase5 = len(unique_bogota3_phase5)"
   ]
  },
  {
   "cell_type": "code",
   "execution_count": null,
   "id": "eab7aafc",
   "metadata": {},
   "outputs": [],
   "source": [
    "unique_bogota3_phase5 = list(set(bogota3_phase5).intersection(set(top_10_unique)))\n",
    "top_10_unique_bogota3_phase5  = len(unique_bogota3_phase5)"
   ]
  },
  {
   "cell_type": "code",
   "execution_count": null,
   "id": "339c8cbd",
   "metadata": {},
   "outputs": [],
   "source": [
    "unique_bogota3_phase5 = list(set(bogota3_phase5).intersection(set(top_15_unique)))\n",
    "top_15_unique_bogota3_phase5  = len(unique_bogota3_phase5)"
   ]
  },
  {
   "cell_type": "code",
   "execution_count": null,
   "id": "adac76ae",
   "metadata": {},
   "outputs": [],
   "source": [
    "unique_bogota3_phase5 = list(set(bogota3_phase5).intersection(set(top_20_unique)))\n",
    "top_20_unique_bogota3_phase5  = len(unique_bogota3_phase5)"
   ]
  },
  {
   "cell_type": "code",
   "execution_count": null,
   "id": "fcfcb159",
   "metadata": {},
   "outputs": [],
   "source": [
    "listed = overall_phase5_bogota1['functions'].to_list()\n",
    "converted_list = [str(element) for element in  listed]\n",
    "joined_string = \",\".join(converted_list)\n",
    "bogota1_phase5 = joined_string.split(\",\")\n",
    "bogota1_phase5"
   ]
  },
  {
   "cell_type": "code",
   "execution_count": null,
   "id": "aae08029",
   "metadata": {},
   "outputs": [],
   "source": [
    "unique_bogota1_phase5 = list(set(bogota1_phase5).intersection(set(new_list)))\n",
    "len_unique_bogota1_phase5 = len(unique_bogota1_phase5)"
   ]
  },
  {
   "cell_type": "code",
   "execution_count": null,
   "id": "ac81bd49",
   "metadata": {},
   "outputs": [],
   "source": [
    "unique_bogota1_phase5 = list(set(bogota1_phase5).intersection(set(top_5_unique)))\n",
    "top_5_unique_bogota1_phase5 = len(unique_bogota1_phase5)"
   ]
  },
  {
   "cell_type": "code",
   "execution_count": null,
   "id": "241b2c8d",
   "metadata": {},
   "outputs": [],
   "source": [
    "unique_bogota1_phase5 = list(set(bogota1_phase5).intersection(set(top_10_unique)))\n",
    "top_10_unique_bogota1_phase5 = len(unique_bogota1_phase5)"
   ]
  },
  {
   "cell_type": "code",
   "execution_count": null,
   "id": "df53e803",
   "metadata": {},
   "outputs": [],
   "source": [
    "unique_bogota1_phase5 = list(set(bogota1_phase5).intersection(set(top_15_unique)))\n",
    "top_15_unique_bogota1_phase5 = len(unique_bogota1_phase5)"
   ]
  },
  {
   "cell_type": "code",
   "execution_count": null,
   "id": "aef9731e",
   "metadata": {},
   "outputs": [],
   "source": [
    "unique_bogota1_phase5 = list(set(bogota1_phase5).intersection(set(top_20_unique)))\n",
    "top_20_unique_bogota1_phase5 = len(unique_bogota1_phase5)"
   ]
  },
  {
   "cell_type": "code",
   "execution_count": null,
   "id": "cae2dc9c",
   "metadata": {},
   "outputs": [],
   "source": [
    "listed = overall_phase5_bogota2['functions'].to_list()\n",
    "converted_list = [str(element) for element in  listed]\n",
    "joined_string = \",\".join(converted_list)\n",
    "bogota2_phase5 = joined_string.split(\",\")\n",
    "bogota2_phase5"
   ]
  },
  {
   "cell_type": "code",
   "execution_count": null,
   "id": "3e96d07c",
   "metadata": {},
   "outputs": [],
   "source": [
    "unique_bogota2_phase5 = list(set(bogota2_phase5).intersection(set(new_list)))\n",
    "len_unique_bogota2_phase5 = len(unique_bogota2_phase5)"
   ]
  },
  {
   "cell_type": "code",
   "execution_count": null,
   "id": "aa6d17a8",
   "metadata": {},
   "outputs": [],
   "source": [
    "unique_bogota2_phase5 = list(set(bogota2_phase5).intersection(set(top_5_unique)))\n",
    "top_5_unique_bogota2_phase5 = len(unique_bogota2_phase5)"
   ]
  },
  {
   "cell_type": "code",
   "execution_count": null,
   "id": "d6661bed",
   "metadata": {},
   "outputs": [],
   "source": [
    "unique_bogota2_phase5 = list(set(bogota2_phase5).intersection(set(top_10_unique)))\n",
    "top_10_unique_bogota2_phase5 = len(unique_bogota2_phase5)"
   ]
  },
  {
   "cell_type": "code",
   "execution_count": null,
   "id": "a01ed29b",
   "metadata": {},
   "outputs": [],
   "source": [
    "unique_bogota2_phase5 = list(set(bogota2_phase5).intersection(set(top_15_unique)))\n",
    "top_15_unique_bogota2_phase5 = len(unique_bogota2_phase5)"
   ]
  },
  {
   "cell_type": "code",
   "execution_count": null,
   "id": "fe952d90",
   "metadata": {},
   "outputs": [],
   "source": [
    "unique_bogota2_phase5 = list(set(bogota2_phase5).intersection(set(top_20_unique)))\n",
    "top_20_unique_bogota2_phase5 = len(unique_bogota2_phase5)"
   ]
  },
  {
   "cell_type": "code",
   "execution_count": null,
   "id": "6f5dc779",
   "metadata": {},
   "outputs": [],
   "source": [
    "listed = overall_phase5_bogota0['functions'].to_list()\n",
    "converted_list = [str(element) for element in  listed]\n",
    "joined_string = \",\".join(converted_list)\n",
    "bogota0_phase5 = joined_string.split(\",\")\n",
    "bogota0_phase5"
   ]
  },
  {
   "cell_type": "code",
   "execution_count": null,
   "id": "99059e2f",
   "metadata": {},
   "outputs": [],
   "source": [
    "unique_bogota0_phase5 = list(set(bogota0_phase5).intersection(set(new_list)))\n",
    "len_unique_bogota0_phase5 = len(unique_bogota0_phase5)"
   ]
  },
  {
   "cell_type": "code",
   "execution_count": null,
   "id": "56d56da3",
   "metadata": {},
   "outputs": [],
   "source": [
    "unique_bogota0_phase5 = list(set(bogota0_phase5).intersection(set(top_5_unique)))\n",
    "top_5_unique_bogota0_phase5 = len(unique_bogota0_phase5)"
   ]
  },
  {
   "cell_type": "code",
   "execution_count": null,
   "id": "3c3d43db",
   "metadata": {},
   "outputs": [],
   "source": [
    "unique_bogota0_phase5 = list(set(bogota0_phase5).intersection(set(top_10_unique)))\n",
    "top_10_unique_bogota0_phase5 = len(unique_bogota0_phase5)"
   ]
  },
  {
   "cell_type": "code",
   "execution_count": null,
   "id": "74ffc15b",
   "metadata": {},
   "outputs": [],
   "source": [
    "unique_bogota0_phase5 = list(set(bogota0_phase5).intersection(set(top_15_unique)))\n",
    "top_15_unique_bogota0_phase5 = len(unique_bogota0_phase5)"
   ]
  },
  {
   "cell_type": "code",
   "execution_count": null,
   "id": "238477ef",
   "metadata": {},
   "outputs": [],
   "source": [
    "unique_bogota0_phase5 = list(set(bogota0_phase5).intersection(set(top_20_unique)))\n",
    "top_20_unique_bogota0_phase5 = len(unique_bogota0_phase5)"
   ]
  },
  {
   "cell_type": "markdown",
   "id": "8d9ded47",
   "metadata": {},
   "source": [
    "## Phase 4"
   ]
  },
  {
   "cell_type": "code",
   "execution_count": null,
   "id": "db7ce602",
   "metadata": {},
   "outputs": [],
   "source": [
    "listed = overall_phase4_bogota3['functions'].to_list()\n",
    "converted_list = [str(element) for element in  listed]\n",
    "joined_string = \",\".join(converted_list)\n",
    "bogota3_phase4 = joined_string.split(\",\")\n"
   ]
  },
  {
   "cell_type": "code",
   "execution_count": null,
   "id": "107f43fb",
   "metadata": {},
   "outputs": [],
   "source": [
    "listed = overall_phase4_bogota2['functions'].to_list()\n",
    "converted_list = [str(element) for element in  listed]\n",
    "joined_string = \",\".join(converted_list)\n",
    "bogota2_phase4 = joined_string.split(\",\")\n"
   ]
  },
  {
   "cell_type": "code",
   "execution_count": null,
   "id": "93df25fb",
   "metadata": {},
   "outputs": [],
   "source": [
    "listed = overall_phase4_bogota1['functions'].to_list()\n",
    "converted_list = [str(element) for element in  listed]\n",
    "joined_string = \",\".join(converted_list)\n",
    "bogota1_phase4 = joined_string.split(\",\")\n"
   ]
  },
  {
   "cell_type": "code",
   "execution_count": null,
   "id": "0118a800",
   "metadata": {},
   "outputs": [],
   "source": [
    "listed = overall_phase4_bogota0['functions'].to_list()\n",
    "converted_list = [str(element) for element in  listed]\n",
    "joined_string = \",\".join(converted_list)\n",
    "bogota0_phase4 = joined_string.split(\",\")\n"
   ]
  },
  {
   "cell_type": "code",
   "execution_count": null,
   "id": "fd94c4ef",
   "metadata": {},
   "outputs": [],
   "source": [
    "unique_bogota3_phase4 = list(set(bogota3_phase4).intersection(set(new_list)))\n",
    "len_unique_bogota3_phase4 = len(unique_bogota3_phase4)"
   ]
  },
  {
   "cell_type": "code",
   "execution_count": null,
   "id": "9e1d70e2",
   "metadata": {},
   "outputs": [],
   "source": [
    "unique_bogota3_phase4 = list(set(bogota3_phase4).intersection(set(top_5_unique)))\n",
    "top_5_unique_bogota3_phase4 = len(unique_bogota3_phase4)"
   ]
  },
  {
   "cell_type": "code",
   "execution_count": null,
   "id": "b92ba6a0",
   "metadata": {},
   "outputs": [],
   "source": [
    "unique_bogota3_phase4 = list(set(bogota3_phase4).intersection(set(top_10_unique)))\n",
    "top_10_unique_bogota3_phase4 = len(unique_bogota3_phase4)"
   ]
  },
  {
   "cell_type": "code",
   "execution_count": null,
   "id": "538f9ff5",
   "metadata": {},
   "outputs": [],
   "source": [
    "unique_bogota3_phase4 = list(set(bogota3_phase4).intersection(set(top_15_unique)))\n",
    "top_15_unique_bogota3_phase4 = len(unique_bogota3_phase4)"
   ]
  },
  {
   "cell_type": "code",
   "execution_count": null,
   "id": "d396340f",
   "metadata": {},
   "outputs": [],
   "source": [
    "unique_bogota3_phase4 = list(set(bogota3_phase4).intersection(set(top_20_unique)))\n",
    "top_20_unique_bogota3_phase4 = len(unique_bogota3_phase4)"
   ]
  },
  {
   "cell_type": "code",
   "execution_count": null,
   "id": "1c443a4d",
   "metadata": {},
   "outputs": [],
   "source": [
    "unique_bogota2_phase4 = list(set(bogota2_phase4).intersection(set(new_list)))\n",
    "len_unique_bogota2_phase4 = len(unique_bogota2_phase4)"
   ]
  },
  {
   "cell_type": "code",
   "execution_count": null,
   "id": "b6b7e243",
   "metadata": {},
   "outputs": [],
   "source": [
    "unique_bogota2_phase4 = list(set(bogota2_phase4).intersection(set(new_list)))\n",
    "len_unique_bogota2_phase4 = len(unique_bogota2_phase4)"
   ]
  },
  {
   "cell_type": "code",
   "execution_count": null,
   "id": "02157769",
   "metadata": {},
   "outputs": [],
   "source": [
    "unique_bogota2_phase4 = list(set(bogota2_phase4).intersection(set(top_5_unique)))\n",
    "top_5_unique_bogota2_phase4 = len(unique_bogota2_phase4)"
   ]
  },
  {
   "cell_type": "code",
   "execution_count": null,
   "id": "7bfaefc4",
   "metadata": {},
   "outputs": [],
   "source": [
    "unique_bogota2_phase4 = list(set(bogota2_phase4).intersection(set(top_10_unique)))\n",
    "top_10_unique_bogota2_phase4 = len(unique_bogota2_phase4)"
   ]
  },
  {
   "cell_type": "code",
   "execution_count": null,
   "id": "8cfe3f60",
   "metadata": {},
   "outputs": [],
   "source": [
    "unique_bogota2_phase4 = list(set(bogota2_phase4).intersection(set(top_15_unique)))\n",
    "top_15_unique_bogota2_phase4 = len(unique_bogota2_phase4)"
   ]
  },
  {
   "cell_type": "code",
   "execution_count": null,
   "id": "84a5dbf4",
   "metadata": {},
   "outputs": [],
   "source": [
    "unique_bogota2_phase4 = list(set(bogota2_phase4).intersection(set(top_20_unique)))\n",
    "top_20_unique_bogota2_phase4 = len(unique_bogota2_phase4)"
   ]
  },
  {
   "cell_type": "code",
   "execution_count": null,
   "id": "0f4f7334",
   "metadata": {},
   "outputs": [],
   "source": [
    "unique_bogota1_phase4 = list(set(bogota1_phase4).intersection(set(new_list)))\n",
    "len_unique_bogota1_phase4 = len(unique_bogota1_phase4)"
   ]
  },
  {
   "cell_type": "code",
   "execution_count": null,
   "id": "61607ca5",
   "metadata": {},
   "outputs": [],
   "source": [
    "unique_bogota1_phase4 = list(set(bogota1_phase4).intersection(set(top_5_unique)))\n",
    "top_5_unique_bogota1_phase4 = len(unique_bogota1_phase4)"
   ]
  },
  {
   "cell_type": "code",
   "execution_count": null,
   "id": "8167d141",
   "metadata": {},
   "outputs": [],
   "source": [
    "unique_bogota1_phase4 = list(set(bogota1_phase4).intersection(set(top_10_unique)))\n",
    "top_10_unique_bogota1_phase4 = len(unique_bogota1_phase4)"
   ]
  },
  {
   "cell_type": "code",
   "execution_count": null,
   "id": "7b73de71",
   "metadata": {},
   "outputs": [],
   "source": [
    "unique_bogota1_phase4 = list(set(bogota1_phase4).intersection(set(top_15_unique)))\n",
    "top_15_unique_bogota1_phase4 = len(unique_bogota1_phase4)"
   ]
  },
  {
   "cell_type": "code",
   "execution_count": null,
   "id": "1cb05ad1",
   "metadata": {},
   "outputs": [],
   "source": [
    "unique_bogota1_phase4 = list(set(bogota1_phase4).intersection(set(top_20_unique)))\n",
    "top_20_unique_bogota1_phase4 = len(unique_bogota1_phase4)"
   ]
  },
  {
   "cell_type": "code",
   "execution_count": null,
   "id": "5ca96774",
   "metadata": {},
   "outputs": [],
   "source": [
    "unique_bogota0_phase4 = list(set(bogota0_phase4).intersection(set(new_list)))\n",
    "len_unique_bogota0_phase4 = len(unique_bogota0_phase4)"
   ]
  },
  {
   "cell_type": "code",
   "execution_count": null,
   "id": "d1f58bd0",
   "metadata": {},
   "outputs": [],
   "source": [
    "unique_bogota0_phase4 = list(set(bogota0_phase4).intersection(set(top_5_unique)))\n",
    "top_5_unique_bogota0_phase4 = len(unique_bogota0_phase4)"
   ]
  },
  {
   "cell_type": "code",
   "execution_count": null,
   "id": "e3dafd3b",
   "metadata": {},
   "outputs": [],
   "source": [
    "unique_bogota0_phase4 = list(set(bogota0_phase4).intersection(set(top_10_unique)))\n",
    "top_10_unique_bogota0_phase4 = len(unique_bogota0_phase4)"
   ]
  },
  {
   "cell_type": "code",
   "execution_count": null,
   "id": "b09320a4",
   "metadata": {},
   "outputs": [],
   "source": [
    "unique_bogota0_phase4 = list(set(bogota0_phase4).intersection(set(top_15_unique)))\n",
    "top_15_unique_bogota0_phase4 = len(unique_bogota0_phase4)"
   ]
  },
  {
   "cell_type": "code",
   "execution_count": null,
   "id": "0712a1df",
   "metadata": {},
   "outputs": [],
   "source": [
    "unique_bogota0_phase4 = list(set(bogota0_phase4).intersection(set(top_20_unique)))\n",
    "top_20_unique_bogota0_phase4 = len(unique_bogota0_phase4)"
   ]
  },
  {
   "cell_type": "markdown",
   "id": "770b4fa9",
   "metadata": {},
   "source": [
    "## Phase 3"
   ]
  },
  {
   "cell_type": "code",
   "execution_count": null,
   "id": "c31cc9a6",
   "metadata": {},
   "outputs": [],
   "source": [
    "listed = overall_phase3_bogota3['functions'].to_list()\n",
    "converted_list = [str(element) for element in  listed]\n",
    "joined_string = \",\".join(converted_list)\n",
    "bogota3_phase3 = joined_string.split(\",\")"
   ]
  },
  {
   "cell_type": "code",
   "execution_count": null,
   "id": "d9d74206",
   "metadata": {},
   "outputs": [],
   "source": [
    "listed = overall_phase3_bogota2['functions'].to_list()\n",
    "converted_list = [str(element) for element in  listed]\n",
    "joined_string = \",\".join(converted_list)\n",
    "bogota2_phase3 = joined_string.split(\",\")"
   ]
  },
  {
   "cell_type": "code",
   "execution_count": null,
   "id": "c0114d7d",
   "metadata": {},
   "outputs": [],
   "source": [
    "listed = overall_phase3_bogota1['functions'].to_list()\n",
    "converted_list = [str(element) for element in  listed]\n",
    "joined_string = \",\".join(converted_list)\n",
    "bogota1_phase3 = joined_string.split(\",\")"
   ]
  },
  {
   "cell_type": "code",
   "execution_count": null,
   "id": "1abb084a",
   "metadata": {},
   "outputs": [],
   "source": [
    "listed = overall_phase3_bogota0['functions'].to_list()\n",
    "converted_list = [str(element) for element in  listed]\n",
    "joined_string = \",\".join(converted_list)\n",
    "bogota0_phase3 = joined_string.split(\",\")"
   ]
  },
  {
   "cell_type": "code",
   "execution_count": null,
   "id": "9e9e9125",
   "metadata": {},
   "outputs": [],
   "source": [
    "unique_bogota3_phase3 = list(set(bogota3_phase3).intersection(set(new_list)))\n",
    "len_unique_bogota3_phase3 = len(unique_bogota3_phase3)"
   ]
  },
  {
   "cell_type": "code",
   "execution_count": null,
   "id": "58cf7968",
   "metadata": {},
   "outputs": [],
   "source": [
    "unique_bogota3_phase3 = list(set(bogota3_phase3).intersection(set(top_5_unique)))\n",
    "top_5_unique_bogota3_phase3 = len(unique_bogota3_phase3)"
   ]
  },
  {
   "cell_type": "code",
   "execution_count": null,
   "id": "5b976bf8",
   "metadata": {},
   "outputs": [],
   "source": [
    "unique_bogota3_phase3 = list(set(bogota3_phase3).intersection(set(top_10_unique)))\n",
    "top_10_unique_bogota3_phase3 = len(unique_bogota3_phase3)"
   ]
  },
  {
   "cell_type": "code",
   "execution_count": null,
   "id": "697da8b5",
   "metadata": {},
   "outputs": [],
   "source": [
    "unique_bogota3_phase3 = list(set(bogota3_phase3).intersection(set(top_15_unique)))\n",
    "top_15_unique_bogota3_phase3 = len(unique_bogota3_phase3)"
   ]
  },
  {
   "cell_type": "code",
   "execution_count": null,
   "id": "265d4c7a",
   "metadata": {},
   "outputs": [],
   "source": [
    "unique_bogota3_phase3 = list(set(bogota3_phase3).intersection(set(top_20_unique)))\n",
    "top_20_unique_bogota3_phase3 = len(unique_bogota3_phase3)"
   ]
  },
  {
   "cell_type": "code",
   "execution_count": null,
   "id": "f8cd9327",
   "metadata": {},
   "outputs": [],
   "source": [
    "unique_bogota2_phase3 = list(set(bogota2_phase3).intersection(set(new_list)))\n",
    "len_unique_bogota2_phase3 = len(unique_bogota2_phase3)"
   ]
  },
  {
   "cell_type": "code",
   "execution_count": null,
   "id": "e7309c2a",
   "metadata": {},
   "outputs": [],
   "source": [
    "unique_bogota2_phase3 = list(set(bogota2_phase3).intersection(set(top_5_unique)))\n",
    "top_5_unique_bogota2_phase3 = len(unique_bogota2_phase3)"
   ]
  },
  {
   "cell_type": "code",
   "execution_count": null,
   "id": "5db73879",
   "metadata": {},
   "outputs": [],
   "source": [
    "unique_bogota2_phase3 = list(set(bogota2_phase3).intersection(set(top_10_unique)))\n",
    "top_10_unique_bogota2_phase3 = len(unique_bogota2_phase3)"
   ]
  },
  {
   "cell_type": "code",
   "execution_count": null,
   "id": "daeaf32a",
   "metadata": {},
   "outputs": [],
   "source": [
    "unique_bogota2_phase3 = list(set(bogota2_phase3).intersection(set(top_15_unique)))\n",
    "top_15_unique_bogota2_phase3 = len(unique_bogota2_phase3)"
   ]
  },
  {
   "cell_type": "code",
   "execution_count": null,
   "id": "c64f2502",
   "metadata": {},
   "outputs": [],
   "source": [
    "unique_bogota2_phase3 = list(set(bogota2_phase3).intersection(set(top_20_unique)))\n",
    "top_20_unique_bogota2_phase3 = len(unique_bogota2_phase3)"
   ]
  },
  {
   "cell_type": "code",
   "execution_count": null,
   "id": "0b26c474",
   "metadata": {},
   "outputs": [],
   "source": [
    "unique_bogota1_phase3 = list(set(bogota1_phase3).intersection(set(new_list)))\n",
    "len_unique_bogota1_phase3 = len(unique_bogota1_phase3)"
   ]
  },
  {
   "cell_type": "code",
   "execution_count": null,
   "id": "376a5dc4",
   "metadata": {},
   "outputs": [],
   "source": [
    "unique_bogota1_phase3 = list(set(bogota1_phase3).intersection(set(top_5_unique)))\n",
    "top_5_unique_bogota1_phase3 = len(unique_bogota1_phase3)"
   ]
  },
  {
   "cell_type": "code",
   "execution_count": null,
   "id": "b28f5dee",
   "metadata": {},
   "outputs": [],
   "source": [
    "unique_bogota1_phase3 = list(set(bogota1_phase3).intersection(set(top_10_unique)))\n",
    "top_10_unique_bogota1_phase3 = len(unique_bogota1_phase3)"
   ]
  },
  {
   "cell_type": "code",
   "execution_count": null,
   "id": "40668e69",
   "metadata": {},
   "outputs": [],
   "source": [
    "unique_bogota1_phase3 = list(set(bogota1_phase3).intersection(set(top_15_unique)))\n",
    "top_15_unique_bogota1_phase3 = len(unique_bogota1_phase3)"
   ]
  },
  {
   "cell_type": "code",
   "execution_count": null,
   "id": "24934333",
   "metadata": {},
   "outputs": [],
   "source": [
    "unique_bogota1_phase3 = list(set(bogota1_phase3).intersection(set(top_20_unique)))\n",
    "top_20_unique_bogota1_phase3 = len(unique_bogota1_phase3)"
   ]
  },
  {
   "cell_type": "code",
   "execution_count": null,
   "id": "25ff14f6",
   "metadata": {},
   "outputs": [],
   "source": [
    "unique_bogota0_phase3 = list(set(bogota0_phase3).intersection(set(new_list)))\n",
    "len_unique_bogota0_phase3 = len(unique_bogota0_phase3)"
   ]
  },
  {
   "cell_type": "code",
   "execution_count": null,
   "id": "9690474a",
   "metadata": {},
   "outputs": [],
   "source": [
    "unique_bogota0_phase3 = list(set(bogota0_phase3).intersection(set(top_5_unique)))\n",
    "top_5_unique_bogota0_phase3 = len(unique_bogota0_phase3)"
   ]
  },
  {
   "cell_type": "code",
   "execution_count": null,
   "id": "95b7c4ff",
   "metadata": {},
   "outputs": [],
   "source": [
    "unique_bogota0_phase3 = list(set(bogota0_phase3).intersection(set(top_10_unique)))\n",
    "top_10_unique_bogota0_phase3 = len(unique_bogota0_phase3)"
   ]
  },
  {
   "cell_type": "code",
   "execution_count": null,
   "id": "75047d78",
   "metadata": {},
   "outputs": [],
   "source": [
    "unique_bogota0_phase3 = list(set(bogota0_phase3).intersection(set(top_15_unique)))\n",
    "top_15_unique_bogota0_phase3 = len(unique_bogota0_phase3)"
   ]
  },
  {
   "cell_type": "code",
   "execution_count": null,
   "id": "ec4cd5ec",
   "metadata": {},
   "outputs": [],
   "source": [
    "unique_bogota0_phase3 = list(set(bogota0_phase3).intersection(set(top_20_unique)))\n",
    "top_20_unique_bogota0_phase3 = len(unique_bogota0_phase3)"
   ]
  },
  {
   "cell_type": "markdown",
   "id": "30fa04f3",
   "metadata": {},
   "source": [
    "## Phase 2"
   ]
  },
  {
   "cell_type": "code",
   "execution_count": null,
   "id": "1d329812",
   "metadata": {},
   "outputs": [],
   "source": [
    "listed = overall_phase2_bogota3['functions'].to_list()\n",
    "converted_list = [str(element) for element in  listed]\n",
    "joined_string = \",\".join(converted_list)\n",
    "bogota3_phase2 = joined_string.split(\",\")"
   ]
  },
  {
   "cell_type": "code",
   "execution_count": null,
   "id": "4f8706c3",
   "metadata": {},
   "outputs": [],
   "source": [
    "listed = overall_phase2_bogota2['functions'].to_list()\n",
    "converted_list = [str(element) for element in  listed]\n",
    "joined_string = \",\".join(converted_list)\n",
    "bogota2_phase2 = joined_string.split(\",\")"
   ]
  },
  {
   "cell_type": "code",
   "execution_count": null,
   "id": "81d050c3",
   "metadata": {},
   "outputs": [],
   "source": [
    "listed = overall_phase2_bogota1['functions'].to_list()\n",
    "converted_list = [str(element) for element in  listed]\n",
    "joined_string = \",\".join(converted_list)\n",
    "bogota1_phase2 = joined_string.split(\",\")"
   ]
  },
  {
   "cell_type": "code",
   "execution_count": null,
   "id": "ad73f160",
   "metadata": {},
   "outputs": [],
   "source": [
    "listed = overall_phase2_bogota0['functions'].to_list()\n",
    "converted_list = [str(element) for element in  listed]\n",
    "joined_string = \",\".join(converted_list)\n",
    "bogota0_phase2 = joined_string.split(\",\")"
   ]
  },
  {
   "cell_type": "code",
   "execution_count": null,
   "id": "6616c043",
   "metadata": {},
   "outputs": [],
   "source": [
    "unique_bogota3_phase2 = list(set(bogota3_phase2).intersection(set(new_list)))\n",
    "len_unique_bogota3_phase2 = len(unique_bogota3_phase2)"
   ]
  },
  {
   "cell_type": "code",
   "execution_count": null,
   "id": "926939b7",
   "metadata": {},
   "outputs": [],
   "source": [
    "unique_bogota3_phase2 = list(set(bogota3_phase2).intersection(set(top_5_unique)))\n",
    "top_5_unique_bogota3_phase2 = len(unique_bogota3_phase2)"
   ]
  },
  {
   "cell_type": "code",
   "execution_count": null,
   "id": "c0f85301",
   "metadata": {},
   "outputs": [],
   "source": [
    "unique_bogota3_phase2 = list(set(bogota3_phase2).intersection(set(top_10_unique)))\n",
    "top_10_unique_bogota3_phase2 = len(unique_bogota3_phase2)"
   ]
  },
  {
   "cell_type": "code",
   "execution_count": null,
   "id": "380a6c22",
   "metadata": {},
   "outputs": [],
   "source": [
    "unique_bogota3_phase2 = list(set(bogota3_phase2).intersection(set(top_15_unique)))\n",
    "top_15_unique_bogota3_phase2 = len(unique_bogota3_phase2)"
   ]
  },
  {
   "cell_type": "code",
   "execution_count": null,
   "id": "bbd1621f",
   "metadata": {},
   "outputs": [],
   "source": [
    "unique_bogota3_phase2 = list(set(bogota3_phase2).intersection(set(top_20_unique)))\n",
    "top_20_unique_bogota3_phase2 = len(unique_bogota3_phase2)"
   ]
  },
  {
   "cell_type": "code",
   "execution_count": null,
   "id": "e2e84483",
   "metadata": {},
   "outputs": [],
   "source": [
    "unique_bogota2_phase2 = list(set(bogota2_phase2).intersection(set(new_list)))\n",
    "len_unique_bogota2_phase2 = len(unique_bogota2_phase2)"
   ]
  },
  {
   "cell_type": "code",
   "execution_count": null,
   "id": "880cfcf4",
   "metadata": {},
   "outputs": [],
   "source": [
    "unique_bogota2_phase2 = list(set(bogota2_phase2).intersection(set(top_5_unique)))\n",
    "top_5_unique_bogota2_phase2 = len(unique_bogota2_phase2)"
   ]
  },
  {
   "cell_type": "code",
   "execution_count": null,
   "id": "8ef235bd",
   "metadata": {},
   "outputs": [],
   "source": [
    "unique_bogota2_phase2 = list(set(bogota2_phase2).intersection(set(top_10_unique)))\n",
    "top_10_unique_bogota2_phase2 = len(unique_bogota2_phase2)"
   ]
  },
  {
   "cell_type": "code",
   "execution_count": null,
   "id": "d514e9f6",
   "metadata": {},
   "outputs": [],
   "source": [
    "unique_bogota2_phase2 = list(set(bogota2_phase2).intersection(set(top_15_unique)))\n",
    "top_15_unique_bogota2_phase2 = len(unique_bogota2_phase2)"
   ]
  },
  {
   "cell_type": "code",
   "execution_count": null,
   "id": "1d6ecf05",
   "metadata": {},
   "outputs": [],
   "source": [
    "unique_bogota2_phase2 = list(set(bogota2_phase2).intersection(set(top_20_unique)))\n",
    "top_20_unique_bogota2_phase2 = len(unique_bogota2_phase2)"
   ]
  },
  {
   "cell_type": "code",
   "execution_count": null,
   "id": "69bf6f01",
   "metadata": {},
   "outputs": [],
   "source": [
    "unique_bogota1_phase2 = list(set(bogota1_phase2).intersection(set(new_list)))\n",
    "len_unique_bogota1_phase2 = len(unique_bogota1_phase2)"
   ]
  },
  {
   "cell_type": "code",
   "execution_count": null,
   "id": "f6667f37",
   "metadata": {},
   "outputs": [],
   "source": [
    "unique_bogota1_phase2 = list(set(bogota1_phase2).intersection(set(top_5_unique)))\n",
    "top_5_unique_bogota1_phase2 = len(unique_bogota1_phase2)"
   ]
  },
  {
   "cell_type": "code",
   "execution_count": null,
   "id": "2ac08ced",
   "metadata": {},
   "outputs": [],
   "source": [
    "unique_bogota1_phase2 = list(set(bogota1_phase2).intersection(set(top_10_unique)))\n",
    "top_10_unique_bogota1_phase2 = len(unique_bogota1_phase2)"
   ]
  },
  {
   "cell_type": "code",
   "execution_count": null,
   "id": "bc5c695d",
   "metadata": {},
   "outputs": [],
   "source": [
    "unique_bogota1_phase2 = list(set(bogota1_phase2).intersection(set(top_15_unique)))\n",
    "top_15_unique_bogota1_phase2 = len(unique_bogota1_phase2)"
   ]
  },
  {
   "cell_type": "code",
   "execution_count": null,
   "id": "fe968f43",
   "metadata": {},
   "outputs": [],
   "source": [
    "unique_bogota1_phase2 = list(set(bogota1_phase2).intersection(set(top_20_unique)))\n",
    "top_20_unique_bogota1_phase2 = len(unique_bogota1_phase2)"
   ]
  },
  {
   "cell_type": "code",
   "execution_count": null,
   "id": "d75710da",
   "metadata": {},
   "outputs": [],
   "source": [
    "unique_bogota0_phase2 = list(set(bogota0_phase2).intersection(set(new_list)))\n",
    "len_unique_bogota0_phase2 = len(unique_bogota0_phase2)"
   ]
  },
  {
   "cell_type": "code",
   "execution_count": null,
   "id": "1ba1a9aa",
   "metadata": {},
   "outputs": [],
   "source": [
    "unique_bogota0_phase2 = list(set(bogota0_phase2).intersection(set(top_5_unique)))\n",
    "top_5_unique_bogota0_phase2 = len(unique_bogota0_phase2)"
   ]
  },
  {
   "cell_type": "code",
   "execution_count": null,
   "id": "3ae6c7d4",
   "metadata": {},
   "outputs": [],
   "source": [
    "unique_bogota0_phase2 = list(set(bogota0_phase2).intersection(set(top_10_unique)))\n",
    "top_10_unique_bogota0_phase2 = len(unique_bogota0_phase2)"
   ]
  },
  {
   "cell_type": "code",
   "execution_count": null,
   "id": "8d9d68ce",
   "metadata": {},
   "outputs": [],
   "source": [
    "unique_bogota0_phase2 = list(set(bogota0_phase2).intersection(set(top_15_unique)))\n",
    "top_15_unique_bogota0_phase2 = len(unique_bogota0_phase2)"
   ]
  },
  {
   "cell_type": "code",
   "execution_count": null,
   "id": "843297f1",
   "metadata": {},
   "outputs": [],
   "source": [
    "unique_bogota0_phase2 = list(set(bogota0_phase2).intersection(set(top_20_unique)))\n",
    "top_20_unique_bogota0_phase2 = len(unique_bogota0_phase2)"
   ]
  },
  {
   "cell_type": "markdown",
   "id": "db1a4d7a",
   "metadata": {},
   "source": [
    "## Phase 1"
   ]
  },
  {
   "cell_type": "code",
   "execution_count": null,
   "id": "d1fe6791",
   "metadata": {},
   "outputs": [],
   "source": [
    "listed = overall_phase1_bogota3['functions'].to_list()\n",
    "converted_list = [str(element) for element in  listed]\n",
    "joined_string = \",\".join(converted_list)\n",
    "bogota3_phase1 = joined_string.split(\",\")"
   ]
  },
  {
   "cell_type": "code",
   "execution_count": null,
   "id": "2c5aa982",
   "metadata": {},
   "outputs": [],
   "source": [
    "listed = overall_phase1_bogota2['functions'].to_list()\n",
    "converted_list = [str(element) for element in  listed]\n",
    "joined_string = \",\".join(converted_list)\n",
    "bogota2_phase1 = joined_string.split(\",\")"
   ]
  },
  {
   "cell_type": "code",
   "execution_count": null,
   "id": "d2ada8bb",
   "metadata": {},
   "outputs": [],
   "source": [
    "listed = overall_phase1_bogota1['functions'].to_list()\n",
    "converted_list = [str(element) for element in  listed]\n",
    "joined_string = \",\".join(converted_list)\n",
    "bogota1_phase1 = joined_string.split(\",\")"
   ]
  },
  {
   "cell_type": "code",
   "execution_count": null,
   "id": "7b8c33c6",
   "metadata": {},
   "outputs": [],
   "source": [
    "listed = overall_phase1_bogota0['functions'].to_list()\n",
    "converted_list = [str(element) for element in  listed]\n",
    "joined_string = \",\".join(converted_list)\n",
    "bogota0_phase1 = joined_string.split(\",\")"
   ]
  },
  {
   "cell_type": "code",
   "execution_count": null,
   "id": "63ed450f",
   "metadata": {},
   "outputs": [],
   "source": [
    "unique_bogota3_phase1 = list(set(bogota3_phase1).intersection(set(new_list)))\n",
    "len_unique_bogota3_phase1 = len(unique_bogota3_phase1)"
   ]
  },
  {
   "cell_type": "code",
   "execution_count": null,
   "id": "514d6d0f",
   "metadata": {},
   "outputs": [],
   "source": [
    "unique_bogota3_phase1 = list(set(bogota3_phase1).intersection(set(top_5_unique)))\n",
    "top_5_unique_bogota3_phase1 = len(unique_bogota3_phase1)"
   ]
  },
  {
   "cell_type": "code",
   "execution_count": null,
   "id": "302b63c8",
   "metadata": {},
   "outputs": [],
   "source": [
    "unique_bogota3_phase1 = list(set(bogota3_phase1).intersection(set(top_10_unique)))\n",
    "top_10_unique_bogota3_phase1 = len(unique_bogota3_phase1)"
   ]
  },
  {
   "cell_type": "code",
   "execution_count": null,
   "id": "33ee79d3",
   "metadata": {},
   "outputs": [],
   "source": [
    "unique_bogota3_phase1 = list(set(bogota3_phase1).intersection(set(top_15_unique)))\n",
    "top_15_unique_bogota3_phase1 = len(unique_bogota3_phase1)"
   ]
  },
  {
   "cell_type": "code",
   "execution_count": null,
   "id": "c1c0eee3",
   "metadata": {},
   "outputs": [],
   "source": [
    "unique_bogota3_phase1 = list(set(bogota3_phase1).intersection(set(top_20_unique)))\n",
    "top_20_unique_bogota3_phase1 = len(unique_bogota3_phase1)"
   ]
  },
  {
   "cell_type": "code",
   "execution_count": null,
   "id": "70ebd8db",
   "metadata": {},
   "outputs": [],
   "source": [
    "unique_bogota2_phase1 = list(set(bogota2_phase1).intersection(set(new_list)))\n",
    "len_unique_bogota2_phase1 = len(unique_bogota2_phase1)"
   ]
  },
  {
   "cell_type": "code",
   "execution_count": null,
   "id": "71ade579",
   "metadata": {},
   "outputs": [],
   "source": [
    "unique_bogota2_phase1 = list(set(bogota2_phase1).intersection(set(top_5_unique)))\n",
    "top_5_unique_bogota2_phase1 = len(unique_bogota2_phase1)"
   ]
  },
  {
   "cell_type": "code",
   "execution_count": null,
   "id": "0dfa3cb5",
   "metadata": {},
   "outputs": [],
   "source": [
    "unique_bogota2_phase1 = list(set(bogota2_phase1).intersection(set(top_10_unique)))\n",
    "top_10_unique_bogota2_phase1 = len(unique_bogota2_phase1)"
   ]
  },
  {
   "cell_type": "code",
   "execution_count": null,
   "id": "5bb3cb7e",
   "metadata": {},
   "outputs": [],
   "source": [
    "unique_bogota2_phase1 = list(set(bogota2_phase1).intersection(set(top_15_unique)))\n",
    "top_15_unique_bogota2_phase1 = len(unique_bogota2_phase1)"
   ]
  },
  {
   "cell_type": "code",
   "execution_count": null,
   "id": "17296197",
   "metadata": {},
   "outputs": [],
   "source": [
    "unique_bogota2_phase1 = list(set(bogota2_phase1).intersection(set(top_20_unique)))\n",
    "top_20_unique_bogota2_phase1 = len(unique_bogota2_phase1)"
   ]
  },
  {
   "cell_type": "code",
   "execution_count": null,
   "id": "160bd241",
   "metadata": {},
   "outputs": [],
   "source": [
    "unique_bogota1_phase1 = list(set(bogota1_phase1).intersection(set(new_list)))\n",
    "len_unique_bogota1_phase1 = len(unique_bogota1_phase1)"
   ]
  },
  {
   "cell_type": "code",
   "execution_count": null,
   "id": "5ebe45bb",
   "metadata": {},
   "outputs": [],
   "source": [
    "unique_bogota1_phase1 = list(set(bogota1_phase1).intersection(set(top_5_unique)))\n",
    "top_5_unique_bogota1_phase1 = len(unique_bogota1_phase1)"
   ]
  },
  {
   "cell_type": "code",
   "execution_count": null,
   "id": "6cb945b2",
   "metadata": {},
   "outputs": [],
   "source": [
    "unique_bogota1_phase1 = list(set(bogota1_phase1).intersection(set(top_10_unique)))\n",
    "top_10_unique_bogota1_phase1 = len(unique_bogota1_phase1)"
   ]
  },
  {
   "cell_type": "code",
   "execution_count": null,
   "id": "f3794257",
   "metadata": {},
   "outputs": [],
   "source": [
    "unique_bogota1_phase1 = list(set(bogota1_phase1).intersection(set(top_15_unique)))\n",
    "top_15_unique_bogota1_phase1 = len(unique_bogota1_phase1)"
   ]
  },
  {
   "cell_type": "code",
   "execution_count": null,
   "id": "103e8161",
   "metadata": {},
   "outputs": [],
   "source": [
    "unique_bogota1_phase1 = list(set(bogota1_phase1).intersection(set(top_20_unique)))\n",
    "top_20_unique_bogota1_phase1 = len(unique_bogota1_phase1)"
   ]
  },
  {
   "cell_type": "code",
   "execution_count": null,
   "id": "62f6b7c0",
   "metadata": {},
   "outputs": [],
   "source": [
    "unique_bogota0_phase1 = list(set(bogota0_phase1).intersection(set(new_list)))\n",
    "len_unique_bogota0_phase1 = len(unique_bogota0_phase1)"
   ]
  },
  {
   "cell_type": "code",
   "execution_count": null,
   "id": "f97597d0",
   "metadata": {},
   "outputs": [],
   "source": [
    "unique_bogota0_phase1 = list(set(bogota0_phase1).intersection(set(top_5_unique)))\n",
    "top_5_unique_bogota0_phase1 = len(unique_bogota0_phase1)"
   ]
  },
  {
   "cell_type": "code",
   "execution_count": null,
   "id": "96c83fe8",
   "metadata": {},
   "outputs": [],
   "source": [
    "unique_bogota0_phase1 = list(set(bogota0_phase1).intersection(set(top_10_unique)))\n",
    "top_10_unique_bogota0_phase1 = len(unique_bogota0_phase1)"
   ]
  },
  {
   "cell_type": "code",
   "execution_count": null,
   "id": "65fa4ec5",
   "metadata": {},
   "outputs": [],
   "source": [
    "unique_bogota0_phase1 = list(set(bogota0_phase1).intersection(set(top_15_unique)))\n",
    "top_15_unique_bogota0_phase1 = len(unique_bogota0_phase1)"
   ]
  },
  {
   "cell_type": "code",
   "execution_count": null,
   "id": "4d8c488e",
   "metadata": {},
   "outputs": [],
   "source": [
    "unique_bogota0_phase1 = list(set(bogota0_phase1).intersection(set(top_20_unique)))\n",
    "top_20_unique_bogota0_phase1 = len(unique_bogota0_phase1)"
   ]
  },
  {
   "cell_type": "code",
   "execution_count": null,
   "id": "2188c315",
   "metadata": {},
   "outputs": [],
   "source": [
    "import matplotlib.pyplot as plt\n",
    "\n",
    "# Mean Scores of All Groups [ Tech Scores ]\n",
    "\n",
    "y1 = [len_unique_bogota0_phase1, len_unique_bogota0_phase2, len_unique_bogota0_phase3, len_unique_bogota0_phase4, len_unique_bogota0_phase5]\n",
    "y2 = [len_unique_bogota1_phase1, len_unique_bogota1_phase2, len_unique_bogota1_phase3, len_unique_bogota1_phase4, len_unique_bogota1_phase5]\n",
    "y3 = [len_unique_bogota2_phase1, len_unique_bogota2_phase2, len_unique_bogota2_phase3, len_unique_bogota2_phase4, len_unique_bogota2_phase5]\n",
    "y4 = [len_unique_bogota3_phase1, len_unique_bogota3_phase2, len_unique_bogota3_phase3, len_unique_bogota3_phase4, len_unique_bogota3_phase5]   \n",
    "\n",
    "\n",
    "\n",
    "x_axis=['Phase 1', 'Phase 2', 'Phase 3', 'Phase 4', 'Phase 5']\n",
    "\n",
    "line3 = plt.plot(x_axis, y1,'bo-',label='Bogota 0 ( No Transparency )') \n",
    "line4 = plt.plot(x_axis, y2,'go-',label='Bogota 1 ( Performance Transparency )') \n",
    "line1 = plt.plot(x_axis, y3,'ko-',label='Bogota 2 ( Solution Transparency )')\n",
    "line2 = plt.plot(x_axis, y4,'ro-',label='Bogota 3 ( Full Transparency )') \n",
    "\n",
    "plt.title(\"Count of Unique Functions ( 20,000 )\")\n",
    "plt.ylabel(\"Count of Unique Functions ( 20,000 )\")\n",
    "\n",
    "\n",
    "plt.legend(bbox_to_anchor=(1.5, 1),\n",
    "           bbox_transform=plt.gcf().transFigure)"
   ]
  },
  {
   "cell_type": "code",
   "execution_count": null,
   "id": "afd6e9e3",
   "metadata": {},
   "outputs": [],
   "source": [
    "import matplotlib.pyplot as plt\n",
    "\n",
    "# Mean Scores of All Groups [ Tech Scores ]\n",
    "\n",
    "y1 = [ top_5_unique_bogota0_phase1, top_5_unique_bogota0_phase2, top_5_unique_bogota0_phase3, top_5_unique_bogota0_phase4, top_5_unique_bogota0_phase5]\n",
    "y2 = [ top_5_unique_bogota1_phase1, top_5_unique_bogota1_phase2, top_5_unique_bogota1_phase3, top_5_unique_bogota1_phase4, top_5_unique_bogota1_phase5]\n",
    "y3 = [ top_5_unique_bogota2_phase1, top_5_unique_bogota2_phase2, top_5_unique_bogota2_phase3, top_5_unique_bogota2_phase4, top_5_unique_bogota2_phase5]\n",
    "y4 = [ top_5_unique_bogota3_phase1, top_5_unique_bogota3_phase2, top_5_unique_bogota3_phase3, top_5_unique_bogota3_phase4, top_5_unique_bogota3_phase5]\n",
    "\n",
    "\n",
    "\n",
    "x_axis=['Phase 1', 'Phase 2', 'Phase 3', 'Phase 4', 'Phase 5']\n",
    "\n",
    "line3 = plt.plot(x_axis, y1,'bo-',label='Bogota 0 ( No Transparency )') \n",
    "line4 = plt.plot(x_axis, y2,'go-',label='Bogota 1 ( Performance Transparency )') \n",
    "line1 = plt.plot(x_axis, y3,'ko-',label='Bogota 2 ( Solution Transparency )')\n",
    "line2 = plt.plot(x_axis, y4,'ro-',label='Bogota 3 ( Full Transparency )') \n",
    "\n",
    "plt.title(\"Count of Top 5% Least Common Functions\")\n",
    "plt.ylabel(\"Count of Top 5% Least Common Functions\")\n",
    "\n",
    "\n",
    "plt.legend(bbox_to_anchor=(1.5, 1),\n",
    "           bbox_transform=plt.gcf().transFigure)"
   ]
  },
  {
   "cell_type": "code",
   "execution_count": null,
   "id": "584a4d37",
   "metadata": {},
   "outputs": [],
   "source": [
    "import matplotlib.pyplot as plt\n",
    "\n",
    "# Mean Scores of All Groups [ Tech Scores ]\n",
    "\n",
    "y1 = [ top_10_unique_bogota0_phase1, top_10_unique_bogota0_phase2, top_10_unique_bogota0_phase3, top_10_unique_bogota0_phase4, top_10_unique_bogota0_phase5]\n",
    "y2 = [ top_10_unique_bogota1_phase1, top_10_unique_bogota1_phase2, top_10_unique_bogota1_phase3, top_10_unique_bogota1_phase4, top_10_unique_bogota1_phase5]\n",
    "y3 = [ top_10_unique_bogota2_phase1, top_10_unique_bogota2_phase2, top_10_unique_bogota2_phase3, top_10_unique_bogota2_phase4, top_10_unique_bogota2_phase5]\n",
    "y4 = [ top_10_unique_bogota3_phase1, top_10_unique_bogota3_phase2, top_10_unique_bogota3_phase3, top_10_unique_bogota3_phase4, top_10_unique_bogota3_phase5]\n",
    "\n",
    "x_axis=['Phase 1', 'Phase 2', 'Phase 3', 'Phase 4', 'Phase 5']\n",
    "\n",
    "line3 = plt.plot(x_axis, y1,'bo-',label='Bogota 0 ( No Transparency )') \n",
    "line4 = plt.plot(x_axis, y2,'go-',label='Bogota 1 ( Performance Transparency )') \n",
    "line1 = plt.plot(x_axis, y3,'ko-',label='Bogota 2 ( Solution Transparency )')\n",
    "line2 = plt.plot(x_axis, y4,'ro-',label='Bogota 3 ( Full Transparency )') \n",
    "\n",
    "plt.title(\"Count of Top 10% Least Common Functions\")\n",
    "plt.ylabel(\"Count of Top 10% Least Common Functions\")\n",
    "\n",
    "\n",
    "plt.legend(bbox_to_anchor=(1.5, 1),\n",
    "           bbox_transform=plt.gcf().transFigure)"
   ]
  },
  {
   "cell_type": "code",
   "execution_count": null,
   "id": "dcb4a039",
   "metadata": {},
   "outputs": [],
   "source": [
    "import matplotlib.pyplot as plt\n",
    "\n",
    "# Mean Scores of All Groups [ Tech Scores ]\n",
    "\n",
    "y1 = [ top_15_unique_bogota0_phase1, top_15_unique_bogota0_phase2, top_15_unique_bogota0_phase3, top_15_unique_bogota0_phase4, top_15_unique_bogota0_phase5]\n",
    "y2 = [ top_15_unique_bogota1_phase1, top_15_unique_bogota1_phase2, top_15_unique_bogota1_phase3, top_15_unique_bogota1_phase4, top_15_unique_bogota1_phase5]\n",
    "y3 = [ top_15_unique_bogota2_phase1, top_15_unique_bogota2_phase2, top_15_unique_bogota2_phase3, top_15_unique_bogota2_phase4, top_15_unique_bogota2_phase5]\n",
    "y4 = [ top_15_unique_bogota3_phase1, top_15_unique_bogota3_phase2, top_15_unique_bogota3_phase3, top_15_unique_bogota3_phase4, top_15_unique_bogota3_phase5]\n",
    "\n",
    "\n",
    "\n",
    "x_axis=['Phase 1', 'Phase 2', 'Phase 3', 'Phase 4', 'Phase 5']\n",
    "\n",
    "line3 = plt.plot(x_axis, y1,'bo-',label='Bogota 0 ( No Transparency )') \n",
    "line4 = plt.plot(x_axis, y2,'go-',label='Bogota 1 ( Performance Transparency )') \n",
    "line1 = plt.plot(x_axis, y3,'ko-',label='Bogota 2 ( Solution Transparency )')\n",
    "line2 = plt.plot(x_axis, y4,'ro-',label='Bogota 3 ( Full Transparency )') \n",
    "\n",
    "plt.title(\"Count of Top 15% Least Common Functions\")\n",
    "plt.ylabel(\"Count of Top 15% Least Common Functions\")\n",
    "\n",
    "\n",
    "plt.legend(bbox_to_anchor=(1.5, 1),\n",
    "           bbox_transform=plt.gcf().transFigure)"
   ]
  },
  {
   "cell_type": "code",
   "execution_count": null,
   "id": "fe5ad9db",
   "metadata": {},
   "outputs": [],
   "source": [
    "import matplotlib.pyplot as plt\n",
    "\n",
    "# Mean Scores of All Groups [ Tech Scores ]\n",
    "\n",
    "y1 = [ top_20_unique_bogota0_phase1, top_20_unique_bogota0_phase2, top_20_unique_bogota0_phase3, top_20_unique_bogota0_phase4, top_20_unique_bogota0_phase5]\n",
    "y2 = [ top_20_unique_bogota1_phase1, top_20_unique_bogota1_phase2, top_20_unique_bogota1_phase3, top_20_unique_bogota1_phase4, top_20_unique_bogota1_phase5]\n",
    "y3 = [ top_20_unique_bogota2_phase1, top_20_unique_bogota2_phase2, top_20_unique_bogota2_phase3, top_20_unique_bogota2_phase4, top_20_unique_bogota2_phase5]\n",
    "y4 = [ top_20_unique_bogota3_phase1, top_20_unique_bogota3_phase2, top_20_unique_bogota3_phase3, top_20_unique_bogota3_phase4, top_20_unique_bogota3_phase5]\n",
    "\n",
    "x_axis=['Phase 1', 'Phase 2', 'Phase 3', 'Phase 4', 'Phase 5']\n",
    "\n",
    "line3 = plt.plot(x_axis, y1,'bo-',label='Bogota 0 ( No Transparency )') \n",
    "line4 = plt.plot(x_axis, y2,'go-',label='Bogota 1 ( Performance Transparency )') \n",
    "line1 = plt.plot(x_axis, y3,'ko-',label='Bogota 2 ( Solution Transparency )')\n",
    "line2 = plt.plot(x_axis, y4,'ro-',label='Bogota 3 ( Full Transparency )') \n",
    "\n",
    "plt.title(\"Count of Top 20% Least Common Functions\")\n",
    "plt.ylabel(\"Count of Top 20% Least Common Functions\")\n",
    "\n",
    "\n",
    "plt.legend(bbox_to_anchor=(1.5, 1),\n",
    "           bbox_transform=plt.gcf().transFigure)"
   ]
  },
  {
   "cell_type": "markdown",
   "id": "22c0bdf7",
   "metadata": {},
   "source": [
    "## Exploration of Functions Sample"
   ]
  },
  {
   "cell_type": "markdown",
   "id": "91597152",
   "metadata": {},
   "source": [
    "- We find the overlap ( common functions ) between all 4 groups. ( don't worry about phase )\n",
    "\n",
    "- Do the pairwise overlap ( common functions ) between all 4 groups ( don't worry about phase )\n",
    "\n",
    "- Find the template ( tutorials ) "
   ]
  },
  {
   "cell_type": "markdown",
   "id": "ac8a151d",
   "metadata": {},
   "source": [
    "## Pairwise Overlap"
   ]
  },
  {
   "cell_type": "code",
   "execution_count": null,
   "id": "a1e81f02",
   "metadata": {},
   "outputs": [],
   "source": [
    "bogota3 = bogota3_phase5 + bogota3_phase4 + bogota3_phase3 + bogota3_phase2 + bogota3_phase1\n",
    "bogota2 = bogota2_phase5 + bogota2_phase4 + bogota2_phase3 + bogota2_phase2 + bogota2_phase1\n",
    "bogota1 = bogota1_phase5 + bogota1_phase4 + bogota1_phase3 + bogota1_phase2 + bogota1_phase1\n",
    "bogota0 = bogota0_phase5 + bogota0_phase4 + bogota0_phase3 + bogota0_phase2 + bogota0_phase1\n",
    "bogota3 = list(filter(None, bogota3))\n",
    "bogota2 = list(filter(None, bogota2))\n",
    "bogota1 = list(filter(None, bogota1))\n",
    "bogota0 = list(filter(None, bogota0))"
   ]
  },
  {
   "cell_type": "code",
   "execution_count": null,
   "id": "6f0e3b41",
   "metadata": {},
   "outputs": [],
   "source": [
    "from collections import Counter\n",
    "\n",
    "def count_intersections(lst1, lst2):\n",
    "    c1 = Counter(lst1)\n",
    "    c2 = Counter(lst2)\n",
    "    return { k: min(c1[k], c2[k]) for k in c1.keys() & c2.keys() }\n",
    "\n",
    "count_intersections(bogota3, bogota2)"
   ]
  },
  {
   "cell_type": "code",
   "execution_count": null,
   "id": "9edc467e",
   "metadata": {},
   "outputs": [],
   "source": [
    "intersect23 = len(count_intersections(bogota3, bogota2))\n",
    "intersect23"
   ]
  },
  {
   "cell_type": "code",
   "execution_count": null,
   "id": "17d08862",
   "metadata": {},
   "outputs": [],
   "source": [
    "count_intersections(bogota2, bogota1)"
   ]
  },
  {
   "cell_type": "code",
   "execution_count": null,
   "id": "a3a5f71d",
   "metadata": {},
   "outputs": [],
   "source": [
    "intersect12 = len(count_intersections(bogota2, bogota1))\n",
    "intersect12"
   ]
  },
  {
   "cell_type": "code",
   "execution_count": null,
   "id": "811d85fb",
   "metadata": {},
   "outputs": [],
   "source": [
    "count_intersections(bogota1, bogota0)"
   ]
  },
  {
   "cell_type": "code",
   "execution_count": null,
   "id": "8a9fc75b",
   "metadata": {},
   "outputs": [],
   "source": [
    "intersect01 = len(count_intersections(bogota1, bogota0))\n",
    "intersect01"
   ]
  },
  {
   "cell_type": "code",
   "execution_count": null,
   "id": "c346d1b7",
   "metadata": {},
   "outputs": [],
   "source": [
    "count_intersections(bogota3, bogota0)"
   ]
  },
  {
   "cell_type": "code",
   "execution_count": null,
   "id": "54369aca",
   "metadata": {},
   "outputs": [],
   "source": [
    "intersect03 = len(count_intersections(bogota3, bogota0))\n",
    "intersect03"
   ]
  },
  {
   "cell_type": "code",
   "execution_count": null,
   "id": "1ee0c132",
   "metadata": {},
   "outputs": [],
   "source": [
    "count_intersections(bogota1, bogota3)"
   ]
  },
  {
   "cell_type": "code",
   "execution_count": null,
   "id": "76a96a1e",
   "metadata": {},
   "outputs": [],
   "source": [
    "intersect13 = len(count_intersections(bogota1, bogota3))\n",
    "intersect13"
   ]
  },
  {
   "cell_type": "code",
   "execution_count": null,
   "id": "7e7134f0",
   "metadata": {},
   "outputs": [],
   "source": [
    "count_intersections(bogota2, bogota0)"
   ]
  },
  {
   "cell_type": "code",
   "execution_count": null,
   "id": "610684ea",
   "metadata": {},
   "outputs": [],
   "source": [
    "intersect02 = len(count_intersections(bogota2, bogota0))\n",
    "intersect02"
   ]
  },
  {
   "cell_type": "markdown",
   "id": "8b27cc57",
   "metadata": {},
   "source": [
    "## Intersection Between All 4 Groups"
   ]
  },
  {
   "cell_type": "code",
   "execution_count": null,
   "id": "55caa05b",
   "metadata": {},
   "outputs": [],
   "source": [
    "from collections import Counter\n",
    "\n",
    "def count_intersections(lst1, lst2, lst3, lst4):\n",
    "    c1 = Counter(lst1)\n",
    "    c2 = Counter(lst2)\n",
    "    c3 = Counter(lst3)\n",
    "    c4 = Counter(lst4)\n",
    "    return { k: min(c1[k], c2[k], c3[k], c4[k]) for k in c1.keys() & c2.keys() & c3.keys() & c4.keys() }\n",
    "\n",
    "count_intersections(bogota3, bogota2, bogota1, bogota0)"
   ]
  },
  {
   "cell_type": "code",
   "execution_count": null,
   "id": "b1c3d8db",
   "metadata": {},
   "outputs": [],
   "source": [
    "intersect0123 = len(count_intersections(bogota3, bogota2, bogota1, bogota0))\n",
    "intersect0123"
   ]
  },
  {
   "cell_type": "code",
   "execution_count": null,
   "id": "99d72060",
   "metadata": {},
   "outputs": [],
   "source": [
    "from collections import Counter\n",
    "\n",
    "def count_intersections(lst1, lst2, lst3):\n",
    "    c1 = Counter(lst1)\n",
    "    c2 = Counter(lst2)\n",
    "    c3 = Counter(lst3)\n",
    "   \n",
    "    return { k: min(c1[k], c2[k], c3[k]) for k in c1.keys() & c2.keys() & c3.keys()}\n",
    "\n",
    "count_intersections(bogota2, bogota1, bogota0)"
   ]
  },
  {
   "cell_type": "code",
   "execution_count": null,
   "id": "ef605a50",
   "metadata": {},
   "outputs": [],
   "source": [
    "intersect012 = len(count_intersections(bogota2, bogota1, bogota0))\n",
    "intersect012"
   ]
  },
  {
   "cell_type": "markdown",
   "id": "dc576da8",
   "metadata": {},
   "source": [
    "## Total Count of Functions For Each Group"
   ]
  },
  {
   "cell_type": "code",
   "execution_count": null,
   "id": "1d124954",
   "metadata": {},
   "outputs": [],
   "source": [
    "total_count_functions_bogota0 = len(bogota0)\n",
    "total_count_functions_bogota0"
   ]
  },
  {
   "cell_type": "code",
   "execution_count": null,
   "id": "e3a912ed",
   "metadata": {},
   "outputs": [],
   "source": [
    "total_count_functions_bogota1 = len(bogota1)\n",
    "total_count_functions_bogota1"
   ]
  },
  {
   "cell_type": "code",
   "execution_count": null,
   "id": "9459cf49",
   "metadata": {},
   "outputs": [],
   "source": [
    "total_count_functions_bogota2 = len(bogota2)\n",
    "total_count_functions_bogota2"
   ]
  },
  {
   "cell_type": "code",
   "execution_count": null,
   "id": "4945f624",
   "metadata": {},
   "outputs": [],
   "source": [
    "total_count_functions_bogota3 = len(bogota3)\n",
    "total_count_functions_bogota3"
   ]
  },
  {
   "cell_type": "code",
   "execution_count": null,
   "id": "be4ec014",
   "metadata": {},
   "outputs": [],
   "source": [
    "df = pd.DataFrame({'Group':['None', 'Performance', 'Solution', \n",
    "                           'Full'], 'count':[total_count_functions_bogota0, total_count_functions_bogota1, \n",
    "                                                       total_count_functions_bogota2, total_count_functions_bogota3]})\n",
    "ax = df.plot.bar(x='Group', y='count', rot=0)"
   ]
  },
  {
   "cell_type": "markdown",
   "id": "e19c6c93",
   "metadata": {},
   "source": [
    "## Total Unique Functions For Each Group"
   ]
  },
  {
   "cell_type": "code",
   "execution_count": null,
   "id": "e9acad76",
   "metadata": {},
   "outputs": [],
   "source": [
    "remove_duplicates = list(set(bogota3))\n",
    "remove_all_duplicates = list(filter(None, remove_duplicates))\n",
    "total_unique_functions_bogota3 = len(remove_all_duplicates)\n",
    "total_unique_functions_bogota3"
   ]
  },
  {
   "cell_type": "code",
   "execution_count": null,
   "id": "d70710f1",
   "metadata": {},
   "outputs": [],
   "source": [
    "remove_duplicates = list(set(bogota2))\n",
    "remove_all_duplicates = list(filter(None, remove_duplicates))\n",
    "total_unique_functions_bogota2 = len(remove_all_duplicates)\n",
    "total_unique_functions_bogota2"
   ]
  },
  {
   "cell_type": "code",
   "execution_count": null,
   "id": "6db41d0b",
   "metadata": {},
   "outputs": [],
   "source": [
    "remove_duplicates = list(set(bogota1))\n",
    "remove_all_duplicates = list(filter(None, remove_duplicates))\n",
    "total_unique_functions_bogota1 = len(remove_all_duplicates)\n",
    "total_unique_functions_bogota1"
   ]
  },
  {
   "cell_type": "code",
   "execution_count": null,
   "id": "d6eca40b",
   "metadata": {},
   "outputs": [],
   "source": [
    "remove_duplicates = list(set(bogota0))\n",
    "remove_all_duplicates = list(filter(None, remove_duplicates))\n",
    "total_unique_functions_bogota0 = len(remove_all_duplicates)\n",
    "total_unique_functions_bogota0"
   ]
  },
  {
   "cell_type": "code",
   "execution_count": null,
   "id": "67b618f4",
   "metadata": {},
   "outputs": [],
   "source": [
    "df = pd.DataFrame({'Group':['None', 'Performance', 'Solution', \n",
    "                           'Full'], 'count':[total_unique_functions_bogota0, total_unique_functions_bogota1, \n",
    "                                                       total_unique_functions_bogota2, total_unique_functions_bogota3]})\n",
    "ax = df.plot.bar(x='Group', y='count', rot=0)"
   ]
  },
  {
   "cell_type": "markdown",
   "id": "602b8dd7",
   "metadata": {},
   "source": [
    "## Studying the Overlap of No Transparency Case with All Others"
   ]
  },
  {
   "cell_type": "code",
   "execution_count": null,
   "id": "cc2177cd",
   "metadata": {},
   "outputs": [],
   "source": [
    "( intersect01 / total_unique_functions_bogota0 ) * 100 "
   ]
  },
  {
   "cell_type": "code",
   "execution_count": null,
   "id": "c41ada6f",
   "metadata": {},
   "outputs": [],
   "source": [
    "# library\n",
    "import matplotlib.pyplot as plt\n",
    "from matplotlib_venn import venn2\n",
    " \n",
    "# First way to call the 2 group Venn diagram:\n",
    "venn2(subsets = (total_unique_functions_bogota0, total_unique_functions_bogota1, intersect01), set_labels = ('No Transparency', 'Performance Transparency'))\n",
    "plt.show()"
   ]
  },
  {
   "cell_type": "code",
   "execution_count": null,
   "id": "e959c245",
   "metadata": {},
   "outputs": [],
   "source": [
    "( intersect01 / total_unique_functions_bogota1 ) * 100 "
   ]
  },
  {
   "cell_type": "code",
   "execution_count": null,
   "id": "575a8b00",
   "metadata": {},
   "outputs": [],
   "source": [
    "( intersect02 / total_unique_functions_bogota0 ) * 100 "
   ]
  },
  {
   "cell_type": "code",
   "execution_count": null,
   "id": "c72d49b9",
   "metadata": {},
   "outputs": [],
   "source": [
    "# library\n",
    "import matplotlib.pyplot as plt\n",
    "from matplotlib_venn import venn2\n",
    " \n",
    "# First way to call the 2 group Venn diagram:\n",
    "venn2(subsets = (total_unique_functions_bogota0, total_unique_functions_bogota2, intersect02), set_labels = ('No Transparency', 'Solution Transparency'))\n",
    "plt.show()"
   ]
  },
  {
   "cell_type": "code",
   "execution_count": null,
   "id": "b8300abc",
   "metadata": {},
   "outputs": [],
   "source": [
    "( intersect02 / total_unique_functions_bogota2 ) * 100 "
   ]
  },
  {
   "cell_type": "code",
   "execution_count": null,
   "id": "d946f15a",
   "metadata": {},
   "outputs": [],
   "source": [
    "( intersect03 / total_unique_functions_bogota0 ) * 100 "
   ]
  },
  {
   "cell_type": "code",
   "execution_count": null,
   "id": "508a3d8e",
   "metadata": {},
   "outputs": [],
   "source": [
    "# library\n",
    "import matplotlib.pyplot as plt\n",
    "from matplotlib_venn import venn2\n",
    " \n",
    "# First way to call the 2 group Venn diagram:\n",
    "venn2(subsets = (total_unique_functions_bogota0, total_unique_functions_bogota3, intersect03), set_labels = ('No Transparency', 'Full Transparency'))\n",
    "plt.show()"
   ]
  },
  {
   "cell_type": "code",
   "execution_count": null,
   "id": "9c65b32c",
   "metadata": {},
   "outputs": [],
   "source": [
    "( intersect03 / total_unique_functions_bogota3 ) * 100 "
   ]
  },
  {
   "cell_type": "markdown",
   "id": "f61e4d53",
   "metadata": {},
   "source": [
    "## Studying the Overlap of Performance Transparency with All Others"
   ]
  },
  {
   "cell_type": "code",
   "execution_count": null,
   "id": "1dfb85f3",
   "metadata": {},
   "outputs": [],
   "source": [
    "( intersect12 / total_unique_functions_bogota1 ) * 100 "
   ]
  },
  {
   "cell_type": "code",
   "execution_count": null,
   "id": "2c29fa6d",
   "metadata": {},
   "outputs": [],
   "source": [
    "( intersect12 / total_unique_functions_bogota2 ) * 100 "
   ]
  },
  {
   "cell_type": "code",
   "execution_count": null,
   "id": "69628d35",
   "metadata": {},
   "outputs": [],
   "source": [
    "# library\n",
    "import matplotlib.pyplot as plt\n",
    "from matplotlib_venn import venn2\n",
    " \n",
    "# First way to call the 2 group Venn diagram:\n",
    "venn2(subsets = (total_unique_functions_bogota1, total_unique_functions_bogota2, intersect12), set_labels = ('Performance Transparency', 'Solution Transparency'))\n",
    "plt.show()"
   ]
  },
  {
   "cell_type": "code",
   "execution_count": null,
   "id": "52e1dde4",
   "metadata": {},
   "outputs": [],
   "source": [
    "( intersect13 / total_unique_functions_bogota1 ) * 100 "
   ]
  },
  {
   "cell_type": "code",
   "execution_count": null,
   "id": "99da068e",
   "metadata": {},
   "outputs": [],
   "source": [
    "# library\n",
    "import matplotlib.pyplot as plt\n",
    "from matplotlib_venn import venn2\n",
    " \n",
    "# First way to call the 2 group Venn diagram:\n",
    "venn2(subsets = (total_unique_functions_bogota1, total_unique_functions_bogota3, intersect13), set_labels = ('Performance Transparency', 'Full Transparency'))\n",
    "plt.show()"
   ]
  },
  {
   "cell_type": "code",
   "execution_count": null,
   "id": "49fd6085",
   "metadata": {},
   "outputs": [],
   "source": [
    "( intersect13 / total_unique_functions_bogota3 ) * 100 "
   ]
  },
  {
   "cell_type": "markdown",
   "id": "9f18637e",
   "metadata": {},
   "source": [
    "## Studying the Overlap of Solution Transparency with All Others"
   ]
  },
  {
   "cell_type": "code",
   "execution_count": null,
   "id": "f1631340",
   "metadata": {},
   "outputs": [],
   "source": [
    "( intersect23 / total_unique_functions_bogota2 ) * 100 "
   ]
  },
  {
   "cell_type": "code",
   "execution_count": null,
   "id": "88d6f130",
   "metadata": {},
   "outputs": [],
   "source": [
    "# library\n",
    "import matplotlib.pyplot as plt\n",
    "from matplotlib_venn import venn2\n",
    " \n",
    "# First way to call the 2 group Venn diagram:\n",
    "venn2(subsets = (total_unique_functions_bogota2, total_unique_functions_bogota3, intersect23), set_labels = ('Solution Transparency', 'Full Transparency'))\n",
    "plt.show()"
   ]
  },
  {
   "cell_type": "code",
   "execution_count": null,
   "id": "1415a2ee",
   "metadata": {},
   "outputs": [],
   "source": [
    "( intersect23 / total_unique_functions_bogota3 ) * 100 "
   ]
  },
  {
   "cell_type": "markdown",
   "id": "ec6e504c",
   "metadata": {},
   "source": [
    "## Percentage Global Functions Context "
   ]
  },
  {
   "cell_type": "code",
   "execution_count": null,
   "id": "887421aa",
   "metadata": {},
   "outputs": [],
   "source": [
    "( total_unique_functions_bogota0 / total_unique_functions_global) * 100 "
   ]
  },
  {
   "cell_type": "code",
   "execution_count": null,
   "id": "72178bb4",
   "metadata": {},
   "outputs": [],
   "source": [
    "( total_unique_functions_bogota1 / total_unique_functions_global) * 100 "
   ]
  },
  {
   "cell_type": "code",
   "execution_count": null,
   "id": "1eda07ba",
   "metadata": {},
   "outputs": [],
   "source": [
    "( total_unique_functions_bogota2 / total_unique_functions_global) * 100 "
   ]
  },
  {
   "cell_type": "code",
   "execution_count": null,
   "id": "3c1fdb55",
   "metadata": {},
   "outputs": [],
   "source": [
    "( total_unique_functions_bogota3 / total_unique_functions_global) * 100 "
   ]
  },
  {
   "cell_type": "markdown",
   "id": "1ad8fc44",
   "metadata": {},
   "source": [
    "## Investigating Outliers in  Length of Unique Functions ( Non-Repetitive Functions)"
   ]
  },
  {
   "cell_type": "code",
   "execution_count": null,
   "id": "d3eda0f9",
   "metadata": {},
   "outputs": [],
   "source": [
    "overall_phase1[overall_phase1['len_unique'] > 100]"
   ]
  },
  {
   "cell_type": "code",
   "execution_count": null,
   "id": "9ea393c0",
   "metadata": {},
   "outputs": [],
   "source": [
    "overall_phase2[overall_phase2['len_unique'] > 100]"
   ]
  },
  {
   "cell_type": "code",
   "execution_count": null,
   "id": "a0f97b00",
   "metadata": {},
   "outputs": [],
   "source": [
    "overall_phase3[overall_phase3['len_unique'] > 100]"
   ]
  },
  {
   "cell_type": "code",
   "execution_count": null,
   "id": "e0c45371",
   "metadata": {},
   "outputs": [],
   "source": [
    "overall_phase4[overall_phase4['len_unique'] > 100]"
   ]
  },
  {
   "cell_type": "code",
   "execution_count": null,
   "id": "0542a9f8",
   "metadata": {},
   "outputs": [],
   "source": [
    "overall_phase5[overall_phase5['len_unique'] > 100]"
   ]
  },
  {
   "cell_type": "code",
   "execution_count": null,
   "id": "49a68429",
   "metadata": {},
   "outputs": [],
   "source": [
    "%store overall_phase1\n",
    "%store overall_phase2\n",
    "%store overall_phase3\n",
    "%store overall_phase4\n",
    "%store overall_phase5\n",
    "%store df_all\n",
    "%store subset_bogota0_phase1\n",
    "%store subset_bogota0_phase2\n",
    "%store subset_bogota0_phase3\n",
    "%store subset_bogota0_phase4\n",
    "%store subset_bogota0_phase5\n",
    "%store subset_bogota1_phase1\n",
    "%store subset_bogota1_phase2\n",
    "%store subset_bogota1_phase3\n",
    "%store subset_bogota1_phase4\n",
    "%store subset_bogota1_phase5\n",
    "%store subset_bogota2_phase1\n",
    "%store subset_bogota2_phase2\n",
    "%store subset_bogota2_phase3\n",
    "%store subset_bogota2_phase4\n",
    "%store subset_bogota2_phase5\n",
    "%store subset_bogota3_phase1\n",
    "%store overall_phase2_bogota3\n",
    "%store overall_phase3_bogota3\n",
    "%store overall_phase4_bogota3\n",
    "%store overall_phase5_bogota3"
   ]
  },
  {
   "cell_type": "code",
   "execution_count": null,
   "id": "dd966cb1",
   "metadata": {},
   "outputs": [],
   "source": []
  }
 ],
 "metadata": {
  "kernelspec": {
   "display_name": "Python 3 (ipykernel)",
   "language": "python",
   "name": "python3"
  },
  "language_info": {
   "codemirror_mode": {
    "name": "ipython",
    "version": 3
   },
   "file_extension": ".py",
   "mimetype": "text/x-python",
   "name": "python",
   "nbconvert_exporter": "python",
   "pygments_lexer": "ipython3",
   "version": "3.8.9"
  }
 },
 "nbformat": 4,
 "nbformat_minor": 5
}
