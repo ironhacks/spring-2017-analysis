{
 "cells": [
  {
   "cell_type": "code",
   "execution_count": 5,
   "id": "c77a3466",
   "metadata": {},
   "outputs": [],
   "source": [
    "%store -r overall_phase2\n"
   ]
  },
  {
   "cell_type": "code",
   "execution_count": 7,
   "id": "c1162a39",
   "metadata": {},
   "outputs": [],
   "source": [
    "group0_phase2 = overall_phase2[overall_phase2['Group'] == 0]\n",
    "group1_phase2 = overall_phase2[overall_phase2['Group'] == 1]\n",
    "group2_phase2 = overall_phase2[overall_phase2['Group'] == 2]\n",
    "group3_phase2 = overall_phase2[overall_phase2['Group'] == 3]"
   ]
  },
  {
   "cell_type": "code",
   "execution_count": null,
   "id": "ec0d37b3",
   "metadata": {},
   "outputs": [],
   "source": []
  }
 ],
 "metadata": {
  "kernelspec": {
   "display_name": "Python 3 (ipykernel)",
   "language": "python",
   "name": "python3"
  },
  "language_info": {
   "codemirror_mode": {
    "name": "ipython",
    "version": 3
   },
   "file_extension": ".py",
   "mimetype": "text/x-python",
   "name": "python",
   "nbconvert_exporter": "python",
   "pygments_lexer": "ipython3",
   "version": "3.8.9"
  }
 },
 "nbformat": 4,
 "nbformat_minor": 5
}
