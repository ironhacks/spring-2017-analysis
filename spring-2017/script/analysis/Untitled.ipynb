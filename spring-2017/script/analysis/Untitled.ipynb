{
 "cells": [
  {
   "cell_type": "code",
   "execution_count": null,
   "id": "31d41863",
   "metadata": {},
   "outputs": [],
   "source": [
    "import numpy as np  \n",
    "import scipy\n",
    "import matplotlib.pyplot as plt\n",
    "from sklearn.metrics import pairwise_distances #jaccard diss.\n",
    "from sklearn import manifold  # multidimensional scaling\n",
    "foods_binary = np.random.randint(2, size=(100, 10)) #initial dataset\n",
    "print(foods_binary)"
   ]
  },
  {
   "cell_type": "code",
   "execution_count": 6,
   "id": "99482d6e",
   "metadata": {},
   "outputs": [
    {
     "name": "stdout",
     "output_type": "stream",
     "text": [
      "[[0.         0.33333333 0.5        ... 0.375      0.44444444 0.66666667]\n",
      " [0.33333333 0.         0.6        ... 0.66666667 0.55555556 0.77777778]\n",
      " [0.5        0.6        0.         ... 0.66666667 0.375      0.625     ]\n",
      " ...\n",
      " [0.375      0.66666667 0.66666667 ... 0.         0.625      0.71428571]\n",
      " [0.44444444 0.55555556 0.375      ... 0.625      0.         0.57142857]\n",
      " [0.66666667 0.77777778 0.625      ... 0.71428571 0.57142857 0.        ]]\n"
     ]
    },
    {
     "name": "stderr",
     "output_type": "stream",
     "text": [
      "/opt/anaconda3/lib/python3.9/site-packages/sklearn/metrics/pairwise.py:1875: DataConversionWarning: Data was converted to boolean for metric jaccard\n",
      "  warnings.warn(msg, DataConversionWarning)\n"
     ]
    }
   ],
   "source": [
    "dis_matrix = pairwise_distances(foods_binary, metric = 'jaccard')\n",
    "print(dis_matrix)\n"
   ]
  },
  {
   "cell_type": "code",
   "execution_count": 3,
   "id": "8d69e109",
   "metadata": {},
   "outputs": [
    {
     "data": {
      "image/png": "[encoded data removed]",
      "text/plain": [
       "<Figure size 432x288 with 1 Axes>"
      ]
     },
     "metadata": {
      "needs_background": "light"
     },
     "output_type": "display_data"
    }
   ],
   "source": [
    "mds_model = manifold.MDS(n_components = 2, random_state = 123,\n",
    "    dissimilarity = 'precomputed')\n",
    "mds_fit = mds_model.fit(dis_matrix)  \n",
    "mds_coords = mds_model.fit_transform(dis_matrix) \n",
    "                                                                                                                                  \n",
    "food_names = ['pasta', 'pizza', 'meat', 'eggs', 'cheese', 'ananas', 'pear', 'bread', 'nuts', 'milk']\n",
    "plt.figure()\n",
    "plt.scatter(mds_coords[:,0],mds_coords[:,1],\n",
    "    facecolors = 'none', edgecolors = 'none')  # points in white (invisible)\n",
    "labels = food_names\n",
    "for label, x, y in zip(labels, mds_coords[:,0], mds_coords[:,1]):\n",
    "    plt.annotate(label, (x,y), xycoords = 'data')\n",
    "plt.xlabel('First Dimension')\n",
    "plt.ylabel('Second Dimension')\n",
    "plt.title('Dissimilarity among food items')    \n",
    "plt.show()"
   ]
  },
  {
   "cell_type": "code",
   "execution_count": null,
   "id": "b6ddb9b6",
   "metadata": {},
   "outputs": [],
   "source": [
    "import pandas as pd\n",
    "df = pd.DataFrame([['sample_1', 'sample_2', 0.2],\n",
    "                   ['sample_1', 'sample_3', 0.5],\n",
    "                   ['sample_2', 'sample_3', 0.3]],\n",
    "                  columns=['SampleA', 'SampleB', 'Num_Differences'])"
   ]
  },
  {
   "cell_type": "code",
   "execution_count": null,
   "id": "02b731f5",
   "metadata": {},
   "outputs": [],
   "source": [
    "# make unique, sorted, common index\n",
    "idx = sorted(set(df['SampleA']).union(df['SampleB']))\n",
    "\n",
    "# reshape\n",
    "(df.pivot(index='SampleA', columns='SampleB', values='Num_Differences')\n",
    "   .reindex(index=idx, columns=idx)\n",
    "   .fillna(0, downcast='infer')\n",
    "   .pipe(lambda x: x+x.values.T)\n",
    " )"
   ]
  },
  {
   "cell_type": "code",
   "execution_count": null,
   "id": "5c3d4497",
   "metadata": {},
   "outputs": [],
   "source": []
  }
 ],
 "metadata": {
  "kernelspec": {
   "display_name": "Python 3 (ipykernel)",
   "language": "python",
   "name": "python3"
  },
  "language_info": {
   "codemirror_mode": {
    "name": "ipython",
    "version": 3
   },
   "file_extension": ".py",
   "mimetype": "text/x-python",
   "name": "python",
   "nbconvert_exporter": "python",
   "pygments_lexer": "ipython3",
   "version": "3.9.7"
  }
 },
 "nbformat": 4,
 "nbformat_minor": 5
}
