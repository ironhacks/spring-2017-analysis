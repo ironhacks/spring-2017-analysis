{
 "cells": [
  {
   "cell_type": "code",
   "execution_count": 5,
   "id": "c4fc1907",
   "metadata": {},
   "outputs": [
    {
     "name": "stdout",
     "output_type": "stream",
     "text": [
      "(100, 10)\n"
     ]
    }
   ],
   "source": [
    "#importing necessary packages\n",
    "import numpy as np  \n",
    "import scipy\n",
    "import matplotlib.pyplot as plt\n",
    "from sklearn.metrics import pairwise_distances #jaccard diss.\n",
    "from sklearn import manifold  # multidimensional scaling\n",
    "foods_binary = np.random.randint(2, size=(100, 10)) #initial dataset\n",
    "print(foods_binary.shape)"
   ]
  },
  {
   "cell_type": "code",
   "execution_count": 2,
   "id": "40dc7f30",
   "metadata": {},
   "outputs": [
    {
     "name": "stdout",
     "output_type": "stream",
     "text": [
      "(100, 100)\n"
     ]
    },
    {
     "name": "stderr",
     "output_type": "stream",
     "text": [
      "/opt/anaconda3/lib/python3.9/site-packages/sklearn/metrics/pairwise.py:1875: DataConversionWarning: Data was converted to boolean for metric jaccard\n",
      "  warnings.warn(msg, DataConversionWarning)\n"
     ]
    }
   ],
   "source": [
    "dis_matrix = pairwise_distances(foods_binary, metric = 'jaccard')\n",
    "print(dis_matrix.shape)"
   ]
  },
  {
   "cell_type": "code",
   "execution_count": 7,
   "id": "ae862d92",
   "metadata": {},
   "outputs": [
    {
     "name": "stdout",
     "output_type": "stream",
     "text": [
      "[[0.         0.88888889 0.88888889 ... 0.71428571 0.625      0.85714286]\n",
      " [0.88888889 0.         0.4        ... 0.83333333 0.875      1.        ]\n",
      " [0.88888889 0.4        0.         ... 0.83333333 0.875      0.8       ]\n",
      " ...\n",
      " [0.71428571 0.83333333 0.83333333 ... 0.         0.66666667 1.        ]\n",
      " [0.625      0.875      0.875      ... 0.66666667 0.         0.83333333]\n",
      " [0.85714286 1.         0.8        ... 1.         0.83333333 0.        ]]\n"
     ]
    },
    {
     "data": {
      "image/png": "[encoded data removed]",
      "text/plain": [
       "<Figure size 432x288 with 1 Axes>"
      ]
     },
     "metadata": {
      "needs_background": "light"
     },
     "output_type": "display_data"
    }
   ],
   "source": [
    "mds_model = manifold.MDS(n_components = 2, random_state = 123,\n",
    "    dissimilarity = 'precomputed')\n",
    "mds_fit = mds_model.fit(dis_matrix)  \n",
    "mds_coords = mds_model.fit_transform(dis_matrix) \n",
    "print(dis_matrix)\n",
    "food_names = ['pasta', 'pizza', 'meat', 'eggs', 'cheese', 'ananas', 'pear', 'bread', 'nuts', 'milk']\n",
    "plt.figure()\n",
    "plt.scatter(mds_coords[:,0],mds_coords[:,1],\n",
    "    facecolors = 'none', edgecolors = 'none')  # points in white (invisible)\n",
    "labels = food_names\n",
    "for label, x, y in zip(labels, mds_coords[:,0], mds_coords[:,1]):\n",
    "    plt.annotate(label, (x,y), xycoords = 'data')\n",
    "plt.xlabel('First Dimension')\n",
    "plt.ylabel('Second Dimension')\n",
    "plt.title('Dissimilarity among food items')    \n",
    "plt.show()"
   ]
  },
  {
   "cell_type": "code",
   "execution_count": null,
   "id": "a27f2771",
   "metadata": {},
   "outputs": [],
   "source": []
  },
  {
   "cell_type": "code",
   "execution_count": null,
   "id": "25532265",
   "metadata": {},
   "outputs": [],
   "source": []
  }
 ],
 "metadata": {
  "kernelspec": {
   "display_name": "Python 3 (ipykernel)",
   "language": "python",
   "name": "python3"
  },
  "language_info": {
   "codemirror_mode": {
    "name": "ipython",
    "version": 3
   },
   "file_extension": ".py",
   "mimetype": "text/x-python",
   "name": "python",
   "nbconvert_exporter": "python",
   "pygments_lexer": "ipython3",
   "version": "3.9.7"
  }
 },
 "nbformat": 4,
 "nbformat_minor": 5
}
