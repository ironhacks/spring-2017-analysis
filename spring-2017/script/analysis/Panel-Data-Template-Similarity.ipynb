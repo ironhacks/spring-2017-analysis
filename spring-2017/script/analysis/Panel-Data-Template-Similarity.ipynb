{
 "cells": [
  {
   "cell_type": "code",
   "execution_count": 2,
   "id": "5bded804",
   "metadata": {},
   "outputs": [],
   "source": [
    "%store -r phase1_group0\n",
    "%store -r phase1_group1\n",
    "%store -r phase1_group2\n",
    "%store -r phase1_group3\n",
    "\n",
    "%store -r phase2_group0\n",
    "%store -r phase2_group1\n",
    "%store -r phase2_group2\n",
    "%store -r phase2_group3\n",
    "\n",
    "%store -r phase3_group0\n",
    "%store -r phase3_group1\n",
    "%store -r phase3_group2\n",
    "%store -r phase3_group3\n",
    "\n",
    "%store -r phase4_group0\n",
    "%store -r phase4_group1\n",
    "%store -r phase4_group2\n",
    "%store -r phase4_group3\n",
    "\n",
    "%store -r phase5_group0\n",
    "%store -r phase5_group1\n",
    "%store -r phase5_group2\n",
    "%store -r phase5_group3"
   ]
  },
  {
   "cell_type": "code",
   "execution_count": 4,
   "id": "abfe00dd",
   "metadata": {},
   "outputs": [],
   "source": [
    "phase1_group0['phase'] = 1\n",
    "phase1_group1['phase'] = 1\n",
    "phase1_group2['phase'] = 1\n",
    "phase1_group3['phase'] = 1\n",
    "\n",
    "phase2_group0['phase'] = 2\n",
    "phase2_group1['phase'] = 2\n",
    "phase2_group2['phase'] = 2\n",
    "phase2_group3['phase'] = 2\n",
    "\n",
    "phase3_group0['phase'] = 3\n",
    "phase3_group1['phase'] = 3\n",
    "phase3_group2['phase'] = 3\n",
    "phase3_group3['phase'] = 3\n",
    "\n",
    "phase4_group0['phase'] = 4\n",
    "phase4_group1['phase'] = 4\n",
    "phase4_group2['phase'] = 4\n",
    "phase4_group3['phase'] = 4\n",
    "\n",
    "phase5_group0['phase'] = 5\n",
    "phase5_group1['phase'] = 5\n",
    "phase5_group2['phase'] = 5\n",
    "phase5_group3['phase'] = 5"
   ]
  },
  {
   "cell_type": "code",
   "execution_count": null,
   "id": "dba4fd66",
   "metadata": {},
   "outputs": [],
   "source": [
    "pd.concat([phase1_group0, phase2_group0, phase3_group0, phase4_group0, phase5_group0, \n",
    "          phase1_group1, phase2_group1, phase3_group1, phase4_group1, phase5_group1,\n",
    "          phase1_group2, phase2_group2, phase3_group2, phase4_group2, phase5_group2,\n",
    "          phase1_group3, phase2_group3, phase3_group3, phase4_group3, phase5_group3], ignore_index = True)"
   ]
  }
 ],
 "metadata": {
  "kernelspec": {
   "display_name": "Python 3 (ipykernel)",
   "language": "python",
   "name": "python3"
  },
  "language_info": {
   "codemirror_mode": {
    "name": "ipython",
    "version": 3
   },
   "file_extension": ".py",
   "mimetype": "text/x-python",
   "name": "python",
   "nbconvert_exporter": "python",
   "pygments_lexer": "ipython3",
   "version": "3.9.7"
  }
 },
 "nbformat": 4,
 "nbformat_minor": 5
}
