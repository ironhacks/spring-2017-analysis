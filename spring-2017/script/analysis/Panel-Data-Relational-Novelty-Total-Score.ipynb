{
 "cells": [
  {
   "cell_type": "code",
   "execution_count": 1,
   "id": "cfa1e606",
   "metadata": {},
   "outputs": [
    {
     "data": {
      "text/html": [
       "<div>\n",
       "<style scoped>\n",
       "    .dataframe tbody tr th:only-of-type {\n",
       "        vertical-align: middle;\n",
       "    }\n",
       "\n",
       "    .dataframe tbody tr th {\n",
       "        vertical-align: top;\n",
       "    }\n",
       "\n",
       "    .dataframe thead th {\n",
       "        text-align: right;\n",
       "    }\n",
       "</style>\n",
       "<table border=\"1\" class=\"dataframe\">\n",
       "  <thead>\n",
       "    <tr style=\"text-align: right;\">\n",
       "      <th></th>\n",
       "      <th>Unnamed: 0.1</th>\n",
       "      <th>Unnamed: 0</th>\n",
       "      <th>Student</th>\n",
       "      <th>phase</th>\n",
       "      <th>novelty</th>\n",
       "      <th>group</th>\n",
       "      <th>abs_perform_diff_best</th>\n",
       "      <th>user2</th>\n",
       "      <th>Q7_Q7_1</th>\n",
       "      <th>Q7_Q7_2</th>\n",
       "      <th>Q8_Q8_1</th>\n",
       "      <th>Q10</th>\n",
       "      <th>count</th>\n",
       "      <th>total</th>\n",
       "      <th>user-requirement</th>\n",
       "      <th>infovis</th>\n",
       "      <th>novelty_score</th>\n",
       "      <th>exploration</th>\n",
       "      <th>Group</th>\n",
       "      <th>len_unique</th>\n",
       "    </tr>\n",
       "  </thead>\n",
       "  <tbody>\n",
       "    <tr>\n",
       "      <th>0</th>\n",
       "      <td>0</td>\n",
       "      <td>1</td>\n",
       "      <td>wilson911013</td>\n",
       "      <td>1</td>\n",
       "      <td>0.000000</td>\n",
       "      <td>3</td>\n",
       "      <td>250.84</td>\n",
       "      <td>wilson911013</td>\n",
       "      <td>0.0</td>\n",
       "      <td>1.0</td>\n",
       "      <td>2.0</td>\n",
       "      <td>1.0</td>\n",
       "      <td>1.0</td>\n",
       "      <td>90.83</td>\n",
       "      <td>20.0</td>\n",
       "      <td>33.33</td>\n",
       "      <td>0.0</td>\n",
       "      <td>0.0</td>\n",
       "      <td>3.0</td>\n",
       "      <td>0.0</td>\n",
       "    </tr>\n",
       "    <tr>\n",
       "      <th>1</th>\n",
       "      <td>2</td>\n",
       "      <td>5</td>\n",
       "      <td>lizzyt10h</td>\n",
       "      <td>1</td>\n",
       "      <td>0.400000</td>\n",
       "      <td>3</td>\n",
       "      <td>175.00</td>\n",
       "      <td>lizzyt10h</td>\n",
       "      <td>2.0</td>\n",
       "      <td>1.0</td>\n",
       "      <td>5.0</td>\n",
       "      <td>2.0</td>\n",
       "      <td>7.0</td>\n",
       "      <td>75.00</td>\n",
       "      <td>0.0</td>\n",
       "      <td>0.00</td>\n",
       "      <td>0.0</td>\n",
       "      <td>0.0</td>\n",
       "      <td>3.0</td>\n",
       "      <td>4.0</td>\n",
       "    </tr>\n",
       "    <tr>\n",
       "      <th>2</th>\n",
       "      <td>3</td>\n",
       "      <td>6</td>\n",
       "      <td>AFelipeGA</td>\n",
       "      <td>1</td>\n",
       "      <td>0.400000</td>\n",
       "      <td>3</td>\n",
       "      <td>291.67</td>\n",
       "      <td>AFelipeGA</td>\n",
       "      <td>4.0</td>\n",
       "      <td>3.0</td>\n",
       "      <td>5.0</td>\n",
       "      <td>2.0</td>\n",
       "      <td>3.0</td>\n",
       "      <td>152.50</td>\n",
       "      <td>40.0</td>\n",
       "      <td>37.50</td>\n",
       "      <td>0.0</td>\n",
       "      <td>0.0</td>\n",
       "      <td>3.0</td>\n",
       "      <td>4.0</td>\n",
       "    </tr>\n",
       "    <tr>\n",
       "      <th>3</th>\n",
       "      <td>4</td>\n",
       "      <td>7</td>\n",
       "      <td>wapiravaguens</td>\n",
       "      <td>1</td>\n",
       "      <td>0.400000</td>\n",
       "      <td>3</td>\n",
       "      <td>90.00</td>\n",
       "      <td>wapiravaguens</td>\n",
       "      <td>0.0</td>\n",
       "      <td>1.0</td>\n",
       "      <td>4.0</td>\n",
       "      <td>2.0</td>\n",
       "      <td>1.0</td>\n",
       "      <td>192.50</td>\n",
       "      <td>80.0</td>\n",
       "      <td>50.00</td>\n",
       "      <td>0.0</td>\n",
       "      <td>0.0</td>\n",
       "      <td>3.0</td>\n",
       "      <td>4.0</td>\n",
       "    </tr>\n",
       "    <tr>\n",
       "      <th>4</th>\n",
       "      <td>5</td>\n",
       "      <td>8</td>\n",
       "      <td>capinzor</td>\n",
       "      <td>1</td>\n",
       "      <td>0.413793</td>\n",
       "      <td>3</td>\n",
       "      <td>221.67</td>\n",
       "      <td>capinzor</td>\n",
       "      <td>0.0</td>\n",
       "      <td>0.0</td>\n",
       "      <td>2.0</td>\n",
       "      <td>2.0</td>\n",
       "      <td>0.0</td>\n",
       "      <td>120.00</td>\n",
       "      <td>20.0</td>\n",
       "      <td>25.00</td>\n",
       "      <td>0.0</td>\n",
       "      <td>0.0</td>\n",
       "      <td>3.0</td>\n",
       "      <td>20.0</td>\n",
       "    </tr>\n",
       "    <tr>\n",
       "      <th>...</th>\n",
       "      <td>...</td>\n",
       "      <td>...</td>\n",
       "      <td>...</td>\n",
       "      <td>...</td>\n",
       "      <td>...</td>\n",
       "      <td>...</td>\n",
       "      <td>...</td>\n",
       "      <td>...</td>\n",
       "      <td>...</td>\n",
       "      <td>...</td>\n",
       "      <td>...</td>\n",
       "      <td>...</td>\n",
       "      <td>...</td>\n",
       "      <td>...</td>\n",
       "      <td>...</td>\n",
       "      <td>...</td>\n",
       "      <td>...</td>\n",
       "      <td>...</td>\n",
       "      <td>...</td>\n",
       "      <td>...</td>\n",
       "    </tr>\n",
       "    <tr>\n",
       "      <th>631</th>\n",
       "      <td>647</td>\n",
       "      <td>651</td>\n",
       "      <td>kastellanos</td>\n",
       "      <td>3</td>\n",
       "      <td>0.000000</td>\n",
       "      <td>1</td>\n",
       "      <td>345.83</td>\n",
       "      <td>kastellanos</td>\n",
       "      <td>5.0</td>\n",
       "      <td>5.0</td>\n",
       "      <td>5.0</td>\n",
       "      <td>3.0</td>\n",
       "      <td>0.0</td>\n",
       "      <td>0.00</td>\n",
       "      <td>0.0</td>\n",
       "      <td>0.00</td>\n",
       "      <td>0.0</td>\n",
       "      <td>0.0</td>\n",
       "      <td>1.0</td>\n",
       "      <td>NaN</td>\n",
       "    </tr>\n",
       "    <tr>\n",
       "      <th>632</th>\n",
       "      <td>648</td>\n",
       "      <td>652</td>\n",
       "      <td>tres-iqus</td>\n",
       "      <td>3</td>\n",
       "      <td>0.000000</td>\n",
       "      <td>2</td>\n",
       "      <td>358.33</td>\n",
       "      <td>tres-iqus</td>\n",
       "      <td>1.0</td>\n",
       "      <td>1.0</td>\n",
       "      <td>4.0</td>\n",
       "      <td>0.0</td>\n",
       "      <td>0.0</td>\n",
       "      <td>0.00</td>\n",
       "      <td>0.0</td>\n",
       "      <td>0.00</td>\n",
       "      <td>0.0</td>\n",
       "      <td>0.0</td>\n",
       "      <td>2.0</td>\n",
       "      <td>NaN</td>\n",
       "    </tr>\n",
       "    <tr>\n",
       "      <th>633</th>\n",
       "      <td>649</td>\n",
       "      <td>653</td>\n",
       "      <td>annumumozme</td>\n",
       "      <td>4</td>\n",
       "      <td>0.000000</td>\n",
       "      <td>0</td>\n",
       "      <td>313.33</td>\n",
       "      <td>NaN</td>\n",
       "      <td>NaN</td>\n",
       "      <td>NaN</td>\n",
       "      <td>NaN</td>\n",
       "      <td>NaN</td>\n",
       "      <td>0.0</td>\n",
       "      <td>237.50</td>\n",
       "      <td>40.0</td>\n",
       "      <td>37.50</td>\n",
       "      <td>60.0</td>\n",
       "      <td>0.0</td>\n",
       "      <td>0.0</td>\n",
       "      <td>NaN</td>\n",
       "    </tr>\n",
       "    <tr>\n",
       "      <th>634</th>\n",
       "      <td>650</td>\n",
       "      <td>654</td>\n",
       "      <td>kastellanos</td>\n",
       "      <td>4</td>\n",
       "      <td>0.000000</td>\n",
       "      <td>1</td>\n",
       "      <td>350.00</td>\n",
       "      <td>kastellanos</td>\n",
       "      <td>5.0</td>\n",
       "      <td>5.0</td>\n",
       "      <td>5.0</td>\n",
       "      <td>3.0</td>\n",
       "      <td>0.0</td>\n",
       "      <td>0.00</td>\n",
       "      <td>0.0</td>\n",
       "      <td>0.00</td>\n",
       "      <td>0.0</td>\n",
       "      <td>0.0</td>\n",
       "      <td>1.0</td>\n",
       "      <td>NaN</td>\n",
       "    </tr>\n",
       "    <tr>\n",
       "      <th>635</th>\n",
       "      <td>651</td>\n",
       "      <td>655</td>\n",
       "      <td>tres-iqus</td>\n",
       "      <td>4</td>\n",
       "      <td>0.000000</td>\n",
       "      <td>2</td>\n",
       "      <td>358.33</td>\n",
       "      <td>tres-iqus</td>\n",
       "      <td>1.0</td>\n",
       "      <td>1.0</td>\n",
       "      <td>4.0</td>\n",
       "      <td>0.0</td>\n",
       "      <td>0.0</td>\n",
       "      <td>0.00</td>\n",
       "      <td>0.0</td>\n",
       "      <td>0.00</td>\n",
       "      <td>0.0</td>\n",
       "      <td>0.0</td>\n",
       "      <td>2.0</td>\n",
       "      <td>NaN</td>\n",
       "    </tr>\n",
       "  </tbody>\n",
       "</table>\n",
       "<p>636 rows × 20 columns</p>\n",
       "</div>"
      ],
      "text/plain": [
       "     Unnamed: 0.1  Unnamed: 0        Student  phase   novelty  group  \\\n",
       "0               0           1   wilson911013      1  0.000000      3   \n",
       "1               2           5      lizzyt10h      1  0.400000      3   \n",
       "2               3           6      AFelipeGA      1  0.400000      3   \n",
       "3               4           7  wapiravaguens      1  0.400000      3   \n",
       "4               5           8       capinzor      1  0.413793      3   \n",
       "..            ...         ...            ...    ...       ...    ...   \n",
       "631           647         651    kastellanos      3  0.000000      1   \n",
       "632           648         652      tres-iqus      3  0.000000      2   \n",
       "633           649         653    annumumozme      4  0.000000      0   \n",
       "634           650         654    kastellanos      4  0.000000      1   \n",
       "635           651         655      tres-iqus      4  0.000000      2   \n",
       "\n",
       "     abs_perform_diff_best          user2  Q7_Q7_1  Q7_Q7_2  Q8_Q8_1  Q10  \\\n",
       "0                   250.84   wilson911013      0.0      1.0      2.0  1.0   \n",
       "1                   175.00      lizzyt10h      2.0      1.0      5.0  2.0   \n",
       "2                   291.67      AFelipeGA      4.0      3.0      5.0  2.0   \n",
       "3                    90.00  wapiravaguens      0.0      1.0      4.0  2.0   \n",
       "4                   221.67       capinzor      0.0      0.0      2.0  2.0   \n",
       "..                     ...            ...      ...      ...      ...  ...   \n",
       "631                 345.83    kastellanos      5.0      5.0      5.0  3.0   \n",
       "632                 358.33      tres-iqus      1.0      1.0      4.0  0.0   \n",
       "633                 313.33            NaN      NaN      NaN      NaN  NaN   \n",
       "634                 350.00    kastellanos      5.0      5.0      5.0  3.0   \n",
       "635                 358.33      tres-iqus      1.0      1.0      4.0  0.0   \n",
       "\n",
       "     count   total  user-requirement  infovis  novelty_score  exploration  \\\n",
       "0      1.0   90.83              20.0    33.33            0.0          0.0   \n",
       "1      7.0   75.00               0.0     0.00            0.0          0.0   \n",
       "2      3.0  152.50              40.0    37.50            0.0          0.0   \n",
       "3      1.0  192.50              80.0    50.00            0.0          0.0   \n",
       "4      0.0  120.00              20.0    25.00            0.0          0.0   \n",
       "..     ...     ...               ...      ...            ...          ...   \n",
       "631    0.0    0.00               0.0     0.00            0.0          0.0   \n",
       "632    0.0    0.00               0.0     0.00            0.0          0.0   \n",
       "633    0.0  237.50              40.0    37.50           60.0          0.0   \n",
       "634    0.0    0.00               0.0     0.00            0.0          0.0   \n",
       "635    0.0    0.00               0.0     0.00            0.0          0.0   \n",
       "\n",
       "     Group  len_unique  \n",
       "0      3.0         0.0  \n",
       "1      3.0         4.0  \n",
       "2      3.0         4.0  \n",
       "3      3.0         4.0  \n",
       "4      3.0        20.0  \n",
       "..     ...         ...  \n",
       "631    1.0         NaN  \n",
       "632    2.0         NaN  \n",
       "633    0.0         NaN  \n",
       "634    1.0         NaN  \n",
       "635    2.0         NaN  \n",
       "\n",
       "[636 rows x 20 columns]"
      ]
     },
     "execution_count": 1,
     "metadata": {},
     "output_type": "execute_result"
    }
   ],
   "source": [
    "import pandas as pd \n",
    "import seaborn as sns\n",
    "df = pd.read_csv(\"merged-variety.csv\")\n",
    "df"
   ]
  },
  {
   "cell_type": "markdown",
   "id": "12725db4",
   "metadata": {},
   "source": [
    "## Group 3"
   ]
  },
  {
   "cell_type": "code",
   "execution_count": 2,
   "id": "5c80d295",
   "metadata": {},
   "outputs": [],
   "source": [
    "df_g3 = df[df['group'] == 3]\n",
    "df_g3_p1 = df_g3[df_g3['phase'] == 1]\n",
    "df_g3_p2 = df_g3[df_g3['phase'] == 2]\n",
    "df_g3_p3 = df_g3[df_g3['phase'] == 3]\n",
    "df_g3_p4 = df_g3[df_g3['phase'] == 4]"
   ]
  },
  {
   "cell_type": "code",
   "execution_count": 3,
   "id": "5763d409",
   "metadata": {},
   "outputs": [
    {
     "name": "stderr",
     "output_type": "stream",
     "text": [
      "/Users/jialincheoh/Library/Python/3.8/lib/python/site-packages/seaborn/_decorators.py:36: FutureWarning: Pass the following variables as keyword args: x, y. From version 0.12, the only valid positional argument will be `data`, and passing other arguments without an explicit keyword will result in an error or misinterpretation.\n",
      "  warnings.warn(\n"
     ]
    },
    {
     "data": {
      "text/plain": [
       "[Text(0.5, 1.0, 'Relational Novelty vs Total Score Full Transparency Stage 1')]"
      ]
     },
     "execution_count": 3,
     "metadata": {},
     "output_type": "execute_result"
    },
    {
     "data": {
      "image/png": "[encoded data removed]",
      "text/plain": [
       "<Figure size 432x288 with 1 Axes>"
      ]
     },
     "metadata": {
      "needs_background": "light"
     },
     "output_type": "display_data"
    }
   ],
   "source": [
    "sns.regplot(df_g3_p1['total'], df_g3_p1['novelty']).set(title='Relational Novelty vs Total Score Full Transparency Stage 1')"
   ]
  },
  {
   "cell_type": "code",
   "execution_count": 4,
   "id": "008bf761",
   "metadata": {},
   "outputs": [
    {
     "name": "stderr",
     "output_type": "stream",
     "text": [
      "/Users/jialincheoh/Library/Python/3.8/lib/python/site-packages/seaborn/_decorators.py:36: FutureWarning: Pass the following variables as keyword args: x, y. From version 0.12, the only valid positional argument will be `data`, and passing other arguments without an explicit keyword will result in an error or misinterpretation.\n",
      "  warnings.warn(\n"
     ]
    },
    {
     "data": {
      "text/plain": [
       "[Text(0.5, 1.0, 'Relational Novelty vs Total Score Full Transparency Stage 2')]"
      ]
     },
     "execution_count": 4,
     "metadata": {},
     "output_type": "execute_result"
    },
    {
     "data": {
      "image/png": "[encoded data removed]",
      "text/plain": [
       "<Figure size 432x288 with 1 Axes>"
      ]
     },
     "metadata": {
      "needs_background": "light"
     },
     "output_type": "display_data"
    }
   ],
   "source": [
    "sns.regplot(df_g3_p2['total'], df_g3_p2['novelty']).set(title='Relational Novelty vs Total Score Full Transparency Stage 2')"
   ]
  },
  {
   "cell_type": "code",
   "execution_count": 5,
   "id": "c42bd741",
   "metadata": {},
   "outputs": [
    {
     "name": "stderr",
     "output_type": "stream",
     "text": [
      "/Users/jialincheoh/Library/Python/3.8/lib/python/site-packages/seaborn/_decorators.py:36: FutureWarning: Pass the following variables as keyword args: x, y. From version 0.12, the only valid positional argument will be `data`, and passing other arguments without an explicit keyword will result in an error or misinterpretation.\n",
      "  warnings.warn(\n"
     ]
    },
    {
     "data": {
      "text/plain": [
       "[Text(0.5, 1.0, 'Relational Novelty vs Total Score Full Transparency Stage 3')]"
      ]
     },
     "execution_count": 5,
     "metadata": {},
     "output_type": "execute_result"
    },
    {
     "data": {
      "image/png": "[encoded data removed]",
      "text/plain": [
       "<Figure size 432x288 with 1 Axes>"
      ]
     },
     "metadata": {
      "needs_background": "light"
     },
     "output_type": "display_data"
    }
   ],
   "source": [
    "sns.regplot(df_g3_p3['total'], df_g3_p3['novelty']).set(title='Relational Novelty vs Total Score Full Transparency Stage 3')"
   ]
  },
  {
   "cell_type": "code",
   "execution_count": 7,
   "id": "b4c24254",
   "metadata": {},
   "outputs": [
    {
     "name": "stderr",
     "output_type": "stream",
     "text": [
      "/Users/jialincheoh/Library/Python/3.8/lib/python/site-packages/seaborn/_decorators.py:36: FutureWarning: Pass the following variables as keyword args: x, y. From version 0.12, the only valid positional argument will be `data`, and passing other arguments without an explicit keyword will result in an error or misinterpretation.\n",
      "  warnings.warn(\n"
     ]
    },
    {
     "data": {
      "text/plain": [
       "[Text(0.5, 1.0, 'Relational Novelty vs Total Score Full Transparency Stage 4')]"
      ]
     },
     "execution_count": 7,
     "metadata": {},
     "output_type": "execute_result"
    },
    {
     "data": {
      "image/png": "[encoded data removed]",
      "text/plain": [
       "<Figure size 432x288 with 1 Axes>"
      ]
     },
     "metadata": {
      "needs_background": "light"
     },
     "output_type": "display_data"
    }
   ],
   "source": [
    "sns.regplot(df_g3_p4['total'], df_g3_p4['novelty']).set(title='Relational Novelty vs Total Score Full Transparency Stage 4')"
   ]
  },
  {
   "cell_type": "code",
   "execution_count": null,
   "id": "090a04c9",
   "metadata": {},
   "outputs": [],
   "source": []
  }
 ],
 "metadata": {
  "kernelspec": {
   "display_name": "Python 3 (ipykernel)",
   "language": "python",
   "name": "python3"
  },
  "language_info": {
   "codemirror_mode": {
    "name": "ipython",
    "version": 3
   },
   "file_extension": ".py",
   "mimetype": "text/x-python",
   "name": "python",
   "nbconvert_exporter": "python",
   "pygments_lexer": "ipython3",
   "version": "3.9.7"
  }
 },
 "nbformat": 4,
 "nbformat_minor": 5
}
