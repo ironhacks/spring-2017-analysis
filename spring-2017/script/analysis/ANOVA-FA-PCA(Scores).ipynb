{
 "cells": [
  {
   "cell_type": "markdown",
   "id": "9b89fb9c",
   "metadata": {},
   "source": [
    "## Calculate one-way anove for each variable (each column) based on the \"Group\" column.\n",
    "\n",
    "\n"
   ]
  },
  {
   "cell_type": "code",
   "execution_count": 1,
   "id": "5125bf3e",
   "metadata": {},
   "outputs": [],
   "source": [
    "# retrive variables stored in other Jupyter notebooks\n",
    "\n",
    "%store -r overall_loc_scores_final\n",
    "%store -r overall_loc_scores"
   ]
  },
  {
   "cell_type": "code",
   "execution_count": 2,
   "id": "ec447602",
   "metadata": {},
   "outputs": [
    {
     "data": {
      "text/html": [
       "<div>\n",
       "<style scoped>\n",
       "    .dataframe tbody tr th:only-of-type {\n",
       "        vertical-align: middle;\n",
       "    }\n",
       "\n",
       "    .dataframe tbody tr th {\n",
       "        vertical-align: top;\n",
       "    }\n",
       "\n",
       "    .dataframe thead th {\n",
       "        text-align: right;\n",
       "    }\n",
       "</style>\n",
       "<table border=\"1\" class=\"dataframe\">\n",
       "  <thead>\n",
       "    <tr style=\"text-align: right;\">\n",
       "      <th></th>\n",
       "      <th>Student</th>\n",
       "      <th>Group</th>\n",
       "      <th>user-requirement-phase5</th>\n",
       "      <th>infovis-phase5</th>\n",
       "      <th>novelty-phase5</th>\n",
       "      <th>total-phase5</th>\n",
       "      <th>tech-phase5</th>\n",
       "      <th>tech-phase4</th>\n",
       "      <th>user-requirement-phase4</th>\n",
       "      <th>infovis-phase4</th>\n",
       "      <th>...</th>\n",
       "      <th>improve-effort-23</th>\n",
       "      <th>improve-effort-34</th>\n",
       "      <th>improve-effort-45</th>\n",
       "      <th>improve-effort-15</th>\n",
       "      <th>improve-effort-25</th>\n",
       "      <th>d3-effort-12</th>\n",
       "      <th>d3-effort-23</th>\n",
       "      <th>d3-effort-34</th>\n",
       "      <th>d3-effort-45</th>\n",
       "      <th>d3-effort-15</th>\n",
       "    </tr>\n",
       "  </thead>\n",
       "  <tbody>\n",
       "    <tr>\n",
       "      <th>0</th>\n",
       "      <td>fffeelipe</td>\n",
       "      <td>0.0</td>\n",
       "      <td>20.0</td>\n",
       "      <td>29.17</td>\n",
       "      <td>50.00</td>\n",
       "      <td>199.17</td>\n",
       "      <td>100.0</td>\n",
       "      <td>100.0</td>\n",
       "      <td>20.0</td>\n",
       "      <td>29.17</td>\n",
       "      <td>...</td>\n",
       "      <td>0.0</td>\n",
       "      <td>-14.0</td>\n",
       "      <td>-6.0</td>\n",
       "      <td>-32.5</td>\n",
       "      <td>0.0</td>\n",
       "      <td>0.0</td>\n",
       "      <td>0.0</td>\n",
       "      <td>0.0</td>\n",
       "      <td>0.0</td>\n",
       "      <td>0.0</td>\n",
       "    </tr>\n",
       "    <tr>\n",
       "      <th>1</th>\n",
       "      <td>mnguzmanc</td>\n",
       "      <td>0.0</td>\n",
       "      <td>60.0</td>\n",
       "      <td>75.00</td>\n",
       "      <td>67.50</td>\n",
       "      <td>290.00</td>\n",
       "      <td>87.5</td>\n",
       "      <td>87.5</td>\n",
       "      <td>20.0</td>\n",
       "      <td>37.50</td>\n",
       "      <td>...</td>\n",
       "      <td>-16.5</td>\n",
       "      <td>45.5</td>\n",
       "      <td>13.0</td>\n",
       "      <td>-29.0</td>\n",
       "      <td>-21.0</td>\n",
       "      <td>0.0</td>\n",
       "      <td>0.0</td>\n",
       "      <td>0.0</td>\n",
       "      <td>0.0</td>\n",
       "      <td>0.0</td>\n",
       "    </tr>\n",
       "    <tr>\n",
       "      <th>2</th>\n",
       "      <td>jmcuestasb</td>\n",
       "      <td>0.0</td>\n",
       "      <td>100.0</td>\n",
       "      <td>54.17</td>\n",
       "      <td>25.00</td>\n",
       "      <td>254.17</td>\n",
       "      <td>75.0</td>\n",
       "      <td>62.5</td>\n",
       "      <td>100.0</td>\n",
       "      <td>58.33</td>\n",
       "      <td>...</td>\n",
       "      <td>1.5</td>\n",
       "      <td>9.0</td>\n",
       "      <td>-4.0</td>\n",
       "      <td>7.0</td>\n",
       "      <td>-12.0</td>\n",
       "      <td>0.0</td>\n",
       "      <td>0.0</td>\n",
       "      <td>0.0</td>\n",
       "      <td>0.0</td>\n",
       "      <td>0.0</td>\n",
       "    </tr>\n",
       "    <tr>\n",
       "      <th>3</th>\n",
       "      <td>katherinsb</td>\n",
       "      <td>0.0</td>\n",
       "      <td>20.0</td>\n",
       "      <td>37.50</td>\n",
       "      <td>16.67</td>\n",
       "      <td>136.67</td>\n",
       "      <td>62.5</td>\n",
       "      <td>37.5</td>\n",
       "      <td>20.0</td>\n",
       "      <td>45.83</td>\n",
       "      <td>...</td>\n",
       "      <td>0.0</td>\n",
       "      <td>0.0</td>\n",
       "      <td>73.5</td>\n",
       "      <td>0.0</td>\n",
       "      <td>0.0</td>\n",
       "      <td>0.0</td>\n",
       "      <td>0.0</td>\n",
       "      <td>0.0</td>\n",
       "      <td>0.0</td>\n",
       "      <td>0.0</td>\n",
       "    </tr>\n",
       "    <tr>\n",
       "      <th>4</th>\n",
       "      <td>jjrodriguezn</td>\n",
       "      <td>0.0</td>\n",
       "      <td>60.0</td>\n",
       "      <td>58.33</td>\n",
       "      <td>87.50</td>\n",
       "      <td>255.83</td>\n",
       "      <td>50.0</td>\n",
       "      <td>37.5</td>\n",
       "      <td>40.0</td>\n",
       "      <td>54.17</td>\n",
       "      <td>...</td>\n",
       "      <td>8.0</td>\n",
       "      <td>60.5</td>\n",
       "      <td>0.5</td>\n",
       "      <td>0.0</td>\n",
       "      <td>34.5</td>\n",
       "      <td>0.0</td>\n",
       "      <td>0.0</td>\n",
       "      <td>0.0</td>\n",
       "      <td>0.0</td>\n",
       "      <td>0.0</td>\n",
       "    </tr>\n",
       "    <tr>\n",
       "      <th>...</th>\n",
       "      <td>...</td>\n",
       "      <td>...</td>\n",
       "      <td>...</td>\n",
       "      <td>...</td>\n",
       "      <td>...</td>\n",
       "      <td>...</td>\n",
       "      <td>...</td>\n",
       "      <td>...</td>\n",
       "      <td>...</td>\n",
       "      <td>...</td>\n",
       "      <td>...</td>\n",
       "      <td>...</td>\n",
       "      <td>...</td>\n",
       "      <td>...</td>\n",
       "      <td>...</td>\n",
       "      <td>...</td>\n",
       "      <td>...</td>\n",
       "      <td>...</td>\n",
       "      <td>...</td>\n",
       "      <td>...</td>\n",
       "      <td>...</td>\n",
       "    </tr>\n",
       "    <tr>\n",
       "      <th>163</th>\n",
       "      <td>JhonEmmanuelTorres</td>\n",
       "      <td>3.0</td>\n",
       "      <td>0.0</td>\n",
       "      <td>0.00</td>\n",
       "      <td>0.00</td>\n",
       "      <td>0.00</td>\n",
       "      <td>0.0</td>\n",
       "      <td>0.0</td>\n",
       "      <td>0.0</td>\n",
       "      <td>0.00</td>\n",
       "      <td>...</td>\n",
       "      <td>0.0</td>\n",
       "      <td>0.0</td>\n",
       "      <td>0.0</td>\n",
       "      <td>0.0</td>\n",
       "      <td>0.0</td>\n",
       "      <td>0.0</td>\n",
       "      <td>0.0</td>\n",
       "      <td>0.0</td>\n",
       "      <td>0.0</td>\n",
       "      <td>0.0</td>\n",
       "    </tr>\n",
       "    <tr>\n",
       "      <th>164</th>\n",
       "      <td>janoguerab</td>\n",
       "      <td>0.0</td>\n",
       "      <td>0.0</td>\n",
       "      <td>0.00</td>\n",
       "      <td>0.00</td>\n",
       "      <td>0.00</td>\n",
       "      <td>0.0</td>\n",
       "      <td>0.0</td>\n",
       "      <td>0.0</td>\n",
       "      <td>0.00</td>\n",
       "      <td>...</td>\n",
       "      <td>0.0</td>\n",
       "      <td>0.0</td>\n",
       "      <td>0.0</td>\n",
       "      <td>0.0</td>\n",
       "      <td>0.0</td>\n",
       "      <td>0.0</td>\n",
       "      <td>0.0</td>\n",
       "      <td>0.0</td>\n",
       "      <td>0.0</td>\n",
       "      <td>0.0</td>\n",
       "    </tr>\n",
       "    <tr>\n",
       "      <th>165</th>\n",
       "      <td>djsanabriac</td>\n",
       "      <td>0.0</td>\n",
       "      <td>0.0</td>\n",
       "      <td>0.00</td>\n",
       "      <td>0.00</td>\n",
       "      <td>0.00</td>\n",
       "      <td>0.0</td>\n",
       "      <td>0.0</td>\n",
       "      <td>0.0</td>\n",
       "      <td>0.00</td>\n",
       "      <td>...</td>\n",
       "      <td>0.0</td>\n",
       "      <td>0.0</td>\n",
       "      <td>0.0</td>\n",
       "      <td>0.0</td>\n",
       "      <td>0.0</td>\n",
       "      <td>0.0</td>\n",
       "      <td>0.0</td>\n",
       "      <td>0.0</td>\n",
       "      <td>0.0</td>\n",
       "      <td>0.0</td>\n",
       "    </tr>\n",
       "    <tr>\n",
       "      <th>166</th>\n",
       "      <td>anmmunozme</td>\n",
       "      <td>0.0</td>\n",
       "      <td>0.0</td>\n",
       "      <td>0.00</td>\n",
       "      <td>0.00</td>\n",
       "      <td>0.00</td>\n",
       "      <td>0.0</td>\n",
       "      <td>0.0</td>\n",
       "      <td>0.0</td>\n",
       "      <td>0.00</td>\n",
       "      <td>...</td>\n",
       "      <td>0.0</td>\n",
       "      <td>0.0</td>\n",
       "      <td>0.0</td>\n",
       "      <td>0.0</td>\n",
       "      <td>0.0</td>\n",
       "      <td>0.0</td>\n",
       "      <td>0.0</td>\n",
       "      <td>0.0</td>\n",
       "      <td>0.0</td>\n",
       "      <td>0.0</td>\n",
       "    </tr>\n",
       "    <tr>\n",
       "      <th>167</th>\n",
       "      <td>li2266</td>\n",
       "      <td>0.0</td>\n",
       "      <td>0.0</td>\n",
       "      <td>0.00</td>\n",
       "      <td>0.00</td>\n",
       "      <td>0.00</td>\n",
       "      <td>0.0</td>\n",
       "      <td>0.0</td>\n",
       "      <td>0.0</td>\n",
       "      <td>0.00</td>\n",
       "      <td>...</td>\n",
       "      <td>0.0</td>\n",
       "      <td>0.0</td>\n",
       "      <td>0.0</td>\n",
       "      <td>0.0</td>\n",
       "      <td>0.0</td>\n",
       "      <td>0.0</td>\n",
       "      <td>0.0</td>\n",
       "      <td>0.0</td>\n",
       "      <td>0.0</td>\n",
       "      <td>0.0</td>\n",
       "    </tr>\n",
       "  </tbody>\n",
       "</table>\n",
       "<p>168 rows × 140 columns</p>\n",
       "</div>"
      ],
      "text/plain": [
       "                Student  Group  user-requirement-phase5  infovis-phase5  \\\n",
       "0             fffeelipe    0.0                     20.0           29.17   \n",
       "1             mnguzmanc    0.0                     60.0           75.00   \n",
       "2            jmcuestasb    0.0                    100.0           54.17   \n",
       "3            katherinsb    0.0                     20.0           37.50   \n",
       "4          jjrodriguezn    0.0                     60.0           58.33   \n",
       "..                  ...    ...                      ...             ...   \n",
       "163  JhonEmmanuelTorres    3.0                      0.0            0.00   \n",
       "164          janoguerab    0.0                      0.0            0.00   \n",
       "165         djsanabriac    0.0                      0.0            0.00   \n",
       "166          anmmunozme    0.0                      0.0            0.00   \n",
       "167              li2266    0.0                      0.0            0.00   \n",
       "\n",
       "     novelty-phase5  total-phase5  tech-phase5  tech-phase4  \\\n",
       "0             50.00        199.17        100.0        100.0   \n",
       "1             67.50        290.00         87.5         87.5   \n",
       "2             25.00        254.17         75.0         62.5   \n",
       "3             16.67        136.67         62.5         37.5   \n",
       "4             87.50        255.83         50.0         37.5   \n",
       "..              ...           ...          ...          ...   \n",
       "163            0.00          0.00          0.0          0.0   \n",
       "164            0.00          0.00          0.0          0.0   \n",
       "165            0.00          0.00          0.0          0.0   \n",
       "166            0.00          0.00          0.0          0.0   \n",
       "167            0.00          0.00          0.0          0.0   \n",
       "\n",
       "     user-requirement-phase4  infovis-phase4  ...  improve-effort-23  \\\n",
       "0                       20.0           29.17  ...                0.0   \n",
       "1                       20.0           37.50  ...              -16.5   \n",
       "2                      100.0           58.33  ...                1.5   \n",
       "3                       20.0           45.83  ...                0.0   \n",
       "4                       40.0           54.17  ...                8.0   \n",
       "..                       ...             ...  ...                ...   \n",
       "163                      0.0            0.00  ...                0.0   \n",
       "164                      0.0            0.00  ...                0.0   \n",
       "165                      0.0            0.00  ...                0.0   \n",
       "166                      0.0            0.00  ...                0.0   \n",
       "167                      0.0            0.00  ...                0.0   \n",
       "\n",
       "     improve-effort-34  improve-effort-45  improve-effort-15  \\\n",
       "0                -14.0               -6.0              -32.5   \n",
       "1                 45.5               13.0              -29.0   \n",
       "2                  9.0               -4.0                7.0   \n",
       "3                  0.0               73.5                0.0   \n",
       "4                 60.5                0.5                0.0   \n",
       "..                 ...                ...                ...   \n",
       "163                0.0                0.0                0.0   \n",
       "164                0.0                0.0                0.0   \n",
       "165                0.0                0.0                0.0   \n",
       "166                0.0                0.0                0.0   \n",
       "167                0.0                0.0                0.0   \n",
       "\n",
       "     improve-effort-25  d3-effort-12  d3-effort-23  d3-effort-34  \\\n",
       "0                  0.0           0.0           0.0           0.0   \n",
       "1                -21.0           0.0           0.0           0.0   \n",
       "2                -12.0           0.0           0.0           0.0   \n",
       "3                  0.0           0.0           0.0           0.0   \n",
       "4                 34.5           0.0           0.0           0.0   \n",
       "..                 ...           ...           ...           ...   \n",
       "163                0.0           0.0           0.0           0.0   \n",
       "164                0.0           0.0           0.0           0.0   \n",
       "165                0.0           0.0           0.0           0.0   \n",
       "166                0.0           0.0           0.0           0.0   \n",
       "167                0.0           0.0           0.0           0.0   \n",
       "\n",
       "     d3-effort-45  d3-effort-15  \n",
       "0             0.0           0.0  \n",
       "1             0.0           0.0  \n",
       "2             0.0           0.0  \n",
       "3             0.0           0.0  \n",
       "4             0.0           0.0  \n",
       "..            ...           ...  \n",
       "163           0.0           0.0  \n",
       "164           0.0           0.0  \n",
       "165           0.0           0.0  \n",
       "166           0.0           0.0  \n",
       "167           0.0           0.0  \n",
       "\n",
       "[168 rows x 140 columns]"
      ]
     },
     "execution_count": 2,
     "metadata": {},
     "output_type": "execute_result"
    }
   ],
   "source": [
    "overall_loc_scores_final"
   ]
  },
  {
   "cell_type": "code",
   "execution_count": 3,
   "id": "3e29b650",
   "metadata": {},
   "outputs": [
    {
     "data": {
      "text/html": [
       "<div>\n",
       "<style scoped>\n",
       "    .dataframe tbody tr th:only-of-type {\n",
       "        vertical-align: middle;\n",
       "    }\n",
       "\n",
       "    .dataframe tbody tr th {\n",
       "        vertical-align: top;\n",
       "    }\n",
       "\n",
       "    .dataframe thead th {\n",
       "        text-align: right;\n",
       "    }\n",
       "</style>\n",
       "<table border=\"1\" class=\"dataframe\">\n",
       "  <thead>\n",
       "    <tr style=\"text-align: right;\">\n",
       "      <th></th>\n",
       "      <th>Group</th>\n",
       "      <th>variable</th>\n",
       "      <th>value</th>\n",
       "    </tr>\n",
       "  </thead>\n",
       "  <tbody>\n",
       "    <tr>\n",
       "      <th>0</th>\n",
       "      <td>0.0</td>\n",
       "      <td>user-requirement-phase5</td>\n",
       "      <td>20.0</td>\n",
       "    </tr>\n",
       "    <tr>\n",
       "      <th>1</th>\n",
       "      <td>0.0</td>\n",
       "      <td>user-requirement-phase5</td>\n",
       "      <td>60.0</td>\n",
       "    </tr>\n",
       "    <tr>\n",
       "      <th>2</th>\n",
       "      <td>0.0</td>\n",
       "      <td>user-requirement-phase5</td>\n",
       "      <td>100.0</td>\n",
       "    </tr>\n",
       "    <tr>\n",
       "      <th>3</th>\n",
       "      <td>0.0</td>\n",
       "      <td>user-requirement-phase5</td>\n",
       "      <td>20.0</td>\n",
       "    </tr>\n",
       "    <tr>\n",
       "      <th>4</th>\n",
       "      <td>0.0</td>\n",
       "      <td>user-requirement-phase5</td>\n",
       "      <td>60.0</td>\n",
       "    </tr>\n",
       "    <tr>\n",
       "      <th>...</th>\n",
       "      <td>...</td>\n",
       "      <td>...</td>\n",
       "      <td>...</td>\n",
       "    </tr>\n",
       "    <tr>\n",
       "      <th>23179</th>\n",
       "      <td>3.0</td>\n",
       "      <td>d3-effort-15</td>\n",
       "      <td>0.0</td>\n",
       "    </tr>\n",
       "    <tr>\n",
       "      <th>23180</th>\n",
       "      <td>0.0</td>\n",
       "      <td>d3-effort-15</td>\n",
       "      <td>0.0</td>\n",
       "    </tr>\n",
       "    <tr>\n",
       "      <th>23181</th>\n",
       "      <td>0.0</td>\n",
       "      <td>d3-effort-15</td>\n",
       "      <td>0.0</td>\n",
       "    </tr>\n",
       "    <tr>\n",
       "      <th>23182</th>\n",
       "      <td>0.0</td>\n",
       "      <td>d3-effort-15</td>\n",
       "      <td>0.0</td>\n",
       "    </tr>\n",
       "    <tr>\n",
       "      <th>23183</th>\n",
       "      <td>0.0</td>\n",
       "      <td>d3-effort-15</td>\n",
       "      <td>0.0</td>\n",
       "    </tr>\n",
       "  </tbody>\n",
       "</table>\n",
       "<p>23184 rows × 3 columns</p>\n",
       "</div>"
      ],
      "text/plain": [
       "       Group                 variable  value\n",
       "0        0.0  user-requirement-phase5   20.0\n",
       "1        0.0  user-requirement-phase5   60.0\n",
       "2        0.0  user-requirement-phase5  100.0\n",
       "3        0.0  user-requirement-phase5   20.0\n",
       "4        0.0  user-requirement-phase5   60.0\n",
       "...      ...                      ...    ...\n",
       "23179    3.0             d3-effort-15    0.0\n",
       "23180    0.0             d3-effort-15    0.0\n",
       "23181    0.0             d3-effort-15    0.0\n",
       "23182    0.0             d3-effort-15    0.0\n",
       "23183    0.0             d3-effort-15    0.0\n",
       "\n",
       "[23184 rows x 3 columns]"
      ]
     },
     "execution_count": 3,
     "metadata": {},
     "output_type": "execute_result"
    }
   ],
   "source": [
    "import pandas as pd\n",
    "import statsmodels.api as sm\n",
    "from statsmodels.formula.api import ols\n",
    "\n",
    "dropped_student = overall_loc_scores_final.drop('Student', axis=1)\n",
    "df_long = dropped_student.melt(id_vars=\"Group\")\n",
    "\n",
    "df_long"
   ]
  },
  {
   "cell_type": "code",
   "execution_count": 4,
   "id": "61cbbcbe",
   "metadata": {},
   "outputs": [
    {
     "data": {
      "text/html": [
       "<div>\n",
       "<style scoped>\n",
       "    .dataframe tbody tr th:only-of-type {\n",
       "        vertical-align: middle;\n",
       "    }\n",
       "\n",
       "    .dataframe tbody tr th {\n",
       "        vertical-align: top;\n",
       "    }\n",
       "\n",
       "    .dataframe thead th {\n",
       "        text-align: right;\n",
       "    }\n",
       "</style>\n",
       "<table border=\"1\" class=\"dataframe\">\n",
       "  <thead>\n",
       "    <tr style=\"text-align: right;\">\n",
       "      <th></th>\n",
       "      <th>Group</th>\n",
       "      <th>variable</th>\n",
       "      <th>value</th>\n",
       "    </tr>\n",
       "  </thead>\n",
       "  <tbody>\n",
       "    <tr>\n",
       "      <th>0</th>\n",
       "      <td>0.0</td>\n",
       "      <td>user-requirement-phase5</td>\n",
       "      <td>20.0</td>\n",
       "    </tr>\n",
       "    <tr>\n",
       "      <th>1</th>\n",
       "      <td>0.0</td>\n",
       "      <td>user-requirement-phase5</td>\n",
       "      <td>60.0</td>\n",
       "    </tr>\n",
       "    <tr>\n",
       "      <th>2</th>\n",
       "      <td>0.0</td>\n",
       "      <td>user-requirement-phase5</td>\n",
       "      <td>100.0</td>\n",
       "    </tr>\n",
       "    <tr>\n",
       "      <th>3</th>\n",
       "      <td>0.0</td>\n",
       "      <td>user-requirement-phase5</td>\n",
       "      <td>20.0</td>\n",
       "    </tr>\n",
       "    <tr>\n",
       "      <th>4</th>\n",
       "      <td>0.0</td>\n",
       "      <td>user-requirement-phase5</td>\n",
       "      <td>60.0</td>\n",
       "    </tr>\n",
       "    <tr>\n",
       "      <th>...</th>\n",
       "      <td>...</td>\n",
       "      <td>...</td>\n",
       "      <td>...</td>\n",
       "    </tr>\n",
       "    <tr>\n",
       "      <th>23179</th>\n",
       "      <td>3.0</td>\n",
       "      <td>d3-effort-15</td>\n",
       "      <td>0.0</td>\n",
       "    </tr>\n",
       "    <tr>\n",
       "      <th>23180</th>\n",
       "      <td>0.0</td>\n",
       "      <td>d3-effort-15</td>\n",
       "      <td>0.0</td>\n",
       "    </tr>\n",
       "    <tr>\n",
       "      <th>23181</th>\n",
       "      <td>0.0</td>\n",
       "      <td>d3-effort-15</td>\n",
       "      <td>0.0</td>\n",
       "    </tr>\n",
       "    <tr>\n",
       "      <th>23182</th>\n",
       "      <td>0.0</td>\n",
       "      <td>d3-effort-15</td>\n",
       "      <td>0.0</td>\n",
       "    </tr>\n",
       "    <tr>\n",
       "      <th>23183</th>\n",
       "      <td>0.0</td>\n",
       "      <td>d3-effort-15</td>\n",
       "      <td>0.0</td>\n",
       "    </tr>\n",
       "  </tbody>\n",
       "</table>\n",
       "<p>23184 rows × 3 columns</p>\n",
       "</div>"
      ],
      "text/plain": [
       "       Group                 variable  value\n",
       "0        0.0  user-requirement-phase5   20.0\n",
       "1        0.0  user-requirement-phase5   60.0\n",
       "2        0.0  user-requirement-phase5  100.0\n",
       "3        0.0  user-requirement-phase5   20.0\n",
       "4        0.0  user-requirement-phase5   60.0\n",
       "...      ...                      ...    ...\n",
       "23179    3.0             d3-effort-15    0.0\n",
       "23180    0.0             d3-effort-15    0.0\n",
       "23181    0.0             d3-effort-15    0.0\n",
       "23182    0.0             d3-effort-15    0.0\n",
       "23183    0.0             d3-effort-15    0.0\n",
       "\n",
       "[23184 rows x 3 columns]"
      ]
     },
     "execution_count": 4,
     "metadata": {},
     "output_type": "execute_result"
    }
   ],
   "source": [
    "df_long.to_csv('long.csv')\n",
    "df_long"
   ]
  },
  {
   "cell_type": "code",
   "execution_count": 5,
   "id": "2419cb67",
   "metadata": {},
   "outputs": [
    {
     "data": {
      "text/html": [
       "<div>\n",
       "<style scoped>\n",
       "    .dataframe tbody tr th:only-of-type {\n",
       "        vertical-align: middle;\n",
       "    }\n",
       "\n",
       "    .dataframe tbody tr th {\n",
       "        vertical-align: top;\n",
       "    }\n",
       "\n",
       "    .dataframe thead th {\n",
       "        text-align: right;\n",
       "    }\n",
       "</style>\n",
       "<table border=\"1\" class=\"dataframe\">\n",
       "  <thead>\n",
       "    <tr style=\"text-align: right;\">\n",
       "      <th></th>\n",
       "      <th></th>\n",
       "      <th>df</th>\n",
       "      <th>sum_sq</th>\n",
       "      <th>mean_sq</th>\n",
       "      <th>F</th>\n",
       "      <th>PR(&gt;F)</th>\n",
       "    </tr>\n",
       "    <tr>\n",
       "      <th>variable</th>\n",
       "      <th></th>\n",
       "      <th></th>\n",
       "      <th></th>\n",
       "      <th></th>\n",
       "      <th></th>\n",
       "      <th></th>\n",
       "    </tr>\n",
       "  </thead>\n",
       "  <tbody>\n",
       "    <tr>\n",
       "      <th rowspan=\"2\" valign=\"top\">Q10</th>\n",
       "      <th>Group</th>\n",
       "      <td>1.0</td>\n",
       "      <td>0.000038</td>\n",
       "      <td>0.000038</td>\n",
       "      <td>0.000047</td>\n",
       "      <td>0.994533</td>\n",
       "    </tr>\n",
       "    <tr>\n",
       "      <th>Residual</th>\n",
       "      <td>166.0</td>\n",
       "      <td>133.851153</td>\n",
       "      <td>0.806332</td>\n",
       "      <td>NaN</td>\n",
       "      <td>NaN</td>\n",
       "    </tr>\n",
       "    <tr>\n",
       "      <th rowspan=\"2\" valign=\"top\">Q11</th>\n",
       "      <th>Group</th>\n",
       "      <td>1.0</td>\n",
       "      <td>13.253679</td>\n",
       "      <td>13.253679</td>\n",
       "      <td>1.222116</td>\n",
       "      <td>0.270545</td>\n",
       "    </tr>\n",
       "    <tr>\n",
       "      <th>Residual</th>\n",
       "      <td>166.0</td>\n",
       "      <td>1800.246321</td>\n",
       "      <td>10.844857</td>\n",
       "      <td>NaN</td>\n",
       "      <td>NaN</td>\n",
       "    </tr>\n",
       "    <tr>\n",
       "      <th>Q12</th>\n",
       "      <th>Group</th>\n",
       "      <td>1.0</td>\n",
       "      <td>5.981604</td>\n",
       "      <td>5.981604</td>\n",
       "      <td>1.344644</td>\n",
       "      <td>0.247882</td>\n",
       "    </tr>\n",
       "    <tr>\n",
       "      <th>...</th>\n",
       "      <th>...</th>\n",
       "      <td>...</td>\n",
       "      <td>...</td>\n",
       "      <td>...</td>\n",
       "      <td>...</td>\n",
       "      <td>...</td>\n",
       "    </tr>\n",
       "    <tr>\n",
       "      <th>user-requirement-phase3</th>\n",
       "      <th>Residual</th>\n",
       "      <td>166.0</td>\n",
       "      <td>154308.003742</td>\n",
       "      <td>929.566288</td>\n",
       "      <td>NaN</td>\n",
       "      <td>NaN</td>\n",
       "    </tr>\n",
       "    <tr>\n",
       "      <th rowspan=\"2\" valign=\"top\">user-requirement-phase4</th>\n",
       "      <th>Group</th>\n",
       "      <td>1.0</td>\n",
       "      <td>2291.257488</td>\n",
       "      <td>2291.257488</td>\n",
       "      <td>2.276574</td>\n",
       "      <td>0.133243</td>\n",
       "    </tr>\n",
       "    <tr>\n",
       "      <th>Residual</th>\n",
       "      <td>166.0</td>\n",
       "      <td>167070.647274</td>\n",
       "      <td>1006.449682</td>\n",
       "      <td>NaN</td>\n",
       "      <td>NaN</td>\n",
       "    </tr>\n",
       "    <tr>\n",
       "      <th rowspan=\"2\" valign=\"top\">user-requirement-phase5</th>\n",
       "      <th>Group</th>\n",
       "      <td>1.0</td>\n",
       "      <td>4715.607723</td>\n",
       "      <td>4715.607723</td>\n",
       "      <td>3.643977</td>\n",
       "      <td>0.057998</td>\n",
       "    </tr>\n",
       "    <tr>\n",
       "      <th>Residual</th>\n",
       "      <td>166.0</td>\n",
       "      <td>214817.725610</td>\n",
       "      <td>1294.082684</td>\n",
       "      <td>NaN</td>\n",
       "      <td>NaN</td>\n",
       "    </tr>\n",
       "  </tbody>\n",
       "</table>\n",
       "<p>276 rows × 5 columns</p>\n",
       "</div>"
      ],
      "text/plain": [
       "                                     df         sum_sq      mean_sq         F  \\\n",
       "variable                                                                        \n",
       "Q10                     Group       1.0       0.000038     0.000038  0.000047   \n",
       "                        Residual  166.0     133.851153     0.806332       NaN   \n",
       "Q11                     Group       1.0      13.253679    13.253679  1.222116   \n",
       "                        Residual  166.0    1800.246321    10.844857       NaN   \n",
       "Q12                     Group       1.0       5.981604     5.981604  1.344644   \n",
       "...                                 ...            ...          ...       ...   \n",
       "user-requirement-phase3 Residual  166.0  154308.003742   929.566288       NaN   \n",
       "user-requirement-phase4 Group       1.0    2291.257488  2291.257488  2.276574   \n",
       "                        Residual  166.0  167070.647274  1006.449682       NaN   \n",
       "user-requirement-phase5 Group       1.0    4715.607723  4715.607723  3.643977   \n",
       "                        Residual  166.0  214817.725610  1294.082684       NaN   \n",
       "\n",
       "                                    PR(>F)  \n",
       "variable                                    \n",
       "Q10                     Group     0.994533  \n",
       "                        Residual       NaN  \n",
       "Q11                     Group     0.270545  \n",
       "                        Residual       NaN  \n",
       "Q12                     Group     0.247882  \n",
       "...                                    ...  \n",
       "user-requirement-phase3 Residual       NaN  \n",
       "user-requirement-phase4 Group     0.133243  \n",
       "                        Residual       NaN  \n",
       "user-requirement-phase5 Group     0.057998  \n",
       "                        Residual       NaN  \n",
       "\n",
       "[276 rows x 5 columns]"
      ]
     },
     "execution_count": 5,
     "metadata": {},
     "output_type": "execute_result"
    }
   ],
   "source": [
    "def aov_func(x):\n",
    "    model = ols('value ~ Group', data=x).fit()\n",
    "    return sm.stats.anova_lm(model)\n",
    "        \n",
    "output_df = df_long.groupby(\"variable\").apply(aov_func)\n",
    "output_df"
   ]
  },
  {
   "cell_type": "markdown",
   "id": "6669cb48",
   "metadata": {},
   "source": [
    "## List of Variables that are Significant [ Less than or Equal to 0.05 ]"
   ]
  },
  {
   "cell_type": "code",
   "execution_count": 6,
   "id": "b73793cd",
   "metadata": {
    "scrolled": false
   },
   "outputs": [
    {
     "data": {
      "text/html": [
       "<div>\n",
       "<style scoped>\n",
       "    .dataframe tbody tr th:only-of-type {\n",
       "        vertical-align: middle;\n",
       "    }\n",
       "\n",
       "    .dataframe tbody tr th {\n",
       "        vertical-align: top;\n",
       "    }\n",
       "\n",
       "    .dataframe thead th {\n",
       "        text-align: right;\n",
       "    }\n",
       "</style>\n",
       "<table border=\"1\" class=\"dataframe\">\n",
       "  <thead>\n",
       "    <tr style=\"text-align: right;\">\n",
       "      <th></th>\n",
       "      <th></th>\n",
       "      <th>df</th>\n",
       "      <th>sum_sq</th>\n",
       "      <th>mean_sq</th>\n",
       "      <th>F</th>\n",
       "      <th>PR(&gt;F)</th>\n",
       "    </tr>\n",
       "    <tr>\n",
       "      <th>variable</th>\n",
       "      <th></th>\n",
       "      <th></th>\n",
       "      <th></th>\n",
       "      <th></th>\n",
       "      <th></th>\n",
       "      <th></th>\n",
       "    </tr>\n",
       "  </thead>\n",
       "  <tbody>\n",
       "    <tr>\n",
       "      <th>Q5_Q5_3</th>\n",
       "      <th>Group</th>\n",
       "      <td>1.0</td>\n",
       "      <td>17.640652</td>\n",
       "      <td>17.640652</td>\n",
       "      <td>9.038714</td>\n",
       "      <td>0.003054</td>\n",
       "    </tr>\n",
       "    <tr>\n",
       "      <th>improve-effort-25</th>\n",
       "      <th>Group</th>\n",
       "      <td>1.0</td>\n",
       "      <td>15481.845953</td>\n",
       "      <td>15481.845953</td>\n",
       "      <td>5.175937</td>\n",
       "      <td>0.024181</td>\n",
       "    </tr>\n",
       "    <tr>\n",
       "      <th>improve-novel-45</th>\n",
       "      <th>Group</th>\n",
       "      <td>1.0</td>\n",
       "      <td>3275.408426</td>\n",
       "      <td>3275.408426</td>\n",
       "      <td>4.394043</td>\n",
       "      <td>0.037581</td>\n",
       "    </tr>\n",
       "    <tr>\n",
       "      <th>improve-sum-tech</th>\n",
       "      <th>Group</th>\n",
       "      <td>1.0</td>\n",
       "      <td>5933.015589</td>\n",
       "      <td>5933.015589</td>\n",
       "      <td>6.019296</td>\n",
       "      <td>0.015184</td>\n",
       "    </tr>\n",
       "    <tr>\n",
       "      <th>improve-tech-15</th>\n",
       "      <th>Group</th>\n",
       "      <td>1.0</td>\n",
       "      <td>5933.015589</td>\n",
       "      <td>5933.015589</td>\n",
       "      <td>6.019296</td>\n",
       "      <td>0.015184</td>\n",
       "    </tr>\n",
       "    <tr>\n",
       "      <th>improve-total-45</th>\n",
       "      <th>Group</th>\n",
       "      <td>1.0</td>\n",
       "      <td>19761.013862</td>\n",
       "      <td>19761.013862</td>\n",
       "      <td>5.492159</td>\n",
       "      <td>0.020287</td>\n",
       "    </tr>\n",
       "    <tr>\n",
       "      <th>improve-vis-45</th>\n",
       "      <th>Group</th>\n",
       "      <td>1.0</td>\n",
       "      <td>1642.197176</td>\n",
       "      <td>1642.197176</td>\n",
       "      <td>6.374250</td>\n",
       "      <td>0.012517</td>\n",
       "    </tr>\n",
       "    <tr>\n",
       "      <th>infovis-phase1</th>\n",
       "      <th>Group</th>\n",
       "      <td>1.0</td>\n",
       "      <td>3862.520770</td>\n",
       "      <td>3862.520770</td>\n",
       "      <td>9.988911</td>\n",
       "      <td>0.001872</td>\n",
       "    </tr>\n",
       "    <tr>\n",
       "      <th>infovis-phase2</th>\n",
       "      <th>Group</th>\n",
       "      <td>1.0</td>\n",
       "      <td>1186.603991</td>\n",
       "      <td>1186.603991</td>\n",
       "      <td>4.246122</td>\n",
       "      <td>0.040900</td>\n",
       "    </tr>\n",
       "    <tr>\n",
       "      <th>infovis-phase5</th>\n",
       "      <th>Group</th>\n",
       "      <td>1.0</td>\n",
       "      <td>3423.319344</td>\n",
       "      <td>3423.319344</td>\n",
       "      <td>6.254053</td>\n",
       "      <td>0.013361</td>\n",
       "    </tr>\n",
       "    <tr>\n",
       "      <th>tech-phase2</th>\n",
       "      <th>Group</th>\n",
       "      <td>1.0</td>\n",
       "      <td>6233.374504</td>\n",
       "      <td>6233.374504</td>\n",
       "      <td>10.416294</td>\n",
       "      <td>0.001505</td>\n",
       "    </tr>\n",
       "    <tr>\n",
       "      <th>tech-phase3</th>\n",
       "      <th>Group</th>\n",
       "      <td>1.0</td>\n",
       "      <td>7530.453847</td>\n",
       "      <td>7530.453847</td>\n",
       "      <td>8.964456</td>\n",
       "      <td>0.003174</td>\n",
       "    </tr>\n",
       "    <tr>\n",
       "      <th>tech-phase4</th>\n",
       "      <th>Group</th>\n",
       "      <td>1.0</td>\n",
       "      <td>7296.903146</td>\n",
       "      <td>7296.903146</td>\n",
       "      <td>8.098067</td>\n",
       "      <td>0.004990</td>\n",
       "    </tr>\n",
       "    <tr>\n",
       "      <th>tech-phase5</th>\n",
       "      <th>Group</th>\n",
       "      <td>1.0</td>\n",
       "      <td>12667.613861</td>\n",
       "      <td>12667.613861</td>\n",
       "      <td>12.246820</td>\n",
       "      <td>0.000598</td>\n",
       "    </tr>\n",
       "    <tr>\n",
       "      <th>total-phase1</th>\n",
       "      <th>Group</th>\n",
       "      <td>1.0</td>\n",
       "      <td>30334.358869</td>\n",
       "      <td>30334.358869</td>\n",
       "      <td>5.024412</td>\n",
       "      <td>0.026318</td>\n",
       "    </tr>\n",
       "    <tr>\n",
       "      <th>total-phase2</th>\n",
       "      <th>Group</th>\n",
       "      <td>1.0</td>\n",
       "      <td>34486.255879</td>\n",
       "      <td>34486.255879</td>\n",
       "      <td>5.116196</td>\n",
       "      <td>0.025001</td>\n",
       "    </tr>\n",
       "    <tr>\n",
       "      <th>total-phase5</th>\n",
       "      <th>Group</th>\n",
       "      <td>1.0</td>\n",
       "      <td>90806.190296</td>\n",
       "      <td>90806.190296</td>\n",
       "      <td>7.486340</td>\n",
       "      <td>0.006894</td>\n",
       "    </tr>\n",
       "    <tr>\n",
       "      <th>user-requirement-phase2</th>\n",
       "      <th>Group</th>\n",
       "      <td>1.0</td>\n",
       "      <td>3984.690579</td>\n",
       "      <td>3984.690579</td>\n",
       "      <td>6.832338</td>\n",
       "      <td>0.009775</td>\n",
       "    </tr>\n",
       "  </tbody>\n",
       "</table>\n",
       "</div>"
      ],
      "text/plain": [
       "                                df        sum_sq       mean_sq          F  \\\n",
       "variable                                                                    \n",
       "Q5_Q5_3                 Group  1.0     17.640652     17.640652   9.038714   \n",
       "improve-effort-25       Group  1.0  15481.845953  15481.845953   5.175937   \n",
       "improve-novel-45        Group  1.0   3275.408426   3275.408426   4.394043   \n",
       "improve-sum-tech        Group  1.0   5933.015589   5933.015589   6.019296   \n",
       "improve-tech-15         Group  1.0   5933.015589   5933.015589   6.019296   \n",
       "improve-total-45        Group  1.0  19761.013862  19761.013862   5.492159   \n",
       "improve-vis-45          Group  1.0   1642.197176   1642.197176   6.374250   \n",
       "infovis-phase1          Group  1.0   3862.520770   3862.520770   9.988911   \n",
       "infovis-phase2          Group  1.0   1186.603991   1186.603991   4.246122   \n",
       "infovis-phase5          Group  1.0   3423.319344   3423.319344   6.254053   \n",
       "tech-phase2             Group  1.0   6233.374504   6233.374504  10.416294   \n",
       "tech-phase3             Group  1.0   7530.453847   7530.453847   8.964456   \n",
       "tech-phase4             Group  1.0   7296.903146   7296.903146   8.098067   \n",
       "tech-phase5             Group  1.0  12667.613861  12667.613861  12.246820   \n",
       "total-phase1            Group  1.0  30334.358869  30334.358869   5.024412   \n",
       "total-phase2            Group  1.0  34486.255879  34486.255879   5.116196   \n",
       "total-phase5            Group  1.0  90806.190296  90806.190296   7.486340   \n",
       "user-requirement-phase2 Group  1.0   3984.690579   3984.690579   6.832338   \n",
       "\n",
       "                                 PR(>F)  \n",
       "variable                                 \n",
       "Q5_Q5_3                 Group  0.003054  \n",
       "improve-effort-25       Group  0.024181  \n",
       "improve-novel-45        Group  0.037581  \n",
       "improve-sum-tech        Group  0.015184  \n",
       "improve-tech-15         Group  0.015184  \n",
       "improve-total-45        Group  0.020287  \n",
       "improve-vis-45          Group  0.012517  \n",
       "infovis-phase1          Group  0.001872  \n",
       "infovis-phase2          Group  0.040900  \n",
       "infovis-phase5          Group  0.013361  \n",
       "tech-phase2             Group  0.001505  \n",
       "tech-phase3             Group  0.003174  \n",
       "tech-phase4             Group  0.004990  \n",
       "tech-phase5             Group  0.000598  \n",
       "total-phase1            Group  0.026318  \n",
       "total-phase2            Group  0.025001  \n",
       "total-phase5            Group  0.006894  \n",
       "user-requirement-phase2 Group  0.009775  "
      ]
     },
     "execution_count": 6,
     "metadata": {},
     "output_type": "execute_result"
    }
   ],
   "source": [
    "output_df.loc[(output_df['PR(>F)'] <= 0.05)]"
   ]
  },
  {
   "cell_type": "markdown",
   "id": "5ae0aa8d",
   "metadata": {},
   "source": [
    "> Interpretation - improve-tech-15 mean score highest for Bogota 3 "
   ]
  },
  {
   "cell_type": "code",
   "execution_count": 7,
   "id": "ff59f80c",
   "metadata": {},
   "outputs": [
    {
     "name": "stdout",
     "output_type": "stream",
     "text": [
      "12.732558139534884\n",
      "-5.464285714285714\n",
      "-14.345238095238095\n",
      "-12.695121951219512\n"
     ]
    }
   ],
   "source": [
    "print(overall_loc_scores_final['improve-effort-25'].loc[overall_loc_scores_final['Group'] == 0].mean())\n",
    "print(overall_loc_scores_final['improve-effort-25'].loc[overall_loc_scores_final['Group'] == 1].mean())\n",
    "print(overall_loc_scores_final['improve-effort-25'].loc[overall_loc_scores_final['Group'] == 2].mean())\n",
    "print(overall_loc_scores_final['improve-effort-25'].loc[overall_loc_scores_final['Group'] == 3].mean())"
   ]
  },
  {
   "cell_type": "code",
   "execution_count": 8,
   "id": "dc5e5328",
   "metadata": {},
   "outputs": [
    {
     "name": "stdout",
     "output_type": "stream",
     "text": [
      "23.546511627906977\n",
      "24.404761904761905\n",
      "36.607142857142854\n",
      "37.19512195121951\n"
     ]
    }
   ],
   "source": [
    "print(overall_loc_scores_final['improve-tech-15'].loc[overall_loc_scores_final['Group'] == 0].mean())\n",
    "print(overall_loc_scores_final['improve-tech-15'].loc[overall_loc_scores_final['Group'] == 1].mean())\n",
    "print(overall_loc_scores_final['improve-tech-15'].loc[overall_loc_scores_final['Group'] == 2].mean())\n",
    "print(overall_loc_scores_final['improve-tech-15'].loc[overall_loc_scores_final['Group'] == 3].mean())"
   ]
  },
  {
   "cell_type": "markdown",
   "id": "73570f21",
   "metadata": {},
   "source": [
    "> Interpretation - improve-novel-45 mean score highest for Bogota 3"
   ]
  },
  {
   "cell_type": "code",
   "execution_count": 9,
   "id": "1d83bfbd",
   "metadata": {},
   "outputs": [
    {
     "name": "stdout",
     "output_type": "stream",
     "text": [
      "8.74046511627907\n",
      "8.090476190476192\n",
      "13.755238095238095\n",
      "20.10146341463415\n"
     ]
    }
   ],
   "source": [
    "print(overall_loc_scores_final['improve-novel-45'].loc[overall_loc_scores_final['Group'] == 0].mean())\n",
    "print(overall_loc_scores_final['improve-novel-45'].loc[overall_loc_scores_final['Group'] == 1].mean())\n",
    "print(overall_loc_scores_final['improve-novel-45'].loc[overall_loc_scores_final['Group'] == 2].mean())\n",
    "print(overall_loc_scores_final['improve-novel-45'].loc[overall_loc_scores_final['Group'] == 3].mean())"
   ]
  },
  {
   "cell_type": "markdown",
   "id": "218f12d7",
   "metadata": {},
   "source": [
    "> Interpretation - improve-vis-45 mean score highest for Bogota 3"
   ]
  },
  {
   "cell_type": "code",
   "execution_count": 10,
   "id": "bea2a3bb",
   "metadata": {},
   "outputs": [
    {
     "name": "stdout",
     "output_type": "stream",
     "text": [
      "3.1979069767441857\n",
      "1.885\n",
      "5.55547619047619\n",
      "11.381951219512194\n"
     ]
    }
   ],
   "source": [
    "print(overall_loc_scores_final['improve-vis-45'].loc[overall_loc_scores_final['Group'] == 0].mean())\n",
    "print(overall_loc_scores_final['improve-vis-45'].loc[overall_loc_scores_final['Group'] == 1].mean())\n",
    "print(overall_loc_scores_final['improve-vis-45'].loc[overall_loc_scores_final['Group'] == 2].mean())\n",
    "print(overall_loc_scores_final['improve-vis-45'].loc[overall_loc_scores_final['Group'] == 3].mean())"
   ]
  },
  {
   "cell_type": "markdown",
   "id": "a5c1a7e3",
   "metadata": {},
   "source": [
    "> Interpretation - improve-total-45 mean score highest for Bogota 3"
   ]
  },
  {
   "cell_type": "code",
   "execution_count": 11,
   "id": "87dbd672",
   "metadata": {},
   "outputs": [
    {
     "name": "stdout",
     "output_type": "stream",
     "text": [
      "28.333720930232552\n",
      "15.630476190476186\n",
      "37.28666666666666\n",
      "53.80097560975609\n"
     ]
    }
   ],
   "source": [
    "print(overall_loc_scores_final['improve-total-45'].loc[overall_loc_scores_final['Group'] == 0].mean())\n",
    "print(overall_loc_scores_final['improve-total-45'].loc[overall_loc_scores_final['Group'] == 1].mean())\n",
    "print(overall_loc_scores_final['improve-total-45'].loc[overall_loc_scores_final['Group'] == 2].mean())\n",
    "print(overall_loc_scores_final['improve-total-45'].loc[overall_loc_scores_final['Group'] == 3].mean())"
   ]
  },
  {
   "cell_type": "markdown",
   "id": "ed4ba2af",
   "metadata": {},
   "source": [
    "## Post-Hoc Test [ Section to be Ignored ]"
   ]
  },
  {
   "cell_type": "code",
   "execution_count": 12,
   "id": "f8baf8dd",
   "metadata": {},
   "outputs": [
    {
     "data": {
      "text/html": [
       "<div>\n",
       "<style scoped>\n",
       "    .dataframe tbody tr th:only-of-type {\n",
       "        vertical-align: middle;\n",
       "    }\n",
       "\n",
       "    .dataframe tbody tr th {\n",
       "        vertical-align: top;\n",
       "    }\n",
       "\n",
       "    .dataframe thead th {\n",
       "        text-align: right;\n",
       "    }\n",
       "</style>\n",
       "<table border=\"1\" class=\"dataframe\">\n",
       "  <thead>\n",
       "    <tr style=\"text-align: right;\">\n",
       "      <th></th>\n",
       "      <th>Contrast</th>\n",
       "      <th>A</th>\n",
       "      <th>B</th>\n",
       "      <th>Paired</th>\n",
       "      <th>Parametric</th>\n",
       "      <th>T</th>\n",
       "      <th>dof</th>\n",
       "      <th>alternative</th>\n",
       "      <th>p-unc</th>\n",
       "      <th>p-corr</th>\n",
       "      <th>p-adjust</th>\n",
       "      <th>BF10</th>\n",
       "      <th>hedges</th>\n",
       "    </tr>\n",
       "  </thead>\n",
       "  <tbody>\n",
       "    <tr>\n",
       "      <th>0</th>\n",
       "      <td>Group</td>\n",
       "      <td>0.0</td>\n",
       "      <td>1.0</td>\n",
       "      <td>False</td>\n",
       "      <td>True</td>\n",
       "      <td>1.915917</td>\n",
       "      <td>68.478099</td>\n",
       "      <td>two-sided</td>\n",
       "      <td>0.059551</td>\n",
       "      <td>0.357308</td>\n",
       "      <td>bonf</td>\n",
       "      <td>1.109</td>\n",
       "      <td>0.409527</td>\n",
       "    </tr>\n",
       "    <tr>\n",
       "      <th>1</th>\n",
       "      <td>Group</td>\n",
       "      <td>0.0</td>\n",
       "      <td>2.0</td>\n",
       "      <td>False</td>\n",
       "      <td>True</td>\n",
       "      <td>1.895477</td>\n",
       "      <td>73.422045</td>\n",
       "      <td>two-sided</td>\n",
       "      <td>0.061965</td>\n",
       "      <td>0.371793</td>\n",
       "      <td>bonf</td>\n",
       "      <td>1.072</td>\n",
       "      <td>0.409135</td>\n",
       "    </tr>\n",
       "    <tr>\n",
       "      <th>2</th>\n",
       "      <td>Group</td>\n",
       "      <td>0.0</td>\n",
       "      <td>3.0</td>\n",
       "      <td>False</td>\n",
       "      <td>True</td>\n",
       "      <td>2.283548</td>\n",
       "      <td>81.819917</td>\n",
       "      <td>two-sided</td>\n",
       "      <td>0.024991</td>\n",
       "      <td>0.149945</td>\n",
       "      <td>bonf</td>\n",
       "      <td>2.14</td>\n",
       "      <td>0.492751</td>\n",
       "    </tr>\n",
       "    <tr>\n",
       "      <th>3</th>\n",
       "      <td>Group</td>\n",
       "      <td>1.0</td>\n",
       "      <td>2.0</td>\n",
       "      <td>False</td>\n",
       "      <td>True</td>\n",
       "      <td>0.698940</td>\n",
       "      <td>54.760691</td>\n",
       "      <td>two-sided</td>\n",
       "      <td>0.487547</td>\n",
       "      <td>1.000000</td>\n",
       "      <td>bonf</td>\n",
       "      <td>0.282</td>\n",
       "      <td>0.151122</td>\n",
       "    </tr>\n",
       "    <tr>\n",
       "      <th>4</th>\n",
       "      <td>Group</td>\n",
       "      <td>1.0</td>\n",
       "      <td>3.0</td>\n",
       "      <td>False</td>\n",
       "      <td>True</td>\n",
       "      <td>0.801611</td>\n",
       "      <td>68.479345</td>\n",
       "      <td>two-sided</td>\n",
       "      <td>0.425551</td>\n",
       "      <td>1.000000</td>\n",
       "      <td>bonf</td>\n",
       "      <td>0.303</td>\n",
       "      <td>0.175219</td>\n",
       "    </tr>\n",
       "    <tr>\n",
       "      <th>5</th>\n",
       "      <td>Group</td>\n",
       "      <td>2.0</td>\n",
       "      <td>3.0</td>\n",
       "      <td>False</td>\n",
       "      <td>True</td>\n",
       "      <td>-0.118096</td>\n",
       "      <td>69.929950</td>\n",
       "      <td>two-sided</td>\n",
       "      <td>0.906330</td>\n",
       "      <td>1.000000</td>\n",
       "      <td>bonf</td>\n",
       "      <td>0.23</td>\n",
       "      <td>-0.025555</td>\n",
       "    </tr>\n",
       "  </tbody>\n",
       "</table>\n",
       "</div>"
      ],
      "text/plain": [
       "  Contrast    A    B  Paired  Parametric         T        dof alternative  \\\n",
       "0    Group  0.0  1.0   False        True  1.915917  68.478099   two-sided   \n",
       "1    Group  0.0  2.0   False        True  1.895477  73.422045   two-sided   \n",
       "2    Group  0.0  3.0   False        True  2.283548  81.819917   two-sided   \n",
       "3    Group  1.0  2.0   False        True  0.698940  54.760691   two-sided   \n",
       "4    Group  1.0  3.0   False        True  0.801611  68.479345   two-sided   \n",
       "5    Group  2.0  3.0   False        True -0.118096  69.929950   two-sided   \n",
       "\n",
       "      p-unc    p-corr p-adjust   BF10    hedges  \n",
       "0  0.059551  0.357308     bonf  1.109  0.409527  \n",
       "1  0.061965  0.371793     bonf  1.072  0.409135  \n",
       "2  0.024991  0.149945     bonf   2.14  0.492751  \n",
       "3  0.487547  1.000000     bonf  0.282  0.151122  \n",
       "4  0.425551  1.000000     bonf  0.303  0.175219  \n",
       "5  0.906330  1.000000     bonf   0.23 -0.025555  "
      ]
     },
     "execution_count": 12,
     "metadata": {},
     "output_type": "execute_result"
    }
   ],
   "source": [
    "import pingouin as pg\n",
    "from pingouin import pairwise_ttests\n",
    "\n",
    "posthocs = pairwise_ttests(dv='improve-effort-25', between='Group', padjust='bonf', data=overall_loc_scores_final, correction=True)\n",
    "posthocs"
   ]
  },
  {
   "cell_type": "code",
   "execution_count": 13,
   "id": "e8f16bd0",
   "metadata": {},
   "outputs": [
    {
     "data": {
      "text/html": [
       "<div>\n",
       "<style scoped>\n",
       "    .dataframe tbody tr th:only-of-type {\n",
       "        vertical-align: middle;\n",
       "    }\n",
       "\n",
       "    .dataframe tbody tr th {\n",
       "        vertical-align: top;\n",
       "    }\n",
       "\n",
       "    .dataframe thead th {\n",
       "        text-align: right;\n",
       "    }\n",
       "</style>\n",
       "<table border=\"1\" class=\"dataframe\">\n",
       "  <thead>\n",
       "    <tr style=\"text-align: right;\">\n",
       "      <th></th>\n",
       "      <th>A</th>\n",
       "      <th>B</th>\n",
       "      <th>mean(A)</th>\n",
       "      <th>mean(B)</th>\n",
       "      <th>diff</th>\n",
       "      <th>se</th>\n",
       "      <th>T</th>\n",
       "      <th>df</th>\n",
       "      <th>pval</th>\n",
       "      <th>hedges</th>\n",
       "    </tr>\n",
       "  </thead>\n",
       "  <tbody>\n",
       "    <tr>\n",
       "      <th>0</th>\n",
       "      <td>0.0</td>\n",
       "      <td>1.0</td>\n",
       "      <td>12.732558</td>\n",
       "      <td>-5.464286</td>\n",
       "      <td>18.196844</td>\n",
       "      <td>9.497721</td>\n",
       "      <td>1.915917</td>\n",
       "      <td>68.478099</td>\n",
       "      <td>0.231150</td>\n",
       "      <td>0.411882</td>\n",
       "    </tr>\n",
       "    <tr>\n",
       "      <th>1</th>\n",
       "      <td>0.0</td>\n",
       "      <td>2.0</td>\n",
       "      <td>12.732558</td>\n",
       "      <td>-14.345238</td>\n",
       "      <td>27.077796</td>\n",
       "      <td>14.285479</td>\n",
       "      <td>1.895477</td>\n",
       "      <td>73.422045</td>\n",
       "      <td>0.238932</td>\n",
       "      <td>0.407488</td>\n",
       "    </tr>\n",
       "    <tr>\n",
       "      <th>2</th>\n",
       "      <td>0.0</td>\n",
       "      <td>3.0</td>\n",
       "      <td>12.732558</td>\n",
       "      <td>-12.695122</td>\n",
       "      <td>25.427680</td>\n",
       "      <td>11.135162</td>\n",
       "      <td>2.283548</td>\n",
       "      <td>81.819917</td>\n",
       "      <td>0.110448</td>\n",
       "      <td>0.493879</td>\n",
       "    </tr>\n",
       "    <tr>\n",
       "      <th>3</th>\n",
       "      <td>1.0</td>\n",
       "      <td>2.0</td>\n",
       "      <td>-5.464286</td>\n",
       "      <td>-14.345238</td>\n",
       "      <td>8.880952</td>\n",
       "      <td>12.706310</td>\n",
       "      <td>0.698940</td>\n",
       "      <td>54.760691</td>\n",
       "      <td>0.892691</td>\n",
       "      <td>0.151122</td>\n",
       "    </tr>\n",
       "    <tr>\n",
       "      <th>4</th>\n",
       "      <td>1.0</td>\n",
       "      <td>3.0</td>\n",
       "      <td>-5.464286</td>\n",
       "      <td>-12.695122</td>\n",
       "      <td>7.230836</td>\n",
       "      <td>9.020379</td>\n",
       "      <td>0.801611</td>\n",
       "      <td>68.479345</td>\n",
       "      <td>0.835387</td>\n",
       "      <td>0.174355</td>\n",
       "    </tr>\n",
       "    <tr>\n",
       "      <th>5</th>\n",
       "      <td>2.0</td>\n",
       "      <td>3.0</td>\n",
       "      <td>-14.345238</td>\n",
       "      <td>-12.695122</td>\n",
       "      <td>-1.650116</td>\n",
       "      <td>13.972668</td>\n",
       "      <td>-0.118096</td>\n",
       "      <td>69.929950</td>\n",
       "      <td>0.900000</td>\n",
       "      <td>-0.025687</td>\n",
       "    </tr>\n",
       "  </tbody>\n",
       "</table>\n",
       "</div>"
      ],
      "text/plain": [
       "     A    B    mean(A)    mean(B)       diff         se         T         df  \\\n",
       "0  0.0  1.0  12.732558  -5.464286  18.196844   9.497721  1.915917  68.478099   \n",
       "1  0.0  2.0  12.732558 -14.345238  27.077796  14.285479  1.895477  73.422045   \n",
       "2  0.0  3.0  12.732558 -12.695122  25.427680  11.135162  2.283548  81.819917   \n",
       "3  1.0  2.0  -5.464286 -14.345238   8.880952  12.706310  0.698940  54.760691   \n",
       "4  1.0  3.0  -5.464286 -12.695122   7.230836   9.020379  0.801611  68.479345   \n",
       "5  2.0  3.0 -14.345238 -12.695122  -1.650116  13.972668 -0.118096  69.929950   \n",
       "\n",
       "       pval    hedges  \n",
       "0  0.231150  0.411882  \n",
       "1  0.238932  0.407488  \n",
       "2  0.110448  0.493879  \n",
       "3  0.892691  0.151122  \n",
       "4  0.835387  0.174355  \n",
       "5  0.900000 -0.025687  "
      ]
     },
     "execution_count": 13,
     "metadata": {},
     "output_type": "execute_result"
    }
   ],
   "source": [
    "pg.pairwise_gameshowell(data=overall_loc_scores_final, dv='improve-effort-25', between='Group')"
   ]
  },
  {
   "cell_type": "code",
   "execution_count": 14,
   "id": "1ba126ce",
   "metadata": {},
   "outputs": [
    {
     "data": {
      "text/html": [
       "<table class=\"simpletable\">\n",
       "<caption>Test Multiple Comparison ttest_ind \n",
       "FWER=0.05 method=bonferroni\n",
       "alphacSidak=0.01, alphacBonf=0.008</caption>\n",
       "<tr>\n",
       "  <th>group1</th> <th>group2</th>  <th>stat</th>    <th>pval</th>  <th>pval_corr</th> <th>reject</th>\n",
       "</tr>\n",
       "<tr>\n",
       "    <td>0.0</td>    <td>1.0</td>   <td>1.905</td>  <td>0.0602</td>  <td>0.3615</td>    <td>False</td>\n",
       "</tr>\n",
       "<tr>\n",
       "    <td>0.0</td>    <td>2.0</td>  <td>1.9031</td>  <td>0.0605</td>  <td>0.3629</td>    <td>False</td>\n",
       "</tr>\n",
       "<tr>\n",
       "    <td>0.0</td>    <td>3.0</td>  <td>2.2783</td>  <td>0.0253</td>  <td>0.1518</td>    <td>False</td>\n",
       "</tr>\n",
       "<tr>\n",
       "    <td>1.0</td>    <td>2.0</td>  <td>0.6989</td>  <td>0.4866</td>    <td>1.0</td>     <td>False</td>\n",
       "</tr>\n",
       "<tr>\n",
       "    <td>1.0</td>    <td>3.0</td>  <td>0.8056</td>  <td>0.4228</td>    <td>1.0</td>     <td>False</td>\n",
       "</tr>\n",
       "<tr>\n",
       "    <td>2.0</td>    <td>3.0</td>  <td>-0.1175</td> <td>0.9068</td>    <td>1.0</td>     <td>False</td>\n",
       "</tr>\n",
       "</table>"
      ],
      "text/plain": [
       "<class 'statsmodels.iolib.table.SimpleTable'>"
      ]
     },
     "execution_count": 14,
     "metadata": {},
     "output_type": "execute_result"
    }
   ],
   "source": [
    "import statsmodels.stats.multicomp as mc\n",
    "import scipy.stats as stats\n",
    "\n",
    "comp = mc.MultiComparison(overall_loc_scores_final['improve-effort-25'], overall_loc_scores_final['Group'])\n",
    "\n",
    "tb1, a1, a2 = comp.allpairtest(stats.ttest_ind, method='bonferroni')\n",
    "tb1"
   ]
  },
  {
   "cell_type": "code",
   "execution_count": 15,
   "id": "508a3e33",
   "metadata": {},
   "outputs": [
    {
     "data": {
      "text/html": [
       "<table class=\"simpletable\">\n",
       "<caption>Test Multiple Comparison ttest_ind \n",
       "FWER=0.05 method=bonferroni\n",
       "alphacSidak=0.01, alphacBonf=0.008</caption>\n",
       "<tr>\n",
       "  <th>group1</th> <th>group2</th>  <th>stat</th>    <th>pval</th>  <th>pval_corr</th> <th>reject</th>\n",
       "</tr>\n",
       "<tr>\n",
       "    <td>0.0</td>    <td>1.0</td>  <td>-0.1191</td> <td>0.9055</td>    <td>1.0</td>     <td>False</td>\n",
       "</tr>\n",
       "<tr>\n",
       "    <td>0.0</td>    <td>2.0</td>  <td>-1.8723</td> <td>0.0647</td>  <td>0.3881</td>    <td>False</td>\n",
       "</tr>\n",
       "<tr>\n",
       "    <td>0.0</td>    <td>3.0</td>  <td>-1.8722</td> <td>0.0647</td>  <td>0.3885</td>    <td>False</td>\n",
       "</tr>\n",
       "<tr>\n",
       "    <td>1.0</td>    <td>2.0</td>  <td>-1.8997</td>  <td>0.061</td>  <td>0.3659</td>    <td>False</td>\n",
       "</tr>\n",
       "<tr>\n",
       "    <td>1.0</td>    <td>3.0</td>  <td>-1.8932</td> <td>0.0619</td>  <td>0.3714</td>    <td>False</td>\n",
       "</tr>\n",
       "<tr>\n",
       "    <td>2.0</td>    <td>3.0</td>  <td>-0.0905</td> <td>0.9281</td>    <td>1.0</td>     <td>False</td>\n",
       "</tr>\n",
       "</table>"
      ],
      "text/plain": [
       "<class 'statsmodels.iolib.table.SimpleTable'>"
      ]
     },
     "execution_count": 15,
     "metadata": {},
     "output_type": "execute_result"
    }
   ],
   "source": [
    "import statsmodels.stats.multicomp as mc\n",
    "import scipy.stats as stats\n",
    "\n",
    "comp = mc.MultiComparison(overall_loc_scores_final['improve-tech-15'], overall_loc_scores_final['Group'])\n",
    "\n",
    "tb1, a1, a2 = comp.allpairtest(stats.ttest_ind, method='bonferroni')\n",
    "tb1"
   ]
  },
  {
   "cell_type": "code",
   "execution_count": 16,
   "id": "358b9528",
   "metadata": {},
   "outputs": [
    {
     "data": {
      "text/html": [
       "<table class=\"simpletable\">\n",
       "<caption>Test Multiple Comparison ttest_ind \n",
       "FWER=0.05 method=bonferroni\n",
       "alphacSidak=0.01, alphacBonf=0.008</caption>\n",
       "<tr>\n",
       "  <th>group1</th> <th>group2</th>  <th>stat</th>    <th>pval</th>  <th>pval_corr</th> <th>reject</th>\n",
       "</tr>\n",
       "<tr>\n",
       "    <td>0.0</td>    <td>1.0</td>  <td>0.1278</td>  <td>0.8986</td>    <td>1.0</td>     <td>False</td>\n",
       "</tr>\n",
       "<tr>\n",
       "    <td>0.0</td>    <td>2.0</td>  <td>-0.8544</td> <td>0.3953</td>    <td>1.0</td>     <td>False</td>\n",
       "</tr>\n",
       "<tr>\n",
       "    <td>0.0</td>    <td>3.0</td>  <td>-1.8081</td> <td>0.0743</td>  <td>0.4456</td>    <td>False</td>\n",
       "</tr>\n",
       "<tr>\n",
       "    <td>1.0</td>    <td>2.0</td>  <td>-1.0005</td>  <td>0.32</td>     <td>1.0</td>     <td>False</td>\n",
       "</tr>\n",
       "<tr>\n",
       "    <td>1.0</td>    <td>3.0</td>  <td>-1.9709</td> <td>0.0522</td>  <td>0.3129</td>    <td>False</td>\n",
       "</tr>\n",
       "<tr>\n",
       "    <td>2.0</td>    <td>3.0</td>  <td>-0.9341</td>  <td>0.353</td>    <td>1.0</td>     <td>False</td>\n",
       "</tr>\n",
       "</table>"
      ],
      "text/plain": [
       "<class 'statsmodels.iolib.table.SimpleTable'>"
      ]
     },
     "execution_count": 16,
     "metadata": {},
     "output_type": "execute_result"
    }
   ],
   "source": [
    "import statsmodels.stats.multicomp as mc\n",
    "import scipy.stats as stats\n",
    "\n",
    "comp = mc.MultiComparison(overall_loc_scores_final['improve-novel-45'], overall_loc_scores_final['Group'])\n",
    "\n",
    "tb1, a1, a2 = comp.allpairtest(stats.ttest_ind, method='bonferroni')\n",
    "tb1"
   ]
  },
  {
   "cell_type": "code",
   "execution_count": 17,
   "id": "a067c6a0",
   "metadata": {},
   "outputs": [
    {
     "data": {
      "text/html": [
       "<table class=\"simpletable\">\n",
       "<caption>Test Multiple Comparison ttest_ind \n",
       "FWER=0.05 method=bonferroni\n",
       "alphacSidak=0.01, alphacBonf=0.008</caption>\n",
       "<tr>\n",
       "  <th>group1</th> <th>group2</th>  <th>stat</th>    <th>pval</th>  <th>pval_corr</th> <th>reject</th>\n",
       "</tr>\n",
       "<tr>\n",
       "    <td>0.0</td>    <td>1.0</td>  <td>0.4139</td>   <td>0.68</td>     <td>1.0</td>     <td>False</td>\n",
       "</tr>\n",
       "<tr>\n",
       "    <td>0.0</td>    <td>2.0</td>  <td>-0.7016</td> <td>0.4849</td>    <td>1.0</td>     <td>False</td>\n",
       "</tr>\n",
       "<tr>\n",
       "    <td>0.0</td>    <td>3.0</td>  <td>-2.3236</td> <td>0.0226</td>  <td>0.1357</td>    <td>False</td>\n",
       "</tr>\n",
       "<tr>\n",
       "    <td>1.0</td>    <td>2.0</td>  <td>-1.0545</td> <td>0.2948</td>    <td>1.0</td>     <td>False</td>\n",
       "</tr>\n",
       "<tr>\n",
       "    <td>1.0</td>    <td>3.0</td>  <td>-2.6071</td> <td>0.0109</td>  <td>0.0652</td>    <td>False</td>\n",
       "</tr>\n",
       "<tr>\n",
       "    <td>2.0</td>    <td>3.0</td>  <td>-1.5269</td> <td>0.1307</td>   <td>0.784</td>    <td>False</td>\n",
       "</tr>\n",
       "</table>"
      ],
      "text/plain": [
       "<class 'statsmodels.iolib.table.SimpleTable'>"
      ]
     },
     "execution_count": 17,
     "metadata": {},
     "output_type": "execute_result"
    }
   ],
   "source": [
    "import statsmodels.stats.multicomp as mc\n",
    "import scipy.stats as stats\n",
    "\n",
    "comp = mc.MultiComparison(overall_loc_scores_final['improve-vis-45'], overall_loc_scores_final['Group'])\n",
    "\n",
    "tb1, a1, a2 = comp.allpairtest(stats.ttest_ind, method='bonferroni')\n",
    "tb1"
   ]
  },
  {
   "cell_type": "code",
   "execution_count": 18,
   "id": "7ae7e25d",
   "metadata": {},
   "outputs": [
    {
     "data": {
      "text/html": [
       "<table class=\"simpletable\">\n",
       "<caption>Test Multiple Comparison ttest_ind \n",
       "FWER=0.05 method=bonferroni\n",
       "alphacSidak=0.01, alphacBonf=0.008</caption>\n",
       "<tr>\n",
       "  <th>group1</th> <th>group2</th>  <th>stat</th>    <th>pval</th>  <th>pval_corr</th> <th>reject</th>\n",
       "</tr>\n",
       "<tr>\n",
       "    <td>0.0</td>    <td>1.0</td>  <td>0.7237</td>  <td>0.4713</td>    <td>1.0</td>     <td>False</td>\n",
       "</tr>\n",
       "<tr>\n",
       "    <td>0.0</td>    <td>2.0</td>  <td>-0.1532</td> <td>0.8786</td>    <td>1.0</td>     <td>False</td>\n",
       "</tr>\n",
       "<tr>\n",
       "    <td>0.0</td>    <td>3.0</td>  <td>-1.0782</td> <td>0.2841</td>    <td>1.0</td>     <td>False</td>\n",
       "</tr>\n",
       "<tr>\n",
       "    <td>1.0</td>    <td>2.0</td>  <td>-1.0049</td> <td>0.3179</td>    <td>1.0</td>     <td>False</td>\n",
       "</tr>\n",
       "<tr>\n",
       "    <td>1.0</td>    <td>3.0</td>  <td>-2.0945</td> <td>0.0393</td>   <td>0.236</td>    <td>False</td>\n",
       "</tr>\n",
       "<tr>\n",
       "    <td>2.0</td>    <td>3.0</td>  <td>-1.054</td>   <td>0.295</td>    <td>1.0</td>     <td>False</td>\n",
       "</tr>\n",
       "</table>"
      ],
      "text/plain": [
       "<class 'statsmodels.iolib.table.SimpleTable'>"
      ]
     },
     "execution_count": 18,
     "metadata": {},
     "output_type": "execute_result"
    }
   ],
   "source": [
    "import statsmodels.stats.multicomp as mc\n",
    "import scipy.stats as stats\n",
    "\n",
    "comp = mc.MultiComparison(overall_loc_scores_final['improve-total-15'], overall_loc_scores_final['Group'])\n",
    "\n",
    "tb1, a1, a2 = comp.allpairtest(stats.ttest_ind, method='bonferroni')\n",
    "tb1"
   ]
  },
  {
   "cell_type": "code",
   "execution_count": 19,
   "id": "7bbc7f06",
   "metadata": {},
   "outputs": [
    {
     "name": "stdout",
     "output_type": "stream",
     "text": [
      " Multiple Comparison of Means - Tukey HSD, FWER=0.05 \n",
      "=====================================================\n",
      "group1 group2 meandiff p-adj   lower    upper  reject\n",
      "-----------------------------------------------------\n",
      "   0.0    1.0 -18.1968 0.4229  -49.053 12.6593  False\n",
      "   0.0    2.0 -27.0778 0.1075 -57.9339  3.7783  False\n",
      "   0.0    3.0 -25.4277 0.1492 -56.4736  5.6182  False\n",
      "   1.0    2.0   -8.881 0.8685  -39.918 22.1561  False\n",
      "   1.0    3.0  -7.2308    0.9 -38.4566 23.9949  False\n",
      "   2.0    3.0   1.6501    0.9 -29.5756 32.8759  False\n",
      "-----------------------------------------------------\n"
     ]
    }
   ],
   "source": [
    "from scipy.stats import f_oneway\n",
    "from statsmodels.stats.multicomp import pairwise_tukeyhsd\n",
    "\n",
    "# perform Tukey's test\n",
    "tukey = pairwise_tukeyhsd(endog=overall_loc_scores_final['improve-effort-25'],\n",
    "                          groups=overall_loc_scores_final['Group'],\n",
    "                          alpha=0.05)\n",
    "\n",
    "#display results\n",
    "print(tukey)"
   ]
  },
  {
   "cell_type": "code",
   "execution_count": 20,
   "id": "a5a74f3b",
   "metadata": {},
   "outputs": [
    {
     "name": "stdout",
     "output_type": "stream",
     "text": [
      " Multiple Comparison of Means - Tukey HSD, FWER=0.05 \n",
      "=====================================================\n",
      "group1 group2 meandiff p-adj   lower    upper  reject\n",
      "-----------------------------------------------------\n",
      "   0.0    1.0    -0.65    0.9 -16.0818 14.7818  False\n",
      "   0.0    2.0   5.0148 0.8121  -10.417 20.4466  False\n",
      "   0.0    3.0   11.361 0.2325  -4.1657 26.8877  False\n",
      "   1.0    2.0   5.6648 0.7541  -9.8576 21.1871  False\n",
      "   1.0    3.0   12.011 0.1936  -3.6057 27.6277  False\n",
      "   2.0    3.0   6.3462 0.6939  -9.2705 21.9629  False\n",
      "-----------------------------------------------------\n"
     ]
    }
   ],
   "source": [
    "from scipy.stats import f_oneway\n",
    "from statsmodels.stats.multicomp import pairwise_tukeyhsd\n",
    "\n",
    "# perform Tukey's test\n",
    "tukey = pairwise_tukeyhsd(endog=overall_loc_scores_final['improve-novel-45'],\n",
    "                          groups=overall_loc_scores_final['Group'],\n",
    "                          alpha=0.05)\n",
    "\n",
    "#display results\n",
    "print(tukey)"
   ]
  },
  {
   "cell_type": "code",
   "execution_count": 21,
   "id": "acfb64f1",
   "metadata": {},
   "outputs": [
    {
     "name": "stdout",
     "output_type": "stream",
     "text": [
      "Multiple Comparison of Means - Tukey HSD, FWER=0.05\n",
      "===================================================\n",
      "group1 group2 meandiff p-adj   lower  upper  reject\n",
      "---------------------------------------------------\n",
      "   0.0    1.0   0.7929 0.0458  0.0103 1.5756   True\n",
      "   0.0    2.0    0.912 0.0152  0.1293 1.6946   True\n",
      "   0.0    3.0   0.9172 0.0152  0.1297 1.7047   True\n",
      "   1.0    2.0    0.119    0.9 -0.6682 0.9063  False\n",
      "   1.0    3.0   0.1243    0.9 -0.6678 0.9163  False\n",
      "   2.0    3.0   0.0052    0.9 -0.7868 0.7973  False\n",
      "---------------------------------------------------\n"
     ]
    }
   ],
   "source": [
    "from scipy.stats import f_oneway\n",
    "from statsmodels.stats.multicomp import pairwise_tukeyhsd\n",
    "\n",
    "# perform Tukey's test\n",
    "tukey = pairwise_tukeyhsd(endog=overall_loc_scores_final['Q5_Q5_3'],\n",
    "                          groups=overall_loc_scores_final['Group'],\n",
    "                          alpha=0.05)\n",
    "\n",
    "#display results\n",
    "print(tukey)"
   ]
  },
  {
   "cell_type": "code",
   "execution_count": 22,
   "id": "df8de4b3",
   "metadata": {},
   "outputs": [
    {
     "name": "stdout",
     "output_type": "stream",
     "text": [
      " Multiple Comparison of Means - Tukey HSD, FWER=0.05 \n",
      "=====================================================\n",
      "group1 group2 meandiff p-adj   lower    upper  reject\n",
      "-----------------------------------------------------\n",
      "   0.0    1.0   0.8583    0.9 -16.8686 18.5851  False\n",
      "   0.0    2.0  13.0606  0.227  -4.6662 30.7875  False\n",
      "   0.0    3.0  13.6486 0.1974  -4.1873 31.4845  False\n",
      "   1.0    2.0  12.2024 0.2886  -5.6284 30.0332  False\n",
      "   1.0    3.0  12.7904 0.2537  -5.1488 30.7296  False\n",
      "   2.0    3.0    0.588    0.9 -17.3512 18.5272  False\n",
      "-----------------------------------------------------\n"
     ]
    }
   ],
   "source": [
    "from scipy.stats import f_oneway\n",
    "from statsmodels.stats.multicomp import pairwise_tukeyhsd\n",
    "\n",
    "# perform Tukey's test\n",
    "tukey = pairwise_tukeyhsd(endog=overall_loc_scores_final['improve-tech-15'],\n",
    "                          groups=overall_loc_scores_final['Group'],\n",
    "                          alpha=0.05)\n",
    "\n",
    "#display results\n",
    "print(tukey)"
   ]
  },
  {
   "cell_type": "code",
   "execution_count": 23,
   "id": "0f299255",
   "metadata": {},
   "outputs": [
    {
     "name": "stdout",
     "output_type": "stream",
     "text": [
      " Multiple Comparison of Means - Tukey HSD, FWER=0.05 \n",
      "=====================================================\n",
      "group1 group2 meandiff p-adj   lower    upper  reject\n",
      "-----------------------------------------------------\n",
      "   0.0    1.0  -1.3129    0.9 -10.3476  7.7218  False\n",
      "   0.0    2.0   2.3576    0.9  -6.6771 11.3923  False\n",
      "   0.0    3.0    8.184 0.0939  -0.9062 17.2743  False\n",
      "   1.0    2.0   3.6705 0.6975  -5.4172 12.7582  False\n",
      "   1.0    3.0    9.497 0.0384    0.354 18.6399   True\n",
      "   2.0    3.0   5.8265 0.3519  -3.3165 14.9694  False\n",
      "-----------------------------------------------------\n"
     ]
    }
   ],
   "source": [
    "from scipy.stats import f_oneway\n",
    "from statsmodels.stats.multicomp import pairwise_tukeyhsd\n",
    "\n",
    "# perform Tukey's test\n",
    "tukey = pairwise_tukeyhsd(endog=overall_loc_scores_final['improve-vis-45'],\n",
    "                          groups=overall_loc_scores_final['Group'],\n",
    "                          alpha=0.05)\n",
    "\n",
    "#display results\n",
    "print(tukey)"
   ]
  },
  {
   "cell_type": "code",
   "execution_count": 24,
   "id": "ca585bb9",
   "metadata": {},
   "outputs": [
    {
     "name": "stdout",
     "output_type": "stream",
     "text": [
      " Multiple Comparison of Means - Tukey HSD, FWER=0.05 \n",
      "=====================================================\n",
      "group1 group2 meandiff p-adj   lower    upper  reject\n",
      "-----------------------------------------------------\n",
      "   0.0    1.0 -12.7032 0.7356 -46.3356 20.9291  False\n",
      "   0.0    2.0   8.9529 0.8975 -24.6794 42.5853  False\n",
      "   0.0    3.0  25.4673 0.2102  -8.3719 59.3065  False\n",
      "   1.0    2.0  21.6562 0.3478 -12.1734 55.4858  False\n",
      "   1.0    3.0  38.1705 0.0212   4.1352 72.2058   True\n",
      "   2.0    3.0  16.5143 0.5795  -17.521 50.5496  False\n",
      "-----------------------------------------------------\n"
     ]
    }
   ],
   "source": [
    "from scipy.stats import f_oneway\n",
    "from statsmodels.stats.multicomp import pairwise_tukeyhsd\n",
    "\n",
    "# perform Tukey's test\n",
    "tukey = pairwise_tukeyhsd(endog=overall_loc_scores_final['improve-total-45'],\n",
    "                          groups=overall_loc_scores_final['Group'],\n",
    "                          alpha=0.05)\n",
    "\n",
    "#display results\n",
    "print(tukey)"
   ]
  },
  {
   "cell_type": "code",
   "execution_count": 25,
   "id": "c50f711b",
   "metadata": {},
   "outputs": [],
   "source": [
    "output_df.to_csv('output.csv')"
   ]
  },
  {
   "cell_type": "markdown",
   "id": "c5df541b",
   "metadata": {},
   "source": [
    "### Cronbach’s Alpha ( Internal Consistency )\n",
    "\n",
    "0.9 ≤ α\tExcellent\n",
    "\n",
    "0.8 ≤ α < 0.9\tGood\n",
    "\n",
    "0.7 ≤ α < 0.8\tAcceptable\n",
    "\n",
    "0.6 ≤ α < 0.7\tQuestionable\n",
    "\n",
    "0.5 ≤ α < 0.6\tPoor\n",
    "\n",
    "α < 0.5\tUnacceptable"
   ]
  },
  {
   "cell_type": "code",
   "execution_count": 26,
   "id": "816915ac",
   "metadata": {},
   "outputs": [
    {
     "data": {
      "text/plain": [
       "(0.9095718695451313, array([0.889, 0.928]))"
      ]
     },
     "execution_count": 26,
     "metadata": {},
     "output_type": "execute_result"
    }
   ],
   "source": [
    "# 95% confidence interval for Cronbach's alpha\n",
    "\n",
    "import pingouin as pg\n",
    "\n",
    "dropped_student_group = overall_loc_scores_final.drop(['Student', 'Group'], axis=1)\n",
    "\n",
    "pg.cronbach_alpha(data=dropped_student_group)\n",
    "\n"
   ]
  },
  {
   "cell_type": "markdown",
   "id": "f2ace0db",
   "metadata": {},
   "source": [
    "## Adequacy Test\n",
    "\n",
    "Before you perform factor analysis, you need to evaluate the “factorability” of our dataset. Factorability means \"can we found the factors in the dataset?\". There are two methods to check the factorability or sampling adequacy:\n",
    "\n",
    "\n",
    "* Bartlett’s Test\n",
    "* Kaiser-Meyer-Olkin Test\n",
    "\n",
    "Bartlett’s test of sphericity checks whether or not the observed variables intercorrelate at all using the observed correlation matrix against the identity matrix. If the test found statistically insignificant, you should not employ a factor analysis."
   ]
  },
  {
   "cell_type": "code",
   "execution_count": 27,
   "id": "4038439f",
   "metadata": {},
   "outputs": [
    {
     "name": "stderr",
     "output_type": "stream",
     "text": [
      "/usr/local/anaconda3/lib/python3.8/site-packages/outdated/utils.py:14: OutdatedPackageWarning: The package pingouin is out of date. Your version is 0.5.0, the latest is 0.5.1.\n",
      "Set the environment variable OUTDATED_IGNORE=1 to disable these warnings.\n",
      "  return warn(\n",
      "/usr/local/anaconda3/lib/python3.8/site-packages/factor_analyzer/factor_analyzer.py:111: RuntimeWarning: divide by zero encountered in log\n",
      "  statistic = -np.log(corr_det) * (n - 1 - (2 * p + 5) / 6)\n"
     ]
    },
    {
     "data": {
      "text/plain": [
       "0.0"
      ]
     },
     "execution_count": 27,
     "metadata": {},
     "output_type": "execute_result"
    }
   ],
   "source": [
    "# In this Bartlett ’s test, the p-value is 0. The test was statistically significant, \n",
    "# indicating that the observed correlation matrix is not an identity matrix.\n",
    "\n",
    "from factor_analyzer.factor_analyzer import calculate_bartlett_sphericity\n",
    "chi_square_value,p_value=calculate_bartlett_sphericity(dropped_student_group)\n",
    "p_value"
   ]
  },
  {
   "cell_type": "code",
   "execution_count": 28,
   "id": "ca888b7e",
   "metadata": {},
   "outputs": [],
   "source": [
    "# Kaiser-Meyer-Olkin (KMO) Test measures the suitability of data for factor analysis. \n",
    "# It determines the adequacy for each observed variable and for the complete model. \n",
    "# KMO estimates the proportion of variance among all the observed variable. \n",
    "# Lower proportion id more suitable for factor analysis. KMO values range between 0 and 1. \n",
    "# Value of KMO less than 0.6 is considered inadequate."
   ]
  },
  {
   "cell_type": "code",
   "execution_count": 29,
   "id": "6c022f35",
   "metadata": {},
   "outputs": [
    {
     "name": "stderr",
     "output_type": "stream",
     "text": [
      "/usr/local/anaconda3/lib/python3.8/site-packages/factor_analyzer/utils.py:249: UserWarning: The inverse of the variance-covariance matrix was calculated using the Moore-Penrose generalized matrix inversion, due to its determinant being at or very close to zero.\n",
      "  warnings.warn('The inverse of the variance-covariance matrix '\n"
     ]
    },
    {
     "data": {
      "text/plain": [
       "0.2486760515069066"
      ]
     },
     "execution_count": 29,
     "metadata": {},
     "output_type": "execute_result"
    }
   ],
   "source": [
    "from factor_analyzer.factor_analyzer import calculate_kmo\n",
    "kmo_all,kmo_model=calculate_kmo(dropped_student_group)\n",
    "kmo_model"
   ]
  },
  {
   "cell_type": "markdown",
   "id": "d3d4b619",
   "metadata": {},
   "source": [
    "## Factor Analysis Phase 1 - 5 [ All Groups ] "
   ]
  },
  {
   "cell_type": "code",
   "execution_count": 30,
   "id": "e4f6d4c8",
   "metadata": {},
   "outputs": [
    {
     "data": {
      "text/html": [
       "<div>\n",
       "<style scoped>\n",
       "    .dataframe tbody tr th:only-of-type {\n",
       "        vertical-align: middle;\n",
       "    }\n",
       "\n",
       "    .dataframe tbody tr th {\n",
       "        vertical-align: top;\n",
       "    }\n",
       "\n",
       "    .dataframe thead th {\n",
       "        text-align: right;\n",
       "    }\n",
       "</style>\n",
       "<table border=\"1\" class=\"dataframe\">\n",
       "  <thead>\n",
       "    <tr style=\"text-align: right;\">\n",
       "      <th></th>\n",
       "      <th>improve-novel-15</th>\n",
       "      <th>improve-vis-15</th>\n",
       "      <th>improve-ur-15</th>\n",
       "      <th>improve-tech-15</th>\n",
       "      <th>improve-total-15</th>\n",
       "    </tr>\n",
       "  </thead>\n",
       "  <tbody>\n",
       "    <tr>\n",
       "      <th>0</th>\n",
       "      <td>50.00</td>\n",
       "      <td>0.00</td>\n",
       "      <td>0.0</td>\n",
       "      <td>50.0</td>\n",
       "      <td>100.00</td>\n",
       "    </tr>\n",
       "    <tr>\n",
       "      <th>1</th>\n",
       "      <td>67.50</td>\n",
       "      <td>75.00</td>\n",
       "      <td>60.0</td>\n",
       "      <td>0.0</td>\n",
       "      <td>202.50</td>\n",
       "    </tr>\n",
       "    <tr>\n",
       "      <th>2</th>\n",
       "      <td>25.00</td>\n",
       "      <td>54.17</td>\n",
       "      <td>100.0</td>\n",
       "      <td>25.0</td>\n",
       "      <td>204.17</td>\n",
       "    </tr>\n",
       "    <tr>\n",
       "      <th>3</th>\n",
       "      <td>16.67</td>\n",
       "      <td>37.50</td>\n",
       "      <td>20.0</td>\n",
       "      <td>62.5</td>\n",
       "      <td>136.67</td>\n",
       "    </tr>\n",
       "    <tr>\n",
       "      <th>4</th>\n",
       "      <td>87.50</td>\n",
       "      <td>58.33</td>\n",
       "      <td>60.0</td>\n",
       "      <td>50.0</td>\n",
       "      <td>255.83</td>\n",
       "    </tr>\n",
       "    <tr>\n",
       "      <th>...</th>\n",
       "      <td>...</td>\n",
       "      <td>...</td>\n",
       "      <td>...</td>\n",
       "      <td>...</td>\n",
       "      <td>...</td>\n",
       "    </tr>\n",
       "    <tr>\n",
       "      <th>163</th>\n",
       "      <td>0.00</td>\n",
       "      <td>0.00</td>\n",
       "      <td>0.0</td>\n",
       "      <td>0.0</td>\n",
       "      <td>0.00</td>\n",
       "    </tr>\n",
       "    <tr>\n",
       "      <th>164</th>\n",
       "      <td>0.00</td>\n",
       "      <td>0.00</td>\n",
       "      <td>0.0</td>\n",
       "      <td>0.0</td>\n",
       "      <td>0.00</td>\n",
       "    </tr>\n",
       "    <tr>\n",
       "      <th>165</th>\n",
       "      <td>0.00</td>\n",
       "      <td>0.00</td>\n",
       "      <td>0.0</td>\n",
       "      <td>0.0</td>\n",
       "      <td>0.00</td>\n",
       "    </tr>\n",
       "    <tr>\n",
       "      <th>166</th>\n",
       "      <td>0.00</td>\n",
       "      <td>0.00</td>\n",
       "      <td>0.0</td>\n",
       "      <td>0.0</td>\n",
       "      <td>0.00</td>\n",
       "    </tr>\n",
       "    <tr>\n",
       "      <th>167</th>\n",
       "      <td>0.00</td>\n",
       "      <td>0.00</td>\n",
       "      <td>0.0</td>\n",
       "      <td>0.0</td>\n",
       "      <td>0.00</td>\n",
       "    </tr>\n",
       "  </tbody>\n",
       "</table>\n",
       "<p>168 rows × 5 columns</p>\n",
       "</div>"
      ],
      "text/plain": [
       "     improve-novel-15  improve-vis-15  improve-ur-15  improve-tech-15  \\\n",
       "0               50.00            0.00            0.0             50.0   \n",
       "1               67.50           75.00           60.0              0.0   \n",
       "2               25.00           54.17          100.0             25.0   \n",
       "3               16.67           37.50           20.0             62.5   \n",
       "4               87.50           58.33           60.0             50.0   \n",
       "..                ...             ...            ...              ...   \n",
       "163              0.00            0.00            0.0              0.0   \n",
       "164              0.00            0.00            0.0              0.0   \n",
       "165              0.00            0.00            0.0              0.0   \n",
       "166              0.00            0.00            0.0              0.0   \n",
       "167              0.00            0.00            0.0              0.0   \n",
       "\n",
       "     improve-total-15  \n",
       "0              100.00  \n",
       "1              202.50  \n",
       "2              204.17  \n",
       "3              136.67  \n",
       "4              255.83  \n",
       "..                ...  \n",
       "163              0.00  \n",
       "164              0.00  \n",
       "165              0.00  \n",
       "166              0.00  \n",
       "167              0.00  \n",
       "\n",
       "[168 rows x 5 columns]"
      ]
     },
     "execution_count": 30,
     "metadata": {},
     "output_type": "execute_result"
    }
   ],
   "source": [
    "df_phase15 = dropped_student_group[['improve-novel-15', 'improve-vis-15', 'improve-ur-15', 'improve-tech-15', 'improve-total-15',\n",
    "                                   ]]\n",
    "df_phase15"
   ]
  },
  {
   "cell_type": "markdown",
   "id": "3e3f31f2",
   "metadata": {},
   "source": [
    "> Variance differs a lot between the score variables, so we standardize them to values between 0 and 1 before performing PCA."
   ]
  },
  {
   "cell_type": "code",
   "execution_count": 31,
   "id": "d5e8838f",
   "metadata": {},
   "outputs": [
    {
     "name": "stdout",
     "output_type": "stream",
     "text": [
      "1364.6183715675795\n",
      "422.36187634730516\n",
      "1090.6187624750487\n",
      "1015.2908468776735\n",
      "8650.80235328985\n"
     ]
    }
   ],
   "source": [
    "print(df_phase15.var()['improve-novel-15'])\n",
    "print(df_phase15.var()['improve-vis-15'])\n",
    "print(df_phase15.var()['improve-ur-15'])\n",
    "print(df_phase15.var()['improve-tech-15'])\n",
    "print(df_phase15.var()['improve-total-15'])\n"
   ]
  },
  {
   "cell_type": "code",
   "execution_count": 32,
   "id": "4596396c",
   "metadata": {},
   "outputs": [
    {
     "data": {
      "text/html": [
       "<div>\n",
       "<style scoped>\n",
       "    .dataframe tbody tr th:only-of-type {\n",
       "        vertical-align: middle;\n",
       "    }\n",
       "\n",
       "    .dataframe tbody tr th {\n",
       "        vertical-align: top;\n",
       "    }\n",
       "\n",
       "    .dataframe thead th {\n",
       "        text-align: right;\n",
       "    }\n",
       "</style>\n",
       "<table border=\"1\" class=\"dataframe\">\n",
       "  <thead>\n",
       "    <tr style=\"text-align: right;\">\n",
       "      <th></th>\n",
       "      <th>improve-novel-15</th>\n",
       "      <th>improve-vis-15</th>\n",
       "      <th>improve-ur-15</th>\n",
       "      <th>improve-tech-15</th>\n",
       "      <th>improve-total-15</th>\n",
       "    </tr>\n",
       "  </thead>\n",
       "  <tbody>\n",
       "    <tr>\n",
       "      <th>count</th>\n",
       "      <td>1.680000e+02</td>\n",
       "      <td>1.680000e+02</td>\n",
       "      <td>1.680000e+02</td>\n",
       "      <td>1.680000e+02</td>\n",
       "      <td>1.680000e+02</td>\n",
       "    </tr>\n",
       "    <tr>\n",
       "      <th>mean</th>\n",
       "      <td>-3.039896e-17</td>\n",
       "      <td>5.405729e-16</td>\n",
       "      <td>8.326673e-17</td>\n",
       "      <td>2.246880e-17</td>\n",
       "      <td>2.722690e-16</td>\n",
       "    </tr>\n",
       "    <tr>\n",
       "      <th>std</th>\n",
       "      <td>1.000000e+00</td>\n",
       "      <td>1.000000e+00</td>\n",
       "      <td>1.000000e+00</td>\n",
       "      <td>1.000000e+00</td>\n",
       "      <td>1.000000e+00</td>\n",
       "    </tr>\n",
       "    <tr>\n",
       "      <th>min</th>\n",
       "      <td>-2.680253e+00</td>\n",
       "      <td>-2.018958e+00</td>\n",
       "      <td>-2.523378e+00</td>\n",
       "      <td>-2.914205e+00</td>\n",
       "      <td>-2.600132e+00</td>\n",
       "    </tr>\n",
       "    <tr>\n",
       "      <th>25%</th>\n",
       "      <td>-6.499744e-01</td>\n",
       "      <td>-8.024983e-01</td>\n",
       "      <td>-7.065458e-01</td>\n",
       "      <td>-9.527208e-01</td>\n",
       "      <td>-9.325366e-01</td>\n",
       "    </tr>\n",
       "    <tr>\n",
       "      <th>50%</th>\n",
       "      <td>-3.115946e-01</td>\n",
       "      <td>-1.942686e-01</td>\n",
       "      <td>-7.065458e-01</td>\n",
       "      <td>-1.681272e-01</td>\n",
       "      <td>2.507867e-02</td>\n",
       "    </tr>\n",
       "    <tr>\n",
       "      <th>75%</th>\n",
       "      <td>9.742486e-01</td>\n",
       "      <td>6.168666e-01</td>\n",
       "      <td>5.046756e-01</td>\n",
       "      <td>6.164664e-01</td>\n",
       "      <td>8.067983e-01</td>\n",
       "    </tr>\n",
       "    <tr>\n",
       "      <th>max</th>\n",
       "      <td>2.226254e+00</td>\n",
       "      <td>2.846880e+00</td>\n",
       "      <td>2.321508e+00</td>\n",
       "      <td>2.185654e+00</td>\n",
       "      <td>2.479984e+00</td>\n",
       "    </tr>\n",
       "  </tbody>\n",
       "</table>\n",
       "</div>"
      ],
      "text/plain": [
       "       improve-novel-15  improve-vis-15  improve-ur-15  improve-tech-15  \\\n",
       "count      1.680000e+02    1.680000e+02   1.680000e+02     1.680000e+02   \n",
       "mean      -3.039896e-17    5.405729e-16   8.326673e-17     2.246880e-17   \n",
       "std        1.000000e+00    1.000000e+00   1.000000e+00     1.000000e+00   \n",
       "min       -2.680253e+00   -2.018958e+00  -2.523378e+00    -2.914205e+00   \n",
       "25%       -6.499744e-01   -8.024983e-01  -7.065458e-01    -9.527208e-01   \n",
       "50%       -3.115946e-01   -1.942686e-01  -7.065458e-01    -1.681272e-01   \n",
       "75%        9.742486e-01    6.168666e-01   5.046756e-01     6.164664e-01   \n",
       "max        2.226254e+00    2.846880e+00   2.321508e+00     2.185654e+00   \n",
       "\n",
       "       improve-total-15  \n",
       "count      1.680000e+02  \n",
       "mean       2.722690e-16  \n",
       "std        1.000000e+00  \n",
       "min       -2.600132e+00  \n",
       "25%       -9.325366e-01  \n",
       "50%        2.507867e-02  \n",
       "75%        8.067983e-01  \n",
       "max        2.479984e+00  "
      ]
     },
     "execution_count": 32,
     "metadata": {},
     "output_type": "execute_result"
    }
   ],
   "source": [
    "df_new = (df_phase15-df_phase15.mean())/df_phase15.std()\n",
    "df_new.describe()"
   ]
  },
  {
   "cell_type": "code",
   "execution_count": 33,
   "id": "62359edc",
   "metadata": {},
   "outputs": [
    {
     "data": {
      "text/plain": [
       "array([3.32968338e+00, 8.45022749e-01, 5.97716961e-01, 2.26155351e-01,\n",
       "       1.42155741e-03])"
      ]
     },
     "execution_count": 33,
     "metadata": {},
     "output_type": "execute_result"
    }
   ],
   "source": [
    "# Here, we can see only for 1 eigenvalues are greater than one. \n",
    "# It means we need to choose only 1 factors (or unobserved variables).\n",
    "\n",
    "from factor_analyzer import FactorAnalyzer\n",
    "\n",
    "fa = FactorAnalyzer()\n",
    "fa.fit(df_new)\n",
    "eigen_values, vectors = fa.get_eigenvalues()\n",
    "eigen_values"
   ]
  },
  {
   "cell_type": "code",
   "execution_count": 34,
   "id": "9b14b7b3",
   "metadata": {},
   "outputs": [],
   "source": [
    "from factor_analyzer import FactorAnalyzer \n",
    "import matplotlib.pyplot as plt"
   ]
  },
  {
   "cell_type": "code",
   "execution_count": 35,
   "id": "701d6734",
   "metadata": {},
   "outputs": [
    {
     "name": "stderr",
     "output_type": "stream",
     "text": [
      "/usr/local/anaconda3/lib/python3.8/site-packages/factor_analyzer/factor_analyzer.py:656: UserWarning: No rotation will be performed when the number of factors equals 1.\n",
      "  warnings.warn('No rotation will be performed when '\n"
     ]
    },
    {
     "data": {
      "text/plain": [
       "FactorAnalyzer(n_factors=1, rotation='varimax', rotation_kwargs={})"
      ]
     },
     "execution_count": 35,
     "metadata": {},
     "output_type": "execute_result"
    }
   ],
   "source": [
    "# create a factor analyzer variable and perform factor analysis \n",
    "\n",
    "fa = FactorAnalyzer(n_factors=1, rotation=\"varimax\")\n",
    "fa.fit(dropped_student_group)"
   ]
  },
  {
   "cell_type": "code",
   "execution_count": 36,
   "id": "1c377213",
   "metadata": {},
   "outputs": [],
   "source": [
    "# Get the loadings\n",
    "\n",
    "loadings = fa.loadings_"
   ]
  },
  {
   "cell_type": "code",
   "execution_count": 37,
   "id": "f7bd269a",
   "metadata": {},
   "outputs": [],
   "source": [
    "# Get the Eigenvector and Eigenvalues\n",
    "\n",
    "ev, v = fa.get_eigenvalues()"
   ]
  },
  {
   "cell_type": "code",
   "execution_count": 38,
   "id": "0481306a",
   "metadata": {},
   "outputs": [],
   "source": [
    "# Do a scree plot \n",
    "\n",
    "xvals = range(1, dropped_student_group.shape[1] + 1)"
   ]
  },
  {
   "cell_type": "code",
   "execution_count": 39,
   "id": "40692936",
   "metadata": {},
   "outputs": [
    {
     "data": {
      "image/png": "[encoded data removed]",
      "text/plain": [
       "<Figure size 432x288 with 1 Axes>"
      ]
     },
     "metadata": {
      "needs_background": "light"
     },
     "output_type": "display_data"
    }
   ],
   "source": [
    "plt.scatter(xvals, ev)\n",
    "plt.plot(xvals, ev)\n",
    "plt.title('Scree Plot')\n",
    "plt.xlabel('Factor')\n",
    "plt.ylabel('Eigenvalue')\n",
    "plt.grid()\n",
    "plt.show()"
   ]
  },
  {
   "cell_type": "code",
   "execution_count": 40,
   "id": "ae2f54bc",
   "metadata": {},
   "outputs": [
    {
     "data": {
      "text/html": [
       "<div>\n",
       "<style scoped>\n",
       "    .dataframe tbody tr th:only-of-type {\n",
       "        vertical-align: middle;\n",
       "    }\n",
       "\n",
       "    .dataframe tbody tr th {\n",
       "        vertical-align: top;\n",
       "    }\n",
       "\n",
       "    .dataframe thead th {\n",
       "        text-align: right;\n",
       "    }\n",
       "</style>\n",
       "<table border=\"1\" class=\"dataframe\">\n",
       "  <thead>\n",
       "    <tr style=\"text-align: right;\">\n",
       "      <th></th>\n",
       "      <th>0</th>\n",
       "    </tr>\n",
       "  </thead>\n",
       "  <tbody>\n",
       "    <tr>\n",
       "      <th>0</th>\n",
       "      <td>-0.838809</td>\n",
       "    </tr>\n",
       "    <tr>\n",
       "      <th>1</th>\n",
       "      <td>-0.873655</td>\n",
       "    </tr>\n",
       "    <tr>\n",
       "      <th>2</th>\n",
       "      <td>-0.863882</td>\n",
       "    </tr>\n",
       "    <tr>\n",
       "      <th>3</th>\n",
       "      <td>-0.961430</td>\n",
       "    </tr>\n",
       "    <tr>\n",
       "      <th>4</th>\n",
       "      <td>-0.804307</td>\n",
       "    </tr>\n",
       "    <tr>\n",
       "      <th>...</th>\n",
       "      <td>...</td>\n",
       "    </tr>\n",
       "    <tr>\n",
       "      <th>133</th>\n",
       "      <td>-0.124849</td>\n",
       "    </tr>\n",
       "    <tr>\n",
       "      <th>134</th>\n",
       "      <td>-0.185366</td>\n",
       "    </tr>\n",
       "    <tr>\n",
       "      <th>135</th>\n",
       "      <td>-0.190920</td>\n",
       "    </tr>\n",
       "    <tr>\n",
       "      <th>136</th>\n",
       "      <td>0.008334</td>\n",
       "    </tr>\n",
       "    <tr>\n",
       "      <th>137</th>\n",
       "      <td>-0.140009</td>\n",
       "    </tr>\n",
       "  </tbody>\n",
       "</table>\n",
       "<p>138 rows × 1 columns</p>\n",
       "</div>"
      ],
      "text/plain": [
       "            0\n",
       "0   -0.838809\n",
       "1   -0.873655\n",
       "2   -0.863882\n",
       "3   -0.961430\n",
       "4   -0.804307\n",
       "..        ...\n",
       "133 -0.124849\n",
       "134 -0.185366\n",
       "135 -0.190920\n",
       "136  0.008334\n",
       "137 -0.140009\n",
       "\n",
       "[138 rows x 1 columns]"
      ]
     },
     "execution_count": 40,
     "metadata": {},
     "output_type": "execute_result"
    }
   ],
   "source": [
    "df_pca = pd.DataFrame.from_records(loadings)\n",
    "df_pca"
   ]
  },
  {
   "cell_type": "code",
   "execution_count": 41,
   "id": "e5ce65ab",
   "metadata": {},
   "outputs": [
    {
     "data": {
      "text/plain": [
       "PCA(n_components=1, svd_solver='full')"
      ]
     },
     "execution_count": 41,
     "metadata": {},
     "output_type": "execute_result"
    }
   ],
   "source": [
    "from sklearn.decomposition import PCA\n",
    "\n",
    "pca = PCA(n_components=1, svd_solver='full')\n",
    "pca.fit(df_new)"
   ]
  },
  {
   "cell_type": "code",
   "execution_count": 42,
   "id": "e2c136e6",
   "metadata": {},
   "outputs": [],
   "source": [
    "T = pca.transform(df_new)"
   ]
  },
  {
   "cell_type": "code",
   "execution_count": 43,
   "id": "017eb91c",
   "metadata": {},
   "outputs": [
    {
     "data": {
      "text/plain": [
       "(168, 5)"
      ]
     },
     "execution_count": 43,
     "metadata": {},
     "output_type": "execute_result"
    }
   ],
   "source": [
    "df_new.shape"
   ]
  },
  {
   "cell_type": "code",
   "execution_count": 44,
   "id": "cbe7ddd0",
   "metadata": {},
   "outputs": [
    {
     "data": {
      "text/plain": [
       "(168, 1)"
      ]
     },
     "execution_count": 44,
     "metadata": {},
     "output_type": "execute_result"
    }
   ],
   "source": [
    "T.shape"
   ]
  },
  {
   "cell_type": "code",
   "execution_count": 45,
   "id": "dc3427f9",
   "metadata": {},
   "outputs": [
    {
     "data": {
      "text/html": [
       "<div>\n",
       "<style scoped>\n",
       "    .dataframe tbody tr th:only-of-type {\n",
       "        vertical-align: middle;\n",
       "    }\n",
       "\n",
       "    .dataframe tbody tr th {\n",
       "        vertical-align: top;\n",
       "    }\n",
       "\n",
       "    .dataframe thead th {\n",
       "        text-align: right;\n",
       "    }\n",
       "</style>\n",
       "<table border=\"1\" class=\"dataframe\">\n",
       "  <thead>\n",
       "    <tr style=\"text-align: right;\">\n",
       "      <th></th>\n",
       "      <th>improve-novel-15</th>\n",
       "      <th>improve-vis-15</th>\n",
       "      <th>improve-ur-15</th>\n",
       "      <th>improve-tech-15</th>\n",
       "      <th>improve-total-15</th>\n",
       "    </tr>\n",
       "  </thead>\n",
       "  <tbody>\n",
       "    <tr>\n",
       "      <th>0</th>\n",
       "      <td>0.703545</td>\n",
       "      <td>-0.802498</td>\n",
       "      <td>-0.706546</td>\n",
       "      <td>0.616466</td>\n",
       "      <td>0.060881</td>\n",
       "    </tr>\n",
       "    <tr>\n",
       "      <th>1</th>\n",
       "      <td>1.177276</td>\n",
       "      <td>2.846880</td>\n",
       "      <td>1.110286</td>\n",
       "      <td>-0.952721</td>\n",
       "      <td>1.162917</td>\n",
       "    </tr>\n",
       "    <tr>\n",
       "      <th>2</th>\n",
       "      <td>0.026785</td>\n",
       "      <td>1.833326</td>\n",
       "      <td>2.321508</td>\n",
       "      <td>-0.168127</td>\n",
       "      <td>1.180872</td>\n",
       "    </tr>\n",
       "    <tr>\n",
       "      <th>3</th>\n",
       "      <td>-0.198711</td>\n",
       "      <td>1.022191</td>\n",
       "      <td>-0.100935</td>\n",
       "      <td>1.008763</td>\n",
       "      <td>0.455141</td>\n",
       "    </tr>\n",
       "    <tr>\n",
       "      <th>4</th>\n",
       "      <td>1.718684</td>\n",
       "      <td>2.035745</td>\n",
       "      <td>1.110286</td>\n",
       "      <td>0.616466</td>\n",
       "      <td>1.736298</td>\n",
       "    </tr>\n",
       "  </tbody>\n",
       "</table>\n",
       "</div>"
      ],
      "text/plain": [
       "   improve-novel-15  improve-vis-15  improve-ur-15  improve-tech-15  \\\n",
       "0          0.703545       -0.802498      -0.706546         0.616466   \n",
       "1          1.177276        2.846880       1.110286        -0.952721   \n",
       "2          0.026785        1.833326       2.321508        -0.168127   \n",
       "3         -0.198711        1.022191      -0.100935         1.008763   \n",
       "4          1.718684        2.035745       1.110286         0.616466   \n",
       "\n",
       "   improve-total-15  \n",
       "0          0.060881  \n",
       "1          1.162917  \n",
       "2          1.180872  \n",
       "3          0.455141  \n",
       "4          1.736298  "
      ]
     },
     "execution_count": 45,
     "metadata": {},
     "output_type": "execute_result"
    }
   ],
   "source": [
    "df_new.head()"
   ]
  },
  {
   "cell_type": "code",
   "execution_count": 46,
   "id": "dd12865a",
   "metadata": {},
   "outputs": [
    {
     "data": {
      "text/plain": [
       "array([[-0.14007002],\n",
       "       [ 2.55749136],\n",
       "       [ 2.47989595],\n",
       "       [ 0.91802069],\n",
       "       [ 3.28550702],\n",
       "       [ 1.77801143],\n",
       "       [-3.63178739],\n",
       "       [ 2.05880765],\n",
       "       [ 4.56535261],\n",
       "       [ 1.05024645],\n",
       "       [ 0.22515951],\n",
       "       [ 1.62793668],\n",
       "       [ 3.83972317],\n",
       "       [-0.62217973],\n",
       "       [-2.89719634],\n",
       "       [-0.15194248],\n",
       "       [-1.70509082],\n",
       "       [-0.30750696],\n",
       "       [ 0.28806824],\n",
       "       [-1.93202182],\n",
       "       [ 0.46486335],\n",
       "       [-1.39900885],\n",
       "       [-4.51725239],\n",
       "       [ 1.27450769],\n",
       "       [ 1.82840479],\n",
       "       [ 1.8335809 ],\n",
       "       [-0.13577462],\n",
       "       [ 1.02327788],\n",
       "       [ 0.4058792 ],\n",
       "       [ 3.81273197],\n",
       "       [ 2.64338121],\n",
       "       [ 1.19503766],\n",
       "       [-1.83544148],\n",
       "       [-2.88431015],\n",
       "       [-1.83544148],\n",
       "       [-1.83544148],\n",
       "       [-2.04521522],\n",
       "       [-1.83544148],\n",
       "       [-2.51569027],\n",
       "       [-1.73878676],\n",
       "       [-1.41589401],\n",
       "       [ 1.66518885],\n",
       "       [-2.25498895],\n",
       "       [ 0.3010045 ],\n",
       "       [-1.604858  ],\n",
       "       [-1.83544148],\n",
       "       [-2.59575626],\n",
       "       [-0.78592989],\n",
       "       [-0.73564523],\n",
       "       [ 0.72328467],\n",
       "       [-2.69169368],\n",
       "       [-0.13577462],\n",
       "       [-0.53917609],\n",
       "       [ 0.28292746],\n",
       "       [ 0.28292746],\n",
       "       [-0.77159683],\n",
       "       [ 1.76584254],\n",
       "       [-0.06436116],\n",
       "       [ 0.28993168],\n",
       "       [ 2.14289694],\n",
       "       [ 4.27587104],\n",
       "       [-2.12463829],\n",
       "       [-0.99634654],\n",
       "       [-1.08006502],\n",
       "       [-1.21471107],\n",
       "       [ 0.43957513],\n",
       "       [ 2.69361859],\n",
       "       [-0.81172801],\n",
       "       [-2.45217292],\n",
       "       [ 0.24578152],\n",
       "       [ 0.7542479 ],\n",
       "       [-1.62566775],\n",
       "       [ 0.10811592],\n",
       "       [ 2.68877177],\n",
       "       [ 2.26821304],\n",
       "       [ 0.18140449],\n",
       "       [-1.41554752],\n",
       "       [-1.83544148],\n",
       "       [-1.83544148],\n",
       "       [-1.83544148],\n",
       "       [-1.62566775],\n",
       "       [-1.33647094],\n",
       "       [ 0.2924137 ],\n",
       "       [-1.92809724],\n",
       "       [ 1.37999101],\n",
       "       [ 4.41205546],\n",
       "       [ 2.3577896 ],\n",
       "       [-0.04733987],\n",
       "       [-0.97946138],\n",
       "       [-1.19752948],\n",
       "       [-1.83544148],\n",
       "       [ 0.489622  ],\n",
       "       [-2.60799953],\n",
       "       [ 3.42775276],\n",
       "       [ 0.04854748],\n",
       "       [ 1.67033642],\n",
       "       [-0.223442  ],\n",
       "       [ 1.56980285],\n",
       "       [ 0.50773993],\n",
       "       [ 2.8605785 ],\n",
       "       [-1.20612028],\n",
       "       [ 1.3835691 ],\n",
       "       [ 0.0389858 ],\n",
       "       [ 2.57185873],\n",
       "       [ 1.51559546],\n",
       "       [-2.47764887],\n",
       "       [-0.86170049],\n",
       "       [-1.63855394],\n",
       "       [ 0.08263997],\n",
       "       [ 1.2367041 ],\n",
       "       [-2.25958077],\n",
       "       [-0.14794351],\n",
       "       [-0.59760882],\n",
       "       [ 0.70323965],\n",
       "       [ 1.77006355],\n",
       "       [-1.60478361],\n",
       "       [-0.10252686],\n",
       "       [-0.79086821],\n",
       "       [ 0.44667762],\n",
       "       [-1.83544148],\n",
       "       [-1.83544148],\n",
       "       [-1.83544148],\n",
       "       [-1.83544148],\n",
       "       [ 3.27265513],\n",
       "       [ 2.14962861],\n",
       "       [-1.36049042],\n",
       "       [ 1.52411186],\n",
       "       [ 0.32181424],\n",
       "       [ 3.98841754],\n",
       "       [ 0.30929886],\n",
       "       [-2.17164129],\n",
       "       [-0.06934396],\n",
       "       [-1.1706353 ],\n",
       "       [-1.00856549],\n",
       "       [-0.30750696],\n",
       "       [ 2.19291948],\n",
       "       [ 1.4974798 ],\n",
       "       [ 2.08260078],\n",
       "       [-0.25326342],\n",
       "       [ 1.30382216],\n",
       "       [ 1.6358627 ],\n",
       "       [ 1.09818352],\n",
       "       [ 0.27096105],\n",
       "       [ 2.0446552 ],\n",
       "       [-0.22007427],\n",
       "       [ 2.02619737],\n",
       "       [-1.30814214],\n",
       "       [-2.30591653],\n",
       "       [ 1.72166665],\n",
       "       [ 2.38296912],\n",
       "       [-1.74314389],\n",
       "       [ 0.28993168],\n",
       "       [-1.61128894],\n",
       "       [-0.31798261],\n",
       "       [-0.02044569],\n",
       "       [-0.99634654],\n",
       "       [ 1.4509923 ],\n",
       "       [ 1.11345593],\n",
       "       [ 0.20685612],\n",
       "       [ 3.27811057],\n",
       "       [ 1.00217171],\n",
       "       [-2.04521522],\n",
       "       [-2.67453642],\n",
       "       [-1.83544148],\n",
       "       [-1.83544148],\n",
       "       [-1.83544148],\n",
       "       [-1.83544148],\n",
       "       [-1.83544148]])"
      ]
     },
     "execution_count": 46,
     "metadata": {},
     "output_type": "execute_result"
    }
   ],
   "source": [
    "T"
   ]
  },
  {
   "cell_type": "code",
   "execution_count": 47,
   "id": "b8411a06",
   "metadata": {},
   "outputs": [
    {
     "data": {
      "text/plain": [
       "array([0.66593668])"
      ]
     },
     "execution_count": 47,
     "metadata": {},
     "output_type": "execute_result"
    }
   ],
   "source": [
    "pca.explained_variance_ratio_\n",
    "\n",
    "# So just 1 principle component can explain almost 67% of the variance from these 5 features."
   ]
  },
  {
   "cell_type": "code",
   "execution_count": 48,
   "id": "160e1872",
   "metadata": {},
   "outputs": [
    {
     "data": {
      "text/html": [
       "<div>\n",
       "<style scoped>\n",
       "    .dataframe tbody tr th:only-of-type {\n",
       "        vertical-align: middle;\n",
       "    }\n",
       "\n",
       "    .dataframe tbody tr th {\n",
       "        vertical-align: top;\n",
       "    }\n",
       "\n",
       "    .dataframe thead th {\n",
       "        text-align: right;\n",
       "    }\n",
       "</style>\n",
       "<table border=\"1\" class=\"dataframe\">\n",
       "  <thead>\n",
       "    <tr style=\"text-align: right;\">\n",
       "      <th></th>\n",
       "      <th>improve-novel-15</th>\n",
       "      <th>improve-vis-15</th>\n",
       "      <th>improve-ur-15</th>\n",
       "      <th>improve-tech-15</th>\n",
       "      <th>improve-total-15</th>\n",
       "    </tr>\n",
       "  </thead>\n",
       "  <tbody>\n",
       "    <tr>\n",
       "      <th>0</th>\n",
       "      <td>0.41609</td>\n",
       "      <td>0.438735</td>\n",
       "      <td>0.464822</td>\n",
       "      <td>0.347953</td>\n",
       "      <td>0.545206</td>\n",
       "    </tr>\n",
       "  </tbody>\n",
       "</table>\n",
       "</div>"
      ],
      "text/plain": [
       "   improve-novel-15  improve-vis-15  improve-ur-15  improve-tech-15  \\\n",
       "0           0.41609        0.438735       0.464822         0.347953   \n",
       "\n",
       "   improve-total-15  \n",
       "0          0.545206  "
      ]
     },
     "execution_count": 48,
     "metadata": {},
     "output_type": "execute_result"
    }
   ],
   "source": [
    "components = pd.DataFrame(pca.components_, columns = df_new.columns, index=[0])\n",
    "components"
   ]
  },
  {
   "cell_type": "code",
   "execution_count": 49,
   "id": "e78521d2",
   "metadata": {},
   "outputs": [
    {
     "name": "stdout",
     "output_type": "stream",
     "text": [
      "Features by importance:\n",
      " [(2.489059877096832, 'improve-total-15'), (2.1220768856190024, 'improve-ur-15'), (2.0029792676941747, 'improve-vis-15'), (1.899595940790289, 'improve-novel-15'), (1.588528997324677, 'improve-tech-15')]\n"
     ]
    }
   ],
   "source": [
    "import math\n",
    "\n",
    "def get_important_features(transformed_features, components_, columns):\n",
    "    \"\"\"\n",
    "    This function will return the most \"important\" \n",
    "    features so we can determine which have the most\n",
    "    effect on multi-dimensional scaling\n",
    "    \"\"\"\n",
    "    num_columns = len(columns)\n",
    "\n",
    "    # Scale the principal components by the max value in\n",
    "    # the transformed set belonging to that component\n",
    "    xvector = components_[0] * max(transformed_features[:,0])\n",
    "    \n",
    "\n",
    "    # Sort each column by it's length. These are your *original*\n",
    "    # columns, not the principal components.\n",
    "    important_features = { columns[i] : math.sqrt(xvector[i]**2) for i in range(num_columns) }\n",
    "    important_features = sorted(zip(important_features.values(), important_features.keys()), reverse=True)\n",
    "    print(\"Features by importance:\\n\", important_features)\n",
    "\n",
    "get_important_features(T, pca.components_, df_new.columns.values)"
   ]
  },
  {
   "cell_type": "code",
   "execution_count": 50,
   "id": "0fb17ca7",
   "metadata": {},
   "outputs": [],
   "source": [
    "import matplotlib.pyplot as plt\n",
    "%matplotlib inline\n",
    "plt.style.use('ggplot')\n",
    "\n",
    "def draw_vectors(transformed_features, components_, columns):\n",
    "    \"\"\"\n",
    "    This funtion will project your *original* features\n",
    "    onto your principal component feature-space, so that you can\n",
    "    visualize how \"important\" each one was in the\n",
    "    multi-dimensional scaling\n",
    "    \"\"\"\n",
    "\n",
    "    num_columns = len(columns)\n",
    "\n",
    "    # Scale the principal components by the max value in\n",
    "    # the transformed set belonging to that component\n",
    "    xvector = components_[0] * max(transformed_features[:,0])\n",
    "    yvector = components_[1] * max(transformed_features[:,1])\n",
    "\n",
    "    ax = plt.axes()\n",
    "\n",
    "    for i in range(num_columns):\n",
    "    # Use an arrow to project each original feature as a\n",
    "    # labeled vector on your principal component axes\n",
    "        plt.arrow(0, 0, xvector[i], yvector[i], color='b', width=0.0005, head_width=0.02, alpha=0.75)\n",
    "        plt.text(xvector[i]*1.2, yvector[i]*1.2, list(columns)[i], color='b', alpha=0.75)\n",
    "\n",
    "    return ax"
   ]
  },
  {
   "cell_type": "markdown",
   "id": "0b6a5b2f",
   "metadata": {},
   "source": [
    ">> We can see from the plot that all components are positive in the first principle component. \n",
    "\n",
    ">> improve-ur-15, improve-novel-15, improve-total-15, improve-vis-15 are negative in the second principle component. Their lengths portray their magnitudes.\n",
    "\n",
    ">> The participants in green have high values for the first principle component – They have high improve-ur-15, improve-novel-15, improve-total-15, improve-vis-15 and change-files-15\n",
    "\n",
    ">> The participants in red have high values for the second principle component – They have high delete-loc-15 and add-loc-15"
   ]
  },
  {
   "cell_type": "code",
   "execution_count": 51,
   "id": "56729fc7",
   "metadata": {},
   "outputs": [
    {
     "data": {
      "text/plain": [
       "(array([21.57499399]), array([0.15634054]), array([0.15634054]))"
      ]
     },
     "execution_count": 51,
     "metadata": {},
     "output_type": "execute_result"
    }
   ],
   "source": [
    "# Get variance of each factors\n",
    "\n",
    "# 1. Sum of squared loadings (variance)\n",
    "# 2. Proportional variance\n",
    "# 3. Cumulative variance\n",
    "\n",
    "## \n",
    "fa.get_factor_variance()\n",
    "\n"
   ]
  },
  {
   "cell_type": "markdown",
   "id": "03d79331",
   "metadata": {},
   "source": [
    "## Factor Analysis - Group 0 "
   ]
  },
  {
   "cell_type": "code",
   "execution_count": 52,
   "id": "10802de5",
   "metadata": {},
   "outputs": [
    {
     "data": {
      "text/html": [
       "<div>\n",
       "<style scoped>\n",
       "    .dataframe tbody tr th:only-of-type {\n",
       "        vertical-align: middle;\n",
       "    }\n",
       "\n",
       "    .dataframe tbody tr th {\n",
       "        vertical-align: top;\n",
       "    }\n",
       "\n",
       "    .dataframe thead th {\n",
       "        text-align: right;\n",
       "    }\n",
       "</style>\n",
       "<table border=\"1\" class=\"dataframe\">\n",
       "  <thead>\n",
       "    <tr style=\"text-align: right;\">\n",
       "      <th></th>\n",
       "      <th>improve-novel-15</th>\n",
       "      <th>improve-vis-15</th>\n",
       "      <th>improve-ur-15</th>\n",
       "      <th>improve-tech-15</th>\n",
       "      <th>improve-total-15</th>\n",
       "    </tr>\n",
       "  </thead>\n",
       "  <tbody>\n",
       "    <tr>\n",
       "      <th>0</th>\n",
       "      <td>50.00</td>\n",
       "      <td>0.00</td>\n",
       "      <td>0.0</td>\n",
       "      <td>50.0</td>\n",
       "      <td>100.00</td>\n",
       "    </tr>\n",
       "    <tr>\n",
       "      <th>1</th>\n",
       "      <td>67.50</td>\n",
       "      <td>75.00</td>\n",
       "      <td>60.0</td>\n",
       "      <td>0.0</td>\n",
       "      <td>202.50</td>\n",
       "    </tr>\n",
       "    <tr>\n",
       "      <th>2</th>\n",
       "      <td>25.00</td>\n",
       "      <td>54.17</td>\n",
       "      <td>100.0</td>\n",
       "      <td>25.0</td>\n",
       "      <td>204.17</td>\n",
       "    </tr>\n",
       "    <tr>\n",
       "      <th>3</th>\n",
       "      <td>16.67</td>\n",
       "      <td>37.50</td>\n",
       "      <td>20.0</td>\n",
       "      <td>62.5</td>\n",
       "      <td>136.67</td>\n",
       "    </tr>\n",
       "    <tr>\n",
       "      <th>4</th>\n",
       "      <td>87.50</td>\n",
       "      <td>58.33</td>\n",
       "      <td>60.0</td>\n",
       "      <td>50.0</td>\n",
       "      <td>255.83</td>\n",
       "    </tr>\n",
       "  </tbody>\n",
       "</table>\n",
       "</div>"
      ],
      "text/plain": [
       "   improve-novel-15  improve-vis-15  improve-ur-15  improve-tech-15  \\\n",
       "0             50.00            0.00            0.0             50.0   \n",
       "1             67.50           75.00           60.0              0.0   \n",
       "2             25.00           54.17          100.0             25.0   \n",
       "3             16.67           37.50           20.0             62.5   \n",
       "4             87.50           58.33           60.0             50.0   \n",
       "\n",
       "   improve-total-15  \n",
       "0            100.00  \n",
       "1            202.50  \n",
       "2            204.17  \n",
       "3            136.67  \n",
       "4            255.83  "
      ]
     },
     "execution_count": 52,
     "metadata": {},
     "output_type": "execute_result"
    }
   ],
   "source": [
    "dropped_student = overall_loc_scores_final.drop(['Student'], axis=1)\n",
    "\n",
    "bogota_0 = dropped_student[dropped_student['Group'].isin([0])]\n",
    "\n",
    "df_phase15_bogota0 = bogota_0[['improve-novel-15', 'improve-vis-15', 'improve-ur-15', 'improve-tech-15', 'improve-total-15']]\n",
    "df_phase15_bogota0.head(5)"
   ]
  },
  {
   "cell_type": "code",
   "execution_count": 53,
   "id": "d466bfe3",
   "metadata": {},
   "outputs": [
    {
     "name": "stdout",
     "output_type": "stream",
     "text": [
      "1540.2011684385377\n",
      "574.3466596899225\n",
      "1272.6467331118495\n",
      "1266.438261351052\n",
      "12334.284161129566\n"
     ]
    }
   ],
   "source": [
    "print(df_phase15_bogota0.var()['improve-novel-15'])\n",
    "print(df_phase15_bogota0.var()['improve-vis-15'])\n",
    "print(df_phase15_bogota0.var()['improve-ur-15'])\n",
    "print(df_phase15_bogota0.var()['improve-tech-15'])\n",
    "print(df_phase15_bogota0.var()['improve-total-15'])\n"
   ]
  },
  {
   "cell_type": "code",
   "execution_count": 54,
   "id": "dbba1494",
   "metadata": {},
   "outputs": [
    {
     "data": {
      "text/html": [
       "<div>\n",
       "<style scoped>\n",
       "    .dataframe tbody tr th:only-of-type {\n",
       "        vertical-align: middle;\n",
       "    }\n",
       "\n",
       "    .dataframe tbody tr th {\n",
       "        vertical-align: top;\n",
       "    }\n",
       "\n",
       "    .dataframe thead th {\n",
       "        text-align: right;\n",
       "    }\n",
       "</style>\n",
       "<table border=\"1\" class=\"dataframe\">\n",
       "  <thead>\n",
       "    <tr style=\"text-align: right;\">\n",
       "      <th></th>\n",
       "      <th>improve-novel-15</th>\n",
       "      <th>improve-vis-15</th>\n",
       "      <th>improve-ur-15</th>\n",
       "      <th>improve-tech-15</th>\n",
       "      <th>improve-total-15</th>\n",
       "    </tr>\n",
       "  </thead>\n",
       "  <tbody>\n",
       "    <tr>\n",
       "      <th>count</th>\n",
       "      <td>4.300000e+01</td>\n",
       "      <td>4.300000e+01</td>\n",
       "      <td>4.300000e+01</td>\n",
       "      <td>4.300000e+01</td>\n",
       "      <td>4.300000e+01</td>\n",
       "    </tr>\n",
       "    <tr>\n",
       "      <th>mean</th>\n",
       "      <td>-5.163828e-18</td>\n",
       "      <td>-6.196594e-17</td>\n",
       "      <td>-5.163828e-18</td>\n",
       "      <td>-2.065531e-17</td>\n",
       "      <td>-1.394234e-16</td>\n",
       "    </tr>\n",
       "    <tr>\n",
       "      <th>std</th>\n",
       "      <td>1.000000e+00</td>\n",
       "      <td>1.000000e+00</td>\n",
       "      <td>1.000000e+00</td>\n",
       "      <td>1.000000e+00</td>\n",
       "      <td>1.000000e+00</td>\n",
       "    </tr>\n",
       "    <tr>\n",
       "      <th>min</th>\n",
       "      <td>-2.607825e+00</td>\n",
       "      <td>-1.855873e+00</td>\n",
       "      <td>-2.294670e+00</td>\n",
       "      <td>-2.417916e+00</td>\n",
       "      <td>-2.153323e+00</td>\n",
       "    </tr>\n",
       "    <tr>\n",
       "      <th>25%</th>\n",
       "      <td>-6.967726e-01</td>\n",
       "      <td>-8.127079e-01</td>\n",
       "      <td>-6.127812e-01</td>\n",
       "      <td>-6.616595e-01</td>\n",
       "      <td>-8.252100e-01</td>\n",
       "    </tr>\n",
       "    <tr>\n",
       "      <th>50%</th>\n",
       "      <td>-5.975519e-02</td>\n",
       "      <td>-2.911255e-01</td>\n",
       "      <td>-6.127812e-01</td>\n",
       "      <td>4.084318e-02</td>\n",
       "      <td>7.520565e-02</td>\n",
       "    </tr>\n",
       "    <tr>\n",
       "      <th>75%</th>\n",
       "      <td>8.957709e-01</td>\n",
       "      <td>4.912482e-01</td>\n",
       "      <td>5.084781e-01</td>\n",
       "      <td>7.433459e-01</td>\n",
       "      <td>7.655093e-01</td>\n",
       "    </tr>\n",
       "    <tr>\n",
       "      <th>max</th>\n",
       "      <td>2.010551e+00</td>\n",
       "      <td>2.316787e+00</td>\n",
       "      <td>2.190367e+00</td>\n",
       "      <td>2.148351e+00</td>\n",
       "      <td>2.101141e+00</td>\n",
       "    </tr>\n",
       "  </tbody>\n",
       "</table>\n",
       "</div>"
      ],
      "text/plain": [
       "       improve-novel-15  improve-vis-15  improve-ur-15  improve-tech-15  \\\n",
       "count      4.300000e+01    4.300000e+01   4.300000e+01     4.300000e+01   \n",
       "mean      -5.163828e-18   -6.196594e-17  -5.163828e-18    -2.065531e-17   \n",
       "std        1.000000e+00    1.000000e+00   1.000000e+00     1.000000e+00   \n",
       "min       -2.607825e+00   -1.855873e+00  -2.294670e+00    -2.417916e+00   \n",
       "25%       -6.967726e-01   -8.127079e-01  -6.127812e-01    -6.616595e-01   \n",
       "50%       -5.975519e-02   -2.911255e-01  -6.127812e-01     4.084318e-02   \n",
       "75%        8.957709e-01    4.912482e-01   5.084781e-01     7.433459e-01   \n",
       "max        2.010551e+00    2.316787e+00   2.190367e+00     2.148351e+00   \n",
       "\n",
       "       improve-total-15  \n",
       "count      4.300000e+01  \n",
       "mean      -1.394234e-16  \n",
       "std        1.000000e+00  \n",
       "min       -2.153323e+00  \n",
       "25%       -8.252100e-01  \n",
       "50%        7.520565e-02  \n",
       "75%        7.655093e-01  \n",
       "max        2.101141e+00  "
      ]
     },
     "execution_count": 54,
     "metadata": {},
     "output_type": "execute_result"
    }
   ],
   "source": [
    "df_new_bogota0 = (df_phase15_bogota0-df_phase15_bogota0.mean())/df_phase15_bogota0.std()\n",
    "df_new_bogota0.describe()"
   ]
  },
  {
   "cell_type": "code",
   "execution_count": 55,
   "id": "41f6a1be",
   "metadata": {},
   "outputs": [
    {
     "data": {
      "text/plain": [
       "array([3.75625998e+00, 6.43760107e-01, 3.72200814e-01, 2.26998668e-01,\n",
       "       7.80432854e-04])"
      ]
     },
     "execution_count": 55,
     "metadata": {},
     "output_type": "execute_result"
    }
   ],
   "source": [
    "# Here, we can see only for 18-factors eigenvalues are greater than one. \n",
    "# It means we need to choose only 18 factors (or unobserved variables).\n",
    "\n",
    "from factor_analyzer import FactorAnalyzer\n",
    "\n",
    "fa = FactorAnalyzer()\n",
    "fa.fit(df_new_bogota0)\n",
    "eigen_values, vectors = fa.get_eigenvalues()\n",
    "eigen_values"
   ]
  },
  {
   "cell_type": "code",
   "execution_count": 56,
   "id": "debff939",
   "metadata": {},
   "outputs": [],
   "source": [
    "from factor_analyzer import FactorAnalyzer \n",
    "import matplotlib.pyplot as plt"
   ]
  },
  {
   "cell_type": "code",
   "execution_count": 57,
   "id": "c084df51",
   "metadata": {},
   "outputs": [
    {
     "name": "stderr",
     "output_type": "stream",
     "text": [
      "/usr/local/anaconda3/lib/python3.8/site-packages/factor_analyzer/factor_analyzer.py:656: UserWarning: No rotation will be performed when the number of factors equals 1.\n",
      "  warnings.warn('No rotation will be performed when '\n"
     ]
    },
    {
     "data": {
      "text/plain": [
       "FactorAnalyzer(n_factors=1, rotation='varimax', rotation_kwargs={})"
      ]
     },
     "execution_count": 57,
     "metadata": {},
     "output_type": "execute_result"
    }
   ],
   "source": [
    "# create a factor analyzer variable and perform factor analysis \n",
    "\n",
    "fa = FactorAnalyzer(n_factors=1, rotation=\"varimax\")\n",
    "fa.fit(df_new_bogota0)"
   ]
  },
  {
   "cell_type": "code",
   "execution_count": 58,
   "id": "e979ed3f",
   "metadata": {},
   "outputs": [],
   "source": [
    "# Get the loadings\n",
    "\n",
    "loadings = fa.loadings_\n"
   ]
  },
  {
   "cell_type": "code",
   "execution_count": 59,
   "id": "01fc1338",
   "metadata": {},
   "outputs": [],
   "source": [
    "# Get the Eigenvector and Eigenvalues\n",
    "\n",
    "ev, v = fa.get_eigenvalues()"
   ]
  },
  {
   "cell_type": "code",
   "execution_count": 60,
   "id": "4022ba63",
   "metadata": {},
   "outputs": [],
   "source": [
    "# Do a scree plot \n",
    "\n",
    "xvals_bogota0 = range(1, df_new_bogota0.shape[1] + 1)"
   ]
  },
  {
   "cell_type": "code",
   "execution_count": 61,
   "id": "462f5fcd",
   "metadata": {},
   "outputs": [
    {
     "data": {
      "image/png": "[encoded data removed]",
      "text/plain": [
       "<Figure size 432x288 with 1 Axes>"
      ]
     },
     "metadata": {},
     "output_type": "display_data"
    }
   ],
   "source": [
    "plt.scatter(xvals_bogota0, ev)\n",
    "plt.plot(xvals_bogota0, ev)\n",
    "plt.title('Scree Plot')\n",
    "plt.xlabel('Factor')\n",
    "plt.ylabel('Eigenvalue')\n",
    "plt.grid()\n",
    "plt.show()"
   ]
  },
  {
   "cell_type": "code",
   "execution_count": 62,
   "id": "93a7cef9",
   "metadata": {},
   "outputs": [
    {
     "data": {
      "text/html": [
       "<div>\n",
       "<style scoped>\n",
       "    .dataframe tbody tr th:only-of-type {\n",
       "        vertical-align: middle;\n",
       "    }\n",
       "\n",
       "    .dataframe tbody tr th {\n",
       "        vertical-align: top;\n",
       "    }\n",
       "\n",
       "    .dataframe thead th {\n",
       "        text-align: right;\n",
       "    }\n",
       "</style>\n",
       "<table border=\"1\" class=\"dataframe\">\n",
       "  <thead>\n",
       "    <tr style=\"text-align: right;\">\n",
       "      <th></th>\n",
       "      <th>0</th>\n",
       "    </tr>\n",
       "  </thead>\n",
       "  <tbody>\n",
       "    <tr>\n",
       "      <th>0</th>\n",
       "      <td>-0.809454</td>\n",
       "    </tr>\n",
       "    <tr>\n",
       "      <th>1</th>\n",
       "      <td>-0.779809</td>\n",
       "    </tr>\n",
       "    <tr>\n",
       "      <th>2</th>\n",
       "      <td>-0.819019</td>\n",
       "    </tr>\n",
       "    <tr>\n",
       "      <th>3</th>\n",
       "      <td>-0.686683</td>\n",
       "    </tr>\n",
       "    <tr>\n",
       "      <th>4</th>\n",
       "      <td>-1.034835</td>\n",
       "    </tr>\n",
       "  </tbody>\n",
       "</table>\n",
       "</div>"
      ],
      "text/plain": [
       "          0\n",
       "0 -0.809454\n",
       "1 -0.779809\n",
       "2 -0.819019\n",
       "3 -0.686683\n",
       "4 -1.034835"
      ]
     },
     "execution_count": 62,
     "metadata": {},
     "output_type": "execute_result"
    }
   ],
   "source": [
    "df_pca = pd.DataFrame.from_records(loadings)\n",
    "df_pca"
   ]
  },
  {
   "cell_type": "code",
   "execution_count": 63,
   "id": "e4614a52",
   "metadata": {},
   "outputs": [
    {
     "data": {
      "text/plain": [
       "PCA(n_components=1, svd_solver='full')"
      ]
     },
     "execution_count": 63,
     "metadata": {},
     "output_type": "execute_result"
    }
   ],
   "source": [
    "from sklearn.decomposition import PCA\n",
    "\n",
    "pca = PCA(n_components=1, svd_solver='full')\n",
    "pca.fit(df_new_bogota0)"
   ]
  },
  {
   "cell_type": "code",
   "execution_count": 64,
   "id": "d6448ae1",
   "metadata": {},
   "outputs": [],
   "source": [
    "T = pca.transform(df_new_bogota0)"
   ]
  },
  {
   "cell_type": "code",
   "execution_count": 65,
   "id": "453491a3",
   "metadata": {},
   "outputs": [
    {
     "data": {
      "text/plain": [
       "(43, 5)"
      ]
     },
     "execution_count": 65,
     "metadata": {},
     "output_type": "execute_result"
    }
   ],
   "source": [
    "df_new_bogota0.shape"
   ]
  },
  {
   "cell_type": "code",
   "execution_count": 66,
   "id": "5a8e1d20",
   "metadata": {},
   "outputs": [
    {
     "data": {
      "text/plain": [
       "(43, 1)"
      ]
     },
     "execution_count": 66,
     "metadata": {},
     "output_type": "execute_result"
    }
   ],
   "source": [
    "T.shape"
   ]
  },
  {
   "cell_type": "code",
   "execution_count": 67,
   "id": "b0ec5f4b",
   "metadata": {},
   "outputs": [
    {
     "data": {
      "text/html": [
       "<div>\n",
       "<style scoped>\n",
       "    .dataframe tbody tr th:only-of-type {\n",
       "        vertical-align: middle;\n",
       "    }\n",
       "\n",
       "    .dataframe tbody tr th {\n",
       "        vertical-align: top;\n",
       "    }\n",
       "\n",
       "    .dataframe thead th {\n",
       "        text-align: right;\n",
       "    }\n",
       "</style>\n",
       "<table border=\"1\" class=\"dataframe\">\n",
       "  <thead>\n",
       "    <tr style=\"text-align: right;\">\n",
       "      <th></th>\n",
       "      <th>improve-novel-15</th>\n",
       "      <th>improve-vis-15</th>\n",
       "      <th>improve-ur-15</th>\n",
       "      <th>improve-tech-15</th>\n",
       "      <th>improve-total-15</th>\n",
       "    </tr>\n",
       "  </thead>\n",
       "  <tbody>\n",
       "    <tr>\n",
       "      <th>0</th>\n",
       "      <td>0.577262</td>\n",
       "      <td>-0.812708</td>\n",
       "      <td>-0.612781</td>\n",
       "      <td>0.743346</td>\n",
       "      <td>0.075206</td>\n",
       "    </tr>\n",
       "    <tr>\n",
       "      <th>1</th>\n",
       "      <td>1.023174</td>\n",
       "      <td>2.316787</td>\n",
       "      <td>1.069108</td>\n",
       "      <td>-0.661660</td>\n",
       "      <td>0.998132</td>\n",
       "    </tr>\n",
       "    <tr>\n",
       "      <th>2</th>\n",
       "      <td>-0.059755</td>\n",
       "      <td>1.447622</td>\n",
       "      <td>2.190367</td>\n",
       "      <td>0.040843</td>\n",
       "      <td>1.013169</td>\n",
       "    </tr>\n",
       "    <tr>\n",
       "      <th>3</th>\n",
       "      <td>-0.272009</td>\n",
       "      <td>0.752039</td>\n",
       "      <td>-0.052152</td>\n",
       "      <td>1.094597</td>\n",
       "      <td>0.405388</td>\n",
       "    </tr>\n",
       "    <tr>\n",
       "      <th>4</th>\n",
       "      <td>1.532788</td>\n",
       "      <td>1.621204</td>\n",
       "      <td>1.069108</td>\n",
       "      <td>0.743346</td>\n",
       "      <td>1.478323</td>\n",
       "    </tr>\n",
       "  </tbody>\n",
       "</table>\n",
       "</div>"
      ],
      "text/plain": [
       "   improve-novel-15  improve-vis-15  improve-ur-15  improve-tech-15  \\\n",
       "0          0.577262       -0.812708      -0.612781         0.743346   \n",
       "1          1.023174        2.316787       1.069108        -0.661660   \n",
       "2         -0.059755        1.447622       2.190367         0.040843   \n",
       "3         -0.272009        0.752039      -0.052152         1.094597   \n",
       "4          1.532788        1.621204       1.069108         0.743346   \n",
       "\n",
       "   improve-total-15  \n",
       "0          0.075206  \n",
       "1          0.998132  \n",
       "2          1.013169  \n",
       "3          0.405388  \n",
       "4          1.478323  "
      ]
     },
     "execution_count": 67,
     "metadata": {},
     "output_type": "execute_result"
    }
   ],
   "source": [
    "df_new_bogota0.head()"
   ]
  },
  {
   "cell_type": "code",
   "execution_count": 68,
   "id": "2ab72673",
   "metadata": {},
   "outputs": [
    {
     "data": {
      "text/plain": [
       "array([[-0.03562361],\n",
       "       [ 2.17902623],\n",
       "       [ 2.1097349 ],\n",
       "       [ 0.8221344 ],\n",
       "       [ 2.90643787],\n",
       "       [ 1.65903127],\n",
       "       [-3.24501926],\n",
       "       [ 1.8527173 ],\n",
       "       [ 4.04633453],\n",
       "       [ 0.9734224 ],\n",
       "       [ 0.30058762],\n",
       "       [ 1.49384947],\n",
       "       [ 3.35385428],\n",
       "       [-0.56345053],\n",
       "       [-2.60636144],\n",
       "       [-0.15651192],\n",
       "       [-1.53084888],\n",
       "       [-0.26054764],\n",
       "       [ 0.36165075],\n",
       "       [-1.71959182],\n",
       "       [ 0.37018318],\n",
       "       [-1.23179449],\n",
       "       [-4.02779247],\n",
       "       [ 1.19101874],\n",
       "       [ 1.65665071],\n",
       "       [ 1.563255  ],\n",
       "       [-0.03369936],\n",
       "       [ 0.92719695],\n",
       "       [ 0.36871523],\n",
       "       [ 3.34173769],\n",
       "       [ 2.36809837],\n",
       "       [ 1.09892284],\n",
       "       [-1.61702405],\n",
       "       [-2.60058869],\n",
       "       [-1.61702405],\n",
       "       [-1.61702405],\n",
       "       [-1.81373698],\n",
       "       [-1.61702405],\n",
       "       [-2.18280024],\n",
       "       [-1.61702405],\n",
       "       [-1.61702405],\n",
       "       [-1.61702405],\n",
       "       [-1.61702405]])"
      ]
     },
     "execution_count": 68,
     "metadata": {},
     "output_type": "execute_result"
    }
   ],
   "source": [
    "T"
   ]
  },
  {
   "cell_type": "code",
   "execution_count": 69,
   "id": "7530d6ce",
   "metadata": {},
   "outputs": [
    {
     "data": {
      "text/plain": [
       "array([0.751252])"
      ]
     },
     "execution_count": 69,
     "metadata": {},
     "output_type": "execute_result"
    }
   ],
   "source": [
    "pca.explained_variance_ratio_\n",
    "\n",
    "# So just 1 principle components can explain almost 75% of the variance from these 9 features."
   ]
  },
  {
   "cell_type": "code",
   "execution_count": 70,
   "id": "c56939b1",
   "metadata": {},
   "outputs": [
    {
     "data": {
      "text/html": [
       "<div>\n",
       "<style scoped>\n",
       "    .dataframe tbody tr th:only-of-type {\n",
       "        vertical-align: middle;\n",
       "    }\n",
       "\n",
       "    .dataframe tbody tr th {\n",
       "        vertical-align: top;\n",
       "    }\n",
       "\n",
       "    .dataframe thead th {\n",
       "        text-align: right;\n",
       "    }\n",
       "</style>\n",
       "<table border=\"1\" class=\"dataframe\">\n",
       "  <thead>\n",
       "    <tr style=\"text-align: right;\">\n",
       "      <th></th>\n",
       "      <th>improve-novel-15</th>\n",
       "      <th>improve-vis-15</th>\n",
       "      <th>improve-ur-15</th>\n",
       "      <th>improve-tech-15</th>\n",
       "      <th>improve-total-15</th>\n",
       "    </tr>\n",
       "  </thead>\n",
       "  <tbody>\n",
       "    <tr>\n",
       "      <th>0</th>\n",
       "      <td>0.441623</td>\n",
       "      <td>0.43121</td>\n",
       "      <td>0.444615</td>\n",
       "      <td>0.394978</td>\n",
       "      <td>0.515109</td>\n",
       "    </tr>\n",
       "  </tbody>\n",
       "</table>\n",
       "</div>"
      ],
      "text/plain": [
       "   improve-novel-15  improve-vis-15  improve-ur-15  improve-tech-15  \\\n",
       "0          0.441623         0.43121       0.444615         0.394978   \n",
       "\n",
       "   improve-total-15  \n",
       "0          0.515109  "
      ]
     },
     "execution_count": 70,
     "metadata": {},
     "output_type": "execute_result"
    }
   ],
   "source": [
    "components = pd.DataFrame(pca.components_, columns = df_new_bogota0.columns, index=[0])\n",
    "components"
   ]
  },
  {
   "cell_type": "code",
   "execution_count": 71,
   "id": "3747f695",
   "metadata": {},
   "outputs": [
    {
     "name": "stdout",
     "output_type": "stream",
     "text": [
      "Features by importance:\n",
      " [(2.08430410164552, 'improve-total-15'), (1.7990621010347951, 'improve-ur-15'), (1.7869527451692138, 'improve-novel-15'), (1.7448198106377364, 'improve-vis-15'), (1.5982111230208256, 'improve-tech-15')]\n"
     ]
    }
   ],
   "source": [
    "import math\n",
    "\n",
    "def get_important_features(transformed_features, components_, columns):\n",
    "    \"\"\"\n",
    "    This function will return the most \"important\" \n",
    "    features so we can determine which have the most\n",
    "    effect on multi-dimensional scaling\n",
    "    \"\"\"\n",
    "    num_columns = len(columns)\n",
    "\n",
    "    # Scale the principal components by the max value in\n",
    "    # the transformed set belonging to that component\n",
    "    xvector = components_[0] * max(transformed_features[:,0])\n",
    "   \n",
    "\n",
    "    # Sort each column by it's length. These are your *original*\n",
    "    # columns, not the principal components.\n",
    "    important_features = { columns[i] : math.sqrt(xvector[i]**2) for i in range(num_columns) }\n",
    "    important_features = sorted(zip(important_features.values(), important_features.keys()), reverse=True)\n",
    "    print(\"Features by importance:\\n\", important_features)\n",
    "\n",
    "get_important_features(T, pca.components_, df_new_bogota0.columns.values)"
   ]
  },
  {
   "cell_type": "markdown",
   "id": "48ed265c",
   "metadata": {},
   "source": [
    "## Factor Analysis - Group 1"
   ]
  },
  {
   "cell_type": "code",
   "execution_count": 72,
   "id": "ff178246",
   "metadata": {},
   "outputs": [
    {
     "data": {
      "text/html": [
       "<div>\n",
       "<style scoped>\n",
       "    .dataframe tbody tr th:only-of-type {\n",
       "        vertical-align: middle;\n",
       "    }\n",
       "\n",
       "    .dataframe tbody tr th {\n",
       "        vertical-align: top;\n",
       "    }\n",
       "\n",
       "    .dataframe thead th {\n",
       "        text-align: right;\n",
       "    }\n",
       "</style>\n",
       "<table border=\"1\" class=\"dataframe\">\n",
       "  <thead>\n",
       "    <tr style=\"text-align: right;\">\n",
       "      <th></th>\n",
       "      <th>improve-novel-15</th>\n",
       "      <th>improve-vis-15</th>\n",
       "      <th>improve-ur-15</th>\n",
       "      <th>improve-tech-15</th>\n",
       "      <th>improve-total-15</th>\n",
       "    </tr>\n",
       "  </thead>\n",
       "  <tbody>\n",
       "    <tr>\n",
       "      <th>39</th>\n",
       "      <td>-37.5</td>\n",
       "      <td>12.50</td>\n",
       "      <td>20.0</td>\n",
       "      <td>0.0</td>\n",
       "      <td>-5.00</td>\n",
       "    </tr>\n",
       "    <tr>\n",
       "      <th>40</th>\n",
       "      <td>0.0</td>\n",
       "      <td>0.00</td>\n",
       "      <td>0.0</td>\n",
       "      <td>25.0</td>\n",
       "      <td>25.00</td>\n",
       "    </tr>\n",
       "    <tr>\n",
       "      <th>41</th>\n",
       "      <td>62.5</td>\n",
       "      <td>29.17</td>\n",
       "      <td>40.0</td>\n",
       "      <td>50.0</td>\n",
       "      <td>181.67</td>\n",
       "    </tr>\n",
       "    <tr>\n",
       "      <th>42</th>\n",
       "      <td>0.0</td>\n",
       "      <td>0.00</td>\n",
       "      <td>0.0</td>\n",
       "      <td>-25.0</td>\n",
       "      <td>-25.00</td>\n",
       "    </tr>\n",
       "    <tr>\n",
       "      <th>43</th>\n",
       "      <td>25.0</td>\n",
       "      <td>25.00</td>\n",
       "      <td>20.0</td>\n",
       "      <td>37.5</td>\n",
       "      <td>107.50</td>\n",
       "    </tr>\n",
       "  </tbody>\n",
       "</table>\n",
       "</div>"
      ],
      "text/plain": [
       "    improve-novel-15  improve-vis-15  improve-ur-15  improve-tech-15  \\\n",
       "39             -37.5           12.50           20.0              0.0   \n",
       "40               0.0            0.00            0.0             25.0   \n",
       "41              62.5           29.17           40.0             50.0   \n",
       "42               0.0            0.00            0.0            -25.0   \n",
       "43              25.0           25.00           20.0             37.5   \n",
       "\n",
       "    improve-total-15  \n",
       "39             -5.00  \n",
       "40             25.00  \n",
       "41            181.67  \n",
       "42            -25.00  \n",
       "43            107.50  "
      ]
     },
     "execution_count": 72,
     "metadata": {},
     "output_type": "execute_result"
    }
   ],
   "source": [
    "dropped_student = overall_loc_scores_final.drop(['Student'], axis=1)\n",
    "\n",
    "bogota_1 = dropped_student[dropped_student['Group'].isin([1])]\n",
    "\n",
    "df_phase15_bogota1 = bogota_1[['improve-novel-15', 'improve-vis-15', 'improve-ur-15', 'improve-tech-15', 'improve-total-15',]]\n",
    "df_phase15_bogota1.head(5)"
   ]
  },
  {
   "cell_type": "code",
   "execution_count": 73,
   "id": "0bd0fd25",
   "metadata": {},
   "outputs": [
    {
     "name": "stdout",
     "output_type": "stream",
     "text": [
      "1208.9732839140538\n",
      "335.24920238095245\n",
      "916.1440185830431\n",
      "937.1370499419284\n",
      "6934.4580973286875\n"
     ]
    }
   ],
   "source": [
    "print(df_phase15_bogota1.var()['improve-novel-15'])\n",
    "print(df_phase15_bogota1.var()['improve-vis-15'])\n",
    "print(df_phase15_bogota1.var()['improve-ur-15'])\n",
    "print(df_phase15_bogota1.var()['improve-tech-15'])\n",
    "print(df_phase15_bogota1.var()['improve-total-15'])\n"
   ]
  },
  {
   "cell_type": "code",
   "execution_count": 74,
   "id": "7e001661",
   "metadata": {},
   "outputs": [
    {
     "data": {
      "text/html": [
       "<div>\n",
       "<style scoped>\n",
       "    .dataframe tbody tr th:only-of-type {\n",
       "        vertical-align: middle;\n",
       "    }\n",
       "\n",
       "    .dataframe tbody tr th {\n",
       "        vertical-align: top;\n",
       "    }\n",
       "\n",
       "    .dataframe thead th {\n",
       "        text-align: right;\n",
       "    }\n",
       "</style>\n",
       "<table border=\"1\" class=\"dataframe\">\n",
       "  <thead>\n",
       "    <tr style=\"text-align: right;\">\n",
       "      <th></th>\n",
       "      <th>improve-novel-15</th>\n",
       "      <th>improve-vis-15</th>\n",
       "      <th>improve-ur-15</th>\n",
       "      <th>improve-tech-15</th>\n",
       "      <th>improve-total-15</th>\n",
       "    </tr>\n",
       "  </thead>\n",
       "  <tbody>\n",
       "    <tr>\n",
       "      <th>count</th>\n",
       "      <td>4.200000e+01</td>\n",
       "      <td>4.200000e+01</td>\n",
       "      <td>4.200000e+01</td>\n",
       "      <td>4.200000e+01</td>\n",
       "      <td>4.200000e+01</td>\n",
       "    </tr>\n",
       "    <tr>\n",
       "      <th>mean</th>\n",
       "      <td>-5.815454e-17</td>\n",
       "      <td>6.872809e-17</td>\n",
       "      <td>-2.114711e-17</td>\n",
       "      <td>-6.344132e-17</td>\n",
       "      <td>-9.251859e-17</td>\n",
       "    </tr>\n",
       "    <tr>\n",
       "      <th>std</th>\n",
       "      <td>1.000000e+00</td>\n",
       "      <td>1.000000e+00</td>\n",
       "      <td>1.000000e+00</td>\n",
       "      <td>1.000000e+00</td>\n",
       "      <td>1.000000e+00</td>\n",
       "    </tr>\n",
       "    <tr>\n",
       "      <th>min</th>\n",
       "      <td>-1.649718e+00</td>\n",
       "      <td>-2.069759e+00</td>\n",
       "      <td>-1.290068e+00</td>\n",
       "      <td>-2.022193e+00</td>\n",
       "      <td>-1.465660e+00</td>\n",
       "    </tr>\n",
       "    <tr>\n",
       "      <th>25%</th>\n",
       "      <td>-5.712115e-01</td>\n",
       "      <td>-7.043712e-01</td>\n",
       "      <td>-6.293016e-01</td>\n",
       "      <td>-7.972105e-01</td>\n",
       "      <td>-7.725514e-01</td>\n",
       "    </tr>\n",
       "    <tr>\n",
       "      <th>50%</th>\n",
       "      <td>-3.555101e-01</td>\n",
       "      <td>-2.494239e-01</td>\n",
       "      <td>-6.293016e-01</td>\n",
       "      <td>1.944416e-02</td>\n",
       "      <td>-1.196117e-01</td>\n",
       "    </tr>\n",
       "    <tr>\n",
       "      <th>75%</th>\n",
       "      <td>9.117355e-01</td>\n",
       "      <td>8.887637e-01</td>\n",
       "      <td>5.270401e-01</td>\n",
       "      <td>8.360988e-01</td>\n",
       "      <td>5.158553e-01</td>\n",
       "    </tr>\n",
       "    <tr>\n",
       "      <th>max</th>\n",
       "      <td>1.945305e+00</td>\n",
       "      <td>2.026405e+00</td>\n",
       "      <td>2.674532e+00</td>\n",
       "      <td>2.061081e+00</td>\n",
       "      <td>2.837515e+00</td>\n",
       "    </tr>\n",
       "  </tbody>\n",
       "</table>\n",
       "</div>"
      ],
      "text/plain": [
       "       improve-novel-15  improve-vis-15  improve-ur-15  improve-tech-15  \\\n",
       "count      4.200000e+01    4.200000e+01   4.200000e+01     4.200000e+01   \n",
       "mean      -5.815454e-17    6.872809e-17  -2.114711e-17    -6.344132e-17   \n",
       "std        1.000000e+00    1.000000e+00   1.000000e+00     1.000000e+00   \n",
       "min       -1.649718e+00   -2.069759e+00  -1.290068e+00    -2.022193e+00   \n",
       "25%       -5.712115e-01   -7.043712e-01  -6.293016e-01    -7.972105e-01   \n",
       "50%       -3.555101e-01   -2.494239e-01  -6.293016e-01     1.944416e-02   \n",
       "75%        9.117355e-01    8.887637e-01   5.270401e-01     8.360988e-01   \n",
       "max        1.945305e+00    2.026405e+00   2.674532e+00     2.061081e+00   \n",
       "\n",
       "       improve-total-15  \n",
       "count      4.200000e+01  \n",
       "mean      -9.251859e-17  \n",
       "std        1.000000e+00  \n",
       "min       -1.465660e+00  \n",
       "25%       -7.725514e-01  \n",
       "50%       -1.196117e-01  \n",
       "75%        5.158553e-01  \n",
       "max        2.837515e+00  "
      ]
     },
     "execution_count": 74,
     "metadata": {},
     "output_type": "execute_result"
    }
   ],
   "source": [
    "df_new_bogota1 = (df_phase15_bogota1-df_phase15_bogota1.mean())/df_phase15_bogota1.std()\n",
    "df_new_bogota1.describe()"
   ]
  },
  {
   "cell_type": "code",
   "execution_count": 75,
   "id": "cdf86ab8",
   "metadata": {},
   "outputs": [
    {
     "data": {
      "text/plain": [
       "array([3.18904534e+00, 9.42738847e-01, 6.77302286e-01, 1.90913529e-01,\n",
       "       7.18270864e-17])"
      ]
     },
     "execution_count": 75,
     "metadata": {},
     "output_type": "execute_result"
    }
   ],
   "source": [
    "# Here, we can see only for 18-factors eigenvalues are greater than one. \n",
    "# It means we need to choose only 18 factors (or unobserved variables).\n",
    "\n",
    "from factor_analyzer import FactorAnalyzer\n",
    "\n",
    "fa = FactorAnalyzer()\n",
    "fa.fit(df_new_bogota1)\n",
    "eigen_values, vectors = fa.get_eigenvalues()\n",
    "eigen_values"
   ]
  },
  {
   "cell_type": "code",
   "execution_count": 76,
   "id": "50db8d07",
   "metadata": {},
   "outputs": [
    {
     "name": "stderr",
     "output_type": "stream",
     "text": [
      "/usr/local/anaconda3/lib/python3.8/site-packages/factor_analyzer/factor_analyzer.py:656: UserWarning: No rotation will be performed when the number of factors equals 1.\n",
      "  warnings.warn('No rotation will be performed when '\n"
     ]
    },
    {
     "data": {
      "text/plain": [
       "FactorAnalyzer(n_factors=1, rotation='varimax', rotation_kwargs={})"
      ]
     },
     "execution_count": 76,
     "metadata": {},
     "output_type": "execute_result"
    }
   ],
   "source": [
    "from factor_analyzer import FactorAnalyzer \n",
    "import matplotlib.pyplot as plt\n",
    "\n",
    "fa = FactorAnalyzer(n_factors=1, rotation=\"varimax\")\n",
    "fa.fit(df_new_bogota1)"
   ]
  },
  {
   "cell_type": "code",
   "execution_count": 77,
   "id": "74733ca7",
   "metadata": {},
   "outputs": [],
   "source": [
    "# Get the loadings\n",
    "\n",
    "loadings = fa.loadings_"
   ]
  },
  {
   "cell_type": "code",
   "execution_count": 78,
   "id": "a2150a03",
   "metadata": {},
   "outputs": [],
   "source": [
    "# Get the Eigenvector and Eigenvalues\n",
    "\n",
    "ev, v = fa.get_eigenvalues()"
   ]
  },
  {
   "cell_type": "code",
   "execution_count": 79,
   "id": "3e695d26",
   "metadata": {},
   "outputs": [],
   "source": [
    "# Do a scree plot \n",
    "\n",
    "xvals_bogota1 = range(1, df_new_bogota1.shape[1] + 1)"
   ]
  },
  {
   "cell_type": "code",
   "execution_count": 80,
   "id": "b944398f",
   "metadata": {},
   "outputs": [
    {
     "data": {
      "image/png": "[encoded data removed]",
      "text/plain": [
       "<Figure size 432x288 with 1 Axes>"
      ]
     },
     "metadata": {},
     "output_type": "display_data"
    }
   ],
   "source": [
    "plt.scatter(xvals_bogota1, ev)\n",
    "plt.plot(xvals_bogota1, ev)\n",
    "plt.title('Scree Plot')\n",
    "plt.xlabel('Factor')\n",
    "plt.ylabel('Eigenvalue')\n",
    "plt.grid()\n",
    "plt.show()"
   ]
  },
  {
   "cell_type": "code",
   "execution_count": 81,
   "id": "84e9f26e",
   "metadata": {},
   "outputs": [
    {
     "data": {
      "text/html": [
       "<div>\n",
       "<style scoped>\n",
       "    .dataframe tbody tr th:only-of-type {\n",
       "        vertical-align: middle;\n",
       "    }\n",
       "\n",
       "    .dataframe tbody tr th {\n",
       "        vertical-align: top;\n",
       "    }\n",
       "\n",
       "    .dataframe thead th {\n",
       "        text-align: right;\n",
       "    }\n",
       "</style>\n",
       "<table border=\"1\" class=\"dataframe\">\n",
       "  <thead>\n",
       "    <tr style=\"text-align: right;\">\n",
       "      <th></th>\n",
       "      <th>0</th>\n",
       "    </tr>\n",
       "  </thead>\n",
       "  <tbody>\n",
       "    <tr>\n",
       "      <th>0</th>\n",
       "      <td>-0.591045</td>\n",
       "    </tr>\n",
       "    <tr>\n",
       "      <th>1</th>\n",
       "      <td>-0.753675</td>\n",
       "    </tr>\n",
       "    <tr>\n",
       "      <th>2</th>\n",
       "      <td>-0.791361</td>\n",
       "    </tr>\n",
       "    <tr>\n",
       "      <th>3</th>\n",
       "      <td>-0.478125</td>\n",
       "    </tr>\n",
       "    <tr>\n",
       "      <th>4</th>\n",
       "      <td>-1.040552</td>\n",
       "    </tr>\n",
       "  </tbody>\n",
       "</table>\n",
       "</div>"
      ],
      "text/plain": [
       "          0\n",
       "0 -0.591045\n",
       "1 -0.753675\n",
       "2 -0.791361\n",
       "3 -0.478125\n",
       "4 -1.040552"
      ]
     },
     "execution_count": 81,
     "metadata": {},
     "output_type": "execute_result"
    }
   ],
   "source": [
    "df_pca = pd.DataFrame.from_records(loadings)\n",
    "df_pca"
   ]
  },
  {
   "cell_type": "code",
   "execution_count": 82,
   "id": "090b83a5",
   "metadata": {},
   "outputs": [
    {
     "data": {
      "text/plain": [
       "PCA(n_components=1, svd_solver='full')"
      ]
     },
     "execution_count": 82,
     "metadata": {},
     "output_type": "execute_result"
    }
   ],
   "source": [
    "from sklearn.decomposition import PCA\n",
    "\n",
    "pca = PCA(n_components=1, svd_solver='full')\n",
    "pca.fit(df_new_bogota0)"
   ]
  },
  {
   "cell_type": "code",
   "execution_count": 83,
   "id": "7b603c48",
   "metadata": {},
   "outputs": [],
   "source": [
    "T = pca.transform(df_new_bogota0)"
   ]
  },
  {
   "cell_type": "code",
   "execution_count": 84,
   "id": "72a966b1",
   "metadata": {},
   "outputs": [
    {
     "data": {
      "text/plain": [
       "(42, 5)"
      ]
     },
     "execution_count": 84,
     "metadata": {},
     "output_type": "execute_result"
    }
   ],
   "source": [
    "df_new_bogota1.shape"
   ]
  },
  {
   "cell_type": "code",
   "execution_count": 85,
   "id": "97dbd47a",
   "metadata": {},
   "outputs": [
    {
     "data": {
      "text/plain": [
       "(43, 1)"
      ]
     },
     "execution_count": 85,
     "metadata": {},
     "output_type": "execute_result"
    }
   ],
   "source": [
    "T.shape"
   ]
  },
  {
   "cell_type": "code",
   "execution_count": 86,
   "id": "6000535b",
   "metadata": {},
   "outputs": [
    {
     "data": {
      "text/html": [
       "<div>\n",
       "<style scoped>\n",
       "    .dataframe tbody tr th:only-of-type {\n",
       "        vertical-align: middle;\n",
       "    }\n",
       "\n",
       "    .dataframe tbody tr th {\n",
       "        vertical-align: top;\n",
       "    }\n",
       "\n",
       "    .dataframe thead th {\n",
       "        text-align: right;\n",
       "    }\n",
       "</style>\n",
       "<table border=\"1\" class=\"dataframe\">\n",
       "  <thead>\n",
       "    <tr style=\"text-align: right;\">\n",
       "      <th></th>\n",
       "      <th>improve-novel-15</th>\n",
       "      <th>improve-vis-15</th>\n",
       "      <th>improve-ur-15</th>\n",
       "      <th>improve-tech-15</th>\n",
       "      <th>improve-total-15</th>\n",
       "    </tr>\n",
       "  </thead>\n",
       "  <tbody>\n",
       "    <tr>\n",
       "      <th>39</th>\n",
       "      <td>-1.649718</td>\n",
       "      <td>-0.021677</td>\n",
       "      <td>0.031465</td>\n",
       "      <td>-0.797211</td>\n",
       "      <td>-0.975227</td>\n",
       "    </tr>\n",
       "    <tr>\n",
       "      <th>40</th>\n",
       "      <td>-0.571211</td>\n",
       "      <td>-0.704371</td>\n",
       "      <td>-0.629302</td>\n",
       "      <td>0.019444</td>\n",
       "      <td>-0.614968</td>\n",
       "    </tr>\n",
       "    <tr>\n",
       "      <th>41</th>\n",
       "      <td>1.226300</td>\n",
       "      <td>0.888764</td>\n",
       "      <td>0.692232</td>\n",
       "      <td>0.836099</td>\n",
       "      <td>1.266425</td>\n",
       "    </tr>\n",
       "    <tr>\n",
       "      <th>42</th>\n",
       "      <td>-0.571211</td>\n",
       "      <td>-0.704371</td>\n",
       "      <td>-0.629302</td>\n",
       "      <td>-1.613865</td>\n",
       "      <td>-1.215400</td>\n",
       "    </tr>\n",
       "    <tr>\n",
       "      <th>43</th>\n",
       "      <td>0.147793</td>\n",
       "      <td>0.661017</td>\n",
       "      <td>0.031465</td>\n",
       "      <td>0.427771</td>\n",
       "      <td>0.375745</td>\n",
       "    </tr>\n",
       "  </tbody>\n",
       "</table>\n",
       "</div>"
      ],
      "text/plain": [
       "    improve-novel-15  improve-vis-15  improve-ur-15  improve-tech-15  \\\n",
       "39         -1.649718       -0.021677       0.031465        -0.797211   \n",
       "40         -0.571211       -0.704371      -0.629302         0.019444   \n",
       "41          1.226300        0.888764       0.692232         0.836099   \n",
       "42         -0.571211       -0.704371      -0.629302        -1.613865   \n",
       "43          0.147793        0.661017       0.031465         0.427771   \n",
       "\n",
       "    improve-total-15  \n",
       "39         -0.975227  \n",
       "40         -0.614968  \n",
       "41          1.266425  \n",
       "42         -1.215400  \n",
       "43          0.375745  "
      ]
     },
     "execution_count": 86,
     "metadata": {},
     "output_type": "execute_result"
    }
   ],
   "source": [
    "df_new_bogota1.head()"
   ]
  },
  {
   "cell_type": "code",
   "execution_count": 87,
   "id": "690b32d9",
   "metadata": {},
   "outputs": [
    {
     "data": {
      "text/plain": [
       "array([[-0.03562361],\n",
       "       [ 2.17902623],\n",
       "       [ 2.1097349 ],\n",
       "       [ 0.8221344 ],\n",
       "       [ 2.90643787],\n",
       "       [ 1.65903127],\n",
       "       [-3.24501926],\n",
       "       [ 1.8527173 ],\n",
       "       [ 4.04633453],\n",
       "       [ 0.9734224 ],\n",
       "       [ 0.30058762],\n",
       "       [ 1.49384947],\n",
       "       [ 3.35385428],\n",
       "       [-0.56345053],\n",
       "       [-2.60636144],\n",
       "       [-0.15651192],\n",
       "       [-1.53084888],\n",
       "       [-0.26054764],\n",
       "       [ 0.36165075],\n",
       "       [-1.71959182],\n",
       "       [ 0.37018318],\n",
       "       [-1.23179449],\n",
       "       [-4.02779247],\n",
       "       [ 1.19101874],\n",
       "       [ 1.65665071],\n",
       "       [ 1.563255  ],\n",
       "       [-0.03369936],\n",
       "       [ 0.92719695],\n",
       "       [ 0.36871523],\n",
       "       [ 3.34173769],\n",
       "       [ 2.36809837],\n",
       "       [ 1.09892284],\n",
       "       [-1.61702405],\n",
       "       [-2.60058869],\n",
       "       [-1.61702405],\n",
       "       [-1.61702405],\n",
       "       [-1.81373698],\n",
       "       [-1.61702405],\n",
       "       [-2.18280024],\n",
       "       [-1.61702405],\n",
       "       [-1.61702405],\n",
       "       [-1.61702405],\n",
       "       [-1.61702405]])"
      ]
     },
     "execution_count": 87,
     "metadata": {},
     "output_type": "execute_result"
    }
   ],
   "source": [
    "T"
   ]
  },
  {
   "cell_type": "code",
   "execution_count": 88,
   "id": "ffb9f6d9",
   "metadata": {},
   "outputs": [
    {
     "data": {
      "text/plain": [
       "array([0.751252])"
      ]
     },
     "execution_count": 88,
     "metadata": {},
     "output_type": "execute_result"
    }
   ],
   "source": [
    "pca.explained_variance_ratio_"
   ]
  },
  {
   "cell_type": "code",
   "execution_count": 89,
   "id": "57c75667",
   "metadata": {},
   "outputs": [
    {
     "data": {
      "text/html": [
       "<div>\n",
       "<style scoped>\n",
       "    .dataframe tbody tr th:only-of-type {\n",
       "        vertical-align: middle;\n",
       "    }\n",
       "\n",
       "    .dataframe tbody tr th {\n",
       "        vertical-align: top;\n",
       "    }\n",
       "\n",
       "    .dataframe thead th {\n",
       "        text-align: right;\n",
       "    }\n",
       "</style>\n",
       "<table border=\"1\" class=\"dataframe\">\n",
       "  <thead>\n",
       "    <tr style=\"text-align: right;\">\n",
       "      <th></th>\n",
       "      <th>improve-novel-15</th>\n",
       "      <th>improve-vis-15</th>\n",
       "      <th>improve-ur-15</th>\n",
       "      <th>improve-tech-15</th>\n",
       "      <th>improve-total-15</th>\n",
       "    </tr>\n",
       "  </thead>\n",
       "  <tbody>\n",
       "    <tr>\n",
       "      <th>0</th>\n",
       "      <td>0.441623</td>\n",
       "      <td>0.43121</td>\n",
       "      <td>0.444615</td>\n",
       "      <td>0.394978</td>\n",
       "      <td>0.515109</td>\n",
       "    </tr>\n",
       "  </tbody>\n",
       "</table>\n",
       "</div>"
      ],
      "text/plain": [
       "   improve-novel-15  improve-vis-15  improve-ur-15  improve-tech-15  \\\n",
       "0          0.441623         0.43121       0.444615         0.394978   \n",
       "\n",
       "   improve-total-15  \n",
       "0          0.515109  "
      ]
     },
     "execution_count": 89,
     "metadata": {},
     "output_type": "execute_result"
    }
   ],
   "source": [
    "components = pd.DataFrame(pca.components_, columns = df_new_bogota1.columns, index=[0])\n",
    "components"
   ]
  },
  {
   "cell_type": "code",
   "execution_count": 90,
   "id": "16db85be",
   "metadata": {},
   "outputs": [
    {
     "name": "stdout",
     "output_type": "stream",
     "text": [
      "Features by importance:\n",
      " [(2.08430410164552, 'improve-total-15'), (1.7990621010347951, 'improve-ur-15'), (1.7869527451692138, 'improve-novel-15'), (1.7448198106377364, 'improve-vis-15'), (1.5982111230208256, 'improve-tech-15')]\n"
     ]
    }
   ],
   "source": [
    "import math\n",
    "\n",
    "def get_important_features(transformed_features, components_, columns):\n",
    "    \"\"\"\n",
    "    This function will return the most \"important\" \n",
    "    features so we can determine which have the most\n",
    "    effect on multi-dimensional scaling\n",
    "    \"\"\"\n",
    "    num_columns = len(columns)\n",
    "\n",
    "    # Scale the principal components by the max value in\n",
    "    # the transformed set belonging to that component\n",
    "    xvector = components_[0] * max(transformed_features[:,0])\n",
    "\n",
    "\n",
    "    # Sort each column by it's length. These are your *original*\n",
    "    # columns, not the principal components.\n",
    "    important_features = { columns[i] : math.sqrt(xvector[i]**2) for i in range(num_columns) }\n",
    "    important_features = sorted(zip(important_features.values(), important_features.keys()), reverse=True)\n",
    "    print(\"Features by importance:\\n\", important_features)\n",
    "\n",
    "get_important_features(T, pca.components_, df_new_bogota1.columns.values)"
   ]
  },
  {
   "cell_type": "markdown",
   "id": "d06de407",
   "metadata": {},
   "source": [
    "## Factor Analysis - Group 2"
   ]
  },
  {
   "cell_type": "code",
   "execution_count": 91,
   "id": "15fc19b0",
   "metadata": {},
   "outputs": [
    {
     "data": {
      "text/html": [
       "<div>\n",
       "<style scoped>\n",
       "    .dataframe tbody tr th:only-of-type {\n",
       "        vertical-align: middle;\n",
       "    }\n",
       "\n",
       "    .dataframe tbody tr th {\n",
       "        vertical-align: top;\n",
       "    }\n",
       "\n",
       "    .dataframe thead th {\n",
       "        text-align: right;\n",
       "    }\n",
       "</style>\n",
       "<table border=\"1\" class=\"dataframe\">\n",
       "  <thead>\n",
       "    <tr style=\"text-align: right;\">\n",
       "      <th></th>\n",
       "      <th>improve-novel-15</th>\n",
       "      <th>improve-vis-15</th>\n",
       "      <th>improve-ur-15</th>\n",
       "      <th>improve-tech-15</th>\n",
       "      <th>improve-total-15</th>\n",
       "    </tr>\n",
       "  </thead>\n",
       "  <tbody>\n",
       "    <tr>\n",
       "      <th>81</th>\n",
       "      <td>0.0</td>\n",
       "      <td>-12.50</td>\n",
       "      <td>0.0</td>\n",
       "      <td>50.0</td>\n",
       "      <td>37.50</td>\n",
       "    </tr>\n",
       "    <tr>\n",
       "      <th>82</th>\n",
       "      <td>0.0</td>\n",
       "      <td>25.00</td>\n",
       "      <td>20.0</td>\n",
       "      <td>62.5</td>\n",
       "      <td>107.50</td>\n",
       "    </tr>\n",
       "    <tr>\n",
       "      <th>83</th>\n",
       "      <td>0.0</td>\n",
       "      <td>-4.17</td>\n",
       "      <td>-20.0</td>\n",
       "      <td>25.0</td>\n",
       "      <td>0.83</td>\n",
       "    </tr>\n",
       "    <tr>\n",
       "      <th>84</th>\n",
       "      <td>25.0</td>\n",
       "      <td>50.00</td>\n",
       "      <td>40.0</td>\n",
       "      <td>37.5</td>\n",
       "      <td>152.50</td>\n",
       "    </tr>\n",
       "    <tr>\n",
       "      <th>85</th>\n",
       "      <td>80.0</td>\n",
       "      <td>66.67</td>\n",
       "      <td>80.0</td>\n",
       "      <td>87.5</td>\n",
       "      <td>314.17</td>\n",
       "    </tr>\n",
       "  </tbody>\n",
       "</table>\n",
       "</div>"
      ],
      "text/plain": [
       "    improve-novel-15  improve-vis-15  improve-ur-15  improve-tech-15  \\\n",
       "81               0.0          -12.50            0.0             50.0   \n",
       "82               0.0           25.00           20.0             62.5   \n",
       "83               0.0           -4.17          -20.0             25.0   \n",
       "84              25.0           50.00           40.0             37.5   \n",
       "85              80.0           66.67           80.0             87.5   \n",
       "\n",
       "    improve-total-15  \n",
       "81             37.50  \n",
       "82            107.50  \n",
       "83              0.83  \n",
       "84            152.50  \n",
       "85            314.17  "
      ]
     },
     "execution_count": 91,
     "metadata": {},
     "output_type": "execute_result"
    }
   ],
   "source": [
    "dropped_student = overall_loc_scores_final.drop(['Student'], axis=1)\n",
    "\n",
    "bogota_2 = dropped_student[dropped_student['Group'].isin([2])]\n",
    "\n",
    "df_phase15_bogota2 = bogota_2[['improve-novel-15', 'improve-vis-15', 'improve-ur-15', 'improve-tech-15', 'improve-total-15']]\n",
    "df_phase15_bogota2.head(5)"
   ]
  },
  {
   "cell_type": "code",
   "execution_count": 92,
   "id": "0a6526ee",
   "metadata": {},
   "outputs": [
    {
     "name": "stdout",
     "output_type": "stream",
     "text": [
      "1546.8949083042974\n",
      "376.49666968641105\n",
      "915.4471544715453\n",
      "795.6772648083621\n",
      "7718.226965621369\n"
     ]
    }
   ],
   "source": [
    "print(df_phase15_bogota2.var()['improve-novel-15'])\n",
    "print(df_phase15_bogota2.var()['improve-vis-15'])\n",
    "print(df_phase15_bogota2.var()['improve-ur-15'])\n",
    "print(df_phase15_bogota2.var()['improve-tech-15'])\n",
    "print(df_phase15_bogota2.var()['improve-total-15'])\n"
   ]
  },
  {
   "cell_type": "code",
   "execution_count": 93,
   "id": "fa2802a6",
   "metadata": {},
   "outputs": [
    {
     "data": {
      "text/html": [
       "<div>\n",
       "<style scoped>\n",
       "    .dataframe tbody tr th:only-of-type {\n",
       "        vertical-align: middle;\n",
       "    }\n",
       "\n",
       "    .dataframe tbody tr th {\n",
       "        vertical-align: top;\n",
       "    }\n",
       "\n",
       "    .dataframe thead th {\n",
       "        text-align: right;\n",
       "    }\n",
       "</style>\n",
       "<table border=\"1\" class=\"dataframe\">\n",
       "  <thead>\n",
       "    <tr style=\"text-align: right;\">\n",
       "      <th></th>\n",
       "      <th>improve-novel-15</th>\n",
       "      <th>improve-vis-15</th>\n",
       "      <th>improve-ur-15</th>\n",
       "      <th>improve-tech-15</th>\n",
       "      <th>improve-total-15</th>\n",
       "    </tr>\n",
       "  </thead>\n",
       "  <tbody>\n",
       "    <tr>\n",
       "      <th>count</th>\n",
       "      <td>4.200000e+01</td>\n",
       "      <td>4.200000e+01</td>\n",
       "      <td>4.200000e+01</td>\n",
       "      <td>4.200000e+01</td>\n",
       "      <td>4.200000e+01</td>\n",
       "    </tr>\n",
       "    <tr>\n",
       "      <th>mean</th>\n",
       "      <td>-3.436405e-17</td>\n",
       "      <td>2.854859e-16</td>\n",
       "      <td>5.286776e-17</td>\n",
       "      <td>1.374562e-16</td>\n",
       "      <td>-5.286776e-17</td>\n",
       "    </tr>\n",
       "    <tr>\n",
       "      <th>std</th>\n",
       "      <td>1.000000e+00</td>\n",
       "      <td>1.000000e+00</td>\n",
       "      <td>1.000000e+00</td>\n",
       "      <td>1.000000e+00</td>\n",
       "      <td>1.000000e+00</td>\n",
       "    </tr>\n",
       "    <tr>\n",
       "      <th>min</th>\n",
       "      <td>-2.049181e+00</td>\n",
       "      <td>-1.672009e+00</td>\n",
       "      <td>-1.432206e+00</td>\n",
       "      <td>-1.740909e+00</td>\n",
       "      <td>-1.507961e+00</td>\n",
       "    </tr>\n",
       "    <tr>\n",
       "      <th>25%</th>\n",
       "      <td>-4.600866e-01</td>\n",
       "      <td>-8.128863e-01</td>\n",
       "      <td>-7.711878e-01</td>\n",
       "      <td>-8.546283e-01</td>\n",
       "      <td>-8.676897e-01</td>\n",
       "    </tr>\n",
       "    <tr>\n",
       "      <th>50%</th>\n",
       "      <td>-4.600866e-01</td>\n",
       "      <td>-1.686734e-01</td>\n",
       "      <td>-4.406787e-01</td>\n",
       "      <td>3.165290e-02</td>\n",
       "      <td>-5.195612e-02</td>\n",
       "    </tr>\n",
       "    <tr>\n",
       "      <th>75%</th>\n",
       "      <td>9.700981e-01</td>\n",
       "      <td>6.363351e-01</td>\n",
       "      <td>5.508484e-01</td>\n",
       "      <td>4.747935e-01</td>\n",
       "      <td>7.685297e-01</td>\n",
       "    </tr>\n",
       "    <tr>\n",
       "      <th>max</th>\n",
       "      <td>2.082464e+00</td>\n",
       "      <td>2.623088e+00</td>\n",
       "      <td>1.872885e+00</td>\n",
       "      <td>2.247356e+00</td>\n",
       "      <td>2.494956e+00</td>\n",
       "    </tr>\n",
       "  </tbody>\n",
       "</table>\n",
       "</div>"
      ],
      "text/plain": [
       "       improve-novel-15  improve-vis-15  improve-ur-15  improve-tech-15  \\\n",
       "count      4.200000e+01    4.200000e+01   4.200000e+01     4.200000e+01   \n",
       "mean      -3.436405e-17    2.854859e-16   5.286776e-17     1.374562e-16   \n",
       "std        1.000000e+00    1.000000e+00   1.000000e+00     1.000000e+00   \n",
       "min       -2.049181e+00   -1.672009e+00  -1.432206e+00    -1.740909e+00   \n",
       "25%       -4.600866e-01   -8.128863e-01  -7.711878e-01    -8.546283e-01   \n",
       "50%       -4.600866e-01   -1.686734e-01  -4.406787e-01     3.165290e-02   \n",
       "75%        9.700981e-01    6.363351e-01   5.508484e-01     4.747935e-01   \n",
       "max        2.082464e+00    2.623088e+00   1.872885e+00     2.247356e+00   \n",
       "\n",
       "       improve-total-15  \n",
       "count      4.200000e+01  \n",
       "mean      -5.286776e-17  \n",
       "std        1.000000e+00  \n",
       "min       -1.507961e+00  \n",
       "25%       -8.676897e-01  \n",
       "50%       -5.195612e-02  \n",
       "75%        7.685297e-01  \n",
       "max        2.494956e+00  "
      ]
     },
     "execution_count": 93,
     "metadata": {},
     "output_type": "execute_result"
    }
   ],
   "source": [
    "df_new_bogota2 = (df_phase15_bogota2-df_phase15_bogota2.mean())/df_phase15_bogota2.std()\n",
    "df_new_bogota2.describe()"
   ]
  },
  {
   "cell_type": "code",
   "execution_count": 94,
   "id": "aa6b3f03",
   "metadata": {},
   "outputs": [
    {
     "data": {
      "text/plain": [
       "array([3.23182861, 0.86182385, 0.70777788, 0.1940494 , 0.00452026])"
      ]
     },
     "execution_count": 94,
     "metadata": {},
     "output_type": "execute_result"
    }
   ],
   "source": [
    "# Here, we can see only for 18-factors eigenvalues are greater than one. \n",
    "# It means we need to choose only 18 factors (or unobserved variables).\n",
    "\n",
    "from factor_analyzer import FactorAnalyzer\n",
    "\n",
    "fa = FactorAnalyzer()\n",
    "fa.fit(df_new_bogota2)\n",
    "eigen_values, vectors = fa.get_eigenvalues()\n",
    "eigen_values"
   ]
  },
  {
   "cell_type": "code",
   "execution_count": 95,
   "id": "a63fc245",
   "metadata": {},
   "outputs": [
    {
     "name": "stderr",
     "output_type": "stream",
     "text": [
      "/usr/local/anaconda3/lib/python3.8/site-packages/factor_analyzer/factor_analyzer.py:656: UserWarning: No rotation will be performed when the number of factors equals 1.\n",
      "  warnings.warn('No rotation will be performed when '\n"
     ]
    },
    {
     "data": {
      "text/plain": [
       "FactorAnalyzer(n_factors=1, rotation='varimax', rotation_kwargs={})"
      ]
     },
     "execution_count": 95,
     "metadata": {},
     "output_type": "execute_result"
    }
   ],
   "source": [
    "from factor_analyzer import FactorAnalyzer \n",
    "import matplotlib.pyplot as plt\n",
    "\n",
    "# create a factor analyzer variable and perform factor analysis \n",
    "\n",
    "fa = FactorAnalyzer(n_factors=1, rotation=\"varimax\")\n",
    "fa.fit(df_new_bogota2)"
   ]
  },
  {
   "cell_type": "code",
   "execution_count": 96,
   "id": "80e4cf45",
   "metadata": {},
   "outputs": [],
   "source": [
    "# Get the loadings\n",
    "\n",
    "loadings = fa.loadings_\n"
   ]
  },
  {
   "cell_type": "code",
   "execution_count": 97,
   "id": "069b2de1",
   "metadata": {},
   "outputs": [],
   "source": [
    "# Get the Eigenvector and Eigenvalues\n",
    "\n",
    "ev, v = fa.get_eigenvalues()"
   ]
  },
  {
   "cell_type": "code",
   "execution_count": 98,
   "id": "2da4dbed",
   "metadata": {},
   "outputs": [],
   "source": [
    "# Do a scree plot \n",
    "\n",
    "xvals_bogota2 = range(1, df_new_bogota2.shape[1] + 1)"
   ]
  },
  {
   "cell_type": "code",
   "execution_count": 99,
   "id": "55973558",
   "metadata": {},
   "outputs": [
    {
     "data": {
      "image/png": "[encoded data removed]",
      "text/plain": [
       "<Figure size 432x288 with 1 Axes>"
      ]
     },
     "metadata": {},
     "output_type": "display_data"
    }
   ],
   "source": [
    "plt.scatter(xvals_bogota2, ev)\n",
    "plt.plot(xvals_bogota2, ev)\n",
    "plt.title('Scree Plot')\n",
    "plt.xlabel('Factor')\n",
    "plt.ylabel('Eigenvalue')\n",
    "plt.grid()\n",
    "plt.show()"
   ]
  },
  {
   "cell_type": "code",
   "execution_count": 100,
   "id": "235ebb55",
   "metadata": {},
   "outputs": [
    {
     "data": {
      "text/html": [
       "<div>\n",
       "<style scoped>\n",
       "    .dataframe tbody tr th:only-of-type {\n",
       "        vertical-align: middle;\n",
       "    }\n",
       "\n",
       "    .dataframe tbody tr th {\n",
       "        vertical-align: top;\n",
       "    }\n",
       "\n",
       "    .dataframe thead th {\n",
       "        text-align: right;\n",
       "    }\n",
       "</style>\n",
       "<table border=\"1\" class=\"dataframe\">\n",
       "  <thead>\n",
       "    <tr style=\"text-align: right;\">\n",
       "      <th></th>\n",
       "      <th>0</th>\n",
       "    </tr>\n",
       "  </thead>\n",
       "  <tbody>\n",
       "    <tr>\n",
       "      <th>0</th>\n",
       "      <td>-0.670097</td>\n",
       "    </tr>\n",
       "    <tr>\n",
       "      <th>1</th>\n",
       "      <td>-0.716866</td>\n",
       "    </tr>\n",
       "    <tr>\n",
       "      <th>2</th>\n",
       "      <td>-0.800868</td>\n",
       "    </tr>\n",
       "    <tr>\n",
       "      <th>3</th>\n",
       "      <td>-0.463859</td>\n",
       "    </tr>\n",
       "    <tr>\n",
       "      <th>4</th>\n",
       "      <td>-1.039288</td>\n",
       "    </tr>\n",
       "  </tbody>\n",
       "</table>\n",
       "</div>"
      ],
      "text/plain": [
       "          0\n",
       "0 -0.670097\n",
       "1 -0.716866\n",
       "2 -0.800868\n",
       "3 -0.463859\n",
       "4 -1.039288"
      ]
     },
     "execution_count": 100,
     "metadata": {},
     "output_type": "execute_result"
    }
   ],
   "source": [
    "df_pca = pd.DataFrame.from_records(loadings)\n",
    "df_pca"
   ]
  },
  {
   "cell_type": "code",
   "execution_count": 101,
   "id": "3e6123bc",
   "metadata": {},
   "outputs": [
    {
     "data": {
      "text/plain": [
       "PCA(n_components=1, svd_solver='full')"
      ]
     },
     "execution_count": 101,
     "metadata": {},
     "output_type": "execute_result"
    }
   ],
   "source": [
    "from sklearn.decomposition import PCA\n",
    "\n",
    "pca = PCA(n_components=1, svd_solver='full')\n",
    "pca.fit(df_new_bogota2)"
   ]
  },
  {
   "cell_type": "code",
   "execution_count": 102,
   "id": "e6e0c7f6",
   "metadata": {},
   "outputs": [],
   "source": [
    "T = pca.transform(df_new_bogota2)"
   ]
  },
  {
   "cell_type": "code",
   "execution_count": 103,
   "id": "2defb1cf",
   "metadata": {},
   "outputs": [
    {
     "data": {
      "text/plain": [
       "(42, 5)"
      ]
     },
     "execution_count": 103,
     "metadata": {},
     "output_type": "execute_result"
    }
   ],
   "source": [
    "df_new_bogota2.shape"
   ]
  },
  {
   "cell_type": "code",
   "execution_count": 104,
   "id": "3735999f",
   "metadata": {},
   "outputs": [
    {
     "data": {
      "text/plain": [
       "(42, 1)"
      ]
     },
     "execution_count": 104,
     "metadata": {},
     "output_type": "execute_result"
    }
   ],
   "source": [
    "T.shape"
   ]
  },
  {
   "cell_type": "code",
   "execution_count": 105,
   "id": "727b008a",
   "metadata": {},
   "outputs": [
    {
     "data": {
      "text/html": [
       "<div>\n",
       "<style scoped>\n",
       "    .dataframe tbody tr th:only-of-type {\n",
       "        vertical-align: middle;\n",
       "    }\n",
       "\n",
       "    .dataframe tbody tr th {\n",
       "        vertical-align: top;\n",
       "    }\n",
       "\n",
       "    .dataframe thead th {\n",
       "        text-align: right;\n",
       "    }\n",
       "</style>\n",
       "<table border=\"1\" class=\"dataframe\">\n",
       "  <thead>\n",
       "    <tr style=\"text-align: right;\">\n",
       "      <th></th>\n",
       "      <th>improve-novel-15</th>\n",
       "      <th>improve-vis-15</th>\n",
       "      <th>improve-ur-15</th>\n",
       "      <th>improve-tech-15</th>\n",
       "      <th>improve-total-15</th>\n",
       "    </tr>\n",
       "  </thead>\n",
       "  <tbody>\n",
       "    <tr>\n",
       "      <th>81</th>\n",
       "      <td>-0.460087</td>\n",
       "      <td>-1.457099</td>\n",
       "      <td>-0.771188</td>\n",
       "      <td>0.474793</td>\n",
       "      <td>-0.654266</td>\n",
       "    </tr>\n",
       "    <tr>\n",
       "      <th>82</th>\n",
       "      <td>-0.460087</td>\n",
       "      <td>0.475540</td>\n",
       "      <td>-0.110170</td>\n",
       "      <td>0.917934</td>\n",
       "      <td>0.142515</td>\n",
       "    </tr>\n",
       "    <tr>\n",
       "      <th>83</th>\n",
       "      <td>-0.460087</td>\n",
       "      <td>-1.027796</td>\n",
       "      <td>-1.432206</td>\n",
       "      <td>-0.411488</td>\n",
       "      <td>-1.071666</td>\n",
       "    </tr>\n",
       "    <tr>\n",
       "      <th>84</th>\n",
       "      <td>0.175551</td>\n",
       "      <td>1.763965</td>\n",
       "      <td>0.550848</td>\n",
       "      <td>0.031653</td>\n",
       "      <td>0.654732</td>\n",
       "    </tr>\n",
       "    <tr>\n",
       "      <th>85</th>\n",
       "      <td>1.573954</td>\n",
       "      <td>2.623088</td>\n",
       "      <td>1.872885</td>\n",
       "      <td>1.804215</td>\n",
       "      <td>2.494956</td>\n",
       "    </tr>\n",
       "  </tbody>\n",
       "</table>\n",
       "</div>"
      ],
      "text/plain": [
       "    improve-novel-15  improve-vis-15  improve-ur-15  improve-tech-15  \\\n",
       "81         -0.460087       -1.457099      -0.771188         0.474793   \n",
       "82         -0.460087        0.475540      -0.110170         0.917934   \n",
       "83         -0.460087       -1.027796      -1.432206        -0.411488   \n",
       "84          0.175551        1.763965       0.550848         0.031653   \n",
       "85          1.573954        2.623088       1.872885         1.804215   \n",
       "\n",
       "    improve-total-15  \n",
       "81         -0.654266  \n",
       "82          0.142515  \n",
       "83         -1.071666  \n",
       "84          0.654732  \n",
       "85          2.494956  "
      ]
     },
     "execution_count": 105,
     "metadata": {},
     "output_type": "execute_result"
    }
   ],
   "source": [
    "df_new_bogota2.head()"
   ]
  },
  {
   "cell_type": "code",
   "execution_count": 106,
   "id": "a25f3fc9",
   "metadata": {},
   "outputs": [
    {
     "data": {
      "text/plain": [
       "array([[-1.41114197],\n",
       "       [ 0.33600571],\n",
       "       [-2.04552663],\n",
       "       [ 1.48493944],\n",
       "       [ 4.65497271],\n",
       "       [ 2.47303364],\n",
       "       [-0.01402733],\n",
       "       [-1.0251432 ],\n",
       "       [-1.28259167],\n",
       "       [-1.92592462],\n",
       "       [ 0.47179631],\n",
       "       [-2.70545317],\n",
       "       [ 3.60525734],\n",
       "       [-0.04909512],\n",
       "       [ 1.8252431 ],\n",
       "       [-0.20139359],\n",
       "       [ 1.67515533],\n",
       "       [ 0.59008477],\n",
       "       [ 3.02122309],\n",
       "       [-1.26730104],\n",
       "       [ 1.39710734],\n",
       "       [-0.02085305],\n",
       "       [ 2.68492951],\n",
       "       [ 1.66499397],\n",
       "       [-2.56161224],\n",
       "       [-0.91156424],\n",
       "       [-1.68344748],\n",
       "       [ 0.11646452],\n",
       "       [ 1.24399884],\n",
       "       [-2.30416377],\n",
       "       [-0.10469893],\n",
       "       [-0.61029973],\n",
       "       [ 0.77529124],\n",
       "       [ 1.8711432 ],\n",
       "       [-1.63821417],\n",
       "       [-0.14222325],\n",
       "       [-0.82057334],\n",
       "       [ 0.53730696],\n",
       "       [-1.92592462],\n",
       "       [-1.92592462],\n",
       "       [-1.92592462],\n",
       "       [-1.92592462]])"
      ]
     },
     "execution_count": 106,
     "metadata": {},
     "output_type": "execute_result"
    }
   ],
   "source": [
    "T"
   ]
  },
  {
   "cell_type": "code",
   "execution_count": 107,
   "id": "9eeff88f",
   "metadata": {},
   "outputs": [
    {
     "data": {
      "text/plain": [
       "array([0.64636572])"
      ]
     },
     "execution_count": 107,
     "metadata": {},
     "output_type": "execute_result"
    }
   ],
   "source": [
    "pca.explained_variance_ratio_\n",
    "\n",
    "# So just 3 principle components can explain almost 73% of the variance from these 9 features."
   ]
  },
  {
   "cell_type": "code",
   "execution_count": 108,
   "id": "acb236c4",
   "metadata": {},
   "outputs": [
    {
     "data": {
      "text/html": [
       "<div>\n",
       "<style scoped>\n",
       "    .dataframe tbody tr th:only-of-type {\n",
       "        vertical-align: middle;\n",
       "    }\n",
       "\n",
       "    .dataframe tbody tr th {\n",
       "        vertical-align: top;\n",
       "    }\n",
       "\n",
       "    .dataframe thead th {\n",
       "        text-align: right;\n",
       "    }\n",
       "</style>\n",
       "<table border=\"1\" class=\"dataframe\">\n",
       "  <thead>\n",
       "    <tr style=\"text-align: right;\">\n",
       "      <th></th>\n",
       "      <th>improve-novel-15</th>\n",
       "      <th>improve-vis-15</th>\n",
       "      <th>improve-ur-15</th>\n",
       "      <th>improve-tech-15</th>\n",
       "      <th>improve-total-15</th>\n",
       "    </tr>\n",
       "  </thead>\n",
       "  <tbody>\n",
       "    <tr>\n",
       "      <th>0</th>\n",
       "      <td>0.420199</td>\n",
       "      <td>0.442452</td>\n",
       "      <td>0.472154</td>\n",
       "      <td>0.318618</td>\n",
       "      <td>0.550657</td>\n",
       "    </tr>\n",
       "  </tbody>\n",
       "</table>\n",
       "</div>"
      ],
      "text/plain": [
       "   improve-novel-15  improve-vis-15  improve-ur-15  improve-tech-15  \\\n",
       "0          0.420199        0.442452       0.472154         0.318618   \n",
       "\n",
       "   improve-total-15  \n",
       "0          0.550657  "
      ]
     },
     "execution_count": 108,
     "metadata": {},
     "output_type": "execute_result"
    }
   ],
   "source": [
    "components = pd.DataFrame(pca.components_, columns = df_new_bogota2.columns, index=[0])\n",
    "components"
   ]
  },
  {
   "cell_type": "code",
   "execution_count": 109,
   "id": "a2ee793e",
   "metadata": {},
   "outputs": [
    {
     "name": "stdout",
     "output_type": "stream",
     "text": [
      "Features by importance:\n",
      " [(2.5632933530238637, 'improve-total-15'), (2.1978617547049932, 'improve-ur-15'), (2.059602024808761, 'improve-vis-15'), (1.9560136264536776, 'improve-novel-15'), (1.4831560871467937, 'improve-tech-15')]\n"
     ]
    }
   ],
   "source": [
    "import math\n",
    "\n",
    "def get_important_features(transformed_features, components_, columns):\n",
    "    \"\"\"\n",
    "    This function will return the most \"important\" \n",
    "    features so we can determine which have the most\n",
    "    effect on multi-dimensional scaling\n",
    "    \"\"\"\n",
    "    num_columns = len(columns)\n",
    "\n",
    "    # Scale the principal components by the max value in\n",
    "    # the transformed set belonging to that component\n",
    "    xvector = components_[0] * max(transformed_features[:,0])\n",
    "\n",
    "\n",
    "    # Sort each column by it's length. These are your *original*\n",
    "    # columns, not the principal components.\n",
    "    important_features = { columns[i] : math.sqrt(xvector[i]**2) for i in range(num_columns) }\n",
    "    important_features = sorted(zip(important_features.values(), important_features.keys()), reverse=True)\n",
    "    print(\"Features by importance:\\n\", important_features)\n",
    "\n",
    "get_important_features(T, pca.components_, df_new_bogota0.columns.values)"
   ]
  },
  {
   "cell_type": "markdown",
   "id": "d95638e1",
   "metadata": {},
   "source": [
    "## Factor Analysis - Group 3"
   ]
  },
  {
   "cell_type": "code",
   "execution_count": 110,
   "id": "29a6b73d",
   "metadata": {},
   "outputs": [
    {
     "data": {
      "text/html": [
       "<div>\n",
       "<style scoped>\n",
       "    .dataframe tbody tr th:only-of-type {\n",
       "        vertical-align: middle;\n",
       "    }\n",
       "\n",
       "    .dataframe tbody tr th {\n",
       "        vertical-align: top;\n",
       "    }\n",
       "\n",
       "    .dataframe thead th {\n",
       "        text-align: right;\n",
       "    }\n",
       "</style>\n",
       "<table border=\"1\" class=\"dataframe\">\n",
       "  <thead>\n",
       "    <tr style=\"text-align: right;\">\n",
       "      <th></th>\n",
       "      <th>improve-novel-15</th>\n",
       "      <th>improve-vis-15</th>\n",
       "      <th>improve-ur-15</th>\n",
       "      <th>improve-tech-15</th>\n",
       "      <th>improve-total-15</th>\n",
       "    </tr>\n",
       "  </thead>\n",
       "  <tbody>\n",
       "    <tr>\n",
       "      <th>123</th>\n",
       "      <td>87.50</td>\n",
       "      <td>20.84</td>\n",
       "      <td>100.0</td>\n",
       "      <td>62.5</td>\n",
       "      <td>270.84</td>\n",
       "    </tr>\n",
       "    <tr>\n",
       "      <th>124</th>\n",
       "      <td>30.00</td>\n",
       "      <td>45.83</td>\n",
       "      <td>80.0</td>\n",
       "      <td>37.5</td>\n",
       "      <td>193.33</td>\n",
       "    </tr>\n",
       "    <tr>\n",
       "      <th>125</th>\n",
       "      <td>-10.00</td>\n",
       "      <td>8.33</td>\n",
       "      <td>0.0</td>\n",
       "      <td>25.0</td>\n",
       "      <td>23.33</td>\n",
       "    </tr>\n",
       "    <tr>\n",
       "      <th>126</th>\n",
       "      <td>56.25</td>\n",
       "      <td>12.50</td>\n",
       "      <td>40.0</td>\n",
       "      <td>75.0</td>\n",
       "      <td>183.75</td>\n",
       "    </tr>\n",
       "    <tr>\n",
       "      <th>127</th>\n",
       "      <td>25.00</td>\n",
       "      <td>25.00</td>\n",
       "      <td>0.0</td>\n",
       "      <td>62.5</td>\n",
       "      <td>112.50</td>\n",
       "    </tr>\n",
       "  </tbody>\n",
       "</table>\n",
       "</div>"
      ],
      "text/plain": [
       "     improve-novel-15  improve-vis-15  improve-ur-15  improve-tech-15  \\\n",
       "123             87.50           20.84          100.0             62.5   \n",
       "124             30.00           45.83           80.0             37.5   \n",
       "125            -10.00            8.33            0.0             25.0   \n",
       "126             56.25           12.50           40.0             75.0   \n",
       "127             25.00           25.00            0.0             62.5   \n",
       "\n",
       "     improve-total-15  \n",
       "123            270.84  \n",
       "124            193.33  \n",
       "125             23.33  \n",
       "126            183.75  \n",
       "127            112.50  "
      ]
     },
     "execution_count": 110,
     "metadata": {},
     "output_type": "execute_result"
    }
   ],
   "source": [
    "dropped_student = overall_loc_scores_final.drop(['Student'], axis=1)\n",
    "\n",
    "bogota_3 = dropped_student[dropped_student['Group'].isin([3])]\n",
    "\n",
    "df_phase15_bogota3 = bogota_3[['improve-novel-15', 'improve-vis-15', 'improve-ur-15', 'improve-tech-15', 'improve-total-15']]\n",
    "df_phase15_bogota3.head(5)"
   ]
  },
  {
   "cell_type": "code",
   "execution_count": 111,
   "id": "080130c3",
   "metadata": {},
   "outputs": [
    {
     "name": "stdout",
     "output_type": "stream",
     "text": [
      "1140.964652195122\n",
      "405.3568562195122\n",
      "1281.9512195121956\n",
      "956.9359756097562\n",
      "7353.2981174390225\n"
     ]
    }
   ],
   "source": [
    "print(df_phase15_bogota3.var()['improve-novel-15'])\n",
    "print(df_phase15_bogota3.var()['improve-vis-15'])\n",
    "print(df_phase15_bogota3.var()['improve-ur-15'])\n",
    "print(df_phase15_bogota3.var()['improve-tech-15'])\n",
    "print(df_phase15_bogota3.var()['improve-total-15'])"
   ]
  },
  {
   "cell_type": "code",
   "execution_count": 112,
   "id": "e9c4fcaa",
   "metadata": {},
   "outputs": [
    {
     "data": {
      "text/html": [
       "<div>\n",
       "<style scoped>\n",
       "    .dataframe tbody tr th:only-of-type {\n",
       "        vertical-align: middle;\n",
       "    }\n",
       "\n",
       "    .dataframe tbody tr th {\n",
       "        vertical-align: top;\n",
       "    }\n",
       "\n",
       "    .dataframe thead th {\n",
       "        text-align: right;\n",
       "    }\n",
       "</style>\n",
       "<table border=\"1\" class=\"dataframe\">\n",
       "  <thead>\n",
       "    <tr style=\"text-align: right;\">\n",
       "      <th></th>\n",
       "      <th>improve-novel-15</th>\n",
       "      <th>improve-vis-15</th>\n",
       "      <th>improve-ur-15</th>\n",
       "      <th>improve-tech-15</th>\n",
       "      <th>improve-total-15</th>\n",
       "    </tr>\n",
       "  </thead>\n",
       "  <tbody>\n",
       "    <tr>\n",
       "      <th>count</th>\n",
       "      <td>4.100000e+01</td>\n",
       "      <td>4.100000e+01</td>\n",
       "      <td>4.100000e+01</td>\n",
       "      <td>4.100000e+01</td>\n",
       "      <td>4.100000e+01</td>\n",
       "    </tr>\n",
       "    <tr>\n",
       "      <th>mean</th>\n",
       "      <td>-5.957294e-17</td>\n",
       "      <td>3.791005e-17</td>\n",
       "      <td>-1.083144e-17</td>\n",
       "      <td>2.707861e-17</td>\n",
       "      <td>4.115949e-16</td>\n",
       "    </tr>\n",
       "    <tr>\n",
       "      <th>std</th>\n",
       "      <td>1.000000e+00</td>\n",
       "      <td>1.000000e+00</td>\n",
       "      <td>1.000000e+00</td>\n",
       "      <td>1.000000e+00</td>\n",
       "      <td>1.000000e+00</td>\n",
       "    </tr>\n",
       "    <tr>\n",
       "      <th>min</th>\n",
       "      <td>-1.899250e+00</td>\n",
       "      <td>-2.124965e+00</td>\n",
       "      <td>-1.934634e+00</td>\n",
       "      <td>-2.818712e+00</td>\n",
       "      <td>-1.924981e+00</td>\n",
       "    </tr>\n",
       "    <tr>\n",
       "      <th>25%</th>\n",
       "      <td>-9.125175e-01</td>\n",
       "      <td>-8.832517e-01</td>\n",
       "      <td>-8.174508e-01</td>\n",
       "      <td>-3.942255e-01</td>\n",
       "      <td>-7.588188e-01</td>\n",
       "    </tr>\n",
       "    <tr>\n",
       "      <th>50%</th>\n",
       "      <td>-1.723945e-01</td>\n",
       "      <td>-5.577412e-02</td>\n",
       "      <td>-2.588594e-01</td>\n",
       "      <td>9.855637e-03</td>\n",
       "      <td>-3.976328e-02</td>\n",
       "    </tr>\n",
       "    <tr>\n",
       "      <th>75%</th>\n",
       "      <td>7.527593e-01</td>\n",
       "      <td>5.655791e-01</td>\n",
       "      <td>8.583234e-01</td>\n",
       "      <td>8.180179e-01</td>\n",
       "      <td>8.009230e-01</td>\n",
       "    </tr>\n",
       "    <tr>\n",
       "      <th>max</th>\n",
       "      <td>1.899950e+00</td>\n",
       "      <td>2.013913e+00</td>\n",
       "      <td>1.975506e+00</td>\n",
       "      <td>1.626180e+00</td>\n",
       "      <td>2.205099e+00</td>\n",
       "    </tr>\n",
       "  </tbody>\n",
       "</table>\n",
       "</div>"
      ],
      "text/plain": [
       "       improve-novel-15  improve-vis-15  improve-ur-15  improve-tech-15  \\\n",
       "count      4.100000e+01    4.100000e+01   4.100000e+01     4.100000e+01   \n",
       "mean      -5.957294e-17    3.791005e-17  -1.083144e-17     2.707861e-17   \n",
       "std        1.000000e+00    1.000000e+00   1.000000e+00     1.000000e+00   \n",
       "min       -1.899250e+00   -2.124965e+00  -1.934634e+00    -2.818712e+00   \n",
       "25%       -9.125175e-01   -8.832517e-01  -8.174508e-01    -3.942255e-01   \n",
       "50%       -1.723945e-01   -5.577412e-02  -2.588594e-01     9.855637e-03   \n",
       "75%        7.527593e-01    5.655791e-01   8.583234e-01     8.180179e-01   \n",
       "max        1.899950e+00    2.013913e+00   1.975506e+00     1.626180e+00   \n",
       "\n",
       "       improve-total-15  \n",
       "count      4.100000e+01  \n",
       "mean       4.115949e-16  \n",
       "std        1.000000e+00  \n",
       "min       -1.924981e+00  \n",
       "25%       -7.588188e-01  \n",
       "50%       -3.976328e-02  \n",
       "75%        8.009230e-01  \n",
       "max        2.205099e+00  "
      ]
     },
     "execution_count": 112,
     "metadata": {},
     "output_type": "execute_result"
    }
   ],
   "source": [
    "df_new_bogota3 = (df_phase15_bogota3-df_phase15_bogota3.mean())/df_phase15_bogota3.std()\n",
    "df_new_bogota3.describe()"
   ]
  },
  {
   "cell_type": "code",
   "execution_count": 113,
   "id": "aaf92812",
   "metadata": {},
   "outputs": [
    {
     "data": {
      "text/plain": [
       "array([3.02989505e+00, 1.05647069e+00, 6.92717468e-01, 2.20916795e-01,\n",
       "       1.92560268e-10])"
      ]
     },
     "execution_count": 113,
     "metadata": {},
     "output_type": "execute_result"
    }
   ],
   "source": [
    "# Here, we can see only for 18-factors eigenvalues are greater than one. \n",
    "# It means we need to choose only 18 factors (or unobserved variables).\n",
    "\n",
    "from factor_analyzer import FactorAnalyzer\n",
    "\n",
    "fa = FactorAnalyzer()\n",
    "fa.fit(df_new_bogota3)\n",
    "eigen_values, vectors = fa.get_eigenvalues()\n",
    "eigen_values"
   ]
  },
  {
   "cell_type": "code",
   "execution_count": 114,
   "id": "46d4b8a2",
   "metadata": {},
   "outputs": [
    {
     "data": {
      "text/plain": [
       "FactorAnalyzer(n_factors=2, rotation='varimax', rotation_kwargs={})"
      ]
     },
     "execution_count": 114,
     "metadata": {},
     "output_type": "execute_result"
    }
   ],
   "source": [
    "from factor_analyzer import FactorAnalyzer \n",
    "import matplotlib.pyplot as plt\n",
    "\n",
    "fa = FactorAnalyzer(n_factors=2, rotation=\"varimax\")\n",
    "fa.fit(df_new_bogota3)"
   ]
  },
  {
   "cell_type": "code",
   "execution_count": 115,
   "id": "25b59e9a",
   "metadata": {},
   "outputs": [],
   "source": [
    "# Get the loadings\n",
    "\n",
    "loadings = fa.loadings_"
   ]
  },
  {
   "cell_type": "code",
   "execution_count": 116,
   "id": "07a9982f",
   "metadata": {},
   "outputs": [],
   "source": [
    "# Get the Eigenvector and Eigenvalues\n",
    "\n",
    "ev, v = fa.get_eigenvalues()"
   ]
  },
  {
   "cell_type": "code",
   "execution_count": 117,
   "id": "38dd84e8",
   "metadata": {},
   "outputs": [],
   "source": [
    "# Do a scree plot \n",
    "\n",
    "xvals_bogota3 = range(1, df_new_bogota3.shape[1] + 1)"
   ]
  },
  {
   "cell_type": "code",
   "execution_count": 118,
   "id": "da062e3c",
   "metadata": {},
   "outputs": [
    {
     "data": {
      "image/png": "[encoded data removed]",
      "text/plain": [
       "<Figure size 432x288 with 1 Axes>"
      ]
     },
     "metadata": {},
     "output_type": "display_data"
    }
   ],
   "source": [
    "plt.scatter(xvals_bogota3, ev)\n",
    "plt.plot(xvals_bogota3, ev)\n",
    "plt.title('Scree Plot')\n",
    "plt.xlabel('Factor')\n",
    "plt.ylabel('Eigenvalue')\n",
    "plt.grid()\n",
    "plt.show()"
   ]
  },
  {
   "cell_type": "code",
   "execution_count": 119,
   "id": "07522fa5",
   "metadata": {},
   "outputs": [
    {
     "data": {
      "text/html": [
       "<div>\n",
       "<style scoped>\n",
       "    .dataframe tbody tr th:only-of-type {\n",
       "        vertical-align: middle;\n",
       "    }\n",
       "\n",
       "    .dataframe tbody tr th {\n",
       "        vertical-align: top;\n",
       "    }\n",
       "\n",
       "    .dataframe thead th {\n",
       "        text-align: right;\n",
       "    }\n",
       "</style>\n",
       "<table border=\"1\" class=\"dataframe\">\n",
       "  <thead>\n",
       "    <tr style=\"text-align: right;\">\n",
       "      <th></th>\n",
       "      <th>0</th>\n",
       "      <th>1</th>\n",
       "    </tr>\n",
       "  </thead>\n",
       "  <tbody>\n",
       "    <tr>\n",
       "      <th>0</th>\n",
       "      <td>0.226852</td>\n",
       "      <td>0.641636</td>\n",
       "    </tr>\n",
       "    <tr>\n",
       "      <th>1</th>\n",
       "      <td>0.783663</td>\n",
       "      <td>0.153642</td>\n",
       "    </tr>\n",
       "    <tr>\n",
       "      <th>2</th>\n",
       "      <td>0.904232</td>\n",
       "      <td>0.267863</td>\n",
       "    </tr>\n",
       "    <tr>\n",
       "      <th>3</th>\n",
       "      <td>0.066480</td>\n",
       "      <td>0.584799</td>\n",
       "    </tr>\n",
       "    <tr>\n",
       "      <th>4</th>\n",
       "      <td>0.641308</td>\n",
       "      <td>0.827475</td>\n",
       "    </tr>\n",
       "  </tbody>\n",
       "</table>\n",
       "</div>"
      ],
      "text/plain": [
       "          0         1\n",
       "0  0.226852  0.641636\n",
       "1  0.783663  0.153642\n",
       "2  0.904232  0.267863\n",
       "3  0.066480  0.584799\n",
       "4  0.641308  0.827475"
      ]
     },
     "execution_count": 119,
     "metadata": {},
     "output_type": "execute_result"
    }
   ],
   "source": [
    "df_pca = pd.DataFrame.from_records(loadings)\n",
    "df_pca"
   ]
  },
  {
   "cell_type": "code",
   "execution_count": 120,
   "id": "18e4f2bf",
   "metadata": {},
   "outputs": [
    {
     "data": {
      "text/plain": [
       "PCA(n_components=2, svd_solver='full')"
      ]
     },
     "execution_count": 120,
     "metadata": {},
     "output_type": "execute_result"
    }
   ],
   "source": [
    "from sklearn.decomposition import PCA\n",
    "\n",
    "pca = PCA(n_components=2, svd_solver='full')\n",
    "pca.fit(df_new_bogota3)"
   ]
  },
  {
   "cell_type": "code",
   "execution_count": 121,
   "id": "75e91f06",
   "metadata": {},
   "outputs": [],
   "source": [
    "T = pca.transform(df_new_bogota3)"
   ]
  },
  {
   "cell_type": "code",
   "execution_count": 122,
   "id": "0854340f",
   "metadata": {},
   "outputs": [
    {
     "data": {
      "text/plain": [
       "(41, 5)"
      ]
     },
     "execution_count": 122,
     "metadata": {},
     "output_type": "execute_result"
    }
   ],
   "source": [
    "df_new_bogota3.shape"
   ]
  },
  {
   "cell_type": "code",
   "execution_count": 123,
   "id": "fde7e0b7",
   "metadata": {},
   "outputs": [
    {
     "data": {
      "text/plain": [
       "(41, 2)"
      ]
     },
     "execution_count": 123,
     "metadata": {},
     "output_type": "execute_result"
    }
   ],
   "source": [
    "T.shape"
   ]
  },
  {
   "cell_type": "code",
   "execution_count": 124,
   "id": "1b5d095b",
   "metadata": {},
   "outputs": [
    {
     "data": {
      "text/html": [
       "<div>\n",
       "<style scoped>\n",
       "    .dataframe tbody tr th:only-of-type {\n",
       "        vertical-align: middle;\n",
       "    }\n",
       "\n",
       "    .dataframe tbody tr th {\n",
       "        vertical-align: top;\n",
       "    }\n",
       "\n",
       "    .dataframe thead th {\n",
       "        text-align: right;\n",
       "    }\n",
       "</style>\n",
       "<table border=\"1\" class=\"dataframe\">\n",
       "  <thead>\n",
       "    <tr style=\"text-align: right;\">\n",
       "      <th></th>\n",
       "      <th>improve-novel-15</th>\n",
       "      <th>improve-vis-15</th>\n",
       "      <th>improve-ur-15</th>\n",
       "      <th>improve-tech-15</th>\n",
       "      <th>improve-total-15</th>\n",
       "    </tr>\n",
       "  </thead>\n",
       "  <tbody>\n",
       "    <tr>\n",
       "      <th>123</th>\n",
       "      <td>1.677913</td>\n",
       "      <td>0.151840</td>\n",
       "      <td>1.975506</td>\n",
       "      <td>0.818018</td>\n",
       "      <td>1.816534</td>\n",
       "    </tr>\n",
       "    <tr>\n",
       "      <th>124</th>\n",
       "      <td>-0.024370</td>\n",
       "      <td>1.393057</td>\n",
       "      <td>1.416915</td>\n",
       "      <td>0.009856</td>\n",
       "      <td>0.912641</td>\n",
       "    </tr>\n",
       "    <tr>\n",
       "      <th>125</th>\n",
       "      <td>-1.208567</td>\n",
       "      <td>-0.469513</td>\n",
       "      <td>-0.817451</td>\n",
       "      <td>-0.394225</td>\n",
       "      <td>-1.069834</td>\n",
       "    </tr>\n",
       "    <tr>\n",
       "      <th>126</th>\n",
       "      <td>0.752759</td>\n",
       "      <td>-0.262395</td>\n",
       "      <td>0.299732</td>\n",
       "      <td>1.222099</td>\n",
       "      <td>0.800923</td>\n",
       "    </tr>\n",
       "    <tr>\n",
       "      <th>127</th>\n",
       "      <td>-0.172395</td>\n",
       "      <td>0.358461</td>\n",
       "      <td>-0.817451</td>\n",
       "      <td>0.818018</td>\n",
       "      <td>-0.029968</td>\n",
       "    </tr>\n",
       "  </tbody>\n",
       "</table>\n",
       "</div>"
      ],
      "text/plain": [
       "     improve-novel-15  improve-vis-15  improve-ur-15  improve-tech-15  \\\n",
       "123          1.677913        0.151840       1.975506         0.818018   \n",
       "124         -0.024370        1.393057       1.416915         0.009856   \n",
       "125         -1.208567       -0.469513      -0.817451        -0.394225   \n",
       "126          0.752759       -0.262395       0.299732         1.222099   \n",
       "127         -0.172395        0.358461      -0.817451         0.818018   \n",
       "\n",
       "     improve-total-15  \n",
       "123          1.816534  \n",
       "124          0.912641  \n",
       "125         -1.069834  \n",
       "126          0.800923  \n",
       "127         -0.029968  "
      ]
     },
     "execution_count": 124,
     "metadata": {},
     "output_type": "execute_result"
    }
   ],
   "source": [
    "df_new_bogota3.head()"
   ]
  },
  {
   "cell_type": "code",
   "execution_count": 125,
   "id": "3112bace",
   "metadata": {},
   "outputs": [
    {
     "data": {
      "text/plain": [
       "array([[ 2.98105636, -0.52810213],\n",
       "       [ 1.80885906,  1.17391398],\n",
       "       [-1.81039905,  0.28143911],\n",
       "       [ 1.16001935, -1.18888712],\n",
       "       [-0.08182638, -0.59672753],\n",
       "       [ 3.70885367, -0.87001728],\n",
       "       [-0.10603021,  0.39654507],\n",
       "       [-2.64600429, -1.02320183],\n",
       "       [-0.4797817 ,  0.24379755],\n",
       "       [-1.581038  , -2.01412692],\n",
       "       [-1.40817594,  0.38074601],\n",
       "       [-0.70058428,  0.23597959],\n",
       "       [ 1.86350489, -0.09241829],\n",
       "       [ 1.16059627,  1.16876   ],\n",
       "       [ 1.76313375, -0.92945689],\n",
       "       [-0.64815739, -1.34442431],\n",
       "       [ 0.94441953, -1.51639993],\n",
       "       [ 1.25868634,  1.5583043 ],\n",
       "       [ 0.66138406,  0.54973475],\n",
       "       [-0.18445754, -0.67899526],\n",
       "       [ 1.69330077, -0.03733268],\n",
       "       [-0.65382729, -1.42523922],\n",
       "       [ 1.66717236,  0.59702492],\n",
       "       [-1.72079639,  2.57239649],\n",
       "       [-2.76887325, -0.37487191],\n",
       "       [ 1.40643185, -0.48250402],\n",
       "       [ 2.08157005,  0.93425077],\n",
       "       [-2.21066973,  1.05931274],\n",
       "       [-0.09373321, -1.50093936],\n",
       "       [-2.0637191 , -0.70052905],\n",
       "       [-0.68956725, -0.68424851],\n",
       "       [-0.41216766, -0.96239829],\n",
       "       [-1.44833582, -0.60320612],\n",
       "       [ 1.14891459,  0.1465384 ],\n",
       "       [ 0.74623412,  0.3435073 ],\n",
       "       [-0.13329982,  0.58471233],\n",
       "       [ 3.00205751,  1.49921534],\n",
       "       [ 0.63655196,  0.91879272],\n",
       "       [-2.47959898,  0.78463907],\n",
       "       [-3.09835688,  1.61734619],\n",
       "       [-2.27334635,  0.50707003]])"
      ]
     },
     "execution_count": 125,
     "metadata": {},
     "output_type": "execute_result"
    }
   ],
   "source": [
    "T"
   ]
  },
  {
   "cell_type": "code",
   "execution_count": 126,
   "id": "bcf6407b",
   "metadata": {},
   "outputs": [
    {
     "data": {
      "text/plain": [
       "array([0.60597901, 0.21129414])"
      ]
     },
     "execution_count": 126,
     "metadata": {},
     "output_type": "execute_result"
    }
   ],
   "source": [
    "pca.explained_variance_ratio_"
   ]
  },
  {
   "cell_type": "code",
   "execution_count": 127,
   "id": "b372178c",
   "metadata": {},
   "outputs": [
    {
     "data": {
      "text/html": [
       "<div>\n",
       "<style scoped>\n",
       "    .dataframe tbody tr th:only-of-type {\n",
       "        vertical-align: middle;\n",
       "    }\n",
       "\n",
       "    .dataframe tbody tr th {\n",
       "        vertical-align: top;\n",
       "    }\n",
       "\n",
       "    .dataframe thead th {\n",
       "        text-align: right;\n",
       "    }\n",
       "</style>\n",
       "<table border=\"1\" class=\"dataframe\">\n",
       "  <thead>\n",
       "    <tr style=\"text-align: right;\">\n",
       "      <th></th>\n",
       "      <th>improve-novel-15</th>\n",
       "      <th>improve-vis-15</th>\n",
       "      <th>improve-ur-15</th>\n",
       "      <th>improve-tech-15</th>\n",
       "      <th>improve-total-15</th>\n",
       "    </tr>\n",
       "  </thead>\n",
       "  <tbody>\n",
       "    <tr>\n",
       "      <th>0</th>\n",
       "      <td>0.394564</td>\n",
       "      <td>0.431121</td>\n",
       "      <td>0.489682</td>\n",
       "      <td>0.304461</td>\n",
       "      <td>0.570938</td>\n",
       "    </tr>\n",
       "    <tr>\n",
       "      <th>1</th>\n",
       "      <td>-0.391454</td>\n",
       "      <td>0.511369</td>\n",
       "      <td>0.391130</td>\n",
       "      <td>-0.649049</td>\n",
       "      <td>-0.104963</td>\n",
       "    </tr>\n",
       "  </tbody>\n",
       "</table>\n",
       "</div>"
      ],
      "text/plain": [
       "   improve-novel-15  improve-vis-15  improve-ur-15  improve-tech-15  \\\n",
       "0          0.394564        0.431121       0.489682         0.304461   \n",
       "1         -0.391454        0.511369       0.391130        -0.649049   \n",
       "\n",
       "   improve-total-15  \n",
       "0          0.570938  \n",
       "1         -0.104963  "
      ]
     },
     "execution_count": 127,
     "metadata": {},
     "output_type": "execute_result"
    }
   ],
   "source": [
    "components = pd.DataFrame(pca.components_, columns = df_new_bogota3.columns, index=[0, 1])\n",
    "components"
   ]
  },
  {
   "cell_type": "code",
   "execution_count": 128,
   "id": "2bdd3f37",
   "metadata": {},
   "outputs": [
    {
     "name": "stdout",
     "output_type": "stream",
     "text": [
      "Features by importance:\n",
      " [(2.1346704841402135, 'improve-total-15'), (2.0762341692477735, 'improve-ur-15'), (2.0705255817148083, 'improve-vis-15'), (2.0156136016215243, 'improve-tech-15'), (1.7763666421969526, 'improve-novel-15')]\n"
     ]
    }
   ],
   "source": [
    "import math\n",
    "\n",
    "def get_important_features(transformed_features, components_, columns):\n",
    "    \"\"\"\n",
    "    This function will return the most \"important\" \n",
    "    features so we can determine which have the most\n",
    "    effect on multi-dimensional scaling\n",
    "    \"\"\"\n",
    "    num_columns = len(columns)\n",
    "\n",
    "    # Scale the principal components by the max value in\n",
    "    # the transformed set belonging to that component\n",
    "    xvector = components_[0] * max(transformed_features[:,0])\n",
    "    yvector = components_[1] * max(transformed_features[:,1])\n",
    "\n",
    "    # Sort each column by it's length. These are your *original*\n",
    "    # columns, not the principal components.\n",
    "    important_features = { columns[i] : math.sqrt(xvector[i]**2 + yvector[i]**2) for i in range(num_columns) }\n",
    "    important_features = sorted(zip(important_features.values(), important_features.keys()), reverse=True)\n",
    "    print(\"Features by importance:\\n\", important_features)\n",
    "\n",
    "get_important_features(T, pca.components_, df_new_bogota3.columns.values)"
   ]
  },
  {
   "cell_type": "code",
   "execution_count": 129,
   "id": "216cd15a",
   "metadata": {},
   "outputs": [
    {
     "data": {
      "image/png": "[encoded data removed]",
      "text/plain": [
       "<Figure size 432x288 with 1 Axes>"
      ]
     },
     "metadata": {},
     "output_type": "display_data"
    }
   ],
   "source": [
    "ax = draw_vectors(T, pca.components_, df_new_bogota3.columns.values)\n",
    "T_df = pd.DataFrame(T)\n",
    "T_df.columns = ['component1', 'component2']\n",
    "\n",
    "T_df['color'] = 'y'\n",
    "T_df.loc[T_df['component1'] > 2 , 'color'] = 'g'\n",
    "T_df.loc[T_df['component2'] > 2, 'color'] = 'r'\n",
    "\n",
    "plt.xlabel('Principle Component 1')\n",
    "plt.ylabel('Principle Component 2')\n",
    "plt.scatter(T_df['component1'], T_df['component2'], color=T_df['color'], alpha=0.5)\n",
    "plt.show()"
   ]
  },
  {
   "cell_type": "markdown",
   "id": "a72c86f6",
   "metadata": {},
   "source": [
    "## ANOVA with Pingouin Package [ Section to be Ignored ]"
   ]
  },
  {
   "cell_type": "code",
   "execution_count": 130,
   "id": "4979c10b",
   "metadata": {},
   "outputs": [
    {
     "name": "stdout",
     "output_type": "stream",
     "text": [
      "               Source             SS     DF           MS             F  \\\n",
      "0               Group      -0.000005    3.0    -0.000002 -1.386755e-09   \n",
      "1          add-loc-15   92069.560381   55.0  1673.992007  1.278830e+00   \n",
      "2  Group * add-loc-15  219519.146378  165.0  1330.419069  1.016361e+00   \n",
      "3            Residual  102102.208319   78.0  1309.002671           NaN   \n",
      "\n",
      "      p-unc           np2  \n",
      "0  1.000000 -5.333673e-11  \n",
      "1  0.177521  4.741655e-01  \n",
      "2  0.472443  6.825391e-01  \n",
      "3       NaN           NaN  \n"
     ]
    },
    {
     "name": "stderr",
     "output_type": "stream",
     "text": [
      "/usr/local/anaconda3/lib/python3.8/site-packages/statsmodels/base/model.py:1832: ValueWarning: covariance of constraints does not have full rank. The number of constraints is 3, but rank is 2\n",
      "  warnings.warn('covariance of constraints does not have full '\n",
      "/usr/local/anaconda3/lib/python3.8/site-packages/statsmodels/base/model.py:1832: ValueWarning: covariance of constraints does not have full rank. The number of constraints is 55, but rank is 39\n",
      "  warnings.warn('covariance of constraints does not have full '\n",
      "/usr/local/anaconda3/lib/python3.8/site-packages/statsmodels/base/model.py:1832: ValueWarning: covariance of constraints does not have full rank. The number of constraints is 165, but rank is 88\n",
      "  warnings.warn('covariance of constraints does not have full '\n"
     ]
    }
   ],
   "source": [
    "import pandas as pd\n",
    "import pingouin as pg\n",
    "\n",
    "\n",
    "aov = pg.anova(dv='improve-novel-15', between=['Group', 'add-loc-15'], data=overall_loc_scores_final,\n",
    "             detailed=True)\n",
    "\n",
    "print(aov)"
   ]
  },
  {
   "cell_type": "code",
   "execution_count": 131,
   "id": "bb369b0a",
   "metadata": {},
   "outputs": [
    {
     "name": "stdout",
     "output_type": "stream",
     "text": [
      "                      Source             SS     DF           MS         F  \\\n",
      "0                      Group     191.725564    3.0    63.908521  0.062603   \n",
      "1          improve-effort-15   -2814.786378   84.0   -33.509362 -0.032825   \n",
      "2  Group * improve-effort-15  363984.852475  252.0  1444.384335  1.414887   \n",
      "3                   Residual   62271.701389   61.0  1020.847564       NaN   \n",
      "\n",
      "      p-unc       np2  \n",
      "0  0.979338  0.003069  \n",
      "1  1.000000 -0.047342  \n",
      "2  0.070083  0.853910  \n",
      "3       NaN       NaN  \n"
     ]
    },
    {
     "name": "stderr",
     "output_type": "stream",
     "text": [
      "/usr/local/anaconda3/lib/python3.8/site-packages/statsmodels/base/model.py:1832: ValueWarning: covariance of constraints does not have full rank. The number of constraints is 84, but rank is 52\n",
      "  warnings.warn('covariance of constraints does not have full '\n",
      "/usr/local/anaconda3/lib/python3.8/site-packages/statsmodels/base/model.py:1832: ValueWarning: covariance of constraints does not have full rank. The number of constraints is 252, but rank is 106\n",
      "  warnings.warn('covariance of constraints does not have full '\n"
     ]
    }
   ],
   "source": [
    "import pandas as pd\n",
    "import pingouin as pg\n",
    "\n",
    "\n",
    "aov = pg.anova(dv='improve-tech-15', between=['Group', 'improve-effort-15'], data=overall_loc_scores_final,\n",
    "             detailed=True)\n",
    "\n",
    "print(aov)"
   ]
  },
  {
   "cell_type": "code",
   "execution_count": 132,
   "id": "481dba5e",
   "metadata": {},
   "outputs": [
    {
     "name": "stdout",
     "output_type": "stream",
     "text": [
      "                      Source             SS     DF           MS         F  \\\n",
      "0                      Group     956.994958    3.0   318.998319  0.272820   \n",
      "1          improve-effort-15   -1220.226617   84.0   -14.526507 -0.012424   \n",
      "2  Group * improve-effort-15  447805.672102  252.0  1777.006635  1.519764   \n",
      "3                   Residual   71325.155422   61.0  1169.264843       NaN   \n",
      "\n",
      "      p-unc       np2  \n",
      "0  0.844767  0.013240  \n",
      "1  1.000000 -0.017406  \n",
      "2  0.037874  0.862607  \n",
      "3       NaN       NaN  \n"
     ]
    },
    {
     "name": "stderr",
     "output_type": "stream",
     "text": [
      "/usr/local/anaconda3/lib/python3.8/site-packages/statsmodels/base/model.py:1832: ValueWarning: covariance of constraints does not have full rank. The number of constraints is 84, but rank is 51\n",
      "  warnings.warn('covariance of constraints does not have full '\n",
      "/usr/local/anaconda3/lib/python3.8/site-packages/statsmodels/base/model.py:1832: ValueWarning: covariance of constraints does not have full rank. The number of constraints is 252, but rank is 106\n",
      "  warnings.warn('covariance of constraints does not have full '\n"
     ]
    }
   ],
   "source": [
    "import pandas as pd\n",
    "import pingouin as pg\n",
    "\n",
    "\n",
    "aov = pg.anova(dv='improve-novel-15', between=['Group', 'improve-effort-15'], data=overall_loc_scores_final,\n",
    "             detailed=True)\n",
    "\n",
    "print(aov)"
   ]
  },
  {
   "cell_type": "code",
   "execution_count": 133,
   "id": "7df93c7e",
   "metadata": {},
   "outputs": [
    {
     "name": "stdout",
     "output_type": "stream",
     "text": [
      "                      Source             SS     DF           MS          F  \\\n",
      "0                      Group    9644.057209    3.0  3214.685736  11.807894   \n",
      "1          improve-effort-15     653.741783   84.0     7.782640   0.028586   \n",
      "2  Group * improve-effort-15  159191.377692  252.0   631.711816   2.320347   \n",
      "3                   Residual   16607.180985   61.0   272.248869        NaN   \n",
      "\n",
      "      p-unc       np2  \n",
      "0  0.000003  0.367375  \n",
      "1  1.000000  0.037874  \n",
      "2  0.000237  0.905533  \n",
      "3       NaN       NaN  \n"
     ]
    },
    {
     "name": "stderr",
     "output_type": "stream",
     "text": [
      "/usr/local/anaconda3/lib/python3.8/site-packages/statsmodels/base/model.py:1832: ValueWarning: covariance of constraints does not have full rank. The number of constraints is 84, but rank is 52\n",
      "  warnings.warn('covariance of constraints does not have full '\n",
      "/usr/local/anaconda3/lib/python3.8/site-packages/statsmodels/base/model.py:1832: ValueWarning: covariance of constraints does not have full rank. The number of constraints is 252, but rank is 106\n",
      "  warnings.warn('covariance of constraints does not have full '\n"
     ]
    }
   ],
   "source": [
    "import pandas as pd\n",
    "import pingouin as pg\n",
    "\n",
    "\n",
    "aov = pg.anova(dv='improve-vis-15', between=['Group', 'improve-effort-15'], data=overall_loc_scores_final,\n",
    "             detailed=True)\n",
    "\n",
    "print(aov)"
   ]
  },
  {
   "cell_type": "code",
   "execution_count": 134,
   "id": "73dba7c8",
   "metadata": {},
   "outputs": [
    {
     "data": {
      "text/html": [
       "<div>\n",
       "<style scoped>\n",
       "    .dataframe tbody tr th:only-of-type {\n",
       "        vertical-align: middle;\n",
       "    }\n",
       "\n",
       "    .dataframe tbody tr th {\n",
       "        vertical-align: top;\n",
       "    }\n",
       "\n",
       "    .dataframe thead th {\n",
       "        text-align: right;\n",
       "    }\n",
       "</style>\n",
       "<table border=\"1\" class=\"dataframe\">\n",
       "  <thead>\n",
       "    <tr style=\"text-align: right;\">\n",
       "      <th></th>\n",
       "      <th>Source</th>\n",
       "      <th>SS</th>\n",
       "      <th>DF</th>\n",
       "      <th>F</th>\n",
       "      <th>p-unc</th>\n",
       "      <th>np2</th>\n",
       "    </tr>\n",
       "  </thead>\n",
       "  <tbody>\n",
       "    <tr>\n",
       "      <th>0</th>\n",
       "      <td>Group</td>\n",
       "      <td>5081.108548</td>\n",
       "      <td>3</td>\n",
       "      <td>1.265271</td>\n",
       "      <td>0.288154</td>\n",
       "      <td>0.022895</td>\n",
       "    </tr>\n",
       "    <tr>\n",
       "      <th>1</th>\n",
       "      <td>add-loc-15</td>\n",
       "      <td>1127.880020</td>\n",
       "      <td>1</td>\n",
       "      <td>0.842576</td>\n",
       "      <td>0.360026</td>\n",
       "      <td>0.005174</td>\n",
       "    </tr>\n",
       "    <tr>\n",
       "      <th>2</th>\n",
       "      <td>improve-effort-15</td>\n",
       "      <td>2383.505869</td>\n",
       "      <td>1</td>\n",
       "      <td>1.780585</td>\n",
       "      <td>0.183950</td>\n",
       "      <td>0.010872</td>\n",
       "    </tr>\n",
       "    <tr>\n",
       "      <th>3</th>\n",
       "      <td>delete-loc-15</td>\n",
       "      <td>2232.173263</td>\n",
       "      <td>1</td>\n",
       "      <td>1.667533</td>\n",
       "      <td>0.198429</td>\n",
       "      <td>0.010189</td>\n",
       "    </tr>\n",
       "    <tr>\n",
       "      <th>4</th>\n",
       "      <td>Residual</td>\n",
       "      <td>216854.580388</td>\n",
       "      <td>162</td>\n",
       "      <td>NaN</td>\n",
       "      <td>NaN</td>\n",
       "      <td>NaN</td>\n",
       "    </tr>\n",
       "  </tbody>\n",
       "</table>\n",
       "</div>"
      ],
      "text/plain": [
       "              Source             SS   DF         F     p-unc       np2\n",
       "0              Group    5081.108548    3  1.265271  0.288154  0.022895\n",
       "1         add-loc-15    1127.880020    1  0.842576  0.360026  0.005174\n",
       "2  improve-effort-15    2383.505869    1  1.780585  0.183950  0.010872\n",
       "3      delete-loc-15    2232.173263    1  1.667533  0.198429  0.010189\n",
       "4           Residual  216854.580388  162       NaN       NaN       NaN"
      ]
     },
     "execution_count": 134,
     "metadata": {},
     "output_type": "execute_result"
    }
   ],
   "source": [
    "from pingouin import ancova, read_dataset\n",
    "ancova(data=overall_loc_scores_final, dv='improve-novel-15', covar=['add-loc-15', 'improve-effort-15', 'delete-loc-15'], between='Group')\n"
   ]
  },
  {
   "cell_type": "code",
   "execution_count": 135,
   "id": "094233e2",
   "metadata": {},
   "outputs": [
    {
     "name": "stdout",
     "output_type": "stream",
     "text": [
      "                      Source             SS     DF           MS         F  \\\n",
      "0                      Group   13212.877889    3.0  4404.292630  7.292007   \n",
      "1          improve-effort-15    8758.497058   84.0   104.267822  0.172632   \n",
      "2  Group * improve-effort-15  412798.248056  252.0  1638.088286  2.712116   \n",
      "3                   Residual   36843.333333   61.0   603.989071       NaN   \n",
      "\n",
      "      p-unc       np2  \n",
      "0  0.001447  0.263961  \n",
      "1  1.000000  0.192065  \n",
      "2  0.000021  0.918061  \n",
      "3       NaN       NaN  \n"
     ]
    },
    {
     "name": "stderr",
     "output_type": "stream",
     "text": [
      "/usr/local/anaconda3/lib/python3.8/site-packages/statsmodels/base/model.py:1832: ValueWarning: covariance of constraints does not have full rank. The number of constraints is 3, but rank is 2\n",
      "  warnings.warn('covariance of constraints does not have full '\n",
      "/usr/local/anaconda3/lib/python3.8/site-packages/statsmodels/base/model.py:1832: ValueWarning: covariance of constraints does not have full rank. The number of constraints is 84, but rank is 51\n",
      "  warnings.warn('covariance of constraints does not have full '\n",
      "/usr/local/anaconda3/lib/python3.8/site-packages/statsmodels/base/model.py:1832: ValueWarning: covariance of constraints does not have full rank. The number of constraints is 252, but rank is 106\n",
      "  warnings.warn('covariance of constraints does not have full '\n"
     ]
    }
   ],
   "source": [
    "import pandas as pd\n",
    "import pingouin as pg\n",
    "\n",
    "\n",
    "aov = pg.anova(dv='improve-ur-15', between=['Group', 'improve-effort-15'], data=overall_loc_scores_final,\n",
    "             detailed=True)\n",
    "\n",
    "print(aov)"
   ]
  },
  {
   "cell_type": "code",
   "execution_count": null,
   "id": "3e6cec53",
   "metadata": {},
   "outputs": [],
   "source": []
  }
 ],
 "metadata": {
  "kernelspec": {
   "display_name": "Python 3 (ipykernel)",
   "language": "python",
   "name": "python3"
  },
  "language_info": {
   "codemirror_mode": {
    "name": "ipython",
    "version": 3
   },
   "file_extension": ".py",
   "mimetype": "text/x-python",
   "name": "python",
   "nbconvert_exporter": "python",
   "pygments_lexer": "ipython3",
   "version": "3.9.7"
  }
 },
 "nbformat": 4,
 "nbformat_minor": 5
}
