{
 "cells": [
  {
   "cell_type": "markdown",
   "id": "e4428fd5",
   "metadata": {},
   "source": [
    "# Rareness"
   ]
  },
  {
   "cell_type": "markdown",
   "id": "2fa56952",
   "metadata": {},
   "source": [
    "## Get All Functions from All Phases and Groups"
   ]
  },
  {
   "cell_type": "code",
   "execution_count": 1,
   "id": "453621db",
   "metadata": {},
   "outputs": [],
   "source": [
    "import pandas as pd\n",
    "import numpy as np\n",
    "import collections\n",
    "\n",
    "%store -r overall_phase1\n",
    "%store -r overall_phase2\n",
    "%store -r overall_phase3\n",
    "%store -r overall_phase4\n",
    "%store -r overall_phase5\n",
    "\n",
    "\n",
    "%store -r subset_bogota0_phase1\n",
    "%store -r subset_bogota0_phase2\n",
    "%store -r subset_bogota0_phase3\n",
    "%store -r overall_phase3_bogota0\n",
    "%store -r subset_bogota0_phase4\n",
    "%store -r overall_phase4_bogota0\n",
    "%store -r overall_phase5_bogota0\n",
    "%store -r subset_bogota0_phase5\n",
    "%store -r subset_bogota1_phase1\n",
    "%store -r subset_bogota1_phase2\n",
    "%store -r subset_bogota1_phase3\n",
    "%store -r overall_phase3_bogota1\n",
    "%store -r overall_phase4_bogota1\n",
    "%store -r overall_phase5_bogota1\n",
    "%store -r subset_bogota1_phase5\n",
    "%store -r subset_bogota1_phase4\n",
    "%store -r subset_bogota2_phase1\n",
    "%store -r subset_bogota2_phase2\n",
    "%store -r subset_bogota2_phase3\n",
    "%store -r overall_phase3_bogota2\n",
    "%store -r overall_phase4_bogota2\n",
    "%store -r overall_phase5_bogota2\n",
    "%store -r subset_bogota2_phase5\n",
    "%store -r subset_bogota3_phase1\n",
    "%store -r overall_phase1_bogota3\n",
    "%store -r overall_phase2_bogota3\n",
    "%store -r subset_bogota3_phase3\n",
    "%store -r overall_phase3_bogota3\n",
    "%store -r overall_phase4_bogota3\n",
    "%store -r overall_phase5_bogota3\n",
    "%store -r subset_bogota2_phase4\n",
    "\n",
    "%store -r overall_phase2_bogota0\n",
    "%store -r overall_phase2_bogota1\n",
    "%store -r overall_phase2_bogota2\n",
    "%store -r overall_phase2_bogota3\n",
    "\n",
    "%store -r overall_phase1_bogota0\n",
    "%store -r overall_phase1_bogota1\n",
    "%store -r overall_phase1_bogota2\n",
    "%store -r overall_phase1_bogota3"
   ]
  },
  {
   "cell_type": "code",
   "execution_count": 2,
   "id": "23174ea0",
   "metadata": {},
   "outputs": [
    {
     "name": "stderr",
     "output_type": "stream",
     "text": [
      "/var/folders/nr/2yp640v56_x34zrd2n5jvfqc0000gn/T/ipykernel_2168/3237658141.py:3: FutureWarning: The frame.append method is deprecated and will be removed from pandas in a future version. Use pandas.concat instead.\n",
      "  overall_12 = overall_phase1.append(overall_phase2, ignore_index=True)\n",
      "/var/folders/nr/2yp640v56_x34zrd2n5jvfqc0000gn/T/ipykernel_2168/3237658141.py:4: FutureWarning: The frame.append method is deprecated and will be removed from pandas in a future version. Use pandas.concat instead.\n",
      "  overall_23 = overall_12.append(overall_phase3, ignore_index=True)\n",
      "/var/folders/nr/2yp640v56_x34zrd2n5jvfqc0000gn/T/ipykernel_2168/3237658141.py:5: FutureWarning: The frame.append method is deprecated and will be removed from pandas in a future version. Use pandas.concat instead.\n",
      "  overall_34 = overall_23.append(overall_phase4, ignore_index=True)\n",
      "/var/folders/nr/2yp640v56_x34zrd2n5jvfqc0000gn/T/ipykernel_2168/3237658141.py:6: FutureWarning: The frame.append method is deprecated and will be removed from pandas in a future version. Use pandas.concat instead.\n",
      "  overall_45 = overall_34.append(overall_phase5, ignore_index=True)\n"
     ]
    },
    {
     "data": {
      "text/plain": [
       "['.ready',\n",
       " '.click',\n",
       " '.mcheck',\n",
       " '.on',\n",
       " '.closest',\n",
       " '.list',\n",
       " '.find',\n",
       " '.form',\n",
       " '.toggleClass',\n",
       " '.val',\n",
       " 'document.getElementById',\n",
       " 'google.maps.Map',\n",
       " '.getJSON',\n",
       " 'test.json',\n",
       " 'bootstrap.min.css',\n",
       " 'theme.min.css',\n",
       " 'jquery.min.js',\n",
       " 'bootstrap.min.js',\n",
       " 'js.js',\n",
       " 'jsondata.js',\n",
       " 'css.css',\n",
       " 'style.css',\n",
       " 'map.js',\n",
       " 'document.getElementById',\n",
       " 'google.maps.Map',\n",
       " 'google.maps.Marker',\n",
       " 'bootstrap.min.css',\n",
       " 'style.css',\n",
       " '.JS',\n",
       " '.js',\n",
       " nan,\n",
       " 'jquery.min.js',\n",
       " '.js',\n",
       " 'Rent.js',\n",
       " 'Crimes.js',\n",
       " 'google.maps.Map',\n",
       " 'document.getElementById',\n",
       " '.ajax',\n",
       " 'data.cityofchicago.org',\n",
       " 'xi.json',\n",
       " '.done',\n",
       " 'data.length',\n",
       " 'google.maps.Marker',\n",
       " 'google.maps.LatLng',\n",
       " '.latitude',\n",
       " '.longitude',\n",
       " '.primary',\n",
       " 'crimeMarker.push',\n",
       " 'crimeMarker.length',\n",
       " '.setMap',\n",
       " 'google.maps.InfoWindow',\n",
       " 'google.maps.event.addListener',\n",
       " 'infowindow.close',\n",
       " 'infowindow.setContent',\n",
       " 'data.primary',\n",
       " 'infowindow.open',\n",
       " 'marker.get',\n",
       " '.innerHTML',\n",
       " 'data.id',\n",
       " 'data.date',\n",
       " 'data.description',\n",
       " 'data.year',\n",
       " 'iimk.json',\n",
       " '.address',\n",
       " 'rentMarker.push',\n",
       " 'rentMarker.length',\n",
       " 'data.property',\n",
       " 'data.address',\n",
       " 'data.zip',\n",
       " 'data.phone',\n",
       " 'data.management',\n",
       " 'js.org',\n",
       " '.v',\n",
       " '.min.js',\n",
       " 'bootstrap.min.css',\n",
       " 'theme.min.css',\n",
       " 'jquery.min.js',\n",
       " 'bootstrap.min.js',\n",
       " 'google.maps.Map',\n",
       " 'document.getElementById',\n",
       " 'google.maps.InfoWindow',\n",
       " 'data.cityofchicago.org',\n",
       " 'rows.json',\n",
       " 'xmlhttp.open',\n",
       " 'xmlhttp.send',\n",
       " 'xmlhttp.onreadystatechange',\n",
       " 'xmlhttp.readyState',\n",
       " 'xmlhttp.status',\n",
       " 'xmlhttp.responseText',\n",
       " 'JSON.parse',\n",
       " 'json.data',\n",
       " '.innerHTML',\n",
       " 'dataLine.push',\n",
       " 'washedData.push',\n",
       " 'washedData.length',\n",
       " 'google.maps.event.addListener',\n",
       " 'google.maps.ElevationService',\n",
       " '.each',\n",
       " 'value.setMap',\n",
       " 'map.getBounds',\n",
       " 'boundBox.getSouthWest',\n",
       " 'boundBox.getNorthEast',\n",
       " 'google.maps.LatLng',\n",
       " 'southWest.lat',\n",
       " 'southWest.lng',\n",
       " 'locations.push',\n",
       " 'elevator.getElevationForLocations',\n",
       " 'google.maps.ElevationStatus.OK',\n",
       " 'google.maps.Marker',\n",
       " 'key.toString',\n",
       " '.slice',\n",
       " 'infowindow.close',\n",
       " 'infowindow.setContent',\n",
       " 'infowindow.open',\n",
       " 'jquery.min.js',\n",
       " 'bootstrap.min.js',\n",
       " 'Map.js',\n",
       " 'style.css',\n",
       " 'jquery.min.js',\n",
       " '.js',\n",
       " 'info.js',\n",
       " 'document.getElementById',\n",
       " 'google.maps.Map',\n",
       " 'data.cityofchicago.org',\n",
       " 'rows.json',\n",
       " 'xmlhttp.open',\n",
       " 'xmlhttp.send',\n",
       " 'xmlhttp.onreadystatechange',\n",
       " 'xmlhttp.readyState',\n",
       " 'xmlhttp.status',\n",
       " 'xmlhttp.responseText',\n",
       " 'JSON.parse',\n",
       " 'dataRental.push',\n",
       " 'json.data',\n",
       " 'wData.push',\n",
       " 'wData.length',\n",
       " 'google.maps.event.addListener',\n",
       " 'google.maps.ElevationService',\n",
       " '.each',\n",
       " 'value.setMap',\n",
       " 'google.maps.LatLng',\n",
       " 'style.css',\n",
       " 'script.js',\n",
       " 'jquery.min.js',\n",
       " 'google.maps.Map',\n",
       " 'document.getElementById',\n",
       " 'google.maps.InfoWindow',\n",
       " 'google.maps.Marker',\n",
       " 'google.maps.Size',\n",
       " 'marker.addListener',\n",
       " 'infowindow.close',\n",
       " 'infowindow.open',\n",
       " 'marker.get',\n",
       " '.ajax',\n",
       " 'data.cityofchicago.org',\n",
       " 'iimk.json',\n",
       " '.done',\n",
       " 'data.length',\n",
       " 'google.maps.LatLng',\n",
       " '.latitude',\n",
       " '.longitude',\n",
       " '.property',\n",
       " '.address',\n",
       " '.phone',\n",
       " 'select.icon',\n",
       " 'select.setMap',\n",
       " 'this.property',\n",
       " 'this.get',\n",
       " 'this.icon',\n",
       " '.innerHTML',\n",
       " 'this.address',\n",
       " 'this.phone',\n",
       " 'this.distance',\n",
       " 'console.log',\n",
       " 'aux.latitude',\n",
       " 'Math.round',\n",
       " 'xi.json',\n",
       " 'aux.longitude',\n",
       " 'map.setCenter',\n",
       " 'map.c',\n",
       " 'document.getElementById',\n",
       " 'google.maps.Map',\n",
       " 'google.maps.Marker',\n",
       " 'document.getElementById',\n",
       " 'google.maps.Map',\n",
       " 'google.maps.Marker',\n",
       " 'PROJECT.HTML',\n",
       " 'lml.jpg',\n",
       " 'google.maps.LatLng',\n",
       " 'google.maps.MapTypeId.ROADMAP',\n",
       " 'google.maps.Map',\n",
       " 'document.getElementById',\n",
       " 'google.maps.Marker',\n",
       " 'google.maps.event.addListener',\n",
       " 'google.maps.event.addDomListener',\n",
       " 'map.setZoom',\n",
       " 'map.setCenter',\n",
       " 'marker.getPosition',\n",
       " 'google.maps.InfoWindow',\n",
       " 'infowindow.open',\n",
       " '.floating',\n",
       " 'document.getElementById',\n",
       " 'google.maps.Map',\n",
       " 'google.maps.Marker',\n",
       " 'document.getElementById',\n",
       " 'google.maps.Map',\n",
       " 'google.maps.Marker',\n",
       " 'google.maps.Map',\n",
       " 'document.getElementById',\n",
       " 'google.maps.MapTypeId.HIBRID',\n",
       " 'google.maps.TrafficLayer',\n",
       " 'map.data.loadGeoJson',\n",
       " 'data.cityofchicago.org',\n",
       " 'xi.geojson',\n",
       " 'map.data.setStyle',\n",
       " 'google.maps.SymbolPath.CIRCLE',\n",
       " 'iimk.geojson',\n",
       " 'google.maps.LatLng',\n",
       " 'google.maps.Marker',\n",
       " 'google.maps.InfoWindow',\n",
       " 'google.maps.event.addListener',\n",
       " 'infowindow.open',\n",
       " 'style.css',\n",
       " 'k.jpg',\n",
       " 'code.js',\n",
       " 'bootstrap.min.css',\n",
       " 'theme.min.css',\n",
       " 'jquery.min.js',\n",
       " 'bootstrap.min.js',\n",
       " 'stylescss.css',\n",
       " '.js',\n",
       " 'js.org',\n",
       " '.v',\n",
       " '.min.js',\n",
       " 'map.js',\n",
       " 'String.prototype.capitalizeFirstLetter',\n",
       " 'this.charAt',\n",
       " '.toUpperCase',\n",
       " 'this.slice',\n",
       " 'google.maps.Map',\n",
       " 'document.getElementById',\n",
       " 'google.maps.InfoWindow',\n",
       " 'data.cityofchicago.org',\n",
       " 'rows.json',\n",
       " 'xmlhttp.open',\n",
       " 'xmlhttp.send',\n",
       " 'bootstrap.min.css',\n",
       " 'theme.min.css',\n",
       " 'jquery.min.js',\n",
       " 'bootstrap.min.js',\n",
       " 'tutorial.css',\n",
       " '.js',\n",
       " 'js.org',\n",
       " '.v',\n",
       " '.min.js',\n",
       " 'RadarChart.js',\n",
       " 'tutorial.js',\n",
       " 'script.js',\n",
       " '.navbar',\n",
       " '.container',\n",
       " 'sites.jpg',\n",
       " 'social.jpg',\n",
       " 'api.openweathermap.org',\n",
       " 'xmlhttp.open',\n",
       " 'xmlhttp.send',\n",
       " 'xmlhttp.onreadystatechange',\n",
       " 'xmlhttp.readyState',\n",
       " 'xmlhttp.status',\n",
       " 'xmlhttp.responseText',\n",
       " 'JSON.parse',\n",
       " '.coord.lon',\n",
       " 'document.getElementById',\n",
       " '.innerHTML',\n",
       " 'json.weather',\n",
       " '.main',\n",
       " '.select',\n",
       " '.selectAll',\n",
       " '.append',\n",
       " '.attr',\n",
       " 'cfg.w',\n",
       " 'cfg.h',\n",
       " '.scale.category',\n",
       " 'svg.append',\n",
       " '.text',\n",
       " 'title.selectAll',\n",
       " '.data',\n",
       " '.enter',\n",
       " '.style',\n",
       " 'arr.length',\n",
       " '.url',\n",
       " '.display',\n",
       " '.resize',\n",
       " '.height',\n",
       " '.css',\n",
       " 'String.prototype.capitalizeFirstLetter',\n",
       " 'this.charAt',\n",
       " '.toUpperCase',\n",
       " 'this.slice',\n",
       " 'google.maps.Map',\n",
       " 'google.maps.InfoWindow',\n",
       " 'data.cityofchicago.org',\n",
       " 'rows.json',\n",
       " 'json.data',\n",
       " 'dataLine.push',\n",
       " 'washedData.push',\n",
       " 'washedData.length',\n",
       " 'google.maps.event.addListener',\n",
       " 'google.maps.ElevationService',\n",
       " '.each',\n",
       " 'value.setMap',\n",
       " 'map.getBounds',\n",
       " 'boundBox.getSouthWest',\n",
       " 'boundBox.getNorthEast',\n",
       " 'northEast.lng',\n",
       " 'southWest.lng',\n",
       " 'northEast.lat',\n",
       " 'southWest.lat',\n",
       " 'google.maps.LatLng',\n",
       " 'Math.random',\n",
       " 'locations.push',\n",
       " 'elevator.getElevationForLocations',\n",
       " 'google.maps.ElevationStatus.OK',\n",
       " 'google.maps.Marker',\n",
       " 'key.toString',\n",
       " '.slice',\n",
       " 'infowindow.close',\n",
       " 'infowindow.setContent',\n",
       " 'infowindow.open',\n",
       " '.capitalizeFirstLetter',\n",
       " 'RadarChart.draw',\n",
       " 'str.indexOf',\n",
       " 'd.getDay',\n",
       " 'Math.PI',\n",
       " 'cfg.maxValue',\n",
       " 'Math.max',\n",
       " '.max',\n",
       " 'i.map',\n",
       " 'o.value',\n",
       " '.map',\n",
       " 'i.axis',\n",
       " 'allAxis.length',\n",
       " 'cfg.factor',\n",
       " 'Math.min',\n",
       " '.format',\n",
       " '.remove',\n",
       " 'cfg.ExtraWidthX',\n",
       " 'cfg.ExtraWidthY',\n",
       " 'cfg.TranslateX',\n",
       " 'cfg.TranslateY',\n",
       " 'cfg.levels',\n",
       " 'g.selectAll',\n",
       " '.levels',\n",
       " 'Math.sin',\n",
       " 'cfg.radians',\n",
       " 'Math.cos',\n",
       " 'cfg.ToRight',\n",
       " '.axis',\n",
       " 'axis.append',\n",
       " 'cfg.factortitle',\n",
       " 'd.forEach',\n",
       " '.nodes',\n",
       " 'dataValues.push',\n",
       " 'j.value',\n",
       " '.area',\n",
       " 'cfg.color',\n",
       " 'd.length',\n",
       " 'cfg.opacityArea',\n",
       " '.on',\n",
       " '.transition',\n",
       " 'cfg.radius',\n",
       " 'j.axis',\n",
       " 'd.value',\n",
       " 'g.append',\n",
       " 'demos.css',\n",
       " 'bootstrap.min.css',\n",
       " 'style.css',\n",
       " 'map.gif',\n",
       " 'UI.jpg',\n",
       " '.jpg',\n",
       " 'map.js',\n",
       " 'jquery.min.js',\n",
       " 'bootstrap.min.js',\n",
       " 'google.maps.Map',\n",
       " 'document.getElementById',\n",
       " 'map.setOptions',\n",
       " 'labels.text.fill',\n",
       " 'labels.text.stroke',\n",
       " 'geometry.stroke',\n",
       " 'administrative.land',\n",
       " 'landscape.natural',\n",
       " 'poi.park',\n",
       " 'geometry.fill',\n",
       " 'road.arterial',\n",
       " 'road.highway',\n",
       " 'road.highway.controlled',\n",
       " 'road.local',\n",
       " 'transit.line',\n",
       " 'transit.station',\n",
       " 'application.js',\n",
       " 'this.App',\n",
       " 'App.cable',\n",
       " 'ActionCable.createConsumer',\n",
       " '.call',\n",
       " '.js',\n",
       " '.css',\n",
       " 'div.dialog',\n",
       " 'styles.css',\n",
       " 'script.js',\n",
       " 'js.org',\n",
       " '.v',\n",
       " '.min.js',\n",
       " 'document.getElementById',\n",
       " '.style.width',\n",
       " 'google.maps.Map',\n",
       " 'google.maps.Size',\n",
       " 'google.maps.Point',\n",
       " 'beaches.length',\n",
       " 'google.maps.Marker',\n",
       " 'bootstrap.min.css',\n",
       " 'main.css',\n",
       " '.org',\n",
       " '.js',\n",
       " 'map.js',\n",
       " 'google.maps.event.addDomListener',\n",
       " 'google.maps.LatLng',\n",
       " 'labels.text.fill',\n",
       " 'labels.text.stroke',\n",
       " 'labels.icon',\n",
       " 'geometry.fill',\n",
       " 'geometry.stroke',\n",
       " 'road.highway',\n",
       " 'road.arterial',\n",
       " 'road.local',\n",
       " 'document.getElementById',\n",
       " 'google.maps.Map',\n",
       " 'google.maps.Marker',\n",
       " 'document.getElementById',\n",
       " 'google.maps.Map',\n",
       " 'google.maps.Marker',\n",
       " 'bootstrap.min.css',\n",
       " 'style.css',\n",
       " 'script.js',\n",
       " '.container',\n",
       " nan,\n",
       " 'jquery.min.js',\n",
       " 'styles.css',\n",
       " 'init.js',\n",
       " '.container',\n",
       " 'listener.js',\n",
       " 'document.getElementById',\n",
       " '.innerHTML',\n",
       " 'console.log',\n",
       " 'inpObj.checkValidity',\n",
       " 'inpObj.validationMessage',\n",
       " 'google.maps.Map',\n",
       " 'google.maps.Marker',\n",
       " 'data.cityofchicago.org',\n",
       " 'rows.json',\n",
       " 'xmlhttp.open',\n",
       " 'xmlhttp.send',\n",
       " 'xmlhttp.onreadystatechange',\n",
       " 'xmlhttp.readyState',\n",
       " 'xmlhttp.status',\n",
       " 'xmlhttp.responseText',\n",
       " 'JSON.parse',\n",
       " '.push',\n",
       " 'info.data',\n",
       " 'check.checked',\n",
       " '.length',\n",
       " '.setMap',\n",
       " 'document.addEventListener',\n",
       " 'document.querySelector',\n",
       " '.addEventListener',\n",
       " 'document.getElementsByClassName',\n",
       " 'x.length',\n",
       " '.style.display',\n",
       " 'bootstrap.min.css',\n",
       " '.css',\n",
       " 'CSS.css',\n",
       " 'jquery.min.js',\n",
       " 'bootstrap.min.js',\n",
       " 'Javascript.js',\n",
       " '.container',\n",
       " '.person',\n",
       " '.carousel',\n",
       " '.bg',\n",
       " '.list',\n",
       " '.thumbnail',\n",
       " '.btn',\n",
       " '.modal',\n",
       " '.close',\n",
       " '.nav',\n",
       " '.navbar',\n",
       " 'li.active',\n",
       " '.open',\n",
       " '.dropdown',\n",
       " '.form',\n",
       " 'document.getElementById',\n",
       " 'google.maps.Map',\n",
       " 'google.maps.Marker',\n",
       " '.jpg',\n",
       " 'unal.edu.co',\n",
       " '.ready',\n",
       " '.tooltip',\n",
       " '.on',\n",
       " 'this.hash',\n",
       " 'event.preventDefault',\n",
       " '.animate',\n",
       " '.offset',\n",
       " '.top',\n",
       " 'window.location.hash',\n",
       " 'awesome.min.css',\n",
       " 'illinois.edu',\n",
       " 'favicon.ico',\n",
       " 'bootstrap.min.css',\n",
       " 'awesome.min.css',\n",
       " 'theme.min.css',\n",
       " 'jquery.min.js',\n",
       " 'bootstrap.min.js',\n",
       " 'style.css',\n",
       " '.js',\n",
       " 'js.org',\n",
       " '.v',\n",
       " '.min.js',\n",
       " 'main.js',\n",
       " 'document.getElementById',\n",
       " 'google.maps.Map',\n",
       " 'google.maps.LatLng',\n",
       " 'google.maps.Marker',\n",
       " 'document.getElementById',\n",
       " 'google.maps.Map',\n",
       " 'google.maps.Marker',\n",
       " 'google.maps.Map',\n",
       " 'document.getElementById',\n",
       " 'google.maps.Marker',\n",
       " 'styles.css',\n",
       " 'scripts.js',\n",
       " 'integration.js',\n",
       " 'google.maps.Map',\n",
       " 'document.getElementById',\n",
       " 'google.maps.Marker',\n",
       " 'bootstrap.min.css',\n",
       " 'theme.min.css',\n",
       " 'jquery.min.js',\n",
       " 'bootstrap.min.js',\n",
       " 'tutorial.css',\n",
       " '.js',\n",
       " 'js.org',\n",
       " '.v',\n",
       " '.min.js',\n",
       " 'materialize.min.css',\n",
       " 'materialize.min.js',\n",
       " '.min.js',\n",
       " '.ajax',\n",
       " 'data.cityofchicago.org',\n",
       " 'rows.json',\n",
       " '.done',\n",
       " 'console.log',\n",
       " 'msg.data',\n",
       " 'rents.length',\n",
       " 'google.maps.LatLng',\n",
       " 'google.maps.Marker',\n",
       " 'google.maps.Animation.DROP',\n",
       " 'marker.addListener',\n",
       " 'marker.getAnimation',\n",
       " 'marker.setAnimation',\n",
       " 'google.maps.Animation.BOUNCE',\n",
       " 'markerArray.length',\n",
       " 'document.getElementById',\n",
       " 'google.maps.Map',\n",
       " '.ready',\n",
       " 'google.maps.LatLng',\n",
       " 'google.maps.Map',\n",
       " 'document.getElementById',\n",
       " 'google.maps.event.addDomListener',\n",
       " 'map.getCenter',\n",
       " 'google.maps.event.trigger',\n",
       " 'map.setCenter',\n",
       " 'google.maps.Size',\n",
       " 'google.maps.Marker',\n",
       " 'String.prototype.capitalizeFirstLetter',\n",
       " 'this.charAt',\n",
       " '.toUpperCase',\n",
       " 'this.slice',\n",
       " 'google.maps.InfoWindow',\n",
       " 'data.cityofchicago.org',\n",
       " 'rows.json',\n",
       " 'xmlhttp.open',\n",
       " 'xmlhttp.send',\n",
       " 'xmlhttp.onreadystatechange',\n",
       " 'xmlhttp.readyState',\n",
       " 'xmlhttp.status',\n",
       " 'xmlhttp.responseText',\n",
       " 'JSON.parse',\n",
       " 'json.data.length',\n",
       " 'dataLine.push',\n",
       " 'json.data',\n",
       " 'washedData.push',\n",
       " 'washedData.length',\n",
       " 'console.log',\n",
       " '.toFixed',\n",
       " 'bootstrap.css',\n",
       " 'style.css',\n",
       " 'jquery.min.js',\n",
       " 'code.js',\n",
       " 'style.css',\n",
       " 'bootstrap.min.css',\n",
       " 'jquery.js',\n",
       " 'bootstrap.js',\n",
       " 'globalVariables.js',\n",
       " 'mapController.js',\n",
       " 'popUpController.js',\n",
       " 'markerController.js',\n",
       " 'openWeaterController.js',\n",
       " 'rentServicesController.js',\n",
       " 'xmlhttp.open',\n",
       " 'xmlhttp.send',\n",
       " 'xmlhttp.onreadystatechange',\n",
       " 'xmlhttp.readyState',\n",
       " 'xmlhttp.status',\n",
       " 'xmlhttp.responseText',\n",
       " 'JSON.parse',\n",
       " '.each',\n",
       " 'json.data',\n",
       " 'info.position',\n",
       " 'pinUser.position',\n",
       " 'pinHouse.title',\n",
       " 'info.uuid',\n",
       " 'pinHouse.position',\n",
       " '.marker',\n",
       " 'api.openweathermap.org',\n",
       " 'data.cityofchicago.org',\n",
       " 'rows.json',\n",
       " '.fadeIn',\n",
       " '.fadeOut',\n",
       " '.offset',\n",
       " 'position.y',\n",
       " 'position.x',\n",
       " '.css',\n",
       " '.contextmenu',\n",
       " 'google.maps.Map',\n",
       " 'document.getElementById',\n",
       " 'google.maps.StreetViewPanorama',\n",
       " 'google.maps.MapTypeControlStyle.DROPDOWN',\n",
       " 'google.maps.MapTypeId.ROADMAP',\n",
       " 'google.maps.MapTypeId.TERRAIN',\n",
       " 'map.setCenter',\n",
       " 'map.addListener',\n",
       " 'event.pixel',\n",
       " 'navigator.geolocation',\n",
       " 'navigator.geolocation.getCurrentPosition',\n",
       " 'positionCenter.lat',\n",
       " 'position.coords.latitude',\n",
       " 'positionCenter.lng',\n",
       " 'position.coords.longitude',\n",
       " 'panorama.setPov',\n",
       " 'panorama.setPosition',\n",
       " 'marker.getPosition',\n",
       " 'marker.title',\n",
       " 'panorama.addListener',\n",
       " 'userMarker.setPosition',\n",
       " 'this.getPosition',\n",
       " 'panorama.setVisible',\n",
       " 'marker.icon',\n",
       " 'pinUser.img',\n",
       " 'marker.setAnimation',\n",
       " 'google.maps.Animation.BOUNCE',\n",
       " 'map.panTo',\n",
       " 'userMarker.getPosition',\n",
       " 'google.maps.Marker',\n",
       " 'pinToSet.position',\n",
       " 'pinToSet.img',\n",
       " 'pinToSet.draggable',\n",
       " 'pinToSet.title',\n",
       " 'marker.setVisible',\n",
       " 'window.setTimeout',\n",
       " 'google.maps.Animation.DROP',\n",
       " '.width',\n",
       " '.height',\n",
       " 'Math.pow',\n",
       " 'map.getZoom',\n",
       " 'map.getProjection',\n",
       " 'map.getBounds',\n",
       " 'proj.fromLatLngToPoint',\n",
       " 'google.maps.LatLng',\n",
       " 'bounds.getNorthEast',\n",
       " '.lat',\n",
       " 'bounds.getSouthWest',\n",
       " '.lng',\n",
       " 'google.maps.Point',\n",
       " 'point.x',\n",
       " 'pixel.x',\n",
       " 'nw.x',\n",
       " 'point.y',\n",
       " 'pixel.y',\n",
       " 'nw.y',\n",
       " 'proj.fromPointToLatLng',\n",
       " '.getNorthEast',\n",
       " '.getSouthWest',\n",
       " '.fromLatLngToPoint',\n",
       " 'Math.floor',\n",
       " 'worldCoordinate.x',\n",
       " 'worldCoordinateNW.x',\n",
       " 'worldCoordinate.y',\n",
       " 'worldCoordinateNW.y',\n",
       " 'Math.sqrt',\n",
       " '.position',\n",
       " 'userPin.position',\n",
       " 'marker.addListener',\n",
       " 'marker.position',\n",
       " 'pixels.x',\n",
       " 'pixels.y',\n",
       " '.house',\n",
       " '.text',\n",
       " 'houseRent.propertyName',\n",
       " 'houseRent.propertyType',\n",
       " 'houseRent.address',\n",
       " 'houseRent.phoneNumber',\n",
       " 'houseRent.units',\n",
       " 'pinHouse.img',\n",
       " 'pinHouse.imgMin',\n",
       " 'bootstrap.min.css',\n",
       " 'theme.min.css',\n",
       " 'jquery.min.js',\n",
       " 'bootstrap.min.js',\n",
       " 'style.css',\n",
       " '.js',\n",
       " 'js.org',\n",
       " '.v',\n",
       " '.min.js',\n",
       " 'RadarChart.js',\n",
       " 'script.js',\n",
       " 'String.prototype.capitalizeFirstLetter',\n",
       " 'this.charAt',\n",
       " '.toUpperCase',\n",
       " 'this.slice',\n",
       " 'google.maps.Map',\n",
       " 'document.getElementById',\n",
       " 'google.maps.MarkerImage',\n",
       " 'google.maps.Size',\n",
       " 'google.maps.Point',\n",
       " 'google.maps.Marker',\n",
       " 'google.maps.InfoWindow',\n",
       " 'data.cityofchicago.org',\n",
       " 'rows.json',\n",
       " 'xmlhttp.open',\n",
       " 'xmlhttp.send',\n",
       " 'xmlhttp.onreadystatechange',\n",
       " 'xmlhttp.readyState',\n",
       " 'xmlhttp.status',\n",
       " 'xmlhttp.responseText',\n",
       " 'JSON.parse',\n",
       " 'json.data',\n",
       " '.innerHTML',\n",
       " 'json.data.length',\n",
       " 'dataLine.push',\n",
       " 'washedData.push',\n",
       " 'washedData.length',\n",
       " 'google.maps.event.addListener',\n",
       " 'google.maps.ElevationService',\n",
       " '.each',\n",
       " 'value.setMap',\n",
       " 'map.getBounds',\n",
       " 'boundBox.getSouthWest',\n",
       " 'boundBox.getNorthEast',\n",
       " 'northEast.lng',\n",
       " 'southWest.lng',\n",
       " 'northEast.lat',\n",
       " 'southWest.lat',\n",
       " 'google.maps.LatLng',\n",
       " 'Math.random',\n",
       " 'locations.push',\n",
       " 'elevator.getElevationForLocations',\n",
       " 'google.maps.ElevationStatus.OK',\n",
       " 'key.toString',\n",
       " '.slice',\n",
       " 'infowindow.close',\n",
       " 'infowindow.setContent',\n",
       " 'infowindow.open',\n",
       " 'RadarChart.draw',\n",
       " 'arr.length',\n",
       " '.url',\n",
       " '.display',\n",
       " 'Math.PI',\n",
       " '.scale.category',\n",
       " 'cfg.maxValue',\n",
       " 'Math.max',\n",
       " '.max',\n",
       " 'i.map',\n",
       " 'o.value',\n",
       " '.map',\n",
       " 'i.axis',\n",
       " 'allAxis.length',\n",
       " 'cfg.factor',\n",
       " 'Math.min',\n",
       " 'cfg.w',\n",
       " 'cfg.h',\n",
       " '.format',\n",
       " '.select',\n",
       " '.remove',\n",
       " '.append',\n",
       " '.attr',\n",
       " 'cfg.ExtraWidthX',\n",
       " 'cfg.ExtraWidthY',\n",
       " 'cfg.TranslateX',\n",
       " 'cfg.TranslateY',\n",
       " 'cfg.levels',\n",
       " 'g.selectAll',\n",
       " '.levels',\n",
       " '.data',\n",
       " '.enter',\n",
       " 'Math.sin',\n",
       " 'cfg.radians',\n",
       " 'Math.cos',\n",
       " '.style',\n",
       " 'cfg.ToRight',\n",
       " '.text',\n",
       " '.axis',\n",
       " 'axis.append',\n",
       " 'cfg.factortitle',\n",
       " 'd.forEach',\n",
       " '.nodes',\n",
       " 'dataValues.push',\n",
       " 'j.value',\n",
       " '.area',\n",
       " 'cfg.color',\n",
       " 'd.length',\n",
       " 'cfg.opacityArea',\n",
       " '.on',\n",
       " '.transition',\n",
       " 'cfg.radius',\n",
       " 'j.axis',\n",
       " 'd.value',\n",
       " 'g.append',\n",
       " 'style.css',\n",
       " 'scripts.js',\n",
       " 'document.getElementById',\n",
       " 'google.maps.Map',\n",
       " 'google.maps.Marker',\n",
       " 'awesome.min.css',\n",
       " 'bootstrap.min.css',\n",
       " 'style.css',\n",
       " 'favicon.ico',\n",
       " '.navbar',\n",
       " 'jquery.min.js',\n",
       " 'jquery.easing.min.js',\n",
       " 'bootstrap.min.js',\n",
       " 'custom.js',\n",
       " 'data.js',\n",
       " 'map.js',\n",
       " '.ready',\n",
       " '.click',\n",
       " '.ajax',\n",
       " '.done',\n",
       " '.text',\n",
       " 'data.name',\n",
       " 'console.log',\n",
       " '.fail',\n",
       " 'data.cityofchicago.org',\n",
       " 'a.btn',\n",
       " '.quick',\n",
       " '.overlay',\n",
       " '.on',\n",
       " 'event.preventDefault',\n",
       " 'this.hash',\n",
       " '.animate',\n",
       " '.offset',\n",
       " '.top',\n",
       " 'window.location.hash',\n",
       " '.scroll',\n",
       " '.addClass',\n",
       " '.removeClass',\n",
       " 'google.maps.Map',\n",
       " 'document.getElementById',\n",
       " 'google.maps.Marker',\n",
       " 'google.maps.InfoWindow',\n",
       " 'google.maps.event.addListener',\n",
       " 'infowindow.setContent',\n",
       " 'infowindow.open',\n",
       " 'initialMarker.setAnimation',\n",
       " 'google.maps.Animation.BOUNCE',\n",
       " 'initialMarker.addListener',\n",
       " 'initialMarker.getAnimation',\n",
       " 'rows.json',\n",
       " 'xmlhttp.open',\n",
       " 'xmlhttp.send',\n",
       " 'xmlhttp.onreadystatechange',\n",
       " 'xmlhttp.readyState',\n",
       " 'xmlhttp.status',\n",
       " 'xmlhttp.responseText',\n",
       " 'JSON.parse',\n",
       " 'json.data.length',\n",
       " 'json.data',\n",
       " 'google.maps.LatLng',\n",
       " 'google.maps.TravelMode.WALKING',\n",
       " 'google.maps.DistanceMatrixService',\n",
       " 'service.getDistanceMatrix',\n",
       " 'google.maps.UnitSystem.METRIC',\n",
       " 'google.maps.DistanceMatrixStatus.OK',\n",
       " 'response.originAddresses',\n",
       " 'response.destinationAddresses',\n",
       " 'origins.length',\n",
       " 'response.rows',\n",
       " '.elements',\n",
       " 'results.length',\n",
       " 'element.distance.text',\n",
       " 'element.duration.text',\n",
       " 'gl.js',\n",
       " '.min.js',\n",
       " 'js.org',\n",
       " '.v',\n",
       " 'gl.css',\n",
       " 'awesome.min.css',\n",
       " 'menu.css',\n",
       " 'main.css',\n",
       " 'mapboxgl.accessToken',\n",
       " 'pk.eyJ',\n",
       " '.gbHmrqcN',\n",
       " 'HelloWorldControl.prototype.onAdd',\n",
       " 'button.children',\n",
       " '.click',\n",
       " 'layerMenu.animate',\n",
       " 'layerMenu.children',\n",
       " 'map.setStyle',\n",
       " 'this.id',\n",
       " 'container.appendChild',\n",
       " 'HelloWorldControl.prototype.onRemove',\n",
       " 'container.parentNode.removeChild',\n",
       " 'mapboxgl.Map',\n",
       " 'map.addControl',\n",
       " 'mapboxgl.NavigationControl',\n",
       " 'mapboxgl.Popup',\n",
       " '.setText',\n",
       " 'document.createElement',\n",
       " 'flag.id',\n",
       " 'mapboxgl.Marker',\n",
       " '.setLngLat',\n",
       " '.setPopup',\n",
       " '.addTo',\n",
       " '.json',\n",
       " 'data.cityofchicago.org',\n",
       " 'iimk.json',\n",
       " 'data.length',\n",
       " '.setHTML',\n",
       " '.address',\n",
       " '.property',\n",
       " '.phone',\n",
       " '.zip',\n",
       " 'point.className',\n",
       " '.longitude',\n",
       " '.latitude',\n",
       " 'body.css',\n",
       " 'google.maps.Map',\n",
       " 'document.getElementById',\n",
       " 'google.maps.LatLng',\n",
       " 'google.maps.Marker',\n",
       " 'document.createElement',\n",
       " 'script.src',\n",
       " 'GeoJSONP.js',\n",
       " 'document.getElementsByTagName',\n",
       " '.appendChild',\n",
       " 'google.maps.TrafficLayer',\n",
       " 'trafficLayer.setMap',\n",
       " '.CSS',\n",
       " '.css',\n",
       " 'awesome.min.css',\n",
       " '.mySlides',\n",
       " 'page.php',\n",
       " 'document.getElementById',\n",
       " '.style.display',\n",
       " '.jpg',\n",
       " 'default.asp',\n",
       " 'google.maps.LatLng',\n",
       " 'google.maps.MapTypeId.ROADMAP',\n",
       " 'google.maps.Map',\n",
       " 'google.maps.Marker',\n",
       " 'marker.setMap',\n",
       " 'bootstrap.min.css',\n",
       " 'map.js',\n",
       " 'jquery.min.js',\n",
       " 'bootstrap.min.js',\n",
       " 'document.getElementById',\n",
       " 'google.maps.Map',\n",
       " 'map.data.loadGeoJson',\n",
       " 'unsimplified.geojson',\n",
       " 'google.maps.Marker',\n",
       " 'google.maps.event.addListener',\n",
       " 'event.latLng',\n",
       " 'api.openweathermap.org',\n",
       " 'location.lat',\n",
       " 'location.lng',\n",
       " 'xmlhttp.open',\n",
       " 'xmlhttp.send',\n",
       " 'xmlhttp.onreadystatechange',\n",
       " 'xmlhttp.readyState',\n",
       " 'xmlhttp.status',\n",
       " 'xmlhttp.responseText',\n",
       " 'JSON.parse',\n",
       " '.coord.lon',\n",
       " '.innerHTML',\n",
       " ...]"
      ]
     },
     "execution_count": 2,
     "metadata": {},
     "output_type": "execute_result"
    }
   ],
   "source": [
    "## List the 20,000 least common functions in a counter\n",
    "\n",
    "overall_12 = overall_phase1.append(overall_phase2, ignore_index=True)\n",
    "overall_23 = overall_12.append(overall_phase3, ignore_index=True)\n",
    "overall_34 = overall_23.append(overall_phase4, ignore_index=True)\n",
    "overall_45 = overall_34.append(overall_phase5, ignore_index=True)\n",
    "new_list = overall_45['functions'].explode().to_list()\n",
    "new_list = list(filter(None, new_list))\n",
    "new_list"
   ]
  },
  {
   "cell_type": "code",
   "execution_count": 3,
   "id": "6dc3909a",
   "metadata": {},
   "outputs": [
    {
     "ename": "TypeError",
     "evalue": "sequence item 0: expected str instance, list found",
     "output_type": "error",
     "traceback": [
      "\u001b[0;31m---------------------------------------------------------------------------\u001b[0m",
      "\u001b[0;31mTypeError\u001b[0m                                 Traceback (most recent call last)",
      "Input \u001b[0;32mIn [3]\u001b[0m, in \u001b[0;36m<cell line: 4>\u001b[0;34m()\u001b[0m\n\u001b[1;32m      2\u001b[0m overall_45\u001b[38;5;241m.\u001b[39mdropna(subset\u001b[38;5;241m=\u001b[39m[\u001b[38;5;124m'\u001b[39m\u001b[38;5;124mfunctions\u001b[39m\u001b[38;5;124m'\u001b[39m], inplace\u001b[38;5;241m=\u001b[39m\u001b[38;5;28;01mTrue\u001b[39;00m)\n\u001b[1;32m      3\u001b[0m overall_45_functions \u001b[38;5;241m=\u001b[39m overall_45[\u001b[38;5;124m'\u001b[39m\u001b[38;5;124mfunctions\u001b[39m\u001b[38;5;124m'\u001b[39m]\u001b[38;5;241m.\u001b[39mto_list()\n\u001b[0;32m----> 4\u001b[0m string \u001b[38;5;241m=\u001b[39m \u001b[38;5;124;43m\"\u001b[39;49m\u001b[38;5;124;43m \u001b[39;49m\u001b[38;5;124;43m\"\u001b[39;49m\u001b[38;5;241;43m.\u001b[39;49m\u001b[43mjoin\u001b[49m\u001b[43m(\u001b[49m\u001b[43moverall_45_functions\u001b[49m\u001b[43m)\u001b[49m\n\u001b[1;32m      5\u001b[0m x \u001b[38;5;241m=\u001b[39m string\u001b[38;5;241m.\u001b[39msplit(\u001b[38;5;124m\"\u001b[39m\u001b[38;5;124m,\u001b[39m\u001b[38;5;124m\"\u001b[39m)\n\u001b[1;32m      6\u001b[0m out \u001b[38;5;241m=\u001b[39m collections\u001b[38;5;241m.\u001b[39mCounter(x)\n",
      "\u001b[0;31mTypeError\u001b[0m: sequence item 0: expected str instance, list found"
     ]
    }
   ],
   "source": [
    "overall_45['functions'].replace('', np.nan, inplace=True)\n",
    "overall_45.dropna(subset=['functions'], inplace=True)\n",
    "overall_45_functions = overall_45['functions'].to_list()\n",
    "string = \" \".join(overall_45_functions)\n",
    "x = string.split(\",\")\n",
    "out = collections.Counter(x)\n",
    "list_functions = out.most_common()[:-20000-2:-1]\n",
    "new_list = []\n",
    "for x in range(0,len(list_functions)):\n",
    "    new_list.append(list_functions[x][0])\n",
    "new_list = list(filter(None, new_list))\n",
    "len(new_list)"
   ]
  },
  {
   "cell_type": "markdown",
   "id": "c7036e92",
   "metadata": {},
   "source": [
    "## Functions Count for Group 0"
   ]
  },
  {
   "cell_type": "code",
   "execution_count": null,
   "id": "c9fac870",
   "metadata": {},
   "outputs": [],
   "source": [
    "import seaborn as sns\n",
    "overall_45_group0 = overall_45.loc[overall_45['Group'] == 0]\n",
    "overall_45_group0['functions'].replace('', np.nan, inplace=True)\n",
    "overall_45_group0.dropna(subset=['functions'], inplace=True)\n",
    "overall_45_functions = overall_45_group0['functions'].to_list()\n",
    "string = \" \".join(overall_45_functions)\n",
    "x = string.split(\",\")\n",
    "out1 = collections.Counter(x)\n",
    "df = pd.DataFrame(list(out1.items()))\n",
    "df = df.rename(columns={0:'Functions', 1:'Count'})\n",
    "df = df[df['Functions'] != '']\n",
    "df.sort_values(by='Count', ascending=False, inplace=True)\n",
    "df_group0 = df.reset_index(drop=True)\n",
    "df_group0"
   ]
  },
  {
   "cell_type": "code",
   "execution_count": null,
   "id": "a1f543c2",
   "metadata": {},
   "outputs": [],
   "source": [
    "# Get the Frequency at each Quantiles for Bogota 0 - No Transparency\n",
    "\n",
    "for i in np.arange(0, 1, 0.05):\n",
    "    print(\"Quantile: %.2f\" %i, \"Freq: \", df_group0['Count'].quantile(i))"
   ]
  },
  {
   "cell_type": "code",
   "execution_count": null,
   "id": "367be238",
   "metadata": {},
   "outputs": [],
   "source": [
    "# Distribution Plot for frequency of each functions in the no tranparency group\n",
    "\n",
    "df_group0['Count'].plot()"
   ]
  },
  {
   "cell_type": "markdown",
   "id": "67202083",
   "metadata": {},
   "source": [
    "## Functions Count for Group 1"
   ]
  },
  {
   "cell_type": "code",
   "execution_count": null,
   "id": "ff0000b5",
   "metadata": {},
   "outputs": [],
   "source": [
    "import seaborn as sns\n",
    "overall_45_group1 = overall_45.loc[overall_45['Group'] == 1]\n",
    "overall_45_group1['functions'].replace('', np.nan, inplace=True)\n",
    "overall_45_group1.dropna(subset=['functions'], inplace=True)\n",
    "overall_45_functions = overall_45_group1['functions'].to_list()\n",
    "string = \" \".join(overall_45_functions)\n",
    "x = string.split(\",\")\n",
    "out1 = collections.Counter(x)\n",
    "df = pd.DataFrame(list(out1.items()))\n",
    "df = df.rename(columns={0:'Functions', 1:'Count'})\n",
    "df = df[df['Functions'] != '']\n",
    "df.sort_values(by='Count', ascending=False, inplace=True)\n",
    "df_group1 = df.reset_index(drop=True)\n",
    "df_group1"
   ]
  },
  {
   "cell_type": "code",
   "execution_count": null,
   "id": "31f11437",
   "metadata": {},
   "outputs": [],
   "source": [
    "# Get the Frequency at each Quantiles for Bogota 1 - Performance Transparency\n",
    "\n",
    "for i in np.arange(0, 1, 0.05):\n",
    "    print(\"Quantile: %.2f\" %i, \"Freq: \", df_group1['Count'].quantile(i))"
   ]
  },
  {
   "cell_type": "code",
   "execution_count": null,
   "id": "a894535e",
   "metadata": {},
   "outputs": [],
   "source": [
    "# Distribution Plot for frequency of each functions in the performance tranparency group\n",
    "\n",
    "df_group1['Count'].plot()"
   ]
  },
  {
   "cell_type": "markdown",
   "id": "095b1ec9",
   "metadata": {},
   "source": [
    "## Functions Count for Group 2"
   ]
  },
  {
   "cell_type": "code",
   "execution_count": null,
   "id": "da4dd873",
   "metadata": {},
   "outputs": [],
   "source": [
    "import seaborn as sns\n",
    "overall_45_group2 = overall_45.loc[overall_45['Group'] == 2]\n",
    "overall_45_group2['functions'].replace('', np.nan, inplace=True)\n",
    "overall_45_group2.dropna(subset=['functions'], inplace=True)\n",
    "overall_45_functions = overall_45_group2['functions'].to_list()\n",
    "string = \" \".join(overall_45_functions)\n",
    "x = string.split(\",\")\n",
    "out1 = collections.Counter(x)\n",
    "df = pd.DataFrame(list(out1.items()))\n",
    "df = df.rename(columns={0:'Functions', 1:'Count'})\n",
    "df = df[df['Functions'] != '']\n",
    "df.sort_values(by='Count', ascending=False, inplace=True)\n",
    "df_group2 = df.reset_index(drop=True)\n",
    "df_group2"
   ]
  },
  {
   "cell_type": "code",
   "execution_count": null,
   "id": "1a1c8cbc",
   "metadata": {},
   "outputs": [],
   "source": [
    "# Get the Frequency at each Quantiles for Bogota 2 - Solution Transparency\n",
    "\n",
    "for i in np.arange(0, 1, 0.05):\n",
    "    print(\"Quantile: %.2f\" %i, \"Freq: \", df_group2['Count'].quantile(i))"
   ]
  },
  {
   "cell_type": "code",
   "execution_count": null,
   "id": "2d57d533",
   "metadata": {},
   "outputs": [],
   "source": [
    "# Distribution Plot for frequency of each functions in the solution tranparency group\n",
    "\n",
    "df_group2['Count'].plot()"
   ]
  },
  {
   "cell_type": "markdown",
   "id": "5ed94687",
   "metadata": {},
   "source": [
    "## Functions Count for Group 3"
   ]
  },
  {
   "cell_type": "code",
   "execution_count": null,
   "id": "3f05e59c",
   "metadata": {},
   "outputs": [],
   "source": [
    "import seaborn as sns\n",
    "overall_45_group3 = overall_45.loc[overall_45['Group'] == 3]\n",
    "overall_45_group3['functions'].replace('', np.nan, inplace=True)\n",
    "overall_45_group3.dropna(subset=['functions'], inplace=True)\n",
    "overall_45_functions = overall_45_group3['functions'].to_list()\n",
    "string = \" \".join(overall_45_functions)\n",
    "x = string.split(\",\")\n",
    "out1 = collections.Counter(x)\n",
    "df = pd.DataFrame(list(out1.items()))\n",
    "df = df.rename(columns={0:'Functions', 1:'Count'})\n",
    "df = df[df['Functions'] != '']\n",
    "df.sort_values(by='Count', ascending=False, inplace=True)\n",
    "df_group3 = df.reset_index(drop=True)\n",
    "df_group3"
   ]
  },
  {
   "cell_type": "code",
   "execution_count": null,
   "id": "596a93f7",
   "metadata": {},
   "outputs": [],
   "source": [
    "# Get the Frequency at each Quantiles for Bogota 3 - Full Transparency\n",
    "\n",
    "for i in np.arange(0, 1, 0.05):\n",
    "    print(\"Quantile: %.2f\" %i, \"Freq: \", df_group3['Count'].quantile(i))"
   ]
  },
  {
   "cell_type": "code",
   "execution_count": null,
   "id": "7e33a49e",
   "metadata": {},
   "outputs": [],
   "source": [
    "# Distribution Plot for frequency of each functions in the full tranpsrancy group\n",
    "\n",
    "df_group3['Count'].plot()"
   ]
  },
  {
   "cell_type": "markdown",
   "id": "60821418",
   "metadata": {},
   "source": [
    "## Functions Count for All Sample"
   ]
  },
  {
   "cell_type": "code",
   "execution_count": null,
   "id": "ad0a5428",
   "metadata": {},
   "outputs": [],
   "source": [
    "df = pd.DataFrame(list(out.items()))\n",
    "df = df.rename(columns={0:'Functions', 1:'Count'})\n",
    "df = df[df['Functions'] != '']\n",
    "df.sort_values(by='Count', ascending=False, inplace=True)\n",
    "df_all = df.reset_index(drop=True)\n",
    "df_all"
   ]
  },
  {
   "cell_type": "code",
   "execution_count": null,
   "id": "2a5b3197",
   "metadata": {},
   "outputs": [],
   "source": [
    "# Get the Frequency at each Quantiles for the Total Sample\n",
    "\n",
    "for i in np.arange(0, 1, 0.05):\n",
    "    print(\"Quantile: %.2f\" %i, \"Freq: \", df_all['Count'].quantile(i))"
   ]
  },
  {
   "cell_type": "code",
   "execution_count": null,
   "id": "6e68fd58",
   "metadata": {},
   "outputs": [],
   "source": [
    "# Distribution Plot for frequency of each functions in the total sample\n",
    "\n",
    "df_all['Count'].plot()"
   ]
  },
  {
   "cell_type": "markdown",
   "id": "745a85eb",
   "metadata": {},
   "source": [
    ">> By the end of the discussion on 20th May, 2022, we conclude that we are using 10% as the cut-off for the rare functions. In the overall sample, we have a frequency of 2 at 10% for the functions.  In Bogota 1 ( performance transparency ), Bogota 2 ( solution transparency ), and Bogota 3 ( full transparency ), we have also 2 as the frequency for the quantile of 10%. In bogota 0 ( no tranparency ), although we have a frequency of 1 at the 10% quantile, the jump was straight towards 4 at the quantile of 25%, so we conclude in using 10% as the cut-off. "
   ]
  },
  {
   "cell_type": "markdown",
   "id": "c6735698",
   "metadata": {},
   "source": [
    "## List of Functions with Frequency Count of 1 in Total Sample"
   ]
  },
  {
   "cell_type": "code",
   "execution_count": null,
   "id": "36cc499d",
   "metadata": {},
   "outputs": [],
   "source": [
    "[k for k, v in out.items() if v == 1]\n"
   ]
  },
  {
   "cell_type": "markdown",
   "id": "0cd1405a",
   "metadata": {},
   "source": [
    "## List of Functions with Frequency Count of 2 in Total Sample"
   ]
  },
  {
   "cell_type": "code",
   "execution_count": null,
   "id": "3fd0dd43",
   "metadata": {},
   "outputs": [],
   "source": [
    "[k for k, v in out.items() if v == 2]\n"
   ]
  },
  {
   "cell_type": "markdown",
   "id": "0b5c2197",
   "metadata": {},
   "source": [
    "## List of Functions with Frequency Count of 3 in Total Sample"
   ]
  },
  {
   "cell_type": "code",
   "execution_count": null,
   "id": "9567c013",
   "metadata": {},
   "outputs": [],
   "source": [
    "[k for k, v in out.items() if v == 3]\n"
   ]
  },
  {
   "cell_type": "code",
   "execution_count": null,
   "id": "8cdaef8f",
   "metadata": {},
   "outputs": [],
   "source": [
    "round (len(out) * 0.05)"
   ]
  },
  {
   "cell_type": "code",
   "execution_count": null,
   "id": "9563b60c",
   "metadata": {},
   "outputs": [],
   "source": [
    "round (len(out) * 0.1)"
   ]
  },
  {
   "cell_type": "code",
   "execution_count": null,
   "id": "7c0ec8ca",
   "metadata": {},
   "outputs": [],
   "source": [
    "round(len(out) * 0.15)"
   ]
  },
  {
   "cell_type": "code",
   "execution_count": null,
   "id": "a72cabf3",
   "metadata": {},
   "outputs": [],
   "source": [
    "round(len(out) * 0.2)"
   ]
  },
  {
   "cell_type": "code",
   "execution_count": null,
   "id": "252df462",
   "metadata": {},
   "outputs": [],
   "source": [
    "## List the 5% least common functions in a counter\n",
    "\n",
    "overall_12 = overall_phase1.append(overall_phase2, ignore_index=True)\n",
    "overall_23 = overall_12.append(overall_phase3, ignore_index=True)\n",
    "overall_34 = overall_23.append(overall_phase4, ignore_index=True)\n",
    "overall_45 = overall_34.append(overall_phase5, ignore_index=True)\n",
    "overall_45['functions'].replace('', np.nan, inplace=True)\n",
    "overall_45.dropna(subset=['functions'], inplace=True)\n",
    "overall_45_functions = overall_45['functions'].to_list()\n",
    "string = \" \".join(overall_45_functions)\n",
    "x = string.split(\",\")\n",
    "out = collections.Counter(x)\n",
    "list_functions = out.most_common()[:-10379-2:-1]\n",
    "top_5_unique = []\n",
    "for x in range(0,len(list_functions)):\n",
    "    top_5_unique.append(list_functions[x][0])\n",
    "top_5_unique = list(filter(None, top_5_unique))\n",
    "len(top_5_unique)"
   ]
  },
  {
   "cell_type": "code",
   "execution_count": null,
   "id": "306ac721",
   "metadata": {},
   "outputs": [],
   "source": [
    "## List the 10% least common functions in a counter\n",
    "\n",
    "overall_12 = overall_phase1.append(overall_phase2, ignore_index=True)\n",
    "overall_23 = overall_12.append(overall_phase3, ignore_index=True)\n",
    "overall_34 = overall_23.append(overall_phase4, ignore_index=True)\n",
    "overall_45 = overall_34.append(overall_phase5, ignore_index=True)\n",
    "overall_45['functions'].replace('', np.nan, inplace=True)\n",
    "overall_45.dropna(subset=['functions'], inplace=True)\n",
    "overall_45_functions = overall_45['functions'].to_list()\n",
    "string = \" \".join(overall_45_functions)\n",
    "x = string.split(\",\")\n",
    "out = collections.Counter(x)\n",
    "list_functions = out.most_common()[:-20758-2:-1]\n",
    "top_10_unique = []\n",
    "for x in range(0,len(list_functions)):\n",
    "    top_10_unique.append(list_functions[x][0])\n",
    "top_10_unique = list(filter(None, top_10_unique))\n",
    "len(top_10_unique)"
   ]
  },
  {
   "cell_type": "code",
   "execution_count": null,
   "id": "6192034f",
   "metadata": {},
   "outputs": [],
   "source": [
    "## List the 15% least common functions in a counter\n",
    "\n",
    "overall_12 = overall_phase1.append(overall_phase2, ignore_index=True)\n",
    "overall_23 = overall_12.append(overall_phase3, ignore_index=True)\n",
    "overall_34 = overall_23.append(overall_phase4, ignore_index=True)\n",
    "overall_45 = overall_34.append(overall_phase5, ignore_index=True)\n",
    "overall_45['functions'].replace('', np.nan, inplace=True)\n",
    "overall_45.dropna(subset=['functions'], inplace=True)\n",
    "overall_45_functions = overall_45['functions'].to_list()\n",
    "string = \" \".join(overall_45_functions)\n",
    "x = string.split(\",\")\n",
    "out = collections.Counter(x)\n",
    "list_functions = out.most_common()[:-31136-2:-1]\n",
    "top_15_unique = []\n",
    "for x in range(0,len(list_functions)):\n",
    "    top_15_unique.append(list_functions[x][0])\n",
    "top_15_unique = list(filter(None, top_15_unique))\n",
    "len(top_15_unique)"
   ]
  },
  {
   "cell_type": "code",
   "execution_count": null,
   "id": "ffc80c25",
   "metadata": {},
   "outputs": [],
   "source": [
    "## List the 20% least common functions in a counter\n",
    "\n",
    "overall_12 = overall_phase1.append(overall_phase2, ignore_index=True)\n",
    "overall_23 = overall_12.append(overall_phase3, ignore_index=True)\n",
    "overall_34 = overall_23.append(overall_phase4, ignore_index=True)\n",
    "overall_45 = overall_34.append(overall_phase5, ignore_index=True)\n",
    "overall_45['functions'].replace('', np.nan, inplace=True)\n",
    "overall_45.dropna(subset=['functions'], inplace=True)\n",
    "overall_45_functions = overall_45['functions'].to_list()\n",
    "string = \" \".join(overall_45_functions)\n",
    "x = string.split(\",\")\n",
    "out = collections.Counter(x)\n",
    "list_functions = out.most_common()[:-41515-2:-1]\n",
    "top_20_unique = []\n",
    "for x in range(0,len(list_functions)):\n",
    "    top_20_unique.append(list_functions[x][0])\n",
    "top_20_unique = list(filter(None, top_20_unique))\n",
    "len(top_20_unique)"
   ]
  },
  {
   "cell_type": "code",
   "execution_count": null,
   "id": "cbe4a005",
   "metadata": {},
   "outputs": [],
   "source": [
    "list_functions = out.most_common(20000)\n",
    "list_functions"
   ]
  },
  {
   "cell_type": "markdown",
   "id": "a3bb3ed8",
   "metadata": {},
   "source": [
    "list_functions2 = [(name, count) for name, count in list_functions]\n",
    "plt.plot(*zip(*list_functions2))\n",
    "plt.show()"
   ]
  },
  {
   "cell_type": "code",
   "execution_count": null,
   "id": "5792da53",
   "metadata": {},
   "outputs": [],
   "source": [
    "list_functions2 = [count for name, count in list_functions]\n",
    "list_functions2"
   ]
  },
  {
   "cell_type": "code",
   "execution_count": null,
   "id": "d137eae6",
   "metadata": {},
   "outputs": [],
   "source": [
    "list_functions2 = [name for name, count in list_functions]\n",
    "list_functions2"
   ]
  },
  {
   "cell_type": "code",
   "execution_count": null,
   "id": "2d66deed",
   "metadata": {},
   "outputs": [],
   "source": [
    "## Remove all duplicates and empty string from the entire function list\n",
    "\n",
    "overall_12 = overall_phase1.append(overall_phase2, ignore_index=True)\n",
    "overall_23 = overall_12.append(overall_phase3, ignore_index=True)\n",
    "overall_34 = overall_23.append(overall_phase4, ignore_index=True)\n",
    "overall_45 = overall_34.append(overall_phase5, ignore_index=True)\n",
    "overall_45['functions'].replace('', np.nan, inplace=True)\n",
    "overall_45.dropna(subset=['functions'], inplace=True)\n",
    "overall_45_functions = overall_45['functions'].to_list()\n",
    "string = \" \".join(overall_45_functions)\n",
    "x = string.split(\",\")\n",
    "remove_duplicates = list(set(x))\n",
    "remove_all_duplicates = list(filter(None, remove_duplicates))\n",
    "total_unique_functions_global = len(remove_all_duplicates)"
   ]
  },
  {
   "cell_type": "code",
   "execution_count": null,
   "id": "df9ec343",
   "metadata": {},
   "outputs": [],
   "source": [
    "import math\n",
    "remove_duplicates = list(set(new_list))\n",
    "str1 = [x for x in remove_duplicates if str(x) != 'nan']\n",
    "str1"
   ]
  },
  {
   "cell_type": "code",
   "execution_count": null,
   "id": "4a5c96bc",
   "metadata": {},
   "outputs": [],
   "source": [
    "global_functions = {'Student': 'all', 'functions': [str1], 'phase': 0}\n",
    "global_functions = pd.DataFrame(data=global_functions)\n",
    "global_functions"
   ]
  },
  {
   "cell_type": "markdown",
   "id": "1383c1fb",
   "metadata": {},
   "source": [
    "## Append Global Functions with Bogota 0 Phase 5"
   ]
  },
  {
   "cell_type": "code",
   "execution_count": null,
   "id": "d68a875d",
   "metadata": {},
   "outputs": [],
   "source": [
    "subset_bogota0_phase5_all = subset_bogota0_phase5.append(global_functions, ignore_index=True)\n",
    "print(subset_bogota0_phase5_all)"
   ]
  },
  {
   "cell_type": "code",
   "execution_count": null,
   "id": "c147aaae",
   "metadata": {},
   "outputs": [],
   "source": [
    "import itertools\n",
    "import pandas as pd\n",
    "\n",
    "overall_phase4_bogota3 = overall_phase4_bogota3[overall_phase4_bogota3.functions != '']\n",
    "\n",
    "# copied from OP above\n",
    "def jaccard_similarity(x, y):\n",
    "    \"\"\" returns the jaccard similarity between two lists \"\"\"\n",
    "    intersection_cardinality = len(set.intersection(*[set(x), set(y)]))\n",
    "    union_cardinality = len(set.union(*[set(x), set(y)]))\n",
    "    return intersection_cardinality/float(union_cardinality)\n",
    "\n",
    "# create list of tuples like [(wording, user), (wording, user)]\n",
    "wordings_users = list(zip(subset_bogota0_phase5_all[\"functions\"], subset_bogota0_phase5_all[\"Student\"]))\n",
    "\n",
    "result = []\n",
    "\n",
    "# create list of all possible combinations between sets of (wording, user) and loop through them\n",
    "for item in list(itertools.combinations(wordings_users, 2)):\n",
    "    similarity = jaccard_similarity(item[0][0], item[1][0])\n",
    "    data = {\"user1\": item[0][1], \"user2\": item[1][1], \"similarity\": similarity}\n",
    "    result.append(data)\n",
    "\n",
    "subset_bogota0_phase5_compare_all = pd.DataFrame(result)\n",
    "subset_bogota0_phase5_compare_all"
   ]
  },
  {
   "cell_type": "code",
   "execution_count": null,
   "id": "1b30a508",
   "metadata": {},
   "outputs": [],
   "source": [
    "subset_bogota0_phase5_all_only = subset_bogota0_phase5_compare_all.loc[subset_bogota0_phase5_compare_all['user2'] == 'all']\n",
    "subset_bogota0_phase5_all_only"
   ]
  },
  {
   "cell_type": "markdown",
   "id": "856125c3",
   "metadata": {},
   "source": [
    "## Append Global Functions with Bogota 0 Phase 4"
   ]
  },
  {
   "cell_type": "code",
   "execution_count": null,
   "id": "e0b6e94f",
   "metadata": {},
   "outputs": [],
   "source": [
    "subset_bogota0_phase4_all = subset_bogota0_phase4.append(global_functions, ignore_index=True)\n",
    "print(subset_bogota0_phase4_all)"
   ]
  },
  {
   "cell_type": "code",
   "execution_count": null,
   "id": "189a1232",
   "metadata": {},
   "outputs": [],
   "source": [
    "import itertools\n",
    "import pandas as pd\n",
    "\n",
    "overall_phase4_bogota3 = overall_phase4_bogota3[overall_phase4_bogota3.functions != '']\n",
    "\n",
    "# copied from OP above\n",
    "def jaccard_similarity(x, y):\n",
    "    \"\"\" returns the jaccard similarity between two lists \"\"\"\n",
    "    intersection_cardinality = len(set.intersection(*[set(x), set(y)]))\n",
    "    union_cardinality = len(set.union(*[set(x), set(y)]))\n",
    "    return intersection_cardinality/float(union_cardinality)\n",
    "\n",
    "# create list of tuples like [(wording, user), (wording, user)]\n",
    "wordings_users = list(zip(subset_bogota0_phase4_all[\"functions\"], subset_bogota0_phase4_all[\"Student\"]))\n",
    "\n",
    "result = []\n",
    "\n",
    "# create list of all possible combinations between sets of (wording, user) and loop through them\n",
    "for item in list(itertools.combinations(wordings_users, 2)):\n",
    "    similarity = jaccard_similarity(item[0][0], item[1][0])\n",
    "    data = {\"user1\": item[0][1], \"user2\": item[1][1], \"similarity\": similarity}\n",
    "    result.append(data)\n",
    "\n",
    "subset_bogota0_phase4_compare_all = pd.DataFrame(result)\n",
    "subset_bogota0_phase4_compare_all"
   ]
  },
  {
   "cell_type": "code",
   "execution_count": null,
   "id": "b5889297",
   "metadata": {},
   "outputs": [],
   "source": [
    "subset_bogota0_phase4_all_only = subset_bogota0_phase4_compare_all.loc[subset_bogota0_phase4_compare_all['user2'] == 'all']\n",
    "subset_bogota0_phase4_all_only"
   ]
  },
  {
   "cell_type": "markdown",
   "id": "3a0597a6",
   "metadata": {},
   "source": [
    "## Append Global Functions with Bogota 0 Phase 3"
   ]
  },
  {
   "cell_type": "code",
   "execution_count": null,
   "id": "1ec2ecd9",
   "metadata": {},
   "outputs": [],
   "source": [
    "subset_bogota0_phase3_all = subset_bogota0_phase3.append(global_functions, ignore_index=True)\n",
    "print(subset_bogota0_phase3_all)"
   ]
  },
  {
   "cell_type": "code",
   "execution_count": null,
   "id": "62a0ad93",
   "metadata": {},
   "outputs": [],
   "source": [
    "import itertools\n",
    "import pandas as pd\n",
    "\n",
    "overall_phase4_bogota3 = overall_phase4_bogota3[overall_phase4_bogota3.functions != '']\n",
    "\n",
    "# copied from OP above\n",
    "def jaccard_similarity(x, y):\n",
    "    \"\"\" returns the jaccard similarity between two lists \"\"\"\n",
    "    intersection_cardinality = len(set.intersection(*[set(x), set(y)]))\n",
    "    union_cardinality = len(set.union(*[set(x), set(y)]))\n",
    "    return intersection_cardinality/float(union_cardinality)\n",
    "\n",
    "# create list of tuples like [(wording, user), (wording, user)]\n",
    "wordings_users = list(zip(subset_bogota0_phase3_all[\"functions\"], subset_bogota0_phase3_all[\"Student\"]))\n",
    "\n",
    "result = []\n",
    "\n",
    "# create list of all possible combinations between sets of (wording, user) and loop through them\n",
    "for item in list(itertools.combinations(wordings_users, 2)):\n",
    "    similarity = jaccard_similarity(item[0][0], item[1][0])\n",
    "    data = {\"user1\": item[0][1], \"user2\": item[1][1], \"similarity\": similarity}\n",
    "    result.append(data)\n",
    "\n",
    "subset_bogota0_phase3_compare_all = pd.DataFrame(result)\n",
    "subset_bogota0_phase3_compare_all"
   ]
  },
  {
   "cell_type": "code",
   "execution_count": null,
   "id": "3507ad12",
   "metadata": {},
   "outputs": [],
   "source": [
    "subset_bogota0_phase3_all_only = subset_bogota0_phase3_compare_all.loc[subset_bogota0_phase3_compare_all['user2'] == 'all']\n",
    "subset_bogota0_phase3_all_only"
   ]
  },
  {
   "cell_type": "markdown",
   "id": "2af5b0af",
   "metadata": {},
   "source": [
    "## Append Global Functions with Bogota 0 Phase 2"
   ]
  },
  {
   "cell_type": "code",
   "execution_count": null,
   "id": "daa60a1c",
   "metadata": {},
   "outputs": [],
   "source": [
    "subset_bogota0_phase2_all = subset_bogota0_phase2.append(global_functions, ignore_index=True)\n",
    "print(subset_bogota0_phase2_all)"
   ]
  },
  {
   "cell_type": "code",
   "execution_count": null,
   "id": "231fb87b",
   "metadata": {},
   "outputs": [],
   "source": [
    "import itertools\n",
    "import pandas as pd\n",
    "\n",
    "overall_phase4_bogota3 = overall_phase4_bogota3[overall_phase4_bogota3.functions != '']\n",
    "\n",
    "# copied from OP above\n",
    "def jaccard_similarity(x, y):\n",
    "    \"\"\" returns the jaccard similarity between two lists \"\"\"\n",
    "    intersection_cardinality = len(set.intersection(*[set(x), set(y)]))\n",
    "    union_cardinality = len(set.union(*[set(x), set(y)]))\n",
    "    return intersection_cardinality/float(union_cardinality)\n",
    "\n",
    "# create list of tuples like [(wording, user), (wording, user)]\n",
    "wordings_users = list(zip(subset_bogota0_phase2_all[\"functions\"], subset_bogota0_phase2_all[\"Student\"]))\n",
    "\n",
    "result = []\n",
    "\n",
    "# create list of all possible combinations between sets of (wording, user) and loop through them\n",
    "for item in list(itertools.combinations(wordings_users, 2)):\n",
    "    similarity = jaccard_similarity(item[0][0], item[1][0])\n",
    "    data = {\"user1\": item[0][1], \"user2\": item[1][1], \"similarity\": similarity}\n",
    "    result.append(data)\n",
    "\n",
    "subset_bogota0_phase2_compare_all = pd.DataFrame(result)\n",
    "subset_bogota0_phase2_compare_all"
   ]
  },
  {
   "cell_type": "code",
   "execution_count": null,
   "id": "26e0d2d9",
   "metadata": {},
   "outputs": [],
   "source": [
    "subset_bogota0_phase2_all_only = subset_bogota0_phase2_compare_all.loc[subset_bogota0_phase2_compare_all['user2'] == 'all']\n",
    "subset_bogota0_phase2_all_only"
   ]
  },
  {
   "cell_type": "markdown",
   "id": "f37f799d",
   "metadata": {},
   "source": [
    "## Append Global Functions with Bogota 0 Phase 1"
   ]
  },
  {
   "cell_type": "code",
   "execution_count": null,
   "id": "b84cb4f7",
   "metadata": {},
   "outputs": [],
   "source": [
    "subset_bogota0_phase1_all = subset_bogota0_phase1.append(global_functions, ignore_index=True)\n",
    "print(subset_bogota0_phase1_all)"
   ]
  },
  {
   "cell_type": "code",
   "execution_count": null,
   "id": "de0511b5",
   "metadata": {},
   "outputs": [],
   "source": [
    "import itertools\n",
    "import pandas as pd\n",
    "\n",
    "overall_phase4_bogota3 = overall_phase4_bogota3[overall_phase4_bogota3.functions != '']\n",
    "\n",
    "# copied from OP above\n",
    "def jaccard_similarity(x, y):\n",
    "    \"\"\" returns the jaccard similarity between two lists \"\"\"\n",
    "    intersection_cardinality = len(set.intersection(*[set(x), set(y)]))\n",
    "    union_cardinality = len(set.union(*[set(x), set(y)]))\n",
    "    return intersection_cardinality/float(union_cardinality)\n",
    "\n",
    "# create list of tuples like [(wording, user), (wording, user)]\n",
    "wordings_users = list(zip(subset_bogota0_phase1_all[\"functions\"], subset_bogota0_phase1_all[\"Student\"]))\n",
    "\n",
    "result = []\n",
    "\n",
    "# create list of all possible combinations between sets of (wording, user) and loop through them\n",
    "for item in list(itertools.combinations(wordings_users, 2)):\n",
    "    similarity = jaccard_similarity(item[0][0], item[1][0])\n",
    "    data = {\"user1\": item[0][1], \"user2\": item[1][1], \"similarity\": similarity}\n",
    "    result.append(data)\n",
    "\n",
    "subset_bogota0_phase1_compare_all = pd.DataFrame(result)\n",
    "subset_bogota0_phase1_compare_all"
   ]
  },
  {
   "cell_type": "code",
   "execution_count": null,
   "id": "51d48477",
   "metadata": {},
   "outputs": [],
   "source": [
    "subset_bogota0_phase1_all_only = subset_bogota0_phase1_compare_all.loc[subset_bogota0_phase1_compare_all['user2'] == 'all']\n",
    "subset_bogota0_phase1_all_only"
   ]
  },
  {
   "cell_type": "markdown",
   "id": "40df84d1",
   "metadata": {},
   "source": [
    "## Append Global Functions with Bogota 1 Phase 5"
   ]
  },
  {
   "cell_type": "code",
   "execution_count": null,
   "id": "1550bd27",
   "metadata": {},
   "outputs": [],
   "source": [
    "subset_bogota1_phase5_all = subset_bogota1_phase5.append(global_functions, ignore_index=True)\n",
    "print(subset_bogota1_phase5_all)"
   ]
  },
  {
   "cell_type": "code",
   "execution_count": null,
   "id": "05441494",
   "metadata": {},
   "outputs": [],
   "source": [
    "import itertools\n",
    "import pandas as pd\n",
    "\n",
    "overall_phase4_bogota3 = overall_phase4_bogota3[overall_phase4_bogota3.functions != '']\n",
    "\n",
    "# copied from OP above\n",
    "def jaccard_similarity(x, y):\n",
    "    \"\"\" returns the jaccard similarity between two lists \"\"\"\n",
    "    intersection_cardinality = len(set.intersection(*[set(x), set(y)]))\n",
    "    union_cardinality = len(set.union(*[set(x), set(y)]))\n",
    "    return intersection_cardinality/float(union_cardinality)\n",
    "\n",
    "# create list of tuples like [(wording, user), (wording, user)]\n",
    "wordings_users = list(zip(subset_bogota1_phase5_all[\"functions\"], subset_bogota1_phase5_all[\"Student\"]))\n",
    "\n",
    "result = []\n",
    "\n",
    "# create list of all possible combinations between sets of (wording, user) and loop through them\n",
    "for item in list(itertools.combinations(wordings_users, 2)):\n",
    "    similarity = jaccard_similarity(item[0][0], item[1][0])\n",
    "    data = {\"user1\": item[0][1], \"user2\": item[1][1], \"similarity\": similarity}\n",
    "    result.append(data)\n",
    "\n",
    "subset_bogota1_phase5_compare_all = pd.DataFrame(result)\n",
    "subset_bogota1_phase5_compare_all"
   ]
  },
  {
   "cell_type": "code",
   "execution_count": null,
   "id": "82260fd3",
   "metadata": {},
   "outputs": [],
   "source": [
    "subset_bogota1_phase5_all_only = subset_bogota1_phase5_compare_all.loc[subset_bogota1_phase5_compare_all['user2'] == 'all']\n",
    "subset_bogota1_phase5_all_only"
   ]
  },
  {
   "cell_type": "markdown",
   "id": "33f0ddfb",
   "metadata": {},
   "source": [
    "## Append Global Functions with Bogota 1 Phase 4"
   ]
  },
  {
   "cell_type": "code",
   "execution_count": null,
   "id": "75a13be9",
   "metadata": {},
   "outputs": [],
   "source": [
    "subset_bogota1_phase4_all = subset_bogota1_phase4.append(global_functions, ignore_index=True)\n",
    "print(subset_bogota1_phase4_all)"
   ]
  },
  {
   "cell_type": "code",
   "execution_count": null,
   "id": "e606ea62",
   "metadata": {},
   "outputs": [],
   "source": [
    "import itertools\n",
    "import pandas as pd\n",
    "\n",
    "overall_phase4_bogota3 = overall_phase4_bogota3[overall_phase4_bogota3.functions != '']\n",
    "\n",
    "# copied from OP above\n",
    "def jaccard_similarity(x, y):\n",
    "    \"\"\" returns the jaccard similarity between two lists \"\"\"\n",
    "    intersection_cardinality = len(set.intersection(*[set(x), set(y)]))\n",
    "    union_cardinality = len(set.union(*[set(x), set(y)]))\n",
    "    return intersection_cardinality/float(union_cardinality)\n",
    "\n",
    "# create list of tuples like [(wording, user), (wording, user)]\n",
    "wordings_users = list(zip(subset_bogota1_phase4_all[\"functions\"], subset_bogota1_phase4_all[\"Student\"]))\n",
    "\n",
    "result = []\n",
    "\n",
    "# create list of all possible combinations between sets of (wording, user) and loop through them\n",
    "for item in list(itertools.combinations(wordings_users, 2)):\n",
    "    similarity = jaccard_similarity(item[0][0], item[1][0])\n",
    "    data = {\"user1\": item[0][1], \"user2\": item[1][1], \"similarity\": similarity}\n",
    "    result.append(data)\n",
    "\n",
    "subset_bogota1_phase4_compare_all = pd.DataFrame(result)\n",
    "subset_bogota1_phase4_compare_all"
   ]
  },
  {
   "cell_type": "code",
   "execution_count": null,
   "id": "2632cd45",
   "metadata": {},
   "outputs": [],
   "source": [
    "subset_bogota1_phase4_all_only = subset_bogota1_phase4_compare_all.loc[subset_bogota1_phase4_compare_all['user2'] == 'all']\n",
    "subset_bogota1_phase4_all_only"
   ]
  },
  {
   "cell_type": "markdown",
   "id": "7c62dd26",
   "metadata": {},
   "source": [
    "## Append Global Functions with Bogota 1 Phase 3"
   ]
  },
  {
   "cell_type": "code",
   "execution_count": null,
   "id": "b2c5537b",
   "metadata": {},
   "outputs": [],
   "source": [
    "subset_bogota1_phase3_all = subset_bogota1_phase3.append(global_functions, ignore_index=True)\n",
    "print(subset_bogota1_phase3_all)"
   ]
  },
  {
   "cell_type": "code",
   "execution_count": null,
   "id": "67e9c682",
   "metadata": {},
   "outputs": [],
   "source": [
    "import itertools\n",
    "import pandas as pd\n",
    "\n",
    "overall_phase4_bogota3 = overall_phase4_bogota3[overall_phase4_bogota3.functions != '']\n",
    "\n",
    "# copied from OP above\n",
    "def jaccard_similarity(x, y):\n",
    "    \"\"\" returns the jaccard similarity between two lists \"\"\"\n",
    "    intersection_cardinality = len(set.intersection(*[set(x), set(y)]))\n",
    "    union_cardinality = len(set.union(*[set(x), set(y)]))\n",
    "    return intersection_cardinality/float(union_cardinality)\n",
    "\n",
    "# create list of tuples like [(wording, user), (wording, user)]\n",
    "wordings_users = list(zip(subset_bogota1_phase3_all[\"functions\"], subset_bogota1_phase3_all[\"Student\"]))\n",
    "\n",
    "result = []\n",
    "\n",
    "# create list of all possible combinations between sets of (wording, user) and loop through them\n",
    "for item in list(itertools.combinations(wordings_users, 2)):\n",
    "    similarity = jaccard_similarity(item[0][0], item[1][0])\n",
    "    data = {\"user1\": item[0][1], \"user2\": item[1][1], \"similarity\": similarity}\n",
    "    result.append(data)\n",
    "\n",
    "subset_bogota1_phase3_compare_all = pd.DataFrame(result)\n",
    "subset_bogota1_phase3_compare_all"
   ]
  },
  {
   "cell_type": "code",
   "execution_count": null,
   "id": "c260fe3d",
   "metadata": {},
   "outputs": [],
   "source": [
    "subset_bogota1_phase3_all_only = subset_bogota1_phase3_compare_all.loc[subset_bogota1_phase3_compare_all['user2'] == 'all']\n",
    "subset_bogota1_phase3_all_only"
   ]
  },
  {
   "cell_type": "markdown",
   "id": "1ccdefca",
   "metadata": {},
   "source": [
    "## Append Global Functions with Bogota 1 Phase 2"
   ]
  },
  {
   "cell_type": "code",
   "execution_count": null,
   "id": "237bdb19",
   "metadata": {},
   "outputs": [],
   "source": [
    "subset_bogota1_phase2_all = subset_bogota1_phase2.append(global_functions, ignore_index=True)\n",
    "print(subset_bogota1_phase2_all)"
   ]
  },
  {
   "cell_type": "code",
   "execution_count": null,
   "id": "8fab5766",
   "metadata": {},
   "outputs": [],
   "source": [
    "import itertools\n",
    "import pandas as pd\n",
    "\n",
    "overall_phase4_bogota3 = overall_phase4_bogota3[overall_phase4_bogota3.functions != '']\n",
    "\n",
    "# copied from OP above\n",
    "def jaccard_similarity(x, y):\n",
    "    \"\"\" returns the jaccard similarity between two lists \"\"\"\n",
    "    intersection_cardinality = len(set.intersection(*[set(x), set(y)]))\n",
    "    union_cardinality = len(set.union(*[set(x), set(y)]))\n",
    "    return intersection_cardinality/float(union_cardinality)\n",
    "\n",
    "# create list of tuples like [(wording, user), (wording, user)]\n",
    "wordings_users = list(zip(subset_bogota1_phase2_all[\"functions\"], subset_bogota1_phase2_all[\"Student\"]))\n",
    "\n",
    "result = []\n",
    "\n",
    "# create list of all possible combinations between sets of (wording, user) and loop through them\n",
    "for item in list(itertools.combinations(wordings_users, 2)):\n",
    "    similarity = jaccard_similarity(item[0][0], item[1][0])\n",
    "    data = {\"user1\": item[0][1], \"user2\": item[1][1], \"similarity\": similarity}\n",
    "    result.append(data)\n",
    "\n",
    "subset_bogota1_phase2_compare_all = pd.DataFrame(result)\n",
    "subset_bogota1_phase2_compare_all"
   ]
  },
  {
   "cell_type": "code",
   "execution_count": null,
   "id": "69926daa",
   "metadata": {},
   "outputs": [],
   "source": [
    "subset_bogota1_phase2_all_only = subset_bogota1_phase2_compare_all.loc[subset_bogota1_phase2_compare_all['user2'] == 'all']\n",
    "subset_bogota1_phase2_all_only"
   ]
  },
  {
   "cell_type": "markdown",
   "id": "050b9f3f",
   "metadata": {},
   "source": [
    "## Append Global Functions with Bogota 1 Phase 1"
   ]
  },
  {
   "cell_type": "code",
   "execution_count": null,
   "id": "76b4745c",
   "metadata": {},
   "outputs": [],
   "source": [
    "subset_bogota1_phase1_all = subset_bogota1_phase1.append(global_functions, ignore_index=True)\n",
    "print(subset_bogota1_phase1_all)"
   ]
  },
  {
   "cell_type": "code",
   "execution_count": null,
   "id": "1a4297a1",
   "metadata": {},
   "outputs": [],
   "source": [
    "import itertools\n",
    "import pandas as pd\n",
    "\n",
    "overall_phase4_bogota3 = overall_phase4_bogota3[overall_phase4_bogota3.functions != '']\n",
    "\n",
    "# copied from OP above\n",
    "def jaccard_similarity(x, y):\n",
    "    \"\"\" returns the jaccard similarity between two lists \"\"\"\n",
    "    intersection_cardinality = len(set.intersection(*[set(x), set(y)]))\n",
    "    union_cardinality = len(set.union(*[set(x), set(y)]))\n",
    "    return intersection_cardinality/float(union_cardinality)\n",
    "\n",
    "# create list of tuples like [(wording, user), (wording, user)]\n",
    "wordings_users = list(zip(subset_bogota1_phase1_all[\"functions\"], subset_bogota1_phase1_all[\"Student\"]))\n",
    "\n",
    "result = []\n",
    "\n",
    "# create list of all possible combinations between sets of (wording, user) and loop through them\n",
    "for item in list(itertools.combinations(wordings_users, 2)):\n",
    "    similarity = jaccard_similarity(item[0][0], item[1][0])\n",
    "    data = {\"user1\": item[0][1], \"user2\": item[1][1], \"similarity\": similarity}\n",
    "    result.append(data)\n",
    "\n",
    "subset_bogota1_phase1_compare_all = pd.DataFrame(result)\n",
    "subset_bogota1_phase1_compare_all"
   ]
  },
  {
   "cell_type": "code",
   "execution_count": null,
   "id": "2783e1e4",
   "metadata": {},
   "outputs": [],
   "source": [
    "subset_bogota1_phase1_all_only = subset_bogota1_phase1_compare_all.loc[subset_bogota1_phase1_compare_all['user2'] == 'all']\n",
    "subset_bogota1_phase1_all_only"
   ]
  },
  {
   "cell_type": "markdown",
   "id": "419cdbc1",
   "metadata": {},
   "source": [
    "## Append Global Functions with Bogota 2 Phase 5"
   ]
  },
  {
   "cell_type": "code",
   "execution_count": null,
   "id": "a191ec77",
   "metadata": {},
   "outputs": [],
   "source": [
    "subset_bogota2_phase5_all = subset_bogota2_phase5.append(global_functions, ignore_index=True)\n",
    "print(subset_bogota2_phase5_all)"
   ]
  },
  {
   "cell_type": "code",
   "execution_count": null,
   "id": "eaf85a54",
   "metadata": {},
   "outputs": [],
   "source": [
    "import itertools\n",
    "import pandas as pd\n",
    "\n",
    "overall_phase4_bogota3 = overall_phase4_bogota3[overall_phase4_bogota3.functions != '']\n",
    "\n",
    "# copied from OP above\n",
    "def jaccard_similarity(x, y):\n",
    "    \"\"\" returns the jaccard similarity between two lists \"\"\"\n",
    "    intersection_cardinality = len(set.intersection(*[set(x), set(y)]))\n",
    "    union_cardinality = len(set.union(*[set(x), set(y)]))\n",
    "    return intersection_cardinality/float(union_cardinality)\n",
    "\n",
    "# create list of tuples like [(wording, user), (wording, user)]\n",
    "wordings_users = list(zip(subset_bogota2_phase5_all[\"functions\"], subset_bogota2_phase5_all[\"Student\"]))\n",
    "\n",
    "result = []\n",
    "\n",
    "# create list of all possible combinations between sets of (wording, user) and loop through them\n",
    "for item in list(itertools.combinations(wordings_users, 2)):\n",
    "    similarity = jaccard_similarity(item[0][0], item[1][0])\n",
    "    data = {\"user1\": item[0][1], \"user2\": item[1][1], \"similarity\": similarity}\n",
    "    result.append(data)\n",
    "\n",
    "subset_bogota2_phase5_compare_all = pd.DataFrame(result)\n",
    "subset_bogota2_phase5_compare_all"
   ]
  },
  {
   "cell_type": "code",
   "execution_count": null,
   "id": "ef55ae17",
   "metadata": {},
   "outputs": [],
   "source": [
    "subset_bogota2_phase5_all_only = subset_bogota2_phase5_compare_all.loc[subset_bogota2_phase5_compare_all['user2'] == 'all']\n",
    "subset_bogota2_phase5_all_only"
   ]
  },
  {
   "cell_type": "markdown",
   "id": "efc99839",
   "metadata": {},
   "source": [
    "## Append Global Functions with Bogota 2 Phase 4"
   ]
  },
  {
   "cell_type": "code",
   "execution_count": null,
   "id": "cf8e30c7",
   "metadata": {},
   "outputs": [],
   "source": [
    "subset_bogota2_phase4_all = subset_bogota2_phase4.append(global_functions, ignore_index=True)\n",
    "print(subset_bogota2_phase4_all)"
   ]
  },
  {
   "cell_type": "code",
   "execution_count": null,
   "id": "8c0ea620",
   "metadata": {},
   "outputs": [],
   "source": [
    "import itertools\n",
    "import pandas as pd\n",
    "\n",
    "overall_phase4_bogota3 = overall_phase4_bogota3[overall_phase4_bogota3.functions != '']\n",
    "\n",
    "# copied from OP above\n",
    "def jaccard_similarity(x, y):\n",
    "    \"\"\" returns the jaccard similarity between two lists \"\"\"\n",
    "    intersection_cardinality = len(set.intersection(*[set(x), set(y)]))\n",
    "    union_cardinality = len(set.union(*[set(x), set(y)]))\n",
    "    return intersection_cardinality/float(union_cardinality)\n",
    "\n",
    "# create list of tuples like [(wording, user), (wording, user)]\n",
    "wordings_users = list(zip(subset_bogota2_phase4_all[\"functions\"], subset_bogota2_phase4_all[\"Student\"]))\n",
    "\n",
    "result = []\n",
    "\n",
    "# create list of all possible combinations between sets of (wording, user) and loop through them\n",
    "for item in list(itertools.combinations(wordings_users, 2)):\n",
    "    similarity = jaccard_similarity(item[0][0], item[1][0])\n",
    "    data = {\"user1\": item[0][1], \"user2\": item[1][1], \"similarity\": similarity}\n",
    "    result.append(data)\n",
    "\n",
    "subset_bogota2_phase4_compare_all = pd.DataFrame(result)\n",
    "subset_bogota2_phase4_compare_all"
   ]
  },
  {
   "cell_type": "code",
   "execution_count": null,
   "id": "5ac781dd",
   "metadata": {},
   "outputs": [],
   "source": [
    "subset_bogota2_phase4_all_only = subset_bogota2_phase4_compare_all.loc[subset_bogota2_phase5_compare_all['user2'] == 'all']\n",
    "subset_bogota2_phase4_all_only"
   ]
  },
  {
   "cell_type": "markdown",
   "id": "5f676e7d",
   "metadata": {},
   "source": [
    "## Append Global Functions with Bogota 2 Phase 3"
   ]
  },
  {
   "cell_type": "code",
   "execution_count": null,
   "id": "f50469da",
   "metadata": {},
   "outputs": [],
   "source": [
    "subset_bogota2_phase3_all = subset_bogota2_phase3.append(global_functions, ignore_index=True)\n",
    "print(subset_bogota2_phase3_all)"
   ]
  },
  {
   "cell_type": "code",
   "execution_count": null,
   "id": "5b4b7228",
   "metadata": {},
   "outputs": [],
   "source": [
    "import itertools\n",
    "import pandas as pd\n",
    "\n",
    "overall_phase4_bogota3 = overall_phase4_bogota3[overall_phase4_bogota3.functions != '']\n",
    "\n",
    "# copied from OP above\n",
    "def jaccard_similarity(x, y):\n",
    "    \"\"\" returns the jaccard similarity between two lists \"\"\"\n",
    "    intersection_cardinality = len(set.intersection(*[set(x), set(y)]))\n",
    "    union_cardinality = len(set.union(*[set(x), set(y)]))\n",
    "    return intersection_cardinality/float(union_cardinality)\n",
    "\n",
    "# create list of tuples like [(wording, user), (wording, user)]\n",
    "wordings_users = list(zip(subset_bogota2_phase3_all[\"functions\"], subset_bogota2_phase3_all[\"Student\"]))\n",
    "\n",
    "result = []\n",
    "\n",
    "# create list of all possible combinations between sets of (wording, user) and loop through them\n",
    "for item in list(itertools.combinations(wordings_users, 2)):\n",
    "    similarity = jaccard_similarity(item[0][0], item[1][0])\n",
    "    data = {\"user1\": item[0][1], \"user2\": item[1][1], \"similarity\": similarity}\n",
    "    result.append(data)\n",
    "\n",
    "subset_bogota2_phase3_compare_all = pd.DataFrame(result)\n",
    "subset_bogota2_phase3_compare_all"
   ]
  },
  {
   "cell_type": "code",
   "execution_count": null,
   "id": "ae4ef357",
   "metadata": {},
   "outputs": [],
   "source": [
    "subset_bogota2_phase3_all_only = subset_bogota2_phase3_compare_all.loc[subset_bogota2_phase3_compare_all['user2'] == 'all']\n",
    "subset_bogota2_phase3_all_only"
   ]
  },
  {
   "cell_type": "markdown",
   "id": "5e928c52",
   "metadata": {},
   "source": [
    "## Append Global Functions with Bogota 2 Phase 2"
   ]
  },
  {
   "cell_type": "code",
   "execution_count": null,
   "id": "6b55f83a",
   "metadata": {},
   "outputs": [],
   "source": [
    "subset_bogota2_phase2_all = subset_bogota2_phase2.append(global_functions, ignore_index=True)\n",
    "print(subset_bogota2_phase2_all)"
   ]
  },
  {
   "cell_type": "code",
   "execution_count": null,
   "id": "030b36b2",
   "metadata": {},
   "outputs": [],
   "source": [
    "import itertools\n",
    "import pandas as pd\n",
    "\n",
    "overall_phase4_bogota3 = overall_phase4_bogota3[overall_phase4_bogota3.functions != '']\n",
    "\n",
    "# copied from OP above\n",
    "def jaccard_similarity(x, y):\n",
    "    \"\"\" returns the jaccard similarity between two lists \"\"\"\n",
    "    intersection_cardinality = len(set.intersection(*[set(x), set(y)]))\n",
    "    union_cardinality = len(set.union(*[set(x), set(y)]))\n",
    "    return intersection_cardinality/float(union_cardinality)\n",
    "\n",
    "# create list of tuples like [(wording, user), (wording, user)]\n",
    "wordings_users = list(zip(subset_bogota2_phase2_all[\"functions\"], subset_bogota2_phase2_all[\"Student\"]))\n",
    "\n",
    "result = []\n",
    "\n",
    "# create list of all possible combinations between sets of (wording, user) and loop through them\n",
    "for item in list(itertools.combinations(wordings_users, 2)):\n",
    "    similarity = jaccard_similarity(item[0][0], item[1][0])\n",
    "    data = {\"user1\": item[0][1], \"user2\": item[1][1], \"similarity\": similarity}\n",
    "    result.append(data)\n",
    "\n",
    "subset_bogota2_phase2_compare_all = pd.DataFrame(result)\n",
    "subset_bogota2_phase2_compare_all"
   ]
  },
  {
   "cell_type": "code",
   "execution_count": null,
   "id": "5b5d6c7a",
   "metadata": {},
   "outputs": [],
   "source": [
    "subset_bogota2_phase2_all_only = subset_bogota2_phase2_compare_all.loc[subset_bogota2_phase2_compare_all['user2'] == 'all']\n",
    "subset_bogota2_phase2_all_only"
   ]
  },
  {
   "cell_type": "markdown",
   "id": "649f34c8",
   "metadata": {},
   "source": [
    "## Append Global Functions with Bogota 2 Phase 1"
   ]
  },
  {
   "cell_type": "code",
   "execution_count": null,
   "id": "86ca6e24",
   "metadata": {},
   "outputs": [],
   "source": [
    "subset_bogota2_phase1_all = subset_bogota2_phase1.append(global_functions, ignore_index=True)\n",
    "print(subset_bogota2_phase1_all)"
   ]
  },
  {
   "cell_type": "code",
   "execution_count": null,
   "id": "e0f83940",
   "metadata": {},
   "outputs": [],
   "source": [
    "import itertools\n",
    "import pandas as pd\n",
    "\n",
    "overall_phase4_bogota3 = overall_phase4_bogota3[overall_phase4_bogota3.functions != '']\n",
    "\n",
    "# copied from OP above\n",
    "def jaccard_similarity(x, y):\n",
    "    \"\"\" returns the jaccard similarity between two lists \"\"\"\n",
    "    intersection_cardinality = len(set.intersection(*[set(x), set(y)]))\n",
    "    union_cardinality = len(set.union(*[set(x), set(y)]))\n",
    "    return intersection_cardinality/float(union_cardinality)\n",
    "\n",
    "# create list of tuples like [(wording, user), (wording, user)]\n",
    "wordings_users = list(zip(subset_bogota2_phase1_all[\"functions\"], subset_bogota2_phase1_all[\"Student\"]))\n",
    "\n",
    "result = []\n",
    "\n",
    "# create list of all possible combinations between sets of (wording, user) and loop through them\n",
    "for item in list(itertools.combinations(wordings_users, 2)):\n",
    "    similarity = jaccard_similarity(item[0][0], item[1][0])\n",
    "    data = {\"user1\": item[0][1], \"user2\": item[1][1], \"similarity\": similarity}\n",
    "    result.append(data)\n",
    "\n",
    "subset_bogota2_phase1_compare_all = pd.DataFrame(result)\n",
    "subset_bogota2_phase1_compare_all"
   ]
  },
  {
   "cell_type": "code",
   "execution_count": null,
   "id": "220b9f13",
   "metadata": {},
   "outputs": [],
   "source": [
    "subset_bogota2_phase1_all_only = subset_bogota2_phase1_compare_all.loc[subset_bogota2_phase1_compare_all['user2'] == 'all']\n",
    "subset_bogota2_phase1_all_only"
   ]
  },
  {
   "cell_type": "markdown",
   "id": "b0215197",
   "metadata": {},
   "source": [
    "## Append Global Functions with Bogota 3 Phase 5"
   ]
  },
  {
   "cell_type": "code",
   "execution_count": null,
   "id": "62dec0a4",
   "metadata": {},
   "outputs": [],
   "source": [
    "overall_phase5_bogota3_all = overall_phase5_bogota3.append(global_functions, ignore_index=True)\n"
   ]
  },
  {
   "cell_type": "code",
   "execution_count": null,
   "id": "0fb642cc",
   "metadata": {},
   "outputs": [],
   "source": [
    "import itertools\n",
    "import pandas as pd\n",
    "\n",
    "overall_phase4_bogota3 = overall_phase4_bogota3[overall_phase4_bogota3.functions != '']\n",
    "\n",
    "# copied from OP above\n",
    "def jaccard_similarity(x, y):\n",
    "    \"\"\" returns the jaccard similarity between two lists \"\"\"\n",
    "    intersection_cardinality = len(set.intersection(*[set(x), set(y)]))\n",
    "    union_cardinality = len(set.union(*[set(x), set(y)]))\n",
    "    return intersection_cardinality/float(union_cardinality)\n",
    "\n",
    "# create list of tuples like [(wording, user), (wording, user)]\n",
    "wordings_users = list(zip(overall_phase5_bogota3_all[\"functions\"], overall_phase5_bogota3_all[\"Student\"]))\n",
    "\n",
    "result = []\n",
    "\n",
    "# create list of all possible combinations between sets of (wording, user) and loop through them\n",
    "for item in list(itertools.combinations(wordings_users, 2)):\n",
    "    similarity = jaccard_similarity(item[0][0], item[1][0])\n",
    "    data = {\"user1\": item[0][1], \"user2\": item[1][1], \"similarity\": similarity}\n",
    "    result.append(data)\n",
    "\n",
    "overall_phase5_bogota3_compare_all = pd.DataFrame(result)\n",
    "overall_phase5_bogota3_compare_all"
   ]
  },
  {
   "cell_type": "code",
   "execution_count": null,
   "id": "e8d07b4f",
   "metadata": {},
   "outputs": [],
   "source": [
    "overall_phase5_bogota3_all_only = overall_phase5_bogota3_compare_all.loc[overall_phase5_bogota3_compare_all['user2'] == 'all']\n",
    "overall_phase5_bogota3_all_only"
   ]
  },
  {
   "cell_type": "markdown",
   "id": "e9d1eacc",
   "metadata": {},
   "source": [
    "## Append Global Functions with Bogota 3 Phase 4"
   ]
  },
  {
   "cell_type": "code",
   "execution_count": null,
   "id": "14e1023e",
   "metadata": {},
   "outputs": [],
   "source": [
    "overall_phase4_bogota3_all = overall_phase4_bogota3.append(global_functions, ignore_index=True)"
   ]
  },
  {
   "cell_type": "code",
   "execution_count": null,
   "id": "53b4e534",
   "metadata": {},
   "outputs": [],
   "source": [
    "import itertools\n",
    "import pandas as pd\n",
    "\n",
    "overall_phase4_bogota3 = overall_phase4_bogota3[overall_phase4_bogota3.functions != '']\n",
    "\n",
    "# copied from OP above\n",
    "def jaccard_similarity(x, y):\n",
    "    \"\"\" returns the jaccard similarity between two lists \"\"\"\n",
    "    intersection_cardinality = len(set.intersection(*[set(x), set(y)]))\n",
    "    union_cardinality = len(set.union(*[set(x), set(y)]))\n",
    "    return intersection_cardinality/float(union_cardinality)\n",
    "\n",
    "# create list of tuples like [(wording, user), (wording, user)]\n",
    "wordings_users = list(zip(overall_phase4_bogota3_all[\"functions\"], overall_phase4_bogota3_all[\"Student\"]))\n",
    "\n",
    "result = []\n",
    "\n",
    "# create list of all possible combinations between sets of (wording, user) and loop through them\n",
    "for item in list(itertools.combinations(wordings_users, 2)):\n",
    "    similarity = jaccard_similarity(item[0][0], item[1][0])\n",
    "    data = {\"user1\": item[0][1], \"user2\": item[1][1], \"similarity\": similarity}\n",
    "    result.append(data)\n",
    "\n",
    "overall_phase4_bogota3_compare_all = pd.DataFrame(result)\n",
    "overall_phase4_bogota3_compare_all"
   ]
  },
  {
   "cell_type": "code",
   "execution_count": null,
   "id": "9d9c0ef0",
   "metadata": {},
   "outputs": [],
   "source": [
    "overall_phase4_bogota3_all_only = overall_phase4_bogota3_compare_all.loc[overall_phase4_bogota3_compare_all['user2'] == 'all']\n",
    "overall_phase4_bogota3_all_only"
   ]
  },
  {
   "cell_type": "markdown",
   "id": "7809fee9",
   "metadata": {},
   "source": [
    "## Append Global Functions with Bogota 3 Phase 3"
   ]
  },
  {
   "cell_type": "code",
   "execution_count": null,
   "id": "92fe1b93",
   "metadata": {},
   "outputs": [],
   "source": [
    "subset_bogota3_phase3_all = subset_bogota3_phase3.append(global_functions, ignore_index=True)\n",
    "print(subset_bogota3_phase3_all)"
   ]
  },
  {
   "cell_type": "code",
   "execution_count": null,
   "id": "1cc131ca",
   "metadata": {},
   "outputs": [],
   "source": [
    "import itertools\n",
    "import pandas as pd\n",
    "\n",
    "overall_phase4_bogota3 = overall_phase4_bogota3[overall_phase4_bogota3.functions != '']\n",
    "\n",
    "# copied from OP above\n",
    "def jaccard_similarity(x, y):\n",
    "    \"\"\" returns the jaccard similarity between two lists \"\"\"\n",
    "    intersection_cardinality = len(set.intersection(*[set(x), set(y)]))\n",
    "    union_cardinality = len(set.union(*[set(x), set(y)]))\n",
    "    return intersection_cardinality/float(union_cardinality)\n",
    "\n",
    "# create list of tuples like [(wording, user), (wording, user)]\n",
    "wordings_users = list(zip(subset_bogota3_phase3_all[\"functions\"], subset_bogota3_phase3_all[\"Student\"]))\n",
    "\n",
    "result = []\n",
    "\n",
    "# create list of all possible combinations between sets of (wording, user) and loop through them\n",
    "for item in list(itertools.combinations(wordings_users, 2)):\n",
    "    similarity = jaccard_similarity(item[0][0], item[1][0])\n",
    "    data = {\"user1\": item[0][1], \"user2\": item[1][1], \"similarity\": similarity}\n",
    "    result.append(data)\n",
    "\n",
    "subset_bogota3_phase3_compare_all = pd.DataFrame(result)\n",
    "subset_bogota3_phase3_compare_all"
   ]
  },
  {
   "cell_type": "code",
   "execution_count": null,
   "id": "b79e9854",
   "metadata": {},
   "outputs": [],
   "source": [
    "subset_bogota3_phase3_all_only = subset_bogota3_phase3_compare_all.loc[subset_bogota3_phase3_compare_all['user2'] == 'all']\n",
    "subset_bogota3_phase3_all_only"
   ]
  },
  {
   "cell_type": "markdown",
   "id": "1715cce1",
   "metadata": {},
   "source": [
    "## Append Global Functions with Bogota 3 Phase 2"
   ]
  },
  {
   "cell_type": "code",
   "execution_count": null,
   "id": "e1619fef",
   "metadata": {},
   "outputs": [],
   "source": [
    "overall_phase2_bogota3_all = overall_phase2_bogota3.append(global_functions, ignore_index=True)"
   ]
  },
  {
   "cell_type": "code",
   "execution_count": null,
   "id": "b5837edf",
   "metadata": {},
   "outputs": [],
   "source": [
    "import itertools\n",
    "import pandas as pd\n",
    "\n",
    "overall_phase4_bogota3 = overall_phase4_bogota3[overall_phase4_bogota3.functions != '']\n",
    "\n",
    "# copied from OP above\n",
    "def jaccard_similarity(x, y):\n",
    "    \"\"\" returns the jaccard similarity between two lists \"\"\"\n",
    "    intersection_cardinality = len(set.intersection(*[set(x), set(y)]))\n",
    "    union_cardinality = len(set.union(*[set(x), set(y)]))\n",
    "    return intersection_cardinality/float(union_cardinality)\n",
    "\n",
    "# create list of tuples like [(wording, user), (wording, user)]\n",
    "wordings_users = list(zip(overall_phase2_bogota3_all[\"functions\"], overall_phase2_bogota3_all[\"Student\"]))\n",
    "\n",
    "result = []\n",
    "\n",
    "# create list of all possible combinations between sets of (wording, user) and loop through them\n",
    "for item in list(itertools.combinations(wordings_users, 2)):\n",
    "    similarity = jaccard_similarity(item[0][0], item[1][0])\n",
    "    data = {\"user1\": item[0][1], \"user2\": item[1][1], \"similarity\": similarity}\n",
    "    result.append(data)\n",
    "\n",
    "overall_phase2_bogota3_compare_all = pd.DataFrame(result)\n",
    "overall_phase2_bogota3_compare_all"
   ]
  },
  {
   "cell_type": "code",
   "execution_count": null,
   "id": "92788def",
   "metadata": {},
   "outputs": [],
   "source": [
    "overall_phase2_bogota3_all_only = overall_phase2_bogota3_compare_all.loc[overall_phase2_bogota3_compare_all['user2'] == 'all']\n",
    "overall_phase2_bogota3_all_only"
   ]
  },
  {
   "cell_type": "markdown",
   "id": "2602770f",
   "metadata": {},
   "source": [
    "## Append Global Functions with Bogota 3 Phase 1"
   ]
  },
  {
   "cell_type": "code",
   "execution_count": null,
   "id": "40fa8733",
   "metadata": {},
   "outputs": [],
   "source": [
    "subset_bogota3_phase1_all = subset_bogota3_phase1.append(global_functions, ignore_index=True)\n",
    "print(subset_bogota3_phase1_all)"
   ]
  },
  {
   "cell_type": "code",
   "execution_count": null,
   "id": "301dfc0e",
   "metadata": {},
   "outputs": [],
   "source": [
    "import itertools\n",
    "import pandas as pd\n",
    "\n",
    "overall_phase4_bogota3 = overall_phase4_bogota3[overall_phase4_bogota3.functions != '']\n",
    "\n",
    "# copied from OP above\n",
    "def jaccard_similarity(x, y):\n",
    "    \"\"\" returns the jaccard similarity between two lists \"\"\"\n",
    "    intersection_cardinality = len(set.intersection(*[set(x), set(y)]))\n",
    "    union_cardinality = len(set.union(*[set(x), set(y)]))\n",
    "    return intersection_cardinality/float(union_cardinality)\n",
    "\n",
    "# create list of tuples like [(wording, user), (wording, user)]\n",
    "wordings_users = list(zip(subset_bogota3_phase1_all[\"functions\"], subset_bogota3_phase1_all[\"Student\"]))\n",
    "\n",
    "result = []\n",
    "\n",
    "# create list of all possible combinations between sets of (wording, user) and loop through them\n",
    "for item in list(itertools.combinations(wordings_users, 2)):\n",
    "    similarity = jaccard_similarity(item[0][0], item[1][0])\n",
    "    data = {\"user1\": item[0][1], \"user2\": item[1][1], \"similarity\": similarity}\n",
    "    result.append(data)\n",
    "\n",
    "subset_bogota3_phase1_compare_all = pd.DataFrame(result)\n",
    "subset_bogota3_phase1_compare_all"
   ]
  },
  {
   "cell_type": "code",
   "execution_count": null,
   "id": "09a81c71",
   "metadata": {},
   "outputs": [],
   "source": [
    "subset_bogota3_phase1_all_only = subset_bogota3_phase1_compare_all.loc[subset_bogota3_phase1_compare_all['user2'] == 'all']\n",
    "subset_bogota3_phase1_all_only"
   ]
  },
  {
   "cell_type": "markdown",
   "id": "16229b34",
   "metadata": {},
   "source": [
    "## Descriptive Statistics of Comparisons with Global Functions"
   ]
  },
  {
   "cell_type": "markdown",
   "id": "168c3e69",
   "metadata": {},
   "source": [
    "## Bogota 3"
   ]
  },
  {
   "cell_type": "code",
   "execution_count": null,
   "id": "76aa3088",
   "metadata": {},
   "outputs": [],
   "source": [
    "global_bogota3_phase1_mean = subset_bogota3_phase1_all_only['similarity'].describe().loc['mean']\n",
    "global_bogota3_phase1_median = subset_bogota3_phase1_all_only['similarity'].median()\n",
    "global_bogota3_phase1_min = subset_bogota3_phase1_all_only['similarity'].describe().loc['min']"
   ]
  },
  {
   "cell_type": "code",
   "execution_count": null,
   "id": "945b3e33",
   "metadata": {},
   "outputs": [],
   "source": [
    "global_bogota3_phase2_mean = overall_phase2_bogota3_all_only['similarity'].describe().loc['mean']\n",
    "global_bogota3_phase2_median = overall_phase2_bogota3_all_only['similarity'].median()\n",
    "global_bogota3_phase2_min = overall_phase2_bogota3_all_only['similarity'].describe().loc['min']"
   ]
  },
  {
   "cell_type": "code",
   "execution_count": null,
   "id": "dcf93368",
   "metadata": {},
   "outputs": [],
   "source": [
    "global_bogota3_phase3_mean = subset_bogota3_phase3_all_only['similarity'].describe().loc['mean']\n",
    "global_bogota3_phase3_median = subset_bogota3_phase3_all_only['similarity'].median()\n",
    "global_bogota3_phase3_min = subset_bogota3_phase3_all_only['similarity'].describe().loc['min']"
   ]
  },
  {
   "cell_type": "code",
   "execution_count": null,
   "id": "5462d351",
   "metadata": {},
   "outputs": [],
   "source": [
    "global_bogota3_phase4_mean  = overall_phase4_bogota3_all_only['similarity'].describe().loc['mean']\n",
    "global_bogota3_phase4_median  = overall_phase4_bogota3_all_only['similarity'].median()\n",
    "global_bogota3_phase4_min = overall_phase4_bogota3_all_only['similarity'].describe().loc['min']"
   ]
  },
  {
   "cell_type": "code",
   "execution_count": null,
   "id": "234d6e54",
   "metadata": {},
   "outputs": [],
   "source": [
    "global_bogota3_phase5_mean = overall_phase5_bogota3_all_only['similarity'].describe().loc['mean']\n",
    "global_bogota3_phase5_median = overall_phase5_bogota3_all_only['similarity'].median()\n",
    "global_bogota3_phase5_min = overall_phase5_bogota3_all_only['similarity'].describe().loc['min']"
   ]
  },
  {
   "cell_type": "markdown",
   "id": "a509fed0",
   "metadata": {},
   "source": [
    "## Bogota 2"
   ]
  },
  {
   "cell_type": "code",
   "execution_count": null,
   "id": "1efc4d07",
   "metadata": {},
   "outputs": [],
   "source": [
    "global_bogota2_phase1_mean  = subset_bogota2_phase1_all_only['similarity'].describe().loc['mean']\n",
    "global_bogota2_phase1_median = subset_bogota2_phase1_all_only['similarity'].median()\n",
    "global_bogota2_phase1_min = subset_bogota2_phase1_all_only['similarity'].describe().loc['min']"
   ]
  },
  {
   "cell_type": "code",
   "execution_count": null,
   "id": "fd34cdf2",
   "metadata": {},
   "outputs": [],
   "source": [
    "global_bogota2_phase2_mean  = subset_bogota2_phase2_all_only['similarity'].describe().loc['mean']\n",
    "global_bogota2_phase2_median = subset_bogota2_phase2_all_only['similarity'].median()\n",
    "global_bogota2_phase2_min = subset_bogota2_phase2_all_only['similarity'].describe().loc['min']"
   ]
  },
  {
   "cell_type": "code",
   "execution_count": null,
   "id": "b538e11e",
   "metadata": {},
   "outputs": [],
   "source": [
    "global_bogota2_phase3_mean  = subset_bogota2_phase3_all_only['similarity'].describe().loc['mean']\n",
    "global_bogota2_phase3_median = subset_bogota2_phase3_all_only['similarity'].median()\n",
    "global_bogota2_phase3_min = subset_bogota2_phase3_all_only['similarity'].describe().loc['min']"
   ]
  },
  {
   "cell_type": "code",
   "execution_count": null,
   "id": "ee5137cb",
   "metadata": {},
   "outputs": [],
   "source": [
    "global_bogota2_phase4_mean  = subset_bogota2_phase4_all_only['similarity'].describe().loc['mean']\n",
    "global_bogota2_phase4_median = subset_bogota2_phase4_all_only['similarity'].median()\n",
    "global_bogota2_phase4_min = subset_bogota2_phase4_all_only['similarity'].describe().loc['min']"
   ]
  },
  {
   "cell_type": "code",
   "execution_count": null,
   "id": "d992bc4c",
   "metadata": {},
   "outputs": [],
   "source": [
    "global_bogota2_phase5_mean  = subset_bogota2_phase5_all_only['similarity'].describe().loc['mean']\n",
    "global_bogota2_phase5_median = subset_bogota2_phase5_all_only['similarity'].median()\n",
    "global_bogota2_phase5_min = subset_bogota2_phase5_all_only['similarity'].describe().loc['min']"
   ]
  },
  {
   "cell_type": "markdown",
   "id": "5298bc5d",
   "metadata": {},
   "source": [
    "## Bogota 1"
   ]
  },
  {
   "cell_type": "code",
   "execution_count": null,
   "id": "6ceec6be",
   "metadata": {},
   "outputs": [],
   "source": [
    "global_bogota1_phase1_mean = subset_bogota1_phase1_all_only['similarity'].describe().loc['mean']\n",
    "global_bogota1_phase1_median = subset_bogota1_phase1_all_only['similarity'].median()\n",
    "global_bogota1_phase1_min = subset_bogota1_phase1_all_only['similarity'].describe().loc['min']"
   ]
  },
  {
   "cell_type": "code",
   "execution_count": null,
   "id": "3f252158",
   "metadata": {},
   "outputs": [],
   "source": [
    "global_bogota1_phase2_mean = subset_bogota1_phase2_all_only['similarity'].describe().loc['mean']\n",
    "global_bogota1_phase2_median = subset_bogota1_phase2_all_only['similarity'].median()\n",
    "global_bogota1_phase2_min = subset_bogota1_phase2_all_only['similarity'].describe().loc['min']"
   ]
  },
  {
   "cell_type": "code",
   "execution_count": null,
   "id": "81a2fab2",
   "metadata": {},
   "outputs": [],
   "source": [
    "global_bogota1_phase3_mean = subset_bogota1_phase3_all_only['similarity'].describe().loc['mean']\n",
    "global_bogota1_phase3_median = subset_bogota1_phase3_all_only['similarity'].median()\n",
    "global_bogota1_phase3_min = subset_bogota1_phase3_all_only['similarity'].describe().loc['min']"
   ]
  },
  {
   "cell_type": "code",
   "execution_count": null,
   "id": "01098692",
   "metadata": {},
   "outputs": [],
   "source": [
    "global_bogota1_phase4_mean = subset_bogota1_phase4_all_only['similarity'].describe().loc['mean']\n",
    "global_bogota1_phase4_median = subset_bogota1_phase4_all_only['similarity'].median()\n",
    "global_bogota1_phase4_min = subset_bogota1_phase4_all_only['similarity'].describe().loc['min']"
   ]
  },
  {
   "cell_type": "code",
   "execution_count": null,
   "id": "bd839bdd",
   "metadata": {},
   "outputs": [],
   "source": [
    "global_bogota1_phase5_mean = subset_bogota1_phase5_all_only['similarity'].describe().loc['mean']\n",
    "global_bogota1_phase5_median = subset_bogota1_phase5_all_only['similarity'].median()\n",
    "global_bogota1_phase5_min = subset_bogota1_phase5_all_only['similarity'].describe().loc['min']"
   ]
  },
  {
   "cell_type": "markdown",
   "id": "9ee0bb9b",
   "metadata": {},
   "source": [
    "## Bogota 0"
   ]
  },
  {
   "cell_type": "code",
   "execution_count": null,
   "id": "b2987a43",
   "metadata": {},
   "outputs": [],
   "source": [
    "global_bogota0_phase1_mean = subset_bogota0_phase1_all_only['similarity'].describe().loc['mean']\n",
    "global_bogota0_phase1_median = subset_bogota0_phase1_all_only['similarity'].median()\n",
    "global_bogota0_phase1_min = subset_bogota0_phase1_all_only['similarity'].describe().loc['min']"
   ]
  },
  {
   "cell_type": "code",
   "execution_count": null,
   "id": "2d07f48b",
   "metadata": {},
   "outputs": [],
   "source": [
    "global_bogota0_phase2_mean  = subset_bogota0_phase2_all_only['similarity'].describe().loc['mean']\n",
    "global_bogota0_phase2_median = subset_bogota0_phase2_all_only['similarity'].median()\n",
    "global_bogota0_phase2_min = subset_bogota0_phase2_all_only['similarity'].describe().loc['min']"
   ]
  },
  {
   "cell_type": "code",
   "execution_count": null,
   "id": "c9d0468c",
   "metadata": {},
   "outputs": [],
   "source": [
    "global_bogota0_phase3_mean  = subset_bogota0_phase3_all_only['similarity'].describe().loc['mean']\n",
    "global_bogota0_phase3_median = subset_bogota0_phase3_all_only['similarity'].median()\n",
    "global_bogota0_phase3_min = subset_bogota0_phase3_all_only['similarity'].describe().loc['min']"
   ]
  },
  {
   "cell_type": "code",
   "execution_count": null,
   "id": "971ef111",
   "metadata": {},
   "outputs": [],
   "source": [
    "global_bogota0_phase4_mean = subset_bogota0_phase4_all_only['similarity'].describe().loc['mean']\n",
    "global_bogota0_phase4_median = subset_bogota0_phase4_all_only['similarity'].median()\n",
    "global_bogota0_phase4_min = subset_bogota0_phase4_all_only['similarity'].describe().loc['min']"
   ]
  },
  {
   "cell_type": "code",
   "execution_count": null,
   "id": "c311262a",
   "metadata": {},
   "outputs": [],
   "source": [
    "global_bogota0_phase5_mean  = subset_bogota0_phase5_all_only['similarity'].describe().loc['mean']\n",
    "global_bogota0_phase5_median = subset_bogota0_phase5_all_only['similarity'].median()\n",
    "global_bogota0_phase5_min = subset_bogota0_phase5_all_only['similarity'].describe().loc['min']"
   ]
  },
  {
   "cell_type": "code",
   "execution_count": null,
   "id": "69fa8392",
   "metadata": {},
   "outputs": [],
   "source": [
    "import matplotlib.pyplot as plt\n",
    "\n",
    "# Mean Scores of All Groups [ Tech Scores ]\n",
    "\n",
    "y1 = [global_bogota0_phase1_mean, global_bogota0_phase2_mean, global_bogota0_phase3_mean, global_bogota0_phase4_mean, global_bogota0_phase5_mean]\n",
    "y2 = [global_bogota1_phase1_mean, global_bogota1_phase2_mean, global_bogota1_phase3_mean, global_bogota1_phase4_mean, global_bogota1_phase5_mean]\n",
    "y3 = [global_bogota2_phase1_mean, global_bogota2_phase2_mean, global_bogota2_phase3_mean, global_bogota2_phase4_mean, global_bogota2_phase5_mean]\n",
    "y4 = [global_bogota3_phase1_mean, global_bogota3_phase2_mean, global_bogota3_phase3_mean, global_bogota3_phase4_mean, global_bogota3_phase5_mean]\n",
    "\n",
    "\n",
    "x_axis=['Phase 1', 'Phase 2', 'Phase 3', 'Phase 4', 'Phase 5']\n",
    "\n",
    "line1 = plt.plot(x_axis, y1,'bo-',label='Bogota 0 ( No Transparency )') \n",
    "line2 = plt.plot(x_axis, y2,'go-',label='Bogota 1 ( Performance Transparency )') \n",
    "line3 = plt.plot(x_axis, y3,'ko-',label='Bogota 2 ( Solution Transparency )')\n",
    "line4 = plt.plot(x_axis, y4,'ro-',label='Bogota 3 ( Full Transparency )') \n",
    "\n",
    "plt.title(\"Mean Similarity in Global Functions Context\")\n",
    "plt.ylabel(\"Mean Similarity\")\n",
    "\n",
    "plt.legend(bbox_to_anchor=(1.5, 1),\n",
    "           bbox_transform=plt.gcf().transFigure)"
   ]
  },
  {
   "cell_type": "code",
   "execution_count": null,
   "id": "f92955ff",
   "metadata": {},
   "outputs": [],
   "source": [
    "import matplotlib.pyplot as plt\n",
    "\n",
    "# Mean Scores of All Groups [ Tech Scores ]\n",
    "\n",
    "y1 = [global_bogota0_phase1_median, global_bogota0_phase2_median, global_bogota0_phase3_median, global_bogota0_phase4_median, global_bogota0_phase5_median]\n",
    "y2 = [global_bogota1_phase1_median, global_bogota1_phase2_median, global_bogota1_phase3_median, global_bogota1_phase4_median, global_bogota1_phase5_median]\n",
    "y3 = [global_bogota2_phase1_median, global_bogota2_phase2_median, global_bogota2_phase3_median, global_bogota2_phase4_median, global_bogota2_phase5_median]\n",
    "y4 = [global_bogota3_phase1_median, global_bogota3_phase2_median, global_bogota3_phase3_median, global_bogota3_phase4_median, global_bogota3_phase5_median]\n",
    "\n",
    "\n",
    "\n",
    "x_axis=['Phase 1', 'Phase 2', 'Phase 3', 'Phase 4', 'Phase 5']\n",
    "\n",
    "line1 = plt.plot(x_axis, y1,'bo-',label='Bogota 0 ( No Transparency )') \n",
    "line2 = plt.plot(x_axis, y2,'go-',label='Bogota 1 ( Performance Transparency )') \n",
    "line3 = plt.plot(x_axis, y3,'ko-',label='Bogota 2 ( Solution Transparency )')\n",
    "line4 = plt.plot(x_axis, y4,'ro-',label='Bogota 3 ( Full Transparency )') \n",
    "\n",
    "plt.title(\"Median Similarity in Global Functions Context\")\n",
    "plt.ylabel(\"Median Similarity\")\n",
    "\n",
    "plt.legend(bbox_to_anchor=(1.5, 1),\n",
    "           bbox_transform=plt.gcf().transFigure)"
   ]
  },
  {
   "cell_type": "code",
   "execution_count": null,
   "id": "71574003",
   "metadata": {},
   "outputs": [],
   "source": [
    "import matplotlib.pyplot as plt\n",
    "\n",
    "# Mean Scores of All Groups [ Tech Scores ]\n",
    "\n",
    "y1 = [global_bogota0_phase1_min, global_bogota0_phase2_min, global_bogota0_phase3_min, global_bogota0_phase4_min, global_bogota0_phase5_min ]\n",
    "y2 = [global_bogota1_phase1_min, global_bogota1_phase2_min, global_bogota1_phase3_min, global_bogota1_phase4_min, global_bogota1_phase5_min]\n",
    "y3 = [global_bogota2_phase1_min, global_bogota2_phase2_min, global_bogota2_phase3_min, global_bogota2_phase4_min, global_bogota2_phase5_min ]\n",
    "y4 = [global_bogota3_phase1_min, global_bogota3_phase2_min, global_bogota3_phase3_min, global_bogota3_phase4_min, global_bogota3_phase5_min]\n",
    "\n",
    "\n",
    "\n",
    "x_axis=['Phase 1', 'Phase 2', 'Phase 3', 'Phase 4', 'Phase 5']\n",
    "\n",
    "line3 = plt.plot(x_axis, y1,'bo-',label='Bogota 0 ( No Transparency )') \n",
    "line4 = plt.plot(x_axis, y2,'go-',label='Bogota 1 ( Performance Transparency )') \n",
    "line1 = plt.plot(x_axis, y3,'ko-',label='Bogota 2 ( Solution Transparency )')\n",
    "line2 = plt.plot(x_axis, y4,'ro-',label='Bogota 3 ( Full Transparency )') \n",
    "\n",
    "plt.title(\"Minimum Similarity in Global Functions Context\")\n",
    "plt.ylabel(\"Minimum Similarity Scores\")\n",
    "\n",
    "plt.legend(bbox_to_anchor=(1.5, 1),\n",
    "           bbox_transform=plt.gcf().transFigure)"
   ]
  },
  {
   "cell_type": "code",
   "execution_count": null,
   "id": "dc1d3f4c",
   "metadata": {},
   "outputs": [],
   "source": [
    "df0_1 = subset_bogota0_phase1_all_only.rename(columns={'similarity':'b0-p1-similarity'}, inplace=False)\n",
    "df0_2 = subset_bogota0_phase2_all_only.rename(columns={'similarity':'b0-p2-similarity'}, inplace=False)\n",
    "df0_3 = subset_bogota0_phase3_all_only.rename(columns={'similarity':'b0-p3-similarity'}, inplace=False)\n",
    "df0_4 = subset_bogota0_phase4_all_only.rename(columns={'similarity':'b0-p4-similarity'}, inplace=False)\n",
    "df0_5 = subset_bogota0_phase5_all_only.rename(columns={'similarity':'b0-p5-similarity'}, inplace=False)\n",
    "\n",
    "from functools import reduce\n",
    "\n",
    "df0_merged_original = reduce(lambda x,y: pd.merge(x,y, on='user1', how='outer'), [df0_1, df0_2, df0_3, df0_4, df0_5])"
   ]
  },
  {
   "cell_type": "code",
   "execution_count": null,
   "id": "942177ea",
   "metadata": {},
   "outputs": [],
   "source": [
    "subset = df0_merged_original[[\"b0-p1-similarity\", \"b0-p2-similarity\", \"b0-p3-similarity\", \"b0-p4-similarity\", \"b0-p5-similarity\"]]\n",
    "import matplotlib.pyplot as plt\n",
    "import seaborn as sns\n",
    "\n",
    "median_list_b0_o=[]\n",
    "mean_list_b0_o=[]\n",
    "min_list_b0_o=[]\n",
    "max_list_b0_o=[]\n",
    "\n",
    "for i, column in enumerate(subset.columns, 1):\n",
    "    plt.subplot(2,3,i)\n",
    "    sns.set(rc={'figure.figsize':(11.7,8.27)})\n",
    "    sns.distplot(subset[column])\n",
    "    median_list_b0_o.append(subset[column].describe().loc['50%'])\n",
    "    mean_list_b0_o.append(subset[column].describe().loc['mean'])\n",
    "    min_list_b0_o.append(subset[column].describe().loc['min'])\n",
    "    max_list_b0_o.append(subset[column].describe().loc['max'])"
   ]
  },
  {
   "cell_type": "code",
   "execution_count": null,
   "id": "868fed93",
   "metadata": {},
   "outputs": [],
   "source": [
    "df0_merged = df0_merged_original[[\"b0-p1-similarity\", \"b0-p2-similarity\", \"b0-p3-similarity\", \"b0-p4-similarity\", \"b0-p5-similarity\"]].apply(np.log1p)\n",
    "df0_merged"
   ]
  },
  {
   "cell_type": "code",
   "execution_count": null,
   "id": "aebb6d7a",
   "metadata": {},
   "outputs": [],
   "source": [
    "subset = df0_merged[[\"b0-p1-similarity\", \"b0-p2-similarity\", \"b0-p3-similarity\", \"b0-p4-similarity\", \"b0-p5-similarity\"]]\n",
    "import matplotlib.pyplot as plt\n",
    "import seaborn as sns\n",
    "\n",
    "median_list_b0=[]\n",
    "mean_list_b0=[]\n",
    "min_list_b0=[]\n",
    "max_list_b0=[]\n",
    "\n",
    "for i, column in enumerate(subset.columns, 1):\n",
    "    plt.subplot(2,3,i)\n",
    "    sns.set(rc={'figure.figsize':(11.7,8.27)})\n",
    "    sns.distplot(subset[column])\n",
    "    median_list_b0.append(subset[column].describe().loc['50%'])\n",
    "    mean_list_b0.append(subset[column].describe().loc['mean'])\n",
    "    min_list_b0.append(subset[column].describe().loc['min'])\n",
    "    max_list_b0.append(subset[column].describe().loc['max'])"
   ]
  },
  {
   "cell_type": "code",
   "execution_count": null,
   "id": "c3df8efb",
   "metadata": {},
   "outputs": [],
   "source": [
    "from functools import reduce\n",
    "b1_p1 = subset_bogota1_phase1_all_only.rename(columns = {'similarity':'b1-p1-similarity'}, inplace = False)\n",
    "b1_p2 = subset_bogota1_phase2_all_only.rename(columns = {'similarity':'b1-p2-similarity'}, inplace = False)\n",
    "b1_p3 = subset_bogota1_phase3_all_only.rename(columns = {'similarity':'b1-p3-similarity'}, inplace = False)\n",
    "b1_p4 = subset_bogota1_phase4_all_only.rename(columns = {'similarity':'b1-p4-similarity'}, inplace = False)\n",
    "b1_p5 = subset_bogota1_phase5_all_only.rename(columns = {'similarity':'b1-p5-similarity'}, inplace = False)\n",
    "data_frames = [b1_p1, b1_p2, b1_p3, b1_p4, b1_p5]\n",
    "df1_merged_original = reduce(lambda  left, right: pd.merge(left, right,on=['user1'], how='outer'), data_frames)"
   ]
  },
  {
   "cell_type": "code",
   "execution_count": null,
   "id": "02281b95",
   "metadata": {},
   "outputs": [],
   "source": [
    "subset = df1_merged_original[[\"b1-p1-similarity\", \"b1-p2-similarity\", \"b1-p3-similarity\", \"b1-p4-similarity\", \"b1-p5-similarity\"]]\n",
    "import matplotlib.pyplot as plt\n",
    "import seaborn as sns\n",
    "\n",
    "median_list_b1_o=[]\n",
    "mean_list_b1_o=[]\n",
    "max_list_b1_o=[]\n",
    "min_list_b1_o=[]\n",
    "\n",
    "for i, column in enumerate(subset.columns, 1):\n",
    "    plt.subplot(2,3,i)\n",
    "    sns.set(rc={'figure.figsize':(11.7,8.27)})\n",
    "    sns.distplot(subset[column])\n",
    "    median_list_b1_o.append(subset[column].describe().loc['50%'])\n",
    "    mean_list_b1_o.append(subset[column].describe().loc['mean'])\n",
    "    max_list_b1_o.append(subset[column].describe().loc['max'])\n",
    "    min_list_b1_o.append(subset[column].describe().loc['min'])"
   ]
  },
  {
   "cell_type": "code",
   "execution_count": null,
   "id": "5080f969",
   "metadata": {
    "scrolled": true
   },
   "outputs": [],
   "source": [
    "df1_merged = df1_merged_original[[\"b1-p1-similarity\", \"b1-p2-similarity\", \"b1-p3-similarity\", \"b1-p4-similarity\", \"b1-p5-similarity\"]].apply(np.log1p)\n",
    "df1_merged"
   ]
  },
  {
   "cell_type": "code",
   "execution_count": null,
   "id": "e2dc4d57",
   "metadata": {},
   "outputs": [],
   "source": [
    "subset = df1_merged[[\"b1-p1-similarity\", \"b1-p2-similarity\", \"b1-p3-similarity\", \"b1-p4-similarity\", \"b1-p5-similarity\"]]\n",
    "import matplotlib.pyplot as plt\n",
    "import seaborn as sns\n",
    "\n",
    "median_list_b1=[]\n",
    "mean_list_b1=[]\n",
    "max_list_b1=[]\n",
    "min_list_b1=[]\n",
    "\n",
    "for i, column in enumerate(subset.columns, 1):\n",
    "    plt.subplot(2,3,i)\n",
    "    sns.set(rc={'figure.figsize':(11.7,8.27)})\n",
    "    sns.distplot(subset[column])\n",
    "    median_list_b1.append(subset[column].describe().loc['50%'])\n",
    "    mean_list_b1.append(subset[column].describe().loc['mean'])\n",
    "    max_list_b1.append(subset[column].describe().loc['max'])\n",
    "    min_list_b1.append(subset[column].describe().loc['min'])"
   ]
  },
  {
   "cell_type": "code",
   "execution_count": null,
   "id": "8f63e874",
   "metadata": {},
   "outputs": [],
   "source": [
    "from functools import reduce\n",
    "b2_p1 = subset_bogota2_phase1_all_only.rename(columns = {'similarity':'b2-p1-similarity'}, inplace = False)\n",
    "b2_p2 = subset_bogota2_phase2_all_only.rename(columns = {'similarity':'b2-p2-similarity'}, inplace = False)\n",
    "b2_p3 = subset_bogota2_phase3_all_only.rename(columns = {'similarity':'b2-p3-similarity'}, inplace = False)\n",
    "b2_p4 = subset_bogota2_phase4_all_only.rename(columns = {'similarity':'b2-p4-similarity'}, inplace = False)\n",
    "b2_p5 = subset_bogota2_phase5_all_only.rename(columns = {'similarity':'b2-p5-similarity'}, inplace = False)\n",
    "data_frames = [b2_p1, b2_p2, b2_p3, b2_p4, b2_p5]\n",
    "df2_merged_original = reduce(lambda  left, right: pd.merge(left, right,on=['user1'], how='outer'), data_frames)\n"
   ]
  },
  {
   "cell_type": "code",
   "execution_count": null,
   "id": "c4e1899e",
   "metadata": {},
   "outputs": [],
   "source": [
    "subset = df2_merged_original[[\"b2-p1-similarity\", \"b2-p2-similarity\", \"b2-p3-similarity\", \"b2-p4-similarity\", \"b2-p5-similarity\"]]\n",
    "import matplotlib.pyplot as plt\n",
    "import seaborn as sns\n",
    "\n",
    "median_list_b2_o=[]\n",
    "mean_list_b2_o=[]\n",
    "min_list_b2_o=[]\n",
    "max_list_b2_o=[]\n",
    "\n",
    "for i, column in enumerate(subset.columns, 1):\n",
    "    plt.subplot(2,3,i)\n",
    "    sns.set(rc={'figure.figsize':(11.7,8.27)})\n",
    "    sns.distplot(subset[column])\n",
    "    median_list_b2_o.append(subset[column].describe().loc['50%'])\n",
    "    mean_list_b2_o.append(subset[column].describe().loc['mean'])\n",
    "    min_list_b2_o.append(subset[column].describe().loc['min'])\n",
    "    max_list_b2_o.append(subset[column].describe().loc['max'])"
   ]
  },
  {
   "cell_type": "code",
   "execution_count": null,
   "id": "fb8c67ac",
   "metadata": {},
   "outputs": [],
   "source": [
    "df2_merged = df2_merged_original[[\"b2-p1-similarity\", \"b2-p2-similarity\", \"b2-p3-similarity\", \"b2-p4-similarity\", \"b2-p5-similarity\"]].apply(np.log1p)\n",
    "df2_merged"
   ]
  },
  {
   "cell_type": "code",
   "execution_count": null,
   "id": "38050934",
   "metadata": {},
   "outputs": [],
   "source": [
    "subset = df2_merged[[\"b2-p1-similarity\", \"b2-p2-similarity\", \"b2-p3-similarity\", \"b2-p4-similarity\", \"b2-p5-similarity\"]]\n",
    "import matplotlib.pyplot as plt\n",
    "import seaborn as sns\n",
    "\n",
    "median_list_b2=[]\n",
    "mean_list_b2=[]\n",
    "min_list_b2=[]\n",
    "max_list_b2=[]\n",
    "\n",
    "for i, column in enumerate(subset.columns, 1):\n",
    "    plt.subplot(2,3,i)\n",
    "    sns.set(rc={'figure.figsize':(11.7,8.27)})\n",
    "    sns.distplot(subset[column])\n",
    "    median_list_b2.append(subset[column].describe().loc['50%'])\n",
    "    mean_list_b2.append(subset[column].describe().loc['mean'])\n",
    "    min_list_b2.append(subset[column].describe().loc['min'])\n",
    "    max_list_b2.append(subset[column].describe().loc['max'])"
   ]
  },
  {
   "cell_type": "code",
   "execution_count": null,
   "id": "1e3ca99c",
   "metadata": {},
   "outputs": [],
   "source": [
    "from functools import reduce\n",
    "b3_p1 = subset_bogota3_phase1_all_only.rename(columns = {'similarity':'b3-p1-similarity'}, inplace = False)\n",
    "b3_p2 = overall_phase2_bogota3_all_only.rename(columns = {'similarity':'b3-p2-similarity'}, inplace = False)\n",
    "b3_p3 = subset_bogota3_phase3_all_only.rename(columns = {'similarity':'b3-p3-similarity'}, inplace = False)\n",
    "b3_p4 = overall_phase4_bogota3_all_only.rename(columns = {'similarity':'b3-p4-similarity'}, inplace = False)\n",
    "b3_p5 = overall_phase5_bogota3_all_only.rename(columns = {'similarity':'b3-p5-similarity'}, inplace = False)\n",
    "data_frames = [b3_p1, b3_p2, b3_p3, b3_p4, b3_p5]\n",
    "df3_merged_original = reduce(lambda  left, right: pd.merge(left, right,on=['user1'], how='outer'), data_frames)"
   ]
  },
  {
   "cell_type": "code",
   "execution_count": null,
   "id": "690b59ed",
   "metadata": {},
   "outputs": [],
   "source": [
    "subset = df3_merged_original[[\"b3-p1-similarity\", \"b3-p2-similarity\", \"b3-p3-similarity\", \"b3-p4-similarity\", \"b3-p5-similarity\"]]\n",
    "import matplotlib.pyplot as plt\n",
    "import seaborn as sns\n",
    "\n",
    "median_list_b3_o=[]\n",
    "mean_list_b3_o=[]\n",
    "min_list_b3_o=[]\n",
    "max_list_b3_o=[]\n",
    "\n",
    "for i, column in enumerate(subset.columns, 1):\n",
    "    plt.subplot(2,3,i)\n",
    "    sns.set(rc={'figure.figsize':(11.7,8.27)})\n",
    "    sns.distplot(subset[column])\n",
    "    median_list_b3_o.append(subset[column].describe().loc['50%'])\n",
    "    mean_list_b3_o.append(subset[column].describe().loc['mean'])\n",
    "    max_list_b3_o.append(subset[column].describe().loc['max'])\n",
    "    min_list_b3_o.append(subset[column].describe().loc['min'])"
   ]
  },
  {
   "cell_type": "code",
   "execution_count": null,
   "id": "2c19f345",
   "metadata": {},
   "outputs": [],
   "source": [
    "df3_merged = df3_merged_original[[\"b3-p1-similarity\", \"b3-p2-similarity\", \"b3-p3-similarity\", \"b3-p4-similarity\", \"b3-p5-similarity\"]].apply(np.log1p)\n",
    "df3_merged"
   ]
  },
  {
   "cell_type": "code",
   "execution_count": null,
   "id": "1469f987",
   "metadata": {},
   "outputs": [],
   "source": [
    "subset = df3_merged[[\"b3-p1-similarity\", \"b3-p2-similarity\", \"b3-p3-similarity\", \"b3-p4-similarity\", \"b3-p5-similarity\"]]\n",
    "import matplotlib.pyplot as plt\n",
    "import seaborn as sns\n",
    "\n",
    "median_list_b3=[]\n",
    "mean_list_b3=[]\n",
    "min_list_b3=[]\n",
    "max_list_b3=[]\n",
    "\n",
    "for i, column in enumerate(subset.columns, 1):\n",
    "    plt.subplot(2,3,i)\n",
    "    sns.set(rc={'figure.figsize':(11.7,8.27)})\n",
    "    sns.distplot(subset[column])\n",
    "    median_list_b3.append(subset[column].describe().loc['50%'])\n",
    "    mean_list_b3.append(subset[column].describe().loc['mean'])\n",
    "    max_list_b3.append(subset[column].describe().loc['max'])\n",
    "    min_list_b3.append(subset[column].describe().loc['min'])"
   ]
  },
  {
   "cell_type": "code",
   "execution_count": null,
   "id": "4cd0755e",
   "metadata": {},
   "outputs": [],
   "source": [
    "import matplotlib.pyplot as plt\n",
    "\n",
    "# Mean Scores of All Groups [ Tech Scores ]\n",
    "\n",
    "y1 = median_list_b0_o\n",
    "y2 = median_list_b1_o\n",
    "y3 = median_list_b2_o\n",
    "y4 = median_list_b3_o\n",
    "\n",
    "\n",
    "x_axis=['Phase 1', 'Phase 2', 'Phase 3', 'Phase 4', 'Phase 5']\n",
    "\n",
    "line1 = plt.plot(x_axis, y1,'bo-',label='Bogota 0 ( No Transparency )') \n",
    "line2 = plt.plot(x_axis, y2,'go-',label='Bogota 1 ( Performance Transparency )') \n",
    "line3 = plt.plot(x_axis, y3,'ko-',label='Bogota 2 ( Solution Transparency )')\n",
    "line4 = plt.plot(x_axis, y4,'ro-',label='Bogota 3 ( Full Transparency )') \n",
    "\n",
    "plt.title(\"Raw Median Similarity in Global Functions Context\")\n",
    "plt.ylabel(\"Raw Median Similarity in Global Functions Context\")\n",
    "\n",
    "plt.legend(bbox_to_anchor=(1.5, 1),\n",
    "           bbox_transform=plt.gcf().transFigure)"
   ]
  },
  {
   "cell_type": "code",
   "execution_count": null,
   "id": "54283af5",
   "metadata": {},
   "outputs": [],
   "source": [
    "import matplotlib.pyplot as plt\n",
    "\n",
    "# Mean Scores of All Groups [ Tech Scores ]\n",
    "\n",
    "y1 = median_list_b0\n",
    "y2 = median_list_b1\n",
    "y3 = median_list_b2\n",
    "y4 = median_list_b3\n",
    "\n",
    "\n",
    "x_axis=['Phase 1', 'Phase 2', 'Phase 3', 'Phase 4', 'Phase 5']\n",
    "\n",
    "line1 = plt.plot(x_axis, y1,'bo-',label='Bogota 0 ( No Transparency )') \n",
    "line2 = plt.plot(x_axis, y2,'go-',label='Bogota 1 ( Performance Transparency )') \n",
    "line3 = plt.plot(x_axis, y3,'ko-',label='Bogota 2 ( Solution Transparency )')\n",
    "line4 = plt.plot(x_axis, y4,'ro-',label='Bogota 3 ( Full Transparency )') \n",
    "\n",
    "plt.title(\"Log-Transform Median Similarity in Global Functions Context\")\n",
    "plt.ylabel(\"Log-Transform Median Similarity in Global Functions Context\")\n",
    "\n",
    "plt.legend(bbox_to_anchor=(1.5, 1),\n",
    "           bbox_transform=plt.gcf().transFigure)"
   ]
  },
  {
   "cell_type": "code",
   "execution_count": null,
   "id": "ac6f4b1d",
   "metadata": {},
   "outputs": [],
   "source": [
    "import matplotlib.pyplot as plt\n",
    "\n",
    "# Mean Scores of All Groups [ Tech Scores ]\n",
    "\n",
    "y1 = mean_list_b0\n",
    "y2 = mean_list_b1\n",
    "y3 = mean_list_b2\n",
    "y4 = mean_list_b3\n",
    "\n",
    "\n",
    "x_axis=['Phase 1', 'Phase 2', 'Phase 3', 'Phase 4', 'Phase 5']\n",
    "\n",
    "line1 = plt.plot(x_axis, y1,'bo-',label='Bogota 0 ( No Transparency )') \n",
    "line2 = plt.plot(x_axis, y2,'go-',label='Bogota 1 ( Performance Transparency )') \n",
    "line3 = plt.plot(x_axis, y3,'ko-',label='Bogota 2 ( Solution Transparency )')\n",
    "line4 = plt.plot(x_axis, y4,'ro-',label='Bogota 3 ( Full Transparency )') \n",
    "\n",
    "plt.title(\"Log-Transform Mean Similarity in Global Functions Context\")\n",
    "plt.ylabel(\"Log-Transform Mean Similarity in Global Functions Context\")\n",
    "\n",
    "plt.legend(bbox_to_anchor=(1.5, 1),\n",
    "           bbox_transform=plt.gcf().transFigure)"
   ]
  },
  {
   "cell_type": "code",
   "execution_count": null,
   "id": "7157e72e",
   "metadata": {},
   "outputs": [],
   "source": [
    "import matplotlib.pyplot as plt\n",
    "\n",
    "# Mean Scores of All Groups [ Tech Scores ]\n",
    "\n",
    "y1 = mean_list_b0_o\n",
    "y2 = mean_list_b1_o\n",
    "y3 = mean_list_b2_o\n",
    "y4 = mean_list_b3_o\n",
    "\n",
    "\n",
    "x_axis=['Phase 1', 'Phase 2', 'Phase 3', 'Phase 4', 'Phase 5']\n",
    "\n",
    "line1 = plt.plot(x_axis, y1,'bo-',label='Bogota 0 ( No Transparency )') \n",
    "line2 = plt.plot(x_axis, y2,'go-',label='Bogota 1 ( Performance Transparency )') \n",
    "line3 = plt.plot(x_axis, y3,'ko-',label='Bogota 2 ( Solution Transparency )')\n",
    "line4 = plt.plot(x_axis, y4,'ro-',label='Bogota 3 ( Full Transparency )') \n",
    "\n",
    "plt.title(\"Raw Mean Similarity in Global Functions Context\")\n",
    "plt.ylabel(\"Raw Mean Similarity in Global Functions Context\")\n",
    "\n",
    "plt.legend(bbox_to_anchor=(1.5, 1),\n",
    "           bbox_transform=plt.gcf().transFigure)"
   ]
  },
  {
   "cell_type": "code",
   "execution_count": null,
   "id": "298562df",
   "metadata": {},
   "outputs": [],
   "source": [
    "import matplotlib.pyplot as plt\n",
    "\n",
    "# Mean Scores of All Groups [ Tech Scores ]\n",
    "\n",
    "y1 = min_list_b0\n",
    "y2 = min_list_b1\n",
    "y3 = min_list_b2\n",
    "y4 = min_list_b3\n",
    "\n",
    "\n",
    "x_axis=['Phase 1', 'Phase 2', 'Phase 3', 'Phase 4', 'Phase 5']\n",
    "\n",
    "line1 = plt.plot(x_axis, y1,'bo-',label='Bogota 0 ( No Transparency )') \n",
    "line2 = plt.plot(x_axis, y2,'go-',label='Bogota 1 ( Performance Transparency )') \n",
    "line3 = plt.plot(x_axis, y3,'ko-',label='Bogota 2 ( Solution Transparency )')\n",
    "line4 = plt.plot(x_axis, y4,'ro-',label='Bogota 3 ( Full Transparency )') \n",
    "\n",
    "plt.title(\"Log-Transform Min Similarity in Global Functions Context\")\n",
    "plt.ylabel(\"Log-Transform Min Similarity in Global Functions Context\")\n",
    "\n",
    "plt.legend(bbox_to_anchor=(1.5, 1),\n",
    "           bbox_transform=plt.gcf().transFigure)"
   ]
  },
  {
   "cell_type": "code",
   "execution_count": null,
   "id": "d831eeea",
   "metadata": {},
   "outputs": [],
   "source": [
    "import matplotlib.pyplot as plt\n",
    "\n",
    "# Mean Scores of All Groups [ Tech Scores ]\n",
    "\n",
    "y1 = max_list_b0\n",
    "y2 = max_list_b1\n",
    "y3 = max_list_b2\n",
    "y4 = max_list_b3\n",
    "\n",
    "\n",
    "x_axis=['Phase 1', 'Phase 2', 'Phase 3', 'Phase 4', 'Phase 5']\n",
    "\n",
    "line1 = plt.plot(x_axis, y1,'bo-',label='Bogota 0 ( No Transparency )') \n",
    "line2 = plt.plot(x_axis, y2,'go-',label='Bogota 1 ( Performance Transparency )') \n",
    "line3 = plt.plot(x_axis, y3,'ko-',label='Bogota 2 ( Solution Transparency )')\n",
    "line4 = plt.plot(x_axis, y4,'ro-',label='Bogota 3 ( Full Transparency )') \n",
    "\n",
    "plt.title(\"Log-Transform Max Similarity in Global Functions Context\")\n",
    "plt.ylabel(\"Log-Transform Max Similarity in Global Functions Context\")\n",
    "\n",
    "plt.legend(bbox_to_anchor=(1.5, 1),\n",
    "           bbox_transform=plt.gcf().transFigure)"
   ]
  },
  {
   "cell_type": "markdown",
   "id": "69a556dd",
   "metadata": {},
   "source": [
    "## Calculate the uniqueness measure based on Uzzi's and Sio's paper. [ Have to be Read ]"
   ]
  },
  {
   "cell_type": "markdown",
   "id": "70c28cbe",
   "metadata": {},
   "source": [
    "Atypical combinations and scientific impact by Uzzi "
   ]
  },
  {
   "cell_type": "markdown",
   "id": "57127b1f",
   "metadata": {},
   "source": [
    "Take the whole sample of functions and identify the most common and the least common functions based on the 90% most common and 10% least common functions. Explore in which group they occur and which phase. "
   ]
  },
  {
   "cell_type": "code",
   "execution_count": null,
   "id": "2eab6fb4",
   "metadata": {},
   "outputs": [],
   "source": [
    "overall_45_functions = overall_45['functions'].to_list()\n",
    "overall_45_functions"
   ]
  },
  {
   "cell_type": "code",
   "execution_count": null,
   "id": "61ab329e",
   "metadata": {},
   "outputs": [],
   "source": [
    "## 20,000. most unique functions \n",
    "new_list"
   ]
  },
  {
   "cell_type": "markdown",
   "id": "2d4f9ecc",
   "metadata": {},
   "source": [
    "## Phase 5"
   ]
  },
  {
   "cell_type": "code",
   "execution_count": null,
   "id": "bfde817b",
   "metadata": {},
   "outputs": [],
   "source": [
    "listed = overall_phase5_bogota3['functions'].to_list()\n",
    "converted_list = [str(element) for element in  listed]\n",
    "joined_string = \",\".join(converted_list)\n",
    "bogota3_phase5 = joined_string.split(\",\")\n",
    "bogota3_phase5"
   ]
  },
  {
   "cell_type": "code",
   "execution_count": null,
   "id": "9e9e341a",
   "metadata": {},
   "outputs": [],
   "source": [
    "unique_bogota3_phase5 = list(set(bogota3_phase5).intersection(set(new_list)))\n",
    "len_unique_bogota3_phase5 = len(unique_bogota3_phase5)"
   ]
  },
  {
   "cell_type": "code",
   "execution_count": null,
   "id": "b7e8eed5",
   "metadata": {},
   "outputs": [],
   "source": [
    "unique_bogota3_phase5 = list(set(bogota3_phase5).intersection(set(top_5_unique)))\n",
    "top_5_unique_bogota3_phase5 = len(unique_bogota3_phase5)"
   ]
  },
  {
   "cell_type": "code",
   "execution_count": null,
   "id": "eab7aafc",
   "metadata": {},
   "outputs": [],
   "source": [
    "unique_bogota3_phase5 = list(set(bogota3_phase5).intersection(set(top_10_unique)))\n",
    "top_10_unique_bogota3_phase5  = len(unique_bogota3_phase5)"
   ]
  },
  {
   "cell_type": "code",
   "execution_count": null,
   "id": "339c8cbd",
   "metadata": {},
   "outputs": [],
   "source": [
    "unique_bogota3_phase5 = list(set(bogota3_phase5).intersection(set(top_15_unique)))\n",
    "top_15_unique_bogota3_phase5  = len(unique_bogota3_phase5)"
   ]
  },
  {
   "cell_type": "code",
   "execution_count": null,
   "id": "adac76ae",
   "metadata": {},
   "outputs": [],
   "source": [
    "unique_bogota3_phase5 = list(set(bogota3_phase5).intersection(set(top_20_unique)))\n",
    "top_20_unique_bogota3_phase5  = len(unique_bogota3_phase5)"
   ]
  },
  {
   "cell_type": "code",
   "execution_count": null,
   "id": "fcfcb159",
   "metadata": {},
   "outputs": [],
   "source": [
    "listed = overall_phase5_bogota1['functions'].to_list()\n",
    "converted_list = [str(element) for element in  listed]\n",
    "joined_string = \",\".join(converted_list)\n",
    "bogota1_phase5 = joined_string.split(\",\")\n",
    "bogota1_phase5"
   ]
  },
  {
   "cell_type": "code",
   "execution_count": null,
   "id": "aae08029",
   "metadata": {},
   "outputs": [],
   "source": [
    "unique_bogota1_phase5 = list(set(bogota1_phase5).intersection(set(new_list)))\n",
    "len_unique_bogota1_phase5 = len(unique_bogota1_phase5)"
   ]
  },
  {
   "cell_type": "code",
   "execution_count": null,
   "id": "ac81bd49",
   "metadata": {},
   "outputs": [],
   "source": [
    "unique_bogota1_phase5 = list(set(bogota1_phase5).intersection(set(top_5_unique)))\n",
    "top_5_unique_bogota1_phase5 = len(unique_bogota1_phase5)"
   ]
  },
  {
   "cell_type": "code",
   "execution_count": null,
   "id": "241b2c8d",
   "metadata": {},
   "outputs": [],
   "source": [
    "unique_bogota1_phase5 = list(set(bogota1_phase5).intersection(set(top_10_unique)))\n",
    "top_10_unique_bogota1_phase5 = len(unique_bogota1_phase5)"
   ]
  },
  {
   "cell_type": "code",
   "execution_count": null,
   "id": "df53e803",
   "metadata": {},
   "outputs": [],
   "source": [
    "unique_bogota1_phase5 = list(set(bogota1_phase5).intersection(set(top_15_unique)))\n",
    "top_15_unique_bogota1_phase5 = len(unique_bogota1_phase5)"
   ]
  },
  {
   "cell_type": "code",
   "execution_count": null,
   "id": "aef9731e",
   "metadata": {},
   "outputs": [],
   "source": [
    "unique_bogota1_phase5 = list(set(bogota1_phase5).intersection(set(top_20_unique)))\n",
    "top_20_unique_bogota1_phase5 = len(unique_bogota1_phase5)"
   ]
  },
  {
   "cell_type": "code",
   "execution_count": null,
   "id": "cae2dc9c",
   "metadata": {},
   "outputs": [],
   "source": [
    "listed = overall_phase5_bogota2['functions'].to_list()\n",
    "converted_list = [str(element) for element in  listed]\n",
    "joined_string = \",\".join(converted_list)\n",
    "bogota2_phase5 = joined_string.split(\",\")\n",
    "bogota2_phase5"
   ]
  },
  {
   "cell_type": "code",
   "execution_count": null,
   "id": "3e96d07c",
   "metadata": {},
   "outputs": [],
   "source": [
    "unique_bogota2_phase5 = list(set(bogota2_phase5).intersection(set(new_list)))\n",
    "len_unique_bogota2_phase5 = len(unique_bogota2_phase5)"
   ]
  },
  {
   "cell_type": "code",
   "execution_count": null,
   "id": "aa6d17a8",
   "metadata": {},
   "outputs": [],
   "source": [
    "unique_bogota2_phase5 = list(set(bogota2_phase5).intersection(set(top_5_unique)))\n",
    "top_5_unique_bogota2_phase5 = len(unique_bogota2_phase5)"
   ]
  },
  {
   "cell_type": "code",
   "execution_count": null,
   "id": "d6661bed",
   "metadata": {},
   "outputs": [],
   "source": [
    "unique_bogota2_phase5 = list(set(bogota2_phase5).intersection(set(top_10_unique)))\n",
    "top_10_unique_bogota2_phase5 = len(unique_bogota2_phase5)"
   ]
  },
  {
   "cell_type": "code",
   "execution_count": null,
   "id": "a01ed29b",
   "metadata": {},
   "outputs": [],
   "source": [
    "unique_bogota2_phase5 = list(set(bogota2_phase5).intersection(set(top_15_unique)))\n",
    "top_15_unique_bogota2_phase5 = len(unique_bogota2_phase5)"
   ]
  },
  {
   "cell_type": "code",
   "execution_count": null,
   "id": "fe952d90",
   "metadata": {},
   "outputs": [],
   "source": [
    "unique_bogota2_phase5 = list(set(bogota2_phase5).intersection(set(top_20_unique)))\n",
    "top_20_unique_bogota2_phase5 = len(unique_bogota2_phase5)"
   ]
  },
  {
   "cell_type": "code",
   "execution_count": null,
   "id": "6f5dc779",
   "metadata": {},
   "outputs": [],
   "source": [
    "listed = overall_phase5_bogota0['functions'].to_list()\n",
    "converted_list = [str(element) for element in  listed]\n",
    "joined_string = \",\".join(converted_list)\n",
    "bogota0_phase5 = joined_string.split(\",\")\n",
    "bogota0_phase5"
   ]
  },
  {
   "cell_type": "code",
   "execution_count": null,
   "id": "99059e2f",
   "metadata": {},
   "outputs": [],
   "source": [
    "unique_bogota0_phase5 = list(set(bogota0_phase5).intersection(set(new_list)))\n",
    "len_unique_bogota0_phase5 = len(unique_bogota0_phase5)"
   ]
  },
  {
   "cell_type": "code",
   "execution_count": null,
   "id": "56d56da3",
   "metadata": {},
   "outputs": [],
   "source": [
    "unique_bogota0_phase5 = list(set(bogota0_phase5).intersection(set(top_5_unique)))\n",
    "top_5_unique_bogota0_phase5 = len(unique_bogota0_phase5)"
   ]
  },
  {
   "cell_type": "code",
   "execution_count": null,
   "id": "3c3d43db",
   "metadata": {},
   "outputs": [],
   "source": [
    "unique_bogota0_phase5 = list(set(bogota0_phase5).intersection(set(top_10_unique)))\n",
    "top_10_unique_bogota0_phase5 = len(unique_bogota0_phase5)"
   ]
  },
  {
   "cell_type": "code",
   "execution_count": null,
   "id": "74ffc15b",
   "metadata": {},
   "outputs": [],
   "source": [
    "unique_bogota0_phase5 = list(set(bogota0_phase5).intersection(set(top_15_unique)))\n",
    "top_15_unique_bogota0_phase5 = len(unique_bogota0_phase5)"
   ]
  },
  {
   "cell_type": "code",
   "execution_count": null,
   "id": "238477ef",
   "metadata": {},
   "outputs": [],
   "source": [
    "unique_bogota0_phase5 = list(set(bogota0_phase5).intersection(set(top_20_unique)))\n",
    "top_20_unique_bogota0_phase5 = len(unique_bogota0_phase5)"
   ]
  },
  {
   "cell_type": "markdown",
   "id": "8d9ded47",
   "metadata": {},
   "source": [
    "## Phase 4"
   ]
  },
  {
   "cell_type": "code",
   "execution_count": null,
   "id": "db7ce602",
   "metadata": {},
   "outputs": [],
   "source": [
    "listed = overall_phase4_bogota3['functions'].to_list()\n",
    "converted_list = [str(element) for element in  listed]\n",
    "joined_string = \",\".join(converted_list)\n",
    "bogota3_phase4 = joined_string.split(\",\")\n"
   ]
  },
  {
   "cell_type": "code",
   "execution_count": null,
   "id": "107f43fb",
   "metadata": {},
   "outputs": [],
   "source": [
    "listed = overall_phase4_bogota2['functions'].to_list()\n",
    "converted_list = [str(element) for element in  listed]\n",
    "joined_string = \",\".join(converted_list)\n",
    "bogota2_phase4 = joined_string.split(\",\")\n"
   ]
  },
  {
   "cell_type": "code",
   "execution_count": null,
   "id": "93df25fb",
   "metadata": {},
   "outputs": [],
   "source": [
    "listed = overall_phase4_bogota1['functions'].to_list()\n",
    "converted_list = [str(element) for element in  listed]\n",
    "joined_string = \",\".join(converted_list)\n",
    "bogota1_phase4 = joined_string.split(\",\")\n"
   ]
  },
  {
   "cell_type": "code",
   "execution_count": null,
   "id": "0118a800",
   "metadata": {},
   "outputs": [],
   "source": [
    "listed = overall_phase4_bogota0['functions'].to_list()\n",
    "converted_list = [str(element) for element in  listed]\n",
    "joined_string = \",\".join(converted_list)\n",
    "bogota0_phase4 = joined_string.split(\",\")\n"
   ]
  },
  {
   "cell_type": "code",
   "execution_count": null,
   "id": "fd94c4ef",
   "metadata": {},
   "outputs": [],
   "source": [
    "unique_bogota3_phase4 = list(set(bogota3_phase4).intersection(set(new_list)))\n",
    "len_unique_bogota3_phase4 = len(unique_bogota3_phase4)"
   ]
  },
  {
   "cell_type": "code",
   "execution_count": null,
   "id": "9e1d70e2",
   "metadata": {},
   "outputs": [],
   "source": [
    "unique_bogota3_phase4 = list(set(bogota3_phase4).intersection(set(top_5_unique)))\n",
    "top_5_unique_bogota3_phase4 = len(unique_bogota3_phase4)"
   ]
  },
  {
   "cell_type": "code",
   "execution_count": null,
   "id": "b92ba6a0",
   "metadata": {},
   "outputs": [],
   "source": [
    "unique_bogota3_phase4 = list(set(bogota3_phase4).intersection(set(top_10_unique)))\n",
    "top_10_unique_bogota3_phase4 = len(unique_bogota3_phase4)"
   ]
  },
  {
   "cell_type": "code",
   "execution_count": null,
   "id": "538f9ff5",
   "metadata": {},
   "outputs": [],
   "source": [
    "unique_bogota3_phase4 = list(set(bogota3_phase4).intersection(set(top_15_unique)))\n",
    "top_15_unique_bogota3_phase4 = len(unique_bogota3_phase4)"
   ]
  },
  {
   "cell_type": "code",
   "execution_count": null,
   "id": "d396340f",
   "metadata": {},
   "outputs": [],
   "source": [
    "unique_bogota3_phase4 = list(set(bogota3_phase4).intersection(set(top_20_unique)))\n",
    "top_20_unique_bogota3_phase4 = len(unique_bogota3_phase4)"
   ]
  },
  {
   "cell_type": "code",
   "execution_count": null,
   "id": "1c443a4d",
   "metadata": {},
   "outputs": [],
   "source": [
    "unique_bogota2_phase4 = list(set(bogota2_phase4).intersection(set(new_list)))\n",
    "len_unique_bogota2_phase4 = len(unique_bogota2_phase4)"
   ]
  },
  {
   "cell_type": "code",
   "execution_count": null,
   "id": "b6b7e243",
   "metadata": {},
   "outputs": [],
   "source": [
    "unique_bogota2_phase4 = list(set(bogota2_phase4).intersection(set(new_list)))\n",
    "len_unique_bogota2_phase4 = len(unique_bogota2_phase4)"
   ]
  },
  {
   "cell_type": "code",
   "execution_count": null,
   "id": "02157769",
   "metadata": {},
   "outputs": [],
   "source": [
    "unique_bogota2_phase4 = list(set(bogota2_phase4).intersection(set(top_5_unique)))\n",
    "top_5_unique_bogota2_phase4 = len(unique_bogota2_phase4)"
   ]
  },
  {
   "cell_type": "code",
   "execution_count": null,
   "id": "7bfaefc4",
   "metadata": {},
   "outputs": [],
   "source": [
    "unique_bogota2_phase4 = list(set(bogota2_phase4).intersection(set(top_10_unique)))\n",
    "top_10_unique_bogota2_phase4 = len(unique_bogota2_phase4)"
   ]
  },
  {
   "cell_type": "code",
   "execution_count": null,
   "id": "8cfe3f60",
   "metadata": {},
   "outputs": [],
   "source": [
    "unique_bogota2_phase4 = list(set(bogota2_phase4).intersection(set(top_15_unique)))\n",
    "top_15_unique_bogota2_phase4 = len(unique_bogota2_phase4)"
   ]
  },
  {
   "cell_type": "code",
   "execution_count": null,
   "id": "84a5dbf4",
   "metadata": {},
   "outputs": [],
   "source": [
    "unique_bogota2_phase4 = list(set(bogota2_phase4).intersection(set(top_20_unique)))\n",
    "top_20_unique_bogota2_phase4 = len(unique_bogota2_phase4)"
   ]
  },
  {
   "cell_type": "code",
   "execution_count": null,
   "id": "0f4f7334",
   "metadata": {},
   "outputs": [],
   "source": [
    "unique_bogota1_phase4 = list(set(bogota1_phase4).intersection(set(new_list)))\n",
    "len_unique_bogota1_phase4 = len(unique_bogota1_phase4)"
   ]
  },
  {
   "cell_type": "code",
   "execution_count": null,
   "id": "61607ca5",
   "metadata": {},
   "outputs": [],
   "source": [
    "unique_bogota1_phase4 = list(set(bogota1_phase4).intersection(set(top_5_unique)))\n",
    "top_5_unique_bogota1_phase4 = len(unique_bogota1_phase4)"
   ]
  },
  {
   "cell_type": "code",
   "execution_count": null,
   "id": "8167d141",
   "metadata": {},
   "outputs": [],
   "source": [
    "unique_bogota1_phase4 = list(set(bogota1_phase4).intersection(set(top_10_unique)))\n",
    "top_10_unique_bogota1_phase4 = len(unique_bogota1_phase4)"
   ]
  },
  {
   "cell_type": "code",
   "execution_count": null,
   "id": "7b73de71",
   "metadata": {},
   "outputs": [],
   "source": [
    "unique_bogota1_phase4 = list(set(bogota1_phase4).intersection(set(top_15_unique)))\n",
    "top_15_unique_bogota1_phase4 = len(unique_bogota1_phase4)"
   ]
  },
  {
   "cell_type": "code",
   "execution_count": null,
   "id": "1cb05ad1",
   "metadata": {},
   "outputs": [],
   "source": [
    "unique_bogota1_phase4 = list(set(bogota1_phase4).intersection(set(top_20_unique)))\n",
    "top_20_unique_bogota1_phase4 = len(unique_bogota1_phase4)"
   ]
  },
  {
   "cell_type": "code",
   "execution_count": null,
   "id": "5ca96774",
   "metadata": {},
   "outputs": [],
   "source": [
    "unique_bogota0_phase4 = list(set(bogota0_phase4).intersection(set(new_list)))\n",
    "len_unique_bogota0_phase4 = len(unique_bogota0_phase4)"
   ]
  },
  {
   "cell_type": "code",
   "execution_count": null,
   "id": "d1f58bd0",
   "metadata": {},
   "outputs": [],
   "source": [
    "unique_bogota0_phase4 = list(set(bogota0_phase4).intersection(set(top_5_unique)))\n",
    "top_5_unique_bogota0_phase4 = len(unique_bogota0_phase4)"
   ]
  },
  {
   "cell_type": "code",
   "execution_count": null,
   "id": "e3dafd3b",
   "metadata": {},
   "outputs": [],
   "source": [
    "unique_bogota0_phase4 = list(set(bogota0_phase4).intersection(set(top_10_unique)))\n",
    "top_10_unique_bogota0_phase4 = len(unique_bogota0_phase4)"
   ]
  },
  {
   "cell_type": "code",
   "execution_count": null,
   "id": "b09320a4",
   "metadata": {},
   "outputs": [],
   "source": [
    "unique_bogota0_phase4 = list(set(bogota0_phase4).intersection(set(top_15_unique)))\n",
    "top_15_unique_bogota0_phase4 = len(unique_bogota0_phase4)"
   ]
  },
  {
   "cell_type": "code",
   "execution_count": null,
   "id": "0712a1df",
   "metadata": {},
   "outputs": [],
   "source": [
    "unique_bogota0_phase4 = list(set(bogota0_phase4).intersection(set(top_20_unique)))\n",
    "top_20_unique_bogota0_phase4 = len(unique_bogota0_phase4)"
   ]
  },
  {
   "cell_type": "markdown",
   "id": "770b4fa9",
   "metadata": {},
   "source": [
    "## Phase 3"
   ]
  },
  {
   "cell_type": "code",
   "execution_count": null,
   "id": "c31cc9a6",
   "metadata": {},
   "outputs": [],
   "source": [
    "listed = overall_phase3_bogota3['functions'].to_list()\n",
    "converted_list = [str(element) for element in  listed]\n",
    "joined_string = \",\".join(converted_list)\n",
    "bogota3_phase3 = joined_string.split(\",\")"
   ]
  },
  {
   "cell_type": "code",
   "execution_count": null,
   "id": "d9d74206",
   "metadata": {},
   "outputs": [],
   "source": [
    "listed = overall_phase3_bogota2['functions'].to_list()\n",
    "converted_list = [str(element) for element in  listed]\n",
    "joined_string = \",\".join(converted_list)\n",
    "bogota2_phase3 = joined_string.split(\",\")"
   ]
  },
  {
   "cell_type": "code",
   "execution_count": null,
   "id": "c0114d7d",
   "metadata": {},
   "outputs": [],
   "source": [
    "listed = overall_phase3_bogota1['functions'].to_list()\n",
    "converted_list = [str(element) for element in  listed]\n",
    "joined_string = \",\".join(converted_list)\n",
    "bogota1_phase3 = joined_string.split(\",\")"
   ]
  },
  {
   "cell_type": "code",
   "execution_count": null,
   "id": "1abb084a",
   "metadata": {},
   "outputs": [],
   "source": [
    "listed = overall_phase3_bogota0['functions'].to_list()\n",
    "converted_list = [str(element) for element in  listed]\n",
    "joined_string = \",\".join(converted_list)\n",
    "bogota0_phase3 = joined_string.split(\",\")"
   ]
  },
  {
   "cell_type": "code",
   "execution_count": null,
   "id": "9e9e9125",
   "metadata": {},
   "outputs": [],
   "source": [
    "unique_bogota3_phase3 = list(set(bogota3_phase3).intersection(set(new_list)))\n",
    "len_unique_bogota3_phase3 = len(unique_bogota3_phase3)"
   ]
  },
  {
   "cell_type": "code",
   "execution_count": null,
   "id": "58cf7968",
   "metadata": {},
   "outputs": [],
   "source": [
    "unique_bogota3_phase3 = list(set(bogota3_phase3).intersection(set(top_5_unique)))\n",
    "top_5_unique_bogota3_phase3 = len(unique_bogota3_phase3)"
   ]
  },
  {
   "cell_type": "code",
   "execution_count": null,
   "id": "5b976bf8",
   "metadata": {},
   "outputs": [],
   "source": [
    "unique_bogota3_phase3 = list(set(bogota3_phase3).intersection(set(top_10_unique)))\n",
    "top_10_unique_bogota3_phase3 = len(unique_bogota3_phase3)"
   ]
  },
  {
   "cell_type": "code",
   "execution_count": null,
   "id": "697da8b5",
   "metadata": {},
   "outputs": [],
   "source": [
    "unique_bogota3_phase3 = list(set(bogota3_phase3).intersection(set(top_15_unique)))\n",
    "top_15_unique_bogota3_phase3 = len(unique_bogota3_phase3)"
   ]
  },
  {
   "cell_type": "code",
   "execution_count": null,
   "id": "265d4c7a",
   "metadata": {},
   "outputs": [],
   "source": [
    "unique_bogota3_phase3 = list(set(bogota3_phase3).intersection(set(top_20_unique)))\n",
    "top_20_unique_bogota3_phase3 = len(unique_bogota3_phase3)"
   ]
  },
  {
   "cell_type": "code",
   "execution_count": null,
   "id": "f8cd9327",
   "metadata": {},
   "outputs": [],
   "source": [
    "unique_bogota2_phase3 = list(set(bogota2_phase3).intersection(set(new_list)))\n",
    "len_unique_bogota2_phase3 = len(unique_bogota2_phase3)"
   ]
  },
  {
   "cell_type": "code",
   "execution_count": null,
   "id": "e7309c2a",
   "metadata": {},
   "outputs": [],
   "source": [
    "unique_bogota2_phase3 = list(set(bogota2_phase3).intersection(set(top_5_unique)))\n",
    "top_5_unique_bogota2_phase3 = len(unique_bogota2_phase3)"
   ]
  },
  {
   "cell_type": "code",
   "execution_count": null,
   "id": "5db73879",
   "metadata": {},
   "outputs": [],
   "source": [
    "unique_bogota2_phase3 = list(set(bogota2_phase3).intersection(set(top_10_unique)))\n",
    "top_10_unique_bogota2_phase3 = len(unique_bogota2_phase3)"
   ]
  },
  {
   "cell_type": "code",
   "execution_count": null,
   "id": "daeaf32a",
   "metadata": {},
   "outputs": [],
   "source": [
    "unique_bogota2_phase3 = list(set(bogota2_phase3).intersection(set(top_15_unique)))\n",
    "top_15_unique_bogota2_phase3 = len(unique_bogota2_phase3)"
   ]
  },
  {
   "cell_type": "code",
   "execution_count": null,
   "id": "c64f2502",
   "metadata": {},
   "outputs": [],
   "source": [
    "unique_bogota2_phase3 = list(set(bogota2_phase3).intersection(set(top_20_unique)))\n",
    "top_20_unique_bogota2_phase3 = len(unique_bogota2_phase3)"
   ]
  },
  {
   "cell_type": "code",
   "execution_count": null,
   "id": "0b26c474",
   "metadata": {},
   "outputs": [],
   "source": [
    "unique_bogota1_phase3 = list(set(bogota1_phase3).intersection(set(new_list)))\n",
    "len_unique_bogota1_phase3 = len(unique_bogota1_phase3)"
   ]
  },
  {
   "cell_type": "code",
   "execution_count": null,
   "id": "376a5dc4",
   "metadata": {},
   "outputs": [],
   "source": [
    "unique_bogota1_phase3 = list(set(bogota1_phase3).intersection(set(top_5_unique)))\n",
    "top_5_unique_bogota1_phase3 = len(unique_bogota1_phase3)"
   ]
  },
  {
   "cell_type": "code",
   "execution_count": null,
   "id": "b28f5dee",
   "metadata": {},
   "outputs": [],
   "source": [
    "unique_bogota1_phase3 = list(set(bogota1_phase3).intersection(set(top_10_unique)))\n",
    "top_10_unique_bogota1_phase3 = len(unique_bogota1_phase3)"
   ]
  },
  {
   "cell_type": "code",
   "execution_count": null,
   "id": "40668e69",
   "metadata": {},
   "outputs": [],
   "source": [
    "unique_bogota1_phase3 = list(set(bogota1_phase3).intersection(set(top_15_unique)))\n",
    "top_15_unique_bogota1_phase3 = len(unique_bogota1_phase3)"
   ]
  },
  {
   "cell_type": "code",
   "execution_count": null,
   "id": "24934333",
   "metadata": {},
   "outputs": [],
   "source": [
    "unique_bogota1_phase3 = list(set(bogota1_phase3).intersection(set(top_20_unique)))\n",
    "top_20_unique_bogota1_phase3 = len(unique_bogota1_phase3)"
   ]
  },
  {
   "cell_type": "code",
   "execution_count": null,
   "id": "25ff14f6",
   "metadata": {},
   "outputs": [],
   "source": [
    "unique_bogota0_phase3 = list(set(bogota0_phase3).intersection(set(new_list)))\n",
    "len_unique_bogota0_phase3 = len(unique_bogota0_phase3)"
   ]
  },
  {
   "cell_type": "code",
   "execution_count": null,
   "id": "9690474a",
   "metadata": {},
   "outputs": [],
   "source": [
    "unique_bogota0_phase3 = list(set(bogota0_phase3).intersection(set(top_5_unique)))\n",
    "top_5_unique_bogota0_phase3 = len(unique_bogota0_phase3)"
   ]
  },
  {
   "cell_type": "code",
   "execution_count": null,
   "id": "95b7c4ff",
   "metadata": {},
   "outputs": [],
   "source": [
    "unique_bogota0_phase3 = list(set(bogota0_phase3).intersection(set(top_10_unique)))\n",
    "top_10_unique_bogota0_phase3 = len(unique_bogota0_phase3)"
   ]
  },
  {
   "cell_type": "code",
   "execution_count": null,
   "id": "75047d78",
   "metadata": {},
   "outputs": [],
   "source": [
    "unique_bogota0_phase3 = list(set(bogota0_phase3).intersection(set(top_15_unique)))\n",
    "top_15_unique_bogota0_phase3 = len(unique_bogota0_phase3)"
   ]
  },
  {
   "cell_type": "code",
   "execution_count": null,
   "id": "ec4cd5ec",
   "metadata": {},
   "outputs": [],
   "source": [
    "unique_bogota0_phase3 = list(set(bogota0_phase3).intersection(set(top_20_unique)))\n",
    "top_20_unique_bogota0_phase3 = len(unique_bogota0_phase3)"
   ]
  },
  {
   "cell_type": "markdown",
   "id": "30fa04f3",
   "metadata": {},
   "source": [
    "## Phase 2"
   ]
  },
  {
   "cell_type": "code",
   "execution_count": null,
   "id": "1d329812",
   "metadata": {},
   "outputs": [],
   "source": [
    "listed = overall_phase2_bogota3['functions'].to_list()\n",
    "converted_list = [str(element) for element in  listed]\n",
    "joined_string = \",\".join(converted_list)\n",
    "bogota3_phase2 = joined_string.split(\",\")"
   ]
  },
  {
   "cell_type": "code",
   "execution_count": null,
   "id": "4f8706c3",
   "metadata": {},
   "outputs": [],
   "source": [
    "listed = overall_phase2_bogota2['functions'].to_list()\n",
    "converted_list = [str(element) for element in  listed]\n",
    "joined_string = \",\".join(converted_list)\n",
    "bogota2_phase2 = joined_string.split(\",\")"
   ]
  },
  {
   "cell_type": "code",
   "execution_count": null,
   "id": "81d050c3",
   "metadata": {},
   "outputs": [],
   "source": [
    "listed = overall_phase2_bogota1['functions'].to_list()\n",
    "converted_list = [str(element) for element in  listed]\n",
    "joined_string = \",\".join(converted_list)\n",
    "bogota1_phase2 = joined_string.split(\",\")"
   ]
  },
  {
   "cell_type": "code",
   "execution_count": null,
   "id": "ad73f160",
   "metadata": {},
   "outputs": [],
   "source": [
    "listed = overall_phase2_bogota0['functions'].to_list()\n",
    "converted_list = [str(element) for element in  listed]\n",
    "joined_string = \",\".join(converted_list)\n",
    "bogota0_phase2 = joined_string.split(\",\")"
   ]
  },
  {
   "cell_type": "code",
   "execution_count": null,
   "id": "6616c043",
   "metadata": {},
   "outputs": [],
   "source": [
    "unique_bogota3_phase2 = list(set(bogota3_phase2).intersection(set(new_list)))\n",
    "len_unique_bogota3_phase2 = len(unique_bogota3_phase2)"
   ]
  },
  {
   "cell_type": "code",
   "execution_count": null,
   "id": "926939b7",
   "metadata": {},
   "outputs": [],
   "source": [
    "unique_bogota3_phase2 = list(set(bogota3_phase2).intersection(set(top_5_unique)))\n",
    "top_5_unique_bogota3_phase2 = len(unique_bogota3_phase2)"
   ]
  },
  {
   "cell_type": "code",
   "execution_count": null,
   "id": "c0f85301",
   "metadata": {},
   "outputs": [],
   "source": [
    "unique_bogota3_phase2 = list(set(bogota3_phase2).intersection(set(top_10_unique)))\n",
    "top_10_unique_bogota3_phase2 = len(unique_bogota3_phase2)"
   ]
  },
  {
   "cell_type": "code",
   "execution_count": null,
   "id": "380a6c22",
   "metadata": {},
   "outputs": [],
   "source": [
    "unique_bogota3_phase2 = list(set(bogota3_phase2).intersection(set(top_15_unique)))\n",
    "top_15_unique_bogota3_phase2 = len(unique_bogota3_phase2)"
   ]
  },
  {
   "cell_type": "code",
   "execution_count": null,
   "id": "bbd1621f",
   "metadata": {},
   "outputs": [],
   "source": [
    "unique_bogota3_phase2 = list(set(bogota3_phase2).intersection(set(top_20_unique)))\n",
    "top_20_unique_bogota3_phase2 = len(unique_bogota3_phase2)"
   ]
  },
  {
   "cell_type": "code",
   "execution_count": null,
   "id": "e2e84483",
   "metadata": {},
   "outputs": [],
   "source": [
    "unique_bogota2_phase2 = list(set(bogota2_phase2).intersection(set(new_list)))\n",
    "len_unique_bogota2_phase2 = len(unique_bogota2_phase2)"
   ]
  },
  {
   "cell_type": "code",
   "execution_count": null,
   "id": "880cfcf4",
   "metadata": {},
   "outputs": [],
   "source": [
    "unique_bogota2_phase2 = list(set(bogota2_phase2).intersection(set(top_5_unique)))\n",
    "top_5_unique_bogota2_phase2 = len(unique_bogota2_phase2)"
   ]
  },
  {
   "cell_type": "code",
   "execution_count": null,
   "id": "8ef235bd",
   "metadata": {},
   "outputs": [],
   "source": [
    "unique_bogota2_phase2 = list(set(bogota2_phase2).intersection(set(top_10_unique)))\n",
    "top_10_unique_bogota2_phase2 = len(unique_bogota2_phase2)"
   ]
  },
  {
   "cell_type": "code",
   "execution_count": null,
   "id": "d514e9f6",
   "metadata": {},
   "outputs": [],
   "source": [
    "unique_bogota2_phase2 = list(set(bogota2_phase2).intersection(set(top_15_unique)))\n",
    "top_15_unique_bogota2_phase2 = len(unique_bogota2_phase2)"
   ]
  },
  {
   "cell_type": "code",
   "execution_count": null,
   "id": "1d6ecf05",
   "metadata": {},
   "outputs": [],
   "source": [
    "unique_bogota2_phase2 = list(set(bogota2_phase2).intersection(set(top_20_unique)))\n",
    "top_20_unique_bogota2_phase2 = len(unique_bogota2_phase2)"
   ]
  },
  {
   "cell_type": "code",
   "execution_count": null,
   "id": "69bf6f01",
   "metadata": {},
   "outputs": [],
   "source": [
    "unique_bogota1_phase2 = list(set(bogota1_phase2).intersection(set(new_list)))\n",
    "len_unique_bogota1_phase2 = len(unique_bogota1_phase2)"
   ]
  },
  {
   "cell_type": "code",
   "execution_count": null,
   "id": "f6667f37",
   "metadata": {},
   "outputs": [],
   "source": [
    "unique_bogota1_phase2 = list(set(bogota1_phase2).intersection(set(top_5_unique)))\n",
    "top_5_unique_bogota1_phase2 = len(unique_bogota1_phase2)"
   ]
  },
  {
   "cell_type": "code",
   "execution_count": null,
   "id": "2ac08ced",
   "metadata": {},
   "outputs": [],
   "source": [
    "unique_bogota1_phase2 = list(set(bogota1_phase2).intersection(set(top_10_unique)))\n",
    "top_10_unique_bogota1_phase2 = len(unique_bogota1_phase2)"
   ]
  },
  {
   "cell_type": "code",
   "execution_count": null,
   "id": "bc5c695d",
   "metadata": {},
   "outputs": [],
   "source": [
    "unique_bogota1_phase2 = list(set(bogota1_phase2).intersection(set(top_15_unique)))\n",
    "top_15_unique_bogota1_phase2 = len(unique_bogota1_phase2)"
   ]
  },
  {
   "cell_type": "code",
   "execution_count": null,
   "id": "fe968f43",
   "metadata": {},
   "outputs": [],
   "source": [
    "unique_bogota1_phase2 = list(set(bogota1_phase2).intersection(set(top_20_unique)))\n",
    "top_20_unique_bogota1_phase2 = len(unique_bogota1_phase2)"
   ]
  },
  {
   "cell_type": "code",
   "execution_count": null,
   "id": "d75710da",
   "metadata": {},
   "outputs": [],
   "source": [
    "unique_bogota0_phase2 = list(set(bogota0_phase2).intersection(set(new_list)))\n",
    "len_unique_bogota0_phase2 = len(unique_bogota0_phase2)"
   ]
  },
  {
   "cell_type": "code",
   "execution_count": null,
   "id": "1ba1a9aa",
   "metadata": {},
   "outputs": [],
   "source": [
    "unique_bogota0_phase2 = list(set(bogota0_phase2).intersection(set(top_5_unique)))\n",
    "top_5_unique_bogota0_phase2 = len(unique_bogota0_phase2)"
   ]
  },
  {
   "cell_type": "code",
   "execution_count": null,
   "id": "3ae6c7d4",
   "metadata": {},
   "outputs": [],
   "source": [
    "unique_bogota0_phase2 = list(set(bogota0_phase2).intersection(set(top_10_unique)))\n",
    "top_10_unique_bogota0_phase2 = len(unique_bogota0_phase2)"
   ]
  },
  {
   "cell_type": "code",
   "execution_count": null,
   "id": "8d9d68ce",
   "metadata": {},
   "outputs": [],
   "source": [
    "unique_bogota0_phase2 = list(set(bogota0_phase2).intersection(set(top_15_unique)))\n",
    "top_15_unique_bogota0_phase2 = len(unique_bogota0_phase2)"
   ]
  },
  {
   "cell_type": "code",
   "execution_count": null,
   "id": "843297f1",
   "metadata": {},
   "outputs": [],
   "source": [
    "unique_bogota0_phase2 = list(set(bogota0_phase2).intersection(set(top_20_unique)))\n",
    "top_20_unique_bogota0_phase2 = len(unique_bogota0_phase2)"
   ]
  },
  {
   "cell_type": "markdown",
   "id": "db1a4d7a",
   "metadata": {},
   "source": [
    "## Phase 1"
   ]
  },
  {
   "cell_type": "code",
   "execution_count": null,
   "id": "d1fe6791",
   "metadata": {},
   "outputs": [],
   "source": [
    "listed = overall_phase1_bogota3['functions'].to_list()\n",
    "converted_list = [str(element) for element in  listed]\n",
    "joined_string = \",\".join(converted_list)\n",
    "bogota3_phase1 = joined_string.split(\",\")"
   ]
  },
  {
   "cell_type": "code",
   "execution_count": null,
   "id": "2c5aa982",
   "metadata": {},
   "outputs": [],
   "source": [
    "listed = overall_phase1_bogota2['functions'].to_list()\n",
    "converted_list = [str(element) for element in  listed]\n",
    "joined_string = \",\".join(converted_list)\n",
    "bogota2_phase1 = joined_string.split(\",\")"
   ]
  },
  {
   "cell_type": "code",
   "execution_count": null,
   "id": "d2ada8bb",
   "metadata": {},
   "outputs": [],
   "source": [
    "listed = overall_phase1_bogota1['functions'].to_list()\n",
    "converted_list = [str(element) for element in  listed]\n",
    "joined_string = \",\".join(converted_list)\n",
    "bogota1_phase1 = joined_string.split(\",\")"
   ]
  },
  {
   "cell_type": "code",
   "execution_count": null,
   "id": "7b8c33c6",
   "metadata": {},
   "outputs": [],
   "source": [
    "listed = overall_phase1_bogota0['functions'].to_list()\n",
    "converted_list = [str(element) for element in  listed]\n",
    "joined_string = \",\".join(converted_list)\n",
    "bogota0_phase1 = joined_string.split(\",\")"
   ]
  },
  {
   "cell_type": "code",
   "execution_count": null,
   "id": "63ed450f",
   "metadata": {},
   "outputs": [],
   "source": [
    "unique_bogota3_phase1 = list(set(bogota3_phase1).intersection(set(new_list)))\n",
    "len_unique_bogota3_phase1 = len(unique_bogota3_phase1)"
   ]
  },
  {
   "cell_type": "code",
   "execution_count": null,
   "id": "514d6d0f",
   "metadata": {},
   "outputs": [],
   "source": [
    "unique_bogota3_phase1 = list(set(bogota3_phase1).intersection(set(top_5_unique)))\n",
    "top_5_unique_bogota3_phase1 = len(unique_bogota3_phase1)"
   ]
  },
  {
   "cell_type": "code",
   "execution_count": null,
   "id": "302b63c8",
   "metadata": {},
   "outputs": [],
   "source": [
    "unique_bogota3_phase1 = list(set(bogota3_phase1).intersection(set(top_10_unique)))\n",
    "top_10_unique_bogota3_phase1 = len(unique_bogota3_phase1)"
   ]
  },
  {
   "cell_type": "code",
   "execution_count": null,
   "id": "33ee79d3",
   "metadata": {},
   "outputs": [],
   "source": [
    "unique_bogota3_phase1 = list(set(bogota3_phase1).intersection(set(top_15_unique)))\n",
    "top_15_unique_bogota3_phase1 = len(unique_bogota3_phase1)"
   ]
  },
  {
   "cell_type": "code",
   "execution_count": null,
   "id": "c1c0eee3",
   "metadata": {},
   "outputs": [],
   "source": [
    "unique_bogota3_phase1 = list(set(bogota3_phase1).intersection(set(top_20_unique)))\n",
    "top_20_unique_bogota3_phase1 = len(unique_bogota3_phase1)"
   ]
  },
  {
   "cell_type": "code",
   "execution_count": null,
   "id": "70ebd8db",
   "metadata": {},
   "outputs": [],
   "source": [
    "unique_bogota2_phase1 = list(set(bogota2_phase1).intersection(set(new_list)))\n",
    "len_unique_bogota2_phase1 = len(unique_bogota2_phase1)"
   ]
  },
  {
   "cell_type": "code",
   "execution_count": null,
   "id": "71ade579",
   "metadata": {},
   "outputs": [],
   "source": [
    "unique_bogota2_phase1 = list(set(bogota2_phase1).intersection(set(top_5_unique)))\n",
    "top_5_unique_bogota2_phase1 = len(unique_bogota2_phase1)"
   ]
  },
  {
   "cell_type": "code",
   "execution_count": null,
   "id": "0dfa3cb5",
   "metadata": {},
   "outputs": [],
   "source": [
    "unique_bogota2_phase1 = list(set(bogota2_phase1).intersection(set(top_10_unique)))\n",
    "top_10_unique_bogota2_phase1 = len(unique_bogota2_phase1)"
   ]
  },
  {
   "cell_type": "code",
   "execution_count": null,
   "id": "5bb3cb7e",
   "metadata": {},
   "outputs": [],
   "source": [
    "unique_bogota2_phase1 = list(set(bogota2_phase1).intersection(set(top_15_unique)))\n",
    "top_15_unique_bogota2_phase1 = len(unique_bogota2_phase1)"
   ]
  },
  {
   "cell_type": "code",
   "execution_count": null,
   "id": "17296197",
   "metadata": {},
   "outputs": [],
   "source": [
    "unique_bogota2_phase1 = list(set(bogota2_phase1).intersection(set(top_20_unique)))\n",
    "top_20_unique_bogota2_phase1 = len(unique_bogota2_phase1)"
   ]
  },
  {
   "cell_type": "code",
   "execution_count": null,
   "id": "160bd241",
   "metadata": {},
   "outputs": [],
   "source": [
    "unique_bogota1_phase1 = list(set(bogota1_phase1).intersection(set(new_list)))\n",
    "len_unique_bogota1_phase1 = len(unique_bogota1_phase1)"
   ]
  },
  {
   "cell_type": "code",
   "execution_count": null,
   "id": "5ebe45bb",
   "metadata": {},
   "outputs": [],
   "source": [
    "unique_bogota1_phase1 = list(set(bogota1_phase1).intersection(set(top_5_unique)))\n",
    "top_5_unique_bogota1_phase1 = len(unique_bogota1_phase1)"
   ]
  },
  {
   "cell_type": "code",
   "execution_count": null,
   "id": "6cb945b2",
   "metadata": {},
   "outputs": [],
   "source": [
    "unique_bogota1_phase1 = list(set(bogota1_phase1).intersection(set(top_10_unique)))\n",
    "top_10_unique_bogota1_phase1 = len(unique_bogota1_phase1)"
   ]
  },
  {
   "cell_type": "code",
   "execution_count": null,
   "id": "f3794257",
   "metadata": {},
   "outputs": [],
   "source": [
    "unique_bogota1_phase1 = list(set(bogota1_phase1).intersection(set(top_15_unique)))\n",
    "top_15_unique_bogota1_phase1 = len(unique_bogota1_phase1)"
   ]
  },
  {
   "cell_type": "code",
   "execution_count": null,
   "id": "103e8161",
   "metadata": {},
   "outputs": [],
   "source": [
    "unique_bogota1_phase1 = list(set(bogota1_phase1).intersection(set(top_20_unique)))\n",
    "top_20_unique_bogota1_phase1 = len(unique_bogota1_phase1)"
   ]
  },
  {
   "cell_type": "code",
   "execution_count": null,
   "id": "62f6b7c0",
   "metadata": {},
   "outputs": [],
   "source": [
    "unique_bogota0_phase1 = list(set(bogota0_phase1).intersection(set(new_list)))\n",
    "len_unique_bogota0_phase1 = len(unique_bogota0_phase1)"
   ]
  },
  {
   "cell_type": "code",
   "execution_count": null,
   "id": "f97597d0",
   "metadata": {},
   "outputs": [],
   "source": [
    "unique_bogota0_phase1 = list(set(bogota0_phase1).intersection(set(top_5_unique)))\n",
    "top_5_unique_bogota0_phase1 = len(unique_bogota0_phase1)"
   ]
  },
  {
   "cell_type": "code",
   "execution_count": null,
   "id": "96c83fe8",
   "metadata": {},
   "outputs": [],
   "source": [
    "unique_bogota0_phase1 = list(set(bogota0_phase1).intersection(set(top_10_unique)))\n",
    "top_10_unique_bogota0_phase1 = len(unique_bogota0_phase1)"
   ]
  },
  {
   "cell_type": "code",
   "execution_count": null,
   "id": "65fa4ec5",
   "metadata": {},
   "outputs": [],
   "source": [
    "unique_bogota0_phase1 = list(set(bogota0_phase1).intersection(set(top_15_unique)))\n",
    "top_15_unique_bogota0_phase1 = len(unique_bogota0_phase1)"
   ]
  },
  {
   "cell_type": "code",
   "execution_count": null,
   "id": "4d8c488e",
   "metadata": {},
   "outputs": [],
   "source": [
    "unique_bogota0_phase1 = list(set(bogota0_phase1).intersection(set(top_20_unique)))\n",
    "top_20_unique_bogota0_phase1 = len(unique_bogota0_phase1)"
   ]
  },
  {
   "cell_type": "code",
   "execution_count": null,
   "id": "2188c315",
   "metadata": {},
   "outputs": [],
   "source": [
    "import matplotlib.pyplot as plt\n",
    "\n",
    "# Mean Scores of All Groups [ Tech Scores ]\n",
    "\n",
    "y1 = [len_unique_bogota0_phase1, len_unique_bogota0_phase2, len_unique_bogota0_phase3, len_unique_bogota0_phase4, len_unique_bogota0_phase5]\n",
    "y2 = [len_unique_bogota1_phase1, len_unique_bogota1_phase2, len_unique_bogota1_phase3, len_unique_bogota1_phase4, len_unique_bogota1_phase5]\n",
    "y3 = [len_unique_bogota2_phase1, len_unique_bogota2_phase2, len_unique_bogota2_phase3, len_unique_bogota2_phase4, len_unique_bogota2_phase5]\n",
    "y4 = [len_unique_bogota3_phase1, len_unique_bogota3_phase2, len_unique_bogota3_phase3, len_unique_bogota3_phase4, len_unique_bogota3_phase5]   \n",
    "\n",
    "\n",
    "\n",
    "x_axis=['Phase 1', 'Phase 2', 'Phase 3', 'Phase 4', 'Phase 5']\n",
    "\n",
    "line3 = plt.plot(x_axis, y1,'bo-',label='Bogota 0 ( No Transparency )') \n",
    "line4 = plt.plot(x_axis, y2,'go-',label='Bogota 1 ( Performance Transparency )') \n",
    "line1 = plt.plot(x_axis, y3,'ko-',label='Bogota 2 ( Solution Transparency )')\n",
    "line2 = plt.plot(x_axis, y4,'ro-',label='Bogota 3 ( Full Transparency )') \n",
    "\n",
    "plt.title(\"Count of Unique Functions ( 20,000 )\")\n",
    "plt.ylabel(\"Count of Unique Functions ( 20,000 )\")\n",
    "\n",
    "\n",
    "plt.legend(bbox_to_anchor=(1.5, 1),\n",
    "           bbox_transform=plt.gcf().transFigure)"
   ]
  },
  {
   "cell_type": "code",
   "execution_count": null,
   "id": "afd6e9e3",
   "metadata": {},
   "outputs": [],
   "source": [
    "import matplotlib.pyplot as plt\n",
    "\n",
    "# Mean Scores of All Groups [ Tech Scores ]\n",
    "\n",
    "y1 = [ top_5_unique_bogota0_phase1, top_5_unique_bogota0_phase2, top_5_unique_bogota0_phase3, top_5_unique_bogota0_phase4, top_5_unique_bogota0_phase5]\n",
    "y2 = [ top_5_unique_bogota1_phase1, top_5_unique_bogota1_phase2, top_5_unique_bogota1_phase3, top_5_unique_bogota1_phase4, top_5_unique_bogota1_phase5]\n",
    "y3 = [ top_5_unique_bogota2_phase1, top_5_unique_bogota2_phase2, top_5_unique_bogota2_phase3, top_5_unique_bogota2_phase4, top_5_unique_bogota2_phase5]\n",
    "y4 = [ top_5_unique_bogota3_phase1, top_5_unique_bogota3_phase2, top_5_unique_bogota3_phase3, top_5_unique_bogota3_phase4, top_5_unique_bogota3_phase5]\n",
    "\n",
    "\n",
    "\n",
    "x_axis=['Phase 1', 'Phase 2', 'Phase 3', 'Phase 4', 'Phase 5']\n",
    "\n",
    "line3 = plt.plot(x_axis, y1,'bo-',label='Bogota 0 ( No Transparency )') \n",
    "line4 = plt.plot(x_axis, y2,'go-',label='Bogota 1 ( Performance Transparency )') \n",
    "line1 = plt.plot(x_axis, y3,'ko-',label='Bogota 2 ( Solution Transparency )')\n",
    "line2 = plt.plot(x_axis, y4,'ro-',label='Bogota 3 ( Full Transparency )') \n",
    "\n",
    "plt.title(\"Count of Top 5% Least Common Functions\")\n",
    "plt.ylabel(\"Count of Top 5% Least Common Functions\")\n",
    "\n",
    "\n",
    "plt.legend(bbox_to_anchor=(1.5, 1),\n",
    "           bbox_transform=plt.gcf().transFigure)"
   ]
  },
  {
   "cell_type": "code",
   "execution_count": null,
   "id": "584a4d37",
   "metadata": {},
   "outputs": [],
   "source": [
    "import matplotlib.pyplot as plt\n",
    "\n",
    "# Mean Scores of All Groups [ Tech Scores ]\n",
    "\n",
    "y1 = [ top_10_unique_bogota0_phase1, top_10_unique_bogota0_phase2, top_10_unique_bogota0_phase3, top_10_unique_bogota0_phase4, top_10_unique_bogota0_phase5]\n",
    "y2 = [ top_10_unique_bogota1_phase1, top_10_unique_bogota1_phase2, top_10_unique_bogota1_phase3, top_10_unique_bogota1_phase4, top_10_unique_bogota1_phase5]\n",
    "y3 = [ top_10_unique_bogota2_phase1, top_10_unique_bogota2_phase2, top_10_unique_bogota2_phase3, top_10_unique_bogota2_phase4, top_10_unique_bogota2_phase5]\n",
    "y4 = [ top_10_unique_bogota3_phase1, top_10_unique_bogota3_phase2, top_10_unique_bogota3_phase3, top_10_unique_bogota3_phase4, top_10_unique_bogota3_phase5]\n",
    "\n",
    "x_axis=['Phase 1', 'Phase 2', 'Phase 3', 'Phase 4', 'Phase 5']\n",
    "\n",
    "line3 = plt.plot(x_axis, y1,'bo-',label='Bogota 0 ( No Transparency )') \n",
    "line4 = plt.plot(x_axis, y2,'go-',label='Bogota 1 ( Performance Transparency )') \n",
    "line1 = plt.plot(x_axis, y3,'ko-',label='Bogota 2 ( Solution Transparency )')\n",
    "line2 = plt.plot(x_axis, y4,'ro-',label='Bogota 3 ( Full Transparency )') \n",
    "\n",
    "plt.title(\"Count of Top 10% Least Common Functions\")\n",
    "plt.ylabel(\"Count of Top 10% Least Common Functions\")\n",
    "\n",
    "\n",
    "plt.legend(bbox_to_anchor=(1.5, 1),\n",
    "           bbox_transform=plt.gcf().transFigure)"
   ]
  },
  {
   "cell_type": "code",
   "execution_count": null,
   "id": "dcb4a039",
   "metadata": {},
   "outputs": [],
   "source": [
    "import matplotlib.pyplot as plt\n",
    "\n",
    "# Mean Scores of All Groups [ Tech Scores ]\n",
    "\n",
    "y1 = [ top_15_unique_bogota0_phase1, top_15_unique_bogota0_phase2, top_15_unique_bogota0_phase3, top_15_unique_bogota0_phase4, top_15_unique_bogota0_phase5]\n",
    "y2 = [ top_15_unique_bogota1_phase1, top_15_unique_bogota1_phase2, top_15_unique_bogota1_phase3, top_15_unique_bogota1_phase4, top_15_unique_bogota1_phase5]\n",
    "y3 = [ top_15_unique_bogota2_phase1, top_15_unique_bogota2_phase2, top_15_unique_bogota2_phase3, top_15_unique_bogota2_phase4, top_15_unique_bogota2_phase5]\n",
    "y4 = [ top_15_unique_bogota3_phase1, top_15_unique_bogota3_phase2, top_15_unique_bogota3_phase3, top_15_unique_bogota3_phase4, top_15_unique_bogota3_phase5]\n",
    "\n",
    "\n",
    "\n",
    "x_axis=['Phase 1', 'Phase 2', 'Phase 3', 'Phase 4', 'Phase 5']\n",
    "\n",
    "line3 = plt.plot(x_axis, y1,'bo-',label='Bogota 0 ( No Transparency )') \n",
    "line4 = plt.plot(x_axis, y2,'go-',label='Bogota 1 ( Performance Transparency )') \n",
    "line1 = plt.plot(x_axis, y3,'ko-',label='Bogota 2 ( Solution Transparency )')\n",
    "line2 = plt.plot(x_axis, y4,'ro-',label='Bogota 3 ( Full Transparency )') \n",
    "\n",
    "plt.title(\"Count of Top 15% Least Common Functions\")\n",
    "plt.ylabel(\"Count of Top 15% Least Common Functions\")\n",
    "\n",
    "\n",
    "plt.legend(bbox_to_anchor=(1.5, 1),\n",
    "           bbox_transform=plt.gcf().transFigure)"
   ]
  },
  {
   "cell_type": "code",
   "execution_count": null,
   "id": "fe5ad9db",
   "metadata": {},
   "outputs": [],
   "source": [
    "import matplotlib.pyplot as plt\n",
    "\n",
    "# Mean Scores of All Groups [ Tech Scores ]\n",
    "\n",
    "y1 = [ top_20_unique_bogota0_phase1, top_20_unique_bogota0_phase2, top_20_unique_bogota0_phase3, top_20_unique_bogota0_phase4, top_20_unique_bogota0_phase5]\n",
    "y2 = [ top_20_unique_bogota1_phase1, top_20_unique_bogota1_phase2, top_20_unique_bogota1_phase3, top_20_unique_bogota1_phase4, top_20_unique_bogota1_phase5]\n",
    "y3 = [ top_20_unique_bogota2_phase1, top_20_unique_bogota2_phase2, top_20_unique_bogota2_phase3, top_20_unique_bogota2_phase4, top_20_unique_bogota2_phase5]\n",
    "y4 = [ top_20_unique_bogota3_phase1, top_20_unique_bogota3_phase2, top_20_unique_bogota3_phase3, top_20_unique_bogota3_phase4, top_20_unique_bogota3_phase5]\n",
    "\n",
    "x_axis=['Phase 1', 'Phase 2', 'Phase 3', 'Phase 4', 'Phase 5']\n",
    "\n",
    "line3 = plt.plot(x_axis, y1,'bo-',label='Bogota 0 ( No Transparency )') \n",
    "line4 = plt.plot(x_axis, y2,'go-',label='Bogota 1 ( Performance Transparency )') \n",
    "line1 = plt.plot(x_axis, y3,'ko-',label='Bogota 2 ( Solution Transparency )')\n",
    "line2 = plt.plot(x_axis, y4,'ro-',label='Bogota 3 ( Full Transparency )') \n",
    "\n",
    "plt.title(\"Count of Top 20% Least Common Functions\")\n",
    "plt.ylabel(\"Count of Top 20% Least Common Functions\")\n",
    "\n",
    "\n",
    "plt.legend(bbox_to_anchor=(1.5, 1),\n",
    "           bbox_transform=plt.gcf().transFigure)"
   ]
  },
  {
   "cell_type": "markdown",
   "id": "22c0bdf7",
   "metadata": {},
   "source": [
    "## Exploration of Functions Sample"
   ]
  },
  {
   "cell_type": "markdown",
   "id": "91597152",
   "metadata": {},
   "source": [
    "- We find the overlap ( common functions ) between all 4 groups. ( don't worry about phase )\n",
    "\n",
    "- Do the pairwise overlap ( common functions ) between all 4 groups ( don't worry about phase )\n",
    "\n",
    "- Find the template ( tutorials ) "
   ]
  },
  {
   "cell_type": "markdown",
   "id": "ac8a151d",
   "metadata": {},
   "source": [
    "## Pairwise Overlap"
   ]
  },
  {
   "cell_type": "code",
   "execution_count": null,
   "id": "a1e81f02",
   "metadata": {},
   "outputs": [],
   "source": [
    "bogota3 = bogota3_phase5 + bogota3_phase4 + bogota3_phase3 + bogota3_phase2 + bogota3_phase1\n",
    "bogota2 = bogota2_phase5 + bogota2_phase4 + bogota2_phase3 + bogota2_phase2 + bogota2_phase1\n",
    "bogota1 = bogota1_phase5 + bogota1_phase4 + bogota1_phase3 + bogota1_phase2 + bogota1_phase1\n",
    "bogota0 = bogota0_phase5 + bogota0_phase4 + bogota0_phase3 + bogota0_phase2 + bogota0_phase1\n",
    "bogota3 = list(filter(None, bogota3))\n",
    "bogota2 = list(filter(None, bogota2))\n",
    "bogota1 = list(filter(None, bogota1))\n",
    "bogota0 = list(filter(None, bogota0))"
   ]
  },
  {
   "cell_type": "code",
   "execution_count": null,
   "id": "6f0e3b41",
   "metadata": {},
   "outputs": [],
   "source": [
    "from collections import Counter\n",
    "\n",
    "def count_intersections(lst1, lst2):\n",
    "    c1 = Counter(lst1)\n",
    "    c2 = Counter(lst2)\n",
    "    return { k: min(c1[k], c2[k]) for k in c1.keys() & c2.keys() }\n",
    "\n",
    "count_intersections(bogota3, bogota2)"
   ]
  },
  {
   "cell_type": "code",
   "execution_count": null,
   "id": "9edc467e",
   "metadata": {},
   "outputs": [],
   "source": [
    "intersect23 = len(count_intersections(bogota3, bogota2))\n",
    "intersect23"
   ]
  },
  {
   "cell_type": "code",
   "execution_count": null,
   "id": "17d08862",
   "metadata": {},
   "outputs": [],
   "source": [
    "count_intersections(bogota2, bogota1)"
   ]
  },
  {
   "cell_type": "code",
   "execution_count": null,
   "id": "a3a5f71d",
   "metadata": {},
   "outputs": [],
   "source": [
    "intersect12 = len(count_intersections(bogota2, bogota1))\n",
    "intersect12"
   ]
  },
  {
   "cell_type": "code",
   "execution_count": null,
   "id": "811d85fb",
   "metadata": {},
   "outputs": [],
   "source": [
    "count_intersections(bogota1, bogota0)"
   ]
  },
  {
   "cell_type": "code",
   "execution_count": null,
   "id": "8a9fc75b",
   "metadata": {},
   "outputs": [],
   "source": [
    "intersect01 = len(count_intersections(bogota1, bogota0))\n",
    "intersect01"
   ]
  },
  {
   "cell_type": "code",
   "execution_count": null,
   "id": "c346d1b7",
   "metadata": {},
   "outputs": [],
   "source": [
    "count_intersections(bogota3, bogota0)"
   ]
  },
  {
   "cell_type": "code",
   "execution_count": null,
   "id": "54369aca",
   "metadata": {},
   "outputs": [],
   "source": [
    "intersect03 = len(count_intersections(bogota3, bogota0))\n",
    "intersect03"
   ]
  },
  {
   "cell_type": "code",
   "execution_count": null,
   "id": "1ee0c132",
   "metadata": {},
   "outputs": [],
   "source": [
    "count_intersections(bogota1, bogota3)"
   ]
  },
  {
   "cell_type": "code",
   "execution_count": null,
   "id": "76a96a1e",
   "metadata": {},
   "outputs": [],
   "source": [
    "intersect13 = len(count_intersections(bogota1, bogota3))\n",
    "intersect13"
   ]
  },
  {
   "cell_type": "code",
   "execution_count": null,
   "id": "7e7134f0",
   "metadata": {},
   "outputs": [],
   "source": [
    "count_intersections(bogota2, bogota0)"
   ]
  },
  {
   "cell_type": "code",
   "execution_count": null,
   "id": "610684ea",
   "metadata": {},
   "outputs": [],
   "source": [
    "intersect02 = len(count_intersections(bogota2, bogota0))\n",
    "intersect02"
   ]
  },
  {
   "cell_type": "markdown",
   "id": "8b27cc57",
   "metadata": {},
   "source": [
    "## Intersection Between All 4 Groups"
   ]
  },
  {
   "cell_type": "code",
   "execution_count": null,
   "id": "55caa05b",
   "metadata": {},
   "outputs": [],
   "source": [
    "from collections import Counter\n",
    "\n",
    "def count_intersections(lst1, lst2, lst3, lst4):\n",
    "    c1 = Counter(lst1)\n",
    "    c2 = Counter(lst2)\n",
    "    c3 = Counter(lst3)\n",
    "    c4 = Counter(lst4)\n",
    "    return { k: min(c1[k], c2[k], c3[k], c4[k]) for k in c1.keys() & c2.keys() & c3.keys() & c4.keys() }\n",
    "\n",
    "count_intersections(bogota3, bogota2, bogota1, bogota0)"
   ]
  },
  {
   "cell_type": "code",
   "execution_count": null,
   "id": "b1c3d8db",
   "metadata": {},
   "outputs": [],
   "source": [
    "intersect0123 = len(count_intersections(bogota3, bogota2, bogota1, bogota0))\n",
    "intersect0123"
   ]
  },
  {
   "cell_type": "code",
   "execution_count": null,
   "id": "99d72060",
   "metadata": {},
   "outputs": [],
   "source": [
    "from collections import Counter\n",
    "\n",
    "def count_intersections(lst1, lst2, lst3):\n",
    "    c1 = Counter(lst1)\n",
    "    c2 = Counter(lst2)\n",
    "    c3 = Counter(lst3)\n",
    "   \n",
    "    return { k: min(c1[k], c2[k], c3[k]) for k in c1.keys() & c2.keys() & c3.keys()}\n",
    "\n",
    "count_intersections(bogota2, bogota1, bogota0)"
   ]
  },
  {
   "cell_type": "code",
   "execution_count": null,
   "id": "ef605a50",
   "metadata": {},
   "outputs": [],
   "source": [
    "intersect012 = len(count_intersections(bogota2, bogota1, bogota0))\n",
    "intersect012"
   ]
  },
  {
   "cell_type": "markdown",
   "id": "dc576da8",
   "metadata": {},
   "source": [
    "## Total Count of Functions For Each Group"
   ]
  },
  {
   "cell_type": "code",
   "execution_count": null,
   "id": "1d124954",
   "metadata": {},
   "outputs": [],
   "source": [
    "total_count_functions_bogota0 = len(bogota0)\n",
    "total_count_functions_bogota0"
   ]
  },
  {
   "cell_type": "code",
   "execution_count": null,
   "id": "e3a912ed",
   "metadata": {},
   "outputs": [],
   "source": [
    "total_count_functions_bogota1 = len(bogota1)\n",
    "total_count_functions_bogota1"
   ]
  },
  {
   "cell_type": "code",
   "execution_count": null,
   "id": "9459cf49",
   "metadata": {},
   "outputs": [],
   "source": [
    "total_count_functions_bogota2 = len(bogota2)\n",
    "total_count_functions_bogota2"
   ]
  },
  {
   "cell_type": "code",
   "execution_count": null,
   "id": "4945f624",
   "metadata": {},
   "outputs": [],
   "source": [
    "total_count_functions_bogota3 = len(bogota3)\n",
    "total_count_functions_bogota3"
   ]
  },
  {
   "cell_type": "code",
   "execution_count": null,
   "id": "be4ec014",
   "metadata": {},
   "outputs": [],
   "source": [
    "df = pd.DataFrame({'Group':['None', 'Performance', 'Solution', \n",
    "                           'Full'], 'count':[total_count_functions_bogota0, total_count_functions_bogota1, \n",
    "                                                       total_count_functions_bogota2, total_count_functions_bogota3]})\n",
    "ax = df.plot.bar(x='Group', y='count', rot=0)"
   ]
  },
  {
   "cell_type": "markdown",
   "id": "e19c6c93",
   "metadata": {},
   "source": [
    "## Total Unique Functions For Each Group"
   ]
  },
  {
   "cell_type": "code",
   "execution_count": null,
   "id": "e9acad76",
   "metadata": {},
   "outputs": [],
   "source": [
    "remove_duplicates = list(set(bogota3))\n",
    "remove_all_duplicates = list(filter(None, remove_duplicates))\n",
    "total_unique_functions_bogota3 = len(remove_all_duplicates)\n",
    "total_unique_functions_bogota3"
   ]
  },
  {
   "cell_type": "code",
   "execution_count": null,
   "id": "d70710f1",
   "metadata": {},
   "outputs": [],
   "source": [
    "remove_duplicates = list(set(bogota2))\n",
    "remove_all_duplicates = list(filter(None, remove_duplicates))\n",
    "total_unique_functions_bogota2 = len(remove_all_duplicates)\n",
    "total_unique_functions_bogota2"
   ]
  },
  {
   "cell_type": "code",
   "execution_count": null,
   "id": "6db41d0b",
   "metadata": {},
   "outputs": [],
   "source": [
    "remove_duplicates = list(set(bogota1))\n",
    "remove_all_duplicates = list(filter(None, remove_duplicates))\n",
    "total_unique_functions_bogota1 = len(remove_all_duplicates)\n",
    "total_unique_functions_bogota1"
   ]
  },
  {
   "cell_type": "code",
   "execution_count": null,
   "id": "d6eca40b",
   "metadata": {},
   "outputs": [],
   "source": [
    "remove_duplicates = list(set(bogota0))\n",
    "remove_all_duplicates = list(filter(None, remove_duplicates))\n",
    "total_unique_functions_bogota0 = len(remove_all_duplicates)\n",
    "total_unique_functions_bogota0"
   ]
  },
  {
   "cell_type": "code",
   "execution_count": null,
   "id": "67b618f4",
   "metadata": {},
   "outputs": [],
   "source": [
    "df = pd.DataFrame({'Group':['None', 'Performance', 'Solution', \n",
    "                           'Full'], 'count':[total_unique_functions_bogota0, total_unique_functions_bogota1, \n",
    "                                                       total_unique_functions_bogota2, total_unique_functions_bogota3]})\n",
    "ax = df.plot.bar(x='Group', y='count', rot=0)"
   ]
  },
  {
   "cell_type": "markdown",
   "id": "602b8dd7",
   "metadata": {},
   "source": [
    "## Studying the Overlap of No Transparency Case with All Others"
   ]
  },
  {
   "cell_type": "code",
   "execution_count": null,
   "id": "cc2177cd",
   "metadata": {},
   "outputs": [],
   "source": [
    "( intersect01 / total_unique_functions_bogota0 ) * 100 "
   ]
  },
  {
   "cell_type": "code",
   "execution_count": null,
   "id": "c41ada6f",
   "metadata": {},
   "outputs": [],
   "source": [
    "# library\n",
    "import matplotlib.pyplot as plt\n",
    "from matplotlib_venn import venn2\n",
    " \n",
    "# First way to call the 2 group Venn diagram:\n",
    "venn2(subsets = (total_unique_functions_bogota0, total_unique_functions_bogota1, intersect01), set_labels = ('No Transparency', 'Performance Transparency'))\n",
    "plt.show()"
   ]
  },
  {
   "cell_type": "code",
   "execution_count": null,
   "id": "e959c245",
   "metadata": {},
   "outputs": [],
   "source": [
    "( intersect01 / total_unique_functions_bogota1 ) * 100 "
   ]
  },
  {
   "cell_type": "code",
   "execution_count": null,
   "id": "575a8b00",
   "metadata": {},
   "outputs": [],
   "source": [
    "( intersect02 / total_unique_functions_bogota0 ) * 100 "
   ]
  },
  {
   "cell_type": "code",
   "execution_count": null,
   "id": "c72d49b9",
   "metadata": {},
   "outputs": [],
   "source": [
    "# library\n",
    "import matplotlib.pyplot as plt\n",
    "from matplotlib_venn import venn2\n",
    " \n",
    "# First way to call the 2 group Venn diagram:\n",
    "venn2(subsets = (total_unique_functions_bogota0, total_unique_functions_bogota2, intersect02), set_labels = ('No Transparency', 'Solution Transparency'))\n",
    "plt.show()"
   ]
  },
  {
   "cell_type": "code",
   "execution_count": null,
   "id": "b8300abc",
   "metadata": {},
   "outputs": [],
   "source": [
    "( intersect02 / total_unique_functions_bogota2 ) * 100 "
   ]
  },
  {
   "cell_type": "code",
   "execution_count": null,
   "id": "d946f15a",
   "metadata": {},
   "outputs": [],
   "source": [
    "( intersect03 / total_unique_functions_bogota0 ) * 100 "
   ]
  },
  {
   "cell_type": "code",
   "execution_count": null,
   "id": "508a3d8e",
   "metadata": {},
   "outputs": [],
   "source": [
    "# library\n",
    "import matplotlib.pyplot as plt\n",
    "from matplotlib_venn import venn2\n",
    " \n",
    "# First way to call the 2 group Venn diagram:\n",
    "venn2(subsets = (total_unique_functions_bogota0, total_unique_functions_bogota3, intersect03), set_labels = ('No Transparency', 'Full Transparency'))\n",
    "plt.show()"
   ]
  },
  {
   "cell_type": "code",
   "execution_count": null,
   "id": "9c65b32c",
   "metadata": {},
   "outputs": [],
   "source": [
    "( intersect03 / total_unique_functions_bogota3 ) * 100 "
   ]
  },
  {
   "cell_type": "markdown",
   "id": "f61e4d53",
   "metadata": {},
   "source": [
    "## Studying the Overlap of Performance Transparency with All Others"
   ]
  },
  {
   "cell_type": "code",
   "execution_count": null,
   "id": "1dfb85f3",
   "metadata": {},
   "outputs": [],
   "source": [
    "( intersect12 / total_unique_functions_bogota1 ) * 100 "
   ]
  },
  {
   "cell_type": "code",
   "execution_count": null,
   "id": "2c29fa6d",
   "metadata": {},
   "outputs": [],
   "source": [
    "( intersect12 / total_unique_functions_bogota2 ) * 100 "
   ]
  },
  {
   "cell_type": "code",
   "execution_count": null,
   "id": "69628d35",
   "metadata": {},
   "outputs": [],
   "source": [
    "# library\n",
    "import matplotlib.pyplot as plt\n",
    "from matplotlib_venn import venn2\n",
    " \n",
    "# First way to call the 2 group Venn diagram:\n",
    "venn2(subsets = (total_unique_functions_bogota1, total_unique_functions_bogota2, intersect12), set_labels = ('Performance Transparency', 'Solution Transparency'))\n",
    "plt.show()"
   ]
  },
  {
   "cell_type": "code",
   "execution_count": null,
   "id": "52e1dde4",
   "metadata": {},
   "outputs": [],
   "source": [
    "( intersect13 / total_unique_functions_bogota1 ) * 100 "
   ]
  },
  {
   "cell_type": "code",
   "execution_count": null,
   "id": "99da068e",
   "metadata": {},
   "outputs": [],
   "source": [
    "# library\n",
    "import matplotlib.pyplot as plt\n",
    "from matplotlib_venn import venn2\n",
    " \n",
    "# First way to call the 2 group Venn diagram:\n",
    "venn2(subsets = (total_unique_functions_bogota1, total_unique_functions_bogota3, intersect13), set_labels = ('Performance Transparency', 'Full Transparency'))\n",
    "plt.show()"
   ]
  },
  {
   "cell_type": "code",
   "execution_count": null,
   "id": "49fd6085",
   "metadata": {},
   "outputs": [],
   "source": [
    "( intersect13 / total_unique_functions_bogota3 ) * 100 "
   ]
  },
  {
   "cell_type": "markdown",
   "id": "9f18637e",
   "metadata": {},
   "source": [
    "## Studying the Overlap of Solution Transparency with All Others"
   ]
  },
  {
   "cell_type": "code",
   "execution_count": null,
   "id": "f1631340",
   "metadata": {},
   "outputs": [],
   "source": [
    "( intersect23 / total_unique_functions_bogota2 ) * 100 "
   ]
  },
  {
   "cell_type": "code",
   "execution_count": null,
   "id": "88d6f130",
   "metadata": {},
   "outputs": [],
   "source": [
    "# library\n",
    "import matplotlib.pyplot as plt\n",
    "from matplotlib_venn import venn2\n",
    " \n",
    "# First way to call the 2 group Venn diagram:\n",
    "venn2(subsets = (total_unique_functions_bogota2, total_unique_functions_bogota3, intersect23), set_labels = ('Solution Transparency', 'Full Transparency'))\n",
    "plt.show()"
   ]
  },
  {
   "cell_type": "code",
   "execution_count": null,
   "id": "1415a2ee",
   "metadata": {},
   "outputs": [],
   "source": [
    "( intersect23 / total_unique_functions_bogota3 ) * 100 "
   ]
  },
  {
   "cell_type": "markdown",
   "id": "ec6e504c",
   "metadata": {},
   "source": [
    "## Percentage Global Functions Context "
   ]
  },
  {
   "cell_type": "code",
   "execution_count": null,
   "id": "887421aa",
   "metadata": {},
   "outputs": [],
   "source": [
    "( total_unique_functions_bogota0 / total_unique_functions_global) * 100 "
   ]
  },
  {
   "cell_type": "code",
   "execution_count": null,
   "id": "72178bb4",
   "metadata": {},
   "outputs": [],
   "source": [
    "( total_unique_functions_bogota1 / total_unique_functions_global) * 100 "
   ]
  },
  {
   "cell_type": "code",
   "execution_count": null,
   "id": "1eda07ba",
   "metadata": {},
   "outputs": [],
   "source": [
    "( total_unique_functions_bogota2 / total_unique_functions_global) * 100 "
   ]
  },
  {
   "cell_type": "code",
   "execution_count": null,
   "id": "3c1fdb55",
   "metadata": {},
   "outputs": [],
   "source": [
    "( total_unique_functions_bogota3 / total_unique_functions_global) * 100 "
   ]
  },
  {
   "cell_type": "markdown",
   "id": "1ad8fc44",
   "metadata": {},
   "source": [
    "## Investigating Outliers in  Length of Unique Functions ( Non-Repetitive Functions)"
   ]
  },
  {
   "cell_type": "code",
   "execution_count": null,
   "id": "d3eda0f9",
   "metadata": {},
   "outputs": [],
   "source": [
    "overall_phase1[overall_phase1['len_unique'] > 100]"
   ]
  },
  {
   "cell_type": "code",
   "execution_count": null,
   "id": "9ea393c0",
   "metadata": {},
   "outputs": [],
   "source": [
    "overall_phase2[overall_phase2['len_unique'] > 100]"
   ]
  },
  {
   "cell_type": "code",
   "execution_count": null,
   "id": "a0f97b00",
   "metadata": {},
   "outputs": [],
   "source": [
    "overall_phase3[overall_phase3['len_unique'] > 100]"
   ]
  },
  {
   "cell_type": "code",
   "execution_count": null,
   "id": "e0c45371",
   "metadata": {},
   "outputs": [],
   "source": [
    "overall_phase4[overall_phase4['len_unique'] > 100]"
   ]
  },
  {
   "cell_type": "code",
   "execution_count": null,
   "id": "0542a9f8",
   "metadata": {},
   "outputs": [],
   "source": [
    "overall_phase5[overall_phase5['len_unique'] > 100]"
   ]
  },
  {
   "cell_type": "code",
   "execution_count": null,
   "id": "49a68429",
   "metadata": {},
   "outputs": [],
   "source": [
    "%store overall_phase1\n",
    "%store overall_phase2\n",
    "%store overall_phase3\n",
    "%store overall_phase4\n",
    "%store overall_phase5\n",
    "%store df_all\n",
    "%store subset_bogota0_phase1\n",
    "%store subset_bogota0_phase2\n",
    "%store subset_bogota0_phase3\n",
    "%store subset_bogota0_phase4\n",
    "%store subset_bogota0_phase5\n",
    "%store subset_bogota1_phase1\n",
    "%store subset_bogota1_phase2\n",
    "%store subset_bogota1_phase3\n",
    "%store subset_bogota1_phase4\n",
    "%store subset_bogota1_phase5\n",
    "%store subset_bogota2_phase1\n",
    "%store subset_bogota2_phase2\n",
    "%store subset_bogota2_phase3\n",
    "%store subset_bogota2_phase4\n",
    "%store subset_bogota2_phase5\n",
    "%store subset_bogota3_phase1\n",
    "%store overall_phase2_bogota3\n",
    "%store overall_phase3_bogota3\n",
    "%store overall_phase4_bogota3\n",
    "%store overall_phase5_bogota3"
   ]
  },
  {
   "cell_type": "code",
   "execution_count": null,
   "id": "dd966cb1",
   "metadata": {},
   "outputs": [],
   "source": []
  },
  {
   "cell_type": "code",
   "execution_count": null,
   "id": "0623186d",
   "metadata": {},
   "outputs": [],
   "source": []
  },
  {
   "cell_type": "code",
   "execution_count": null,
   "id": "a781501d",
   "metadata": {},
   "outputs": [],
   "source": []
  }
 ],
 "metadata": {
  "kernelspec": {
   "display_name": "Python 3 (ipykernel)",
   "language": "python",
   "name": "python3"
  },
  "language_info": {
   "codemirror_mode": {
    "name": "ipython",
    "version": 3
   },
   "file_extension": ".py",
   "mimetype": "text/x-python",
   "name": "python",
   "nbconvert_exporter": "python",
   "pygments_lexer": "ipython3",
   "version": "3.8.9"
  }
 },
 "nbformat": 4,
 "nbformat_minor": 5
}
