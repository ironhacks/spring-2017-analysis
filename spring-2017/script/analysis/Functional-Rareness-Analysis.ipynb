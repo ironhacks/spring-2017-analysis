{
 "cells": [
  {
   "cell_type": "markdown",
   "id": "e4428fd5",
   "metadata": {},
   "source": [
    "# Rareness"
   ]
  },
  {
   "cell_type": "markdown",
   "id": "2fa56952",
   "metadata": {},
   "source": [
    "## Get All Functions from All Phases and Groups"
   ]
  },
  {
   "cell_type": "code",
   "execution_count": 11,
   "id": "453621db",
   "metadata": {},
   "outputs": [],
   "source": [
    "import pandas as pd\n",
    "import numpy as np\n",
    "import collections\n",
    "\n",
    "%store -r overall_phase1\n",
    "%store -r overall_phase2\n",
    "%store -r overall_phase3\n",
    "%store -r overall_phase4\n",
    "%store -r overall_phase5\n",
    "\n",
    "\n",
    "%store -r subset_bogota0_phase1\n",
    "%store -r subset_bogota0_phase2\n",
    "%store -r subset_bogota0_phase3\n",
    "%store -r overall_phase3_bogota0\n",
    "%store -r subset_bogota0_phase4\n",
    "%store -r overall_phase4_bogota0\n",
    "%store -r overall_phase5_bogota0\n",
    "%store -r subset_bogota0_phase5\n",
    "%store -r subset_bogota1_phase1\n",
    "%store -r subset_bogota1_phase2\n",
    "%store -r subset_bogota1_phase3\n",
    "%store -r overall_phase3_bogota1\n",
    "%store -r overall_phase4_bogota1\n",
    "%store -r overall_phase5_bogota1\n",
    "%store -r subset_bogota1_phase5\n",
    "%store -r subset_bogota1_phase4\n",
    "%store -r subset_bogota2_phase1\n",
    "%store -r subset_bogota2_phase2\n",
    "%store -r subset_bogota2_phase3\n",
    "%store -r overall_phase3_bogota2\n",
    "%store -r overall_phase4_bogota2\n",
    "%store -r overall_phase5_bogota2\n",
    "%store -r subset_bogota2_phase5\n",
    "%store -r subset_bogota3_phase1\n",
    "%store -r overall_phase1_bogota3\n",
    "%store -r overall_phase2_bogota3\n",
    "%store -r subset_bogota3_phase3\n",
    "%store -r overall_phase3_bogota3\n",
    "%store -r overall_phase4_bogota3\n",
    "%store -r overall_phase5_bogota3\n",
    "%store -r subset_bogota2_phase4\n",
    "\n",
    "%store -r overall_phase2_bogota0\n",
    "%store -r overall_phase2_bogota1\n",
    "%store -r overall_phase2_bogota2\n",
    "%store -r overall_phase2_bogota3\n",
    "\n",
    "%store -r overall_phase1_bogota0\n",
    "%store -r overall_phase1_bogota1\n",
    "%store -r overall_phase1_bogota2\n",
    "%store -r overall_phase1_bogota3\n",
    "\n",
    "from collections import Counter\n"
   ]
  },
  {
   "cell_type": "code",
   "execution_count": 13,
   "id": "23174ea0",
   "metadata": {},
   "outputs": [
    {
     "data": {
      "text/plain": [
       "[('.averagePrice', 1),\n",
       " ('.minPrice', 1),\n",
       " ('.maxPrice', 1),\n",
       " ('jsonprices.data.CommunityArea', 1),\n",
       " ('jsonprices.data.CommunityArea.length', 1),\n",
       " ('marker.setOptions', 1),\n",
       " ('x.valueOf', 1),\n",
       " ('TMAX.push', 1),\n",
       " ('crmarker.setMap', 1),\n",
       " ('wcmarker.setMap', 1),\n",
       " ('cdmarker.setMap', 1),\n",
       " ('infowindow.setPosition', 1),\n",
       " ('scripto.js', 1),\n",
       " ('hospitals.length', 1),\n",
       " ('hospitals.push', 1),\n",
       " ('archivo.jpg', 1),\n",
       " ('casa.jpg', 1),\n",
       " ('ladron.jpg', 1),\n",
       " ('.website', 1),\n",
       " ('rentMarks.length', 1),\n",
       " ('rentMarks.push', 1),\n",
       " ('jso.length', 1),\n",
       " ('jren.responseText', 1),\n",
       " ('jren.status', 1),\n",
       " ('jren.readyState', 1),\n",
       " ('jren.onreadystatechange', 1),\n",
       " ('jren.send', 1),\n",
       " ('jren.open', 1),\n",
       " ('medition.value', 1),\n",
       " ('medition.datatype', 1),\n",
       " ('.climate', 1),\n",
       " ('month.length', 1),\n",
       " ('map.drawRadio', 1),\n",
       " ('criteria.css', 1),\n",
       " ('libraryData.push', 1),\n",
       " ('plot.call', 1),\n",
       " ('self.attr', 1),\n",
       " ('btn.on', 1),\n",
       " ('drawAxis.call', 1),\n",
       " ('g.y.axis', 1),\n",
       " ('g.x.axis', 1),\n",
       " ('.y.axis', 1),\n",
       " ('params.axis.y', 1),\n",
       " ('params.axis.x', 1),\n",
       " ('params.gridlines', 1),\n",
       " ('params.initialize', 1),\n",
       " ('controls.append', 1),\n",
       " ('.rangeBands', 1),\n",
       " ('precipitation.data', 1),\n",
       " ('movies.length', 1),\n",
       " ('artworks.length', 1),\n",
       " ('nbremer.blogspot.nl', 1),\n",
       " ('pederestian.length', 1),\n",
       " ('prices.length', 1),\n",
       " ('PriceAPI.js', 1),\n",
       " ('d.radio', 1),\n",
       " ('distance.split', 1),\n",
       " ('final.name', 1),\n",
       " ('near.length', 1),\n",
       " ('precipi.value', 1),\n",
       " ('xmlRes.getElementsByTagName', 1),\n",
       " ('LargeSearchBoxWidget.htm', 1),\n",
       " ('zillow.js', 1),\n",
       " ('bar.bikeNum', 1),\n",
       " ('bar.parkNum', 1),\n",
       " ('bar.trafficNum', 1),\n",
       " ('bar.bookNum', 1),\n",
       " ('bar.policeNum', 1),\n",
       " ('circle.setRadius', 1),\n",
       " ('circle.setCenter', 1),\n",
       " ('this.getPrecipitations', 1),\n",
       " ('this.getTemperatureAverage', 1),\n",
       " ('scope.updatePrecipitation', 1),\n",
       " ('scope.markerCluster', 1),\n",
       " ('aux.index', 1),\n",
       " ('scope.precipitationPerMonths.push', 1),\n",
       " ('scope.precipitations.length', 1),\n",
       " ('ClimateService.getPrecipitations', 1),\n",
       " ('scope.temperaturePerMonths.push', 1),\n",
       " ('.date.split', 1),\n",
       " ('scope.temperatures.length', 1),\n",
       " ('response.data.results', 1),\n",
       " ('ClimateService.getTemperatureAverage', 1),\n",
       " ('scope.direction.origin.marker.lng', 1),\n",
       " ('scope.direction.origin.marker.lat', 1),\n",
       " ('scope.markerCluster.addMarker', 1),\n",
       " ('scope.markerCluster.clearMarkers', 1),\n",
       " ('values.index', 1),\n",
       " ('scope.getClimateData', 1),\n",
       " ('scope.precipitationSrc', 1),\n",
       " ('scope.precipitation', 1),\n",
       " ('scope.precipitations', 1),\n",
       " ('scope.precipitationPerMonths', 1),\n",
       " ('scope.temperatureSrc', 1),\n",
       " ('scope.temperature', 1),\n",
       " ('scope.temperatures', 1),\n",
       " ('scope.temperaturePerMonths', 1),\n",
       " ('scope.selectedIndex', 1),\n",
       " ('precipitationPerMonth.date', 1),\n",
       " ('precipitationPerMonth.value', 1),\n",
       " ('temperaturePerMonth.date', 1),\n",
       " ('temperaturePerMonth.value', 1),\n",
       " ('precipitations.length', 1),\n",
       " ('temperatures.length', 1),\n",
       " ('climateService.js', 1),\n",
       " ('.mifecha', 1),\n",
       " ('weather.Temp', 1),\n",
       " ('weather.Weather', 1),\n",
       " ('data.currentobservation', 1),\n",
       " ('center.type', 1),\n",
       " ('center.number', 1),\n",
       " ('center.address', 1),\n",
       " ('center.name', 1),\n",
       " ('un.PNG', 1),\n",
       " ('OrderData.setGroceryStores', 1),\n",
       " ('OrderData.setLibraries', 1),\n",
       " ('OrderData.setPoliceStations', 1),\n",
       " ('OrderData.getGroceryStores', 1),\n",
       " ('OrderData.getLibraries', 1),\n",
       " ('OrderData.getPoliceStations', 1),\n",
       " ('ComponentsAction.showModalWindow', 1),\n",
       " (nan, 1),\n",
       " ('.getElementsAtEvent', 1),\n",
       " ('centers.js', 1),\n",
       " ('.getMapTypeId', 1),\n",
       " ('.mapTypes', 1),\n",
       " ('markerCluster.repaint', 1),\n",
       " ('markerCluster.setMaxZoom', 1),\n",
       " ('this.circle.setOptions', 1),\n",
       " ('circle.setOptions', 1),\n",
       " ('marker.circle', 1),\n",
       " ('mark.length', 1),\n",
       " ('tortacanvas.append', 1),\n",
       " ('pie.destroy', 1),\n",
       " ('.name.localeCompare', 1),\n",
       " ('.CommunityArea.Areas', 1),\n",
       " ('.CommunityArea.Areas.length', 1),\n",
       " ('duhsr.json', 1),\n",
       " ('yo.jpg', 1),\n",
       " ('ScriptPrub.js', 1),\n",
       " ('CDO.js', 1),\n",
       " ('dark.css', 1),\n",
       " ('pathDummy.transition', 1),\n",
       " ('pathForeground.transition', 1),\n",
       " ('endCircle.attr', 1),\n",
       " ('endCircle.style', 1),\n",
       " ('pathDummyCircle.split', 1),\n",
       " ('middleTextCount.text', 1),\n",
       " ('transition.attrTween', 1),\n",
       " ('.cornerRadius', 1),\n",
       " ('shadow.append', 1),\n",
       " ('light.css', 1),\n",
       " ('Acircle.setCenter', 1),\n",
       " ('Acircle.setMap', 1),\n",
       " ('day.date.toDateString', 1),\n",
       " ('Zrequest.send', 1),\n",
       " ('place.security', 1),\n",
       " ('place.distance', 1),\n",
       " ('place.price', 1),\n",
       " ('x.item', 1),\n",
       " ('Zrequest.responseXML', 1),\n",
       " ('Zrequest.onreadystatechange', 1),\n",
       " ('Zrequest.status', 1),\n",
       " ('Zrequest.readyState', 1),\n",
       " ('Zrequest.open', 1),\n",
       " ('dataItem.ratings', 1),\n",
       " ('dataItem.name', 1),\n",
       " ('modal.destinationName', 1),\n",
       " ('dataContainer.placesList.filter', 1),\n",
       " ('item.heart', 1),\n",
       " ('placesList.filter', 1),\n",
       " ('place.ratings', 1),\n",
       " ('.ratings', 1),\n",
       " ('selectedPlace.distance', 1),\n",
       " ('selectedPlace.security', 1),\n",
       " ('selectedPlace.units', 1),\n",
       " ('me.directionsDisplay.setDirections', 1),\n",
       " ('this.directionsService.route', 1),\n",
       " ('AutocompleteDirectionsHandler.prototype.route', 1),\n",
       " ('me.destinationPlaceId', 1),\n",
       " ('me.originPlaceId', 1),\n",
       " ('place.place', 1),\n",
       " ('autocomplete.getPlace', 1),\n",
       " ('autocomplete.addListener', 1),\n",
       " ('AutocompleteDirectionsHandler.prototype.setupPlaceChangedListener', 1),\n",
       " ('me.route', 1),\n",
       " ('me.travelMode', 1),\n",
       " ('radioButton.addEventListener', 1),\n",
       " ('AutocompleteDirectionsHandler.prototype.setupClickListener', 1),\n",
       " ('this.setupPlaceChangedListener', 1),\n",
       " ('this.setupClickListener', 1),\n",
       " ('this.directionsDisplay.setMap', 1),\n",
       " ('this.directionsDisplay', 1),\n",
       " ('this.directionsService', 1),\n",
       " ('this.travelMode', 1),\n",
       " ('this.destinationPlaceId', 1),\n",
       " ('this.originPlaceId', 1),\n",
       " ('artist.push', 1),\n",
       " ('numPark.push', 1),\n",
       " ('.slideanim', 1),\n",
       " ('basic.asp', 1),\n",
       " ('.toDeg', 1),\n",
       " ('.toRad', 1),\n",
       " ('brng.toRad', 1),\n",
       " ('google.maps.LatLng.prototype.destinationPoint', 1),\n",
       " ('Number.prototype.toDeg', 1),\n",
       " ('Number.prototype.toRad', 1),\n",
       " ('transitLayer.setMap', 1),\n",
       " ('bikeLayer.setMap', 1),\n",
       " ('.mapContainer', 1),\n",
       " ('parksLocations.push', 1),\n",
       " ('initMap.parksCluster', 1),\n",
       " ('initMap.drawRecommended', 1),\n",
       " ('initMap.markersCluster', 1),\n",
       " ('initMap.drawPaths', 1),\n",
       " ('originList.length', 1),\n",
       " ('directionsDisplayB.setDirections', 1),\n",
       " ('directionsServiceB.route', 1),\n",
       " ('directionsDisplayB.setMap', 1),\n",
       " ('directionsDisplayA.setDirections', 1),\n",
       " ('directionsServiceA.route', 1),\n",
       " ('directionsDisplayA.setMap', 1),\n",
       " ('parksLocations.map', 1),\n",
       " ('policePoints.push', 1),\n",
       " ('policeMarker.addListener', 1),\n",
       " ('.price', 1),\n",
       " ('policePoints.length', 1),\n",
       " ('travelModes.length', 1),\n",
       " ('data.price', 1),\n",
       " ('neig.setMap', 1),\n",
       " ('pru.length', 1),\n",
       " (nan, 1),\n",
       " ('markersp.length', 1),\n",
       " ('.clase', 1),\n",
       " ('.acres', 1),\n",
       " ('infoPark.push', 1),\n",
       " ('parkObjects.length', 1),\n",
       " ('parks.json', 1),\n",
       " ('this.clase', 1),\n",
       " ('this.acres', 1),\n",
       " ('data.zestimate.amount', 1),\n",
       " ('data.zestimate.amount.toString', 1),\n",
       " ('data.address.zipcode', 1),\n",
       " ('data.address.street', 1),\n",
       " ('Park.js', 1),\n",
       " ('.placeName', 1),\n",
       " ('.coefGeneral', 1),\n",
       " ('.nparks', 1),\n",
       " ('.nlibs', 1),\n",
       " ('.nhosp', 1),\n",
       " ('.npolice', 1),\n",
       " ('.nfire', 1),\n",
       " ('chhospital.ed', 1),\n",
       " ('chlib.checked', 1),\n",
       " ('chpark.checked', 1),\n",
       " ('chhospital.checked', 1),\n",
       " ('chfire.checked', 1),\n",
       " ('chpolice.checked', 1),\n",
       " ('.hospital', 1),\n",
       " ('places.sort', 1),\n",
       " ('a.dist', 1),\n",
       " ('b.coef', 1),\n",
       " ('a.coef', 1),\n",
       " ('this.coef', 1),\n",
       " ('this.nhosp', 1),\n",
       " ('this.nlibs', 1),\n",
       " ('this.nparks', 1),\n",
       " ('this.nfire', 1),\n",
       " ('this.npolice', 1),\n",
       " ('this.neighbor', 1),\n",
       " ('this.placeName', 1),\n",
       " ('document.body.style.background', 1),\n",
       " ('hnch.json', 1),\n",
       " ('gtjn.json', 1),\n",
       " ('main.toggleMaps', 1),\n",
       " ('PlayerSpec.js', 1),\n",
       " ('SpecHelper.js', 1),\n",
       " ('scope.loading', 1),\n",
       " ('scope.text', 1),\n",
       " ('Array.generateNumbers', 1),\n",
       " ('Math.randomInt', 1),\n",
       " ('Array.generate', 1),\n",
       " ('.toLambda', 1),\n",
       " ('t.avg', 1),\n",
       " ('this.internal.config.test', 1),\n",
       " ('.chart.fn.test', 1),\n",
       " ('this.internal.isTimeSeries', 1),\n",
       " ('.chart.fn.hoge', 1),\n",
       " ('.chart.internal.fn.additionalConfig.test', 1),\n",
       " ('.chart.internal.fn.isTimeSeries', 1),\n",
       " ('h.defQueue', 1),\n",
       " ('P.readyState', 1),\n",
       " ('E.pop', 1),\n",
       " ('q.split', 1),\n",
       " ('r.baseUrl', 1),\n",
       " ('r.skipDataMain', 1),\n",
       " ('b.onError', 1),\n",
       " ('b.onScriptError', 1),\n",
       " ('b.onScriptLoad', 1),\n",
       " ('g.attachEvent.toString', 1),\n",
       " ('b.contextName', 1),\n",
       " ('c.charset', 1),\n",
       " ('b.scriptType', 1),\n",
       " ('b.xhtml', 1),\n",
       " ('h.createNode', 1),\n",
       " ('x.head', 1),\n",
       " ('c.require', 1),\n",
       " ('h.isBrowser', 1),\n",
       " ('h.jsExtRegExp', 1),\n",
       " ('h.version', 1),\n",
       " ('g.require', 1),\n",
       " ('h.s.newContext', 1),\n",
       " ('ka.test', 1),\n",
       " ('h.load', 1),\n",
       " ('l.urlArgs', 1),\n",
       " ('l.baseUrl', 1),\n",
       " ('h.jsExtRegExp.test', 1),\n",
       " ('f.exportsFn', 1),\n",
       " ('f.deps', 1),\n",
       " ('l.enforceDefine', 1),\n",
       " ('c.inited', 1),\n",
       " ('e.events.defined', 1),\n",
       " ('g.undef', 1),\n",
       " ('b.lastIndexOf', 1),\n",
       " ('e.skipMap', 1),\n",
       " ('l.skipMap', 1),\n",
       " ('i.nextTick', 1),\n",
       " ('e.enableBuildCallback', 1),\n",
       " ('a.map.unnormalized', 1),\n",
       " ('i.makeShimExports', 1),\n",
       " ('a.exportsFn', 1),\n",
       " ('a.shim', 1),\n",
       " ('a.bundles', 1),\n",
       " ('a.baseUrl.length', 1),\n",
       " ('a.baseUrl.charAt', 1),\n",
       " ('a.baseUrl', 1),\n",
       " ('h.nextTick', 1),\n",
       " ('d.fromText', 1),\n",
       " ('a.map.id.indexOf', 1),\n",
       " ('g.enable', 1),\n",
       " ('f.normalize', 1),\n",
       " ('a.parentMap', 1),\n",
       " ('h.onResourceLoad', 1),\n",
       " ('a.requireType', 1),\n",
       " ('a.requireMap', 1),\n",
       " ('i.execCb', 1),\n",
       " ('i.load', 1),\n",
       " ('f.ignore', 1),\n",
       " ('l.shim', 1),\n",
       " ('a.map.url', 1),\n",
       " ('a.map.isDefine', 1),\n",
       " ('a.usingExports', 1),\n",
       " ('i.makeRequire', 1),\n",
       " ('i.onScriptError', 1),\n",
       " ('i.onScriptLoad', 1),\n",
       " ('a.currentTarget', 1),\n",
       " ('a.contextName', 1),\n",
       " ('a.fetched', 1),\n",
       " ('a.inited', 1),\n",
       " ('i.isDefine', 1),\n",
       " ('i.startTime', 1),\n",
       " ('l.waitSeconds', 1),\n",
       " ('a.check', 1),\n",
       " ('a.defineDep', 1),\n",
       " ('a.depMatched', 1),\n",
       " ('a.depMaps', 1),\n",
       " ('a.map.id', 1),\n",
       " ('ia.apply', 1),\n",
       " ('h.onError', 1),\n",
       " ('e.events.error', 1),\n",
       " ('a.requireModules', 1),\n",
       " ('n.defineEmitComplete', 1),\n",
       " ('i.Module', 1),\n",
       " ('i.nameToUrl', 1),\n",
       " ('i.require', 1),\n",
       " ('i.require.undef', 1),\n",
       " ('l.paths', 1),\n",
       " ('i.contextName', 1),\n",
       " ('l.pkgs', 1),\n",
       " ('R.test', 1),\n",
       " ('l.nodeIdCompat', 1),\n",
       " ('c.originalError', 1),\n",
       " ('c.requireModules', 1),\n",
       " ('c.requireType', 1),\n",
       " ('errorBars.select', 1),\n",
       " ('segList.getItem', 1),\n",
       " ('errorBars.selectAll', 1),\n",
       " ('chart.data.targets.forEach', 1),\n",
       " ('chartSeries.length', 1),\n",
       " ('sample.push', 1),\n",
       " ('moment.toDate', 1),\n",
       " ('range.by', 1),\n",
       " ('timeseries.json', 1),\n",
       " ('.func.cat', 1),\n",
       " ('.func.hoge', 1),\n",
       " ('fn.api', 1),\n",
       " ('fn.config.value', 1),\n",
       " ('fn.config', 1),\n",
       " ('func.cat', 1),\n",
       " ('.hoge', 1),\n",
       " ('fn.func.cat', 1),\n",
       " ('func.hoge', 1),\n",
       " ('fn.func.hoge', 1),\n",
       " ('fn.func', 1),\n",
       " ('this.config.value', 1),\n",
       " ('.selection.prototype.text', 1),\n",
       " ('this.ownerDocument.importNode', 1),\n",
       " ('svgDocElement.firstChild', 1),\n",
       " ('dXML.parseFromString', 1),\n",
       " ('dXML.async', 1),\n",
       " ('childNodes.item', 1),\n",
       " ('attrNode.value', 1),\n",
       " ('attrNode.name', 1),\n",
       " ('attrMap.item', 1),\n",
       " ('attrMap.length', 1),\n",
       " ('original.length', 1),\n",
       " ('x.getFullYear', 1),\n",
       " ('this.main.append', 1),\n",
       " ('window.chart.load', 1),\n",
       " ('x.tick.centered', 1),\n",
       " ('this.clipChart', 1),\n",
       " ('jsonfile.concat', 1),\n",
       " ('scatterplot.load', 1),\n",
       " ('data.daily.revenue', 1),\n",
       " ('data.daily.sold', 1),\n",
       " ('data.daily.x', 1),\n",
       " ('data.weekly.revenue', 1),\n",
       " ('data.weekly.sold', 1),\n",
       " ('data.weekly.x', 1),\n",
       " ('data.monthly.revenue', 1),\n",
       " ('data.monthly.sold', 1),\n",
       " ('data.monthly.x', 1),\n",
       " ('chart.internal.radius', 1),\n",
       " ('option.data.columns', 1),\n",
       " ('.chart.internal.fn.addTransitionForCircle', 1),\n",
       " ('.chart.internal.fn.redrawCircle', 1),\n",
       " ('newNoteLine.value', 1),\n",
       " ('chart.internal.config.axis', 1),\n",
       " ('x.toLocaleDateString', 1),\n",
       " ('x.getDate', 1),\n",
       " ('this.hideLegend', 1),\n",
       " ('.chart.internal.fn.getAreaBaseValue', 1),\n",
       " ('series.push', 1),\n",
       " ('chart.subchart.hide', 1),\n",
       " ('chart.subchart.show', 1),\n",
       " ('.chart.fn.subchart.hide', 1),\n",
       " ('chart.internal.data.targets', 1),\n",
       " ('.chart.fn.subchart.show', 1),\n",
       " ('.chart.fn.subchart', 1),\n",
       " ('category.substr', 1),\n",
       " ('.chart.internal.fn.xForRotatedTickText', 1),\n",
       " ('types.types', 1),\n",
       " ('chart.destroy', 1),\n",
       " ('load.length', 1),\n",
       " ('chart.flush', 1),\n",
       " ('chart.internal.config.gauge', 1),\n",
       " ('chart.element', 1),\n",
       " ('datum.push', 1),\n",
       " ('charts.push', 1),\n",
       " ('window.chart', 1),\n",
       " ('window.toggleGroups', 1),\n",
       " ('window.grouped', 1),\n",
       " ('config.data.columns', 1),\n",
       " ('config.data.rows', 1),\n",
       " ('config.data.json', 1),\n",
       " ('config.data.keys', 1),\n",
       " ('config.data.mimeType', 1),\n",
       " ('config.data.url', 1),\n",
       " ('selectChart.classed', 1),\n",
       " ('.legend.hide', 1),\n",
       " ('.legend.show', 1),\n",
       " ('.axis.labels', 1),\n",
       " ('.data.colors', 1),\n",
       " ('.data.names', 1),\n",
       " ('.data.getAsTarget', 1),\n",
       " ('.data.get', 1),\n",
       " ('region.class.split', 1),\n",
       " ('region.class', 1),\n",
       " ('regions.filter', 1),\n",
       " ('.regions.remove', 1),\n",
       " ('regions.concat', 1),\n",
       " ('.regions.add', 1),\n",
       " ('.regions', 1),\n",
       " ('.ygrids.remove', 1),\n",
       " ('.ygrids.add', 1),\n",
       " ('.ygrids', 1),\n",
       " ('.xgrids.remove', 1),\n",
       " ('.xgrids.add', 1),\n",
       " ('.xgrids', 1),\n",
       " ('.zoom.enable', 1),\n",
       " ('.unzoom', 1),\n",
       " ('candidatesForNoneArc.classed', 1),\n",
       " ('.defocus', 1),\n",
       " ('candidates.filter', 1),\n",
       " ('params.class', 1),\n",
       " ('line.class', 1),\n",
       " ('params.value', 1),\n",
       " ('This.classed', 1),\n",
       " ('legend.insert', 1),\n",
       " ('.revert', 1),\n",
       " ('options.flow.orgDataCount', 1),\n",
       " ('options.flow.done', 1),\n",
       " ('options.flow.length', 1),\n",
       " ('options.flow.index', 1),\n",
       " ('mainRegion.selectAll', 1),\n",
       " ('transitions.push', 1),\n",
       " ('eventRect.classed', 1),\n",
       " ('contextArea.exit', 1),\n",
       " ('contextArea.enter', 1),\n",
       " ('contextLine.exit', 1),\n",
       " ('contextLine.enter', 1),\n",
       " ('contextBar.exit', 1),\n",
       " ('contextBar.enter', 1),\n",
       " ('mainText.exit', 1),\n",
       " ('mainText.enter', 1),\n",
       " ('mainCircle.exit', 1),\n",
       " ('mainCircle.enter', 1),\n",
       " ('mainArea.exit', 1),\n",
       " ('mainArea.enter', 1),\n",
       " ('mainLine.exit', 1),\n",
       " ('mainLine.enter', 1),\n",
       " ('mainBar.exit', 1),\n",
       " ('mainBar.enter', 1),\n",
       " ('mainRegion.exit', 1),\n",
       " ('mainRegion.enter', 1),\n",
       " ('ygridLines.exit', 1),\n",
       " ('ygridLines.select', 1),\n",
       " ('ygridLines.enter', 1),\n",
       " ('ygrid.exit', 1),\n",
       " ('ygrid.attr', 1),\n",
       " ('ygrid.enter', 1),\n",
       " ('y.ticks', 1),\n",
       " ('xgridLines.exit', 1),\n",
       " ('xgridLines.enter', 1),\n",
       " ('xgrid.exit', 1),\n",
       " ('xgrid.attr', 1),\n",
       " ('xgrid.enter', 1),\n",
       " ('axes.subx.style', 1),\n",
       " ('axes.y.style', 1),\n",
       " ('axes.x.style', 1),\n",
       " ('subXAxis.tickValues', 1),\n",
       " ('axes.x.selectAll', 1),\n",
       " ('ondragend.call', 1),\n",
       " ('ondragstart.call', 1),\n",
       " ('newData.concat', 1),\n",
       " ('selectedData.shift', 1),\n",
       " ('selectedData.length', 1),\n",
       " ('onresized.call', 1),\n",
       " ('onresize.call', 1),\n",
       " ('window.onresize.add', 1),\n",
       " ('axes.y.append', 1),\n",
       " ('axes.x.append', 1),\n",
       " ('grid.append', 1),\n",
       " ('legend.style', 1),\n",
       " ('selectChart.append', 1),\n",
       " ('selectChart.empty', 1),\n",
       " ('axes.y.call', 1),\n",
       " ('axes.subx.call', 1),\n",
       " ('axes.x.call', 1),\n",
       " ('zoom.updateScaleExtent', 1),\n",
       " ('zoom.orgScaleExtent', 1),\n",
       " ('brush.update', 1),\n",
       " ('this.pathSegList.getItem', 1),\n",
       " ('tooltip.property', 1),\n",
       " ('candidates.concat', 1),\n",
       " ('selectChart.select', 1),\n",
       " ('targetId.replace', 1),\n",
       " ('hiddenLegendIds.filter', 1),\n",
       " ('hiddenLegendIds.concat', 1),\n",
       " ('hiddenTargetIds.filter', 1),\n",
       " ('hiddenTargetIds.concat', 1),\n",
       " ('hiddenLegendIds.indexOf', 1),\n",
       " ('hiddenTargetIds.indexOf', 1),\n",
       " ('value.x', 1),\n",
       " ('targetKeys.push', 1),\n",
       " ('subX.domain', 1),\n",
       " ('noneTargets.style', 1),\n",
       " ('target.selectAll', 1),\n",
       " ('data.data.id', 1),\n",
       " ('svgArc.centroid', 1),\n",
       " ('transition.selectAll', 1),\n",
       " ('axis.selectAll', 1),\n",
       " ('brush.scale', 1),\n",
       " ('xAxis.tickValues', 1),\n",
       " ('subY.domain', 1),\n",
       " ('subXAxis.tickOffset', 1),\n",
       " ('xAxis.tickOffset', 1),\n",
       " ('firstData.x', 1),\n",
       " ('lastData.x', 1),\n",
       " ('target.values.length', 1),\n",
       " ('selectChart.style', 1),\n",
       " ('selectChart.node', 1),\n",
       " ('translate.legend', 1),\n",
       " ('legend.transition', 1),\n",
       " ('translate.subx', 1),\n",
       " ('translate.context', 1),\n",
       " ('translate.arc', 1),\n",
       " ('translate.main', 1),\n",
       " ('main.transition', 1),\n",
       " ('axisTimeFormat.multi', 1),\n",
       " ('CLASS.tooltipName', 1),\n",
       " ('CLASS.tooltip', 1),\n",
       " ('tweened.length', 1),\n",
       " ('tweened.push', 1),\n",
       " ('B.scale', 1),\n",
       " ('A.scale', 1),\n",
       " ('B.skew', 1),\n",
       " ('A.skew', 1),\n",
       " ('B.rotate', 1),\n",
       " ('A.rotate', 1),\n",
       " ('A.translate', 1),\n",
       " ('active.n', 1),\n",
       " ('active.c', 1),\n",
       " ('active.f', 1),\n",
       " ('active.t', 1),\n",
       " ('interpolate.duration', 1),\n",
       " ('range.contains', 1),\n",
       " ('moment.fn.within', 1),\n",
       " ('moment.range', 1),\n",
       " ('moment.fn.range', 1),\n",
       " ('this.end.diff', 1),\n",
       " ('DateRange.prototype.diff', 1),\n",
       " ('this.end.isSame', 1),\n",
       " ('this.start.isSame', 1),\n",
       " ('DateRange.prototype.isSame', 1),\n",
       " ('this.end.toDate', 1),\n",
       " ('this.start.toDate', 1),\n",
       " ('DateRange.prototype.toDate', 1),\n",
       " ('DateRange.prototype.valueOf', 1),\n",
       " ('DateRange.prototype.by', 1),\n",
       " ('DateRange.prototype.subtract', 1),\n",
       " ('DateRange.prototype.intersect', 1),\n",
       " ('DateRange.prototype.overlaps', 1),\n",
       " ('interval.valueOf', 1),\n",
       " ('this.start.valueOf', 1),\n",
       " ('current.add', 1),\n",
       " ('current.clone', 1),\n",
       " ('hollaback.call', 1),\n",
       " ('DateRange.prototype', 1),\n",
       " ('other.end', 1),\n",
       " ('DateRange.prototype.contains', 1),\n",
       " ('root.moment', 1),\n",
       " ('Song.js', 1),\n",
       " ('Player.js', 1),\n",
       " ('requirejs.js', 1),\n",
       " ('.axis.range', 1),\n",
       " ('.axis.min', 1),\n",
       " ('.axis.max', 1),\n",
       " ('chart.category', 1),\n",
       " ('chart.categories', 1),\n",
       " ('option.axis.rotated', 1),\n",
       " ('option.padding', 1),\n",
       " ('option.subchart.show', 1),\n",
       " ('option.legend.position', 1),\n",
       " ('option.bindto', 1),\n",
       " ('angularjs.js', 1),\n",
       " ('chart.regions.remove', 1),\n",
       " ('chart.regions.add', 1),\n",
       " ('chart.legend.hide', 1),\n",
       " ('test.tsv', 1),\n",
       " ('column.push', 1),\n",
       " ('chart.x', 1),\n",
       " ('tooltip.grouped', 1),\n",
       " ('chart.tooltip.hide', 1),\n",
       " ('chart.tooltip.show', 1),\n",
       " ('chart.xs', 1),\n",
       " ('chart.groups', 1),\n",
       " ('range.js', 1),\n",
       " ('moment.min.js', 1),\n",
       " ('chart.flow', 1),\n",
       " ('chart.ygrids', 1),\n",
       " ('grad.appendChild', 1),\n",
       " ('.setAttributeNS', 1),\n",
       " ('grad.setAttribute', 1),\n",
       " ('.panRight', 1),\n",
       " ('.panLeft', 1),\n",
       " ('.zoomOut', 1),\n",
       " ('.zoomIn', 1),\n",
       " ('reduction.js', 1),\n",
       " ('ext.js', 1),\n",
       " ('jquery.mousewheel.min.js', 1),\n",
       " ('chart.axis.range', 1),\n",
       " ('chart.axis.min', 1),\n",
       " ('chart.axis.max', 1),\n",
       " ('queue.forEach', 1),\n",
       " ('chart.xgrids.add', 1),\n",
       " ('chart.transform', 1),\n",
       " ('Petal.Width', 1),\n",
       " ('Sepal.Width', 1),\n",
       " ('colorbrewer.org', 1),\n",
       " ('en.wikibooks.org', 1),\n",
       " ('.majorExtent', 1),\n",
       " ('click.foo', 1),\n",
       " ('svg.size', 1),\n",
       " ('args.bindto', 1),\n",
       " ('.jasmine', 1),\n",
       " ('window.initDom', 1),\n",
       " ('chart.internal.d', 1),\n",
       " ('.transform.baseVal.getItem', 1),\n",
       " ('chart.internal.main.node', 1),\n",
       " ('util.equals', 1),\n",
       " ('expected.match', 1),\n",
       " ('chart.data.axes', 1),\n",
       " ('data.axes', 1),\n",
       " ('.toBeHexOrRGB', 1),\n",
       " ('chart.data.colors', 1),\n",
       " ('chart.data.names', 1),\n",
       " ('data.names', 1),\n",
       " ('chart.data.values', 1),\n",
       " ('chart.data.shown', 1),\n",
       " ('data.shown', 1),\n",
       " ('chart.internal.hasType', 1),\n",
       " ('internal.hasType', 1),\n",
       " ('chart.internal.hasArcType', 1),\n",
       " ('internal.hasArcType', 1),\n",
       " ('chart.axis.labels', 1),\n",
       " ('axis.labels', 1),\n",
       " ('api.region.remove', 1),\n",
       " ('api.region.add', 1),\n",
       " ('region.classed', 1),\n",
       " ('region.select', 1),\n",
       " ('regions.each', 1),\n",
       " ('expectedRegions.length', 1),\n",
       " ('regions.size', 1),\n",
       " ('chart.regions', 1),\n",
       " ('api.region', 1),\n",
       " ('commandTokens.indexOf', 1),\n",
       " ('args.axis', 1),\n",
       " ('texts.each', 1),\n",
       " ('args.data.groups', 1),\n",
       " ('text.c', 1),\n",
       " ('xs.data', 1),\n",
       " ('chart.internal.data.xs.data', 1),\n",
       " ('chart.internal.data.xs', 1),\n",
       " ('data.xs', 1),\n",
       " ('chart.internal.isOrderDesc', 1),\n",
       " ('chart.internal.isOrderAsc', 1),\n",
       " ('data.order', 1),\n",
       " ('args.axis.y', 1),\n",
       " ('chart.internal.getCurrentPaddingRight', 1),\n",
       " ('args.axis.y.inner', 1),\n",
       " ('chart.internal.getCurrentPaddingLeft', 1),\n",
       " ('axis.y.inner', 1),\n",
       " ('chart.show', 1),\n",
       " ('chart.hide', 1),\n",
       " ('axis.x.tick.fit', 1),\n",
       " ('axis.y.tick.rotate', 1),\n",
       " ('chart.internal.getHorizontalAxisHeight', 1),\n",
       " ('axis.x.tick.rotate', 1),\n",
       " ('args.axis.x.tick.format', 1),\n",
       " ('args.axis.x.tick', 1),\n",
       " ('tick.selectAll', 1),\n",
       " ('axis.x.tick.format', 1),\n",
       " ('tspans.each', 1),\n",
       " ('tspans.size', 1),\n",
       " ('ticks.each', 1),\n",
       " ('ticks.size', 1),\n",
       " ('axis.x.tick.width', 1),\n",
       " ('window.generatedTicks', 1),\n",
       " ('args.axis.x', 1),\n",
       " ('axis.x.tick.values', 1),\n",
       " ('args.axis.y.tick.time', 1),\n",
       " ('axis.y.time', 1),\n",
       " ('args.axis.y.tick.values', 1),\n",
       " ('axis.y.tick.count', 1),\n",
       " ('args.axis.rotated', 1),\n",
       " ('chart.internal.isWithinBar', 1),\n",
       " ('internal.isWithinBar', 1),\n",
       " ('legendItems.size', 1),\n",
       " ('args.legend', 1),\n",
       " ('chart.revert', 1),\n",
       " ('item.style', 1),\n",
       " ('chart.defocus', 1),\n",
       " ('legendItems.data', 1),\n",
       " ('targets.data', 1),\n",
       " ('item.classed', 1),\n",
       " ('legendItems.each', 1),\n",
       " ('line.classed', 1),\n",
       " ('chart.focus', 1),\n",
       " ('chart.unzoom', 1),\n",
       " ('chart.internal.parseDate', 1),\n",
       " ('chart.internal.x.domain', 1),\n",
       " ('eventRects.each', 1),\n",
       " ('eventRects.size', 1),\n",
       " ('data.attr', 1),\n",
       " ('data.c', 1),\n",
       " ('args.data.columns', 1),\n",
       " ('arcs.data', 1),\n",
       " ('shape.c', 1),\n",
       " ('path.c', 1),\n",
       " ('arcs.c', 1),\n",
       " ('shapes.c', 1),\n",
       " ('arc.c', 1),\n",
       " ('chartArc.select', 1),\n",
       " ('chart.xgrids.remove', 1),\n",
       " ('xgrids.remove', 1),\n",
       " ('chart.internal.x', 1),\n",
       " ('chart.xgrids', 1),\n",
       " ('chart.ygrids.remove', 1),\n",
       " ('ygrids.remove', 1),\n",
       " ('chart.internal.y', 1),\n",
       " ('grids.each', 1),\n",
       " ('expectedGrids.length', 1),\n",
       " ('grids.size', 1),\n",
       " ('chart.ygrids.add', 1),\n",
       " ('ygrids.add', 1),\n",
       " ('ygrid.remove', 1),\n",
       " ('ygrid.add', 1),\n",
       " ('args.spline.interpolation.type', 1),\n",
       " ('chart.data', 1),\n",
       " ('chart.internal.getInterpolate', 1),\n",
       " ('spline.interpolation', 1),\n",
       " ('point.show', 1),\n",
       " ('chart.internal.config.spline', 1),\n",
       " ('args.data.type', 1),\n",
       " ('target.select', 1),\n",
       " ('window.parseSvgPath', 1),\n",
       " ('args.legend.padding', 1),\n",
       " ('.parentNode.getBBox', 1),\n",
       " ('args.legend.item.tile.width', 1),\n",
       " ('args.legend.item.tile.height', 1),\n",
       " ('chart.legend.show', 1),\n",
       " ('legend.show', 1),\n",
       " ('legend.hide', 1),\n",
       " ('args.legend.inset.step', 1),\n",
       " ('box.right', 1),\n",
       " ('chart.internal.legend.node', 1),\n",
       " ('axis.y.padding', 1),\n",
       " ('args.axis.y.max', 1),\n",
       " ('axis.y.max', 1),\n",
       " ('args.axis.y.min', 1),\n",
       " ('axis.y.min', 1),\n",
       " ('.data.columns.length', 1),\n",
       " ('tooltipContainer.style', 1),\n",
       " ('window.setMouseEvent', 1),\n",
       " ('.not.toBeNull', 1),\n",
       " ('chart.internal.getTargetSelectorSuffix', 1),\n",
       " ('internal.getTargetSelectorSuffix', 1),\n",
       " ('config.title.padding.bottom', 1),\n",
       " ('config.title.padding.top', 1),\n",
       " ('chart.internal.getCurrentPaddingTop', 1),\n",
       " ('titleEl.node', 1),\n",
       " ('titleEl.attr', 1),\n",
       " ('line.select', 1),\n",
       " ('.toBeCloseTo', 1),\n",
       " ('lines.each', 1),\n",
       " ('chart.internal.main.selectAll', 1),\n",
       " ('args.axis.y.tick.count', 1),\n",
       " ('args.grid.y.ticks', 1),\n",
       " ('ygrids.selectAll', 1),\n",
       " ('ygrids.size', 1),\n",
       " ('args.grid.y.show', 1),\n",
       " ('chart.internal.main.select', 1),\n",
       " ('chart.internal.brush.extent', 1),\n",
       " ('chart.internal.subY.domain', 1),\n",
       " ('chart.internal.y.domain', 1),\n",
       " ('tickTexts.each', 1),\n",
       " ('legendItem.size', 1),\n",
       " ('target.size', 1),\n",
       " ('item.c', 1),\n",
       " ('line.c', 1),\n",
       " ('chart.internal.legend', 1),\n",
       " ('chart.internal.main', 1),\n",
       " ('window.initChart', 1),\n",
       " ('data.userid', 1),\n",
       " ('data.success', 1),\n",
       " ('XMLHttpRequest.responseText', 1),\n",
       " ('login.pl', 1),\n",
       " ('login.js', 1),\n",
       " ('hr.getUTCHours', 1),\n",
       " ('hr.getSeconds', 1),\n",
       " ('hr.getMinutes', 1),\n",
       " ('hr.getHours', 1),\n",
       " ('.dropMonth', 1),\n",
       " ('table.lastChild', 1),\n",
       " ('table.removeChild', 1),\n",
       " ('table.hasChildNodes', 1),\n",
       " ('m.cloneNode', 1),\n",
       " ('image.cloneNode', 1),\n",
       " ('rentalPlacesData.length', 1),\n",
       " ('rentalPlacesData.push', 1),\n",
       " ('this.police', 1),\n",
       " ('this.book', 1),\n",
       " ('this.health', 1),\n",
       " ('this.schools', 1),\n",
       " ('o.police', 1),\n",
       " ('o.book', 1),\n",
       " ('o.health', 1),\n",
       " ('o.fire', 1),\n",
       " ('o.schools', 1),\n",
       " ('k.LN', 1),\n",
       " ('k.E', 1),\n",
       " ('k.ceil', 1),\n",
       " ('k.log', 1),\n",
       " ('x.addCommas', 1),\n",
       " ('e.reverse', 1),\n",
       " ('U.logPositive', 1),\n",
       " ('U.dataMax', 1),\n",
       " ('U.dataMin', 1),\n",
       " ('U.splitNumber', 1),\n",
       " ('U.logLabelBase', 1),\n",
       " ('w.abs', 1),\n",
       " ('w.ceil', 1),\n",
       " ('w.floor', 1),\n",
       " ('w.round', 1),\n",
       " ('u.e', 1),\n",
       " ('m.secs', 1),\n",
       " ('m.delta', 1),\n",
       " ('t.score', 1),\n",
       " ('e.score', 1),\n",
       " ('V.c', 1),\n",
       " ('U.c', 1),\n",
       " ('n.e', 1),\n",
       " ('s.span', 1),\n",
       " ('t.span', 1),\n",
       " ('e.span', 1),\n",
       " ('y.e', 1),\n",
       " ('y.c', 1),\n",
       " ('n.toFixed', 1),\n",
       " ('l.e', 1),\n",
       " ('s.e', 1),\n",
       " ('y.max', 1),\n",
       " ('y.min', 1),\n",
       " ('y.secs', 1),\n",
       " ('y.steps', 1),\n",
       " ('w.pow', 1),\n",
       " ('w.LN', 1),\n",
       " ('w.log', 1),\n",
       " ('dataMappingMethods.coord', 1),\n",
       " ('dataMappingMethods.value', 1),\n",
       " ('valueLabel.push', 1),\n",
       " ('i.labelFormatter', 1),\n",
       " ('i.dataMappingMethods', 1),\n",
       " ('i.tickList', 1),\n",
       " ('i.dataMax', 1),\n",
       " ('i.dataMin', 1),\n",
       " ('t.splitNumber', 1),\n",
       " ('t.logLabelBase', 1),\n",
       " ('t.logPositive', 1),\n",
       " ('t.accMul', 1),\n",
       " ('t.accAdd', 1),\n",
       " ('valueList.push', 1),\n",
       " ('s.nextNthOnYear', 1),\n",
       " ('s.nextNthOnHalfYear', 1),\n",
       " ('s.nextNthOnQuarterYear', 1),\n",
       " ('s.nextNthOnMonth', 1),\n",
       " ('s.nextMonday', 1),\n",
       " ('t.gapValue', 1),\n",
       " ('t.formatter', 1),\n",
       " ('a.pnts', 1),\n",
       " ('a.secs', 1),\n",
       " ('.evolution', 1),\n",
       " ('s.getNewDate', 1),\n",
       " ('this.option.scale', 1),\n",
       " ('this.option.splitNumber', 1),\n",
       " ('this.option.type', 1),\n",
       " ('this.option.yAxisIndex', 1),\n",
       " ('this.option.xAxisIndex', 1),\n",
       " ('n.isSelected', 1),\n",
       " ('this.option.max', 1),\n",
       " ('this.option.min', 1),\n",
       " ('this.option.splitArea.areaStyle.color', 1),\n",
       " ('s.baseline', 1),\n",
       " ('s.align', 1),\n",
       " ('this.option.axisLabel.clickable', 1),\n",
       " ('this.option.axisLabel.margin', 1),\n",
       " ('this.getCoord', 1),\n",
       " ('valueList.length', 1),\n",
       " ('r.valueAxis', 1),\n",
       " ('console.err', 1),\n",
       " ('s.inherits', 1),\n",
       " ('this.grid.getWidth', 1),\n",
       " ('this.grid.getHeight', 1),\n",
       " ('i.onGap', 1),\n",
       " ('i.areaStyle.color', 1),\n",
       " ('this.option.splitArea', 1),\n",
       " ('n.lineStyle.type', 1),\n",
       " ('this.option.splitLine', 1),\n",
       " ('e.rotation', 1),\n",
       " ('e.style.textAlign', 1),\n",
       " ('o.interval', 1),\n",
       " ('o.textStyle', 1),\n",
       " ('o.clickable', 1),\n",
       " ('o.margin', 1),\n",
       " ('o.rotate', 1),\n",
       " ('this.option.axisLabel', 1),\n",
       " ('this.grid.getXend', 1),\n",
       " ('this.grid.getX', 1),\n",
       " ('this.getCoordByIndex', 1),\n",
       " ('this.grid.getY', 1),\n",
       " ('this.grid.getYend', 1),\n",
       " ('n.inside', 1),\n",
       " ('this.option.boundaryGap', 1),\n",
       " ('n.onGap', 1),\n",
       " ('n.lineStyle.width', 1),\n",
       " ('n.lineStyle.color', 1),\n",
       " ('this.option.axisTick', 1),\n",
       " ('this.option.axisLabel.show', 1),\n",
       " ('this.option.axisTick.show', 1),\n",
       " ('this.option.axisLine.show', 1),\n",
       " ...]"
      ]
     },
     "execution_count": 13,
     "metadata": {},
     "output_type": "execute_result"
    }
   ],
   "source": [
    "## List the 20,000 least common functions in a counter\n",
    "\n",
    "overall_12 = overall_phase1.append(overall_phase2, ignore_index=True)\n",
    "overall_23 = overall_12.append(overall_phase3, ignore_index=True)\n",
    "overall_34 = overall_23.append(overall_phase4, ignore_index=True)\n",
    "overall_45 = overall_34.append(overall_phase5, ignore_index=True)\n",
    "new_list = overall_45['functions'].explode().to_list()\n",
    "new_list = list(filter(None, new_list))\n",
    "out = collections.Counter(new_list)\n",
    "out.most_common()[:-20000-2:-1]"
   ]
  },
  {
   "cell_type": "code",
   "execution_count": 3,
   "id": "6dc3909a",
   "metadata": {},
   "outputs": [
    {
     "ename": "TypeError",
     "evalue": "sequence item 0: expected str instance, list found",
     "output_type": "error",
     "traceback": [
      "\u001b[0;31m---------------------------------------------------------------------------\u001b[0m",
      "\u001b[0;31mTypeError\u001b[0m                                 Traceback (most recent call last)",
      "\u001b[0;32m/var/folders/gf/pvtbdsj96cz1tv7vmn1gq7j40000gn/T/ipykernel_8466/465376832.py\u001b[0m in \u001b[0;36m<module>\u001b[0;34m\u001b[0m\n\u001b[1;32m      2\u001b[0m \u001b[0moverall_45\u001b[0m\u001b[0;34m.\u001b[0m\u001b[0mdropna\u001b[0m\u001b[0;34m(\u001b[0m\u001b[0msubset\u001b[0m\u001b[0;34m=\u001b[0m\u001b[0;34m[\u001b[0m\u001b[0;34m'functions'\u001b[0m\u001b[0;34m]\u001b[0m\u001b[0;34m,\u001b[0m \u001b[0minplace\u001b[0m\u001b[0;34m=\u001b[0m\u001b[0;32mTrue\u001b[0m\u001b[0;34m)\u001b[0m\u001b[0;34m\u001b[0m\u001b[0;34m\u001b[0m\u001b[0m\n\u001b[1;32m      3\u001b[0m \u001b[0moverall_45_functions\u001b[0m \u001b[0;34m=\u001b[0m \u001b[0moverall_45\u001b[0m\u001b[0;34m[\u001b[0m\u001b[0;34m'functions'\u001b[0m\u001b[0;34m]\u001b[0m\u001b[0;34m.\u001b[0m\u001b[0mto_list\u001b[0m\u001b[0;34m(\u001b[0m\u001b[0;34m)\u001b[0m\u001b[0;34m\u001b[0m\u001b[0;34m\u001b[0m\u001b[0m\n\u001b[0;32m----> 4\u001b[0;31m \u001b[0mstring\u001b[0m \u001b[0;34m=\u001b[0m \u001b[0;34m\" \"\u001b[0m\u001b[0;34m.\u001b[0m\u001b[0mjoin\u001b[0m\u001b[0;34m(\u001b[0m\u001b[0moverall_45_functions\u001b[0m\u001b[0;34m)\u001b[0m\u001b[0;34m\u001b[0m\u001b[0;34m\u001b[0m\u001b[0m\n\u001b[0m\u001b[1;32m      5\u001b[0m \u001b[0mx\u001b[0m \u001b[0;34m=\u001b[0m \u001b[0mstring\u001b[0m\u001b[0;34m.\u001b[0m\u001b[0msplit\u001b[0m\u001b[0;34m(\u001b[0m\u001b[0;34m\",\"\u001b[0m\u001b[0;34m)\u001b[0m\u001b[0;34m\u001b[0m\u001b[0;34m\u001b[0m\u001b[0m\n\u001b[1;32m      6\u001b[0m \u001b[0mout\u001b[0m \u001b[0;34m=\u001b[0m \u001b[0mcollections\u001b[0m\u001b[0;34m.\u001b[0m\u001b[0mCounter\u001b[0m\u001b[0;34m(\u001b[0m\u001b[0mx\u001b[0m\u001b[0;34m)\u001b[0m\u001b[0;34m\u001b[0m\u001b[0;34m\u001b[0m\u001b[0m\n",
      "\u001b[0;31mTypeError\u001b[0m: sequence item 0: expected str instance, list found"
     ]
    }
   ],
   "source": [
    "overall_45['functions'].replace('', np.nan, inplace=True)\n",
    "overall_45.dropna(subset=['functions'], inplace=True)\n",
    "overall_45_functions = overall_45['functions'].to_list()\n",
    "string = \" \".join(overall_45_functions)\n",
    "x = string.split(\",\")\n",
    "out = collections.Counter(x)\n",
    "list_functions = out.most_common()[:-20000-2:-1]\n",
    "new_list = []\n",
    "for x in range(0,len(list_functions)):\n",
    "    new_list.append(list_functions[x][0])\n",
    "new_list = list(filter(None, new_list))\n",
    "len(new_list)"
   ]
  },
  {
   "cell_type": "markdown",
   "id": "c7036e92",
   "metadata": {},
   "source": [
    "## Functions Count for Group 0"
   ]
  },
  {
   "cell_type": "code",
   "execution_count": null,
   "id": "c9fac870",
   "metadata": {},
   "outputs": [],
   "source": [
    "import seaborn as sns\n",
    "overall_45_group0 = overall_45.loc[overall_45['Group'] == 0]\n",
    "overall_45_group0['functions'].replace('', np.nan, inplace=True)\n",
    "overall_45_group0.dropna(subset=['functions'], inplace=True)\n",
    "overall_45_functions = overall_45_group0['functions'].to_list()\n",
    "string = \" \".join(overall_45_functions)\n",
    "x = string.split(\",\")\n",
    "out1 = collections.Counter(x)\n",
    "df = pd.DataFrame(list(out1.items()))\n",
    "df = df.rename(columns={0:'Functions', 1:'Count'})\n",
    "df = df[df['Functions'] != '']\n",
    "df.sort_values(by='Count', ascending=False, inplace=True)\n",
    "df_group0 = df.reset_index(drop=True)\n",
    "df_group0"
   ]
  },
  {
   "cell_type": "code",
   "execution_count": null,
   "id": "a1f543c2",
   "metadata": {},
   "outputs": [],
   "source": [
    "# Get the Frequency at each Quantiles for Bogota 0 - No Transparency\n",
    "\n",
    "for i in np.arange(0, 1, 0.05):\n",
    "    print(\"Quantile: %.2f\" %i, \"Freq: \", df_group0['Count'].quantile(i))"
   ]
  },
  {
   "cell_type": "code",
   "execution_count": null,
   "id": "367be238",
   "metadata": {},
   "outputs": [],
   "source": [
    "# Distribution Plot for frequency of each functions in the no tranparency group\n",
    "\n",
    "df_group0['Count'].plot()"
   ]
  },
  {
   "cell_type": "markdown",
   "id": "67202083",
   "metadata": {},
   "source": [
    "## Functions Count for Group 1"
   ]
  },
  {
   "cell_type": "code",
   "execution_count": null,
   "id": "ff0000b5",
   "metadata": {},
   "outputs": [],
   "source": [
    "import seaborn as sns\n",
    "overall_45_group1 = overall_45.loc[overall_45['Group'] == 1]\n",
    "overall_45_group1['functions'].replace('', np.nan, inplace=True)\n",
    "overall_45_group1.dropna(subset=['functions'], inplace=True)\n",
    "overall_45_functions = overall_45_group1['functions'].to_list()\n",
    "string = \" \".join(overall_45_functions)\n",
    "x = string.split(\",\")\n",
    "out1 = collections.Counter(x)\n",
    "df = pd.DataFrame(list(out1.items()))\n",
    "df = df.rename(columns={0:'Functions', 1:'Count'})\n",
    "df = df[df['Functions'] != '']\n",
    "df.sort_values(by='Count', ascending=False, inplace=True)\n",
    "df_group1 = df.reset_index(drop=True)\n",
    "df_group1"
   ]
  },
  {
   "cell_type": "code",
   "execution_count": null,
   "id": "31f11437",
   "metadata": {},
   "outputs": [],
   "source": [
    "# Get the Frequency at each Quantiles for Bogota 1 - Performance Transparency\n",
    "\n",
    "for i in np.arange(0, 1, 0.05):\n",
    "    print(\"Quantile: %.2f\" %i, \"Freq: \", df_group1['Count'].quantile(i))"
   ]
  },
  {
   "cell_type": "code",
   "execution_count": null,
   "id": "a894535e",
   "metadata": {},
   "outputs": [],
   "source": [
    "# Distribution Plot for frequency of each functions in the performance tranparency group\n",
    "\n",
    "df_group1['Count'].plot()"
   ]
  },
  {
   "cell_type": "markdown",
   "id": "095b1ec9",
   "metadata": {},
   "source": [
    "## Functions Count for Group 2"
   ]
  },
  {
   "cell_type": "code",
   "execution_count": null,
   "id": "da4dd873",
   "metadata": {},
   "outputs": [],
   "source": [
    "import seaborn as sns\n",
    "overall_45_group2 = overall_45.loc[overall_45['Group'] == 2]\n",
    "overall_45_group2['functions'].replace('', np.nan, inplace=True)\n",
    "overall_45_group2.dropna(subset=['functions'], inplace=True)\n",
    "overall_45_functions = overall_45_group2['functions'].to_list()\n",
    "string = \" \".join(overall_45_functions)\n",
    "x = string.split(\",\")\n",
    "out1 = collections.Counter(x)\n",
    "df = pd.DataFrame(list(out1.items()))\n",
    "df = df.rename(columns={0:'Functions', 1:'Count'})\n",
    "df = df[df['Functions'] != '']\n",
    "df.sort_values(by='Count', ascending=False, inplace=True)\n",
    "df_group2 = df.reset_index(drop=True)\n",
    "df_group2"
   ]
  },
  {
   "cell_type": "code",
   "execution_count": null,
   "id": "1a1c8cbc",
   "metadata": {},
   "outputs": [],
   "source": [
    "# Get the Frequency at each Quantiles for Bogota 2 - Solution Transparency\n",
    "\n",
    "for i in np.arange(0, 1, 0.05):\n",
    "    print(\"Quantile: %.2f\" %i, \"Freq: \", df_group2['Count'].quantile(i))"
   ]
  },
  {
   "cell_type": "code",
   "execution_count": null,
   "id": "2d57d533",
   "metadata": {},
   "outputs": [],
   "source": [
    "# Distribution Plot for frequency of each functions in the solution tranparency group\n",
    "\n",
    "df_group2['Count'].plot()"
   ]
  },
  {
   "cell_type": "markdown",
   "id": "5ed94687",
   "metadata": {},
   "source": [
    "## Functions Count for Group 3"
   ]
  },
  {
   "cell_type": "code",
   "execution_count": null,
   "id": "3f05e59c",
   "metadata": {},
   "outputs": [],
   "source": [
    "import seaborn as sns\n",
    "overall_45_group3 = overall_45.loc[overall_45['Group'] == 3]\n",
    "overall_45_group3['functions'].replace('', np.nan, inplace=True)\n",
    "overall_45_group3.dropna(subset=['functions'], inplace=True)\n",
    "overall_45_functions = overall_45_group3['functions'].to_list()\n",
    "string = \" \".join(overall_45_functions)\n",
    "x = string.split(\",\")\n",
    "out1 = collections.Counter(x)\n",
    "df = pd.DataFrame(list(out1.items()))\n",
    "df = df.rename(columns={0:'Functions', 1:'Count'})\n",
    "df = df[df['Functions'] != '']\n",
    "df.sort_values(by='Count', ascending=False, inplace=True)\n",
    "df_group3 = df.reset_index(drop=True)\n",
    "df_group3"
   ]
  },
  {
   "cell_type": "code",
   "execution_count": null,
   "id": "596a93f7",
   "metadata": {},
   "outputs": [],
   "source": [
    "# Get the Frequency at each Quantiles for Bogota 3 - Full Transparency\n",
    "\n",
    "for i in np.arange(0, 1, 0.05):\n",
    "    print(\"Quantile: %.2f\" %i, \"Freq: \", df_group3['Count'].quantile(i))"
   ]
  },
  {
   "cell_type": "code",
   "execution_count": null,
   "id": "7e33a49e",
   "metadata": {},
   "outputs": [],
   "source": [
    "# Distribution Plot for frequency of each functions in the full tranpsrancy group\n",
    "\n",
    "df_group3['Count'].plot()"
   ]
  },
  {
   "cell_type": "markdown",
   "id": "60821418",
   "metadata": {},
   "source": [
    "## Functions Count for All Sample"
   ]
  },
  {
   "cell_type": "code",
   "execution_count": null,
   "id": "ad0a5428",
   "metadata": {},
   "outputs": [],
   "source": [
    "df = pd.DataFrame(list(out.items()))\n",
    "df = df.rename(columns={0:'Functions', 1:'Count'})\n",
    "df = df[df['Functions'] != '']\n",
    "df.sort_values(by='Count', ascending=False, inplace=True)\n",
    "df_all = df.reset_index(drop=True)\n",
    "df_all"
   ]
  },
  {
   "cell_type": "code",
   "execution_count": null,
   "id": "2a5b3197",
   "metadata": {},
   "outputs": [],
   "source": [
    "# Get the Frequency at each Quantiles for the Total Sample\n",
    "\n",
    "for i in np.arange(0, 1, 0.05):\n",
    "    print(\"Quantile: %.2f\" %i, \"Freq: \", df_all['Count'].quantile(i))"
   ]
  },
  {
   "cell_type": "code",
   "execution_count": null,
   "id": "6e68fd58",
   "metadata": {},
   "outputs": [],
   "source": [
    "# Distribution Plot for frequency of each functions in the total sample\n",
    "\n",
    "df_all['Count'].plot()"
   ]
  },
  {
   "cell_type": "markdown",
   "id": "745a85eb",
   "metadata": {},
   "source": [
    ">> By the end of the discussion on 20th May, 2022, we conclude that we are using 10% as the cut-off for the rare functions. In the overall sample, we have a frequency of 2 at 10% for the functions.  In Bogota 1 ( performance transparency ), Bogota 2 ( solution transparency ), and Bogota 3 ( full transparency ), we have also 2 as the frequency for the quantile of 10%. In bogota 0 ( no tranparency ), although we have a frequency of 1 at the 10% quantile, the jump was straight towards 4 at the quantile of 25%, so we conclude in using 10% as the cut-off. "
   ]
  },
  {
   "cell_type": "markdown",
   "id": "c6735698",
   "metadata": {},
   "source": [
    "## List of Functions with Frequency Count of 1 in Total Sample"
   ]
  },
  {
   "cell_type": "code",
   "execution_count": null,
   "id": "36cc499d",
   "metadata": {},
   "outputs": [],
   "source": [
    "[k for k, v in out.items() if v == 1]\n"
   ]
  },
  {
   "cell_type": "markdown",
   "id": "0cd1405a",
   "metadata": {},
   "source": [
    "## List of Functions with Frequency Count of 2 in Total Sample"
   ]
  },
  {
   "cell_type": "code",
   "execution_count": null,
   "id": "3fd0dd43",
   "metadata": {},
   "outputs": [],
   "source": [
    "[k for k, v in out.items() if v == 2]\n"
   ]
  },
  {
   "cell_type": "markdown",
   "id": "0b5c2197",
   "metadata": {},
   "source": [
    "## List of Functions with Frequency Count of 3 in Total Sample"
   ]
  },
  {
   "cell_type": "code",
   "execution_count": null,
   "id": "9567c013",
   "metadata": {},
   "outputs": [],
   "source": [
    "[k for k, v in out.items() if v == 3]\n"
   ]
  },
  {
   "cell_type": "code",
   "execution_count": null,
   "id": "8cdaef8f",
   "metadata": {},
   "outputs": [],
   "source": [
    "round (len(out) * 0.05)"
   ]
  },
  {
   "cell_type": "code",
   "execution_count": null,
   "id": "9563b60c",
   "metadata": {},
   "outputs": [],
   "source": [
    "round (len(out) * 0.1)"
   ]
  },
  {
   "cell_type": "code",
   "execution_count": null,
   "id": "7c0ec8ca",
   "metadata": {},
   "outputs": [],
   "source": [
    "round(len(out) * 0.15)"
   ]
  },
  {
   "cell_type": "code",
   "execution_count": null,
   "id": "a72cabf3",
   "metadata": {},
   "outputs": [],
   "source": [
    "round(len(out) * 0.2)"
   ]
  },
  {
   "cell_type": "code",
   "execution_count": null,
   "id": "252df462",
   "metadata": {},
   "outputs": [],
   "source": [
    "## List the 5% least common functions in a counter\n",
    "\n",
    "overall_12 = overall_phase1.append(overall_phase2, ignore_index=True)\n",
    "overall_23 = overall_12.append(overall_phase3, ignore_index=True)\n",
    "overall_34 = overall_23.append(overall_phase4, ignore_index=True)\n",
    "overall_45 = overall_34.append(overall_phase5, ignore_index=True)\n",
    "overall_45['functions'].replace('', np.nan, inplace=True)\n",
    "overall_45.dropna(subset=['functions'], inplace=True)\n",
    "overall_45_functions = overall_45['functions'].to_list()\n",
    "string = \" \".join(overall_45_functions)\n",
    "x = string.split(\",\")\n",
    "out = collections.Counter(x)\n",
    "list_functions = out.most_common()[:-10379-2:-1]\n",
    "top_5_unique = []\n",
    "for x in range(0,len(list_functions)):\n",
    "    top_5_unique.append(list_functions[x][0])\n",
    "top_5_unique = list(filter(None, top_5_unique))\n",
    "len(top_5_unique)"
   ]
  },
  {
   "cell_type": "code",
   "execution_count": null,
   "id": "306ac721",
   "metadata": {},
   "outputs": [],
   "source": [
    "## List the 10% least common functions in a counter\n",
    "\n",
    "overall_12 = overall_phase1.append(overall_phase2, ignore_index=True)\n",
    "overall_23 = overall_12.append(overall_phase3, ignore_index=True)\n",
    "overall_34 = overall_23.append(overall_phase4, ignore_index=True)\n",
    "overall_45 = overall_34.append(overall_phase5, ignore_index=True)\n",
    "overall_45['functions'].replace('', np.nan, inplace=True)\n",
    "overall_45.dropna(subset=['functions'], inplace=True)\n",
    "overall_45_functions = overall_45['functions'].to_list()\n",
    "string = \" \".join(overall_45_functions)\n",
    "x = string.split(\",\")\n",
    "out = collections.Counter(x)\n",
    "list_functions = out.most_common()[:-20758-2:-1]\n",
    "top_10_unique = []\n",
    "for x in range(0,len(list_functions)):\n",
    "    top_10_unique.append(list_functions[x][0])\n",
    "top_10_unique = list(filter(None, top_10_unique))\n",
    "len(top_10_unique)"
   ]
  },
  {
   "cell_type": "code",
   "execution_count": null,
   "id": "6192034f",
   "metadata": {},
   "outputs": [],
   "source": [
    "## List the 15% least common functions in a counter\n",
    "\n",
    "overall_12 = overall_phase1.append(overall_phase2, ignore_index=True)\n",
    "overall_23 = overall_12.append(overall_phase3, ignore_index=True)\n",
    "overall_34 = overall_23.append(overall_phase4, ignore_index=True)\n",
    "overall_45 = overall_34.append(overall_phase5, ignore_index=True)\n",
    "overall_45['functions'].replace('', np.nan, inplace=True)\n",
    "overall_45.dropna(subset=['functions'], inplace=True)\n",
    "overall_45_functions = overall_45['functions'].to_list()\n",
    "string = \" \".join(overall_45_functions)\n",
    "x = string.split(\",\")\n",
    "out = collections.Counter(x)\n",
    "list_functions = out.most_common()[:-31136-2:-1]\n",
    "top_15_unique = []\n",
    "for x in range(0,len(list_functions)):\n",
    "    top_15_unique.append(list_functions[x][0])\n",
    "top_15_unique = list(filter(None, top_15_unique))\n",
    "len(top_15_unique)"
   ]
  },
  {
   "cell_type": "code",
   "execution_count": null,
   "id": "ffc80c25",
   "metadata": {},
   "outputs": [],
   "source": [
    "## List the 20% least common functions in a counter\n",
    "\n",
    "overall_12 = overall_phase1.append(overall_phase2, ignore_index=True)\n",
    "overall_23 = overall_12.append(overall_phase3, ignore_index=True)\n",
    "overall_34 = overall_23.append(overall_phase4, ignore_index=True)\n",
    "overall_45 = overall_34.append(overall_phase5, ignore_index=True)\n",
    "overall_45['functions'].replace('', np.nan, inplace=True)\n",
    "overall_45.dropna(subset=['functions'], inplace=True)\n",
    "overall_45_functions = overall_45['functions'].to_list()\n",
    "string = \" \".join(overall_45_functions)\n",
    "x = string.split(\",\")\n",
    "out = collections.Counter(x)\n",
    "list_functions = out.most_common()[:-41515-2:-1]\n",
    "top_20_unique = []\n",
    "for x in range(0,len(list_functions)):\n",
    "    top_20_unique.append(list_functions[x][0])\n",
    "top_20_unique = list(filter(None, top_20_unique))\n",
    "len(top_20_unique)"
   ]
  },
  {
   "cell_type": "code",
   "execution_count": null,
   "id": "cbe4a005",
   "metadata": {},
   "outputs": [],
   "source": [
    "list_functions = out.most_common(20000)\n",
    "list_functions"
   ]
  },
  {
   "cell_type": "markdown",
   "id": "a3bb3ed8",
   "metadata": {},
   "source": [
    "list_functions2 = [(name, count) for name, count in list_functions]\n",
    "plt.plot(*zip(*list_functions2))\n",
    "plt.show()"
   ]
  },
  {
   "cell_type": "code",
   "execution_count": null,
   "id": "5792da53",
   "metadata": {},
   "outputs": [],
   "source": [
    "list_functions2 = [count for name, count in list_functions]\n",
    "list_functions2"
   ]
  },
  {
   "cell_type": "code",
   "execution_count": null,
   "id": "d137eae6",
   "metadata": {},
   "outputs": [],
   "source": [
    "list_functions2 = [name for name, count in list_functions]\n",
    "list_functions2"
   ]
  },
  {
   "cell_type": "code",
   "execution_count": null,
   "id": "2d66deed",
   "metadata": {},
   "outputs": [],
   "source": [
    "## Remove all duplicates and empty string from the entire function list\n",
    "\n",
    "overall_12 = overall_phase1.append(overall_phase2, ignore_index=True)\n",
    "overall_23 = overall_12.append(overall_phase3, ignore_index=True)\n",
    "overall_34 = overall_23.append(overall_phase4, ignore_index=True)\n",
    "overall_45 = overall_34.append(overall_phase5, ignore_index=True)\n",
    "overall_45['functions'].replace('', np.nan, inplace=True)\n",
    "overall_45.dropna(subset=['functions'], inplace=True)\n",
    "overall_45_functions = overall_45['functions'].to_list()\n",
    "string = \" \".join(overall_45_functions)\n",
    "x = string.split(\",\")\n",
    "remove_duplicates = list(set(x))\n",
    "remove_all_duplicates = list(filter(None, remove_duplicates))\n",
    "total_unique_functions_global = len(remove_all_duplicates)"
   ]
  },
  {
   "cell_type": "code",
   "execution_count": null,
   "id": "df9ec343",
   "metadata": {},
   "outputs": [],
   "source": [
    "import math\n",
    "remove_duplicates = list(set(new_list))\n",
    "str1 = [x for x in remove_duplicates if str(x) != 'nan']\n",
    "str1"
   ]
  },
  {
   "cell_type": "code",
   "execution_count": null,
   "id": "4a5c96bc",
   "metadata": {},
   "outputs": [],
   "source": [
    "global_functions = {'Student': 'all', 'functions': [str1], 'phase': 0}\n",
    "global_functions = pd.DataFrame(data=global_functions)\n",
    "global_functions"
   ]
  },
  {
   "cell_type": "markdown",
   "id": "1383c1fb",
   "metadata": {},
   "source": [
    "## Append Global Functions with Bogota 0 Phase 5"
   ]
  },
  {
   "cell_type": "code",
   "execution_count": null,
   "id": "d68a875d",
   "metadata": {},
   "outputs": [],
   "source": [
    "subset_bogota0_phase5_all = subset_bogota0_phase5.append(global_functions, ignore_index=True)\n",
    "print(subset_bogota0_phase5_all)"
   ]
  },
  {
   "cell_type": "code",
   "execution_count": null,
   "id": "c147aaae",
   "metadata": {},
   "outputs": [],
   "source": [
    "import itertools\n",
    "import pandas as pd\n",
    "\n",
    "overall_phase4_bogota3 = overall_phase4_bogota3[overall_phase4_bogota3.functions != '']\n",
    "\n",
    "# copied from OP above\n",
    "def jaccard_similarity(x, y):\n",
    "    \"\"\" returns the jaccard similarity between two lists \"\"\"\n",
    "    intersection_cardinality = len(set.intersection(*[set(x), set(y)]))\n",
    "    union_cardinality = len(set.union(*[set(x), set(y)]))\n",
    "    return intersection_cardinality/float(union_cardinality)\n",
    "\n",
    "# create list of tuples like [(wording, user), (wording, user)]\n",
    "wordings_users = list(zip(subset_bogota0_phase5_all[\"functions\"], subset_bogota0_phase5_all[\"Student\"]))\n",
    "\n",
    "result = []\n",
    "\n",
    "# create list of all possible combinations between sets of (wording, user) and loop through them\n",
    "for item in list(itertools.combinations(wordings_users, 2)):\n",
    "    similarity = jaccard_similarity(item[0][0], item[1][0])\n",
    "    data = {\"user1\": item[0][1], \"user2\": item[1][1], \"similarity\": similarity}\n",
    "    result.append(data)\n",
    "\n",
    "subset_bogota0_phase5_compare_all = pd.DataFrame(result)\n",
    "subset_bogota0_phase5_compare_all"
   ]
  },
  {
   "cell_type": "code",
   "execution_count": null,
   "id": "1b30a508",
   "metadata": {},
   "outputs": [],
   "source": [
    "subset_bogota0_phase5_all_only = subset_bogota0_phase5_compare_all.loc[subset_bogota0_phase5_compare_all['user2'] == 'all']\n",
    "subset_bogota0_phase5_all_only"
   ]
  },
  {
   "cell_type": "markdown",
   "id": "856125c3",
   "metadata": {},
   "source": [
    "## Append Global Functions with Bogota 0 Phase 4"
   ]
  },
  {
   "cell_type": "code",
   "execution_count": null,
   "id": "e0b6e94f",
   "metadata": {},
   "outputs": [],
   "source": [
    "subset_bogota0_phase4_all = subset_bogota0_phase4.append(global_functions, ignore_index=True)\n",
    "print(subset_bogota0_phase4_all)"
   ]
  },
  {
   "cell_type": "code",
   "execution_count": null,
   "id": "189a1232",
   "metadata": {},
   "outputs": [],
   "source": [
    "import itertools\n",
    "import pandas as pd\n",
    "\n",
    "overall_phase4_bogota3 = overall_phase4_bogota3[overall_phase4_bogota3.functions != '']\n",
    "\n",
    "# copied from OP above\n",
    "def jaccard_similarity(x, y):\n",
    "    \"\"\" returns the jaccard similarity between two lists \"\"\"\n",
    "    intersection_cardinality = len(set.intersection(*[set(x), set(y)]))\n",
    "    union_cardinality = len(set.union(*[set(x), set(y)]))\n",
    "    return intersection_cardinality/float(union_cardinality)\n",
    "\n",
    "# create list of tuples like [(wording, user), (wording, user)]\n",
    "wordings_users = list(zip(subset_bogota0_phase4_all[\"functions\"], subset_bogota0_phase4_all[\"Student\"]))\n",
    "\n",
    "result = []\n",
    "\n",
    "# create list of all possible combinations between sets of (wording, user) and loop through them\n",
    "for item in list(itertools.combinations(wordings_users, 2)):\n",
    "    similarity = jaccard_similarity(item[0][0], item[1][0])\n",
    "    data = {\"user1\": item[0][1], \"user2\": item[1][1], \"similarity\": similarity}\n",
    "    result.append(data)\n",
    "\n",
    "subset_bogota0_phase4_compare_all = pd.DataFrame(result)\n",
    "subset_bogota0_phase4_compare_all"
   ]
  },
  {
   "cell_type": "code",
   "execution_count": null,
   "id": "b5889297",
   "metadata": {},
   "outputs": [],
   "source": [
    "subset_bogota0_phase4_all_only = subset_bogota0_phase4_compare_all.loc[subset_bogota0_phase4_compare_all['user2'] == 'all']\n",
    "subset_bogota0_phase4_all_only"
   ]
  },
  {
   "cell_type": "markdown",
   "id": "3a0597a6",
   "metadata": {},
   "source": [
    "## Append Global Functions with Bogota 0 Phase 3"
   ]
  },
  {
   "cell_type": "code",
   "execution_count": null,
   "id": "1ec2ecd9",
   "metadata": {},
   "outputs": [],
   "source": [
    "subset_bogota0_phase3_all = subset_bogota0_phase3.append(global_functions, ignore_index=True)\n",
    "print(subset_bogota0_phase3_all)"
   ]
  },
  {
   "cell_type": "code",
   "execution_count": null,
   "id": "62a0ad93",
   "metadata": {},
   "outputs": [],
   "source": [
    "import itertools\n",
    "import pandas as pd\n",
    "\n",
    "overall_phase4_bogota3 = overall_phase4_bogota3[overall_phase4_bogota3.functions != '']\n",
    "\n",
    "# copied from OP above\n",
    "def jaccard_similarity(x, y):\n",
    "    \"\"\" returns the jaccard similarity between two lists \"\"\"\n",
    "    intersection_cardinality = len(set.intersection(*[set(x), set(y)]))\n",
    "    union_cardinality = len(set.union(*[set(x), set(y)]))\n",
    "    return intersection_cardinality/float(union_cardinality)\n",
    "\n",
    "# create list of tuples like [(wording, user), (wording, user)]\n",
    "wordings_users = list(zip(subset_bogota0_phase3_all[\"functions\"], subset_bogota0_phase3_all[\"Student\"]))\n",
    "\n",
    "result = []\n",
    "\n",
    "# create list of all possible combinations between sets of (wording, user) and loop through them\n",
    "for item in list(itertools.combinations(wordings_users, 2)):\n",
    "    similarity = jaccard_similarity(item[0][0], item[1][0])\n",
    "    data = {\"user1\": item[0][1], \"user2\": item[1][1], \"similarity\": similarity}\n",
    "    result.append(data)\n",
    "\n",
    "subset_bogota0_phase3_compare_all = pd.DataFrame(result)\n",
    "subset_bogota0_phase3_compare_all"
   ]
  },
  {
   "cell_type": "code",
   "execution_count": null,
   "id": "3507ad12",
   "metadata": {},
   "outputs": [],
   "source": [
    "subset_bogota0_phase3_all_only = subset_bogota0_phase3_compare_all.loc[subset_bogota0_phase3_compare_all['user2'] == 'all']\n",
    "subset_bogota0_phase3_all_only"
   ]
  },
  {
   "cell_type": "markdown",
   "id": "2af5b0af",
   "metadata": {},
   "source": [
    "## Append Global Functions with Bogota 0 Phase 2"
   ]
  },
  {
   "cell_type": "code",
   "execution_count": null,
   "id": "daa60a1c",
   "metadata": {},
   "outputs": [],
   "source": [
    "subset_bogota0_phase2_all = subset_bogota0_phase2.append(global_functions, ignore_index=True)\n",
    "print(subset_bogota0_phase2_all)"
   ]
  },
  {
   "cell_type": "code",
   "execution_count": null,
   "id": "231fb87b",
   "metadata": {},
   "outputs": [],
   "source": [
    "import itertools\n",
    "import pandas as pd\n",
    "\n",
    "overall_phase4_bogota3 = overall_phase4_bogota3[overall_phase4_bogota3.functions != '']\n",
    "\n",
    "# copied from OP above\n",
    "def jaccard_similarity(x, y):\n",
    "    \"\"\" returns the jaccard similarity between two lists \"\"\"\n",
    "    intersection_cardinality = len(set.intersection(*[set(x), set(y)]))\n",
    "    union_cardinality = len(set.union(*[set(x), set(y)]))\n",
    "    return intersection_cardinality/float(union_cardinality)\n",
    "\n",
    "# create list of tuples like [(wording, user), (wording, user)]\n",
    "wordings_users = list(zip(subset_bogota0_phase2_all[\"functions\"], subset_bogota0_phase2_all[\"Student\"]))\n",
    "\n",
    "result = []\n",
    "\n",
    "# create list of all possible combinations between sets of (wording, user) and loop through them\n",
    "for item in list(itertools.combinations(wordings_users, 2)):\n",
    "    similarity = jaccard_similarity(item[0][0], item[1][0])\n",
    "    data = {\"user1\": item[0][1], \"user2\": item[1][1], \"similarity\": similarity}\n",
    "    result.append(data)\n",
    "\n",
    "subset_bogota0_phase2_compare_all = pd.DataFrame(result)\n",
    "subset_bogota0_phase2_compare_all"
   ]
  },
  {
   "cell_type": "code",
   "execution_count": null,
   "id": "26e0d2d9",
   "metadata": {},
   "outputs": [],
   "source": [
    "subset_bogota0_phase2_all_only = subset_bogota0_phase2_compare_all.loc[subset_bogota0_phase2_compare_all['user2'] == 'all']\n",
    "subset_bogota0_phase2_all_only"
   ]
  },
  {
   "cell_type": "markdown",
   "id": "f37f799d",
   "metadata": {},
   "source": [
    "## Append Global Functions with Bogota 0 Phase 1"
   ]
  },
  {
   "cell_type": "code",
   "execution_count": null,
   "id": "b84cb4f7",
   "metadata": {},
   "outputs": [],
   "source": [
    "subset_bogota0_phase1_all = subset_bogota0_phase1.append(global_functions, ignore_index=True)\n",
    "print(subset_bogota0_phase1_all)"
   ]
  },
  {
   "cell_type": "code",
   "execution_count": null,
   "id": "de0511b5",
   "metadata": {},
   "outputs": [],
   "source": [
    "import itertools\n",
    "import pandas as pd\n",
    "\n",
    "overall_phase4_bogota3 = overall_phase4_bogota3[overall_phase4_bogota3.functions != '']\n",
    "\n",
    "# copied from OP above\n",
    "def jaccard_similarity(x, y):\n",
    "    \"\"\" returns the jaccard similarity between two lists \"\"\"\n",
    "    intersection_cardinality = len(set.intersection(*[set(x), set(y)]))\n",
    "    union_cardinality = len(set.union(*[set(x), set(y)]))\n",
    "    return intersection_cardinality/float(union_cardinality)\n",
    "\n",
    "# create list of tuples like [(wording, user), (wording, user)]\n",
    "wordings_users = list(zip(subset_bogota0_phase1_all[\"functions\"], subset_bogota0_phase1_all[\"Student\"]))\n",
    "\n",
    "result = []\n",
    "\n",
    "# create list of all possible combinations between sets of (wording, user) and loop through them\n",
    "for item in list(itertools.combinations(wordings_users, 2)):\n",
    "    similarity = jaccard_similarity(item[0][0], item[1][0])\n",
    "    data = {\"user1\": item[0][1], \"user2\": item[1][1], \"similarity\": similarity}\n",
    "    result.append(data)\n",
    "\n",
    "subset_bogota0_phase1_compare_all = pd.DataFrame(result)\n",
    "subset_bogota0_phase1_compare_all"
   ]
  },
  {
   "cell_type": "code",
   "execution_count": null,
   "id": "51d48477",
   "metadata": {},
   "outputs": [],
   "source": [
    "subset_bogota0_phase1_all_only = subset_bogota0_phase1_compare_all.loc[subset_bogota0_phase1_compare_all['user2'] == 'all']\n",
    "subset_bogota0_phase1_all_only"
   ]
  },
  {
   "cell_type": "markdown",
   "id": "40df84d1",
   "metadata": {},
   "source": [
    "## Append Global Functions with Bogota 1 Phase 5"
   ]
  },
  {
   "cell_type": "code",
   "execution_count": null,
   "id": "1550bd27",
   "metadata": {},
   "outputs": [],
   "source": [
    "subset_bogota1_phase5_all = subset_bogota1_phase5.append(global_functions, ignore_index=True)\n",
    "print(subset_bogota1_phase5_all)"
   ]
  },
  {
   "cell_type": "code",
   "execution_count": null,
   "id": "05441494",
   "metadata": {},
   "outputs": [],
   "source": [
    "import itertools\n",
    "import pandas as pd\n",
    "\n",
    "overall_phase4_bogota3 = overall_phase4_bogota3[overall_phase4_bogota3.functions != '']\n",
    "\n",
    "# copied from OP above\n",
    "def jaccard_similarity(x, y):\n",
    "    \"\"\" returns the jaccard similarity between two lists \"\"\"\n",
    "    intersection_cardinality = len(set.intersection(*[set(x), set(y)]))\n",
    "    union_cardinality = len(set.union(*[set(x), set(y)]))\n",
    "    return intersection_cardinality/float(union_cardinality)\n",
    "\n",
    "# create list of tuples like [(wording, user), (wording, user)]\n",
    "wordings_users = list(zip(subset_bogota1_phase5_all[\"functions\"], subset_bogota1_phase5_all[\"Student\"]))\n",
    "\n",
    "result = []\n",
    "\n",
    "# create list of all possible combinations between sets of (wording, user) and loop through them\n",
    "for item in list(itertools.combinations(wordings_users, 2)):\n",
    "    similarity = jaccard_similarity(item[0][0], item[1][0])\n",
    "    data = {\"user1\": item[0][1], \"user2\": item[1][1], \"similarity\": similarity}\n",
    "    result.append(data)\n",
    "\n",
    "subset_bogota1_phase5_compare_all = pd.DataFrame(result)\n",
    "subset_bogota1_phase5_compare_all"
   ]
  },
  {
   "cell_type": "code",
   "execution_count": null,
   "id": "82260fd3",
   "metadata": {},
   "outputs": [],
   "source": [
    "subset_bogota1_phase5_all_only = subset_bogota1_phase5_compare_all.loc[subset_bogota1_phase5_compare_all['user2'] == 'all']\n",
    "subset_bogota1_phase5_all_only"
   ]
  },
  {
   "cell_type": "markdown",
   "id": "33f0ddfb",
   "metadata": {},
   "source": [
    "## Append Global Functions with Bogota 1 Phase 4"
   ]
  },
  {
   "cell_type": "code",
   "execution_count": null,
   "id": "75a13be9",
   "metadata": {},
   "outputs": [],
   "source": [
    "subset_bogota1_phase4_all = subset_bogota1_phase4.append(global_functions, ignore_index=True)\n",
    "print(subset_bogota1_phase4_all)"
   ]
  },
  {
   "cell_type": "code",
   "execution_count": null,
   "id": "e606ea62",
   "metadata": {},
   "outputs": [],
   "source": [
    "import itertools\n",
    "import pandas as pd\n",
    "\n",
    "overall_phase4_bogota3 = overall_phase4_bogota3[overall_phase4_bogota3.functions != '']\n",
    "\n",
    "# copied from OP above\n",
    "def jaccard_similarity(x, y):\n",
    "    \"\"\" returns the jaccard similarity between two lists \"\"\"\n",
    "    intersection_cardinality = len(set.intersection(*[set(x), set(y)]))\n",
    "    union_cardinality = len(set.union(*[set(x), set(y)]))\n",
    "    return intersection_cardinality/float(union_cardinality)\n",
    "\n",
    "# create list of tuples like [(wording, user), (wording, user)]\n",
    "wordings_users = list(zip(subset_bogota1_phase4_all[\"functions\"], subset_bogota1_phase4_all[\"Student\"]))\n",
    "\n",
    "result = []\n",
    "\n",
    "# create list of all possible combinations between sets of (wording, user) and loop through them\n",
    "for item in list(itertools.combinations(wordings_users, 2)):\n",
    "    similarity = jaccard_similarity(item[0][0], item[1][0])\n",
    "    data = {\"user1\": item[0][1], \"user2\": item[1][1], \"similarity\": similarity}\n",
    "    result.append(data)\n",
    "\n",
    "subset_bogota1_phase4_compare_all = pd.DataFrame(result)\n",
    "subset_bogota1_phase4_compare_all"
   ]
  },
  {
   "cell_type": "code",
   "execution_count": null,
   "id": "2632cd45",
   "metadata": {},
   "outputs": [],
   "source": [
    "subset_bogota1_phase4_all_only = subset_bogota1_phase4_compare_all.loc[subset_bogota1_phase4_compare_all['user2'] == 'all']\n",
    "subset_bogota1_phase4_all_only"
   ]
  },
  {
   "cell_type": "markdown",
   "id": "7c62dd26",
   "metadata": {},
   "source": [
    "## Append Global Functions with Bogota 1 Phase 3"
   ]
  },
  {
   "cell_type": "code",
   "execution_count": null,
   "id": "b2c5537b",
   "metadata": {},
   "outputs": [],
   "source": [
    "subset_bogota1_phase3_all = subset_bogota1_phase3.append(global_functions, ignore_index=True)\n",
    "print(subset_bogota1_phase3_all)"
   ]
  },
  {
   "cell_type": "code",
   "execution_count": null,
   "id": "67e9c682",
   "metadata": {},
   "outputs": [],
   "source": [
    "import itertools\n",
    "import pandas as pd\n",
    "\n",
    "overall_phase4_bogota3 = overall_phase4_bogota3[overall_phase4_bogota3.functions != '']\n",
    "\n",
    "# copied from OP above\n",
    "def jaccard_similarity(x, y):\n",
    "    \"\"\" returns the jaccard similarity between two lists \"\"\"\n",
    "    intersection_cardinality = len(set.intersection(*[set(x), set(y)]))\n",
    "    union_cardinality = len(set.union(*[set(x), set(y)]))\n",
    "    return intersection_cardinality/float(union_cardinality)\n",
    "\n",
    "# create list of tuples like [(wording, user), (wording, user)]\n",
    "wordings_users = list(zip(subset_bogota1_phase3_all[\"functions\"], subset_bogota1_phase3_all[\"Student\"]))\n",
    "\n",
    "result = []\n",
    "\n",
    "# create list of all possible combinations between sets of (wording, user) and loop through them\n",
    "for item in list(itertools.combinations(wordings_users, 2)):\n",
    "    similarity = jaccard_similarity(item[0][0], item[1][0])\n",
    "    data = {\"user1\": item[0][1], \"user2\": item[1][1], \"similarity\": similarity}\n",
    "    result.append(data)\n",
    "\n",
    "subset_bogota1_phase3_compare_all = pd.DataFrame(result)\n",
    "subset_bogota1_phase3_compare_all"
   ]
  },
  {
   "cell_type": "code",
   "execution_count": null,
   "id": "c260fe3d",
   "metadata": {},
   "outputs": [],
   "source": [
    "subset_bogota1_phase3_all_only = subset_bogota1_phase3_compare_all.loc[subset_bogota1_phase3_compare_all['user2'] == 'all']\n",
    "subset_bogota1_phase3_all_only"
   ]
  },
  {
   "cell_type": "markdown",
   "id": "1ccdefca",
   "metadata": {},
   "source": [
    "## Append Global Functions with Bogota 1 Phase 2"
   ]
  },
  {
   "cell_type": "code",
   "execution_count": null,
   "id": "237bdb19",
   "metadata": {},
   "outputs": [],
   "source": [
    "subset_bogota1_phase2_all = subset_bogota1_phase2.append(global_functions, ignore_index=True)\n",
    "print(subset_bogota1_phase2_all)"
   ]
  },
  {
   "cell_type": "code",
   "execution_count": null,
   "id": "8fab5766",
   "metadata": {},
   "outputs": [],
   "source": [
    "import itertools\n",
    "import pandas as pd\n",
    "\n",
    "overall_phase4_bogota3 = overall_phase4_bogota3[overall_phase4_bogota3.functions != '']\n",
    "\n",
    "# copied from OP above\n",
    "def jaccard_similarity(x, y):\n",
    "    \"\"\" returns the jaccard similarity between two lists \"\"\"\n",
    "    intersection_cardinality = len(set.intersection(*[set(x), set(y)]))\n",
    "    union_cardinality = len(set.union(*[set(x), set(y)]))\n",
    "    return intersection_cardinality/float(union_cardinality)\n",
    "\n",
    "# create list of tuples like [(wording, user), (wording, user)]\n",
    "wordings_users = list(zip(subset_bogota1_phase2_all[\"functions\"], subset_bogota1_phase2_all[\"Student\"]))\n",
    "\n",
    "result = []\n",
    "\n",
    "# create list of all possible combinations between sets of (wording, user) and loop through them\n",
    "for item in list(itertools.combinations(wordings_users, 2)):\n",
    "    similarity = jaccard_similarity(item[0][0], item[1][0])\n",
    "    data = {\"user1\": item[0][1], \"user2\": item[1][1], \"similarity\": similarity}\n",
    "    result.append(data)\n",
    "\n",
    "subset_bogota1_phase2_compare_all = pd.DataFrame(result)\n",
    "subset_bogota1_phase2_compare_all"
   ]
  },
  {
   "cell_type": "code",
   "execution_count": null,
   "id": "69926daa",
   "metadata": {},
   "outputs": [],
   "source": [
    "subset_bogota1_phase2_all_only = subset_bogota1_phase2_compare_all.loc[subset_bogota1_phase2_compare_all['user2'] == 'all']\n",
    "subset_bogota1_phase2_all_only"
   ]
  },
  {
   "cell_type": "markdown",
   "id": "050b9f3f",
   "metadata": {},
   "source": [
    "## Append Global Functions with Bogota 1 Phase 1"
   ]
  },
  {
   "cell_type": "code",
   "execution_count": null,
   "id": "76b4745c",
   "metadata": {},
   "outputs": [],
   "source": [
    "subset_bogota1_phase1_all = subset_bogota1_phase1.append(global_functions, ignore_index=True)\n",
    "print(subset_bogota1_phase1_all)"
   ]
  },
  {
   "cell_type": "code",
   "execution_count": null,
   "id": "1a4297a1",
   "metadata": {},
   "outputs": [],
   "source": [
    "import itertools\n",
    "import pandas as pd\n",
    "\n",
    "overall_phase4_bogota3 = overall_phase4_bogota3[overall_phase4_bogota3.functions != '']\n",
    "\n",
    "# copied from OP above\n",
    "def jaccard_similarity(x, y):\n",
    "    \"\"\" returns the jaccard similarity between two lists \"\"\"\n",
    "    intersection_cardinality = len(set.intersection(*[set(x), set(y)]))\n",
    "    union_cardinality = len(set.union(*[set(x), set(y)]))\n",
    "    return intersection_cardinality/float(union_cardinality)\n",
    "\n",
    "# create list of tuples like [(wording, user), (wording, user)]\n",
    "wordings_users = list(zip(subset_bogota1_phase1_all[\"functions\"], subset_bogota1_phase1_all[\"Student\"]))\n",
    "\n",
    "result = []\n",
    "\n",
    "# create list of all possible combinations between sets of (wording, user) and loop through them\n",
    "for item in list(itertools.combinations(wordings_users, 2)):\n",
    "    similarity = jaccard_similarity(item[0][0], item[1][0])\n",
    "    data = {\"user1\": item[0][1], \"user2\": item[1][1], \"similarity\": similarity}\n",
    "    result.append(data)\n",
    "\n",
    "subset_bogota1_phase1_compare_all = pd.DataFrame(result)\n",
    "subset_bogota1_phase1_compare_all"
   ]
  },
  {
   "cell_type": "code",
   "execution_count": null,
   "id": "2783e1e4",
   "metadata": {},
   "outputs": [],
   "source": [
    "subset_bogota1_phase1_all_only = subset_bogota1_phase1_compare_all.loc[subset_bogota1_phase1_compare_all['user2'] == 'all']\n",
    "subset_bogota1_phase1_all_only"
   ]
  },
  {
   "cell_type": "markdown",
   "id": "419cdbc1",
   "metadata": {},
   "source": [
    "## Append Global Functions with Bogota 2 Phase 5"
   ]
  },
  {
   "cell_type": "code",
   "execution_count": null,
   "id": "a191ec77",
   "metadata": {},
   "outputs": [],
   "source": [
    "subset_bogota2_phase5_all = subset_bogota2_phase5.append(global_functions, ignore_index=True)\n",
    "print(subset_bogota2_phase5_all)"
   ]
  },
  {
   "cell_type": "code",
   "execution_count": null,
   "id": "eaf85a54",
   "metadata": {},
   "outputs": [],
   "source": [
    "import itertools\n",
    "import pandas as pd\n",
    "\n",
    "overall_phase4_bogota3 = overall_phase4_bogota3[overall_phase4_bogota3.functions != '']\n",
    "\n",
    "# copied from OP above\n",
    "def jaccard_similarity(x, y):\n",
    "    \"\"\" returns the jaccard similarity between two lists \"\"\"\n",
    "    intersection_cardinality = len(set.intersection(*[set(x), set(y)]))\n",
    "    union_cardinality = len(set.union(*[set(x), set(y)]))\n",
    "    return intersection_cardinality/float(union_cardinality)\n",
    "\n",
    "# create list of tuples like [(wording, user), (wording, user)]\n",
    "wordings_users = list(zip(subset_bogota2_phase5_all[\"functions\"], subset_bogota2_phase5_all[\"Student\"]))\n",
    "\n",
    "result = []\n",
    "\n",
    "# create list of all possible combinations between sets of (wording, user) and loop through them\n",
    "for item in list(itertools.combinations(wordings_users, 2)):\n",
    "    similarity = jaccard_similarity(item[0][0], item[1][0])\n",
    "    data = {\"user1\": item[0][1], \"user2\": item[1][1], \"similarity\": similarity}\n",
    "    result.append(data)\n",
    "\n",
    "subset_bogota2_phase5_compare_all = pd.DataFrame(result)\n",
    "subset_bogota2_phase5_compare_all"
   ]
  },
  {
   "cell_type": "code",
   "execution_count": null,
   "id": "ef55ae17",
   "metadata": {},
   "outputs": [],
   "source": [
    "subset_bogota2_phase5_all_only = subset_bogota2_phase5_compare_all.loc[subset_bogota2_phase5_compare_all['user2'] == 'all']\n",
    "subset_bogota2_phase5_all_only"
   ]
  },
  {
   "cell_type": "markdown",
   "id": "efc99839",
   "metadata": {},
   "source": [
    "## Append Global Functions with Bogota 2 Phase 4"
   ]
  },
  {
   "cell_type": "code",
   "execution_count": null,
   "id": "cf8e30c7",
   "metadata": {},
   "outputs": [],
   "source": [
    "subset_bogota2_phase4_all = subset_bogota2_phase4.append(global_functions, ignore_index=True)\n",
    "print(subset_bogota2_phase4_all)"
   ]
  },
  {
   "cell_type": "code",
   "execution_count": null,
   "id": "8c0ea620",
   "metadata": {},
   "outputs": [],
   "source": [
    "import itertools\n",
    "import pandas as pd\n",
    "\n",
    "overall_phase4_bogota3 = overall_phase4_bogota3[overall_phase4_bogota3.functions != '']\n",
    "\n",
    "# copied from OP above\n",
    "def jaccard_similarity(x, y):\n",
    "    \"\"\" returns the jaccard similarity between two lists \"\"\"\n",
    "    intersection_cardinality = len(set.intersection(*[set(x), set(y)]))\n",
    "    union_cardinality = len(set.union(*[set(x), set(y)]))\n",
    "    return intersection_cardinality/float(union_cardinality)\n",
    "\n",
    "# create list of tuples like [(wording, user), (wording, user)]\n",
    "wordings_users = list(zip(subset_bogota2_phase4_all[\"functions\"], subset_bogota2_phase4_all[\"Student\"]))\n",
    "\n",
    "result = []\n",
    "\n",
    "# create list of all possible combinations between sets of (wording, user) and loop through them\n",
    "for item in list(itertools.combinations(wordings_users, 2)):\n",
    "    similarity = jaccard_similarity(item[0][0], item[1][0])\n",
    "    data = {\"user1\": item[0][1], \"user2\": item[1][1], \"similarity\": similarity}\n",
    "    result.append(data)\n",
    "\n",
    "subset_bogota2_phase4_compare_all = pd.DataFrame(result)\n",
    "subset_bogota2_phase4_compare_all"
   ]
  },
  {
   "cell_type": "code",
   "execution_count": null,
   "id": "5ac781dd",
   "metadata": {},
   "outputs": [],
   "source": [
    "subset_bogota2_phase4_all_only = subset_bogota2_phase4_compare_all.loc[subset_bogota2_phase5_compare_all['user2'] == 'all']\n",
    "subset_bogota2_phase4_all_only"
   ]
  },
  {
   "cell_type": "markdown",
   "id": "5f676e7d",
   "metadata": {},
   "source": [
    "## Append Global Functions with Bogota 2 Phase 3"
   ]
  },
  {
   "cell_type": "code",
   "execution_count": null,
   "id": "f50469da",
   "metadata": {},
   "outputs": [],
   "source": [
    "subset_bogota2_phase3_all = subset_bogota2_phase3.append(global_functions, ignore_index=True)\n",
    "print(subset_bogota2_phase3_all)"
   ]
  },
  {
   "cell_type": "code",
   "execution_count": null,
   "id": "5b4b7228",
   "metadata": {},
   "outputs": [],
   "source": [
    "import itertools\n",
    "import pandas as pd\n",
    "\n",
    "overall_phase4_bogota3 = overall_phase4_bogota3[overall_phase4_bogota3.functions != '']\n",
    "\n",
    "# copied from OP above\n",
    "def jaccard_similarity(x, y):\n",
    "    \"\"\" returns the jaccard similarity between two lists \"\"\"\n",
    "    intersection_cardinality = len(set.intersection(*[set(x), set(y)]))\n",
    "    union_cardinality = len(set.union(*[set(x), set(y)]))\n",
    "    return intersection_cardinality/float(union_cardinality)\n",
    "\n",
    "# create list of tuples like [(wording, user), (wording, user)]\n",
    "wordings_users = list(zip(subset_bogota2_phase3_all[\"functions\"], subset_bogota2_phase3_all[\"Student\"]))\n",
    "\n",
    "result = []\n",
    "\n",
    "# create list of all possible combinations between sets of (wording, user) and loop through them\n",
    "for item in list(itertools.combinations(wordings_users, 2)):\n",
    "    similarity = jaccard_similarity(item[0][0], item[1][0])\n",
    "    data = {\"user1\": item[0][1], \"user2\": item[1][1], \"similarity\": similarity}\n",
    "    result.append(data)\n",
    "\n",
    "subset_bogota2_phase3_compare_all = pd.DataFrame(result)\n",
    "subset_bogota2_phase3_compare_all"
   ]
  },
  {
   "cell_type": "code",
   "execution_count": null,
   "id": "ae4ef357",
   "metadata": {},
   "outputs": [],
   "source": [
    "subset_bogota2_phase3_all_only = subset_bogota2_phase3_compare_all.loc[subset_bogota2_phase3_compare_all['user2'] == 'all']\n",
    "subset_bogota2_phase3_all_only"
   ]
  },
  {
   "cell_type": "markdown",
   "id": "5e928c52",
   "metadata": {},
   "source": [
    "## Append Global Functions with Bogota 2 Phase 2"
   ]
  },
  {
   "cell_type": "code",
   "execution_count": null,
   "id": "6b55f83a",
   "metadata": {},
   "outputs": [],
   "source": [
    "subset_bogota2_phase2_all = subset_bogota2_phase2.append(global_functions, ignore_index=True)\n",
    "print(subset_bogota2_phase2_all)"
   ]
  },
  {
   "cell_type": "code",
   "execution_count": null,
   "id": "030b36b2",
   "metadata": {},
   "outputs": [],
   "source": [
    "import itertools\n",
    "import pandas as pd\n",
    "\n",
    "overall_phase4_bogota3 = overall_phase4_bogota3[overall_phase4_bogota3.functions != '']\n",
    "\n",
    "# copied from OP above\n",
    "def jaccard_similarity(x, y):\n",
    "    \"\"\" returns the jaccard similarity between two lists \"\"\"\n",
    "    intersection_cardinality = len(set.intersection(*[set(x), set(y)]))\n",
    "    union_cardinality = len(set.union(*[set(x), set(y)]))\n",
    "    return intersection_cardinality/float(union_cardinality)\n",
    "\n",
    "# create list of tuples like [(wording, user), (wording, user)]\n",
    "wordings_users = list(zip(subset_bogota2_phase2_all[\"functions\"], subset_bogota2_phase2_all[\"Student\"]))\n",
    "\n",
    "result = []\n",
    "\n",
    "# create list of all possible combinations between sets of (wording, user) and loop through them\n",
    "for item in list(itertools.combinations(wordings_users, 2)):\n",
    "    similarity = jaccard_similarity(item[0][0], item[1][0])\n",
    "    data = {\"user1\": item[0][1], \"user2\": item[1][1], \"similarity\": similarity}\n",
    "    result.append(data)\n",
    "\n",
    "subset_bogota2_phase2_compare_all = pd.DataFrame(result)\n",
    "subset_bogota2_phase2_compare_all"
   ]
  },
  {
   "cell_type": "code",
   "execution_count": null,
   "id": "5b5d6c7a",
   "metadata": {},
   "outputs": [],
   "source": [
    "subset_bogota2_phase2_all_only = subset_bogota2_phase2_compare_all.loc[subset_bogota2_phase2_compare_all['user2'] == 'all']\n",
    "subset_bogota2_phase2_all_only"
   ]
  },
  {
   "cell_type": "markdown",
   "id": "649f34c8",
   "metadata": {},
   "source": [
    "## Append Global Functions with Bogota 2 Phase 1"
   ]
  },
  {
   "cell_type": "code",
   "execution_count": null,
   "id": "86ca6e24",
   "metadata": {},
   "outputs": [],
   "source": [
    "subset_bogota2_phase1_all = subset_bogota2_phase1.append(global_functions, ignore_index=True)\n",
    "print(subset_bogota2_phase1_all)"
   ]
  },
  {
   "cell_type": "code",
   "execution_count": null,
   "id": "e0f83940",
   "metadata": {},
   "outputs": [],
   "source": [
    "import itertools\n",
    "import pandas as pd\n",
    "\n",
    "overall_phase4_bogota3 = overall_phase4_bogota3[overall_phase4_bogota3.functions != '']\n",
    "\n",
    "# copied from OP above\n",
    "def jaccard_similarity(x, y):\n",
    "    \"\"\" returns the jaccard similarity between two lists \"\"\"\n",
    "    intersection_cardinality = len(set.intersection(*[set(x), set(y)]))\n",
    "    union_cardinality = len(set.union(*[set(x), set(y)]))\n",
    "    return intersection_cardinality/float(union_cardinality)\n",
    "\n",
    "# create list of tuples like [(wording, user), (wording, user)]\n",
    "wordings_users = list(zip(subset_bogota2_phase1_all[\"functions\"], subset_bogota2_phase1_all[\"Student\"]))\n",
    "\n",
    "result = []\n",
    "\n",
    "# create list of all possible combinations between sets of (wording, user) and loop through them\n",
    "for item in list(itertools.combinations(wordings_users, 2)):\n",
    "    similarity = jaccard_similarity(item[0][0], item[1][0])\n",
    "    data = {\"user1\": item[0][1], \"user2\": item[1][1], \"similarity\": similarity}\n",
    "    result.append(data)\n",
    "\n",
    "subset_bogota2_phase1_compare_all = pd.DataFrame(result)\n",
    "subset_bogota2_phase1_compare_all"
   ]
  },
  {
   "cell_type": "code",
   "execution_count": null,
   "id": "220b9f13",
   "metadata": {},
   "outputs": [],
   "source": [
    "subset_bogota2_phase1_all_only = subset_bogota2_phase1_compare_all.loc[subset_bogota2_phase1_compare_all['user2'] == 'all']\n",
    "subset_bogota2_phase1_all_only"
   ]
  },
  {
   "cell_type": "markdown",
   "id": "b0215197",
   "metadata": {},
   "source": [
    "## Append Global Functions with Bogota 3 Phase 5"
   ]
  },
  {
   "cell_type": "code",
   "execution_count": null,
   "id": "62dec0a4",
   "metadata": {},
   "outputs": [],
   "source": [
    "overall_phase5_bogota3_all = overall_phase5_bogota3.append(global_functions, ignore_index=True)\n"
   ]
  },
  {
   "cell_type": "code",
   "execution_count": null,
   "id": "0fb642cc",
   "metadata": {},
   "outputs": [],
   "source": [
    "import itertools\n",
    "import pandas as pd\n",
    "\n",
    "overall_phase4_bogota3 = overall_phase4_bogota3[overall_phase4_bogota3.functions != '']\n",
    "\n",
    "# copied from OP above\n",
    "def jaccard_similarity(x, y):\n",
    "    \"\"\" returns the jaccard similarity between two lists \"\"\"\n",
    "    intersection_cardinality = len(set.intersection(*[set(x), set(y)]))\n",
    "    union_cardinality = len(set.union(*[set(x), set(y)]))\n",
    "    return intersection_cardinality/float(union_cardinality)\n",
    "\n",
    "# create list of tuples like [(wording, user), (wording, user)]\n",
    "wordings_users = list(zip(overall_phase5_bogota3_all[\"functions\"], overall_phase5_bogota3_all[\"Student\"]))\n",
    "\n",
    "result = []\n",
    "\n",
    "# create list of all possible combinations between sets of (wording, user) and loop through them\n",
    "for item in list(itertools.combinations(wordings_users, 2)):\n",
    "    similarity = jaccard_similarity(item[0][0], item[1][0])\n",
    "    data = {\"user1\": item[0][1], \"user2\": item[1][1], \"similarity\": similarity}\n",
    "    result.append(data)\n",
    "\n",
    "overall_phase5_bogota3_compare_all = pd.DataFrame(result)\n",
    "overall_phase5_bogota3_compare_all"
   ]
  },
  {
   "cell_type": "code",
   "execution_count": null,
   "id": "e8d07b4f",
   "metadata": {},
   "outputs": [],
   "source": [
    "overall_phase5_bogota3_all_only = overall_phase5_bogota3_compare_all.loc[overall_phase5_bogota3_compare_all['user2'] == 'all']\n",
    "overall_phase5_bogota3_all_only"
   ]
  },
  {
   "cell_type": "markdown",
   "id": "e9d1eacc",
   "metadata": {},
   "source": [
    "## Append Global Functions with Bogota 3 Phase 4"
   ]
  },
  {
   "cell_type": "code",
   "execution_count": null,
   "id": "14e1023e",
   "metadata": {},
   "outputs": [],
   "source": [
    "overall_phase4_bogota3_all = overall_phase4_bogota3.append(global_functions, ignore_index=True)"
   ]
  },
  {
   "cell_type": "code",
   "execution_count": null,
   "id": "53b4e534",
   "metadata": {},
   "outputs": [],
   "source": [
    "import itertools\n",
    "import pandas as pd\n",
    "\n",
    "overall_phase4_bogota3 = overall_phase4_bogota3[overall_phase4_bogota3.functions != '']\n",
    "\n",
    "# copied from OP above\n",
    "def jaccard_similarity(x, y):\n",
    "    \"\"\" returns the jaccard similarity between two lists \"\"\"\n",
    "    intersection_cardinality = len(set.intersection(*[set(x), set(y)]))\n",
    "    union_cardinality = len(set.union(*[set(x), set(y)]))\n",
    "    return intersection_cardinality/float(union_cardinality)\n",
    "\n",
    "# create list of tuples like [(wording, user), (wording, user)]\n",
    "wordings_users = list(zip(overall_phase4_bogota3_all[\"functions\"], overall_phase4_bogota3_all[\"Student\"]))\n",
    "\n",
    "result = []\n",
    "\n",
    "# create list of all possible combinations between sets of (wording, user) and loop through them\n",
    "for item in list(itertools.combinations(wordings_users, 2)):\n",
    "    similarity = jaccard_similarity(item[0][0], item[1][0])\n",
    "    data = {\"user1\": item[0][1], \"user2\": item[1][1], \"similarity\": similarity}\n",
    "    result.append(data)\n",
    "\n",
    "overall_phase4_bogota3_compare_all = pd.DataFrame(result)\n",
    "overall_phase4_bogota3_compare_all"
   ]
  },
  {
   "cell_type": "code",
   "execution_count": null,
   "id": "9d9c0ef0",
   "metadata": {},
   "outputs": [],
   "source": [
    "overall_phase4_bogota3_all_only = overall_phase4_bogota3_compare_all.loc[overall_phase4_bogota3_compare_all['user2'] == 'all']\n",
    "overall_phase4_bogota3_all_only"
   ]
  },
  {
   "cell_type": "markdown",
   "id": "7809fee9",
   "metadata": {},
   "source": [
    "## Append Global Functions with Bogota 3 Phase 3"
   ]
  },
  {
   "cell_type": "code",
   "execution_count": null,
   "id": "92fe1b93",
   "metadata": {},
   "outputs": [],
   "source": [
    "subset_bogota3_phase3_all = subset_bogota3_phase3.append(global_functions, ignore_index=True)\n",
    "print(subset_bogota3_phase3_all)"
   ]
  },
  {
   "cell_type": "code",
   "execution_count": null,
   "id": "1cc131ca",
   "metadata": {},
   "outputs": [],
   "source": [
    "import itertools\n",
    "import pandas as pd\n",
    "\n",
    "overall_phase4_bogota3 = overall_phase4_bogota3[overall_phase4_bogota3.functions != '']\n",
    "\n",
    "# copied from OP above\n",
    "def jaccard_similarity(x, y):\n",
    "    \"\"\" returns the jaccard similarity between two lists \"\"\"\n",
    "    intersection_cardinality = len(set.intersection(*[set(x), set(y)]))\n",
    "    union_cardinality = len(set.union(*[set(x), set(y)]))\n",
    "    return intersection_cardinality/float(union_cardinality)\n",
    "\n",
    "# create list of tuples like [(wording, user), (wording, user)]\n",
    "wordings_users = list(zip(subset_bogota3_phase3_all[\"functions\"], subset_bogota3_phase3_all[\"Student\"]))\n",
    "\n",
    "result = []\n",
    "\n",
    "# create list of all possible combinations between sets of (wording, user) and loop through them\n",
    "for item in list(itertools.combinations(wordings_users, 2)):\n",
    "    similarity = jaccard_similarity(item[0][0], item[1][0])\n",
    "    data = {\"user1\": item[0][1], \"user2\": item[1][1], \"similarity\": similarity}\n",
    "    result.append(data)\n",
    "\n",
    "subset_bogota3_phase3_compare_all = pd.DataFrame(result)\n",
    "subset_bogota3_phase3_compare_all"
   ]
  },
  {
   "cell_type": "code",
   "execution_count": null,
   "id": "b79e9854",
   "metadata": {},
   "outputs": [],
   "source": [
    "subset_bogota3_phase3_all_only = subset_bogota3_phase3_compare_all.loc[subset_bogota3_phase3_compare_all['user2'] == 'all']\n",
    "subset_bogota3_phase3_all_only"
   ]
  },
  {
   "cell_type": "markdown",
   "id": "1715cce1",
   "metadata": {},
   "source": [
    "## Append Global Functions with Bogota 3 Phase 2"
   ]
  },
  {
   "cell_type": "code",
   "execution_count": null,
   "id": "e1619fef",
   "metadata": {},
   "outputs": [],
   "source": [
    "overall_phase2_bogota3_all = overall_phase2_bogota3.append(global_functions, ignore_index=True)"
   ]
  },
  {
   "cell_type": "code",
   "execution_count": null,
   "id": "b5837edf",
   "metadata": {},
   "outputs": [],
   "source": [
    "import itertools\n",
    "import pandas as pd\n",
    "\n",
    "overall_phase4_bogota3 = overall_phase4_bogota3[overall_phase4_bogota3.functions != '']\n",
    "\n",
    "# copied from OP above\n",
    "def jaccard_similarity(x, y):\n",
    "    \"\"\" returns the jaccard similarity between two lists \"\"\"\n",
    "    intersection_cardinality = len(set.intersection(*[set(x), set(y)]))\n",
    "    union_cardinality = len(set.union(*[set(x), set(y)]))\n",
    "    return intersection_cardinality/float(union_cardinality)\n",
    "\n",
    "# create list of tuples like [(wording, user), (wording, user)]\n",
    "wordings_users = list(zip(overall_phase2_bogota3_all[\"functions\"], overall_phase2_bogota3_all[\"Student\"]))\n",
    "\n",
    "result = []\n",
    "\n",
    "# create list of all possible combinations between sets of (wording, user) and loop through them\n",
    "for item in list(itertools.combinations(wordings_users, 2)):\n",
    "    similarity = jaccard_similarity(item[0][0], item[1][0])\n",
    "    data = {\"user1\": item[0][1], \"user2\": item[1][1], \"similarity\": similarity}\n",
    "    result.append(data)\n",
    "\n",
    "overall_phase2_bogota3_compare_all = pd.DataFrame(result)\n",
    "overall_phase2_bogota3_compare_all"
   ]
  },
  {
   "cell_type": "code",
   "execution_count": null,
   "id": "92788def",
   "metadata": {},
   "outputs": [],
   "source": [
    "overall_phase2_bogota3_all_only = overall_phase2_bogota3_compare_all.loc[overall_phase2_bogota3_compare_all['user2'] == 'all']\n",
    "overall_phase2_bogota3_all_only"
   ]
  },
  {
   "cell_type": "markdown",
   "id": "2602770f",
   "metadata": {},
   "source": [
    "## Append Global Functions with Bogota 3 Phase 1"
   ]
  },
  {
   "cell_type": "code",
   "execution_count": null,
   "id": "40fa8733",
   "metadata": {},
   "outputs": [],
   "source": [
    "subset_bogota3_phase1_all = subset_bogota3_phase1.append(global_functions, ignore_index=True)\n",
    "print(subset_bogota3_phase1_all)"
   ]
  },
  {
   "cell_type": "code",
   "execution_count": null,
   "id": "301dfc0e",
   "metadata": {},
   "outputs": [],
   "source": [
    "import itertools\n",
    "import pandas as pd\n",
    "\n",
    "overall_phase4_bogota3 = overall_phase4_bogota3[overall_phase4_bogota3.functions != '']\n",
    "\n",
    "# copied from OP above\n",
    "def jaccard_similarity(x, y):\n",
    "    \"\"\" returns the jaccard similarity between two lists \"\"\"\n",
    "    intersection_cardinality = len(set.intersection(*[set(x), set(y)]))\n",
    "    union_cardinality = len(set.union(*[set(x), set(y)]))\n",
    "    return intersection_cardinality/float(union_cardinality)\n",
    "\n",
    "# create list of tuples like [(wording, user), (wording, user)]\n",
    "wordings_users = list(zip(subset_bogota3_phase1_all[\"functions\"], subset_bogota3_phase1_all[\"Student\"]))\n",
    "\n",
    "result = []\n",
    "\n",
    "# create list of all possible combinations between sets of (wording, user) and loop through them\n",
    "for item in list(itertools.combinations(wordings_users, 2)):\n",
    "    similarity = jaccard_similarity(item[0][0], item[1][0])\n",
    "    data = {\"user1\": item[0][1], \"user2\": item[1][1], \"similarity\": similarity}\n",
    "    result.append(data)\n",
    "\n",
    "subset_bogota3_phase1_compare_all = pd.DataFrame(result)\n",
    "subset_bogota3_phase1_compare_all"
   ]
  },
  {
   "cell_type": "code",
   "execution_count": null,
   "id": "09a81c71",
   "metadata": {},
   "outputs": [],
   "source": [
    "subset_bogota3_phase1_all_only = subset_bogota3_phase1_compare_all.loc[subset_bogota3_phase1_compare_all['user2'] == 'all']\n",
    "subset_bogota3_phase1_all_only"
   ]
  },
  {
   "cell_type": "markdown",
   "id": "16229b34",
   "metadata": {},
   "source": [
    "## Descriptive Statistics of Comparisons with Global Functions"
   ]
  },
  {
   "cell_type": "markdown",
   "id": "168c3e69",
   "metadata": {},
   "source": [
    "## Bogota 3"
   ]
  },
  {
   "cell_type": "code",
   "execution_count": null,
   "id": "76aa3088",
   "metadata": {},
   "outputs": [],
   "source": [
    "global_bogota3_phase1_mean = subset_bogota3_phase1_all_only['similarity'].describe().loc['mean']\n",
    "global_bogota3_phase1_median = subset_bogota3_phase1_all_only['similarity'].median()\n",
    "global_bogota3_phase1_min = subset_bogota3_phase1_all_only['similarity'].describe().loc['min']"
   ]
  },
  {
   "cell_type": "code",
   "execution_count": null,
   "id": "945b3e33",
   "metadata": {},
   "outputs": [],
   "source": [
    "global_bogota3_phase2_mean = overall_phase2_bogota3_all_only['similarity'].describe().loc['mean']\n",
    "global_bogota3_phase2_median = overall_phase2_bogota3_all_only['similarity'].median()\n",
    "global_bogota3_phase2_min = overall_phase2_bogota3_all_only['similarity'].describe().loc['min']"
   ]
  },
  {
   "cell_type": "code",
   "execution_count": null,
   "id": "dcf93368",
   "metadata": {},
   "outputs": [],
   "source": [
    "global_bogota3_phase3_mean = subset_bogota3_phase3_all_only['similarity'].describe().loc['mean']\n",
    "global_bogota3_phase3_median = subset_bogota3_phase3_all_only['similarity'].median()\n",
    "global_bogota3_phase3_min = subset_bogota3_phase3_all_only['similarity'].describe().loc['min']"
   ]
  },
  {
   "cell_type": "code",
   "execution_count": null,
   "id": "5462d351",
   "metadata": {},
   "outputs": [],
   "source": [
    "global_bogota3_phase4_mean  = overall_phase4_bogota3_all_only['similarity'].describe().loc['mean']\n",
    "global_bogota3_phase4_median  = overall_phase4_bogota3_all_only['similarity'].median()\n",
    "global_bogota3_phase4_min = overall_phase4_bogota3_all_only['similarity'].describe().loc['min']"
   ]
  },
  {
   "cell_type": "code",
   "execution_count": null,
   "id": "234d6e54",
   "metadata": {},
   "outputs": [],
   "source": [
    "global_bogota3_phase5_mean = overall_phase5_bogota3_all_only['similarity'].describe().loc['mean']\n",
    "global_bogota3_phase5_median = overall_phase5_bogota3_all_only['similarity'].median()\n",
    "global_bogota3_phase5_min = overall_phase5_bogota3_all_only['similarity'].describe().loc['min']"
   ]
  },
  {
   "cell_type": "markdown",
   "id": "a509fed0",
   "metadata": {},
   "source": [
    "## Bogota 2"
   ]
  },
  {
   "cell_type": "code",
   "execution_count": null,
   "id": "1efc4d07",
   "metadata": {},
   "outputs": [],
   "source": [
    "global_bogota2_phase1_mean  = subset_bogota2_phase1_all_only['similarity'].describe().loc['mean']\n",
    "global_bogota2_phase1_median = subset_bogota2_phase1_all_only['similarity'].median()\n",
    "global_bogota2_phase1_min = subset_bogota2_phase1_all_only['similarity'].describe().loc['min']"
   ]
  },
  {
   "cell_type": "code",
   "execution_count": null,
   "id": "fd34cdf2",
   "metadata": {},
   "outputs": [],
   "source": [
    "global_bogota2_phase2_mean  = subset_bogota2_phase2_all_only['similarity'].describe().loc['mean']\n",
    "global_bogota2_phase2_median = subset_bogota2_phase2_all_only['similarity'].median()\n",
    "global_bogota2_phase2_min = subset_bogota2_phase2_all_only['similarity'].describe().loc['min']"
   ]
  },
  {
   "cell_type": "code",
   "execution_count": null,
   "id": "b538e11e",
   "metadata": {},
   "outputs": [],
   "source": [
    "global_bogota2_phase3_mean  = subset_bogota2_phase3_all_only['similarity'].describe().loc['mean']\n",
    "global_bogota2_phase3_median = subset_bogota2_phase3_all_only['similarity'].median()\n",
    "global_bogota2_phase3_min = subset_bogota2_phase3_all_only['similarity'].describe().loc['min']"
   ]
  },
  {
   "cell_type": "code",
   "execution_count": null,
   "id": "ee5137cb",
   "metadata": {},
   "outputs": [],
   "source": [
    "global_bogota2_phase4_mean  = subset_bogota2_phase4_all_only['similarity'].describe().loc['mean']\n",
    "global_bogota2_phase4_median = subset_bogota2_phase4_all_only['similarity'].median()\n",
    "global_bogota2_phase4_min = subset_bogota2_phase4_all_only['similarity'].describe().loc['min']"
   ]
  },
  {
   "cell_type": "code",
   "execution_count": null,
   "id": "d992bc4c",
   "metadata": {},
   "outputs": [],
   "source": [
    "global_bogota2_phase5_mean  = subset_bogota2_phase5_all_only['similarity'].describe().loc['mean']\n",
    "global_bogota2_phase5_median = subset_bogota2_phase5_all_only['similarity'].median()\n",
    "global_bogota2_phase5_min = subset_bogota2_phase5_all_only['similarity'].describe().loc['min']"
   ]
  },
  {
   "cell_type": "markdown",
   "id": "5298bc5d",
   "metadata": {},
   "source": [
    "## Bogota 1"
   ]
  },
  {
   "cell_type": "code",
   "execution_count": null,
   "id": "6ceec6be",
   "metadata": {},
   "outputs": [],
   "source": [
    "global_bogota1_phase1_mean = subset_bogota1_phase1_all_only['similarity'].describe().loc['mean']\n",
    "global_bogota1_phase1_median = subset_bogota1_phase1_all_only['similarity'].median()\n",
    "global_bogota1_phase1_min = subset_bogota1_phase1_all_only['similarity'].describe().loc['min']"
   ]
  },
  {
   "cell_type": "code",
   "execution_count": null,
   "id": "3f252158",
   "metadata": {},
   "outputs": [],
   "source": [
    "global_bogota1_phase2_mean = subset_bogota1_phase2_all_only['similarity'].describe().loc['mean']\n",
    "global_bogota1_phase2_median = subset_bogota1_phase2_all_only['similarity'].median()\n",
    "global_bogota1_phase2_min = subset_bogota1_phase2_all_only['similarity'].describe().loc['min']"
   ]
  },
  {
   "cell_type": "code",
   "execution_count": null,
   "id": "81a2fab2",
   "metadata": {},
   "outputs": [],
   "source": [
    "global_bogota1_phase3_mean = subset_bogota1_phase3_all_only['similarity'].describe().loc['mean']\n",
    "global_bogota1_phase3_median = subset_bogota1_phase3_all_only['similarity'].median()\n",
    "global_bogota1_phase3_min = subset_bogota1_phase3_all_only['similarity'].describe().loc['min']"
   ]
  },
  {
   "cell_type": "code",
   "execution_count": null,
   "id": "01098692",
   "metadata": {},
   "outputs": [],
   "source": [
    "global_bogota1_phase4_mean = subset_bogota1_phase4_all_only['similarity'].describe().loc['mean']\n",
    "global_bogota1_phase4_median = subset_bogota1_phase4_all_only['similarity'].median()\n",
    "global_bogota1_phase4_min = subset_bogota1_phase4_all_only['similarity'].describe().loc['min']"
   ]
  },
  {
   "cell_type": "code",
   "execution_count": null,
   "id": "bd839bdd",
   "metadata": {},
   "outputs": [],
   "source": [
    "global_bogota1_phase5_mean = subset_bogota1_phase5_all_only['similarity'].describe().loc['mean']\n",
    "global_bogota1_phase5_median = subset_bogota1_phase5_all_only['similarity'].median()\n",
    "global_bogota1_phase5_min = subset_bogota1_phase5_all_only['similarity'].describe().loc['min']"
   ]
  },
  {
   "cell_type": "markdown",
   "id": "9ee0bb9b",
   "metadata": {},
   "source": [
    "## Bogota 0"
   ]
  },
  {
   "cell_type": "code",
   "execution_count": null,
   "id": "b2987a43",
   "metadata": {},
   "outputs": [],
   "source": [
    "global_bogota0_phase1_mean = subset_bogota0_phase1_all_only['similarity'].describe().loc['mean']\n",
    "global_bogota0_phase1_median = subset_bogota0_phase1_all_only['similarity'].median()\n",
    "global_bogota0_phase1_min = subset_bogota0_phase1_all_only['similarity'].describe().loc['min']"
   ]
  },
  {
   "cell_type": "code",
   "execution_count": null,
   "id": "2d07f48b",
   "metadata": {},
   "outputs": [],
   "source": [
    "global_bogota0_phase2_mean  = subset_bogota0_phase2_all_only['similarity'].describe().loc['mean']\n",
    "global_bogota0_phase2_median = subset_bogota0_phase2_all_only['similarity'].median()\n",
    "global_bogota0_phase2_min = subset_bogota0_phase2_all_only['similarity'].describe().loc['min']"
   ]
  },
  {
   "cell_type": "code",
   "execution_count": null,
   "id": "c9d0468c",
   "metadata": {},
   "outputs": [],
   "source": [
    "global_bogota0_phase3_mean  = subset_bogota0_phase3_all_only['similarity'].describe().loc['mean']\n",
    "global_bogota0_phase3_median = subset_bogota0_phase3_all_only['similarity'].median()\n",
    "global_bogota0_phase3_min = subset_bogota0_phase3_all_only['similarity'].describe().loc['min']"
   ]
  },
  {
   "cell_type": "code",
   "execution_count": null,
   "id": "971ef111",
   "metadata": {},
   "outputs": [],
   "source": [
    "global_bogota0_phase4_mean = subset_bogota0_phase4_all_only['similarity'].describe().loc['mean']\n",
    "global_bogota0_phase4_median = subset_bogota0_phase4_all_only['similarity'].median()\n",
    "global_bogota0_phase4_min = subset_bogota0_phase4_all_only['similarity'].describe().loc['min']"
   ]
  },
  {
   "cell_type": "code",
   "execution_count": null,
   "id": "c311262a",
   "metadata": {},
   "outputs": [],
   "source": [
    "global_bogota0_phase5_mean  = subset_bogota0_phase5_all_only['similarity'].describe().loc['mean']\n",
    "global_bogota0_phase5_median = subset_bogota0_phase5_all_only['similarity'].median()\n",
    "global_bogota0_phase5_min = subset_bogota0_phase5_all_only['similarity'].describe().loc['min']"
   ]
  },
  {
   "cell_type": "code",
   "execution_count": null,
   "id": "69fa8392",
   "metadata": {},
   "outputs": [],
   "source": [
    "import matplotlib.pyplot as plt\n",
    "\n",
    "# Mean Scores of All Groups [ Tech Scores ]\n",
    "\n",
    "y1 = [global_bogota0_phase1_mean, global_bogota0_phase2_mean, global_bogota0_phase3_mean, global_bogota0_phase4_mean, global_bogota0_phase5_mean]\n",
    "y2 = [global_bogota1_phase1_mean, global_bogota1_phase2_mean, global_bogota1_phase3_mean, global_bogota1_phase4_mean, global_bogota1_phase5_mean]\n",
    "y3 = [global_bogota2_phase1_mean, global_bogota2_phase2_mean, global_bogota2_phase3_mean, global_bogota2_phase4_mean, global_bogota2_phase5_mean]\n",
    "y4 = [global_bogota3_phase1_mean, global_bogota3_phase2_mean, global_bogota3_phase3_mean, global_bogota3_phase4_mean, global_bogota3_phase5_mean]\n",
    "\n",
    "\n",
    "x_axis=['Phase 1', 'Phase 2', 'Phase 3', 'Phase 4', 'Phase 5']\n",
    "\n",
    "line1 = plt.plot(x_axis, y1,'bo-',label='Bogota 0 ( No Transparency )') \n",
    "line2 = plt.plot(x_axis, y2,'go-',label='Bogota 1 ( Performance Transparency )') \n",
    "line3 = plt.plot(x_axis, y3,'ko-',label='Bogota 2 ( Solution Transparency )')\n",
    "line4 = plt.plot(x_axis, y4,'ro-',label='Bogota 3 ( Full Transparency )') \n",
    "\n",
    "plt.title(\"Mean Similarity in Global Functions Context\")\n",
    "plt.ylabel(\"Mean Similarity\")\n",
    "\n",
    "plt.legend(bbox_to_anchor=(1.5, 1),\n",
    "           bbox_transform=plt.gcf().transFigure)"
   ]
  },
  {
   "cell_type": "code",
   "execution_count": null,
   "id": "f92955ff",
   "metadata": {},
   "outputs": [],
   "source": [
    "import matplotlib.pyplot as plt\n",
    "\n",
    "# Mean Scores of All Groups [ Tech Scores ]\n",
    "\n",
    "y1 = [global_bogota0_phase1_median, global_bogota0_phase2_median, global_bogota0_phase3_median, global_bogota0_phase4_median, global_bogota0_phase5_median]\n",
    "y2 = [global_bogota1_phase1_median, global_bogota1_phase2_median, global_bogota1_phase3_median, global_bogota1_phase4_median, global_bogota1_phase5_median]\n",
    "y3 = [global_bogota2_phase1_median, global_bogota2_phase2_median, global_bogota2_phase3_median, global_bogota2_phase4_median, global_bogota2_phase5_median]\n",
    "y4 = [global_bogota3_phase1_median, global_bogota3_phase2_median, global_bogota3_phase3_median, global_bogota3_phase4_median, global_bogota3_phase5_median]\n",
    "\n",
    "\n",
    "\n",
    "x_axis=['Phase 1', 'Phase 2', 'Phase 3', 'Phase 4', 'Phase 5']\n",
    "\n",
    "line1 = plt.plot(x_axis, y1,'bo-',label='Bogota 0 ( No Transparency )') \n",
    "line2 = plt.plot(x_axis, y2,'go-',label='Bogota 1 ( Performance Transparency )') \n",
    "line3 = plt.plot(x_axis, y3,'ko-',label='Bogota 2 ( Solution Transparency )')\n",
    "line4 = plt.plot(x_axis, y4,'ro-',label='Bogota 3 ( Full Transparency )') \n",
    "\n",
    "plt.title(\"Median Similarity in Global Functions Context\")\n",
    "plt.ylabel(\"Median Similarity\")\n",
    "\n",
    "plt.legend(bbox_to_anchor=(1.5, 1),\n",
    "           bbox_transform=plt.gcf().transFigure)"
   ]
  },
  {
   "cell_type": "code",
   "execution_count": null,
   "id": "71574003",
   "metadata": {},
   "outputs": [],
   "source": [
    "import matplotlib.pyplot as plt\n",
    "\n",
    "# Mean Scores of All Groups [ Tech Scores ]\n",
    "\n",
    "y1 = [global_bogota0_phase1_min, global_bogota0_phase2_min, global_bogota0_phase3_min, global_bogota0_phase4_min, global_bogota0_phase5_min ]\n",
    "y2 = [global_bogota1_phase1_min, global_bogota1_phase2_min, global_bogota1_phase3_min, global_bogota1_phase4_min, global_bogota1_phase5_min]\n",
    "y3 = [global_bogota2_phase1_min, global_bogota2_phase2_min, global_bogota2_phase3_min, global_bogota2_phase4_min, global_bogota2_phase5_min ]\n",
    "y4 = [global_bogota3_phase1_min, global_bogota3_phase2_min, global_bogota3_phase3_min, global_bogota3_phase4_min, global_bogota3_phase5_min]\n",
    "\n",
    "\n",
    "\n",
    "x_axis=['Phase 1', 'Phase 2', 'Phase 3', 'Phase 4', 'Phase 5']\n",
    "\n",
    "line3 = plt.plot(x_axis, y1,'bo-',label='Bogota 0 ( No Transparency )') \n",
    "line4 = plt.plot(x_axis, y2,'go-',label='Bogota 1 ( Performance Transparency )') \n",
    "line1 = plt.plot(x_axis, y3,'ko-',label='Bogota 2 ( Solution Transparency )')\n",
    "line2 = plt.plot(x_axis, y4,'ro-',label='Bogota 3 ( Full Transparency )') \n",
    "\n",
    "plt.title(\"Minimum Similarity in Global Functions Context\")\n",
    "plt.ylabel(\"Minimum Similarity Scores\")\n",
    "\n",
    "plt.legend(bbox_to_anchor=(1.5, 1),\n",
    "           bbox_transform=plt.gcf().transFigure)"
   ]
  },
  {
   "cell_type": "code",
   "execution_count": null,
   "id": "dc1d3f4c",
   "metadata": {},
   "outputs": [],
   "source": [
    "df0_1 = subset_bogota0_phase1_all_only.rename(columns={'similarity':'b0-p1-similarity'}, inplace=False)\n",
    "df0_2 = subset_bogota0_phase2_all_only.rename(columns={'similarity':'b0-p2-similarity'}, inplace=False)\n",
    "df0_3 = subset_bogota0_phase3_all_only.rename(columns={'similarity':'b0-p3-similarity'}, inplace=False)\n",
    "df0_4 = subset_bogota0_phase4_all_only.rename(columns={'similarity':'b0-p4-similarity'}, inplace=False)\n",
    "df0_5 = subset_bogota0_phase5_all_only.rename(columns={'similarity':'b0-p5-similarity'}, inplace=False)\n",
    "\n",
    "from functools import reduce\n",
    "\n",
    "df0_merged_original = reduce(lambda x,y: pd.merge(x,y, on='user1', how='outer'), [df0_1, df0_2, df0_3, df0_4, df0_5])"
   ]
  },
  {
   "cell_type": "code",
   "execution_count": null,
   "id": "942177ea",
   "metadata": {},
   "outputs": [],
   "source": [
    "subset = df0_merged_original[[\"b0-p1-similarity\", \"b0-p2-similarity\", \"b0-p3-similarity\", \"b0-p4-similarity\", \"b0-p5-similarity\"]]\n",
    "import matplotlib.pyplot as plt\n",
    "import seaborn as sns\n",
    "\n",
    "median_list_b0_o=[]\n",
    "mean_list_b0_o=[]\n",
    "min_list_b0_o=[]\n",
    "max_list_b0_o=[]\n",
    "\n",
    "for i, column in enumerate(subset.columns, 1):\n",
    "    plt.subplot(2,3,i)\n",
    "    sns.set(rc={'figure.figsize':(11.7,8.27)})\n",
    "    sns.distplot(subset[column])\n",
    "    median_list_b0_o.append(subset[column].describe().loc['50%'])\n",
    "    mean_list_b0_o.append(subset[column].describe().loc['mean'])\n",
    "    min_list_b0_o.append(subset[column].describe().loc['min'])\n",
    "    max_list_b0_o.append(subset[column].describe().loc['max'])"
   ]
  },
  {
   "cell_type": "code",
   "execution_count": null,
   "id": "868fed93",
   "metadata": {},
   "outputs": [],
   "source": [
    "df0_merged = df0_merged_original[[\"b0-p1-similarity\", \"b0-p2-similarity\", \"b0-p3-similarity\", \"b0-p4-similarity\", \"b0-p5-similarity\"]].apply(np.log1p)\n",
    "df0_merged"
   ]
  },
  {
   "cell_type": "code",
   "execution_count": null,
   "id": "aebb6d7a",
   "metadata": {},
   "outputs": [],
   "source": [
    "subset = df0_merged[[\"b0-p1-similarity\", \"b0-p2-similarity\", \"b0-p3-similarity\", \"b0-p4-similarity\", \"b0-p5-similarity\"]]\n",
    "import matplotlib.pyplot as plt\n",
    "import seaborn as sns\n",
    "\n",
    "median_list_b0=[]\n",
    "mean_list_b0=[]\n",
    "min_list_b0=[]\n",
    "max_list_b0=[]\n",
    "\n",
    "for i, column in enumerate(subset.columns, 1):\n",
    "    plt.subplot(2,3,i)\n",
    "    sns.set(rc={'figure.figsize':(11.7,8.27)})\n",
    "    sns.distplot(subset[column])\n",
    "    median_list_b0.append(subset[column].describe().loc['50%'])\n",
    "    mean_list_b0.append(subset[column].describe().loc['mean'])\n",
    "    min_list_b0.append(subset[column].describe().loc['min'])\n",
    "    max_list_b0.append(subset[column].describe().loc['max'])"
   ]
  },
  {
   "cell_type": "code",
   "execution_count": null,
   "id": "c3df8efb",
   "metadata": {},
   "outputs": [],
   "source": [
    "from functools import reduce\n",
    "b1_p1 = subset_bogota1_phase1_all_only.rename(columns = {'similarity':'b1-p1-similarity'}, inplace = False)\n",
    "b1_p2 = subset_bogota1_phase2_all_only.rename(columns = {'similarity':'b1-p2-similarity'}, inplace = False)\n",
    "b1_p3 = subset_bogota1_phase3_all_only.rename(columns = {'similarity':'b1-p3-similarity'}, inplace = False)\n",
    "b1_p4 = subset_bogota1_phase4_all_only.rename(columns = {'similarity':'b1-p4-similarity'}, inplace = False)\n",
    "b1_p5 = subset_bogota1_phase5_all_only.rename(columns = {'similarity':'b1-p5-similarity'}, inplace = False)\n",
    "data_frames = [b1_p1, b1_p2, b1_p3, b1_p4, b1_p5]\n",
    "df1_merged_original = reduce(lambda  left, right: pd.merge(left, right,on=['user1'], how='outer'), data_frames)"
   ]
  },
  {
   "cell_type": "code",
   "execution_count": null,
   "id": "02281b95",
   "metadata": {},
   "outputs": [],
   "source": [
    "subset = df1_merged_original[[\"b1-p1-similarity\", \"b1-p2-similarity\", \"b1-p3-similarity\", \"b1-p4-similarity\", \"b1-p5-similarity\"]]\n",
    "import matplotlib.pyplot as plt\n",
    "import seaborn as sns\n",
    "\n",
    "median_list_b1_o=[]\n",
    "mean_list_b1_o=[]\n",
    "max_list_b1_o=[]\n",
    "min_list_b1_o=[]\n",
    "\n",
    "for i, column in enumerate(subset.columns, 1):\n",
    "    plt.subplot(2,3,i)\n",
    "    sns.set(rc={'figure.figsize':(11.7,8.27)})\n",
    "    sns.distplot(subset[column])\n",
    "    median_list_b1_o.append(subset[column].describe().loc['50%'])\n",
    "    mean_list_b1_o.append(subset[column].describe().loc['mean'])\n",
    "    max_list_b1_o.append(subset[column].describe().loc['max'])\n",
    "    min_list_b1_o.append(subset[column].describe().loc['min'])"
   ]
  },
  {
   "cell_type": "code",
   "execution_count": null,
   "id": "5080f969",
   "metadata": {
    "scrolled": true
   },
   "outputs": [],
   "source": [
    "df1_merged = df1_merged_original[[\"b1-p1-similarity\", \"b1-p2-similarity\", \"b1-p3-similarity\", \"b1-p4-similarity\", \"b1-p5-similarity\"]].apply(np.log1p)\n",
    "df1_merged"
   ]
  },
  {
   "cell_type": "code",
   "execution_count": null,
   "id": "e2dc4d57",
   "metadata": {},
   "outputs": [],
   "source": [
    "subset = df1_merged[[\"b1-p1-similarity\", \"b1-p2-similarity\", \"b1-p3-similarity\", \"b1-p4-similarity\", \"b1-p5-similarity\"]]\n",
    "import matplotlib.pyplot as plt\n",
    "import seaborn as sns\n",
    "\n",
    "median_list_b1=[]\n",
    "mean_list_b1=[]\n",
    "max_list_b1=[]\n",
    "min_list_b1=[]\n",
    "\n",
    "for i, column in enumerate(subset.columns, 1):\n",
    "    plt.subplot(2,3,i)\n",
    "    sns.set(rc={'figure.figsize':(11.7,8.27)})\n",
    "    sns.distplot(subset[column])\n",
    "    median_list_b1.append(subset[column].describe().loc['50%'])\n",
    "    mean_list_b1.append(subset[column].describe().loc['mean'])\n",
    "    max_list_b1.append(subset[column].describe().loc['max'])\n",
    "    min_list_b1.append(subset[column].describe().loc['min'])"
   ]
  },
  {
   "cell_type": "code",
   "execution_count": null,
   "id": "8f63e874",
   "metadata": {},
   "outputs": [],
   "source": [
    "from functools import reduce\n",
    "b2_p1 = subset_bogota2_phase1_all_only.rename(columns = {'similarity':'b2-p1-similarity'}, inplace = False)\n",
    "b2_p2 = subset_bogota2_phase2_all_only.rename(columns = {'similarity':'b2-p2-similarity'}, inplace = False)\n",
    "b2_p3 = subset_bogota2_phase3_all_only.rename(columns = {'similarity':'b2-p3-similarity'}, inplace = False)\n",
    "b2_p4 = subset_bogota2_phase4_all_only.rename(columns = {'similarity':'b2-p4-similarity'}, inplace = False)\n",
    "b2_p5 = subset_bogota2_phase5_all_only.rename(columns = {'similarity':'b2-p5-similarity'}, inplace = False)\n",
    "data_frames = [b2_p1, b2_p2, b2_p3, b2_p4, b2_p5]\n",
    "df2_merged_original = reduce(lambda  left, right: pd.merge(left, right,on=['user1'], how='outer'), data_frames)\n"
   ]
  },
  {
   "cell_type": "code",
   "execution_count": null,
   "id": "c4e1899e",
   "metadata": {},
   "outputs": [],
   "source": [
    "subset = df2_merged_original[[\"b2-p1-similarity\", \"b2-p2-similarity\", \"b2-p3-similarity\", \"b2-p4-similarity\", \"b2-p5-similarity\"]]\n",
    "import matplotlib.pyplot as plt\n",
    "import seaborn as sns\n",
    "\n",
    "median_list_b2_o=[]\n",
    "mean_list_b2_o=[]\n",
    "min_list_b2_o=[]\n",
    "max_list_b2_o=[]\n",
    "\n",
    "for i, column in enumerate(subset.columns, 1):\n",
    "    plt.subplot(2,3,i)\n",
    "    sns.set(rc={'figure.figsize':(11.7,8.27)})\n",
    "    sns.distplot(subset[column])\n",
    "    median_list_b2_o.append(subset[column].describe().loc['50%'])\n",
    "    mean_list_b2_o.append(subset[column].describe().loc['mean'])\n",
    "    min_list_b2_o.append(subset[column].describe().loc['min'])\n",
    "    max_list_b2_o.append(subset[column].describe().loc['max'])"
   ]
  },
  {
   "cell_type": "code",
   "execution_count": null,
   "id": "fb8c67ac",
   "metadata": {},
   "outputs": [],
   "source": [
    "df2_merged = df2_merged_original[[\"b2-p1-similarity\", \"b2-p2-similarity\", \"b2-p3-similarity\", \"b2-p4-similarity\", \"b2-p5-similarity\"]].apply(np.log1p)\n",
    "df2_merged"
   ]
  },
  {
   "cell_type": "code",
   "execution_count": null,
   "id": "38050934",
   "metadata": {},
   "outputs": [],
   "source": [
    "subset = df2_merged[[\"b2-p1-similarity\", \"b2-p2-similarity\", \"b2-p3-similarity\", \"b2-p4-similarity\", \"b2-p5-similarity\"]]\n",
    "import matplotlib.pyplot as plt\n",
    "import seaborn as sns\n",
    "\n",
    "median_list_b2=[]\n",
    "mean_list_b2=[]\n",
    "min_list_b2=[]\n",
    "max_list_b2=[]\n",
    "\n",
    "for i, column in enumerate(subset.columns, 1):\n",
    "    plt.subplot(2,3,i)\n",
    "    sns.set(rc={'figure.figsize':(11.7,8.27)})\n",
    "    sns.distplot(subset[column])\n",
    "    median_list_b2.append(subset[column].describe().loc['50%'])\n",
    "    mean_list_b2.append(subset[column].describe().loc['mean'])\n",
    "    min_list_b2.append(subset[column].describe().loc['min'])\n",
    "    max_list_b2.append(subset[column].describe().loc['max'])"
   ]
  },
  {
   "cell_type": "code",
   "execution_count": null,
   "id": "1e3ca99c",
   "metadata": {},
   "outputs": [],
   "source": [
    "from functools import reduce\n",
    "b3_p1 = subset_bogota3_phase1_all_only.rename(columns = {'similarity':'b3-p1-similarity'}, inplace = False)\n",
    "b3_p2 = overall_phase2_bogota3_all_only.rename(columns = {'similarity':'b3-p2-similarity'}, inplace = False)\n",
    "b3_p3 = subset_bogota3_phase3_all_only.rename(columns = {'similarity':'b3-p3-similarity'}, inplace = False)\n",
    "b3_p4 = overall_phase4_bogota3_all_only.rename(columns = {'similarity':'b3-p4-similarity'}, inplace = False)\n",
    "b3_p5 = overall_phase5_bogota3_all_only.rename(columns = {'similarity':'b3-p5-similarity'}, inplace = False)\n",
    "data_frames = [b3_p1, b3_p2, b3_p3, b3_p4, b3_p5]\n",
    "df3_merged_original = reduce(lambda  left, right: pd.merge(left, right,on=['user1'], how='outer'), data_frames)"
   ]
  },
  {
   "cell_type": "code",
   "execution_count": null,
   "id": "690b59ed",
   "metadata": {},
   "outputs": [],
   "source": [
    "subset = df3_merged_original[[\"b3-p1-similarity\", \"b3-p2-similarity\", \"b3-p3-similarity\", \"b3-p4-similarity\", \"b3-p5-similarity\"]]\n",
    "import matplotlib.pyplot as plt\n",
    "import seaborn as sns\n",
    "\n",
    "median_list_b3_o=[]\n",
    "mean_list_b3_o=[]\n",
    "min_list_b3_o=[]\n",
    "max_list_b3_o=[]\n",
    "\n",
    "for i, column in enumerate(subset.columns, 1):\n",
    "    plt.subplot(2,3,i)\n",
    "    sns.set(rc={'figure.figsize':(11.7,8.27)})\n",
    "    sns.distplot(subset[column])\n",
    "    median_list_b3_o.append(subset[column].describe().loc['50%'])\n",
    "    mean_list_b3_o.append(subset[column].describe().loc['mean'])\n",
    "    max_list_b3_o.append(subset[column].describe().loc['max'])\n",
    "    min_list_b3_o.append(subset[column].describe().loc['min'])"
   ]
  },
  {
   "cell_type": "code",
   "execution_count": null,
   "id": "2c19f345",
   "metadata": {},
   "outputs": [],
   "source": [
    "df3_merged = df3_merged_original[[\"b3-p1-similarity\", \"b3-p2-similarity\", \"b3-p3-similarity\", \"b3-p4-similarity\", \"b3-p5-similarity\"]].apply(np.log1p)\n",
    "df3_merged"
   ]
  },
  {
   "cell_type": "code",
   "execution_count": null,
   "id": "1469f987",
   "metadata": {},
   "outputs": [],
   "source": [
    "subset = df3_merged[[\"b3-p1-similarity\", \"b3-p2-similarity\", \"b3-p3-similarity\", \"b3-p4-similarity\", \"b3-p5-similarity\"]]\n",
    "import matplotlib.pyplot as plt\n",
    "import seaborn as sns\n",
    "\n",
    "median_list_b3=[]\n",
    "mean_list_b3=[]\n",
    "min_list_b3=[]\n",
    "max_list_b3=[]\n",
    "\n",
    "for i, column in enumerate(subset.columns, 1):\n",
    "    plt.subplot(2,3,i)\n",
    "    sns.set(rc={'figure.figsize':(11.7,8.27)})\n",
    "    sns.distplot(subset[column])\n",
    "    median_list_b3.append(subset[column].describe().loc['50%'])\n",
    "    mean_list_b3.append(subset[column].describe().loc['mean'])\n",
    "    max_list_b3.append(subset[column].describe().loc['max'])\n",
    "    min_list_b3.append(subset[column].describe().loc['min'])"
   ]
  },
  {
   "cell_type": "code",
   "execution_count": null,
   "id": "4cd0755e",
   "metadata": {},
   "outputs": [],
   "source": [
    "import matplotlib.pyplot as plt\n",
    "\n",
    "# Mean Scores of All Groups [ Tech Scores ]\n",
    "\n",
    "y1 = median_list_b0_o\n",
    "y2 = median_list_b1_o\n",
    "y3 = median_list_b2_o\n",
    "y4 = median_list_b3_o\n",
    "\n",
    "\n",
    "x_axis=['Phase 1', 'Phase 2', 'Phase 3', 'Phase 4', 'Phase 5']\n",
    "\n",
    "line1 = plt.plot(x_axis, y1,'bo-',label='Bogota 0 ( No Transparency )') \n",
    "line2 = plt.plot(x_axis, y2,'go-',label='Bogota 1 ( Performance Transparency )') \n",
    "line3 = plt.plot(x_axis, y3,'ko-',label='Bogota 2 ( Solution Transparency )')\n",
    "line4 = plt.plot(x_axis, y4,'ro-',label='Bogota 3 ( Full Transparency )') \n",
    "\n",
    "plt.title(\"Raw Median Similarity in Global Functions Context\")\n",
    "plt.ylabel(\"Raw Median Similarity in Global Functions Context\")\n",
    "\n",
    "plt.legend(bbox_to_anchor=(1.5, 1),\n",
    "           bbox_transform=plt.gcf().transFigure)"
   ]
  },
  {
   "cell_type": "code",
   "execution_count": null,
   "id": "54283af5",
   "metadata": {},
   "outputs": [],
   "source": [
    "import matplotlib.pyplot as plt\n",
    "\n",
    "# Mean Scores of All Groups [ Tech Scores ]\n",
    "\n",
    "y1 = median_list_b0\n",
    "y2 = median_list_b1\n",
    "y3 = median_list_b2\n",
    "y4 = median_list_b3\n",
    "\n",
    "\n",
    "x_axis=['Phase 1', 'Phase 2', 'Phase 3', 'Phase 4', 'Phase 5']\n",
    "\n",
    "line1 = plt.plot(x_axis, y1,'bo-',label='Bogota 0 ( No Transparency )') \n",
    "line2 = plt.plot(x_axis, y2,'go-',label='Bogota 1 ( Performance Transparency )') \n",
    "line3 = plt.plot(x_axis, y3,'ko-',label='Bogota 2 ( Solution Transparency )')\n",
    "line4 = plt.plot(x_axis, y4,'ro-',label='Bogota 3 ( Full Transparency )') \n",
    "\n",
    "plt.title(\"Log-Transform Median Similarity in Global Functions Context\")\n",
    "plt.ylabel(\"Log-Transform Median Similarity in Global Functions Context\")\n",
    "\n",
    "plt.legend(bbox_to_anchor=(1.5, 1),\n",
    "           bbox_transform=plt.gcf().transFigure)"
   ]
  },
  {
   "cell_type": "code",
   "execution_count": null,
   "id": "ac6f4b1d",
   "metadata": {},
   "outputs": [],
   "source": [
    "import matplotlib.pyplot as plt\n",
    "\n",
    "# Mean Scores of All Groups [ Tech Scores ]\n",
    "\n",
    "y1 = mean_list_b0\n",
    "y2 = mean_list_b1\n",
    "y3 = mean_list_b2\n",
    "y4 = mean_list_b3\n",
    "\n",
    "\n",
    "x_axis=['Phase 1', 'Phase 2', 'Phase 3', 'Phase 4', 'Phase 5']\n",
    "\n",
    "line1 = plt.plot(x_axis, y1,'bo-',label='Bogota 0 ( No Transparency )') \n",
    "line2 = plt.plot(x_axis, y2,'go-',label='Bogota 1 ( Performance Transparency )') \n",
    "line3 = plt.plot(x_axis, y3,'ko-',label='Bogota 2 ( Solution Transparency )')\n",
    "line4 = plt.plot(x_axis, y4,'ro-',label='Bogota 3 ( Full Transparency )') \n",
    "\n",
    "plt.title(\"Log-Transform Mean Similarity in Global Functions Context\")\n",
    "plt.ylabel(\"Log-Transform Mean Similarity in Global Functions Context\")\n",
    "\n",
    "plt.legend(bbox_to_anchor=(1.5, 1),\n",
    "           bbox_transform=plt.gcf().transFigure)"
   ]
  },
  {
   "cell_type": "code",
   "execution_count": null,
   "id": "7157e72e",
   "metadata": {},
   "outputs": [],
   "source": [
    "import matplotlib.pyplot as plt\n",
    "\n",
    "# Mean Scores of All Groups [ Tech Scores ]\n",
    "\n",
    "y1 = mean_list_b0_o\n",
    "y2 = mean_list_b1_o\n",
    "y3 = mean_list_b2_o\n",
    "y4 = mean_list_b3_o\n",
    "\n",
    "\n",
    "x_axis=['Phase 1', 'Phase 2', 'Phase 3', 'Phase 4', 'Phase 5']\n",
    "\n",
    "line1 = plt.plot(x_axis, y1,'bo-',label='Bogota 0 ( No Transparency )') \n",
    "line2 = plt.plot(x_axis, y2,'go-',label='Bogota 1 ( Performance Transparency )') \n",
    "line3 = plt.plot(x_axis, y3,'ko-',label='Bogota 2 ( Solution Transparency )')\n",
    "line4 = plt.plot(x_axis, y4,'ro-',label='Bogota 3 ( Full Transparency )') \n",
    "\n",
    "plt.title(\"Raw Mean Similarity in Global Functions Context\")\n",
    "plt.ylabel(\"Raw Mean Similarity in Global Functions Context\")\n",
    "\n",
    "plt.legend(bbox_to_anchor=(1.5, 1),\n",
    "           bbox_transform=plt.gcf().transFigure)"
   ]
  },
  {
   "cell_type": "code",
   "execution_count": null,
   "id": "298562df",
   "metadata": {},
   "outputs": [],
   "source": [
    "import matplotlib.pyplot as plt\n",
    "\n",
    "# Mean Scores of All Groups [ Tech Scores ]\n",
    "\n",
    "y1 = min_list_b0\n",
    "y2 = min_list_b1\n",
    "y3 = min_list_b2\n",
    "y4 = min_list_b3\n",
    "\n",
    "\n",
    "x_axis=['Phase 1', 'Phase 2', 'Phase 3', 'Phase 4', 'Phase 5']\n",
    "\n",
    "line1 = plt.plot(x_axis, y1,'bo-',label='Bogota 0 ( No Transparency )') \n",
    "line2 = plt.plot(x_axis, y2,'go-',label='Bogota 1 ( Performance Transparency )') \n",
    "line3 = plt.plot(x_axis, y3,'ko-',label='Bogota 2 ( Solution Transparency )')\n",
    "line4 = plt.plot(x_axis, y4,'ro-',label='Bogota 3 ( Full Transparency )') \n",
    "\n",
    "plt.title(\"Log-Transform Min Similarity in Global Functions Context\")\n",
    "plt.ylabel(\"Log-Transform Min Similarity in Global Functions Context\")\n",
    "\n",
    "plt.legend(bbox_to_anchor=(1.5, 1),\n",
    "           bbox_transform=plt.gcf().transFigure)"
   ]
  },
  {
   "cell_type": "code",
   "execution_count": null,
   "id": "d831eeea",
   "metadata": {},
   "outputs": [],
   "source": [
    "import matplotlib.pyplot as plt\n",
    "\n",
    "# Mean Scores of All Groups [ Tech Scores ]\n",
    "\n",
    "y1 = max_list_b0\n",
    "y2 = max_list_b1\n",
    "y3 = max_list_b2\n",
    "y4 = max_list_b3\n",
    "\n",
    "\n",
    "x_axis=['Phase 1', 'Phase 2', 'Phase 3', 'Phase 4', 'Phase 5']\n",
    "\n",
    "line1 = plt.plot(x_axis, y1,'bo-',label='Bogota 0 ( No Transparency )') \n",
    "line2 = plt.plot(x_axis, y2,'go-',label='Bogota 1 ( Performance Transparency )') \n",
    "line3 = plt.plot(x_axis, y3,'ko-',label='Bogota 2 ( Solution Transparency )')\n",
    "line4 = plt.plot(x_axis, y4,'ro-',label='Bogota 3 ( Full Transparency )') \n",
    "\n",
    "plt.title(\"Log-Transform Max Similarity in Global Functions Context\")\n",
    "plt.ylabel(\"Log-Transform Max Similarity in Global Functions Context\")\n",
    "\n",
    "plt.legend(bbox_to_anchor=(1.5, 1),\n",
    "           bbox_transform=plt.gcf().transFigure)"
   ]
  },
  {
   "cell_type": "markdown",
   "id": "69a556dd",
   "metadata": {},
   "source": [
    "## Calculate the uniqueness measure based on Uzzi's and Sio's paper. [ Have to be Read ]"
   ]
  },
  {
   "cell_type": "markdown",
   "id": "70c28cbe",
   "metadata": {},
   "source": [
    "Atypical combinations and scientific impact by Uzzi "
   ]
  },
  {
   "cell_type": "markdown",
   "id": "57127b1f",
   "metadata": {},
   "source": [
    "Take the whole sample of functions and identify the most common and the least common functions based on the 90% most common and 10% least common functions. Explore in which group they occur and which phase. "
   ]
  },
  {
   "cell_type": "code",
   "execution_count": null,
   "id": "2eab6fb4",
   "metadata": {},
   "outputs": [],
   "source": [
    "overall_45_functions = overall_45['functions'].to_list()\n",
    "overall_45_functions"
   ]
  },
  {
   "cell_type": "code",
   "execution_count": null,
   "id": "61ab329e",
   "metadata": {},
   "outputs": [],
   "source": [
    "## 20,000. most unique functions \n",
    "new_list"
   ]
  },
  {
   "cell_type": "markdown",
   "id": "2d4f9ecc",
   "metadata": {},
   "source": [
    "## Phase 5"
   ]
  },
  {
   "cell_type": "code",
   "execution_count": null,
   "id": "bfde817b",
   "metadata": {},
   "outputs": [],
   "source": [
    "listed = overall_phase5_bogota3['functions'].to_list()\n",
    "converted_list = [str(element) for element in  listed]\n",
    "joined_string = \",\".join(converted_list)\n",
    "bogota3_phase5 = joined_string.split(\",\")\n",
    "bogota3_phase5"
   ]
  },
  {
   "cell_type": "code",
   "execution_count": null,
   "id": "9e9e341a",
   "metadata": {},
   "outputs": [],
   "source": [
    "unique_bogota3_phase5 = list(set(bogota3_phase5).intersection(set(new_list)))\n",
    "len_unique_bogota3_phase5 = len(unique_bogota3_phase5)"
   ]
  },
  {
   "cell_type": "code",
   "execution_count": null,
   "id": "b7e8eed5",
   "metadata": {},
   "outputs": [],
   "source": [
    "unique_bogota3_phase5 = list(set(bogota3_phase5).intersection(set(top_5_unique)))\n",
    "top_5_unique_bogota3_phase5 = len(unique_bogota3_phase5)"
   ]
  },
  {
   "cell_type": "code",
   "execution_count": null,
   "id": "eab7aafc",
   "metadata": {},
   "outputs": [],
   "source": [
    "unique_bogota3_phase5 = list(set(bogota3_phase5).intersection(set(top_10_unique)))\n",
    "top_10_unique_bogota3_phase5  = len(unique_bogota3_phase5)"
   ]
  },
  {
   "cell_type": "code",
   "execution_count": null,
   "id": "339c8cbd",
   "metadata": {},
   "outputs": [],
   "source": [
    "unique_bogota3_phase5 = list(set(bogota3_phase5).intersection(set(top_15_unique)))\n",
    "top_15_unique_bogota3_phase5  = len(unique_bogota3_phase5)"
   ]
  },
  {
   "cell_type": "code",
   "execution_count": null,
   "id": "adac76ae",
   "metadata": {},
   "outputs": [],
   "source": [
    "unique_bogota3_phase5 = list(set(bogota3_phase5).intersection(set(top_20_unique)))\n",
    "top_20_unique_bogota3_phase5  = len(unique_bogota3_phase5)"
   ]
  },
  {
   "cell_type": "code",
   "execution_count": null,
   "id": "fcfcb159",
   "metadata": {},
   "outputs": [],
   "source": [
    "listed = overall_phase5_bogota1['functions'].to_list()\n",
    "converted_list = [str(element) for element in  listed]\n",
    "joined_string = \",\".join(converted_list)\n",
    "bogota1_phase5 = joined_string.split(\",\")\n",
    "bogota1_phase5"
   ]
  },
  {
   "cell_type": "code",
   "execution_count": null,
   "id": "aae08029",
   "metadata": {},
   "outputs": [],
   "source": [
    "unique_bogota1_phase5 = list(set(bogota1_phase5).intersection(set(new_list)))\n",
    "len_unique_bogota1_phase5 = len(unique_bogota1_phase5)"
   ]
  },
  {
   "cell_type": "code",
   "execution_count": null,
   "id": "ac81bd49",
   "metadata": {},
   "outputs": [],
   "source": [
    "unique_bogota1_phase5 = list(set(bogota1_phase5).intersection(set(top_5_unique)))\n",
    "top_5_unique_bogota1_phase5 = len(unique_bogota1_phase5)"
   ]
  },
  {
   "cell_type": "code",
   "execution_count": null,
   "id": "241b2c8d",
   "metadata": {},
   "outputs": [],
   "source": [
    "unique_bogota1_phase5 = list(set(bogota1_phase5).intersection(set(top_10_unique)))\n",
    "top_10_unique_bogota1_phase5 = len(unique_bogota1_phase5)"
   ]
  },
  {
   "cell_type": "code",
   "execution_count": null,
   "id": "df53e803",
   "metadata": {},
   "outputs": [],
   "source": [
    "unique_bogota1_phase5 = list(set(bogota1_phase5).intersection(set(top_15_unique)))\n",
    "top_15_unique_bogota1_phase5 = len(unique_bogota1_phase5)"
   ]
  },
  {
   "cell_type": "code",
   "execution_count": null,
   "id": "aef9731e",
   "metadata": {},
   "outputs": [],
   "source": [
    "unique_bogota1_phase5 = list(set(bogota1_phase5).intersection(set(top_20_unique)))\n",
    "top_20_unique_bogota1_phase5 = len(unique_bogota1_phase5)"
   ]
  },
  {
   "cell_type": "code",
   "execution_count": null,
   "id": "cae2dc9c",
   "metadata": {},
   "outputs": [],
   "source": [
    "listed = overall_phase5_bogota2['functions'].to_list()\n",
    "converted_list = [str(element) for element in  listed]\n",
    "joined_string = \",\".join(converted_list)\n",
    "bogota2_phase5 = joined_string.split(\",\")\n",
    "bogota2_phase5"
   ]
  },
  {
   "cell_type": "code",
   "execution_count": null,
   "id": "3e96d07c",
   "metadata": {},
   "outputs": [],
   "source": [
    "unique_bogota2_phase5 = list(set(bogota2_phase5).intersection(set(new_list)))\n",
    "len_unique_bogota2_phase5 = len(unique_bogota2_phase5)"
   ]
  },
  {
   "cell_type": "code",
   "execution_count": null,
   "id": "aa6d17a8",
   "metadata": {},
   "outputs": [],
   "source": [
    "unique_bogota2_phase5 = list(set(bogota2_phase5).intersection(set(top_5_unique)))\n",
    "top_5_unique_bogota2_phase5 = len(unique_bogota2_phase5)"
   ]
  },
  {
   "cell_type": "code",
   "execution_count": null,
   "id": "d6661bed",
   "metadata": {},
   "outputs": [],
   "source": [
    "unique_bogota2_phase5 = list(set(bogota2_phase5).intersection(set(top_10_unique)))\n",
    "top_10_unique_bogota2_phase5 = len(unique_bogota2_phase5)"
   ]
  },
  {
   "cell_type": "code",
   "execution_count": null,
   "id": "a01ed29b",
   "metadata": {},
   "outputs": [],
   "source": [
    "unique_bogota2_phase5 = list(set(bogota2_phase5).intersection(set(top_15_unique)))\n",
    "top_15_unique_bogota2_phase5 = len(unique_bogota2_phase5)"
   ]
  },
  {
   "cell_type": "code",
   "execution_count": null,
   "id": "fe952d90",
   "metadata": {},
   "outputs": [],
   "source": [
    "unique_bogota2_phase5 = list(set(bogota2_phase5).intersection(set(top_20_unique)))\n",
    "top_20_unique_bogota2_phase5 = len(unique_bogota2_phase5)"
   ]
  },
  {
   "cell_type": "code",
   "execution_count": null,
   "id": "6f5dc779",
   "metadata": {},
   "outputs": [],
   "source": [
    "listed = overall_phase5_bogota0['functions'].to_list()\n",
    "converted_list = [str(element) for element in  listed]\n",
    "joined_string = \",\".join(converted_list)\n",
    "bogota0_phase5 = joined_string.split(\",\")\n",
    "bogota0_phase5"
   ]
  },
  {
   "cell_type": "code",
   "execution_count": null,
   "id": "99059e2f",
   "metadata": {},
   "outputs": [],
   "source": [
    "unique_bogota0_phase5 = list(set(bogota0_phase5).intersection(set(new_list)))\n",
    "len_unique_bogota0_phase5 = len(unique_bogota0_phase5)"
   ]
  },
  {
   "cell_type": "code",
   "execution_count": null,
   "id": "56d56da3",
   "metadata": {},
   "outputs": [],
   "source": [
    "unique_bogota0_phase5 = list(set(bogota0_phase5).intersection(set(top_5_unique)))\n",
    "top_5_unique_bogota0_phase5 = len(unique_bogota0_phase5)"
   ]
  },
  {
   "cell_type": "code",
   "execution_count": null,
   "id": "3c3d43db",
   "metadata": {},
   "outputs": [],
   "source": [
    "unique_bogota0_phase5 = list(set(bogota0_phase5).intersection(set(top_10_unique)))\n",
    "top_10_unique_bogota0_phase5 = len(unique_bogota0_phase5)"
   ]
  },
  {
   "cell_type": "code",
   "execution_count": null,
   "id": "74ffc15b",
   "metadata": {},
   "outputs": [],
   "source": [
    "unique_bogota0_phase5 = list(set(bogota0_phase5).intersection(set(top_15_unique)))\n",
    "top_15_unique_bogota0_phase5 = len(unique_bogota0_phase5)"
   ]
  },
  {
   "cell_type": "code",
   "execution_count": null,
   "id": "238477ef",
   "metadata": {},
   "outputs": [],
   "source": [
    "unique_bogota0_phase5 = list(set(bogota0_phase5).intersection(set(top_20_unique)))\n",
    "top_20_unique_bogota0_phase5 = len(unique_bogota0_phase5)"
   ]
  },
  {
   "cell_type": "markdown",
   "id": "8d9ded47",
   "metadata": {},
   "source": [
    "## Phase 4"
   ]
  },
  {
   "cell_type": "code",
   "execution_count": null,
   "id": "db7ce602",
   "metadata": {},
   "outputs": [],
   "source": [
    "listed = overall_phase4_bogota3['functions'].to_list()\n",
    "converted_list = [str(element) for element in  listed]\n",
    "joined_string = \",\".join(converted_list)\n",
    "bogota3_phase4 = joined_string.split(\",\")\n"
   ]
  },
  {
   "cell_type": "code",
   "execution_count": null,
   "id": "107f43fb",
   "metadata": {},
   "outputs": [],
   "source": [
    "listed = overall_phase4_bogota2['functions'].to_list()\n",
    "converted_list = [str(element) for element in  listed]\n",
    "joined_string = \",\".join(converted_list)\n",
    "bogota2_phase4 = joined_string.split(\",\")\n"
   ]
  },
  {
   "cell_type": "code",
   "execution_count": null,
   "id": "93df25fb",
   "metadata": {},
   "outputs": [],
   "source": [
    "listed = overall_phase4_bogota1['functions'].to_list()\n",
    "converted_list = [str(element) for element in  listed]\n",
    "joined_string = \",\".join(converted_list)\n",
    "bogota1_phase4 = joined_string.split(\",\")\n"
   ]
  },
  {
   "cell_type": "code",
   "execution_count": null,
   "id": "0118a800",
   "metadata": {},
   "outputs": [],
   "source": [
    "listed = overall_phase4_bogota0['functions'].to_list()\n",
    "converted_list = [str(element) for element in  listed]\n",
    "joined_string = \",\".join(converted_list)\n",
    "bogota0_phase4 = joined_string.split(\",\")\n"
   ]
  },
  {
   "cell_type": "code",
   "execution_count": null,
   "id": "fd94c4ef",
   "metadata": {},
   "outputs": [],
   "source": [
    "unique_bogota3_phase4 = list(set(bogota3_phase4).intersection(set(new_list)))\n",
    "len_unique_bogota3_phase4 = len(unique_bogota3_phase4)"
   ]
  },
  {
   "cell_type": "code",
   "execution_count": null,
   "id": "9e1d70e2",
   "metadata": {},
   "outputs": [],
   "source": [
    "unique_bogota3_phase4 = list(set(bogota3_phase4).intersection(set(top_5_unique)))\n",
    "top_5_unique_bogota3_phase4 = len(unique_bogota3_phase4)"
   ]
  },
  {
   "cell_type": "code",
   "execution_count": null,
   "id": "b92ba6a0",
   "metadata": {},
   "outputs": [],
   "source": [
    "unique_bogota3_phase4 = list(set(bogota3_phase4).intersection(set(top_10_unique)))\n",
    "top_10_unique_bogota3_phase4 = len(unique_bogota3_phase4)"
   ]
  },
  {
   "cell_type": "code",
   "execution_count": null,
   "id": "538f9ff5",
   "metadata": {},
   "outputs": [],
   "source": [
    "unique_bogota3_phase4 = list(set(bogota3_phase4).intersection(set(top_15_unique)))\n",
    "top_15_unique_bogota3_phase4 = len(unique_bogota3_phase4)"
   ]
  },
  {
   "cell_type": "code",
   "execution_count": null,
   "id": "d396340f",
   "metadata": {},
   "outputs": [],
   "source": [
    "unique_bogota3_phase4 = list(set(bogota3_phase4).intersection(set(top_20_unique)))\n",
    "top_20_unique_bogota3_phase4 = len(unique_bogota3_phase4)"
   ]
  },
  {
   "cell_type": "code",
   "execution_count": null,
   "id": "1c443a4d",
   "metadata": {},
   "outputs": [],
   "source": [
    "unique_bogota2_phase4 = list(set(bogota2_phase4).intersection(set(new_list)))\n",
    "len_unique_bogota2_phase4 = len(unique_bogota2_phase4)"
   ]
  },
  {
   "cell_type": "code",
   "execution_count": null,
   "id": "b6b7e243",
   "metadata": {},
   "outputs": [],
   "source": [
    "unique_bogota2_phase4 = list(set(bogota2_phase4).intersection(set(new_list)))\n",
    "len_unique_bogota2_phase4 = len(unique_bogota2_phase4)"
   ]
  },
  {
   "cell_type": "code",
   "execution_count": null,
   "id": "02157769",
   "metadata": {},
   "outputs": [],
   "source": [
    "unique_bogota2_phase4 = list(set(bogota2_phase4).intersection(set(top_5_unique)))\n",
    "top_5_unique_bogota2_phase4 = len(unique_bogota2_phase4)"
   ]
  },
  {
   "cell_type": "code",
   "execution_count": null,
   "id": "7bfaefc4",
   "metadata": {},
   "outputs": [],
   "source": [
    "unique_bogota2_phase4 = list(set(bogota2_phase4).intersection(set(top_10_unique)))\n",
    "top_10_unique_bogota2_phase4 = len(unique_bogota2_phase4)"
   ]
  },
  {
   "cell_type": "code",
   "execution_count": null,
   "id": "8cfe3f60",
   "metadata": {},
   "outputs": [],
   "source": [
    "unique_bogota2_phase4 = list(set(bogota2_phase4).intersection(set(top_15_unique)))\n",
    "top_15_unique_bogota2_phase4 = len(unique_bogota2_phase4)"
   ]
  },
  {
   "cell_type": "code",
   "execution_count": null,
   "id": "84a5dbf4",
   "metadata": {},
   "outputs": [],
   "source": [
    "unique_bogota2_phase4 = list(set(bogota2_phase4).intersection(set(top_20_unique)))\n",
    "top_20_unique_bogota2_phase4 = len(unique_bogota2_phase4)"
   ]
  },
  {
   "cell_type": "code",
   "execution_count": null,
   "id": "0f4f7334",
   "metadata": {},
   "outputs": [],
   "source": [
    "unique_bogota1_phase4 = list(set(bogota1_phase4).intersection(set(new_list)))\n",
    "len_unique_bogota1_phase4 = len(unique_bogota1_phase4)"
   ]
  },
  {
   "cell_type": "code",
   "execution_count": null,
   "id": "61607ca5",
   "metadata": {},
   "outputs": [],
   "source": [
    "unique_bogota1_phase4 = list(set(bogota1_phase4).intersection(set(top_5_unique)))\n",
    "top_5_unique_bogota1_phase4 = len(unique_bogota1_phase4)"
   ]
  },
  {
   "cell_type": "code",
   "execution_count": null,
   "id": "8167d141",
   "metadata": {},
   "outputs": [],
   "source": [
    "unique_bogota1_phase4 = list(set(bogota1_phase4).intersection(set(top_10_unique)))\n",
    "top_10_unique_bogota1_phase4 = len(unique_bogota1_phase4)"
   ]
  },
  {
   "cell_type": "code",
   "execution_count": null,
   "id": "7b73de71",
   "metadata": {},
   "outputs": [],
   "source": [
    "unique_bogota1_phase4 = list(set(bogota1_phase4).intersection(set(top_15_unique)))\n",
    "top_15_unique_bogota1_phase4 = len(unique_bogota1_phase4)"
   ]
  },
  {
   "cell_type": "code",
   "execution_count": null,
   "id": "1cb05ad1",
   "metadata": {},
   "outputs": [],
   "source": [
    "unique_bogota1_phase4 = list(set(bogota1_phase4).intersection(set(top_20_unique)))\n",
    "top_20_unique_bogota1_phase4 = len(unique_bogota1_phase4)"
   ]
  },
  {
   "cell_type": "code",
   "execution_count": null,
   "id": "5ca96774",
   "metadata": {},
   "outputs": [],
   "source": [
    "unique_bogota0_phase4 = list(set(bogota0_phase4).intersection(set(new_list)))\n",
    "len_unique_bogota0_phase4 = len(unique_bogota0_phase4)"
   ]
  },
  {
   "cell_type": "code",
   "execution_count": null,
   "id": "d1f58bd0",
   "metadata": {},
   "outputs": [],
   "source": [
    "unique_bogota0_phase4 = list(set(bogota0_phase4).intersection(set(top_5_unique)))\n",
    "top_5_unique_bogota0_phase4 = len(unique_bogota0_phase4)"
   ]
  },
  {
   "cell_type": "code",
   "execution_count": null,
   "id": "e3dafd3b",
   "metadata": {},
   "outputs": [],
   "source": [
    "unique_bogota0_phase4 = list(set(bogota0_phase4).intersection(set(top_10_unique)))\n",
    "top_10_unique_bogota0_phase4 = len(unique_bogota0_phase4)"
   ]
  },
  {
   "cell_type": "code",
   "execution_count": null,
   "id": "b09320a4",
   "metadata": {},
   "outputs": [],
   "source": [
    "unique_bogota0_phase4 = list(set(bogota0_phase4).intersection(set(top_15_unique)))\n",
    "top_15_unique_bogota0_phase4 = len(unique_bogota0_phase4)"
   ]
  },
  {
   "cell_type": "code",
   "execution_count": null,
   "id": "0712a1df",
   "metadata": {},
   "outputs": [],
   "source": [
    "unique_bogota0_phase4 = list(set(bogota0_phase4).intersection(set(top_20_unique)))\n",
    "top_20_unique_bogota0_phase4 = len(unique_bogota0_phase4)"
   ]
  },
  {
   "cell_type": "markdown",
   "id": "770b4fa9",
   "metadata": {},
   "source": [
    "## Phase 3"
   ]
  },
  {
   "cell_type": "code",
   "execution_count": null,
   "id": "c31cc9a6",
   "metadata": {},
   "outputs": [],
   "source": [
    "listed = overall_phase3_bogota3['functions'].to_list()\n",
    "converted_list = [str(element) for element in  listed]\n",
    "joined_string = \",\".join(converted_list)\n",
    "bogota3_phase3 = joined_string.split(\",\")"
   ]
  },
  {
   "cell_type": "code",
   "execution_count": null,
   "id": "d9d74206",
   "metadata": {},
   "outputs": [],
   "source": [
    "listed = overall_phase3_bogota2['functions'].to_list()\n",
    "converted_list = [str(element) for element in  listed]\n",
    "joined_string = \",\".join(converted_list)\n",
    "bogota2_phase3 = joined_string.split(\",\")"
   ]
  },
  {
   "cell_type": "code",
   "execution_count": null,
   "id": "c0114d7d",
   "metadata": {},
   "outputs": [],
   "source": [
    "listed = overall_phase3_bogota1['functions'].to_list()\n",
    "converted_list = [str(element) for element in  listed]\n",
    "joined_string = \",\".join(converted_list)\n",
    "bogota1_phase3 = joined_string.split(\",\")"
   ]
  },
  {
   "cell_type": "code",
   "execution_count": null,
   "id": "1abb084a",
   "metadata": {},
   "outputs": [],
   "source": [
    "listed = overall_phase3_bogota0['functions'].to_list()\n",
    "converted_list = [str(element) for element in  listed]\n",
    "joined_string = \",\".join(converted_list)\n",
    "bogota0_phase3 = joined_string.split(\",\")"
   ]
  },
  {
   "cell_type": "code",
   "execution_count": null,
   "id": "9e9e9125",
   "metadata": {},
   "outputs": [],
   "source": [
    "unique_bogota3_phase3 = list(set(bogota3_phase3).intersection(set(new_list)))\n",
    "len_unique_bogota3_phase3 = len(unique_bogota3_phase3)"
   ]
  },
  {
   "cell_type": "code",
   "execution_count": null,
   "id": "58cf7968",
   "metadata": {},
   "outputs": [],
   "source": [
    "unique_bogota3_phase3 = list(set(bogota3_phase3).intersection(set(top_5_unique)))\n",
    "top_5_unique_bogota3_phase3 = len(unique_bogota3_phase3)"
   ]
  },
  {
   "cell_type": "code",
   "execution_count": null,
   "id": "5b976bf8",
   "metadata": {},
   "outputs": [],
   "source": [
    "unique_bogota3_phase3 = list(set(bogota3_phase3).intersection(set(top_10_unique)))\n",
    "top_10_unique_bogota3_phase3 = len(unique_bogota3_phase3)"
   ]
  },
  {
   "cell_type": "code",
   "execution_count": null,
   "id": "697da8b5",
   "metadata": {},
   "outputs": [],
   "source": [
    "unique_bogota3_phase3 = list(set(bogota3_phase3).intersection(set(top_15_unique)))\n",
    "top_15_unique_bogota3_phase3 = len(unique_bogota3_phase3)"
   ]
  },
  {
   "cell_type": "code",
   "execution_count": null,
   "id": "265d4c7a",
   "metadata": {},
   "outputs": [],
   "source": [
    "unique_bogota3_phase3 = list(set(bogota3_phase3).intersection(set(top_20_unique)))\n",
    "top_20_unique_bogota3_phase3 = len(unique_bogota3_phase3)"
   ]
  },
  {
   "cell_type": "code",
   "execution_count": null,
   "id": "f8cd9327",
   "metadata": {},
   "outputs": [],
   "source": [
    "unique_bogota2_phase3 = list(set(bogota2_phase3).intersection(set(new_list)))\n",
    "len_unique_bogota2_phase3 = len(unique_bogota2_phase3)"
   ]
  },
  {
   "cell_type": "code",
   "execution_count": null,
   "id": "e7309c2a",
   "metadata": {},
   "outputs": [],
   "source": [
    "unique_bogota2_phase3 = list(set(bogota2_phase3).intersection(set(top_5_unique)))\n",
    "top_5_unique_bogota2_phase3 = len(unique_bogota2_phase3)"
   ]
  },
  {
   "cell_type": "code",
   "execution_count": null,
   "id": "5db73879",
   "metadata": {},
   "outputs": [],
   "source": [
    "unique_bogota2_phase3 = list(set(bogota2_phase3).intersection(set(top_10_unique)))\n",
    "top_10_unique_bogota2_phase3 = len(unique_bogota2_phase3)"
   ]
  },
  {
   "cell_type": "code",
   "execution_count": null,
   "id": "daeaf32a",
   "metadata": {},
   "outputs": [],
   "source": [
    "unique_bogota2_phase3 = list(set(bogota2_phase3).intersection(set(top_15_unique)))\n",
    "top_15_unique_bogota2_phase3 = len(unique_bogota2_phase3)"
   ]
  },
  {
   "cell_type": "code",
   "execution_count": null,
   "id": "c64f2502",
   "metadata": {},
   "outputs": [],
   "source": [
    "unique_bogota2_phase3 = list(set(bogota2_phase3).intersection(set(top_20_unique)))\n",
    "top_20_unique_bogota2_phase3 = len(unique_bogota2_phase3)"
   ]
  },
  {
   "cell_type": "code",
   "execution_count": null,
   "id": "0b26c474",
   "metadata": {},
   "outputs": [],
   "source": [
    "unique_bogota1_phase3 = list(set(bogota1_phase3).intersection(set(new_list)))\n",
    "len_unique_bogota1_phase3 = len(unique_bogota1_phase3)"
   ]
  },
  {
   "cell_type": "code",
   "execution_count": null,
   "id": "376a5dc4",
   "metadata": {},
   "outputs": [],
   "source": [
    "unique_bogota1_phase3 = list(set(bogota1_phase3).intersection(set(top_5_unique)))\n",
    "top_5_unique_bogota1_phase3 = len(unique_bogota1_phase3)"
   ]
  },
  {
   "cell_type": "code",
   "execution_count": null,
   "id": "b28f5dee",
   "metadata": {},
   "outputs": [],
   "source": [
    "unique_bogota1_phase3 = list(set(bogota1_phase3).intersection(set(top_10_unique)))\n",
    "top_10_unique_bogota1_phase3 = len(unique_bogota1_phase3)"
   ]
  },
  {
   "cell_type": "code",
   "execution_count": null,
   "id": "40668e69",
   "metadata": {},
   "outputs": [],
   "source": [
    "unique_bogota1_phase3 = list(set(bogota1_phase3).intersection(set(top_15_unique)))\n",
    "top_15_unique_bogota1_phase3 = len(unique_bogota1_phase3)"
   ]
  },
  {
   "cell_type": "code",
   "execution_count": null,
   "id": "24934333",
   "metadata": {},
   "outputs": [],
   "source": [
    "unique_bogota1_phase3 = list(set(bogota1_phase3).intersection(set(top_20_unique)))\n",
    "top_20_unique_bogota1_phase3 = len(unique_bogota1_phase3)"
   ]
  },
  {
   "cell_type": "code",
   "execution_count": null,
   "id": "25ff14f6",
   "metadata": {},
   "outputs": [],
   "source": [
    "unique_bogota0_phase3 = list(set(bogota0_phase3).intersection(set(new_list)))\n",
    "len_unique_bogota0_phase3 = len(unique_bogota0_phase3)"
   ]
  },
  {
   "cell_type": "code",
   "execution_count": null,
   "id": "9690474a",
   "metadata": {},
   "outputs": [],
   "source": [
    "unique_bogota0_phase3 = list(set(bogota0_phase3).intersection(set(top_5_unique)))\n",
    "top_5_unique_bogota0_phase3 = len(unique_bogota0_phase3)"
   ]
  },
  {
   "cell_type": "code",
   "execution_count": null,
   "id": "95b7c4ff",
   "metadata": {},
   "outputs": [],
   "source": [
    "unique_bogota0_phase3 = list(set(bogota0_phase3).intersection(set(top_10_unique)))\n",
    "top_10_unique_bogota0_phase3 = len(unique_bogota0_phase3)"
   ]
  },
  {
   "cell_type": "code",
   "execution_count": null,
   "id": "75047d78",
   "metadata": {},
   "outputs": [],
   "source": [
    "unique_bogota0_phase3 = list(set(bogota0_phase3).intersection(set(top_15_unique)))\n",
    "top_15_unique_bogota0_phase3 = len(unique_bogota0_phase3)"
   ]
  },
  {
   "cell_type": "code",
   "execution_count": null,
   "id": "ec4cd5ec",
   "metadata": {},
   "outputs": [],
   "source": [
    "unique_bogota0_phase3 = list(set(bogota0_phase3).intersection(set(top_20_unique)))\n",
    "top_20_unique_bogota0_phase3 = len(unique_bogota0_phase3)"
   ]
  },
  {
   "cell_type": "markdown",
   "id": "30fa04f3",
   "metadata": {},
   "source": [
    "## Phase 2"
   ]
  },
  {
   "cell_type": "code",
   "execution_count": null,
   "id": "1d329812",
   "metadata": {},
   "outputs": [],
   "source": [
    "listed = overall_phase2_bogota3['functions'].to_list()\n",
    "converted_list = [str(element) for element in  listed]\n",
    "joined_string = \",\".join(converted_list)\n",
    "bogota3_phase2 = joined_string.split(\",\")"
   ]
  },
  {
   "cell_type": "code",
   "execution_count": null,
   "id": "4f8706c3",
   "metadata": {},
   "outputs": [],
   "source": [
    "listed = overall_phase2_bogota2['functions'].to_list()\n",
    "converted_list = [str(element) for element in  listed]\n",
    "joined_string = \",\".join(converted_list)\n",
    "bogota2_phase2 = joined_string.split(\",\")"
   ]
  },
  {
   "cell_type": "code",
   "execution_count": null,
   "id": "81d050c3",
   "metadata": {},
   "outputs": [],
   "source": [
    "listed = overall_phase2_bogota1['functions'].to_list()\n",
    "converted_list = [str(element) for element in  listed]\n",
    "joined_string = \",\".join(converted_list)\n",
    "bogota1_phase2 = joined_string.split(\",\")"
   ]
  },
  {
   "cell_type": "code",
   "execution_count": null,
   "id": "ad73f160",
   "metadata": {},
   "outputs": [],
   "source": [
    "listed = overall_phase2_bogota0['functions'].to_list()\n",
    "converted_list = [str(element) for element in  listed]\n",
    "joined_string = \",\".join(converted_list)\n",
    "bogota0_phase2 = joined_string.split(\",\")"
   ]
  },
  {
   "cell_type": "code",
   "execution_count": null,
   "id": "6616c043",
   "metadata": {},
   "outputs": [],
   "source": [
    "unique_bogota3_phase2 = list(set(bogota3_phase2).intersection(set(new_list)))\n",
    "len_unique_bogota3_phase2 = len(unique_bogota3_phase2)"
   ]
  },
  {
   "cell_type": "code",
   "execution_count": null,
   "id": "926939b7",
   "metadata": {},
   "outputs": [],
   "source": [
    "unique_bogota3_phase2 = list(set(bogota3_phase2).intersection(set(top_5_unique)))\n",
    "top_5_unique_bogota3_phase2 = len(unique_bogota3_phase2)"
   ]
  },
  {
   "cell_type": "code",
   "execution_count": null,
   "id": "c0f85301",
   "metadata": {},
   "outputs": [],
   "source": [
    "unique_bogota3_phase2 = list(set(bogota3_phase2).intersection(set(top_10_unique)))\n",
    "top_10_unique_bogota3_phase2 = len(unique_bogota3_phase2)"
   ]
  },
  {
   "cell_type": "code",
   "execution_count": null,
   "id": "380a6c22",
   "metadata": {},
   "outputs": [],
   "source": [
    "unique_bogota3_phase2 = list(set(bogota3_phase2).intersection(set(top_15_unique)))\n",
    "top_15_unique_bogota3_phase2 = len(unique_bogota3_phase2)"
   ]
  },
  {
   "cell_type": "code",
   "execution_count": null,
   "id": "bbd1621f",
   "metadata": {},
   "outputs": [],
   "source": [
    "unique_bogota3_phase2 = list(set(bogota3_phase2).intersection(set(top_20_unique)))\n",
    "top_20_unique_bogota3_phase2 = len(unique_bogota3_phase2)"
   ]
  },
  {
   "cell_type": "code",
   "execution_count": null,
   "id": "e2e84483",
   "metadata": {},
   "outputs": [],
   "source": [
    "unique_bogota2_phase2 = list(set(bogota2_phase2).intersection(set(new_list)))\n",
    "len_unique_bogota2_phase2 = len(unique_bogota2_phase2)"
   ]
  },
  {
   "cell_type": "code",
   "execution_count": null,
   "id": "880cfcf4",
   "metadata": {},
   "outputs": [],
   "source": [
    "unique_bogota2_phase2 = list(set(bogota2_phase2).intersection(set(top_5_unique)))\n",
    "top_5_unique_bogota2_phase2 = len(unique_bogota2_phase2)"
   ]
  },
  {
   "cell_type": "code",
   "execution_count": null,
   "id": "8ef235bd",
   "metadata": {},
   "outputs": [],
   "source": [
    "unique_bogota2_phase2 = list(set(bogota2_phase2).intersection(set(top_10_unique)))\n",
    "top_10_unique_bogota2_phase2 = len(unique_bogota2_phase2)"
   ]
  },
  {
   "cell_type": "code",
   "execution_count": null,
   "id": "d514e9f6",
   "metadata": {},
   "outputs": [],
   "source": [
    "unique_bogota2_phase2 = list(set(bogota2_phase2).intersection(set(top_15_unique)))\n",
    "top_15_unique_bogota2_phase2 = len(unique_bogota2_phase2)"
   ]
  },
  {
   "cell_type": "code",
   "execution_count": null,
   "id": "1d6ecf05",
   "metadata": {},
   "outputs": [],
   "source": [
    "unique_bogota2_phase2 = list(set(bogota2_phase2).intersection(set(top_20_unique)))\n",
    "top_20_unique_bogota2_phase2 = len(unique_bogota2_phase2)"
   ]
  },
  {
   "cell_type": "code",
   "execution_count": null,
   "id": "69bf6f01",
   "metadata": {},
   "outputs": [],
   "source": [
    "unique_bogota1_phase2 = list(set(bogota1_phase2).intersection(set(new_list)))\n",
    "len_unique_bogota1_phase2 = len(unique_bogota1_phase2)"
   ]
  },
  {
   "cell_type": "code",
   "execution_count": null,
   "id": "f6667f37",
   "metadata": {},
   "outputs": [],
   "source": [
    "unique_bogota1_phase2 = list(set(bogota1_phase2).intersection(set(top_5_unique)))\n",
    "top_5_unique_bogota1_phase2 = len(unique_bogota1_phase2)"
   ]
  },
  {
   "cell_type": "code",
   "execution_count": null,
   "id": "2ac08ced",
   "metadata": {},
   "outputs": [],
   "source": [
    "unique_bogota1_phase2 = list(set(bogota1_phase2).intersection(set(top_10_unique)))\n",
    "top_10_unique_bogota1_phase2 = len(unique_bogota1_phase2)"
   ]
  },
  {
   "cell_type": "code",
   "execution_count": null,
   "id": "bc5c695d",
   "metadata": {},
   "outputs": [],
   "source": [
    "unique_bogota1_phase2 = list(set(bogota1_phase2).intersection(set(top_15_unique)))\n",
    "top_15_unique_bogota1_phase2 = len(unique_bogota1_phase2)"
   ]
  },
  {
   "cell_type": "code",
   "execution_count": null,
   "id": "fe968f43",
   "metadata": {},
   "outputs": [],
   "source": [
    "unique_bogota1_phase2 = list(set(bogota1_phase2).intersection(set(top_20_unique)))\n",
    "top_20_unique_bogota1_phase2 = len(unique_bogota1_phase2)"
   ]
  },
  {
   "cell_type": "code",
   "execution_count": null,
   "id": "d75710da",
   "metadata": {},
   "outputs": [],
   "source": [
    "unique_bogota0_phase2 = list(set(bogota0_phase2).intersection(set(new_list)))\n",
    "len_unique_bogota0_phase2 = len(unique_bogota0_phase2)"
   ]
  },
  {
   "cell_type": "code",
   "execution_count": null,
   "id": "1ba1a9aa",
   "metadata": {},
   "outputs": [],
   "source": [
    "unique_bogota0_phase2 = list(set(bogota0_phase2).intersection(set(top_5_unique)))\n",
    "top_5_unique_bogota0_phase2 = len(unique_bogota0_phase2)"
   ]
  },
  {
   "cell_type": "code",
   "execution_count": null,
   "id": "3ae6c7d4",
   "metadata": {},
   "outputs": [],
   "source": [
    "unique_bogota0_phase2 = list(set(bogota0_phase2).intersection(set(top_10_unique)))\n",
    "top_10_unique_bogota0_phase2 = len(unique_bogota0_phase2)"
   ]
  },
  {
   "cell_type": "code",
   "execution_count": null,
   "id": "8d9d68ce",
   "metadata": {},
   "outputs": [],
   "source": [
    "unique_bogota0_phase2 = list(set(bogota0_phase2).intersection(set(top_15_unique)))\n",
    "top_15_unique_bogota0_phase2 = len(unique_bogota0_phase2)"
   ]
  },
  {
   "cell_type": "code",
   "execution_count": null,
   "id": "843297f1",
   "metadata": {},
   "outputs": [],
   "source": [
    "unique_bogota0_phase2 = list(set(bogota0_phase2).intersection(set(top_20_unique)))\n",
    "top_20_unique_bogota0_phase2 = len(unique_bogota0_phase2)"
   ]
  },
  {
   "cell_type": "markdown",
   "id": "db1a4d7a",
   "metadata": {},
   "source": [
    "## Phase 1"
   ]
  },
  {
   "cell_type": "code",
   "execution_count": null,
   "id": "d1fe6791",
   "metadata": {},
   "outputs": [],
   "source": [
    "listed = overall_phase1_bogota3['functions'].to_list()\n",
    "converted_list = [str(element) for element in  listed]\n",
    "joined_string = \",\".join(converted_list)\n",
    "bogota3_phase1 = joined_string.split(\",\")"
   ]
  },
  {
   "cell_type": "code",
   "execution_count": null,
   "id": "2c5aa982",
   "metadata": {},
   "outputs": [],
   "source": [
    "listed = overall_phase1_bogota2['functions'].to_list()\n",
    "converted_list = [str(element) for element in  listed]\n",
    "joined_string = \",\".join(converted_list)\n",
    "bogota2_phase1 = joined_string.split(\",\")"
   ]
  },
  {
   "cell_type": "code",
   "execution_count": null,
   "id": "d2ada8bb",
   "metadata": {},
   "outputs": [],
   "source": [
    "listed = overall_phase1_bogota1['functions'].to_list()\n",
    "converted_list = [str(element) for element in  listed]\n",
    "joined_string = \",\".join(converted_list)\n",
    "bogota1_phase1 = joined_string.split(\",\")"
   ]
  },
  {
   "cell_type": "code",
   "execution_count": null,
   "id": "7b8c33c6",
   "metadata": {},
   "outputs": [],
   "source": [
    "listed = overall_phase1_bogota0['functions'].to_list()\n",
    "converted_list = [str(element) for element in  listed]\n",
    "joined_string = \",\".join(converted_list)\n",
    "bogota0_phase1 = joined_string.split(\",\")"
   ]
  },
  {
   "cell_type": "code",
   "execution_count": null,
   "id": "63ed450f",
   "metadata": {},
   "outputs": [],
   "source": [
    "unique_bogota3_phase1 = list(set(bogota3_phase1).intersection(set(new_list)))\n",
    "len_unique_bogota3_phase1 = len(unique_bogota3_phase1)"
   ]
  },
  {
   "cell_type": "code",
   "execution_count": null,
   "id": "514d6d0f",
   "metadata": {},
   "outputs": [],
   "source": [
    "unique_bogota3_phase1 = list(set(bogota3_phase1).intersection(set(top_5_unique)))\n",
    "top_5_unique_bogota3_phase1 = len(unique_bogota3_phase1)"
   ]
  },
  {
   "cell_type": "code",
   "execution_count": null,
   "id": "302b63c8",
   "metadata": {},
   "outputs": [],
   "source": [
    "unique_bogota3_phase1 = list(set(bogota3_phase1).intersection(set(top_10_unique)))\n",
    "top_10_unique_bogota3_phase1 = len(unique_bogota3_phase1)"
   ]
  },
  {
   "cell_type": "code",
   "execution_count": null,
   "id": "33ee79d3",
   "metadata": {},
   "outputs": [],
   "source": [
    "unique_bogota3_phase1 = list(set(bogota3_phase1).intersection(set(top_15_unique)))\n",
    "top_15_unique_bogota3_phase1 = len(unique_bogota3_phase1)"
   ]
  },
  {
   "cell_type": "code",
   "execution_count": null,
   "id": "c1c0eee3",
   "metadata": {},
   "outputs": [],
   "source": [
    "unique_bogota3_phase1 = list(set(bogota3_phase1).intersection(set(top_20_unique)))\n",
    "top_20_unique_bogota3_phase1 = len(unique_bogota3_phase1)"
   ]
  },
  {
   "cell_type": "code",
   "execution_count": null,
   "id": "70ebd8db",
   "metadata": {},
   "outputs": [],
   "source": [
    "unique_bogota2_phase1 = list(set(bogota2_phase1).intersection(set(new_list)))\n",
    "len_unique_bogota2_phase1 = len(unique_bogota2_phase1)"
   ]
  },
  {
   "cell_type": "code",
   "execution_count": null,
   "id": "71ade579",
   "metadata": {},
   "outputs": [],
   "source": [
    "unique_bogota2_phase1 = list(set(bogota2_phase1).intersection(set(top_5_unique)))\n",
    "top_5_unique_bogota2_phase1 = len(unique_bogota2_phase1)"
   ]
  },
  {
   "cell_type": "code",
   "execution_count": null,
   "id": "0dfa3cb5",
   "metadata": {},
   "outputs": [],
   "source": [
    "unique_bogota2_phase1 = list(set(bogota2_phase1).intersection(set(top_10_unique)))\n",
    "top_10_unique_bogota2_phase1 = len(unique_bogota2_phase1)"
   ]
  },
  {
   "cell_type": "code",
   "execution_count": null,
   "id": "5bb3cb7e",
   "metadata": {},
   "outputs": [],
   "source": [
    "unique_bogota2_phase1 = list(set(bogota2_phase1).intersection(set(top_15_unique)))\n",
    "top_15_unique_bogota2_phase1 = len(unique_bogota2_phase1)"
   ]
  },
  {
   "cell_type": "code",
   "execution_count": null,
   "id": "17296197",
   "metadata": {},
   "outputs": [],
   "source": [
    "unique_bogota2_phase1 = list(set(bogota2_phase1).intersection(set(top_20_unique)))\n",
    "top_20_unique_bogota2_phase1 = len(unique_bogota2_phase1)"
   ]
  },
  {
   "cell_type": "code",
   "execution_count": null,
   "id": "160bd241",
   "metadata": {},
   "outputs": [],
   "source": [
    "unique_bogota1_phase1 = list(set(bogota1_phase1).intersection(set(new_list)))\n",
    "len_unique_bogota1_phase1 = len(unique_bogota1_phase1)"
   ]
  },
  {
   "cell_type": "code",
   "execution_count": null,
   "id": "5ebe45bb",
   "metadata": {},
   "outputs": [],
   "source": [
    "unique_bogota1_phase1 = list(set(bogota1_phase1).intersection(set(top_5_unique)))\n",
    "top_5_unique_bogota1_phase1 = len(unique_bogota1_phase1)"
   ]
  },
  {
   "cell_type": "code",
   "execution_count": null,
   "id": "6cb945b2",
   "metadata": {},
   "outputs": [],
   "source": [
    "unique_bogota1_phase1 = list(set(bogota1_phase1).intersection(set(top_10_unique)))\n",
    "top_10_unique_bogota1_phase1 = len(unique_bogota1_phase1)"
   ]
  },
  {
   "cell_type": "code",
   "execution_count": null,
   "id": "f3794257",
   "metadata": {},
   "outputs": [],
   "source": [
    "unique_bogota1_phase1 = list(set(bogota1_phase1).intersection(set(top_15_unique)))\n",
    "top_15_unique_bogota1_phase1 = len(unique_bogota1_phase1)"
   ]
  },
  {
   "cell_type": "code",
   "execution_count": null,
   "id": "103e8161",
   "metadata": {},
   "outputs": [],
   "source": [
    "unique_bogota1_phase1 = list(set(bogota1_phase1).intersection(set(top_20_unique)))\n",
    "top_20_unique_bogota1_phase1 = len(unique_bogota1_phase1)"
   ]
  },
  {
   "cell_type": "code",
   "execution_count": null,
   "id": "62f6b7c0",
   "metadata": {},
   "outputs": [],
   "source": [
    "unique_bogota0_phase1 = list(set(bogota0_phase1).intersection(set(new_list)))\n",
    "len_unique_bogota0_phase1 = len(unique_bogota0_phase1)"
   ]
  },
  {
   "cell_type": "code",
   "execution_count": null,
   "id": "f97597d0",
   "metadata": {},
   "outputs": [],
   "source": [
    "unique_bogota0_phase1 = list(set(bogota0_phase1).intersection(set(top_5_unique)))\n",
    "top_5_unique_bogota0_phase1 = len(unique_bogota0_phase1)"
   ]
  },
  {
   "cell_type": "code",
   "execution_count": null,
   "id": "96c83fe8",
   "metadata": {},
   "outputs": [],
   "source": [
    "unique_bogota0_phase1 = list(set(bogota0_phase1).intersection(set(top_10_unique)))\n",
    "top_10_unique_bogota0_phase1 = len(unique_bogota0_phase1)"
   ]
  },
  {
   "cell_type": "code",
   "execution_count": null,
   "id": "65fa4ec5",
   "metadata": {},
   "outputs": [],
   "source": [
    "unique_bogota0_phase1 = list(set(bogota0_phase1).intersection(set(top_15_unique)))\n",
    "top_15_unique_bogota0_phase1 = len(unique_bogota0_phase1)"
   ]
  },
  {
   "cell_type": "code",
   "execution_count": null,
   "id": "4d8c488e",
   "metadata": {},
   "outputs": [],
   "source": [
    "unique_bogota0_phase1 = list(set(bogota0_phase1).intersection(set(top_20_unique)))\n",
    "top_20_unique_bogota0_phase1 = len(unique_bogota0_phase1)"
   ]
  },
  {
   "cell_type": "code",
   "execution_count": null,
   "id": "2188c315",
   "metadata": {},
   "outputs": [],
   "source": [
    "import matplotlib.pyplot as plt\n",
    "\n",
    "# Mean Scores of All Groups [ Tech Scores ]\n",
    "\n",
    "y1 = [len_unique_bogota0_phase1, len_unique_bogota0_phase2, len_unique_bogota0_phase3, len_unique_bogota0_phase4, len_unique_bogota0_phase5]\n",
    "y2 = [len_unique_bogota1_phase1, len_unique_bogota1_phase2, len_unique_bogota1_phase3, len_unique_bogota1_phase4, len_unique_bogota1_phase5]\n",
    "y3 = [len_unique_bogota2_phase1, len_unique_bogota2_phase2, len_unique_bogota2_phase3, len_unique_bogota2_phase4, len_unique_bogota2_phase5]\n",
    "y4 = [len_unique_bogota3_phase1, len_unique_bogota3_phase2, len_unique_bogota3_phase3, len_unique_bogota3_phase4, len_unique_bogota3_phase5]   \n",
    "\n",
    "\n",
    "\n",
    "x_axis=['Phase 1', 'Phase 2', 'Phase 3', 'Phase 4', 'Phase 5']\n",
    "\n",
    "line3 = plt.plot(x_axis, y1,'bo-',label='Bogota 0 ( No Transparency )') \n",
    "line4 = plt.plot(x_axis, y2,'go-',label='Bogota 1 ( Performance Transparency )') \n",
    "line1 = plt.plot(x_axis, y3,'ko-',label='Bogota 2 ( Solution Transparency )')\n",
    "line2 = plt.plot(x_axis, y4,'ro-',label='Bogota 3 ( Full Transparency )') \n",
    "\n",
    "plt.title(\"Count of Unique Functions ( 20,000 )\")\n",
    "plt.ylabel(\"Count of Unique Functions ( 20,000 )\")\n",
    "\n",
    "\n",
    "plt.legend(bbox_to_anchor=(1.5, 1),\n",
    "           bbox_transform=plt.gcf().transFigure)"
   ]
  },
  {
   "cell_type": "code",
   "execution_count": null,
   "id": "afd6e9e3",
   "metadata": {},
   "outputs": [],
   "source": [
    "import matplotlib.pyplot as plt\n",
    "\n",
    "# Mean Scores of All Groups [ Tech Scores ]\n",
    "\n",
    "y1 = [ top_5_unique_bogota0_phase1, top_5_unique_bogota0_phase2, top_5_unique_bogota0_phase3, top_5_unique_bogota0_phase4, top_5_unique_bogota0_phase5]\n",
    "y2 = [ top_5_unique_bogota1_phase1, top_5_unique_bogota1_phase2, top_5_unique_bogota1_phase3, top_5_unique_bogota1_phase4, top_5_unique_bogota1_phase5]\n",
    "y3 = [ top_5_unique_bogota2_phase1, top_5_unique_bogota2_phase2, top_5_unique_bogota2_phase3, top_5_unique_bogota2_phase4, top_5_unique_bogota2_phase5]\n",
    "y4 = [ top_5_unique_bogota3_phase1, top_5_unique_bogota3_phase2, top_5_unique_bogota3_phase3, top_5_unique_bogota3_phase4, top_5_unique_bogota3_phase5]\n",
    "\n",
    "\n",
    "\n",
    "x_axis=['Phase 1', 'Phase 2', 'Phase 3', 'Phase 4', 'Phase 5']\n",
    "\n",
    "line3 = plt.plot(x_axis, y1,'bo-',label='Bogota 0 ( No Transparency )') \n",
    "line4 = plt.plot(x_axis, y2,'go-',label='Bogota 1 ( Performance Transparency )') \n",
    "line1 = plt.plot(x_axis, y3,'ko-',label='Bogota 2 ( Solution Transparency )')\n",
    "line2 = plt.plot(x_axis, y4,'ro-',label='Bogota 3 ( Full Transparency )') \n",
    "\n",
    "plt.title(\"Count of Top 5% Least Common Functions\")\n",
    "plt.ylabel(\"Count of Top 5% Least Common Functions\")\n",
    "\n",
    "\n",
    "plt.legend(bbox_to_anchor=(1.5, 1),\n",
    "           bbox_transform=plt.gcf().transFigure)"
   ]
  },
  {
   "cell_type": "code",
   "execution_count": null,
   "id": "584a4d37",
   "metadata": {},
   "outputs": [],
   "source": [
    "import matplotlib.pyplot as plt\n",
    "\n",
    "# Mean Scores of All Groups [ Tech Scores ]\n",
    "\n",
    "y1 = [ top_10_unique_bogota0_phase1, top_10_unique_bogota0_phase2, top_10_unique_bogota0_phase3, top_10_unique_bogota0_phase4, top_10_unique_bogota0_phase5]\n",
    "y2 = [ top_10_unique_bogota1_phase1, top_10_unique_bogota1_phase2, top_10_unique_bogota1_phase3, top_10_unique_bogota1_phase4, top_10_unique_bogota1_phase5]\n",
    "y3 = [ top_10_unique_bogota2_phase1, top_10_unique_bogota2_phase2, top_10_unique_bogota2_phase3, top_10_unique_bogota2_phase4, top_10_unique_bogota2_phase5]\n",
    "y4 = [ top_10_unique_bogota3_phase1, top_10_unique_bogota3_phase2, top_10_unique_bogota3_phase3, top_10_unique_bogota3_phase4, top_10_unique_bogota3_phase5]\n",
    "\n",
    "x_axis=['Phase 1', 'Phase 2', 'Phase 3', 'Phase 4', 'Phase 5']\n",
    "\n",
    "line3 = plt.plot(x_axis, y1,'bo-',label='Bogota 0 ( No Transparency )') \n",
    "line4 = plt.plot(x_axis, y2,'go-',label='Bogota 1 ( Performance Transparency )') \n",
    "line1 = plt.plot(x_axis, y3,'ko-',label='Bogota 2 ( Solution Transparency )')\n",
    "line2 = plt.plot(x_axis, y4,'ro-',label='Bogota 3 ( Full Transparency )') \n",
    "\n",
    "plt.title(\"Count of Top 10% Least Common Functions\")\n",
    "plt.ylabel(\"Count of Top 10% Least Common Functions\")\n",
    "\n",
    "\n",
    "plt.legend(bbox_to_anchor=(1.5, 1),\n",
    "           bbox_transform=plt.gcf().transFigure)"
   ]
  },
  {
   "cell_type": "code",
   "execution_count": null,
   "id": "dcb4a039",
   "metadata": {},
   "outputs": [],
   "source": [
    "import matplotlib.pyplot as plt\n",
    "\n",
    "# Mean Scores of All Groups [ Tech Scores ]\n",
    "\n",
    "y1 = [ top_15_unique_bogota0_phase1, top_15_unique_bogota0_phase2, top_15_unique_bogota0_phase3, top_15_unique_bogota0_phase4, top_15_unique_bogota0_phase5]\n",
    "y2 = [ top_15_unique_bogota1_phase1, top_15_unique_bogota1_phase2, top_15_unique_bogota1_phase3, top_15_unique_bogota1_phase4, top_15_unique_bogota1_phase5]\n",
    "y3 = [ top_15_unique_bogota2_phase1, top_15_unique_bogota2_phase2, top_15_unique_bogota2_phase3, top_15_unique_bogota2_phase4, top_15_unique_bogota2_phase5]\n",
    "y4 = [ top_15_unique_bogota3_phase1, top_15_unique_bogota3_phase2, top_15_unique_bogota3_phase3, top_15_unique_bogota3_phase4, top_15_unique_bogota3_phase5]\n",
    "\n",
    "\n",
    "\n",
    "x_axis=['Phase 1', 'Phase 2', 'Phase 3', 'Phase 4', 'Phase 5']\n",
    "\n",
    "line3 = plt.plot(x_axis, y1,'bo-',label='Bogota 0 ( No Transparency )') \n",
    "line4 = plt.plot(x_axis, y2,'go-',label='Bogota 1 ( Performance Transparency )') \n",
    "line1 = plt.plot(x_axis, y3,'ko-',label='Bogota 2 ( Solution Transparency )')\n",
    "line2 = plt.plot(x_axis, y4,'ro-',label='Bogota 3 ( Full Transparency )') \n",
    "\n",
    "plt.title(\"Count of Top 15% Least Common Functions\")\n",
    "plt.ylabel(\"Count of Top 15% Least Common Functions\")\n",
    "\n",
    "\n",
    "plt.legend(bbox_to_anchor=(1.5, 1),\n",
    "           bbox_transform=plt.gcf().transFigure)"
   ]
  },
  {
   "cell_type": "code",
   "execution_count": null,
   "id": "fe5ad9db",
   "metadata": {},
   "outputs": [],
   "source": [
    "import matplotlib.pyplot as plt\n",
    "\n",
    "# Mean Scores of All Groups [ Tech Scores ]\n",
    "\n",
    "y1 = [ top_20_unique_bogota0_phase1, top_20_unique_bogota0_phase2, top_20_unique_bogota0_phase3, top_20_unique_bogota0_phase4, top_20_unique_bogota0_phase5]\n",
    "y2 = [ top_20_unique_bogota1_phase1, top_20_unique_bogota1_phase2, top_20_unique_bogota1_phase3, top_20_unique_bogota1_phase4, top_20_unique_bogota1_phase5]\n",
    "y3 = [ top_20_unique_bogota2_phase1, top_20_unique_bogota2_phase2, top_20_unique_bogota2_phase3, top_20_unique_bogota2_phase4, top_20_unique_bogota2_phase5]\n",
    "y4 = [ top_20_unique_bogota3_phase1, top_20_unique_bogota3_phase2, top_20_unique_bogota3_phase3, top_20_unique_bogota3_phase4, top_20_unique_bogota3_phase5]\n",
    "\n",
    "x_axis=['Phase 1', 'Phase 2', 'Phase 3', 'Phase 4', 'Phase 5']\n",
    "\n",
    "line3 = plt.plot(x_axis, y1,'bo-',label='Bogota 0 ( No Transparency )') \n",
    "line4 = plt.plot(x_axis, y2,'go-',label='Bogota 1 ( Performance Transparency )') \n",
    "line1 = plt.plot(x_axis, y3,'ko-',label='Bogota 2 ( Solution Transparency )')\n",
    "line2 = plt.plot(x_axis, y4,'ro-',label='Bogota 3 ( Full Transparency )') \n",
    "\n",
    "plt.title(\"Count of Top 20% Least Common Functions\")\n",
    "plt.ylabel(\"Count of Top 20% Least Common Functions\")\n",
    "\n",
    "\n",
    "plt.legend(bbox_to_anchor=(1.5, 1),\n",
    "           bbox_transform=plt.gcf().transFigure)"
   ]
  },
  {
   "cell_type": "markdown",
   "id": "22c0bdf7",
   "metadata": {},
   "source": [
    "## Exploration of Functions Sample"
   ]
  },
  {
   "cell_type": "markdown",
   "id": "91597152",
   "metadata": {},
   "source": [
    "- We find the overlap ( common functions ) between all 4 groups. ( don't worry about phase )\n",
    "\n",
    "- Do the pairwise overlap ( common functions ) between all 4 groups ( don't worry about phase )\n",
    "\n",
    "- Find the template ( tutorials ) "
   ]
  },
  {
   "cell_type": "markdown",
   "id": "ac8a151d",
   "metadata": {},
   "source": [
    "## Pairwise Overlap"
   ]
  },
  {
   "cell_type": "code",
   "execution_count": null,
   "id": "a1e81f02",
   "metadata": {},
   "outputs": [],
   "source": [
    "bogota3 = bogota3_phase5 + bogota3_phase4 + bogota3_phase3 + bogota3_phase2 + bogota3_phase1\n",
    "bogota2 = bogota2_phase5 + bogota2_phase4 + bogota2_phase3 + bogota2_phase2 + bogota2_phase1\n",
    "bogota1 = bogota1_phase5 + bogota1_phase4 + bogota1_phase3 + bogota1_phase2 + bogota1_phase1\n",
    "bogota0 = bogota0_phase5 + bogota0_phase4 + bogota0_phase3 + bogota0_phase2 + bogota0_phase1\n",
    "bogota3 = list(filter(None, bogota3))\n",
    "bogota2 = list(filter(None, bogota2))\n",
    "bogota1 = list(filter(None, bogota1))\n",
    "bogota0 = list(filter(None, bogota0))"
   ]
  },
  {
   "cell_type": "code",
   "execution_count": null,
   "id": "6f0e3b41",
   "metadata": {},
   "outputs": [],
   "source": [
    "from collections import Counter\n",
    "\n",
    "def count_intersections(lst1, lst2):\n",
    "    c1 = Counter(lst1)\n",
    "    c2 = Counter(lst2)\n",
    "    return { k: min(c1[k], c2[k]) for k in c1.keys() & c2.keys() }\n",
    "\n",
    "count_intersections(bogota3, bogota2)"
   ]
  },
  {
   "cell_type": "code",
   "execution_count": null,
   "id": "9edc467e",
   "metadata": {},
   "outputs": [],
   "source": [
    "intersect23 = len(count_intersections(bogota3, bogota2))\n",
    "intersect23"
   ]
  },
  {
   "cell_type": "code",
   "execution_count": null,
   "id": "17d08862",
   "metadata": {},
   "outputs": [],
   "source": [
    "count_intersections(bogota2, bogota1)"
   ]
  },
  {
   "cell_type": "code",
   "execution_count": null,
   "id": "a3a5f71d",
   "metadata": {},
   "outputs": [],
   "source": [
    "intersect12 = len(count_intersections(bogota2, bogota1))\n",
    "intersect12"
   ]
  },
  {
   "cell_type": "code",
   "execution_count": null,
   "id": "811d85fb",
   "metadata": {},
   "outputs": [],
   "source": [
    "count_intersections(bogota1, bogota0)"
   ]
  },
  {
   "cell_type": "code",
   "execution_count": null,
   "id": "8a9fc75b",
   "metadata": {},
   "outputs": [],
   "source": [
    "intersect01 = len(count_intersections(bogota1, bogota0))\n",
    "intersect01"
   ]
  },
  {
   "cell_type": "code",
   "execution_count": null,
   "id": "c346d1b7",
   "metadata": {},
   "outputs": [],
   "source": [
    "count_intersections(bogota3, bogota0)"
   ]
  },
  {
   "cell_type": "code",
   "execution_count": null,
   "id": "54369aca",
   "metadata": {},
   "outputs": [],
   "source": [
    "intersect03 = len(count_intersections(bogota3, bogota0))\n",
    "intersect03"
   ]
  },
  {
   "cell_type": "code",
   "execution_count": null,
   "id": "1ee0c132",
   "metadata": {},
   "outputs": [],
   "source": [
    "count_intersections(bogota1, bogota3)"
   ]
  },
  {
   "cell_type": "code",
   "execution_count": null,
   "id": "76a96a1e",
   "metadata": {},
   "outputs": [],
   "source": [
    "intersect13 = len(count_intersections(bogota1, bogota3))\n",
    "intersect13"
   ]
  },
  {
   "cell_type": "code",
   "execution_count": null,
   "id": "7e7134f0",
   "metadata": {},
   "outputs": [],
   "source": [
    "count_intersections(bogota2, bogota0)"
   ]
  },
  {
   "cell_type": "code",
   "execution_count": null,
   "id": "610684ea",
   "metadata": {},
   "outputs": [],
   "source": [
    "intersect02 = len(count_intersections(bogota2, bogota0))\n",
    "intersect02"
   ]
  },
  {
   "cell_type": "markdown",
   "id": "8b27cc57",
   "metadata": {},
   "source": [
    "## Intersection Between All 4 Groups"
   ]
  },
  {
   "cell_type": "code",
   "execution_count": null,
   "id": "55caa05b",
   "metadata": {},
   "outputs": [],
   "source": [
    "from collections import Counter\n",
    "\n",
    "def count_intersections(lst1, lst2, lst3, lst4):\n",
    "    c1 = Counter(lst1)\n",
    "    c2 = Counter(lst2)\n",
    "    c3 = Counter(lst3)\n",
    "    c4 = Counter(lst4)\n",
    "    return { k: min(c1[k], c2[k], c3[k], c4[k]) for k in c1.keys() & c2.keys() & c3.keys() & c4.keys() }\n",
    "\n",
    "count_intersections(bogota3, bogota2, bogota1, bogota0)"
   ]
  },
  {
   "cell_type": "code",
   "execution_count": null,
   "id": "b1c3d8db",
   "metadata": {},
   "outputs": [],
   "source": [
    "intersect0123 = len(count_intersections(bogota3, bogota2, bogota1, bogota0))\n",
    "intersect0123"
   ]
  },
  {
   "cell_type": "code",
   "execution_count": null,
   "id": "99d72060",
   "metadata": {},
   "outputs": [],
   "source": [
    "from collections import Counter\n",
    "\n",
    "def count_intersections(lst1, lst2, lst3):\n",
    "    c1 = Counter(lst1)\n",
    "    c2 = Counter(lst2)\n",
    "    c3 = Counter(lst3)\n",
    "   \n",
    "    return { k: min(c1[k], c2[k], c3[k]) for k in c1.keys() & c2.keys() & c3.keys()}\n",
    "\n",
    "count_intersections(bogota2, bogota1, bogota0)"
   ]
  },
  {
   "cell_type": "code",
   "execution_count": null,
   "id": "ef605a50",
   "metadata": {},
   "outputs": [],
   "source": [
    "intersect012 = len(count_intersections(bogota2, bogota1, bogota0))\n",
    "intersect012"
   ]
  },
  {
   "cell_type": "markdown",
   "id": "dc576da8",
   "metadata": {},
   "source": [
    "## Total Count of Functions For Each Group"
   ]
  },
  {
   "cell_type": "code",
   "execution_count": null,
   "id": "1d124954",
   "metadata": {},
   "outputs": [],
   "source": [
    "total_count_functions_bogota0 = len(bogota0)\n",
    "total_count_functions_bogota0"
   ]
  },
  {
   "cell_type": "code",
   "execution_count": null,
   "id": "e3a912ed",
   "metadata": {},
   "outputs": [],
   "source": [
    "total_count_functions_bogota1 = len(bogota1)\n",
    "total_count_functions_bogota1"
   ]
  },
  {
   "cell_type": "code",
   "execution_count": null,
   "id": "9459cf49",
   "metadata": {},
   "outputs": [],
   "source": [
    "total_count_functions_bogota2 = len(bogota2)\n",
    "total_count_functions_bogota2"
   ]
  },
  {
   "cell_type": "code",
   "execution_count": null,
   "id": "4945f624",
   "metadata": {},
   "outputs": [],
   "source": [
    "total_count_functions_bogota3 = len(bogota3)\n",
    "total_count_functions_bogota3"
   ]
  },
  {
   "cell_type": "code",
   "execution_count": null,
   "id": "be4ec014",
   "metadata": {},
   "outputs": [],
   "source": [
    "df = pd.DataFrame({'Group':['None', 'Performance', 'Solution', \n",
    "                           'Full'], 'count':[total_count_functions_bogota0, total_count_functions_bogota1, \n",
    "                                                       total_count_functions_bogota2, total_count_functions_bogota3]})\n",
    "ax = df.plot.bar(x='Group', y='count', rot=0)"
   ]
  },
  {
   "cell_type": "markdown",
   "id": "e19c6c93",
   "metadata": {},
   "source": [
    "## Total Unique Functions For Each Group"
   ]
  },
  {
   "cell_type": "code",
   "execution_count": null,
   "id": "e9acad76",
   "metadata": {},
   "outputs": [],
   "source": [
    "remove_duplicates = list(set(bogota3))\n",
    "remove_all_duplicates = list(filter(None, remove_duplicates))\n",
    "total_unique_functions_bogota3 = len(remove_all_duplicates)\n",
    "total_unique_functions_bogota3"
   ]
  },
  {
   "cell_type": "code",
   "execution_count": null,
   "id": "d70710f1",
   "metadata": {},
   "outputs": [],
   "source": [
    "remove_duplicates = list(set(bogota2))\n",
    "remove_all_duplicates = list(filter(None, remove_duplicates))\n",
    "total_unique_functions_bogota2 = len(remove_all_duplicates)\n",
    "total_unique_functions_bogota2"
   ]
  },
  {
   "cell_type": "code",
   "execution_count": null,
   "id": "6db41d0b",
   "metadata": {},
   "outputs": [],
   "source": [
    "remove_duplicates = list(set(bogota1))\n",
    "remove_all_duplicates = list(filter(None, remove_duplicates))\n",
    "total_unique_functions_bogota1 = len(remove_all_duplicates)\n",
    "total_unique_functions_bogota1"
   ]
  },
  {
   "cell_type": "code",
   "execution_count": null,
   "id": "d6eca40b",
   "metadata": {},
   "outputs": [],
   "source": [
    "remove_duplicates = list(set(bogota0))\n",
    "remove_all_duplicates = list(filter(None, remove_duplicates))\n",
    "total_unique_functions_bogota0 = len(remove_all_duplicates)\n",
    "total_unique_functions_bogota0"
   ]
  },
  {
   "cell_type": "code",
   "execution_count": null,
   "id": "67b618f4",
   "metadata": {},
   "outputs": [],
   "source": [
    "df = pd.DataFrame({'Group':['None', 'Performance', 'Solution', \n",
    "                           'Full'], 'count':[total_unique_functions_bogota0, total_unique_functions_bogota1, \n",
    "                                                       total_unique_functions_bogota2, total_unique_functions_bogota3]})\n",
    "ax = df.plot.bar(x='Group', y='count', rot=0)"
   ]
  },
  {
   "cell_type": "markdown",
   "id": "602b8dd7",
   "metadata": {},
   "source": [
    "## Studying the Overlap of No Transparency Case with All Others"
   ]
  },
  {
   "cell_type": "code",
   "execution_count": null,
   "id": "cc2177cd",
   "metadata": {},
   "outputs": [],
   "source": [
    "( intersect01 / total_unique_functions_bogota0 ) * 100 "
   ]
  },
  {
   "cell_type": "code",
   "execution_count": null,
   "id": "c41ada6f",
   "metadata": {},
   "outputs": [],
   "source": [
    "# library\n",
    "import matplotlib.pyplot as plt\n",
    "from matplotlib_venn import venn2\n",
    " \n",
    "# First way to call the 2 group Venn diagram:\n",
    "venn2(subsets = (total_unique_functions_bogota0, total_unique_functions_bogota1, intersect01), set_labels = ('No Transparency', 'Performance Transparency'))\n",
    "plt.show()"
   ]
  },
  {
   "cell_type": "code",
   "execution_count": null,
   "id": "e959c245",
   "metadata": {},
   "outputs": [],
   "source": [
    "( intersect01 / total_unique_functions_bogota1 ) * 100 "
   ]
  },
  {
   "cell_type": "code",
   "execution_count": null,
   "id": "575a8b00",
   "metadata": {},
   "outputs": [],
   "source": [
    "( intersect02 / total_unique_functions_bogota0 ) * 100 "
   ]
  },
  {
   "cell_type": "code",
   "execution_count": null,
   "id": "c72d49b9",
   "metadata": {},
   "outputs": [],
   "source": [
    "# library\n",
    "import matplotlib.pyplot as plt\n",
    "from matplotlib_venn import venn2\n",
    " \n",
    "# First way to call the 2 group Venn diagram:\n",
    "venn2(subsets = (total_unique_functions_bogota0, total_unique_functions_bogota2, intersect02), set_labels = ('No Transparency', 'Solution Transparency'))\n",
    "plt.show()"
   ]
  },
  {
   "cell_type": "code",
   "execution_count": null,
   "id": "b8300abc",
   "metadata": {},
   "outputs": [],
   "source": [
    "( intersect02 / total_unique_functions_bogota2 ) * 100 "
   ]
  },
  {
   "cell_type": "code",
   "execution_count": null,
   "id": "d946f15a",
   "metadata": {},
   "outputs": [],
   "source": [
    "( intersect03 / total_unique_functions_bogota0 ) * 100 "
   ]
  },
  {
   "cell_type": "code",
   "execution_count": null,
   "id": "508a3d8e",
   "metadata": {},
   "outputs": [],
   "source": [
    "# library\n",
    "import matplotlib.pyplot as plt\n",
    "from matplotlib_venn import venn2\n",
    " \n",
    "# First way to call the 2 group Venn diagram:\n",
    "venn2(subsets = (total_unique_functions_bogota0, total_unique_functions_bogota3, intersect03), set_labels = ('No Transparency', 'Full Transparency'))\n",
    "plt.show()"
   ]
  },
  {
   "cell_type": "code",
   "execution_count": null,
   "id": "9c65b32c",
   "metadata": {},
   "outputs": [],
   "source": [
    "( intersect03 / total_unique_functions_bogota3 ) * 100 "
   ]
  },
  {
   "cell_type": "markdown",
   "id": "f61e4d53",
   "metadata": {},
   "source": [
    "## Studying the Overlap of Performance Transparency with All Others"
   ]
  },
  {
   "cell_type": "code",
   "execution_count": null,
   "id": "1dfb85f3",
   "metadata": {},
   "outputs": [],
   "source": [
    "( intersect12 / total_unique_functions_bogota1 ) * 100 "
   ]
  },
  {
   "cell_type": "code",
   "execution_count": null,
   "id": "2c29fa6d",
   "metadata": {},
   "outputs": [],
   "source": [
    "( intersect12 / total_unique_functions_bogota2 ) * 100 "
   ]
  },
  {
   "cell_type": "code",
   "execution_count": null,
   "id": "69628d35",
   "metadata": {},
   "outputs": [],
   "source": [
    "# library\n",
    "import matplotlib.pyplot as plt\n",
    "from matplotlib_venn import venn2\n",
    " \n",
    "# First way to call the 2 group Venn diagram:\n",
    "venn2(subsets = (total_unique_functions_bogota1, total_unique_functions_bogota2, intersect12), set_labels = ('Performance Transparency', 'Solution Transparency'))\n",
    "plt.show()"
   ]
  },
  {
   "cell_type": "code",
   "execution_count": null,
   "id": "52e1dde4",
   "metadata": {},
   "outputs": [],
   "source": [
    "( intersect13 / total_unique_functions_bogota1 ) * 100 "
   ]
  },
  {
   "cell_type": "code",
   "execution_count": null,
   "id": "99da068e",
   "metadata": {},
   "outputs": [],
   "source": [
    "# library\n",
    "import matplotlib.pyplot as plt\n",
    "from matplotlib_venn import venn2\n",
    " \n",
    "# First way to call the 2 group Venn diagram:\n",
    "venn2(subsets = (total_unique_functions_bogota1, total_unique_functions_bogota3, intersect13), set_labels = ('Performance Transparency', 'Full Transparency'))\n",
    "plt.show()"
   ]
  },
  {
   "cell_type": "code",
   "execution_count": null,
   "id": "49fd6085",
   "metadata": {},
   "outputs": [],
   "source": [
    "( intersect13 / total_unique_functions_bogota3 ) * 100 "
   ]
  },
  {
   "cell_type": "markdown",
   "id": "9f18637e",
   "metadata": {},
   "source": [
    "## Studying the Overlap of Solution Transparency with All Others"
   ]
  },
  {
   "cell_type": "code",
   "execution_count": null,
   "id": "f1631340",
   "metadata": {},
   "outputs": [],
   "source": [
    "( intersect23 / total_unique_functions_bogota2 ) * 100 "
   ]
  },
  {
   "cell_type": "code",
   "execution_count": null,
   "id": "88d6f130",
   "metadata": {},
   "outputs": [],
   "source": [
    "# library\n",
    "import matplotlib.pyplot as plt\n",
    "from matplotlib_venn import venn2\n",
    " \n",
    "# First way to call the 2 group Venn diagram:\n",
    "venn2(subsets = (total_unique_functions_bogota2, total_unique_functions_bogota3, intersect23), set_labels = ('Solution Transparency', 'Full Transparency'))\n",
    "plt.show()"
   ]
  },
  {
   "cell_type": "code",
   "execution_count": null,
   "id": "1415a2ee",
   "metadata": {},
   "outputs": [],
   "source": [
    "( intersect23 / total_unique_functions_bogota3 ) * 100 "
   ]
  },
  {
   "cell_type": "markdown",
   "id": "ec6e504c",
   "metadata": {},
   "source": [
    "## Percentage Global Functions Context "
   ]
  },
  {
   "cell_type": "code",
   "execution_count": null,
   "id": "887421aa",
   "metadata": {},
   "outputs": [],
   "source": [
    "( total_unique_functions_bogota0 / total_unique_functions_global) * 100 "
   ]
  },
  {
   "cell_type": "code",
   "execution_count": null,
   "id": "72178bb4",
   "metadata": {},
   "outputs": [],
   "source": [
    "( total_unique_functions_bogota1 / total_unique_functions_global) * 100 "
   ]
  },
  {
   "cell_type": "code",
   "execution_count": null,
   "id": "1eda07ba",
   "metadata": {},
   "outputs": [],
   "source": [
    "( total_unique_functions_bogota2 / total_unique_functions_global) * 100 "
   ]
  },
  {
   "cell_type": "code",
   "execution_count": null,
   "id": "3c1fdb55",
   "metadata": {},
   "outputs": [],
   "source": [
    "( total_unique_functions_bogota3 / total_unique_functions_global) * 100 "
   ]
  },
  {
   "cell_type": "markdown",
   "id": "1ad8fc44",
   "metadata": {},
   "source": [
    "## Investigating Outliers in  Length of Unique Functions ( Non-Repetitive Functions)"
   ]
  },
  {
   "cell_type": "code",
   "execution_count": null,
   "id": "d3eda0f9",
   "metadata": {},
   "outputs": [],
   "source": [
    "overall_phase1[overall_phase1['len_unique'] > 100]"
   ]
  },
  {
   "cell_type": "code",
   "execution_count": null,
   "id": "9ea393c0",
   "metadata": {},
   "outputs": [],
   "source": [
    "overall_phase2[overall_phase2['len_unique'] > 100]"
   ]
  },
  {
   "cell_type": "code",
   "execution_count": null,
   "id": "a0f97b00",
   "metadata": {},
   "outputs": [],
   "source": [
    "overall_phase3[overall_phase3['len_unique'] > 100]"
   ]
  },
  {
   "cell_type": "code",
   "execution_count": null,
   "id": "e0c45371",
   "metadata": {},
   "outputs": [],
   "source": [
    "overall_phase4[overall_phase4['len_unique'] > 100]"
   ]
  },
  {
   "cell_type": "code",
   "execution_count": null,
   "id": "0542a9f8",
   "metadata": {},
   "outputs": [],
   "source": [
    "overall_phase5[overall_phase5['len_unique'] > 100]"
   ]
  },
  {
   "cell_type": "code",
   "execution_count": null,
   "id": "49a68429",
   "metadata": {},
   "outputs": [],
   "source": [
    "%store overall_phase1\n",
    "%store overall_phase2\n",
    "%store overall_phase3\n",
    "%store overall_phase4\n",
    "%store overall_phase5\n",
    "%store df_all\n",
    "%store subset_bogota0_phase1\n",
    "%store subset_bogota0_phase2\n",
    "%store subset_bogota0_phase3\n",
    "%store subset_bogota0_phase4\n",
    "%store subset_bogota0_phase5\n",
    "%store subset_bogota1_phase1\n",
    "%store subset_bogota1_phase2\n",
    "%store subset_bogota1_phase3\n",
    "%store subset_bogota1_phase4\n",
    "%store subset_bogota1_phase5\n",
    "%store subset_bogota2_phase1\n",
    "%store subset_bogota2_phase2\n",
    "%store subset_bogota2_phase3\n",
    "%store subset_bogota2_phase4\n",
    "%store subset_bogota2_phase5\n",
    "%store subset_bogota3_phase1\n",
    "%store overall_phase2_bogota3\n",
    "%store overall_phase3_bogota3\n",
    "%store overall_phase4_bogota3\n",
    "%store overall_phase5_bogota3"
   ]
  },
  {
   "cell_type": "code",
   "execution_count": null,
   "id": "dd966cb1",
   "metadata": {},
   "outputs": [],
   "source": []
  },
  {
   "cell_type": "code",
   "execution_count": null,
   "id": "0623186d",
   "metadata": {},
   "outputs": [],
   "source": []
  },
  {
   "cell_type": "code",
   "execution_count": null,
   "id": "a781501d",
   "metadata": {},
   "outputs": [],
   "source": []
  }
 ],
 "metadata": {
  "kernelspec": {
   "display_name": "Python 3 (ipykernel)",
   "language": "python",
   "name": "python3"
  },
  "language_info": {
   "codemirror_mode": {
    "name": "ipython",
    "version": 3
   },
   "file_extension": ".py",
   "mimetype": "text/x-python",
   "name": "python",
   "nbconvert_exporter": "python",
   "pygments_lexer": "ipython3",
   "version": "3.9.7"
  }
 },
 "nbformat": 4,
 "nbformat_minor": 5
}
