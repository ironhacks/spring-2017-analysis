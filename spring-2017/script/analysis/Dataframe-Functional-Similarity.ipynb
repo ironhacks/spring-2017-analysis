{
 "cells": [
  {
   "cell_type": "markdown",
   "id": "e4428fd5",
   "metadata": {},
   "source": [
    "# Functional Similarity"
   ]
  },
  {
   "cell_type": "code",
   "execution_count": 1,
   "id": "03c6b36a",
   "metadata": {},
   "outputs": [],
   "source": [
    "# retrive variables stored in other Jupyter notebooks\n",
    "\n",
    "%store -r overall_loc_scores_final\n",
    "%store -r overall_loc_scores"
   ]
  },
  {
   "cell_type": "code",
   "execution_count": 2,
   "id": "a3b08d6f",
   "metadata": {},
   "outputs": [
    {
     "data": {
      "text/html": [
       "<div>\n",
       "<style scoped>\n",
       "    .dataframe tbody tr th:only-of-type {\n",
       "        vertical-align: middle;\n",
       "    }\n",
       "\n",
       "    .dataframe tbody tr th {\n",
       "        vertical-align: top;\n",
       "    }\n",
       "\n",
       "    .dataframe thead th {\n",
       "        text-align: right;\n",
       "    }\n",
       "</style>\n",
       "<table border=\"1\" class=\"dataframe\">\n",
       "  <thead>\n",
       "    <tr style=\"text-align: right;\">\n",
       "      <th></th>\n",
       "      <th>Student</th>\n",
       "      <th>Group</th>\n",
       "      <th>user-requirement-phase5</th>\n",
       "      <th>infovis-phase5</th>\n",
       "      <th>novelty-phase5</th>\n",
       "      <th>total-phase5</th>\n",
       "      <th>tech-phase5</th>\n",
       "      <th>tech-phase4</th>\n",
       "      <th>user-requirement-phase4</th>\n",
       "      <th>infovis-phase4</th>\n",
       "      <th>...</th>\n",
       "      <th>improve-effort-23</th>\n",
       "      <th>improve-effort-34</th>\n",
       "      <th>improve-effort-45</th>\n",
       "      <th>improve-effort-15</th>\n",
       "      <th>improve-effort-25</th>\n",
       "      <th>d3-effort-12</th>\n",
       "      <th>d3-effort-23</th>\n",
       "      <th>d3-effort-34</th>\n",
       "      <th>d3-effort-45</th>\n",
       "      <th>d3-effort-15</th>\n",
       "    </tr>\n",
       "  </thead>\n",
       "  <tbody>\n",
       "    <tr>\n",
       "      <th>0</th>\n",
       "      <td>fffeelipe</td>\n",
       "      <td>0.0</td>\n",
       "      <td>20.0</td>\n",
       "      <td>29.17</td>\n",
       "      <td>50.00</td>\n",
       "      <td>199.17</td>\n",
       "      <td>100.0</td>\n",
       "      <td>100.0</td>\n",
       "      <td>20.0</td>\n",
       "      <td>29.17</td>\n",
       "      <td>...</td>\n",
       "      <td>0.0</td>\n",
       "      <td>-14.0</td>\n",
       "      <td>-6.0</td>\n",
       "      <td>-32.5</td>\n",
       "      <td>0.0</td>\n",
       "      <td>0.0</td>\n",
       "      <td>0.0</td>\n",
       "      <td>0.0</td>\n",
       "      <td>0.0</td>\n",
       "      <td>0.0</td>\n",
       "    </tr>\n",
       "    <tr>\n",
       "      <th>1</th>\n",
       "      <td>mnguzmanc</td>\n",
       "      <td>0.0</td>\n",
       "      <td>60.0</td>\n",
       "      <td>75.00</td>\n",
       "      <td>67.50</td>\n",
       "      <td>290.00</td>\n",
       "      <td>87.5</td>\n",
       "      <td>87.5</td>\n",
       "      <td>20.0</td>\n",
       "      <td>37.50</td>\n",
       "      <td>...</td>\n",
       "      <td>-16.5</td>\n",
       "      <td>45.5</td>\n",
       "      <td>13.0</td>\n",
       "      <td>-29.0</td>\n",
       "      <td>-21.0</td>\n",
       "      <td>0.0</td>\n",
       "      <td>0.0</td>\n",
       "      <td>0.0</td>\n",
       "      <td>0.0</td>\n",
       "      <td>0.0</td>\n",
       "    </tr>\n",
       "    <tr>\n",
       "      <th>2</th>\n",
       "      <td>jmcuestasb</td>\n",
       "      <td>0.0</td>\n",
       "      <td>100.0</td>\n",
       "      <td>54.17</td>\n",
       "      <td>25.00</td>\n",
       "      <td>254.17</td>\n",
       "      <td>75.0</td>\n",
       "      <td>62.5</td>\n",
       "      <td>100.0</td>\n",
       "      <td>58.33</td>\n",
       "      <td>...</td>\n",
       "      <td>1.5</td>\n",
       "      <td>9.0</td>\n",
       "      <td>-4.0</td>\n",
       "      <td>7.0</td>\n",
       "      <td>-12.0</td>\n",
       "      <td>0.0</td>\n",
       "      <td>0.0</td>\n",
       "      <td>0.0</td>\n",
       "      <td>0.0</td>\n",
       "      <td>0.0</td>\n",
       "    </tr>\n",
       "    <tr>\n",
       "      <th>3</th>\n",
       "      <td>katherinsb</td>\n",
       "      <td>0.0</td>\n",
       "      <td>20.0</td>\n",
       "      <td>37.50</td>\n",
       "      <td>16.67</td>\n",
       "      <td>136.67</td>\n",
       "      <td>62.5</td>\n",
       "      <td>37.5</td>\n",
       "      <td>20.0</td>\n",
       "      <td>45.83</td>\n",
       "      <td>...</td>\n",
       "      <td>0.0</td>\n",
       "      <td>0.0</td>\n",
       "      <td>73.5</td>\n",
       "      <td>0.0</td>\n",
       "      <td>0.0</td>\n",
       "      <td>0.0</td>\n",
       "      <td>0.0</td>\n",
       "      <td>0.0</td>\n",
       "      <td>0.0</td>\n",
       "      <td>0.0</td>\n",
       "    </tr>\n",
       "    <tr>\n",
       "      <th>4</th>\n",
       "      <td>jjrodriguezn</td>\n",
       "      <td>0.0</td>\n",
       "      <td>60.0</td>\n",
       "      <td>58.33</td>\n",
       "      <td>87.50</td>\n",
       "      <td>255.83</td>\n",
       "      <td>50.0</td>\n",
       "      <td>37.5</td>\n",
       "      <td>40.0</td>\n",
       "      <td>54.17</td>\n",
       "      <td>...</td>\n",
       "      <td>8.0</td>\n",
       "      <td>60.5</td>\n",
       "      <td>0.5</td>\n",
       "      <td>0.0</td>\n",
       "      <td>34.5</td>\n",
       "      <td>0.0</td>\n",
       "      <td>0.0</td>\n",
       "      <td>0.0</td>\n",
       "      <td>0.0</td>\n",
       "      <td>0.0</td>\n",
       "    </tr>\n",
       "    <tr>\n",
       "      <th>...</th>\n",
       "      <td>...</td>\n",
       "      <td>...</td>\n",
       "      <td>...</td>\n",
       "      <td>...</td>\n",
       "      <td>...</td>\n",
       "      <td>...</td>\n",
       "      <td>...</td>\n",
       "      <td>...</td>\n",
       "      <td>...</td>\n",
       "      <td>...</td>\n",
       "      <td>...</td>\n",
       "      <td>...</td>\n",
       "      <td>...</td>\n",
       "      <td>...</td>\n",
       "      <td>...</td>\n",
       "      <td>...</td>\n",
       "      <td>...</td>\n",
       "      <td>...</td>\n",
       "      <td>...</td>\n",
       "      <td>...</td>\n",
       "      <td>...</td>\n",
       "    </tr>\n",
       "    <tr>\n",
       "      <th>163</th>\n",
       "      <td>JhonEmmanuelTorres</td>\n",
       "      <td>3.0</td>\n",
       "      <td>0.0</td>\n",
       "      <td>0.00</td>\n",
       "      <td>0.00</td>\n",
       "      <td>0.00</td>\n",
       "      <td>0.0</td>\n",
       "      <td>0.0</td>\n",
       "      <td>0.0</td>\n",
       "      <td>0.00</td>\n",
       "      <td>...</td>\n",
       "      <td>0.0</td>\n",
       "      <td>0.0</td>\n",
       "      <td>0.0</td>\n",
       "      <td>0.0</td>\n",
       "      <td>0.0</td>\n",
       "      <td>0.0</td>\n",
       "      <td>0.0</td>\n",
       "      <td>0.0</td>\n",
       "      <td>0.0</td>\n",
       "      <td>0.0</td>\n",
       "    </tr>\n",
       "    <tr>\n",
       "      <th>164</th>\n",
       "      <td>janoguerab</td>\n",
       "      <td>0.0</td>\n",
       "      <td>0.0</td>\n",
       "      <td>0.00</td>\n",
       "      <td>0.00</td>\n",
       "      <td>0.00</td>\n",
       "      <td>0.0</td>\n",
       "      <td>0.0</td>\n",
       "      <td>0.0</td>\n",
       "      <td>0.00</td>\n",
       "      <td>...</td>\n",
       "      <td>0.0</td>\n",
       "      <td>0.0</td>\n",
       "      <td>0.0</td>\n",
       "      <td>0.0</td>\n",
       "      <td>0.0</td>\n",
       "      <td>0.0</td>\n",
       "      <td>0.0</td>\n",
       "      <td>0.0</td>\n",
       "      <td>0.0</td>\n",
       "      <td>0.0</td>\n",
       "    </tr>\n",
       "    <tr>\n",
       "      <th>165</th>\n",
       "      <td>djsanabriac</td>\n",
       "      <td>0.0</td>\n",
       "      <td>0.0</td>\n",
       "      <td>0.00</td>\n",
       "      <td>0.00</td>\n",
       "      <td>0.00</td>\n",
       "      <td>0.0</td>\n",
       "      <td>0.0</td>\n",
       "      <td>0.0</td>\n",
       "      <td>0.00</td>\n",
       "      <td>...</td>\n",
       "      <td>0.0</td>\n",
       "      <td>0.0</td>\n",
       "      <td>0.0</td>\n",
       "      <td>0.0</td>\n",
       "      <td>0.0</td>\n",
       "      <td>0.0</td>\n",
       "      <td>0.0</td>\n",
       "      <td>0.0</td>\n",
       "      <td>0.0</td>\n",
       "      <td>0.0</td>\n",
       "    </tr>\n",
       "    <tr>\n",
       "      <th>166</th>\n",
       "      <td>anmmunozme</td>\n",
       "      <td>0.0</td>\n",
       "      <td>0.0</td>\n",
       "      <td>0.00</td>\n",
       "      <td>0.00</td>\n",
       "      <td>0.00</td>\n",
       "      <td>0.0</td>\n",
       "      <td>0.0</td>\n",
       "      <td>0.0</td>\n",
       "      <td>0.00</td>\n",
       "      <td>...</td>\n",
       "      <td>0.0</td>\n",
       "      <td>0.0</td>\n",
       "      <td>0.0</td>\n",
       "      <td>0.0</td>\n",
       "      <td>0.0</td>\n",
       "      <td>0.0</td>\n",
       "      <td>0.0</td>\n",
       "      <td>0.0</td>\n",
       "      <td>0.0</td>\n",
       "      <td>0.0</td>\n",
       "    </tr>\n",
       "    <tr>\n",
       "      <th>167</th>\n",
       "      <td>li2266</td>\n",
       "      <td>0.0</td>\n",
       "      <td>0.0</td>\n",
       "      <td>0.00</td>\n",
       "      <td>0.00</td>\n",
       "      <td>0.00</td>\n",
       "      <td>0.0</td>\n",
       "      <td>0.0</td>\n",
       "      <td>0.0</td>\n",
       "      <td>0.00</td>\n",
       "      <td>...</td>\n",
       "      <td>0.0</td>\n",
       "      <td>0.0</td>\n",
       "      <td>0.0</td>\n",
       "      <td>0.0</td>\n",
       "      <td>0.0</td>\n",
       "      <td>0.0</td>\n",
       "      <td>0.0</td>\n",
       "      <td>0.0</td>\n",
       "      <td>0.0</td>\n",
       "      <td>0.0</td>\n",
       "    </tr>\n",
       "  </tbody>\n",
       "</table>\n",
       "<p>168 rows × 140 columns</p>\n",
       "</div>"
      ],
      "text/plain": [
       "                Student  Group  user-requirement-phase5  infovis-phase5  \\\n",
       "0             fffeelipe    0.0                     20.0           29.17   \n",
       "1             mnguzmanc    0.0                     60.0           75.00   \n",
       "2            jmcuestasb    0.0                    100.0           54.17   \n",
       "3            katherinsb    0.0                     20.0           37.50   \n",
       "4          jjrodriguezn    0.0                     60.0           58.33   \n",
       "..                  ...    ...                      ...             ...   \n",
       "163  JhonEmmanuelTorres    3.0                      0.0            0.00   \n",
       "164          janoguerab    0.0                      0.0            0.00   \n",
       "165         djsanabriac    0.0                      0.0            0.00   \n",
       "166          anmmunozme    0.0                      0.0            0.00   \n",
       "167              li2266    0.0                      0.0            0.00   \n",
       "\n",
       "     novelty-phase5  total-phase5  tech-phase5  tech-phase4  \\\n",
       "0             50.00        199.17        100.0        100.0   \n",
       "1             67.50        290.00         87.5         87.5   \n",
       "2             25.00        254.17         75.0         62.5   \n",
       "3             16.67        136.67         62.5         37.5   \n",
       "4             87.50        255.83         50.0         37.5   \n",
       "..              ...           ...          ...          ...   \n",
       "163            0.00          0.00          0.0          0.0   \n",
       "164            0.00          0.00          0.0          0.0   \n",
       "165            0.00          0.00          0.0          0.0   \n",
       "166            0.00          0.00          0.0          0.0   \n",
       "167            0.00          0.00          0.0          0.0   \n",
       "\n",
       "     user-requirement-phase4  infovis-phase4  ...  improve-effort-23  \\\n",
       "0                       20.0           29.17  ...                0.0   \n",
       "1                       20.0           37.50  ...              -16.5   \n",
       "2                      100.0           58.33  ...                1.5   \n",
       "3                       20.0           45.83  ...                0.0   \n",
       "4                       40.0           54.17  ...                8.0   \n",
       "..                       ...             ...  ...                ...   \n",
       "163                      0.0            0.00  ...                0.0   \n",
       "164                      0.0            0.00  ...                0.0   \n",
       "165                      0.0            0.00  ...                0.0   \n",
       "166                      0.0            0.00  ...                0.0   \n",
       "167                      0.0            0.00  ...                0.0   \n",
       "\n",
       "     improve-effort-34  improve-effort-45  improve-effort-15  \\\n",
       "0                -14.0               -6.0              -32.5   \n",
       "1                 45.5               13.0              -29.0   \n",
       "2                  9.0               -4.0                7.0   \n",
       "3                  0.0               73.5                0.0   \n",
       "4                 60.5                0.5                0.0   \n",
       "..                 ...                ...                ...   \n",
       "163                0.0                0.0                0.0   \n",
       "164                0.0                0.0                0.0   \n",
       "165                0.0                0.0                0.0   \n",
       "166                0.0                0.0                0.0   \n",
       "167                0.0                0.0                0.0   \n",
       "\n",
       "     improve-effort-25  d3-effort-12  d3-effort-23  d3-effort-34  \\\n",
       "0                  0.0           0.0           0.0           0.0   \n",
       "1                -21.0           0.0           0.0           0.0   \n",
       "2                -12.0           0.0           0.0           0.0   \n",
       "3                  0.0           0.0           0.0           0.0   \n",
       "4                 34.5           0.0           0.0           0.0   \n",
       "..                 ...           ...           ...           ...   \n",
       "163                0.0           0.0           0.0           0.0   \n",
       "164                0.0           0.0           0.0           0.0   \n",
       "165                0.0           0.0           0.0           0.0   \n",
       "166                0.0           0.0           0.0           0.0   \n",
       "167                0.0           0.0           0.0           0.0   \n",
       "\n",
       "     d3-effort-45  d3-effort-15  \n",
       "0             0.0           0.0  \n",
       "1             0.0           0.0  \n",
       "2             0.0           0.0  \n",
       "3             0.0           0.0  \n",
       "4             0.0           0.0  \n",
       "..            ...           ...  \n",
       "163           0.0           0.0  \n",
       "164           0.0           0.0  \n",
       "165           0.0           0.0  \n",
       "166           0.0           0.0  \n",
       "167           0.0           0.0  \n",
       "\n",
       "[168 rows x 140 columns]"
      ]
     },
     "execution_count": 2,
     "metadata": {},
     "output_type": "execute_result"
    }
   ],
   "source": [
    "overall_loc_scores_final"
   ]
  },
  {
   "cell_type": "code",
   "execution_count": 3,
   "id": "6afadd5a",
   "metadata": {},
   "outputs": [
    {
     "data": {
      "text/html": [
       "<div>\n",
       "<style scoped>\n",
       "    .dataframe tbody tr th:only-of-type {\n",
       "        vertical-align: middle;\n",
       "    }\n",
       "\n",
       "    .dataframe tbody tr th {\n",
       "        vertical-align: top;\n",
       "    }\n",
       "\n",
       "    .dataframe thead th {\n",
       "        text-align: right;\n",
       "    }\n",
       "</style>\n",
       "<table border=\"1\" class=\"dataframe\">\n",
       "  <thead>\n",
       "    <tr style=\"text-align: right;\">\n",
       "      <th></th>\n",
       "      <th>functions</th>\n",
       "    </tr>\n",
       "  </thead>\n",
       "  <tbody>\n",
       "    <tr>\n",
       "      <th>0</th>\n",
       "      <td>document.getElementById,google.maps.Map,google...</td>\n",
       "    </tr>\n",
       "    <tr>\n",
       "      <th>1</th>\n",
       "      <td>favicon.ico,bootstrap.min.js,.min.js,applicati...</td>\n",
       "    </tr>\n",
       "    <tr>\n",
       "      <th>2</th>\n",
       "      <td>bootstrap.min.css,style.css,jquery.min.js,boot...</td>\n",
       "    </tr>\n",
       "    <tr>\n",
       "      <th>3</th>\n",
       "      <td>eslint.org,module.exports,RULES.md,.vue,proces...</td>\n",
       "    </tr>\n",
       "    <tr>\n",
       "      <th>4</th>\n",
       "      <td>bootstrap.min.css,uic.edu,.js,bootstrap.min.js...</td>\n",
       "    </tr>\n",
       "    <tr>\n",
       "      <th>...</th>\n",
       "      <td>...</td>\n",
       "    </tr>\n",
       "    <tr>\n",
       "      <th>160</th>\n",
       "      <td>bootstrap.min.css,theme.min.css,aos.css,conten...</td>\n",
       "    </tr>\n",
       "    <tr>\n",
       "      <th>161</th>\n",
       "      <td>semantic.min.css,styles.css,.min.js,jquery.min...</td>\n",
       "    </tr>\n",
       "    <tr>\n",
       "      <th>162</th>\n",
       "      <td>tiry.cloudfront.net,foundation.min.css,chicago...</td>\n",
       "    </tr>\n",
       "    <tr>\n",
       "      <th>163</th>\n",
       "      <td></td>\n",
       "    </tr>\n",
       "    <tr>\n",
       "      <th>164</th>\n",
       "      <td></td>\n",
       "    </tr>\n",
       "  </tbody>\n",
       "</table>\n",
       "<p>165 rows × 1 columns</p>\n",
       "</div>"
      ],
      "text/plain": [
       "                                             functions\n",
       "0    document.getElementById,google.maps.Map,google...\n",
       "1    favicon.ico,bootstrap.min.js,.min.js,applicati...\n",
       "2    bootstrap.min.css,style.css,jquery.min.js,boot...\n",
       "3    eslint.org,module.exports,RULES.md,.vue,proces...\n",
       "4    bootstrap.min.css,uic.edu,.js,bootstrap.min.js...\n",
       "..                                                 ...\n",
       "160  bootstrap.min.css,theme.min.css,aos.css,conten...\n",
       "161  semantic.min.css,styles.css,.min.js,jquery.min...\n",
       "162  tiry.cloudfront.net,foundation.min.css,chicago...\n",
       "163                                                   \n",
       "164                                                   \n",
       "\n",
       "[165 rows x 1 columns]"
      ]
     },
     "execution_count": 3,
     "metadata": {},
     "output_type": "execute_result"
    }
   ],
   "source": [
    "from pathlib import Path\n",
    "import pandas as pd\n",
    "\n",
    "files = Path('../../../../Box/NSF IronHacks App 2016 - 2019/05 Experiments 2017/01 Hack Spring 2017/01 Summary Spring 2017/02 Data/processed-data/bogota-functions-output/spring2017-goldironhack-phase1').glob('*')\n",
    "\n",
    "phase1_functions = list()\n",
    "\n",
    "for file in files:\n",
    "    phase1_functions.append(file.read_text().replace('\\n', ','))  # the file is opened and closed\n",
    "\n",
    "phase1_functions = pd.DataFrame(phase1_functions, columns = ['functions'])\n",
    "phase1_functions"
   ]
  },
  {
   "cell_type": "code",
   "execution_count": 4,
   "id": "8531e360",
   "metadata": {},
   "outputs": [
    {
     "data": {
      "text/html": [
       "<div>\n",
       "<style scoped>\n",
       "    .dataframe tbody tr th:only-of-type {\n",
       "        vertical-align: middle;\n",
       "    }\n",
       "\n",
       "    .dataframe tbody tr th {\n",
       "        vertical-align: top;\n",
       "    }\n",
       "\n",
       "    .dataframe thead th {\n",
       "        text-align: right;\n",
       "    }\n",
       "</style>\n",
       "<table border=\"1\" class=\"dataframe\">\n",
       "  <thead>\n",
       "    <tr style=\"text-align: right;\">\n",
       "      <th></th>\n",
       "      <th>functions</th>\n",
       "    </tr>\n",
       "  </thead>\n",
       "  <tbody>\n",
       "    <tr>\n",
       "      <th>0</th>\n",
       "      <td>document.getElementById,google.maps.Map,google...</td>\n",
       "    </tr>\n",
       "    <tr>\n",
       "      <th>1</th>\n",
       "      <td>favicon.ico,bootstrap.min.js,.min.js,applicati...</td>\n",
       "    </tr>\n",
       "    <tr>\n",
       "      <th>2</th>\n",
       "      <td>bootstrap.min.css,style.css,farmermarket.style...</td>\n",
       "    </tr>\n",
       "    <tr>\n",
       "      <th>3</th>\n",
       "      <td>materialize.min.css,style.css,awesome.min.css,...</td>\n",
       "    </tr>\n",
       "    <tr>\n",
       "      <th>4</th>\n",
       "      <td>bootstrap.min.css,uic.edu,.js,bootstrap.min.js...</td>\n",
       "    </tr>\n",
       "    <tr>\n",
       "      <th>...</th>\n",
       "      <td>...</td>\n",
       "    </tr>\n",
       "    <tr>\n",
       "      <th>160</th>\n",
       "      <td>.ajax,.done,console.log,.fail,data.cityofchica...</td>\n",
       "    </tr>\n",
       "    <tr>\n",
       "      <th>161</th>\n",
       "      <td>semantic.min.css,styles.css,.min.js,bootstrap....</td>\n",
       "    </tr>\n",
       "    <tr>\n",
       "      <th>162</th>\n",
       "      <td>tiry.cloudfront.net,foundation.min.css,style.c...</td>\n",
       "    </tr>\n",
       "    <tr>\n",
       "      <th>163</th>\n",
       "      <td></td>\n",
       "    </tr>\n",
       "    <tr>\n",
       "      <th>164</th>\n",
       "      <td></td>\n",
       "    </tr>\n",
       "  </tbody>\n",
       "</table>\n",
       "<p>165 rows × 1 columns</p>\n",
       "</div>"
      ],
      "text/plain": [
       "                                             functions\n",
       "0    document.getElementById,google.maps.Map,google...\n",
       "1    favicon.ico,bootstrap.min.js,.min.js,applicati...\n",
       "2    bootstrap.min.css,style.css,farmermarket.style...\n",
       "3    materialize.min.css,style.css,awesome.min.css,...\n",
       "4    bootstrap.min.css,uic.edu,.js,bootstrap.min.js...\n",
       "..                                                 ...\n",
       "160  .ajax,.done,console.log,.fail,data.cityofchica...\n",
       "161  semantic.min.css,styles.css,.min.js,bootstrap....\n",
       "162  tiry.cloudfront.net,foundation.min.css,style.c...\n",
       "163                                                   \n",
       "164                                                   \n",
       "\n",
       "[165 rows x 1 columns]"
      ]
     },
     "execution_count": 4,
     "metadata": {},
     "output_type": "execute_result"
    }
   ],
   "source": [
    "from pathlib import Path\n",
    "\n",
    "\n",
    "files = Path('../../../../Box/NSF IronHacks App 2016 - 2019/05 Experiments 2017/01 Hack Spring 2017/01 Summary Spring 2017/02 Data/processed-data/bogota-functions-output/spring2017-goldironhack-phase2').glob('*')\n",
    "\n",
    "phase2_functions = list()\n",
    "\n",
    "for file in files:\n",
    "    phase2_functions.append(file.read_text().replace('\\n', ','))  # the file is opened and closed\n",
    "\n",
    "phase2_functions = pd.DataFrame(phase2_functions, columns = ['functions'])\n",
    "phase2_functions"
   ]
  },
  {
   "cell_type": "code",
   "execution_count": 6,
   "id": "947ce912",
   "metadata": {},
   "outputs": [
    {
     "data": {
      "text/html": [
       "<div>\n",
       "<style scoped>\n",
       "    .dataframe tbody tr th:only-of-type {\n",
       "        vertical-align: middle;\n",
       "    }\n",
       "\n",
       "    .dataframe tbody tr th {\n",
       "        vertical-align: top;\n",
       "    }\n",
       "\n",
       "    .dataframe thead th {\n",
       "        text-align: right;\n",
       "    }\n",
       "</style>\n",
       "<table border=\"1\" class=\"dataframe\">\n",
       "  <thead>\n",
       "    <tr style=\"text-align: right;\">\n",
       "      <th></th>\n",
       "      <th>functions</th>\n",
       "    </tr>\n",
       "  </thead>\n",
       "  <tbody>\n",
       "    <tr>\n",
       "      <th>0</th>\n",
       "      <td>document.getElementById,google.maps.Map,google...</td>\n",
       "    </tr>\n",
       "    <tr>\n",
       "      <th>1</th>\n",
       "      <td>favicon.ico,bootstrap.min.js,.min.js,applicati...</td>\n",
       "    </tr>\n",
       "    <tr>\n",
       "      <th>2</th>\n",
       "      <td>bootstrap.min.css,style.css,farmermarket.style...</td>\n",
       "    </tr>\n",
       "    <tr>\n",
       "      <th>3</th>\n",
       "      <td>materialize.min.css,style.css,awesome.min.css,...</td>\n",
       "    </tr>\n",
       "    <tr>\n",
       "      <th>4</th>\n",
       "      <td>bootstrap.min.css,uic.edu,.js,bootstrap.min.js...</td>\n",
       "    </tr>\n",
       "    <tr>\n",
       "      <th>...</th>\n",
       "      <td>...</td>\n",
       "    </tr>\n",
       "    <tr>\n",
       "      <th>160</th>\n",
       "      <td>console.log,jQuery.parseJSON,.ajax,.done,.fail...</td>\n",
       "    </tr>\n",
       "    <tr>\n",
       "      <th>161</th>\n",
       "      <td>semantic.min.css,calendar.min.css,styles.css,....</td>\n",
       "    </tr>\n",
       "    <tr>\n",
       "      <th>162</th>\n",
       "      <td>tiry.cloudfront.net,foundation.min.css,style.c...</td>\n",
       "    </tr>\n",
       "    <tr>\n",
       "      <th>163</th>\n",
       "      <td></td>\n",
       "    </tr>\n",
       "    <tr>\n",
       "      <th>164</th>\n",
       "      <td></td>\n",
       "    </tr>\n",
       "  </tbody>\n",
       "</table>\n",
       "<p>165 rows × 1 columns</p>\n",
       "</div>"
      ],
      "text/plain": [
       "                                             functions\n",
       "0    document.getElementById,google.maps.Map,google...\n",
       "1    favicon.ico,bootstrap.min.js,.min.js,applicati...\n",
       "2    bootstrap.min.css,style.css,farmermarket.style...\n",
       "3    materialize.min.css,style.css,awesome.min.css,...\n",
       "4    bootstrap.min.css,uic.edu,.js,bootstrap.min.js...\n",
       "..                                                 ...\n",
       "160  console.log,jQuery.parseJSON,.ajax,.done,.fail...\n",
       "161  semantic.min.css,calendar.min.css,styles.css,....\n",
       "162  tiry.cloudfront.net,foundation.min.css,style.c...\n",
       "163                                                   \n",
       "164                                                   \n",
       "\n",
       "[165 rows x 1 columns]"
      ]
     },
     "execution_count": 6,
     "metadata": {},
     "output_type": "execute_result"
    }
   ],
   "source": [
    "from pathlib import Path\n",
    "\n",
    "\n",
    "files = Path('../../../../Box/NSF IronHacks App 2016 - 2019/05 Experiments 2017/01 Hack Spring 2017/01 Summary Spring 2017/02 Data/processed-data/bogota-functions-output/spring2017-goldironhack-phase3').glob('*')\n",
    "\n",
    "phase3_functions = list()\n",
    "\n",
    "for file in files:\n",
    "    phase3_functions.append(file.read_text().replace('\\n', ','))  # the file is opened and closed\n",
    "phase3_functions = pd.DataFrame(phase3_functions, columns = ['functions'])\n",
    "phase3_functions"
   ]
  },
  {
   "cell_type": "code",
   "execution_count": 8,
   "id": "cdd6c543",
   "metadata": {},
   "outputs": [
    {
     "data": {
      "text/html": [
       "<div>\n",
       "<style scoped>\n",
       "    .dataframe tbody tr th:only-of-type {\n",
       "        vertical-align: middle;\n",
       "    }\n",
       "\n",
       "    .dataframe tbody tr th {\n",
       "        vertical-align: top;\n",
       "    }\n",
       "\n",
       "    .dataframe thead th {\n",
       "        text-align: right;\n",
       "    }\n",
       "</style>\n",
       "<table border=\"1\" class=\"dataframe\">\n",
       "  <thead>\n",
       "    <tr style=\"text-align: right;\">\n",
       "      <th></th>\n",
       "      <th>functions</th>\n",
       "    </tr>\n",
       "  </thead>\n",
       "  <tbody>\n",
       "    <tr>\n",
       "      <th>0</th>\n",
       "      <td>document.getElementById,google.maps.Map,google...</td>\n",
       "    </tr>\n",
       "    <tr>\n",
       "      <th>1</th>\n",
       "      <td>favicon.ico,.min.js,bootstrap.min.js,applicati...</td>\n",
       "    </tr>\n",
       "    <tr>\n",
       "      <th>2</th>\n",
       "      <td>bootstrap.min.css,style.css,bulk.jpg,jquery.mi...</td>\n",
       "    </tr>\n",
       "    <tr>\n",
       "      <th>3</th>\n",
       "      <td>materialize.min.css,style.css,awesome.min.css,...</td>\n",
       "    </tr>\n",
       "    <tr>\n",
       "      <th>4</th>\n",
       "      <td>bootstrap.min.css,uic.edu,.js,bootstrap.min.js...</td>\n",
       "    </tr>\n",
       "    <tr>\n",
       "      <th>...</th>\n",
       "      <td>...</td>\n",
       "    </tr>\n",
       "    <tr>\n",
       "      <th>160</th>\n",
       "      <td>console.log,jQuery.parseJSON,.ajax,.done,.fail...</td>\n",
       "    </tr>\n",
       "    <tr>\n",
       "      <th>161</th>\n",
       "      <td>semantic.min.css,calendar.min.css,styles.css,....</td>\n",
       "    </tr>\n",
       "    <tr>\n",
       "      <th>162</th>\n",
       "      <td>tiry.cloudfront.net,foundation.min.css,style.c...</td>\n",
       "    </tr>\n",
       "    <tr>\n",
       "      <th>163</th>\n",
       "      <td></td>\n",
       "    </tr>\n",
       "    <tr>\n",
       "      <th>164</th>\n",
       "      <td></td>\n",
       "    </tr>\n",
       "  </tbody>\n",
       "</table>\n",
       "<p>165 rows × 1 columns</p>\n",
       "</div>"
      ],
      "text/plain": [
       "                                             functions\n",
       "0    document.getElementById,google.maps.Map,google...\n",
       "1    favicon.ico,.min.js,bootstrap.min.js,applicati...\n",
       "2    bootstrap.min.css,style.css,bulk.jpg,jquery.mi...\n",
       "3    materialize.min.css,style.css,awesome.min.css,...\n",
       "4    bootstrap.min.css,uic.edu,.js,bootstrap.min.js...\n",
       "..                                                 ...\n",
       "160  console.log,jQuery.parseJSON,.ajax,.done,.fail...\n",
       "161  semantic.min.css,calendar.min.css,styles.css,....\n",
       "162  tiry.cloudfront.net,foundation.min.css,style.c...\n",
       "163                                                   \n",
       "164                                                   \n",
       "\n",
       "[165 rows x 1 columns]"
      ]
     },
     "execution_count": 8,
     "metadata": {},
     "output_type": "execute_result"
    }
   ],
   "source": [
    "from pathlib import Path\n",
    "\n",
    "\n",
    "files = Path('../../../../Box/NSF IronHacks App 2016 - 2019/05 Experiments 2017/01 Hack Spring 2017/01 Summary Spring 2017/02 Data/processed-data/bogota-functions-output/spring2017-goldironhack-phase4').glob('*')\n",
    "\n",
    "phase4_functions = list()\n",
    "\n",
    "for file in files:\n",
    "    phase4_functions.append(file.read_text().replace('\\n', ','))  # the file is opened and closed\n",
    "phase4_functions = pd.DataFrame(phase4_functions, columns = ['functions'])\n",
    "phase4_functions"
   ]
  },
  {
   "cell_type": "code",
   "execution_count": 9,
   "id": "db9af7d2",
   "metadata": {},
   "outputs": [
    {
     "data": {
      "text/html": [
       "<div>\n",
       "<style scoped>\n",
       "    .dataframe tbody tr th:only-of-type {\n",
       "        vertical-align: middle;\n",
       "    }\n",
       "\n",
       "    .dataframe tbody tr th {\n",
       "        vertical-align: top;\n",
       "    }\n",
       "\n",
       "    .dataframe thead th {\n",
       "        text-align: right;\n",
       "    }\n",
       "</style>\n",
       "<table border=\"1\" class=\"dataframe\">\n",
       "  <thead>\n",
       "    <tr style=\"text-align: right;\">\n",
       "      <th></th>\n",
       "      <th>functions</th>\n",
       "    </tr>\n",
       "  </thead>\n",
       "  <tbody>\n",
       "    <tr>\n",
       "      <th>0</th>\n",
       "      <td>document.getElementById,google.maps.Map,google...</td>\n",
       "    </tr>\n",
       "    <tr>\n",
       "      <th>1</th>\n",
       "      <td>favicon.ico,.min.js,bootstrap.min.js,applicati...</td>\n",
       "    </tr>\n",
       "    <tr>\n",
       "      <th>2</th>\n",
       "      <td>bootstrap.min.css,style.css,bulk.jpg,jquery.mi...</td>\n",
       "    </tr>\n",
       "    <tr>\n",
       "      <th>3</th>\n",
       "      <td>materialize.min.css,style.css,awesome.min.css,...</td>\n",
       "    </tr>\n",
       "    <tr>\n",
       "      <th>4</th>\n",
       "      <td>bootstrap.min.css,uic.edu,.js,bootstrap.min.js...</td>\n",
       "    </tr>\n",
       "    <tr>\n",
       "      <th>...</th>\n",
       "      <td>...</td>\n",
       "    </tr>\n",
       "    <tr>\n",
       "      <th>160</th>\n",
       "      <td>console.log,jQuery.parseJSON,.ajax,.done,.fail...</td>\n",
       "    </tr>\n",
       "    <tr>\n",
       "      <th>161</th>\n",
       "      <td>map.css,google.maps.Map,document.getElementByI...</td>\n",
       "    </tr>\n",
       "    <tr>\n",
       "      <th>162</th>\n",
       "      <td>tiry.cloudfront.net,foundation.min.css,style.c...</td>\n",
       "    </tr>\n",
       "    <tr>\n",
       "      <th>163</th>\n",
       "      <td></td>\n",
       "    </tr>\n",
       "    <tr>\n",
       "      <th>164</th>\n",
       "      <td></td>\n",
       "    </tr>\n",
       "  </tbody>\n",
       "</table>\n",
       "<p>165 rows × 1 columns</p>\n",
       "</div>"
      ],
      "text/plain": [
       "                                             functions\n",
       "0    document.getElementById,google.maps.Map,google...\n",
       "1    favicon.ico,.min.js,bootstrap.min.js,applicati...\n",
       "2    bootstrap.min.css,style.css,bulk.jpg,jquery.mi...\n",
       "3    materialize.min.css,style.css,awesome.min.css,...\n",
       "4    bootstrap.min.css,uic.edu,.js,bootstrap.min.js...\n",
       "..                                                 ...\n",
       "160  console.log,jQuery.parseJSON,.ajax,.done,.fail...\n",
       "161  map.css,google.maps.Map,document.getElementByI...\n",
       "162  tiry.cloudfront.net,foundation.min.css,style.c...\n",
       "163                                                   \n",
       "164                                                   \n",
       "\n",
       "[165 rows x 1 columns]"
      ]
     },
     "execution_count": 9,
     "metadata": {},
     "output_type": "execute_result"
    }
   ],
   "source": [
    "from pathlib import Path\n",
    "\n",
    "\n",
    "files = Path('../../../../Box/NSF IronHacks App 2016 - 2019/05 Experiments 2017/01 Hack Spring 2017/01 Summary Spring 2017/02 Data/processed-data/bogota-functions-output/spring2017-goldironhack-phase5').glob('*')\n",
    "\n",
    "phase5_functions = list()\n",
    "\n",
    "for file in files:\n",
    "    phase5_functions.append(file.read_text().replace('\\n', ','))  # the file is opened and closed\n",
    "phase5_functions = pd.DataFrame(phase5_functions, columns = ['functions'])\n",
    "phase5_functions"
   ]
  },
  {
   "cell_type": "code",
   "execution_count": 15,
   "id": "95502e4a",
   "metadata": {},
   "outputs": [
    {
     "data": {
      "text/html": [
       "<div>\n",
       "<style scoped>\n",
       "    .dataframe tbody tr th:only-of-type {\n",
       "        vertical-align: middle;\n",
       "    }\n",
       "\n",
       "    .dataframe tbody tr th {\n",
       "        vertical-align: top;\n",
       "    }\n",
       "\n",
       "    .dataframe thead th {\n",
       "        text-align: right;\n",
       "    }\n",
       "</style>\n",
       "<table border=\"1\" class=\"dataframe\">\n",
       "  <thead>\n",
       "    <tr style=\"text-align: right;\">\n",
       "      <th></th>\n",
       "      <th>Student</th>\n",
       "    </tr>\n",
       "  </thead>\n",
       "  <tbody>\n",
       "    <tr>\n",
       "      <th>0</th>\n",
       "      <td>adamantwharf</td>\n",
       "    </tr>\n",
       "    <tr>\n",
       "      <th>1</th>\n",
       "      <td>adriel62</td>\n",
       "    </tr>\n",
       "    <tr>\n",
       "      <th>2</th>\n",
       "      <td>afceballosr</td>\n",
       "    </tr>\n",
       "    <tr>\n",
       "      <th>3</th>\n",
       "      <td>AFelipeGA</td>\n",
       "    </tr>\n",
       "    <tr>\n",
       "      <th>4</th>\n",
       "      <td>afforeroc</td>\n",
       "    </tr>\n",
       "    <tr>\n",
       "      <th>...</th>\n",
       "      <td>...</td>\n",
       "    </tr>\n",
       "    <tr>\n",
       "      <th>160</th>\n",
       "      <td>xdanielsb</td>\n",
       "    </tr>\n",
       "    <tr>\n",
       "      <th>161</th>\n",
       "      <td>Yelis3</td>\n",
       "    </tr>\n",
       "    <tr>\n",
       "      <th>162</th>\n",
       "      <td>ykchautai</td>\n",
       "    </tr>\n",
       "    <tr>\n",
       "      <th>163</th>\n",
       "      <td>yocuervoc</td>\n",
       "    </tr>\n",
       "    <tr>\n",
       "      <th>164</th>\n",
       "      <td>Zeugmax</td>\n",
       "    </tr>\n",
       "  </tbody>\n",
       "</table>\n",
       "<p>165 rows × 1 columns</p>\n",
       "</div>"
      ],
      "text/plain": [
       "          Student\n",
       "0    adamantwharf\n",
       "1        adriel62\n",
       "2     afceballosr\n",
       "3       AFelipeGA\n",
       "4       afforeroc\n",
       "..            ...\n",
       "160     xdanielsb\n",
       "161        Yelis3\n",
       "162     ykchautai\n",
       "163     yocuervoc\n",
       "164       Zeugmax\n",
       "\n",
       "[165 rows x 1 columns]"
      ]
     },
     "execution_count": 15,
     "metadata": {},
     "output_type": "execute_result"
    }
   ],
   "source": [
    "import glob \n",
    "import pandas as pd\n",
    "\n",
    "phase1_name = glob.glob(\"../../../../Box/NSF IronHacks App 2016 - 2019/05 Experiments 2017/01 Hack Spring 2017/01 Summary Spring 2017/02 Data/processed-data/bogota-functions-output/spring2017-goldironhack-phase1/*\")  # get all .csv files from the working dir\n",
    "assert isinstance(phase1_name, list)\n",
    "phase1_name = pd.DataFrame(phase1_name, columns = ['username'])\n",
    "components = phase1_name.username.str[1:].str.split('-', expand = True)\n",
    "phase1_name['Student'] = components[10]\n",
    "phase1_name_drop = phase1_name.drop(['username'], axis=1)\n",
    "phase1_name_drop"
   ]
  },
  {
   "cell_type": "code",
   "execution_count": 22,
   "id": "af0efab4",
   "metadata": {},
   "outputs": [
    {
     "ename": "KeyError",
     "evalue": "10",
     "output_type": "error",
     "traceback": [
      "\u001b[0;31m---------------------------------------------------------------------------\u001b[0m",
      "\u001b[0;31mKeyError\u001b[0m                                  Traceback (most recent call last)",
      "\u001b[0;32m/usr/local/anaconda3/lib/python3.8/site-packages/pandas/core/indexes/base.py\u001b[0m in \u001b[0;36mget_loc\u001b[0;34m(self, key, method, tolerance)\u001b[0m\n\u001b[1;32m   3080\u001b[0m             \u001b[0;32mtry\u001b[0m\u001b[0;34m:\u001b[0m\u001b[0;34m\u001b[0m\u001b[0;34m\u001b[0m\u001b[0m\n\u001b[0;32m-> 3081\u001b[0;31m                 \u001b[0;32mreturn\u001b[0m \u001b[0mself\u001b[0m\u001b[0;34m.\u001b[0m\u001b[0m_engine\u001b[0m\u001b[0;34m.\u001b[0m\u001b[0mget_loc\u001b[0m\u001b[0;34m(\u001b[0m\u001b[0mcasted_key\u001b[0m\u001b[0;34m)\u001b[0m\u001b[0;34m\u001b[0m\u001b[0;34m\u001b[0m\u001b[0m\n\u001b[0m\u001b[1;32m   3082\u001b[0m             \u001b[0;32mexcept\u001b[0m \u001b[0mKeyError\u001b[0m \u001b[0;32mas\u001b[0m \u001b[0merr\u001b[0m\u001b[0;34m:\u001b[0m\u001b[0;34m\u001b[0m\u001b[0;34m\u001b[0m\u001b[0m\n",
      "\u001b[0;32mpandas/_libs/index.pyx\u001b[0m in \u001b[0;36mpandas._libs.index.IndexEngine.get_loc\u001b[0;34m()\u001b[0m\n",
      "\u001b[0;32mpandas/_libs/index.pyx\u001b[0m in \u001b[0;36mpandas._libs.index.IndexEngine.get_loc\u001b[0;34m()\u001b[0m\n",
      "\u001b[0;32mpandas/_libs/hashtable_class_helper.pxi\u001b[0m in \u001b[0;36mpandas._libs.hashtable.PyObjectHashTable.get_item\u001b[0;34m()\u001b[0m\n",
      "\u001b[0;32mpandas/_libs/hashtable_class_helper.pxi\u001b[0m in \u001b[0;36mpandas._libs.hashtable.PyObjectHashTable.get_item\u001b[0;34m()\u001b[0m\n",
      "\u001b[0;31mKeyError\u001b[0m: 10",
      "\nThe above exception was the direct cause of the following exception:\n",
      "\u001b[0;31mKeyError\u001b[0m                                  Traceback (most recent call last)",
      "\u001b[0;32m<ipython-input-22-86e0d33ffe0d>\u001b[0m in \u001b[0;36m<module>\u001b[0;34m\u001b[0m\n\u001b[1;32m      6\u001b[0m \u001b[0mphase2_name\u001b[0m \u001b[0;34m=\u001b[0m \u001b[0mpd\u001b[0m\u001b[0;34m.\u001b[0m\u001b[0mDataFrame\u001b[0m\u001b[0;34m(\u001b[0m\u001b[0mphase2_name\u001b[0m\u001b[0;34m,\u001b[0m \u001b[0mcolumns\u001b[0m \u001b[0;34m=\u001b[0m \u001b[0;34m[\u001b[0m\u001b[0;34m'username'\u001b[0m\u001b[0;34m]\u001b[0m\u001b[0;34m)\u001b[0m\u001b[0;34m\u001b[0m\u001b[0;34m\u001b[0m\u001b[0m\n\u001b[1;32m      7\u001b[0m \u001b[0mcomponents\u001b[0m \u001b[0;34m=\u001b[0m \u001b[0mphase2_name\u001b[0m\u001b[0;34m.\u001b[0m\u001b[0musername\u001b[0m\u001b[0;34m.\u001b[0m\u001b[0mstr\u001b[0m\u001b[0;34m[\u001b[0m\u001b[0;36m1\u001b[0m\u001b[0;34m:\u001b[0m\u001b[0;34m]\u001b[0m\u001b[0;34m.\u001b[0m\u001b[0mstr\u001b[0m\u001b[0;34m.\u001b[0m\u001b[0msplit\u001b[0m\u001b[0;34m(\u001b[0m\u001b[0;34m'-'\u001b[0m\u001b[0;34m,\u001b[0m \u001b[0mexpand\u001b[0m \u001b[0;34m=\u001b[0m \u001b[0;32mTrue\u001b[0m\u001b[0;34m)\u001b[0m\u001b[0;34m\u001b[0m\u001b[0;34m\u001b[0m\u001b[0m\n\u001b[0;32m----> 8\u001b[0;31m \u001b[0mphase2_name\u001b[0m\u001b[0;34m[\u001b[0m\u001b[0;34m'Student'\u001b[0m\u001b[0;34m]\u001b[0m \u001b[0;34m=\u001b[0m \u001b[0mcomponents\u001b[0m\u001b[0;34m[\u001b[0m\u001b[0;36m10\u001b[0m\u001b[0;34m]\u001b[0m\u001b[0;34m\u001b[0m\u001b[0;34m\u001b[0m\u001b[0m\n\u001b[0m\u001b[1;32m      9\u001b[0m \u001b[0mphase2_name_drop\u001b[0m \u001b[0;34m=\u001b[0m \u001b[0mphase2_name\u001b[0m\u001b[0;34m.\u001b[0m\u001b[0mdrop\u001b[0m\u001b[0;34m(\u001b[0m\u001b[0;34m[\u001b[0m\u001b[0;34m'username'\u001b[0m\u001b[0;34m]\u001b[0m\u001b[0;34m,\u001b[0m \u001b[0maxis\u001b[0m\u001b[0;34m=\u001b[0m\u001b[0;36m1\u001b[0m\u001b[0;34m)\u001b[0m\u001b[0;34m\u001b[0m\u001b[0;34m\u001b[0m\u001b[0m\n\u001b[1;32m     10\u001b[0m \u001b[0mphase2_name_drop\u001b[0m\u001b[0;34m\u001b[0m\u001b[0;34m\u001b[0m\u001b[0m\n",
      "\u001b[0;32m/usr/local/anaconda3/lib/python3.8/site-packages/pandas/core/frame.py\u001b[0m in \u001b[0;36m__getitem__\u001b[0;34m(self, key)\u001b[0m\n\u001b[1;32m   3022\u001b[0m             \u001b[0;32mif\u001b[0m \u001b[0mself\u001b[0m\u001b[0;34m.\u001b[0m\u001b[0mcolumns\u001b[0m\u001b[0;34m.\u001b[0m\u001b[0mnlevels\u001b[0m \u001b[0;34m>\u001b[0m \u001b[0;36m1\u001b[0m\u001b[0;34m:\u001b[0m\u001b[0;34m\u001b[0m\u001b[0;34m\u001b[0m\u001b[0m\n\u001b[1;32m   3023\u001b[0m                 \u001b[0;32mreturn\u001b[0m \u001b[0mself\u001b[0m\u001b[0;34m.\u001b[0m\u001b[0m_getitem_multilevel\u001b[0m\u001b[0;34m(\u001b[0m\u001b[0mkey\u001b[0m\u001b[0;34m)\u001b[0m\u001b[0;34m\u001b[0m\u001b[0;34m\u001b[0m\u001b[0m\n\u001b[0;32m-> 3024\u001b[0;31m             \u001b[0mindexer\u001b[0m \u001b[0;34m=\u001b[0m \u001b[0mself\u001b[0m\u001b[0;34m.\u001b[0m\u001b[0mcolumns\u001b[0m\u001b[0;34m.\u001b[0m\u001b[0mget_loc\u001b[0m\u001b[0;34m(\u001b[0m\u001b[0mkey\u001b[0m\u001b[0;34m)\u001b[0m\u001b[0;34m\u001b[0m\u001b[0;34m\u001b[0m\u001b[0m\n\u001b[0m\u001b[1;32m   3025\u001b[0m             \u001b[0;32mif\u001b[0m \u001b[0mis_integer\u001b[0m\u001b[0;34m(\u001b[0m\u001b[0mindexer\u001b[0m\u001b[0;34m)\u001b[0m\u001b[0;34m:\u001b[0m\u001b[0;34m\u001b[0m\u001b[0;34m\u001b[0m\u001b[0m\n\u001b[1;32m   3026\u001b[0m                 \u001b[0mindexer\u001b[0m \u001b[0;34m=\u001b[0m \u001b[0;34m[\u001b[0m\u001b[0mindexer\u001b[0m\u001b[0;34m]\u001b[0m\u001b[0;34m\u001b[0m\u001b[0;34m\u001b[0m\u001b[0m\n",
      "\u001b[0;32m/usr/local/anaconda3/lib/python3.8/site-packages/pandas/core/indexes/base.py\u001b[0m in \u001b[0;36mget_loc\u001b[0;34m(self, key, method, tolerance)\u001b[0m\n\u001b[1;32m   3081\u001b[0m                 \u001b[0;32mreturn\u001b[0m \u001b[0mself\u001b[0m\u001b[0;34m.\u001b[0m\u001b[0m_engine\u001b[0m\u001b[0;34m.\u001b[0m\u001b[0mget_loc\u001b[0m\u001b[0;34m(\u001b[0m\u001b[0mcasted_key\u001b[0m\u001b[0;34m)\u001b[0m\u001b[0;34m\u001b[0m\u001b[0;34m\u001b[0m\u001b[0m\n\u001b[1;32m   3082\u001b[0m             \u001b[0;32mexcept\u001b[0m \u001b[0mKeyError\u001b[0m \u001b[0;32mas\u001b[0m \u001b[0merr\u001b[0m\u001b[0;34m:\u001b[0m\u001b[0;34m\u001b[0m\u001b[0;34m\u001b[0m\u001b[0m\n\u001b[0;32m-> 3083\u001b[0;31m                 \u001b[0;32mraise\u001b[0m \u001b[0mKeyError\u001b[0m\u001b[0;34m(\u001b[0m\u001b[0mkey\u001b[0m\u001b[0;34m)\u001b[0m \u001b[0;32mfrom\u001b[0m \u001b[0merr\u001b[0m\u001b[0;34m\u001b[0m\u001b[0;34m\u001b[0m\u001b[0m\n\u001b[0m\u001b[1;32m   3084\u001b[0m \u001b[0;34m\u001b[0m\u001b[0m\n\u001b[1;32m   3085\u001b[0m         \u001b[0;32mif\u001b[0m \u001b[0mtolerance\u001b[0m \u001b[0;32mis\u001b[0m \u001b[0;32mnot\u001b[0m \u001b[0;32mNone\u001b[0m\u001b[0;34m:\u001b[0m\u001b[0;34m\u001b[0m\u001b[0;34m\u001b[0m\u001b[0m\n",
      "\u001b[0;31mKeyError\u001b[0m: 10"
     ]
    }
   ],
   "source": [
    "import glob \n",
    "import pandas as pd\n",
    "\n",
    "phase2_name = glob.glob(\"../../../../Library/CloudStorage/Box-Box/NSF IronHacks App 2016 - 2019/05 Experiments 2017/01 Hack Spring 2017/01 Summary Spring 2017/02 Data/processed-data/bogota-functions-output/spring2017-goldironhack-phase2/*\")  # get all .csv files from the working dir\n",
    "assert isinstance(phase2_name, list)\n",
    "phase2_name = pd.DataFrame(phase2_name, columns = ['username'])\n",
    "components = phase2_name.username.str[1:].str.split('-', expand = True)\n",
    "phase2_name['Student'] = components[10]\n",
    "phase2_name_drop = phase2_name.drop(['username'], axis=1)\n",
    "phase2_name_drop"
   ]
  },
  {
   "cell_type": "code",
   "execution_count": 21,
   "id": "990280bb",
   "metadata": {},
   "outputs": [
    {
     "ename": "KeyError",
     "evalue": "11",
     "output_type": "error",
     "traceback": [
      "\u001b[0;31m---------------------------------------------------------------------------\u001b[0m",
      "\u001b[0;31mKeyError\u001b[0m                                  Traceback (most recent call last)",
      "\u001b[0;32m/usr/local/anaconda3/lib/python3.8/site-packages/pandas/core/indexes/base.py\u001b[0m in \u001b[0;36mget_loc\u001b[0;34m(self, key, method, tolerance)\u001b[0m\n\u001b[1;32m   3080\u001b[0m             \u001b[0;32mtry\u001b[0m\u001b[0;34m:\u001b[0m\u001b[0;34m\u001b[0m\u001b[0;34m\u001b[0m\u001b[0m\n\u001b[0;32m-> 3081\u001b[0;31m                 \u001b[0;32mreturn\u001b[0m \u001b[0mself\u001b[0m\u001b[0;34m.\u001b[0m\u001b[0m_engine\u001b[0m\u001b[0;34m.\u001b[0m\u001b[0mget_loc\u001b[0m\u001b[0;34m(\u001b[0m\u001b[0mcasted_key\u001b[0m\u001b[0;34m)\u001b[0m\u001b[0;34m\u001b[0m\u001b[0;34m\u001b[0m\u001b[0m\n\u001b[0m\u001b[1;32m   3082\u001b[0m             \u001b[0;32mexcept\u001b[0m \u001b[0mKeyError\u001b[0m \u001b[0;32mas\u001b[0m \u001b[0merr\u001b[0m\u001b[0;34m:\u001b[0m\u001b[0;34m\u001b[0m\u001b[0;34m\u001b[0m\u001b[0m\n",
      "\u001b[0;32mpandas/_libs/index.pyx\u001b[0m in \u001b[0;36mpandas._libs.index.IndexEngine.get_loc\u001b[0;34m()\u001b[0m\n",
      "\u001b[0;32mpandas/_libs/index.pyx\u001b[0m in \u001b[0;36mpandas._libs.index.IndexEngine.get_loc\u001b[0;34m()\u001b[0m\n",
      "\u001b[0;32mpandas/_libs/hashtable_class_helper.pxi\u001b[0m in \u001b[0;36mpandas._libs.hashtable.PyObjectHashTable.get_item\u001b[0;34m()\u001b[0m\n",
      "\u001b[0;32mpandas/_libs/hashtable_class_helper.pxi\u001b[0m in \u001b[0;36mpandas._libs.hashtable.PyObjectHashTable.get_item\u001b[0;34m()\u001b[0m\n",
      "\u001b[0;31mKeyError\u001b[0m: 11",
      "\nThe above exception was the direct cause of the following exception:\n",
      "\u001b[0;31mKeyError\u001b[0m                                  Traceback (most recent call last)",
      "\u001b[0;32m<ipython-input-21-5b75a30327e2>\u001b[0m in \u001b[0;36m<module>\u001b[0;34m\u001b[0m\n\u001b[1;32m      6\u001b[0m \u001b[0mphase3_name\u001b[0m \u001b[0;34m=\u001b[0m \u001b[0mpd\u001b[0m\u001b[0;34m.\u001b[0m\u001b[0mDataFrame\u001b[0m\u001b[0;34m(\u001b[0m\u001b[0mphase3_name\u001b[0m\u001b[0;34m,\u001b[0m \u001b[0mcolumns\u001b[0m \u001b[0;34m=\u001b[0m \u001b[0;34m[\u001b[0m\u001b[0;34m'username'\u001b[0m\u001b[0;34m]\u001b[0m\u001b[0;34m)\u001b[0m\u001b[0;34m\u001b[0m\u001b[0;34m\u001b[0m\u001b[0m\n\u001b[1;32m      7\u001b[0m \u001b[0mcomponents\u001b[0m \u001b[0;34m=\u001b[0m \u001b[0mphase3_name\u001b[0m\u001b[0;34m.\u001b[0m\u001b[0musername\u001b[0m\u001b[0;34m.\u001b[0m\u001b[0mstr\u001b[0m\u001b[0;34m[\u001b[0m\u001b[0;36m1\u001b[0m\u001b[0;34m:\u001b[0m\u001b[0;34m]\u001b[0m\u001b[0;34m.\u001b[0m\u001b[0mstr\u001b[0m\u001b[0;34m.\u001b[0m\u001b[0msplit\u001b[0m\u001b[0;34m(\u001b[0m\u001b[0;34m'-'\u001b[0m\u001b[0;34m,\u001b[0m \u001b[0mexpand\u001b[0m \u001b[0;34m=\u001b[0m \u001b[0;32mTrue\u001b[0m\u001b[0;34m)\u001b[0m\u001b[0;34m\u001b[0m\u001b[0;34m\u001b[0m\u001b[0m\n\u001b[0;32m----> 8\u001b[0;31m \u001b[0mphase3_name\u001b[0m\u001b[0;34m[\u001b[0m\u001b[0;34m'Student'\u001b[0m\u001b[0;34m]\u001b[0m \u001b[0;34m=\u001b[0m \u001b[0mcomponents\u001b[0m\u001b[0;34m[\u001b[0m\u001b[0;36m11\u001b[0m\u001b[0;34m]\u001b[0m\u001b[0;34m\u001b[0m\u001b[0;34m\u001b[0m\u001b[0m\n\u001b[0m\u001b[1;32m      9\u001b[0m \u001b[0mphase3_name_drop\u001b[0m \u001b[0;34m=\u001b[0m \u001b[0mphase3_name\u001b[0m\u001b[0;34m.\u001b[0m\u001b[0mdrop\u001b[0m\u001b[0;34m(\u001b[0m\u001b[0;34m[\u001b[0m\u001b[0;34m'username'\u001b[0m\u001b[0;34m]\u001b[0m\u001b[0;34m,\u001b[0m \u001b[0maxis\u001b[0m\u001b[0;34m=\u001b[0m\u001b[0;36m1\u001b[0m\u001b[0;34m)\u001b[0m\u001b[0;34m\u001b[0m\u001b[0;34m\u001b[0m\u001b[0m\n\u001b[1;32m     10\u001b[0m \u001b[0mphase3_name_drop\u001b[0m\u001b[0;34m\u001b[0m\u001b[0;34m\u001b[0m\u001b[0m\n",
      "\u001b[0;32m/usr/local/anaconda3/lib/python3.8/site-packages/pandas/core/frame.py\u001b[0m in \u001b[0;36m__getitem__\u001b[0;34m(self, key)\u001b[0m\n\u001b[1;32m   3022\u001b[0m             \u001b[0;32mif\u001b[0m \u001b[0mself\u001b[0m\u001b[0;34m.\u001b[0m\u001b[0mcolumns\u001b[0m\u001b[0;34m.\u001b[0m\u001b[0mnlevels\u001b[0m \u001b[0;34m>\u001b[0m \u001b[0;36m1\u001b[0m\u001b[0;34m:\u001b[0m\u001b[0;34m\u001b[0m\u001b[0;34m\u001b[0m\u001b[0m\n\u001b[1;32m   3023\u001b[0m                 \u001b[0;32mreturn\u001b[0m \u001b[0mself\u001b[0m\u001b[0;34m.\u001b[0m\u001b[0m_getitem_multilevel\u001b[0m\u001b[0;34m(\u001b[0m\u001b[0mkey\u001b[0m\u001b[0;34m)\u001b[0m\u001b[0;34m\u001b[0m\u001b[0;34m\u001b[0m\u001b[0m\n\u001b[0;32m-> 3024\u001b[0;31m             \u001b[0mindexer\u001b[0m \u001b[0;34m=\u001b[0m \u001b[0mself\u001b[0m\u001b[0;34m.\u001b[0m\u001b[0mcolumns\u001b[0m\u001b[0;34m.\u001b[0m\u001b[0mget_loc\u001b[0m\u001b[0;34m(\u001b[0m\u001b[0mkey\u001b[0m\u001b[0;34m)\u001b[0m\u001b[0;34m\u001b[0m\u001b[0;34m\u001b[0m\u001b[0m\n\u001b[0m\u001b[1;32m   3025\u001b[0m             \u001b[0;32mif\u001b[0m \u001b[0mis_integer\u001b[0m\u001b[0;34m(\u001b[0m\u001b[0mindexer\u001b[0m\u001b[0;34m)\u001b[0m\u001b[0;34m:\u001b[0m\u001b[0;34m\u001b[0m\u001b[0;34m\u001b[0m\u001b[0m\n\u001b[1;32m   3026\u001b[0m                 \u001b[0mindexer\u001b[0m \u001b[0;34m=\u001b[0m \u001b[0;34m[\u001b[0m\u001b[0mindexer\u001b[0m\u001b[0;34m]\u001b[0m\u001b[0;34m\u001b[0m\u001b[0;34m\u001b[0m\u001b[0m\n",
      "\u001b[0;32m/usr/local/anaconda3/lib/python3.8/site-packages/pandas/core/indexes/base.py\u001b[0m in \u001b[0;36mget_loc\u001b[0;34m(self, key, method, tolerance)\u001b[0m\n\u001b[1;32m   3081\u001b[0m                 \u001b[0;32mreturn\u001b[0m \u001b[0mself\u001b[0m\u001b[0;34m.\u001b[0m\u001b[0m_engine\u001b[0m\u001b[0;34m.\u001b[0m\u001b[0mget_loc\u001b[0m\u001b[0;34m(\u001b[0m\u001b[0mcasted_key\u001b[0m\u001b[0;34m)\u001b[0m\u001b[0;34m\u001b[0m\u001b[0;34m\u001b[0m\u001b[0m\n\u001b[1;32m   3082\u001b[0m             \u001b[0;32mexcept\u001b[0m \u001b[0mKeyError\u001b[0m \u001b[0;32mas\u001b[0m \u001b[0merr\u001b[0m\u001b[0;34m:\u001b[0m\u001b[0;34m\u001b[0m\u001b[0;34m\u001b[0m\u001b[0m\n\u001b[0;32m-> 3083\u001b[0;31m                 \u001b[0;32mraise\u001b[0m \u001b[0mKeyError\u001b[0m\u001b[0;34m(\u001b[0m\u001b[0mkey\u001b[0m\u001b[0;34m)\u001b[0m \u001b[0;32mfrom\u001b[0m \u001b[0merr\u001b[0m\u001b[0;34m\u001b[0m\u001b[0;34m\u001b[0m\u001b[0m\n\u001b[0m\u001b[1;32m   3084\u001b[0m \u001b[0;34m\u001b[0m\u001b[0m\n\u001b[1;32m   3085\u001b[0m         \u001b[0;32mif\u001b[0m \u001b[0mtolerance\u001b[0m \u001b[0;32mis\u001b[0m \u001b[0;32mnot\u001b[0m \u001b[0;32mNone\u001b[0m\u001b[0;34m:\u001b[0m\u001b[0;34m\u001b[0m\u001b[0;34m\u001b[0m\u001b[0m\n",
      "\u001b[0;31mKeyError\u001b[0m: 11"
     ]
    }
   ],
   "source": [
    "import glob \n",
    "import pandas as pd\n",
    "\n",
    "phase3_name = glob.glob(\"../../../../Library/CloudStorage/Box-Box/NSF IronHacks App 2016 - 2019/05 Experiments 2017/01 Hack Spring 2017/01 Summary Spring 2017/02 Data/processed-data/bogota-functions-output/spring2017-goldironhack-phase3/*\")  # get all .csv files from the working dir\n",
    "assert isinstance(phase3_name, list)\n",
    "phase3_name = pd.DataFrame(phase3_name, columns = ['username'])\n",
    "components = phase3_name.username.str[1:].str.split('-', expand = True)\n",
    "phase3_name['Student'] = components[11]\n",
    "phase3_name_drop = phase3_name.drop(['username'], axis=1)\n",
    "phase3_name_drop"
   ]
  },
  {
   "cell_type": "code",
   "execution_count": null,
   "id": "f45f5b31",
   "metadata": {},
   "outputs": [],
   "source": [
    "import glob \n",
    "import pandas as pd\n",
    "\n",
    "phase4_name = glob.glob(\"../../../../Library/CloudStorage/Box-Box/NSF IronHacks App 2016 - 2019/05 Experiments 2017/01 Hack Spring 2017/01 Summary Spring 2017/02 Data/processed-data/bogota-functions-output/spring2017-goldironhack-phase4/*\")  # get all .csv files from the working dir\n",
    "assert isinstance(phase4_name, list)\n",
    "phase4_name = pd.DataFrame(phase4_name, columns = ['username'])\n",
    "components = phase4_name.username.str[1:].str.split('-', expand = True)\n",
    "phase4_name['Student'] = components[11]\n",
    "phase4_name_drop = phase4_name.drop(['username'], axis=1)\n",
    "phase4_name_drop"
   ]
  },
  {
   "cell_type": "code",
   "execution_count": null,
   "id": "9c7d877e",
   "metadata": {},
   "outputs": [],
   "source": [
    "import glob \n",
    "import pandas as pd\n",
    "\n",
    "phase5_name = glob.glob(\"../../../../Library/CloudStorage/Box-Box/NSF IronHacks App 2016 - 2019/05 Experiments 2017/01 Hack Spring 2017/01 Summary Spring 2017/02 Data/processed-data/bogota-functions-output/spring2017-goldironhack-phase5/*\")  # get all .csv files from the working dir\n",
    "assert isinstance(phase5_name, list)\n",
    "phase5_name = pd.DataFrame(phase5_name, columns = ['username'])\n",
    "components = phase5_name.username.str[1:].str.split('-', expand = True)\n",
    "phase5_name['Student'] = components[11]\n",
    "phase5_name_drop = phase5_name.drop(['username'], axis=1)\n",
    "phase5_name_drop"
   ]
  },
  {
   "cell_type": "markdown",
   "id": "8cbedca7",
   "metadata": {},
   "source": [
    "## Functions Dataframe for Phase 1"
   ]
  },
  {
   "cell_type": "code",
   "execution_count": null,
   "id": "af3433ad",
   "metadata": {},
   "outputs": [],
   "source": [
    "phase1 = pd.concat([phase1_name_drop, phase1_functions], axis=1)\n",
    "\n",
    "phase1"
   ]
  },
  {
   "cell_type": "markdown",
   "id": "8fab7882",
   "metadata": {},
   "source": [
    "### phase 1 functions dataframe merge with overall dataframe to know the groups."
   ]
  },
  {
   "cell_type": "code",
   "execution_count": null,
   "id": "a338fcb2",
   "metadata": {},
   "outputs": [],
   "source": [
    "overall_phase1 = overall_loc_scores_final.merge(phase1[['Student','functions']], on='Student', how='left')\n",
    "overall_phase1"
   ]
  },
  {
   "cell_type": "markdown",
   "id": "24c66980",
   "metadata": {},
   "source": [
    "## Functions Dataframe for Phase 2"
   ]
  },
  {
   "cell_type": "code",
   "execution_count": null,
   "id": "c1b116a9",
   "metadata": {},
   "outputs": [],
   "source": [
    "phase2 = pd.concat([phase2_name_drop, phase2_functions], axis=1)\n",
    "\n",
    "phase2"
   ]
  },
  {
   "cell_type": "markdown",
   "id": "a113b3ba",
   "metadata": {},
   "source": [
    "### phase 2 functions dataframe merge with overall dataframe to know the groups. "
   ]
  },
  {
   "cell_type": "code",
   "execution_count": null,
   "id": "5c1d11a3",
   "metadata": {},
   "outputs": [],
   "source": [
    "overall_phase2 = overall_loc_scores_final.merge(phase2[['Student','functions']], on='Student', how='left')\n",
    "overall_phase2"
   ]
  },
  {
   "cell_type": "markdown",
   "id": "1f7a7682",
   "metadata": {},
   "source": [
    "## Functions Dataframe for Phase 3"
   ]
  },
  {
   "cell_type": "code",
   "execution_count": null,
   "id": "784dfa6a",
   "metadata": {},
   "outputs": [],
   "source": [
    "phase3 = pd.concat([phase3_name_drop, phase3_functions], axis=1)\n",
    "\n",
    "phase3"
   ]
  },
  {
   "cell_type": "markdown",
   "id": "b574b893",
   "metadata": {},
   "source": [
    "### phase 3 functions dataframe merge with overall dataframe to know the groups. "
   ]
  },
  {
   "cell_type": "code",
   "execution_count": null,
   "id": "ff6b2138",
   "metadata": {},
   "outputs": [],
   "source": [
    "overall_phase3 = overall_loc_scores_final.merge(phase3[['Student','functions']], on='Student', how='left')\n",
    "overall_phase3"
   ]
  },
  {
   "cell_type": "markdown",
   "id": "8b6485c1",
   "metadata": {},
   "source": [
    "## Functions Dataframe for Phase 4"
   ]
  },
  {
   "cell_type": "code",
   "execution_count": null,
   "id": "b3e603ea",
   "metadata": {},
   "outputs": [],
   "source": [
    "phase4 = pd.concat([phase4_name_drop, phase4_functions], axis=1)\n",
    "\n",
    "phase4"
   ]
  },
  {
   "cell_type": "markdown",
   "id": "639de82f",
   "metadata": {},
   "source": [
    "### phase 4 functions dataframe merge with overall dataframe to know the groups. "
   ]
  },
  {
   "cell_type": "code",
   "execution_count": null,
   "id": "2ad0805c",
   "metadata": {},
   "outputs": [],
   "source": [
    "overall_phase4 = overall_loc_scores_final.merge(phase4[['Student','functions']], on='Student', how='left')\n",
    "overall_phase4"
   ]
  },
  {
   "cell_type": "markdown",
   "id": "b04aaaa6",
   "metadata": {},
   "source": [
    "## Functions Dataframe for Phase 5"
   ]
  },
  {
   "cell_type": "code",
   "execution_count": null,
   "id": "b622a789",
   "metadata": {},
   "outputs": [],
   "source": [
    "phase5 = pd.concat([phase5_name_drop, phase5_functions], axis=1)\n",
    "\n",
    "phase5"
   ]
  },
  {
   "cell_type": "markdown",
   "id": "4e6c5fdf",
   "metadata": {},
   "source": [
    "### phase 5 functions dataframe merge with overall dataframe to know the groups. "
   ]
  },
  {
   "cell_type": "code",
   "execution_count": null,
   "id": "64b2ab80",
   "metadata": {},
   "outputs": [],
   "source": [
    "overall_phase5 = overall_loc_scores_final.merge(phase5[['Student','functions']], on='Student', how='left')\n",
    "overall_phase5"
   ]
  },
  {
   "cell_type": "markdown",
   "id": "d24520a1",
   "metadata": {},
   "source": [
    "## Extract Bogota 0, 1, 2, 3 from Phase 1 Dataframe"
   ]
  },
  {
   "cell_type": "code",
   "execution_count": null,
   "id": "d4767441",
   "metadata": {},
   "outputs": [],
   "source": [
    "overall_phase1_bogota0 = overall_phase1.loc[overall_phase1['Group'] == 0]\n",
    "overall_phase1_bogota1 = overall_phase1.loc[overall_phase1['Group'] == 1]\n",
    "overall_phase1_bogota2 = overall_phase1.loc[overall_phase1['Group'] == 2]\n",
    "overall_phase1_bogota3 = overall_phase1.loc[overall_phase1['Group'] == 3]"
   ]
  },
  {
   "cell_type": "markdown",
   "id": "d77ccd2f",
   "metadata": {},
   "source": [
    "## Extract Bogota 0, 1, 2, 3 from Phase 2 Data Frame"
   ]
  },
  {
   "cell_type": "code",
   "execution_count": null,
   "id": "2fe1647e",
   "metadata": {},
   "outputs": [],
   "source": [
    "overall_phase2_bogota0 = overall_phase2.loc[overall_phase2['Group'] == 0]\n",
    "overall_phase2_bogota1 = overall_phase2.loc[overall_phase2['Group'] == 1]\n",
    "overall_phase2_bogota2 = overall_phase2.loc[overall_phase2['Group'] == 2]\n",
    "overall_phase2_bogota3 = overall_phase2.loc[overall_phase2['Group'] == 3]"
   ]
  },
  {
   "cell_type": "markdown",
   "id": "bbd41763",
   "metadata": {},
   "source": [
    "## Extract Bogota 0, 1, 2, 3 from Phase 3 Data Frame"
   ]
  },
  {
   "cell_type": "code",
   "execution_count": null,
   "id": "e5f05587",
   "metadata": {},
   "outputs": [],
   "source": [
    "overall_phase3_bogota0 = overall_phase3.loc[overall_phase3['Group'] == 0]\n",
    "overall_phase3_bogota1 = overall_phase3.loc[overall_phase3['Group'] == 1]\n",
    "overall_phase3_bogota2 = overall_phase3.loc[overall_phase3['Group'] == 2]\n",
    "overall_phase3_bogota3 = overall_phase3.loc[overall_phase3['Group'] == 3]"
   ]
  },
  {
   "cell_type": "markdown",
   "id": "547b37e9",
   "metadata": {},
   "source": [
    "## Extract Bogota 0, 1, 2, 3 from Phase 4 Data Frame"
   ]
  },
  {
   "cell_type": "code",
   "execution_count": null,
   "id": "af276aa1",
   "metadata": {},
   "outputs": [],
   "source": [
    "overall_phase4_bogota0 = overall_phase4.loc[overall_phase4['Group'] == 0]\n",
    "overall_phase4_bogota1 = overall_phase4.loc[overall_phase4['Group'] == 1]\n",
    "overall_phase4_bogota2 = overall_phase4.loc[overall_phase4['Group'] == 2]\n",
    "overall_phase4_bogota3 = overall_phase4.loc[overall_phase4['Group'] == 3]"
   ]
  },
  {
   "cell_type": "markdown",
   "id": "161e7de7",
   "metadata": {},
   "source": [
    "## Extract Bogota 0, 1, 2, 3 from Phase 5 Data Frame"
   ]
  },
  {
   "cell_type": "code",
   "execution_count": null,
   "id": "a26e871e",
   "metadata": {},
   "outputs": [],
   "source": [
    "overall_phase5_bogota0 = overall_phase5.loc[overall_phase5['Group'] == 0]\n",
    "overall_phase5_bogota1 = overall_phase5.loc[overall_phase5['Group'] == 1]\n",
    "overall_phase5_bogota2 = overall_phase5.loc[overall_phase5['Group'] == 2]\n",
    "overall_phase5_bogota3 = overall_phase5.loc[overall_phase5['Group'] == 3]\n",
    "overall_phase5_bogota2"
   ]
  },
  {
   "cell_type": "code",
   "execution_count": null,
   "id": "ea16e11f",
   "metadata": {},
   "outputs": [],
   "source": [
    "import itertools\n",
    "import pandas as pd\n",
    "\n",
    "overall_phase2_bogota3 = overall_phase2_bogota3[overall_phase2_bogota3.functions != '']\n",
    "\n",
    "# copied from OP above\n",
    "def jaccard_similarity(x, y):\n",
    "    \"\"\" returns the jaccard similarity between two lists \"\"\"\n",
    "    intersection_cardinality = len(set.intersection(*[set(x), set(y)]))\n",
    "    union_cardinality = len(set.union(*[set(x), set(y)]))\n",
    "    return intersection_cardinality/float(union_cardinality)\n",
    "\n",
    "# create list of tuples like [(wording, user), (wording, user)]\n",
    "wordings_users = list(zip(overall_phase2_bogota3[\"functions\"], overall_phase2_bogota3[\"Student\"]))\n",
    "\n",
    "result = []\n",
    "\n",
    "# create list of all possible combinations between sets of (wording, user) and loop through them\n",
    "for item in list(itertools.combinations(wordings_users, 2)):\n",
    "    similarity = jaccard_similarity(item[0][0], item[1][0])\n",
    "    data = {\"user1\": item[0][1], \"user2\": item[1][1], \"similarity\": similarity}\n",
    "    result.append(data)\n",
    "\n",
    "df1 = pd.DataFrame(result)\n",
    "df1"
   ]
  },
  {
   "cell_type": "code",
   "execution_count": null,
   "id": "a7f225ab",
   "metadata": {},
   "outputs": [],
   "source": [
    "import itertools\n",
    "import pandas as pd\n",
    "\n",
    "overall_phase4_bogota3 = overall_phase4_bogota3[overall_phase4_bogota3.functions != '']\n",
    "\n",
    "# copied from OP above\n",
    "def jaccard_similarity(x, y):\n",
    "    \"\"\" returns the jaccard similarity between two lists \"\"\"\n",
    "    intersection_cardinality = len(set.intersection(*[set(x), set(y)]))\n",
    "    union_cardinality = len(set.union(*[set(x), set(y)]))\n",
    "    return intersection_cardinality/float(union_cardinality)\n",
    "\n",
    "# create list of tuples like [(wording, user), (wording, user)]\n",
    "wordings_users = list(zip(overall_phase4_bogota3[\"functions\"], overall_phase4_bogota3[\"Student\"]))\n",
    "\n",
    "result = []\n",
    "\n",
    "# create list of all possible combinations between sets of (wording, user) and loop through them\n",
    "for item in list(itertools.combinations(wordings_users, 2)):\n",
    "    similarity = jaccard_similarity(item[0][0], item[1][0])\n",
    "    data = {\"user1\": item[0][1], \"user2\": item[1][1], \"similarity\": similarity}\n",
    "    result.append(data)\n",
    "\n",
    "df1 = pd.DataFrame(result)\n",
    "df1"
   ]
  },
  {
   "cell_type": "code",
   "execution_count": null,
   "id": "782ba38f",
   "metadata": {},
   "outputs": [],
   "source": [
    "import itertools\n",
    "import pandas as pd\n",
    "\n",
    "overall_phase5_bogota3 = overall_phase5_bogota3[overall_phase5_bogota3.functions != '']\n",
    "\n",
    "# copied from OP above\n",
    "def jaccard_similarity(x, y):\n",
    "    \"\"\" returns the jaccard similarity between two lists \"\"\"\n",
    "    intersection_cardinality = len(set.intersection(*[set(x), set(y)]))\n",
    "    union_cardinality = len(set.union(*[set(x), set(y)]))\n",
    "    return intersection_cardinality/float(union_cardinality)\n",
    "\n",
    "# create list of tuples like [(wording, user), (wording, user)]\n",
    "wordings_users = list(zip(overall_phase5_bogota3[\"functions\"], overall_phase5_bogota3[\"Student\"]))\n",
    "\n",
    "result = []\n",
    "\n",
    "# create list of all possible combinations between sets of (wording, user) and loop through them\n",
    "for item in list(itertools.combinations(wordings_users, 2)):\n",
    "    similarity = jaccard_similarity(item[0][0], item[1][0])\n",
    "    data = {\"user1\": item[0][1], \"user2\": item[1][1], \"similarity\": similarity}\n",
    "    result.append(data)\n",
    "\n",
    "df1 = pd.DataFrame(result)\n",
    "df1"
   ]
  },
  {
   "cell_type": "markdown",
   "id": "26a4f6a4",
   "metadata": {},
   "source": [
    "## Subset Bogota 0 Phase 5"
   ]
  },
  {
   "cell_type": "code",
   "execution_count": null,
   "id": "3091314e",
   "metadata": {},
   "outputs": [],
   "source": [
    "import numpy as np\n",
    "overall_phase5_bogota0['phase'] = 5\n",
    "overall_phase5_bogota0['functions'].replace('', np.nan, inplace=True)\n",
    "overall_phase5_bogota0.dropna(subset=['functions'], inplace=True)\n",
    "subset_bogota0_phase5 = overall_phase5_bogota0[['Student', 'functions', 'phase']]\n",
    "subset_bogota0_phase5"
   ]
  },
  {
   "cell_type": "markdown",
   "id": "93e3fdf5",
   "metadata": {},
   "source": [
    "## Subset Bogota 0 Phase 4"
   ]
  },
  {
   "cell_type": "code",
   "execution_count": null,
   "id": "e5699237",
   "metadata": {},
   "outputs": [],
   "source": [
    "import numpy as np\n",
    "overall_phase4_bogota0['phase'] = 4\n",
    "overall_phase4_bogota0['functions'].replace('', np.nan, inplace=True)\n",
    "overall_phase4_bogota0.dropna(subset=['functions'], inplace=True)\n",
    "subset_bogota0_phase4 = overall_phase4_bogota0[['Student', 'functions', 'phase']]\n",
    "subset_bogota0_phase4"
   ]
  },
  {
   "cell_type": "markdown",
   "id": "2d81625f",
   "metadata": {},
   "source": [
    "## Subset Bogota 0 Phase 3"
   ]
  },
  {
   "cell_type": "code",
   "execution_count": null,
   "id": "5b93f251",
   "metadata": {},
   "outputs": [],
   "source": [
    "import numpy as np\n",
    "overall_phase3_bogota0['phase'] = 3\n",
    "overall_phase3_bogota0['functions'].replace('', np.nan, inplace=True)\n",
    "overall_phase3_bogota0.dropna(subset=['functions'], inplace=True)\n",
    "subset_bogota0_phase3 = overall_phase3_bogota0[['Student', 'functions', 'phase']]\n",
    "subset_bogota0_phase3"
   ]
  },
  {
   "cell_type": "markdown",
   "id": "82b12162",
   "metadata": {},
   "source": [
    "## Subset Bogota 0 Phase 2"
   ]
  },
  {
   "cell_type": "code",
   "execution_count": null,
   "id": "7d2ed3e9",
   "metadata": {},
   "outputs": [],
   "source": [
    "import numpy as np\n",
    "overall_phase2_bogota0['phase'] = 2\n",
    "overall_phase2_bogota0['functions'].replace('', np.nan, inplace=True)\n",
    "overall_phase2_bogota0.dropna(subset=['functions'], inplace=True)\n",
    "subset_bogota0_phase2 = overall_phase2_bogota0[['Student', 'functions', 'phase']]\n",
    "subset_bogota0_phase2"
   ]
  },
  {
   "cell_type": "markdown",
   "id": "1ea6330b",
   "metadata": {},
   "source": [
    "## Subset Bogota 0 Phase 1"
   ]
  },
  {
   "cell_type": "code",
   "execution_count": null,
   "id": "b0e71c01",
   "metadata": {},
   "outputs": [],
   "source": [
    "import numpy as np\n",
    "overall_phase1_bogota0['phase'] = 1\n",
    "overall_phase1_bogota0['functions'].replace('', np.nan, inplace=True)\n",
    "overall_phase1_bogota0.dropna(subset=['functions'], inplace=True)\n",
    "subset_bogota0_phase1 = overall_phase1_bogota0[['Student', 'functions', 'phase']]\n",
    "subset_bogota0_phase1"
   ]
  },
  {
   "cell_type": "markdown",
   "id": "615550e4",
   "metadata": {},
   "source": [
    "## Subset Bogota 1 Phase 5"
   ]
  },
  {
   "cell_type": "code",
   "execution_count": null,
   "id": "e809ecf3",
   "metadata": {},
   "outputs": [],
   "source": [
    "import numpy as np\n",
    "overall_phase5_bogota1['phase'] = 5\n",
    "overall_phase5_bogota1['functions'].replace('', np.nan, inplace=True)\n",
    "overall_phase5_bogota1.dropna(subset=['functions'], inplace=True)\n",
    "subset_bogota1_phase5 = overall_phase5_bogota1[['Student', 'functions', 'phase']]\n",
    "subset_bogota1_phase5"
   ]
  },
  {
   "cell_type": "markdown",
   "id": "8b6c0f04",
   "metadata": {},
   "source": [
    "## Subset Bogota 1 Phase 4"
   ]
  },
  {
   "cell_type": "code",
   "execution_count": null,
   "id": "e19b3cf1",
   "metadata": {},
   "outputs": [],
   "source": [
    "import numpy as np\n",
    "overall_phase4_bogota1['phase'] = 4\n",
    "overall_phase4_bogota1['functions'].replace('', np.nan, inplace=True)\n",
    "overall_phase4_bogota1.dropna(subset=['functions'], inplace=True)\n",
    "subset_bogota1_phase4 = overall_phase4_bogota1[['Student', 'functions', 'phase']]\n",
    "subset_bogota1_phase4"
   ]
  },
  {
   "cell_type": "markdown",
   "id": "5a6c8da7",
   "metadata": {},
   "source": [
    "## Subset Bogota 1 Phase 3"
   ]
  },
  {
   "cell_type": "code",
   "execution_count": null,
   "id": "272b52af",
   "metadata": {},
   "outputs": [],
   "source": [
    "import numpy as np\n",
    "overall_phase3_bogota1['phase'] = 3\n",
    "overall_phase3_bogota1['functions'].replace('', np.nan, inplace=True)\n",
    "overall_phase3_bogota1.dropna(subset=['functions'], inplace=True)\n",
    "subset_bogota1_phase3 = overall_phase3_bogota1[['Student', 'functions', 'phase']]\n",
    "subset_bogota1_phase3"
   ]
  },
  {
   "cell_type": "markdown",
   "id": "5d286b9a",
   "metadata": {},
   "source": [
    "## Subset Bogota 2 Phase 2"
   ]
  },
  {
   "cell_type": "code",
   "execution_count": null,
   "id": "0afb20a6",
   "metadata": {},
   "outputs": [],
   "source": [
    "import numpy as np\n",
    "overall_phase2_bogota1['phase'] = 2\n",
    "overall_phase2_bogota1['functions'].replace('', np.nan, inplace=True)\n",
    "overall_phase2_bogota1.dropna(subset=['functions'], inplace=True)\n",
    "subset_bogota1_phase2 = overall_phase2_bogota1[['Student', 'functions', 'phase']]\n",
    "subset_bogota1_phase2"
   ]
  },
  {
   "cell_type": "markdown",
   "id": "a6c5a410",
   "metadata": {},
   "source": [
    "## Subset Bogota 1 Phase 1 "
   ]
  },
  {
   "cell_type": "code",
   "execution_count": null,
   "id": "8e5f4e0c",
   "metadata": {},
   "outputs": [],
   "source": [
    "import numpy as np\n",
    "overall_phase1_bogota1['phase'] = 1\n",
    "overall_phase1_bogota1['functions'].replace('', np.nan, inplace=True)\n",
    "overall_phase1_bogota1.dropna(subset=['functions'], inplace=True)\n",
    "subset_bogota1_phase1 = overall_phase1_bogota1[['Student', 'functions', 'phase']]\n",
    "subset_bogota1_phase1"
   ]
  },
  {
   "cell_type": "code",
   "execution_count": null,
   "id": "e30abd31",
   "metadata": {},
   "outputs": [],
   "source": [
    "import numpy as np\n",
    "overall_phase5_bogota2['phase'] = 5\n",
    "overall_phase5_bogota2['functions'].replace('', np.nan, inplace=True)\n",
    "overall_phase5_bogota2.dropna(subset=['functions'], inplace=True)\n",
    "subset_bogota2_phase5 = overall_phase5_bogota2[['Student', 'functions', 'phase']]\n",
    "subset_bogota2_phase5"
   ]
  },
  {
   "cell_type": "code",
   "execution_count": null,
   "id": "1d38c347",
   "metadata": {},
   "outputs": [],
   "source": [
    "import numpy as np\n",
    "overall_phase4_bogota2['phase'] = 4\n",
    "overall_phase4_bogota2['functions'].replace('', np.nan, inplace=True)\n",
    "overall_phase4_bogota2.dropna(subset=['functions'], inplace=True)\n",
    "subset_bogota2_phase4 = overall_phase4_bogota2[['Student', 'functions', 'phase']]\n",
    "subset_bogota2_phase4"
   ]
  },
  {
   "cell_type": "code",
   "execution_count": null,
   "id": "2aed019b",
   "metadata": {},
   "outputs": [],
   "source": [
    "import numpy as np\n",
    "overall_phase3_bogota2['phase'] = 3\n",
    "overall_phase3_bogota2['functions'].replace('', np.nan, inplace=True)\n",
    "overall_phase3_bogota2.dropna(subset=['functions'], inplace=True)\n",
    "subset_bogota2_phase3 = overall_phase3_bogota2[['Student', 'functions', 'phase']]\n",
    "subset_bogota2_phase3"
   ]
  },
  {
   "cell_type": "code",
   "execution_count": null,
   "id": "e30755ab",
   "metadata": {},
   "outputs": [],
   "source": [
    "import numpy as np\n",
    "overall_phase2_bogota2['phase'] = 2\n",
    "overall_phase2_bogota2['functions'].replace('', np.nan, inplace=True)\n",
    "overall_phase2_bogota2.dropna(subset=['functions'], inplace=True)\n",
    "subset_bogota2_phase2 = overall_phase2_bogota2[['Student', 'functions', 'phase']]\n",
    "subset_bogota2_phase2"
   ]
  },
  {
   "cell_type": "code",
   "execution_count": null,
   "id": "68d8d33e",
   "metadata": {},
   "outputs": [],
   "source": [
    "import numpy as np\n",
    "overall_phase1_bogota2['phase'] = 1\n",
    "overall_phase1_bogota2['functions'].replace('', np.nan, inplace=True)\n",
    "overall_phase1_bogota2.dropna(subset=['functions'], inplace=True)\n",
    "subset_bogota2_phase1 = overall_phase1_bogota2[['Student', 'functions', 'phase']]\n",
    "subset_bogota2_phase1"
   ]
  },
  {
   "cell_type": "markdown",
   "id": "e233016a",
   "metadata": {},
   "source": [
    "## Merge Two Phases into One Frame"
   ]
  },
  {
   "cell_type": "code",
   "execution_count": null,
   "id": "8462e68a",
   "metadata": {},
   "outputs": [],
   "source": [
    "phase15_bogota0 = overall_phase1_bogota0.append(overall_phase5_bogota0, ignore_index = True)\n",
    "df_phase15_bogota0 = phase15_bogota0[['Student', 'functions', 'phase']]\n",
    "df_phase15_bogota0"
   ]
  },
  {
   "cell_type": "code",
   "execution_count": null,
   "id": "40ce78dd",
   "metadata": {},
   "outputs": [],
   "source": [
    "phase12_bogota0 = overall_phase1_bogota0.append(overall_phase2_bogota0, ignore_index = True)\n",
    "df_phase12_bogota0 = phase12_bogota0[['Student', 'functions', 'phase']]\n",
    "df_phase12_bogota0"
   ]
  },
  {
   "cell_type": "code",
   "execution_count": null,
   "id": "2bac5ac3",
   "metadata": {},
   "outputs": [],
   "source": [
    "phase23_bogota0 = overall_phase2_bogota0.append(overall_phase3_bogota0, ignore_index = True)\n",
    "df_phase23_bogota0 = phase23_bogota0[['Student', 'functions', 'phase']]\n",
    "df_phase23_bogota0"
   ]
  },
  {
   "cell_type": "code",
   "execution_count": null,
   "id": "4dc12145",
   "metadata": {},
   "outputs": [],
   "source": [
    "phase34_bogota0 = overall_phase3_bogota0.append(overall_phase4_bogota0, ignore_index = True)\n",
    "df_phase34_bogota0 = phase34_bogota0[['Student', 'functions', 'phase']]\n",
    "df_phase34_bogota0"
   ]
  },
  {
   "cell_type": "code",
   "execution_count": null,
   "id": "e1eb0052",
   "metadata": {},
   "outputs": [],
   "source": [
    "phase45_bogota0 = overall_phase4_bogota0.append(overall_phase5_bogota0, ignore_index = True)\n",
    "df_phase45_bogota0 = phase45_bogota0[['Student', 'functions', 'phase']]\n",
    "df_phase45_bogota0"
   ]
  },
  {
   "cell_type": "code",
   "execution_count": null,
   "id": "c9f16ccd",
   "metadata": {},
   "outputs": [],
   "source": [
    "phase15_bogota1 = overall_phase1_bogota1.append(overall_phase5_bogota1, ignore_index = True)\n",
    "df_phase15_bogota1 = phase15_bogota1[['Student', 'functions', 'phase']]\n",
    "df_phase15_bogota1"
   ]
  },
  {
   "cell_type": "code",
   "execution_count": null,
   "id": "3fe12759",
   "metadata": {},
   "outputs": [],
   "source": [
    "phase12_bogota1 = overall_phase1_bogota1.append(overall_phase2_bogota1, ignore_index = True)\n",
    "df_phase12_bogota1 = phase12_bogota1[['Student', 'functions', 'phase']]\n",
    "df_phase12_bogota1"
   ]
  },
  {
   "cell_type": "code",
   "execution_count": null,
   "id": "0a4a93a2",
   "metadata": {},
   "outputs": [],
   "source": [
    "phase23_bogota1 = overall_phase2_bogota1.append(overall_phase3_bogota1, ignore_index = True)\n",
    "df_phase23_bogota1 = phase23_bogota1[['Student', 'functions', 'phase']]\n",
    "df_phase23_bogota1"
   ]
  },
  {
   "cell_type": "code",
   "execution_count": null,
   "id": "b10710f8",
   "metadata": {},
   "outputs": [],
   "source": [
    "phase34_bogota1 = overall_phase3_bogota1.append(overall_phase4_bogota1, ignore_index = True)\n",
    "df_phase34_bogota1 = phase34_bogota1[['Student', 'functions', 'phase']]\n",
    "df_phase34_bogota1"
   ]
  },
  {
   "cell_type": "code",
   "execution_count": null,
   "id": "ead5547f",
   "metadata": {},
   "outputs": [],
   "source": [
    "phase45_bogota1 = overall_phase4_bogota1.append(overall_phase5_bogota1, ignore_index = True)\n",
    "df_phase45_bogota1 = phase45_bogota1[['Student', 'functions', 'phase']]\n",
    "df_phase45_bogota1"
   ]
  },
  {
   "cell_type": "code",
   "execution_count": null,
   "id": "f4b882cb",
   "metadata": {},
   "outputs": [],
   "source": [
    "phase12_bogota2 = overall_phase1_bogota2.append(overall_phase2_bogota2, ignore_index = True)\n",
    "df_phase12_bogota2 = phase12_bogota2[['Student', 'functions', 'phase']]\n",
    "df_phase12_bogota2"
   ]
  },
  {
   "cell_type": "code",
   "execution_count": null,
   "id": "a2c53f3b",
   "metadata": {},
   "outputs": [],
   "source": [
    "phase23_bogota2 = overall_phase2_bogota2.append(overall_phase3_bogota2, ignore_index = True)\n",
    "df_phase23_bogota2 = phase23_bogota2[['Student', 'functions', 'phase']]\n",
    "df_phase23_bogota2"
   ]
  },
  {
   "cell_type": "code",
   "execution_count": null,
   "id": "a48ff4f6",
   "metadata": {},
   "outputs": [],
   "source": [
    "phase34_bogota2 = overall_phase3_bogota2.append(overall_phase4_bogota2, ignore_index = True)\n",
    "df_phase34_bogota2 = phase34_bogota2[['Student', 'functions', 'phase']]\n",
    "df_phase34_bogota2"
   ]
  },
  {
   "cell_type": "code",
   "execution_count": null,
   "id": "85aedfb4",
   "metadata": {},
   "outputs": [],
   "source": [
    "phase45_bogota2 = overall_phase4_bogota2.append(overall_phase5_bogota2, ignore_index = True)\n",
    "df_phase45_bogota2 = phase45_bogota2[['Student', 'functions', 'phase']]\n",
    "df_phase45_bogota2"
   ]
  },
  {
   "cell_type": "code",
   "execution_count": null,
   "id": "8a090c45",
   "metadata": {},
   "outputs": [],
   "source": [
    "phase15_bogota2 = overall_phase1_bogota2.append(overall_phase5_bogota2, ignore_index = True)\n",
    "df_phase15_bogota2 = phase15_bogota2[['Student', 'functions', 'phase']]\n",
    "df_phase15_bogota2"
   ]
  },
  {
   "cell_type": "markdown",
   "id": "2cf491e6",
   "metadata": {},
   "source": [
    "## Comparing Phase 4 and Phase 5 Bogota 3"
   ]
  },
  {
   "cell_type": "code",
   "execution_count": null,
   "id": "55152e77",
   "metadata": {},
   "outputs": [],
   "source": [
    "overall_phase5_bogota3['phase'] = 5\n",
    "overall_phase5_bogota3\n",
    "overall_phase5_bogota3[['Student', 'functions', 'phase']]\n"
   ]
  },
  {
   "cell_type": "code",
   "execution_count": null,
   "id": "5e2c57d3",
   "metadata": {},
   "outputs": [],
   "source": [
    "overall_phase4_bogota3['phase'] = 4\n",
    "overall_phase4_bogota3\n",
    "overall_phase4_bogota3[['Student', 'functions', 'phase']]"
   ]
  },
  {
   "cell_type": "code",
   "execution_count": null,
   "id": "be834be1",
   "metadata": {},
   "outputs": [],
   "source": [
    "import numpy as np\n",
    "overall_phase3_bogota3['phase'] = 3\n",
    "overall_phase3_bogota3['functions'].replace('', np.nan, inplace=True)\n",
    "overall_phase3_bogota3.dropna(subset=['functions'], inplace=True)\n",
    "subset_bogota3_phase3 = overall_phase3_bogota3[['Student', 'functions', 'phase']]\n",
    "subset_bogota3_phase3"
   ]
  },
  {
   "cell_type": "code",
   "execution_count": null,
   "id": "316c2350",
   "metadata": {},
   "outputs": [],
   "source": [
    "overall_phase2_bogota3['phase'] = 2\n",
    "overall_phase2_bogota3\n",
    "overall_phase2_bogota3[['Student', 'functions', 'phase']]\n"
   ]
  },
  {
   "cell_type": "code",
   "execution_count": null,
   "id": "3b8cc0b8",
   "metadata": {},
   "outputs": [],
   "source": [
    "import numpy as np\n",
    "overall_phase1_bogota3['phase'] = 1\n",
    "overall_phase1_bogota3['functions'].replace('', np.nan, inplace=True)\n",
    "overall_phase1_bogota3.dropna(subset=['functions'], inplace=True)\n",
    "subset_bogota3_phase1 = overall_phase1_bogota3[['Student', 'functions', 'phase']]\n",
    "subset_bogota3_phase1"
   ]
  },
  {
   "cell_type": "code",
   "execution_count": null,
   "id": "e438625d",
   "metadata": {},
   "outputs": [],
   "source": [
    "phase12 = subset_bogota3_phase1.append(overall_phase2_bogota3, ignore_index = True)\n",
    "df_phase12 = phase12[['Student', 'functions', 'phase']]\n",
    "df_phase12"
   ]
  },
  {
   "cell_type": "code",
   "execution_count": null,
   "id": "7faf797d",
   "metadata": {},
   "outputs": [],
   "source": [
    "phase23 = overall_phase2_bogota3.append(subset_bogota3_phase3, ignore_index = True)\n",
    "df_phase23 = phase23[['Student', 'functions', 'phase']]\n",
    "df_phase23"
   ]
  },
  {
   "cell_type": "code",
   "execution_count": null,
   "id": "7bfe7bae",
   "metadata": {},
   "outputs": [],
   "source": [
    "phase34 = subset_bogota3_phase3.append(overall_phase4_bogota3, ignore_index = True)\n",
    "df_phase34 = phase34[['Student', 'functions', 'phase']]\n",
    "df_phase34"
   ]
  },
  {
   "cell_type": "code",
   "execution_count": null,
   "id": "31ba9933",
   "metadata": {},
   "outputs": [],
   "source": [
    "phase45 = overall_phase4_bogota3.append(overall_phase5_bogota3, ignore_index = True)\n",
    "df_phase45 = phase45[['Student', 'functions', 'phase']]\n",
    "df_phase45"
   ]
  },
  {
   "cell_type": "code",
   "execution_count": null,
   "id": "513950c1",
   "metadata": {},
   "outputs": [],
   "source": [
    "phase15 = overall_phase1_bogota3.append(overall_phase5_bogota3, ignore_index = True)\n",
    "df_phase15 = phase15[['Student', 'functions', 'phase']]\n",
    "df_phase15"
   ]
  },
  {
   "cell_type": "code",
   "execution_count": null,
   "id": "c6dd3ea4",
   "metadata": {},
   "outputs": [],
   "source": [
    "# create list of tuples like [(wording, user), (wording, user)]\n",
    "# copied from OP above\n",
    "def jaccard_similarity(x, y):\n",
    "    \"\"\" returns the jaccard similarity between two lists \"\"\"\n",
    "    intersection_cardinality = len(set.intersection(*[set(x), set(y)]))\n",
    "    union_cardinality = len(set.union(*[set(x), set(y)]))\n",
    "    return intersection_cardinality/float(union_cardinality)\n",
    "\n",
    "wordings_users = list(zip(df_phase15_bogota0[\"functions\"], df_phase15_bogota0[\"Student\"], df_phase15_bogota0[\"phase\"]))\n",
    "\n",
    "result = []\n",
    "\n",
    "# create list of all possible combinations between sets of (wording, user) and loop through them\n",
    "for item in list(itertools.combinations(wordings_users, 2)):\n",
    "    similarity = jaccard_similarity(item[0][0], item[1][0])\n",
    "    data = {\"user1\": item[0][1], \"user2\": item[1][1], \"user1_phase\": item[0][2], \"user2_phase\": item[1][2], \"similarity\": similarity}\n",
    "    result.append(data)\n",
    "\n",
    "df0_bogota0 = pd.DataFrame(result)\n",
    "df0_bogota0"
   ]
  },
  {
   "cell_type": "code",
   "execution_count": null,
   "id": "7d56738c",
   "metadata": {},
   "outputs": [],
   "source": [
    "# create list of tuples like [(wording, user), (wording, user)]\n",
    "# copied from OP above\n",
    "def jaccard_similarity(x, y):\n",
    "    \"\"\" returns the jaccard similarity between two lists \"\"\"\n",
    "    intersection_cardinality = len(set.intersection(*[set(x), set(y)]))\n",
    "    union_cardinality = len(set.union(*[set(x), set(y)]))\n",
    "    return intersection_cardinality/float(union_cardinality)\n",
    "\n",
    "wordings_users = list(zip(df_phase15_bogota1[\"functions\"], df_phase15_bogota1[\"Student\"], df_phase15_bogota1[\"phase\"]))\n",
    "\n",
    "result = []\n",
    "\n",
    "# create list of all possible combinations between sets of (wording, user) and loop through them\n",
    "for item in list(itertools.combinations(wordings_users, 2)):\n",
    "    similarity = jaccard_similarity(item[0][0], item[1][0])\n",
    "    data = {\"user1\": item[0][1], \"user2\": item[1][1], \"user1_phase\": item[0][2], \"user2_phase\": item[1][2], \"similarity\": similarity}\n",
    "    result.append(data)\n",
    "\n",
    "df0_bogota1 = pd.DataFrame(result)\n",
    "df0_bogota1"
   ]
  },
  {
   "cell_type": "code",
   "execution_count": null,
   "id": "a6e9ccbd",
   "metadata": {},
   "outputs": [],
   "source": [
    "# create list of tuples like [(wording, user), (wording, user)]\n",
    "# copied from OP above\n",
    "def jaccard_similarity(x, y):\n",
    "    \"\"\" returns the jaccard similarity between two lists \"\"\"\n",
    "    intersection_cardinality = len(set.intersection(*[set(x), set(y)]))\n",
    "    union_cardinality = len(set.union(*[set(x), set(y)]))\n",
    "    return intersection_cardinality/float(union_cardinality)\n",
    "\n",
    "wordings_users = list(zip(df_phase15_bogota2[\"functions\"], df_phase15_bogota2[\"Student\"], df_phase15_bogota2[\"phase\"]))\n",
    "\n",
    "result = []\n",
    "\n",
    "# create list of all possible combinations between sets of (wording, user) and loop through them\n",
    "for item in list(itertools.combinations(wordings_users, 2)):\n",
    "    similarity = jaccard_similarity(item[0][0], item[1][0])\n",
    "    data = {\"user1\": item[0][1], \"user2\": item[1][1], \"user1_phase\": item[0][2], \"user2_phase\": item[1][2], \"similarity\": similarity}\n",
    "    result.append(data)\n",
    "\n",
    "df0_bogota2 = pd.DataFrame(result)\n",
    "df0_bogota2"
   ]
  },
  {
   "cell_type": "code",
   "execution_count": null,
   "id": "1c7a3442",
   "metadata": {},
   "outputs": [],
   "source": [
    "# create list of tuples like [(wording, user), (wording, user)]\n",
    "# copied from OP above\n",
    "def jaccard_similarity(x, y):\n",
    "    \"\"\" returns the jaccard similarity between two lists \"\"\"\n",
    "    intersection_cardinality = len(set.intersection(*[set(x), set(y)]))\n",
    "    union_cardinality = len(set.union(*[set(x), set(y)]))\n",
    "    return intersection_cardinality/float(union_cardinality)\n",
    "\n",
    "wordings_users = list(zip(df_phase15[\"functions\"], df_phase15[\"Student\"], df_phase15[\"phase\"]))\n",
    "\n",
    "\n",
    "result = []\n",
    "\n",
    "# create list of all possible combinations between sets of (wording, user) and loop through them\n",
    "for item in list(itertools.combinations(wordings_users, 2)):\n",
    "    similarity = jaccard_similarity(item[0][0], item[1][0])\n",
    "    data = {\"user1\": item[0][1], \"user2\": item[1][1], \"user1_phase\": item[0][2], \"user2_phase\": item[1][2], \"similarity\": similarity}\n",
    "    result.append(data)\n",
    "\n",
    "df0 = pd.DataFrame(result)\n",
    "df0"
   ]
  },
  {
   "cell_type": "code",
   "execution_count": null,
   "id": "b4114f0b",
   "metadata": {},
   "outputs": [],
   "source": [
    "# create list of tuples like [(wording, user), (wording, user)]\n",
    "# copied from OP above\n",
    "def jaccard_similarity(x, y):\n",
    "    \"\"\" returns the jaccard similarity between two lists \"\"\"\n",
    "    intersection_cardinality = len(set.intersection(*[set(x), set(y)]))\n",
    "    union_cardinality = len(set.union(*[set(x), set(y)]))\n",
    "    return intersection_cardinality/float(union_cardinality)\n",
    "\n",
    "wordings_users = list(zip(df_phase45_bogota0[\"functions\"], df_phase45_bogota0[\"Student\"], df_phase45_bogota0[\"phase\"]))\n",
    "\n",
    "result = []\n",
    "\n",
    "# create list of all possible combinations between sets of (wording, user) and loop through them\n",
    "for item in list(itertools.combinations(wordings_users, 2)):\n",
    "    similarity = jaccard_similarity(item[0][0], item[1][0])\n",
    "    data = {\"user1\": item[0][1], \"user2\": item[1][1], \"user1_phase\": item[0][2], \"user2_phase\": item[1][2], \"similarity\": similarity}\n",
    "    result.append(data)\n",
    "\n",
    "df1_bogota0 = pd.DataFrame(result)\n",
    "df1_bogota0"
   ]
  },
  {
   "cell_type": "code",
   "execution_count": null,
   "id": "02141431",
   "metadata": {},
   "outputs": [],
   "source": [
    "# create list of tuples like [(wording, user), (wording, user)]\n",
    "# copied from OP above\n",
    "def jaccard_similarity(x, y):\n",
    "    \"\"\" returns the jaccard similarity between two lists \"\"\"\n",
    "    intersection_cardinality = len(set.intersection(*[set(x), set(y)]))\n",
    "    union_cardinality = len(set.union(*[set(x), set(y)]))\n",
    "    return intersection_cardinality/float(union_cardinality)\n",
    "\n",
    "wordings_users = list(zip(df_phase45_bogota1[\"functions\"], df_phase45_bogota1[\"Student\"], df_phase45_bogota1[\"phase\"]))\n",
    "\n",
    "result = []\n",
    "\n",
    "# create list of all possible combinations between sets of (wording, user) and loop through them\n",
    "for item in list(itertools.combinations(wordings_users, 2)):\n",
    "    similarity = jaccard_similarity(item[0][0], item[1][0])\n",
    "    data = {\"user1\": item[0][1], \"user2\": item[1][1], \"user1_phase\": item[0][2], \"user2_phase\": item[1][2], \"similarity\": similarity}\n",
    "    result.append(data)\n",
    "\n",
    "df1_bogota1 = pd.DataFrame(result)\n",
    "df1_bogota1"
   ]
  },
  {
   "cell_type": "code",
   "execution_count": null,
   "id": "fa4b4243",
   "metadata": {},
   "outputs": [],
   "source": [
    "# create list of tuples like [(wording, user), (wording, user)]\n",
    "# copied from OP above\n",
    "def jaccard_similarity(x, y):\n",
    "    \"\"\" returns the jaccard similarity between two lists \"\"\"\n",
    "    intersection_cardinality = len(set.intersection(*[set(x), set(y)]))\n",
    "    union_cardinality = len(set.union(*[set(x), set(y)]))\n",
    "    return intersection_cardinality/float(union_cardinality)\n",
    "\n",
    "wordings_users = list(zip(df_phase45_bogota2[\"functions\"], df_phase45_bogota2[\"Student\"], df_phase45_bogota2[\"phase\"]))\n",
    "\n",
    "result = []\n",
    "\n",
    "# create list of all possible combinations between sets of (wording, user) and loop through them\n",
    "for item in list(itertools.combinations(wordings_users, 2)):\n",
    "    similarity = jaccard_similarity(item[0][0], item[1][0])\n",
    "    data = {\"user1\": item[0][1], \"user2\": item[1][1], \"user1_phase\": item[0][2], \"user2_phase\": item[1][2], \"similarity\": similarity}\n",
    "    result.append(data)\n",
    "\n",
    "df1_bogota2 = pd.DataFrame(result)\n",
    "df1_bogota2"
   ]
  },
  {
   "cell_type": "code",
   "execution_count": null,
   "id": "4e6d66b8",
   "metadata": {},
   "outputs": [],
   "source": [
    "# create list of tuples like [(wording, user), (wording, user)]\n",
    "# copied from OP above\n",
    "def jaccard_similarity(x, y):\n",
    "    \"\"\" returns the jaccard similarity between two lists \"\"\"\n",
    "    intersection_cardinality = len(set.intersection(*[set(x), set(y)]))\n",
    "    union_cardinality = len(set.union(*[set(x), set(y)]))\n",
    "    return intersection_cardinality/float(union_cardinality)\n",
    "\n",
    "wordings_users = list(zip(df_phase45[\"functions\"], df_phase45[\"Student\"], df_phase45[\"phase\"]))\n",
    "\n",
    "result = []\n",
    "\n",
    "# create list of all possible combinations between sets of (wording, user) and loop through them\n",
    "for item in list(itertools.combinations(wordings_users, 2)):\n",
    "    similarity = jaccard_similarity(item[0][0], item[1][0])\n",
    "    data = {\"user1\": item[0][1], \"user2\": item[1][1], \"user1_phase\": item[0][2], \"user2_phase\": item[1][2], \"similarity\": similarity}\n",
    "    result.append(data)\n",
    "\n",
    "df1 = pd.DataFrame(result)\n",
    "df1"
   ]
  },
  {
   "cell_type": "code",
   "execution_count": null,
   "id": "3e174607",
   "metadata": {},
   "outputs": [],
   "source": [
    "# create list of tuples like [(wording, user), (wording, user)]\n",
    "# copied from OP above\n",
    "def jaccard_similarity(x, y):\n",
    "    \"\"\" returns the jaccard similarity between two lists \"\"\"\n",
    "    intersection_cardinality = len(set.intersection(*[set(x), set(y)]))\n",
    "    union_cardinality = len(set.union(*[set(x), set(y)]))\n",
    "    return intersection_cardinality/float(union_cardinality)\n",
    "\n",
    "wordings_users = list(zip(df_phase34[\"functions\"], df_phase34[\"Student\"], df_phase34[\"phase\"]))\n",
    "\n",
    "result = []\n",
    "\n",
    "# create list of all possible combinations between sets of (wording, user) and loop through them\n",
    "for item in list(itertools.combinations(wordings_users, 2)):\n",
    "    similarity = jaccard_similarity(item[0][0], item[1][0])\n",
    "    data = {\"user1\": item[0][1], \"user2\": item[1][1], \"user1_phase\": item[0][2], \"user2_phase\": item[1][2], \"similarity\": similarity}\n",
    "    result.append(data)\n",
    "\n",
    "df2 = pd.DataFrame(result)\n",
    "df2"
   ]
  },
  {
   "cell_type": "code",
   "execution_count": null,
   "id": "c2011439",
   "metadata": {},
   "outputs": [],
   "source": [
    "# create list of tuples like [(wording, user), (wording, user)]\n",
    "# copied from OP above\n",
    "def jaccard_similarity(x, y):\n",
    "    \"\"\" returns the jaccard similarity between two lists \"\"\"\n",
    "    intersection_cardinality = len(set.intersection(*[set(x), set(y)]))\n",
    "    union_cardinality = len(set.union(*[set(x), set(y)]))\n",
    "    return intersection_cardinality/float(union_cardinality)\n",
    "\n",
    "wordings_users = list(zip(df_phase34_bogota2[\"functions\"], df_phase34_bogota2[\"Student\"], df_phase34_bogota2[\"phase\"]))\n",
    "\n",
    "\n",
    "result = []\n",
    "\n",
    "# create list of all possible combinations between sets of (wording, user) and loop through them\n",
    "for item in list(itertools.combinations(wordings_users, 2)):\n",
    "    similarity = jaccard_similarity(item[0][0], item[1][0])\n",
    "    data = {\"user1\": item[0][1], \"user2\": item[1][1], \"user1_phase\": item[0][2], \"user2_phase\": item[1][2], \"similarity\": similarity}\n",
    "    result.append(data)\n",
    "\n",
    "df2_bogota2 = pd.DataFrame(result)\n",
    "df2_bogota2"
   ]
  },
  {
   "cell_type": "code",
   "execution_count": null,
   "id": "6db77f8f",
   "metadata": {},
   "outputs": [],
   "source": [
    "# create list of tuples like [(wording, user), (wording, user)]\n",
    "# copied from OP above\n",
    "def jaccard_similarity(x, y):\n",
    "    \"\"\" returns the jaccard similarity between two lists \"\"\"\n",
    "    intersection_cardinality = len(set.intersection(*[set(x), set(y)]))\n",
    "    union_cardinality = len(set.union(*[set(x), set(y)]))\n",
    "    return intersection_cardinality/float(union_cardinality)\n",
    "\n",
    "wordings_users = list(zip(df_phase34_bogota1[\"functions\"], df_phase34_bogota1[\"Student\"], df_phase34_bogota1[\"phase\"]))\n",
    "\n",
    "\n",
    "result = []\n",
    "\n",
    "# create list of all possible combinations between sets of (wording, user) and loop through them\n",
    "for item in list(itertools.combinations(wordings_users, 2)):\n",
    "    similarity = jaccard_similarity(item[0][0], item[1][0])\n",
    "    data = {\"user1\": item[0][1], \"user2\": item[1][1], \"user1_phase\": item[0][2], \"user2_phase\": item[1][2], \"similarity\": similarity}\n",
    "    result.append(data)\n",
    "\n",
    "df2_bogota1 = pd.DataFrame(result)\n",
    "df2_bogota1"
   ]
  },
  {
   "cell_type": "code",
   "execution_count": null,
   "id": "e28ce5ff",
   "metadata": {},
   "outputs": [],
   "source": [
    "# create list of tuples like [(wording, user), (wording, user)]\n",
    "# copied from OP above\n",
    "def jaccard_similarity(x, y):\n",
    "    \"\"\" returns the jaccard similarity between two lists \"\"\"\n",
    "    intersection_cardinality = len(set.intersection(*[set(x), set(y)]))\n",
    "    union_cardinality = len(set.union(*[set(x), set(y)]))\n",
    "    return intersection_cardinality/float(union_cardinality)\n",
    "\n",
    "wordings_users = list(zip(df_phase34_bogota0[\"functions\"], df_phase34_bogota0[\"Student\"], df_phase34_bogota0[\"phase\"]))\n",
    "\n",
    "\n",
    "result = []\n",
    "\n",
    "# create list of all possible combinations between sets of (wording, user) and loop through them\n",
    "for item in list(itertools.combinations(wordings_users, 2)):\n",
    "    similarity = jaccard_similarity(item[0][0], item[1][0])\n",
    "    data = {\"user1\": item[0][1], \"user2\": item[1][1], \"user1_phase\": item[0][2], \"user2_phase\": item[1][2], \"similarity\": similarity}\n",
    "    result.append(data)\n",
    "\n",
    "df2_bogota0 = pd.DataFrame(result)\n",
    "df2_bogota0"
   ]
  },
  {
   "cell_type": "code",
   "execution_count": null,
   "id": "81fcd16c",
   "metadata": {},
   "outputs": [],
   "source": [
    "# create list of tuples like [(wording, user), (wording, user)]\n",
    "# copied from OP above\n",
    "def jaccard_similarity(x, y):\n",
    "    \"\"\" returns the jaccard similarity between two lists \"\"\"\n",
    "    intersection_cardinality = len(set.intersection(*[set(x), set(y)]))\n",
    "    union_cardinality = len(set.union(*[set(x), set(y)]))\n",
    "    return intersection_cardinality/float(union_cardinality)\n",
    "\n",
    "wordings_users = list(zip(df_phase23[\"functions\"], df_phase23[\"Student\"], df_phase23[\"phase\"]))\n",
    "\n",
    "\n",
    "result = []\n",
    "\n",
    "# create list of all possible combinations between sets of (wording, user) and loop through them\n",
    "for item in list(itertools.combinations(wordings_users, 2)):\n",
    "    similarity = jaccard_similarity(item[0][0], item[1][0])\n",
    "    data = {\"user1\": item[0][1], \"user2\": item[1][1], \"user1_phase\": item[0][2], \"user2_phase\": item[1][2], \"similarity\": similarity}\n",
    "    result.append(data)\n",
    "\n",
    "df3 = pd.DataFrame(result)\n",
    "df3"
   ]
  },
  {
   "cell_type": "code",
   "execution_count": null,
   "id": "d6a1fc48",
   "metadata": {},
   "outputs": [],
   "source": [
    "# create list of tuples like [(wording, user), (wording, user)]\n",
    "# copied from OP above\n",
    "def jaccard_similarity(x, y):\n",
    "    \"\"\" returns the jaccard similarity between two lists \"\"\"\n",
    "    intersection_cardinality = len(set.intersection(*[set(x), set(y)]))\n",
    "    union_cardinality = len(set.union(*[set(x), set(y)]))\n",
    "    return intersection_cardinality/float(union_cardinality)\n",
    "\n",
    "wordings_users = list(zip(df_phase23_bogota2[\"functions\"], df_phase23_bogota2[\"Student\"], df_phase23_bogota2[\"phase\"]))\n",
    "\n",
    "result = []\n",
    "\n",
    "# create list of all possible combinations between sets of (wording, user) and loop through them\n",
    "for item in list(itertools.combinations(wordings_users, 2)):\n",
    "    similarity = jaccard_similarity(item[0][0], item[1][0])\n",
    "    data = {\"user1\": item[0][1], \"user2\": item[1][1], \"user1_phase\": item[0][2], \"user2_phase\": item[1][2], \"similarity\": similarity}\n",
    "    result.append(data)\n",
    "\n",
    "df3_bogota2 = pd.DataFrame(result)\n",
    "df3_bogota2"
   ]
  },
  {
   "cell_type": "code",
   "execution_count": null,
   "id": "821eec0e",
   "metadata": {},
   "outputs": [],
   "source": [
    "# create list of tuples like [(wording, user), (wording, user)]\n",
    "# copied from OP above\n",
    "def jaccard_similarity(x, y):\n",
    "    \"\"\" returns the jaccard similarity between two lists \"\"\"\n",
    "    intersection_cardinality = len(set.intersection(*[set(x), set(y)]))\n",
    "    union_cardinality = len(set.union(*[set(x), set(y)]))\n",
    "    return intersection_cardinality/float(union_cardinality)\n",
    "\n",
    "wordings_users = list(zip(df_phase23_bogota1[\"functions\"], df_phase23_bogota1[\"Student\"], df_phase23_bogota1[\"phase\"]))\n",
    "\n",
    "result = []\n",
    "\n",
    "# create list of all possible combinations between sets of (wording, user) and loop through them\n",
    "for item in list(itertools.combinations(wordings_users, 2)):\n",
    "    similarity = jaccard_similarity(item[0][0], item[1][0])\n",
    "    data = {\"user1\": item[0][1], \"user2\": item[1][1], \"user1_phase\": item[0][2], \"user2_phase\": item[1][2], \"similarity\": similarity}\n",
    "    result.append(data)\n",
    "\n",
    "df3_bogota1 = pd.DataFrame(result)\n",
    "df3_bogota1"
   ]
  },
  {
   "cell_type": "code",
   "execution_count": null,
   "id": "a81d0005",
   "metadata": {},
   "outputs": [],
   "source": [
    "# create list of tuples like [(wording, user), (wording, user)]\n",
    "# copied from OP above\n",
    "def jaccard_similarity(x, y):\n",
    "    \"\"\" returns the jaccard similarity between two lists \"\"\"\n",
    "    intersection_cardinality = len(set.intersection(*[set(x), set(y)]))\n",
    "    union_cardinality = len(set.union(*[set(x), set(y)]))\n",
    "    return intersection_cardinality/float(union_cardinality)\n",
    "\n",
    "wordings_users = list(zip(df_phase23_bogota0[\"functions\"], df_phase23_bogota0[\"Student\"], df_phase23_bogota0[\"phase\"]))\n",
    "\n",
    "result = []\n",
    "\n",
    "# create list of all possible combinations between sets of (wording, user) and loop through them\n",
    "for item in list(itertools.combinations(wordings_users, 2)):\n",
    "    similarity = jaccard_similarity(item[0][0], item[1][0])\n",
    "    data = {\"user1\": item[0][1], \"user2\": item[1][1], \"user1_phase\": item[0][2], \"user2_phase\": item[1][2], \"similarity\": similarity}\n",
    "    result.append(data)\n",
    "\n",
    "df3_bogota0 = pd.DataFrame(result)\n",
    "df3_bogota0"
   ]
  },
  {
   "cell_type": "code",
   "execution_count": null,
   "id": "37727e71",
   "metadata": {},
   "outputs": [],
   "source": [
    "# create list of tuples like [(wording, user), (wording, user)]\n",
    "# copied from OP above\n",
    "def jaccard_similarity(x, y):\n",
    "    \"\"\" returns the jaccard similarity between two lists \"\"\"\n",
    "    intersection_cardinality = len(set.intersection(*[set(x), set(y)]))\n",
    "    union_cardinality = len(set.union(*[set(x), set(y)]))\n",
    "    return intersection_cardinality/float(union_cardinality)\n",
    "\n",
    "wordings_users = list(zip(df_phase12[\"functions\"], df_phase12[\"Student\"], df_phase12[\"phase\"]))\n",
    "\n",
    "\n",
    "result = []\n",
    "\n",
    "# create list of all possible combinations between sets of (wording, user) and loop through them\n",
    "for item in list(itertools.combinations(wordings_users, 2)):\n",
    "    similarity = jaccard_similarity(item[0][0], item[1][0])\n",
    "    data = {\"user1\": item[0][1], \"user2\": item[1][1], \"user1_phase\": item[0][2], \"user2_phase\": item[1][2], \"similarity\": similarity}\n",
    "    result.append(data)\n",
    "\n",
    "df4 = pd.DataFrame(result)\n",
    "df4"
   ]
  },
  {
   "cell_type": "code",
   "execution_count": null,
   "id": "611e8b2c",
   "metadata": {},
   "outputs": [],
   "source": [
    "# create list of tuples like [(wording, user), (wording, user)]\n",
    "# copied from OP above\n",
    "def jaccard_similarity(x, y):\n",
    "    \"\"\" returns the jaccard similarity between two lists \"\"\"\n",
    "    intersection_cardinality = len(set.intersection(*[set(x), set(y)]))\n",
    "    union_cardinality = len(set.union(*[set(x), set(y)]))\n",
    "    return intersection_cardinality/float(union_cardinality)\n",
    "\n",
    "wordings_users = list(zip(df_phase12_bogota2[\"functions\"], df_phase12_bogota2[\"Student\"], df_phase12_bogota2[\"phase\"]))\n",
    "\n",
    "result = []\n",
    "\n",
    "# create list of all possible combinations between sets of (wording, user) and loop through them\n",
    "for item in list(itertools.combinations(wordings_users, 2)):\n",
    "    similarity = jaccard_similarity(item[0][0], item[1][0])\n",
    "    data = {\"user1\": item[0][1], \"user2\": item[1][1], \"user1_phase\": item[0][2], \"user2_phase\": item[1][2], \"similarity\": similarity}\n",
    "    result.append(data)\n",
    "\n",
    "df4_bogota2 = pd.DataFrame(result)\n",
    "df4_bogota2"
   ]
  },
  {
   "cell_type": "code",
   "execution_count": null,
   "id": "4d704487",
   "metadata": {},
   "outputs": [],
   "source": [
    "# create list of tuples like [(wording, user), (wording, user)]\n",
    "# copied from OP above\n",
    "def jaccard_similarity(x, y):\n",
    "    \"\"\" returns the jaccard similarity between two lists \"\"\"\n",
    "    intersection_cardinality = len(set.intersection(*[set(x), set(y)]))\n",
    "    union_cardinality = len(set.union(*[set(x), set(y)]))\n",
    "    return intersection_cardinality/float(union_cardinality)\n",
    "\n",
    "wordings_users = list(zip(df_phase12_bogota1[\"functions\"], df_phase12_bogota1[\"Student\"], df_phase12_bogota1[\"phase\"]))\n",
    "\n",
    "result = []\n",
    "\n",
    "# create list of all possible combinations between sets of (wording, user) and loop through them\n",
    "for item in list(itertools.combinations(wordings_users, 2)):\n",
    "    similarity = jaccard_similarity(item[0][0], item[1][0])\n",
    "    data = {\"user1\": item[0][1], \"user2\": item[1][1], \"user1_phase\": item[0][2], \"user2_phase\": item[1][2], \"similarity\": similarity}\n",
    "    result.append(data)\n",
    "\n",
    "df4_bogota1 = pd.DataFrame(result)\n",
    "df4_bogota1"
   ]
  },
  {
   "cell_type": "code",
   "execution_count": null,
   "id": "6dc57388",
   "metadata": {},
   "outputs": [],
   "source": [
    "# create list of tuples like [(wording, user), (wording, user)]\n",
    "# copied from OP above\n",
    "def jaccard_similarity(x, y):\n",
    "    \"\"\" returns the jaccard similarity between two lists \"\"\"\n",
    "    intersection_cardinality = len(set.intersection(*[set(x), set(y)]))\n",
    "    union_cardinality = len(set.union(*[set(x), set(y)]))\n",
    "    return intersection_cardinality/float(union_cardinality)\n",
    "\n",
    "wordings_users = list(zip(df_phase12_bogota0[\"functions\"], df_phase12_bogota0[\"Student\"], df_phase12_bogota0[\"phase\"]))\n",
    "\n",
    "result = []\n",
    "\n",
    "# create list of all possible combinations between sets of (wording, user) and loop through them\n",
    "for item in list(itertools.combinations(wordings_users, 2)):\n",
    "    similarity = jaccard_similarity(item[0][0], item[1][0])\n",
    "    data = {\"user1\": item[0][1], \"user2\": item[1][1], \"user1_phase\": item[0][2], \"user2_phase\": item[1][2], \"similarity\": similarity}\n",
    "    result.append(data)\n",
    "\n",
    "df4_bogota0 = pd.DataFrame(result)\n",
    "df4_bogota0"
   ]
  },
  {
   "cell_type": "code",
   "execution_count": null,
   "id": "11ed69a5",
   "metadata": {},
   "outputs": [],
   "source": [
    "phase12_bogota3 = df4[df4['user1'] == df4['user2']]\n",
    "phase12_bogota3"
   ]
  },
  {
   "cell_type": "code",
   "execution_count": null,
   "id": "0913f991",
   "metadata": {},
   "outputs": [],
   "source": [
    "phase45_bogota3 = df1[df1['user1'] == df1['user2']]\n",
    "phase45_bogota3"
   ]
  },
  {
   "cell_type": "markdown",
   "id": "98c25939",
   "metadata": {},
   "source": [
    "## Bogota 3 Phase 1 and Phase 5"
   ]
  },
  {
   "cell_type": "code",
   "execution_count": null,
   "id": "7ed5ae49",
   "metadata": {},
   "outputs": [],
   "source": [
    "phase15_bogota3 = df0[df0['user1'] == df0['user2']]\n",
    "phase15_bogota3['similarity'].describe()"
   ]
  },
  {
   "cell_type": "markdown",
   "id": "d2d3c2cf",
   "metadata": {},
   "source": [
    "## Bogota 2 Phase 1 and Phase 5"
   ]
  },
  {
   "cell_type": "code",
   "execution_count": null,
   "id": "0c220d16",
   "metadata": {},
   "outputs": [],
   "source": [
    "phase15_bogota2 = df0_bogota2[df0_bogota2['user1'] == df0_bogota2['user2']]\n",
    "phase15_bogota2['similarity'].describe()"
   ]
  },
  {
   "cell_type": "markdown",
   "id": "79a2bc07",
   "metadata": {},
   "source": [
    "## Bogota 1 Phase 1 and Phase 5"
   ]
  },
  {
   "cell_type": "code",
   "execution_count": null,
   "id": "ecd77955",
   "metadata": {},
   "outputs": [],
   "source": [
    "phase15_bogota1 = df0_bogota1[df0_bogota1['user1'] == df0_bogota1['user2']]\n",
    "phase15_bogota1['similarity'].describe()"
   ]
  },
  {
   "cell_type": "markdown",
   "id": "21e2b3c6",
   "metadata": {},
   "source": [
    "## Bogota 0 Phase 1 and Phase 5"
   ]
  },
  {
   "cell_type": "code",
   "execution_count": null,
   "id": "2ade8968",
   "metadata": {},
   "outputs": [],
   "source": [
    "phase15_bogota0 = df0_bogota0[df0_bogota0['user1'] == df0_bogota0['user2']]\n",
    "phase15_bogota0['similarity'].describe()"
   ]
  },
  {
   "cell_type": "markdown",
   "id": "caaaf4af",
   "metadata": {},
   "source": [
    "## Bogota 3 Phase 4 and Phase 5"
   ]
  },
  {
   "cell_type": "code",
   "execution_count": null,
   "id": "d3e7978b",
   "metadata": {},
   "outputs": [],
   "source": [
    "phase45_bogota3 = df1[df1['user1'] == df1['user2']]\n",
    "phase45_bogota3['similarity'].describe()"
   ]
  },
  {
   "cell_type": "markdown",
   "id": "23a011ca",
   "metadata": {},
   "source": [
    "## Bogota 2 Phase 4 and Phase 5"
   ]
  },
  {
   "cell_type": "code",
   "execution_count": null,
   "id": "410480a7",
   "metadata": {},
   "outputs": [],
   "source": [
    "phase45_bogota2 = df1_bogota2[df1_bogota2['user1'] == df1_bogota2['user2']]\n",
    "phase45_bogota2['similarity'].describe()"
   ]
  },
  {
   "cell_type": "markdown",
   "id": "2ca4fc83",
   "metadata": {},
   "source": [
    "## Bogota 1 Phase 4 and Phase 5"
   ]
  },
  {
   "cell_type": "code",
   "execution_count": null,
   "id": "65fa2a25",
   "metadata": {},
   "outputs": [],
   "source": [
    "phase45_bogota1 = df1_bogota1[df1_bogota1['user1'] == df1_bogota1['user2']]\n",
    "phase45_bogota1['similarity'].describe()"
   ]
  },
  {
   "cell_type": "markdown",
   "id": "8328c854",
   "metadata": {},
   "source": [
    "## Bogota 0 Phase 4 and Phase 5"
   ]
  },
  {
   "cell_type": "code",
   "execution_count": null,
   "id": "362fc0a5",
   "metadata": {},
   "outputs": [],
   "source": [
    "phase45_bogota0 = df1_bogota0[df1_bogota0['user1'] == df1_bogota0['user2']]\n",
    "phase45_bogota0['similarity'].describe()"
   ]
  },
  {
   "cell_type": "markdown",
   "id": "64f06ee5",
   "metadata": {},
   "source": [
    "## Bogota 3 Phase 3 and Phase 4"
   ]
  },
  {
   "cell_type": "code",
   "execution_count": null,
   "id": "669bd47c",
   "metadata": {},
   "outputs": [],
   "source": [
    "phase34_bogota3 = df2[df2['user1'] == df2['user2']]\n",
    "phase34_bogota3['similarity'].describe()"
   ]
  },
  {
   "cell_type": "markdown",
   "id": "c9ede5b2",
   "metadata": {},
   "source": [
    "## Bogota 2 Phase 3 and Phase 4"
   ]
  },
  {
   "cell_type": "code",
   "execution_count": null,
   "id": "f339b32a",
   "metadata": {},
   "outputs": [],
   "source": [
    "phase34_bogota2 = df2_bogota2[df2_bogota2['user1'] == df2_bogota2['user2']]\n",
    "phase34_bogota2['similarity'].describe()"
   ]
  },
  {
   "cell_type": "markdown",
   "id": "57ece8fa",
   "metadata": {},
   "source": [
    "## Bogota 1 Phase 3 and Phase 4"
   ]
  },
  {
   "cell_type": "code",
   "execution_count": null,
   "id": "ac47fc35",
   "metadata": {},
   "outputs": [],
   "source": [
    "phase34_bogota1 = df2_bogota1[df2_bogota1['user1'] == df2_bogota1['user2']]\n",
    "phase34_bogota1['similarity'].describe()"
   ]
  },
  {
   "cell_type": "markdown",
   "id": "28afe5bc",
   "metadata": {},
   "source": [
    "## Bogota 0 Phase 3 and Phase 4"
   ]
  },
  {
   "cell_type": "code",
   "execution_count": null,
   "id": "724a1102",
   "metadata": {},
   "outputs": [],
   "source": [
    "phase34_bogota0 = df2_bogota0[df2_bogota0['user1'] == df2_bogota0['user2']]\n",
    "phase34_bogota0['similarity'].describe()"
   ]
  },
  {
   "cell_type": "markdown",
   "id": "2f29649f",
   "metadata": {},
   "source": [
    "## Bogota 3 Phase 2 and Phase 3"
   ]
  },
  {
   "cell_type": "code",
   "execution_count": null,
   "id": "ef60f6dd",
   "metadata": {},
   "outputs": [],
   "source": [
    "phase23_bogota3 = df3[df3['user1'] == df3['user2']]\n",
    "phase23_bogota3['similarity'].describe()"
   ]
  },
  {
   "cell_type": "markdown",
   "id": "022df63f",
   "metadata": {},
   "source": [
    "## Bogota 2 Phase 2 and Phase 3"
   ]
  },
  {
   "cell_type": "code",
   "execution_count": null,
   "id": "a0269b95",
   "metadata": {},
   "outputs": [],
   "source": [
    "phase23_bogota2 = df3_bogota2[df3_bogota2['user1'] == df3_bogota2['user2']]\n",
    "phase23_bogota2['similarity'].describe()"
   ]
  },
  {
   "cell_type": "markdown",
   "id": "1db07c4c",
   "metadata": {},
   "source": [
    "## Bogota 1 Phase 2 and Phase 3"
   ]
  },
  {
   "cell_type": "code",
   "execution_count": null,
   "id": "99595821",
   "metadata": {},
   "outputs": [],
   "source": [
    "phase23_bogota1 = df3_bogota1[df3_bogota1['user1'] == df3_bogota1['user2']]\n",
    "phase23_bogota1['similarity'].describe()"
   ]
  },
  {
   "cell_type": "markdown",
   "id": "ebd3e075",
   "metadata": {},
   "source": [
    "## Bogota 0 Phase 2 and Phase 3"
   ]
  },
  {
   "cell_type": "code",
   "execution_count": null,
   "id": "31a7a5f8",
   "metadata": {},
   "outputs": [],
   "source": [
    "phase23_bogota0 = df3_bogota0[df3_bogota0['user1'] == df3_bogota0['user2']]\n",
    "phase23_bogota0['similarity'].describe()"
   ]
  },
  {
   "cell_type": "markdown",
   "id": "a9b7abee",
   "metadata": {},
   "source": [
    "## Bogota 3 Phase 1 and Phase 2"
   ]
  },
  {
   "cell_type": "code",
   "execution_count": null,
   "id": "c1cf9ccc",
   "metadata": {},
   "outputs": [],
   "source": [
    "phase12_bogota3 = df4[df4['user1'] == df4['user2']]\n",
    "phase12_bogota3['similarity'].describe()"
   ]
  },
  {
   "cell_type": "markdown",
   "id": "01839c1a",
   "metadata": {},
   "source": [
    "## Bogota 2 Phase 1 and Phase 2"
   ]
  },
  {
   "cell_type": "code",
   "execution_count": null,
   "id": "22e10d22",
   "metadata": {},
   "outputs": [],
   "source": [
    "phase12_bogota2 = df4_bogota2[df4_bogota2['user1'] == df4_bogota2['user2']]\n",
    "phase12_bogota2['similarity'].describe()"
   ]
  },
  {
   "cell_type": "markdown",
   "id": "7f66e04d",
   "metadata": {},
   "source": [
    "## Bogota 1 Phase 1 and Phase 2"
   ]
  },
  {
   "cell_type": "code",
   "execution_count": null,
   "id": "14b08c2f",
   "metadata": {},
   "outputs": [],
   "source": [
    "phase12_bogota1 = df4_bogota1[df4_bogota1['user1'] == df4_bogota1['user2']]\n",
    "phase12_bogota1['similarity'].describe()"
   ]
  },
  {
   "cell_type": "markdown",
   "id": "1608d2f9",
   "metadata": {},
   "source": [
    "## Bogota 0 Phase 1 and Phase 2"
   ]
  },
  {
   "cell_type": "code",
   "execution_count": null,
   "id": "97e2a34c",
   "metadata": {},
   "outputs": [],
   "source": [
    "phase12_bogota0 = df4_bogota0[df4_bogota0['user1'] == df4_bogota0['user2']]\n",
    "phase12_bogota0['similarity'].describe()"
   ]
  },
  {
   "cell_type": "code",
   "execution_count": null,
   "id": "8713ab37",
   "metadata": {},
   "outputs": [],
   "source": [
    "import matplotlib.pyplot as plt\n",
    "\n",
    "# Mean Scores of All Groups [ Tech Scores ]\n",
    "\n",
    "y1 = [83.59, 94.46, 95.45, 98.12]\n",
    "y2 = [85.53, 94.8, 91.98, 97.39 ]\n",
    "y3 = [81.00, 92.7, 95.33, 96.74 ]\n",
    "y4 = [86.27, 94.5, 95.7, 96.66 ]\n",
    "\n",
    "\n",
    "x_axis=['Phase 1-2', 'Phase 2-3', 'Phase 3-4', 'Phase 4-5']\n",
    "\n",
    "line3 = plt.plot(x_axis, y3,'bo-',label='Bogota 0 ( No Transparency )') \n",
    "line4 = plt.plot(x_axis, y4,'go-',label='Bogota 1 ( Performance Transparency )') \n",
    "line1 = plt.plot(x_axis, y1,'ko-',label='Bogota 2 ( Solution Transparency )')\n",
    "line2 = plt.plot(x_axis, y2,'ro-',label='Bogota 3 ( Full Transparency )') \n",
    "\n",
    "plt.title(\"Jaccard Similarity ( Higher Similarity Less Exploration )\")\n",
    "plt.ylabel(\"Jaccard Similarity Scores\")\n",
    "\n",
    "plt.legend(bbox_to_anchor=(1.5, 1),\n",
    "           bbox_transform=plt.gcf().transFigure)"
   ]
  },
  {
   "cell_type": "markdown",
   "id": "4d847cc8",
   "metadata": {},
   "source": [
    "## Test Code Section [ To Be Ignored ]"
   ]
  },
  {
   "cell_type": "code",
   "execution_count": null,
   "id": "e98dcfdb",
   "metadata": {},
   "outputs": [],
   "source": [
    "import itertools\n",
    "import pandas as pd\n",
    "\n",
    "# copied from OP above\n",
    "def jaccard_similarity(x, y):\n",
    "    \"\"\" returns the jaccard similarity between two lists \"\"\"\n",
    "    intersection_cardinality = len(set.intersection(*[set(x), set(y)]))\n",
    "    union_cardinality = len(set.union(*[set(x), set(y)]))\n",
    "    return intersection_cardinality/float(union_cardinality)\n",
    "\n",
    "# set initial data and create dataframe\n",
    "data = {\"wordings\": [\"apple,banana,orange,pears\", \"apple, banana\", \"apple,jackfruit\", \"banana,jackfruit,berries,apple\", \"berries,grapes,watermelon\"], \"users\": [\"adeline\", \"adeline\", \"kenzi\", \"ericko\", \"mary\"], \"phase\":[1, 3, 2, 2, 3]}\n",
    "df = pd.DataFrame(data)\n",
    "\n",
    "# create list of tuples like [(wording, user), (wording, user)]\n",
    "wordings_users = list(zip(df[\"wordings\"], df[\"users\"], df[\"phase\"]))\n",
    "print(wordings_users)\n",
    "\n",
    "result = []\n",
    "\n",
    "# create list of all possible combinations between sets of (wording, user) and loop through them\n",
    "for item in list(itertools.combinations(wordings_users, 2)):\n",
    "    similarity = jaccard_similarity(item[0][0], item[1][0])\n",
    "    data = {\"user1\": item[0][1], \"user2\": item[1][1], \"phase\": item[0][2], \"phase2\": item[1][2], \"similarity\": similarity}\n",
    "    result.append(data)\n",
    "\n",
    "df1_test = pd.DataFrame(result)\n",
    "df1_test"
   ]
  },
  {
   "cell_type": "code",
   "execution_count": null,
   "id": "bac36563",
   "metadata": {},
   "outputs": [],
   "source": [
    "phase45_bogota3['phase'] = 'phase45'\n",
    "phase34_bogota3['phase'] = 'phase34'\n",
    "phase23_bogota3['phase'] = 'phase23'\n",
    "phase12_bogota3['phase'] = 'phase12'\n",
    "df = pd.concat([phase45_bogota3, phase34_bogota3, phase23_bogota3, phase12_bogota3], ignore_index=True)\n",
    "df['exploration'] = 1 - df['similarity']"
   ]
  },
  {
   "cell_type": "code",
   "execution_count": null,
   "id": "9b6215ef",
   "metadata": {},
   "outputs": [],
   "source": [
    "import pylab as pl\n",
    "\n",
    "df.hist(column='exploration', by='phase')\n",
    "pl.suptitle(\"Bogota 3\")"
   ]
  },
  {
   "cell_type": "markdown",
   "id": "ed77419a",
   "metadata": {},
   "source": [
    ">> Comments: Distribution becomes more skewed over time. "
   ]
  },
  {
   "cell_type": "code",
   "execution_count": null,
   "id": "4b7669b3",
   "metadata": {},
   "outputs": [],
   "source": [
    "phase45_bogota2['phase'] = 'phase45'\n",
    "phase34_bogota2['phase'] = 'phase34'\n",
    "phase23_bogota2['phase'] = 'phase23'\n",
    "phase12_bogota2['phase'] = 'phase12'\n",
    "df_bogota2 = pd.concat([phase45_bogota2, phase34_bogota2, phase23_bogota2, phase12_bogota2], ignore_index=True)\n",
    "df_bogota2['exploration'] = 1 - df_bogota2['similarity']"
   ]
  },
  {
   "cell_type": "code",
   "execution_count": null,
   "id": "f5f35770",
   "metadata": {},
   "outputs": [],
   "source": [
    "import pylab as pl\n",
    "\n",
    "df_bogota2.hist(column='exploration', by='phase')\n",
    "pl.suptitle(\"Bogota 2\")"
   ]
  },
  {
   "cell_type": "code",
   "execution_count": null,
   "id": "a8d4ef60",
   "metadata": {},
   "outputs": [],
   "source": [
    "phase45_bogota1['phase'] = 'phase45'\n",
    "phase34_bogota1['phase'] = 'phase34'\n",
    "phase23_bogota1['phase'] = 'phase23'\n",
    "phase12_bogota1['phase'] = 'phase12'\n",
    "df_bogota1 = pd.concat([phase45_bogota1, phase34_bogota1, phase23_bogota1, phase12_bogota1], ignore_index=True)\n",
    "df_bogota1['exploration'] = 1 - df_bogota1['similarity']"
   ]
  },
  {
   "cell_type": "code",
   "execution_count": null,
   "id": "c4ea81f4",
   "metadata": {},
   "outputs": [],
   "source": [
    "import pylab as pl\n",
    "\n",
    "df_bogota1.hist(column='exploration', by='phase')\n",
    "pl.suptitle(\"Bogota 1\")"
   ]
  },
  {
   "cell_type": "code",
   "execution_count": null,
   "id": "55f3f0f8",
   "metadata": {},
   "outputs": [],
   "source": [
    "phase45_bogota0['phase'] = 'phase45'\n",
    "phase34_bogota0['phase'] = 'phase34'\n",
    "phase23_bogota0['phase'] = 'phase23'\n",
    "phase12_bogota0['phase'] = 'phase12'\n",
    "df_bogota0 = pd.concat([phase45_bogota0, phase34_bogota0, phase23_bogota0, phase12_bogota0], ignore_index=True)\n",
    "df_bogota0['exploration'] = 1 - df_bogota1['similarity']"
   ]
  },
  {
   "cell_type": "code",
   "execution_count": null,
   "id": "6db68959",
   "metadata": {},
   "outputs": [],
   "source": [
    "import pylab as pl\n",
    "\n",
    "df_bogota0.hist(column='exploration', by='phase')\n",
    "pl.suptitle(\"Bogota 0\")"
   ]
  },
  {
   "cell_type": "code",
   "execution_count": null,
   "id": "ac772d67",
   "metadata": {},
   "outputs": [],
   "source": [
    "import matplotlib.pyplot as plt\n",
    "phase12_bogota3 = df4[~(df4['user1'] == df4['user2'])]\n",
    "stage1_bogota3 = phase12_bogota3.loc[(phase12_bogota3['user1_phase'] == 1) & (phase12_bogota3['user2_phase'] == 2)]\n",
    "stage1_bogota3 \n"
   ]
  },
  {
   "cell_type": "code",
   "execution_count": null,
   "id": "0413844f",
   "metadata": {},
   "outputs": [],
   "source": [
    "import matplotlib.pyplot as plt\n",
    "phase23_bogota3 = df3[~(df3['user1'] == df3['user2'])]\n",
    "stage2_bogota3 = phase23_bogota3.loc[(phase23_bogota3['user1_phase'] == 2) & (phase23_bogota3['user2_phase'] == 3)]\n",
    "stage2_bogota3 "
   ]
  },
  {
   "cell_type": "code",
   "execution_count": null,
   "id": "8a5a4dc2",
   "metadata": {},
   "outputs": [],
   "source": [
    "import matplotlib.pyplot as plt\n",
    "phase34_bogota3 = df2[~(df2['user1'] == df2['user2'])]\n",
    "stage3_bogota3 = phase34_bogota3.loc[(phase34_bogota3['user1_phase'] == 3) & (phase34_bogota3['user2_phase'] == 4)]\n",
    "stage3_bogota3 "
   ]
  },
  {
   "cell_type": "code",
   "execution_count": null,
   "id": "235bde56",
   "metadata": {},
   "outputs": [],
   "source": [
    "import matplotlib.pyplot as plt\n",
    "phase45_bogota3 = df1[~(df1['user1'] == df1['user2'])]\n",
    "stage4_bogota3 = phase45_bogota3.loc[(phase45_bogota3['user1_phase'] == 4) & (phase45_bogota3['user2_phase'] == 5)]\n",
    "stage4_bogota3 "
   ]
  },
  {
   "cell_type": "code",
   "execution_count": null,
   "id": "3082cbe1",
   "metadata": {},
   "outputs": [],
   "source": [
    "stage12_bogota3 = pd.merge(stage1_bogota3, stage2_bogota3,  how='left', left_on=['user1','user2'], right_on = ['user1','user2'])\n",
    "stage12_bogota3"
   ]
  },
  {
   "cell_type": "code",
   "execution_count": null,
   "id": "7556e481",
   "metadata": {},
   "outputs": [],
   "source": [
    "plt.scatter(stage12_bogota3['similarity_x'], stage12_bogota3['similarity_y'])\n",
    "plt.xlabel(\"Functional Similarity Phase 12\")\n",
    "plt.ylabel(\"Functional Similarity Phase 23\")"
   ]
  },
  {
   "cell_type": "code",
   "execution_count": null,
   "id": "26d4ee58",
   "metadata": {},
   "outputs": [],
   "source": [
    "stage34_bogota3 = pd.merge(stage3_bogota3, stage4_bogota3,  how='left', left_on=['user1','user2'], right_on = ['user1','user2'])\n",
    "stage34_bogota3"
   ]
  },
  {
   "cell_type": "code",
   "execution_count": null,
   "id": "5919102c",
   "metadata": {},
   "outputs": [],
   "source": [
    "plt.scatter(stage34_bogota3['similarity_x'], stage34_bogota3['similarity_y'])\n",
    "plt.xlabel(\"Functional Similarity Phase 34\")\n",
    "plt.ylabel(\"Functional Similarity Phase 45\")"
   ]
  },
  {
   "cell_type": "markdown",
   "id": "189555d2",
   "metadata": {},
   "source": [
    "## Bogota 2 Pairwise Plots"
   ]
  },
  {
   "cell_type": "code",
   "execution_count": null,
   "id": "8e590c04",
   "metadata": {},
   "outputs": [],
   "source": [
    "import matplotlib.pyplot as plt\n",
    "phase12_bogota2 = df4_bogota2[~(df4_bogota2['user1'] == df4_bogota2['user2'])]\n",
    "stage1_bogota2 = phase12_bogota2.loc[(phase12_bogota2['user1_phase'] == 1) & (phase12_bogota2['user2_phase'] == 2)]\n",
    "stage1_bogota2"
   ]
  },
  {
   "cell_type": "code",
   "execution_count": null,
   "id": "046dff29",
   "metadata": {},
   "outputs": [],
   "source": [
    "import matplotlib.pyplot as plt\n",
    "phase23_bogota2 = df3_bogota2[~(df3_bogota2['user1'] == df3_bogota2['user2'])]\n",
    "stage2_bogota2 = phase23_bogota2.loc[(phase23_bogota2['user1_phase'] == 2) & (phase23_bogota2['user2_phase'] == 3)]\n",
    "stage2_bogota2"
   ]
  },
  {
   "cell_type": "code",
   "execution_count": null,
   "id": "11313039",
   "metadata": {},
   "outputs": [],
   "source": [
    "stage12_bogota2 = pd.merge(stage1_bogota2, stage2_bogota2,  how='left', left_on=['user1','user2'], right_on = ['user1','user2'])\n",
    "stage12_bogota2"
   ]
  },
  {
   "cell_type": "code",
   "execution_count": null,
   "id": "cd4b71b6",
   "metadata": {},
   "outputs": [],
   "source": [
    "plt.scatter(stage12_bogota2['similarity_x'], stage12_bogota2['similarity_y'])\n",
    "plt.xlabel(\"Functional Similarity Phase 12\")\n",
    "plt.ylabel(\"Functional Similarity Phase 23\")"
   ]
  },
  {
   "cell_type": "code",
   "execution_count": null,
   "id": "72c6b400",
   "metadata": {},
   "outputs": [],
   "source": [
    "import matplotlib.pyplot as plt\n",
    "phase34_bogota2 = df2_bogota2[~(df2_bogota2['user1'] == df2_bogota2['user2'])]\n",
    "stage3_bogota2 = phase34_bogota2.loc[(phase34_bogota2['user1_phase'] == 3) & (phase34_bogota2['user2_phase'] == 4)]\n",
    "stage3_bogota2"
   ]
  },
  {
   "cell_type": "code",
   "execution_count": null,
   "id": "a1c8e9fa",
   "metadata": {},
   "outputs": [],
   "source": [
    "import matplotlib.pyplot as plt\n",
    "phase45_bogota2 = df1_bogota2[~(df1_bogota2['user1'] == df1_bogota2['user2'])]\n",
    "stage4_bogota2 = phase45_bogota2.loc[(phase45_bogota2['user1_phase'] == 4) & (phase45_bogota2['user2_phase'] == 5)]\n",
    "stage4_bogota2"
   ]
  },
  {
   "cell_type": "code",
   "execution_count": null,
   "id": "09eeea9a",
   "metadata": {},
   "outputs": [],
   "source": [
    "stage34_bogota2 = pd.merge(stage3_bogota2, stage4_bogota2,  how='left', left_on=['user1','user2'], right_on = ['user1','user2'])\n",
    "stage34_bogota2"
   ]
  },
  {
   "cell_type": "code",
   "execution_count": null,
   "id": "104d611f",
   "metadata": {},
   "outputs": [],
   "source": [
    "plt.scatter(stage34_bogota2['similarity_x'], stage34_bogota2['similarity_y'])\n",
    "plt.xlabel(\"Functional Similarity Phase 34\")\n",
    "plt.ylabel(\"Functional Similarity Phase 45\")"
   ]
  },
  {
   "cell_type": "markdown",
   "id": "2316834c",
   "metadata": {},
   "source": [
    "## Bogota 1 Pairwise Plots"
   ]
  },
  {
   "cell_type": "code",
   "execution_count": null,
   "id": "67e7ff45",
   "metadata": {},
   "outputs": [],
   "source": [
    "import matplotlib.pyplot as plt\n",
    "phase12_bogota1 = df4_bogota1[~(df4_bogota1['user1'] == df4_bogota1['user2'])]\n",
    "stage1_bogota1 = phase12_bogota1.loc[(phase12_bogota1['user1_phase'] == 1) & (phase12_bogota1['user2_phase'] == 2)]\n",
    "stage1_bogota1"
   ]
  },
  {
   "cell_type": "code",
   "execution_count": null,
   "id": "6aeb8190",
   "metadata": {},
   "outputs": [],
   "source": [
    "import matplotlib.pyplot as plt\n",
    "phase23_bogota1 = df3_bogota1[~(df3_bogota1['user1'] == df3_bogota1['user2'])]\n",
    "stage2_bogota1 = phase23_bogota1.loc[(phase23_bogota1['user1_phase'] == 2) & (phase23_bogota1['user2_phase'] == 3)]\n",
    "stage2_bogota1"
   ]
  },
  {
   "cell_type": "code",
   "execution_count": null,
   "id": "32f74c8e",
   "metadata": {},
   "outputs": [],
   "source": [
    "stage12_bogota1 = pd.merge(stage1_bogota1, stage2_bogota1,  how='left', left_on=['user1','user2'], right_on = ['user1','user2'])\n",
    "stage12_bogota1"
   ]
  },
  {
   "cell_type": "code",
   "execution_count": null,
   "id": "47280956",
   "metadata": {},
   "outputs": [],
   "source": [
    "plt.scatter(stage12_bogota1['similarity_x'], stage12_bogota1['similarity_y'])\n",
    "plt.xlabel(\"Functional Similarity Phase 12\")\n",
    "plt.ylabel(\"Functional Similarity Phase 23\")\n",
    "plt.title(\"Funtional Similarity for Performance Transparency Case\")"
   ]
  },
  {
   "cell_type": "code",
   "execution_count": null,
   "id": "1ec8f9fd",
   "metadata": {},
   "outputs": [],
   "source": [
    "import matplotlib.pyplot as plt\n",
    "phase34_bogota1 = df2_bogota1[~(df2_bogota1['user1'] == df2_bogota1['user2'])]\n",
    "stage3_bogota1 = phase34_bogota1.loc[(phase34_bogota1['user1_phase'] == 3) & (phase34_bogota1['user2_phase'] == 4)]\n",
    "stage3_bogota1"
   ]
  },
  {
   "cell_type": "code",
   "execution_count": null,
   "id": "80a23aae",
   "metadata": {},
   "outputs": [],
   "source": [
    "import matplotlib.pyplot as plt\n",
    "phase45_bogota1 = df1_bogota1[~(df1_bogota1['user1'] == df1_bogota1['user2'])]\n",
    "stage4_bogota1 = phase45_bogota1.loc[(phase45_bogota1['user1_phase'] == 4) & (phase45_bogota1['user2_phase'] == 5)]\n",
    "stage4_bogota1"
   ]
  },
  {
   "cell_type": "code",
   "execution_count": null,
   "id": "5bde9b2c",
   "metadata": {},
   "outputs": [],
   "source": [
    "stage34_bogota1 = pd.merge(stage3_bogota1, stage4_bogota1,  how='left', left_on=['user1','user2'], right_on = ['user1','user2'])\n",
    "stage34_bogota1"
   ]
  },
  {
   "cell_type": "code",
   "execution_count": null,
   "id": "6e126b06",
   "metadata": {},
   "outputs": [],
   "source": [
    "plt.scatter(stage34_bogota1['similarity_x'], stage34_bogota1['similarity_y'])\n",
    "plt.xlabel(\"Functional Similarity Phase 12\")\n",
    "plt.ylabel(\"Functional Similarity Phase 23\")\n",
    "plt.title(\"Funtional Similarity for Performance Transparency Case\")"
   ]
  },
  {
   "cell_type": "markdown",
   "id": "65543c42",
   "metadata": {},
   "source": [
    "## Bogota 0 Pairwise Plots "
   ]
  },
  {
   "cell_type": "code",
   "execution_count": null,
   "id": "cd549085",
   "metadata": {},
   "outputs": [],
   "source": [
    "import matplotlib.pyplot as plt\n",
    "phase12_bogota0 = df4_bogota0[~(df4_bogota0['user1'] == df4_bogota0['user2'])]\n",
    "stage1_bogota0 = phase12_bogota0.loc[(phase12_bogota0['user1_phase'] == 1) & (phase12_bogota0['user2_phase'] == 2)]\n",
    "stage1_bogota0"
   ]
  },
  {
   "cell_type": "code",
   "execution_count": null,
   "id": "23087474",
   "metadata": {},
   "outputs": [],
   "source": [
    "import matplotlib.pyplot as plt\n",
    "phase23_bogota0 = df3_bogota0[~(df3_bogota0['user1'] == df3_bogota0['user2'])]\n",
    "stage2_bogota0 = phase23_bogota0.loc[(phase23_bogota0['user1_phase'] == 2) & (phase23_bogota0['user2_phase'] == 3)]\n",
    "stage2_bogota0"
   ]
  },
  {
   "cell_type": "code",
   "execution_count": null,
   "id": "31e66fcc",
   "metadata": {},
   "outputs": [],
   "source": [
    "stage12_bogota0 = pd.merge(stage1_bogota0, stage2_bogota0,  how='left', left_on=['user1','user2'], right_on = ['user1','user2'])\n",
    "stage12_bogota0"
   ]
  },
  {
   "cell_type": "code",
   "execution_count": null,
   "id": "a12e29c9",
   "metadata": {},
   "outputs": [],
   "source": [
    "plt.scatter(stage12_bogota0['similarity_x'], stage12_bogota0['similarity_y'])\n",
    "plt.xlabel(\"Functional Similarity Phase 12\")\n",
    "plt.ylabel(\"Functional Similarity Phase 23\")\n",
    "plt.title(\"Funtional Similarity for No Transparency Case\")"
   ]
  },
  {
   "cell_type": "code",
   "execution_count": null,
   "id": "eb028f13",
   "metadata": {},
   "outputs": [],
   "source": [
    "import matplotlib.pyplot as plt\n",
    "phase34_bogota0 = df2_bogota0[~(df2_bogota0['user1'] == df2_bogota0['user2'])]\n",
    "stage3_bogota0 = phase34_bogota0.loc[(phase34_bogota0['user1_phase'] == 3) & (phase34_bogota0['user2_phase'] == 4)]\n",
    "stage3_bogota0"
   ]
  },
  {
   "cell_type": "code",
   "execution_count": null,
   "id": "f3b3d908",
   "metadata": {},
   "outputs": [],
   "source": [
    "import matplotlib.pyplot as plt\n",
    "phase45_bogota0 = df1_bogota0[~(df1_bogota0['user1'] == df1_bogota0['user2'])]\n",
    "stage4_bogota0 = phase45_bogota0.loc[(phase45_bogota0['user1_phase'] == 4) & (phase45_bogota0['user2_phase'] == 5)]\n",
    "stage4_bogota0"
   ]
  },
  {
   "cell_type": "code",
   "execution_count": null,
   "id": "f2510981",
   "metadata": {},
   "outputs": [],
   "source": [
    "stage34_bogota0 = pd.merge(stage3_bogota0, stage4_bogota0,  how='left', left_on=['user1','user2'], right_on = ['user1','user2'])\n",
    "stage34_bogota0"
   ]
  },
  {
   "cell_type": "code",
   "execution_count": null,
   "id": "bb663232",
   "metadata": {},
   "outputs": [],
   "source": [
    "plt.scatter(stage34_bogota0['similarity_x'], stage34_bogota0['similarity_y'])\n",
    "plt.xlabel(\"Functional Similarity Phase 34\")\n",
    "plt.ylabel(\"Functional Similarity Phase 45\")\n",
    "plt.title(\"Funtional Similarity for No Transparency Case\")"
   ]
  },
  {
   "cell_type": "markdown",
   "id": "90556330",
   "metadata": {},
   "source": [
    "## Descriptive Statistics for Functions in Bogota 3"
   ]
  },
  {
   "cell_type": "code",
   "execution_count": null,
   "id": "e109a4b7",
   "metadata": {},
   "outputs": [],
   "source": [
    "import collections\n",
    "bogota3_phase5_functions = overall_phase5_bogota3['functions'].to_list()\n",
    "string = \" \".join(bogota3_phase5_functions)\n",
    "x = string.split(\",\")\n",
    "out = collections.Counter(x)\n",
    "out.most_common()\n",
    "len(out)"
   ]
  },
  {
   "cell_type": "code",
   "execution_count": null,
   "id": "063740f9",
   "metadata": {},
   "outputs": [],
   "source": [
    "import collections\n",
    "bogota3_phase4_functions = overall_phase4_bogota3['functions'].to_list()\n",
    "string = \" \".join(bogota3_phase4_functions)\n",
    "x = string.split(\",\")\n",
    "out = collections.Counter(x)\n",
    "out.most_common()\n",
    "len(out)"
   ]
  },
  {
   "cell_type": "code",
   "execution_count": null,
   "id": "2f22744c",
   "metadata": {},
   "outputs": [],
   "source": [
    "import collections\n",
    "bogota3_phase3_functions = subset_bogota3_phase3['functions'].to_list()\n",
    "string = \" \".join(bogota3_phase3_functions)\n",
    "x = string.split(\",\")\n",
    "out = collections.Counter(x)\n",
    "out.most_common()\n",
    "len(out)"
   ]
  },
  {
   "cell_type": "code",
   "execution_count": null,
   "id": "743b5cd2",
   "metadata": {},
   "outputs": [],
   "source": [
    "import collections\n",
    "bogota3_phase2_functions = overall_phase2_bogota3['functions'].to_list()\n",
    "string = \" \".join(bogota3_phase2_functions)\n",
    "x = string.split(\",\")\n",
    "out = collections.Counter(x)\n",
    "out.most_common()\n",
    "len(out)"
   ]
  },
  {
   "cell_type": "code",
   "execution_count": null,
   "id": "dafd3f5a",
   "metadata": {},
   "outputs": [],
   "source": [
    "import collections\n",
    "bogota3_phase1_functions = subset_bogota3_phase1['functions'].to_list()\n",
    "string = \" \".join(bogota3_phase1_functions)\n",
    "x = string.split(\",\")\n",
    "out = collections.Counter(x)\n",
    "out.most_common()\n",
    "len(out)"
   ]
  },
  {
   "cell_type": "markdown",
   "id": "85cd74a0",
   "metadata": {},
   "source": [
    "## Descriptive Statistics for Functions in Bogota 2"
   ]
  },
  {
   "cell_type": "code",
   "execution_count": null,
   "id": "db5b7c0a",
   "metadata": {},
   "outputs": [],
   "source": [
    "import collections\n",
    "bogota2_phase5_functions = subset_bogota2_phase5['functions'].to_list()\n",
    "string = \" \".join(bogota2_phase5_functions)\n",
    "x = string.split(\",\")\n",
    "out = collections.Counter(x)\n",
    "out.most_common()\n",
    "len(out)"
   ]
  },
  {
   "cell_type": "code",
   "execution_count": null,
   "id": "e3428c27",
   "metadata": {},
   "outputs": [],
   "source": [
    "import collections\n",
    "bogota2_phase4_functions = overall_phase4_bogota2['functions'].to_list()\n",
    "string = \" \".join(bogota2_phase4_functions)\n",
    "x = string.split(\",\")\n",
    "out = collections.Counter(x)\n",
    "out.most_common()\n",
    "len(out)"
   ]
  },
  {
   "cell_type": "code",
   "execution_count": null,
   "id": "8c093a68",
   "metadata": {},
   "outputs": [],
   "source": [
    "import collections\n",
    "bogota2_phase3_functions = subset_bogota2_phase3['functions'].to_list()\n",
    "string = \" \".join(bogota2_phase3_functions)\n",
    "x = string.split(\",\")\n",
    "out = collections.Counter(x)\n",
    "out.most_common()\n",
    "len(out)"
   ]
  },
  {
   "cell_type": "code",
   "execution_count": null,
   "id": "e9d5655c",
   "metadata": {},
   "outputs": [],
   "source": [
    "import collections\n",
    "bogota2_phase2_functions = subset_bogota2_phase2['functions'].to_list()\n",
    "string = \" \".join(bogota2_phase2_functions)\n",
    "x = string.split(\",\")\n",
    "out = collections.Counter(x)\n",
    "out.most_common()\n",
    "len(out)"
   ]
  },
  {
   "cell_type": "code",
   "execution_count": null,
   "id": "5922724f",
   "metadata": {},
   "outputs": [],
   "source": [
    "import collections\n",
    "bogota2_phase1_functions = subset_bogota2_phase1['functions'].to_list()\n",
    "string = \" \".join(bogota2_phase1_functions)\n",
    "x = string.split(\",\")\n",
    "out = collections.Counter(x)\n",
    "out.most_common()\n",
    "len(out)"
   ]
  },
  {
   "cell_type": "markdown",
   "id": "947d5bc5",
   "metadata": {},
   "source": [
    "## Descriptive Statistics for Functions in Bogota 1"
   ]
  },
  {
   "cell_type": "code",
   "execution_count": null,
   "id": "f37f4752",
   "metadata": {},
   "outputs": [],
   "source": [
    "import collections\n",
    "bogota1_phase5_functions = overall_phase5_bogota1['functions'].to_list()\n",
    "string = \" \".join(bogota1_phase5_functions)\n",
    "x = string.split(\",\")\n",
    "out = collections.Counter(x)\n",
    "out.most_common()\n",
    "len(out)"
   ]
  },
  {
   "cell_type": "code",
   "execution_count": null,
   "id": "361064c0",
   "metadata": {},
   "outputs": [],
   "source": [
    "import collections\n",
    "bogota1_phase4_functions = overall_phase4_bogota1['functions'].to_list()\n",
    "string = \" \".join(bogota1_phase4_functions)\n",
    "x = string.split(\",\")\n",
    "out = collections.Counter(x)\n",
    "out.most_common()\n",
    "len(out)"
   ]
  },
  {
   "cell_type": "code",
   "execution_count": null,
   "id": "14244815",
   "metadata": {},
   "outputs": [],
   "source": [
    "import collections\n",
    "bogota1_phase3_functions = subset_bogota1_phase3['functions'].to_list()\n",
    "string = \" \".join(bogota1_phase3_functions)\n",
    "x = string.split(\",\")\n",
    "out = collections.Counter(x)\n",
    "out.most_common()\n",
    "len(out)"
   ]
  },
  {
   "cell_type": "code",
   "execution_count": null,
   "id": "66712048",
   "metadata": {},
   "outputs": [],
   "source": [
    "import collections\n",
    "bogota1_phase2_functions = subset_bogota1_phase2['functions'].to_list()\n",
    "string = \" \".join(bogota1_phase2_functions)\n",
    "x = string.split(\",\")\n",
    "out = collections.Counter(x)\n",
    "out.most_common()\n",
    "len(out)"
   ]
  },
  {
   "cell_type": "code",
   "execution_count": null,
   "id": "0bacc890",
   "metadata": {},
   "outputs": [],
   "source": [
    "import collections\n",
    "bogota1_phase1_functions = subset_bogota1_phase1['functions'].to_list()\n",
    "string = \" \".join(bogota1_phase1_functions)\n",
    "x = string.split(\",\")\n",
    "out = collections.Counter(x)\n",
    "out.most_common()\n",
    "len(out)"
   ]
  },
  {
   "cell_type": "markdown",
   "id": "075a78fe",
   "metadata": {},
   "source": [
    "## Descriptive Statistics for Functions in Bogota 0"
   ]
  },
  {
   "cell_type": "code",
   "execution_count": null,
   "id": "b9cbce4f",
   "metadata": {},
   "outputs": [],
   "source": [
    "import collections\n",
    "bogota0_phase5_functions = overall_phase5_bogota0['functions'].to_list()\n",
    "string = \" \".join(bogota0_phase5_functions)\n",
    "x = string.split(\",\")\n",
    "out = collections.Counter(x)\n",
    "out.most_common()\n",
    "len(out)"
   ]
  },
  {
   "cell_type": "code",
   "execution_count": null,
   "id": "d7d1798f",
   "metadata": {},
   "outputs": [],
   "source": [
    "import collections\n",
    "bogota0_phase4_functions = overall_phase4_bogota0['functions'].to_list()\n",
    "string = \" \".join(bogota0_phase4_functions)\n",
    "x = string.split(\",\")\n",
    "out = collections.Counter(x)\n",
    "out.most_common()\n",
    "len(out)"
   ]
  },
  {
   "cell_type": "code",
   "execution_count": null,
   "id": "cac3cc8d",
   "metadata": {},
   "outputs": [],
   "source": [
    "import collections\n",
    "bogota0_phase3_functions = subset_bogota0_phase3['functions'].to_list()\n",
    "string = \" \".join(bogota0_phase3_functions)\n",
    "x = string.split(\",\")\n",
    "out = collections.Counter(x)\n",
    "out.most_common()\n",
    "len(out)"
   ]
  },
  {
   "cell_type": "code",
   "execution_count": null,
   "id": "6de129d3",
   "metadata": {},
   "outputs": [],
   "source": [
    "import collections\n",
    "bogota0_phase2_functions = subset_bogota0_phase2['functions'].to_list()\n",
    "string = \" \".join(bogota0_phase2_functions)\n",
    "x = string.split(\",\")\n",
    "out = collections.Counter(x)\n",
    "out.most_common()\n",
    "len(out)"
   ]
  },
  {
   "cell_type": "code",
   "execution_count": null,
   "id": "53171cdd",
   "metadata": {},
   "outputs": [],
   "source": [
    "import collections\n",
    "bogota0_phase1_functions = subset_bogota0_phase1['functions'].to_list()\n",
    "string = \" \".join(bogota0_phase1_functions)\n",
    "x = string.split(\",\")\n",
    "out = collections.Counter(x)\n",
    "out.most_common()\n",
    "len(out)"
   ]
  },
  {
   "cell_type": "code",
   "execution_count": null,
   "id": "7737f766",
   "metadata": {},
   "outputs": [],
   "source": []
  }
 ],
 "metadata": {
  "kernelspec": {
   "display_name": "Python 3",
   "language": "python",
   "name": "python3"
  },
  "language_info": {
   "codemirror_mode": {
    "name": "ipython",
    "version": 3
   },
   "file_extension": ".py",
   "mimetype": "text/x-python",
   "name": "python",
   "nbconvert_exporter": "python",
   "pygments_lexer": "ipython3",
   "version": "3.8.8"
  }
 },
 "nbformat": 4,
 "nbformat_minor": 5
}
