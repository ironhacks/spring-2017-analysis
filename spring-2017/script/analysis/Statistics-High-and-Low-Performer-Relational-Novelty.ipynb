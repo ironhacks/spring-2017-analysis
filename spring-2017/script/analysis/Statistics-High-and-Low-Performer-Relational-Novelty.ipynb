{
 "cells": [
  {
   "cell_type": "markdown",
   "id": "7506eb2f",
   "metadata": {},
   "source": [
    "## Descriptive Statistics for Relational Novelty\n",
    "\n",
    "Group comparisons for relational novelty, take top 10%, the lower 10%, and the middle and do the average relational novelty ( inverse of highest similarity ). And calculate the following measures for the 3 groups, the average relational novelty, the standard deviation of the relational novelty, the average pairwise similarity ( pairwise measure AMONG each group members ), and the standard deviation of the pairwise similarity."
   ]
  },
  {
   "cell_type": "code",
   "execution_count": 1,
   "id": "9a96fb57",
   "metadata": {},
   "outputs": [],
   "source": [
    "%store -r stage1_bogota0\n",
    "%store -r stage1_bogota1\n",
    "%store -r stage1_bogota2\n",
    "%store -r stage1_bogota3\n",
    "\n",
    "%store -r stage2_bogota0\n",
    "%store -r stage2_bogota1\n",
    "%store -r stage2_bogota2\n",
    "%store -r stage2_bogota3\n",
    "\n",
    "%store -r stage3_bogota0\n",
    "%store -r stage3_bogota1\n",
    "%store -r stage3_bogota2\n",
    "%store -r stage3_bogota3\n",
    "\n",
    "%store -r stage4_bogota0\n",
    "%store -r stage4_bogota1\n",
    "%store -r stage4_bogota2\n",
    "%store -r stage4_bogota3"
   ]
  },
  {
   "cell_type": "code",
   "execution_count": 2,
   "id": "3e31d969",
   "metadata": {},
   "outputs": [
    {
     "data": {
      "text/html": [
       "<div>\n",
       "<style scoped>\n",
       "    .dataframe tbody tr th:only-of-type {\n",
       "        vertical-align: middle;\n",
       "    }\n",
       "\n",
       "    .dataframe tbody tr th {\n",
       "        vertical-align: top;\n",
       "    }\n",
       "\n",
       "    .dataframe thead th {\n",
       "        text-align: right;\n",
       "    }\n",
       "</style>\n",
       "<table border=\"1\" class=\"dataframe\">\n",
       "  <thead>\n",
       "    <tr style=\"text-align: right;\">\n",
       "      <th></th>\n",
       "      <th>user1</th>\n",
       "      <th>user2</th>\n",
       "      <th>user1_phase</th>\n",
       "      <th>user2_phase</th>\n",
       "      <th>similarity</th>\n",
       "    </tr>\n",
       "  </thead>\n",
       "  <tbody>\n",
       "    <tr>\n",
       "      <th>38</th>\n",
       "      <td>fffeelipe</td>\n",
       "      <td>mnguzmanc</td>\n",
       "      <td>1</td>\n",
       "      <td>2</td>\n",
       "      <td>0.0</td>\n",
       "    </tr>\n",
       "    <tr>\n",
       "      <th>39</th>\n",
       "      <td>fffeelipe</td>\n",
       "      <td>jmcuestasb</td>\n",
       "      <td>1</td>\n",
       "      <td>2</td>\n",
       "      <td>0.0</td>\n",
       "    </tr>\n",
       "    <tr>\n",
       "      <th>40</th>\n",
       "      <td>fffeelipe</td>\n",
       "      <td>katherinsb</td>\n",
       "      <td>1</td>\n",
       "      <td>2</td>\n",
       "      <td>1.0</td>\n",
       "    </tr>\n",
       "    <tr>\n",
       "      <th>41</th>\n",
       "      <td>fffeelipe</td>\n",
       "      <td>jjrodriguezn</td>\n",
       "      <td>1</td>\n",
       "      <td>2</td>\n",
       "      <td>0.0</td>\n",
       "    </tr>\n",
       "    <tr>\n",
       "      <th>42</th>\n",
       "      <td>fffeelipe</td>\n",
       "      <td>DglyP</td>\n",
       "      <td>1</td>\n",
       "      <td>2</td>\n",
       "      <td>0.0</td>\n",
       "    </tr>\n",
       "    <tr>\n",
       "      <th>...</th>\n",
       "      <td>...</td>\n",
       "      <td>...</td>\n",
       "      <td>...</td>\n",
       "      <td>...</td>\n",
       "      <td>...</td>\n",
       "    </tr>\n",
       "    <tr>\n",
       "      <th>2141</th>\n",
       "      <td>odprietoh</td>\n",
       "      <td>jdsolanos</td>\n",
       "      <td>1</td>\n",
       "      <td>2</td>\n",
       "      <td>0.0</td>\n",
       "    </tr>\n",
       "    <tr>\n",
       "      <th>2142</th>\n",
       "      <td>odprietoh</td>\n",
       "      <td>jcneivaa</td>\n",
       "      <td>1</td>\n",
       "      <td>2</td>\n",
       "      <td>0.0</td>\n",
       "    </tr>\n",
       "    <tr>\n",
       "      <th>2143</th>\n",
       "      <td>odprietoh</td>\n",
       "      <td>fmbernalb</td>\n",
       "      <td>1</td>\n",
       "      <td>2</td>\n",
       "      <td>0.0</td>\n",
       "    </tr>\n",
       "    <tr>\n",
       "      <th>2144</th>\n",
       "      <td>odprietoh</td>\n",
       "      <td>MogGy94</td>\n",
       "      <td>1</td>\n",
       "      <td>2</td>\n",
       "      <td>0.0</td>\n",
       "    </tr>\n",
       "    <tr>\n",
       "      <th>2145</th>\n",
       "      <td>odprietoh</td>\n",
       "      <td>yocuervoc</td>\n",
       "      <td>1</td>\n",
       "      <td>2</td>\n",
       "      <td>0.0</td>\n",
       "    </tr>\n",
       "  </tbody>\n",
       "</table>\n",
       "<p>1406 rows × 5 columns</p>\n",
       "</div>"
      ],
      "text/plain": [
       "          user1         user2  user1_phase  user2_phase  similarity\n",
       "38    fffeelipe     mnguzmanc            1            2         0.0\n",
       "39    fffeelipe    jmcuestasb            1            2         0.0\n",
       "40    fffeelipe    katherinsb            1            2         1.0\n",
       "41    fffeelipe  jjrodriguezn            1            2         0.0\n",
       "42    fffeelipe         DglyP            1            2         0.0\n",
       "...         ...           ...          ...          ...         ...\n",
       "2141  odprietoh     jdsolanos            1            2         0.0\n",
       "2142  odprietoh      jcneivaa            1            2         0.0\n",
       "2143  odprietoh     fmbernalb            1            2         0.0\n",
       "2144  odprietoh       MogGy94            1            2         0.0\n",
       "2145  odprietoh     yocuervoc            1            2         0.0\n",
       "\n",
       "[1406 rows x 5 columns]"
      ]
     },
     "execution_count": 2,
     "metadata": {},
     "output_type": "execute_result"
    }
   ],
   "source": [
    "stage1_bogota0"
   ]
  },
  {
   "cell_type": "code",
   "execution_count": 3,
   "id": "03dc0a05",
   "metadata": {},
   "outputs": [
    {
     "data": {
      "text/html": [
       "<div>\n",
       "<style scoped>\n",
       "    .dataframe tbody tr th:only-of-type {\n",
       "        vertical-align: middle;\n",
       "    }\n",
       "\n",
       "    .dataframe tbody tr th {\n",
       "        vertical-align: top;\n",
       "    }\n",
       "\n",
       "    .dataframe thead th {\n",
       "        text-align: right;\n",
       "    }\n",
       "</style>\n",
       "<table border=\"1\" class=\"dataframe\">\n",
       "  <thead>\n",
       "    <tr style=\"text-align: right;\">\n",
       "      <th></th>\n",
       "      <th>Unnamed: 0.1</th>\n",
       "      <th>Unnamed: 0</th>\n",
       "      <th>Student</th>\n",
       "      <th>phase</th>\n",
       "      <th>novelty</th>\n",
       "      <th>group</th>\n",
       "      <th>abs_perform_diff_best</th>\n",
       "      <th>user2</th>\n",
       "      <th>Q7_Q7_1</th>\n",
       "      <th>Q7_Q7_2</th>\n",
       "      <th>...</th>\n",
       "      <th>count</th>\n",
       "      <th>total</th>\n",
       "      <th>user-requirement</th>\n",
       "      <th>infovis</th>\n",
       "      <th>novelty_score</th>\n",
       "      <th>exploration</th>\n",
       "      <th>Group</th>\n",
       "      <th>len_unique</th>\n",
       "      <th>added_sum</th>\n",
       "      <th>sim-to-best</th>\n",
       "    </tr>\n",
       "  </thead>\n",
       "  <tbody>\n",
       "    <tr>\n",
       "      <th>0</th>\n",
       "      <td>0</td>\n",
       "      <td>1</td>\n",
       "      <td>wilson911013</td>\n",
       "      <td>1</td>\n",
       "      <td>0.000000</td>\n",
       "      <td>3</td>\n",
       "      <td>250.84</td>\n",
       "      <td>wilson911013</td>\n",
       "      <td>0.0</td>\n",
       "      <td>1.0</td>\n",
       "      <td>...</td>\n",
       "      <td>1.0</td>\n",
       "      <td>90.83</td>\n",
       "      <td>20.0</td>\n",
       "      <td>33.33</td>\n",
       "      <td>0.0</td>\n",
       "      <td>0.000000</td>\n",
       "      <td>3.0</td>\n",
       "      <td>0.0</td>\n",
       "      <td>0.0</td>\n",
       "      <td>0.000000</td>\n",
       "    </tr>\n",
       "    <tr>\n",
       "      <th>1</th>\n",
       "      <td>2</td>\n",
       "      <td>5</td>\n",
       "      <td>lizzyt10h</td>\n",
       "      <td>1</td>\n",
       "      <td>0.400000</td>\n",
       "      <td>3</td>\n",
       "      <td>175.00</td>\n",
       "      <td>lizzyt10h</td>\n",
       "      <td>2.0</td>\n",
       "      <td>1.0</td>\n",
       "      <td>...</td>\n",
       "      <td>7.0</td>\n",
       "      <td>75.00</td>\n",
       "      <td>0.0</td>\n",
       "      <td>0.00</td>\n",
       "      <td>0.0</td>\n",
       "      <td>0.945312</td>\n",
       "      <td>3.0</td>\n",
       "      <td>13.0</td>\n",
       "      <td>6.0</td>\n",
       "      <td>0.125000</td>\n",
       "    </tr>\n",
       "    <tr>\n",
       "      <th>2</th>\n",
       "      <td>3</td>\n",
       "      <td>6</td>\n",
       "      <td>AFelipeGA</td>\n",
       "      <td>1</td>\n",
       "      <td>0.400000</td>\n",
       "      <td>3</td>\n",
       "      <td>291.67</td>\n",
       "      <td>AFelipeGA</td>\n",
       "      <td>4.0</td>\n",
       "      <td>3.0</td>\n",
       "      <td>...</td>\n",
       "      <td>3.0</td>\n",
       "      <td>152.50</td>\n",
       "      <td>40.0</td>\n",
       "      <td>37.50</td>\n",
       "      <td>0.0</td>\n",
       "      <td>0.995375</td>\n",
       "      <td>3.0</td>\n",
       "      <td>2059.0</td>\n",
       "      <td>2049.0</td>\n",
       "      <td>0.003841</td>\n",
       "    </tr>\n",
       "    <tr>\n",
       "      <th>3</th>\n",
       "      <td>4</td>\n",
       "      <td>7</td>\n",
       "      <td>wapiravaguens</td>\n",
       "      <td>1</td>\n",
       "      <td>0.400000</td>\n",
       "      <td>3</td>\n",
       "      <td>90.00</td>\n",
       "      <td>wapiravaguens</td>\n",
       "      <td>0.0</td>\n",
       "      <td>1.0</td>\n",
       "      <td>...</td>\n",
       "      <td>1.0</td>\n",
       "      <td>192.50</td>\n",
       "      <td>80.0</td>\n",
       "      <td>50.00</td>\n",
       "      <td>0.0</td>\n",
       "      <td>0.567164</td>\n",
       "      <td>3.0</td>\n",
       "      <td>63.0</td>\n",
       "      <td>34.0</td>\n",
       "      <td>0.202532</td>\n",
       "    </tr>\n",
       "    <tr>\n",
       "      <th>4</th>\n",
       "      <td>5</td>\n",
       "      <td>8</td>\n",
       "      <td>capinzor</td>\n",
       "      <td>1</td>\n",
       "      <td>0.413793</td>\n",
       "      <td>3</td>\n",
       "      <td>221.67</td>\n",
       "      <td>capinzor</td>\n",
       "      <td>0.0</td>\n",
       "      <td>0.0</td>\n",
       "      <td>...</td>\n",
       "      <td>0.0</td>\n",
       "      <td>120.00</td>\n",
       "      <td>20.0</td>\n",
       "      <td>25.00</td>\n",
       "      <td>0.0</td>\n",
       "      <td>0.000000</td>\n",
       "      <td>3.0</td>\n",
       "      <td>20.0</td>\n",
       "      <td>0.0</td>\n",
       "      <td>0.083333</td>\n",
       "    </tr>\n",
       "    <tr>\n",
       "      <th>...</th>\n",
       "      <td>...</td>\n",
       "      <td>...</td>\n",
       "      <td>...</td>\n",
       "      <td>...</td>\n",
       "      <td>...</td>\n",
       "      <td>...</td>\n",
       "      <td>...</td>\n",
       "      <td>...</td>\n",
       "      <td>...</td>\n",
       "      <td>...</td>\n",
       "      <td>...</td>\n",
       "      <td>...</td>\n",
       "      <td>...</td>\n",
       "      <td>...</td>\n",
       "      <td>...</td>\n",
       "      <td>...</td>\n",
       "      <td>...</td>\n",
       "      <td>...</td>\n",
       "      <td>...</td>\n",
       "      <td>...</td>\n",
       "      <td>...</td>\n",
       "    </tr>\n",
       "    <tr>\n",
       "      <th>631</th>\n",
       "      <td>647</td>\n",
       "      <td>651</td>\n",
       "      <td>kastellanos</td>\n",
       "      <td>3</td>\n",
       "      <td>0.000000</td>\n",
       "      <td>1</td>\n",
       "      <td>345.83</td>\n",
       "      <td>kastellanos</td>\n",
       "      <td>5.0</td>\n",
       "      <td>5.0</td>\n",
       "      <td>...</td>\n",
       "      <td>0.0</td>\n",
       "      <td>0.00</td>\n",
       "      <td>0.0</td>\n",
       "      <td>0.00</td>\n",
       "      <td>0.0</td>\n",
       "      <td>0.000000</td>\n",
       "      <td>1.0</td>\n",
       "      <td>NaN</td>\n",
       "      <td>NaN</td>\n",
       "      <td>NaN</td>\n",
       "    </tr>\n",
       "    <tr>\n",
       "      <th>632</th>\n",
       "      <td>648</td>\n",
       "      <td>652</td>\n",
       "      <td>tres-iqus</td>\n",
       "      <td>3</td>\n",
       "      <td>0.000000</td>\n",
       "      <td>2</td>\n",
       "      <td>358.33</td>\n",
       "      <td>tres-iqus</td>\n",
       "      <td>1.0</td>\n",
       "      <td>1.0</td>\n",
       "      <td>...</td>\n",
       "      <td>0.0</td>\n",
       "      <td>0.00</td>\n",
       "      <td>0.0</td>\n",
       "      <td>0.00</td>\n",
       "      <td>0.0</td>\n",
       "      <td>0.000000</td>\n",
       "      <td>2.0</td>\n",
       "      <td>NaN</td>\n",
       "      <td>NaN</td>\n",
       "      <td>NaN</td>\n",
       "    </tr>\n",
       "    <tr>\n",
       "      <th>633</th>\n",
       "      <td>649</td>\n",
       "      <td>653</td>\n",
       "      <td>annumumozme</td>\n",
       "      <td>4</td>\n",
       "      <td>0.000000</td>\n",
       "      <td>0</td>\n",
       "      <td>313.33</td>\n",
       "      <td>NaN</td>\n",
       "      <td>NaN</td>\n",
       "      <td>NaN</td>\n",
       "      <td>...</td>\n",
       "      <td>0.0</td>\n",
       "      <td>237.50</td>\n",
       "      <td>40.0</td>\n",
       "      <td>37.50</td>\n",
       "      <td>60.0</td>\n",
       "      <td>0.000000</td>\n",
       "      <td>0.0</td>\n",
       "      <td>NaN</td>\n",
       "      <td>NaN</td>\n",
       "      <td>NaN</td>\n",
       "    </tr>\n",
       "    <tr>\n",
       "      <th>634</th>\n",
       "      <td>650</td>\n",
       "      <td>654</td>\n",
       "      <td>kastellanos</td>\n",
       "      <td>4</td>\n",
       "      <td>0.000000</td>\n",
       "      <td>1</td>\n",
       "      <td>350.00</td>\n",
       "      <td>kastellanos</td>\n",
       "      <td>5.0</td>\n",
       "      <td>5.0</td>\n",
       "      <td>...</td>\n",
       "      <td>0.0</td>\n",
       "      <td>0.00</td>\n",
       "      <td>0.0</td>\n",
       "      <td>0.00</td>\n",
       "      <td>0.0</td>\n",
       "      <td>0.000000</td>\n",
       "      <td>1.0</td>\n",
       "      <td>NaN</td>\n",
       "      <td>NaN</td>\n",
       "      <td>NaN</td>\n",
       "    </tr>\n",
       "    <tr>\n",
       "      <th>635</th>\n",
       "      <td>651</td>\n",
       "      <td>655</td>\n",
       "      <td>tres-iqus</td>\n",
       "      <td>4</td>\n",
       "      <td>0.000000</td>\n",
       "      <td>2</td>\n",
       "      <td>358.33</td>\n",
       "      <td>tres-iqus</td>\n",
       "      <td>1.0</td>\n",
       "      <td>1.0</td>\n",
       "      <td>...</td>\n",
       "      <td>0.0</td>\n",
       "      <td>0.00</td>\n",
       "      <td>0.0</td>\n",
       "      <td>0.00</td>\n",
       "      <td>0.0</td>\n",
       "      <td>0.000000</td>\n",
       "      <td>2.0</td>\n",
       "      <td>NaN</td>\n",
       "      <td>NaN</td>\n",
       "      <td>NaN</td>\n",
       "    </tr>\n",
       "  </tbody>\n",
       "</table>\n",
       "<p>636 rows × 22 columns</p>\n",
       "</div>"
      ],
      "text/plain": [
       "     Unnamed: 0.1  Unnamed: 0        Student  phase   novelty  group  \\\n",
       "0               0           1   wilson911013      1  0.000000      3   \n",
       "1               2           5      lizzyt10h      1  0.400000      3   \n",
       "2               3           6      AFelipeGA      1  0.400000      3   \n",
       "3               4           7  wapiravaguens      1  0.400000      3   \n",
       "4               5           8       capinzor      1  0.413793      3   \n",
       "..            ...         ...            ...    ...       ...    ...   \n",
       "631           647         651    kastellanos      3  0.000000      1   \n",
       "632           648         652      tres-iqus      3  0.000000      2   \n",
       "633           649         653    annumumozme      4  0.000000      0   \n",
       "634           650         654    kastellanos      4  0.000000      1   \n",
       "635           651         655      tres-iqus      4  0.000000      2   \n",
       "\n",
       "     abs_perform_diff_best          user2  Q7_Q7_1  Q7_Q7_2  ...  count  \\\n",
       "0                   250.84   wilson911013      0.0      1.0  ...    1.0   \n",
       "1                   175.00      lizzyt10h      2.0      1.0  ...    7.0   \n",
       "2                   291.67      AFelipeGA      4.0      3.0  ...    3.0   \n",
       "3                    90.00  wapiravaguens      0.0      1.0  ...    1.0   \n",
       "4                   221.67       capinzor      0.0      0.0  ...    0.0   \n",
       "..                     ...            ...      ...      ...  ...    ...   \n",
       "631                 345.83    kastellanos      5.0      5.0  ...    0.0   \n",
       "632                 358.33      tres-iqus      1.0      1.0  ...    0.0   \n",
       "633                 313.33            NaN      NaN      NaN  ...    0.0   \n",
       "634                 350.00    kastellanos      5.0      5.0  ...    0.0   \n",
       "635                 358.33      tres-iqus      1.0      1.0  ...    0.0   \n",
       "\n",
       "      total  user-requirement  infovis  novelty_score  exploration  Group  \\\n",
       "0     90.83              20.0    33.33            0.0     0.000000    3.0   \n",
       "1     75.00               0.0     0.00            0.0     0.945312    3.0   \n",
       "2    152.50              40.0    37.50            0.0     0.995375    3.0   \n",
       "3    192.50              80.0    50.00            0.0     0.567164    3.0   \n",
       "4    120.00              20.0    25.00            0.0     0.000000    3.0   \n",
       "..      ...               ...      ...            ...          ...    ...   \n",
       "631    0.00               0.0     0.00            0.0     0.000000    1.0   \n",
       "632    0.00               0.0     0.00            0.0     0.000000    2.0   \n",
       "633  237.50              40.0    37.50           60.0     0.000000    0.0   \n",
       "634    0.00               0.0     0.00            0.0     0.000000    1.0   \n",
       "635    0.00               0.0     0.00            0.0     0.000000    2.0   \n",
       "\n",
       "     len_unique  added_sum  sim-to-best  \n",
       "0           0.0        0.0     0.000000  \n",
       "1          13.0        6.0     0.125000  \n",
       "2        2059.0     2049.0     0.003841  \n",
       "3          63.0       34.0     0.202532  \n",
       "4          20.0        0.0     0.083333  \n",
       "..          ...        ...          ...  \n",
       "631         NaN        NaN          NaN  \n",
       "632         NaN        NaN          NaN  \n",
       "633         NaN        NaN          NaN  \n",
       "634         NaN        NaN          NaN  \n",
       "635         NaN        NaN          NaN  \n",
       "\n",
       "[636 rows x 22 columns]"
      ]
     },
     "execution_count": 3,
     "metadata": {},
     "output_type": "execute_result"
    }
   ],
   "source": [
    "import pandas as pd \n",
    "import seaborn as sns\n",
    "import math\n",
    "df = pd.read_csv(\"merged-sim-best.csv\")\n",
    "df"
   ]
  },
  {
   "cell_type": "code",
   "execution_count": 4,
   "id": "de3ca6a7",
   "metadata": {},
   "outputs": [],
   "source": [
    "df_g3 = df[df['group'] == 3]\n",
    "df_g3_p1 = df_g3[df_g3['phase'] == 1]\n",
    "df_g3_p2 = df_g3[df_g3['phase'] == 2]\n",
    "df_g3_p3 = df_g3[df_g3['phase'] == 3]\n",
    "df_g3_p4 = df_g3[df_g3['phase'] == 4]\n",
    "\n",
    "df_g2 = df[df['group'] == 2]\n",
    "df_g2_p1 = df_g2[df_g2['phase'] == 1]\n",
    "df_g2_p2 = df_g2[df_g2['phase'] == 2]\n",
    "df_g2_p3 = df_g2[df_g2['phase'] == 3]\n",
    "df_g2_p4 = df_g2[df_g2['phase'] == 4]\n",
    "\n",
    "df_g1 = df[df['group'] == 1]\n",
    "df_g1_p1 = df_g1[df_g1['phase'] == 1]\n",
    "df_g1_p2 = df_g1[df_g1['phase'] == 2]\n",
    "df_g1_p3 = df_g1[df_g1['phase'] == 3]\n",
    "df_g1_p4 = df_g1[df_g1['phase'] == 4]\n",
    "\n",
    "df_g0 = df[df['group'] == 0]\n",
    "df_g0_p1 = df_g0[df_g0['phase'] == 1]\n",
    "df_g0_p2 = df_g0[df_g0['phase'] == 2]\n",
    "df_g0_p3 = df_g0[df_g0['phase'] == 3]\n",
    "df_g0_p4 = df_g0[df_g0['phase'] == 4]"
   ]
  },
  {
   "cell_type": "code",
   "execution_count": 5,
   "id": "caa8e81b",
   "metadata": {},
   "outputs": [
    {
     "data": {
      "text/plain": [
       "4"
      ]
     },
     "execution_count": 5,
     "metadata": {},
     "output_type": "execute_result"
    }
   ],
   "source": [
    "math.ceil(len(df_g3_p1['novelty']) * 0.1)"
   ]
  },
  {
   "cell_type": "code",
   "execution_count": 6,
   "id": "f88db25e",
   "metadata": {},
   "outputs": [
    {
     "data": {
      "text/plain": [
       "5"
      ]
     },
     "execution_count": 6,
     "metadata": {},
     "output_type": "execute_result"
    }
   ],
   "source": [
    "math.ceil(len(df_g2_p1['novelty']) * 0.1)"
   ]
  },
  {
   "cell_type": "code",
   "execution_count": 7,
   "id": "4d1535e4",
   "metadata": {},
   "outputs": [
    {
     "data": {
      "text/plain": [
       "5"
      ]
     },
     "execution_count": 7,
     "metadata": {},
     "output_type": "execute_result"
    }
   ],
   "source": [
    "math.ceil(len(df_g1_p1['novelty']) * 0.1)"
   ]
  },
  {
   "cell_type": "code",
   "execution_count": 8,
   "id": "ca003168",
   "metadata": {},
   "outputs": [
    {
     "data": {
      "text/plain": [
       "4"
      ]
     },
     "execution_count": 8,
     "metadata": {},
     "output_type": "execute_result"
    }
   ],
   "source": [
    "math.ceil(len(df_g0_p1['novelty']) * 0.1)"
   ]
  },
  {
   "cell_type": "code",
   "execution_count": 9,
   "id": "78e142cf",
   "metadata": {},
   "outputs": [
    {
     "data": {
      "text/plain": [
       "21"
      ]
     },
     "execution_count": 9,
     "metadata": {},
     "output_type": "execute_result"
    }
   ],
   "source": [
    "math.ceil(len(df_g3_p1['novelty']) * 0.55)"
   ]
  },
  {
   "cell_type": "code",
   "execution_count": 10,
   "id": "19c514ad",
   "metadata": {},
   "outputs": [
    {
     "data": {
      "text/plain": [
       "25"
      ]
     },
     "execution_count": 10,
     "metadata": {},
     "output_type": "execute_result"
    }
   ],
   "source": [
    "math.ceil(len(df_g3_p1['novelty']) * 0.65)"
   ]
  },
  {
   "cell_type": "code",
   "execution_count": 11,
   "id": "c482fba6",
   "metadata": {},
   "outputs": [
    {
     "data": {
      "text/plain": [
       "24"
      ]
     },
     "execution_count": 11,
     "metadata": {},
     "output_type": "execute_result"
    }
   ],
   "source": [
    "math.ceil(len(df_g2_p1['novelty']) * 0.55)"
   ]
  },
  {
   "cell_type": "code",
   "execution_count": 12,
   "id": "37320ad3",
   "metadata": {},
   "outputs": [
    {
     "data": {
      "text/plain": [
       "28"
      ]
     },
     "execution_count": 12,
     "metadata": {},
     "output_type": "execute_result"
    }
   ],
   "source": [
    "math.ceil(len(df_g2_p1['novelty']) * 0.65)"
   ]
  },
  {
   "cell_type": "code",
   "execution_count": 13,
   "id": "7ebf74d2",
   "metadata": {},
   "outputs": [
    {
     "data": {
      "text/plain": [
       "23"
      ]
     },
     "execution_count": 13,
     "metadata": {},
     "output_type": "execute_result"
    }
   ],
   "source": [
    "math.ceil(len(df_g1_p1['novelty']) * 0.55)"
   ]
  },
  {
   "cell_type": "code",
   "execution_count": 14,
   "id": "ac553774",
   "metadata": {},
   "outputs": [
    {
     "data": {
      "text/plain": [
       "27"
      ]
     },
     "execution_count": 14,
     "metadata": {},
     "output_type": "execute_result"
    }
   ],
   "source": [
    "math.ceil(len(df_g1_p1['novelty']) * 0.65)"
   ]
  },
  {
   "cell_type": "code",
   "execution_count": 15,
   "id": "c732f188",
   "metadata": {},
   "outputs": [
    {
     "data": {
      "text/plain": [
       "22"
      ]
     },
     "execution_count": 15,
     "metadata": {},
     "output_type": "execute_result"
    }
   ],
   "source": [
    "math.ceil(len(df_g0_p1['novelty']) * 0.55)"
   ]
  },
  {
   "cell_type": "code",
   "execution_count": 16,
   "id": "34c68d38",
   "metadata": {},
   "outputs": [
    {
     "data": {
      "text/plain": [
       "26"
      ]
     },
     "execution_count": 16,
     "metadata": {},
     "output_type": "execute_result"
    }
   ],
   "source": [
    "math.ceil(len(df_g0_p1['novelty']) * 0.65)"
   ]
  },
  {
   "cell_type": "code",
   "execution_count": 17,
   "id": "94d0530f",
   "metadata": {},
   "outputs": [],
   "source": [
    "df_g3_p1 = df_g3_p1.sort_values(['total'], ascending=False).groupby('Student').head(4)\n",
    "df_g3_p2 = df_g3_p2.sort_values(['total'], ascending=False).groupby('Student').head(4)\n",
    "df_g3_p3 = df_g3_p3.sort_values(['total'], ascending=False).groupby('Student').head(4)\n",
    "df_g3_p4 = df_g3_p4.sort_values(['total'], ascending=False).groupby('Student').head(4)\n",
    "\n",
    "df_g3_p1 = df_g3_p1.sort_values(['total'], ascending=False).groupby('Student').tail(4)\n",
    "df_g3_p2 = df_g3_p2.sort_values(['total'], ascending=False).groupby('Student').tail(4)\n",
    "df_g3_p3 = df_g3_p3.sort_values(['total'], ascending=False).groupby('Student').tail(4)\n",
    "df_g3_p4 = df_g3_p4.sort_values(['total'], ascending=False).groupby('Student').tail(4)\n",
    "\n",
    "df_g2_p1 = df_g2_p1.sort_values(['total'], ascending=False).groupby('Student').head(4)\n",
    "df_g2_p2 = df_g2_p2.sort_values(['total'], ascending=False).groupby('Student').head(4)\n",
    "df_g2_p3 = df_g2_p3.sort_values(['total'], ascending=False).groupby('Student').head(4)\n",
    "df_g2_p4 = df_g2_p4.sort_values(['total'], ascending=False).groupby('Student').head(4)\n",
    "\n",
    "df_g2_p1 = df_g2_p1.sort_values(['total'], ascending=False).groupby('Student').tail(4)\n",
    "df_g2_p2 = df_g2_p2.sort_values(['total'], ascending=False).groupby('Student').tail(4)\n",
    "df_g2_p3 = df_g2_p3.sort_values(['total'], ascending=False).groupby('Student').tail(4)\n",
    "df_g2_p4 = df_g2_p4.sort_values(['total'], ascending=False).groupby('Student').tail(4)\n",
    "\n",
    "df_g1_p1 = df_g1_p1.sort_values(['total'], ascending=False).groupby('Student').head(4)\n",
    "df_g1_p2 = df_g1_p2.sort_values(['total'], ascending=False).groupby('Student').head(4)\n",
    "df_g1_p3 = df_g1_p3.sort_values(['total'], ascending=False).groupby('Student').head(4)\n",
    "df_g1_p4 = df_g1_p4.sort_values(['total'], ascending=False).groupby('Student').head(4)\n",
    "\n",
    "df_g1_p1 = df_g1_p1.sort_values(['total'], ascending=False).groupby('Student').tail(4)\n",
    "df_g1_p2 = df_g1_p2.sort_values(['total'], ascending=False).groupby('Student').tail(4)\n",
    "df_g1_p3 = df_g1_p3.sort_values(['total'], ascending=False).groupby('Student').tail(4)\n",
    "df_g1_p4 = df_g1_p4.sort_values(['total'], ascending=False).groupby('Student').tail(4)\n",
    "\n",
    "df_g0_p1 = df_g0_p1.sort_values(['total'], ascending=False).groupby('Student').head(4)\n",
    "df_g0_p2 = df_g0_p2.sort_values(['total'], ascending=False).groupby('Student').head(4)\n",
    "df_g0_p3 = df_g0_p3.sort_values(['total'], ascending=False).groupby('Student').head(4)\n",
    "df_g0_p4 = df_g0_p4.sort_values(['total'], ascending=False).groupby('Student').head(4)\n",
    "\n",
    "df_g0_p1 = df_g0_p1.sort_values(['total'], ascending=False).groupby('Student').tail(4)\n",
    "df_g0_p2 = df_g0_p2.sort_values(['total'], ascending=False).groupby('Student').tail(4)\n",
    "df_g0_p3 = df_g0_p3.sort_values(['total'], ascending=False).groupby('Student').tail(4)\n",
    "df_g0_p4 = df_g0_p4.sort_values(['total'], ascending=False).groupby('Student').tail(4)\n"
   ]
  },
  {
   "cell_type": "markdown",
   "id": "31b9aa28",
   "metadata": {},
   "source": [
    "## Top 10% in Group 3"
   ]
  },
  {
   "cell_type": "code",
   "execution_count": 18,
   "id": "09f3e41a",
   "metadata": {},
   "outputs": [
    {
     "name": "stdout",
     "output_type": "stream",
     "text": [
      "count    4.000000\n",
      "mean     0.682906\n",
      "std      0.086414\n",
      "min      0.625000\n",
      "25%      0.629076\n",
      "50%      0.648551\n",
      "75%      0.702381\n",
      "max      0.809524\n",
      "Name: novelty, dtype: float64\n",
      "count    4.000000\n",
      "mean     0.772434\n",
      "std      0.079760\n",
      "min      0.686275\n",
      "25%      0.715923\n",
      "50%      0.773160\n",
      "75%      0.829670\n",
      "max      0.857143\n",
      "Name: novelty, dtype: float64\n",
      "count    4.000000\n",
      "mean     0.868736\n",
      "std      0.132570\n",
      "min      0.679612\n",
      "25%      0.839806\n",
      "50%      0.903420\n",
      "75%      0.932351\n",
      "max      0.988493\n",
      "Name: novelty, dtype: float64\n",
      "count    4.000000\n",
      "mean     0.882572\n",
      "std      0.070231\n",
      "min      0.816456\n",
      "25%      0.831518\n",
      "50%      0.871711\n",
      "75%      0.922764\n",
      "max      0.970410\n",
      "Name: novelty, dtype: float64\n"
     ]
    }
   ],
   "source": [
    "df_list = [df_g3_p1, df_g3_p2, df_g3_p3, df_g3_p4]\n",
    "\n",
    "for df in df_list:\n",
    "    print(df['novelty'].head(4).describe())"
   ]
  },
  {
   "cell_type": "markdown",
   "id": "01bae1be",
   "metadata": {},
   "source": [
    "## Bottom 10% in Group 3"
   ]
  },
  {
   "cell_type": "code",
   "execution_count": 19,
   "id": "2e3a46ce",
   "metadata": {},
   "outputs": [
    {
     "name": "stdout",
     "output_type": "stream",
     "text": [
      "count    4.000000\n",
      "mean     0.529728\n",
      "std      0.423809\n",
      "min      0.000000\n",
      "25%      0.300000\n",
      "50%      0.575000\n",
      "75%      0.804728\n",
      "max      0.968912\n",
      "Name: novelty, dtype: float64\n",
      "count    4.000000\n",
      "mean     0.478237\n",
      "std      0.403248\n",
      "min      0.000000\n",
      "25%      0.321429\n",
      "50%      0.464286\n",
      "75%      0.621094\n",
      "max      0.984375\n",
      "Name: novelty, dtype: float64\n",
      "count    4.000000\n",
      "mean     0.759555\n",
      "std      0.178619\n",
      "min      0.500000\n",
      "25%      0.713785\n",
      "50%      0.824666\n",
      "75%      0.870437\n",
      "max      0.888889\n",
      "Name: novelty, dtype: float64\n",
      "count    4.000000\n",
      "mean     0.793546\n",
      "std      0.209816\n",
      "min      0.500000\n",
      "25%      0.725000\n",
      "50%      0.844444\n",
      "75%      0.912990\n",
      "max      0.985294\n",
      "Name: novelty, dtype: float64\n"
     ]
    }
   ],
   "source": [
    "df_list = [df_g3_p1, df_g3_p2, df_g3_p3, df_g3_p4]\n",
    "\n",
    "for df in df_list:\n",
    "    print(df['novelty'].tail(4).describe())"
   ]
  },
  {
   "cell_type": "markdown",
   "id": "da206f58",
   "metadata": {},
   "source": [
    "## Middle in Group 3"
   ]
  },
  {
   "cell_type": "code",
   "execution_count": 20,
   "id": "5fbb5cda",
   "metadata": {},
   "outputs": [
    {
     "name": "stdout",
     "output_type": "stream",
     "text": [
      "        novelty\n",
      "count  2.000000\n",
      "mean   0.646329\n",
      "std    0.285508\n",
      "min    0.444444\n",
      "25%    0.545387\n",
      "50%    0.646329\n",
      "75%    0.747272\n",
      "max    0.848214\n",
      "        novelty\n",
      "count  2.000000\n",
      "mean   0.594648\n",
      "std    0.215441\n",
      "min    0.442308\n",
      "25%    0.518478\n",
      "50%    0.594648\n",
      "75%    0.670818\n",
      "max    0.746988\n",
      "        novelty\n",
      "count  2.000000\n",
      "mean   0.702786\n",
      "std    0.070930\n",
      "min    0.652632\n",
      "25%    0.677709\n",
      "50%    0.702786\n",
      "75%    0.727864\n",
      "max    0.752941\n",
      "        novelty\n",
      "count  2.000000\n",
      "mean   0.844657\n",
      "std    0.038379\n",
      "min    0.817518\n",
      "25%    0.831087\n",
      "50%    0.844657\n",
      "75%    0.858226\n",
      "max    0.871795\n"
     ]
    }
   ],
   "source": [
    "df_list = [df_g3_p1, df_g3_p2, df_g3_p3, df_g3_p4]\n",
    "\n",
    "for df in df_list:\n",
    "    print(df[['novelty']].iloc[[21,25]].describe())"
   ]
  },
  {
   "cell_type": "markdown",
   "id": "6e699bb0",
   "metadata": {},
   "source": [
    "## Top 10% Group 2"
   ]
  },
  {
   "cell_type": "code",
   "execution_count": 21,
   "id": "ed6fe992",
   "metadata": {},
   "outputs": [
    {
     "name": "stdout",
     "output_type": "stream",
     "text": [
      "count    5.000000\n",
      "mean     0.750318\n",
      "std      0.177847\n",
      "min      0.537500\n",
      "25%      0.629630\n",
      "50%      0.739837\n",
      "75%      0.861538\n",
      "max      0.983087\n",
      "Name: novelty, dtype: float64\n",
      "count    5.000000\n",
      "mean     0.767741\n",
      "std      0.087778\n",
      "min      0.640000\n",
      "25%      0.756098\n",
      "50%      0.774194\n",
      "75%      0.781818\n",
      "max      0.886598\n",
      "Name: novelty, dtype: float64\n",
      "count    5.000000\n",
      "mean     0.695096\n",
      "std      0.359932\n",
      "min      0.057047\n",
      "25%      0.795918\n",
      "50%      0.823293\n",
      "75%      0.879032\n",
      "max      0.920188\n",
      "Name: novelty, dtype: float64\n",
      "count    5.000000\n",
      "mean     0.810882\n",
      "std      0.117681\n",
      "min      0.622222\n",
      "25%      0.817073\n",
      "50%      0.830116\n",
      "75%      0.837398\n",
      "max      0.947598\n",
      "Name: novelty, dtype: float64\n"
     ]
    }
   ],
   "source": [
    "df_list = [df_g2_p1, df_g2_p2, df_g2_p3, df_g2_p4]\n",
    "\n",
    "for df in df_list:\n",
    "    print(df['novelty'].head(5).describe())"
   ]
  },
  {
   "cell_type": "markdown",
   "id": "f2883a81",
   "metadata": {},
   "source": [
    "## Bottom 10% Group 2"
   ]
  },
  {
   "cell_type": "code",
   "execution_count": 22,
   "id": "73723a2b",
   "metadata": {},
   "outputs": [
    {
     "name": "stdout",
     "output_type": "stream",
     "text": [
      "count    5.000000\n",
      "mean     0.354326\n",
      "std      0.489940\n",
      "min      0.000000\n",
      "25%      0.000000\n",
      "50%      0.000000\n",
      "75%      0.789474\n",
      "max      0.982156\n",
      "Name: novelty, dtype: float64\n",
      "count    5.000000\n",
      "mean     0.163953\n",
      "std      0.353637\n",
      "min      0.000000\n",
      "25%      0.000000\n",
      "50%      0.000000\n",
      "75%      0.023468\n",
      "max      0.796296\n",
      "Name: novelty, dtype: float64\n",
      "count    5.000000\n",
      "mean     0.425612\n",
      "std      0.390735\n",
      "min      0.000000\n",
      "25%      0.000000\n",
      "50%      0.657895\n",
      "75%      0.696970\n",
      "max      0.773196\n",
      "Name: novelty, dtype: float64\n",
      "count    5.000000\n",
      "mean     0.273232\n",
      "std      0.375441\n",
      "min      0.000000\n",
      "25%      0.000000\n",
      "50%      0.000000\n",
      "75%      0.638889\n",
      "max      0.727273\n",
      "Name: novelty, dtype: float64\n"
     ]
    }
   ],
   "source": [
    "df_list = [df_g2_p1, df_g2_p2, df_g2_p3, df_g2_p4]\n",
    "\n",
    "for df in df_list:\n",
    "    print(df['novelty'].tail(5).describe())"
   ]
  },
  {
   "cell_type": "markdown",
   "id": "ec2a30fc",
   "metadata": {},
   "source": [
    "## Middle in Group 2"
   ]
  },
  {
   "cell_type": "code",
   "execution_count": 23,
   "id": "c63b9ec9",
   "metadata": {},
   "outputs": [
    {
     "name": "stdout",
     "output_type": "stream",
     "text": [
      "        novelty\n",
      "count  2.000000\n",
      "mean   0.742424\n",
      "std    0.107137\n",
      "min    0.666667\n",
      "25%    0.704545\n",
      "50%    0.742424\n",
      "75%    0.780303\n",
      "max    0.818182\n",
      "        novelty\n",
      "count  2.000000\n",
      "mean   0.765356\n",
      "std    0.001854\n",
      "min    0.764045\n",
      "25%    0.764700\n",
      "50%    0.765356\n",
      "75%    0.766011\n",
      "max    0.766667\n",
      "        novelty\n",
      "count  2.000000\n",
      "mean   0.739698\n",
      "std    0.097315\n",
      "min    0.670886\n",
      "25%    0.705292\n",
      "50%    0.739698\n",
      "75%    0.774104\n",
      "max    0.808511\n",
      "        novelty\n",
      "count  2.000000\n",
      "mean   0.453984\n",
      "std    0.213481\n",
      "min    0.303030\n",
      "25%    0.378507\n",
      "50%    0.453984\n",
      "75%    0.529461\n",
      "max    0.604938\n"
     ]
    }
   ],
   "source": [
    "df_list = [df_g2_p1, df_g2_p2, df_g2_p3, df_g2_p4]\n",
    "\n",
    "for df in df_list:\n",
    "    print(df[['novelty']].iloc[[24,28]].describe())"
   ]
  },
  {
   "cell_type": "markdown",
   "id": "3460cb41",
   "metadata": {},
   "source": [
    "## Top 10% Group 1"
   ]
  },
  {
   "cell_type": "code",
   "execution_count": 24,
   "id": "328c539b",
   "metadata": {},
   "outputs": [
    {
     "name": "stdout",
     "output_type": "stream",
     "text": [
      "count    5.000000\n",
      "mean     0.903289\n",
      "std      0.064473\n",
      "min      0.843137\n",
      "25%      0.850000\n",
      "50%      0.878906\n",
      "75%      0.965986\n",
      "max      0.978413\n",
      "Name: novelty, dtype: float64\n",
      "count    5.000000\n",
      "mean     0.747784\n",
      "std      0.358086\n",
      "min      0.115942\n",
      "25%      0.823009\n",
      "50%      0.878049\n",
      "75%      0.951956\n",
      "max      0.969967\n",
      "Name: novelty, dtype: float64\n",
      "count    5.000000\n",
      "mean     0.480164\n",
      "std      0.363028\n",
      "min      0.115942\n",
      "25%      0.256478\n",
      "50%      0.286215\n",
      "75%      0.846626\n",
      "max      0.895561\n",
      "Name: novelty, dtype: float64\n",
      "count    5.000000\n",
      "mean     0.579024\n",
      "std      0.333868\n",
      "min      0.175239\n",
      "25%      0.262414\n",
      "50%      0.745283\n",
      "75%      0.829545\n",
      "max      0.882641\n",
      "Name: novelty, dtype: float64\n"
     ]
    }
   ],
   "source": [
    "df_list = [df_g1_p1, df_g1_p2, df_g1_p3, df_g1_p4]\n",
    "\n",
    "for df in df_list:\n",
    "    print(df['novelty'].head(5).describe())"
   ]
  },
  {
   "cell_type": "markdown",
   "id": "90949bc8",
   "metadata": {},
   "source": [
    "## Bottom 10% Group 1"
   ]
  },
  {
   "cell_type": "code",
   "execution_count": 25,
   "id": "be237b41",
   "metadata": {},
   "outputs": [
    {
     "name": "stdout",
     "output_type": "stream",
     "text": [
      "count    5.0\n",
      "mean     0.0\n",
      "std      0.0\n",
      "min      0.0\n",
      "25%      0.0\n",
      "50%      0.0\n",
      "75%      0.0\n",
      "max      0.0\n",
      "Name: novelty, dtype: float64\n",
      "count    5.000000\n",
      "mean     0.111111\n",
      "std      0.248452\n",
      "min      0.000000\n",
      "25%      0.000000\n",
      "50%      0.000000\n",
      "75%      0.000000\n",
      "max      0.555556\n",
      "Name: novelty, dtype: float64\n",
      "count    5.000000\n",
      "mean     0.171084\n",
      "std      0.382556\n",
      "min      0.000000\n",
      "25%      0.000000\n",
      "50%      0.000000\n",
      "75%      0.000000\n",
      "max      0.855422\n",
      "Name: novelty, dtype: float64\n",
      "count    5.000000\n",
      "mean     0.171765\n",
      "std      0.384078\n",
      "min      0.000000\n",
      "25%      0.000000\n",
      "50%      0.000000\n",
      "75%      0.000000\n",
      "max      0.858824\n",
      "Name: novelty, dtype: float64\n"
     ]
    }
   ],
   "source": [
    "df_list = [df_g1_p1, df_g1_p2, df_g1_p3, df_g1_p4]\n",
    "\n",
    "for df in df_list:\n",
    "    print(df['novelty'].tail(5).describe())"
   ]
  },
  {
   "cell_type": "markdown",
   "id": "4e21aed3",
   "metadata": {},
   "source": [
    "## Middle Group 1"
   ]
  },
  {
   "cell_type": "code",
   "execution_count": 26,
   "id": "8ce8e7e8",
   "metadata": {},
   "outputs": [
    {
     "name": "stdout",
     "output_type": "stream",
     "text": [
      "        novelty\n",
      "count  2.000000\n",
      "mean   0.454545\n",
      "std    0.642824\n",
      "min    0.000000\n",
      "25%    0.227273\n",
      "50%    0.454545\n",
      "75%    0.681818\n",
      "max    0.909091\n",
      "        novelty\n",
      "count  2.000000\n",
      "mean   0.447143\n",
      "std    0.377797\n",
      "min    0.180000\n",
      "25%    0.313571\n",
      "50%    0.447143\n",
      "75%    0.580714\n",
      "max    0.714286\n",
      "        novelty\n",
      "count  2.000000\n",
      "mean   0.601837\n",
      "std    0.166116\n",
      "min    0.484375\n",
      "25%    0.543106\n",
      "50%    0.601837\n",
      "75%    0.660567\n",
      "max    0.719298\n",
      "        novelty\n",
      "count  2.000000\n",
      "mean   0.337582\n",
      "std    0.207596\n",
      "min    0.190789\n",
      "25%    0.264186\n",
      "50%    0.337582\n",
      "75%    0.410979\n",
      "max    0.484375\n"
     ]
    }
   ],
   "source": [
    "df_list = [df_g1_p1, df_g1_p2, df_g1_p3, df_g1_p4]\n",
    "\n",
    "for df in df_list:\n",
    "    print(df[['novelty']].iloc[[23,27]].describe())"
   ]
  },
  {
   "cell_type": "markdown",
   "id": "d69e21b6",
   "metadata": {},
   "source": [
    "## Top 10% in Group 0"
   ]
  },
  {
   "cell_type": "code",
   "execution_count": 27,
   "id": "9098a01a",
   "metadata": {},
   "outputs": [
    {
     "name": "stdout",
     "output_type": "stream",
     "text": [
      "count    4.000000\n",
      "mean     0.742373\n",
      "std      0.119638\n",
      "min      0.566667\n",
      "25%      0.726225\n",
      "50%      0.783937\n",
      "75%      0.800084\n",
      "max      0.834951\n",
      "Name: novelty, dtype: float64\n",
      "count    4.000000\n",
      "mean     0.697662\n",
      "std      0.107869\n",
      "min      0.556818\n",
      "25%      0.655438\n",
      "50%      0.709021\n",
      "75%      0.751245\n",
      "max      0.815789\n",
      "Name: novelty, dtype: float64\n",
      "count    4.000000\n",
      "mean     0.762419\n",
      "std      0.153642\n",
      "min      0.576271\n",
      "25%      0.671540\n",
      "50%      0.776177\n",
      "75%      0.867056\n",
      "max      0.921053\n",
      "Name: novelty, dtype: float64\n",
      "count    4.000000\n",
      "mean     0.811652\n",
      "std      0.074112\n",
      "min      0.720588\n",
      "25%      0.769953\n",
      "50%      0.818204\n",
      "75%      0.859903\n",
      "max      0.889610\n",
      "Name: novelty, dtype: float64\n"
     ]
    }
   ],
   "source": [
    "df_list = [df_g0_p1, df_g0_p2, df_g0_p3, df_g0_p4]\n",
    "\n",
    "for df in df_list:\n",
    "    print(df['novelty'].head(4).describe())"
   ]
  },
  {
   "cell_type": "markdown",
   "id": "0083cd9e",
   "metadata": {},
   "source": [
    "## Bottom 10% in Group 0"
   ]
  },
  {
   "cell_type": "code",
   "execution_count": 28,
   "id": "63c72d5d",
   "metadata": {},
   "outputs": [
    {
     "name": "stdout",
     "output_type": "stream",
     "text": [
      "count    4.0\n",
      "mean     0.0\n",
      "std      0.0\n",
      "min      0.0\n",
      "25%      0.0\n",
      "50%      0.0\n",
      "75%      0.0\n",
      "max      0.0\n",
      "Name: novelty, dtype: float64\n",
      "count    4.0\n",
      "mean     0.0\n",
      "std      0.0\n",
      "min      0.0\n",
      "25%      0.0\n",
      "50%      0.0\n",
      "75%      0.0\n",
      "max      0.0\n",
      "Name: novelty, dtype: float64\n",
      "count    4.0\n",
      "mean     0.0\n",
      "std      0.0\n",
      "min      0.0\n",
      "25%      0.0\n",
      "50%      0.0\n",
      "75%      0.0\n",
      "max      0.0\n",
      "Name: novelty, dtype: float64\n",
      "count    4.000000\n",
      "mean     0.225146\n",
      "std      0.450292\n",
      "min      0.000000\n",
      "25%      0.000000\n",
      "50%      0.000000\n",
      "75%      0.225146\n",
      "max      0.900585\n",
      "Name: novelty, dtype: float64\n"
     ]
    }
   ],
   "source": [
    "df_list = [df_g0_p1, df_g0_p2, df_g0_p3, df_g0_p4]\n",
    "\n",
    "for df in df_list:\n",
    "    print(df['novelty'].tail(4).describe())"
   ]
  },
  {
   "cell_type": "markdown",
   "id": "add816a6",
   "metadata": {},
   "source": [
    "## Middle Group 0"
   ]
  },
  {
   "cell_type": "code",
   "execution_count": 29,
   "id": "56271887",
   "metadata": {},
   "outputs": [
    {
     "name": "stdout",
     "output_type": "stream",
     "text": [
      "        novelty\n",
      "count  2.000000\n",
      "mean   0.776398\n",
      "std    0.114191\n",
      "min    0.695652\n",
      "25%    0.736025\n",
      "50%    0.776398\n",
      "75%    0.816770\n",
      "max    0.857143\n",
      "        novelty\n",
      "count  2.000000\n",
      "mean   0.877344\n",
      "std    0.009018\n",
      "min    0.870968\n",
      "25%    0.874156\n",
      "50%    0.877344\n",
      "75%    0.880533\n",
      "max    0.883721\n",
      "        novelty\n",
      "count  2.000000\n",
      "mean   0.674614\n",
      "std    0.277686\n",
      "min    0.478261\n",
      "25%    0.576438\n",
      "50%    0.674614\n",
      "75%    0.772791\n",
      "max    0.870968\n",
      "        novelty\n",
      "count  2.000000\n",
      "mean   0.748355\n",
      "std    0.090714\n",
      "min    0.684211\n",
      "25%    0.716283\n",
      "50%    0.748355\n",
      "75%    0.780428\n",
      "max    0.812500\n"
     ]
    }
   ],
   "source": [
    "df_list = [df_g0_p1, df_g0_p2, df_g0_p3, df_g0_p4]\n",
    "\n",
    "for df in df_list:\n",
    "    print(df[['novelty']].iloc[[22,26]].describe())"
   ]
  },
  {
   "cell_type": "markdown",
   "id": "bb7966ac",
   "metadata": {},
   "source": [
    "## Top 10%, Middle and Bottom 10% pairwise similarity Group 3"
   ]
  },
  {
   "cell_type": "markdown",
   "id": "81ac179d",
   "metadata": {},
   "source": [
    "## Stage 1"
   ]
  },
  {
   "cell_type": "code",
   "execution_count": 30,
   "id": "883292a3",
   "metadata": {},
   "outputs": [
    {
     "data": {
      "text/plain": [
       "['dduartec', 'jumcorredorro', 'lgmoralesa', 'jscastelblancoh']"
      ]
     },
     "execution_count": 30,
     "metadata": {},
     "output_type": "execute_result"
    }
   ],
   "source": [
    "# four largest values in column age\n",
    "df_g3_p1_top = df_g3_p1.nlargest(4, ['total'])\n",
    "df_g3_p1_top = df_g3_p1_top.Student.tolist()\n",
    "df_g3_p1_top"
   ]
  },
  {
   "cell_type": "code",
   "execution_count": 31,
   "id": "cd620133",
   "metadata": {},
   "outputs": [
    {
     "data": {
      "text/plain": [
       "count    160.000000\n",
       "mean       0.099123\n",
       "std        0.079949\n",
       "min        0.000000\n",
       "25%        0.052294\n",
       "50%        0.084220\n",
       "75%        0.125219\n",
       "max        0.375000\n",
       "Name: similarity, dtype: float64"
      ]
     },
     "execution_count": 31,
     "metadata": {},
     "output_type": "execute_result"
    }
   ],
   "source": [
    "stage1_bogota3_top = stage1_bogota3[stage1_bogota3['user2'].isin(df_g3_p1_top)]\n",
    "stage1_bogota3_top['similarity'].describe()"
   ]
  },
  {
   "cell_type": "code",
   "execution_count": 32,
   "id": "47c5b24d",
   "metadata": {},
   "outputs": [
    {
     "data": {
      "text/plain": [
       "['lizzyt10h', 'wilson911013', 'mballeng91', 'NicolasPrr']"
      ]
     },
     "execution_count": 32,
     "metadata": {},
     "output_type": "execute_result"
    }
   ],
   "source": [
    "df_g3_p1_bottom = df_g3_p1.nsmallest(4, ['total'])\n",
    "df_g3_p1_bottom = df_g3_p1_bottom.Student.tolist()\n",
    "df_g3_p1_bottom "
   ]
  },
  {
   "cell_type": "code",
   "execution_count": 33,
   "id": "b7796352",
   "metadata": {},
   "outputs": [
    {
     "data": {
      "text/plain": [
       "count    160.000000\n",
       "mean       0.084934\n",
       "std        0.168042\n",
       "min        0.000000\n",
       "25%        0.000000\n",
       "50%        0.005236\n",
       "75%        0.115950\n",
       "max        1.000000\n",
       "Name: similarity, dtype: float64"
      ]
     },
     "execution_count": 33,
     "metadata": {},
     "output_type": "execute_result"
    }
   ],
   "source": [
    "stage1_bogota3_bottom = stage1_bogota3[stage1_bogota3['user2'].isin(df_g3_p1_bottom)]\n",
    "stage1_bogota3_bottom['similarity'].describe()"
   ]
  },
  {
   "cell_type": "markdown",
   "id": "44badde1",
   "metadata": {},
   "source": [
    "## Stage 2"
   ]
  },
  {
   "cell_type": "code",
   "execution_count": 34,
   "id": "deece15d",
   "metadata": {},
   "outputs": [
    {
     "data": {
      "text/plain": [
       "['jumcorredorro', 'lgmoralesa', 'dduartec', 'jmalvarezd']"
      ]
     },
     "execution_count": 34,
     "metadata": {},
     "output_type": "execute_result"
    }
   ],
   "source": [
    "df_g3_p2_top = df_g3_p2.nlargest(4, ['total'])\n",
    "df_g3_p2_top = df_g3_p2_top.Student.tolist()\n",
    "df_g3_p2_top"
   ]
  },
  {
   "cell_type": "code",
   "execution_count": 35,
   "id": "9dc0bdd4",
   "metadata": {},
   "outputs": [
    {
     "data": {
      "text/plain": [
       "count    160.000000\n",
       "mean       0.083470\n",
       "std        0.072332\n",
       "min        0.000000\n",
       "25%        0.030772\n",
       "50%        0.060658\n",
       "75%        0.119691\n",
       "max        0.313725\n",
       "Name: similarity, dtype: float64"
      ]
     },
     "execution_count": 35,
     "metadata": {},
     "output_type": "execute_result"
    }
   ],
   "source": [
    "stage2_bogota3_top = stage2_bogota3[stage2_bogota3['user2'].isin(df_g3_p2_top)]\n",
    "stage2_bogota3_top['similarity'].describe()"
   ]
  },
  {
   "cell_type": "code",
   "execution_count": 36,
   "id": "15f25a75",
   "metadata": {},
   "outputs": [
    {
     "data": {
      "text/plain": [
       "['wilson911013', 'Chranium', 'mballeng91', 'afceballosr']"
      ]
     },
     "execution_count": 36,
     "metadata": {},
     "output_type": "execute_result"
    }
   ],
   "source": [
    "df_g3_p2_bottom = df_g3_p2.nsmallest(4, ['total'])\n",
    "df_g3_p2_bottom = df_g3_p2_bottom.Student.tolist()\n",
    "df_g3_p2_bottom "
   ]
  },
  {
   "cell_type": "code",
   "execution_count": 37,
   "id": "bbfbe430",
   "metadata": {},
   "outputs": [
    {
     "data": {
      "text/plain": [
       "count    160.000000\n",
       "mean       0.075604\n",
       "std        0.174061\n",
       "min        0.000000\n",
       "25%        0.000000\n",
       "50%        0.008956\n",
       "75%        0.081186\n",
       "max        1.000000\n",
       "Name: similarity, dtype: float64"
      ]
     },
     "execution_count": 37,
     "metadata": {},
     "output_type": "execute_result"
    }
   ],
   "source": [
    "stage2_bogota3_bottom = stage2_bogota3[stage2_bogota3['user2'].isin(df_g3_p2_bottom)]\n",
    "stage2_bogota3_bottom['similarity'].describe()"
   ]
  },
  {
   "cell_type": "markdown",
   "id": "2089e0aa",
   "metadata": {},
   "source": [
    "## Stage 3"
   ]
  },
  {
   "cell_type": "code",
   "execution_count": 38,
   "id": "c61a0b1d",
   "metadata": {},
   "outputs": [
    {
     "data": {
      "text/plain": [
       "['juligarji', 'lgmoralesa', 'jscastelblancoh', 'jumcorredorro']"
      ]
     },
     "execution_count": 38,
     "metadata": {},
     "output_type": "execute_result"
    }
   ],
   "source": [
    "df_g3_p3_top = df_g3_p3.nlargest(4, ['total'])\n",
    "df_g3_p3_top = df_g3_p3_top.Student.tolist()\n",
    "df_g3_p3_top"
   ]
  },
  {
   "cell_type": "code",
   "execution_count": 39,
   "id": "073a3e3b",
   "metadata": {},
   "outputs": [
    {
     "data": {
      "text/plain": [
       "count    160.000000\n",
       "mean       0.044256\n",
       "std        0.051071\n",
       "min        0.000000\n",
       "25%        0.003848\n",
       "50%        0.028299\n",
       "75%        0.065789\n",
       "max        0.320388\n",
       "Name: similarity, dtype: float64"
      ]
     },
     "execution_count": 39,
     "metadata": {},
     "output_type": "execute_result"
    }
   ],
   "source": [
    "stage3_bogota3_top = stage3_bogota3[stage3_bogota3['user2'].isin(df_g3_p3_top)]\n",
    "stage3_bogota3_top['similarity'].describe()"
   ]
  },
  {
   "cell_type": "code",
   "execution_count": 40,
   "id": "dca3d32f",
   "metadata": {},
   "outputs": [
    {
     "data": {
      "text/plain": [
       "['davidh17', 'wilson911013', 'dduartec', 'Chranium']"
      ]
     },
     "execution_count": 40,
     "metadata": {},
     "output_type": "execute_result"
    }
   ],
   "source": [
    "df_g3_p3_bottom = df_g3_p3.nsmallest(4, ['total'])\n",
    "df_g3_p3_bottom = df_g3_p3_bottom.Student.tolist()\n",
    "df_g3_p3_bottom "
   ]
  },
  {
   "cell_type": "code",
   "execution_count": 41,
   "id": "0cf72027",
   "metadata": {},
   "outputs": [
    {
     "data": {
      "text/plain": [
       "count    160.000000\n",
       "mean       0.064294\n",
       "std        0.083910\n",
       "min        0.000000\n",
       "25%        0.005445\n",
       "50%        0.039701\n",
       "75%        0.091058\n",
       "max        0.500000\n",
       "Name: similarity, dtype: float64"
      ]
     },
     "execution_count": 41,
     "metadata": {},
     "output_type": "execute_result"
    }
   ],
   "source": [
    "stage3_bogota3_bottom = stage3_bogota3[stage3_bogota3['user2'].isin(df_g3_p3_bottom)]\n",
    "stage3_bogota3_bottom['similarity'].describe()"
   ]
  },
  {
   "cell_type": "markdown",
   "id": "677dc7b2",
   "metadata": {},
   "source": [
    "## Stage 4"
   ]
  },
  {
   "cell_type": "code",
   "execution_count": 42,
   "id": "aabb4291",
   "metadata": {},
   "outputs": [
    {
     "data": {
      "text/plain": [
       "['NicolasPrr', 'jscastelblancoh', 'juligarji', 'lacardenasv']"
      ]
     },
     "execution_count": 42,
     "metadata": {},
     "output_type": "execute_result"
    }
   ],
   "source": [
    "df_g3_p4_top = df_g3_p4.nlargest(4, ['total'])\n",
    "df_g3_p4_top = df_g3_p4_top.Student.tolist()\n",
    "df_g3_p4_top"
   ]
  },
  {
   "cell_type": "code",
   "execution_count": 43,
   "id": "41abec30",
   "metadata": {},
   "outputs": [
    {
     "data": {
      "text/plain": [
       "count    160.000000\n",
       "mean       0.041889\n",
       "std        0.041467\n",
       "min        0.000000\n",
       "25%        0.005725\n",
       "50%        0.030663\n",
       "75%        0.067398\n",
       "max        0.183544\n",
       "Name: similarity, dtype: float64"
      ]
     },
     "execution_count": 43,
     "metadata": {},
     "output_type": "execute_result"
    }
   ],
   "source": [
    "stage4_bogota3_top = stage4_bogota3[stage4_bogota3['user2'].isin(df_g3_p4_top)]\n",
    "stage4_bogota3_top['similarity'].describe()"
   ]
  },
  {
   "cell_type": "code",
   "execution_count": 44,
   "id": "16c3a6da",
   "metadata": {},
   "outputs": [
    {
     "data": {
      "text/plain": [
       "['wilson911013', 'Chranium', 'mballeng91', 'spenas']"
      ]
     },
     "execution_count": 44,
     "metadata": {},
     "output_type": "execute_result"
    }
   ],
   "source": [
    "df_g3_p4_bottom = df_g3_p4.nsmallest(4, ['total'])\n",
    "df_g3_p4_bottom = df_g3_p4_bottom.Student.tolist()\n",
    "df_g3_p4_bottom "
   ]
  },
  {
   "cell_type": "code",
   "execution_count": 45,
   "id": "4a89279c",
   "metadata": {},
   "outputs": [
    {
     "data": {
      "text/plain": [
       "count    160.000000\n",
       "mean       0.038536\n",
       "std        0.075541\n",
       "min        0.000000\n",
       "25%        0.000150\n",
       "50%        0.010146\n",
       "75%        0.047282\n",
       "max        0.500000\n",
       "Name: similarity, dtype: float64"
      ]
     },
     "execution_count": 45,
     "metadata": {},
     "output_type": "execute_result"
    }
   ],
   "source": [
    "stage4_bogota3_bottom = stage4_bogota3[stage3_bogota3['user2'].isin(df_g3_p4_bottom)]\n",
    "stage4_bogota3_bottom['similarity'].describe()"
   ]
  },
  {
   "cell_type": "markdown",
   "id": "6c23e753",
   "metadata": {},
   "source": [
    "## Top 10%, Middle and Bottom 10% pairwise similarity Group 0"
   ]
  },
  {
   "cell_type": "markdown",
   "id": "65755079",
   "metadata": {},
   "source": [
    "## Stage 1"
   ]
  },
  {
   "cell_type": "code",
   "execution_count": 46,
   "id": "651c29e6",
   "metadata": {},
   "outputs": [
    {
     "data": {
      "text/plain": [
       "['capinillab', 'bsgarciac', 'mnguzmanc', 'sacastroc']"
      ]
     },
     "execution_count": 46,
     "metadata": {},
     "output_type": "execute_result"
    }
   ],
   "source": [
    "df_g0_p1_top = df_g0_p1.nlargest(4, ['total'])\n",
    "df_g0_p1_top = df_g0_p1_top.Student.tolist()\n",
    "df_g0_p1_top"
   ]
  },
  {
   "cell_type": "code",
   "execution_count": 47,
   "id": "705345ba",
   "metadata": {},
   "outputs": [
    {
     "data": {
      "text/plain": [
       "count    148.000000\n",
       "mean       0.059250\n",
       "std        0.076245\n",
       "min        0.000000\n",
       "25%        0.000000\n",
       "50%        0.037083\n",
       "75%        0.096076\n",
       "max        0.433333\n",
       "Name: similarity, dtype: float64"
      ]
     },
     "execution_count": 47,
     "metadata": {},
     "output_type": "execute_result"
    }
   ],
   "source": [
    "stage1_bogota0_top = stage1_bogota0[stage1_bogota0['user2'].isin(df_g0_p1_top)]\n",
    "stage1_bogota0_top['similarity'].describe()"
   ]
  },
  {
   "cell_type": "code",
   "execution_count": 48,
   "id": "6bab2336",
   "metadata": {},
   "outputs": [
    {
     "data": {
      "text/plain": [
       "['jcneivaa', 'annipi', 'jdsolanos', 'fmbernalb']"
      ]
     },
     "execution_count": 48,
     "metadata": {},
     "output_type": "execute_result"
    }
   ],
   "source": [
    "df_g0_p1_bottom = df_g0_p1.nsmallest(4, ['total'])\n",
    "df_g0_p1_bottom = df_g0_p1_bottom.Student.tolist()\n",
    "df_g0_p1_bottom "
   ]
  },
  {
   "cell_type": "code",
   "execution_count": 49,
   "id": "db3ed462",
   "metadata": {},
   "outputs": [
    {
     "data": {
      "text/plain": [
       "count    148.000000\n",
       "mean       0.378378\n",
       "std        0.486629\n",
       "min        0.000000\n",
       "25%        0.000000\n",
       "50%        0.000000\n",
       "75%        1.000000\n",
       "max        1.000000\n",
       "Name: similarity, dtype: float64"
      ]
     },
     "execution_count": 49,
     "metadata": {},
     "output_type": "execute_result"
    }
   ],
   "source": [
    "stage1_bogota0_bottom = stage1_bogota0[stage1_bogota0['user2'].isin(df_g0_p1_bottom)]\n",
    "stage1_bogota0_bottom['similarity'].describe()"
   ]
  },
  {
   "cell_type": "markdown",
   "id": "7345d8a9",
   "metadata": {},
   "source": [
    "## Stage 2"
   ]
  },
  {
   "cell_type": "code",
   "execution_count": 50,
   "id": "f5291d75",
   "metadata": {},
   "outputs": [
    {
     "data": {
      "text/plain": [
       "['jumcorredorro', 'lgmoralesa', 'dduartec', 'jmalvarezd']"
      ]
     },
     "execution_count": 50,
     "metadata": {},
     "output_type": "execute_result"
    }
   ],
   "source": [
    "df_g3_p2_top = df_g3_p2.nlargest(4, ['total'])\n",
    "df_g3_p2_top = df_g3_p2_top.Student.tolist()\n",
    "df_g3_p2_top"
   ]
  },
  {
   "cell_type": "code",
   "execution_count": 51,
   "id": "c5986d82",
   "metadata": {},
   "outputs": [
    {
     "data": {
      "text/plain": [
       "count    160.000000\n",
       "mean       0.083470\n",
       "std        0.072332\n",
       "min        0.000000\n",
       "25%        0.030772\n",
       "50%        0.060658\n",
       "75%        0.119691\n",
       "max        0.313725\n",
       "Name: similarity, dtype: float64"
      ]
     },
     "execution_count": 51,
     "metadata": {},
     "output_type": "execute_result"
    }
   ],
   "source": [
    "stage2_bogota3_top = stage2_bogota3[stage2_bogota3['user2'].isin(df_g3_p2_top)]\n",
    "stage2_bogota3_top['similarity'].describe()"
   ]
  },
  {
   "cell_type": "code",
   "execution_count": 52,
   "id": "90b61e2e",
   "metadata": {},
   "outputs": [
    {
     "data": {
      "text/plain": [
       "['wilson911013', 'Chranium', 'mballeng91', 'afceballosr']"
      ]
     },
     "execution_count": 52,
     "metadata": {},
     "output_type": "execute_result"
    }
   ],
   "source": [
    "df_g3_p2_bottom = df_g3_p2.nsmallest(4, ['total'])\n",
    "df_g3_p2_bottom = df_g3_p2_bottom.Student.tolist()\n",
    "df_g3_p2_bottom "
   ]
  },
  {
   "cell_type": "code",
   "execution_count": 53,
   "id": "489c35d6",
   "metadata": {},
   "outputs": [
    {
     "data": {
      "text/plain": [
       "count    160.000000\n",
       "mean       0.075604\n",
       "std        0.174061\n",
       "min        0.000000\n",
       "25%        0.000000\n",
       "50%        0.008956\n",
       "75%        0.081186\n",
       "max        1.000000\n",
       "Name: similarity, dtype: float64"
      ]
     },
     "execution_count": 53,
     "metadata": {},
     "output_type": "execute_result"
    }
   ],
   "source": [
    "stage2_bogota3_bottom = stage2_bogota3[stage2_bogota3['user2'].isin(df_g3_p2_bottom)]\n",
    "stage2_bogota3_bottom['similarity'].describe()"
   ]
  },
  {
   "cell_type": "code",
   "execution_count": 54,
   "id": "90362c64",
   "metadata": {},
   "outputs": [
    {
     "name": "stdout",
     "output_type": "stream",
     "text": [
      "Stored 'df_g0_p1_top' (list)\n"
     ]
    }
   ],
   "source": [
    "%store df_g0_p1_top"
   ]
  },
  {
   "cell_type": "code",
   "execution_count": null,
   "id": "f2274ac5",
   "metadata": {},
   "outputs": [],
   "source": []
  },
  {
   "cell_type": "code",
   "execution_count": null,
   "id": "1a853141",
   "metadata": {},
   "outputs": [],
   "source": []
  },
  {
   "cell_type": "code",
   "execution_count": null,
   "id": "9d50b58a",
   "metadata": {},
   "outputs": [],
   "source": []
  },
  {
   "cell_type": "code",
   "execution_count": null,
   "id": "3d84f241",
   "metadata": {},
   "outputs": [],
   "source": []
  },
  {
   "cell_type": "code",
   "execution_count": null,
   "id": "b7602355",
   "metadata": {},
   "outputs": [],
   "source": []
  }
 ],
 "metadata": {
  "kernelspec": {
   "display_name": "Python 3 (ipykernel)",
   "language": "python",
   "name": "python3"
  },
  "language_info": {
   "codemirror_mode": {
    "name": "ipython",
    "version": 3
   },
   "file_extension": ".py",
   "mimetype": "text/x-python",
   "name": "python",
   "nbconvert_exporter": "python",
   "pygments_lexer": "ipython3",
   "version": "3.9.7"
  }
 },
 "nbformat": 4,
 "nbformat_minor": 5
}
