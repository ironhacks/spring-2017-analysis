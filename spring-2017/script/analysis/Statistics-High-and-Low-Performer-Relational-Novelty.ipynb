{
 "cells": [
  {
   "cell_type": "markdown",
   "id": "9c6fe4a6",
   "metadata": {},
   "source": [
    "## Descriptive Statistics for Relational Novelty\n",
    "\n",
    "Group comparisons for relational novelty, take top 10%, the lower 10%, and the middle and do the average relational novelty ( inverse of highest similarity ). And calculate the following measures for the 3 groups, the average relational novelty, the standard deviation of the relational novelty, the average pairwise similarity ( pairwise measure AMONG each group members ), and the standard deviation of the pairwise similarity."
   ]
  },
  {
   "cell_type": "code",
   "execution_count": 1,
   "id": "9a96fb57",
   "metadata": {},
   "outputs": [],
   "source": [
    "%store -r stage1_bogota0\n",
    "%store -r stage1_bogota1\n",
    "%store -r stage1_bogota2\n",
    "%store -r stage1_bogota3\n",
    "\n",
    "%store -r stage2_bogota0\n",
    "%store -r stage2_bogota1\n",
    "%store -r stage2_bogota2\n",
    "%store -r stage2_bogota3\n",
    "\n",
    "%store -r stage3_bogota0\n",
    "%store -r stage3_bogota1\n",
    "%store -r stage3_bogota2\n",
    "%store -r stage3_bogota3\n",
    "\n",
    "%store -r stage4_bogota0\n",
    "%store -r stage4_bogota1\n",
    "%store -r stage4_bogota2\n",
    "%store -r stage4_bogota3"
   ]
  },
  {
   "cell_type": "code",
   "execution_count": 2,
   "id": "3e31d969",
   "metadata": {},
   "outputs": [
    {
     "data": {
      "text/html": [
       "<div>\n",
       "<style scoped>\n",
       "    .dataframe tbody tr th:only-of-type {\n",
       "        vertical-align: middle;\n",
       "    }\n",
       "\n",
       "    .dataframe tbody tr th {\n",
       "        vertical-align: top;\n",
       "    }\n",
       "\n",
       "    .dataframe thead th {\n",
       "        text-align: right;\n",
       "    }\n",
       "</style>\n",
       "<table border=\"1\" class=\"dataframe\">\n",
       "  <thead>\n",
       "    <tr style=\"text-align: right;\">\n",
       "      <th></th>\n",
       "      <th>user1</th>\n",
       "      <th>user2</th>\n",
       "      <th>user1_phase</th>\n",
       "      <th>user2_phase</th>\n",
       "      <th>similarity</th>\n",
       "    </tr>\n",
       "  </thead>\n",
       "  <tbody>\n",
       "    <tr>\n",
       "      <th>38</th>\n",
       "      <td>fffeelipe</td>\n",
       "      <td>mnguzmanc</td>\n",
       "      <td>1</td>\n",
       "      <td>2</td>\n",
       "      <td>0.0</td>\n",
       "    </tr>\n",
       "    <tr>\n",
       "      <th>39</th>\n",
       "      <td>fffeelipe</td>\n",
       "      <td>jmcuestasb</td>\n",
       "      <td>1</td>\n",
       "      <td>2</td>\n",
       "      <td>0.0</td>\n",
       "    </tr>\n",
       "    <tr>\n",
       "      <th>40</th>\n",
       "      <td>fffeelipe</td>\n",
       "      <td>katherinsb</td>\n",
       "      <td>1</td>\n",
       "      <td>2</td>\n",
       "      <td>1.0</td>\n",
       "    </tr>\n",
       "    <tr>\n",
       "      <th>41</th>\n",
       "      <td>fffeelipe</td>\n",
       "      <td>jjrodriguezn</td>\n",
       "      <td>1</td>\n",
       "      <td>2</td>\n",
       "      <td>0.0</td>\n",
       "    </tr>\n",
       "    <tr>\n",
       "      <th>42</th>\n",
       "      <td>fffeelipe</td>\n",
       "      <td>DglyP</td>\n",
       "      <td>1</td>\n",
       "      <td>2</td>\n",
       "      <td>0.0</td>\n",
       "    </tr>\n",
       "    <tr>\n",
       "      <th>...</th>\n",
       "      <td>...</td>\n",
       "      <td>...</td>\n",
       "      <td>...</td>\n",
       "      <td>...</td>\n",
       "      <td>...</td>\n",
       "    </tr>\n",
       "    <tr>\n",
       "      <th>2141</th>\n",
       "      <td>odprietoh</td>\n",
       "      <td>jdsolanos</td>\n",
       "      <td>1</td>\n",
       "      <td>2</td>\n",
       "      <td>0.0</td>\n",
       "    </tr>\n",
       "    <tr>\n",
       "      <th>2142</th>\n",
       "      <td>odprietoh</td>\n",
       "      <td>jcneivaa</td>\n",
       "      <td>1</td>\n",
       "      <td>2</td>\n",
       "      <td>0.0</td>\n",
       "    </tr>\n",
       "    <tr>\n",
       "      <th>2143</th>\n",
       "      <td>odprietoh</td>\n",
       "      <td>fmbernalb</td>\n",
       "      <td>1</td>\n",
       "      <td>2</td>\n",
       "      <td>0.0</td>\n",
       "    </tr>\n",
       "    <tr>\n",
       "      <th>2144</th>\n",
       "      <td>odprietoh</td>\n",
       "      <td>MogGy94</td>\n",
       "      <td>1</td>\n",
       "      <td>2</td>\n",
       "      <td>0.0</td>\n",
       "    </tr>\n",
       "    <tr>\n",
       "      <th>2145</th>\n",
       "      <td>odprietoh</td>\n",
       "      <td>yocuervoc</td>\n",
       "      <td>1</td>\n",
       "      <td>2</td>\n",
       "      <td>0.0</td>\n",
       "    </tr>\n",
       "  </tbody>\n",
       "</table>\n",
       "<p>1406 rows × 5 columns</p>\n",
       "</div>"
      ],
      "text/plain": [
       "          user1         user2  user1_phase  user2_phase  similarity\n",
       "38    fffeelipe     mnguzmanc            1            2         0.0\n",
       "39    fffeelipe    jmcuestasb            1            2         0.0\n",
       "40    fffeelipe    katherinsb            1            2         1.0\n",
       "41    fffeelipe  jjrodriguezn            1            2         0.0\n",
       "42    fffeelipe         DglyP            1            2         0.0\n",
       "...         ...           ...          ...          ...         ...\n",
       "2141  odprietoh     jdsolanos            1            2         0.0\n",
       "2142  odprietoh      jcneivaa            1            2         0.0\n",
       "2143  odprietoh     fmbernalb            1            2         0.0\n",
       "2144  odprietoh       MogGy94            1            2         0.0\n",
       "2145  odprietoh     yocuervoc            1            2         0.0\n",
       "\n",
       "[1406 rows x 5 columns]"
      ]
     },
     "execution_count": 2,
     "metadata": {},
     "output_type": "execute_result"
    }
   ],
   "source": [
    "stage1_bogota0"
   ]
  },
  {
   "cell_type": "code",
   "execution_count": 3,
   "id": "03dc0a05",
   "metadata": {},
   "outputs": [
    {
     "data": {
      "text/html": [
       "<div>\n",
       "<style scoped>\n",
       "    .dataframe tbody tr th:only-of-type {\n",
       "        vertical-align: middle;\n",
       "    }\n",
       "\n",
       "    .dataframe tbody tr th {\n",
       "        vertical-align: top;\n",
       "    }\n",
       "\n",
       "    .dataframe thead th {\n",
       "        text-align: right;\n",
       "    }\n",
       "</style>\n",
       "<table border=\"1\" class=\"dataframe\">\n",
       "  <thead>\n",
       "    <tr style=\"text-align: right;\">\n",
       "      <th></th>\n",
       "      <th>Unnamed: 0.1</th>\n",
       "      <th>Unnamed: 0</th>\n",
       "      <th>Student</th>\n",
       "      <th>phase</th>\n",
       "      <th>novelty</th>\n",
       "      <th>group</th>\n",
       "      <th>abs_perform_diff_best</th>\n",
       "      <th>user2</th>\n",
       "      <th>Q7_Q7_1</th>\n",
       "      <th>Q7_Q7_2</th>\n",
       "      <th>...</th>\n",
       "      <th>count</th>\n",
       "      <th>total</th>\n",
       "      <th>user-requirement</th>\n",
       "      <th>infovis</th>\n",
       "      <th>novelty_score</th>\n",
       "      <th>exploration</th>\n",
       "      <th>Group</th>\n",
       "      <th>len_unique</th>\n",
       "      <th>added_sum</th>\n",
       "      <th>sim-to-best</th>\n",
       "    </tr>\n",
       "  </thead>\n",
       "  <tbody>\n",
       "    <tr>\n",
       "      <th>0</th>\n",
       "      <td>0</td>\n",
       "      <td>1</td>\n",
       "      <td>wilson911013</td>\n",
       "      <td>1</td>\n",
       "      <td>0.000000</td>\n",
       "      <td>3</td>\n",
       "      <td>250.84</td>\n",
       "      <td>wilson911013</td>\n",
       "      <td>0.0</td>\n",
       "      <td>1.0</td>\n",
       "      <td>...</td>\n",
       "      <td>1.0</td>\n",
       "      <td>90.83</td>\n",
       "      <td>20.0</td>\n",
       "      <td>33.33</td>\n",
       "      <td>0.0</td>\n",
       "      <td>0.000000</td>\n",
       "      <td>3.0</td>\n",
       "      <td>0.0</td>\n",
       "      <td>0.0</td>\n",
       "      <td>0.000000</td>\n",
       "    </tr>\n",
       "    <tr>\n",
       "      <th>1</th>\n",
       "      <td>2</td>\n",
       "      <td>5</td>\n",
       "      <td>lizzyt10h</td>\n",
       "      <td>1</td>\n",
       "      <td>0.400000</td>\n",
       "      <td>3</td>\n",
       "      <td>175.00</td>\n",
       "      <td>lizzyt10h</td>\n",
       "      <td>2.0</td>\n",
       "      <td>1.0</td>\n",
       "      <td>...</td>\n",
       "      <td>7.0</td>\n",
       "      <td>75.00</td>\n",
       "      <td>0.0</td>\n",
       "      <td>0.00</td>\n",
       "      <td>0.0</td>\n",
       "      <td>0.945312</td>\n",
       "      <td>3.0</td>\n",
       "      <td>13.0</td>\n",
       "      <td>6.0</td>\n",
       "      <td>0.125000</td>\n",
       "    </tr>\n",
       "    <tr>\n",
       "      <th>2</th>\n",
       "      <td>3</td>\n",
       "      <td>6</td>\n",
       "      <td>AFelipeGA</td>\n",
       "      <td>1</td>\n",
       "      <td>0.400000</td>\n",
       "      <td>3</td>\n",
       "      <td>291.67</td>\n",
       "      <td>AFelipeGA</td>\n",
       "      <td>4.0</td>\n",
       "      <td>3.0</td>\n",
       "      <td>...</td>\n",
       "      <td>3.0</td>\n",
       "      <td>152.50</td>\n",
       "      <td>40.0</td>\n",
       "      <td>37.50</td>\n",
       "      <td>0.0</td>\n",
       "      <td>0.995375</td>\n",
       "      <td>3.0</td>\n",
       "      <td>2059.0</td>\n",
       "      <td>2049.0</td>\n",
       "      <td>0.003841</td>\n",
       "    </tr>\n",
       "    <tr>\n",
       "      <th>3</th>\n",
       "      <td>4</td>\n",
       "      <td>7</td>\n",
       "      <td>wapiravaguens</td>\n",
       "      <td>1</td>\n",
       "      <td>0.400000</td>\n",
       "      <td>3</td>\n",
       "      <td>90.00</td>\n",
       "      <td>wapiravaguens</td>\n",
       "      <td>0.0</td>\n",
       "      <td>1.0</td>\n",
       "      <td>...</td>\n",
       "      <td>1.0</td>\n",
       "      <td>192.50</td>\n",
       "      <td>80.0</td>\n",
       "      <td>50.00</td>\n",
       "      <td>0.0</td>\n",
       "      <td>0.567164</td>\n",
       "      <td>3.0</td>\n",
       "      <td>63.0</td>\n",
       "      <td>34.0</td>\n",
       "      <td>0.202532</td>\n",
       "    </tr>\n",
       "    <tr>\n",
       "      <th>4</th>\n",
       "      <td>5</td>\n",
       "      <td>8</td>\n",
       "      <td>capinzor</td>\n",
       "      <td>1</td>\n",
       "      <td>0.413793</td>\n",
       "      <td>3</td>\n",
       "      <td>221.67</td>\n",
       "      <td>capinzor</td>\n",
       "      <td>0.0</td>\n",
       "      <td>0.0</td>\n",
       "      <td>...</td>\n",
       "      <td>0.0</td>\n",
       "      <td>120.00</td>\n",
       "      <td>20.0</td>\n",
       "      <td>25.00</td>\n",
       "      <td>0.0</td>\n",
       "      <td>0.000000</td>\n",
       "      <td>3.0</td>\n",
       "      <td>20.0</td>\n",
       "      <td>0.0</td>\n",
       "      <td>0.083333</td>\n",
       "    </tr>\n",
       "    <tr>\n",
       "      <th>...</th>\n",
       "      <td>...</td>\n",
       "      <td>...</td>\n",
       "      <td>...</td>\n",
       "      <td>...</td>\n",
       "      <td>...</td>\n",
       "      <td>...</td>\n",
       "      <td>...</td>\n",
       "      <td>...</td>\n",
       "      <td>...</td>\n",
       "      <td>...</td>\n",
       "      <td>...</td>\n",
       "      <td>...</td>\n",
       "      <td>...</td>\n",
       "      <td>...</td>\n",
       "      <td>...</td>\n",
       "      <td>...</td>\n",
       "      <td>...</td>\n",
       "      <td>...</td>\n",
       "      <td>...</td>\n",
       "      <td>...</td>\n",
       "      <td>...</td>\n",
       "    </tr>\n",
       "    <tr>\n",
       "      <th>631</th>\n",
       "      <td>647</td>\n",
       "      <td>651</td>\n",
       "      <td>kastellanos</td>\n",
       "      <td>3</td>\n",
       "      <td>0.000000</td>\n",
       "      <td>1</td>\n",
       "      <td>345.83</td>\n",
       "      <td>kastellanos</td>\n",
       "      <td>5.0</td>\n",
       "      <td>5.0</td>\n",
       "      <td>...</td>\n",
       "      <td>0.0</td>\n",
       "      <td>0.00</td>\n",
       "      <td>0.0</td>\n",
       "      <td>0.00</td>\n",
       "      <td>0.0</td>\n",
       "      <td>0.000000</td>\n",
       "      <td>1.0</td>\n",
       "      <td>NaN</td>\n",
       "      <td>NaN</td>\n",
       "      <td>NaN</td>\n",
       "    </tr>\n",
       "    <tr>\n",
       "      <th>632</th>\n",
       "      <td>648</td>\n",
       "      <td>652</td>\n",
       "      <td>tres-iqus</td>\n",
       "      <td>3</td>\n",
       "      <td>0.000000</td>\n",
       "      <td>2</td>\n",
       "      <td>358.33</td>\n",
       "      <td>tres-iqus</td>\n",
       "      <td>1.0</td>\n",
       "      <td>1.0</td>\n",
       "      <td>...</td>\n",
       "      <td>0.0</td>\n",
       "      <td>0.00</td>\n",
       "      <td>0.0</td>\n",
       "      <td>0.00</td>\n",
       "      <td>0.0</td>\n",
       "      <td>0.000000</td>\n",
       "      <td>2.0</td>\n",
       "      <td>NaN</td>\n",
       "      <td>NaN</td>\n",
       "      <td>NaN</td>\n",
       "    </tr>\n",
       "    <tr>\n",
       "      <th>633</th>\n",
       "      <td>649</td>\n",
       "      <td>653</td>\n",
       "      <td>annumumozme</td>\n",
       "      <td>4</td>\n",
       "      <td>0.000000</td>\n",
       "      <td>0</td>\n",
       "      <td>313.33</td>\n",
       "      <td>NaN</td>\n",
       "      <td>NaN</td>\n",
       "      <td>NaN</td>\n",
       "      <td>...</td>\n",
       "      <td>0.0</td>\n",
       "      <td>237.50</td>\n",
       "      <td>40.0</td>\n",
       "      <td>37.50</td>\n",
       "      <td>60.0</td>\n",
       "      <td>0.000000</td>\n",
       "      <td>0.0</td>\n",
       "      <td>NaN</td>\n",
       "      <td>NaN</td>\n",
       "      <td>NaN</td>\n",
       "    </tr>\n",
       "    <tr>\n",
       "      <th>634</th>\n",
       "      <td>650</td>\n",
       "      <td>654</td>\n",
       "      <td>kastellanos</td>\n",
       "      <td>4</td>\n",
       "      <td>0.000000</td>\n",
       "      <td>1</td>\n",
       "      <td>350.00</td>\n",
       "      <td>kastellanos</td>\n",
       "      <td>5.0</td>\n",
       "      <td>5.0</td>\n",
       "      <td>...</td>\n",
       "      <td>0.0</td>\n",
       "      <td>0.00</td>\n",
       "      <td>0.0</td>\n",
       "      <td>0.00</td>\n",
       "      <td>0.0</td>\n",
       "      <td>0.000000</td>\n",
       "      <td>1.0</td>\n",
       "      <td>NaN</td>\n",
       "      <td>NaN</td>\n",
       "      <td>NaN</td>\n",
       "    </tr>\n",
       "    <tr>\n",
       "      <th>635</th>\n",
       "      <td>651</td>\n",
       "      <td>655</td>\n",
       "      <td>tres-iqus</td>\n",
       "      <td>4</td>\n",
       "      <td>0.000000</td>\n",
       "      <td>2</td>\n",
       "      <td>358.33</td>\n",
       "      <td>tres-iqus</td>\n",
       "      <td>1.0</td>\n",
       "      <td>1.0</td>\n",
       "      <td>...</td>\n",
       "      <td>0.0</td>\n",
       "      <td>0.00</td>\n",
       "      <td>0.0</td>\n",
       "      <td>0.00</td>\n",
       "      <td>0.0</td>\n",
       "      <td>0.000000</td>\n",
       "      <td>2.0</td>\n",
       "      <td>NaN</td>\n",
       "      <td>NaN</td>\n",
       "      <td>NaN</td>\n",
       "    </tr>\n",
       "  </tbody>\n",
       "</table>\n",
       "<p>636 rows × 22 columns</p>\n",
       "</div>"
      ],
      "text/plain": [
       "     Unnamed: 0.1  Unnamed: 0        Student  phase   novelty  group  \\\n",
       "0               0           1   wilson911013      1  0.000000      3   \n",
       "1               2           5      lizzyt10h      1  0.400000      3   \n",
       "2               3           6      AFelipeGA      1  0.400000      3   \n",
       "3               4           7  wapiravaguens      1  0.400000      3   \n",
       "4               5           8       capinzor      1  0.413793      3   \n",
       "..            ...         ...            ...    ...       ...    ...   \n",
       "631           647         651    kastellanos      3  0.000000      1   \n",
       "632           648         652      tres-iqus      3  0.000000      2   \n",
       "633           649         653    annumumozme      4  0.000000      0   \n",
       "634           650         654    kastellanos      4  0.000000      1   \n",
       "635           651         655      tres-iqus      4  0.000000      2   \n",
       "\n",
       "     abs_perform_diff_best          user2  Q7_Q7_1  Q7_Q7_2  ...  count  \\\n",
       "0                   250.84   wilson911013      0.0      1.0  ...    1.0   \n",
       "1                   175.00      lizzyt10h      2.0      1.0  ...    7.0   \n",
       "2                   291.67      AFelipeGA      4.0      3.0  ...    3.0   \n",
       "3                    90.00  wapiravaguens      0.0      1.0  ...    1.0   \n",
       "4                   221.67       capinzor      0.0      0.0  ...    0.0   \n",
       "..                     ...            ...      ...      ...  ...    ...   \n",
       "631                 345.83    kastellanos      5.0      5.0  ...    0.0   \n",
       "632                 358.33      tres-iqus      1.0      1.0  ...    0.0   \n",
       "633                 313.33            NaN      NaN      NaN  ...    0.0   \n",
       "634                 350.00    kastellanos      5.0      5.0  ...    0.0   \n",
       "635                 358.33      tres-iqus      1.0      1.0  ...    0.0   \n",
       "\n",
       "      total  user-requirement  infovis  novelty_score  exploration  Group  \\\n",
       "0     90.83              20.0    33.33            0.0     0.000000    3.0   \n",
       "1     75.00               0.0     0.00            0.0     0.945312    3.0   \n",
       "2    152.50              40.0    37.50            0.0     0.995375    3.0   \n",
       "3    192.50              80.0    50.00            0.0     0.567164    3.0   \n",
       "4    120.00              20.0    25.00            0.0     0.000000    3.0   \n",
       "..      ...               ...      ...            ...          ...    ...   \n",
       "631    0.00               0.0     0.00            0.0     0.000000    1.0   \n",
       "632    0.00               0.0     0.00            0.0     0.000000    2.0   \n",
       "633  237.50              40.0    37.50           60.0     0.000000    0.0   \n",
       "634    0.00               0.0     0.00            0.0     0.000000    1.0   \n",
       "635    0.00               0.0     0.00            0.0     0.000000    2.0   \n",
       "\n",
       "     len_unique  added_sum  sim-to-best  \n",
       "0           0.0        0.0     0.000000  \n",
       "1          13.0        6.0     0.125000  \n",
       "2        2059.0     2049.0     0.003841  \n",
       "3          63.0       34.0     0.202532  \n",
       "4          20.0        0.0     0.083333  \n",
       "..          ...        ...          ...  \n",
       "631         NaN        NaN          NaN  \n",
       "632         NaN        NaN          NaN  \n",
       "633         NaN        NaN          NaN  \n",
       "634         NaN        NaN          NaN  \n",
       "635         NaN        NaN          NaN  \n",
       "\n",
       "[636 rows x 22 columns]"
      ]
     },
     "execution_count": 3,
     "metadata": {},
     "output_type": "execute_result"
    }
   ],
   "source": [
    "import pandas as pd \n",
    "import seaborn as sns\n",
    "import math\n",
    "df = pd.read_csv(\"merged-sim-best.csv\")\n",
    "df"
   ]
  },
  {
   "cell_type": "code",
   "execution_count": 4,
   "id": "de3ca6a7",
   "metadata": {},
   "outputs": [],
   "source": [
    "df_g3 = df[df['group'] == 3]\n",
    "df_g3_p1 = df_g3[df_g3['phase'] == 1]\n",
    "df_g3_p2 = df_g3[df_g3['phase'] == 2]\n",
    "df_g3_p3 = df_g3[df_g3['phase'] == 3]\n",
    "df_g3_p4 = df_g3[df_g3['phase'] == 4]\n",
    "\n",
    "df_g2 = df[df['group'] == 2]\n",
    "df_g2_p1 = df_g2[df_g2['phase'] == 1]\n",
    "df_g2_p2 = df_g2[df_g2['phase'] == 2]\n",
    "df_g2_p3 = df_g2[df_g2['phase'] == 3]\n",
    "df_g2_p4 = df_g2[df_g2['phase'] == 4]\n",
    "\n",
    "df_g1 = df[df['group'] == 1]\n",
    "df_g1_p1 = df_g1[df_g1['phase'] == 1]\n",
    "df_g1_p2 = df_g1[df_g1['phase'] == 2]\n",
    "df_g1_p3 = df_g1[df_g1['phase'] == 3]\n",
    "df_g1_p4 = df_g1[df_g1['phase'] == 4]\n",
    "\n",
    "df_g0 = df[df['group'] == 0]\n",
    "df_g0_p1 = df_g0[df_g0['phase'] == 1]\n",
    "df_g0_p2 = df_g0[df_g0['phase'] == 2]\n",
    "df_g0_p3 = df_g0[df_g0['phase'] == 3]\n",
    "df_g0_p4 = df_g0[df_g0['phase'] == 4]"
   ]
  },
  {
   "cell_type": "code",
   "execution_count": 5,
   "id": "caa8e81b",
   "metadata": {},
   "outputs": [
    {
     "data": {
      "text/plain": [
       "4"
      ]
     },
     "execution_count": 5,
     "metadata": {},
     "output_type": "execute_result"
    }
   ],
   "source": [
    "math.ceil(len(df_g3_p1['novelty']) * 0.1)"
   ]
  },
  {
   "cell_type": "code",
   "execution_count": 6,
   "id": "f88db25e",
   "metadata": {},
   "outputs": [
    {
     "data": {
      "text/plain": [
       "5"
      ]
     },
     "execution_count": 6,
     "metadata": {},
     "output_type": "execute_result"
    }
   ],
   "source": [
    "math.ceil(len(df_g2_p1['novelty']) * 0.1)"
   ]
  },
  {
   "cell_type": "code",
   "execution_count": 7,
   "id": "4d1535e4",
   "metadata": {},
   "outputs": [
    {
     "data": {
      "text/plain": [
       "5"
      ]
     },
     "execution_count": 7,
     "metadata": {},
     "output_type": "execute_result"
    }
   ],
   "source": [
    "math.ceil(len(df_g1_p1['novelty']) * 0.1)"
   ]
  },
  {
   "cell_type": "code",
   "execution_count": 8,
   "id": "ca003168",
   "metadata": {},
   "outputs": [
    {
     "data": {
      "text/plain": [
       "4"
      ]
     },
     "execution_count": 8,
     "metadata": {},
     "output_type": "execute_result"
    }
   ],
   "source": [
    "math.ceil(len(df_g0_p1['novelty']) * 0.1)"
   ]
  },
  {
   "cell_type": "code",
   "execution_count": 9,
   "id": "78e142cf",
   "metadata": {},
   "outputs": [
    {
     "data": {
      "text/plain": [
       "21"
      ]
     },
     "execution_count": 9,
     "metadata": {},
     "output_type": "execute_result"
    }
   ],
   "source": [
    "math.ceil(len(df_g3_p1['novelty']) * 0.55)"
   ]
  },
  {
   "cell_type": "code",
   "execution_count": 10,
   "id": "19c514ad",
   "metadata": {},
   "outputs": [
    {
     "data": {
      "text/plain": [
       "25"
      ]
     },
     "execution_count": 10,
     "metadata": {},
     "output_type": "execute_result"
    }
   ],
   "source": [
    "math.ceil(len(df_g3_p1['novelty']) * 0.65)"
   ]
  },
  {
   "cell_type": "code",
   "execution_count": 11,
   "id": "c482fba6",
   "metadata": {},
   "outputs": [
    {
     "data": {
      "text/plain": [
       "24"
      ]
     },
     "execution_count": 11,
     "metadata": {},
     "output_type": "execute_result"
    }
   ],
   "source": [
    "math.ceil(len(df_g2_p1['novelty']) * 0.55)"
   ]
  },
  {
   "cell_type": "code",
   "execution_count": 12,
   "id": "37320ad3",
   "metadata": {},
   "outputs": [
    {
     "data": {
      "text/plain": [
       "28"
      ]
     },
     "execution_count": 12,
     "metadata": {},
     "output_type": "execute_result"
    }
   ],
   "source": [
    "math.ceil(len(df_g2_p1['novelty']) * 0.65)"
   ]
  },
  {
   "cell_type": "code",
   "execution_count": 13,
   "id": "7ebf74d2",
   "metadata": {},
   "outputs": [
    {
     "data": {
      "text/plain": [
       "23"
      ]
     },
     "execution_count": 13,
     "metadata": {},
     "output_type": "execute_result"
    }
   ],
   "source": [
    "math.ceil(len(df_g1_p1['novelty']) * 0.55)"
   ]
  },
  {
   "cell_type": "code",
   "execution_count": 14,
   "id": "ac553774",
   "metadata": {},
   "outputs": [
    {
     "data": {
      "text/plain": [
       "27"
      ]
     },
     "execution_count": 14,
     "metadata": {},
     "output_type": "execute_result"
    }
   ],
   "source": [
    "math.ceil(len(df_g1_p1['novelty']) * 0.65)"
   ]
  },
  {
   "cell_type": "code",
   "execution_count": 15,
   "id": "c732f188",
   "metadata": {},
   "outputs": [
    {
     "data": {
      "text/plain": [
       "22"
      ]
     },
     "execution_count": 15,
     "metadata": {},
     "output_type": "execute_result"
    }
   ],
   "source": [
    "math.ceil(len(df_g0_p1['novelty']) * 0.55)"
   ]
  },
  {
   "cell_type": "code",
   "execution_count": 16,
   "id": "34c68d38",
   "metadata": {},
   "outputs": [
    {
     "data": {
      "text/plain": [
       "26"
      ]
     },
     "execution_count": 16,
     "metadata": {},
     "output_type": "execute_result"
    }
   ],
   "source": [
    "math.ceil(len(df_g0_p1['novelty']) * 0.65)"
   ]
  },
  {
   "cell_type": "code",
   "execution_count": 17,
   "id": "94d0530f",
   "metadata": {},
   "outputs": [],
   "source": [
    "df_g3_p1 = df_g3_p1.sort_values(['total'], ascending=False).groupby('Student').head(4)\n",
    "df_g3_p2 = df_g3_p2.sort_values(['total'], ascending=False).groupby('Student').head(4)\n",
    "df_g3_p3 = df_g3_p3.sort_values(['total'], ascending=False).groupby('Student').head(4)\n",
    "df_g3_p4 = df_g3_p4.sort_values(['total'], ascending=False).groupby('Student').head(4)\n",
    "\n",
    "df_g3_p1 = df_g3_p1.sort_values(['total'], ascending=False).groupby('Student').tail(4)\n",
    "df_g3_p2 = df_g3_p2.sort_values(['total'], ascending=False).groupby('Student').tail(4)\n",
    "df_g3_p3 = df_g3_p3.sort_values(['total'], ascending=False).groupby('Student').tail(4)\n",
    "df_g3_p4 = df_g3_p4.sort_values(['total'], ascending=False).groupby('Student').tail(4)\n",
    "\n",
    "df_g2_p1 = df_g2_p1.sort_values(['total'], ascending=False).groupby('Student').head(4)\n",
    "df_g2_p2 = df_g2_p2.sort_values(['total'], ascending=False).groupby('Student').head(4)\n",
    "df_g2_p3 = df_g2_p3.sort_values(['total'], ascending=False).groupby('Student').head(4)\n",
    "df_g2_p4 = df_g2_p4.sort_values(['total'], ascending=False).groupby('Student').head(4)\n",
    "\n",
    "df_g2_p1 = df_g2_p1.sort_values(['total'], ascending=False).groupby('Student').tail(4)\n",
    "df_g2_p2 = df_g2_p2.sort_values(['total'], ascending=False).groupby('Student').tail(4)\n",
    "df_g2_p3 = df_g2_p3.sort_values(['total'], ascending=False).groupby('Student').tail(4)\n",
    "df_g2_p4 = df_g2_p4.sort_values(['total'], ascending=False).groupby('Student').tail(4)\n",
    "\n",
    "df_g1_p1 = df_g1_p1.sort_values(['total'], ascending=False).groupby('Student').head(4)\n",
    "df_g1_p2 = df_g1_p2.sort_values(['total'], ascending=False).groupby('Student').head(4)\n",
    "df_g1_p3 = df_g1_p3.sort_values(['total'], ascending=False).groupby('Student').head(4)\n",
    "df_g1_p4 = df_g1_p4.sort_values(['total'], ascending=False).groupby('Student').head(4)\n",
    "\n",
    "df_g1_p1 = df_g1_p1.sort_values(['total'], ascending=False).groupby('Student').tail(4)\n",
    "df_g1_p2 = df_g1_p2.sort_values(['total'], ascending=False).groupby('Student').tail(4)\n",
    "df_g1_p3 = df_g1_p3.sort_values(['total'], ascending=False).groupby('Student').tail(4)\n",
    "df_g1_p4 = df_g1_p4.sort_values(['total'], ascending=False).groupby('Student').tail(4)\n",
    "\n",
    "df_g0_p1 = df_g0_p1.sort_values(['total'], ascending=False).groupby('Student').head(4)\n",
    "df_g0_p2 = df_g0_p2.sort_values(['total'], ascending=False).groupby('Student').head(4)\n",
    "df_g0_p3 = df_g0_p3.sort_values(['total'], ascending=False).groupby('Student').head(4)\n",
    "df_g0_p4 = df_g0_p4.sort_values(['total'], ascending=False).groupby('Student').head(4)\n",
    "\n",
    "df_g0_p1 = df_g0_p1.sort_values(['total'], ascending=False).groupby('Student').tail(4)\n",
    "df_g0_p2 = df_g0_p2.sort_values(['total'], ascending=False).groupby('Student').tail(4)\n",
    "df_g0_p3 = df_g0_p3.sort_values(['total'], ascending=False).groupby('Student').tail(4)\n",
    "df_g0_p4 = df_g0_p4.sort_values(['total'], ascending=False).groupby('Student').tail(4)\n"
   ]
  },
  {
   "cell_type": "markdown",
   "id": "31b9aa28",
   "metadata": {},
   "source": [
    "## Top 10% in Group 3"
   ]
  },
  {
   "cell_type": "code",
   "execution_count": 18,
   "id": "21830033",
   "metadata": {},
   "outputs": [],
   "source": [
    "df_list = [df_g3_p1, df_g3_p2, df_g3_p3, df_g3_p4]\n",
    "\n",
    "top_group3 = []\n",
    "std_top_group3 = []\n",
    "for df in df_list:\n",
    "    topgroup3 = df['novelty'].head(4).describe().loc['mean']\n",
    "    top_group3.append(topgroup3)\n",
    "    std_top_group3.append(df['novelty'].head(4).describe().loc['std'])"
   ]
  },
  {
   "cell_type": "markdown",
   "id": "01bae1be",
   "metadata": {},
   "source": [
    "## Bottom 10% in Group 3"
   ]
  },
  {
   "cell_type": "code",
   "execution_count": 19,
   "id": "2e3a46ce",
   "metadata": {},
   "outputs": [],
   "source": [
    "df_list = [df_g3_p1, df_g3_p2, df_g3_p3, df_g3_p4]\n",
    "\n",
    "bottom_group3 = []\n",
    "std_bottom_group3 = []\n",
    "for df in df_list:\n",
    "    bottomgroup3 = df['novelty'].tail(4).describe().loc['mean']\n",
    "    bottom_group3.append(bottomgroup3)\n",
    "    std_bottom_group3.append(df['novelty'].tail(4).describe().loc['std'])"
   ]
  },
  {
   "cell_type": "markdown",
   "id": "da206f58",
   "metadata": {},
   "source": [
    "## Middle in Group 3"
   ]
  },
  {
   "cell_type": "code",
   "execution_count": 20,
   "id": "5fbb5cda",
   "metadata": {},
   "outputs": [
    {
     "name": "stdout",
     "output_type": "stream",
     "text": [
      "[0.646329365079365, 0.5946478220574605, 0.7027863777089784, 0.8446565599850275]\n"
     ]
    }
   ],
   "source": [
    "df_list = [df_g3_p1, df_g3_p2, df_g3_p3, df_g3_p4]\n",
    "\n",
    "middle_group3 = []\n",
    "std_middle_group3 = []\n",
    "for df in df_list:\n",
    "    middlegroup3 = df['novelty'].iloc[[21,25]].describe().loc['mean']\n",
    "    middle_group3.append(middlegroup3)\n",
    "    std_middle_group3.append(df['novelty'].iloc[[21,25]].describe().loc['std'])\n",
    "print(middle_group3)"
   ]
  },
  {
   "cell_type": "code",
   "execution_count": 21,
   "id": "7b2a40ba",
   "metadata": {},
   "outputs": [
    {
     "data": {
      "text/plain": [
       "<matplotlib.legend.Legend at 0x7ffc9c6e7b20>"
      ]
     },
     "execution_count": 21,
     "metadata": {},
     "output_type": "execute_result"
    },
    {
     "data": {
      "image/png": "[encoded data removed]",
      "text/plain": [
       "<Figure size 640x480 with 1 Axes>"
      ]
     },
     "metadata": {},
     "output_type": "display_data"
    }
   ],
   "source": [
    "import matplotlib.pyplot as plt\n",
    "\n",
    "x_axis=['Phase 1-2', 'Phase 2-3', 'Phase 3-4', 'Phase 4-5']\n",
    "\n",
    "line1 = plt.plot(x_axis, top_group3,'bo-',label='Mean Top 10% Group 3') \n",
    "line2 = plt.plot(x_axis, bottom_group3,'go-',label='Mean Bottom 10% Group 3') \n",
    "line3 = plt.plot(x_axis, middle_group3,'ko-',label='Mean Middle Group 3')\n",
    "\n",
    "plt.title(\"Top 10%, Middle and Bottom 10% Relational Novelty Group 3\")\n",
    "plt.ylabel(\"Relational Novelty\")\n",
    "plt.legend(bbox_to_anchor=(1.5, 1),\n",
    "           bbox_transform=plt.gcf().transFigure)"
   ]
  },
  {
   "cell_type": "code",
   "execution_count": 22,
   "id": "45c19ed8",
   "metadata": {},
   "outputs": [
    {
     "data": {
      "text/plain": [
       "<matplotlib.legend.Legend at 0x7ffc9c41ea90>"
      ]
     },
     "execution_count": 22,
     "metadata": {},
     "output_type": "execute_result"
    },
    {
     "data": {
      "image/png": "[encoded data removed]",
      "text/plain": [
       "<Figure size 640x480 with 1 Axes>"
      ]
     },
     "metadata": {},
     "output_type": "display_data"
    }
   ],
   "source": [
    "import matplotlib.pyplot as plt\n",
    "\n",
    "x_axis=['Phase 1-2', 'Phase 2-3', 'Phase 3-4', 'Phase 4-5']\n",
    "\n",
    "line1 = plt.plot(x_axis, std_top_group3,'bo-',label='Std Top 10% Group 3') \n",
    "line2 = plt.plot(x_axis, std_bottom_group3,'go-',label='Std Bottom 10% Group 3') \n",
    "line3 = plt.plot(x_axis, std_middle_group3,'ko-',label='Std Middle Group 3')\n",
    "\n",
    "plt.title(\"Top 10%, Middle and Bottom 10% Std Relational Novelty Group 3\")\n",
    "plt.ylabel(\"Relational Novelty\")\n",
    "plt.legend(bbox_to_anchor=(1.5, 1),\n",
    "           bbox_transform=plt.gcf().transFigure)"
   ]
  },
  {
   "cell_type": "markdown",
   "id": "6e699bb0",
   "metadata": {},
   "source": [
    "## Top 10% Group 2"
   ]
  },
  {
   "cell_type": "code",
   "execution_count": 23,
   "id": "ed6fe992",
   "metadata": {},
   "outputs": [],
   "source": [
    "df_list = [df_g2_p1, df_g2_p2, df_g2_p3, df_g2_p4]\n",
    "\n",
    "top_group2 = []\n",
    "std_top_group2 = []\n",
    "for df in df_list:\n",
    "    top_group2.append(df['novelty'].head(5).describe().loc['mean'])\n",
    "    std_top_group2.append(df['novelty'].head(5).describe().loc['std'])"
   ]
  },
  {
   "cell_type": "markdown",
   "id": "f2883a81",
   "metadata": {},
   "source": [
    "## Bottom 10% Group 2"
   ]
  },
  {
   "cell_type": "code",
   "execution_count": 24,
   "id": "73723a2b",
   "metadata": {},
   "outputs": [],
   "source": [
    "df_list = [df_g2_p1, df_g2_p2, df_g2_p3, df_g2_p4]\n",
    "\n",
    "bottom_group2 = []\n",
    "std_bottom_group2 = []\n",
    "for df in df_list:\n",
    "    bottom_group2.append(df['novelty'].tail(5).describe().loc['mean'])\n",
    "    std_bottom_group2.append(df['novelty'].head(5).describe().loc['std'])"
   ]
  },
  {
   "cell_type": "markdown",
   "id": "ec2a30fc",
   "metadata": {},
   "source": [
    "## Middle in Group 2"
   ]
  },
  {
   "cell_type": "code",
   "execution_count": 25,
   "id": "c63b9ec9",
   "metadata": {},
   "outputs": [],
   "source": [
    "df_list = [df_g2_p1, df_g2_p2, df_g2_p3, df_g2_p4]\n",
    "\n",
    "middle_group2 = []\n",
    "std_middle_group2 = []\n",
    "for df in df_list:\n",
    "    middle_group2.append(df[['novelty']].iloc[[24,28]].describe().loc['mean'])\n",
    "    std_middle_group2.append(df[['novelty']].iloc[[24,28]].describe().loc['std'])"
   ]
  },
  {
   "cell_type": "code",
   "execution_count": 26,
   "id": "ce88a014",
   "metadata": {},
   "outputs": [
    {
     "data": {
      "text/plain": [
       "<matplotlib.legend.Legend at 0x7ffca8868160>"
      ]
     },
     "execution_count": 26,
     "metadata": {},
     "output_type": "execute_result"
    },
    {
     "data": {
      "image/png": "[encoded data removed]",
      "text/plain": [
       "<Figure size 640x480 with 1 Axes>"
      ]
     },
     "metadata": {},
     "output_type": "display_data"
    }
   ],
   "source": [
    "import matplotlib.pyplot as plt\n",
    "\n",
    "x_axis=['Phase 1-2', 'Phase 2-3', 'Phase 3-4', 'Phase 4-5']\n",
    "\n",
    "line1 = plt.plot(x_axis, top_group2,'bo-',label='Mean Top 10% Group 2') \n",
    "line2 = plt.plot(x_axis, bottom_group2,'go-',label='Mean Bottom 10% Group 2') \n",
    "line3 = plt.plot(x_axis, middle_group2,'ko-',label='Mean Middle Group 2')\n",
    "\n",
    "plt.title(\"Top 10%, Middle and Bottom 10% Std Relational Novelty Group 2\")\n",
    "plt.ylabel(\"Relational Novelty\")\n",
    "plt.legend(bbox_to_anchor=(1.5, 1),\n",
    "           bbox_transform=plt.gcf().transFigure)"
   ]
  },
  {
   "cell_type": "code",
   "execution_count": 27,
   "id": "43a428cd",
   "metadata": {},
   "outputs": [
    {
     "data": {
      "text/plain": [
       "<matplotlib.legend.Legend at 0x7ffca88de190>"
      ]
     },
     "execution_count": 27,
     "metadata": {},
     "output_type": "execute_result"
    },
    {
     "data": {
      "image/png": "[encoded data removed]",
      "text/plain": [
       "<Figure size 640x480 with 1 Axes>"
      ]
     },
     "metadata": {},
     "output_type": "display_data"
    }
   ],
   "source": [
    "import matplotlib.pyplot as plt\n",
    "\n",
    "x_axis=['Phase 1-2', 'Phase 2-3', 'Phase 3-4', 'Phase 4-5']\n",
    "\n",
    "line1 = plt.plot(x_axis, std_top_group2,'bo-',label='Std Top 10% Group 2') \n",
    "line2 = plt.plot(x_axis, std_bottom_group2,'go-',label='Std Bottom 10% Group 2') \n",
    "line3 = plt.plot(x_axis, std_middle_group2,'ko-',label='Std Middle Group 2')\n",
    "\n",
    "plt.title(\"Top 10%, Middle and Bottom 10% Std Relational Novelty Group 2\")\n",
    "plt.ylabel(\"Relational Novelty\")\n",
    "plt.legend(bbox_to_anchor=(1.5, 1),\n",
    "           bbox_transform=plt.gcf().transFigure)"
   ]
  },
  {
   "cell_type": "markdown",
   "id": "3460cb41",
   "metadata": {},
   "source": [
    "## Top 10% Group 1"
   ]
  },
  {
   "cell_type": "code",
   "execution_count": 28,
   "id": "328c539b",
   "metadata": {},
   "outputs": [],
   "source": [
    "df_list = [df_g1_p1, df_g1_p2, df_g1_p3, df_g1_p4]\n",
    "\n",
    "top_group1 = []\n",
    "std_top_group1 = []\n",
    "for df in df_list:\n",
    "    top_group1.append(df['novelty'].head(5).describe().loc['mean'])\n",
    "    std_top_group1.append(df['novelty'].head(5).describe().loc['std'])"
   ]
  },
  {
   "cell_type": "markdown",
   "id": "90949bc8",
   "metadata": {},
   "source": [
    "## Bottom 10% Group 1"
   ]
  },
  {
   "cell_type": "code",
   "execution_count": 29,
   "id": "be237b41",
   "metadata": {},
   "outputs": [],
   "source": [
    "df_list = [df_g1_p1, df_g1_p2, df_g1_p3, df_g1_p4]\n",
    "\n",
    "bottom_group1 = []\n",
    "std_bottom_group1 = []\n",
    "for df in df_list:\n",
    "    bottom_group1.append(df['novelty'].tail(5).describe().loc['mean'])\n",
    "    std_bottom_group1.append(df['novelty'].head(5).describe().loc['std'])"
   ]
  },
  {
   "cell_type": "markdown",
   "id": "4e21aed3",
   "metadata": {},
   "source": [
    "## Middle Group 1"
   ]
  },
  {
   "cell_type": "code",
   "execution_count": 30,
   "id": "8ce8e7e8",
   "metadata": {},
   "outputs": [],
   "source": [
    "df_list = [df_g1_p1, df_g1_p2, df_g1_p3, df_g1_p4]\n",
    "\n",
    "middle_group1 = []\n",
    "std_middle_group1 = []\n",
    "for df in df_list:\n",
    "    middle_group1.append(df[['novelty']].iloc[[23,27]].describe().loc['mean'])\n",
    "    std_middle_group1.append(df['novelty'].head(5).describe().loc['std'])"
   ]
  },
  {
   "cell_type": "code",
   "execution_count": 31,
   "id": "65395ee5",
   "metadata": {},
   "outputs": [
    {
     "data": {
      "text/plain": [
       "<matplotlib.legend.Legend at 0x7ffca8933400>"
      ]
     },
     "execution_count": 31,
     "metadata": {},
     "output_type": "execute_result"
    },
    {
     "data": {
      "image/png": "[encoded data removed]",
      "text/plain": [
       "<Figure size 640x480 with 1 Axes>"
      ]
     },
     "metadata": {},
     "output_type": "display_data"
    }
   ],
   "source": [
    "import matplotlib.pyplot as plt\n",
    "\n",
    "x_axis=['Phase 1-2', 'Phase 2-3', 'Phase 3-4', 'Phase 4-5']\n",
    "\n",
    "line1 = plt.plot(x_axis, top_group1,'bo-',label='Mean Top 10% Group 1') \n",
    "line2 = plt.plot(x_axis, bottom_group1,'go-',label='Mean Bottom 10% Group 1') \n",
    "line3 = plt.plot(x_axis, middle_group1,'ko-',label='Mean Middle Group 1')\n",
    "\n",
    "plt.title(\"Top 10%, Middle and Bottom 10% Relational Novelty Group 1\")\n",
    "plt.ylabel(\"Relational Novelty\")\n",
    "plt.legend(bbox_to_anchor=(1.5, 1),\n",
    "           bbox_transform=plt.gcf().transFigure)"
   ]
  },
  {
   "cell_type": "code",
   "execution_count": 32,
   "id": "ba648ed8",
   "metadata": {},
   "outputs": [
    {
     "data": {
      "text/plain": [
       "<matplotlib.legend.Legend at 0x7ffc9c353c10>"
      ]
     },
     "execution_count": 32,
     "metadata": {},
     "output_type": "execute_result"
    },
    {
     "data": {
      "image/png": "[encoded data removed]",
      "text/plain": [
       "<Figure size 640x480 with 1 Axes>"
      ]
     },
     "metadata": {},
     "output_type": "display_data"
    }
   ],
   "source": [
    "import matplotlib.pyplot as plt\n",
    "\n",
    "x_axis=['Phase 1-2', 'Phase 2-3', 'Phase 3-4', 'Phase 4-5']\n",
    "\n",
    "line1 = plt.plot(x_axis, std_top_group1,'bo-',label='Std Top 10% Group 1') \n",
    "line2 = plt.plot(x_axis, std_bottom_group1,'go-',label='Std Bottom 10% Group 1') \n",
    "line3 = plt.plot(x_axis, std_middle_group1,'ko-',label='Std Middle Group 1')\n",
    "\n",
    "plt.title(\"Top 10%, Middle and Bottom 10% Std Relational Novelty Group 1\")\n",
    "plt.ylabel(\"Relational Novelty\")\n",
    "plt.legend(bbox_to_anchor=(1.5, 1),\n",
    "           bbox_transform=plt.gcf().transFigure)"
   ]
  },
  {
   "cell_type": "markdown",
   "id": "d69e21b6",
   "metadata": {},
   "source": [
    "## Top 10% in Group 0"
   ]
  },
  {
   "cell_type": "code",
   "execution_count": 33,
   "id": "9098a01a",
   "metadata": {},
   "outputs": [],
   "source": [
    "df_list = [df_g0_p1, df_g0_p2, df_g0_p3, df_g0_p4]\n",
    "\n",
    "top_group0 = []\n",
    "for df in df_list:\n",
    "    top_group0.append(df['novelty'].head(4).describe().loc['mean'])"
   ]
  },
  {
   "cell_type": "markdown",
   "id": "0083cd9e",
   "metadata": {},
   "source": [
    "## Bottom 10% in Group 0"
   ]
  },
  {
   "cell_type": "code",
   "execution_count": 34,
   "id": "63c72d5d",
   "metadata": {},
   "outputs": [],
   "source": [
    "df_list = [df_g0_p1, df_g0_p2, df_g0_p3, df_g0_p4]\n",
    "\n",
    "bottom_group0 = []\n",
    "for df in df_list:\n",
    "    bottom_group0.append(df['novelty'].tail(4).describe().loc['mean'])"
   ]
  },
  {
   "cell_type": "markdown",
   "id": "add816a6",
   "metadata": {},
   "source": [
    "## Middle Group 0"
   ]
  },
  {
   "cell_type": "code",
   "execution_count": 35,
   "id": "56271887",
   "metadata": {},
   "outputs": [],
   "source": [
    "df_list = [df_g0_p1, df_g0_p2, df_g0_p3, df_g0_p4]\n",
    "\n",
    "middle_group0 = []\n",
    "for df in df_list:\n",
    "    middle_group0.append(df[['novelty']].iloc[[22,26]].describe().loc['mean'])"
   ]
  },
  {
   "cell_type": "code",
   "execution_count": 36,
   "id": "547dcadc",
   "metadata": {},
   "outputs": [
    {
     "data": {
      "text/plain": [
       "<matplotlib.legend.Legend at 0x7ffc9c36d160>"
      ]
     },
     "execution_count": 36,
     "metadata": {},
     "output_type": "execute_result"
    },
    {
     "data": {
      "image/png": "[encoded data removed]",
      "text/plain": [
       "<Figure size 640x480 with 1 Axes>"
      ]
     },
     "metadata": {},
     "output_type": "display_data"
    }
   ],
   "source": [
    "import matplotlib.pyplot as plt\n",
    "\n",
    "x_axis=['Phase 1-2', 'Phase 2-3', 'Phase 3-4', 'Phase 4-5']\n",
    "\n",
    "line1 = plt.plot(x_axis, top_group0,'bo-',label='Mean Top 10% Group 0') \n",
    "line2 = plt.plot(x_axis, bottom_group0,'go-',label='Mean Bottom 10% Group 0') \n",
    "line3 = plt.plot(x_axis, middle_group0,'ko-',label='Mean Middle Group 0')\n",
    "\n",
    "plt.title(\"Top 10%, Middle and Bottom 10% Relational Novelty Group 0\")\n",
    "plt.ylabel(\"Relational Novelty\")\n",
    "plt.legend(bbox_to_anchor=(1.5, 1),\n",
    "           bbox_transform=plt.gcf().transFigure)"
   ]
  },
  {
   "cell_type": "markdown",
   "id": "bb7966ac",
   "metadata": {},
   "source": [
    "## Top 10%, Middle and Bottom 10% pairwise similarity Group 3"
   ]
  },
  {
   "cell_type": "markdown",
   "id": "81ac179d",
   "metadata": {},
   "source": [
    "## Stage 1"
   ]
  },
  {
   "cell_type": "code",
   "execution_count": 37,
   "id": "883292a3",
   "metadata": {},
   "outputs": [
    {
     "data": {
      "text/plain": [
       "['dduartec', 'jumcorredorro', 'lgmoralesa', 'jscastelblancoh']"
      ]
     },
     "execution_count": 37,
     "metadata": {},
     "output_type": "execute_result"
    }
   ],
   "source": [
    "# four largest values in column age\n",
    "df_g3_p1_top = df_g3_p1.nlargest(4, ['total'])\n",
    "df_g3_p1_top = df_g3_p1_top.Student.tolist()\n",
    "df_g3_p1_top"
   ]
  },
  {
   "cell_type": "code",
   "execution_count": 38,
   "id": "cd620133",
   "metadata": {},
   "outputs": [
    {
     "data": {
      "text/plain": [
       "count    160.000000\n",
       "mean       0.099123\n",
       "std        0.079949\n",
       "min        0.000000\n",
       "25%        0.052294\n",
       "50%        0.084220\n",
       "75%        0.125219\n",
       "max        0.375000\n",
       "Name: similarity, dtype: float64"
      ]
     },
     "execution_count": 38,
     "metadata": {},
     "output_type": "execute_result"
    }
   ],
   "source": [
    "stage1_bogota3_top = stage1_bogota3[stage1_bogota3['user2'].isin(df_g3_p1_top)]\n",
    "stage1_bogota3_top['similarity'].describe()"
   ]
  },
  {
   "cell_type": "code",
   "execution_count": 39,
   "id": "47c5b24d",
   "metadata": {},
   "outputs": [
    {
     "data": {
      "text/plain": [
       "['lizzyt10h', 'wilson911013', 'mballeng91', 'NicolasPrr']"
      ]
     },
     "execution_count": 39,
     "metadata": {},
     "output_type": "execute_result"
    }
   ],
   "source": [
    "df_g3_p1_bottom = df_g3_p1.nsmallest(4, ['total'])\n",
    "df_g3_p1_bottom = df_g3_p1_bottom.Student.tolist()\n",
    "df_g3_p1_bottom "
   ]
  },
  {
   "cell_type": "code",
   "execution_count": 40,
   "id": "b7796352",
   "metadata": {},
   "outputs": [
    {
     "data": {
      "text/plain": [
       "count    160.000000\n",
       "mean       0.084934\n",
       "std        0.168042\n",
       "min        0.000000\n",
       "25%        0.000000\n",
       "50%        0.005236\n",
       "75%        0.115950\n",
       "max        1.000000\n",
       "Name: similarity, dtype: float64"
      ]
     },
     "execution_count": 40,
     "metadata": {},
     "output_type": "execute_result"
    }
   ],
   "source": [
    "stage1_bogota3_bottom = stage1_bogota3[stage1_bogota3['user2'].isin(df_g3_p1_bottom)]\n",
    "stage1_bogota3_bottom['similarity'].describe()"
   ]
  },
  {
   "cell_type": "markdown",
   "id": "44badde1",
   "metadata": {},
   "source": [
    "## Stage 2"
   ]
  },
  {
   "cell_type": "code",
   "execution_count": 41,
   "id": "deece15d",
   "metadata": {},
   "outputs": [
    {
     "data": {
      "text/plain": [
       "['jumcorredorro', 'lgmoralesa', 'dduartec', 'jmalvarezd']"
      ]
     },
     "execution_count": 41,
     "metadata": {},
     "output_type": "execute_result"
    }
   ],
   "source": [
    "df_g3_p2_top = df_g3_p2.nlargest(4, ['total'])\n",
    "df_g3_p2_top = df_g3_p2_top.Student.tolist()\n",
    "df_g3_p2_top"
   ]
  },
  {
   "cell_type": "code",
   "execution_count": 42,
   "id": "9dc0bdd4",
   "metadata": {},
   "outputs": [
    {
     "data": {
      "text/plain": [
       "count    160.000000\n",
       "mean       0.083470\n",
       "std        0.072332\n",
       "min        0.000000\n",
       "25%        0.030772\n",
       "50%        0.060658\n",
       "75%        0.119691\n",
       "max        0.313725\n",
       "Name: similarity, dtype: float64"
      ]
     },
     "execution_count": 42,
     "metadata": {},
     "output_type": "execute_result"
    }
   ],
   "source": [
    "stage2_bogota3_top = stage2_bogota3[stage2_bogota3['user2'].isin(df_g3_p2_top)]\n",
    "stage2_bogota3_top['similarity'].describe()"
   ]
  },
  {
   "cell_type": "code",
   "execution_count": 43,
   "id": "15f25a75",
   "metadata": {},
   "outputs": [
    {
     "data": {
      "text/plain": [
       "['wilson911013', 'Chranium', 'mballeng91', 'afceballosr']"
      ]
     },
     "execution_count": 43,
     "metadata": {},
     "output_type": "execute_result"
    }
   ],
   "source": [
    "df_g3_p2_bottom = df_g3_p2.nsmallest(4, ['total'])\n",
    "df_g3_p2_bottom = df_g3_p2_bottom.Student.tolist()\n",
    "df_g3_p2_bottom "
   ]
  },
  {
   "cell_type": "code",
   "execution_count": 44,
   "id": "bbfbe430",
   "metadata": {},
   "outputs": [
    {
     "data": {
      "text/plain": [
       "count    160.000000\n",
       "mean       0.075604\n",
       "std        0.174061\n",
       "min        0.000000\n",
       "25%        0.000000\n",
       "50%        0.008956\n",
       "75%        0.081186\n",
       "max        1.000000\n",
       "Name: similarity, dtype: float64"
      ]
     },
     "execution_count": 44,
     "metadata": {},
     "output_type": "execute_result"
    }
   ],
   "source": [
    "stage2_bogota3_bottom = stage2_bogota3[stage2_bogota3['user2'].isin(df_g3_p2_bottom)]\n",
    "stage2_bogota3_bottom['similarity'].describe()"
   ]
  },
  {
   "cell_type": "markdown",
   "id": "2089e0aa",
   "metadata": {},
   "source": [
    "## Stage 3"
   ]
  },
  {
   "cell_type": "code",
   "execution_count": 45,
   "id": "c61a0b1d",
   "metadata": {},
   "outputs": [
    {
     "data": {
      "text/plain": [
       "['juligarji', 'lgmoralesa', 'jscastelblancoh', 'jumcorredorro']"
      ]
     },
     "execution_count": 45,
     "metadata": {},
     "output_type": "execute_result"
    }
   ],
   "source": [
    "df_g3_p3_top = df_g3_p3.nlargest(4, ['total'])\n",
    "df_g3_p3_top = df_g3_p3_top.Student.tolist()\n",
    "df_g3_p3_top"
   ]
  },
  {
   "cell_type": "code",
   "execution_count": 46,
   "id": "073a3e3b",
   "metadata": {},
   "outputs": [
    {
     "data": {
      "text/plain": [
       "count    160.000000\n",
       "mean       0.044256\n",
       "std        0.051071\n",
       "min        0.000000\n",
       "25%        0.003848\n",
       "50%        0.028299\n",
       "75%        0.065789\n",
       "max        0.320388\n",
       "Name: similarity, dtype: float64"
      ]
     },
     "execution_count": 46,
     "metadata": {},
     "output_type": "execute_result"
    }
   ],
   "source": [
    "stage3_bogota3_top = stage3_bogota3[stage3_bogota3['user2'].isin(df_g3_p3_top)]\n",
    "stage3_bogota3_top['similarity'].describe()"
   ]
  },
  {
   "cell_type": "code",
   "execution_count": 47,
   "id": "dca3d32f",
   "metadata": {},
   "outputs": [
    {
     "data": {
      "text/plain": [
       "['davidh17', 'wilson911013', 'dduartec', 'Chranium']"
      ]
     },
     "execution_count": 47,
     "metadata": {},
     "output_type": "execute_result"
    }
   ],
   "source": [
    "df_g3_p3_bottom = df_g3_p3.nsmallest(4, ['total'])\n",
    "df_g3_p3_bottom = df_g3_p3_bottom.Student.tolist()\n",
    "df_g3_p3_bottom "
   ]
  },
  {
   "cell_type": "code",
   "execution_count": 48,
   "id": "0cf72027",
   "metadata": {},
   "outputs": [
    {
     "data": {
      "text/plain": [
       "count    160.000000\n",
       "mean       0.064294\n",
       "std        0.083910\n",
       "min        0.000000\n",
       "25%        0.005445\n",
       "50%        0.039701\n",
       "75%        0.091058\n",
       "max        0.500000\n",
       "Name: similarity, dtype: float64"
      ]
     },
     "execution_count": 48,
     "metadata": {},
     "output_type": "execute_result"
    }
   ],
   "source": [
    "stage3_bogota3_bottom = stage3_bogota3[stage3_bogota3['user2'].isin(df_g3_p3_bottom)]\n",
    "stage3_bogota3_bottom['similarity'].describe()"
   ]
  },
  {
   "cell_type": "markdown",
   "id": "677dc7b2",
   "metadata": {},
   "source": [
    "## Stage 4"
   ]
  },
  {
   "cell_type": "code",
   "execution_count": 49,
   "id": "aabb4291",
   "metadata": {},
   "outputs": [
    {
     "data": {
      "text/plain": [
       "['NicolasPrr', 'jscastelblancoh', 'juligarji', 'lacardenasv']"
      ]
     },
     "execution_count": 49,
     "metadata": {},
     "output_type": "execute_result"
    }
   ],
   "source": [
    "df_g3_p4_top = df_g3_p4.nlargest(4, ['total'])\n",
    "df_g3_p4_top = df_g3_p4_top.Student.tolist()\n",
    "df_g3_p4_top"
   ]
  },
  {
   "cell_type": "code",
   "execution_count": 50,
   "id": "41abec30",
   "metadata": {},
   "outputs": [
    {
     "data": {
      "text/plain": [
       "count    160.000000\n",
       "mean       0.041889\n",
       "std        0.041467\n",
       "min        0.000000\n",
       "25%        0.005725\n",
       "50%        0.030663\n",
       "75%        0.067398\n",
       "max        0.183544\n",
       "Name: similarity, dtype: float64"
      ]
     },
     "execution_count": 50,
     "metadata": {},
     "output_type": "execute_result"
    }
   ],
   "source": [
    "stage4_bogota3_top = stage4_bogota3[stage4_bogota3['user2'].isin(df_g3_p4_top)]\n",
    "stage4_bogota3_top['similarity'].describe()"
   ]
  },
  {
   "cell_type": "code",
   "execution_count": 51,
   "id": "16c3a6da",
   "metadata": {},
   "outputs": [
    {
     "data": {
      "text/plain": [
       "['wilson911013', 'Chranium', 'mballeng91', 'spenas']"
      ]
     },
     "execution_count": 51,
     "metadata": {},
     "output_type": "execute_result"
    }
   ],
   "source": [
    "df_g3_p4_bottom = df_g3_p4.nsmallest(4, ['total'])\n",
    "df_g3_p4_bottom = df_g3_p4_bottom.Student.tolist()\n",
    "df_g3_p4_bottom "
   ]
  },
  {
   "cell_type": "code",
   "execution_count": 52,
   "id": "4a89279c",
   "metadata": {},
   "outputs": [
    {
     "data": {
      "text/plain": [
       "count    160.000000\n",
       "mean       0.038536\n",
       "std        0.075541\n",
       "min        0.000000\n",
       "25%        0.000150\n",
       "50%        0.010146\n",
       "75%        0.047282\n",
       "max        0.500000\n",
       "Name: similarity, dtype: float64"
      ]
     },
     "execution_count": 52,
     "metadata": {},
     "output_type": "execute_result"
    }
   ],
   "source": [
    "stage4_bogota3_bottom = stage4_bogota3[stage3_bogota3['user2'].isin(df_g3_p4_bottom)]\n",
    "stage4_bogota3_bottom['similarity'].describe()"
   ]
  },
  {
   "cell_type": "markdown",
   "id": "a44ab1fd",
   "metadata": {},
   "source": [
    "## Top 10%, Middle and Bottom 10% pairwise similarity Group 2"
   ]
  },
  {
   "cell_type": "markdown",
   "id": "fc10d5c3",
   "metadata": {},
   "source": [
    "## Stage 1"
   ]
  },
  {
   "cell_type": "code",
   "execution_count": 53,
   "id": "56d31a63",
   "metadata": {},
   "outputs": [
    {
     "data": {
      "text/plain": [
       "['fabianr23', 'juasmartinezbel', 'JuanitoAli', 'joaortizro', 'cesarochoa2006']"
      ]
     },
     "execution_count": 53,
     "metadata": {},
     "output_type": "execute_result"
    }
   ],
   "source": [
    "# four largest values in column age\n",
    "df_g2_p1_top = df_g2_p1.nlargest(5, ['total'])\n",
    "df_g2_p1_top = df_g2_p1_top.Student.tolist()\n",
    "df_g2_p1_top"
   ]
  },
  {
   "cell_type": "code",
   "execution_count": 54,
   "id": "887d4a80",
   "metadata": {},
   "outputs": [
    {
     "data": {
      "text/plain": [
       "count    200.000000\n",
       "mean       0.071491\n",
       "std        0.089875\n",
       "min        0.000000\n",
       "25%        0.003101\n",
       "50%        0.040619\n",
       "75%        0.101316\n",
       "max        0.462500\n",
       "Name: similarity, dtype: float64"
      ]
     },
     "execution_count": 54,
     "metadata": {},
     "output_type": "execute_result"
    }
   ],
   "source": [
    "stage1_bogota2_top = stage1_bogota2[stage1_bogota2['user2'].isin(df_g2_p1_top)]\n",
    "stage1_bogota2_top['similarity'].describe()"
   ]
  },
  {
   "cell_type": "code",
   "execution_count": 55,
   "id": "c5867161",
   "metadata": {},
   "outputs": [
    {
     "data": {
      "text/plain": [
       "['jscontrerasp', 'jhcardenasa', 'ccvacad', 'CSebasGomez', 'tres-iqus']"
      ]
     },
     "execution_count": 55,
     "metadata": {},
     "output_type": "execute_result"
    }
   ],
   "source": [
    "df_g2_p1_bottom = df_g2_p1.nsmallest(5, ['total'])\n",
    "df_g2_p1_bottom = df_g2_p1_bottom.Student.tolist()\n",
    "df_g2_p1_bottom "
   ]
  },
  {
   "cell_type": "code",
   "execution_count": 56,
   "id": "60ed15a8",
   "metadata": {},
   "outputs": [
    {
     "data": {
      "text/plain": [
       "count    160.000000\n",
       "mean       0.058946\n",
       "std        0.191841\n",
       "min        0.000000\n",
       "25%        0.000000\n",
       "50%        0.000000\n",
       "75%        0.006153\n",
       "max        1.000000\n",
       "Name: similarity, dtype: float64"
      ]
     },
     "execution_count": 56,
     "metadata": {},
     "output_type": "execute_result"
    }
   ],
   "source": [
    "stage1_bogota2_bottom = stage1_bogota2[stage1_bogota2['user2'].isin(df_g2_p1_bottom)]\n",
    "stage1_bogota2_bottom['similarity'].describe()"
   ]
  },
  {
   "cell_type": "markdown",
   "id": "df8cb47e",
   "metadata": {},
   "source": [
    "## Stage 2"
   ]
  },
  {
   "cell_type": "code",
   "execution_count": 57,
   "id": "a3008e16",
   "metadata": {},
   "outputs": [
    {
     "data": {
      "text/plain": [
       "['fabianr23', 'Davsatu313', 'jhriverasa', 'joaortizro', 'juasmartinezbel']"
      ]
     },
     "execution_count": 57,
     "metadata": {},
     "output_type": "execute_result"
    }
   ],
   "source": [
    "df_g2_p2_top = df_g2_p2.nlargest(5, ['total'])\n",
    "df_g2_p2_top = df_g2_p2_top.Student.tolist()\n",
    "df_g2_p2_top"
   ]
  },
  {
   "cell_type": "code",
   "execution_count": 58,
   "id": "ab22483d",
   "metadata": {},
   "outputs": [
    {
     "data": {
      "text/plain": [
       "count    200.000000\n",
       "mean       0.081629\n",
       "std        0.066489\n",
       "min        0.000000\n",
       "25%        0.027663\n",
       "50%        0.074074\n",
       "75%        0.122927\n",
       "max        0.360000\n",
       "Name: similarity, dtype: float64"
      ]
     },
     "execution_count": 58,
     "metadata": {},
     "output_type": "execute_result"
    }
   ],
   "source": [
    "stage2_bogota2_top = stage2_bogota2[stage2_bogota2['user2'].isin(df_g2_p2_top)]\n",
    "stage2_bogota2_top['similarity'].describe()"
   ]
  },
  {
   "cell_type": "code",
   "execution_count": 59,
   "id": "cb3f3271",
   "metadata": {},
   "outputs": [
    {
     "data": {
      "text/plain": [
       "['CSebasGomez', 'jscontrerasp', 'ccvacad', 'jhcardenasa', 'tres-iqus']"
      ]
     },
     "execution_count": 59,
     "metadata": {},
     "output_type": "execute_result"
    }
   ],
   "source": [
    "df_g2_p2_bottom = df_g2_p2.nsmallest(5, ['total'])\n",
    "df_g2_p2_bottom = df_g2_p2_bottom.Student.tolist()\n",
    "df_g2_p2_bottom "
   ]
  },
  {
   "cell_type": "code",
   "execution_count": 60,
   "id": "9b4e50a7",
   "metadata": {},
   "outputs": [
    {
     "data": {
      "text/plain": [
       "count    160.000000\n",
       "mean       0.052641\n",
       "std        0.175457\n",
       "min        0.000000\n",
       "25%        0.000000\n",
       "50%        0.000000\n",
       "75%        0.009015\n",
       "max        1.000000\n",
       "Name: similarity, dtype: float64"
      ]
     },
     "execution_count": 60,
     "metadata": {},
     "output_type": "execute_result"
    }
   ],
   "source": [
    "stage2_bogota2_bottom = stage2_bogota2[stage2_bogota2['user2'].isin(df_g2_p2_bottom)]\n",
    "stage2_bogota2_bottom['similarity'].describe()"
   ]
  },
  {
   "cell_type": "markdown",
   "id": "5cb2ab30",
   "metadata": {},
   "source": [
    "## Stage 3"
   ]
  },
  {
   "cell_type": "code",
   "execution_count": 61,
   "id": "15af8d4b",
   "metadata": {},
   "outputs": [
    {
     "data": {
      "text/plain": [
       "['fabianr23', 'jhriverasa', 'JuanitoAli', 'juasmartinezbel', 'Davsatu313']"
      ]
     },
     "execution_count": 61,
     "metadata": {},
     "output_type": "execute_result"
    }
   ],
   "source": [
    "df_g2_p3_top = df_g2_p3.nlargest(5, ['total'])\n",
    "df_g2_p3_top = df_g2_p3_top.Student.tolist()\n",
    "df_g2_p3_top"
   ]
  },
  {
   "cell_type": "code",
   "execution_count": 62,
   "id": "89efbc20",
   "metadata": {},
   "outputs": [
    {
     "data": {
      "text/plain": [
       "count    200.000000\n",
       "mean       0.053276\n",
       "std        0.078701\n",
       "min        0.000000\n",
       "25%        0.006526\n",
       "50%        0.043344\n",
       "75%        0.073883\n",
       "max        0.942953\n",
       "Name: similarity, dtype: float64"
      ]
     },
     "execution_count": 62,
     "metadata": {},
     "output_type": "execute_result"
    }
   ],
   "source": [
    "stage3_bogota2_top = stage3_bogota2[stage3_bogota2['user2'].isin(df_g2_p3_top)]\n",
    "stage3_bogota2_top['similarity'].describe()"
   ]
  },
  {
   "cell_type": "code",
   "execution_count": 63,
   "id": "69e24fc1",
   "metadata": {},
   "outputs": [
    {
     "data": {
      "text/plain": [
       "['lsfinite', 'ccvacad', 'CSebasGomez', 'jhcardenasa', 'jscontrerasp']"
      ]
     },
     "execution_count": 63,
     "metadata": {},
     "output_type": "execute_result"
    }
   ],
   "source": [
    "df_g2_p3_bottom = df_g2_p3.nsmallest(5, ['total'])\n",
    "df_g2_p3_bottom = df_g2_p3_bottom.Student.tolist()\n",
    "df_g2_p3_bottom "
   ]
  },
  {
   "cell_type": "code",
   "execution_count": 64,
   "id": "5bba6434",
   "metadata": {},
   "outputs": [
    {
     "data": {
      "text/plain": [
       "count    200.000000\n",
       "mean       0.067978\n",
       "std        0.117703\n",
       "min        0.000000\n",
       "25%        0.000000\n",
       "50%        0.023474\n",
       "75%        0.109215\n",
       "max        1.000000\n",
       "Name: similarity, dtype: float64"
      ]
     },
     "execution_count": 64,
     "metadata": {},
     "output_type": "execute_result"
    }
   ],
   "source": [
    "stage3_bogota2_bottom = stage3_bogota2[stage3_bogota2['user2'].isin(df_g2_p3_bottom)]\n",
    "stage3_bogota2_bottom['similarity'].describe()"
   ]
  },
  {
   "cell_type": "markdown",
   "id": "fcec53c0",
   "metadata": {},
   "source": [
    "## Stage 4"
   ]
  },
  {
   "cell_type": "code",
   "execution_count": 65,
   "id": "873d13b2",
   "metadata": {},
   "outputs": [
    {
     "data": {
      "text/plain": [
       "['xdanielsb', 'Gantiva', 'leguzman', 'juasmartinezbel', 'cesarochoa2006']"
      ]
     },
     "execution_count": 65,
     "metadata": {},
     "output_type": "execute_result"
    }
   ],
   "source": [
    "df_g2_p4_top = df_g2_p4.nlargest(5, ['total'])\n",
    "df_g2_p4_top = df_g2_p4_top.Student.tolist()\n",
    "df_g2_p4_top"
   ]
  },
  {
   "cell_type": "code",
   "execution_count": 66,
   "id": "2774b242",
   "metadata": {},
   "outputs": [
    {
     "data": {
      "text/plain": [
       "count    200.000000\n",
       "mean       0.067097\n",
       "std        0.060344\n",
       "min        0.000000\n",
       "25%        0.021686\n",
       "50%        0.052320\n",
       "75%        0.097272\n",
       "max        0.377778\n",
       "Name: similarity, dtype: float64"
      ]
     },
     "execution_count": 66,
     "metadata": {},
     "output_type": "execute_result"
    }
   ],
   "source": [
    "stage4_bogota2_top = stage4_bogota2[stage4_bogota2['user2'].isin(df_g2_p4_top)]\n",
    "stage4_bogota2_top['similarity'].describe()"
   ]
  },
  {
   "cell_type": "code",
   "execution_count": 67,
   "id": "40f49f2a",
   "metadata": {},
   "outputs": [
    {
     "data": {
      "text/plain": [
       "['CSebasGomez', 'jhcardenasa', 'jscontrerasp', 'tres-iqus', 'crarojasca']"
      ]
     },
     "execution_count": 67,
     "metadata": {},
     "output_type": "execute_result"
    }
   ],
   "source": [
    "df_g2_p4_bottom = df_g2_p4.nsmallest(5, ['total'])\n",
    "df_g2_p4_bottom = df_g2_p4_bottom.Student.tolist()\n",
    "df_g2_p4_bottom "
   ]
  },
  {
   "cell_type": "code",
   "execution_count": 68,
   "id": "1bbddf9f",
   "metadata": {},
   "outputs": [
    {
     "data": {
      "text/plain": [
       "count    160.000000\n",
       "mean       0.060299\n",
       "std        0.126729\n",
       "min        0.000000\n",
       "25%        0.000000\n",
       "50%        0.000000\n",
       "75%        0.101590\n",
       "max        1.000000\n",
       "Name: similarity, dtype: float64"
      ]
     },
     "execution_count": 68,
     "metadata": {},
     "output_type": "execute_result"
    }
   ],
   "source": [
    "stage4_bogota2_bottom = stage4_bogota2[stage4_bogota2['user2'].isin(df_g2_p4_bottom)]\n",
    "stage4_bogota2_bottom['similarity'].describe()"
   ]
  },
  {
   "cell_type": "markdown",
   "id": "5b73c2e7",
   "metadata": {},
   "source": [
    "## Top 10%, Middle and Bottom 10% pairwise similarity Group 1"
   ]
  },
  {
   "cell_type": "markdown",
   "id": "936ac12e",
   "metadata": {},
   "source": [
    "## Stage 1"
   ]
  },
  {
   "cell_type": "code",
   "execution_count": 69,
   "id": "268d3788",
   "metadata": {},
   "outputs": [
    {
     "data": {
      "text/plain": [
       "['dsbarrerag', 'falperezgo', 'daandradec', 'jesusfchavarro', 'oeroaq']"
      ]
     },
     "execution_count": 69,
     "metadata": {},
     "output_type": "execute_result"
    }
   ],
   "source": [
    "df_g1_p1_top = df_g1_p1.nlargest(5, ['total'])\n",
    "df_g1_p1_top = df_g1_p1_top.Student.tolist()\n",
    "df_g1_p1_top"
   ]
  },
  {
   "cell_type": "code",
   "execution_count": 70,
   "id": "6b95d65d",
   "metadata": {},
   "outputs": [
    {
     "data": {
      "text/plain": [
       "count    195.000000\n",
       "mean       0.030797\n",
       "std        0.041097\n",
       "min        0.000000\n",
       "25%        0.000000\n",
       "50%        0.006085\n",
       "75%        0.049641\n",
       "max        0.156863\n",
       "Name: similarity, dtype: float64"
      ]
     },
     "execution_count": 70,
     "metadata": {},
     "output_type": "execute_result"
    }
   ],
   "source": [
    "stage1_bogota1_top = stage1_bogota1[stage1_bogota1['user2'].isin(df_g1_p1_top)]\n",
    "stage1_bogota1_top['similarity'].describe()"
   ]
  },
  {
   "cell_type": "code",
   "execution_count": 71,
   "id": "07f55993",
   "metadata": {},
   "outputs": [
    {
     "data": {
      "text/plain": [
       "['kastellanos', 'ItsNavi', 'Zeugmax', 'andfsanchezlem', 'gfalbarracinr']"
      ]
     },
     "execution_count": 71,
     "metadata": {},
     "output_type": "execute_result"
    }
   ],
   "source": [
    "df_g1_p1_bottom = df_g1_p1.nsmallest(5, ['total'])\n",
    "df_g1_p1_bottom = df_g1_p1_bottom.Student.tolist()\n",
    "df_g1_p1_bottom "
   ]
  },
  {
   "cell_type": "code",
   "execution_count": 72,
   "id": "16bd80e3",
   "metadata": {},
   "outputs": [
    {
     "data": {
      "text/plain": [
       "count    156.000000\n",
       "mean       0.172436\n",
       "std        0.356547\n",
       "min        0.000000\n",
       "25%        0.000000\n",
       "50%        0.000000\n",
       "75%        0.098529\n",
       "max        1.000000\n",
       "Name: similarity, dtype: float64"
      ]
     },
     "execution_count": 72,
     "metadata": {},
     "output_type": "execute_result"
    }
   ],
   "source": [
    "stage1_bogota1_bottom = stage1_bogota1[stage1_bogota1['user2'].isin(df_g1_p1_bottom)]\n",
    "stage1_bogota1_bottom['similarity'].describe()"
   ]
  },
  {
   "cell_type": "markdown",
   "id": "b7f8acd4",
   "metadata": {},
   "source": [
    "## Stage 2"
   ]
  },
  {
   "cell_type": "code",
   "execution_count": 73,
   "id": "5c869612",
   "metadata": {},
   "outputs": [
    {
     "data": {
      "text/plain": [
       "['jesusfchavarro', 'falperezgo', 'jonatan360', 'dsbarrerag', 'diegoaguevarar']"
      ]
     },
     "execution_count": 73,
     "metadata": {},
     "output_type": "execute_result"
    }
   ],
   "source": [
    "df_g1_p2_top = df_g1_p2.nlargest(5, ['total'])\n",
    "df_g1_p2_top = df_g1_p2_top.Student.tolist()\n",
    "df_g1_p2_top"
   ]
  },
  {
   "cell_type": "code",
   "execution_count": 74,
   "id": "fbfec0bb",
   "metadata": {},
   "outputs": [
    {
     "data": {
      "text/plain": [
       "count    195.000000\n",
       "mean       0.053837\n",
       "std        0.109161\n",
       "min        0.000000\n",
       "25%        0.001686\n",
       "50%        0.017857\n",
       "75%        0.077778\n",
       "max        0.884058\n",
       "Name: similarity, dtype: float64"
      ]
     },
     "execution_count": 74,
     "metadata": {},
     "output_type": "execute_result"
    }
   ],
   "source": [
    "stage2_bogota1_top = stage2_bogota1[stage2_bogota1['user2'].isin(df_g1_p2_top)]\n",
    "stage2_bogota1_top['similarity'].describe()"
   ]
  },
  {
   "cell_type": "code",
   "execution_count": 75,
   "id": "ff24c8d5",
   "metadata": {},
   "outputs": [
    {
     "data": {
      "text/plain": [
       "['Zeugmax', 'ItsNavi', 'kastellanos', 'andfsanchezlem', 'gsuarezc04']"
      ]
     },
     "execution_count": 75,
     "metadata": {},
     "output_type": "execute_result"
    }
   ],
   "source": [
    "df_g1_p2_bottom = df_g1_p2.nsmallest(5, ['total'])\n",
    "df_g1_p2_bottom = df_g1_p2_bottom.Student.tolist()\n",
    "df_g1_p2_bottom "
   ]
  },
  {
   "cell_type": "code",
   "execution_count": 76,
   "id": "9d39fa17",
   "metadata": {},
   "outputs": [
    {
     "data": {
      "text/plain": [
       "count    156.000000\n",
       "mean       0.092369\n",
       "std        0.265303\n",
       "min        0.000000\n",
       "25%        0.000000\n",
       "50%        0.000000\n",
       "75%        0.024124\n",
       "max        1.000000\n",
       "Name: similarity, dtype: float64"
      ]
     },
     "execution_count": 76,
     "metadata": {},
     "output_type": "execute_result"
    }
   ],
   "source": [
    "stage2_bogota1_bottom = stage2_bogota1[stage2_bogota1['user2'].isin(df_g1_p2_bottom)]\n",
    "stage2_bogota1_bottom['similarity'].describe()"
   ]
  },
  {
   "cell_type": "markdown",
   "id": "17849c67",
   "metadata": {},
   "source": [
    "## Stage 3"
   ]
  },
  {
   "cell_type": "code",
   "execution_count": 77,
   "id": "16414db5",
   "metadata": {},
   "outputs": [
    {
     "data": {
      "text/plain": [
       "['oeroaq', 'jonatan360', 'jesusfchavarro', 'daandradec', 'diegoaguevarar']"
      ]
     },
     "execution_count": 77,
     "metadata": {},
     "output_type": "execute_result"
    }
   ],
   "source": [
    "df_g1_p3_top = df_g1_p3.nlargest(5, ['total'])\n",
    "df_g1_p3_top = df_g1_p3_top.Student.tolist()\n",
    "df_g1_p3_top"
   ]
  },
  {
   "cell_type": "code",
   "execution_count": 78,
   "id": "a47082d6",
   "metadata": {},
   "outputs": [
    {
     "data": {
      "text/plain": [
       "count    195.000000\n",
       "mean       0.061885\n",
       "std        0.135511\n",
       "min        0.000000\n",
       "25%        0.003413\n",
       "50%        0.019522\n",
       "75%        0.068848\n",
       "max        0.884058\n",
       "Name: similarity, dtype: float64"
      ]
     },
     "execution_count": 78,
     "metadata": {},
     "output_type": "execute_result"
    }
   ],
   "source": [
    "stage3_bogota1_top = stage3_bogota1[stage3_bogota1['user2'].isin(df_g1_p3_top)]\n",
    "stage3_bogota1_top['similarity'].describe()"
   ]
  },
  {
   "cell_type": "code",
   "execution_count": 79,
   "id": "b4ebb304",
   "metadata": {},
   "outputs": [
    {
     "data": {
      "text/plain": [
       "['Zeugmax', 'ItsNavi', 'kastellanos', 'andfsanchezlem', 'gfalbarracinr']"
      ]
     },
     "execution_count": 79,
     "metadata": {},
     "output_type": "execute_result"
    }
   ],
   "source": [
    "df_g1_p3_bottom = df_g1_p3.nsmallest(5, ['total'])\n",
    "df_g1_p3_bottom = df_g1_p3_bottom.Student.tolist()\n",
    "df_g1_p3_bottom "
   ]
  },
  {
   "cell_type": "code",
   "execution_count": 80,
   "id": "fb975cdf",
   "metadata": {},
   "outputs": [
    {
     "data": {
      "text/plain": [
       "count    156.000000\n",
       "mean       0.088552\n",
       "std        0.265304\n",
       "min        0.000000\n",
       "25%        0.000000\n",
       "50%        0.000000\n",
       "75%        0.026215\n",
       "max        1.000000\n",
       "Name: similarity, dtype: float64"
      ]
     },
     "execution_count": 80,
     "metadata": {},
     "output_type": "execute_result"
    }
   ],
   "source": [
    "stage3_bogota1_bottom = stage3_bogota1[stage3_bogota1['user2'].isin(df_g1_p3_bottom)]\n",
    "stage3_bogota1_bottom['similarity'].describe()"
   ]
  },
  {
   "cell_type": "markdown",
   "id": "4cd9d98f",
   "metadata": {},
   "source": [
    "## Stage 4"
   ]
  },
  {
   "cell_type": "code",
   "execution_count": 81,
   "id": "d7ad74cf",
   "metadata": {},
   "outputs": [
    {
     "data": {
      "text/plain": [
       "['oeroaq', 'jonatan360', 'jesusfchavarro', 'daandradec', 'djguzmanc']"
      ]
     },
     "execution_count": 81,
     "metadata": {},
     "output_type": "execute_result"
    }
   ],
   "source": [
    "df_g1_p4_top = df_g1_p4.nlargest(5, ['total'])\n",
    "df_g1_p4_top = df_g1_p4_top.Student.tolist()\n",
    "df_g1_p4_top"
   ]
  },
  {
   "cell_type": "code",
   "execution_count": 82,
   "id": "e4b4dc63",
   "metadata": {},
   "outputs": [
    {
     "data": {
      "text/plain": [
       "count    195.000000\n",
       "mean       0.059165\n",
       "std        0.109435\n",
       "min        0.000000\n",
       "25%        0.004519\n",
       "50%        0.020052\n",
       "75%        0.081665\n",
       "max        0.824761\n",
       "Name: similarity, dtype: float64"
      ]
     },
     "execution_count": 82,
     "metadata": {},
     "output_type": "execute_result"
    }
   ],
   "source": [
    "stage4_bogota1_top = stage4_bogota1[stage4_bogota1['user2'].isin(df_g1_p4_top)]\n",
    "stage4_bogota1_top['similarity'].describe()"
   ]
  },
  {
   "cell_type": "code",
   "execution_count": 83,
   "id": "95912073",
   "metadata": {},
   "outputs": [
    {
     "data": {
      "text/plain": [
       "['Zeugmax', 'ItsNavi', 'kastellanos', 'andfsanchezlem', 'gsuarezc04']"
      ]
     },
     "execution_count": 83,
     "metadata": {},
     "output_type": "execute_result"
    }
   ],
   "source": [
    "df_g1_p4_bottom = df_g1_p4.nsmallest(5, ['total'])\n",
    "df_g1_p4_bottom = df_g1_p4_bottom.Student.tolist()\n",
    "df_g1_p4_bottom "
   ]
  },
  {
   "cell_type": "code",
   "execution_count": 84,
   "id": "38e6f5f6",
   "metadata": {},
   "outputs": [
    {
     "data": {
      "text/plain": [
       "count    156.000000\n",
       "mean       0.090271\n",
       "std        0.265282\n",
       "min        0.000000\n",
       "25%        0.000000\n",
       "50%        0.000000\n",
       "75%        0.022624\n",
       "max        1.000000\n",
       "Name: similarity, dtype: float64"
      ]
     },
     "execution_count": 84,
     "metadata": {},
     "output_type": "execute_result"
    }
   ],
   "source": [
    "stage4_bogota1_bottom = stage4_bogota1[stage4_bogota1['user2'].isin(df_g1_p4_bottom)]\n",
    "stage4_bogota1_bottom['similarity'].describe()"
   ]
  },
  {
   "cell_type": "markdown",
   "id": "6c23e753",
   "metadata": {},
   "source": [
    "## Top 10%, Middle and Bottom 10% pairwise similarity Group 0"
   ]
  },
  {
   "cell_type": "markdown",
   "id": "65755079",
   "metadata": {},
   "source": [
    "## Stage 1"
   ]
  },
  {
   "cell_type": "code",
   "execution_count": 85,
   "id": "651c29e6",
   "metadata": {},
   "outputs": [
    {
     "data": {
      "text/plain": [
       "['capinillab', 'bsgarciac', 'mnguzmanc', 'sacastroc']"
      ]
     },
     "execution_count": 85,
     "metadata": {},
     "output_type": "execute_result"
    }
   ],
   "source": [
    "df_g0_p1_top = df_g0_p1.nlargest(4, ['total'])\n",
    "df_g0_p1_top = df_g0_p1_top.Student.tolist()\n",
    "df_g0_p1_top"
   ]
  },
  {
   "cell_type": "code",
   "execution_count": 86,
   "id": "705345ba",
   "metadata": {},
   "outputs": [
    {
     "data": {
      "text/plain": [
       "count    148.000000\n",
       "mean       0.059250\n",
       "std        0.076245\n",
       "min        0.000000\n",
       "25%        0.000000\n",
       "50%        0.037083\n",
       "75%        0.096076\n",
       "max        0.433333\n",
       "Name: similarity, dtype: float64"
      ]
     },
     "execution_count": 86,
     "metadata": {},
     "output_type": "execute_result"
    }
   ],
   "source": [
    "stage1_bogota0_top = stage1_bogota0[stage1_bogota0['user2'].isin(df_g0_p1_top)]\n",
    "stage1_bogota0_top['similarity'].describe()"
   ]
  },
  {
   "cell_type": "code",
   "execution_count": 87,
   "id": "6bab2336",
   "metadata": {},
   "outputs": [
    {
     "data": {
      "text/plain": [
       "['jcneivaa', 'annipi', 'jdsolanos', 'fmbernalb']"
      ]
     },
     "execution_count": 87,
     "metadata": {},
     "output_type": "execute_result"
    }
   ],
   "source": [
    "df_g0_p1_bottom = df_g0_p1.nsmallest(4, ['total'])\n",
    "df_g0_p1_bottom = df_g0_p1_bottom.Student.tolist()\n",
    "df_g0_p1_bottom "
   ]
  },
  {
   "cell_type": "code",
   "execution_count": 88,
   "id": "db3ed462",
   "metadata": {},
   "outputs": [
    {
     "data": {
      "text/plain": [
       "count    148.000000\n",
       "mean       0.378378\n",
       "std        0.486629\n",
       "min        0.000000\n",
       "25%        0.000000\n",
       "50%        0.000000\n",
       "75%        1.000000\n",
       "max        1.000000\n",
       "Name: similarity, dtype: float64"
      ]
     },
     "execution_count": 88,
     "metadata": {},
     "output_type": "execute_result"
    }
   ],
   "source": [
    "stage1_bogota0_bottom = stage1_bogota0[stage1_bogota0['user2'].isin(df_g0_p1_bottom)]\n",
    "stage1_bogota0_bottom['similarity'].describe()"
   ]
  },
  {
   "cell_type": "markdown",
   "id": "7345d8a9",
   "metadata": {},
   "source": [
    "## Stage 2"
   ]
  },
  {
   "cell_type": "code",
   "execution_count": 89,
   "id": "f5291d75",
   "metadata": {},
   "outputs": [
    {
     "data": {
      "text/plain": [
       "['jdsuarezj', 'JoseMolano', 'bsgarciac', 'lfvalderrama']"
      ]
     },
     "execution_count": 89,
     "metadata": {},
     "output_type": "execute_result"
    }
   ],
   "source": [
    "df_g0_p2_top = df_g0_p2.nlargest(4, ['total'])\n",
    "df_g0_p2_top = df_g0_p2_top.Student.tolist()\n",
    "df_g0_p2_top"
   ]
  },
  {
   "cell_type": "code",
   "execution_count": 90,
   "id": "c5986d82",
   "metadata": {},
   "outputs": [
    {
     "data": {
      "text/plain": [
       "count    148.000000\n",
       "mean       0.086724\n",
       "std        0.087676\n",
       "min        0.000000\n",
       "25%        0.000000\n",
       "50%        0.062782\n",
       "75%        0.126995\n",
       "max        0.443182\n",
       "Name: similarity, dtype: float64"
      ]
     },
     "execution_count": 90,
     "metadata": {},
     "output_type": "execute_result"
    }
   ],
   "source": [
    "stage2_bogota0_top = stage2_bogota0[stage2_bogota0['user2'].isin(df_g0_p2_top)]\n",
    "stage2_bogota0_top['similarity'].describe()"
   ]
  },
  {
   "cell_type": "code",
   "execution_count": 91,
   "id": "90b61e2e",
   "metadata": {},
   "outputs": [
    {
     "data": {
      "text/plain": [
       "['odprietoh', 'jdsolanos', 'fmbernalb', 'MogGy94']"
      ]
     },
     "execution_count": 91,
     "metadata": {},
     "output_type": "execute_result"
    }
   ],
   "source": [
    "df_g0_p2_bottom = df_g0_p2.nsmallest(4, ['total'])\n",
    "df_g0_p2_bottom = df_g0_p2_bottom.Student.tolist()\n",
    "df_g0_p2_bottom "
   ]
  },
  {
   "cell_type": "code",
   "execution_count": 92,
   "id": "489c35d6",
   "metadata": {},
   "outputs": [
    {
     "data": {
      "text/plain": [
       "count    148.000000\n",
       "mean       0.214118\n",
       "std        0.398522\n",
       "min        0.000000\n",
       "25%        0.000000\n",
       "50%        0.000000\n",
       "75%        0.074787\n",
       "max        1.000000\n",
       "Name: similarity, dtype: float64"
      ]
     },
     "execution_count": 92,
     "metadata": {},
     "output_type": "execute_result"
    }
   ],
   "source": [
    "stage2_bogota0_bottom = stage2_bogota0[stage2_bogota0['user2'].isin(df_g0_p2_bottom)]\n",
    "stage2_bogota0_bottom['similarity'].describe()"
   ]
  },
  {
   "cell_type": "markdown",
   "id": "69f6549e",
   "metadata": {},
   "source": [
    "## Stage 3"
   ]
  },
  {
   "cell_type": "code",
   "execution_count": 93,
   "id": "6ae2ece8",
   "metadata": {},
   "outputs": [
    {
     "data": {
      "text/plain": [
       "['bsgarciac', 'jdsuarezj', 'capinillab', 'mnguzmanc']"
      ]
     },
     "execution_count": 93,
     "metadata": {},
     "output_type": "execute_result"
    }
   ],
   "source": [
    "df_g0_p3_top = df_g0_p3.nlargest(4, ['total'])\n",
    "df_g0_p3_top = df_g0_p3_top.Student.tolist()\n",
    "df_g0_p3_top"
   ]
  },
  {
   "cell_type": "code",
   "execution_count": 94,
   "id": "a92b96b0",
   "metadata": {},
   "outputs": [
    {
     "data": {
      "text/plain": [
       "count    148.000000\n",
       "mean       0.079778\n",
       "std        0.088486\n",
       "min        0.000000\n",
       "25%        0.000000\n",
       "50%        0.059412\n",
       "75%        0.119229\n",
       "max        0.423729\n",
       "Name: similarity, dtype: float64"
      ]
     },
     "execution_count": 94,
     "metadata": {},
     "output_type": "execute_result"
    }
   ],
   "source": [
    "stage3_bogota0_top = stage3_bogota0[stage3_bogota0['user2'].isin(df_g0_p3_top)]\n",
    "stage3_bogota0_top['similarity'].describe()"
   ]
  },
  {
   "cell_type": "code",
   "execution_count": 95,
   "id": "4635be81",
   "metadata": {},
   "outputs": [
    {
     "data": {
      "text/plain": [
       "['odprietoh', 'jdsolanos', 'yocuervoc', 'MogGy94']"
      ]
     },
     "execution_count": 95,
     "metadata": {},
     "output_type": "execute_result"
    }
   ],
   "source": [
    "df_g0_p3_bottom = df_g0_p3.nsmallest(4, ['total'])\n",
    "df_g0_p3_bottom = df_g0_p3_bottom.Student.tolist()\n",
    "df_g0_p3_bottom "
   ]
  },
  {
   "cell_type": "code",
   "execution_count": 96,
   "id": "c1b14714",
   "metadata": {},
   "outputs": [
    {
     "data": {
      "text/plain": [
       "count    148.000000\n",
       "mean       0.213208\n",
       "std        0.398821\n",
       "min        0.000000\n",
       "25%        0.000000\n",
       "50%        0.000000\n",
       "75%        0.061648\n",
       "max        1.000000\n",
       "Name: similarity, dtype: float64"
      ]
     },
     "execution_count": 96,
     "metadata": {},
     "output_type": "execute_result"
    }
   ],
   "source": [
    "stage3_bogota0_bottom = stage3_bogota0[stage3_bogota0['user2'].isin(df_g0_p3_bottom)]\n",
    "stage3_bogota0_bottom['similarity'].describe()"
   ]
  },
  {
   "cell_type": "markdown",
   "id": "cc3e2c79",
   "metadata": {},
   "source": [
    "## Stage 4"
   ]
  },
  {
   "cell_type": "code",
   "execution_count": 97,
   "id": "559d7c16",
   "metadata": {},
   "outputs": [
    {
     "data": {
      "text/plain": [
       "['lfvalderrama', 'Judgarciani', 'bsgarciac', 'Moimolcp']"
      ]
     },
     "execution_count": 97,
     "metadata": {},
     "output_type": "execute_result"
    }
   ],
   "source": [
    "df_g0_p4_top = df_g0_p4.nlargest(4, ['total'])\n",
    "df_g0_p4_top = df_g0_p4_top.Student.tolist()\n",
    "df_g0_p4_top"
   ]
  },
  {
   "cell_type": "code",
   "execution_count": 98,
   "id": "5c9b6545",
   "metadata": {},
   "outputs": [
    {
     "data": {
      "text/plain": [
       "count    148.000000\n",
       "mean       0.061542\n",
       "std        0.054639\n",
       "min        0.000000\n",
       "25%        0.000000\n",
       "50%        0.058347\n",
       "75%        0.092843\n",
       "max        0.279412\n",
       "Name: similarity, dtype: float64"
      ]
     },
     "execution_count": 98,
     "metadata": {},
     "output_type": "execute_result"
    }
   ],
   "source": [
    "stage4_bogota0_top = stage4_bogota0[stage4_bogota0['user2'].isin(df_g0_p4_top)]\n",
    "stage4_bogota0_top['similarity'].describe()"
   ]
  },
  {
   "cell_type": "code",
   "execution_count": 99,
   "id": "7c70a996",
   "metadata": {},
   "outputs": [
    {
     "data": {
      "text/plain": [
       "['annipi', 'jcneivaa', 'jdsolanos', 'odprietoh']"
      ]
     },
     "execution_count": 99,
     "metadata": {},
     "output_type": "execute_result"
    }
   ],
   "source": [
    "df_g0_p4_bottom = df_g0_p4.nsmallest(4, ['total'])\n",
    "df_g0_p4_bottom = df_g0_p4_bottom.Student.tolist()\n",
    "df_g0_p4_bottom "
   ]
  },
  {
   "cell_type": "code",
   "execution_count": 100,
   "id": "94fc0800",
   "metadata": {},
   "outputs": [
    {
     "data": {
      "text/plain": [
       "count    148.000000\n",
       "mean       0.192062\n",
       "std        0.383554\n",
       "min        0.000000\n",
       "25%        0.000000\n",
       "50%        0.000000\n",
       "75%        0.057658\n",
       "max        1.000000\n",
       "Name: similarity, dtype: float64"
      ]
     },
     "execution_count": 100,
     "metadata": {},
     "output_type": "execute_result"
    }
   ],
   "source": [
    "stage4_bogota0_bottom = stage4_bogota0[stage4_bogota0['user2'].isin(df_g0_p4_bottom)]\n",
    "stage4_bogota0_bottom['similarity'].describe()"
   ]
  },
  {
   "cell_type": "code",
   "execution_count": 101,
   "id": "90362c64",
   "metadata": {},
   "outputs": [
    {
     "name": "stdout",
     "output_type": "stream",
     "text": [
      "Stored 'df_g3_p1_top' (list)\n",
      "Stored 'df_g3_p1_bottom' (list)\n",
      "Stored 'df_g3_p2_top' (list)\n",
      "Stored 'df_g3_p2_bottom' (list)\n",
      "Stored 'df_g3_p3_top' (list)\n",
      "Stored 'df_g3_p3_bottom' (list)\n",
      "Stored 'df_g3_p4_top' (list)\n",
      "Stored 'df_g3_p4_bottom' (list)\n",
      "Stored 'df_g2_p1_top' (list)\n",
      "Stored 'df_g2_p1_bottom' (list)\n",
      "Stored 'df_g2_p2_top' (list)\n",
      "Stored 'df_g2_p2_bottom' (list)\n",
      "Stored 'df_g2_p3_top' (list)\n",
      "Stored 'df_g2_p3_bottom' (list)\n",
      "Stored 'df_g2_p4_top' (list)\n",
      "Stored 'df_g2_p4_bottom' (list)\n",
      "Stored 'df_g1_p1_top' (list)\n",
      "Stored 'df_g1_p1_bottom' (list)\n",
      "Stored 'df_g1_p2_top' (list)\n",
      "Stored 'df_g1_p2_bottom' (list)\n",
      "Stored 'df_g1_p3_top' (list)\n",
      "Stored 'df_g1_p3_bottom' (list)\n",
      "Stored 'df_g1_p4_top' (list)\n",
      "Stored 'df_g1_p4_bottom' (list)\n",
      "Stored 'df_g0_p1_top' (list)\n",
      "Stored 'df_g0_p1_bottom' (list)\n",
      "Stored 'df_g0_p2_top' (list)\n",
      "Stored 'df_g0_p2_bottom' (list)\n",
      "Stored 'df_g0_p3_top' (list)\n",
      "Stored 'df_g0_p3_bottom' (list)\n",
      "Stored 'df_g0_p4_top' (list)\n",
      "Stored 'df_g0_p4_bottom' (list)\n"
     ]
    }
   ],
   "source": [
    "%store df_g3_p1_top\n",
    "%store df_g3_p1_bottom\n",
    "%store df_g3_p2_top\n",
    "%store df_g3_p2_bottom\n",
    "%store df_g3_p3_top\n",
    "%store df_g3_p3_bottom\n",
    "%store df_g3_p4_top\n",
    "%store df_g3_p4_bottom\n",
    "\n",
    "%store df_g2_p1_top\n",
    "%store df_g2_p1_bottom\n",
    "%store df_g2_p2_top\n",
    "%store df_g2_p2_bottom\n",
    "%store df_g2_p3_top\n",
    "%store df_g2_p3_bottom\n",
    "%store df_g2_p4_top\n",
    "%store df_g2_p4_bottom\n",
    "\n",
    "%store df_g1_p1_top\n",
    "%store df_g1_p1_bottom\n",
    "%store df_g1_p2_top\n",
    "%store df_g1_p2_bottom\n",
    "%store df_g1_p3_top\n",
    "%store df_g1_p3_bottom\n",
    "%store df_g1_p4_top\n",
    "%store df_g1_p4_bottom\n",
    "\n",
    "%store df_g0_p1_top\n",
    "%store df_g0_p1_bottom\n",
    "%store df_g0_p2_top\n",
    "%store df_g0_p2_bottom\n",
    "%store df_g0_p3_top\n",
    "%store df_g0_p3_bottom\n",
    "%store df_g0_p4_top\n",
    "%store df_g0_p4_bottom"
   ]
  }
 ],
 "metadata": {
  "kernelspec": {
   "display_name": "Python 3 (ipykernel)",
   "language": "python",
   "name": "python3"
  },
  "language_info": {
   "codemirror_mode": {
    "name": "ipython",
    "version": 3
   },
   "file_extension": ".py",
   "mimetype": "text/x-python",
   "name": "python",
   "nbconvert_exporter": "python",
   "pygments_lexer": "ipython3",
   "version": "3.9.7"
  }
 },
 "nbformat": 4,
 "nbformat_minor": 5
}
