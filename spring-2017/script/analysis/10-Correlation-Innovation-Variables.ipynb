{
 "cells": [
  {
   "cell_type": "code",
   "execution_count": 1,
   "id": "7aea81d0",
   "metadata": {},
   "outputs": [],
   "source": [
    "# retrieved variables from distance search\n",
    "\n",
    "%store -r phase12_bogota0\n",
    "%store -r phase23_bogota0\n",
    "%store -r phase34_bogota0\n",
    "%store -r phase45_bogota0\n",
    "\n",
    "%store -r phase12_bogota1\n",
    "%store -r phase23_bogota1\n",
    "%store -r phase34_bogota1\n",
    "%store -r phase45_bogota1\n",
    "\n",
    "%store -r phase12_bogota2\n",
    "%store -r phase23_bogota2\n",
    "%store -r phase34_bogota2\n",
    "%store -r phase45_bogota2\n",
    "\n",
    "%store -r phase12_bogota3\n",
    "%store -r phase23_bogota3\n",
    "%store -r phase34_bogota3\n",
    "%store -r phase45_bogota3"
   ]
  },
  {
   "cell_type": "code",
   "execution_count": 2,
   "id": "db77d6a1",
   "metadata": {},
   "outputs": [],
   "source": [
    "# retrived variables from relational novelty\n",
    "\n",
    "%store -r stage1_bogota0_high_similarity\n",
    "%store -r stage1_bogota1_high_similarity\n",
    "%store -r stage1_bogota2_high_similarity\n",
    "%store -r stage1_bogota3_high_similarity\n",
    "\n",
    "%store -r stage2_bogota0_high_similarity\n",
    "%store -r stage2_bogota1_high_similarity\n",
    "%store -r stage2_bogota2_high_similarity\n",
    "%store -r stage2_bogota3_high_similarity\n",
    "\n",
    "%store -r stage3_bogota0_high_similarity\n",
    "%store -r stage3_bogota1_high_similarity\n",
    "%store -r stage3_bogota2_high_similarity\n",
    "%store -r stage3_bogota3_high_similarity\n",
    "\n",
    "%store -r stage4_bogota0_high_similarity\n",
    "%store -r stage4_bogota1_high_similarity\n",
    "%store -r stage4_bogota2_high_similarity\n",
    "%store -r stage4_bogota3_high_similarity"
   ]
  },
  {
   "cell_type": "code",
   "execution_count": 3,
   "id": "b6eb7980",
   "metadata": {},
   "outputs": [],
   "source": [
    "import pandas as pd\n",
    "import numpy as np\n",
    "from scipy import stats\n",
    "import matplotlib.pyplot as plt\n",
    "import seaborn as sns"
   ]
  },
  {
   "cell_type": "code",
   "execution_count": 4,
   "id": "2e5aa6d2",
   "metadata": {},
   "outputs": [],
   "source": [
    "stage1_bogota0_high_similarity = stage1_bogota0_high_similarity.rename(columns={'similarity': 's1-high-sim'})\n",
    "stage2_bogota0_high_similarity = stage2_bogota0_high_similarity.rename(columns={'similarity': 's2-high-sim'})\n",
    "stage3_bogota0_high_similarity = stage3_bogota0_high_similarity.rename(columns={'similarity': 's3-high-sim'})\n",
    "stage4_bogota0_high_similarity = stage4_bogota0_high_similarity.rename(columns={'similarity': 's4-high-sim'})\n",
    "\n"
   ]
  },
  {
   "cell_type": "code",
   "execution_count": 15,
   "id": "38043cdd",
   "metadata": {},
   "outputs": [],
   "source": [
    "phase12_bogota0.rename(columns={'similarity': 's1-ind-dist'}, inplace=True)\n",
    "phase23_bogota0.rename(columns={'similarity': 's2-ind-dist'}, inplace=True)\n",
    "phase34_bogota0.rename(columns={'similarity': 's3-ind-dist'}, inplace=True)\n",
    "phase45_bogota0.rename(columns={'similarity': 's4-ind-dist'}, inplace=True)"
   ]
  },
  {
   "cell_type": "code",
   "execution_count": 16,
   "id": "a4f3e03b",
   "metadata": {},
   "outputs": [],
   "source": [
    "df = pd.concat([stage1_bogota0_high_similarity['s1-high-sim'], stage2_bogota0_high_similarity['s2-high-sim'], stage3_bogota0_high_similarity['s3-high-sim'], stage4_bogota0_high_similarity['s4-high-sim'], phase12_bogota0['s1-ind-dist'], phase23_bogota0['s2-ind-dist'], phase34_bogota0['s3-ind-dist'], phase45_bogota0['s4-ind-dist']], axis=1)\n"
   ]
  },
  {
   "cell_type": "code",
   "execution_count": 23,
   "id": "f6e92540",
   "metadata": {},
   "outputs": [],
   "source": [
    "def corr_sig(df=None):\n",
    "    p_matrix = np.zeros(shape=(df.shape[1],df.shape[1]))\n",
    "    for col in df.columns:\n",
    "        for col2 in df.drop(col,axis=1).columns:\n",
    "            _ , p = stats.pearsonr(df[col],df[col2])\n",
    "            p_matrix[df.columns.to_list().index(col),df.columns.to_list().index(col2)] = p\n",
    "    return p_matrix\n",
    "\n",
    "\n",
    "def plot_cor_matrix(corr, mask=None):\n",
    "    f, ax = plt.subplots(figsize=(18, 16))\n",
    "    sns.heatmap(corr, ax=ax,\n",
    "                mask=mask,\n",
    "                # cosmetics\n",
    "                annot=True, vmin=-1, vmax=1, center=0,\n",
    "                cmap='coolwarm', linewidths=2, linecolor='black', cbar_kws={'orientation': 'horizontal'})"
   ]
  },
  {
   "cell_type": "code",
   "execution_count": 24,
   "id": "db80fa20",
   "metadata": {
    "scrolled": false
   },
   "outputs": [
    {
     "ename": "ValueError",
     "evalue": "array must not contain infs or NaNs",
     "output_type": "error",
     "traceback": [
      "\u001b[0;31m---------------------------------------------------------------------------\u001b[0m",
      "\u001b[0;31mValueError\u001b[0m                                Traceback (most recent call last)",
      "Input \u001b[0;32mIn [24]\u001b[0m, in \u001b[0;36m<cell line: 2>\u001b[0;34m()\u001b[0m\n\u001b[1;32m      1\u001b[0m corr \u001b[38;5;241m=\u001b[39m df\u001b[38;5;241m.\u001b[39mcorr(method\u001b[38;5;241m=\u001b[39m\u001b[38;5;124m'\u001b[39m\u001b[38;5;124mspearman\u001b[39m\u001b[38;5;124m'\u001b[39m)                            \u001b[38;5;66;03m# get correlation\u001b[39;00m\n\u001b[0;32m----> 2\u001b[0m p_values \u001b[38;5;241m=\u001b[39m \u001b[43mcorr_sig\u001b[49m\u001b[43m(\u001b[49m\u001b[43mdf\u001b[49m\u001b[43m)\u001b[49m                     \u001b[38;5;66;03m# get p-Value\u001b[39;00m\n\u001b[1;32m      3\u001b[0m mask \u001b[38;5;241m=\u001b[39m np\u001b[38;5;241m.\u001b[39minvert(np\u001b[38;5;241m.\u001b[39mtril(p_values\u001b[38;5;241m<\u001b[39m\u001b[38;5;241m0.05\u001b[39m))    \u001b[38;5;66;03m# mask - only get significant corr\u001b[39;00m\n\u001b[1;32m      4\u001b[0m plot_cor_matrix(corr,mask)\n",
      "Input \u001b[0;32mIn [23]\u001b[0m, in \u001b[0;36mcorr_sig\u001b[0;34m(df)\u001b[0m\n\u001b[1;32m      3\u001b[0m \u001b[38;5;28;01mfor\u001b[39;00m col \u001b[38;5;129;01min\u001b[39;00m df\u001b[38;5;241m.\u001b[39mcolumns:\n\u001b[1;32m      4\u001b[0m     \u001b[38;5;28;01mfor\u001b[39;00m col2 \u001b[38;5;129;01min\u001b[39;00m df\u001b[38;5;241m.\u001b[39mdrop(col,axis\u001b[38;5;241m=\u001b[39m\u001b[38;5;241m1\u001b[39m)\u001b[38;5;241m.\u001b[39mcolumns:\n\u001b[0;32m----> 5\u001b[0m         _ , p \u001b[38;5;241m=\u001b[39m \u001b[43mstats\u001b[49m\u001b[38;5;241;43m.\u001b[39;49m\u001b[43mpearsonr\u001b[49m\u001b[43m(\u001b[49m\u001b[43mdf\u001b[49m\u001b[43m[\u001b[49m\u001b[43mcol\u001b[49m\u001b[43m]\u001b[49m\u001b[43m,\u001b[49m\u001b[43mdf\u001b[49m\u001b[43m[\u001b[49m\u001b[43mcol2\u001b[49m\u001b[43m]\u001b[49m\u001b[43m)\u001b[49m\n\u001b[1;32m      6\u001b[0m         p_matrix[df\u001b[38;5;241m.\u001b[39mcolumns\u001b[38;5;241m.\u001b[39mto_list()\u001b[38;5;241m.\u001b[39mindex(col),df\u001b[38;5;241m.\u001b[39mcolumns\u001b[38;5;241m.\u001b[39mto_list()\u001b[38;5;241m.\u001b[39mindex(col2)] \u001b[38;5;241m=\u001b[39m p\n\u001b[1;32m      7\u001b[0m \u001b[38;5;28;01mreturn\u001b[39;00m p_matrix\n",
      "File \u001b[0;32m~/Library/Python/3.8/lib/python/site-packages/scipy/stats/_stats_py.py:4090\u001b[0m, in \u001b[0;36mpearsonr\u001b[0;34m(x, y)\u001b[0m\n\u001b[1;32m   4085\u001b[0m ym \u001b[38;5;241m=\u001b[39m y\u001b[38;5;241m.\u001b[39mastype(dtype) \u001b[38;5;241m-\u001b[39m ymean\n\u001b[1;32m   4087\u001b[0m \u001b[38;5;66;03m# Unlike np.linalg.norm or the expression sqrt((xm*xm).sum()),\u001b[39;00m\n\u001b[1;32m   4088\u001b[0m \u001b[38;5;66;03m# scipy.linalg.norm(xm) does not overflow if xm is, for example,\u001b[39;00m\n\u001b[1;32m   4089\u001b[0m \u001b[38;5;66;03m# [-5e210, 5e210, 3e200, -3e200]\u001b[39;00m\n\u001b[0;32m-> 4090\u001b[0m normxm \u001b[38;5;241m=\u001b[39m \u001b[43mlinalg\u001b[49m\u001b[38;5;241;43m.\u001b[39;49m\u001b[43mnorm\u001b[49m\u001b[43m(\u001b[49m\u001b[43mxm\u001b[49m\u001b[43m)\u001b[49m\n\u001b[1;32m   4091\u001b[0m normym \u001b[38;5;241m=\u001b[39m linalg\u001b[38;5;241m.\u001b[39mnorm(ym)\n\u001b[1;32m   4093\u001b[0m threshold \u001b[38;5;241m=\u001b[39m \u001b[38;5;241m1e-13\u001b[39m\n",
      "File \u001b[0;32m~/Library/Python/3.8/lib/python/site-packages/scipy/linalg/_misc.py:145\u001b[0m, in \u001b[0;36mnorm\u001b[0;34m(a, ord, axis, keepdims, check_finite)\u001b[0m\n\u001b[1;32m    143\u001b[0m \u001b[38;5;66;03m# Differs from numpy only in non-finite handling and the use of blas.\u001b[39;00m\n\u001b[1;32m    144\u001b[0m \u001b[38;5;28;01mif\u001b[39;00m check_finite:\n\u001b[0;32m--> 145\u001b[0m     a \u001b[38;5;241m=\u001b[39m \u001b[43mnp\u001b[49m\u001b[38;5;241;43m.\u001b[39;49m\u001b[43masarray_chkfinite\u001b[49m\u001b[43m(\u001b[49m\u001b[43ma\u001b[49m\u001b[43m)\u001b[49m\n\u001b[1;32m    146\u001b[0m \u001b[38;5;28;01melse\u001b[39;00m:\n\u001b[1;32m    147\u001b[0m     a \u001b[38;5;241m=\u001b[39m np\u001b[38;5;241m.\u001b[39masarray(a)\n",
      "File \u001b[0;32m~/Library/Python/3.8/lib/python/site-packages/numpy/lib/function_base.py:603\u001b[0m, in \u001b[0;36masarray_chkfinite\u001b[0;34m(a, dtype, order)\u001b[0m\n\u001b[1;32m    601\u001b[0m a \u001b[38;5;241m=\u001b[39m asarray(a, dtype\u001b[38;5;241m=\u001b[39mdtype, order\u001b[38;5;241m=\u001b[39morder)\n\u001b[1;32m    602\u001b[0m \u001b[38;5;28;01mif\u001b[39;00m a\u001b[38;5;241m.\u001b[39mdtype\u001b[38;5;241m.\u001b[39mchar \u001b[38;5;129;01min\u001b[39;00m typecodes[\u001b[38;5;124m'\u001b[39m\u001b[38;5;124mAllFloat\u001b[39m\u001b[38;5;124m'\u001b[39m] \u001b[38;5;129;01mand\u001b[39;00m \u001b[38;5;129;01mnot\u001b[39;00m np\u001b[38;5;241m.\u001b[39misfinite(a)\u001b[38;5;241m.\u001b[39mall():\n\u001b[0;32m--> 603\u001b[0m     \u001b[38;5;28;01mraise\u001b[39;00m \u001b[38;5;167;01mValueError\u001b[39;00m(\n\u001b[1;32m    604\u001b[0m         \u001b[38;5;124m\"\u001b[39m\u001b[38;5;124marray must not contain infs or NaNs\u001b[39m\u001b[38;5;124m\"\u001b[39m)\n\u001b[1;32m    605\u001b[0m \u001b[38;5;28;01mreturn\u001b[39;00m a\n",
      "\u001b[0;31mValueError\u001b[0m: array must not contain infs or NaNs"
     ]
    }
   ],
   "source": [
    "corr = df.corr(method='spearman')                            # get correlation\n",
    "p_values = corr_sig(df)                     # get p-Value\n",
    "mask = np.invert(np.tril(p_values<0.05))    # mask - only get significant corr\n",
    "plot_cor_matrix(corr,mask)"
   ]
  },
  {
   "cell_type": "code",
   "execution_count": null,
   "id": "2d8361f8",
   "metadata": {},
   "outputs": [],
   "source": []
  },
  {
   "cell_type": "code",
   "execution_count": null,
   "id": "c836e3da",
   "metadata": {},
   "outputs": [],
   "source": []
  }
 ],
 "metadata": {
  "kernelspec": {
   "display_name": "Python 3 (ipykernel)",
   "language": "python",
   "name": "python3"
  },
  "language_info": {
   "codemirror_mode": {
    "name": "ipython",
    "version": 3
   },
   "file_extension": ".py",
   "mimetype": "text/x-python",
   "name": "python",
   "nbconvert_exporter": "python",
   "pygments_lexer": "ipython3",
   "version": "3.8.9"
  }
 },
 "nbformat": 4,
 "nbformat_minor": 5
}
