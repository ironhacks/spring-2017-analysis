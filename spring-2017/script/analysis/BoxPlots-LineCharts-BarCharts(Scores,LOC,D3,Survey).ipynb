{
 "cells": [
  {
   "cell_type": "markdown",
   "id": "aca39a30",
   "metadata": {},
   "source": [
    "## Box Plots and Line Charts (Scores, LOC, D3, Survey)"
   ]
  },
  {
   "cell_type": "markdown",
   "id": "9b89fb9c",
   "metadata": {},
   "source": [
    ">> Run correlation on overall improvement scores (Spearman Correlation)\n",
    "\n",
    ">> Run the correlations per subgroup - to see if the picture changes there.\n",
    "\n",
    ">> Examining the distribution of each metrics using histogram and normality test \n",
    "\n",
    "\n"
   ]
  },
  {
   "cell_type": "code",
   "execution_count": 1,
   "id": "5125bf3e",
   "metadata": {},
   "outputs": [],
   "source": [
    "# retrive variables stored in other Jupyter notebooks\n",
    "\n",
    "%store -r overall_loc_scores_final\n",
    "%store -r overall_loc_scores"
   ]
  },
  {
   "cell_type": "code",
   "execution_count": 2,
   "id": "b954edeb",
   "metadata": {},
   "outputs": [
    {
     "data": {
      "text/html": [
       "<div>\n",
       "<style scoped>\n",
       "    .dataframe tbody tr th:only-of-type {\n",
       "        vertical-align: middle;\n",
       "    }\n",
       "\n",
       "    .dataframe tbody tr th {\n",
       "        vertical-align: top;\n",
       "    }\n",
       "\n",
       "    .dataframe thead th {\n",
       "        text-align: right;\n",
       "    }\n",
       "</style>\n",
       "<table border=\"1\" class=\"dataframe\">\n",
       "  <thead>\n",
       "    <tr style=\"text-align: right;\">\n",
       "      <th></th>\n",
       "      <th>Q2_Q2_1</th>\n",
       "      <th>Q2_Q2_2</th>\n",
       "      <th>Q2_Q2_3</th>\n",
       "      <th>Q2_Q2_4</th>\n",
       "      <th>Q2_Q2_5</th>\n",
       "      <th>Q2_Q2_6</th>\n",
       "      <th>Q2_Q2_7</th>\n",
       "      <th>Q2_Q2_8</th>\n",
       "      <th>Q2_Q2_9</th>\n",
       "      <th>Q2_Q2_10</th>\n",
       "      <th>...</th>\n",
       "      <th>improve-tech-15</th>\n",
       "      <th>improve-ur-15</th>\n",
       "      <th>improve-vis-15</th>\n",
       "      <th>improve-novel-15</th>\n",
       "      <th>improve-total-15</th>\n",
       "      <th>improve-tech-45</th>\n",
       "      <th>improve-ur-45</th>\n",
       "      <th>improve-vis-45</th>\n",
       "      <th>improve-novel-45</th>\n",
       "      <th>improve-total-45</th>\n",
       "    </tr>\n",
       "  </thead>\n",
       "  <tbody>\n",
       "    <tr>\n",
       "      <th>0</th>\n",
       "      <td>6.0</td>\n",
       "      <td>4.0</td>\n",
       "      <td>5.0</td>\n",
       "      <td>1.0</td>\n",
       "      <td>2.0</td>\n",
       "      <td>5.0</td>\n",
       "      <td>6.0</td>\n",
       "      <td>4.0</td>\n",
       "      <td>5.0</td>\n",
       "      <td>3.0</td>\n",
       "      <td>...</td>\n",
       "      <td>50.0</td>\n",
       "      <td>0.0</td>\n",
       "      <td>0.00</td>\n",
       "      <td>50.00</td>\n",
       "      <td>100.00</td>\n",
       "      <td>0.0</td>\n",
       "      <td>0.0</td>\n",
       "      <td>0.00</td>\n",
       "      <td>6.25</td>\n",
       "      <td>6.25</td>\n",
       "    </tr>\n",
       "    <tr>\n",
       "      <th>1</th>\n",
       "      <td>1.0</td>\n",
       "      <td>3.0</td>\n",
       "      <td>5.0</td>\n",
       "      <td>2.0</td>\n",
       "      <td>2.0</td>\n",
       "      <td>3.0</td>\n",
       "      <td>5.0</td>\n",
       "      <td>4.0</td>\n",
       "      <td>1.0</td>\n",
       "      <td>2.0</td>\n",
       "      <td>...</td>\n",
       "      <td>0.0</td>\n",
       "      <td>60.0</td>\n",
       "      <td>75.00</td>\n",
       "      <td>67.50</td>\n",
       "      <td>202.50</td>\n",
       "      <td>0.0</td>\n",
       "      <td>40.0</td>\n",
       "      <td>37.50</td>\n",
       "      <td>-32.50</td>\n",
       "      <td>45.00</td>\n",
       "    </tr>\n",
       "    <tr>\n",
       "      <th>2</th>\n",
       "      <td>4.0</td>\n",
       "      <td>6.0</td>\n",
       "      <td>4.0</td>\n",
       "      <td>3.0</td>\n",
       "      <td>5.0</td>\n",
       "      <td>6.0</td>\n",
       "      <td>5.0</td>\n",
       "      <td>5.0</td>\n",
       "      <td>6.0</td>\n",
       "      <td>6.0</td>\n",
       "      <td>...</td>\n",
       "      <td>25.0</td>\n",
       "      <td>100.0</td>\n",
       "      <td>54.17</td>\n",
       "      <td>25.00</td>\n",
       "      <td>204.17</td>\n",
       "      <td>12.5</td>\n",
       "      <td>0.0</td>\n",
       "      <td>-4.16</td>\n",
       "      <td>25.00</td>\n",
       "      <td>33.34</td>\n",
       "    </tr>\n",
       "    <tr>\n",
       "      <th>3</th>\n",
       "      <td>4.0</td>\n",
       "      <td>5.0</td>\n",
       "      <td>6.0</td>\n",
       "      <td>4.0</td>\n",
       "      <td>5.0</td>\n",
       "      <td>6.0</td>\n",
       "      <td>6.0</td>\n",
       "      <td>4.0</td>\n",
       "      <td>4.0</td>\n",
       "      <td>6.0</td>\n",
       "      <td>...</td>\n",
       "      <td>62.5</td>\n",
       "      <td>20.0</td>\n",
       "      <td>37.50</td>\n",
       "      <td>16.67</td>\n",
       "      <td>136.67</td>\n",
       "      <td>25.0</td>\n",
       "      <td>0.0</td>\n",
       "      <td>-8.33</td>\n",
       "      <td>-8.33</td>\n",
       "      <td>8.34</td>\n",
       "    </tr>\n",
       "    <tr>\n",
       "      <th>4</th>\n",
       "      <td>3.0</td>\n",
       "      <td>5.0</td>\n",
       "      <td>4.0</td>\n",
       "      <td>4.0</td>\n",
       "      <td>2.0</td>\n",
       "      <td>5.0</td>\n",
       "      <td>4.0</td>\n",
       "      <td>0.0</td>\n",
       "      <td>2.0</td>\n",
       "      <td>5.0</td>\n",
       "      <td>...</td>\n",
       "      <td>50.0</td>\n",
       "      <td>60.0</td>\n",
       "      <td>58.33</td>\n",
       "      <td>87.50</td>\n",
       "      <td>255.83</td>\n",
       "      <td>12.5</td>\n",
       "      <td>20.0</td>\n",
       "      <td>4.16</td>\n",
       "      <td>87.50</td>\n",
       "      <td>124.16</td>\n",
       "    </tr>\n",
       "  </tbody>\n",
       "</table>\n",
       "<p>5 rows × 45 columns</p>\n",
       "</div>"
      ],
      "text/plain": [
       "   Q2_Q2_1  Q2_Q2_2  Q2_Q2_3  Q2_Q2_4  Q2_Q2_5  Q2_Q2_6  Q2_Q2_7  Q2_Q2_8  \\\n",
       "0      6.0      4.0      5.0      1.0      2.0      5.0      6.0      4.0   \n",
       "1      1.0      3.0      5.0      2.0      2.0      3.0      5.0      4.0   \n",
       "2      4.0      6.0      4.0      3.0      5.0      6.0      5.0      5.0   \n",
       "3      4.0      5.0      6.0      4.0      5.0      6.0      6.0      4.0   \n",
       "4      3.0      5.0      4.0      4.0      2.0      5.0      4.0      0.0   \n",
       "\n",
       "   Q2_Q2_9  Q2_Q2_10  ...  improve-tech-15  improve-ur-15  improve-vis-15  \\\n",
       "0      5.0       3.0  ...             50.0            0.0            0.00   \n",
       "1      1.0       2.0  ...              0.0           60.0           75.00   \n",
       "2      6.0       6.0  ...             25.0          100.0           54.17   \n",
       "3      4.0       6.0  ...             62.5           20.0           37.50   \n",
       "4      2.0       5.0  ...             50.0           60.0           58.33   \n",
       "\n",
       "   improve-novel-15  improve-total-15  improve-tech-45  improve-ur-45  \\\n",
       "0             50.00            100.00              0.0            0.0   \n",
       "1             67.50            202.50              0.0           40.0   \n",
       "2             25.00            204.17             12.5            0.0   \n",
       "3             16.67            136.67             25.0            0.0   \n",
       "4             87.50            255.83             12.5           20.0   \n",
       "\n",
       "   improve-vis-45  improve-novel-45  improve-total-45  \n",
       "0            0.00              6.25              6.25  \n",
       "1           37.50            -32.50             45.00  \n",
       "2           -4.16             25.00             33.34  \n",
       "3           -8.33             -8.33              8.34  \n",
       "4            4.16             87.50            124.16  \n",
       "\n",
       "[5 rows x 45 columns]"
      ]
     },
     "execution_count": 2,
     "metadata": {},
     "output_type": "execute_result"
    }
   ],
   "source": [
    "survey = overall_loc_scores_final[['Q2_Q2_1', 'Q2_Q2_2', 'Q2_Q2_3', \n",
    "                                   'Q2_Q2_4', 'Q2_Q2_5', 'Q2_Q2_6', \n",
    "                                   'Q2_Q2_7', 'Q2_Q2_8', 'Q2_Q2_9', \n",
    "                                   'Q2_Q2_10', 'Q2_Q2_11', 'Q2_Q2_12', \n",
    "                                   'Q2_Q2_13', 'Q3_Q3_1', 'Q3_Q3_2', 'Q3_Q3_3', 'Q3_Q3_4', 'Q3_Q3_5','Q4_Q4_1', 'Q4_Q4_2', 'Q4_Q4_3', 'Q4_Q4_4', 'Q4_Q4_5', 'Q5_Q5_1', 'Q5_Q5_2', 'Q5_Q5_3', 'Q5_Q5_4', 'Q5_Q5_5', 'Q7_Q7_1',\n",
    "                                   'Q7_Q7_2', 'Q7_Q7_3', 'Q7_Q7_4', 'Q8_Q8_1', 'Q8_Q8_2','Q10','improve-tech-15','improve-ur-15','improve-vis-15', 'improve-novel-15', 'improve-total-15', 'improve-tech-45','improve-ur-45','improve-vis-45', 'improve-novel-45', 'improve-total-45'\n",
    "                                ]]\n",
    "\n",
    "\n",
    "survey.head(5)\n",
    "\n",
    "\n",
    "\n"
   ]
  },
  {
   "cell_type": "code",
   "execution_count": 3,
   "id": "2e4e0b8b",
   "metadata": {},
   "outputs": [],
   "source": [
    "bogota_0_survey = overall_loc_scores_final[overall_loc_scores_final['Group'].isin([0])]\n",
    "survey0 = bogota_0_survey[['Q2_Q2_1', 'Q2_Q2_2', 'Q2_Q2_3', \n",
    "                                   'Q2_Q2_4', 'Q2_Q2_5', 'Q2_Q2_6', \n",
    "                                   'Q2_Q2_7', 'Q2_Q2_8', 'Q2_Q2_9', \n",
    "                                   'Q2_Q2_10', 'Q2_Q2_11', 'Q2_Q2_12', \n",
    "                                   'Q2_Q2_13', 'Q3_Q3_1', 'Q3_Q3_2', 'Q3_Q3_3', 'Q3_Q3_4', 'Q3_Q3_5','Q4_Q4_1', 'Q4_Q4_2', 'Q4_Q4_3', 'Q4_Q4_4', 'Q4_Q4_5', 'Q5_Q5_1', 'Q5_Q5_2', 'Q5_Q5_3', 'Q5_Q5_4', 'Q5_Q5_5', 'Q7_Q7_1',\n",
    "                                   'Q7_Q7_2', 'Q7_Q7_3', 'Q7_Q7_4', 'Q8_Q8_1', 'Q8_Q8_2','Q10','improve-tech-15','improve-ur-15','improve-vis-15', 'improve-novel-15', 'improve-total-15', 'improve-tech-45','improve-ur-45','improve-vis-45', 'improve-novel-45', 'improve-total-45'\n",
    "                                ]]\n",
    "\n",
    "\n"
   ]
  },
  {
   "cell_type": "code",
   "execution_count": 4,
   "id": "52c7783b",
   "metadata": {},
   "outputs": [],
   "source": [
    "bogota_1_survey = overall_loc_scores_final[overall_loc_scores_final['Group'].isin([1])]\n",
    "survey1 = bogota_1_survey[['Q2_Q2_1', 'Q2_Q2_2', 'Q2_Q2_3', \n",
    "                                   'Q2_Q2_4', 'Q2_Q2_5', 'Q2_Q2_6', \n",
    "                                   'Q2_Q2_7', 'Q2_Q2_8', 'Q2_Q2_9', \n",
    "                                   'Q2_Q2_10', 'Q2_Q2_11', 'Q2_Q2_12', \n",
    "                                   'Q2_Q2_13', 'Q3_Q3_1', 'Q3_Q3_2', 'Q3_Q3_3', 'Q3_Q3_4', 'Q3_Q3_5','Q4_Q4_1', 'Q4_Q4_2', 'Q4_Q4_3', 'Q4_Q4_4', 'Q4_Q4_5', 'Q5_Q5_1', 'Q5_Q5_2', 'Q5_Q5_3', 'Q5_Q5_4', 'Q5_Q5_5', 'Q7_Q7_1',\n",
    "                                   'Q7_Q7_2', 'Q7_Q7_3', 'Q7_Q7_4', 'Q8_Q8_1', 'Q8_Q8_2','Q10','improve-tech-15','improve-ur-15','improve-vis-15', 'improve-novel-15', 'improve-total-15', 'improve-tech-45','improve-ur-45','improve-vis-45', 'improve-novel-45', 'improve-total-45'\n",
    "                                ]]"
   ]
  },
  {
   "cell_type": "code",
   "execution_count": 5,
   "id": "4951e5a1",
   "metadata": {},
   "outputs": [],
   "source": [
    "bogota_2_survey = overall_loc_scores_final[overall_loc_scores_final['Group'].isin([2])]\n",
    "survey2 = bogota_2_survey[['Q2_Q2_1', 'Q2_Q2_2', 'Q2_Q2_3', \n",
    "                                   'Q2_Q2_4', 'Q2_Q2_5', 'Q2_Q2_6', \n",
    "                                   'Q2_Q2_7', 'Q2_Q2_8', 'Q2_Q2_9', \n",
    "                                   'Q2_Q2_10', 'Q2_Q2_11', 'Q2_Q2_12', \n",
    "                                   'Q2_Q2_13', 'Q3_Q3_1', 'Q3_Q3_2', 'Q3_Q3_3', 'Q3_Q3_4', 'Q3_Q3_5','Q4_Q4_1', 'Q4_Q4_2', 'Q4_Q4_3', 'Q4_Q4_4', 'Q4_Q4_5', 'Q5_Q5_1', 'Q5_Q5_2', 'Q5_Q5_3', 'Q5_Q5_4', 'Q5_Q5_5', 'Q7_Q7_1',\n",
    "                                   'Q7_Q7_2', 'Q7_Q7_3', 'Q7_Q7_4', 'Q8_Q8_1', 'Q8_Q8_2','Q10','improve-tech-15','improve-ur-15','improve-vis-15', 'improve-novel-15', 'improve-total-15', 'improve-tech-45','improve-ur-45','improve-vis-45', 'improve-novel-45', 'improve-total-45'\n",
    "                                ]]"
   ]
  },
  {
   "cell_type": "code",
   "execution_count": 6,
   "id": "fee4d129",
   "metadata": {},
   "outputs": [],
   "source": [
    "bogota_3_survey = overall_loc_scores_final[overall_loc_scores_final['Group'].isin([3])]\n",
    "survey3 = bogota_3_survey[['Q2_Q2_1', 'Q2_Q2_2', 'Q2_Q2_3', \n",
    "                                   'Q2_Q2_4', 'Q2_Q2_5', 'Q2_Q2_6', \n",
    "                                   'Q2_Q2_7', 'Q2_Q2_8', 'Q2_Q2_9', \n",
    "                                   'Q2_Q2_10', 'Q2_Q2_11', 'Q2_Q2_12', \n",
    "                                   'Q2_Q2_13', 'Q3_Q3_1', 'Q3_Q3_2', 'Q3_Q3_3', 'Q3_Q3_4', 'Q3_Q3_5','Q4_Q4_1', 'Q4_Q4_2', 'Q4_Q4_3', 'Q4_Q4_4', 'Q4_Q4_5', 'Q5_Q5_1', 'Q5_Q5_2', 'Q5_Q5_3', 'Q5_Q5_4', 'Q5_Q5_5', 'Q7_Q7_1',\n",
    "                                   'Q7_Q7_2', 'Q7_Q7_3', 'Q7_Q7_4', 'Q8_Q8_1', 'Q8_Q8_2','Q10','improve-tech-15','improve-ur-15','improve-vis-15', 'improve-novel-15', 'improve-total-15', 'improve-tech-45','improve-ur-45','improve-vis-45', 'improve-novel-45', 'improve-total-45'\n",
    "                                ]]"
   ]
  },
  {
   "cell_type": "markdown",
   "id": "9bb28237",
   "metadata": {},
   "source": [
    "## improve-tech-15 Box Plot"
   ]
  },
  {
   "cell_type": "code",
   "execution_count": 7,
   "id": "e3f71605",
   "metadata": {},
   "outputs": [
    {
     "data": {
      "image/png": "[encoded data removed]",
      "text/plain": [
       "<Figure size 432x288 with 1 Axes>"
      ]
     },
     "metadata": {
      "needs_background": "light"
     },
     "output_type": "display_data"
    }
   ],
   "source": [
    "import matplotlib.pyplot as plt\n",
    "import seaborn as sns\n",
    "ax = sns.boxplot(x='Group', y='improve-tech-15', data=overall_loc_scores_final, color='#99c2a2')\n",
    "ax = sns.swarmplot(x=\"Group\", y=\"improve-tech-15\", data=overall_loc_scores_final, color='#7d0013')\n",
    "plt.show()"
   ]
  },
  {
   "cell_type": "markdown",
   "id": "69f7b25b",
   "metadata": {},
   "source": [
    ">> Note: We want to have the linechart for each subgroups,   \n",
    "   x-axis is the phases, \n",
    "   y-axis is the raw tech score, \n",
    "   legend we will have the groups   \n",
    "   Interpretation: The 2 transparency conditions\n",
    "   (2) and (3) seems to be improving more on tech. The median is higher. "
   ]
  },
  {
   "cell_type": "code",
   "execution_count": 8,
   "id": "ae39370a",
   "metadata": {},
   "outputs": [
    {
     "data": {
      "text/html": [
       "<div>\n",
       "<style scoped>\n",
       "    .dataframe tbody tr th:only-of-type {\n",
       "        vertical-align: middle;\n",
       "    }\n",
       "\n",
       "    .dataframe tbody tr th {\n",
       "        vertical-align: top;\n",
       "    }\n",
       "\n",
       "    .dataframe thead th {\n",
       "        text-align: right;\n",
       "    }\n",
       "</style>\n",
       "<table border=\"1\" class=\"dataframe\">\n",
       "  <thead>\n",
       "    <tr style=\"text-align: right;\">\n",
       "      <th></th>\n",
       "      <th>Group</th>\n",
       "      <th>tech-phase1</th>\n",
       "    </tr>\n",
       "  </thead>\n",
       "  <tbody>\n",
       "    <tr>\n",
       "      <th>0</th>\n",
       "      <td>0.0</td>\n",
       "      <td>26.162791</td>\n",
       "    </tr>\n",
       "    <tr>\n",
       "      <th>1</th>\n",
       "      <td>1.0</td>\n",
       "      <td>40.476190</td>\n",
       "    </tr>\n",
       "    <tr>\n",
       "      <th>2</th>\n",
       "      <td>2.0</td>\n",
       "      <td>33.333333</td>\n",
       "    </tr>\n",
       "    <tr>\n",
       "      <th>3</th>\n",
       "      <td>3.0</td>\n",
       "      <td>36.585366</td>\n",
       "    </tr>\n",
       "  </tbody>\n",
       "</table>\n",
       "</div>"
      ],
      "text/plain": [
       "   Group  tech-phase1\n",
       "0    0.0    26.162791\n",
       "1    1.0    40.476190\n",
       "2    2.0    33.333333\n",
       "3    3.0    36.585366"
      ]
     },
     "execution_count": 8,
     "metadata": {},
     "output_type": "execute_result"
    }
   ],
   "source": [
    "overall_loc_scores_final.groupby('Group', as_index=False)['tech-phase1'].mean()"
   ]
  },
  {
   "cell_type": "code",
   "execution_count": 9,
   "id": "7c9f1098",
   "metadata": {},
   "outputs": [
    {
     "data": {
      "text/html": [
       "<div>\n",
       "<style scoped>\n",
       "    .dataframe tbody tr th:only-of-type {\n",
       "        vertical-align: middle;\n",
       "    }\n",
       "\n",
       "    .dataframe tbody tr th {\n",
       "        vertical-align: top;\n",
       "    }\n",
       "\n",
       "    .dataframe thead th {\n",
       "        text-align: right;\n",
       "    }\n",
       "</style>\n",
       "<table border=\"1\" class=\"dataframe\">\n",
       "  <thead>\n",
       "    <tr style=\"text-align: right;\">\n",
       "      <th></th>\n",
       "      <th>Group</th>\n",
       "      <th>tech-phase2</th>\n",
       "    </tr>\n",
       "  </thead>\n",
       "  <tbody>\n",
       "    <tr>\n",
       "      <th>0</th>\n",
       "      <td>0.0</td>\n",
       "      <td>41.860465</td>\n",
       "    </tr>\n",
       "    <tr>\n",
       "      <th>1</th>\n",
       "      <td>1.0</td>\n",
       "      <td>58.333333</td>\n",
       "    </tr>\n",
       "    <tr>\n",
       "      <th>2</th>\n",
       "      <td>2.0</td>\n",
       "      <td>56.845238</td>\n",
       "    </tr>\n",
       "    <tr>\n",
       "      <th>3</th>\n",
       "      <td>3.0</td>\n",
       "      <td>60.365854</td>\n",
       "    </tr>\n",
       "  </tbody>\n",
       "</table>\n",
       "</div>"
      ],
      "text/plain": [
       "   Group  tech-phase2\n",
       "0    0.0    41.860465\n",
       "1    1.0    58.333333\n",
       "2    2.0    56.845238\n",
       "3    3.0    60.365854"
      ]
     },
     "execution_count": 9,
     "metadata": {},
     "output_type": "execute_result"
    }
   ],
   "source": [
    "overall_loc_scores_final.groupby('Group', as_index=False)['tech-phase2'].mean()"
   ]
  },
  {
   "cell_type": "code",
   "execution_count": 10,
   "id": "958c2287",
   "metadata": {},
   "outputs": [
    {
     "data": {
      "text/html": [
       "<div>\n",
       "<style scoped>\n",
       "    .dataframe tbody tr th:only-of-type {\n",
       "        vertical-align: middle;\n",
       "    }\n",
       "\n",
       "    .dataframe tbody tr th {\n",
       "        vertical-align: top;\n",
       "    }\n",
       "\n",
       "    .dataframe thead th {\n",
       "        text-align: right;\n",
       "    }\n",
       "</style>\n",
       "<table border=\"1\" class=\"dataframe\">\n",
       "  <thead>\n",
       "    <tr style=\"text-align: right;\">\n",
       "      <th></th>\n",
       "      <th>Group</th>\n",
       "      <th>tech-phase3</th>\n",
       "    </tr>\n",
       "  </thead>\n",
       "  <tbody>\n",
       "    <tr>\n",
       "      <th>0</th>\n",
       "      <td>0.0</td>\n",
       "      <td>39.534884</td>\n",
       "    </tr>\n",
       "    <tr>\n",
       "      <th>1</th>\n",
       "      <td>1.0</td>\n",
       "      <td>57.440476</td>\n",
       "    </tr>\n",
       "    <tr>\n",
       "      <th>2</th>\n",
       "      <td>2.0</td>\n",
       "      <td>55.285714</td>\n",
       "    </tr>\n",
       "    <tr>\n",
       "      <th>3</th>\n",
       "      <td>3.0</td>\n",
       "      <td>60.060976</td>\n",
       "    </tr>\n",
       "  </tbody>\n",
       "</table>\n",
       "</div>"
      ],
      "text/plain": [
       "   Group  tech-phase3\n",
       "0    0.0    39.534884\n",
       "1    1.0    57.440476\n",
       "2    2.0    55.285714\n",
       "3    3.0    60.060976"
      ]
     },
     "execution_count": 10,
     "metadata": {},
     "output_type": "execute_result"
    }
   ],
   "source": [
    "overall_loc_scores_final.groupby('Group', as_index=False)['tech-phase3'].mean()"
   ]
  },
  {
   "cell_type": "code",
   "execution_count": 11,
   "id": "e5aed2f4",
   "metadata": {},
   "outputs": [
    {
     "data": {
      "text/html": [
       "<div>\n",
       "<style scoped>\n",
       "    .dataframe tbody tr th:only-of-type {\n",
       "        vertical-align: middle;\n",
       "    }\n",
       "\n",
       "    .dataframe tbody tr th {\n",
       "        vertical-align: top;\n",
       "    }\n",
       "\n",
       "    .dataframe thead th {\n",
       "        text-align: right;\n",
       "    }\n",
       "</style>\n",
       "<table border=\"1\" class=\"dataframe\">\n",
       "  <thead>\n",
       "    <tr style=\"text-align: right;\">\n",
       "      <th></th>\n",
       "      <th>Group</th>\n",
       "      <th>tech-phase4</th>\n",
       "    </tr>\n",
       "  </thead>\n",
       "  <tbody>\n",
       "    <tr>\n",
       "      <th>0</th>\n",
       "      <td>0.0</td>\n",
       "      <td>43.313953</td>\n",
       "    </tr>\n",
       "    <tr>\n",
       "      <th>1</th>\n",
       "      <td>1.0</td>\n",
       "      <td>61.607143</td>\n",
       "    </tr>\n",
       "    <tr>\n",
       "      <th>2</th>\n",
       "      <td>2.0</td>\n",
       "      <td>56.250000</td>\n",
       "    </tr>\n",
       "    <tr>\n",
       "      <th>3</th>\n",
       "      <td>3.0</td>\n",
       "      <td>64.634146</td>\n",
       "    </tr>\n",
       "  </tbody>\n",
       "</table>\n",
       "</div>"
      ],
      "text/plain": [
       "   Group  tech-phase4\n",
       "0    0.0    43.313953\n",
       "1    1.0    61.607143\n",
       "2    2.0    56.250000\n",
       "3    3.0    64.634146"
      ]
     },
     "execution_count": 11,
     "metadata": {},
     "output_type": "execute_result"
    }
   ],
   "source": [
    "overall_loc_scores_final.groupby('Group', as_index=False)['tech-phase4'].mean()"
   ]
  },
  {
   "cell_type": "code",
   "execution_count": 12,
   "id": "29cd3c65",
   "metadata": {},
   "outputs": [
    {
     "data": {
      "text/html": [
       "<div>\n",
       "<style scoped>\n",
       "    .dataframe tbody tr th:only-of-type {\n",
       "        vertical-align: middle;\n",
       "    }\n",
       "\n",
       "    .dataframe tbody tr th {\n",
       "        vertical-align: top;\n",
       "    }\n",
       "\n",
       "    .dataframe thead th {\n",
       "        text-align: right;\n",
       "    }\n",
       "</style>\n",
       "<table border=\"1\" class=\"dataframe\">\n",
       "  <thead>\n",
       "    <tr style=\"text-align: right;\">\n",
       "      <th></th>\n",
       "      <th>Group</th>\n",
       "      <th>tech-phase5</th>\n",
       "    </tr>\n",
       "  </thead>\n",
       "  <tbody>\n",
       "    <tr>\n",
       "      <th>0</th>\n",
       "      <td>0.0</td>\n",
       "      <td>49.709302</td>\n",
       "    </tr>\n",
       "    <tr>\n",
       "      <th>1</th>\n",
       "      <td>1.0</td>\n",
       "      <td>64.880952</td>\n",
       "    </tr>\n",
       "    <tr>\n",
       "      <th>2</th>\n",
       "      <td>2.0</td>\n",
       "      <td>69.940476</td>\n",
       "    </tr>\n",
       "    <tr>\n",
       "      <th>3</th>\n",
       "      <td>3.0</td>\n",
       "      <td>73.780488</td>\n",
       "    </tr>\n",
       "  </tbody>\n",
       "</table>\n",
       "</div>"
      ],
      "text/plain": [
       "   Group  tech-phase5\n",
       "0    0.0    49.709302\n",
       "1    1.0    64.880952\n",
       "2    2.0    69.940476\n",
       "3    3.0    73.780488"
      ]
     },
     "execution_count": 12,
     "metadata": {},
     "output_type": "execute_result"
    }
   ],
   "source": [
    "overall_loc_scores_final.groupby('Group', as_index=False)['tech-phase5'].mean()"
   ]
  },
  {
   "cell_type": "markdown",
   "id": "3556b6c5",
   "metadata": {},
   "source": [
    "## improve-tech-15 line charts\n"
   ]
  },
  {
   "cell_type": "code",
   "execution_count": 13,
   "id": "3635bdb0",
   "metadata": {},
   "outputs": [
    {
     "data": {
      "text/plain": [
       "<matplotlib.legend.Legend at 0x7f8bd9485b20>"
      ]
     },
     "execution_count": 13,
     "metadata": {},
     "output_type": "execute_result"
    },
    {
     "data": {
      "image/png": "[encoded data removed]",
      "text/plain": [
       "<Figure size 432x288 with 1 Axes>"
      ]
     },
     "metadata": {
      "needs_background": "light"
     },
     "output_type": "display_data"
    }
   ],
   "source": [
    "import matplotlib.pyplot as plt\n",
    "\n",
    "# Mean Scores of All Groups [ Tech Scores ]\n",
    "\n",
    "y1 = [28.85, 46.15, 43.59, 47.76, 54.81]\n",
    "y2 = [39.02, 57.93, 57.01, 61.28, 64.02]\n",
    "y3 = [33.33, 56.85, 55.29, 56.25, 69.94]\n",
    "y4 = [36.59, 60.37, 60.06, 64.63, 73.78]   \n",
    "\n",
    "x_axis=['Phase 1', 'Phase 2', 'Phase 3', 'Phase 4', 'Phase 5']\n",
    "\n",
    "line1 = plt.plot(x_axis, y1,'ko-',label='Bogota 0 ( No Transparency )')\n",
    "line2 = plt.plot(x_axis, y2,'ro-',label='Bogota 1 ( Performance Transparency )') \n",
    "line3 = plt.plot(x_axis, y3,'mo-',label='Bogota 2 ( Solution Transparency )')\n",
    "line3 = plt.plot(x_axis, y4,'bo-',label='Bogota 3 ( Full Transparency )')\n",
    "\n",
    "plt.title(\"Mean Scores of Tech Scores for All Treatment Groups\")\n",
    "plt.ylabel(\"Mean Scores\")\n",
    "\n",
    "plt.legend(bbox_to_anchor=(1, 1),\n",
    "           bbox_transform=plt.gcf().transFigure)"
   ]
  },
  {
   "cell_type": "code",
   "execution_count": 14,
   "id": "42021c76",
   "metadata": {},
   "outputs": [
    {
     "data": {
      "text/html": [
       "<div>\n",
       "<style scoped>\n",
       "    .dataframe tbody tr th:only-of-type {\n",
       "        vertical-align: middle;\n",
       "    }\n",
       "\n",
       "    .dataframe tbody tr th {\n",
       "        vertical-align: top;\n",
       "    }\n",
       "\n",
       "    .dataframe thead th {\n",
       "        text-align: right;\n",
       "    }\n",
       "</style>\n",
       "<table border=\"1\" class=\"dataframe\">\n",
       "  <thead>\n",
       "    <tr style=\"text-align: right;\">\n",
       "      <th></th>\n",
       "      <th>tech-phase1</th>\n",
       "      <th>tech-phase2</th>\n",
       "      <th>tech-phase3</th>\n",
       "      <th>tech-phase4</th>\n",
       "      <th>tech-phase5</th>\n",
       "    </tr>\n",
       "  </thead>\n",
       "  <tbody>\n",
       "    <tr>\n",
       "      <th>0</th>\n",
       "      <td>50.0</td>\n",
       "      <td>75.0</td>\n",
       "      <td>75.0</td>\n",
       "      <td>100.0</td>\n",
       "      <td>100.0</td>\n",
       "    </tr>\n",
       "    <tr>\n",
       "      <th>1</th>\n",
       "      <td>87.5</td>\n",
       "      <td>87.5</td>\n",
       "      <td>100.0</td>\n",
       "      <td>87.5</td>\n",
       "      <td>87.5</td>\n",
       "    </tr>\n",
       "    <tr>\n",
       "      <th>2</th>\n",
       "      <td>50.0</td>\n",
       "      <td>62.5</td>\n",
       "      <td>62.5</td>\n",
       "      <td>62.5</td>\n",
       "      <td>75.0</td>\n",
       "    </tr>\n",
       "    <tr>\n",
       "      <th>3</th>\n",
       "      <td>0.0</td>\n",
       "      <td>12.5</td>\n",
       "      <td>0.0</td>\n",
       "      <td>37.5</td>\n",
       "      <td>62.5</td>\n",
       "    </tr>\n",
       "    <tr>\n",
       "      <th>4</th>\n",
       "      <td>0.0</td>\n",
       "      <td>62.5</td>\n",
       "      <td>37.5</td>\n",
       "      <td>37.5</td>\n",
       "      <td>50.0</td>\n",
       "    </tr>\n",
       "    <tr>\n",
       "      <th>...</th>\n",
       "      <td>...</td>\n",
       "      <td>...</td>\n",
       "      <td>...</td>\n",
       "      <td>...</td>\n",
       "      <td>...</td>\n",
       "    </tr>\n",
       "    <tr>\n",
       "      <th>163</th>\n",
       "      <td>0.0</td>\n",
       "      <td>12.5</td>\n",
       "      <td>0.0</td>\n",
       "      <td>0.0</td>\n",
       "      <td>0.0</td>\n",
       "    </tr>\n",
       "    <tr>\n",
       "      <th>164</th>\n",
       "      <td>0.0</td>\n",
       "      <td>0.0</td>\n",
       "      <td>0.0</td>\n",
       "      <td>0.0</td>\n",
       "      <td>0.0</td>\n",
       "    </tr>\n",
       "    <tr>\n",
       "      <th>165</th>\n",
       "      <td>0.0</td>\n",
       "      <td>0.0</td>\n",
       "      <td>0.0</td>\n",
       "      <td>0.0</td>\n",
       "      <td>0.0</td>\n",
       "    </tr>\n",
       "    <tr>\n",
       "      <th>166</th>\n",
       "      <td>0.0</td>\n",
       "      <td>0.0</td>\n",
       "      <td>0.0</td>\n",
       "      <td>0.0</td>\n",
       "      <td>0.0</td>\n",
       "    </tr>\n",
       "    <tr>\n",
       "      <th>167</th>\n",
       "      <td>0.0</td>\n",
       "      <td>0.0</td>\n",
       "      <td>0.0</td>\n",
       "      <td>0.0</td>\n",
       "      <td>0.0</td>\n",
       "    </tr>\n",
       "  </tbody>\n",
       "</table>\n",
       "<p>168 rows × 5 columns</p>\n",
       "</div>"
      ],
      "text/plain": [
       "     tech-phase1  tech-phase2  tech-phase3  tech-phase4  tech-phase5\n",
       "0           50.0         75.0         75.0        100.0        100.0\n",
       "1           87.5         87.5        100.0         87.5         87.5\n",
       "2           50.0         62.5         62.5         62.5         75.0\n",
       "3            0.0         12.5          0.0         37.5         62.5\n",
       "4            0.0         62.5         37.5         37.5         50.0\n",
       "..           ...          ...          ...          ...          ...\n",
       "163          0.0         12.5          0.0          0.0          0.0\n",
       "164          0.0          0.0          0.0          0.0          0.0\n",
       "165          0.0          0.0          0.0          0.0          0.0\n",
       "166          0.0          0.0          0.0          0.0          0.0\n",
       "167          0.0          0.0          0.0          0.0          0.0\n",
       "\n",
       "[168 rows x 5 columns]"
      ]
     },
     "execution_count": 14,
     "metadata": {},
     "output_type": "execute_result"
    }
   ],
   "source": [
    "overall_loc_scores_tech = overall_loc_scores_final[[\"tech-phase1\", \"tech-phase2\", \"tech-phase3\", \"tech-phase4\", \"tech-phase5\"]]\n",
    "\n",
    "# lines = overall_loc_scores_tech.plot.line()\n",
    "\n",
    "overall_loc_scores_tech"
   ]
  },
  {
   "cell_type": "markdown",
   "id": "6c561899",
   "metadata": {},
   "source": [
    "## improve-vis-15 Box Plot"
   ]
  },
  {
   "cell_type": "code",
   "execution_count": 15,
   "id": "745ddab9",
   "metadata": {},
   "outputs": [
    {
     "name": "stderr",
     "output_type": "stream",
     "text": [
      "/usr/local/anaconda3/lib/python3.8/site-packages/seaborn/categorical.py:1296: UserWarning: 7.0% of the points cannot be placed; you may want to decrease the size of the markers or use stripplot.\n",
      "  warnings.warn(msg, UserWarning)\n"
     ]
    },
    {
     "data": {
      "image/png": "[encoded data removed]",
      "text/plain": [
       "<Figure size 432x288 with 1 Axes>"
      ]
     },
     "metadata": {
      "needs_background": "light"
     },
     "output_type": "display_data"
    }
   ],
   "source": [
    "import matplotlib.pyplot as plt\n",
    "import seaborn as sns\n",
    "ax = sns.boxplot(x='Group', y='improve-vis-15', data=overall_loc_scores_final, color='#99c2a2')\n",
    "ax = sns.swarmplot(x=\"Group\", y=\"improve-vis-15\", data=overall_loc_scores_final, color='#7d0013')\n",
    "plt.show()"
   ]
  },
  {
   "cell_type": "markdown",
   "id": "e6cfd4fd",
   "metadata": {},
   "source": [
    ">> Note: We want to have the linechart for each subgroups,   \n",
    "   x-axis is the phases, \n",
    "   y-axis is the raw tech score, \n",
    "   legend we will have the groups   \n",
    "   Interpretation: The baseline condition (1) seems to be highest in terms of improving on vis. Could be a skills.      effect. Check correlation with effort, LOC. \n",
    "   "
   ]
  },
  {
   "cell_type": "code",
   "execution_count": 16,
   "id": "951e732f",
   "metadata": {},
   "outputs": [
    {
     "data": {
      "text/html": [
       "<div>\n",
       "<style scoped>\n",
       "    .dataframe tbody tr th:only-of-type {\n",
       "        vertical-align: middle;\n",
       "    }\n",
       "\n",
       "    .dataframe tbody tr th {\n",
       "        vertical-align: top;\n",
       "    }\n",
       "\n",
       "    .dataframe thead th {\n",
       "        text-align: right;\n",
       "    }\n",
       "</style>\n",
       "<table border=\"1\" class=\"dataframe\">\n",
       "  <thead>\n",
       "    <tr style=\"text-align: right;\">\n",
       "      <th></th>\n",
       "      <th>Group</th>\n",
       "      <th>infovis-phase1</th>\n",
       "    </tr>\n",
       "  </thead>\n",
       "  <tbody>\n",
       "    <tr>\n",
       "      <th>0</th>\n",
       "      <td>0.0</td>\n",
       "      <td>13.275116</td>\n",
       "    </tr>\n",
       "    <tr>\n",
       "      <th>1</th>\n",
       "      <td>1.0</td>\n",
       "      <td>32.043571</td>\n",
       "    </tr>\n",
       "    <tr>\n",
       "      <th>2</th>\n",
       "      <td>2.0</td>\n",
       "      <td>26.389524</td>\n",
       "    </tr>\n",
       "    <tr>\n",
       "      <th>3</th>\n",
       "      <td>3.0</td>\n",
       "      <td>29.269024</td>\n",
       "    </tr>\n",
       "  </tbody>\n",
       "</table>\n",
       "</div>"
      ],
      "text/plain": [
       "   Group  infovis-phase1\n",
       "0    0.0       13.275116\n",
       "1    1.0       32.043571\n",
       "2    2.0       26.389524\n",
       "3    3.0       29.269024"
      ]
     },
     "execution_count": 16,
     "metadata": {},
     "output_type": "execute_result"
    }
   ],
   "source": [
    "overall_loc_scores_final.groupby('Group', as_index=False)['infovis-phase1'].mean()"
   ]
  },
  {
   "cell_type": "code",
   "execution_count": 17,
   "id": "5d831206",
   "metadata": {},
   "outputs": [
    {
     "data": {
      "text/html": [
       "<div>\n",
       "<style scoped>\n",
       "    .dataframe tbody tr th:only-of-type {\n",
       "        vertical-align: middle;\n",
       "    }\n",
       "\n",
       "    .dataframe tbody tr th {\n",
       "        vertical-align: top;\n",
       "    }\n",
       "\n",
       "    .dataframe thead th {\n",
       "        text-align: right;\n",
       "    }\n",
       "</style>\n",
       "<table border=\"1\" class=\"dataframe\">\n",
       "  <thead>\n",
       "    <tr style=\"text-align: right;\">\n",
       "      <th></th>\n",
       "      <th>Group</th>\n",
       "      <th>infovis-phase2</th>\n",
       "    </tr>\n",
       "  </thead>\n",
       "  <tbody>\n",
       "    <tr>\n",
       "      <th>0</th>\n",
       "      <td>0.0</td>\n",
       "      <td>23.642791</td>\n",
       "    </tr>\n",
       "    <tr>\n",
       "      <th>1</th>\n",
       "      <td>1.0</td>\n",
       "      <td>34.721667</td>\n",
       "    </tr>\n",
       "    <tr>\n",
       "      <th>2</th>\n",
       "      <td>2.0</td>\n",
       "      <td>29.761905</td>\n",
       "    </tr>\n",
       "    <tr>\n",
       "      <th>3</th>\n",
       "      <td>3.0</td>\n",
       "      <td>33.129512</td>\n",
       "    </tr>\n",
       "  </tbody>\n",
       "</table>\n",
       "</div>"
      ],
      "text/plain": [
       "   Group  infovis-phase2\n",
       "0    0.0       23.642791\n",
       "1    1.0       34.721667\n",
       "2    2.0       29.761905\n",
       "3    3.0       33.129512"
      ]
     },
     "execution_count": 17,
     "metadata": {},
     "output_type": "execute_result"
    }
   ],
   "source": [
    "overall_loc_scores_final.groupby('Group', as_index=False)['infovis-phase2'].mean()"
   ]
  },
  {
   "cell_type": "code",
   "execution_count": 18,
   "id": "a0f8bbd5",
   "metadata": {},
   "outputs": [
    {
     "data": {
      "text/html": [
       "<div>\n",
       "<style scoped>\n",
       "    .dataframe tbody tr th:only-of-type {\n",
       "        vertical-align: middle;\n",
       "    }\n",
       "\n",
       "    .dataframe tbody tr th {\n",
       "        vertical-align: top;\n",
       "    }\n",
       "\n",
       "    .dataframe thead th {\n",
       "        text-align: right;\n",
       "    }\n",
       "</style>\n",
       "<table border=\"1\" class=\"dataframe\">\n",
       "  <thead>\n",
       "    <tr style=\"text-align: right;\">\n",
       "      <th></th>\n",
       "      <th>Group</th>\n",
       "      <th>infovis-phase3</th>\n",
       "    </tr>\n",
       "  </thead>\n",
       "  <tbody>\n",
       "    <tr>\n",
       "      <th>0</th>\n",
       "      <td>0.0</td>\n",
       "      <td>28.197674</td>\n",
       "    </tr>\n",
       "    <tr>\n",
       "      <th>1</th>\n",
       "      <td>1.0</td>\n",
       "      <td>38.392143</td>\n",
       "    </tr>\n",
       "    <tr>\n",
       "      <th>2</th>\n",
       "      <td>2.0</td>\n",
       "      <td>35.415952</td>\n",
       "    </tr>\n",
       "    <tr>\n",
       "      <th>3</th>\n",
       "      <td>3.0</td>\n",
       "      <td>36.584634</td>\n",
       "    </tr>\n",
       "  </tbody>\n",
       "</table>\n",
       "</div>"
      ],
      "text/plain": [
       "   Group  infovis-phase3\n",
       "0    0.0       28.197674\n",
       "1    1.0       38.392143\n",
       "2    2.0       35.415952\n",
       "3    3.0       36.584634"
      ]
     },
     "execution_count": 18,
     "metadata": {},
     "output_type": "execute_result"
    }
   ],
   "source": [
    "overall_loc_scores_final.groupby('Group', as_index=False)['infovis-phase3'].mean()"
   ]
  },
  {
   "cell_type": "code",
   "execution_count": 19,
   "id": "61dc7fcf",
   "metadata": {},
   "outputs": [
    {
     "data": {
      "text/html": [
       "<div>\n",
       "<style scoped>\n",
       "    .dataframe tbody tr th:only-of-type {\n",
       "        vertical-align: middle;\n",
       "    }\n",
       "\n",
       "    .dataframe tbody tr th {\n",
       "        vertical-align: top;\n",
       "    }\n",
       "\n",
       "    .dataframe thead th {\n",
       "        text-align: right;\n",
       "    }\n",
       "</style>\n",
       "<table border=\"1\" class=\"dataframe\">\n",
       "  <thead>\n",
       "    <tr style=\"text-align: right;\">\n",
       "      <th></th>\n",
       "      <th>Group</th>\n",
       "      <th>infovis-phase4</th>\n",
       "    </tr>\n",
       "  </thead>\n",
       "  <tbody>\n",
       "    <tr>\n",
       "      <th>0</th>\n",
       "      <td>0.0</td>\n",
       "      <td>29.554186</td>\n",
       "    </tr>\n",
       "    <tr>\n",
       "      <th>1</th>\n",
       "      <td>1.0</td>\n",
       "      <td>43.055476</td>\n",
       "    </tr>\n",
       "    <tr>\n",
       "      <th>2</th>\n",
       "      <td>2.0</td>\n",
       "      <td>36.606905</td>\n",
       "    </tr>\n",
       "    <tr>\n",
       "      <th>3</th>\n",
       "      <td>3.0</td>\n",
       "      <td>35.670000</td>\n",
       "    </tr>\n",
       "  </tbody>\n",
       "</table>\n",
       "</div>"
      ],
      "text/plain": [
       "   Group  infovis-phase4\n",
       "0    0.0       29.554186\n",
       "1    1.0       43.055476\n",
       "2    2.0       36.606905\n",
       "3    3.0       35.670000"
      ]
     },
     "execution_count": 19,
     "metadata": {},
     "output_type": "execute_result"
    }
   ],
   "source": [
    "overall_loc_scores_final.groupby('Group', as_index=False)['infovis-phase4'].mean()"
   ]
  },
  {
   "cell_type": "code",
   "execution_count": 20,
   "id": "9c654b93",
   "metadata": {},
   "outputs": [
    {
     "data": {
      "text/html": [
       "<div>\n",
       "<style scoped>\n",
       "    .dataframe tbody tr th:only-of-type {\n",
       "        vertical-align: middle;\n",
       "    }\n",
       "\n",
       "    .dataframe tbody tr th {\n",
       "        vertical-align: top;\n",
       "    }\n",
       "\n",
       "    .dataframe thead th {\n",
       "        text-align: right;\n",
       "    }\n",
       "</style>\n",
       "<table border=\"1\" class=\"dataframe\">\n",
       "  <thead>\n",
       "    <tr style=\"text-align: right;\">\n",
       "      <th></th>\n",
       "      <th>Group</th>\n",
       "      <th>infovis-phase5</th>\n",
       "    </tr>\n",
       "  </thead>\n",
       "  <tbody>\n",
       "    <tr>\n",
       "      <th>0</th>\n",
       "      <td>0.0</td>\n",
       "      <td>32.752093</td>\n",
       "    </tr>\n",
       "    <tr>\n",
       "      <th>1</th>\n",
       "      <td>1.0</td>\n",
       "      <td>44.940476</td>\n",
       "    </tr>\n",
       "    <tr>\n",
       "      <th>2</th>\n",
       "      <td>2.0</td>\n",
       "      <td>42.162381</td>\n",
       "    </tr>\n",
       "    <tr>\n",
       "      <th>3</th>\n",
       "      <td>3.0</td>\n",
       "      <td>47.051951</td>\n",
       "    </tr>\n",
       "  </tbody>\n",
       "</table>\n",
       "</div>"
      ],
      "text/plain": [
       "   Group  infovis-phase5\n",
       "0    0.0       32.752093\n",
       "1    1.0       44.940476\n",
       "2    2.0       42.162381\n",
       "3    3.0       47.051951"
      ]
     },
     "execution_count": 20,
     "metadata": {},
     "output_type": "execute_result"
    }
   ],
   "source": [
    "overall_loc_scores_final.groupby('Group', as_index=False)['infovis-phase5'].mean()"
   ]
  },
  {
   "cell_type": "markdown",
   "id": "08837b63",
   "metadata": {},
   "source": [
    "## improve-vis-15 line charts"
   ]
  },
  {
   "cell_type": "code",
   "execution_count": 21,
   "id": "e829ed91",
   "metadata": {},
   "outputs": [
    {
     "data": {
      "text/plain": [
       "<matplotlib.legend.Legend at 0x7f8bd981bdc0>"
      ]
     },
     "execution_count": 21,
     "metadata": {},
     "output_type": "execute_result"
    },
    {
     "data": {
      "image/png": "[encoded data removed]",
      "text/plain": [
       "<Figure size 432x288 with 1 Axes>"
      ]
     },
     "metadata": {
      "needs_background": "light"
     },
     "output_type": "display_data"
    }
   ],
   "source": [
    "import matplotlib.pyplot as plt\n",
    "\n",
    "# Mean Scores of All Groups [Vis Scores ]\n",
    "\n",
    "y1 = [14.64, 26.07, 31.09, 32.59, 36.11]\n",
    "y2 = [32.01, 33.94, 37.60, 42.38, 44.51]\n",
    "y3 = [26.39, 29.76, 35.42, 36.61, 42.16]\n",
    "y4 = [29.27, 33.13, 36.58, 35.67, 47.05]   \n",
    "\n",
    "x_axis=['Phase 1', 'Phase 2', 'Phase 3', 'Phase 4', 'Phase 5']\n",
    "\n",
    "line1 = plt.plot(x_axis, y1,'ko-',label='Bogota 0 ( No Transparency )')\n",
    "line2 = plt.plot(x_axis, y2,'ro-',label='Bogota 1 ( Performance Transparency )') \n",
    "line3 = plt.plot(x_axis, y3,'mo-',label='Bogota 2 ( Solution Transparency )')\n",
    "line3 = plt.plot(x_axis, y4,'bo-',label='Bogota 3 ( Full Transparency )')\n",
    "\n",
    "plt.title(\"Mean Scores of Vis Scores for All Treatment Groups\")\n",
    "plt.ylabel(\"Mean Scores\")\n",
    "\n",
    "plt.legend(bbox_to_anchor=(1, 1),\n",
    "           bbox_transform=plt.gcf().transFigure)"
   ]
  },
  {
   "cell_type": "markdown",
   "id": "641b814c",
   "metadata": {},
   "source": [
    "## improve-ur-15 Box Plot"
   ]
  },
  {
   "cell_type": "code",
   "execution_count": 22,
   "id": "4108ec24",
   "metadata": {},
   "outputs": [
    {
     "name": "stderr",
     "output_type": "stream",
     "text": [
      "/usr/local/anaconda3/lib/python3.8/site-packages/seaborn/categorical.py:1296: UserWarning: 16.3% of the points cannot be placed; you may want to decrease the size of the markers or use stripplot.\n",
      "  warnings.warn(msg, UserWarning)\n",
      "/usr/local/anaconda3/lib/python3.8/site-packages/seaborn/categorical.py:1296: UserWarning: 21.4% of the points cannot be placed; you may want to decrease the size of the markers or use stripplot.\n",
      "  warnings.warn(msg, UserWarning)\n",
      "/usr/local/anaconda3/lib/python3.8/site-packages/seaborn/categorical.py:1296: UserWarning: 16.7% of the points cannot be placed; you may want to decrease the size of the markers or use stripplot.\n",
      "  warnings.warn(msg, UserWarning)\n"
     ]
    },
    {
     "data": {
      "image/png": "[encoded data removed]",
      "text/plain": [
       "<Figure size 432x288 with 1 Axes>"
      ]
     },
     "metadata": {
      "needs_background": "light"
     },
     "output_type": "display_data"
    }
   ],
   "source": [
    "import matplotlib.pyplot as plt\n",
    "import seaborn as sns\n",
    "ax = sns.boxplot(x='Group', y='improve-ur-15', data=overall_loc_scores_final, color='#99c2a2')\n",
    "ax = sns.swarmplot(x=\"Group\", y=\"improve-ur-15\", data=overall_loc_scores_final, color='#7d0013')\n",
    "plt.show()"
   ]
  },
  {
   "cell_type": "code",
   "execution_count": 23,
   "id": "e12b7882",
   "metadata": {},
   "outputs": [
    {
     "data": {
      "text/html": [
       "<div>\n",
       "<style scoped>\n",
       "    .dataframe tbody tr th:only-of-type {\n",
       "        vertical-align: middle;\n",
       "    }\n",
       "\n",
       "    .dataframe tbody tr th {\n",
       "        vertical-align: top;\n",
       "    }\n",
       "\n",
       "    .dataframe thead th {\n",
       "        text-align: right;\n",
       "    }\n",
       "</style>\n",
       "<table border=\"1\" class=\"dataframe\">\n",
       "  <thead>\n",
       "    <tr style=\"text-align: right;\">\n",
       "      <th></th>\n",
       "      <th>Group</th>\n",
       "      <th>user-requirement-phase1</th>\n",
       "    </tr>\n",
       "  </thead>\n",
       "  <tbody>\n",
       "    <tr>\n",
       "      <th>0</th>\n",
       "      <td>0.0</td>\n",
       "      <td>7.906977</td>\n",
       "    </tr>\n",
       "    <tr>\n",
       "      <th>1</th>\n",
       "      <td>1.0</td>\n",
       "      <td>20.952381</td>\n",
       "    </tr>\n",
       "    <tr>\n",
       "      <th>2</th>\n",
       "      <td>2.0</td>\n",
       "      <td>14.285714</td>\n",
       "    </tr>\n",
       "    <tr>\n",
       "      <th>3</th>\n",
       "      <td>3.0</td>\n",
       "      <td>17.073171</td>\n",
       "    </tr>\n",
       "  </tbody>\n",
       "</table>\n",
       "</div>"
      ],
      "text/plain": [
       "   Group  user-requirement-phase1\n",
       "0    0.0                 7.906977\n",
       "1    1.0                20.952381\n",
       "2    2.0                14.285714\n",
       "3    3.0                17.073171"
      ]
     },
     "execution_count": 23,
     "metadata": {},
     "output_type": "execute_result"
    }
   ],
   "source": [
    "overall_loc_scores_final.groupby('Group', as_index=False)['user-requirement-phase1'].mean()"
   ]
  },
  {
   "cell_type": "code",
   "execution_count": 24,
   "id": "25c6a3d9",
   "metadata": {},
   "outputs": [
    {
     "data": {
      "text/html": [
       "<div>\n",
       "<style scoped>\n",
       "    .dataframe tbody tr th:only-of-type {\n",
       "        vertical-align: middle;\n",
       "    }\n",
       "\n",
       "    .dataframe tbody tr th {\n",
       "        vertical-align: top;\n",
       "    }\n",
       "\n",
       "    .dataframe thead th {\n",
       "        text-align: right;\n",
       "    }\n",
       "</style>\n",
       "<table border=\"1\" class=\"dataframe\">\n",
       "  <thead>\n",
       "    <tr style=\"text-align: right;\">\n",
       "      <th></th>\n",
       "      <th>Group</th>\n",
       "      <th>user-requirement-phase2</th>\n",
       "    </tr>\n",
       "  </thead>\n",
       "  <tbody>\n",
       "    <tr>\n",
       "      <th>0</th>\n",
       "      <td>0.0</td>\n",
       "      <td>12.093023</td>\n",
       "    </tr>\n",
       "    <tr>\n",
       "      <th>1</th>\n",
       "      <td>1.0</td>\n",
       "      <td>25.238095</td>\n",
       "    </tr>\n",
       "    <tr>\n",
       "      <th>2</th>\n",
       "      <td>2.0</td>\n",
       "      <td>21.428571</td>\n",
       "    </tr>\n",
       "    <tr>\n",
       "      <th>3</th>\n",
       "      <td>3.0</td>\n",
       "      <td>27.804878</td>\n",
       "    </tr>\n",
       "  </tbody>\n",
       "</table>\n",
       "</div>"
      ],
      "text/plain": [
       "   Group  user-requirement-phase2\n",
       "0    0.0                12.093023\n",
       "1    1.0                25.238095\n",
       "2    2.0                21.428571\n",
       "3    3.0                27.804878"
      ]
     },
     "execution_count": 24,
     "metadata": {},
     "output_type": "execute_result"
    }
   ],
   "source": [
    "overall_loc_scores_final.groupby('Group', as_index=False)['user-requirement-phase2'].mean()"
   ]
  },
  {
   "cell_type": "code",
   "execution_count": 25,
   "id": "11982f51",
   "metadata": {},
   "outputs": [
    {
     "data": {
      "text/html": [
       "<div>\n",
       "<style scoped>\n",
       "    .dataframe tbody tr th:only-of-type {\n",
       "        vertical-align: middle;\n",
       "    }\n",
       "\n",
       "    .dataframe tbody tr th {\n",
       "        vertical-align: top;\n",
       "    }\n",
       "\n",
       "    .dataframe thead th {\n",
       "        text-align: right;\n",
       "    }\n",
       "</style>\n",
       "<table border=\"1\" class=\"dataframe\">\n",
       "  <thead>\n",
       "    <tr style=\"text-align: right;\">\n",
       "      <th></th>\n",
       "      <th>Group</th>\n",
       "      <th>user-requirement-phase3</th>\n",
       "    </tr>\n",
       "  </thead>\n",
       "  <tbody>\n",
       "    <tr>\n",
       "      <th>0</th>\n",
       "      <td>0.0</td>\n",
       "      <td>22.325581</td>\n",
       "    </tr>\n",
       "    <tr>\n",
       "      <th>1</th>\n",
       "      <td>1.0</td>\n",
       "      <td>33.809524</td>\n",
       "    </tr>\n",
       "    <tr>\n",
       "      <th>2</th>\n",
       "      <td>2.0</td>\n",
       "      <td>29.523810</td>\n",
       "    </tr>\n",
       "    <tr>\n",
       "      <th>3</th>\n",
       "      <td>3.0</td>\n",
       "      <td>29.268293</td>\n",
       "    </tr>\n",
       "  </tbody>\n",
       "</table>\n",
       "</div>"
      ],
      "text/plain": [
       "   Group  user-requirement-phase3\n",
       "0    0.0                22.325581\n",
       "1    1.0                33.809524\n",
       "2    2.0                29.523810\n",
       "3    3.0                29.268293"
      ]
     },
     "execution_count": 25,
     "metadata": {},
     "output_type": "execute_result"
    }
   ],
   "source": [
    "overall_loc_scores_final.groupby('Group', as_index=False)['user-requirement-phase3'].mean()"
   ]
  },
  {
   "cell_type": "code",
   "execution_count": 26,
   "id": "6070d17b",
   "metadata": {},
   "outputs": [
    {
     "data": {
      "text/html": [
       "<div>\n",
       "<style scoped>\n",
       "    .dataframe tbody tr th:only-of-type {\n",
       "        vertical-align: middle;\n",
       "    }\n",
       "\n",
       "    .dataframe tbody tr th {\n",
       "        vertical-align: top;\n",
       "    }\n",
       "\n",
       "    .dataframe thead th {\n",
       "        text-align: right;\n",
       "    }\n",
       "</style>\n",
       "<table border=\"1\" class=\"dataframe\">\n",
       "  <thead>\n",
       "    <tr style=\"text-align: right;\">\n",
       "      <th></th>\n",
       "      <th>Group</th>\n",
       "      <th>user-requirement-phase4</th>\n",
       "    </tr>\n",
       "  </thead>\n",
       "  <tbody>\n",
       "    <tr>\n",
       "      <th>0</th>\n",
       "      <td>0.0</td>\n",
       "      <td>20.930233</td>\n",
       "    </tr>\n",
       "    <tr>\n",
       "      <th>1</th>\n",
       "      <td>1.0</td>\n",
       "      <td>37.619048</td>\n",
       "    </tr>\n",
       "    <tr>\n",
       "      <th>2</th>\n",
       "      <td>2.0</td>\n",
       "      <td>33.333333</td>\n",
       "    </tr>\n",
       "    <tr>\n",
       "      <th>3</th>\n",
       "      <td>3.0</td>\n",
       "      <td>33.170732</td>\n",
       "    </tr>\n",
       "  </tbody>\n",
       "</table>\n",
       "</div>"
      ],
      "text/plain": [
       "   Group  user-requirement-phase4\n",
       "0    0.0                20.930233\n",
       "1    1.0                37.619048\n",
       "2    2.0                33.333333\n",
       "3    3.0                33.170732"
      ]
     },
     "execution_count": 26,
     "metadata": {},
     "output_type": "execute_result"
    }
   ],
   "source": [
    "overall_loc_scores_final.groupby('Group', as_index=False)['user-requirement-phase4'].mean()"
   ]
  },
  {
   "cell_type": "code",
   "execution_count": 27,
   "id": "b7e8959b",
   "metadata": {},
   "outputs": [
    {
     "data": {
      "text/html": [
       "<div>\n",
       "<style scoped>\n",
       "    .dataframe tbody tr th:only-of-type {\n",
       "        vertical-align: middle;\n",
       "    }\n",
       "\n",
       "    .dataframe tbody tr th {\n",
       "        vertical-align: top;\n",
       "    }\n",
       "\n",
       "    .dataframe thead th {\n",
       "        text-align: right;\n",
       "    }\n",
       "</style>\n",
       "<table border=\"1\" class=\"dataframe\">\n",
       "  <thead>\n",
       "    <tr style=\"text-align: right;\">\n",
       "      <th></th>\n",
       "      <th>Group</th>\n",
       "      <th>user-requirement-phase5</th>\n",
       "    </tr>\n",
       "  </thead>\n",
       "  <tbody>\n",
       "    <tr>\n",
       "      <th>0</th>\n",
       "      <td>0.0</td>\n",
       "      <td>29.767442</td>\n",
       "    </tr>\n",
       "    <tr>\n",
       "      <th>1</th>\n",
       "      <td>1.0</td>\n",
       "      <td>40.000000</td>\n",
       "    </tr>\n",
       "    <tr>\n",
       "      <th>2</th>\n",
       "      <td>2.0</td>\n",
       "      <td>37.619048</td>\n",
       "    </tr>\n",
       "    <tr>\n",
       "      <th>3</th>\n",
       "      <td>3.0</td>\n",
       "      <td>46.341463</td>\n",
       "    </tr>\n",
       "  </tbody>\n",
       "</table>\n",
       "</div>"
      ],
      "text/plain": [
       "   Group  user-requirement-phase5\n",
       "0    0.0                29.767442\n",
       "1    1.0                40.000000\n",
       "2    2.0                37.619048\n",
       "3    3.0                46.341463"
      ]
     },
     "execution_count": 27,
     "metadata": {},
     "output_type": "execute_result"
    }
   ],
   "source": [
    "overall_loc_scores_final.groupby('Group', as_index=False)['user-requirement-phase5'].mean()"
   ]
  },
  {
   "cell_type": "markdown",
   "id": "8400dcbe",
   "metadata": {},
   "source": [
    "## improve-ur-15 Line Charts"
   ]
  },
  {
   "cell_type": "code",
   "execution_count": 28,
   "id": "d09aba0f",
   "metadata": {},
   "outputs": [
    {
     "data": {
      "text/plain": [
       "<matplotlib.legend.Legend at 0x7f8bd9b2a1c0>"
      ]
     },
     "execution_count": 28,
     "metadata": {},
     "output_type": "execute_result"
    },
    {
     "data": {
      "image/png": "[encoded data removed]",
      "text/plain": [
       "<Figure size 432x288 with 1 Axes>"
      ]
     },
     "metadata": {
      "needs_background": "light"
     },
     "output_type": "display_data"
    }
   ],
   "source": [
    "import matplotlib.pyplot as plt\n",
    "\n",
    "# Mean Scores of All Groups [ UR Scores ]\n",
    "\n",
    "y1 = [8.72, 13.33, 24.62, 23.08, 32.82]\n",
    "y2 = [20.49, 24.39, 32.2, 36.1, 38.54]\n",
    "y3 = [14.29, 21.43, 29.52, 33.33, 37.62]\n",
    "y4 = [17.07, 27.8, 29.27, 33.17, 46.34]   \n",
    "\n",
    "x_axis=['Phase 1', 'Phase 2', 'Phase 3', 'Phase 4', 'Phase 5']\n",
    "\n",
    "line1 = plt.plot(x_axis, y1,'ko-',label='Bogota 0 ( No Transparency )')\n",
    "line2 = plt.plot(x_axis, y2,'ro-',label='Bogota 1 ( Performance Transparency )') \n",
    "line3 = plt.plot(x_axis, y3,'mo-',label='Bogota 2 ( Solution Transparency )')\n",
    "line3 = plt.plot(x_axis, y4,'bo-',label='Bogota 3 ( Full Transparency )')\n",
    "\n",
    "plt.title(\"Mean Scores of UR Scores for All Treatment Groups\")\n",
    "plt.ylabel(\"Mean Scores\")\n",
    "\n",
    "plt.legend(bbox_to_anchor=(1, 1),\n",
    "           bbox_transform=plt.gcf().transFigure)"
   ]
  },
  {
   "cell_type": "markdown",
   "id": "6bae6c09",
   "metadata": {},
   "source": [
    "## improve-novel-15 Box Plots"
   ]
  },
  {
   "cell_type": "code",
   "execution_count": 29,
   "id": "6063e889",
   "metadata": {},
   "outputs": [
    {
     "name": "stderr",
     "output_type": "stream",
     "text": [
      "/usr/local/anaconda3/lib/python3.8/site-packages/seaborn/categorical.py:1296: UserWarning: 7.0% of the points cannot be placed; you may want to decrease the size of the markers or use stripplot.\n",
      "  warnings.warn(msg, UserWarning)\n"
     ]
    },
    {
     "data": {
      "image/png": "[encoded data removed]",
      "text/plain": [
       "<Figure size 432x288 with 1 Axes>"
      ]
     },
     "metadata": {
      "needs_background": "light"
     },
     "output_type": "display_data"
    }
   ],
   "source": [
    "import matplotlib.pyplot as plt\n",
    "import seaborn as sns\n",
    "ax = sns.boxplot(x='Group', y='improve-novel-15', data=overall_loc_scores_final, color='#99c2a2')\n",
    "ax = sns.swarmplot(x=\"Group\", y=\"improve-novel-15\", data=overall_loc_scores_final, color='#7d0013')\n",
    "plt.show()"
   ]
  },
  {
   "cell_type": "code",
   "execution_count": 30,
   "id": "a29509a1",
   "metadata": {},
   "outputs": [
    {
     "data": {
      "text/html": [
       "<div>\n",
       "<style scoped>\n",
       "    .dataframe tbody tr th:only-of-type {\n",
       "        vertical-align: middle;\n",
       "    }\n",
       "\n",
       "    .dataframe tbody tr th {\n",
       "        vertical-align: top;\n",
       "    }\n",
       "\n",
       "    .dataframe thead th {\n",
       "        text-align: right;\n",
       "    }\n",
       "</style>\n",
       "<table border=\"1\" class=\"dataframe\">\n",
       "  <thead>\n",
       "    <tr style=\"text-align: right;\">\n",
       "      <th></th>\n",
       "      <th>Group</th>\n",
       "      <th>novelty-phase1</th>\n",
       "    </tr>\n",
       "  </thead>\n",
       "  <tbody>\n",
       "    <tr>\n",
       "      <th>0</th>\n",
       "      <td>0.0</td>\n",
       "      <td>8.139535</td>\n",
       "    </tr>\n",
       "    <tr>\n",
       "      <th>1</th>\n",
       "      <td>1.0</td>\n",
       "      <td>27.956429</td>\n",
       "    </tr>\n",
       "    <tr>\n",
       "      <th>2</th>\n",
       "      <td>2.0</td>\n",
       "      <td>24.702381</td>\n",
       "    </tr>\n",
       "    <tr>\n",
       "      <th>3</th>\n",
       "      <td>3.0</td>\n",
       "      <td>19.867805</td>\n",
       "    </tr>\n",
       "  </tbody>\n",
       "</table>\n",
       "</div>"
      ],
      "text/plain": [
       "   Group  novelty-phase1\n",
       "0    0.0        8.139535\n",
       "1    1.0       27.956429\n",
       "2    2.0       24.702381\n",
       "3    3.0       19.867805"
      ]
     },
     "execution_count": 30,
     "metadata": {},
     "output_type": "execute_result"
    }
   ],
   "source": [
    "overall_loc_scores_final.groupby('Group', as_index=False)['novelty-phase1'].mean()"
   ]
  },
  {
   "cell_type": "code",
   "execution_count": 31,
   "id": "2bb4859a",
   "metadata": {},
   "outputs": [
    {
     "data": {
      "text/html": [
       "<div>\n",
       "<style scoped>\n",
       "    .dataframe tbody tr th:only-of-type {\n",
       "        vertical-align: middle;\n",
       "    }\n",
       "\n",
       "    .dataframe tbody tr th {\n",
       "        vertical-align: top;\n",
       "    }\n",
       "\n",
       "    .dataframe thead th {\n",
       "        text-align: right;\n",
       "    }\n",
       "</style>\n",
       "<table border=\"1\" class=\"dataframe\">\n",
       "  <thead>\n",
       "    <tr style=\"text-align: right;\">\n",
       "      <th></th>\n",
       "      <th>Group</th>\n",
       "      <th>novelty-phase2</th>\n",
       "    </tr>\n",
       "  </thead>\n",
       "  <tbody>\n",
       "    <tr>\n",
       "      <th>0</th>\n",
       "      <td>0.0</td>\n",
       "      <td>20.058140</td>\n",
       "    </tr>\n",
       "    <tr>\n",
       "      <th>1</th>\n",
       "      <td>1.0</td>\n",
       "      <td>35.565476</td>\n",
       "    </tr>\n",
       "    <tr>\n",
       "      <th>2</th>\n",
       "      <td>2.0</td>\n",
       "      <td>32.142857</td>\n",
       "    </tr>\n",
       "    <tr>\n",
       "      <th>3</th>\n",
       "      <td>3.0</td>\n",
       "      <td>23.018293</td>\n",
       "    </tr>\n",
       "  </tbody>\n",
       "</table>\n",
       "</div>"
      ],
      "text/plain": [
       "   Group  novelty-phase2\n",
       "0    0.0       20.058140\n",
       "1    1.0       35.565476\n",
       "2    2.0       32.142857\n",
       "3    3.0       23.018293"
      ]
     },
     "execution_count": 31,
     "metadata": {},
     "output_type": "execute_result"
    }
   ],
   "source": [
    "overall_loc_scores_final.groupby('Group', as_index=False)['novelty-phase2'].mean()"
   ]
  },
  {
   "cell_type": "code",
   "execution_count": 32,
   "id": "f589edc4",
   "metadata": {},
   "outputs": [
    {
     "data": {
      "text/html": [
       "<div>\n",
       "<style scoped>\n",
       "    .dataframe tbody tr th:only-of-type {\n",
       "        vertical-align: middle;\n",
       "    }\n",
       "\n",
       "    .dataframe tbody tr th {\n",
       "        vertical-align: top;\n",
       "    }\n",
       "\n",
       "    .dataframe thead th {\n",
       "        text-align: right;\n",
       "    }\n",
       "</style>\n",
       "<table border=\"1\" class=\"dataframe\">\n",
       "  <thead>\n",
       "    <tr style=\"text-align: right;\">\n",
       "      <th></th>\n",
       "      <th>Group</th>\n",
       "      <th>novelty-phase3</th>\n",
       "    </tr>\n",
       "  </thead>\n",
       "  <tbody>\n",
       "    <tr>\n",
       "      <th>0</th>\n",
       "      <td>0.0</td>\n",
       "      <td>24.563953</td>\n",
       "    </tr>\n",
       "    <tr>\n",
       "      <th>1</th>\n",
       "      <td>1.0</td>\n",
       "      <td>42.113095</td>\n",
       "    </tr>\n",
       "    <tr>\n",
       "      <th>2</th>\n",
       "      <td>2.0</td>\n",
       "      <td>30.257857</td>\n",
       "    </tr>\n",
       "    <tr>\n",
       "      <th>3</th>\n",
       "      <td>3.0</td>\n",
       "      <td>25.304878</td>\n",
       "    </tr>\n",
       "  </tbody>\n",
       "</table>\n",
       "</div>"
      ],
      "text/plain": [
       "   Group  novelty-phase3\n",
       "0    0.0       24.563953\n",
       "1    1.0       42.113095\n",
       "2    2.0       30.257857\n",
       "3    3.0       25.304878"
      ]
     },
     "execution_count": 32,
     "metadata": {},
     "output_type": "execute_result"
    }
   ],
   "source": [
    "overall_loc_scores_final.groupby('Group', as_index=False)['novelty-phase3'].mean()"
   ]
  },
  {
   "cell_type": "code",
   "execution_count": 33,
   "id": "57e2c2f4",
   "metadata": {},
   "outputs": [
    {
     "data": {
      "text/html": [
       "<div>\n",
       "<style scoped>\n",
       "    .dataframe tbody tr th:only-of-type {\n",
       "        vertical-align: middle;\n",
       "    }\n",
       "\n",
       "    .dataframe tbody tr th {\n",
       "        vertical-align: top;\n",
       "    }\n",
       "\n",
       "    .dataframe thead th {\n",
       "        text-align: right;\n",
       "    }\n",
       "</style>\n",
       "<table border=\"1\" class=\"dataframe\">\n",
       "  <thead>\n",
       "    <tr style=\"text-align: right;\">\n",
       "      <th></th>\n",
       "      <th>Group</th>\n",
       "      <th>novelty-phase4</th>\n",
       "    </tr>\n",
       "  </thead>\n",
       "  <tbody>\n",
       "    <tr>\n",
       "      <th>0</th>\n",
       "      <td>0.0</td>\n",
       "      <td>26.744186</td>\n",
       "    </tr>\n",
       "    <tr>\n",
       "      <th>1</th>\n",
       "      <td>1.0</td>\n",
       "      <td>39.727143</td>\n",
       "    </tr>\n",
       "    <tr>\n",
       "      <th>2</th>\n",
       "      <td>2.0</td>\n",
       "      <td>29.042619</td>\n",
       "    </tr>\n",
       "    <tr>\n",
       "      <th>3</th>\n",
       "      <td>3.0</td>\n",
       "      <td>30.589512</td>\n",
       "    </tr>\n",
       "  </tbody>\n",
       "</table>\n",
       "</div>"
      ],
      "text/plain": [
       "   Group  novelty-phase4\n",
       "0    0.0       26.744186\n",
       "1    1.0       39.727143\n",
       "2    2.0       29.042619\n",
       "3    3.0       30.589512"
      ]
     },
     "execution_count": 33,
     "metadata": {},
     "output_type": "execute_result"
    }
   ],
   "source": [
    "overall_loc_scores_final.groupby('Group', as_index=False)['novelty-phase4'].mean()"
   ]
  },
  {
   "cell_type": "code",
   "execution_count": 34,
   "id": "f5845bc4",
   "metadata": {},
   "outputs": [
    {
     "data": {
      "text/html": [
       "<div>\n",
       "<style scoped>\n",
       "    .dataframe tbody tr th:only-of-type {\n",
       "        vertical-align: middle;\n",
       "    }\n",
       "\n",
       "    .dataframe tbody tr th {\n",
       "        vertical-align: top;\n",
       "    }\n",
       "\n",
       "    .dataframe thead th {\n",
       "        text-align: right;\n",
       "    }\n",
       "</style>\n",
       "<table border=\"1\" class=\"dataframe\">\n",
       "  <thead>\n",
       "    <tr style=\"text-align: right;\">\n",
       "      <th></th>\n",
       "      <th>Group</th>\n",
       "      <th>novelty-phase5</th>\n",
       "    </tr>\n",
       "  </thead>\n",
       "  <tbody>\n",
       "    <tr>\n",
       "      <th>0</th>\n",
       "      <td>0.0</td>\n",
       "      <td>35.484651</td>\n",
       "    </tr>\n",
       "    <tr>\n",
       "      <th>1</th>\n",
       "      <td>1.0</td>\n",
       "      <td>47.817619</td>\n",
       "    </tr>\n",
       "    <tr>\n",
       "      <th>2</th>\n",
       "      <td>2.0</td>\n",
       "      <td>42.797857</td>\n",
       "    </tr>\n",
       "    <tr>\n",
       "      <th>3</th>\n",
       "      <td>3.0</td>\n",
       "      <td>50.690976</td>\n",
       "    </tr>\n",
       "  </tbody>\n",
       "</table>\n",
       "</div>"
      ],
      "text/plain": [
       "   Group  novelty-phase5\n",
       "0    0.0       35.484651\n",
       "1    1.0       47.817619\n",
       "2    2.0       42.797857\n",
       "3    3.0       50.690976"
      ]
     },
     "execution_count": 34,
     "metadata": {},
     "output_type": "execute_result"
    }
   ],
   "source": [
    "overall_loc_scores_final.groupby('Group', as_index=False)['novelty-phase5'].mean()"
   ]
  },
  {
   "cell_type": "markdown",
   "id": "5f98ab27",
   "metadata": {},
   "source": [
    "## improve-novel-15 Line Charts"
   ]
  },
  {
   "cell_type": "code",
   "execution_count": 35,
   "id": "8104b88e",
   "metadata": {},
   "outputs": [
    {
     "data": {
      "text/plain": [
       "<matplotlib.legend.Legend at 0x7f8bda0427c0>"
      ]
     },
     "execution_count": 35,
     "metadata": {},
     "output_type": "execute_result"
    },
    {
     "data": {
      "image/png": "[encoded data removed]",
      "text/plain": [
       "<Figure size 432x288 with 1 Axes>"
      ]
     },
     "metadata": {
      "needs_background": "light"
     },
     "output_type": "display_data"
    }
   ],
   "source": [
    "import matplotlib.pyplot as plt\n",
    "\n",
    "# Mean Scores of All Groups [ Novelty Scores ]\n",
    "\n",
    "y1 = [8.97, 22.12, 27.08, 29.49, 39.12]\n",
    "y2 = [26.81, 34.3, 40.7, 38.56, 46.97]\n",
    "y3 = [24.7, 32.14, 30.26, 29.04, 42.8]\n",
    "y4 = [19.87, 23.02, 25.3, 30.6, 50.7]   \n",
    "\n",
    "x_axis=['Phase 1', 'Phase 2', 'Phase 3', 'Phase 4', 'Phase 5']\n",
    "\n",
    "line1 = plt.plot(x_axis, y1,'ko-',label='Bogota 0 ( No Transparency )')\n",
    "line2 = plt.plot(x_axis, y2,'ro-',label='Bogota 1 ( Performance Transparency )') \n",
    "line3 = plt.plot(x_axis, y3,'mo-',label='Bogota 2 ( Solution Transparency )')\n",
    "line3 = plt.plot(x_axis, y4,'bo-',label='Bogota 3 ( Full Transparency )')\n",
    "\n",
    "plt.title(\"Mean Scores of Novelty Scores for All Treatment Groups\")\n",
    "plt.ylabel(\"Mean Scores\")\n",
    "\n",
    "plt.legend(bbox_to_anchor=(1, 1),\n",
    "           bbox_transform=plt.gcf().transFigure)"
   ]
  },
  {
   "cell_type": "markdown",
   "id": "88387889",
   "metadata": {},
   "source": [
    "## add-loc-15 Box Plots"
   ]
  },
  {
   "cell_type": "code",
   "execution_count": 36,
   "id": "907a67d5",
   "metadata": {},
   "outputs": [
    {
     "name": "stderr",
     "output_type": "stream",
     "text": [
      "/usr/local/anaconda3/lib/python3.8/site-packages/seaborn/categorical.py:1296: UserWarning: 32.6% of the points cannot be placed; you may want to decrease the size of the markers or use stripplot.\n",
      "  warnings.warn(msg, UserWarning)\n",
      "/usr/local/anaconda3/lib/python3.8/site-packages/seaborn/categorical.py:1296: UserWarning: 16.7% of the points cannot be placed; you may want to decrease the size of the markers or use stripplot.\n",
      "  warnings.warn(msg, UserWarning)\n",
      "/usr/local/anaconda3/lib/python3.8/site-packages/seaborn/categorical.py:1296: UserWarning: 21.4% of the points cannot be placed; you may want to decrease the size of the markers or use stripplot.\n",
      "  warnings.warn(msg, UserWarning)\n"
     ]
    },
    {
     "data": {
      "image/png": "[encoded data removed]",
      "text/plain": [
       "<Figure size 432x288 with 1 Axes>"
      ]
     },
     "metadata": {
      "needs_background": "light"
     },
     "output_type": "display_data"
    }
   ],
   "source": [
    "import matplotlib.pyplot as plt\n",
    "import seaborn as sns\n",
    "ax = sns.boxplot(x='Group', y='add-loc-15', data=overall_loc_scores_final, color='#99c2a2')\n",
    "ax = sns.swarmplot(x=\"Group\", y=\"add-loc-15\", data=overall_loc_scores_final, color='#7d0013')\n",
    "plt.show()"
   ]
  },
  {
   "cell_type": "code",
   "execution_count": 37,
   "id": "a20c2f8f",
   "metadata": {},
   "outputs": [
    {
     "data": {
      "text/html": [
       "<div>\n",
       "<style scoped>\n",
       "    .dataframe tbody tr th:only-of-type {\n",
       "        vertical-align: middle;\n",
       "    }\n",
       "\n",
       "    .dataframe tbody tr th {\n",
       "        vertical-align: top;\n",
       "    }\n",
       "\n",
       "    .dataframe thead th {\n",
       "        text-align: right;\n",
       "    }\n",
       "</style>\n",
       "<table border=\"1\" class=\"dataframe\">\n",
       "  <thead>\n",
       "    <tr style=\"text-align: right;\">\n",
       "      <th></th>\n",
       "      <th>Group</th>\n",
       "      <th>add-loc-15</th>\n",
       "    </tr>\n",
       "  </thead>\n",
       "  <tbody>\n",
       "    <tr>\n",
       "      <th>0</th>\n",
       "      <td>0.0</td>\n",
       "      <td>18.093023</td>\n",
       "    </tr>\n",
       "    <tr>\n",
       "      <th>1</th>\n",
       "      <td>1.0</td>\n",
       "      <td>27.857143</td>\n",
       "    </tr>\n",
       "    <tr>\n",
       "      <th>2</th>\n",
       "      <td>2.0</td>\n",
       "      <td>21.166667</td>\n",
       "    </tr>\n",
       "    <tr>\n",
       "      <th>3</th>\n",
       "      <td>3.0</td>\n",
       "      <td>29.487805</td>\n",
       "    </tr>\n",
       "  </tbody>\n",
       "</table>\n",
       "</div>"
      ],
      "text/plain": [
       "   Group  add-loc-15\n",
       "0    0.0   18.093023\n",
       "1    1.0   27.857143\n",
       "2    2.0   21.166667\n",
       "3    3.0   29.487805"
      ]
     },
     "execution_count": 37,
     "metadata": {},
     "output_type": "execute_result"
    }
   ],
   "source": [
    "overall_loc_scores_final.groupby('Group', as_index=False)['add-loc-15'].mean()"
   ]
  },
  {
   "cell_type": "code",
   "execution_count": 38,
   "id": "9952047f",
   "metadata": {},
   "outputs": [
    {
     "data": {
      "text/html": [
       "<div>\n",
       "<style scoped>\n",
       "    .dataframe tbody tr th:only-of-type {\n",
       "        vertical-align: middle;\n",
       "    }\n",
       "\n",
       "    .dataframe tbody tr th {\n",
       "        vertical-align: top;\n",
       "    }\n",
       "\n",
       "    .dataframe thead th {\n",
       "        text-align: right;\n",
       "    }\n",
       "</style>\n",
       "<table border=\"1\" class=\"dataframe\">\n",
       "  <thead>\n",
       "    <tr style=\"text-align: right;\">\n",
       "      <th></th>\n",
       "      <th>Group</th>\n",
       "      <th>add-loc-12</th>\n",
       "    </tr>\n",
       "  </thead>\n",
       "  <tbody>\n",
       "    <tr>\n",
       "      <th>0</th>\n",
       "      <td>0.0</td>\n",
       "      <td>13.976744</td>\n",
       "    </tr>\n",
       "    <tr>\n",
       "      <th>1</th>\n",
       "      <td>1.0</td>\n",
       "      <td>11.952381</td>\n",
       "    </tr>\n",
       "    <tr>\n",
       "      <th>2</th>\n",
       "      <td>2.0</td>\n",
       "      <td>12.023810</td>\n",
       "    </tr>\n",
       "    <tr>\n",
       "      <th>3</th>\n",
       "      <td>3.0</td>\n",
       "      <td>25.609756</td>\n",
       "    </tr>\n",
       "  </tbody>\n",
       "</table>\n",
       "</div>"
      ],
      "text/plain": [
       "   Group  add-loc-12\n",
       "0    0.0   13.976744\n",
       "1    1.0   11.952381\n",
       "2    2.0   12.023810\n",
       "3    3.0   25.609756"
      ]
     },
     "execution_count": 38,
     "metadata": {},
     "output_type": "execute_result"
    }
   ],
   "source": [
    "overall_loc_scores_final.groupby('Group', as_index=False)['add-loc-12'].mean()"
   ]
  },
  {
   "cell_type": "code",
   "execution_count": 39,
   "id": "c0d99563",
   "metadata": {},
   "outputs": [
    {
     "data": {
      "text/html": [
       "<div>\n",
       "<style scoped>\n",
       "    .dataframe tbody tr th:only-of-type {\n",
       "        vertical-align: middle;\n",
       "    }\n",
       "\n",
       "    .dataframe tbody tr th {\n",
       "        vertical-align: top;\n",
       "    }\n",
       "\n",
       "    .dataframe thead th {\n",
       "        text-align: right;\n",
       "    }\n",
       "</style>\n",
       "<table border=\"1\" class=\"dataframe\">\n",
       "  <thead>\n",
       "    <tr style=\"text-align: right;\">\n",
       "      <th></th>\n",
       "      <th>Group</th>\n",
       "      <th>add-loc-23</th>\n",
       "    </tr>\n",
       "  </thead>\n",
       "  <tbody>\n",
       "    <tr>\n",
       "      <th>0</th>\n",
       "      <td>0.0</td>\n",
       "      <td>17.325581</td>\n",
       "    </tr>\n",
       "    <tr>\n",
       "      <th>1</th>\n",
       "      <td>1.0</td>\n",
       "      <td>26.500000</td>\n",
       "    </tr>\n",
       "    <tr>\n",
       "      <th>2</th>\n",
       "      <td>2.0</td>\n",
       "      <td>12.119048</td>\n",
       "    </tr>\n",
       "    <tr>\n",
       "      <th>3</th>\n",
       "      <td>3.0</td>\n",
       "      <td>19.707317</td>\n",
       "    </tr>\n",
       "  </tbody>\n",
       "</table>\n",
       "</div>"
      ],
      "text/plain": [
       "   Group  add-loc-23\n",
       "0    0.0   17.325581\n",
       "1    1.0   26.500000\n",
       "2    2.0   12.119048\n",
       "3    3.0   19.707317"
      ]
     },
     "execution_count": 39,
     "metadata": {},
     "output_type": "execute_result"
    }
   ],
   "source": [
    "overall_loc_scores_final.groupby('Group', as_index=False)['add-loc-23'].mean()"
   ]
  },
  {
   "cell_type": "code",
   "execution_count": 40,
   "id": "7c683c8b",
   "metadata": {},
   "outputs": [
    {
     "data": {
      "text/html": [
       "<div>\n",
       "<style scoped>\n",
       "    .dataframe tbody tr th:only-of-type {\n",
       "        vertical-align: middle;\n",
       "    }\n",
       "\n",
       "    .dataframe tbody tr th {\n",
       "        vertical-align: top;\n",
       "    }\n",
       "\n",
       "    .dataframe thead th {\n",
       "        text-align: right;\n",
       "    }\n",
       "</style>\n",
       "<table border=\"1\" class=\"dataframe\">\n",
       "  <thead>\n",
       "    <tr style=\"text-align: right;\">\n",
       "      <th></th>\n",
       "      <th>Group</th>\n",
       "      <th>add-loc-34</th>\n",
       "    </tr>\n",
       "  </thead>\n",
       "  <tbody>\n",
       "    <tr>\n",
       "      <th>0</th>\n",
       "      <td>0.0</td>\n",
       "      <td>17.325581</td>\n",
       "    </tr>\n",
       "    <tr>\n",
       "      <th>1</th>\n",
       "      <td>1.0</td>\n",
       "      <td>24.142857</td>\n",
       "    </tr>\n",
       "    <tr>\n",
       "      <th>2</th>\n",
       "      <td>2.0</td>\n",
       "      <td>19.976190</td>\n",
       "    </tr>\n",
       "    <tr>\n",
       "      <th>3</th>\n",
       "      <td>3.0</td>\n",
       "      <td>29.731707</td>\n",
       "    </tr>\n",
       "  </tbody>\n",
       "</table>\n",
       "</div>"
      ],
      "text/plain": [
       "   Group  add-loc-34\n",
       "0    0.0   17.325581\n",
       "1    1.0   24.142857\n",
       "2    2.0   19.976190\n",
       "3    3.0   29.731707"
      ]
     },
     "execution_count": 40,
     "metadata": {},
     "output_type": "execute_result"
    }
   ],
   "source": [
    "overall_loc_scores_final.groupby('Group', as_index=False)['add-loc-34'].mean()"
   ]
  },
  {
   "cell_type": "code",
   "execution_count": 41,
   "id": "6ae05747",
   "metadata": {},
   "outputs": [
    {
     "data": {
      "text/html": [
       "<div>\n",
       "<style scoped>\n",
       "    .dataframe tbody tr th:only-of-type {\n",
       "        vertical-align: middle;\n",
       "    }\n",
       "\n",
       "    .dataframe tbody tr th {\n",
       "        vertical-align: top;\n",
       "    }\n",
       "\n",
       "    .dataframe thead th {\n",
       "        text-align: right;\n",
       "    }\n",
       "</style>\n",
       "<table border=\"1\" class=\"dataframe\">\n",
       "  <thead>\n",
       "    <tr style=\"text-align: right;\">\n",
       "      <th></th>\n",
       "      <th>Group</th>\n",
       "      <th>add-loc-45</th>\n",
       "    </tr>\n",
       "  </thead>\n",
       "  <tbody>\n",
       "    <tr>\n",
       "      <th>0</th>\n",
       "      <td>0.0</td>\n",
       "      <td>17.534884</td>\n",
       "    </tr>\n",
       "    <tr>\n",
       "      <th>1</th>\n",
       "      <td>1.0</td>\n",
       "      <td>11.952381</td>\n",
       "    </tr>\n",
       "    <tr>\n",
       "      <th>2</th>\n",
       "      <td>2.0</td>\n",
       "      <td>9.523810</td>\n",
       "    </tr>\n",
       "    <tr>\n",
       "      <th>3</th>\n",
       "      <td>3.0</td>\n",
       "      <td>37.219512</td>\n",
       "    </tr>\n",
       "  </tbody>\n",
       "</table>\n",
       "</div>"
      ],
      "text/plain": [
       "   Group  add-loc-45\n",
       "0    0.0   17.534884\n",
       "1    1.0   11.952381\n",
       "2    2.0    9.523810\n",
       "3    3.0   37.219512"
      ]
     },
     "execution_count": 41,
     "metadata": {},
     "output_type": "execute_result"
    }
   ],
   "source": [
    "overall_loc_scores_final.groupby('Group', as_index=False)['add-loc-45'].mean()"
   ]
  },
  {
   "cell_type": "markdown",
   "id": "c548ed7b",
   "metadata": {},
   "source": [
    "## add-loc-15 line charts"
   ]
  },
  {
   "cell_type": "code",
   "execution_count": 42,
   "id": "4463503a",
   "metadata": {},
   "outputs": [
    {
     "data": {
      "text/plain": [
       "<matplotlib.legend.Legend at 0x7f8bda3cddc0>"
      ]
     },
     "execution_count": 42,
     "metadata": {},
     "output_type": "execute_result"
    },
    {
     "data": {
      "image/png": "[encoded data removed]",
      "text/plain": [
       "<Figure size 432x288 with 1 Axes>"
      ]
     },
     "metadata": {
      "needs_background": "light"
     },
     "output_type": "display_data"
    }
   ],
   "source": [
    "import matplotlib.pyplot as plt\n",
    "\n",
    "# Mean Scores of All Groups [ Novelty Scores ]\n",
    "\n",
    "y1 = [15.41, 19.1, 19.1, 19.3]\n",
    "y2 = [12.02, 19.56, 24.22, 12.02]\n",
    "y3 = [12.02, 12.12, 19.98, 9.52]\n",
    "y4 = [25.61, 19.71, 29.73, 37.22]   \n",
    "\n",
    "x_axis=['Phase 1-2', 'Phase 2-3', 'Phase 3-4', 'Phase 4-5']\n",
    "\n",
    "line1 = plt.plot(x_axis, y1,'ko-',label='Bogota 0 ( No Transparency )')\n",
    "line2 = plt.plot(x_axis, y2,'ro-',label='Bogota 1 ( Performance Transparency )') \n",
    "line3 = plt.plot(x_axis, y3,'mo-',label='Bogota 2 ( Solution Transparency )')\n",
    "line3 = plt.plot(x_axis, y4,'bo-',label='Bogota 3 ( Full Transparency )')\n",
    "\n",
    "plt.title(\"Mean of Line Added for All Treatment Groups\")\n",
    "plt.ylabel(\"Mean Scores\")\n",
    "\n",
    "plt.legend(bbox_to_anchor=(1, 1),\n",
    "           bbox_transform=plt.gcf().transFigure)"
   ]
  },
  {
   "cell_type": "markdown",
   "id": "6ac35a7e",
   "metadata": {},
   "source": [
    "## delete-loc-15 Box Plot"
   ]
  },
  {
   "cell_type": "code",
   "execution_count": 43,
   "id": "c1d35749",
   "metadata": {},
   "outputs": [
    {
     "data": {
      "image/png": "[encoded data removed]",
      "text/plain": [
       "<Figure size 432x288 with 1 Axes>"
      ]
     },
     "metadata": {
      "needs_background": "light"
     },
     "output_type": "display_data"
    }
   ],
   "source": [
    "import matplotlib.pyplot as plt\n",
    "import seaborn as sns\n",
    "ax = sns.boxplot(x='Group', y='delete-loc-15', data=overall_loc_scores_final, color='#99c2a2')\n",
    "ax = sns.stripplot(x=\"Group\", y=\"delete-loc-15\", data=overall_loc_scores_final, color='#7d0013')\n",
    "plt.show()"
   ]
  },
  {
   "cell_type": "code",
   "execution_count": 44,
   "id": "e96ab624",
   "metadata": {},
   "outputs": [
    {
     "data": {
      "text/html": [
       "<div>\n",
       "<style scoped>\n",
       "    .dataframe tbody tr th:only-of-type {\n",
       "        vertical-align: middle;\n",
       "    }\n",
       "\n",
       "    .dataframe tbody tr th {\n",
       "        vertical-align: top;\n",
       "    }\n",
       "\n",
       "    .dataframe thead th {\n",
       "        text-align: right;\n",
       "    }\n",
       "</style>\n",
       "<table border=\"1\" class=\"dataframe\">\n",
       "  <thead>\n",
       "    <tr style=\"text-align: right;\">\n",
       "      <th></th>\n",
       "      <th>Group</th>\n",
       "      <th>delete-loc-15</th>\n",
       "    </tr>\n",
       "  </thead>\n",
       "  <tbody>\n",
       "    <tr>\n",
       "      <th>0</th>\n",
       "      <td>0.0</td>\n",
       "      <td>33.883721</td>\n",
       "    </tr>\n",
       "    <tr>\n",
       "      <th>1</th>\n",
       "      <td>1.0</td>\n",
       "      <td>108.547619</td>\n",
       "    </tr>\n",
       "    <tr>\n",
       "      <th>2</th>\n",
       "      <td>2.0</td>\n",
       "      <td>67.309524</td>\n",
       "    </tr>\n",
       "    <tr>\n",
       "      <th>3</th>\n",
       "      <td>3.0</td>\n",
       "      <td>104.365854</td>\n",
       "    </tr>\n",
       "  </tbody>\n",
       "</table>\n",
       "</div>"
      ],
      "text/plain": [
       "   Group  delete-loc-15\n",
       "0    0.0      33.883721\n",
       "1    1.0     108.547619\n",
       "2    2.0      67.309524\n",
       "3    3.0     104.365854"
      ]
     },
     "execution_count": 44,
     "metadata": {},
     "output_type": "execute_result"
    }
   ],
   "source": [
    "overall_loc_scores_final.groupby('Group', as_index=False)['delete-loc-15'].mean()"
   ]
  },
  {
   "cell_type": "code",
   "execution_count": 45,
   "id": "25b24bee",
   "metadata": {},
   "outputs": [
    {
     "data": {
      "text/html": [
       "<div>\n",
       "<style scoped>\n",
       "    .dataframe tbody tr th:only-of-type {\n",
       "        vertical-align: middle;\n",
       "    }\n",
       "\n",
       "    .dataframe tbody tr th {\n",
       "        vertical-align: top;\n",
       "    }\n",
       "\n",
       "    .dataframe thead th {\n",
       "        text-align: right;\n",
       "    }\n",
       "</style>\n",
       "<table border=\"1\" class=\"dataframe\">\n",
       "  <thead>\n",
       "    <tr style=\"text-align: right;\">\n",
       "      <th></th>\n",
       "      <th>Group</th>\n",
       "      <th>delete-loc-12</th>\n",
       "    </tr>\n",
       "  </thead>\n",
       "  <tbody>\n",
       "    <tr>\n",
       "      <th>0</th>\n",
       "      <td>0.0</td>\n",
       "      <td>25.651163</td>\n",
       "    </tr>\n",
       "    <tr>\n",
       "      <th>1</th>\n",
       "      <td>1.0</td>\n",
       "      <td>23.166667</td>\n",
       "    </tr>\n",
       "    <tr>\n",
       "      <th>2</th>\n",
       "      <td>2.0</td>\n",
       "      <td>32.857143</td>\n",
       "    </tr>\n",
       "    <tr>\n",
       "      <th>3</th>\n",
       "      <td>3.0</td>\n",
       "      <td>51.975610</td>\n",
       "    </tr>\n",
       "  </tbody>\n",
       "</table>\n",
       "</div>"
      ],
      "text/plain": [
       "   Group  delete-loc-12\n",
       "0    0.0      25.651163\n",
       "1    1.0      23.166667\n",
       "2    2.0      32.857143\n",
       "3    3.0      51.975610"
      ]
     },
     "execution_count": 45,
     "metadata": {},
     "output_type": "execute_result"
    }
   ],
   "source": [
    "overall_loc_scores_final.groupby('Group', as_index=False)['delete-loc-12'].mean()"
   ]
  },
  {
   "cell_type": "code",
   "execution_count": 46,
   "id": "7984c01c",
   "metadata": {},
   "outputs": [
    {
     "data": {
      "text/html": [
       "<div>\n",
       "<style scoped>\n",
       "    .dataframe tbody tr th:only-of-type {\n",
       "        vertical-align: middle;\n",
       "    }\n",
       "\n",
       "    .dataframe tbody tr th {\n",
       "        vertical-align: top;\n",
       "    }\n",
       "\n",
       "    .dataframe thead th {\n",
       "        text-align: right;\n",
       "    }\n",
       "</style>\n",
       "<table border=\"1\" class=\"dataframe\">\n",
       "  <thead>\n",
       "    <tr style=\"text-align: right;\">\n",
       "      <th></th>\n",
       "      <th>Group</th>\n",
       "      <th>delete-loc-23</th>\n",
       "    </tr>\n",
       "  </thead>\n",
       "  <tbody>\n",
       "    <tr>\n",
       "      <th>0</th>\n",
       "      <td>0.0</td>\n",
       "      <td>13.232558</td>\n",
       "    </tr>\n",
       "    <tr>\n",
       "      <th>1</th>\n",
       "      <td>1.0</td>\n",
       "      <td>40.404762</td>\n",
       "    </tr>\n",
       "    <tr>\n",
       "      <th>2</th>\n",
       "      <td>2.0</td>\n",
       "      <td>32.166667</td>\n",
       "    </tr>\n",
       "    <tr>\n",
       "      <th>3</th>\n",
       "      <td>3.0</td>\n",
       "      <td>31.341463</td>\n",
       "    </tr>\n",
       "  </tbody>\n",
       "</table>\n",
       "</div>"
      ],
      "text/plain": [
       "   Group  delete-loc-23\n",
       "0    0.0      13.232558\n",
       "1    1.0      40.404762\n",
       "2    2.0      32.166667\n",
       "3    3.0      31.341463"
      ]
     },
     "execution_count": 46,
     "metadata": {},
     "output_type": "execute_result"
    }
   ],
   "source": [
    "overall_loc_scores_final.groupby('Group', as_index=False)['delete-loc-23'].mean()"
   ]
  },
  {
   "cell_type": "code",
   "execution_count": 47,
   "id": "b905b475",
   "metadata": {},
   "outputs": [
    {
     "data": {
      "text/html": [
       "<div>\n",
       "<style scoped>\n",
       "    .dataframe tbody tr th:only-of-type {\n",
       "        vertical-align: middle;\n",
       "    }\n",
       "\n",
       "    .dataframe tbody tr th {\n",
       "        vertical-align: top;\n",
       "    }\n",
       "\n",
       "    .dataframe thead th {\n",
       "        text-align: right;\n",
       "    }\n",
       "</style>\n",
       "<table border=\"1\" class=\"dataframe\">\n",
       "  <thead>\n",
       "    <tr style=\"text-align: right;\">\n",
       "      <th></th>\n",
       "      <th>Group</th>\n",
       "      <th>delete-loc-34</th>\n",
       "    </tr>\n",
       "  </thead>\n",
       "  <tbody>\n",
       "    <tr>\n",
       "      <th>0</th>\n",
       "      <td>0.0</td>\n",
       "      <td>50.883721</td>\n",
       "    </tr>\n",
       "    <tr>\n",
       "      <th>1</th>\n",
       "      <td>1.0</td>\n",
       "      <td>58.023810</td>\n",
       "    </tr>\n",
       "    <tr>\n",
       "      <th>2</th>\n",
       "      <td>2.0</td>\n",
       "      <td>28.928571</td>\n",
       "    </tr>\n",
       "    <tr>\n",
       "      <th>3</th>\n",
       "      <td>3.0</td>\n",
       "      <td>81.682927</td>\n",
       "    </tr>\n",
       "  </tbody>\n",
       "</table>\n",
       "</div>"
      ],
      "text/plain": [
       "   Group  delete-loc-34\n",
       "0    0.0      50.883721\n",
       "1    1.0      58.023810\n",
       "2    2.0      28.928571\n",
       "3    3.0      81.682927"
      ]
     },
     "execution_count": 47,
     "metadata": {},
     "output_type": "execute_result"
    }
   ],
   "source": [
    "overall_loc_scores_final.groupby('Group', as_index=False)['delete-loc-34'].mean()"
   ]
  },
  {
   "cell_type": "code",
   "execution_count": 48,
   "id": "e7e0c04f",
   "metadata": {},
   "outputs": [
    {
     "data": {
      "text/html": [
       "<div>\n",
       "<style scoped>\n",
       "    .dataframe tbody tr th:only-of-type {\n",
       "        vertical-align: middle;\n",
       "    }\n",
       "\n",
       "    .dataframe tbody tr th {\n",
       "        vertical-align: top;\n",
       "    }\n",
       "\n",
       "    .dataframe thead th {\n",
       "        text-align: right;\n",
       "    }\n",
       "</style>\n",
       "<table border=\"1\" class=\"dataframe\">\n",
       "  <thead>\n",
       "    <tr style=\"text-align: right;\">\n",
       "      <th></th>\n",
       "      <th>Group</th>\n",
       "      <th>delete-loc-45</th>\n",
       "    </tr>\n",
       "  </thead>\n",
       "  <tbody>\n",
       "    <tr>\n",
       "      <th>0</th>\n",
       "      <td>0.0</td>\n",
       "      <td>26.651163</td>\n",
       "    </tr>\n",
       "    <tr>\n",
       "      <th>1</th>\n",
       "      <td>1.0</td>\n",
       "      <td>23.166667</td>\n",
       "    </tr>\n",
       "    <tr>\n",
       "      <th>2</th>\n",
       "      <td>2.0</td>\n",
       "      <td>22.833333</td>\n",
       "    </tr>\n",
       "    <tr>\n",
       "      <th>3</th>\n",
       "      <td>3.0</td>\n",
       "      <td>34.463415</td>\n",
       "    </tr>\n",
       "  </tbody>\n",
       "</table>\n",
       "</div>"
      ],
      "text/plain": [
       "   Group  delete-loc-45\n",
       "0    0.0      26.651163\n",
       "1    1.0      23.166667\n",
       "2    2.0      22.833333\n",
       "3    3.0      34.463415"
      ]
     },
     "execution_count": 48,
     "metadata": {},
     "output_type": "execute_result"
    }
   ],
   "source": [
    "overall_loc_scores_final.groupby('Group', as_index=False)['delete-loc-45'].mean()"
   ]
  },
  {
   "cell_type": "markdown",
   "id": "4a61c3fa",
   "metadata": {},
   "source": [
    "## delete-loc-15 Line Charts"
   ]
  },
  {
   "cell_type": "code",
   "execution_count": 49,
   "id": "3e4abcee",
   "metadata": {},
   "outputs": [
    {
     "data": {
      "text/plain": [
       "<matplotlib.legend.Legend at 0x7f8bd977ba00>"
      ]
     },
     "execution_count": 49,
     "metadata": {},
     "output_type": "execute_result"
    },
    {
     "data": {
      "image/png": "[encoded data removed]",
      "text/plain": [
       "<Figure size 432x288 with 1 Axes>"
      ]
     },
     "metadata": {
      "needs_background": "light"
     },
     "output_type": "display_data"
    }
   ],
   "source": [
    "import matplotlib.pyplot as plt\n",
    "\n",
    "# Mean Scores of All Groups [ Novelty Scores ]\n",
    "\n",
    "y1 = [28.28, 14.59, 56.10, 29.38]\n",
    "y2 = [22.88, 38.29, 56.90, 22.88]\n",
    "y3 = [32.86, 32.17, 28.93, 22.83]\n",
    "y4 = [51.98, 31.34, 81.68, 34.46]   \n",
    "\n",
    "x_axis=['Phase 1-2', 'Phase 2-3', 'Phase 3-4', 'Phase 4-5']\n",
    "\n",
    "line1 = plt.plot(x_axis, y1,'ko-',label='Bogota 0 ( No Transparency )')\n",
    "line2 = plt.plot(x_axis, y2,'ro-',label='Bogota 1 ( Performance Transparency )') \n",
    "line3 = plt.plot(x_axis, y3,'mo-',label='Bogota 2 ( Solution Transparency )')\n",
    "line3 = plt.plot(x_axis, y4,'bo-',label='Bogota 3 ( Full Transparency )')\n",
    "\n",
    "plt.title(\"Mean of Lines Deleted for All Treatment Groups\")\n",
    "plt.ylabel(\"Mean Scores\")\n",
    "\n",
    "plt.legend(bbox_to_anchor=(1, 1),\n",
    "           bbox_transform=plt.gcf().transFigure)"
   ]
  },
  {
   "cell_type": "markdown",
   "id": "2b1b7a48",
   "metadata": {},
   "source": [
    "## improve-effort-15 Box Plots"
   ]
  },
  {
   "cell_type": "code",
   "execution_count": 50,
   "id": "0bfc0f59",
   "metadata": {},
   "outputs": [
    {
     "data": {
      "image/png": "[encoded data removed]",
      "text/plain": [
       "<Figure size 432x288 with 1 Axes>"
      ]
     },
     "metadata": {
      "needs_background": "light"
     },
     "output_type": "display_data"
    }
   ],
   "source": [
    "import matplotlib.pyplot as plt\n",
    "import seaborn as sns\n",
    "ax = sns.boxplot(x='Group', y='improve-effort-15', data=overall_loc_scores_final, color='#99c2a2')\n",
    "ax = sns.stripplot(x=\"Group\", y='improve-effort-15', data=overall_loc_scores_final, color='#7d0013')\n",
    "plt.show()"
   ]
  },
  {
   "cell_type": "code",
   "execution_count": 51,
   "id": "75ce8e4d",
   "metadata": {},
   "outputs": [
    {
     "data": {
      "text/html": [
       "<div>\n",
       "<style scoped>\n",
       "    .dataframe tbody tr th:only-of-type {\n",
       "        vertical-align: middle;\n",
       "    }\n",
       "\n",
       "    .dataframe tbody tr th {\n",
       "        vertical-align: top;\n",
       "    }\n",
       "\n",
       "    .dataframe thead th {\n",
       "        text-align: right;\n",
       "    }\n",
       "</style>\n",
       "<table border=\"1\" class=\"dataframe\">\n",
       "  <thead>\n",
       "    <tr style=\"text-align: right;\">\n",
       "      <th></th>\n",
       "      <th>Group</th>\n",
       "      <th>improve-effort-15</th>\n",
       "    </tr>\n",
       "  </thead>\n",
       "  <tbody>\n",
       "    <tr>\n",
       "      <th>0</th>\n",
       "      <td>0.0</td>\n",
       "      <td>1.151163</td>\n",
       "    </tr>\n",
       "    <tr>\n",
       "      <th>1</th>\n",
       "      <td>1.0</td>\n",
       "      <td>-26.416667</td>\n",
       "    </tr>\n",
       "    <tr>\n",
       "      <th>2</th>\n",
       "      <td>2.0</td>\n",
       "      <td>-12.488095</td>\n",
       "    </tr>\n",
       "    <tr>\n",
       "      <th>3</th>\n",
       "      <td>3.0</td>\n",
       "      <td>-22.695122</td>\n",
       "    </tr>\n",
       "  </tbody>\n",
       "</table>\n",
       "</div>"
      ],
      "text/plain": [
       "   Group  improve-effort-15\n",
       "0    0.0           1.151163\n",
       "1    1.0         -26.416667\n",
       "2    2.0         -12.488095\n",
       "3    3.0         -22.695122"
      ]
     },
     "execution_count": 51,
     "metadata": {},
     "output_type": "execute_result"
    }
   ],
   "source": [
    "overall_loc_scores_final.groupby('Group', as_index=False)['improve-effort-15'].mean()"
   ]
  },
  {
   "cell_type": "code",
   "execution_count": 52,
   "id": "213544ef",
   "metadata": {},
   "outputs": [
    {
     "data": {
      "text/html": [
       "<div>\n",
       "<style scoped>\n",
       "    .dataframe tbody tr th:only-of-type {\n",
       "        vertical-align: middle;\n",
       "    }\n",
       "\n",
       "    .dataframe tbody tr th {\n",
       "        vertical-align: top;\n",
       "    }\n",
       "\n",
       "    .dataframe thead th {\n",
       "        text-align: right;\n",
       "    }\n",
       "</style>\n",
       "<table border=\"1\" class=\"dataframe\">\n",
       "  <thead>\n",
       "    <tr style=\"text-align: right;\">\n",
       "      <th></th>\n",
       "      <th>Group</th>\n",
       "      <th>improve-effort-12</th>\n",
       "    </tr>\n",
       "  </thead>\n",
       "  <tbody>\n",
       "    <tr>\n",
       "      <th>0</th>\n",
       "      <td>0.0</td>\n",
       "      <td>1.151163</td>\n",
       "    </tr>\n",
       "    <tr>\n",
       "      <th>1</th>\n",
       "      <td>1.0</td>\n",
       "      <td>0.369048</td>\n",
       "    </tr>\n",
       "    <tr>\n",
       "      <th>2</th>\n",
       "      <td>2.0</td>\n",
       "      <td>-4.404762</td>\n",
       "    </tr>\n",
       "    <tr>\n",
       "      <th>3</th>\n",
       "      <td>3.0</td>\n",
       "      <td>-0.378049</td>\n",
       "    </tr>\n",
       "  </tbody>\n",
       "</table>\n",
       "</div>"
      ],
      "text/plain": [
       "   Group  improve-effort-12\n",
       "0    0.0           1.151163\n",
       "1    1.0           0.369048\n",
       "2    2.0          -4.404762\n",
       "3    3.0          -0.378049"
      ]
     },
     "execution_count": 52,
     "metadata": {},
     "output_type": "execute_result"
    }
   ],
   "source": [
    "overall_loc_scores_final.groupby('Group', as_index=False)['improve-effort-12'].mean()"
   ]
  },
  {
   "cell_type": "code",
   "execution_count": 53,
   "id": "2d7c5b74",
   "metadata": {},
   "outputs": [
    {
     "data": {
      "text/html": [
       "<div>\n",
       "<style scoped>\n",
       "    .dataframe tbody tr th:only-of-type {\n",
       "        vertical-align: middle;\n",
       "    }\n",
       "\n",
       "    .dataframe tbody tr th {\n",
       "        vertical-align: top;\n",
       "    }\n",
       "\n",
       "    .dataframe thead th {\n",
       "        text-align: right;\n",
       "    }\n",
       "</style>\n",
       "<table border=\"1\" class=\"dataframe\">\n",
       "  <thead>\n",
       "    <tr style=\"text-align: right;\">\n",
       "      <th></th>\n",
       "      <th>Group</th>\n",
       "      <th>improve-effort-23</th>\n",
       "    </tr>\n",
       "  </thead>\n",
       "  <tbody>\n",
       "    <tr>\n",
       "      <th>0</th>\n",
       "      <td>0.0</td>\n",
       "      <td>10.709302</td>\n",
       "    </tr>\n",
       "    <tr>\n",
       "      <th>1</th>\n",
       "      <td>1.0</td>\n",
       "      <td>6.297619</td>\n",
       "    </tr>\n",
       "    <tr>\n",
       "      <th>2</th>\n",
       "      <td>2.0</td>\n",
       "      <td>-3.964286</td>\n",
       "    </tr>\n",
       "    <tr>\n",
       "      <th>3</th>\n",
       "      <td>3.0</td>\n",
       "      <td>4.036585</td>\n",
       "    </tr>\n",
       "  </tbody>\n",
       "</table>\n",
       "</div>"
      ],
      "text/plain": [
       "   Group  improve-effort-23\n",
       "0    0.0          10.709302\n",
       "1    1.0           6.297619\n",
       "2    2.0          -3.964286\n",
       "3    3.0           4.036585"
      ]
     },
     "execution_count": 53,
     "metadata": {},
     "output_type": "execute_result"
    }
   ],
   "source": [
    "overall_loc_scores_final.groupby('Group', as_index=False)['improve-effort-23'].mean()"
   ]
  },
  {
   "cell_type": "code",
   "execution_count": 54,
   "id": "0d45782d",
   "metadata": {},
   "outputs": [
    {
     "data": {
      "text/html": [
       "<div>\n",
       "<style scoped>\n",
       "    .dataframe tbody tr th:only-of-type {\n",
       "        vertical-align: middle;\n",
       "    }\n",
       "\n",
       "    .dataframe tbody tr th {\n",
       "        vertical-align: top;\n",
       "    }\n",
       "\n",
       "    .dataframe thead th {\n",
       "        text-align: right;\n",
       "    }\n",
       "</style>\n",
       "<table border=\"1\" class=\"dataframe\">\n",
       "  <thead>\n",
       "    <tr style=\"text-align: right;\">\n",
       "      <th></th>\n",
       "      <th>Group</th>\n",
       "      <th>improve-effort-34</th>\n",
       "    </tr>\n",
       "  </thead>\n",
       "  <tbody>\n",
       "    <tr>\n",
       "      <th>0</th>\n",
       "      <td>0.0</td>\n",
       "      <td>-8.116279</td>\n",
       "    </tr>\n",
       "    <tr>\n",
       "      <th>1</th>\n",
       "      <td>1.0</td>\n",
       "      <td>-4.869048</td>\n",
       "    </tr>\n",
       "    <tr>\n",
       "      <th>2</th>\n",
       "      <td>2.0</td>\n",
       "      <td>5.511905</td>\n",
       "    </tr>\n",
       "    <tr>\n",
       "      <th>3</th>\n",
       "      <td>3.0</td>\n",
       "      <td>-11.109756</td>\n",
       "    </tr>\n",
       "  </tbody>\n",
       "</table>\n",
       "</div>"
      ],
      "text/plain": [
       "   Group  improve-effort-34\n",
       "0    0.0          -8.116279\n",
       "1    1.0          -4.869048\n",
       "2    2.0           5.511905\n",
       "3    3.0         -11.109756"
      ]
     },
     "execution_count": 54,
     "metadata": {},
     "output_type": "execute_result"
    }
   ],
   "source": [
    "overall_loc_scores_final.groupby('Group', as_index=False)['improve-effort-34'].mean()"
   ]
  },
  {
   "cell_type": "code",
   "execution_count": 55,
   "id": "3fac5377",
   "metadata": {},
   "outputs": [
    {
     "data": {
      "text/html": [
       "<div>\n",
       "<style scoped>\n",
       "    .dataframe tbody tr th:only-of-type {\n",
       "        vertical-align: middle;\n",
       "    }\n",
       "\n",
       "    .dataframe tbody tr th {\n",
       "        vertical-align: top;\n",
       "    }\n",
       "\n",
       "    .dataframe thead th {\n",
       "        text-align: right;\n",
       "    }\n",
       "</style>\n",
       "<table border=\"1\" class=\"dataframe\">\n",
       "  <thead>\n",
       "    <tr style=\"text-align: right;\">\n",
       "      <th></th>\n",
       "      <th>Group</th>\n",
       "      <th>improve-effort-45</th>\n",
       "    </tr>\n",
       "  </thead>\n",
       "  <tbody>\n",
       "    <tr>\n",
       "      <th>0</th>\n",
       "      <td>0.0</td>\n",
       "      <td>4.209302</td>\n",
       "    </tr>\n",
       "    <tr>\n",
       "      <th>1</th>\n",
       "      <td>1.0</td>\n",
       "      <td>0.369048</td>\n",
       "    </tr>\n",
       "    <tr>\n",
       "      <th>2</th>\n",
       "      <td>2.0</td>\n",
       "      <td>-1.892857</td>\n",
       "    </tr>\n",
       "    <tr>\n",
       "      <th>3</th>\n",
       "      <td>3.0</td>\n",
       "      <td>19.987805</td>\n",
       "    </tr>\n",
       "  </tbody>\n",
       "</table>\n",
       "</div>"
      ],
      "text/plain": [
       "   Group  improve-effort-45\n",
       "0    0.0           4.209302\n",
       "1    1.0           0.369048\n",
       "2    2.0          -1.892857\n",
       "3    3.0          19.987805"
      ]
     },
     "execution_count": 55,
     "metadata": {},
     "output_type": "execute_result"
    }
   ],
   "source": [
    "overall_loc_scores_final.groupby('Group', as_index=False)['improve-effort-45'].mean()"
   ]
  },
  {
   "cell_type": "markdown",
   "id": "8fa4fb3a",
   "metadata": {},
   "source": [
    "## improve-effort-15 Line Charts"
   ]
  },
  {
   "cell_type": "code",
   "execution_count": 56,
   "id": "f0c0188b",
   "metadata": {
    "scrolled": true
   },
   "outputs": [
    {
     "data": {
      "text/plain": [
       "<matplotlib.legend.Legend at 0x7f8bd9aa8df0>"
      ]
     },
     "execution_count": 56,
     "metadata": {},
     "output_type": "execute_result"
    },
    {
     "data": {
      "image/png": "[encoded data removed]",
      "text/plain": [
       "<Figure size 432x288 with 1 Axes>"
      ]
     },
     "metadata": {
      "needs_background": "light"
     },
     "output_type": "display_data"
    }
   ],
   "source": [
    "import matplotlib.pyplot as plt\n",
    "\n",
    "# Mean Scores of All Groups [ Novelty Scores ]\n",
    "\n",
    "y1 = [1.27, 11.81, -8.95, 4.64]\n",
    "y2 = [0.59, 0.41, -4.23, 0.59]\n",
    "y3 = [-4.40, -3.96, 5.51, -1.89]\n",
    "y4 = [-0.38, 4.04, -11.11, 19.99]   \n",
    "\n",
    "x_axis=['Phase 1-2', 'Phase 2-3', 'Phase 3-4', 'Phase 4-5']\n",
    "\n",
    "line1 = plt.plot(x_axis, y1,'ko-',label='Bogota 0 ( No Transparency )')\n",
    "line2 = plt.plot(x_axis, y2,'ro-',label='Bogota 1 ( Performance Transparency )') \n",
    "line3 = plt.plot(x_axis, y3,'mo-',label='Bogota 2 ( Solution Transparency )')\n",
    "line3 = plt.plot(x_axis, y4,'bo-',label='Bogota 3 ( Full Transparency )')\n",
    "\n",
    "plt.title(\"Mean of Effort for All Treatment Groups\")\n",
    "plt.ylabel(\"Mean Scores\")\n",
    "\n",
    "plt.legend(bbox_to_anchor=(1, 1),\n",
    "           bbox_transform=plt.gcf().transFigure)"
   ]
  },
  {
   "cell_type": "markdown",
   "id": "bc7a555f",
   "metadata": {},
   "source": [
    "## change-files-15 Box Plots"
   ]
  },
  {
   "cell_type": "code",
   "execution_count": 57,
   "id": "edaa15a5",
   "metadata": {},
   "outputs": [
    {
     "data": {
      "image/png": "[encoded data removed]",
      "text/plain": [
       "<Figure size 432x288 with 1 Axes>"
      ]
     },
     "metadata": {
      "needs_background": "light"
     },
     "output_type": "display_data"
    }
   ],
   "source": [
    "import matplotlib.pyplot as plt\n",
    "import seaborn as sns\n",
    "ax = sns.boxplot(x='Group', y='change-files-15', data=overall_loc_scores_final, color='#99c2a2')\n",
    "ax = sns.stripplot(x=\"Group\", y='change-files-15', data=overall_loc_scores_final, color='#7d0013')\n",
    "plt.show()"
   ]
  },
  {
   "cell_type": "code",
   "execution_count": 58,
   "id": "ebb4bbac",
   "metadata": {},
   "outputs": [
    {
     "data": {
      "text/html": [
       "<div>\n",
       "<style scoped>\n",
       "    .dataframe tbody tr th:only-of-type {\n",
       "        vertical-align: middle;\n",
       "    }\n",
       "\n",
       "    .dataframe tbody tr th {\n",
       "        vertical-align: top;\n",
       "    }\n",
       "\n",
       "    .dataframe thead th {\n",
       "        text-align: right;\n",
       "    }\n",
       "</style>\n",
       "<table border=\"1\" class=\"dataframe\">\n",
       "  <thead>\n",
       "    <tr style=\"text-align: right;\">\n",
       "      <th></th>\n",
       "      <th>Group</th>\n",
       "      <th>change-files-15</th>\n",
       "    </tr>\n",
       "  </thead>\n",
       "  <tbody>\n",
       "    <tr>\n",
       "      <th>0</th>\n",
       "      <td>0.0</td>\n",
       "      <td>3.976744</td>\n",
       "    </tr>\n",
       "    <tr>\n",
       "      <th>1</th>\n",
       "      <td>1.0</td>\n",
       "      <td>3.428571</td>\n",
       "    </tr>\n",
       "    <tr>\n",
       "      <th>2</th>\n",
       "      <td>2.0</td>\n",
       "      <td>3.261905</td>\n",
       "    </tr>\n",
       "    <tr>\n",
       "      <th>3</th>\n",
       "      <td>3.0</td>\n",
       "      <td>3.804878</td>\n",
       "    </tr>\n",
       "  </tbody>\n",
       "</table>\n",
       "</div>"
      ],
      "text/plain": [
       "   Group  change-files-15\n",
       "0    0.0         3.976744\n",
       "1    1.0         3.428571\n",
       "2    2.0         3.261905\n",
       "3    3.0         3.804878"
      ]
     },
     "execution_count": 58,
     "metadata": {},
     "output_type": "execute_result"
    }
   ],
   "source": [
    "overall_loc_scores_final.groupby('Group', as_index=False)['change-files-15'].mean()"
   ]
  },
  {
   "cell_type": "code",
   "execution_count": 59,
   "id": "ab1ac9ed",
   "metadata": {},
   "outputs": [
    {
     "data": {
      "text/html": [
       "<div>\n",
       "<style scoped>\n",
       "    .dataframe tbody tr th:only-of-type {\n",
       "        vertical-align: middle;\n",
       "    }\n",
       "\n",
       "    .dataframe tbody tr th {\n",
       "        vertical-align: top;\n",
       "    }\n",
       "\n",
       "    .dataframe thead th {\n",
       "        text-align: right;\n",
       "    }\n",
       "</style>\n",
       "<table border=\"1\" class=\"dataframe\">\n",
       "  <thead>\n",
       "    <tr style=\"text-align: right;\">\n",
       "      <th></th>\n",
       "      <th>Group</th>\n",
       "      <th>change-files-12</th>\n",
       "    </tr>\n",
       "  </thead>\n",
       "  <tbody>\n",
       "    <tr>\n",
       "      <th>0</th>\n",
       "      <td>0.0</td>\n",
       "      <td>1.930233</td>\n",
       "    </tr>\n",
       "    <tr>\n",
       "      <th>1</th>\n",
       "      <td>1.0</td>\n",
       "      <td>1.547619</td>\n",
       "    </tr>\n",
       "    <tr>\n",
       "      <th>2</th>\n",
       "      <td>2.0</td>\n",
       "      <td>2.309524</td>\n",
       "    </tr>\n",
       "    <tr>\n",
       "      <th>3</th>\n",
       "      <td>3.0</td>\n",
       "      <td>2.512195</td>\n",
       "    </tr>\n",
       "  </tbody>\n",
       "</table>\n",
       "</div>"
      ],
      "text/plain": [
       "   Group  change-files-12\n",
       "0    0.0         1.930233\n",
       "1    1.0         1.547619\n",
       "2    2.0         2.309524\n",
       "3    3.0         2.512195"
      ]
     },
     "execution_count": 59,
     "metadata": {},
     "output_type": "execute_result"
    }
   ],
   "source": [
    "overall_loc_scores_final.groupby('Group', as_index=False)['change-files-12'].mean()"
   ]
  },
  {
   "cell_type": "code",
   "execution_count": 60,
   "id": "e684af65",
   "metadata": {},
   "outputs": [
    {
     "data": {
      "text/html": [
       "<div>\n",
       "<style scoped>\n",
       "    .dataframe tbody tr th:only-of-type {\n",
       "        vertical-align: middle;\n",
       "    }\n",
       "\n",
       "    .dataframe tbody tr th {\n",
       "        vertical-align: top;\n",
       "    }\n",
       "\n",
       "    .dataframe thead th {\n",
       "        text-align: right;\n",
       "    }\n",
       "</style>\n",
       "<table border=\"1\" class=\"dataframe\">\n",
       "  <thead>\n",
       "    <tr style=\"text-align: right;\">\n",
       "      <th></th>\n",
       "      <th>Group</th>\n",
       "      <th>change-files-23</th>\n",
       "    </tr>\n",
       "  </thead>\n",
       "  <tbody>\n",
       "    <tr>\n",
       "      <th>0</th>\n",
       "      <td>0.0</td>\n",
       "      <td>1.232558</td>\n",
       "    </tr>\n",
       "    <tr>\n",
       "      <th>1</th>\n",
       "      <td>1.0</td>\n",
       "      <td>1.119048</td>\n",
       "    </tr>\n",
       "    <tr>\n",
       "      <th>2</th>\n",
       "      <td>2.0</td>\n",
       "      <td>1.285714</td>\n",
       "    </tr>\n",
       "    <tr>\n",
       "      <th>3</th>\n",
       "      <td>3.0</td>\n",
       "      <td>1.731707</td>\n",
       "    </tr>\n",
       "  </tbody>\n",
       "</table>\n",
       "</div>"
      ],
      "text/plain": [
       "   Group  change-files-23\n",
       "0    0.0         1.232558\n",
       "1    1.0         1.119048\n",
       "2    2.0         1.285714\n",
       "3    3.0         1.731707"
      ]
     },
     "execution_count": 60,
     "metadata": {},
     "output_type": "execute_result"
    }
   ],
   "source": [
    "overall_loc_scores_final.groupby('Group', as_index=False)['change-files-23'].mean()"
   ]
  },
  {
   "cell_type": "code",
   "execution_count": 61,
   "id": "e36c4c79",
   "metadata": {},
   "outputs": [
    {
     "data": {
      "text/html": [
       "<div>\n",
       "<style scoped>\n",
       "    .dataframe tbody tr th:only-of-type {\n",
       "        vertical-align: middle;\n",
       "    }\n",
       "\n",
       "    .dataframe tbody tr th {\n",
       "        vertical-align: top;\n",
       "    }\n",
       "\n",
       "    .dataframe thead th {\n",
       "        text-align: right;\n",
       "    }\n",
       "</style>\n",
       "<table border=\"1\" class=\"dataframe\">\n",
       "  <thead>\n",
       "    <tr style=\"text-align: right;\">\n",
       "      <th></th>\n",
       "      <th>Group</th>\n",
       "      <th>change-files-34</th>\n",
       "    </tr>\n",
       "  </thead>\n",
       "  <tbody>\n",
       "    <tr>\n",
       "      <th>0</th>\n",
       "      <td>0.0</td>\n",
       "      <td>1.790698</td>\n",
       "    </tr>\n",
       "    <tr>\n",
       "      <th>1</th>\n",
       "      <td>1.0</td>\n",
       "      <td>1.880952</td>\n",
       "    </tr>\n",
       "    <tr>\n",
       "      <th>2</th>\n",
       "      <td>2.0</td>\n",
       "      <td>1.547619</td>\n",
       "    </tr>\n",
       "    <tr>\n",
       "      <th>3</th>\n",
       "      <td>3.0</td>\n",
       "      <td>1.658537</td>\n",
       "    </tr>\n",
       "  </tbody>\n",
       "</table>\n",
       "</div>"
      ],
      "text/plain": [
       "   Group  change-files-34\n",
       "0    0.0         1.790698\n",
       "1    1.0         1.880952\n",
       "2    2.0         1.547619\n",
       "3    3.0         1.658537"
      ]
     },
     "execution_count": 61,
     "metadata": {},
     "output_type": "execute_result"
    }
   ],
   "source": [
    "overall_loc_scores_final.groupby('Group', as_index=False)['change-files-34'].mean()"
   ]
  },
  {
   "cell_type": "code",
   "execution_count": 62,
   "id": "d0346d50",
   "metadata": {},
   "outputs": [
    {
     "data": {
      "text/html": [
       "<div>\n",
       "<style scoped>\n",
       "    .dataframe tbody tr th:only-of-type {\n",
       "        vertical-align: middle;\n",
       "    }\n",
       "\n",
       "    .dataframe tbody tr th {\n",
       "        vertical-align: top;\n",
       "    }\n",
       "\n",
       "    .dataframe thead th {\n",
       "        text-align: right;\n",
       "    }\n",
       "</style>\n",
       "<table border=\"1\" class=\"dataframe\">\n",
       "  <thead>\n",
       "    <tr style=\"text-align: right;\">\n",
       "      <th></th>\n",
       "      <th>Group</th>\n",
       "      <th>change-files-45</th>\n",
       "    </tr>\n",
       "  </thead>\n",
       "  <tbody>\n",
       "    <tr>\n",
       "      <th>0</th>\n",
       "      <td>0.0</td>\n",
       "      <td>1.023256</td>\n",
       "    </tr>\n",
       "    <tr>\n",
       "      <th>1</th>\n",
       "      <td>1.0</td>\n",
       "      <td>1.547619</td>\n",
       "    </tr>\n",
       "    <tr>\n",
       "      <th>2</th>\n",
       "      <td>2.0</td>\n",
       "      <td>1.214286</td>\n",
       "    </tr>\n",
       "    <tr>\n",
       "      <th>3</th>\n",
       "      <td>3.0</td>\n",
       "      <td>1.463415</td>\n",
       "    </tr>\n",
       "  </tbody>\n",
       "</table>\n",
       "</div>"
      ],
      "text/plain": [
       "   Group  change-files-45\n",
       "0    0.0         1.023256\n",
       "1    1.0         1.547619\n",
       "2    2.0         1.214286\n",
       "3    3.0         1.463415"
      ]
     },
     "execution_count": 62,
     "metadata": {},
     "output_type": "execute_result"
    }
   ],
   "source": [
    "overall_loc_scores_final.groupby('Group', as_index=False)['change-files-45'].mean()"
   ]
  },
  {
   "cell_type": "markdown",
   "id": "7c9a4802",
   "metadata": {},
   "source": [
    "## change-files-15 Line Charts"
   ]
  },
  {
   "cell_type": "code",
   "execution_count": 63,
   "id": "252de0c7",
   "metadata": {},
   "outputs": [
    {
     "data": {
      "text/plain": [
       "<matplotlib.legend.Legend at 0x7f8bda6ea9d0>"
      ]
     },
     "execution_count": 63,
     "metadata": {},
     "output_type": "execute_result"
    },
    {
     "data": {
      "image/png": "[encoded data removed]",
      "text/plain": [
       "<Figure size 432x288 with 1 Axes>"
      ]
     },
     "metadata": {
      "needs_background": "light"
     },
     "output_type": "display_data"
    }
   ],
   "source": [
    "import matplotlib.pyplot as plt\n",
    "\n",
    "# Mean Scores of All Groups [ Novelty Scores ]\n",
    "\n",
    "y1 = [1.27, 11.81, -8.95, 4.64]\n",
    "y2 = [0.59, 0.41, -4.23, 0.59]\n",
    "y3 = [-4.40, -3.96, 5.51, -1.89]\n",
    "y4 = [-0.38, 4.04, -11.11, 19.99]   \n",
    "\n",
    "x_axis=['Phase 1-2', 'Phase 2-3', 'Phase 3-4', 'Phase 4-5']\n",
    "\n",
    "line1 = plt.plot(x_axis, y1,'ko-',label='Bogota 0 ( No Transparency )')\n",
    "line2 = plt.plot(x_axis, y2,'ro-',label='Bogota 1 ( Performance Transparency )') \n",
    "line3 = plt.plot(x_axis, y3,'mo-',label='Bogota 2 ( Solution Transparency )')\n",
    "line3 = plt.plot(x_axis, y4,'bo-',label='Bogota 3 ( Full Transparency )')\n",
    "\n",
    "plt.title(\"Mean of Change Files for All Treatment Groups\")\n",
    "plt.ylabel(\"Mean Change Files\")\n",
    "\n",
    "plt.legend(bbox_to_anchor=(1, 1),\n",
    "           bbox_transform=plt.gcf().transFigure)"
   ]
  },
  {
   "cell_type": "markdown",
   "id": "19a32956",
   "metadata": {},
   "source": [
    "## EDA Survey Questions [ Programming Skills ] \n",
    "\n",
    "\n",
    "### Q7 - 1\n",
    "\n",
    "- Strongly Disagree - 0\n",
    "- Disagree - 1\n",
    "- Somewhat Disagree - 2\n",
    "- Neither Agree nor Disagree - 3\n",
    "- Somewhat Agree - 4\n",
    "- Agree - 5\n",
    "- Strongly Agree - 6\n",
    "\n",
    ">> I am extremely skilled at programming in Javascript\n",
    "\n",
    ">> Interpretation - Majority of the participants in all groups don't think that they are extremely skilled at Javascript. "
   ]
  },
  {
   "cell_type": "code",
   "execution_count": 229,
   "id": "cb15978b",
   "metadata": {},
   "outputs": [
    {
     "data": {
      "text/plain": [
       "<AxesSubplot:>"
      ]
     },
     "execution_count": 229,
     "metadata": {},
     "output_type": "execute_result"
    },
    {
     "data": {
      "image/png": "[encoded data removed]",
      "text/plain": [
       "<Figure size 1080x504 with 1 Axes>"
      ]
     },
     "metadata": {},
     "output_type": "display_data"
    }
   ],
   "source": [
    "survey0['Q7_Q7_1'].value_counts().plot(kind='bar', figsize=(15, 7))"
   ]
  },
  {
   "cell_type": "code",
   "execution_count": 230,
   "id": "f7eff266",
   "metadata": {},
   "outputs": [
    {
     "data": {
      "text/plain": [
       "<AxesSubplot:>"
      ]
     },
     "execution_count": 230,
     "metadata": {},
     "output_type": "execute_result"
    },
    {
     "data": {
      "image/png": "[encoded data removed]",
      "text/plain": [
       "<Figure size 1080x504 with 1 Axes>"
      ]
     },
     "metadata": {},
     "output_type": "display_data"
    }
   ],
   "source": [
    "survey1['Q7_Q7_1'].value_counts().plot(kind='bar', figsize=(15, 7))"
   ]
  },
  {
   "cell_type": "code",
   "execution_count": 231,
   "id": "9eaac1d1",
   "metadata": {},
   "outputs": [
    {
     "data": {
      "text/plain": [
       "<AxesSubplot:>"
      ]
     },
     "execution_count": 231,
     "metadata": {},
     "output_type": "execute_result"
    },
    {
     "data": {
      "image/png": "[encoded data removed]",
      "text/plain": [
       "<Figure size 1080x504 with 1 Axes>"
      ]
     },
     "metadata": {},
     "output_type": "display_data"
    }
   ],
   "source": [
    "survey2['Q7_Q7_1'].value_counts().plot(kind='bar', figsize=(15, 7))"
   ]
  },
  {
   "cell_type": "code",
   "execution_count": 232,
   "id": "bad09129",
   "metadata": {},
   "outputs": [
    {
     "data": {
      "text/plain": [
       "<AxesSubplot:>"
      ]
     },
     "execution_count": 232,
     "metadata": {},
     "output_type": "execute_result"
    },
    {
     "data": {
      "image/png": "[encoded data removed]",
      "text/plain": [
       "<Figure size 1080x504 with 1 Axes>"
      ]
     },
     "metadata": {},
     "output_type": "display_data"
    }
   ],
   "source": [
    "survey3['Q7_Q7_1'].value_counts().plot(kind='bar', figsize=(15, 7))"
   ]
  },
  {
   "cell_type": "markdown",
   "id": "5a5f3f5d",
   "metadata": {},
   "source": [
    "### Q7-2\n",
    "\n",
    ">> I consider myself knowledgeable about good coding techniques on mashup design (combining data in an interactive web application)\n",
    "\n",
    ">> Interpretation - Majority of the participants are undecided whether they know what a mashup is except for the full transparency group where majority of the participants have no idea what a mashup is. "
   ]
  },
  {
   "cell_type": "code",
   "execution_count": 202,
   "id": "e0fde432",
   "metadata": {},
   "outputs": [
    {
     "data": {
      "text/plain": [
       "<AxesSubplot:>"
      ]
     },
     "execution_count": 202,
     "metadata": {},
     "output_type": "execute_result"
    },
    {
     "data": {
      "image/png": "[encoded data removed]",
      "text/plain": [
       "<Figure size 1080x504 with 1 Axes>"
      ]
     },
     "metadata": {},
     "output_type": "display_data"
    }
   ],
   "source": [
    "survey0['Q7_Q7_2'].value_counts().plot(kind='bar', figsize=(15, 7))"
   ]
  },
  {
   "cell_type": "code",
   "execution_count": 203,
   "id": "f13509fd",
   "metadata": {},
   "outputs": [
    {
     "data": {
      "text/plain": [
       "<AxesSubplot:>"
      ]
     },
     "execution_count": 203,
     "metadata": {},
     "output_type": "execute_result"
    },
    {
     "data": {
      "image/png": "[encoded data removed]",
      "text/plain": [
       "<Figure size 1080x504 with 1 Axes>"
      ]
     },
     "metadata": {},
     "output_type": "display_data"
    }
   ],
   "source": [
    "survey1['Q7_Q7_2'].value_counts().plot(kind='bar', figsize=(15, 7))\n"
   ]
  },
  {
   "cell_type": "code",
   "execution_count": 204,
   "id": "6f549e85",
   "metadata": {},
   "outputs": [
    {
     "data": {
      "text/plain": [
       "<AxesSubplot:>"
      ]
     },
     "execution_count": 204,
     "metadata": {},
     "output_type": "execute_result"
    },
    {
     "data": {
      "image/png": "[encoded data removed]",
      "text/plain": [
       "<Figure size 1080x504 with 1 Axes>"
      ]
     },
     "metadata": {},
     "output_type": "display_data"
    }
   ],
   "source": [
    "survey2['Q7_Q7_2'].value_counts().plot(kind='bar', figsize=(15, 7))"
   ]
  },
  {
   "cell_type": "code",
   "execution_count": 205,
   "id": "4645e25f",
   "metadata": {},
   "outputs": [
    {
     "data": {
      "text/plain": [
       "<AxesSubplot:>"
      ]
     },
     "execution_count": 205,
     "metadata": {},
     "output_type": "execute_result"
    },
    {
     "data": {
      "image/png": "[encoded data removed]",
      "text/plain": [
       "<Figure size 1080x504 with 1 Axes>"
      ]
     },
     "metadata": {},
     "output_type": "display_data"
    }
   ],
   "source": [
    "survey3['Q7_Q7_2'].value_counts().plot(kind='bar', figsize=(15, 7))"
   ]
  },
  {
   "cell_type": "markdown",
   "id": "f75e2a3a",
   "metadata": {},
   "source": [
    "### Q7-3\n",
    "\n",
    ">> I know somewhat more than most programmers about programming in Javascript\n",
    "\n",
    ">> Interpretation - Majority of the participants in all groups. don't think that they know a lot about Javascript. "
   ]
  },
  {
   "cell_type": "code",
   "execution_count": 206,
   "id": "d04eedb2",
   "metadata": {},
   "outputs": [
    {
     "data": {
      "text/plain": [
       "<AxesSubplot:>"
      ]
     },
     "execution_count": 206,
     "metadata": {},
     "output_type": "execute_result"
    },
    {
     "data": {
      "image/png": "[encoded data removed]",
      "text/plain": [
       "<Figure size 1080x504 with 1 Axes>"
      ]
     },
     "metadata": {},
     "output_type": "display_data"
    }
   ],
   "source": [
    "survey0['Q7_Q7_3'].value_counts().plot(kind='bar', figsize=(15, 7))"
   ]
  },
  {
   "cell_type": "code",
   "execution_count": 207,
   "id": "1b3a8534",
   "metadata": {},
   "outputs": [
    {
     "data": {
      "text/plain": [
       "<AxesSubplot:>"
      ]
     },
     "execution_count": 207,
     "metadata": {},
     "output_type": "execute_result"
    },
    {
     "data": {
      "image/png": "[encoded data removed]",
      "text/plain": [
       "<Figure size 1080x504 with 1 Axes>"
      ]
     },
     "metadata": {},
     "output_type": "display_data"
    }
   ],
   "source": [
    "survey1['Q7_Q7_3'].value_counts().plot(kind='bar', figsize=(15, 7))"
   ]
  },
  {
   "cell_type": "code",
   "execution_count": 208,
   "id": "49a067c1",
   "metadata": {},
   "outputs": [
    {
     "data": {
      "text/plain": [
       "<AxesSubplot:>"
      ]
     },
     "execution_count": 208,
     "metadata": {},
     "output_type": "execute_result"
    },
    {
     "data": {
      "image/png": "[encoded data removed]",
      "text/plain": [
       "<Figure size 1080x504 with 1 Axes>"
      ]
     },
     "metadata": {},
     "output_type": "display_data"
    }
   ],
   "source": [
    "survey2['Q7_Q7_3'].value_counts().plot(kind='bar', figsize=(15, 7))"
   ]
  },
  {
   "cell_type": "code",
   "execution_count": 209,
   "id": "8b730557",
   "metadata": {},
   "outputs": [
    {
     "data": {
      "text/plain": [
       "<AxesSubplot:>"
      ]
     },
     "execution_count": 209,
     "metadata": {},
     "output_type": "execute_result"
    },
    {
     "data": {
      "image/png": "[encoded data removed]",
      "text/plain": [
       "<Figure size 1080x504 with 1 Axes>"
      ]
     },
     "metadata": {},
     "output_type": "display_data"
    }
   ],
   "source": [
    "survey3['Q7_Q7_3'].value_counts().plot(kind='bar', figsize=(15, 7))"
   ]
  },
  {
   "cell_type": "markdown",
   "id": "44d4b6ee",
   "metadata": {},
   "source": [
    "### Q7 - 4\n",
    "\n",
    ">> I know how to find what I am looking for when designing a mashup\n",
    "\n",
    ">> Interpretation - Majority of the participants are undecided about designing mashup.  "
   ]
  },
  {
   "cell_type": "code",
   "execution_count": 210,
   "id": "dff45fde",
   "metadata": {},
   "outputs": [
    {
     "data": {
      "text/plain": [
       "<AxesSubplot:>"
      ]
     },
     "execution_count": 210,
     "metadata": {},
     "output_type": "execute_result"
    },
    {
     "data": {
      "image/png": "[encoded data removed]",
      "text/plain": [
       "<Figure size 1080x504 with 1 Axes>"
      ]
     },
     "metadata": {},
     "output_type": "display_data"
    }
   ],
   "source": [
    "survey0['Q7_Q7_4'].value_counts().plot(kind='bar', figsize=(15, 7))"
   ]
  },
  {
   "cell_type": "code",
   "execution_count": 211,
   "id": "714103dc",
   "metadata": {},
   "outputs": [
    {
     "data": {
      "text/plain": [
       "<AxesSubplot:>"
      ]
     },
     "execution_count": 211,
     "metadata": {},
     "output_type": "execute_result"
    },
    {
     "data": {
      "image/png": "[encoded data removed]",
      "text/plain": [
       "<Figure size 1080x504 with 1 Axes>"
      ]
     },
     "metadata": {},
     "output_type": "display_data"
    }
   ],
   "source": [
    "survey1['Q7_Q7_4'].value_counts().plot(kind='bar', figsize=(15, 7))"
   ]
  },
  {
   "cell_type": "code",
   "execution_count": 212,
   "id": "3e5acdaa",
   "metadata": {},
   "outputs": [
    {
     "data": {
      "text/plain": [
       "<AxesSubplot:>"
      ]
     },
     "execution_count": 212,
     "metadata": {},
     "output_type": "execute_result"
    },
    {
     "data": {
      "image/png": "[encoded data removed]",
      "text/plain": [
       "<Figure size 1080x504 with 1 Axes>"
      ]
     },
     "metadata": {},
     "output_type": "display_data"
    }
   ],
   "source": [
    "survey2['Q7_Q7_3'].value_counts().plot(kind='bar', figsize=(15, 7))"
   ]
  },
  {
   "cell_type": "code",
   "execution_count": 213,
   "id": "455f491a",
   "metadata": {},
   "outputs": [
    {
     "data": {
      "text/plain": [
       "<AxesSubplot:>"
      ]
     },
     "execution_count": 213,
     "metadata": {},
     "output_type": "execute_result"
    },
    {
     "data": {
      "image/png": "[encoded data removed]",
      "text/plain": [
       "<Figure size 1080x504 with 1 Axes>"
      ]
     },
     "metadata": {},
     "output_type": "display_data"
    }
   ],
   "source": [
    "survey3['Q7_Q7_4'].value_counts().plot(kind='bar', figsize=(15, 7))"
   ]
  },
  {
   "cell_type": "markdown",
   "id": "39551d30",
   "metadata": {},
   "source": [
    "### Q8 - 1\n",
    "\n",
    "- Very Bad - 0\n",
    "- Bad - 1\n",
    "- Poor - 2\n",
    "- Neither Good nor Bad - 3\n",
    "- Fair - 4\n",
    "- Good - 5\n",
    "- Very Good - 6\n",
    "\n",
    ">> How would you rate your skill at programming, compared to other things you do on the computer?"
   ]
  },
  {
   "cell_type": "code",
   "execution_count": 214,
   "id": "efef2c77",
   "metadata": {},
   "outputs": [
    {
     "data": {
      "text/plain": [
       "<AxesSubplot:>"
      ]
     },
     "execution_count": 214,
     "metadata": {},
     "output_type": "execute_result"
    },
    {
     "data": {
      "image/png": "[encoded data removed]",
      "text/plain": [
       "<Figure size 1080x504 with 1 Axes>"
      ]
     },
     "metadata": {},
     "output_type": "display_data"
    }
   ],
   "source": [
    "survey0['Q8_Q8_1'].value_counts().plot(kind='bar', figsize=(15, 7))"
   ]
  },
  {
   "cell_type": "code",
   "execution_count": 215,
   "id": "734eed6c",
   "metadata": {},
   "outputs": [
    {
     "data": {
      "text/plain": [
       "<AxesSubplot:>"
      ]
     },
     "execution_count": 215,
     "metadata": {},
     "output_type": "execute_result"
    },
    {
     "data": {
      "image/png": "[encoded data removed]",
      "text/plain": [
       "<Figure size 1080x504 with 1 Axes>"
      ]
     },
     "metadata": {},
     "output_type": "display_data"
    }
   ],
   "source": [
    "survey1['Q8_Q8_1'].value_counts().plot(kind='bar', figsize=(15, 7))"
   ]
  },
  {
   "cell_type": "code",
   "execution_count": 216,
   "id": "a7de740b",
   "metadata": {},
   "outputs": [
    {
     "data": {
      "text/plain": [
       "<AxesSubplot:>"
      ]
     },
     "execution_count": 216,
     "metadata": {},
     "output_type": "execute_result"
    },
    {
     "data": {
      "image/png": "[encoded data removed]",
      "text/plain": [
       "<Figure size 1080x504 with 1 Axes>"
      ]
     },
     "metadata": {},
     "output_type": "display_data"
    }
   ],
   "source": [
    "survey2['Q8_Q8_1'].value_counts().plot(kind='bar', figsize=(15, 7))"
   ]
  },
  {
   "cell_type": "code",
   "execution_count": 217,
   "id": "0441b718",
   "metadata": {},
   "outputs": [
    {
     "data": {
      "text/plain": [
       "<AxesSubplot:>"
      ]
     },
     "execution_count": 217,
     "metadata": {},
     "output_type": "execute_result"
    },
    {
     "data": {
      "image/png": "[encoded data removed]",
      "text/plain": [
       "<Figure size 1080x504 with 1 Axes>"
      ]
     },
     "metadata": {},
     "output_type": "display_data"
    }
   ],
   "source": [
    "survey3['Q8_Q8_1'].value_counts().plot(kind='bar', figsize=(15, 7))"
   ]
  },
  {
   "cell_type": "markdown",
   "id": "a469a507",
   "metadata": {},
   "source": [
    "### Q8 - 2\n",
    "\n",
    ">> How would you rate your skill at programming, compared to the sport or game you are best at?"
   ]
  },
  {
   "cell_type": "code",
   "execution_count": 218,
   "id": "57068e03",
   "metadata": {},
   "outputs": [
    {
     "data": {
      "text/plain": [
       "<AxesSubplot:>"
      ]
     },
     "execution_count": 218,
     "metadata": {},
     "output_type": "execute_result"
    },
    {
     "data": {
      "image/png": "[encoded data removed]",
      "text/plain": [
       "<Figure size 1080x504 with 1 Axes>"
      ]
     },
     "metadata": {},
     "output_type": "display_data"
    }
   ],
   "source": [
    "survey0['Q8_Q8_2'].value_counts().plot(kind='bar', figsize=(15, 7))"
   ]
  },
  {
   "cell_type": "code",
   "execution_count": 219,
   "id": "251f0b8a",
   "metadata": {},
   "outputs": [
    {
     "data": {
      "text/plain": [
       "<AxesSubplot:>"
      ]
     },
     "execution_count": 219,
     "metadata": {},
     "output_type": "execute_result"
    },
    {
     "data": {
      "image/png": "[encoded data removed]",
      "text/plain": [
       "<Figure size 1080x504 with 1 Axes>"
      ]
     },
     "metadata": {},
     "output_type": "display_data"
    }
   ],
   "source": [
    "survey1['Q8_Q8_2'].value_counts().plot(kind='bar', figsize=(15, 7))"
   ]
  },
  {
   "cell_type": "code",
   "execution_count": 220,
   "id": "fdacc191",
   "metadata": {},
   "outputs": [
    {
     "data": {
      "text/plain": [
       "<AxesSubplot:>"
      ]
     },
     "execution_count": 220,
     "metadata": {},
     "output_type": "execute_result"
    },
    {
     "data": {
      "image/png": "[encoded data removed]",
      "text/plain": [
       "<Figure size 1080x504 with 1 Axes>"
      ]
     },
     "metadata": {},
     "output_type": "display_data"
    }
   ],
   "source": [
    "survey2['Q8_Q8_2'].value_counts().plot(kind='bar', figsize=(15, 7))"
   ]
  },
  {
   "cell_type": "code",
   "execution_count": 221,
   "id": "f751fe88",
   "metadata": {},
   "outputs": [
    {
     "data": {
      "text/plain": [
       "<AxesSubplot:>"
      ]
     },
     "execution_count": 221,
     "metadata": {},
     "output_type": "execute_result"
    },
    {
     "data": {
      "image/png": "[encoded data removed]",
      "text/plain": [
       "<Figure size 1080x504 with 1 Axes>"
      ]
     },
     "metadata": {},
     "output_type": "display_data"
    }
   ],
   "source": [
    "survey3['Q8_Q8_2'].value_counts().plot(kind='bar', figsize=(15, 7))"
   ]
  },
  {
   "cell_type": "markdown",
   "id": "29e38ec6",
   "metadata": {},
   "source": [
    "### Q10 \n",
    "\n",
    "- Bottom of the contest - 0\n",
    "- Below Average - 1\n",
    "- Average - 2\n",
    "- Top 10 - 3\n",
    "- Top 3 - 4\n",
    "\n",
    ">> Based on your past experience,  what place do you think you will receive in this IronHacks?\n",
    "\n",
    ">> Inference - Majority of the participants in all groups think that they are going to perform average. \n",
    " "
   ]
  },
  {
   "cell_type": "code",
   "execution_count": 222,
   "id": "037ea67f",
   "metadata": {},
   "outputs": [
    {
     "data": {
      "text/plain": [
       "<AxesSubplot:>"
      ]
     },
     "execution_count": 222,
     "metadata": {},
     "output_type": "execute_result"
    },
    {
     "data": {
      "image/png": "[encoded data removed]",
      "text/plain": [
       "<Figure size 1080x504 with 1 Axes>"
      ]
     },
     "metadata": {},
     "output_type": "display_data"
    }
   ],
   "source": [
    "survey0['Q10'].value_counts().plot(kind='bar', figsize=(15, 7))"
   ]
  },
  {
   "cell_type": "code",
   "execution_count": 223,
   "id": "42b483a0",
   "metadata": {},
   "outputs": [
    {
     "data": {
      "text/plain": [
       "<AxesSubplot:>"
      ]
     },
     "execution_count": 223,
     "metadata": {},
     "output_type": "execute_result"
    },
    {
     "data": {
      "image/png": "[encoded data removed]",
      "text/plain": [
       "<Figure size 1080x504 with 1 Axes>"
      ]
     },
     "metadata": {},
     "output_type": "display_data"
    }
   ],
   "source": [
    "survey1['Q10'].value_counts().plot(kind='bar', figsize=(15, 7))"
   ]
  },
  {
   "cell_type": "code",
   "execution_count": 224,
   "id": "ebca4502",
   "metadata": {},
   "outputs": [
    {
     "data": {
      "text/plain": [
       "<AxesSubplot:>"
      ]
     },
     "execution_count": 224,
     "metadata": {},
     "output_type": "execute_result"
    },
    {
     "data": {
      "image/png": "[encoded data removed]",
      "text/plain": [
       "<Figure size 1080x504 with 1 Axes>"
      ]
     },
     "metadata": {},
     "output_type": "display_data"
    }
   ],
   "source": [
    "survey2['Q10'].value_counts().plot(kind='bar', figsize=(15, 7))"
   ]
  },
  {
   "cell_type": "code",
   "execution_count": 225,
   "id": "28703027",
   "metadata": {},
   "outputs": [
    {
     "data": {
      "text/plain": [
       "<AxesSubplot:>"
      ]
     },
     "execution_count": 225,
     "metadata": {},
     "output_type": "execute_result"
    },
    {
     "data": {
      "image/png": "[encoded data removed]",
      "text/plain": [
       "<Figure size 1080x504 with 1 Axes>"
      ]
     },
     "metadata": {},
     "output_type": "display_data"
    }
   ],
   "source": [
    "survey3['Q10'].value_counts().plot(kind='bar', figsize=(15, 7))"
   ]
  },
  {
   "cell_type": "code",
   "execution_count": null,
   "id": "3e6cec53",
   "metadata": {},
   "outputs": [],
   "source": []
  }
 ],
 "metadata": {
  "kernelspec": {
   "display_name": "Python 3 (ipykernel)",
   "language": "python",
   "name": "python3"
  },
  "language_info": {
   "codemirror_mode": {
    "name": "ipython",
    "version": 3
   },
   "file_extension": ".py",
   "mimetype": "text/x-python",
   "name": "python",
   "nbconvert_exporter": "python",
   "pygments_lexer": "ipython3",
   "version": "3.8.9"
  }
 },
 "nbformat": 4,
 "nbformat_minor": 5
}
