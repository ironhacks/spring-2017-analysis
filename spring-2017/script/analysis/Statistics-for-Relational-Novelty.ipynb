{
 "cells": [
  {
   "cell_type": "markdown",
   "id": "27091ff4",
   "metadata": {},
   "source": [
    "## Descriptive Statistics for Relational Novelty\n",
    "\n",
    "Group comparisons for relational novelty, take top 10%, the lower 10%, and the middle and do the average relational novelty ( inverse of highest similarity ). And calculate the following measures for the 3 groups, the average relational novelty, the standard deviation of the relational novelty, the average pairwise similarity ( pairwise measure AMONG each group members ), and the standard deviation of the pairwise similarity."
   ]
  },
  {
   "cell_type": "code",
   "execution_count": 1,
   "id": "4975e76e",
   "metadata": {},
   "outputs": [
    {
     "data": {
      "text/html": [
       "<div>\n",
       "<style scoped>\n",
       "    .dataframe tbody tr th:only-of-type {\n",
       "        vertical-align: middle;\n",
       "    }\n",
       "\n",
       "    .dataframe tbody tr th {\n",
       "        vertical-align: top;\n",
       "    }\n",
       "\n",
       "    .dataframe thead th {\n",
       "        text-align: right;\n",
       "    }\n",
       "</style>\n",
       "<table border=\"1\" class=\"dataframe\">\n",
       "  <thead>\n",
       "    <tr style=\"text-align: right;\">\n",
       "      <th></th>\n",
       "      <th>Unnamed: 0.1</th>\n",
       "      <th>Unnamed: 0</th>\n",
       "      <th>Student</th>\n",
       "      <th>phase</th>\n",
       "      <th>novelty</th>\n",
       "      <th>group</th>\n",
       "      <th>abs_perform_diff_best</th>\n",
       "      <th>user2</th>\n",
       "      <th>Q7_Q7_1</th>\n",
       "      <th>Q7_Q7_2</th>\n",
       "      <th>...</th>\n",
       "      <th>count</th>\n",
       "      <th>total</th>\n",
       "      <th>user-requirement</th>\n",
       "      <th>infovis</th>\n",
       "      <th>novelty_score</th>\n",
       "      <th>exploration</th>\n",
       "      <th>Group</th>\n",
       "      <th>len_unique</th>\n",
       "      <th>added_sum</th>\n",
       "      <th>sim-to-best</th>\n",
       "    </tr>\n",
       "  </thead>\n",
       "  <tbody>\n",
       "    <tr>\n",
       "      <th>0</th>\n",
       "      <td>0</td>\n",
       "      <td>1</td>\n",
       "      <td>wilson911013</td>\n",
       "      <td>1</td>\n",
       "      <td>0.000000</td>\n",
       "      <td>3</td>\n",
       "      <td>250.84</td>\n",
       "      <td>wilson911013</td>\n",
       "      <td>0.0</td>\n",
       "      <td>1.0</td>\n",
       "      <td>...</td>\n",
       "      <td>1.0</td>\n",
       "      <td>90.83</td>\n",
       "      <td>20.0</td>\n",
       "      <td>33.33</td>\n",
       "      <td>0.0</td>\n",
       "      <td>0.000000</td>\n",
       "      <td>3.0</td>\n",
       "      <td>0.0</td>\n",
       "      <td>0.0</td>\n",
       "      <td>0.000000</td>\n",
       "    </tr>\n",
       "    <tr>\n",
       "      <th>1</th>\n",
       "      <td>2</td>\n",
       "      <td>5</td>\n",
       "      <td>lizzyt10h</td>\n",
       "      <td>1</td>\n",
       "      <td>0.400000</td>\n",
       "      <td>3</td>\n",
       "      <td>175.00</td>\n",
       "      <td>lizzyt10h</td>\n",
       "      <td>2.0</td>\n",
       "      <td>1.0</td>\n",
       "      <td>...</td>\n",
       "      <td>7.0</td>\n",
       "      <td>75.00</td>\n",
       "      <td>0.0</td>\n",
       "      <td>0.00</td>\n",
       "      <td>0.0</td>\n",
       "      <td>0.945312</td>\n",
       "      <td>3.0</td>\n",
       "      <td>13.0</td>\n",
       "      <td>6.0</td>\n",
       "      <td>0.125000</td>\n",
       "    </tr>\n",
       "    <tr>\n",
       "      <th>2</th>\n",
       "      <td>3</td>\n",
       "      <td>6</td>\n",
       "      <td>AFelipeGA</td>\n",
       "      <td>1</td>\n",
       "      <td>0.400000</td>\n",
       "      <td>3</td>\n",
       "      <td>291.67</td>\n",
       "      <td>AFelipeGA</td>\n",
       "      <td>4.0</td>\n",
       "      <td>3.0</td>\n",
       "      <td>...</td>\n",
       "      <td>3.0</td>\n",
       "      <td>152.50</td>\n",
       "      <td>40.0</td>\n",
       "      <td>37.50</td>\n",
       "      <td>0.0</td>\n",
       "      <td>0.995375</td>\n",
       "      <td>3.0</td>\n",
       "      <td>2059.0</td>\n",
       "      <td>2049.0</td>\n",
       "      <td>0.003841</td>\n",
       "    </tr>\n",
       "    <tr>\n",
       "      <th>3</th>\n",
       "      <td>4</td>\n",
       "      <td>7</td>\n",
       "      <td>wapiravaguens</td>\n",
       "      <td>1</td>\n",
       "      <td>0.400000</td>\n",
       "      <td>3</td>\n",
       "      <td>90.00</td>\n",
       "      <td>wapiravaguens</td>\n",
       "      <td>0.0</td>\n",
       "      <td>1.0</td>\n",
       "      <td>...</td>\n",
       "      <td>1.0</td>\n",
       "      <td>192.50</td>\n",
       "      <td>80.0</td>\n",
       "      <td>50.00</td>\n",
       "      <td>0.0</td>\n",
       "      <td>0.567164</td>\n",
       "      <td>3.0</td>\n",
       "      <td>63.0</td>\n",
       "      <td>34.0</td>\n",
       "      <td>0.202532</td>\n",
       "    </tr>\n",
       "    <tr>\n",
       "      <th>4</th>\n",
       "      <td>5</td>\n",
       "      <td>8</td>\n",
       "      <td>capinzor</td>\n",
       "      <td>1</td>\n",
       "      <td>0.413793</td>\n",
       "      <td>3</td>\n",
       "      <td>221.67</td>\n",
       "      <td>capinzor</td>\n",
       "      <td>0.0</td>\n",
       "      <td>0.0</td>\n",
       "      <td>...</td>\n",
       "      <td>0.0</td>\n",
       "      <td>120.00</td>\n",
       "      <td>20.0</td>\n",
       "      <td>25.00</td>\n",
       "      <td>0.0</td>\n",
       "      <td>0.000000</td>\n",
       "      <td>3.0</td>\n",
       "      <td>20.0</td>\n",
       "      <td>0.0</td>\n",
       "      <td>0.083333</td>\n",
       "    </tr>\n",
       "    <tr>\n",
       "      <th>...</th>\n",
       "      <td>...</td>\n",
       "      <td>...</td>\n",
       "      <td>...</td>\n",
       "      <td>...</td>\n",
       "      <td>...</td>\n",
       "      <td>...</td>\n",
       "      <td>...</td>\n",
       "      <td>...</td>\n",
       "      <td>...</td>\n",
       "      <td>...</td>\n",
       "      <td>...</td>\n",
       "      <td>...</td>\n",
       "      <td>...</td>\n",
       "      <td>...</td>\n",
       "      <td>...</td>\n",
       "      <td>...</td>\n",
       "      <td>...</td>\n",
       "      <td>...</td>\n",
       "      <td>...</td>\n",
       "      <td>...</td>\n",
       "      <td>...</td>\n",
       "    </tr>\n",
       "    <tr>\n",
       "      <th>631</th>\n",
       "      <td>647</td>\n",
       "      <td>651</td>\n",
       "      <td>kastellanos</td>\n",
       "      <td>3</td>\n",
       "      <td>0.000000</td>\n",
       "      <td>1</td>\n",
       "      <td>345.83</td>\n",
       "      <td>kastellanos</td>\n",
       "      <td>5.0</td>\n",
       "      <td>5.0</td>\n",
       "      <td>...</td>\n",
       "      <td>0.0</td>\n",
       "      <td>0.00</td>\n",
       "      <td>0.0</td>\n",
       "      <td>0.00</td>\n",
       "      <td>0.0</td>\n",
       "      <td>0.000000</td>\n",
       "      <td>1.0</td>\n",
       "      <td>NaN</td>\n",
       "      <td>NaN</td>\n",
       "      <td>NaN</td>\n",
       "    </tr>\n",
       "    <tr>\n",
       "      <th>632</th>\n",
       "      <td>648</td>\n",
       "      <td>652</td>\n",
       "      <td>tres-iqus</td>\n",
       "      <td>3</td>\n",
       "      <td>0.000000</td>\n",
       "      <td>2</td>\n",
       "      <td>358.33</td>\n",
       "      <td>tres-iqus</td>\n",
       "      <td>1.0</td>\n",
       "      <td>1.0</td>\n",
       "      <td>...</td>\n",
       "      <td>0.0</td>\n",
       "      <td>0.00</td>\n",
       "      <td>0.0</td>\n",
       "      <td>0.00</td>\n",
       "      <td>0.0</td>\n",
       "      <td>0.000000</td>\n",
       "      <td>2.0</td>\n",
       "      <td>NaN</td>\n",
       "      <td>NaN</td>\n",
       "      <td>NaN</td>\n",
       "    </tr>\n",
       "    <tr>\n",
       "      <th>633</th>\n",
       "      <td>649</td>\n",
       "      <td>653</td>\n",
       "      <td>annumumozme</td>\n",
       "      <td>4</td>\n",
       "      <td>0.000000</td>\n",
       "      <td>0</td>\n",
       "      <td>313.33</td>\n",
       "      <td>NaN</td>\n",
       "      <td>NaN</td>\n",
       "      <td>NaN</td>\n",
       "      <td>...</td>\n",
       "      <td>0.0</td>\n",
       "      <td>237.50</td>\n",
       "      <td>40.0</td>\n",
       "      <td>37.50</td>\n",
       "      <td>60.0</td>\n",
       "      <td>0.000000</td>\n",
       "      <td>0.0</td>\n",
       "      <td>NaN</td>\n",
       "      <td>NaN</td>\n",
       "      <td>NaN</td>\n",
       "    </tr>\n",
       "    <tr>\n",
       "      <th>634</th>\n",
       "      <td>650</td>\n",
       "      <td>654</td>\n",
       "      <td>kastellanos</td>\n",
       "      <td>4</td>\n",
       "      <td>0.000000</td>\n",
       "      <td>1</td>\n",
       "      <td>350.00</td>\n",
       "      <td>kastellanos</td>\n",
       "      <td>5.0</td>\n",
       "      <td>5.0</td>\n",
       "      <td>...</td>\n",
       "      <td>0.0</td>\n",
       "      <td>0.00</td>\n",
       "      <td>0.0</td>\n",
       "      <td>0.00</td>\n",
       "      <td>0.0</td>\n",
       "      <td>0.000000</td>\n",
       "      <td>1.0</td>\n",
       "      <td>NaN</td>\n",
       "      <td>NaN</td>\n",
       "      <td>NaN</td>\n",
       "    </tr>\n",
       "    <tr>\n",
       "      <th>635</th>\n",
       "      <td>651</td>\n",
       "      <td>655</td>\n",
       "      <td>tres-iqus</td>\n",
       "      <td>4</td>\n",
       "      <td>0.000000</td>\n",
       "      <td>2</td>\n",
       "      <td>358.33</td>\n",
       "      <td>tres-iqus</td>\n",
       "      <td>1.0</td>\n",
       "      <td>1.0</td>\n",
       "      <td>...</td>\n",
       "      <td>0.0</td>\n",
       "      <td>0.00</td>\n",
       "      <td>0.0</td>\n",
       "      <td>0.00</td>\n",
       "      <td>0.0</td>\n",
       "      <td>0.000000</td>\n",
       "      <td>2.0</td>\n",
       "      <td>NaN</td>\n",
       "      <td>NaN</td>\n",
       "      <td>NaN</td>\n",
       "    </tr>\n",
       "  </tbody>\n",
       "</table>\n",
       "<p>636 rows × 22 columns</p>\n",
       "</div>"
      ],
      "text/plain": [
       "     Unnamed: 0.1  Unnamed: 0        Student  phase   novelty  group  \\\n",
       "0               0           1   wilson911013      1  0.000000      3   \n",
       "1               2           5      lizzyt10h      1  0.400000      3   \n",
       "2               3           6      AFelipeGA      1  0.400000      3   \n",
       "3               4           7  wapiravaguens      1  0.400000      3   \n",
       "4               5           8       capinzor      1  0.413793      3   \n",
       "..            ...         ...            ...    ...       ...    ...   \n",
       "631           647         651    kastellanos      3  0.000000      1   \n",
       "632           648         652      tres-iqus      3  0.000000      2   \n",
       "633           649         653    annumumozme      4  0.000000      0   \n",
       "634           650         654    kastellanos      4  0.000000      1   \n",
       "635           651         655      tres-iqus      4  0.000000      2   \n",
       "\n",
       "     abs_perform_diff_best          user2  Q7_Q7_1  Q7_Q7_2  ...  count  \\\n",
       "0                   250.84   wilson911013      0.0      1.0  ...    1.0   \n",
       "1                   175.00      lizzyt10h      2.0      1.0  ...    7.0   \n",
       "2                   291.67      AFelipeGA      4.0      3.0  ...    3.0   \n",
       "3                    90.00  wapiravaguens      0.0      1.0  ...    1.0   \n",
       "4                   221.67       capinzor      0.0      0.0  ...    0.0   \n",
       "..                     ...            ...      ...      ...  ...    ...   \n",
       "631                 345.83    kastellanos      5.0      5.0  ...    0.0   \n",
       "632                 358.33      tres-iqus      1.0      1.0  ...    0.0   \n",
       "633                 313.33            NaN      NaN      NaN  ...    0.0   \n",
       "634                 350.00    kastellanos      5.0      5.0  ...    0.0   \n",
       "635                 358.33      tres-iqus      1.0      1.0  ...    0.0   \n",
       "\n",
       "      total  user-requirement  infovis  novelty_score  exploration  Group  \\\n",
       "0     90.83              20.0    33.33            0.0     0.000000    3.0   \n",
       "1     75.00               0.0     0.00            0.0     0.945312    3.0   \n",
       "2    152.50              40.0    37.50            0.0     0.995375    3.0   \n",
       "3    192.50              80.0    50.00            0.0     0.567164    3.0   \n",
       "4    120.00              20.0    25.00            0.0     0.000000    3.0   \n",
       "..      ...               ...      ...            ...          ...    ...   \n",
       "631    0.00               0.0     0.00            0.0     0.000000    1.0   \n",
       "632    0.00               0.0     0.00            0.0     0.000000    2.0   \n",
       "633  237.50              40.0    37.50           60.0     0.000000    0.0   \n",
       "634    0.00               0.0     0.00            0.0     0.000000    1.0   \n",
       "635    0.00               0.0     0.00            0.0     0.000000    2.0   \n",
       "\n",
       "     len_unique  added_sum  sim-to-best  \n",
       "0           0.0        0.0     0.000000  \n",
       "1          13.0        6.0     0.125000  \n",
       "2        2059.0     2049.0     0.003841  \n",
       "3          63.0       34.0     0.202532  \n",
       "4          20.0        0.0     0.083333  \n",
       "..          ...        ...          ...  \n",
       "631         NaN        NaN          NaN  \n",
       "632         NaN        NaN          NaN  \n",
       "633         NaN        NaN          NaN  \n",
       "634         NaN        NaN          NaN  \n",
       "635         NaN        NaN          NaN  \n",
       "\n",
       "[636 rows x 22 columns]"
      ]
     },
     "execution_count": 1,
     "metadata": {},
     "output_type": "execute_result"
    }
   ],
   "source": [
    "import pandas as pd \n",
    "import seaborn as sns\n",
    "import math\n",
    "df = pd.read_csv(\"merged-sim-best.csv\")\n",
    "df"
   ]
  },
  {
   "cell_type": "code",
   "execution_count": 2,
   "id": "d7493ad2",
   "metadata": {},
   "outputs": [],
   "source": [
    "df_g3 = df[df['group'] == 3]\n",
    "df_g3_p1 = df_g3[df_g3['phase'] == 1]\n",
    "df_g3_p2 = df_g3[df_g3['phase'] == 2]\n",
    "df_g3_p3 = df_g3[df_g3['phase'] == 3]\n",
    "df_g3_p4 = df_g3[df_g3['phase'] == 4]\n",
    "\n",
    "df_g2 = df[df['group'] == 2]\n",
    "df_g2_p1 = df_g2[df_g2['phase'] == 1]\n",
    "df_g2_p2 = df_g2[df_g2['phase'] == 2]\n",
    "df_g2_p3 = df_g2[df_g2['phase'] == 3]\n",
    "df_g2_p4 = df_g2[df_g2['phase'] == 4]\n",
    "\n",
    "df_g1 = df[df['group'] == 1]\n",
    "df_g1_p1 = df_g1[df_g1['phase'] == 1]\n",
    "df_g1_p2 = df_g1[df_g1['phase'] == 2]\n",
    "df_g1_p3 = df_g1[df_g1['phase'] == 3]\n",
    "df_g1_p4 = df_g1[df_g1['phase'] == 4]\n",
    "\n",
    "df_g0 = df[df['group'] == 0]\n",
    "df_g0_p1 = df_g0[df_g0['phase'] == 1]\n",
    "df_g0_p2 = df_g0[df_g0['phase'] == 2]\n",
    "df_g0_p3 = df_g0[df_g0['phase'] == 3]\n",
    "df_g0_p4 = df_g0[df_g0['phase'] == 4]"
   ]
  },
  {
   "cell_type": "code",
   "execution_count": 3,
   "id": "7f75c5d7",
   "metadata": {},
   "outputs": [
    {
     "data": {
      "text/plain": [
       "4"
      ]
     },
     "execution_count": 3,
     "metadata": {},
     "output_type": "execute_result"
    }
   ],
   "source": [
    "math.ceil(len(df_g3_p1['novelty']) * 0.1)"
   ]
  },
  {
   "cell_type": "code",
   "execution_count": 4,
   "id": "4e963ed4",
   "metadata": {},
   "outputs": [
    {
     "data": {
      "text/plain": [
       "5"
      ]
     },
     "execution_count": 4,
     "metadata": {},
     "output_type": "execute_result"
    }
   ],
   "source": [
    "math.ceil(len(df_g2_p1['novelty']) * 0.1)"
   ]
  },
  {
   "cell_type": "code",
   "execution_count": 5,
   "id": "385960d2",
   "metadata": {},
   "outputs": [
    {
     "data": {
      "text/plain": [
       "5"
      ]
     },
     "execution_count": 5,
     "metadata": {},
     "output_type": "execute_result"
    }
   ],
   "source": [
    "math.ceil(len(df_g1_p1['novelty']) * 0.1)"
   ]
  },
  {
   "cell_type": "code",
   "execution_count": 6,
   "id": "0e9c418e",
   "metadata": {},
   "outputs": [
    {
     "data": {
      "text/plain": [
       "4"
      ]
     },
     "execution_count": 6,
     "metadata": {},
     "output_type": "execute_result"
    }
   ],
   "source": [
    "math.ceil(len(df_g0_p1['novelty']) * 0.1)"
   ]
  },
  {
   "cell_type": "code",
   "execution_count": 7,
   "id": "c07a8fe2",
   "metadata": {},
   "outputs": [
    {
     "data": {
      "text/plain": [
       "21"
      ]
     },
     "execution_count": 7,
     "metadata": {},
     "output_type": "execute_result"
    }
   ],
   "source": [
    "math.ceil(len(df_g3_p1['novelty']) * 0.55)"
   ]
  },
  {
   "cell_type": "code",
   "execution_count": 8,
   "id": "2efb939b",
   "metadata": {},
   "outputs": [
    {
     "data": {
      "text/plain": [
       "25"
      ]
     },
     "execution_count": 8,
     "metadata": {},
     "output_type": "execute_result"
    }
   ],
   "source": [
    "math.ceil(len(df_g3_p1['novelty']) * 0.65)"
   ]
  },
  {
   "cell_type": "code",
   "execution_count": 9,
   "id": "065dd376",
   "metadata": {},
   "outputs": [
    {
     "data": {
      "text/plain": [
       "24"
      ]
     },
     "execution_count": 9,
     "metadata": {},
     "output_type": "execute_result"
    }
   ],
   "source": [
    "math.ceil(len(df_g2_p1['novelty']) * 0.55)"
   ]
  },
  {
   "cell_type": "code",
   "execution_count": 10,
   "id": "40c23dd2",
   "metadata": {},
   "outputs": [
    {
     "data": {
      "text/plain": [
       "28"
      ]
     },
     "execution_count": 10,
     "metadata": {},
     "output_type": "execute_result"
    }
   ],
   "source": [
    "math.ceil(len(df_g2_p1['novelty']) * 0.65)"
   ]
  },
  {
   "cell_type": "code",
   "execution_count": 11,
   "id": "d75ec48f",
   "metadata": {},
   "outputs": [
    {
     "data": {
      "text/plain": [
       "23"
      ]
     },
     "execution_count": 11,
     "metadata": {},
     "output_type": "execute_result"
    }
   ],
   "source": [
    "math.ceil(len(df_g1_p1['novelty']) * 0.55)"
   ]
  },
  {
   "cell_type": "code",
   "execution_count": 12,
   "id": "401a899b",
   "metadata": {},
   "outputs": [
    {
     "data": {
      "text/plain": [
       "27"
      ]
     },
     "execution_count": 12,
     "metadata": {},
     "output_type": "execute_result"
    }
   ],
   "source": [
    "math.ceil(len(df_g1_p1['novelty']) * 0.65)"
   ]
  },
  {
   "cell_type": "code",
   "execution_count": 13,
   "id": "0885341d",
   "metadata": {},
   "outputs": [
    {
     "data": {
      "text/plain": [
       "22"
      ]
     },
     "execution_count": 13,
     "metadata": {},
     "output_type": "execute_result"
    }
   ],
   "source": [
    "math.ceil(len(df_g0_p1['novelty']) * 0.55)"
   ]
  },
  {
   "cell_type": "code",
   "execution_count": 14,
   "id": "430554a9",
   "metadata": {},
   "outputs": [
    {
     "data": {
      "text/plain": [
       "26"
      ]
     },
     "execution_count": 14,
     "metadata": {},
     "output_type": "execute_result"
    }
   ],
   "source": [
    "math.ceil(len(df_g0_p1['novelty']) * 0.65)"
   ]
  },
  {
   "cell_type": "code",
   "execution_count": 15,
   "id": "331e1224",
   "metadata": {},
   "outputs": [],
   "source": [
    "df_g3_p1 = df_g3_p1.sort_values(['novelty'], ascending=False).groupby('Student').head(4)\n",
    "df_g3_p2 = df_g3_p2.sort_values(['novelty'], ascending=False).groupby('Student').head(4)\n",
    "df_g3_p3 = df_g3_p3.sort_values(['novelty'], ascending=False).groupby('Student').head(4)\n",
    "df_g3_p4 = df_g3_p4.sort_values(['novelty'], ascending=False).groupby('Student').head(4)\n",
    "\n",
    "df_g3_p1 = df_g3_p1.sort_values(['novelty'], ascending=False).groupby('Student').tail(4)\n",
    "df_g3_p2 = df_g3_p2.sort_values(['novelty'], ascending=False).groupby('Student').tail(4)\n",
    "df_g3_p3 = df_g3_p3.sort_values(['novelty'], ascending=False).groupby('Student').tail(4)\n",
    "df_g3_p4 = df_g3_p4.sort_values(['novelty'], ascending=False).groupby('Student').tail(4)\n",
    "\n",
    "df_g2_p1 = df_g2_p1.sort_values(['novelty'], ascending=False).groupby('Student').head(4)\n",
    "df_g2_p2 = df_g2_p2.sort_values(['novelty'], ascending=False).groupby('Student').head(4)\n",
    "df_g2_p3 = df_g2_p3.sort_values(['novelty'], ascending=False).groupby('Student').head(4)\n",
    "df_g2_p4 = df_g2_p4.sort_values(['novelty'], ascending=False).groupby('Student').head(4)\n",
    "\n",
    "df_g2_p1 = df_g2_p1.sort_values(['novelty'], ascending=False).groupby('Student').tail(4)\n",
    "df_g2_p2 = df_g2_p2.sort_values(['novelty'], ascending=False).groupby('Student').tail(4)\n",
    "df_g2_p3 = df_g2_p3.sort_values(['novelty'], ascending=False).groupby('Student').tail(4)\n",
    "df_g2_p4 = df_g2_p4.sort_values(['novelty'], ascending=False).groupby('Student').tail(4)\n",
    "\n",
    "df_g1_p1 = df_g1_p1.sort_values(['novelty'], ascending=False).groupby('Student').head(4)\n",
    "df_g1_p2 = df_g1_p2.sort_values(['novelty'], ascending=False).groupby('Student').head(4)\n",
    "df_g1_p3 = df_g1_p3.sort_values(['novelty'], ascending=False).groupby('Student').head(4)\n",
    "df_g1_p4 = df_g1_p4.sort_values(['novelty'], ascending=False).groupby('Student').head(4)\n",
    "\n",
    "df_g1_p1 = df_g1_p1.sort_values(['novelty'], ascending=False).groupby('Student').tail(4)\n",
    "df_g1_p2 = df_g1_p2.sort_values(['novelty'], ascending=False).groupby('Student').tail(4)\n",
    "df_g1_p3 = df_g1_p3.sort_values(['novelty'], ascending=False).groupby('Student').tail(4)\n",
    "df_g1_p4 = df_g1_p4.sort_values(['novelty'], ascending=False).groupby('Student').tail(4)\n",
    "\n",
    "df_g0_p1 = df_g0_p1.sort_values(['novelty'], ascending=False).groupby('Student').head(4)\n",
    "df_g0_p2 = df_g0_p2.sort_values(['novelty'], ascending=False).groupby('Student').head(4)\n",
    "df_g0_p3 = df_g0_p3.sort_values(['novelty'], ascending=False).groupby('Student').head(4)\n",
    "df_g0_p4 = df_g0_p4.sort_values(['novelty'], ascending=False).groupby('Student').head(4)\n",
    "\n",
    "df_g0_p1 = df_g0_p1.sort_values(['novelty'], ascending=False).groupby('Student').tail(4)\n",
    "df_g0_p2 = df_g0_p2.sort_values(['novelty'], ascending=False).groupby('Student').tail(4)\n",
    "df_g0_p3 = df_g0_p3.sort_values(['novelty'], ascending=False).groupby('Student').tail(4)\n",
    "df_g0_p4 = df_g0_p4.sort_values(['novelty'], ascending=False).groupby('Student').tail(4)\n"
   ]
  },
  {
   "cell_type": "markdown",
   "id": "4b9239a0",
   "metadata": {},
   "source": [
    "## Top 10% in Group 3"
   ]
  },
  {
   "cell_type": "code",
   "execution_count": 16,
   "id": "e5015425",
   "metadata": {},
   "outputs": [
    {
     "name": "stdout",
     "output_type": "stream",
     "text": [
      "count    4.000000\n",
      "mean     0.928973\n",
      "std      0.038087\n",
      "min      0.878378\n",
      "25%      0.914039\n",
      "50%      0.934301\n",
      "75%      0.949234\n",
      "max      0.968912\n",
      "Name: novelty, dtype: float64\n",
      "count    4.000000\n",
      "mean     0.964923\n",
      "std      0.033558\n",
      "min      0.917563\n",
      "25%      0.953379\n",
      "50%      0.974846\n",
      "75%      0.986390\n",
      "max      0.992436\n",
      "Name: novelty, dtype: float64\n",
      "count    4.000000\n",
      "mean     0.979196\n",
      "std      0.007811\n",
      "min      0.969919\n",
      "25%      0.975148\n",
      "50%      0.979186\n",
      "75%      0.983234\n",
      "max      0.988493\n",
      "Name: novelty, dtype: float64\n",
      "count    4.000000\n",
      "mean     0.972485\n",
      "std      0.008896\n",
      "min      0.964725\n",
      "25%      0.968315\n",
      "50%      0.969961\n",
      "75%      0.974131\n",
      "max      0.985294\n",
      "Name: novelty, dtype: float64\n"
     ]
    }
   ],
   "source": [
    "df_list = [df_g3_p1, df_g3_p2, df_g3_p3, df_g3_p4]\n",
    "\n",
    "for df in df_list:\n",
    "    print(df['novelty'].head(4).describe())"
   ]
  },
  {
   "cell_type": "markdown",
   "id": "b164073d",
   "metadata": {},
   "source": [
    "## Bottom 10% in Group 3"
   ]
  },
  {
   "cell_type": "code",
   "execution_count": 17,
   "id": "883d7922",
   "metadata": {},
   "outputs": [
    {
     "name": "stdout",
     "output_type": "stream",
     "text": [
      "count    4.0\n",
      "mean     0.3\n",
      "std      0.2\n",
      "min      0.0\n",
      "25%      0.3\n",
      "50%      0.4\n",
      "75%      0.4\n",
      "max      0.4\n",
      "Name: novelty, dtype: float64\n",
      "count    4.000000\n",
      "mean     0.297973\n",
      "std      0.198685\n",
      "min      0.000000\n",
      "25%      0.293919\n",
      "50%      0.395946\n",
      "75%      0.400000\n",
      "max      0.400000\n",
      "Name: novelty, dtype: float64\n",
      "count    4.000000\n",
      "mean     0.432143\n",
      "std      0.047201\n",
      "min      0.400000\n",
      "25%      0.400000\n",
      "50%      0.414286\n",
      "75%      0.446429\n",
      "max      0.500000\n",
      "Name: novelty, dtype: float64\n",
      "count    4.000000\n",
      "mean     0.432143\n",
      "std      0.047201\n",
      "min      0.400000\n",
      "25%      0.400000\n",
      "50%      0.414286\n",
      "75%      0.446429\n",
      "max      0.500000\n",
      "Name: novelty, dtype: float64\n"
     ]
    }
   ],
   "source": [
    "df_list = [df_g3_p1, df_g3_p2, df_g3_p3, df_g3_p4]\n",
    "\n",
    "for df in df_list:\n",
    "    print(df['novelty'].tail(4).describe())"
   ]
  },
  {
   "cell_type": "markdown",
   "id": "12b8b6e3",
   "metadata": {},
   "source": [
    "## Middle in Group 3"
   ]
  },
  {
   "cell_type": "code",
   "execution_count": 18,
   "id": "0cdeb698",
   "metadata": {},
   "outputs": [
    {
     "name": "stdout",
     "output_type": "stream",
     "text": [
      "        novelty\n",
      "count  2.000000\n",
      "mean   0.585227\n",
      "std    0.056247\n",
      "min    0.545455\n",
      "25%    0.565341\n",
      "50%    0.585227\n",
      "75%    0.605114\n",
      "max    0.625000\n",
      "        novelty\n",
      "count  2.000000\n",
      "mean   0.655637\n",
      "std    0.043328\n",
      "min    0.625000\n",
      "25%    0.640319\n",
      "50%    0.655637\n",
      "75%    0.670956\n",
      "max    0.686275\n",
      "        novelty\n",
      "count  2.000000\n",
      "mean   0.726471\n",
      "std    0.037435\n",
      "min    0.700000\n",
      "25%    0.713235\n",
      "50%    0.726471\n",
      "75%    0.739706\n",
      "max    0.752941\n",
      "        novelty\n",
      "count  2.000000\n",
      "mean   0.784049\n",
      "std    0.032781\n",
      "min    0.760870\n",
      "25%    0.772459\n",
      "50%    0.784049\n",
      "75%    0.795639\n",
      "max    0.807229\n"
     ]
    }
   ],
   "source": [
    "df_list = [df_g3_p1, df_g3_p2, df_g3_p3, df_g3_p4]\n",
    "\n",
    "for df in df_list:\n",
    "    print(df[['novelty']].iloc[[21,25]].describe())"
   ]
  },
  {
   "cell_type": "markdown",
   "id": "26f849b7",
   "metadata": {},
   "source": [
    "## Top 10% Group 2"
   ]
  },
  {
   "cell_type": "code",
   "execution_count": 19,
   "id": "5069942b",
   "metadata": {},
   "outputs": [
    {
     "name": "stdout",
     "output_type": "stream",
     "text": [
      "count    5.000000\n",
      "mean     0.984201\n",
      "std      0.005877\n",
      "min      0.980308\n",
      "25%      0.980922\n",
      "50%      0.982156\n",
      "75%      0.983087\n",
      "max      0.994536\n",
      "Name: novelty, dtype: float64\n",
      "count    5.000000\n",
      "mean     0.959821\n",
      "std      0.023463\n",
      "min      0.932489\n",
      "25%      0.942797\n",
      "50%      0.958217\n",
      "75%      0.975501\n",
      "max      0.990099\n",
      "Name: novelty, dtype: float64\n",
      "count    5.000000\n",
      "mean     0.964263\n",
      "std      0.018565\n",
      "min      0.943396\n",
      "25%      0.953911\n",
      "50%      0.958509\n",
      "75%      0.975025\n",
      "max      0.990476\n",
      "Name: novelty, dtype: float64\n",
      "count    5.000000\n",
      "mean     0.967206\n",
      "std      0.015747\n",
      "min      0.953317\n",
      "25%      0.958522\n",
      "50%      0.958603\n",
      "75%      0.973751\n",
      "max      0.991837\n",
      "Name: novelty, dtype: float64\n"
     ]
    }
   ],
   "source": [
    "df_list = [df_g2_p1, df_g2_p2, df_g2_p3, df_g2_p4]\n",
    "\n",
    "for df in df_list:\n",
    "    print(df['novelty'].head(5).describe())"
   ]
  },
  {
   "cell_type": "markdown",
   "id": "58493663",
   "metadata": {},
   "source": [
    "## Bottom 10% Group 2"
   ]
  },
  {
   "cell_type": "code",
   "execution_count": 20,
   "id": "0abab4f3",
   "metadata": {},
   "outputs": [
    {
     "name": "stdout",
     "output_type": "stream",
     "text": [
      "count    5.0\n",
      "mean     0.0\n",
      "std      0.0\n",
      "min      0.0\n",
      "25%      0.0\n",
      "50%      0.0\n",
      "75%      0.0\n",
      "max      0.0\n",
      "Name: novelty, dtype: float64\n",
      "count    5.000000\n",
      "mean     0.004694\n",
      "std      0.010495\n",
      "min      0.000000\n",
      "25%      0.000000\n",
      "50%      0.000000\n",
      "75%      0.000000\n",
      "max      0.023468\n",
      "Name: novelty, dtype: float64\n",
      "count    5.000000\n",
      "mean     0.072015\n",
      "std      0.131483\n",
      "min      0.000000\n",
      "25%      0.000000\n",
      "50%      0.000000\n",
      "75%      0.057047\n",
      "max      0.303030\n",
      "Name: novelty, dtype: float64\n",
      "count    5.000000\n",
      "mean     0.077976\n",
      "std      0.131310\n",
      "min      0.000000\n",
      "25%      0.000000\n",
      "50%      0.000000\n",
      "75%      0.086851\n",
      "max      0.303030\n",
      "Name: novelty, dtype: float64\n"
     ]
    }
   ],
   "source": [
    "df_list = [df_g2_p1, df_g2_p2, df_g2_p3, df_g2_p4]\n",
    "\n",
    "for df in df_list:\n",
    "    print(df['novelty'].tail(5).describe())"
   ]
  },
  {
   "cell_type": "markdown",
   "id": "1ecfe075",
   "metadata": {},
   "source": [
    "## Middle in Group 2"
   ]
  },
  {
   "cell_type": "code",
   "execution_count": 21,
   "id": "91deda3e",
   "metadata": {},
   "outputs": [
    {
     "name": "stdout",
     "output_type": "stream",
     "text": [
      "        novelty\n",
      "count  2.000000\n",
      "mean   0.593074\n",
      "std    0.078594\n",
      "min    0.537500\n",
      "25%    0.565287\n",
      "50%    0.593074\n",
      "75%    0.620861\n",
      "max    0.648649\n",
      "        novelty\n",
      "count  2.000000\n",
      "mean   0.612857\n",
      "std    0.038386\n",
      "min    0.585714\n",
      "25%    0.599286\n",
      "50%    0.612857\n",
      "75%    0.626429\n",
      "max    0.640000\n",
      "        novelty\n",
      "count  2.000000\n",
      "mean   0.667929\n",
      "std    0.041069\n",
      "min    0.638889\n",
      "25%    0.653409\n",
      "50%    0.667929\n",
      "75%    0.682449\n",
      "max    0.696970\n",
      "        novelty\n",
      "count  2.000000\n",
      "mean   0.683081\n",
      "std    0.062497\n",
      "min    0.638889\n",
      "25%    0.660985\n",
      "50%    0.683081\n",
      "75%    0.705177\n",
      "max    0.727273\n"
     ]
    }
   ],
   "source": [
    "df_list = [df_g2_p1, df_g2_p2, df_g2_p3, df_g2_p4]\n",
    "\n",
    "for df in df_list:\n",
    "    print(df[['novelty']].iloc[[24,28]].describe())"
   ]
  },
  {
   "cell_type": "markdown",
   "id": "786eae4d",
   "metadata": {},
   "source": [
    "## Top 10% Group 1"
   ]
  },
  {
   "cell_type": "code",
   "execution_count": 22,
   "id": "b25b1443",
   "metadata": {},
   "outputs": [
    {
     "name": "stdout",
     "output_type": "stream",
     "text": [
      "count    5.000000\n",
      "mean     0.972435\n",
      "std      0.017756\n",
      "min      0.953552\n",
      "25%      0.964224\n",
      "50%      0.965986\n",
      "75%      0.978413\n",
      "max      1.000000\n",
      "Name: novelty, dtype: float64\n",
      "count    5.000000\n",
      "mean     0.953352\n",
      "std      0.010742\n",
      "min      0.939880\n",
      "25%      0.951956\n",
      "50%      0.951956\n",
      "75%      0.953003\n",
      "max      0.969967\n",
      "Name: novelty, dtype: float64\n",
      "count    5.000000\n",
      "mean     0.934081\n",
      "std      0.030509\n",
      "min      0.895561\n",
      "25%      0.906752\n",
      "50%      0.953003\n",
      "75%      0.953446\n",
      "max      0.961640\n",
      "Name: novelty, dtype: float64\n",
      "count    5.000000\n",
      "mean     0.934445\n",
      "std      0.035268\n",
      "min      0.890805\n",
      "25%      0.902077\n",
      "50%      0.952077\n",
      "75%      0.961592\n",
      "max      0.965675\n",
      "Name: novelty, dtype: float64\n"
     ]
    }
   ],
   "source": [
    "df_list = [df_g1_p1, df_g1_p2, df_g1_p3, df_g1_p4]\n",
    "\n",
    "for df in df_list:\n",
    "    print(df['novelty'].head(5).describe())"
   ]
  },
  {
   "cell_type": "markdown",
   "id": "9d8e400b",
   "metadata": {},
   "source": [
    "## Bottom 10% Group 1"
   ]
  },
  {
   "cell_type": "code",
   "execution_count": 23,
   "id": "fc8eeec8",
   "metadata": {},
   "outputs": [
    {
     "name": "stdout",
     "output_type": "stream",
     "text": [
      "count    5.0\n",
      "mean     0.0\n",
      "std      0.0\n",
      "min      0.0\n",
      "25%      0.0\n",
      "50%      0.0\n",
      "75%      0.0\n",
      "max      0.0\n",
      "Name: novelty, dtype: float64\n",
      "count    5.0\n",
      "mean     0.0\n",
      "std      0.0\n",
      "min      0.0\n",
      "25%      0.0\n",
      "50%      0.0\n",
      "75%      0.0\n",
      "max      0.0\n",
      "Name: novelty, dtype: float64\n",
      "count    5.0\n",
      "mean     0.0\n",
      "std      0.0\n",
      "min      0.0\n",
      "25%      0.0\n",
      "50%      0.0\n",
      "75%      0.0\n",
      "max      0.0\n",
      "Name: novelty, dtype: float64\n",
      "count    5.0\n",
      "mean     0.0\n",
      "std      0.0\n",
      "min      0.0\n",
      "25%      0.0\n",
      "50%      0.0\n",
      "75%      0.0\n",
      "max      0.0\n",
      "Name: novelty, dtype: float64\n"
     ]
    }
   ],
   "source": [
    "df_list = [df_g1_p1, df_g1_p2, df_g1_p3, df_g1_p4]\n",
    "\n",
    "for df in df_list:\n",
    "    print(df['novelty'].tail(5).describe())"
   ]
  },
  {
   "cell_type": "markdown",
   "id": "f767e5f7",
   "metadata": {},
   "source": [
    "## Middle Group 1"
   ]
  },
  {
   "cell_type": "code",
   "execution_count": 24,
   "id": "1a87fb6d",
   "metadata": {},
   "outputs": [
    {
     "name": "stdout",
     "output_type": "stream",
     "text": [
      "        novelty\n",
      "count  2.000000\n",
      "mean   0.402778\n",
      "std    0.216060\n",
      "min    0.250000\n",
      "25%    0.326389\n",
      "50%    0.402778\n",
      "75%    0.479167\n",
      "max    0.555556\n",
      "        novelty\n",
      "count  2.000000\n",
      "mean   0.575581\n",
      "std    0.106888\n",
      "min    0.500000\n",
      "25%    0.537791\n",
      "50%    0.575581\n",
      "75%    0.613372\n",
      "max    0.651163\n",
      "        novelty\n",
      "count  2.000000\n",
      "mean   0.455607\n",
      "std    0.239557\n",
      "min    0.286215\n",
      "25%    0.370911\n",
      "50%    0.455607\n",
      "75%    0.540304\n",
      "max    0.625000\n",
      "        novelty\n",
      "count  2.000000\n",
      "mean   0.373394\n",
      "std    0.156950\n",
      "min    0.262414\n",
      "25%    0.317904\n",
      "50%    0.373394\n",
      "75%    0.428885\n",
      "max    0.484375\n"
     ]
    }
   ],
   "source": [
    "df_list = [df_g1_p1, df_g1_p2, df_g1_p3, df_g1_p4]\n",
    "\n",
    "for df in df_list:\n",
    "    print(df[['novelty']].iloc[[23,27]].describe())"
   ]
  },
  {
   "cell_type": "markdown",
   "id": "c95e3697",
   "metadata": {},
   "source": [
    "## Top 10% in Group 0"
   ]
  },
  {
   "cell_type": "code",
   "execution_count": 25,
   "id": "1d1e72fa",
   "metadata": {},
   "outputs": [
    {
     "name": "stdout",
     "output_type": "stream",
     "text": [
      "count    4.000000\n",
      "mean     0.883338\n",
      "std      0.038433\n",
      "min      0.852713\n",
      "25%      0.856035\n",
      "50%      0.872233\n",
      "75%      0.899536\n",
      "max      0.936170\n",
      "Name: novelty, dtype: float64\n",
      "count    4.000000\n",
      "mean     0.904740\n",
      "std      0.025169\n",
      "min      0.885246\n",
      "25%      0.889790\n",
      "50%      0.896269\n",
      "75%      0.911220\n",
      "max      0.941176\n",
      "Name: novelty, dtype: float64\n",
      "count    4.000000\n",
      "mean     0.938551\n",
      "std      0.034235\n",
      "min      0.906667\n",
      "25%      0.917456\n",
      "50%      0.931115\n",
      "75%      0.952210\n",
      "max      0.985309\n",
      "Name: novelty, dtype: float64\n",
      "count    4.000000\n",
      "mean     0.949999\n",
      "std      0.028372\n",
      "min      0.917476\n",
      "25%      0.932494\n",
      "50%      0.950164\n",
      "75%      0.967669\n",
      "max      0.982191\n",
      "Name: novelty, dtype: float64\n"
     ]
    }
   ],
   "source": [
    "df_list = [df_g0_p1, df_g0_p2, df_g0_p3, df_g0_p4]\n",
    "\n",
    "for df in df_list:\n",
    "    print(df['novelty'].head(4).describe())"
   ]
  },
  {
   "cell_type": "markdown",
   "id": "d2e46b16",
   "metadata": {},
   "source": [
    "## Bottom 10% in Group 0"
   ]
  },
  {
   "cell_type": "code",
   "execution_count": 26,
   "id": "a891066b",
   "metadata": {},
   "outputs": [
    {
     "name": "stdout",
     "output_type": "stream",
     "text": [
      "count    4.0\n",
      "mean     0.0\n",
      "std      0.0\n",
      "min      0.0\n",
      "25%      0.0\n",
      "50%      0.0\n",
      "75%      0.0\n",
      "max      0.0\n",
      "Name: novelty, dtype: float64\n",
      "count    4.0\n",
      "mean     0.0\n",
      "std      0.0\n",
      "min      0.0\n",
      "25%      0.0\n",
      "50%      0.0\n",
      "75%      0.0\n",
      "max      0.0\n",
      "Name: novelty, dtype: float64\n",
      "count    4.0\n",
      "mean     0.0\n",
      "std      0.0\n",
      "min      0.0\n",
      "25%      0.0\n",
      "50%      0.0\n",
      "75%      0.0\n",
      "max      0.0\n",
      "Name: novelty, dtype: float64\n",
      "count    4.0\n",
      "mean     0.0\n",
      "std      0.0\n",
      "min      0.0\n",
      "25%      0.0\n",
      "50%      0.0\n",
      "75%      0.0\n",
      "max      0.0\n",
      "Name: novelty, dtype: float64\n"
     ]
    }
   ],
   "source": [
    "df_list = [df_g0_p1, df_g0_p2, df_g0_p3, df_g0_p4]\n",
    "\n",
    "for df in df_list:\n",
    "    print(df['novelty'].tail(4).describe())"
   ]
  },
  {
   "cell_type": "markdown",
   "id": "585368fb",
   "metadata": {},
   "source": [
    "## Middle Group 0"
   ]
  },
  {
   "cell_type": "code",
   "execution_count": 27,
   "id": "969a0af1",
   "metadata": {},
   "outputs": [
    {
     "name": "stdout",
     "output_type": "stream",
     "text": [
      "        novelty\n",
      "count  2.000000\n",
      "mean   0.607407\n",
      "std    0.057616\n",
      "min    0.566667\n",
      "25%    0.587037\n",
      "50%    0.607407\n",
      "75%    0.627778\n",
      "max    0.648148\n",
      "        novelty\n",
      "count  2.000000\n",
      "mean   0.514993\n",
      "std    0.051946\n",
      "min    0.478261\n",
      "25%    0.496627\n",
      "50%    0.514993\n",
      "75%    0.533358\n",
      "max    0.551724\n",
      "        novelty\n",
      "count  2.000000\n",
      "mean   0.556322\n",
      "std    0.058854\n",
      "min    0.514706\n",
      "25%    0.535514\n",
      "50%    0.556322\n",
      "75%    0.577130\n",
      "max    0.597938\n",
      "        novelty\n",
      "count  2.000000\n",
      "mean   0.625000\n",
      "std    0.075761\n",
      "min    0.571429\n",
      "25%    0.598214\n",
      "50%    0.625000\n",
      "75%    0.651786\n",
      "max    0.678571\n"
     ]
    }
   ],
   "source": [
    "df_list = [df_g0_p1, df_g0_p2, df_g0_p3, df_g0_p4]\n",
    "\n",
    "for df in df_list:\n",
    "    print(df[['novelty']].iloc[[22,26]].describe())"
   ]
  },
  {
   "cell_type": "code",
   "execution_count": null,
   "id": "bf539efb",
   "metadata": {},
   "outputs": [],
   "source": []
  }
 ],
 "metadata": {
  "kernelspec": {
   "display_name": "Python 3 (ipykernel)",
   "language": "python",
   "name": "python3"
  },
  "language_info": {
   "codemirror_mode": {
    "name": "ipython",
    "version": 3
   },
   "file_extension": ".py",
   "mimetype": "text/x-python",
   "name": "python",
   "nbconvert_exporter": "python",
   "pygments_lexer": "ipython3",
   "version": "3.9.7"
  }
 },
 "nbformat": 4,
 "nbformat_minor": 5
}
