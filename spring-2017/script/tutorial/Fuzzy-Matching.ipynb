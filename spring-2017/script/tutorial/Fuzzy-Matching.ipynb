{
 "cells": [
  {
   "cell_type": "code",
   "execution_count": 7,
   "id": "e38363be",
   "metadata": {},
   "outputs": [],
   "source": [
    "import pandas as pd\n",
    "\n",
    "d = {'user': ['jack', 'mary', 'jack', 'jane', 'catherine', 'john'],\n",
    "     'friend': [['mary', 'jane', 'alex'], \n",
    "                ['jack', 'jane', 'alex'],\n",
    "                ['mary', 'jane', 'alex'],\n",
    "                ['alex', 'jack', 'mary'],\n",
    "                ['yute', 'kelvin'],\n",
    "                ['beyond', 'holand']]}\n",
    "df = pd.DataFrame(d)"
   ]
  },
  {
   "cell_type": "code",
   "execution_count": 8,
   "id": "1f30a540",
   "metadata": {},
   "outputs": [
    {
     "data": {
      "text/html": [
       "<div>\n",
       "<style scoped>\n",
       "    .dataframe tbody tr th:only-of-type {\n",
       "        vertical-align: middle;\n",
       "    }\n",
       "\n",
       "    .dataframe tbody tr th {\n",
       "        vertical-align: top;\n",
       "    }\n",
       "\n",
       "    .dataframe thead th {\n",
       "        text-align: right;\n",
       "    }\n",
       "</style>\n",
       "<table border=\"1\" class=\"dataframe\">\n",
       "  <thead>\n",
       "    <tr style=\"text-align: right;\">\n",
       "      <th></th>\n",
       "      <th>user</th>\n",
       "      <th>friend</th>\n",
       "    </tr>\n",
       "  </thead>\n",
       "  <tbody>\n",
       "    <tr>\n",
       "      <th>0</th>\n",
       "      <td>jack</td>\n",
       "      <td>[mary, jane, alex]</td>\n",
       "    </tr>\n",
       "    <tr>\n",
       "      <th>4</th>\n",
       "      <td>catherine</td>\n",
       "      <td>[yute, kelvin]</td>\n",
       "    </tr>\n",
       "    <tr>\n",
       "      <th>5</th>\n",
       "      <td>john</td>\n",
       "      <td>[beyond, holand]</td>\n",
       "    </tr>\n",
       "  </tbody>\n",
       "</table>\n",
       "</div>"
      ],
      "text/plain": [
       "        user              friend\n",
       "0       jack  [mary, jane, alex]\n",
       "4  catherine      [yute, kelvin]\n",
       "5       john    [beyond, holand]"
      ]
     },
     "execution_count": 8,
     "metadata": {},
     "output_type": "execute_result"
    }
   ],
   "source": [
    "S = set()\n",
    "# line below uses python ≥ 3.8, if older version use a classical loop\n",
    "sets = [(S:=S.union(set(x))) for x in df['friend']]\n",
    "\n",
    "mask = [u not in s for u,s in zip(df['user'], sets)]\n",
    "# [True, False, True, False, False, False]\n",
    "out = df[mask]\n",
    "out"
   ]
  },
  {
   "cell_type": "code",
   "execution_count": 14,
   "id": "14cb79a0",
   "metadata": {},
   "outputs": [
    {
     "name": "stdout",
     "output_type": "stream",
     "text": [
      "          name                     duplicates\n",
      "0      a.apple             [b.apple, c.apple]\n",
      "1     t.orange        [arr.orange, pg.orange]\n",
      "2     ts.grape          [a.grape, test.grape]\n",
      "3  u.berryCool  [X.berryCool, cool.berryCool]\n"
     ]
    }
   ],
   "source": [
    "data = {\n",
    "  \"name\": ['a.apple', 't.orange', 'ts.grape', 'u.berryCool'],\n",
    "  \"duplicates\": [['b.apple', 'c.apple'], ['arr.orange', 'pg.orange'], ['a.grape' , 'test.grape'], ['X.berryCool', 'cool.berryCool']]\n",
    "}\n",
    "#load data into a DataFrame object:\n",
    "df1 = pd.DataFrame(data)\n",
    "\n",
    "print(df1) "
   ]
  },
  {
   "cell_type": "code",
   "execution_count": 17,
   "id": "e4a0aea9",
   "metadata": {},
   "outputs": [
    {
     "name": "stdout",
     "output_type": "stream",
     "text": [
      "     people                                        fruits\n",
      "0      jack      [b.apple, c.apple, pp.tomato, ao.banana]\n",
      "1      mary  [arr.orange, b.apple, X.berryCool, op.mango]\n",
      "2      andy       [cool.berryCool, test.grape, yu.papaya]\n",
      "3  lawrence                          [jc.orange, c.apple]\n"
     ]
    }
   ],
   "source": [
    "data = {\n",
    "  \"people\": ['jack', 'mary', 'andy', 'lawrence'],\n",
    "  \"fruits\": [['b.apple', 'c.apple', 'pp.tomato', 'ao.banana' ], ['arr.orange', 'b.apple', 'X.berryCool', 'op.mango'], \n",
    "                ['cool.berryCool' , 'test.grape', 'yu.papaya'], ['jc.orange', 'c.apple'] ]\n",
    "}\n",
    "\n",
    "#load data into a DataFrame object:\n",
    "df2 = pd.DataFrame(data)\n",
    "\n",
    "print(df2) "
   ]
  },
  {
   "cell_type": "code",
   "execution_count": 19,
   "id": "1bab7068",
   "metadata": {},
   "outputs": [
    {
     "data": {
      "text/html": [
       "<div>\n",
       "<style scoped>\n",
       "    .dataframe tbody tr th:only-of-type {\n",
       "        vertical-align: middle;\n",
       "    }\n",
       "\n",
       "    .dataframe tbody tr th {\n",
       "        vertical-align: top;\n",
       "    }\n",
       "\n",
       "    .dataframe thead th {\n",
       "        text-align: right;\n",
       "    }\n",
       "</style>\n",
       "<table border=\"1\" class=\"dataframe\">\n",
       "  <thead>\n",
       "    <tr style=\"text-align: right;\">\n",
       "      <th></th>\n",
       "      <th>people</th>\n",
       "      <th>fruits</th>\n",
       "    </tr>\n",
       "  </thead>\n",
       "  <tbody>\n",
       "    <tr>\n",
       "      <th>0</th>\n",
       "      <td>jack</td>\n",
       "      <td>[a.apple, a.apple, pp.tomato, ao.banana]</td>\n",
       "    </tr>\n",
       "    <tr>\n",
       "      <th>1</th>\n",
       "      <td>mary</td>\n",
       "      <td>[t.orange, a.apple, u.berryCool, op.mango]</td>\n",
       "    </tr>\n",
       "    <tr>\n",
       "      <th>2</th>\n",
       "      <td>andy</td>\n",
       "      <td>[u.berryCool, ts.grape, yu.papaya]</td>\n",
       "    </tr>\n",
       "    <tr>\n",
       "      <th>3</th>\n",
       "      <td>lawrence</td>\n",
       "      <td>[jc.orange, a.apple]</td>\n",
       "    </tr>\n",
       "  </tbody>\n",
       "</table>\n",
       "</div>"
      ],
      "text/plain": [
       "     people                                      fruits\n",
       "0      jack    [a.apple, a.apple, pp.tomato, ao.banana]\n",
       "1      mary  [t.orange, a.apple, u.berryCool, op.mango]\n",
       "2      andy          [u.berryCool, ts.grape, yu.papaya]\n",
       "3  lawrence                        [jc.orange, a.apple]"
      ]
     },
     "execution_count": 19,
     "metadata": {},
     "output_type": "execute_result"
    }
   ],
   "source": [
    "d = {x: a for a, b in zip(df1['name'], df1['duplicates']) for x in b}\n",
    "\n",
    "df2['fruits'] = [[d.get(y,y) for y in x] for x in df2['fruits']]\n",
    "df2"
   ]
  },
  {
   "cell_type": "code",
   "execution_count": null,
   "id": "4ba64349",
   "metadata": {},
   "outputs": [],
   "source": []
  }
 ],
 "metadata": {
  "kernelspec": {
   "display_name": "Python 3 (ipykernel)",
   "language": "python",
   "name": "python3"
  },
  "language_info": {
   "codemirror_mode": {
    "name": "ipython",
    "version": 3
   },
   "file_extension": ".py",
   "mimetype": "text/x-python",
   "name": "python",
   "nbconvert_exporter": "python",
   "pygments_lexer": "ipython3",
   "version": "3.8.9"
  }
 },
 "nbformat": 4,
 "nbformat_minor": 5
}
