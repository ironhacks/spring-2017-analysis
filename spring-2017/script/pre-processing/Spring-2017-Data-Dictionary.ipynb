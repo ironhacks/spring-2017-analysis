{
 "cells": [
  {
   "cell_type": "markdown",
   "id": "e3aed1ff",
   "metadata": {},
   "source": [
    "# Scores "
   ]
  },
  {
   "cell_type": "markdown",
   "id": "47a78048",
   "metadata": {},
   "source": [
    "## Raw Scores \n",
    "\n",
    "Link to Box - https://purdue.app.box.com/folder/124519471861\n",
    "\n",
    "- User Requirement \n",
    "\n",
    "- InfoVis \n",
    "\n",
    "- Novelty \n",
    "\n",
    "- Technology \n",
    "\n",
    "\n",
    "\n",
    "## Percentile Scores\n",
    "\n",
    "- User Requirement \n",
    "\n",
    "- InfoVis \n",
    "\n",
    "- Novelty \n",
    "\n",
    "- Technology \n",
    "\n",
    "\n",
    "Link Box - https://purdue.app.box.com/folder/124519842396 \n",
    "\n",
    "- Raw Total Scores \n",
    "\n",
    "- Percentile Total Scores\n",
    "\n"
   ]
  },
  {
   "cell_type": "markdown",
   "id": "548344d7",
   "metadata": {},
   "source": [
    "# Scores Click Data"
   ]
  },
  {
   "cell_type": "markdown",
   "id": "b9c1da7d",
   "metadata": {},
   "source": [
    "Link to Box - https://purdue.app.box.com/folder/141079559170\n",
    "\n",
    "- Scores Clicks\n",
    "\n",
    "- Project-URL Clicks\n",
    "\n",
    "- Code-URL Clicks\n",
    "\n",
    "- Click Time\n",
    "\n",
    "- Click Date\n",
    "\n",
    "- Phase\n",
    "\n",
    "- Clicker Username\n",
    "\n",
    "- Hacker Username\n",
    "\n"
   ]
  },
  {
   "cell_type": "markdown",
   "id": "c8300fc2",
   "metadata": {},
   "source": [
    "## Forum Post Clicks\n",
    "\n",
    "Link to Box - https://purdue.app.box.com/folder/141079559170\n",
    "\n",
    "- click_date\n",
    "\n",
    "- click_time\n",
    "\n",
    "- phase\n",
    "\n",
    "- post_title\n",
    "\n",
    "- post_author\n",
    "\n",
    "- clicker_username\n",
    "\n"
   ]
  },
  {
   "cell_type": "markdown",
   "id": "564b3db5",
   "metadata": {},
   "source": [
    "## Pre-Survey Data\n",
    "\n",
    "- Goal of Signing Up for IronHacks \n",
    "\n",
    "- Personalities ( Aspirations, Creativity, Openness etc. )\n",
    "\n",
    "- Ways to Visualize Complex Information \n",
    "\n",
    "- Technical Competencies \n",
    "\n",
    "- Time Spent on Programming Language\n",
    "\n",
    "- Level of Programming Skills \n",
    "\n",
    "- Degree of Confidence in Programming\n",
    "\n",
    "- Experience in Hacks \n",
    "\n",
    "- Prediction on Placement in IronHacks ( 1st, 2nd, 3rd, etc. )\n",
    "\n",
    "- Hours Spent on Exploring JS Technologies \n",
    "\n",
    "- Hours Spent on Exploring Open Data Sets \n",
    "\n",
    "- Number of Participants Interact With \n",
    "\n",
    "- Number of People to Discuss Coding Problems \n",
    "\n",
    "- Gender \n",
    "\n",
    "- Ethinicity \n",
    "\n",
    "- Classes "
   ]
  },
  {
   "cell_type": "code",
   "execution_count": null,
   "id": "31c353dd",
   "metadata": {},
   "outputs": [],
   "source": []
  }
 ],
 "metadata": {
  "kernelspec": {
   "display_name": "Python 3 (ipykernel)",
   "language": "python",
   "name": "python3"
  },
  "language_info": {
   "codemirror_mode": {
    "name": "ipython",
    "version": 3
   },
   "file_extension": ".py",
   "mimetype": "text/x-python",
   "name": "python",
   "nbconvert_exporter": "python",
   "pygments_lexer": "ipython3",
   "version": "3.9.7"
  }
 },
 "nbformat": 4,
 "nbformat_minor": 5
}
