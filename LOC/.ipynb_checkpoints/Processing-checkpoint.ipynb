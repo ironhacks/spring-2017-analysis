{
 "cells": [
  {
   "cell_type": "markdown",
   "id": "86cd9e0b",
   "metadata": {},
   "source": [
    "# Phase 4 - 5 ( Code Added, Deleted, Number of Files Changed )"
   ]
  },
  {
   "cell_type": "code",
   "execution_count": 1,
   "id": "276f0068",
   "metadata": {},
   "outputs": [],
   "source": [
    "import pandas as pd\n",
    "\n",
    "df_phase45 = pd.read_csv('phase-4-5-prelim.csv')\n",
    "df_phase45 = df_phase45.drop(['Unnamed: 4', 'Unnamed: 5', 'Unnamed: 6'], axis = 1)"
   ]
  },
  {
   "cell_type": "code",
   "execution_count": 2,
   "id": "39115ae6",
   "metadata": {},
   "outputs": [
    {
     "data": {
      "text/html": [
       "<div>\n",
       "<style scoped>\n",
       "    .dataframe tbody tr th:only-of-type {\n",
       "        vertical-align: middle;\n",
       "    }\n",
       "\n",
       "    .dataframe tbody tr th {\n",
       "        vertical-align: top;\n",
       "    }\n",
       "\n",
       "    .dataframe thead th {\n",
       "        text-align: right;\n",
       "    }\n",
       "</style>\n",
       "<table border=\"1\" class=\"dataframe\">\n",
       "  <thead>\n",
       "    <tr style=\"text-align: right;\">\n",
       "      <th></th>\n",
       "      <th>change</th>\n",
       "      <th>addition</th>\n",
       "      <th>delete</th>\n",
       "      <th>username</th>\n",
       "      <th>change-revised</th>\n",
       "    </tr>\n",
       "  </thead>\n",
       "  <tbody>\n",
       "    <tr>\n",
       "      <th>0</th>\n",
       "      <td>0 files changed</td>\n",
       "      <td>NaN</td>\n",
       "      <td>NaN</td>\n",
       "      <td>adamantwharf</td>\n",
       "      <td>0</td>\n",
       "    </tr>\n",
       "    <tr>\n",
       "      <th>1</th>\n",
       "      <td>4 files changed</td>\n",
       "      <td>133 insertions(+)</td>\n",
       "      <td>85 deletions(-)</td>\n",
       "      <td>adriel62</td>\n",
       "      <td>4</td>\n",
       "    </tr>\n",
       "    <tr>\n",
       "      <th>2</th>\n",
       "      <td>2 files changed</td>\n",
       "      <td>6 insertions(+)</td>\n",
       "      <td>11 deletions(-)</td>\n",
       "      <td>afceballosr</td>\n",
       "      <td>2</td>\n",
       "    </tr>\n",
       "    <tr>\n",
       "      <th>3</th>\n",
       "      <td>0 files changed</td>\n",
       "      <td>NaN</td>\n",
       "      <td>NaN</td>\n",
       "      <td>AFelipeGA</td>\n",
       "      <td>0</td>\n",
       "    </tr>\n",
       "    <tr>\n",
       "      <th>4</th>\n",
       "      <td>0 files changed</td>\n",
       "      <td>NaN</td>\n",
       "      <td>NaN</td>\n",
       "      <td>afforeroc</td>\n",
       "      <td>0</td>\n",
       "    </tr>\n",
       "  </tbody>\n",
       "</table>\n",
       "</div>"
      ],
      "text/plain": [
       "            change            addition            delete      username  \\\n",
       "0  0 files changed                 NaN               NaN  adamantwharf   \n",
       "1  4 files changed   133 insertions(+)   85 deletions(-)      adriel62   \n",
       "2  2 files changed     6 insertions(+)   11 deletions(-)   afceballosr   \n",
       "3  0 files changed                 NaN               NaN     AFelipeGA   \n",
       "4  0 files changed                 NaN               NaN     afforeroc   \n",
       "\n",
       "  change-revised  \n",
       "0              0  \n",
       "1              4  \n",
       "2              2  \n",
       "3              0  \n",
       "4              0  "
      ]
     },
     "execution_count": 2,
     "metadata": {},
     "output_type": "execute_result"
    }
   ],
   "source": [
    "df_phase45['change-revised'] = df_phase45.change.str.extract('(\\d+)')\n",
    "df_phase45.head(5)"
   ]
  },
  {
   "cell_type": "code",
   "execution_count": 3,
   "id": "1a9d6aea",
   "metadata": {},
   "outputs": [
    {
     "data": {
      "text/html": [
       "<div>\n",
       "<style scoped>\n",
       "    .dataframe tbody tr th:only-of-type {\n",
       "        vertical-align: middle;\n",
       "    }\n",
       "\n",
       "    .dataframe tbody tr th {\n",
       "        vertical-align: top;\n",
       "    }\n",
       "\n",
       "    .dataframe thead th {\n",
       "        text-align: right;\n",
       "    }\n",
       "</style>\n",
       "<table border=\"1\" class=\"dataframe\">\n",
       "  <thead>\n",
       "    <tr style=\"text-align: right;\">\n",
       "      <th></th>\n",
       "      <th>change</th>\n",
       "      <th>addition</th>\n",
       "      <th>delete</th>\n",
       "      <th>username</th>\n",
       "      <th>change-revised</th>\n",
       "      <th>add-revised</th>\n",
       "    </tr>\n",
       "  </thead>\n",
       "  <tbody>\n",
       "    <tr>\n",
       "      <th>0</th>\n",
       "      <td>0 files changed</td>\n",
       "      <td>NaN</td>\n",
       "      <td>NaN</td>\n",
       "      <td>adamantwharf</td>\n",
       "      <td>0</td>\n",
       "      <td>0</td>\n",
       "    </tr>\n",
       "    <tr>\n",
       "      <th>1</th>\n",
       "      <td>4 files changed</td>\n",
       "      <td>133 insertions(+)</td>\n",
       "      <td>85 deletions(-)</td>\n",
       "      <td>adriel62</td>\n",
       "      <td>4</td>\n",
       "      <td>133</td>\n",
       "    </tr>\n",
       "    <tr>\n",
       "      <th>2</th>\n",
       "      <td>2 files changed</td>\n",
       "      <td>6 insertions(+)</td>\n",
       "      <td>11 deletions(-)</td>\n",
       "      <td>afceballosr</td>\n",
       "      <td>2</td>\n",
       "      <td>6</td>\n",
       "    </tr>\n",
       "    <tr>\n",
       "      <th>3</th>\n",
       "      <td>0 files changed</td>\n",
       "      <td>NaN</td>\n",
       "      <td>NaN</td>\n",
       "      <td>AFelipeGA</td>\n",
       "      <td>0</td>\n",
       "      <td>0</td>\n",
       "    </tr>\n",
       "    <tr>\n",
       "      <th>4</th>\n",
       "      <td>0 files changed</td>\n",
       "      <td>NaN</td>\n",
       "      <td>NaN</td>\n",
       "      <td>afforeroc</td>\n",
       "      <td>0</td>\n",
       "      <td>0</td>\n",
       "    </tr>\n",
       "  </tbody>\n",
       "</table>\n",
       "</div>"
      ],
      "text/plain": [
       "            change            addition            delete      username  \\\n",
       "0  0 files changed                 NaN               NaN  adamantwharf   \n",
       "1  4 files changed   133 insertions(+)   85 deletions(-)      adriel62   \n",
       "2  2 files changed     6 insertions(+)   11 deletions(-)   afceballosr   \n",
       "3  0 files changed                 NaN               NaN     AFelipeGA   \n",
       "4  0 files changed                 NaN               NaN     afforeroc   \n",
       "\n",
       "  change-revised add-revised  \n",
       "0              0           0  \n",
       "1              4         133  \n",
       "2              2           6  \n",
       "3              0           0  \n",
       "4              0           0  "
      ]
     },
     "execution_count": 3,
     "metadata": {},
     "output_type": "execute_result"
    }
   ],
   "source": [
    "df_phase45['add-revised'] = df_phase45.addition.str.extract('(\\d+)')\n",
    "df_phase45['add-revised'] = df_phase45['add-revised'].fillna(0)\n",
    "df_phase45.head(5)"
   ]
  },
  {
   "cell_type": "code",
   "execution_count": 4,
   "id": "4be5204d",
   "metadata": {},
   "outputs": [
    {
     "data": {
      "text/html": [
       "<div>\n",
       "<style scoped>\n",
       "    .dataframe tbody tr th:only-of-type {\n",
       "        vertical-align: middle;\n",
       "    }\n",
       "\n",
       "    .dataframe tbody tr th {\n",
       "        vertical-align: top;\n",
       "    }\n",
       "\n",
       "    .dataframe thead th {\n",
       "        text-align: right;\n",
       "    }\n",
       "</style>\n",
       "<table border=\"1\" class=\"dataframe\">\n",
       "  <thead>\n",
       "    <tr style=\"text-align: right;\">\n",
       "      <th></th>\n",
       "      <th>change</th>\n",
       "      <th>addition</th>\n",
       "      <th>delete</th>\n",
       "      <th>username</th>\n",
       "      <th>change-revised</th>\n",
       "      <th>add-revised</th>\n",
       "      <th>delete-revised</th>\n",
       "    </tr>\n",
       "  </thead>\n",
       "  <tbody>\n",
       "    <tr>\n",
       "      <th>0</th>\n",
       "      <td>0 files changed</td>\n",
       "      <td>NaN</td>\n",
       "      <td>NaN</td>\n",
       "      <td>adamantwharf</td>\n",
       "      <td>0</td>\n",
       "      <td>0</td>\n",
       "      <td>0</td>\n",
       "    </tr>\n",
       "    <tr>\n",
       "      <th>1</th>\n",
       "      <td>4 files changed</td>\n",
       "      <td>133 insertions(+)</td>\n",
       "      <td>85 deletions(-)</td>\n",
       "      <td>adriel62</td>\n",
       "      <td>4</td>\n",
       "      <td>133</td>\n",
       "      <td>85</td>\n",
       "    </tr>\n",
       "    <tr>\n",
       "      <th>2</th>\n",
       "      <td>2 files changed</td>\n",
       "      <td>6 insertions(+)</td>\n",
       "      <td>11 deletions(-)</td>\n",
       "      <td>afceballosr</td>\n",
       "      <td>2</td>\n",
       "      <td>6</td>\n",
       "      <td>11</td>\n",
       "    </tr>\n",
       "    <tr>\n",
       "      <th>3</th>\n",
       "      <td>0 files changed</td>\n",
       "      <td>NaN</td>\n",
       "      <td>NaN</td>\n",
       "      <td>AFelipeGA</td>\n",
       "      <td>0</td>\n",
       "      <td>0</td>\n",
       "      <td>0</td>\n",
       "    </tr>\n",
       "    <tr>\n",
       "      <th>4</th>\n",
       "      <td>0 files changed</td>\n",
       "      <td>NaN</td>\n",
       "      <td>NaN</td>\n",
       "      <td>afforeroc</td>\n",
       "      <td>0</td>\n",
       "      <td>0</td>\n",
       "      <td>0</td>\n",
       "    </tr>\n",
       "  </tbody>\n",
       "</table>\n",
       "</div>"
      ],
      "text/plain": [
       "            change            addition            delete      username  \\\n",
       "0  0 files changed                 NaN               NaN  adamantwharf   \n",
       "1  4 files changed   133 insertions(+)   85 deletions(-)      adriel62   \n",
       "2  2 files changed     6 insertions(+)   11 deletions(-)   afceballosr   \n",
       "3  0 files changed                 NaN               NaN     AFelipeGA   \n",
       "4  0 files changed                 NaN               NaN     afforeroc   \n",
       "\n",
       "  change-revised add-revised delete-revised  \n",
       "0              0           0              0  \n",
       "1              4         133             85  \n",
       "2              2           6             11  \n",
       "3              0           0              0  \n",
       "4              0           0              0  "
      ]
     },
     "execution_count": 4,
     "metadata": {},
     "output_type": "execute_result"
    }
   ],
   "source": [
    "df_phase45['delete-revised'] = df_phase45.delete.str.extract('(\\d+)')\n",
    "df_phase45['delete-revised'] = df_phase45['delete-revised'].fillna(0)\n",
    "df_phase45.head(5)"
   ]
  },
  {
   "cell_type": "markdown",
   "id": "5417d1bc",
   "metadata": {},
   "source": [
    "# Phase 4 -5 - Filter Bogota 3 ( Full Transparency Group )"
   ]
  },
  {
   "cell_type": "code",
   "execution_count": 5,
   "id": "25253945",
   "metadata": {},
   "outputs": [
    {
     "data": {
      "text/html": [
       "<div>\n",
       "<style scoped>\n",
       "    .dataframe tbody tr th:only-of-type {\n",
       "        vertical-align: middle;\n",
       "    }\n",
       "\n",
       "    .dataframe tbody tr th {\n",
       "        vertical-align: top;\n",
       "    }\n",
       "\n",
       "    .dataframe thead th {\n",
       "        text-align: right;\n",
       "    }\n",
       "</style>\n",
       "<table border=\"1\" class=\"dataframe\">\n",
       "  <thead>\n",
       "    <tr style=\"text-align: right;\">\n",
       "      <th></th>\n",
       "      <th>Project</th>\n",
       "      <th>Unnamed: 1</th>\n",
       "      <th>Unnamed: 2</th>\n",
       "    </tr>\n",
       "  </thead>\n",
       "  <tbody>\n",
       "    <tr>\n",
       "      <th>0</th>\n",
       "      <td>NicolasPrr</td>\n",
       "      <td>NaN</td>\n",
       "      <td>NaN</td>\n",
       "    </tr>\n",
       "    <tr>\n",
       "      <th>1</th>\n",
       "      <td>jscastelblancoh</td>\n",
       "      <td>NaN</td>\n",
       "      <td>NaN</td>\n",
       "    </tr>\n",
       "    <tr>\n",
       "      <th>2</th>\n",
       "      <td>juligarji</td>\n",
       "      <td>NaN</td>\n",
       "      <td>NaN</td>\n",
       "    </tr>\n",
       "    <tr>\n",
       "      <th>3</th>\n",
       "      <td>lacardenasv</td>\n",
       "      <td>NaN</td>\n",
       "      <td>NaN</td>\n",
       "    </tr>\n",
       "    <tr>\n",
       "      <th>4</th>\n",
       "      <td>jmalvarezd</td>\n",
       "      <td>NaN</td>\n",
       "      <td>NaN</td>\n",
       "    </tr>\n",
       "  </tbody>\n",
       "</table>\n",
       "</div>"
      ],
      "text/plain": [
       "           Project  Unnamed: 1  Unnamed: 2\n",
       "0       NicolasPrr         NaN         NaN\n",
       "1  jscastelblancoh         NaN         NaN\n",
       "2        juligarji         NaN         NaN\n",
       "3      lacardenasv         NaN         NaN\n",
       "4       jmalvarezd         NaN         NaN"
      ]
     },
     "execution_count": 5,
     "metadata": {},
     "output_type": "execute_result"
    }
   ],
   "source": [
    "df3 = pd.read_csv('bogota-3.csv')\n",
    "df3.head(5)"
   ]
  },
  {
   "cell_type": "code",
   "execution_count": 6,
   "id": "77a3635c",
   "metadata": {},
   "outputs": [
    {
     "data": {
      "text/html": [
       "<div>\n",
       "<style scoped>\n",
       "    .dataframe tbody tr th:only-of-type {\n",
       "        vertical-align: middle;\n",
       "    }\n",
       "\n",
       "    .dataframe tbody tr th {\n",
       "        vertical-align: top;\n",
       "    }\n",
       "\n",
       "    .dataframe thead th {\n",
       "        text-align: right;\n",
       "    }\n",
       "</style>\n",
       "<table border=\"1\" class=\"dataframe\">\n",
       "  <thead>\n",
       "    <tr style=\"text-align: right;\">\n",
       "      <th></th>\n",
       "      <th>change</th>\n",
       "      <th>addition</th>\n",
       "      <th>delete</th>\n",
       "      <th>username</th>\n",
       "      <th>change-revised</th>\n",
       "      <th>add-revised</th>\n",
       "      <th>delete-revised</th>\n",
       "      <th>bogota-3</th>\n",
       "    </tr>\n",
       "  </thead>\n",
       "  <tbody>\n",
       "    <tr>\n",
       "      <th>0</th>\n",
       "      <td>0 files changed</td>\n",
       "      <td>NaN</td>\n",
       "      <td>NaN</td>\n",
       "      <td>adamantwharf</td>\n",
       "      <td>0</td>\n",
       "      <td>0</td>\n",
       "      <td>0</td>\n",
       "      <td>False</td>\n",
       "    </tr>\n",
       "    <tr>\n",
       "      <th>1</th>\n",
       "      <td>4 files changed</td>\n",
       "      <td>133 insertions(+)</td>\n",
       "      <td>85 deletions(-)</td>\n",
       "      <td>adriel62</td>\n",
       "      <td>4</td>\n",
       "      <td>133</td>\n",
       "      <td>85</td>\n",
       "      <td>True</td>\n",
       "    </tr>\n",
       "    <tr>\n",
       "      <th>2</th>\n",
       "      <td>2 files changed</td>\n",
       "      <td>6 insertions(+)</td>\n",
       "      <td>11 deletions(-)</td>\n",
       "      <td>afceballosr</td>\n",
       "      <td>2</td>\n",
       "      <td>6</td>\n",
       "      <td>11</td>\n",
       "      <td>True</td>\n",
       "    </tr>\n",
       "    <tr>\n",
       "      <th>3</th>\n",
       "      <td>0 files changed</td>\n",
       "      <td>NaN</td>\n",
       "      <td>NaN</td>\n",
       "      <td>AFelipeGA</td>\n",
       "      <td>0</td>\n",
       "      <td>0</td>\n",
       "      <td>0</td>\n",
       "      <td>True</td>\n",
       "    </tr>\n",
       "    <tr>\n",
       "      <th>4</th>\n",
       "      <td>0 files changed</td>\n",
       "      <td>NaN</td>\n",
       "      <td>NaN</td>\n",
       "      <td>afforeroc</td>\n",
       "      <td>0</td>\n",
       "      <td>0</td>\n",
       "      <td>0</td>\n",
       "      <td>True</td>\n",
       "    </tr>\n",
       "  </tbody>\n",
       "</table>\n",
       "</div>"
      ],
      "text/plain": [
       "            change            addition            delete      username  \\\n",
       "0  0 files changed                 NaN               NaN  adamantwharf   \n",
       "1  4 files changed   133 insertions(+)   85 deletions(-)      adriel62   \n",
       "2  2 files changed     6 insertions(+)   11 deletions(-)   afceballosr   \n",
       "3  0 files changed                 NaN               NaN     AFelipeGA   \n",
       "4  0 files changed                 NaN               NaN     afforeroc   \n",
       "\n",
       "  change-revised add-revised delete-revised  bogota-3  \n",
       "0              0           0              0     False  \n",
       "1              4         133             85      True  \n",
       "2              2           6             11      True  \n",
       "3              0           0              0      True  \n",
       "4              0           0              0      True  "
      ]
     },
     "execution_count": 6,
     "metadata": {},
     "output_type": "execute_result"
    }
   ],
   "source": [
    "df_phase45['bogota-3'] = df_phase45['username'].isin(df3['Project'])\n",
    "df_phase45.head(5)"
   ]
  },
  {
   "cell_type": "code",
   "execution_count": 7,
   "id": "a3ffe9f1",
   "metadata": {},
   "outputs": [
    {
     "data": {
      "text/html": [
       "<div>\n",
       "<style scoped>\n",
       "    .dataframe tbody tr th:only-of-type {\n",
       "        vertical-align: middle;\n",
       "    }\n",
       "\n",
       "    .dataframe tbody tr th {\n",
       "        vertical-align: top;\n",
       "    }\n",
       "\n",
       "    .dataframe thead th {\n",
       "        text-align: right;\n",
       "    }\n",
       "</style>\n",
       "<table border=\"1\" class=\"dataframe\">\n",
       "  <thead>\n",
       "    <tr style=\"text-align: right;\">\n",
       "      <th></th>\n",
       "      <th>change</th>\n",
       "      <th>addition</th>\n",
       "      <th>delete</th>\n",
       "      <th>username</th>\n",
       "      <th>change-revised</th>\n",
       "      <th>add-revised</th>\n",
       "      <th>delete-revised</th>\n",
       "      <th>bogota-3</th>\n",
       "    </tr>\n",
       "  </thead>\n",
       "  <tbody>\n",
       "    <tr>\n",
       "      <th>0</th>\n",
       "      <td>0 files changed</td>\n",
       "      <td>NaN</td>\n",
       "      <td>NaN</td>\n",
       "      <td>adamantwharf</td>\n",
       "      <td>0</td>\n",
       "      <td>0</td>\n",
       "      <td>0</td>\n",
       "      <td>0</td>\n",
       "    </tr>\n",
       "    <tr>\n",
       "      <th>1</th>\n",
       "      <td>4 files changed</td>\n",
       "      <td>133 insertions(+)</td>\n",
       "      <td>85 deletions(-)</td>\n",
       "      <td>adriel62</td>\n",
       "      <td>4</td>\n",
       "      <td>133</td>\n",
       "      <td>85</td>\n",
       "      <td>1</td>\n",
       "    </tr>\n",
       "    <tr>\n",
       "      <th>2</th>\n",
       "      <td>2 files changed</td>\n",
       "      <td>6 insertions(+)</td>\n",
       "      <td>11 deletions(-)</td>\n",
       "      <td>afceballosr</td>\n",
       "      <td>2</td>\n",
       "      <td>6</td>\n",
       "      <td>11</td>\n",
       "      <td>1</td>\n",
       "    </tr>\n",
       "    <tr>\n",
       "      <th>3</th>\n",
       "      <td>0 files changed</td>\n",
       "      <td>NaN</td>\n",
       "      <td>NaN</td>\n",
       "      <td>AFelipeGA</td>\n",
       "      <td>0</td>\n",
       "      <td>0</td>\n",
       "      <td>0</td>\n",
       "      <td>1</td>\n",
       "    </tr>\n",
       "    <tr>\n",
       "      <th>4</th>\n",
       "      <td>0 files changed</td>\n",
       "      <td>NaN</td>\n",
       "      <td>NaN</td>\n",
       "      <td>afforeroc</td>\n",
       "      <td>0</td>\n",
       "      <td>0</td>\n",
       "      <td>0</td>\n",
       "      <td>1</td>\n",
       "    </tr>\n",
       "  </tbody>\n",
       "</table>\n",
       "</div>"
      ],
      "text/plain": [
       "            change            addition            delete      username  \\\n",
       "0  0 files changed                 NaN               NaN  adamantwharf   \n",
       "1  4 files changed   133 insertions(+)   85 deletions(-)      adriel62   \n",
       "2  2 files changed     6 insertions(+)   11 deletions(-)   afceballosr   \n",
       "3  0 files changed                 NaN               NaN     AFelipeGA   \n",
       "4  0 files changed                 NaN               NaN     afforeroc   \n",
       "\n",
       "  change-revised add-revised delete-revised  bogota-3  \n",
       "0              0           0              0         0  \n",
       "1              4         133             85         1  \n",
       "2              2           6             11         1  \n",
       "3              0           0              0         1  \n",
       "4              0           0              0         1  "
      ]
     },
     "execution_count": 7,
     "metadata": {},
     "output_type": "execute_result"
    }
   ],
   "source": [
    "df_phase45[\"bogota-3\"] = df_phase45[\"bogota-3\"].astype(int)\n",
    "df_phase45.head(5)"
   ]
  },
  {
   "cell_type": "code",
   "execution_count": 8,
   "id": "1d3c72ea",
   "metadata": {},
   "outputs": [
    {
     "data": {
      "text/html": [
       "<div>\n",
       "<style scoped>\n",
       "    .dataframe tbody tr th:only-of-type {\n",
       "        vertical-align: middle;\n",
       "    }\n",
       "\n",
       "    .dataframe tbody tr th {\n",
       "        vertical-align: top;\n",
       "    }\n",
       "\n",
       "    .dataframe thead th {\n",
       "        text-align: right;\n",
       "    }\n",
       "</style>\n",
       "<table border=\"1\" class=\"dataframe\">\n",
       "  <thead>\n",
       "    <tr style=\"text-align: right;\">\n",
       "      <th></th>\n",
       "      <th>change</th>\n",
       "      <th>addition</th>\n",
       "      <th>delete</th>\n",
       "      <th>username</th>\n",
       "      <th>change-revised</th>\n",
       "      <th>add-revised</th>\n",
       "      <th>delete-revised</th>\n",
       "      <th>bogota-3</th>\n",
       "    </tr>\n",
       "  </thead>\n",
       "  <tbody>\n",
       "    <tr>\n",
       "      <th>1</th>\n",
       "      <td>4 files changed</td>\n",
       "      <td>133 insertions(+)</td>\n",
       "      <td>85 deletions(-)</td>\n",
       "      <td>adriel62</td>\n",
       "      <td>4</td>\n",
       "      <td>133</td>\n",
       "      <td>85</td>\n",
       "      <td>1</td>\n",
       "    </tr>\n",
       "    <tr>\n",
       "      <th>2</th>\n",
       "      <td>2 files changed</td>\n",
       "      <td>6 insertions(+)</td>\n",
       "      <td>11 deletions(-)</td>\n",
       "      <td>afceballosr</td>\n",
       "      <td>2</td>\n",
       "      <td>6</td>\n",
       "      <td>11</td>\n",
       "      <td>1</td>\n",
       "    </tr>\n",
       "    <tr>\n",
       "      <th>3</th>\n",
       "      <td>0 files changed</td>\n",
       "      <td>NaN</td>\n",
       "      <td>NaN</td>\n",
       "      <td>AFelipeGA</td>\n",
       "      <td>0</td>\n",
       "      <td>0</td>\n",
       "      <td>0</td>\n",
       "      <td>1</td>\n",
       "    </tr>\n",
       "    <tr>\n",
       "      <th>4</th>\n",
       "      <td>0 files changed</td>\n",
       "      <td>NaN</td>\n",
       "      <td>NaN</td>\n",
       "      <td>afforeroc</td>\n",
       "      <td>0</td>\n",
       "      <td>0</td>\n",
       "      <td>0</td>\n",
       "      <td>1</td>\n",
       "    </tr>\n",
       "    <tr>\n",
       "      <th>19</th>\n",
       "      <td>4 files changed</td>\n",
       "      <td>7 insertions(+)</td>\n",
       "      <td>59 deletions(-)</td>\n",
       "      <td>capinzor</td>\n",
       "      <td>4</td>\n",
       "      <td>7</td>\n",
       "      <td>59</td>\n",
       "      <td>1</td>\n",
       "    </tr>\n",
       "  </tbody>\n",
       "</table>\n",
       "</div>"
      ],
      "text/plain": [
       "             change            addition            delete     username  \\\n",
       "1   4 files changed   133 insertions(+)   85 deletions(-)     adriel62   \n",
       "2   2 files changed     6 insertions(+)   11 deletions(-)  afceballosr   \n",
       "3   0 files changed                 NaN               NaN    AFelipeGA   \n",
       "4   0 files changed                 NaN               NaN    afforeroc   \n",
       "19  4 files changed     7 insertions(+)   59 deletions(-)     capinzor   \n",
       "\n",
       "   change-revised add-revised delete-revised  bogota-3  \n",
       "1               4         133             85         1  \n",
       "2               2           6             11         1  \n",
       "3               0           0              0         1  \n",
       "4               0           0              0         1  \n",
       "19              4           7             59         1  "
      ]
     },
     "execution_count": 8,
     "metadata": {},
     "output_type": "execute_result"
    }
   ],
   "source": [
    "df3_phase45 = df_phase45.loc[df_phase45['bogota-3'] == 1]\n",
    "df3_phase45.head(5)"
   ]
  },
  {
   "cell_type": "code",
   "execution_count": 9,
   "id": "d09e58b8",
   "metadata": {},
   "outputs": [
    {
     "name": "stdout",
     "output_type": "stream",
     "text": [
      "41\n"
     ]
    }
   ],
   "source": [
    "print(len(df3_phase45.index))"
   ]
  },
  {
   "cell_type": "code",
   "execution_count": 10,
   "id": "022e11c5",
   "metadata": {},
   "outputs": [
    {
     "name": "stdout",
     "output_type": "stream",
     "text": [
      "1.4634146341463414\n",
      "1.0\n",
      "1.5668050449179978\n",
      "6\n",
      "0\n"
     ]
    },
    {
     "name": "stderr",
     "output_type": "stream",
     "text": [
      "<ipython-input-10-50770f9ba0e8>:1: SettingWithCopyWarning: \n",
      "A value is trying to be set on a copy of a slice from a DataFrame.\n",
      "Try using .loc[row_indexer,col_indexer] = value instead\n",
      "\n",
      "See the caveats in the documentation: https://pandas.pydata.org/pandas-docs/stable/user_guide/indexing.html#returning-a-view-versus-a-copy\n",
      "  df3_phase45['change-revised'] = pd.to_numeric(df3_phase45['change-revised'])\n"
     ]
    }
   ],
   "source": [
    "df3_phase45['change-revised'] = pd.to_numeric(df3_phase45['change-revised'])\n",
    "print(df3_phase45['change-revised'].mean())\n",
    "print(df3_phase45['change-revised'].median())\n",
    "print(df3_phase45['change-revised'].std())\n",
    "print(df3_phase45['change-revised'].max())\n",
    "print(df3_phase45['change-revised'].min())"
   ]
  },
  {
   "cell_type": "code",
   "execution_count": 11,
   "id": "e10399a7",
   "metadata": {},
   "outputs": [
    {
     "name": "stdout",
     "output_type": "stream",
     "text": [
      "34.46341463414634\n",
      "4.0\n",
      "71.31868533595372\n",
      "371\n",
      "0\n"
     ]
    },
    {
     "name": "stderr",
     "output_type": "stream",
     "text": [
      "<ipython-input-11-658cc17f8b64>:1: SettingWithCopyWarning: \n",
      "A value is trying to be set on a copy of a slice from a DataFrame.\n",
      "Try using .loc[row_indexer,col_indexer] = value instead\n",
      "\n",
      "See the caveats in the documentation: https://pandas.pydata.org/pandas-docs/stable/user_guide/indexing.html#returning-a-view-versus-a-copy\n",
      "  df3_phase45['delete-revised'] = pd.to_numeric(df3_phase45['delete-revised'])\n"
     ]
    },
    {
     "data": {
      "text/plain": [
       "array([ 85,  11,   0,   0,  59,  15,   0,  90,   0, 124,  17,   0,   0,\n",
       "         0,   0,   0,  24,  80,  50,   0,  44,   2,   0,  54,   4,  24,\n",
       "        66,   0,   0, 243,   0,   4,   6,   0,   0,  36, 371,   0,   0,\n",
       "         4,   0])"
      ]
     },
     "execution_count": 11,
     "metadata": {},
     "output_type": "execute_result"
    }
   ],
   "source": [
    "df3_phase45['delete-revised'] = pd.to_numeric(df3_phase45['delete-revised'])\n",
    "df3_phase45['delete-revised'].mean()\n",
    "print(df3_phase45['delete-revised'].mean())\n",
    "print(df3_phase45['delete-revised'].median())\n",
    "print(df3_phase45['delete-revised'].std())\n",
    "print(df3_phase45['delete-revised'].max())\n",
    "print(df3_phase45['delete-revised'].min())\n",
    "\n",
    "df3_delete = df3_phase45['delete-revised']\n",
    "df3_delete.values"
   ]
  },
  {
   "cell_type": "code",
   "execution_count": 12,
   "id": "70586440",
   "metadata": {},
   "outputs": [
    {
     "name": "stdout",
     "output_type": "stream",
     "text": [
      "37.21951219512195\n",
      "2.0\n",
      "135.3193467681399\n",
      "858\n",
      "0\n"
     ]
    },
    {
     "name": "stderr",
     "output_type": "stream",
     "text": [
      "<ipython-input-12-b98e62fa59ad>:1: SettingWithCopyWarning: \n",
      "A value is trying to be set on a copy of a slice from a DataFrame.\n",
      "Try using .loc[row_indexer,col_indexer] = value instead\n",
      "\n",
      "See the caveats in the documentation: https://pandas.pydata.org/pandas-docs/stable/user_guide/indexing.html#returning-a-view-versus-a-copy\n",
      "  df3_phase45['add-revised'] = pd.to_numeric(df3_phase45['add-revised'])\n"
     ]
    },
    {
     "data": {
      "text/plain": [
       "array([133,   6,   0,   0,   7,  16,   0,  20,   0,  96,   4,   0,   0,\n",
       "         0,   0,   0,  11,  17,  15, 125,  44,   2,   0,  38,   2,  65,\n",
       "        29,   0,   0,   4,   0,   2,   2,   0,   3, 858,  26,   0,   0,\n",
       "         1,   0])"
      ]
     },
     "execution_count": 12,
     "metadata": {},
     "output_type": "execute_result"
    }
   ],
   "source": [
    "df3_phase45['add-revised'] = pd.to_numeric(df3_phase45['add-revised'])\n",
    "df3_phase45['add-revised'].mean()\n",
    "\n",
    "print(df3_phase45['add-revised'].mean())\n",
    "print(df3_phase45['add-revised'].median())\n",
    "print(df3_phase45['add-revised'].std())\n",
    "print(df3_phase45['add-revised'].max())\n",
    "print(df3_phase45['add-revised'].min())\n",
    "df3_add = df3_phase45['add-revised']\n",
    "df3_add.values"
   ]
  },
  {
   "cell_type": "code",
   "execution_count": 13,
   "id": "7eca92d0",
   "metadata": {},
   "outputs": [
    {
     "name": "stdout",
     "output_type": "stream",
     "text": [
      "19.98780487804878\n",
      "0.0\n",
      "137.72560981008937\n",
      "840.0\n",
      "-159.5\n"
     ]
    },
    {
     "name": "stderr",
     "output_type": "stream",
     "text": [
      "<ipython-input-13-e3c66aaaafc6>:1: SettingWithCopyWarning: \n",
      "A value is trying to be set on a copy of a slice from a DataFrame.\n",
      "Try using .loc[row_indexer,col_indexer] = value instead\n",
      "\n",
      "See the caveats in the documentation: https://pandas.pydata.org/pandas-docs/stable/user_guide/indexing.html#returning-a-view-versus-a-copy\n",
      "  df3_phase45['add-revised'] = df3_phase45['add-revised'].astype(float)\n",
      "<ipython-input-13-e3c66aaaafc6>:2: SettingWithCopyWarning: \n",
      "A value is trying to be set on a copy of a slice from a DataFrame.\n",
      "Try using .loc[row_indexer,col_indexer] = value instead\n",
      "\n",
      "See the caveats in the documentation: https://pandas.pydata.org/pandas-docs/stable/user_guide/indexing.html#returning-a-view-versus-a-copy\n",
      "  df3_phase45['delete-revised'] = df3_phase45['delete-revised'].astype(float)\n",
      "<ipython-input-13-e3c66aaaafc6>:3: SettingWithCopyWarning: \n",
      "A value is trying to be set on a copy of a slice from a DataFrame.\n",
      "Try using .loc[row_indexer,col_indexer] = value instead\n",
      "\n",
      "See the caveats in the documentation: https://pandas.pydata.org/pandas-docs/stable/user_guide/indexing.html#returning-a-view-versus-a-copy\n",
      "  df3_phase45['effort'] = df3_phase45['add-revised'] - 0.5 * df3_phase45['delete-revised']\n"
     ]
    }
   ],
   "source": [
    "df3_phase45['add-revised'] = df3_phase45['add-revised'].astype(float)\n",
    "df3_phase45['delete-revised'] = df3_phase45['delete-revised'].astype(float)\n",
    "df3_phase45['effort'] = df3_phase45['add-revised'] - 0.5 * df3_phase45['delete-revised']\n",
    "print(df3_phase45['effort'].mean())\n",
    "print(df3_phase45['effort'].median())\n",
    "print(df3_phase45['effort'].std())\n",
    "print(df3_phase45['effort'].max())\n",
    "print(df3_phase45['effort'].min())"
   ]
  },
  {
   "cell_type": "code",
   "execution_count": 14,
   "id": "0b73ae9c",
   "metadata": {},
   "outputs": [
    {
     "data": {
      "text/plain": [
       "array([  90.5,    0.5,    0. ,    0. ,  -22.5,    8.5,    0. ,  -25. ,\n",
       "          0. ,   34. ,   -4.5,    0. ,    0. ,    0. ,    0. ,    0. ,\n",
       "         -1. ,  -23. ,  -10. ,  125. ,   22. ,    1. ,    0. ,   11. ,\n",
       "          0. ,   53. ,   -4. ,    0. ,    0. , -117.5,    0. ,    0. ,\n",
       "         -1. ,    0. ,    3. ,  840. , -159.5,    0. ,    0. ,   -1. ,\n",
       "          0. ])"
      ]
     },
     "execution_count": 14,
     "metadata": {},
     "output_type": "execute_result"
    }
   ],
   "source": [
    "import numpy as np\n",
    "np.set_printoptions(suppress=True)\n",
    "diff3 = df3_phase45['add-revised'] - 0.5 * df3_phase45['delete-revised']\n",
    "diff3.values"
   ]
  },
  {
   "cell_type": "markdown",
   "id": "db8e9a39",
   "metadata": {},
   "source": [
    "# Phase 4 -5 - Bogota 2 ( Solution Transparency )"
   ]
  },
  {
   "cell_type": "code",
   "execution_count": 15,
   "id": "1971b7cd",
   "metadata": {},
   "outputs": [
    {
     "data": {
      "text/html": [
       "<div>\n",
       "<style scoped>\n",
       "    .dataframe tbody tr th:only-of-type {\n",
       "        vertical-align: middle;\n",
       "    }\n",
       "\n",
       "    .dataframe tbody tr th {\n",
       "        vertical-align: top;\n",
       "    }\n",
       "\n",
       "    .dataframe thead th {\n",
       "        text-align: right;\n",
       "    }\n",
       "</style>\n",
       "<table border=\"1\" class=\"dataframe\">\n",
       "  <thead>\n",
       "    <tr style=\"text-align: right;\">\n",
       "      <th></th>\n",
       "      <th>Project</th>\n",
       "      <th>Unnamed: 1</th>\n",
       "      <th>Unnamed: 2</th>\n",
       "    </tr>\n",
       "  </thead>\n",
       "  <tbody>\n",
       "    <tr>\n",
       "      <th>0</th>\n",
       "      <td>xdanielsb</td>\n",
       "      <td>NaN</td>\n",
       "      <td>NaN</td>\n",
       "    </tr>\n",
       "    <tr>\n",
       "      <th>1</th>\n",
       "      <td>Gantiva</td>\n",
       "      <td>NaN</td>\n",
       "      <td>NaN</td>\n",
       "    </tr>\n",
       "    <tr>\n",
       "      <th>2</th>\n",
       "      <td>leguzman</td>\n",
       "      <td>NaN</td>\n",
       "      <td>NaN</td>\n",
       "    </tr>\n",
       "    <tr>\n",
       "      <th>3</th>\n",
       "      <td>juasmartinezbel</td>\n",
       "      <td>NaN</td>\n",
       "      <td>NaN</td>\n",
       "    </tr>\n",
       "    <tr>\n",
       "      <th>4</th>\n",
       "      <td>cesarochoa2006</td>\n",
       "      <td>NaN</td>\n",
       "      <td>NaN</td>\n",
       "    </tr>\n",
       "  </tbody>\n",
       "</table>\n",
       "</div>"
      ],
      "text/plain": [
       "           Project  Unnamed: 1  Unnamed: 2\n",
       "0        xdanielsb         NaN         NaN\n",
       "1          Gantiva         NaN         NaN\n",
       "2         leguzman         NaN         NaN\n",
       "3  juasmartinezbel         NaN         NaN\n",
       "4   cesarochoa2006         NaN         NaN"
      ]
     },
     "execution_count": 15,
     "metadata": {},
     "output_type": "execute_result"
    }
   ],
   "source": [
    "df2 = pd.read_csv('bogota-2.csv')\n",
    "df2.head(5)"
   ]
  },
  {
   "cell_type": "code",
   "execution_count": 16,
   "id": "872560ac",
   "metadata": {},
   "outputs": [
    {
     "data": {
      "text/html": [
       "<div>\n",
       "<style scoped>\n",
       "    .dataframe tbody tr th:only-of-type {\n",
       "        vertical-align: middle;\n",
       "    }\n",
       "\n",
       "    .dataframe tbody tr th {\n",
       "        vertical-align: top;\n",
       "    }\n",
       "\n",
       "    .dataframe thead th {\n",
       "        text-align: right;\n",
       "    }\n",
       "</style>\n",
       "<table border=\"1\" class=\"dataframe\">\n",
       "  <thead>\n",
       "    <tr style=\"text-align: right;\">\n",
       "      <th></th>\n",
       "      <th>change</th>\n",
       "      <th>addition</th>\n",
       "      <th>delete</th>\n",
       "      <th>username</th>\n",
       "      <th>change-revised</th>\n",
       "      <th>add-revised</th>\n",
       "      <th>delete-revised</th>\n",
       "      <th>bogota-3</th>\n",
       "      <th>bogota-2</th>\n",
       "    </tr>\n",
       "  </thead>\n",
       "  <tbody>\n",
       "    <tr>\n",
       "      <th>0</th>\n",
       "      <td>0 files changed</td>\n",
       "      <td>NaN</td>\n",
       "      <td>NaN</td>\n",
       "      <td>adamantwharf</td>\n",
       "      <td>0</td>\n",
       "      <td>0</td>\n",
       "      <td>0</td>\n",
       "      <td>0</td>\n",
       "      <td>False</td>\n",
       "    </tr>\n",
       "    <tr>\n",
       "      <th>1</th>\n",
       "      <td>4 files changed</td>\n",
       "      <td>133 insertions(+)</td>\n",
       "      <td>85 deletions(-)</td>\n",
       "      <td>adriel62</td>\n",
       "      <td>4</td>\n",
       "      <td>133</td>\n",
       "      <td>85</td>\n",
       "      <td>1</td>\n",
       "      <td>False</td>\n",
       "    </tr>\n",
       "    <tr>\n",
       "      <th>2</th>\n",
       "      <td>2 files changed</td>\n",
       "      <td>6 insertions(+)</td>\n",
       "      <td>11 deletions(-)</td>\n",
       "      <td>afceballosr</td>\n",
       "      <td>2</td>\n",
       "      <td>6</td>\n",
       "      <td>11</td>\n",
       "      <td>1</td>\n",
       "      <td>False</td>\n",
       "    </tr>\n",
       "    <tr>\n",
       "      <th>3</th>\n",
       "      <td>0 files changed</td>\n",
       "      <td>NaN</td>\n",
       "      <td>NaN</td>\n",
       "      <td>AFelipeGA</td>\n",
       "      <td>0</td>\n",
       "      <td>0</td>\n",
       "      <td>0</td>\n",
       "      <td>1</td>\n",
       "      <td>False</td>\n",
       "    </tr>\n",
       "    <tr>\n",
       "      <th>4</th>\n",
       "      <td>0 files changed</td>\n",
       "      <td>NaN</td>\n",
       "      <td>NaN</td>\n",
       "      <td>afforeroc</td>\n",
       "      <td>0</td>\n",
       "      <td>0</td>\n",
       "      <td>0</td>\n",
       "      <td>1</td>\n",
       "      <td>False</td>\n",
       "    </tr>\n",
       "  </tbody>\n",
       "</table>\n",
       "</div>"
      ],
      "text/plain": [
       "            change            addition            delete      username  \\\n",
       "0  0 files changed                 NaN               NaN  adamantwharf   \n",
       "1  4 files changed   133 insertions(+)   85 deletions(-)      adriel62   \n",
       "2  2 files changed     6 insertions(+)   11 deletions(-)   afceballosr   \n",
       "3  0 files changed                 NaN               NaN     AFelipeGA   \n",
       "4  0 files changed                 NaN               NaN     afforeroc   \n",
       "\n",
       "  change-revised add-revised delete-revised  bogota-3  bogota-2  \n",
       "0              0           0              0         0     False  \n",
       "1              4         133             85         1     False  \n",
       "2              2           6             11         1     False  \n",
       "3              0           0              0         1     False  \n",
       "4              0           0              0         1     False  "
      ]
     },
     "execution_count": 16,
     "metadata": {},
     "output_type": "execute_result"
    }
   ],
   "source": [
    "df_phase45['bogota-2'] = df_phase45['username'].isin(df2['Project'])\n",
    "df_phase45.head(5)"
   ]
  },
  {
   "cell_type": "code",
   "execution_count": 17,
   "id": "7aa51de6",
   "metadata": {},
   "outputs": [
    {
     "data": {
      "text/html": [
       "<div>\n",
       "<style scoped>\n",
       "    .dataframe tbody tr th:only-of-type {\n",
       "        vertical-align: middle;\n",
       "    }\n",
       "\n",
       "    .dataframe tbody tr th {\n",
       "        vertical-align: top;\n",
       "    }\n",
       "\n",
       "    .dataframe thead th {\n",
       "        text-align: right;\n",
       "    }\n",
       "</style>\n",
       "<table border=\"1\" class=\"dataframe\">\n",
       "  <thead>\n",
       "    <tr style=\"text-align: right;\">\n",
       "      <th></th>\n",
       "      <th>change</th>\n",
       "      <th>addition</th>\n",
       "      <th>delete</th>\n",
       "      <th>username</th>\n",
       "      <th>change-revised</th>\n",
       "      <th>add-revised</th>\n",
       "      <th>delete-revised</th>\n",
       "      <th>bogota-3</th>\n",
       "      <th>bogota-2</th>\n",
       "    </tr>\n",
       "  </thead>\n",
       "  <tbody>\n",
       "    <tr>\n",
       "      <th>0</th>\n",
       "      <td>0 files changed</td>\n",
       "      <td>NaN</td>\n",
       "      <td>NaN</td>\n",
       "      <td>adamantwharf</td>\n",
       "      <td>0</td>\n",
       "      <td>0</td>\n",
       "      <td>0</td>\n",
       "      <td>0</td>\n",
       "      <td>0</td>\n",
       "    </tr>\n",
       "    <tr>\n",
       "      <th>1</th>\n",
       "      <td>4 files changed</td>\n",
       "      <td>133 insertions(+)</td>\n",
       "      <td>85 deletions(-)</td>\n",
       "      <td>adriel62</td>\n",
       "      <td>4</td>\n",
       "      <td>133</td>\n",
       "      <td>85</td>\n",
       "      <td>1</td>\n",
       "      <td>0</td>\n",
       "    </tr>\n",
       "    <tr>\n",
       "      <th>2</th>\n",
       "      <td>2 files changed</td>\n",
       "      <td>6 insertions(+)</td>\n",
       "      <td>11 deletions(-)</td>\n",
       "      <td>afceballosr</td>\n",
       "      <td>2</td>\n",
       "      <td>6</td>\n",
       "      <td>11</td>\n",
       "      <td>1</td>\n",
       "      <td>0</td>\n",
       "    </tr>\n",
       "    <tr>\n",
       "      <th>3</th>\n",
       "      <td>0 files changed</td>\n",
       "      <td>NaN</td>\n",
       "      <td>NaN</td>\n",
       "      <td>AFelipeGA</td>\n",
       "      <td>0</td>\n",
       "      <td>0</td>\n",
       "      <td>0</td>\n",
       "      <td>1</td>\n",
       "      <td>0</td>\n",
       "    </tr>\n",
       "    <tr>\n",
       "      <th>4</th>\n",
       "      <td>0 files changed</td>\n",
       "      <td>NaN</td>\n",
       "      <td>NaN</td>\n",
       "      <td>afforeroc</td>\n",
       "      <td>0</td>\n",
       "      <td>0</td>\n",
       "      <td>0</td>\n",
       "      <td>1</td>\n",
       "      <td>0</td>\n",
       "    </tr>\n",
       "  </tbody>\n",
       "</table>\n",
       "</div>"
      ],
      "text/plain": [
       "            change            addition            delete      username  \\\n",
       "0  0 files changed                 NaN               NaN  adamantwharf   \n",
       "1  4 files changed   133 insertions(+)   85 deletions(-)      adriel62   \n",
       "2  2 files changed     6 insertions(+)   11 deletions(-)   afceballosr   \n",
       "3  0 files changed                 NaN               NaN     AFelipeGA   \n",
       "4  0 files changed                 NaN               NaN     afforeroc   \n",
       "\n",
       "  change-revised add-revised delete-revised  bogota-3  bogota-2  \n",
       "0              0           0              0         0         0  \n",
       "1              4         133             85         1         0  \n",
       "2              2           6             11         1         0  \n",
       "3              0           0              0         1         0  \n",
       "4              0           0              0         1         0  "
      ]
     },
     "execution_count": 17,
     "metadata": {},
     "output_type": "execute_result"
    }
   ],
   "source": [
    "df_phase45[\"bogota-2\"] = df_phase45[\"bogota-2\"].astype(int)\n",
    "df_phase45.head(5)"
   ]
  },
  {
   "cell_type": "code",
   "execution_count": 18,
   "id": "f8c09594",
   "metadata": {},
   "outputs": [
    {
     "data": {
      "text/html": [
       "<div>\n",
       "<style scoped>\n",
       "    .dataframe tbody tr th:only-of-type {\n",
       "        vertical-align: middle;\n",
       "    }\n",
       "\n",
       "    .dataframe tbody tr th {\n",
       "        vertical-align: top;\n",
       "    }\n",
       "\n",
       "    .dataframe thead th {\n",
       "        text-align: right;\n",
       "    }\n",
       "</style>\n",
       "<table border=\"1\" class=\"dataframe\">\n",
       "  <thead>\n",
       "    <tr style=\"text-align: right;\">\n",
       "      <th></th>\n",
       "      <th>change</th>\n",
       "      <th>addition</th>\n",
       "      <th>delete</th>\n",
       "      <th>username</th>\n",
       "      <th>change-revised</th>\n",
       "      <th>add-revised</th>\n",
       "      <th>delete-revised</th>\n",
       "      <th>bogota-3</th>\n",
       "      <th>bogota-2</th>\n",
       "    </tr>\n",
       "  </thead>\n",
       "  <tbody>\n",
       "    <tr>\n",
       "      <th>11</th>\n",
       "      <td>0 files changed</td>\n",
       "      <td>NaN</td>\n",
       "      <td>NaN</td>\n",
       "      <td>bdvegat</td>\n",
       "      <td>0</td>\n",
       "      <td>0</td>\n",
       "      <td>0</td>\n",
       "      <td>0</td>\n",
       "      <td>1</td>\n",
       "    </tr>\n",
       "    <tr>\n",
       "      <th>12</th>\n",
       "      <td>0 files changed</td>\n",
       "      <td>NaN</td>\n",
       "      <td>NaN</td>\n",
       "      <td>begarzonf</td>\n",
       "      <td>0</td>\n",
       "      <td>0</td>\n",
       "      <td>0</td>\n",
       "      <td>0</td>\n",
       "      <td>1</td>\n",
       "    </tr>\n",
       "    <tr>\n",
       "      <th>21</th>\n",
       "      <td>2 files changed</td>\n",
       "      <td>19 insertions(+)</td>\n",
       "      <td>57 deletions(-)</td>\n",
       "      <td>ccvacad</td>\n",
       "      <td>2</td>\n",
       "      <td>19</td>\n",
       "      <td>57</td>\n",
       "      <td>0</td>\n",
       "      <td>1</td>\n",
       "    </tr>\n",
       "    <tr>\n",
       "      <th>23</th>\n",
       "      <td>0 files changed</td>\n",
       "      <td>NaN</td>\n",
       "      <td>NaN</td>\n",
       "      <td>cesarochoa2006</td>\n",
       "      <td>0</td>\n",
       "      <td>0</td>\n",
       "      <td>0</td>\n",
       "      <td>0</td>\n",
       "      <td>1</td>\n",
       "    </tr>\n",
       "    <tr>\n",
       "      <th>26</th>\n",
       "      <td>0 files changed</td>\n",
       "      <td>NaN</td>\n",
       "      <td>NaN</td>\n",
       "      <td>crarojasca</td>\n",
       "      <td>0</td>\n",
       "      <td>0</td>\n",
       "      <td>0</td>\n",
       "      <td>0</td>\n",
       "      <td>1</td>\n",
       "    </tr>\n",
       "  </tbody>\n",
       "</table>\n",
       "</div>"
      ],
      "text/plain": [
       "              change           addition            delete        username  \\\n",
       "11   0 files changed                NaN               NaN         bdvegat   \n",
       "12   0 files changed                NaN               NaN       begarzonf   \n",
       "21   2 files changed   19 insertions(+)   57 deletions(-)         ccvacad   \n",
       "23   0 files changed                NaN               NaN  cesarochoa2006   \n",
       "26   0 files changed                NaN               NaN      crarojasca   \n",
       "\n",
       "   change-revised add-revised delete-revised  bogota-3  bogota-2  \n",
       "11              0           0              0         0         1  \n",
       "12              0           0              0         0         1  \n",
       "21              2          19             57         0         1  \n",
       "23              0           0              0         0         1  \n",
       "26              0           0              0         0         1  "
      ]
     },
     "execution_count": 18,
     "metadata": {},
     "output_type": "execute_result"
    }
   ],
   "source": [
    "df2_phase45 = df_phase45.loc[df_phase45['bogota-2'] == 1]\n",
    "df2_phase45.head(5)"
   ]
  },
  {
   "cell_type": "code",
   "execution_count": 19,
   "id": "9d4b1b58",
   "metadata": {},
   "outputs": [
    {
     "name": "stdout",
     "output_type": "stream",
     "text": [
      "41\n"
     ]
    }
   ],
   "source": [
    "print(len(df2_phase45.index))"
   ]
  },
  {
   "cell_type": "code",
   "execution_count": 20,
   "id": "da434c5a",
   "metadata": {},
   "outputs": [
    {
     "name": "stdout",
     "output_type": "stream",
     "text": [
      "1.2439024390243902\n",
      "0.0\n",
      "2.233612408240047\n",
      "10\n",
      "0\n"
     ]
    },
    {
     "name": "stderr",
     "output_type": "stream",
     "text": [
      "<ipython-input-20-c0ab3965d061>:1: SettingWithCopyWarning: \n",
      "A value is trying to be set on a copy of a slice from a DataFrame.\n",
      "Try using .loc[row_indexer,col_indexer] = value instead\n",
      "\n",
      "See the caveats in the documentation: https://pandas.pydata.org/pandas-docs/stable/user_guide/indexing.html#returning-a-view-versus-a-copy\n",
      "  df2_phase45['change-revised'] = pd.to_numeric(df2_phase45['change-revised'])\n"
     ]
    }
   ],
   "source": [
    "df2_phase45['change-revised'] = pd.to_numeric(df2_phase45['change-revised'])\n",
    "print(df2_phase45['change-revised'].mean())\n",
    "print(df2_phase45['change-revised'].median())\n",
    "print(df2_phase45['change-revised'].std())\n",
    "print(df2_phase45['change-revised'].max())\n",
    "print(df2_phase45['change-revised'].min())"
   ]
  },
  {
   "cell_type": "code",
   "execution_count": 21,
   "id": "09d793fb",
   "metadata": {},
   "outputs": [
    {
     "name": "stdout",
     "output_type": "stream",
     "text": [
      "23.390243902439025\n",
      "0.0\n",
      "55.599855237572555\n",
      "257\n",
      "0\n"
     ]
    },
    {
     "name": "stderr",
     "output_type": "stream",
     "text": [
      "<ipython-input-21-1ce3efd6d9a9>:1: SettingWithCopyWarning: \n",
      "A value is trying to be set on a copy of a slice from a DataFrame.\n",
      "Try using .loc[row_indexer,col_indexer] = value instead\n",
      "\n",
      "See the caveats in the documentation: https://pandas.pydata.org/pandas-docs/stable/user_guide/indexing.html#returning-a-view-versus-a-copy\n",
      "  df2_phase45['delete-revised'] = pd.to_numeric(df2_phase45['delete-revised'])\n"
     ]
    },
    {
     "data": {
      "text/plain": [
       "array([  0,   0,  57,   0,   0,   0,   0,   0,   0,   8,   0,  11,   0,\n",
       "         0,   0,   0,   0,   0,   0,   3,   0,   0,   0,   1,   0,   0,\n",
       "       112, 257,   4,   0,   0,   0,   0,  27,   0,   0, 103,   0, 143,\n",
       "       167,  66])"
      ]
     },
     "execution_count": 21,
     "metadata": {},
     "output_type": "execute_result"
    }
   ],
   "source": [
    "df2_phase45['delete-revised'] = pd.to_numeric(df2_phase45['delete-revised'])\n",
    "df2_phase45['delete-revised'].mean()\n",
    "print(df2_phase45['delete-revised'].mean())\n",
    "print(df2_phase45['delete-revised'].median())\n",
    "print(df2_phase45['delete-revised'].std())\n",
    "print(df2_phase45['delete-revised'].max())\n",
    "print(df2_phase45['delete-revised'].min())\n",
    "\n",
    "df2_delete = df2_phase45['delete-revised']\n",
    "df2_delete.values"
   ]
  },
  {
   "cell_type": "code",
   "execution_count": 22,
   "id": "4502e9e1",
   "metadata": {},
   "outputs": [
    {
     "name": "stdout",
     "output_type": "stream",
     "text": [
      "9.75609756097561\n",
      "0.0\n",
      "22.81642006078614\n",
      "110\n",
      "0\n"
     ]
    },
    {
     "name": "stderr",
     "output_type": "stream",
     "text": [
      "<ipython-input-22-00fe9b2b2f8d>:1: SettingWithCopyWarning: \n",
      "A value is trying to be set on a copy of a slice from a DataFrame.\n",
      "Try using .loc[row_indexer,col_indexer] = value instead\n",
      "\n",
      "See the caveats in the documentation: https://pandas.pydata.org/pandas-docs/stable/user_guide/indexing.html#returning-a-view-versus-a-copy\n",
      "  df2_phase45['add-revised'] = pd.to_numeric(df2_phase45['add-revised'])\n"
     ]
    },
    {
     "data": {
      "text/plain": [
       "array([  0,   0,  19,   0,   0,   0,   0,   0,   1,   6,   0,  18,   0,\n",
       "         0,   0,   0,   0,   0,   0,  32,   0,   0,   0,   1,   0,   0,\n",
       "        77,  62,   2,   0,   0,   0,   0,  14,   0,  19,  15,   0,   8,\n",
       "       110,  16])"
      ]
     },
     "execution_count": 22,
     "metadata": {},
     "output_type": "execute_result"
    }
   ],
   "source": [
    "df2_phase45['add-revised'] = pd.to_numeric(df2_phase45['add-revised'])\n",
    "df2_phase45['add-revised'].mean()\n",
    "\n",
    "print(df2_phase45['add-revised'].mean())\n",
    "print(df2_phase45['add-revised'].median())\n",
    "print(df2_phase45['add-revised'].std())\n",
    "print(df2_phase45['add-revised'].max())\n",
    "print(df2_phase45['add-revised'].min())\n",
    "df2_add = df2_phase45['add-revised']\n",
    "df2_add.values"
   ]
  },
  {
   "cell_type": "code",
   "execution_count": 23,
   "id": "46ef459c",
   "metadata": {},
   "outputs": [
    {
     "name": "stdout",
     "output_type": "stream",
     "text": [
      "-1.9390243902439024\n",
      "0.0\n",
      "17.753941506729998\n",
      "30.5\n",
      "-66.5\n"
     ]
    },
    {
     "name": "stderr",
     "output_type": "stream",
     "text": [
      "<ipython-input-23-a7b98b88d0d5>:1: SettingWithCopyWarning: \n",
      "A value is trying to be set on a copy of a slice from a DataFrame.\n",
      "Try using .loc[row_indexer,col_indexer] = value instead\n",
      "\n",
      "See the caveats in the documentation: https://pandas.pydata.org/pandas-docs/stable/user_guide/indexing.html#returning-a-view-versus-a-copy\n",
      "  df2_phase45['add-revised'] = df2_phase45['add-revised'].astype(float)\n",
      "<ipython-input-23-a7b98b88d0d5>:2: SettingWithCopyWarning: \n",
      "A value is trying to be set on a copy of a slice from a DataFrame.\n",
      "Try using .loc[row_indexer,col_indexer] = value instead\n",
      "\n",
      "See the caveats in the documentation: https://pandas.pydata.org/pandas-docs/stable/user_guide/indexing.html#returning-a-view-versus-a-copy\n",
      "  df2_phase45['delete-revised'] = df2_phase45['delete-revised'].astype(float)\n",
      "<ipython-input-23-a7b98b88d0d5>:3: SettingWithCopyWarning: \n",
      "A value is trying to be set on a copy of a slice from a DataFrame.\n",
      "Try using .loc[row_indexer,col_indexer] = value instead\n",
      "\n",
      "See the caveats in the documentation: https://pandas.pydata.org/pandas-docs/stable/user_guide/indexing.html#returning-a-view-versus-a-copy\n",
      "  df2_phase45['effort'] = df2_phase45['add-revised'] - 0.5 * df2_phase45['delete-revised']\n"
     ]
    }
   ],
   "source": [
    "df2_phase45['add-revised'] = df2_phase45['add-revised'].astype(float)\n",
    "df2_phase45['delete-revised'] = df2_phase45['delete-revised'].astype(float)\n",
    "df2_phase45['effort'] = df2_phase45['add-revised'] - 0.5 * df2_phase45['delete-revised']\n",
    "print(df2_phase45['effort'].mean())\n",
    "print(df2_phase45['effort'].median())\n",
    "print(df2_phase45['effort'].std())\n",
    "print(df2_phase45['effort'].max())\n",
    "print(df2_phase45['effort'].min())"
   ]
  },
  {
   "cell_type": "code",
   "execution_count": 24,
   "id": "9988ffed",
   "metadata": {},
   "outputs": [
    {
     "data": {
      "text/plain": [
       "array([  0. ,   0. ,  -9.5,   0. ,   0. ,   0. ,   0. ,   0. ,   1. ,\n",
       "         2. ,   0. ,  12.5,   0. ,   0. ,   0. ,   0. ,   0. ,   0. ,\n",
       "         0. ,  30.5,   0. ,   0. ,   0. ,   0.5,   0. ,   0. ,  21. ,\n",
       "       -66.5,   0. ,   0. ,   0. ,   0. ,   0. ,   0.5,   0. ,  19. ,\n",
       "       -36.5,   0. , -63.5,  26.5, -17. ])"
      ]
     },
     "execution_count": 24,
     "metadata": {},
     "output_type": "execute_result"
    }
   ],
   "source": [
    "import numpy as np\n",
    "np.set_printoptions(suppress=True)\n",
    "diff2 = df2_phase45['add-revised'] - 0.5 * df2_phase45['delete-revised']\n",
    "diff2.values"
   ]
  },
  {
   "cell_type": "markdown",
   "id": "8ca23af7",
   "metadata": {},
   "source": [
    "# Phase 4 - 5 - Bogota 1 ( Performance Transparency )"
   ]
  },
  {
   "cell_type": "code",
   "execution_count": 25,
   "id": "12a66d64",
   "metadata": {},
   "outputs": [
    {
     "name": "stdout",
     "output_type": "stream",
     "text": [
      "43\n"
     ]
    }
   ],
   "source": [
    "df1 = pd.read_csv('bogota-1.csv')\n",
    "df1.head(5)\n",
    "print(len(df1.index))"
   ]
  },
  {
   "cell_type": "code",
   "execution_count": 26,
   "id": "8dd4a15f",
   "metadata": {},
   "outputs": [
    {
     "data": {
      "text/html": [
       "<div>\n",
       "<style scoped>\n",
       "    .dataframe tbody tr th:only-of-type {\n",
       "        vertical-align: middle;\n",
       "    }\n",
       "\n",
       "    .dataframe tbody tr th {\n",
       "        vertical-align: top;\n",
       "    }\n",
       "\n",
       "    .dataframe thead th {\n",
       "        text-align: right;\n",
       "    }\n",
       "</style>\n",
       "<table border=\"1\" class=\"dataframe\">\n",
       "  <thead>\n",
       "    <tr style=\"text-align: right;\">\n",
       "      <th></th>\n",
       "      <th>change</th>\n",
       "      <th>addition</th>\n",
       "      <th>delete</th>\n",
       "      <th>username</th>\n",
       "      <th>change-revised</th>\n",
       "      <th>add-revised</th>\n",
       "      <th>delete-revised</th>\n",
       "      <th>bogota-3</th>\n",
       "      <th>bogota-2</th>\n",
       "      <th>bogota-1</th>\n",
       "    </tr>\n",
       "  </thead>\n",
       "  <tbody>\n",
       "    <tr>\n",
       "      <th>0</th>\n",
       "      <td>0 files changed</td>\n",
       "      <td>NaN</td>\n",
       "      <td>NaN</td>\n",
       "      <td>adamantwharf</td>\n",
       "      <td>0</td>\n",
       "      <td>0</td>\n",
       "      <td>0</td>\n",
       "      <td>0</td>\n",
       "      <td>0</td>\n",
       "      <td>True</td>\n",
       "    </tr>\n",
       "    <tr>\n",
       "      <th>1</th>\n",
       "      <td>4 files changed</td>\n",
       "      <td>133 insertions(+)</td>\n",
       "      <td>85 deletions(-)</td>\n",
       "      <td>adriel62</td>\n",
       "      <td>4</td>\n",
       "      <td>133</td>\n",
       "      <td>85</td>\n",
       "      <td>1</td>\n",
       "      <td>0</td>\n",
       "      <td>False</td>\n",
       "    </tr>\n",
       "    <tr>\n",
       "      <th>2</th>\n",
       "      <td>2 files changed</td>\n",
       "      <td>6 insertions(+)</td>\n",
       "      <td>11 deletions(-)</td>\n",
       "      <td>afceballosr</td>\n",
       "      <td>2</td>\n",
       "      <td>6</td>\n",
       "      <td>11</td>\n",
       "      <td>1</td>\n",
       "      <td>0</td>\n",
       "      <td>False</td>\n",
       "    </tr>\n",
       "    <tr>\n",
       "      <th>3</th>\n",
       "      <td>0 files changed</td>\n",
       "      <td>NaN</td>\n",
       "      <td>NaN</td>\n",
       "      <td>AFelipeGA</td>\n",
       "      <td>0</td>\n",
       "      <td>0</td>\n",
       "      <td>0</td>\n",
       "      <td>1</td>\n",
       "      <td>0</td>\n",
       "      <td>False</td>\n",
       "    </tr>\n",
       "    <tr>\n",
       "      <th>4</th>\n",
       "      <td>0 files changed</td>\n",
       "      <td>NaN</td>\n",
       "      <td>NaN</td>\n",
       "      <td>afforeroc</td>\n",
       "      <td>0</td>\n",
       "      <td>0</td>\n",
       "      <td>0</td>\n",
       "      <td>1</td>\n",
       "      <td>0</td>\n",
       "      <td>False</td>\n",
       "    </tr>\n",
       "  </tbody>\n",
       "</table>\n",
       "</div>"
      ],
      "text/plain": [
       "            change            addition            delete      username  \\\n",
       "0  0 files changed                 NaN               NaN  adamantwharf   \n",
       "1  4 files changed   133 insertions(+)   85 deletions(-)      adriel62   \n",
       "2  2 files changed     6 insertions(+)   11 deletions(-)   afceballosr   \n",
       "3  0 files changed                 NaN               NaN     AFelipeGA   \n",
       "4  0 files changed                 NaN               NaN     afforeroc   \n",
       "\n",
       "  change-revised add-revised delete-revised  bogota-3  bogota-2  bogota-1  \n",
       "0              0           0              0         0         0      True  \n",
       "1              4         133             85         1         0     False  \n",
       "2              2           6             11         1         0     False  \n",
       "3              0           0              0         1         0     False  \n",
       "4              0           0              0         1         0     False  "
      ]
     },
     "execution_count": 26,
     "metadata": {},
     "output_type": "execute_result"
    }
   ],
   "source": [
    "df_phase45['bogota-1'] = df_phase45['username'].isin(df1['Project'])\n",
    "df_phase45.head(5)"
   ]
  },
  {
   "cell_type": "code",
   "execution_count": 27,
   "id": "5feb5aa3",
   "metadata": {},
   "outputs": [
    {
     "data": {
      "text/html": [
       "<div>\n",
       "<style scoped>\n",
       "    .dataframe tbody tr th:only-of-type {\n",
       "        vertical-align: middle;\n",
       "    }\n",
       "\n",
       "    .dataframe tbody tr th {\n",
       "        vertical-align: top;\n",
       "    }\n",
       "\n",
       "    .dataframe thead th {\n",
       "        text-align: right;\n",
       "    }\n",
       "</style>\n",
       "<table border=\"1\" class=\"dataframe\">\n",
       "  <thead>\n",
       "    <tr style=\"text-align: right;\">\n",
       "      <th></th>\n",
       "      <th>change</th>\n",
       "      <th>addition</th>\n",
       "      <th>delete</th>\n",
       "      <th>username</th>\n",
       "      <th>change-revised</th>\n",
       "      <th>add-revised</th>\n",
       "      <th>delete-revised</th>\n",
       "      <th>bogota-3</th>\n",
       "      <th>bogota-2</th>\n",
       "      <th>bogota-1</th>\n",
       "    </tr>\n",
       "  </thead>\n",
       "  <tbody>\n",
       "    <tr>\n",
       "      <th>0</th>\n",
       "      <td>0 files changed</td>\n",
       "      <td>NaN</td>\n",
       "      <td>NaN</td>\n",
       "      <td>adamantwharf</td>\n",
       "      <td>0</td>\n",
       "      <td>0</td>\n",
       "      <td>0</td>\n",
       "      <td>0</td>\n",
       "      <td>0</td>\n",
       "      <td>1</td>\n",
       "    </tr>\n",
       "    <tr>\n",
       "      <th>1</th>\n",
       "      <td>4 files changed</td>\n",
       "      <td>133 insertions(+)</td>\n",
       "      <td>85 deletions(-)</td>\n",
       "      <td>adriel62</td>\n",
       "      <td>4</td>\n",
       "      <td>133</td>\n",
       "      <td>85</td>\n",
       "      <td>1</td>\n",
       "      <td>0</td>\n",
       "      <td>0</td>\n",
       "    </tr>\n",
       "    <tr>\n",
       "      <th>2</th>\n",
       "      <td>2 files changed</td>\n",
       "      <td>6 insertions(+)</td>\n",
       "      <td>11 deletions(-)</td>\n",
       "      <td>afceballosr</td>\n",
       "      <td>2</td>\n",
       "      <td>6</td>\n",
       "      <td>11</td>\n",
       "      <td>1</td>\n",
       "      <td>0</td>\n",
       "      <td>0</td>\n",
       "    </tr>\n",
       "    <tr>\n",
       "      <th>3</th>\n",
       "      <td>0 files changed</td>\n",
       "      <td>NaN</td>\n",
       "      <td>NaN</td>\n",
       "      <td>AFelipeGA</td>\n",
       "      <td>0</td>\n",
       "      <td>0</td>\n",
       "      <td>0</td>\n",
       "      <td>1</td>\n",
       "      <td>0</td>\n",
       "      <td>0</td>\n",
       "    </tr>\n",
       "    <tr>\n",
       "      <th>4</th>\n",
       "      <td>0 files changed</td>\n",
       "      <td>NaN</td>\n",
       "      <td>NaN</td>\n",
       "      <td>afforeroc</td>\n",
       "      <td>0</td>\n",
       "      <td>0</td>\n",
       "      <td>0</td>\n",
       "      <td>1</td>\n",
       "      <td>0</td>\n",
       "      <td>0</td>\n",
       "    </tr>\n",
       "  </tbody>\n",
       "</table>\n",
       "</div>"
      ],
      "text/plain": [
       "            change            addition            delete      username  \\\n",
       "0  0 files changed                 NaN               NaN  adamantwharf   \n",
       "1  4 files changed   133 insertions(+)   85 deletions(-)      adriel62   \n",
       "2  2 files changed     6 insertions(+)   11 deletions(-)   afceballosr   \n",
       "3  0 files changed                 NaN               NaN     AFelipeGA   \n",
       "4  0 files changed                 NaN               NaN     afforeroc   \n",
       "\n",
       "  change-revised add-revised delete-revised  bogota-3  bogota-2  bogota-1  \n",
       "0              0           0              0         0         0         1  \n",
       "1              4         133             85         1         0         0  \n",
       "2              2           6             11         1         0         0  \n",
       "3              0           0              0         1         0         0  \n",
       "4              0           0              0         1         0         0  "
      ]
     },
     "execution_count": 27,
     "metadata": {},
     "output_type": "execute_result"
    }
   ],
   "source": [
    "df_phase45[\"bogota-1\"] = df_phase45[\"bogota-1\"].astype(int)\n",
    "df_phase45.head(5)"
   ]
  },
  {
   "cell_type": "code",
   "execution_count": 28,
   "id": "c9f0a4f7",
   "metadata": {},
   "outputs": [
    {
     "data": {
      "text/html": [
       "<div>\n",
       "<style scoped>\n",
       "    .dataframe tbody tr th:only-of-type {\n",
       "        vertical-align: middle;\n",
       "    }\n",
       "\n",
       "    .dataframe tbody tr th {\n",
       "        vertical-align: top;\n",
       "    }\n",
       "\n",
       "    .dataframe thead th {\n",
       "        text-align: right;\n",
       "    }\n",
       "</style>\n",
       "<table border=\"1\" class=\"dataframe\">\n",
       "  <thead>\n",
       "    <tr style=\"text-align: right;\">\n",
       "      <th></th>\n",
       "      <th>change</th>\n",
       "      <th>addition</th>\n",
       "      <th>delete</th>\n",
       "      <th>username</th>\n",
       "      <th>change-revised</th>\n",
       "      <th>add-revised</th>\n",
       "      <th>delete-revised</th>\n",
       "      <th>bogota-3</th>\n",
       "      <th>bogota-2</th>\n",
       "      <th>bogota-1</th>\n",
       "    </tr>\n",
       "  </thead>\n",
       "  <tbody>\n",
       "    <tr>\n",
       "      <th>0</th>\n",
       "      <td>0 files changed</td>\n",
       "      <td>NaN</td>\n",
       "      <td>NaN</td>\n",
       "      <td>adamantwharf</td>\n",
       "      <td>0</td>\n",
       "      <td>0</td>\n",
       "      <td>0</td>\n",
       "      <td>0</td>\n",
       "      <td>0</td>\n",
       "      <td>1</td>\n",
       "    </tr>\n",
       "    <tr>\n",
       "      <th>5</th>\n",
       "      <td>3 files changed</td>\n",
       "      <td>14 insertions(+)</td>\n",
       "      <td>83 deletions(-)</td>\n",
       "      <td>aldiazve</td>\n",
       "      <td>3</td>\n",
       "      <td>14</td>\n",
       "      <td>83</td>\n",
       "      <td>0</td>\n",
       "      <td>0</td>\n",
       "      <td>1</td>\n",
       "    </tr>\n",
       "    <tr>\n",
       "      <th>6</th>\n",
       "      <td>0 files changed</td>\n",
       "      <td>NaN</td>\n",
       "      <td>NaN</td>\n",
       "      <td>andfsanchezlem</td>\n",
       "      <td>0</td>\n",
       "      <td>0</td>\n",
       "      <td>0</td>\n",
       "      <td>0</td>\n",
       "      <td>0</td>\n",
       "      <td>1</td>\n",
       "    </tr>\n",
       "    <tr>\n",
       "      <th>7</th>\n",
       "      <td>2 files changed</td>\n",
       "      <td>32 insertions(+)</td>\n",
       "      <td>25 deletions(-)</td>\n",
       "      <td>anfmorenoso</td>\n",
       "      <td>2</td>\n",
       "      <td>32</td>\n",
       "      <td>25</td>\n",
       "      <td>0</td>\n",
       "      <td>0</td>\n",
       "      <td>1</td>\n",
       "    </tr>\n",
       "    <tr>\n",
       "      <th>10</th>\n",
       "      <td>0 files changed</td>\n",
       "      <td>NaN</td>\n",
       "      <td>NaN</td>\n",
       "      <td>bdcajicam</td>\n",
       "      <td>0</td>\n",
       "      <td>0</td>\n",
       "      <td>0</td>\n",
       "      <td>0</td>\n",
       "      <td>0</td>\n",
       "      <td>1</td>\n",
       "    </tr>\n",
       "  </tbody>\n",
       "</table>\n",
       "</div>"
      ],
      "text/plain": [
       "             change           addition            delete        username  \\\n",
       "0   0 files changed                NaN               NaN    adamantwharf   \n",
       "5   3 files changed   14 insertions(+)   83 deletions(-)        aldiazve   \n",
       "6   0 files changed                NaN               NaN  andfsanchezlem   \n",
       "7   2 files changed   32 insertions(+)   25 deletions(-)     anfmorenoso   \n",
       "10  0 files changed                NaN               NaN       bdcajicam   \n",
       "\n",
       "   change-revised add-revised delete-revised  bogota-3  bogota-2  bogota-1  \n",
       "0               0           0              0         0         0         1  \n",
       "5               3          14             83         0         0         1  \n",
       "6               0           0              0         0         0         1  \n",
       "7               2          32             25         0         0         1  \n",
       "10              0           0              0         0         0         1  "
      ]
     },
     "execution_count": 28,
     "metadata": {},
     "output_type": "execute_result"
    }
   ],
   "source": [
    "df1_phase45 = df_phase45.loc[df_phase45['bogota-1'] == 1]\n",
    "df1_phase45.head(5)"
   ]
  },
  {
   "cell_type": "code",
   "execution_count": 29,
   "id": "4757798e",
   "metadata": {},
   "outputs": [
    {
     "name": "stdout",
     "output_type": "stream",
     "text": [
      "40\n"
     ]
    }
   ],
   "source": [
    "print(len(df1_phase45.index))"
   ]
  },
  {
   "cell_type": "code",
   "execution_count": 30,
   "id": "e1731ba5",
   "metadata": {},
   "outputs": [
    {
     "name": "stdout",
     "output_type": "stream",
     "text": [
      "1.575\n",
      "1.0\n",
      "2.469168862551703\n",
      "12\n",
      "0\n"
     ]
    },
    {
     "name": "stderr",
     "output_type": "stream",
     "text": [
      "<ipython-input-30-f1cf5acab4e8>:1: SettingWithCopyWarning: \n",
      "A value is trying to be set on a copy of a slice from a DataFrame.\n",
      "Try using .loc[row_indexer,col_indexer] = value instead\n",
      "\n",
      "See the caveats in the documentation: https://pandas.pydata.org/pandas-docs/stable/user_guide/indexing.html#returning-a-view-versus-a-copy\n",
      "  df1_phase45['change-revised'] = pd.to_numeric(df1_phase45['change-revised'])\n"
     ]
    }
   ],
   "source": [
    "df1_phase45['change-revised'] = pd.to_numeric(df1_phase45['change-revised'])\n",
    "print(df1_phase45['change-revised'].mean())\n",
    "print(df1_phase45['change-revised'].median())\n",
    "print(df1_phase45['change-revised'].std())\n",
    "print(df1_phase45['change-revised'].max())\n",
    "print(df1_phase45['change-revised'].min())"
   ]
  },
  {
   "cell_type": "code",
   "execution_count": 31,
   "id": "d3d4ff78",
   "metadata": {},
   "outputs": [
    {
     "name": "stdout",
     "output_type": "stream",
     "text": [
      "23.45\n",
      "0.0\n",
      "58.334996313292024\n",
      "346\n",
      "0\n"
     ]
    },
    {
     "name": "stderr",
     "output_type": "stream",
     "text": [
      "<ipython-input-31-4cb403aa95e8>:1: SettingWithCopyWarning: \n",
      "A value is trying to be set on a copy of a slice from a DataFrame.\n",
      "Try using .loc[row_indexer,col_indexer] = value instead\n",
      "\n",
      "See the caveats in the documentation: https://pandas.pydata.org/pandas-docs/stable/user_guide/indexing.html#returning-a-view-versus-a-copy\n",
      "  df1_phase45['delete-revised'] = pd.to_numeric(df1_phase45['delete-revised'])\n"
     ]
    },
    {
     "data": {
      "text/plain": [
       "array([  0,  83,   0,  25,   0,   5,   0,   0,   0,   0,   0,   0,  20,\n",
       "       346,  19,   3,  15,   8,   0,   5,   0,   3, 111,   0,  35,  35,\n",
       "         0,   0,  64,   0,  32,   0,   0,  42,   0,  65,   0,  22,   0,\n",
       "         0])"
      ]
     },
     "execution_count": 31,
     "metadata": {},
     "output_type": "execute_result"
    }
   ],
   "source": [
    "df1_phase45['delete-revised'] = pd.to_numeric(df1_phase45['delete-revised'])\n",
    "df1_phase45['delete-revised'].mean()\n",
    "print(df1_phase45['delete-revised'].mean())\n",
    "print(df1_phase45['delete-revised'].median())\n",
    "print(df1_phase45['delete-revised'].std())\n",
    "print(df1_phase45['delete-revised'].max())\n",
    "print(df1_phase45['delete-revised'].min())\n",
    "\n",
    "df1_delete = df1_phase45['delete-revised']\n",
    "df1_delete.values"
   ]
  },
  {
   "cell_type": "code",
   "execution_count": 32,
   "id": "dec78916",
   "metadata": {},
   "outputs": [
    {
     "name": "stdout",
     "output_type": "stream",
     "text": [
      "12.325\n",
      "0.5\n",
      "29.159497287355318\n",
      "167\n",
      "0\n"
     ]
    },
    {
     "name": "stderr",
     "output_type": "stream",
     "text": [
      "<ipython-input-32-ae7d036d7b6b>:1: SettingWithCopyWarning: \n",
      "A value is trying to be set on a copy of a slice from a DataFrame.\n",
      "Try using .loc[row_indexer,col_indexer] = value instead\n",
      "\n",
      "See the caveats in the documentation: https://pandas.pydata.org/pandas-docs/stable/user_guide/indexing.html#returning-a-view-versus-a-copy\n",
      "  df1_phase45['add-revised'] = pd.to_numeric(df1_phase45['add-revised'])\n"
     ]
    },
    {
     "data": {
      "text/plain": [
       "array([  0,  14,   0,  32,   0,   5,   0,   0,   0,   0,   0,   0,  53,\n",
       "        49,  32,   3,   9,   3,   0,   3,   0,   1,   9,   0,   9,   3,\n",
       "         0,   0,  40,   0,   6,   0,   0,  10,   2,  43,   0, 167,   0,\n",
       "         0])"
      ]
     },
     "execution_count": 32,
     "metadata": {},
     "output_type": "execute_result"
    }
   ],
   "source": [
    "df1_phase45['add-revised'] = pd.to_numeric(df1_phase45['add-revised'])\n",
    "df1_phase45['add-revised'].mean()\n",
    "\n",
    "print(df1_phase45['add-revised'].mean())\n",
    "print(df1_phase45['add-revised'].median())\n",
    "print(df1_phase45['add-revised'].std())\n",
    "print(df1_phase45['add-revised'].max())\n",
    "print(df1_phase45['add-revised'].min())\n",
    "\n",
    "df1_add = df1_phase45['add-revised']\n",
    "df1_add.values"
   ]
  },
  {
   "cell_type": "code",
   "execution_count": 33,
   "id": "acf4b6de",
   "metadata": {},
   "outputs": [
    {
     "data": {
      "text/plain": [
       "array([   0. ,  -27.5,    0. ,   19.5,    0. ,    2.5,    0. ,    0. ,\n",
       "          0. ,    0. ,    0. ,    0. ,   43. , -124. ,   22.5,    1.5,\n",
       "          1.5,   -1. ,    0. ,    0.5,    0. ,   -0.5,  -46.5,    0. ,\n",
       "         -8.5,  -14.5,    0. ,    0. ,    8. ,    0. ,  -10. ,    0. ,\n",
       "          0. ,  -11. ,    2. ,   10.5,    0. ,  156. ,    0. ,    0. ])"
      ]
     },
     "execution_count": 33,
     "metadata": {},
     "output_type": "execute_result"
    }
   ],
   "source": [
    "import numpy as np\n",
    "np.set_printoptions(suppress=True)\n",
    "diff1 = df1_phase45['add-revised'] - 0.5 * df1_phase45['delete-revised']\n",
    "diff1.values"
   ]
  },
  {
   "cell_type": "markdown",
   "id": "addfe83f",
   "metadata": {},
   "source": [
    "# Phase 4 - 5 - Bogota 0 ( No Transparency )"
   ]
  },
  {
   "cell_type": "code",
   "execution_count": 34,
   "id": "89703b74",
   "metadata": {},
   "outputs": [
    {
     "data": {
      "text/html": [
       "<div>\n",
       "<style scoped>\n",
       "    .dataframe tbody tr th:only-of-type {\n",
       "        vertical-align: middle;\n",
       "    }\n",
       "\n",
       "    .dataframe tbody tr th {\n",
       "        vertical-align: top;\n",
       "    }\n",
       "\n",
       "    .dataframe thead th {\n",
       "        text-align: right;\n",
       "    }\n",
       "</style>\n",
       "<table border=\"1\" class=\"dataframe\">\n",
       "  <thead>\n",
       "    <tr style=\"text-align: right;\">\n",
       "      <th></th>\n",
       "      <th>Project</th>\n",
       "      <th>Unnamed: 1</th>\n",
       "      <th>Unnamed: 2</th>\n",
       "    </tr>\n",
       "  </thead>\n",
       "  <tbody>\n",
       "    <tr>\n",
       "      <th>0</th>\n",
       "      <td>lfvalderrama</td>\n",
       "      <td>NaN</td>\n",
       "      <td>NaN</td>\n",
       "    </tr>\n",
       "    <tr>\n",
       "      <th>1</th>\n",
       "      <td>Judgarciani</td>\n",
       "      <td>NaN</td>\n",
       "      <td>NaN</td>\n",
       "    </tr>\n",
       "    <tr>\n",
       "      <th>2</th>\n",
       "      <td>bsgarciac</td>\n",
       "      <td>NaN</td>\n",
       "      <td>NaN</td>\n",
       "    </tr>\n",
       "    <tr>\n",
       "      <th>3</th>\n",
       "      <td>Moimolcp</td>\n",
       "      <td>NaN</td>\n",
       "      <td>NaN</td>\n",
       "    </tr>\n",
       "    <tr>\n",
       "      <th>4</th>\n",
       "      <td>mnguzmanc</td>\n",
       "      <td>NaN</td>\n",
       "      <td>NaN</td>\n",
       "    </tr>\n",
       "  </tbody>\n",
       "</table>\n",
       "</div>"
      ],
      "text/plain": [
       "        Project  Unnamed: 1  Unnamed: 2\n",
       "0  lfvalderrama         NaN         NaN\n",
       "1   Judgarciani         NaN         NaN\n",
       "2     bsgarciac         NaN         NaN\n",
       "3      Moimolcp         NaN         NaN\n",
       "4     mnguzmanc         NaN         NaN"
      ]
     },
     "execution_count": 34,
     "metadata": {},
     "output_type": "execute_result"
    }
   ],
   "source": [
    "df0 = pd.read_csv('bogota-0.csv')\n",
    "df0.head(5)\n"
   ]
  },
  {
   "cell_type": "code",
   "execution_count": 35,
   "id": "31913ed3",
   "metadata": {},
   "outputs": [
    {
     "data": {
      "text/html": [
       "<div>\n",
       "<style scoped>\n",
       "    .dataframe tbody tr th:only-of-type {\n",
       "        vertical-align: middle;\n",
       "    }\n",
       "\n",
       "    .dataframe tbody tr th {\n",
       "        vertical-align: top;\n",
       "    }\n",
       "\n",
       "    .dataframe thead th {\n",
       "        text-align: right;\n",
       "    }\n",
       "</style>\n",
       "<table border=\"1\" class=\"dataframe\">\n",
       "  <thead>\n",
       "    <tr style=\"text-align: right;\">\n",
       "      <th></th>\n",
       "      <th>change</th>\n",
       "      <th>addition</th>\n",
       "      <th>delete</th>\n",
       "      <th>username</th>\n",
       "      <th>change-revised</th>\n",
       "      <th>add-revised</th>\n",
       "      <th>delete-revised</th>\n",
       "      <th>bogota-3</th>\n",
       "      <th>bogota-2</th>\n",
       "      <th>bogota-1</th>\n",
       "      <th>bogota-0</th>\n",
       "    </tr>\n",
       "  </thead>\n",
       "  <tbody>\n",
       "    <tr>\n",
       "      <th>0</th>\n",
       "      <td>0 files changed</td>\n",
       "      <td>NaN</td>\n",
       "      <td>NaN</td>\n",
       "      <td>adamantwharf</td>\n",
       "      <td>0</td>\n",
       "      <td>0</td>\n",
       "      <td>0</td>\n",
       "      <td>0</td>\n",
       "      <td>0</td>\n",
       "      <td>1</td>\n",
       "      <td>False</td>\n",
       "    </tr>\n",
       "    <tr>\n",
       "      <th>1</th>\n",
       "      <td>4 files changed</td>\n",
       "      <td>133 insertions(+)</td>\n",
       "      <td>85 deletions(-)</td>\n",
       "      <td>adriel62</td>\n",
       "      <td>4</td>\n",
       "      <td>133</td>\n",
       "      <td>85</td>\n",
       "      <td>1</td>\n",
       "      <td>0</td>\n",
       "      <td>0</td>\n",
       "      <td>False</td>\n",
       "    </tr>\n",
       "    <tr>\n",
       "      <th>2</th>\n",
       "      <td>2 files changed</td>\n",
       "      <td>6 insertions(+)</td>\n",
       "      <td>11 deletions(-)</td>\n",
       "      <td>afceballosr</td>\n",
       "      <td>2</td>\n",
       "      <td>6</td>\n",
       "      <td>11</td>\n",
       "      <td>1</td>\n",
       "      <td>0</td>\n",
       "      <td>0</td>\n",
       "      <td>False</td>\n",
       "    </tr>\n",
       "    <tr>\n",
       "      <th>3</th>\n",
       "      <td>0 files changed</td>\n",
       "      <td>NaN</td>\n",
       "      <td>NaN</td>\n",
       "      <td>AFelipeGA</td>\n",
       "      <td>0</td>\n",
       "      <td>0</td>\n",
       "      <td>0</td>\n",
       "      <td>1</td>\n",
       "      <td>0</td>\n",
       "      <td>0</td>\n",
       "      <td>False</td>\n",
       "    </tr>\n",
       "    <tr>\n",
       "      <th>4</th>\n",
       "      <td>0 files changed</td>\n",
       "      <td>NaN</td>\n",
       "      <td>NaN</td>\n",
       "      <td>afforeroc</td>\n",
       "      <td>0</td>\n",
       "      <td>0</td>\n",
       "      <td>0</td>\n",
       "      <td>1</td>\n",
       "      <td>0</td>\n",
       "      <td>0</td>\n",
       "      <td>False</td>\n",
       "    </tr>\n",
       "  </tbody>\n",
       "</table>\n",
       "</div>"
      ],
      "text/plain": [
       "            change            addition            delete      username  \\\n",
       "0  0 files changed                 NaN               NaN  adamantwharf   \n",
       "1  4 files changed   133 insertions(+)   85 deletions(-)      adriel62   \n",
       "2  2 files changed     6 insertions(+)   11 deletions(-)   afceballosr   \n",
       "3  0 files changed                 NaN               NaN     AFelipeGA   \n",
       "4  0 files changed                 NaN               NaN     afforeroc   \n",
       "\n",
       "  change-revised add-revised delete-revised  bogota-3  bogota-2  bogota-1  \\\n",
       "0              0           0              0         0         0         1   \n",
       "1              4         133             85         1         0         0   \n",
       "2              2           6             11         1         0         0   \n",
       "3              0           0              0         1         0         0   \n",
       "4              0           0              0         1         0         0   \n",
       "\n",
       "   bogota-0  \n",
       "0     False  \n",
       "1     False  \n",
       "2     False  \n",
       "3     False  \n",
       "4     False  "
      ]
     },
     "execution_count": 35,
     "metadata": {},
     "output_type": "execute_result"
    }
   ],
   "source": [
    "df_phase45['bogota-0'] = df_phase45['username'].isin(df0['Project'])\n",
    "df_phase45.head(5)"
   ]
  },
  {
   "cell_type": "code",
   "execution_count": 36,
   "id": "b20ea743",
   "metadata": {},
   "outputs": [
    {
     "data": {
      "text/html": [
       "<div>\n",
       "<style scoped>\n",
       "    .dataframe tbody tr th:only-of-type {\n",
       "        vertical-align: middle;\n",
       "    }\n",
       "\n",
       "    .dataframe tbody tr th {\n",
       "        vertical-align: top;\n",
       "    }\n",
       "\n",
       "    .dataframe thead th {\n",
       "        text-align: right;\n",
       "    }\n",
       "</style>\n",
       "<table border=\"1\" class=\"dataframe\">\n",
       "  <thead>\n",
       "    <tr style=\"text-align: right;\">\n",
       "      <th></th>\n",
       "      <th>change</th>\n",
       "      <th>addition</th>\n",
       "      <th>delete</th>\n",
       "      <th>username</th>\n",
       "      <th>change-revised</th>\n",
       "      <th>add-revised</th>\n",
       "      <th>delete-revised</th>\n",
       "      <th>bogota-3</th>\n",
       "      <th>bogota-2</th>\n",
       "      <th>bogota-1</th>\n",
       "      <th>bogota-0</th>\n",
       "    </tr>\n",
       "  </thead>\n",
       "  <tbody>\n",
       "    <tr>\n",
       "      <th>0</th>\n",
       "      <td>0 files changed</td>\n",
       "      <td>NaN</td>\n",
       "      <td>NaN</td>\n",
       "      <td>adamantwharf</td>\n",
       "      <td>0</td>\n",
       "      <td>0</td>\n",
       "      <td>0</td>\n",
       "      <td>0</td>\n",
       "      <td>0</td>\n",
       "      <td>1</td>\n",
       "      <td>0</td>\n",
       "    </tr>\n",
       "    <tr>\n",
       "      <th>1</th>\n",
       "      <td>4 files changed</td>\n",
       "      <td>133 insertions(+)</td>\n",
       "      <td>85 deletions(-)</td>\n",
       "      <td>adriel62</td>\n",
       "      <td>4</td>\n",
       "      <td>133</td>\n",
       "      <td>85</td>\n",
       "      <td>1</td>\n",
       "      <td>0</td>\n",
       "      <td>0</td>\n",
       "      <td>0</td>\n",
       "    </tr>\n",
       "    <tr>\n",
       "      <th>2</th>\n",
       "      <td>2 files changed</td>\n",
       "      <td>6 insertions(+)</td>\n",
       "      <td>11 deletions(-)</td>\n",
       "      <td>afceballosr</td>\n",
       "      <td>2</td>\n",
       "      <td>6</td>\n",
       "      <td>11</td>\n",
       "      <td>1</td>\n",
       "      <td>0</td>\n",
       "      <td>0</td>\n",
       "      <td>0</td>\n",
       "    </tr>\n",
       "    <tr>\n",
       "      <th>3</th>\n",
       "      <td>0 files changed</td>\n",
       "      <td>NaN</td>\n",
       "      <td>NaN</td>\n",
       "      <td>AFelipeGA</td>\n",
       "      <td>0</td>\n",
       "      <td>0</td>\n",
       "      <td>0</td>\n",
       "      <td>1</td>\n",
       "      <td>0</td>\n",
       "      <td>0</td>\n",
       "      <td>0</td>\n",
       "    </tr>\n",
       "    <tr>\n",
       "      <th>4</th>\n",
       "      <td>0 files changed</td>\n",
       "      <td>NaN</td>\n",
       "      <td>NaN</td>\n",
       "      <td>afforeroc</td>\n",
       "      <td>0</td>\n",
       "      <td>0</td>\n",
       "      <td>0</td>\n",
       "      <td>1</td>\n",
       "      <td>0</td>\n",
       "      <td>0</td>\n",
       "      <td>0</td>\n",
       "    </tr>\n",
       "  </tbody>\n",
       "</table>\n",
       "</div>"
      ],
      "text/plain": [
       "            change            addition            delete      username  \\\n",
       "0  0 files changed                 NaN               NaN  adamantwharf   \n",
       "1  4 files changed   133 insertions(+)   85 deletions(-)      adriel62   \n",
       "2  2 files changed     6 insertions(+)   11 deletions(-)   afceballosr   \n",
       "3  0 files changed                 NaN               NaN     AFelipeGA   \n",
       "4  0 files changed                 NaN               NaN     afforeroc   \n",
       "\n",
       "  change-revised add-revised delete-revised  bogota-3  bogota-2  bogota-1  \\\n",
       "0              0           0              0         0         0         1   \n",
       "1              4         133             85         1         0         0   \n",
       "2              2           6             11         1         0         0   \n",
       "3              0           0              0         1         0         0   \n",
       "4              0           0              0         1         0         0   \n",
       "\n",
       "   bogota-0  \n",
       "0         0  \n",
       "1         0  \n",
       "2         0  \n",
       "3         0  \n",
       "4         0  "
      ]
     },
     "execution_count": 36,
     "metadata": {},
     "output_type": "execute_result"
    }
   ],
   "source": [
    "df_phase45[\"bogota-0\"] = df_phase45[\"bogota-0\"].astype(int)\n",
    "df_phase45.head(5)"
   ]
  },
  {
   "cell_type": "code",
   "execution_count": 37,
   "id": "63e5b882",
   "metadata": {},
   "outputs": [
    {
     "data": {
      "text/html": [
       "<div>\n",
       "<style scoped>\n",
       "    .dataframe tbody tr th:only-of-type {\n",
       "        vertical-align: middle;\n",
       "    }\n",
       "\n",
       "    .dataframe tbody tr th {\n",
       "        vertical-align: top;\n",
       "    }\n",
       "\n",
       "    .dataframe thead th {\n",
       "        text-align: right;\n",
       "    }\n",
       "</style>\n",
       "<table border=\"1\" class=\"dataframe\">\n",
       "  <thead>\n",
       "    <tr style=\"text-align: right;\">\n",
       "      <th></th>\n",
       "      <th>change</th>\n",
       "      <th>addition</th>\n",
       "      <th>delete</th>\n",
       "      <th>username</th>\n",
       "      <th>change-revised</th>\n",
       "      <th>add-revised</th>\n",
       "      <th>delete-revised</th>\n",
       "      <th>bogota-3</th>\n",
       "      <th>bogota-2</th>\n",
       "      <th>bogota-1</th>\n",
       "      <th>bogota-0</th>\n",
       "    </tr>\n",
       "  </thead>\n",
       "  <tbody>\n",
       "    <tr>\n",
       "      <th>9</th>\n",
       "      <td>0 files changed</td>\n",
       "      <td>NaN</td>\n",
       "      <td>NaN</td>\n",
       "      <td>annipi</td>\n",
       "      <td>0</td>\n",
       "      <td>0</td>\n",
       "      <td>0</td>\n",
       "      <td>0</td>\n",
       "      <td>0</td>\n",
       "      <td>0</td>\n",
       "      <td>1</td>\n",
       "    </tr>\n",
       "    <tr>\n",
       "      <th>13</th>\n",
       "      <td>6 files changed</td>\n",
       "      <td>69 insertions(+)</td>\n",
       "      <td>105 deletions(-)</td>\n",
       "      <td>bsgarciac</td>\n",
       "      <td>6</td>\n",
       "      <td>69</td>\n",
       "      <td>105</td>\n",
       "      <td>0</td>\n",
       "      <td>0</td>\n",
       "      <td>0</td>\n",
       "      <td>1</td>\n",
       "    </tr>\n",
       "    <tr>\n",
       "      <th>14</th>\n",
       "      <td>2 files changed</td>\n",
       "      <td>2 insertions(+)</td>\n",
       "      <td>2 deletions(-)</td>\n",
       "      <td>camilo654</td>\n",
       "      <td>2</td>\n",
       "      <td>2</td>\n",
       "      <td>2</td>\n",
       "      <td>0</td>\n",
       "      <td>0</td>\n",
       "      <td>0</td>\n",
       "      <td>1</td>\n",
       "    </tr>\n",
       "    <tr>\n",
       "      <th>15</th>\n",
       "      <td>1 file changed</td>\n",
       "      <td>5 insertions(+)</td>\n",
       "      <td>1 deletion(-)</td>\n",
       "      <td>camilo13152</td>\n",
       "      <td>1</td>\n",
       "      <td>5</td>\n",
       "      <td>1</td>\n",
       "      <td>0</td>\n",
       "      <td>0</td>\n",
       "      <td>0</td>\n",
       "      <td>1</td>\n",
       "    </tr>\n",
       "    <tr>\n",
       "      <th>16</th>\n",
       "      <td>0 files changed</td>\n",
       "      <td>NaN</td>\n",
       "      <td>NaN</td>\n",
       "      <td>CamiloRueda</td>\n",
       "      <td>0</td>\n",
       "      <td>0</td>\n",
       "      <td>0</td>\n",
       "      <td>0</td>\n",
       "      <td>0</td>\n",
       "      <td>0</td>\n",
       "      <td>1</td>\n",
       "    </tr>\n",
       "  </tbody>\n",
       "</table>\n",
       "</div>"
      ],
      "text/plain": [
       "             change           addition             delete     username  \\\n",
       "9   0 files changed                NaN                NaN       annipi   \n",
       "13  6 files changed   69 insertions(+)   105 deletions(-)    bsgarciac   \n",
       "14  2 files changed    2 insertions(+)     2 deletions(-)    camilo654   \n",
       "15   1 file changed    5 insertions(+)      1 deletion(-)  camilo13152   \n",
       "16  0 files changed                NaN                NaN  CamiloRueda   \n",
       "\n",
       "   change-revised add-revised delete-revised  bogota-3  bogota-2  bogota-1  \\\n",
       "9               0           0              0         0         0         0   \n",
       "13              6          69            105         0         0         0   \n",
       "14              2           2              2         0         0         0   \n",
       "15              1           5              1         0         0         0   \n",
       "16              0           0              0         0         0         0   \n",
       "\n",
       "    bogota-0  \n",
       "9          1  \n",
       "13         1  \n",
       "14         1  \n",
       "15         1  \n",
       "16         1  "
      ]
     },
     "execution_count": 37,
     "metadata": {},
     "output_type": "execute_result"
    }
   ],
   "source": [
    "df0_phase45 = df_phase45.loc[df_phase45['bogota-0'] == 1]\n",
    "df0_phase45.head(5)"
   ]
  },
  {
   "cell_type": "code",
   "execution_count": 38,
   "id": "7e49c35f",
   "metadata": {},
   "outputs": [
    {
     "name": "stdout",
     "output_type": "stream",
     "text": [
      "38\n"
     ]
    }
   ],
   "source": [
    "print(len(df0_phase45.index))"
   ]
  },
  {
   "cell_type": "code",
   "execution_count": 39,
   "id": "5873f1f1",
   "metadata": {},
   "outputs": [
    {
     "name": "stdout",
     "output_type": "stream",
     "text": [
      "1.1578947368421053\n",
      "1.0\n",
      "1.5687198394124247\n",
      "6\n",
      "0\n"
     ]
    },
    {
     "name": "stderr",
     "output_type": "stream",
     "text": [
      "<ipython-input-39-44c96850d46a>:1: SettingWithCopyWarning: \n",
      "A value is trying to be set on a copy of a slice from a DataFrame.\n",
      "Try using .loc[row_indexer,col_indexer] = value instead\n",
      "\n",
      "See the caveats in the documentation: https://pandas.pydata.org/pandas-docs/stable/user_guide/indexing.html#returning-a-view-versus-a-copy\n",
      "  df0_phase45['change-revised'] = pd.to_numeric(df0_phase45['change-revised'])\n"
     ]
    }
   ],
   "source": [
    "df0_phase45['change-revised'] = pd.to_numeric(df0_phase45['change-revised'])\n",
    "print(df0_phase45['change-revised'].mean())\n",
    "print(df0_phase45['change-revised'].median())\n",
    "print(df0_phase45['change-revised'].std())\n",
    "print(df0_phase45['change-revised'].max())\n",
    "print(df0_phase45['change-revised'].min())"
   ]
  },
  {
   "cell_type": "code",
   "execution_count": 40,
   "id": "77e26100",
   "metadata": {},
   "outputs": [
    {
     "name": "stdout",
     "output_type": "stream",
     "text": [
      "30.157894736842106\n",
      "0.0\n",
      "71.29327564507636\n",
      "371\n",
      "0\n"
     ]
    },
    {
     "name": "stderr",
     "output_type": "stream",
     "text": [
      "<ipython-input-40-ec6e2e9cc888>:1: SettingWithCopyWarning: \n",
      "A value is trying to be set on a copy of a slice from a DataFrame.\n",
      "Try using .loc[row_indexer,col_indexer] = value instead\n",
      "\n",
      "See the caveats in the documentation: https://pandas.pydata.org/pandas-docs/stable/user_guide/indexing.html#returning-a-view-versus-a-copy\n",
      "  df0_phase45['delete-revised'] = pd.to_numeric(df0_phase45['delete-revised'])\n"
     ]
    },
    {
     "data": {
      "text/plain": [
       "array([  0, 105,   2,   1,   0,   0, 131,   0,   0,  56, 168,   0,   0,\n",
       "        13,   0,   0,   0,   0,   7,  26,   3,   0,   0,  45, 371,   4,\n",
       "         5,   0, 136,   0,  62,   0,   0,   0,   0,  11,   0,   0])"
      ]
     },
     "execution_count": 40,
     "metadata": {},
     "output_type": "execute_result"
    }
   ],
   "source": [
    "df0_phase45['delete-revised'] = pd.to_numeric(df0_phase45['delete-revised'])\n",
    "df0_phase45['delete-revised'].mean()\n",
    "print(df0_phase45['delete-revised'].mean())\n",
    "print(df0_phase45['delete-revised'].median())\n",
    "print(df0_phase45['delete-revised'].std())\n",
    "print(df0_phase45['delete-revised'].max())\n",
    "print(df0_phase45['delete-revised'].min())\n",
    "\n",
    "df0_delete = df0_phase45['delete-revised']\n",
    "df0_delete.values"
   ]
  },
  {
   "cell_type": "code",
   "execution_count": 41,
   "id": "2351e453",
   "metadata": {},
   "outputs": [
    {
     "name": "stdout",
     "output_type": "stream",
     "text": [
      "19.842105263157894\n",
      "0.0\n",
      "47.67430398351868\n",
      "259\n",
      "0\n"
     ]
    },
    {
     "name": "stderr",
     "output_type": "stream",
     "text": [
      "<ipython-input-41-bd970a7ebe3d>:1: SettingWithCopyWarning: \n",
      "A value is trying to be set on a copy of a slice from a DataFrame.\n",
      "Try using .loc[row_indexer,col_indexer] = value instead\n",
      "\n",
      "See the caveats in the documentation: https://pandas.pydata.org/pandas-docs/stable/user_guide/indexing.html#returning-a-view-versus-a-copy\n",
      "  df0_phase45['add-revised'] = pd.to_numeric(df0_phase45['add-revised'])\n"
     ]
    },
    {
     "data": {
      "text/plain": [
       "array([  0,  69,   2,   5,   0,   0, 102,   0,   0,  31,  78,   0,   0,\n",
       "        10,   0,   0,   0,   0,   4,   9,  26,   0,   0,  31, 259,   1,\n",
       "         2,   0,  81,   0,  36,   0,   0,   2,   0,   6,   0,   0])"
      ]
     },
     "execution_count": 41,
     "metadata": {},
     "output_type": "execute_result"
    }
   ],
   "source": [
    "df0_phase45['add-revised'] = pd.to_numeric(df0_phase45['add-revised'])\n",
    "df0_phase45['add-revised'].mean()\n",
    "\n",
    "print(df0_phase45['add-revised'].mean())\n",
    "print(df0_phase45['add-revised'].median())\n",
    "print(df0_phase45['add-revised'].std())\n",
    "print(df0_phase45['add-revised'].max())\n",
    "print(df0_phase45['add-revised'].min())\n",
    "\n",
    "df0_add = df0_phase45['add-revised']\n",
    "df0_add.values"
   ]
  },
  {
   "cell_type": "code",
   "execution_count": 42,
   "id": "2becf848",
   "metadata": {},
   "outputs": [
    {
     "name": "stdout",
     "output_type": "stream",
     "text": [
      "4.7631578947368425\n",
      "0.0\n",
      "13.863590679002892\n",
      "73.5\n",
      "-6.0\n"
     ]
    },
    {
     "name": "stderr",
     "output_type": "stream",
     "text": [
      "<ipython-input-42-2454a5042d29>:1: SettingWithCopyWarning: \n",
      "A value is trying to be set on a copy of a slice from a DataFrame.\n",
      "Try using .loc[row_indexer,col_indexer] = value instead\n",
      "\n",
      "See the caveats in the documentation: https://pandas.pydata.org/pandas-docs/stable/user_guide/indexing.html#returning-a-view-versus-a-copy\n",
      "  df0_phase45['add-revised'] = df0_phase45['add-revised'].astype(float)\n",
      "<ipython-input-42-2454a5042d29>:2: SettingWithCopyWarning: \n",
      "A value is trying to be set on a copy of a slice from a DataFrame.\n",
      "Try using .loc[row_indexer,col_indexer] = value instead\n",
      "\n",
      "See the caveats in the documentation: https://pandas.pydata.org/pandas-docs/stable/user_guide/indexing.html#returning-a-view-versus-a-copy\n",
      "  df0_phase45['delete-revised'] = df0_phase45['delete-revised'].astype(float)\n",
      "<ipython-input-42-2454a5042d29>:3: SettingWithCopyWarning: \n",
      "A value is trying to be set on a copy of a slice from a DataFrame.\n",
      "Try using .loc[row_indexer,col_indexer] = value instead\n",
      "\n",
      "See the caveats in the documentation: https://pandas.pydata.org/pandas-docs/stable/user_guide/indexing.html#returning-a-view-versus-a-copy\n",
      "  df0_phase45['effort'] = df0_phase45['add-revised'] - 0.5 * df0_phase45['delete-revised']\n"
     ]
    }
   ],
   "source": [
    "df0_phase45['add-revised'] = df0_phase45['add-revised'].astype(float)\n",
    "df0_phase45['delete-revised'] = df0_phase45['delete-revised'].astype(float)\n",
    "df0_phase45['effort'] = df0_phase45['add-revised'] - 0.5 * df0_phase45['delete-revised']\n",
    "print(df0_phase45['effort'].mean())\n",
    "print(df0_phase45['effort'].median())\n",
    "print(df0_phase45['effort'].std())\n",
    "print(df0_phase45['effort'].max())\n",
    "print(df0_phase45['effort'].min())"
   ]
  },
  {
   "cell_type": "code",
   "execution_count": 43,
   "id": "4a12a76d",
   "metadata": {},
   "outputs": [
    {
     "data": {
      "text/plain": [
       "array([ 0. , 16.5,  1. ,  4.5,  0. ,  0. , 36.5,  0. ,  0. ,  3. , -6. ,\n",
       "        0. ,  0. ,  3.5,  0. ,  0. ,  0. ,  0. ,  0.5, -4. , 24.5,  0. ,\n",
       "        0. ,  8.5, 73.5, -1. , -0.5,  0. , 13. ,  0. ,  5. ,  0. ,  0. ,\n",
       "        2. ,  0. ,  0.5,  0. ,  0. ])"
      ]
     },
     "execution_count": 43,
     "metadata": {},
     "output_type": "execute_result"
    }
   ],
   "source": [
    "import numpy as np\n",
    "np.set_printoptions(suppress=True)\n",
    "diff0 = df0_phase45['add-revised'] - 0.5 * df0_phase45['delete-revised']\n",
    "diff0.values"
   ]
  },
  {
   "cell_type": "markdown",
   "id": "ee96d08e",
   "metadata": {},
   "source": [
    "# ANOVA on effort"
   ]
  },
  {
   "cell_type": "code",
   "execution_count": 44,
   "id": "21a2b2fd",
   "metadata": {},
   "outputs": [
    {
     "name": "stdout",
     "output_type": "stream",
     "text": [
      "0.7460565784126434 0.5261883241093215\n"
     ]
    }
   ],
   "source": [
    "import scipy.stats as stats\n",
    "# stats f_oneway functions takes the groups as input and returns ANOVA F and p value\n",
    "fvalue, pvalue = stats.f_oneway(diff0, diff1, diff2, diff3)\n",
    "print(fvalue, pvalue)"
   ]
  },
  {
   "cell_type": "code",
   "execution_count": 45,
   "id": "0be71c9d",
   "metadata": {},
   "outputs": [],
   "source": [
    "import pandas as pd\n",
    "import numpy as np\n",
    "\n",
    "df = pd.DataFrame({'score': [0. , 16.5,  1. ,  4.5,  0. ,  0. , 36.5,  0. ,  0. ,  3. , -6. ,\n",
    "        0. ,  0. ,  3.5,  0. ,  0. ,  0. ,  0. ,  0.5, -4. , 24.5,  0. ,\n",
    "        0. ,  8.5, 73.5, -1. , -0.5,  0. , 13. ,  0. ,  5. ,  0. ,  0. ,\n",
    "        2. ,  0. ,  0.5,  0. ,  0. , 0. ,  -27.5,    0. ,   19.5,    0. ,    2.5,    0. ,    0. ,\n",
    "          0. ,    0. ,    0. ,    0. ,   43. , -124. ,   22.5,    1.5,\n",
    "          1.5,   -1. ,    0. ,    0.5,    0. ,   -0.5,  -46.5,    0. ,\n",
    "         -8.5,  -14.5,    0. ,    0. ,    8. ,    0. ,  -10. ,    0. ,\n",
    "          0. ,  -11. ,    2. ,   10.5,    0. ,  156. ,    0. ,    0., 0. ,   0. ,  -9.5,   0. ,   0. ,   0. ,   0. ,   0. ,   1. ,\n",
    "         2. ,   0. ,  12.5,   0. ,   0. ,   0. ,   0. ,   0. ,   0. ,\n",
    "         0. ,  30.5,   0. ,   0. ,   0. ,   0.5,   0. ,   0. ,  21. ,\n",
    "       -66.5,   0. ,   0. ,   0. ,   0. ,   0. ,   0.5,   0. ,  19. ,\n",
    "       -36.5,   0. , -63.5,  26.5, -17. , 0. ,   0. ,  -9.5,   0. ,   0. ,   0. ,   0. ,   0. ,   1. ,\n",
    "         2. ,   0. ,  12.5,   0. ,   0. ,   0. ,   0. ,   0. ,   0. ,\n",
    "         0. ,  30.5,   0. ,   0. ,   0. ,   0.5,   0. ,   0. ,  21. ,\n",
    "       -66.5,   0. ,   0. ,   0. ,   0. ,   0. ,   0.5,   0. ,  19. ,\n",
    "       -36.5,   0. , -63.5,  26.5, -17.  ],\n",
    "                   'group': np.repeat([0, 1, 2, 3], repeats=[38, 40, 41, 41])})"
   ]
  },
  {
   "cell_type": "code",
   "execution_count": 46,
   "id": "cb3cffec",
   "metadata": {},
   "outputs": [
    {
     "name": "stdout",
     "output_type": "stream",
     "text": [
      " Multiple Comparison of Means - Tukey HSD, FWER=0.05 \n",
      "=====================================================\n",
      "group1 group2 meandiff p-adj   lower    upper  reject\n",
      "-----------------------------------------------------\n",
      "     0      1  -4.1632 0.8253 -17.3498  9.0235  False\n",
      "     0      2  -6.7022 0.5413 -19.8103  6.4059  False\n",
      "     0      3  -6.7022 0.5413 -19.8103  6.4059  False\n",
      "     1      2   -2.539    0.9 -15.4759 10.3979  False\n",
      "     1      3   -2.539    0.9 -15.4759 10.3979  False\n",
      "     2      3      0.0    0.9 -12.8568 12.8568  False\n",
      "-----------------------------------------------------\n"
     ]
    }
   ],
   "source": [
    "from statsmodels.stats.multicomp import pairwise_tukeyhsd\n",
    "\n",
    "\n",
    "# perform Tukey's test\n",
    "tukey = pairwise_tukeyhsd(endog=df['score'],\n",
    "                          groups=df['group'],\n",
    "                          alpha=0.05)\n",
    "\n",
    "#display results\n",
    "print(tukey)\n"
   ]
  },
  {
   "cell_type": "markdown",
   "id": "88d1b9a9",
   "metadata": {},
   "source": [
    "# ANOVA on additions "
   ]
  },
  {
   "cell_type": "code",
   "execution_count": 47,
   "id": "9253ea01",
   "metadata": {},
   "outputs": [
    {
     "name": "stdout",
     "output_type": "stream",
     "text": [
      "1.1237095650066158 0.3413102529460247\n"
     ]
    }
   ],
   "source": [
    "import scipy.stats as stats\n",
    "# stats f_oneway functions takes the groups as input and returns ANOVA F and p value\n",
    "fvalue, pvalue = stats.f_oneway(df0_add, df1_add, df2_add, df3_add)\n",
    "print(fvalue, pvalue)"
   ]
  },
  {
   "cell_type": "code",
   "execution_count": 48,
   "id": "d46a267f",
   "metadata": {},
   "outputs": [],
   "source": [
    "import pandas as pd\n",
    "import numpy as np\n",
    "\n",
    "df = pd.DataFrame({'score': [0,  69,   2,   5,   0,   0, 102,   0,   0,  31,  78,   0,   0,\n",
    "        10,   0,   0,   0,   0,   4,   9,  26,   0,   0,  31, 259,   1,\n",
    "         2,   0,  81,   0,  36,   0,   0,   2,   0,   6,   0,   0, 0,  14,   0,  32,   0,   5,   0,   0,   0,   0,   0,   0,  53,\n",
    "        49,  32,   3,   9,   3,   0,   3,   0,   1,   9,   0,   9,   3,\n",
    "         0,   0,  40,   0,   6,   0,   0,  10,   2,  43,   0, 167,   0,\n",
    "         0,   0,   0,  19,   0,   0,   0,   0,   0,   1,   6,   0,  18,   0,\n",
    "         0,   0,   0,   0,   0,   0,  32,   0,   0,   0,   1,   0,   0,\n",
    "        77,  62,   2,   0,   0,   0,   0,  14,   0,  19,  15,   0,   8,\n",
    "       110,  16, 133,   6,   0,   0,   7,  16,   0,  20,   0,  96,   4,   0,   0,\n",
    "         0,   0,   0,  11,  17,  15, 125,  44,   2,   0,  38,   2,  65,\n",
    "        29,   0,   0,   4,   0,   2,   2,   0,   3, 858,  26,   0,   0,\n",
    "         1,   0 ],\n",
    "                   'group': np.repeat([0, 1, 2, 3], repeats=[38, 40, 41, 41])})"
   ]
  },
  {
   "cell_type": "code",
   "execution_count": 49,
   "id": "b56e19f4",
   "metadata": {},
   "outputs": [
    {
     "name": "stdout",
     "output_type": "stream",
     "text": [
      " Multiple Comparison of Means - Tukey HSD, FWER=0.05 \n",
      "=====================================================\n",
      "group1 group2 meandiff p-adj   lower    upper  reject\n",
      "-----------------------------------------------------\n",
      "     0      1  -7.5171    0.9 -51.4656 36.4314  False\n",
      "     0      2  -10.086    0.9 -53.7726 33.6006  False\n",
      "     0      3  17.3774 0.7062 -26.3092  61.064  False\n",
      "     1      2  -2.5689    0.9  -45.685 40.5472  False\n",
      "     1      3  24.8945 0.4417 -18.2216 68.0106  False\n",
      "     2      3  27.4634 0.3463 -15.3857 70.3125  False\n",
      "-----------------------------------------------------\n"
     ]
    }
   ],
   "source": [
    "from statsmodels.stats.multicomp import pairwise_tukeyhsd\n",
    "\n",
    "\n",
    "# perform Tukey's test\n",
    "tukey = pairwise_tukeyhsd(endog=df['score'],\n",
    "                          groups=df['group'],\n",
    "                          alpha=0.05)\n",
    "\n",
    "#display results\n",
    "print(tukey)"
   ]
  },
  {
   "cell_type": "markdown",
   "id": "5cbc64e4",
   "metadata": {},
   "source": [
    "# ANOVA on deletions"
   ]
  },
  {
   "cell_type": "code",
   "execution_count": 50,
   "id": "63d19eed",
   "metadata": {},
   "outputs": [
    {
     "name": "stdout",
     "output_type": "stream",
     "text": [
      "0.2877761136816256 0.8341780259989855\n"
     ]
    }
   ],
   "source": [
    "import scipy.stats as stats\n",
    "# stats f_oneway functions takes the groups as input and returns ANOVA F and p value\n",
    "fvalue, pvalue = stats.f_oneway(df0_delete, df1_delete, df2_delete, df3_delete)\n",
    "print(fvalue, pvalue)"
   ]
  },
  {
   "cell_type": "code",
   "execution_count": 52,
   "id": "0bcf9839",
   "metadata": {},
   "outputs": [],
   "source": [
    "import pandas as pd\n",
    "import numpy as np\n",
    "\n",
    "df = pd.DataFrame({'score': [ 0, 105,   2,   1,   0,   0, 131,   0,   0,  56, 168,   0,   0,\n",
    "        13,   0,   0,   0,   0,   7,  26,   3,   0,   0,  45, 371,   4,\n",
    "         5,   0, 136,   0,  62,   0,   0,   0,   0,  11,   0,   0, 0,  83,   0,  25,   0,   5,   0,   0,   0,   0,   0,   0,  20,\n",
    "       346,  19,   3,  15,   8,   0,   5,   0,   3, 111,   0,  35,  35,\n",
    "         0,   0,  64,   0,  32,   0,   0,  42,   0,  65,   0,  22,   0,\n",
    "         0, 0,   0,  57,   0,   0,   0,   0,   0,   0,   8,   0,  11,   0,\n",
    "         0,   0,   0,   0,   0,   0,   3,   0,   0,   0,   1,   0,   0,\n",
    "       112, 257,   4,   0,   0,   0,   0,  27,   0,   0, 103,   0, 143,\n",
    "       167,  66, 85,  11,   0,   0,  59,  15,   0,  90,   0, 124,  17,   0,   0,\n",
    "         0,   0,   0,  24,  80,  50,   0,  44,   2,   0,  54,   4,  24,\n",
    "        66,   0,   0, 243,   0,   4,   6,   0,   0,  36, 371,   0,   0,\n",
    "         4,   0 ],\n",
    "                   'group': np.repeat([0, 1, 2, 3], repeats=[38, 40, 41, 41])})"
   ]
  },
  {
   "cell_type": "code",
   "execution_count": 53,
   "id": "d2299e9f",
   "metadata": {},
   "outputs": [
    {
     "name": "stdout",
     "output_type": "stream",
     "text": [
      " Multiple Comparison of Means - Tukey HSD, FWER=0.05 \n",
      "=====================================================\n",
      "group1 group2 meandiff p-adj   lower    upper  reject\n",
      "-----------------------------------------------------\n",
      "     0      1  -6.7079    0.9  -44.622 31.2062  False\n",
      "     0      2  -6.7677    0.9 -44.4558 30.9205  False\n",
      "     0      3   4.3055    0.9 -33.3826 41.9937  False\n",
      "     1      2  -0.0598    0.9 -37.2557 37.1362  False\n",
      "     1      3  11.0134 0.8538 -26.1825 48.2094  False\n",
      "     2      3  11.0732 0.8488 -25.8925 48.0388  False\n",
      "-----------------------------------------------------\n"
     ]
    }
   ],
   "source": [
    "from statsmodels.stats.multicomp import pairwise_tukeyhsd\n",
    "\n",
    "\n",
    "# perform Tukey's test\n",
    "tukey = pairwise_tukeyhsd(endog=df['score'],\n",
    "                          groups=df['group'],\n",
    "                          alpha=0.05)\n",
    "\n",
    "#display results\n",
    "print(tukey)"
   ]
  },
  {
   "cell_type": "code",
   "execution_count": null,
   "id": "3121fe7b",
   "metadata": {},
   "outputs": [],
   "source": [
    "import pandas as pd\n",
    "import numpy as np\n",
    "\n",
    "df = pd.DataFrame({'score': [0, 105,   2,   1,   0,   0, 131,   0,   0,  56, 168,   0,   0,\n",
    "        13,   0,   0,   0,   0,   7,  26,   3,   0,   0,  45, 371,   4,\n",
    "         5,   0, 136,   0,  62,   0,   0,   0,   0,  11,   0,   0, 0,  83,   0,  25,   0,   5,   0,   0,   0,   0,   0,   0,  20,\n",
    "       346,  19,   3,  15,   8,   0,   5,   0,   3, 111,   0,  35,  35,\n",
    "         0,   0,  64,   0,  32,   0,   0,  42,   0,  65,   0,  22,   0,\n",
    "         0, 0,   0,  57,   0,   0,   0,   0,   0,   0,   8,   0,  11,   0,\n",
    "         0,   0,   0,   0,   0,   0,   3,   0,   0,   0,   1,   0,   0,\n",
    "       112, 257,   4,   0,   0,   0,   0,  27,   0,   0, 103,   0, 143,\n",
    "       167,  66, 85,  11,   0,   0,  59,  15,   0,  90,   0, 124,  17,   0,   0,\n",
    "         0,   0,   0,  24,  80,  50,   0,  44,   2,   0,  54,   4,  24,\n",
    "        66,   0,   0, 243,   0,   4,   6,   0,   0,  36, 371,   0,   0,\n",
    "         4,   0  ],\n",
    "                   'group': np.repeat([0, 1, 2, 3], repeats=[38, 40, 41, 41])})"
   ]
  },
  {
   "cell_type": "code",
   "execution_count": null,
   "id": "f74fd904",
   "metadata": {},
   "outputs": [],
   "source": [
    "from statsmodels.stats.multicomp import pairwise_tukeyhsd\n",
    "\n",
    "\n",
    "# perform Tukey's test\n",
    "tukey = pairwise_tukeyhsd(endog=df['score'],\n",
    "                          groups=df['group'],\n",
    "                          alpha=0.05)\n",
    "\n",
    "#display results\n",
    "print(tukey)"
   ]
  },
  {
   "cell_type": "markdown",
   "id": "5bd5f910",
   "metadata": {},
   "source": [
    "# Phase 4 - 5 Visualizations "
   ]
  },
  {
   "cell_type": "code",
   "execution_count": null,
   "id": "67a49acb",
   "metadata": {},
   "outputs": [],
   "source": [
    "import matplotlib.pyplot as plt\n",
    "import numpy as np\n",
    "\n",
    "\n",
    "city=['Bogota 0 (No Transparency)','Bogota 1 (Performance Transparency)',' Bogota 2 (Solution Transparency)','Bogota 3 (Full Transparency)']\n",
    "pos = np.arange(len(city))\n",
    "Lines_of_Code_Added =[19.84,12.325,9.76, 37.22]\n",
    "\n",
    "\n",
    "plt.barh(pos,Lines_of_Code_Added,color='blue',edgecolor='black')\n",
    "plt.yticks(pos, city)\n",
    "plt.xlabel('Lines_of_Code_Added', fontsize=16)\n",
    "plt.ylabel('Groups', fontsize=16)\n",
    "plt.title('Phase 4 - 5 -> Mean of Lines of Code Added',fontsize=20)\n",
    "plt.show()"
   ]
  },
  {
   "cell_type": "code",
   "execution_count": null,
   "id": "64abc824",
   "metadata": {},
   "outputs": [],
   "source": [
    "import matplotlib.pyplot as plt\n",
    "import numpy as np\n",
    "\n",
    "\n",
    "city=['Bogota 0 (No Transparency)','Bogota 1 (Performance Transparency)',' Bogota 2 (Solution Transparency)','Bogota 3 (Full Transparency)']\n",
    "pos = np.arange(len(city))\n",
    "Lines_of_Code_Added =[0.0, 0.5, 0.0, 2.0]\n",
    "\n",
    "\n",
    "plt.barh(pos,Lines_of_Code_Added,color='blue',edgecolor='black')\n",
    "plt.yticks(pos, city)\n",
    "plt.xlabel('Lines_of_Code_Added', fontsize=16)\n",
    "plt.ylabel('Groups', fontsize=16)\n",
    "plt.title('Phase 4 - 5 -> Median of Lines of Code Added',fontsize=20)\n",
    "plt.show()"
   ]
  },
  {
   "cell_type": "code",
   "execution_count": null,
   "id": "1dafe1eb",
   "metadata": {},
   "outputs": [],
   "source": [
    "import matplotlib.pyplot as plt\n",
    "import numpy as np\n",
    "\n",
    "\n",
    "city=['Bogota 0 (No Transparency)','Bogota 1 (Performance Transparency)',' Bogota 2 (Solution Transparency)','Bogota 3 (Full Transparency)']\n",
    "pos = np.arange(len(city))\n",
    "Effort =[4.76, 0.6, -1.94, 19.99]\n",
    "\n",
    "\n",
    "plt.barh(pos,Effort,color='blue',edgecolor='black')\n",
    "plt.yticks(pos, city)\n",
    "plt.xlabel('Effort', fontsize=16)\n",
    "plt.ylabel('Groups', fontsize=16)\n",
    "plt.title('Phase 4 - 5 -> Mean of Effort',fontsize=20)\n",
    "plt.show()"
   ]
  },
  {
   "cell_type": "code",
   "execution_count": null,
   "id": "97384214",
   "metadata": {},
   "outputs": [],
   "source": [
    "import matplotlib.pyplot as plt\n",
    "import numpy as np\n",
    "\n",
    "\n",
    "city=['a','b','c','d']\n",
    "pos = np.arange(len(city))\n",
    "Effort =[4, 3, -1.5, -3.5]\n",
    "\n",
    "\n",
    "plt.barh(pos,Effort,color=['g' if e > 0 else 'r' for e in Effort],edgecolor='black')\n",
    "plt.yticks(pos, city)\n",
    "plt.xlabel('DV', fontsize=16)\n",
    "plt.ylabel('Groups', fontsize=16)\n",
    "plt.title('ABCDEF',fontsize=20)\n",
    "plt.show()"
   ]
  },
  {
   "cell_type": "code",
   "execution_count": null,
   "id": "7040bd38",
   "metadata": {},
   "outputs": [],
   "source": [
    "import matplotlib.pyplot as plt\n",
    "import numpy as np\n",
    "\n",
    "\n",
    "city=['Bogota 0 (No Transparency)','Bogota 1 (Performance Transparency)',' Bogota 2 (Solution Transparency)','Bogota 3 (Full Transparency)']\n",
    "pos = np.arange(len(city))\n",
    "Effort =[73.5, 156, 30.5, 840]\n",
    "\n",
    "\n",
    "plt.barh(pos,Effort,color='blue',edgecolor='black')\n",
    "plt.yticks(pos, city)\n",
    "plt.xlabel('Effort', fontsize=16)\n",
    "plt.ylabel('Groups', fontsize=16)\n",
    "plt.title('Phase 4 - 5 -> Max of Effort',fontsize=20)\n",
    "plt.show()"
   ]
  },
  {
   "cell_type": "code",
   "execution_count": null,
   "id": "0ba889b0",
   "metadata": {},
   "outputs": [],
   "source": [
    "import matplotlib.pyplot as plt\n",
    "import numpy as np\n",
    "\n",
    "\n",
    "city=['Bogota 0 (No Transparency)','Bogota 1 (Performance Transparency)',' Bogota 2 (Solution Transparency)','Bogota 3 (Full Transparency)']\n",
    "pos = np.arange(len(city))\n",
    "Effort =[-6.0, -124, -66.5, -159.5]\n",
    "\n",
    "\n",
    "plt.barh(pos,Effort,color='blue',edgecolor='black')\n",
    "plt.yticks(pos, city)\n",
    "plt.xlabel('Effort', fontsize=16)\n",
    "plt.ylabel('Groups', fontsize=16)\n",
    "plt.title('Phase 4 - 5 -> Min of Effort',fontsize=20)\n",
    "plt.show()"
   ]
  },
  {
   "cell_type": "code",
   "execution_count": null,
   "id": "854f5346",
   "metadata": {},
   "outputs": [],
   "source": [
    "import matplotlib.pyplot as plt\n",
    "import numpy as np\n",
    "\n",
    "\n",
    "city=['Bogota 0 (No Transparency)','Bogota 1 (Performance Transparency)',' Bogota 2 (Solution Transparency)','Bogota 3 (Full Transparency)']\n",
    "pos = np.arange(len(city))\n",
    "Effort =[13.86, 34.36, 17.75, 137.73]\n",
    "\n",
    "\n",
    "plt.barh(pos,Effort,color='blue',edgecolor='black')\n",
    "plt.yticks(pos, city)\n",
    "plt.xlabel('Effort', fontsize=16)\n",
    "plt.ylabel('Groups', fontsize=16)\n",
    "plt.title('Phase 4 - 5 -> Standard Deviation of Effort',fontsize=20)\n",
    "plt.show()"
   ]
  },
  {
   "cell_type": "code",
   "execution_count": null,
   "id": "04bacce1",
   "metadata": {},
   "outputs": [],
   "source": [
    "import pandas as pd\n",
    "\n",
    "df = pd.read_csv('phase-3-4-prelim.csv')\n",
    "df.head(5)"
   ]
  },
  {
   "cell_type": "code",
   "execution_count": null,
   "id": "363beb4a",
   "metadata": {},
   "outputs": [],
   "source": [
    "df['change-revised'] = df.change.str.extract('(\\d+)')\n",
    "df.head(5)"
   ]
  },
  {
   "cell_type": "code",
   "execution_count": null,
   "id": "bff4c772",
   "metadata": {},
   "outputs": [],
   "source": [
    "df['add-revised'] = df.addition.str.extract('(\\d+)')\n",
    "df['add-revised'] = df['add-revised'].fillna(0)\n",
    "df.head(5)"
   ]
  },
  {
   "cell_type": "code",
   "execution_count": null,
   "id": "23ff7421",
   "metadata": {},
   "outputs": [],
   "source": [
    "df['delete-revised'] = df.delete.str.extract('(\\d+)')\n",
    "df['delete-revised'] = df['delete-revised'].fillna(0)\n",
    "df.head(5)"
   ]
  },
  {
   "cell_type": "markdown",
   "id": "cfb3fcdb",
   "metadata": {},
   "source": [
    "# Phase 2 - 3 ( Code Added, Deleted, Number of Files Changed )"
   ]
  },
  {
   "cell_type": "code",
   "execution_count": null,
   "id": "d4129e34",
   "metadata": {},
   "outputs": [],
   "source": [
    "import pandas as pd\n",
    "\n",
    "df = pd.read_csv('phase-2-3-prelim.csv')\n",
    "df.head(5)"
   ]
  },
  {
   "cell_type": "code",
   "execution_count": null,
   "id": "b6586d69",
   "metadata": {},
   "outputs": [],
   "source": [
    "df['change-revised'] = df.change.str.extract('(\\d+)')\n",
    "df.head(5)"
   ]
  },
  {
   "cell_type": "code",
   "execution_count": null,
   "id": "e7d74944",
   "metadata": {},
   "outputs": [],
   "source": [
    "df['add-revised'] = df.addition.str.extract('(\\d+)')\n",
    "df['add-revised'] = df['add-revised'].fillna(0)\n",
    "df.head(5)"
   ]
  },
  {
   "cell_type": "code",
   "execution_count": null,
   "id": "0e26c63a",
   "metadata": {},
   "outputs": [],
   "source": [
    "df['delete-revised'] = df.delete.str.extract('(\\d+)')\n",
    "df['delete-revised'] = df['delete-revised'].fillna(0)\n",
    "df.head(5)"
   ]
  },
  {
   "cell_type": "markdown",
   "id": "a63ba4ee",
   "metadata": {},
   "source": [
    "# Phase 1 - 2 ( Code Added, Deleted, Number of Files Changed )"
   ]
  },
  {
   "cell_type": "code",
   "execution_count": null,
   "id": "82166436",
   "metadata": {},
   "outputs": [],
   "source": [
    "import pandas as pd\n",
    "\n",
    "df = pd.read_csv('phase-1-2-prelim.csv')\n",
    "df.head(5)"
   ]
  },
  {
   "cell_type": "code",
   "execution_count": null,
   "id": "0e6ace95",
   "metadata": {},
   "outputs": [],
   "source": [
    "df['change-revised'] = df.change.str.extract('(\\d+)')\n",
    "df.head(5)"
   ]
  },
  {
   "cell_type": "code",
   "execution_count": null,
   "id": "f4d47bfb",
   "metadata": {},
   "outputs": [],
   "source": [
    "df['delete-revised'] = df.delete.str.extract('(\\d+)')\n",
    "df['delete-revised'] = df['delete-revised'].fillna(0)\n",
    "df.head(5)"
   ]
  },
  {
   "cell_type": "code",
   "execution_count": null,
   "id": "5b510400",
   "metadata": {},
   "outputs": [],
   "source": [
    "df['add-revised'] = df.addition.str.extract('(\\d+)')\n",
    "df['add-revised'] = df['add-revised'].fillna(0)\n",
    "df.head(5)"
   ]
  },
  {
   "cell_type": "markdown",
   "id": "3ac9cbe9",
   "metadata": {},
   "source": [
    "# Phase 1 -2 - Filter Bogota 3 ( Full Transparency Group )"
   ]
  },
  {
   "cell_type": "code",
   "execution_count": null,
   "id": "d66cd4ea",
   "metadata": {},
   "outputs": [],
   "source": [
    "df_name = pd.read_csv('bogota-3.csv')\n",
    "df_name.head(5)"
   ]
  },
  {
   "cell_type": "code",
   "execution_count": null,
   "id": "45863104",
   "metadata": {},
   "outputs": [],
   "source": [
    "df['bogota-3'] = df['username'].isin(df_name['Project'])\n",
    "df.head(5)"
   ]
  },
  {
   "cell_type": "code",
   "execution_count": null,
   "id": "4e744681",
   "metadata": {},
   "outputs": [],
   "source": [
    "df[\"bogota-3\"] = df[\"bogota-3\"].astype(int)\n",
    "df.head(5)"
   ]
  },
  {
   "cell_type": "code",
   "execution_count": null,
   "id": "23b1b3cd",
   "metadata": {},
   "outputs": [],
   "source": [
    "df_new = df.loc[df['bogota-3'] == 1]\n",
    "df_new.head(5)"
   ]
  },
  {
   "cell_type": "code",
   "execution_count": null,
   "id": "cddfed08",
   "metadata": {},
   "outputs": [],
   "source": [
    "df_new['change-revised'].mean()\n"
   ]
  },
  {
   "cell_type": "code",
   "execution_count": null,
   "id": "dc8281ed",
   "metadata": {},
   "outputs": [],
   "source": [
    "df_new['delete-revised'] = pd.to_numeric(df_new['delete-revised'])\n",
    "df_new['delete-revised'].mean()"
   ]
  },
  {
   "cell_type": "code",
   "execution_count": null,
   "id": "53bb87dd",
   "metadata": {},
   "outputs": [],
   "source": [
    "df_new['add-revised'] = pd.to_numeric(df_new['add-revised'])\n",
    "df_new['add-revised'].mean()"
   ]
  },
  {
   "cell_type": "code",
   "execution_count": null,
   "id": "5ed5a298",
   "metadata": {},
   "outputs": [],
   "source": []
  }
 ],
 "metadata": {
  "kernelspec": {
   "display_name": "Python 3",
   "language": "python",
   "name": "python3"
  },
  "language_info": {
   "codemirror_mode": {
    "name": "ipython",
    "version": 3
   },
   "file_extension": ".py",
   "mimetype": "text/x-python",
   "name": "python",
   "nbconvert_exporter": "python",
   "pygments_lexer": "ipython3",
   "version": "3.8.8"
  }
 },
 "nbformat": 4,
 "nbformat_minor": 5
}
